{
 "cells": [
  {
   "cell_type": "code",
   "execution_count": 1,
   "id": "40afab14",
   "metadata": {
    "_cell_guid": "b1076dfc-b9ad-4769-8c92-a6c4dae69d19",
    "_uuid": "8f2839f25d086af736a60e9eeb907d3b93b6e0e5",
    "execution": {
     "iopub.execute_input": "2025-01-07T16:24:32.073827Z",
     "iopub.status.busy": "2025-01-07T16:24:32.073405Z",
     "iopub.status.idle": "2025-01-07T16:24:32.483701Z",
     "shell.execute_reply": "2025-01-07T16:24:32.482284Z"
    },
    "papermill": {
     "duration": 0.42114,
     "end_time": "2025-01-07T16:24:32.485750",
     "exception": false,
     "start_time": "2025-01-07T16:24:32.064610",
     "status": "completed"
    },
    "tags": []
   },
   "outputs": [
    {
     "name": "stdout",
     "output_type": "stream",
     "text": [
      "/kaggle/input/playground-series-s5e1/sample_submission.csv\n",
      "/kaggle/input/playground-series-s5e1/train.csv\n",
      "/kaggle/input/playground-series-s5e1/test.csv\n"
     ]
    }
   ],
   "source": [
    "# This Python 3 environment comes with many helpful analytics libraries installed\n",
    "# It is defined by the kaggle/python Docker image: https://github.com/kaggle/docker-python\n",
    "# For example, here's several helpful packages to load\n",
    "\n",
    "import numpy as np # linear algebra\n",
    "import pandas as pd # data processing, CSV file I/O (e.g. pd.read_csv)\n",
    "\n",
    "# Input data files are available in the read-only \"../input/\" directory\n",
    "# For example, running this (by clicking run or pressing Shift+Enter) will list all files under the input directory\n",
    "\n",
    "import os\n",
    "for dirname, _, filenames in os.walk('/kaggle/input'):\n",
    "    for filename in filenames:\n",
    "        print(os.path.join(dirname, filename))\n",
    "\n",
    "# You can write up to 20GB to the current directory (/kaggle/working/) that gets preserved as output when you create a version using \"Save & Run All\" \n",
    "# You can also write temporary files to /kaggle/temp/, but they won't be saved outside of the current session"
   ]
  },
  {
   "cell_type": "code",
   "execution_count": 2,
   "id": "75610e57",
   "metadata": {
    "execution": {
     "iopub.execute_input": "2025-01-07T16:24:32.507419Z",
     "iopub.status.busy": "2025-01-07T16:24:32.506866Z",
     "iopub.status.idle": "2025-01-07T16:24:39.777432Z",
     "shell.execute_reply": "2025-01-07T16:24:39.776057Z"
    },
    "papermill": {
     "duration": 7.281629,
     "end_time": "2025-01-07T16:24:39.780275",
     "exception": false,
     "start_time": "2025-01-07T16:24:32.498646",
     "status": "completed"
    },
    "tags": []
   },
   "outputs": [
    {
     "name": "stdout",
     "output_type": "stream",
     "text": [
      "Collecting optuna-integration[catboost]\r\n",
      "  Downloading optuna_integration-4.1.0-py3-none-any.whl.metadata (12 kB)\r\n",
      "Requirement already satisfied: optuna in /usr/local/lib/python3.10/dist-packages (from optuna-integration[catboost]) (4.1.0)\r\n",
      "Requirement already satisfied: numpy<2.0.0 in /usr/local/lib/python3.10/dist-packages (from optuna-integration[catboost]) (1.26.4)\r\n",
      "Requirement already satisfied: catboost in /usr/local/lib/python3.10/dist-packages (from optuna-integration[catboost]) (1.2.7)\r\n",
      "Requirement already satisfied: graphviz in /usr/local/lib/python3.10/dist-packages (from catboost->optuna-integration[catboost]) (0.20.3)\r\n",
      "Requirement already satisfied: matplotlib in /usr/local/lib/python3.10/dist-packages (from catboost->optuna-integration[catboost]) (3.7.1)\r\n",
      "Requirement already satisfied: pandas>=0.24 in /usr/local/lib/python3.10/dist-packages (from catboost->optuna-integration[catboost]) (2.1.4)\r\n",
      "Requirement already satisfied: scipy in /usr/local/lib/python3.10/dist-packages (from catboost->optuna-integration[catboost]) (1.13.1)\r\n",
      "Requirement already satisfied: plotly in /usr/local/lib/python3.10/dist-packages (from catboost->optuna-integration[catboost]) (5.24.1)\r\n",
      "Requirement already satisfied: six in /usr/local/lib/python3.10/dist-packages (from catboost->optuna-integration[catboost]) (1.16.0)\r\n",
      "Requirement already satisfied: alembic>=1.5.0 in /usr/local/lib/python3.10/dist-packages (from optuna->optuna-integration[catboost]) (1.14.0)\r\n",
      "Requirement already satisfied: colorlog in /usr/local/lib/python3.10/dist-packages (from optuna->optuna-integration[catboost]) (6.9.0)\r\n",
      "Requirement already satisfied: packaging>=20.0 in /usr/local/lib/python3.10/dist-packages (from optuna->optuna-integration[catboost]) (24.1)\r\n",
      "Requirement already satisfied: sqlalchemy>=1.4.2 in /usr/local/lib/python3.10/dist-packages (from optuna->optuna-integration[catboost]) (2.0.35)\r\n",
      "Requirement already satisfied: tqdm in /usr/local/lib/python3.10/dist-packages (from optuna->optuna-integration[catboost]) (4.66.5)\r\n",
      "Requirement already satisfied: PyYAML in /usr/local/lib/python3.10/dist-packages (from optuna->optuna-integration[catboost]) (6.0.2)\r\n",
      "Requirement already satisfied: Mako in /usr/local/lib/python3.10/dist-packages (from alembic>=1.5.0->optuna->optuna-integration[catboost]) (1.3.8)\r\n",
      "Requirement already satisfied: typing-extensions>=4 in /usr/local/lib/python3.10/dist-packages (from alembic>=1.5.0->optuna->optuna-integration[catboost]) (4.12.2)\r\n",
      "Requirement already satisfied: python-dateutil>=2.8.2 in /usr/local/lib/python3.10/dist-packages (from pandas>=0.24->catboost->optuna-integration[catboost]) (2.8.2)\r\n",
      "Requirement already satisfied: pytz>=2020.1 in /usr/local/lib/python3.10/dist-packages (from pandas>=0.24->catboost->optuna-integration[catboost]) (2024.2)\r\n",
      "Requirement already satisfied: tzdata>=2022.1 in /usr/local/lib/python3.10/dist-packages (from pandas>=0.24->catboost->optuna-integration[catboost]) (2024.1)\r\n",
      "Requirement already satisfied: greenlet!=0.4.17 in /usr/local/lib/python3.10/dist-packages (from sqlalchemy>=1.4.2->optuna->optuna-integration[catboost]) (3.1.0)\r\n",
      "Requirement already satisfied: contourpy>=1.0.1 in /usr/local/lib/python3.10/dist-packages (from matplotlib->catboost->optuna-integration[catboost]) (1.3.0)\r\n",
      "Requirement already satisfied: cycler>=0.10 in /usr/local/lib/python3.10/dist-packages (from matplotlib->catboost->optuna-integration[catboost]) (0.12.1)\r\n",
      "Requirement already satisfied: fonttools>=4.22.0 in /usr/local/lib/python3.10/dist-packages (from matplotlib->catboost->optuna-integration[catboost]) (4.53.1)\r\n",
      "Requirement already satisfied: kiwisolver>=1.0.1 in /usr/local/lib/python3.10/dist-packages (from matplotlib->catboost->optuna-integration[catboost]) (1.4.7)\r\n",
      "Requirement already satisfied: pillow>=6.2.0 in /usr/local/lib/python3.10/dist-packages (from matplotlib->catboost->optuna-integration[catboost]) (10.4.0)\r\n",
      "Requirement already satisfied: pyparsing>=2.3.1 in /usr/local/lib/python3.10/dist-packages (from matplotlib->catboost->optuna-integration[catboost]) (3.1.4)\r\n",
      "Requirement already satisfied: tenacity>=6.2.0 in /usr/local/lib/python3.10/dist-packages (from plotly->catboost->optuna-integration[catboost]) (9.0.0)\r\n",
      "Requirement already satisfied: MarkupSafe>=0.9.2 in /usr/local/lib/python3.10/dist-packages (from Mako->alembic>=1.5.0->optuna->optuna-integration[catboost]) (2.1.5)\r\n",
      "Downloading optuna_integration-4.1.0-py3-none-any.whl (97 kB)\r\n",
      "\u001b[2K   \u001b[90m━━━━━━━━━━━━━━━━━━━━━━━━━━━━━━━━━━━━━━━━\u001b[0m \u001b[32m97.4/97.4 kB\u001b[0m \u001b[31m2.4 MB/s\u001b[0m eta \u001b[36m0:00:00\u001b[0m\r\n",
      "\u001b[?25hInstalling collected packages: optuna-integration\r\n",
      "Successfully installed optuna-integration-4.1.0\r\n"
     ]
    }
   ],
   "source": [
    "!pip install optuna-integration[catboost]"
   ]
  },
  {
   "cell_type": "code",
   "execution_count": 3,
   "id": "157128c6",
   "metadata": {
    "execution": {
     "iopub.execute_input": "2025-01-07T16:24:39.805338Z",
     "iopub.status.busy": "2025-01-07T16:24:39.804820Z",
     "iopub.status.idle": "2025-01-07T16:24:43.139962Z",
     "shell.execute_reply": "2025-01-07T16:24:43.138651Z"
    },
    "papermill": {
     "duration": 3.348441,
     "end_time": "2025-01-07T16:24:43.142287",
     "exception": false,
     "start_time": "2025-01-07T16:24:39.793846",
     "status": "completed"
    },
    "tags": []
   },
   "outputs": [],
   "source": [
    "import pandas as pd\n",
    "import numpy as np\n",
    "import optuna\n",
    "import catboost as cb\n",
    "import matplotlib\n",
    "import seaborn as sns\n",
    "from sklearn.metrics import mean_absolute_percentage_error\n",
    "from sklearn.model_selection import train_test_split\n",
    "from optuna.integration import CatBoostPruningCallback\n",
    "\n",
    "\n"
   ]
  },
  {
   "cell_type": "code",
   "execution_count": 4,
   "id": "433129c2",
   "metadata": {
    "execution": {
     "iopub.execute_input": "2025-01-07T16:24:43.158402Z",
     "iopub.status.busy": "2025-01-07T16:24:43.157917Z",
     "iopub.status.idle": "2025-01-07T16:24:43.669094Z",
     "shell.execute_reply": "2025-01-07T16:24:43.667840Z"
    },
    "papermill": {
     "duration": 0.522264,
     "end_time": "2025-01-07T16:24:43.672068",
     "exception": false,
     "start_time": "2025-01-07T16:24:43.149804",
     "status": "completed"
    },
    "tags": []
   },
   "outputs": [],
   "source": [
    "df_train=pd.read_csv('/kaggle/input/playground-series-s5e1/train.csv')\n",
    "df_test=pd.read_csv('/kaggle/input/playground-series-s5e1/test.csv')\n",
    "\n"
   ]
  },
  {
   "cell_type": "code",
   "execution_count": 5,
   "id": "32cc6ce6",
   "metadata": {
    "execution": {
     "iopub.execute_input": "2025-01-07T16:24:43.689389Z",
     "iopub.status.busy": "2025-01-07T16:24:43.688975Z",
     "iopub.status.idle": "2025-01-07T16:24:43.767233Z",
     "shell.execute_reply": "2025-01-07T16:24:43.765844Z"
    },
    "papermill": {
     "duration": 0.089352,
     "end_time": "2025-01-07T16:24:43.769240",
     "exception": false,
     "start_time": "2025-01-07T16:24:43.679888",
     "status": "completed"
    },
    "tags": []
   },
   "outputs": [
    {
     "name": "stdout",
     "output_type": "stream",
     "text": [
      "<class 'pandas.core.frame.DataFrame'>\n",
      "RangeIndex: 230130 entries, 0 to 230129\n",
      "Data columns (total 6 columns):\n",
      " #   Column    Non-Null Count   Dtype  \n",
      "---  ------    --------------   -----  \n",
      " 0   id        230130 non-null  int64  \n",
      " 1   date      230130 non-null  object \n",
      " 2   country   230130 non-null  object \n",
      " 3   store     230130 non-null  object \n",
      " 4   product   230130 non-null  object \n",
      " 5   num_sold  221259 non-null  float64\n",
      "dtypes: float64(1), int64(1), object(4)\n",
      "memory usage: 10.5+ MB\n"
     ]
    }
   ],
   "source": [
    "df_train.info()"
   ]
  },
  {
   "cell_type": "code",
   "execution_count": 6,
   "id": "879c0f48",
   "metadata": {
    "execution": {
     "iopub.execute_input": "2025-01-07T16:24:43.786384Z",
     "iopub.status.busy": "2025-01-07T16:24:43.786033Z",
     "iopub.status.idle": "2025-01-07T16:24:43.809605Z",
     "shell.execute_reply": "2025-01-07T16:24:43.808358Z"
    },
    "papermill": {
     "duration": 0.034651,
     "end_time": "2025-01-07T16:24:43.811701",
     "exception": false,
     "start_time": "2025-01-07T16:24:43.777050",
     "status": "completed"
    },
    "tags": []
   },
   "outputs": [
    {
     "data": {
      "text/plain": [
       "array(['Discount Stickers', 'Stickers for Less', 'Premium Sticker Mart'],\n",
       "      dtype=object)"
      ]
     },
     "execution_count": 6,
     "metadata": {},
     "output_type": "execute_result"
    }
   ],
   "source": [
    "df_train['store'].unique()"
   ]
  },
  {
   "cell_type": "code",
   "execution_count": 7,
   "id": "23369161",
   "metadata": {
    "execution": {
     "iopub.execute_input": "2025-01-07T16:24:43.828151Z",
     "iopub.status.busy": "2025-01-07T16:24:43.827731Z",
     "iopub.status.idle": "2025-01-07T16:24:43.846494Z",
     "shell.execute_reply": "2025-01-07T16:24:43.844942Z"
    },
    "papermill": {
     "duration": 0.029288,
     "end_time": "2025-01-07T16:24:43.848617",
     "exception": false,
     "start_time": "2025-01-07T16:24:43.819329",
     "status": "completed"
    },
    "tags": []
   },
   "outputs": [
    {
     "data": {
      "text/plain": [
       "array(['Holographic Goose', 'Kaggle', 'Kaggle Tiers', 'Kerneler',\n",
       "       'Kerneler Dark Mode'], dtype=object)"
      ]
     },
     "execution_count": 7,
     "metadata": {},
     "output_type": "execute_result"
    }
   ],
   "source": [
    "df_train['product'].unique()"
   ]
  },
  {
   "cell_type": "code",
   "execution_count": 8,
   "id": "8fb1927d",
   "metadata": {
    "execution": {
     "iopub.execute_input": "2025-01-07T16:24:43.865152Z",
     "iopub.status.busy": "2025-01-07T16:24:43.864790Z",
     "iopub.status.idle": "2025-01-07T16:24:47.319963Z",
     "shell.execute_reply": "2025-01-07T16:24:47.318885Z"
    },
    "papermill": {
     "duration": 3.466017,
     "end_time": "2025-01-07T16:24:47.322460",
     "exception": false,
     "start_time": "2025-01-07T16:24:43.856443",
     "status": "completed"
    },
    "tags": []
   },
   "outputs": [],
   "source": [
    "df_train['Day']=pd.to_datetime(df_train['date']).dt.strftime(\"%d\")\n",
    "df_train['Month']=pd.to_datetime(df_train['date']).dt.strftime(\"%m\")\n",
    "df_train['Year']=pd.to_datetime(df_train['date']).dt.strftime(\"%Y\")\n",
    "df_train['Day_of_week']=pd.to_datetime(df_train['date']).dt.dayofweek\n"
   ]
  },
  {
   "cell_type": "code",
   "execution_count": 9,
   "id": "a74666cf",
   "metadata": {
    "execution": {
     "iopub.execute_input": "2025-01-07T16:24:47.339144Z",
     "iopub.status.busy": "2025-01-07T16:24:47.338793Z",
     "iopub.status.idle": "2025-01-07T16:24:47.456018Z",
     "shell.execute_reply": "2025-01-07T16:24:47.454714Z"
    },
    "papermill": {
     "duration": 0.128053,
     "end_time": "2025-01-07T16:24:47.458313",
     "exception": false,
     "start_time": "2025-01-07T16:24:47.330260",
     "status": "completed"
    },
    "tags": []
   },
   "outputs": [],
   "source": [
    "df_train['store']=df_train['store'].astype('category')\n",
    "df_train['country']=df_train['country'].astype('category')\n",
    "df_train['product']=df_train['product'].astype('category')\n",
    "df_train['Day']=df_train['Day'].astype('category')\n",
    "df_train['Month']=df_train['Month'].astype('category')\n",
    "df_train['Year']=df_train['Year'].astype('category')\n",
    "df_train['Day_of_week']=df_train['Day_of_week'].astype('category')"
   ]
  },
  {
   "cell_type": "code",
   "execution_count": 10,
   "id": "edeb44cb",
   "metadata": {
    "execution": {
     "iopub.execute_input": "2025-01-07T16:24:47.475830Z",
     "iopub.status.busy": "2025-01-07T16:24:47.475380Z",
     "iopub.status.idle": "2025-01-07T16:24:48.955312Z",
     "shell.execute_reply": "2025-01-07T16:24:48.954145Z"
    },
    "papermill": {
     "duration": 1.490379,
     "end_time": "2025-01-07T16:24:48.957227",
     "exception": false,
     "start_time": "2025-01-07T16:24:47.466848",
     "status": "completed"
    },
    "tags": []
   },
   "outputs": [],
   "source": [
    "df_test['Day']=pd.to_datetime(df_test['date']).dt.strftime(\"%d\")\n",
    "df_test['Month']=pd.to_datetime(df_test['date']).dt.strftime(\"%m\")\n",
    "df_test['Year']=pd.to_datetime(df_test['date']).dt.strftime(\"%Y\")\n",
    "df_test['Day_of_week']=pd.to_datetime(df_test['date']).dt.dayofweek"
   ]
  },
  {
   "cell_type": "code",
   "execution_count": 11,
   "id": "38c00032",
   "metadata": {
    "execution": {
     "iopub.execute_input": "2025-01-07T16:24:48.975461Z",
     "iopub.status.busy": "2025-01-07T16:24:48.975044Z",
     "iopub.status.idle": "2025-01-07T16:24:49.033264Z",
     "shell.execute_reply": "2025-01-07T16:24:49.031805Z"
    },
    "papermill": {
     "duration": 0.070801,
     "end_time": "2025-01-07T16:24:49.035924",
     "exception": false,
     "start_time": "2025-01-07T16:24:48.965123",
     "status": "completed"
    },
    "tags": []
   },
   "outputs": [],
   "source": [
    "df_test['store']=df_test['store'].astype('category')\n",
    "df_test['country']=df_test['country'].astype('category')\n",
    "df_test['product']=df_test['product'].astype('category')\n",
    "df_test['Day']=df_test['Day'].astype('category')\n",
    "df_test['Month']=df_test['Month'].astype('category')\n",
    "df_test['Year']=df_test['Year'].astype('category')\n",
    "df_test['Day_of_week']=df_test['Day_of_week'].astype('category')"
   ]
  },
  {
   "cell_type": "code",
   "execution_count": 12,
   "id": "f75db592",
   "metadata": {
    "execution": {
     "iopub.execute_input": "2025-01-07T16:24:49.054603Z",
     "iopub.status.busy": "2025-01-07T16:24:49.054206Z",
     "iopub.status.idle": "2025-01-07T16:24:49.093542Z",
     "shell.execute_reply": "2025-01-07T16:24:49.092137Z"
    },
    "papermill": {
     "duration": 0.050918,
     "end_time": "2025-01-07T16:24:49.095960",
     "exception": false,
     "start_time": "2025-01-07T16:24:49.045042",
     "status": "completed"
    },
    "tags": []
   },
   "outputs": [
    {
     "name": "stdout",
     "output_type": "stream",
     "text": [
      "<class 'pandas.core.frame.DataFrame'>\n",
      "RangeIndex: 230130 entries, 0 to 230129\n",
      "Data columns (total 10 columns):\n",
      " #   Column       Non-Null Count   Dtype   \n",
      "---  ------       --------------   -----   \n",
      " 0   id           230130 non-null  int64   \n",
      " 1   date         230130 non-null  object  \n",
      " 2   country      230130 non-null  category\n",
      " 3   store        230130 non-null  category\n",
      " 4   product      230130 non-null  category\n",
      " 5   num_sold     221259 non-null  float64 \n",
      " 6   Day          230130 non-null  category\n",
      " 7   Month        230130 non-null  category\n",
      " 8   Year         230130 non-null  category\n",
      " 9   Day_of_week  230130 non-null  category\n",
      "dtypes: category(7), float64(1), int64(1), object(1)\n",
      "memory usage: 6.8+ MB\n"
     ]
    }
   ],
   "source": [
    "df_train.info()"
   ]
  },
  {
   "cell_type": "code",
   "execution_count": 13,
   "id": "c7380697",
   "metadata": {
    "execution": {
     "iopub.execute_input": "2025-01-07T16:24:49.113026Z",
     "iopub.status.busy": "2025-01-07T16:24:49.112549Z",
     "iopub.status.idle": "2025-01-07T16:24:49.139775Z",
     "shell.execute_reply": "2025-01-07T16:24:49.138474Z"
    },
    "papermill": {
     "duration": 0.038155,
     "end_time": "2025-01-07T16:24:49.142142",
     "exception": false,
     "start_time": "2025-01-07T16:24:49.103987",
     "status": "completed"
    },
    "tags": []
   },
   "outputs": [
    {
     "data": {
      "text/html": [
       "<div>\n",
       "<style scoped>\n",
       "    .dataframe tbody tr th:only-of-type {\n",
       "        vertical-align: middle;\n",
       "    }\n",
       "\n",
       "    .dataframe tbody tr th {\n",
       "        vertical-align: top;\n",
       "    }\n",
       "\n",
       "    .dataframe thead th {\n",
       "        text-align: right;\n",
       "    }\n",
       "</style>\n",
       "<table border=\"1\" class=\"dataframe\">\n",
       "  <thead>\n",
       "    <tr style=\"text-align: right;\">\n",
       "      <th></th>\n",
       "      <th>id</th>\n",
       "      <th>country</th>\n",
       "      <th>store</th>\n",
       "      <th>product</th>\n",
       "      <th>num_sold</th>\n",
       "      <th>Day</th>\n",
       "      <th>Month</th>\n",
       "      <th>Year</th>\n",
       "      <th>Day_of_week</th>\n",
       "    </tr>\n",
       "    <tr>\n",
       "      <th>date</th>\n",
       "      <th></th>\n",
       "      <th></th>\n",
       "      <th></th>\n",
       "      <th></th>\n",
       "      <th></th>\n",
       "      <th></th>\n",
       "      <th></th>\n",
       "      <th></th>\n",
       "      <th></th>\n",
       "    </tr>\n",
       "  </thead>\n",
       "  <tbody>\n",
       "    <tr>\n",
       "      <th>2010-01-01</th>\n",
       "      <td>0</td>\n",
       "      <td>Canada</td>\n",
       "      <td>Discount Stickers</td>\n",
       "      <td>Holographic Goose</td>\n",
       "      <td>NaN</td>\n",
       "      <td>01</td>\n",
       "      <td>01</td>\n",
       "      <td>2010</td>\n",
       "      <td>4</td>\n",
       "    </tr>\n",
       "    <tr>\n",
       "      <th>2010-01-01</th>\n",
       "      <td>1</td>\n",
       "      <td>Canada</td>\n",
       "      <td>Discount Stickers</td>\n",
       "      <td>Kaggle</td>\n",
       "      <td>973.0</td>\n",
       "      <td>01</td>\n",
       "      <td>01</td>\n",
       "      <td>2010</td>\n",
       "      <td>4</td>\n",
       "    </tr>\n",
       "    <tr>\n",
       "      <th>2010-01-01</th>\n",
       "      <td>2</td>\n",
       "      <td>Canada</td>\n",
       "      <td>Discount Stickers</td>\n",
       "      <td>Kaggle Tiers</td>\n",
       "      <td>906.0</td>\n",
       "      <td>01</td>\n",
       "      <td>01</td>\n",
       "      <td>2010</td>\n",
       "      <td>4</td>\n",
       "    </tr>\n",
       "    <tr>\n",
       "      <th>2010-01-01</th>\n",
       "      <td>3</td>\n",
       "      <td>Canada</td>\n",
       "      <td>Discount Stickers</td>\n",
       "      <td>Kerneler</td>\n",
       "      <td>423.0</td>\n",
       "      <td>01</td>\n",
       "      <td>01</td>\n",
       "      <td>2010</td>\n",
       "      <td>4</td>\n",
       "    </tr>\n",
       "    <tr>\n",
       "      <th>2010-01-01</th>\n",
       "      <td>4</td>\n",
       "      <td>Canada</td>\n",
       "      <td>Discount Stickers</td>\n",
       "      <td>Kerneler Dark Mode</td>\n",
       "      <td>491.0</td>\n",
       "      <td>01</td>\n",
       "      <td>01</td>\n",
       "      <td>2010</td>\n",
       "      <td>4</td>\n",
       "    </tr>\n",
       "  </tbody>\n",
       "</table>\n",
       "</div>"
      ],
      "text/plain": [
       "            id country              store             product  num_sold Day  \\\n",
       "date                                                                          \n",
       "2010-01-01   0  Canada  Discount Stickers   Holographic Goose       NaN  01   \n",
       "2010-01-01   1  Canada  Discount Stickers              Kaggle     973.0  01   \n",
       "2010-01-01   2  Canada  Discount Stickers        Kaggle Tiers     906.0  01   \n",
       "2010-01-01   3  Canada  Discount Stickers            Kerneler     423.0  01   \n",
       "2010-01-01   4  Canada  Discount Stickers  Kerneler Dark Mode     491.0  01   \n",
       "\n",
       "           Month  Year Day_of_week  \n",
       "date                                \n",
       "2010-01-01    01  2010           4  \n",
       "2010-01-01    01  2010           4  \n",
       "2010-01-01    01  2010           4  \n",
       "2010-01-01    01  2010           4  \n",
       "2010-01-01    01  2010           4  "
      ]
     },
     "execution_count": 13,
     "metadata": {},
     "output_type": "execute_result"
    }
   ],
   "source": [
    "df_train.set_index('date').head()"
   ]
  },
  {
   "cell_type": "code",
   "execution_count": 14,
   "id": "5e26f49a",
   "metadata": {
    "execution": {
     "iopub.execute_input": "2025-01-07T16:24:49.159925Z",
     "iopub.status.busy": "2025-01-07T16:24:49.159530Z",
     "iopub.status.idle": "2025-01-07T16:24:49.209530Z",
     "shell.execute_reply": "2025-01-07T16:24:49.207830Z"
    },
    "papermill": {
     "duration": 0.061373,
     "end_time": "2025-01-07T16:24:49.211777",
     "exception": false,
     "start_time": "2025-01-07T16:24:49.150404",
     "status": "completed"
    },
    "tags": []
   },
   "outputs": [
    {
     "name": "stderr",
     "output_type": "stream",
     "text": [
      "<ipython-input-14-9352d877f2f4>:1: FutureWarning: The default of observed=False is deprecated and will be changed to True in a future version of pandas. Pass observed=False to retain current behavior or observed=True to adopt the future default and silence this warning.\n",
      "  temp=df_train.set_index('date').groupby(['country', 'store', 'product'])['num_sold']\n"
     ]
    },
    {
     "data": {
      "text/plain": [
       "date\n",
       "2010-01-01       NaN\n",
       "2010-01-01     973.0\n",
       "2010-01-01     906.0\n",
       "2010-01-01     423.0\n",
       "2010-01-01     491.0\n",
       "               ...  \n",
       "2010-01-05     264.0\n",
       "2010-01-05    1536.0\n",
       "2010-01-05    1410.0\n",
       "2010-01-05     770.0\n",
       "2010-01-05     962.0\n",
       "Name: num_sold, Length: 450, dtype: float64"
      ]
     },
     "execution_count": 14,
     "metadata": {},
     "output_type": "execute_result"
    }
   ],
   "source": [
    "temp=df_train.set_index('date').groupby(['country', 'store', 'product'])['num_sold']\n",
    "temp.head()"
   ]
  },
  {
   "cell_type": "code",
   "execution_count": 15,
   "id": "69953063",
   "metadata": {
    "execution": {
     "iopub.execute_input": "2025-01-07T16:24:49.230401Z",
     "iopub.status.busy": "2025-01-07T16:24:49.230032Z",
     "iopub.status.idle": "2025-01-07T16:24:49.445567Z",
     "shell.execute_reply": "2025-01-07T16:24:49.444080Z"
    },
    "papermill": {
     "duration": 0.227236,
     "end_time": "2025-01-07T16:24:49.447497",
     "exception": false,
     "start_time": "2025-01-07T16:24:49.220261",
     "status": "completed"
    },
    "tags": []
   },
   "outputs": [
    {
     "name": "stderr",
     "output_type": "stream",
     "text": [
      "<ipython-input-15-eb72dc58358d>:6: FutureWarning: The default of observed=False is deprecated and will be changed to True in a future version of pandas. Pass observed=False to retain current behavior or observed=True to adopt the future default and silence this warning.\n",
      "  df['num_sold'] = df.groupby(['country', 'store', 'product'])['num_sold'].transform(\n"
     ]
    },
    {
     "data": {
      "text/plain": [
       "True"
      ]
     },
     "execution_count": 15,
     "metadata": {},
     "output_type": "execute_result"
    }
   ],
   "source": [
    "\n",
    "df_train['date']=pd.to_datetime(df_train['date'])\n",
    "df = df_train.set_index('date')\n",
    "df = df.sort_values(by=['country', 'store', 'product', 'date'])\n",
    "\n",
    "# Impute NaN with interpolation (grouped by Country, Store, and Product)\n",
    "df['num_sold'] = df.groupby(['country', 'store', 'product'])['num_sold'].transform(\n",
    "    lambda group: group.interpolate(method='linear',limit=None,limit_direction='both').ffill().bfill()\n",
    ")\n",
    "df['num_sold'].isna().any()"
   ]
  },
  {
   "cell_type": "code",
   "execution_count": 16,
   "id": "d1c0948c",
   "metadata": {
    "execution": {
     "iopub.execute_input": "2025-01-07T16:24:49.466208Z",
     "iopub.status.busy": "2025-01-07T16:24:49.465743Z",
     "iopub.status.idle": "2025-01-07T16:24:49.481150Z",
     "shell.execute_reply": "2025-01-07T16:24:49.479887Z"
    },
    "papermill": {
     "duration": 0.027221,
     "end_time": "2025-01-07T16:24:49.483251",
     "exception": false,
     "start_time": "2025-01-07T16:24:49.456030",
     "status": "completed"
    },
    "tags": []
   },
   "outputs": [
    {
     "data": {
      "text/html": [
       "<div>\n",
       "<style scoped>\n",
       "    .dataframe tbody tr th:only-of-type {\n",
       "        vertical-align: middle;\n",
       "    }\n",
       "\n",
       "    .dataframe tbody tr th {\n",
       "        vertical-align: top;\n",
       "    }\n",
       "\n",
       "    .dataframe thead th {\n",
       "        text-align: right;\n",
       "    }\n",
       "</style>\n",
       "<table border=\"1\" class=\"dataframe\">\n",
       "  <thead>\n",
       "    <tr style=\"text-align: right;\">\n",
       "      <th></th>\n",
       "      <th>id</th>\n",
       "      <th>country</th>\n",
       "      <th>store</th>\n",
       "      <th>product</th>\n",
       "      <th>num_sold</th>\n",
       "      <th>Day</th>\n",
       "      <th>Month</th>\n",
       "      <th>Year</th>\n",
       "      <th>Day_of_week</th>\n",
       "    </tr>\n",
       "    <tr>\n",
       "      <th>date</th>\n",
       "      <th></th>\n",
       "      <th></th>\n",
       "      <th></th>\n",
       "      <th></th>\n",
       "      <th></th>\n",
       "      <th></th>\n",
       "      <th></th>\n",
       "      <th></th>\n",
       "      <th></th>\n",
       "    </tr>\n",
       "  </thead>\n",
       "  <tbody>\n",
       "  </tbody>\n",
       "</table>\n",
       "</div>"
      ],
      "text/plain": [
       "Empty DataFrame\n",
       "Columns: [id, country, store, product, num_sold, Day, Month, Year, Day_of_week]\n",
       "Index: []"
      ]
     },
     "execution_count": 16,
     "metadata": {},
     "output_type": "execute_result"
    }
   ],
   "source": [
    "condition = (df.num_sold.notna()) & (df['country']=='Canada') & (df['store']=='Discount Stickers') & (df['product']=='Holographic Goose')\n",
    "df[condition]\n"
   ]
  },
  {
   "cell_type": "code",
   "execution_count": 17,
   "id": "989c867f",
   "metadata": {
    "execution": {
     "iopub.execute_input": "2025-01-07T16:24:49.502761Z",
     "iopub.status.busy": "2025-01-07T16:24:49.502324Z",
     "iopub.status.idle": "2025-01-07T16:24:49.520550Z",
     "shell.execute_reply": "2025-01-07T16:24:49.519258Z"
    },
    "papermill": {
     "duration": 0.029902,
     "end_time": "2025-01-07T16:24:49.522484",
     "exception": false,
     "start_time": "2025-01-07T16:24:49.492582",
     "status": "completed"
    },
    "tags": []
   },
   "outputs": [
    {
     "name": "stderr",
     "output_type": "stream",
     "text": [
      "<ipython-input-17-ce1350fd27b3>:2: FutureWarning: The default of observed=False is deprecated and will be changed to True in a future version of pandas. Pass observed=False to retain current behavior or observed=True to adopt the future default and silence this warning.\n",
      "  t=df[df.num_sold.isna()].groupby(['country','store','product'])['product'].value_counts().to_dict()\n"
     ]
    }
   ],
   "source": [
    "#Get num_sold NaN product store and country\n",
    "t=df[df.num_sold.isna()].groupby(['country','store','product'])['product'].value_counts().to_dict()"
   ]
  },
  {
   "cell_type": "code",
   "execution_count": 18,
   "id": "8826cc93",
   "metadata": {
    "execution": {
     "iopub.execute_input": "2025-01-07T16:24:49.542016Z",
     "iopub.status.busy": "2025-01-07T16:24:49.541523Z",
     "iopub.status.idle": "2025-01-07T16:24:49.547656Z",
     "shell.execute_reply": "2025-01-07T16:24:49.546339Z"
    },
    "papermill": {
     "duration": 0.018115,
     "end_time": "2025-01-07T16:24:49.549490",
     "exception": false,
     "start_time": "2025-01-07T16:24:49.531375",
     "status": "completed"
    },
    "tags": []
   },
   "outputs": [
    {
     "name": "stdout",
     "output_type": "stream",
     "text": [
      "('Canada', 'Discount Stickers', 'Holographic Goose') 2557\n",
      "('Kenya', 'Discount Stickers', 'Holographic Goose') 2557\n"
     ]
    }
   ],
   "source": [
    "#Country store and product that have NaN\n",
    "for  k,v in t.items():\n",
    "    if v!=0:\n",
    "        print(k,v)"
   ]
  },
  {
   "cell_type": "code",
   "execution_count": 19,
   "id": "bfd7c1cf",
   "metadata": {
    "execution": {
     "iopub.execute_input": "2025-01-07T16:24:49.568632Z",
     "iopub.status.busy": "2025-01-07T16:24:49.568242Z",
     "iopub.status.idle": "2025-01-07T16:24:49.603097Z",
     "shell.execute_reply": "2025-01-07T16:24:49.601973Z"
    },
    "papermill": {
     "duration": 0.046679,
     "end_time": "2025-01-07T16:24:49.605073",
     "exception": false,
     "start_time": "2025-01-07T16:24:49.558394",
     "status": "completed"
    },
    "tags": []
   },
   "outputs": [
    {
     "name": "stdout",
     "output_type": "stream",
     "text": [
      "Mean\n",
      "country\n",
      "Canada       241.249270\n",
      "Finland      177.405944\n",
      "Italy        128.415852\n",
      "Kenya          5.760129\n",
      "Norway       337.579194\n",
      "Singapore    204.719724\n",
      "Name: num_sold, dtype: float64\n",
      "Median\n",
      "country\n",
      "Canada       234.0\n",
      "Finland      188.0\n",
      "Italy        136.0\n",
      "Kenya          5.0\n",
      "Norway       350.0\n",
      "Singapore    218.0\n",
      "Name: num_sold, dtype: float64\n",
      "Mode\n",
      "country\n",
      "Canada              218.0\n",
      "Finland              91.0\n",
      "Italy        [66.0, 68.0]\n",
      "Kenya                 5.0\n",
      "Norway              171.0\n",
      "Singapore           238.0\n",
      "Name: num_sold, dtype: object\n",
      "Min\n",
      "country\n",
      "Canada       200.0\n",
      "Finland       65.0\n",
      "Italy         44.0\n",
      "Kenya          5.0\n",
      "Norway       105.0\n",
      "Singapore     69.0\n",
      "Name: num_sold, dtype: float64\n",
      "Max\n",
      "country\n",
      "Canada       449.0\n",
      "Finland      491.0\n",
      "Italy        318.0\n",
      "Kenya         11.0\n",
      "Norway       908.0\n",
      "Singapore    469.0\n",
      "Name: num_sold, dtype: float64\n"
     ]
    },
    {
     "name": "stderr",
     "output_type": "stream",
     "text": [
      "<ipython-input-19-7c247cb9ffdc>:2: FutureWarning: The default of observed=False is deprecated and will be changed to True in a future version of pandas. Pass observed=False to retain current behavior or observed=True to adopt the future default and silence this warning.\n",
      "  nan_product = df_train[(df_train['product']=='Holographic Goose') & (df_train['num_sold'].notna())].groupby(['country'])['num_sold']\n"
     ]
    }
   ],
   "source": [
    "#Find Holographic Goose num_sold in each country\n",
    "nan_product = df_train[(df_train['product']=='Holographic Goose') & (df_train['num_sold'].notna())].groupby(['country'])['num_sold']\n",
    "print(\"Mean\")\n",
    "print(nan_product.mean())\n",
    "print(\"Median\")\n",
    "print(nan_product.median())\n",
    "print(\"Mode\")\n",
    "print(nan_product.agg(pd.Series.mode))\n",
    "print(\"Min\")\n",
    "print(nan_product.min())\n",
    "print(\"Max\")\n",
    "print(nan_product.max())"
   ]
  },
  {
   "cell_type": "markdown",
   "id": "6b06db8a",
   "metadata": {
    "papermill": {
     "duration": 0.008588,
     "end_time": "2025-01-07T16:24:49.622954",
     "exception": false,
     "start_time": "2025-01-07T16:24:49.614366",
     "status": "completed"
    },
    "tags": []
   },
   "source": [
    "Impute Canana NaN with 218.0 \n",
    "Impute Kenya NaN with 5.0"
   ]
  },
  {
   "cell_type": "code",
   "execution_count": 20,
   "id": "1d5034ee",
   "metadata": {
    "execution": {
     "iopub.execute_input": "2025-01-07T16:24:49.642626Z",
     "iopub.status.busy": "2025-01-07T16:24:49.642247Z",
     "iopub.status.idle": "2025-01-07T16:24:49.650465Z",
     "shell.execute_reply": "2025-01-07T16:24:49.649325Z"
    },
    "papermill": {
     "duration": 0.019988,
     "end_time": "2025-01-07T16:24:49.652340",
     "exception": false,
     "start_time": "2025-01-07T16:24:49.632352",
     "status": "completed"
    },
    "tags": []
   },
   "outputs": [
    {
     "data": {
      "text/plain": [
       "5114"
      ]
     },
     "execution_count": 20,
     "metadata": {},
     "output_type": "execute_result"
    }
   ],
   "source": [
    "len(df[df['num_sold'].isna()])"
   ]
  },
  {
   "cell_type": "code",
   "execution_count": 21,
   "id": "a8c4b8c1",
   "metadata": {
    "execution": {
     "iopub.execute_input": "2025-01-07T16:24:49.672153Z",
     "iopub.status.busy": "2025-01-07T16:24:49.671650Z",
     "iopub.status.idle": "2025-01-07T16:24:49.684051Z",
     "shell.execute_reply": "2025-01-07T16:24:49.682909Z"
    },
    "papermill": {
     "duration": 0.024557,
     "end_time": "2025-01-07T16:24:49.686267",
     "exception": false,
     "start_time": "2025-01-07T16:24:49.661710",
     "status": "completed"
    },
    "tags": []
   },
   "outputs": [],
   "source": [
    "#Impute Canada with 218\n",
    "df.loc[df['country']=='Canada',['num_sold']]=df.loc[df['country']=='Canada',['num_sold']].fillna(218.0)"
   ]
  },
  {
   "cell_type": "code",
   "execution_count": 22,
   "id": "c54aaa87",
   "metadata": {
    "execution": {
     "iopub.execute_input": "2025-01-07T16:24:49.709414Z",
     "iopub.status.busy": "2025-01-07T16:24:49.709029Z",
     "iopub.status.idle": "2025-01-07T16:24:49.721518Z",
     "shell.execute_reply": "2025-01-07T16:24:49.720073Z"
    },
    "papermill": {
     "duration": 0.025976,
     "end_time": "2025-01-07T16:24:49.723972",
     "exception": false,
     "start_time": "2025-01-07T16:24:49.697996",
     "status": "completed"
    },
    "tags": []
   },
   "outputs": [],
   "source": [
    "#Impute Kenya with 5\n",
    "df.loc[df['country']=='Kenya',['num_sold']]=df.loc[df['country']=='Kenya',['num_sold']].fillna(5.0)"
   ]
  },
  {
   "cell_type": "code",
   "execution_count": 23,
   "id": "8cfb9472",
   "metadata": {
    "execution": {
     "iopub.execute_input": "2025-01-07T16:24:49.747103Z",
     "iopub.status.busy": "2025-01-07T16:24:49.746599Z",
     "iopub.status.idle": "2025-01-07T16:24:49.752401Z",
     "shell.execute_reply": "2025-01-07T16:24:49.750543Z"
    },
    "papermill": {
     "duration": 0.019697,
     "end_time": "2025-01-07T16:24:49.754828",
     "exception": false,
     "start_time": "2025-01-07T16:24:49.735131",
     "status": "completed"
    },
    "tags": []
   },
   "outputs": [],
   "source": [
    "# nsmode = df_train['num_sold'].mode()\n",
    "# df_train['num_sold']=df_train['num_sold'].fillna(nsmode[0])"
   ]
  },
  {
   "cell_type": "code",
   "execution_count": 24,
   "id": "55984012",
   "metadata": {
    "execution": {
     "iopub.execute_input": "2025-01-07T16:24:49.777394Z",
     "iopub.status.busy": "2025-01-07T16:24:49.777007Z",
     "iopub.status.idle": "2025-01-07T16:24:49.798509Z",
     "shell.execute_reply": "2025-01-07T16:24:49.797016Z"
    },
    "papermill": {
     "duration": 0.036124,
     "end_time": "2025-01-07T16:24:49.800553",
     "exception": false,
     "start_time": "2025-01-07T16:24:49.764429",
     "status": "completed"
    },
    "tags": []
   },
   "outputs": [
    {
     "name": "stdout",
     "output_type": "stream",
     "text": [
      "<class 'pandas.core.frame.DataFrame'>\n",
      "DatetimeIndex: 230130 entries, 2010-01-01 to 2016-12-31\n",
      "Data columns (total 9 columns):\n",
      " #   Column       Non-Null Count   Dtype   \n",
      "---  ------       --------------   -----   \n",
      " 0   id           230130 non-null  int64   \n",
      " 1   country      230130 non-null  category\n",
      " 2   store        230130 non-null  category\n",
      " 3   product      230130 non-null  category\n",
      " 4   num_sold     230130 non-null  float64 \n",
      " 5   Day          230130 non-null  category\n",
      " 6   Month        230130 non-null  category\n",
      " 7   Year         230130 non-null  category\n",
      " 8   Day_of_week  230130 non-null  category\n",
      "dtypes: category(7), float64(1), int64(1)\n",
      "memory usage: 6.8 MB\n"
     ]
    }
   ],
   "source": [
    "df.info()"
   ]
  },
  {
   "cell_type": "code",
   "execution_count": 25,
   "id": "9dd31f71",
   "metadata": {
    "execution": {
     "iopub.execute_input": "2025-01-07T16:24:49.822549Z",
     "iopub.status.busy": "2025-01-07T16:24:49.822203Z",
     "iopub.status.idle": "2025-01-07T16:24:49.829345Z",
     "shell.execute_reply": "2025-01-07T16:24:49.828216Z"
    },
    "papermill": {
     "duration": 0.019945,
     "end_time": "2025-01-07T16:24:49.831223",
     "exception": false,
     "start_time": "2025-01-07T16:24:49.811278",
     "status": "completed"
    },
    "tags": []
   },
   "outputs": [],
   "source": [
    "df_train=df.reset_index()"
   ]
  },
  {
   "cell_type": "code",
   "execution_count": 26,
   "id": "747fb2e2",
   "metadata": {
    "execution": {
     "iopub.execute_input": "2025-01-07T16:24:49.853598Z",
     "iopub.status.busy": "2025-01-07T16:24:49.853254Z",
     "iopub.status.idle": "2025-01-07T16:24:49.872439Z",
     "shell.execute_reply": "2025-01-07T16:24:49.870648Z"
    },
    "papermill": {
     "duration": 0.032632,
     "end_time": "2025-01-07T16:24:49.874503",
     "exception": false,
     "start_time": "2025-01-07T16:24:49.841871",
     "status": "completed"
    },
    "tags": []
   },
   "outputs": [
    {
     "name": "stdout",
     "output_type": "stream",
     "text": [
      "<class 'pandas.core.frame.DataFrame'>\n",
      "RangeIndex: 230130 entries, 0 to 230129\n",
      "Data columns (total 10 columns):\n",
      " #   Column       Non-Null Count   Dtype         \n",
      "---  ------       --------------   -----         \n",
      " 0   date         230130 non-null  datetime64[ns]\n",
      " 1   id           230130 non-null  int64         \n",
      " 2   country      230130 non-null  category      \n",
      " 3   store        230130 non-null  category      \n",
      " 4   product      230130 non-null  category      \n",
      " 5   num_sold     230130 non-null  float64       \n",
      " 6   Day          230130 non-null  category      \n",
      " 7   Month        230130 non-null  category      \n",
      " 8   Year         230130 non-null  category      \n",
      " 9   Day_of_week  230130 non-null  category      \n",
      "dtypes: category(7), datetime64[ns](1), float64(1), int64(1)\n",
      "memory usage: 6.8 MB\n"
     ]
    }
   ],
   "source": [
    "df_train.info()"
   ]
  },
  {
   "cell_type": "code",
   "execution_count": 27,
   "id": "227ec155",
   "metadata": {
    "execution": {
     "iopub.execute_input": "2025-01-07T16:24:49.895147Z",
     "iopub.status.busy": "2025-01-07T16:24:49.894642Z",
     "iopub.status.idle": "2025-01-07T16:24:49.903490Z",
     "shell.execute_reply": "2025-01-07T16:24:49.902294Z"
    },
    "papermill": {
     "duration": 0.021296,
     "end_time": "2025-01-07T16:24:49.905479",
     "exception": false,
     "start_time": "2025-01-07T16:24:49.884183",
     "status": "completed"
    },
    "tags": []
   },
   "outputs": [],
   "source": [
    "\n",
    "\n",
    "def objective(trial: optuna.Trial) -> float:\n",
    "    #data, target = load_breast_cancer(return_X_y=True)\n",
    "    train_x, valid_x, train_y, valid_y = train_test_split(df_train.drop(['id','num_sold','date'],axis=1), df_train['num_sold'], test_size=0.25)\n",
    "    cats=df_train.select_dtypes('category').columns\n",
    "    \n",
    "    param = {\n",
    "        \"iterations\":trial.suggest_int(\"iterations\",1000,6000),\n",
    "        \"objective\": trial.suggest_categorical(\"objective\", [\"MAPE\"]),\n",
    "        \"colsample_bylevel\": trial.suggest_float(\"colsample_bylevel\", 0.01, 0.7, log=True),\n",
    "        \"depth\": trial.suggest_int(\"depth\", 1, 12),\n",
    "        \"boosting_type\": trial.suggest_categorical(\"boosting_type\", [\"Ordered\", \"Plain\"]),\n",
    "        \"bootstrap_type\": trial.suggest_categorical(\n",
    "            \"bootstrap_type\", [\"Bayesian\", \"Bernoulli\", \"MVS\"]\n",
    "        ),\n",
    "        \"used_ram_limit\": \"3gb\",\n",
    "        \"eval_metric\": \"MAPE\",\n",
    "        \"cat_features\": cats.to_list(),\n",
    "    }\n",
    "\n",
    "    if param[\"bootstrap_type\"] == \"Bayesian\":\n",
    "        param[\"bagging_temperature\"] = trial.suggest_float(\"bagging_temperature\", 0, 10)\n",
    "    elif param[\"bootstrap_type\"] == \"Bernoulli\":\n",
    "        param[\"subsample\"] = trial.suggest_float(\"subsample\", 0.1, 1, log=True)\n",
    "\n",
    "    gbm = cb.CatBoostRegressor(**param)\n",
    "\n",
    "    pruning_callback = CatBoostPruningCallback(trial, \"MAPE\")\n",
    "    gbm.fit(\n",
    "        train_x,\n",
    "        train_y,\n",
    "        eval_set=[(valid_x, valid_y)],\n",
    "        verbose=0,\n",
    "        early_stopping_rounds=100,\n",
    "        callbacks=[pruning_callback],\n",
    "    )\n",
    "\n",
    "    # evoke pruning manually.\n",
    "    pruning_callback.check_pruned()\n",
    "\n",
    "    \n",
    "    preds = gbm.predict(valid_x)\n",
    "    pred_labels = np.rint(preds)\n",
    "    mape = mean_absolute_percentage_error(valid_y, pred_labels)\n",
    "    return mape\n"
   ]
  },
  {
   "cell_type": "code",
   "execution_count": 28,
   "id": "58483e5f",
   "metadata": {
    "execution": {
     "iopub.execute_input": "2025-01-07T16:24:49.926104Z",
     "iopub.status.busy": "2025-01-07T16:24:49.925453Z",
     "iopub.status.idle": "2025-01-07T16:36:44.047036Z",
     "shell.execute_reply": "2025-01-07T16:36:44.044933Z"
    },
    "papermill": {
     "duration": 714.145229,
     "end_time": "2025-01-07T16:36:44.060397",
     "exception": false,
     "start_time": "2025-01-07T16:24:49.915168",
     "status": "completed"
    },
    "tags": []
   },
   "outputs": [
    {
     "name": "stderr",
     "output_type": "stream",
     "text": [
      "<ipython-input-27-bfb0af462920>:27: ExperimentalWarning: CatBoostPruningCallback is experimental (supported from v3.0.0). The interface can change in the future.\n",
      "  pruning_callback = CatBoostPruningCallback(trial, \"MAPE\")\n",
      "<ipython-input-27-bfb0af462920>:27: ExperimentalWarning: CatBoostPruningCallback is experimental (supported from v3.0.0). The interface can change in the future.\n",
      "  pruning_callback = CatBoostPruningCallback(trial, \"MAPE\")\n",
      "<ipython-input-27-bfb0af462920>:27: ExperimentalWarning: CatBoostPruningCallback is experimental (supported from v3.0.0). The interface can change in the future.\n",
      "  pruning_callback = CatBoostPruningCallback(trial, \"MAPE\")\n",
      "<ipython-input-27-bfb0af462920>:27: ExperimentalWarning: CatBoostPruningCallback is experimental (supported from v3.0.0). The interface can change in the future.\n",
      "  pruning_callback = CatBoostPruningCallback(trial, \"MAPE\")\n",
      "<ipython-input-27-bfb0af462920>:27: ExperimentalWarning: CatBoostPruningCallback is experimental (supported from v3.0.0). The interface can change in the future.\n",
      "  pruning_callback = CatBoostPruningCallback(trial, \"MAPE\")\n",
      "<ipython-input-27-bfb0af462920>:27: ExperimentalWarning: CatBoostPruningCallback is experimental (supported from v3.0.0). The interface can change in the future.\n",
      "  pruning_callback = CatBoostPruningCallback(trial, \"MAPE\")\n"
     ]
    },
    {
     "name": "stdout",
     "output_type": "stream",
     "text": [
      "Number of finished trials: 6\n",
      "Best trial:\n",
      "  Value: 0.1798962889992405\n",
      "  Params: \n",
      "    iterations: 3586\n",
      "    objective: MAPE\n",
      "    colsample_bylevel: 0.1245155129261776\n",
      "    depth: 6\n",
      "    boosting_type: Plain\n",
      "    bootstrap_type: Bernoulli\n",
      "    subsample: 0.16664035946585185\n"
     ]
    }
   ],
   "source": [
    "optuna.logging.set_verbosity(optuna.logging.CRITICAL)\n",
    "study = optuna.create_study(\n",
    "    pruner=optuna.pruners.MedianPruner(n_warmup_steps=5), direction=\"minimize\"\n",
    ")\n",
    "study.optimize(objective, n_trials=100, timeout=600)\n",
    "\n",
    "print(\"Number of finished trials: {}\".format(len(study.trials)))\n",
    "\n",
    "print(\"Best trial:\")\n",
    "trial = study.best_trial\n",
    "\n",
    "print(\"  Value: {}\".format(trial.value))\n",
    "\n",
    "print(\"  Params: \")\n",
    "for key, value in trial.params.items():\n",
    "    print(\"    {}: {}\".format(key, value))"
   ]
  },
  {
   "cell_type": "code",
   "execution_count": 29,
   "id": "713a4f2b",
   "metadata": {
    "execution": {
     "iopub.execute_input": "2025-01-07T16:36:44.083139Z",
     "iopub.status.busy": "2025-01-07T16:36:44.082773Z",
     "iopub.status.idle": "2025-01-07T16:36:44.092499Z",
     "shell.execute_reply": "2025-01-07T16:36:44.090856Z"
    },
    "papermill": {
     "duration": 0.023627,
     "end_time": "2025-01-07T16:36:44.094448",
     "exception": false,
     "start_time": "2025-01-07T16:36:44.070821",
     "status": "completed"
    },
    "tags": []
   },
   "outputs": [
    {
     "name": "stdout",
     "output_type": "stream",
     "text": [
      "{'iterations': 3586, 'objective': 'MAPE', 'colsample_bylevel': 0.1245155129261776, 'depth': 6, 'boosting_type': 'Plain', 'bootstrap_type': 'Bernoulli', 'subsample': 0.16664035946585185}\n"
     ]
    }
   ],
   "source": [
    "print(study.best_params)"
   ]
  },
  {
   "cell_type": "code",
   "execution_count": 30,
   "id": "59a9857d",
   "metadata": {
    "execution": {
     "iopub.execute_input": "2025-01-07T16:36:44.116406Z",
     "iopub.status.busy": "2025-01-07T16:36:44.116053Z",
     "iopub.status.idle": "2025-01-07T16:36:44.135612Z",
     "shell.execute_reply": "2025-01-07T16:36:44.134226Z"
    },
    "papermill": {
     "duration": 0.033176,
     "end_time": "2025-01-07T16:36:44.137741",
     "exception": false,
     "start_time": "2025-01-07T16:36:44.104565",
     "status": "completed"
    },
    "tags": []
   },
   "outputs": [],
   "source": [
    "from catboost import Pool,cv\n",
    "cats=df_train.select_dtypes('category').columns\n",
    "features=df_train.drop(['id','num_sold','date'],axis=1).columns\n",
    "train_pool = Pool(data=df_train.drop(['id','num_sold','date'],axis=1),\n",
    "             label=df_train['num_sold'],\n",
    "             cat_features=cats.to_list())"
   ]
  },
  {
   "cell_type": "code",
   "execution_count": 31,
   "id": "cc6891dd",
   "metadata": {
    "execution": {
     "iopub.execute_input": "2025-01-07T16:36:44.160583Z",
     "iopub.status.busy": "2025-01-07T16:36:44.160224Z",
     "iopub.status.idle": "2025-01-07T16:36:44.164682Z",
     "shell.execute_reply": "2025-01-07T16:36:44.163417Z"
    },
    "papermill": {
     "duration": 0.018753,
     "end_time": "2025-01-07T16:36:44.166854",
     "exception": false,
     "start_time": "2025-01-07T16:36:44.148101",
     "status": "completed"
    },
    "tags": []
   },
   "outputs": [],
   "source": [
    "# from catboost import Pool,cv\n",
    "\n",
    "#              #feature_names=features)\n",
    "\n",
    "\n",
    "# # params = {\"iterations\": 1000,\n",
    "# #           \"depth\": 4,\n",
    "# #           \"loss_function\": \"MAPE\",\n",
    "# #           \"verbose\": False}\n",
    "\n",
    "# scores = cv(train_pool,\n",
    "#             study.best_params,\n",
    "#            fold_count=5,\n",
    "#             verbose=0,\n",
    "#            )\n",
    "\n",
    "# print(scores)"
   ]
  },
  {
   "cell_type": "code",
   "execution_count": 32,
   "id": "eab1742a",
   "metadata": {
    "execution": {
     "iopub.execute_input": "2025-01-07T16:36:44.189941Z",
     "iopub.status.busy": "2025-01-07T16:36:44.189359Z",
     "iopub.status.idle": "2025-01-07T16:36:44.194018Z",
     "shell.execute_reply": "2025-01-07T16:36:44.192795Z"
    },
    "papermill": {
     "duration": 0.018309,
     "end_time": "2025-01-07T16:36:44.196261",
     "exception": false,
     "start_time": "2025-01-07T16:36:44.177952",
     "status": "completed"
    },
    "tags": []
   },
   "outputs": [],
   "source": [
    "#print(scores)"
   ]
  },
  {
   "cell_type": "code",
   "execution_count": 33,
   "id": "82b9effe",
   "metadata": {
    "execution": {
     "iopub.execute_input": "2025-01-07T16:36:44.218801Z",
     "iopub.status.busy": "2025-01-07T16:36:44.218390Z",
     "iopub.status.idle": "2025-01-07T16:36:44.892877Z",
     "shell.execute_reply": "2025-01-07T16:36:44.891762Z"
    },
    "papermill": {
     "duration": 0.688513,
     "end_time": "2025-01-07T16:36:44.895115",
     "exception": false,
     "start_time": "2025-01-07T16:36:44.206602",
     "status": "completed"
    },
    "tags": []
   },
   "outputs": [],
   "source": [
    "hyperdict=optuna.importance.get_param_importances(study)"
   ]
  },
  {
   "cell_type": "code",
   "execution_count": 34,
   "id": "987ee9a4",
   "metadata": {
    "execution": {
     "iopub.execute_input": "2025-01-07T16:36:44.917357Z",
     "iopub.status.busy": "2025-01-07T16:36:44.917015Z",
     "iopub.status.idle": "2025-01-07T16:36:44.921918Z",
     "shell.execute_reply": "2025-01-07T16:36:44.920488Z"
    },
    "papermill": {
     "duration": 0.017965,
     "end_time": "2025-01-07T16:36:44.923624",
     "exception": false,
     "start_time": "2025-01-07T16:36:44.905659",
     "status": "completed"
    },
    "tags": []
   },
   "outputs": [
    {
     "name": "stdout",
     "output_type": "stream",
     "text": [
      "{'colsample_bylevel': 0.48038662981191355, 'iterations': 0.18749079202033672, 'bootstrap_type': 0.17493083794710917, 'boosting_type': 0.09429759100980163, 'depth': 0.0628941492108389, 'objective': 0.0}\n"
     ]
    }
   ],
   "source": [
    "print(hyperdict)"
   ]
  },
  {
   "cell_type": "code",
   "execution_count": 35,
   "id": "9257c04d",
   "metadata": {
    "execution": {
     "iopub.execute_input": "2025-01-07T16:36:44.945657Z",
     "iopub.status.busy": "2025-01-07T16:36:44.945294Z",
     "iopub.status.idle": "2025-01-07T16:39:00.372258Z",
     "shell.execute_reply": "2025-01-07T16:39:00.371048Z"
    },
    "papermill": {
     "duration": 135.449706,
     "end_time": "2025-01-07T16:39:00.383788",
     "exception": false,
     "start_time": "2025-01-07T16:36:44.934082",
     "status": "completed"
    },
    "tags": []
   },
   "outputs": [
    {
     "data": {
      "text/plain": [
       "<catboost.core.CatBoostRegressor at 0x7d27cc26a200>"
      ]
     },
     "execution_count": 35,
     "metadata": {},
     "output_type": "execute_result"
    }
   ],
   "source": [
    "#Train model with best param and iteration>1000 before prediction\n",
    "model=cb.CatBoostRegressor(**study.best_params,verbose=0)\n",
    "model.fit(train_pool)"
   ]
  },
  {
   "cell_type": "code",
   "execution_count": 36,
   "id": "49b7a0bd",
   "metadata": {
    "execution": {
     "iopub.execute_input": "2025-01-07T16:39:00.406166Z",
     "iopub.status.busy": "2025-01-07T16:39:00.405783Z",
     "iopub.status.idle": "2025-01-07T16:39:00.409952Z",
     "shell.execute_reply": "2025-01-07T16:39:00.408779Z"
    },
    "papermill": {
     "duration": 0.017609,
     "end_time": "2025-01-07T16:39:00.411876",
     "exception": false,
     "start_time": "2025-01-07T16:39:00.394267",
     "status": "completed"
    },
    "tags": []
   },
   "outputs": [],
   "source": [
    "#model.is_fitted()"
   ]
  },
  {
   "cell_type": "code",
   "execution_count": 37,
   "id": "69a04afa",
   "metadata": {
    "execution": {
     "iopub.execute_input": "2025-01-07T16:39:00.435542Z",
     "iopub.status.busy": "2025-01-07T16:39:00.435171Z",
     "iopub.status.idle": "2025-01-07T16:39:00.439017Z",
     "shell.execute_reply": "2025-01-07T16:39:00.437967Z"
    },
    "papermill": {
     "duration": 0.017852,
     "end_time": "2025-01-07T16:39:00.440571",
     "exception": false,
     "start_time": "2025-01-07T16:39:00.422719",
     "status": "completed"
    },
    "tags": []
   },
   "outputs": [],
   "source": [
    "#df_test.info()"
   ]
  },
  {
   "cell_type": "code",
   "execution_count": 38,
   "id": "1ff649ff",
   "metadata": {
    "execution": {
     "iopub.execute_input": "2025-01-07T16:39:00.463320Z",
     "iopub.status.busy": "2025-01-07T16:39:00.462926Z",
     "iopub.status.idle": "2025-01-07T16:39:00.709997Z",
     "shell.execute_reply": "2025-01-07T16:39:00.708798Z"
    },
    "papermill": {
     "duration": 0.26098,
     "end_time": "2025-01-07T16:39:00.712166",
     "exception": false,
     "start_time": "2025-01-07T16:39:00.451186",
     "status": "completed"
    },
    "tags": []
   },
   "outputs": [],
   "source": [
    "predicts = model.predict(df_test.drop(['id','date'],axis=1))"
   ]
  },
  {
   "cell_type": "code",
   "execution_count": 39,
   "id": "0dea565c",
   "metadata": {
    "execution": {
     "iopub.execute_input": "2025-01-07T16:39:00.735176Z",
     "iopub.status.busy": "2025-01-07T16:39:00.734763Z",
     "iopub.status.idle": "2025-01-07T16:39:00.947208Z",
     "shell.execute_reply": "2025-01-07T16:39:00.945627Z"
    },
    "papermill": {
     "duration": 0.226029,
     "end_time": "2025-01-07T16:39:00.949260",
     "exception": false,
     "start_time": "2025-01-07T16:39:00.723231",
     "status": "completed"
    },
    "tags": []
   },
   "outputs": [],
   "source": [
    "pd.concat([df_test['id'],pd.DataFrame(predicts,columns=['num_sold'])],axis=1).reset_index(drop=True).to_csv('submission_impute_interpolate_mode3.csv',index=False)"
   ]
  },
  {
   "cell_type": "code",
   "execution_count": null,
   "id": "77bd9849",
   "metadata": {
    "papermill": {
     "duration": 0.010901,
     "end_time": "2025-01-07T16:39:00.971025",
     "exception": false,
     "start_time": "2025-01-07T16:39:00.960124",
     "status": "completed"
    },
    "tags": []
   },
   "outputs": [],
   "source": []
  }
 ],
 "metadata": {
  "kaggle": {
   "accelerator": "none",
   "dataSources": [
    {
     "databundleVersionId": 10652996,
     "sourceId": 85723,
     "sourceType": "competition"
    }
   ],
   "dockerImageVersionId": 30822,
   "isGpuEnabled": false,
   "isInternetEnabled": true,
   "language": "python",
   "sourceType": "notebook"
  },
  "kernelspec": {
   "display_name": "Python 3",
   "language": "python",
   "name": "python3"
  },
  "language_info": {
   "codemirror_mode": {
    "name": "ipython",
    "version": 3
   },
   "file_extension": ".py",
   "mimetype": "text/x-python",
   "name": "python",
   "nbconvert_exporter": "python",
   "pygments_lexer": "ipython3",
   "version": "3.10.12"
  },
  "papermill": {
   "default_parameters": {},
   "duration": 872.235672,
   "end_time": "2025-01-07T16:39:01.906229",
   "environment_variables": {},
   "exception": null,
   "input_path": "__notebook__.ipynb",
   "output_path": "__notebook__.ipynb",
   "parameters": {},
   "start_time": "2025-01-07T16:24:29.670557",
   "version": "2.6.0"
  }
 },
 "nbformat": 4,
 "nbformat_minor": 5
}
