{
 "cells": [
  {
   "cell_type": "code",
   "execution_count": 1,
   "id": "0bed40ae",
   "metadata": {
    "_cell_guid": "b1076dfc-b9ad-4769-8c92-a6c4dae69d19",
    "_uuid": "8f2839f25d086af736a60e9eeb907d3b93b6e0e5",
    "execution": {
     "iopub.execute_input": "2025-01-07T17:37:55.321559Z",
     "iopub.status.busy": "2025-01-07T17:37:55.321154Z",
     "iopub.status.idle": "2025-01-07T17:37:55.711798Z",
     "shell.execute_reply": "2025-01-07T17:37:55.710503Z"
    },
    "papermill": {
     "duration": 0.401272,
     "end_time": "2025-01-07T17:37:55.714017",
     "exception": false,
     "start_time": "2025-01-07T17:37:55.312745",
     "status": "completed"
    },
    "tags": []
   },
   "outputs": [
    {
     "name": "stdout",
     "output_type": "stream",
     "text": [
      "/kaggle/input/playground-series-s5e1/sample_submission.csv\n",
      "/kaggle/input/playground-series-s5e1/train.csv\n",
      "/kaggle/input/playground-series-s5e1/test.csv\n"
     ]
    }
   ],
   "source": [
    "# This Python 3 environment comes with many helpful analytics libraries installed\n",
    "# It is defined by the kaggle/python Docker image: https://github.com/kaggle/docker-python\n",
    "# For example, here's several helpful packages to load\n",
    "\n",
    "import numpy as np # linear algebra\n",
    "import pandas as pd # data processing, CSV file I/O (e.g. pd.read_csv)\n",
    "\n",
    "# Input data files are available in the read-only \"../input/\" directory\n",
    "# For example, running this (by clicking run or pressing Shift+Enter) will list all files under the input directory\n",
    "\n",
    "import os\n",
    "for dirname, _, filenames in os.walk('/kaggle/input'):\n",
    "    for filename in filenames:\n",
    "        print(os.path.join(dirname, filename))\n",
    "\n",
    "# You can write up to 20GB to the current directory (/kaggle/working/) that gets preserved as output when you create a version using \"Save & Run All\" \n",
    "# You can also write temporary files to /kaggle/temp/, but they won't be saved outside of the current session"
   ]
  },
  {
   "cell_type": "code",
   "execution_count": 2,
   "id": "b959a0c9",
   "metadata": {
    "execution": {
     "iopub.execute_input": "2025-01-07T17:37:55.728005Z",
     "iopub.status.busy": "2025-01-07T17:37:55.727510Z",
     "iopub.status.idle": "2025-01-07T17:38:01.649869Z",
     "shell.execute_reply": "2025-01-07T17:38:01.648518Z"
    },
    "papermill": {
     "duration": 5.931347,
     "end_time": "2025-01-07T17:38:01.651956",
     "exception": false,
     "start_time": "2025-01-07T17:37:55.720609",
     "status": "completed"
    },
    "tags": []
   },
   "outputs": [
    {
     "name": "stdout",
     "output_type": "stream",
     "text": [
      "Collecting optuna-integration[catboost]\r\n",
      "  Downloading optuna_integration-4.1.0-py3-none-any.whl.metadata (12 kB)\r\n",
      "Requirement already satisfied: optuna in /usr/local/lib/python3.10/dist-packages (from optuna-integration[catboost]) (4.1.0)\r\n",
      "Requirement already satisfied: numpy<2.0.0 in /usr/local/lib/python3.10/dist-packages (from optuna-integration[catboost]) (1.26.4)\r\n",
      "Requirement already satisfied: catboost in /usr/local/lib/python3.10/dist-packages (from optuna-integration[catboost]) (1.2.7)\r\n",
      "Requirement already satisfied: graphviz in /usr/local/lib/python3.10/dist-packages (from catboost->optuna-integration[catboost]) (0.20.3)\r\n",
      "Requirement already satisfied: matplotlib in /usr/local/lib/python3.10/dist-packages (from catboost->optuna-integration[catboost]) (3.7.1)\r\n",
      "Requirement already satisfied: pandas>=0.24 in /usr/local/lib/python3.10/dist-packages (from catboost->optuna-integration[catboost]) (2.1.4)\r\n",
      "Requirement already satisfied: scipy in /usr/local/lib/python3.10/dist-packages (from catboost->optuna-integration[catboost]) (1.13.1)\r\n",
      "Requirement already satisfied: plotly in /usr/local/lib/python3.10/dist-packages (from catboost->optuna-integration[catboost]) (5.24.1)\r\n",
      "Requirement already satisfied: six in /usr/local/lib/python3.10/dist-packages (from catboost->optuna-integration[catboost]) (1.16.0)\r\n",
      "Requirement already satisfied: alembic>=1.5.0 in /usr/local/lib/python3.10/dist-packages (from optuna->optuna-integration[catboost]) (1.14.0)\r\n",
      "Requirement already satisfied: colorlog in /usr/local/lib/python3.10/dist-packages (from optuna->optuna-integration[catboost]) (6.9.0)\r\n",
      "Requirement already satisfied: packaging>=20.0 in /usr/local/lib/python3.10/dist-packages (from optuna->optuna-integration[catboost]) (24.1)\r\n",
      "Requirement already satisfied: sqlalchemy>=1.4.2 in /usr/local/lib/python3.10/dist-packages (from optuna->optuna-integration[catboost]) (2.0.35)\r\n",
      "Requirement already satisfied: tqdm in /usr/local/lib/python3.10/dist-packages (from optuna->optuna-integration[catboost]) (4.66.5)\r\n",
      "Requirement already satisfied: PyYAML in /usr/local/lib/python3.10/dist-packages (from optuna->optuna-integration[catboost]) (6.0.2)\r\n",
      "Requirement already satisfied: Mako in /usr/local/lib/python3.10/dist-packages (from alembic>=1.5.0->optuna->optuna-integration[catboost]) (1.3.8)\r\n",
      "Requirement already satisfied: typing-extensions>=4 in /usr/local/lib/python3.10/dist-packages (from alembic>=1.5.0->optuna->optuna-integration[catboost]) (4.12.2)\r\n",
      "Requirement already satisfied: python-dateutil>=2.8.2 in /usr/local/lib/python3.10/dist-packages (from pandas>=0.24->catboost->optuna-integration[catboost]) (2.8.2)\r\n",
      "Requirement already satisfied: pytz>=2020.1 in /usr/local/lib/python3.10/dist-packages (from pandas>=0.24->catboost->optuna-integration[catboost]) (2024.2)\r\n",
      "Requirement already satisfied: tzdata>=2022.1 in /usr/local/lib/python3.10/dist-packages (from pandas>=0.24->catboost->optuna-integration[catboost]) (2024.1)\r\n",
      "Requirement already satisfied: greenlet!=0.4.17 in /usr/local/lib/python3.10/dist-packages (from sqlalchemy>=1.4.2->optuna->optuna-integration[catboost]) (3.1.0)\r\n",
      "Requirement already satisfied: contourpy>=1.0.1 in /usr/local/lib/python3.10/dist-packages (from matplotlib->catboost->optuna-integration[catboost]) (1.3.0)\r\n",
      "Requirement already satisfied: cycler>=0.10 in /usr/local/lib/python3.10/dist-packages (from matplotlib->catboost->optuna-integration[catboost]) (0.12.1)\r\n",
      "Requirement already satisfied: fonttools>=4.22.0 in /usr/local/lib/python3.10/dist-packages (from matplotlib->catboost->optuna-integration[catboost]) (4.53.1)\r\n",
      "Requirement already satisfied: kiwisolver>=1.0.1 in /usr/local/lib/python3.10/dist-packages (from matplotlib->catboost->optuna-integration[catboost]) (1.4.7)\r\n",
      "Requirement already satisfied: pillow>=6.2.0 in /usr/local/lib/python3.10/dist-packages (from matplotlib->catboost->optuna-integration[catboost]) (10.4.0)\r\n",
      "Requirement already satisfied: pyparsing>=2.3.1 in /usr/local/lib/python3.10/dist-packages (from matplotlib->catboost->optuna-integration[catboost]) (3.1.4)\r\n",
      "Requirement already satisfied: tenacity>=6.2.0 in /usr/local/lib/python3.10/dist-packages (from plotly->catboost->optuna-integration[catboost]) (9.0.0)\r\n",
      "Requirement already satisfied: MarkupSafe>=0.9.2 in /usr/local/lib/python3.10/dist-packages (from Mako->alembic>=1.5.0->optuna->optuna-integration[catboost]) (2.1.5)\r\n",
      "Downloading optuna_integration-4.1.0-py3-none-any.whl (97 kB)\r\n",
      "\u001b[2K   \u001b[90m━━━━━━━━━━━━━━━━━━━━━━━━━━━━━━━━━━━━━━━━\u001b[0m \u001b[32m97.4/97.4 kB\u001b[0m \u001b[31m2.9 MB/s\u001b[0m eta \u001b[36m0:00:00\u001b[0m\r\n",
      "\u001b[?25hInstalling collected packages: optuna-integration\r\n",
      "Successfully installed optuna-integration-4.1.0\r\n"
     ]
    }
   ],
   "source": [
    "!pip install optuna-integration[catboost]"
   ]
  },
  {
   "cell_type": "code",
   "execution_count": 3,
   "id": "eb90ed23",
   "metadata": {
    "execution": {
     "iopub.execute_input": "2025-01-07T17:38:01.667007Z",
     "iopub.status.busy": "2025-01-07T17:38:01.666663Z",
     "iopub.status.idle": "2025-01-07T17:38:04.128779Z",
     "shell.execute_reply": "2025-01-07T17:38:04.127913Z"
    },
    "papermill": {
     "duration": 2.471751,
     "end_time": "2025-01-07T17:38:04.130752",
     "exception": false,
     "start_time": "2025-01-07T17:38:01.659001",
     "status": "completed"
    },
    "tags": []
   },
   "outputs": [],
   "source": [
    "import pandas as pd\n",
    "import numpy as np\n",
    "import optuna\n",
    "import catboost as cb\n",
    "import matplotlib\n",
    "import seaborn as sns\n",
    "from sklearn.metrics import mean_absolute_percentage_error\n",
    "from sklearn.model_selection import train_test_split\n",
    "from optuna.integration import CatBoostPruningCallback\n",
    "\n",
    "\n"
   ]
  },
  {
   "cell_type": "code",
   "execution_count": 4,
   "id": "c7bad3c5",
   "metadata": {
    "execution": {
     "iopub.execute_input": "2025-01-07T17:38:04.146285Z",
     "iopub.status.busy": "2025-01-07T17:38:04.145772Z",
     "iopub.status.idle": "2025-01-07T17:38:04.718005Z",
     "shell.execute_reply": "2025-01-07T17:38:04.717140Z"
    },
    "papermill": {
     "duration": 0.581877,
     "end_time": "2025-01-07T17:38:04.719832",
     "exception": false,
     "start_time": "2025-01-07T17:38:04.137955",
     "status": "completed"
    },
    "tags": []
   },
   "outputs": [],
   "source": [
    "df_train=pd.read_csv('/kaggle/input/playground-series-s5e1/train.csv')\n",
    "df_test=pd.read_csv('/kaggle/input/playground-series-s5e1/test.csv')\n",
    "\n"
   ]
  },
  {
   "cell_type": "code",
   "execution_count": 5,
   "id": "6ebf8080",
   "metadata": {
    "execution": {
     "iopub.execute_input": "2025-01-07T17:38:04.735050Z",
     "iopub.status.busy": "2025-01-07T17:38:04.734702Z",
     "iopub.status.idle": "2025-01-07T17:38:04.805884Z",
     "shell.execute_reply": "2025-01-07T17:38:04.804723Z"
    },
    "papermill": {
     "duration": 0.081064,
     "end_time": "2025-01-07T17:38:04.807971",
     "exception": false,
     "start_time": "2025-01-07T17:38:04.726907",
     "status": "completed"
    },
    "tags": []
   },
   "outputs": [
    {
     "name": "stdout",
     "output_type": "stream",
     "text": [
      "<class 'pandas.core.frame.DataFrame'>\n",
      "RangeIndex: 230130 entries, 0 to 230129\n",
      "Data columns (total 6 columns):\n",
      " #   Column    Non-Null Count   Dtype  \n",
      "---  ------    --------------   -----  \n",
      " 0   id        230130 non-null  int64  \n",
      " 1   date      230130 non-null  object \n",
      " 2   country   230130 non-null  object \n",
      " 3   store     230130 non-null  object \n",
      " 4   product   230130 non-null  object \n",
      " 5   num_sold  221259 non-null  float64\n",
      "dtypes: float64(1), int64(1), object(4)\n",
      "memory usage: 10.5+ MB\n"
     ]
    }
   ],
   "source": [
    "df_train.info()"
   ]
  },
  {
   "cell_type": "code",
   "execution_count": 6,
   "id": "5e7447c6",
   "metadata": {
    "execution": {
     "iopub.execute_input": "2025-01-07T17:38:04.823162Z",
     "iopub.status.busy": "2025-01-07T17:38:04.822801Z",
     "iopub.status.idle": "2025-01-07T17:38:04.844414Z",
     "shell.execute_reply": "2025-01-07T17:38:04.843365Z"
    },
    "papermill": {
     "duration": 0.031254,
     "end_time": "2025-01-07T17:38:04.846211",
     "exception": false,
     "start_time": "2025-01-07T17:38:04.814957",
     "status": "completed"
    },
    "tags": []
   },
   "outputs": [
    {
     "data": {
      "text/plain": [
       "array(['Discount Stickers', 'Stickers for Less', 'Premium Sticker Mart'],\n",
       "      dtype=object)"
      ]
     },
     "execution_count": 6,
     "metadata": {},
     "output_type": "execute_result"
    }
   ],
   "source": [
    "df_train['store'].unique()"
   ]
  },
  {
   "cell_type": "code",
   "execution_count": 7,
   "id": "15f8f3bd",
   "metadata": {
    "execution": {
     "iopub.execute_input": "2025-01-07T17:38:04.862021Z",
     "iopub.status.busy": "2025-01-07T17:38:04.861643Z",
     "iopub.status.idle": "2025-01-07T17:38:04.879453Z",
     "shell.execute_reply": "2025-01-07T17:38:04.878419Z"
    },
    "papermill": {
     "duration": 0.027705,
     "end_time": "2025-01-07T17:38:04.881265",
     "exception": false,
     "start_time": "2025-01-07T17:38:04.853560",
     "status": "completed"
    },
    "tags": []
   },
   "outputs": [
    {
     "data": {
      "text/plain": [
       "array(['Holographic Goose', 'Kaggle', 'Kaggle Tiers', 'Kerneler',\n",
       "       'Kerneler Dark Mode'], dtype=object)"
      ]
     },
     "execution_count": 7,
     "metadata": {},
     "output_type": "execute_result"
    }
   ],
   "source": [
    "df_train['product'].unique()"
   ]
  },
  {
   "cell_type": "code",
   "execution_count": 8,
   "id": "f62d4141",
   "metadata": {
    "execution": {
     "iopub.execute_input": "2025-01-07T17:38:04.897357Z",
     "iopub.status.busy": "2025-01-07T17:38:04.896949Z",
     "iopub.status.idle": "2025-01-07T17:38:08.158260Z",
     "shell.execute_reply": "2025-01-07T17:38:08.157103Z"
    },
    "papermill": {
     "duration": 3.271228,
     "end_time": "2025-01-07T17:38:08.159927",
     "exception": false,
     "start_time": "2025-01-07T17:38:04.888699",
     "status": "completed"
    },
    "tags": []
   },
   "outputs": [],
   "source": [
    "df_train['Day']=pd.to_datetime(df_train['date']).dt.strftime(\"%d\")\n",
    "df_train['Month']=pd.to_datetime(df_train['date']).dt.strftime(\"%m\")\n",
    "df_train['Year']=pd.to_datetime(df_train['date']).dt.strftime(\"%Y\")\n",
    "df_train['Day_of_week']=pd.to_datetime(df_train['date']).dt.dayofweek\n"
   ]
  },
  {
   "cell_type": "code",
   "execution_count": 9,
   "id": "2b9f129a",
   "metadata": {
    "execution": {
     "iopub.execute_input": "2025-01-07T17:38:08.175843Z",
     "iopub.status.busy": "2025-01-07T17:38:08.175483Z",
     "iopub.status.idle": "2025-01-07T17:38:08.284804Z",
     "shell.execute_reply": "2025-01-07T17:38:08.283619Z"
    },
    "papermill": {
     "duration": 0.119228,
     "end_time": "2025-01-07T17:38:08.286732",
     "exception": false,
     "start_time": "2025-01-07T17:38:08.167504",
     "status": "completed"
    },
    "tags": []
   },
   "outputs": [],
   "source": [
    "df_train['store']=df_train['store'].astype('category')\n",
    "df_train['country']=df_train['country'].astype('category')\n",
    "df_train['product']=df_train['product'].astype('category')\n",
    "df_train['Day']=df_train['Day'].astype('category')\n",
    "df_train['Month']=df_train['Month'].astype('category')\n",
    "df_train['Year']=df_train['Year'].astype('category')\n",
    "df_train['Day_of_week']=df_train['Day_of_week'].astype('category')"
   ]
  },
  {
   "cell_type": "code",
   "execution_count": 10,
   "id": "0bd652bb",
   "metadata": {
    "execution": {
     "iopub.execute_input": "2025-01-07T17:38:08.302864Z",
     "iopub.status.busy": "2025-01-07T17:38:08.302502Z",
     "iopub.status.idle": "2025-01-07T17:38:09.633402Z",
     "shell.execute_reply": "2025-01-07T17:38:09.632271Z"
    },
    "papermill": {
     "duration": 1.340729,
     "end_time": "2025-01-07T17:38:09.635255",
     "exception": false,
     "start_time": "2025-01-07T17:38:08.294526",
     "status": "completed"
    },
    "tags": []
   },
   "outputs": [],
   "source": [
    "df_test['Day']=pd.to_datetime(df_test['date']).dt.strftime(\"%d\")\n",
    "df_test['Month']=pd.to_datetime(df_test['date']).dt.strftime(\"%m\")\n",
    "df_test['Year']=pd.to_datetime(df_test['date']).dt.strftime(\"%Y\")\n",
    "df_test['Day_of_week']=pd.to_datetime(df_test['date']).dt.dayofweek"
   ]
  },
  {
   "cell_type": "code",
   "execution_count": 11,
   "id": "b6575a0b",
   "metadata": {
    "execution": {
     "iopub.execute_input": "2025-01-07T17:38:09.651681Z",
     "iopub.status.busy": "2025-01-07T17:38:09.651320Z",
     "iopub.status.idle": "2025-01-07T17:38:09.700358Z",
     "shell.execute_reply": "2025-01-07T17:38:09.699266Z"
    },
    "papermill": {
     "duration": 0.059168,
     "end_time": "2025-01-07T17:38:09.702252",
     "exception": false,
     "start_time": "2025-01-07T17:38:09.643084",
     "status": "completed"
    },
    "tags": []
   },
   "outputs": [],
   "source": [
    "df_test['store']=df_test['store'].astype('category')\n",
    "df_test['country']=df_test['country'].astype('category')\n",
    "df_test['product']=df_test['product'].astype('category')\n",
    "df_test['Day']=df_test['Day'].astype('category')\n",
    "df_test['Month']=df_test['Month'].astype('category')\n",
    "df_test['Year']=df_test['Year'].astype('category')\n",
    "df_test['Day_of_week']=df_test['Day_of_week'].astype('category')"
   ]
  },
  {
   "cell_type": "code",
   "execution_count": 12,
   "id": "b66a88b1",
   "metadata": {
    "execution": {
     "iopub.execute_input": "2025-01-07T17:38:09.718656Z",
     "iopub.status.busy": "2025-01-07T17:38:09.718326Z",
     "iopub.status.idle": "2025-01-07T17:38:09.749104Z",
     "shell.execute_reply": "2025-01-07T17:38:09.747634Z"
    },
    "papermill": {
     "duration": 0.040792,
     "end_time": "2025-01-07T17:38:09.750824",
     "exception": false,
     "start_time": "2025-01-07T17:38:09.710032",
     "status": "completed"
    },
    "tags": []
   },
   "outputs": [
    {
     "name": "stdout",
     "output_type": "stream",
     "text": [
      "<class 'pandas.core.frame.DataFrame'>\n",
      "RangeIndex: 230130 entries, 0 to 230129\n",
      "Data columns (total 10 columns):\n",
      " #   Column       Non-Null Count   Dtype   \n",
      "---  ------       --------------   -----   \n",
      " 0   id           230130 non-null  int64   \n",
      " 1   date         230130 non-null  object  \n",
      " 2   country      230130 non-null  category\n",
      " 3   store        230130 non-null  category\n",
      " 4   product      230130 non-null  category\n",
      " 5   num_sold     221259 non-null  float64 \n",
      " 6   Day          230130 non-null  category\n",
      " 7   Month        230130 non-null  category\n",
      " 8   Year         230130 non-null  category\n",
      " 9   Day_of_week  230130 non-null  category\n",
      "dtypes: category(7), float64(1), int64(1), object(1)\n",
      "memory usage: 6.8+ MB\n"
     ]
    }
   ],
   "source": [
    "df_train.info()"
   ]
  },
  {
   "cell_type": "code",
   "execution_count": 13,
   "id": "860726db",
   "metadata": {
    "execution": {
     "iopub.execute_input": "2025-01-07T17:38:09.767151Z",
     "iopub.status.busy": "2025-01-07T17:38:09.766827Z",
     "iopub.status.idle": "2025-01-07T17:38:09.790016Z",
     "shell.execute_reply": "2025-01-07T17:38:09.788565Z"
    },
    "papermill": {
     "duration": 0.033264,
     "end_time": "2025-01-07T17:38:09.791791",
     "exception": false,
     "start_time": "2025-01-07T17:38:09.758527",
     "status": "completed"
    },
    "tags": []
   },
   "outputs": [
    {
     "data": {
      "text/html": [
       "<div>\n",
       "<style scoped>\n",
       "    .dataframe tbody tr th:only-of-type {\n",
       "        vertical-align: middle;\n",
       "    }\n",
       "\n",
       "    .dataframe tbody tr th {\n",
       "        vertical-align: top;\n",
       "    }\n",
       "\n",
       "    .dataframe thead th {\n",
       "        text-align: right;\n",
       "    }\n",
       "</style>\n",
       "<table border=\"1\" class=\"dataframe\">\n",
       "  <thead>\n",
       "    <tr style=\"text-align: right;\">\n",
       "      <th></th>\n",
       "      <th>id</th>\n",
       "      <th>country</th>\n",
       "      <th>store</th>\n",
       "      <th>product</th>\n",
       "      <th>num_sold</th>\n",
       "      <th>Day</th>\n",
       "      <th>Month</th>\n",
       "      <th>Year</th>\n",
       "      <th>Day_of_week</th>\n",
       "    </tr>\n",
       "    <tr>\n",
       "      <th>date</th>\n",
       "      <th></th>\n",
       "      <th></th>\n",
       "      <th></th>\n",
       "      <th></th>\n",
       "      <th></th>\n",
       "      <th></th>\n",
       "      <th></th>\n",
       "      <th></th>\n",
       "      <th></th>\n",
       "    </tr>\n",
       "  </thead>\n",
       "  <tbody>\n",
       "    <tr>\n",
       "      <th>2010-01-01</th>\n",
       "      <td>0</td>\n",
       "      <td>Canada</td>\n",
       "      <td>Discount Stickers</td>\n",
       "      <td>Holographic Goose</td>\n",
       "      <td>NaN</td>\n",
       "      <td>01</td>\n",
       "      <td>01</td>\n",
       "      <td>2010</td>\n",
       "      <td>4</td>\n",
       "    </tr>\n",
       "    <tr>\n",
       "      <th>2010-01-01</th>\n",
       "      <td>1</td>\n",
       "      <td>Canada</td>\n",
       "      <td>Discount Stickers</td>\n",
       "      <td>Kaggle</td>\n",
       "      <td>973.0</td>\n",
       "      <td>01</td>\n",
       "      <td>01</td>\n",
       "      <td>2010</td>\n",
       "      <td>4</td>\n",
       "    </tr>\n",
       "    <tr>\n",
       "      <th>2010-01-01</th>\n",
       "      <td>2</td>\n",
       "      <td>Canada</td>\n",
       "      <td>Discount Stickers</td>\n",
       "      <td>Kaggle Tiers</td>\n",
       "      <td>906.0</td>\n",
       "      <td>01</td>\n",
       "      <td>01</td>\n",
       "      <td>2010</td>\n",
       "      <td>4</td>\n",
       "    </tr>\n",
       "    <tr>\n",
       "      <th>2010-01-01</th>\n",
       "      <td>3</td>\n",
       "      <td>Canada</td>\n",
       "      <td>Discount Stickers</td>\n",
       "      <td>Kerneler</td>\n",
       "      <td>423.0</td>\n",
       "      <td>01</td>\n",
       "      <td>01</td>\n",
       "      <td>2010</td>\n",
       "      <td>4</td>\n",
       "    </tr>\n",
       "    <tr>\n",
       "      <th>2010-01-01</th>\n",
       "      <td>4</td>\n",
       "      <td>Canada</td>\n",
       "      <td>Discount Stickers</td>\n",
       "      <td>Kerneler Dark Mode</td>\n",
       "      <td>491.0</td>\n",
       "      <td>01</td>\n",
       "      <td>01</td>\n",
       "      <td>2010</td>\n",
       "      <td>4</td>\n",
       "    </tr>\n",
       "  </tbody>\n",
       "</table>\n",
       "</div>"
      ],
      "text/plain": [
       "            id country              store             product  num_sold Day  \\\n",
       "date                                                                          \n",
       "2010-01-01   0  Canada  Discount Stickers   Holographic Goose       NaN  01   \n",
       "2010-01-01   1  Canada  Discount Stickers              Kaggle     973.0  01   \n",
       "2010-01-01   2  Canada  Discount Stickers        Kaggle Tiers     906.0  01   \n",
       "2010-01-01   3  Canada  Discount Stickers            Kerneler     423.0  01   \n",
       "2010-01-01   4  Canada  Discount Stickers  Kerneler Dark Mode     491.0  01   \n",
       "\n",
       "           Month  Year Day_of_week  \n",
       "date                                \n",
       "2010-01-01    01  2010           4  \n",
       "2010-01-01    01  2010           4  \n",
       "2010-01-01    01  2010           4  \n",
       "2010-01-01    01  2010           4  \n",
       "2010-01-01    01  2010           4  "
      ]
     },
     "execution_count": 13,
     "metadata": {},
     "output_type": "execute_result"
    }
   ],
   "source": [
    "df_train.set_index('date').head()"
   ]
  },
  {
   "cell_type": "code",
   "execution_count": 14,
   "id": "a13c4673",
   "metadata": {
    "execution": {
     "iopub.execute_input": "2025-01-07T17:38:09.808604Z",
     "iopub.status.busy": "2025-01-07T17:38:09.808267Z",
     "iopub.status.idle": "2025-01-07T17:38:09.850284Z",
     "shell.execute_reply": "2025-01-07T17:38:09.848938Z"
    },
    "papermill": {
     "duration": 0.052039,
     "end_time": "2025-01-07T17:38:09.851776",
     "exception": false,
     "start_time": "2025-01-07T17:38:09.799737",
     "status": "completed"
    },
    "tags": []
   },
   "outputs": [
    {
     "name": "stderr",
     "output_type": "stream",
     "text": [
      "<ipython-input-14-9352d877f2f4>:1: FutureWarning: The default of observed=False is deprecated and will be changed to True in a future version of pandas. Pass observed=False to retain current behavior or observed=True to adopt the future default and silence this warning.\n",
      "  temp=df_train.set_index('date').groupby(['country', 'store', 'product'])['num_sold']\n"
     ]
    },
    {
     "data": {
      "text/plain": [
       "date\n",
       "2010-01-01       NaN\n",
       "2010-01-01     973.0\n",
       "2010-01-01     906.0\n",
       "2010-01-01     423.0\n",
       "2010-01-01     491.0\n",
       "               ...  \n",
       "2010-01-05     264.0\n",
       "2010-01-05    1536.0\n",
       "2010-01-05    1410.0\n",
       "2010-01-05     770.0\n",
       "2010-01-05     962.0\n",
       "Name: num_sold, Length: 450, dtype: float64"
      ]
     },
     "execution_count": 14,
     "metadata": {},
     "output_type": "execute_result"
    }
   ],
   "source": [
    "temp=df_train.set_index('date').groupby(['country', 'store', 'product'])['num_sold']\n",
    "temp.head()"
   ]
  },
  {
   "cell_type": "code",
   "execution_count": 15,
   "id": "7d7d0358",
   "metadata": {
    "execution": {
     "iopub.execute_input": "2025-01-07T17:38:09.868667Z",
     "iopub.status.busy": "2025-01-07T17:38:09.868307Z",
     "iopub.status.idle": "2025-01-07T17:38:10.069038Z",
     "shell.execute_reply": "2025-01-07T17:38:10.067738Z"
    },
    "papermill": {
     "duration": 0.211319,
     "end_time": "2025-01-07T17:38:10.070964",
     "exception": false,
     "start_time": "2025-01-07T17:38:09.859645",
     "status": "completed"
    },
    "tags": []
   },
   "outputs": [
    {
     "name": "stderr",
     "output_type": "stream",
     "text": [
      "<ipython-input-15-61588bc6b376>:6: FutureWarning: The default of observed=False is deprecated and will be changed to True in a future version of pandas. Pass observed=False to retain current behavior or observed=True to adopt the future default and silence this warning.\n",
      "  df['num_sold'] = df.groupby(['country', 'store', 'product'])['num_sold'].transform(\n"
     ]
    }
   ],
   "source": [
    "\n",
    "df_train['date']=pd.to_datetime(df_train['date'])\n",
    "df = df_train.set_index('date')\n",
    "df = df.sort_values(by=['country', 'store', 'product', 'date'])\n",
    "\n",
    "# Impute NaN with interpolation (grouped by Country, Store, and Product)\n",
    "df['num_sold'] = df.groupby(['country', 'store', 'product'])['num_sold'].transform(\n",
    "    lambda group: group.interpolate(method='linear',limit=None,limit_direction='both').ffill().bfill()\n",
    ")\n",
    "#df['num_sold'].isna().any()"
   ]
  },
  {
   "cell_type": "code",
   "execution_count": 16,
   "id": "80dcfa49",
   "metadata": {
    "execution": {
     "iopub.execute_input": "2025-01-07T17:38:10.088332Z",
     "iopub.status.busy": "2025-01-07T17:38:10.087942Z",
     "iopub.status.idle": "2025-01-07T17:38:10.091854Z",
     "shell.execute_reply": "2025-01-07T17:38:10.090767Z"
    },
    "papermill": {
     "duration": 0.01454,
     "end_time": "2025-01-07T17:38:10.093654",
     "exception": false,
     "start_time": "2025-01-07T17:38:10.079114",
     "status": "completed"
    },
    "tags": []
   },
   "outputs": [],
   "source": [
    "#condition = (df.num_sold.notna()) & (df['country']=='Canada') & (df['store']=='Discount Stickers') & (df['product']=='Holographic Goose')\n",
    "#df[condition]\n"
   ]
  },
  {
   "cell_type": "code",
   "execution_count": 17,
   "id": "ff660ad5",
   "metadata": {
    "execution": {
     "iopub.execute_input": "2025-01-07T17:38:10.111509Z",
     "iopub.status.busy": "2025-01-07T17:38:10.111090Z",
     "iopub.status.idle": "2025-01-07T17:38:10.126944Z",
     "shell.execute_reply": "2025-01-07T17:38:10.125857Z"
    },
    "papermill": {
     "duration": 0.026643,
     "end_time": "2025-01-07T17:38:10.128744",
     "exception": false,
     "start_time": "2025-01-07T17:38:10.102101",
     "status": "completed"
    },
    "tags": []
   },
   "outputs": [
    {
     "name": "stderr",
     "output_type": "stream",
     "text": [
      "<ipython-input-17-f6c9b93567a2>:2: FutureWarning: The default of observed=False is deprecated and will be changed to True in a future version of pandas. Pass observed=False to retain current behavior or observed=True to adopt the future default and silence this warning.\n",
      "  t=df[df.num_sold.isna()].groupby(['country','store','product'])['product'].value_counts().to_dict()\n"
     ]
    }
   ],
   "source": [
    "##Get num_sold NaN product store and country\n",
    "t=df[df.num_sold.isna()].groupby(['country','store','product'])['product'].value_counts().to_dict()"
   ]
  },
  {
   "cell_type": "code",
   "execution_count": 18,
   "id": "341e355d",
   "metadata": {
    "execution": {
     "iopub.execute_input": "2025-01-07T17:38:10.147884Z",
     "iopub.status.busy": "2025-01-07T17:38:10.147491Z",
     "iopub.status.idle": "2025-01-07T17:38:10.151420Z",
     "shell.execute_reply": "2025-01-07T17:38:10.150368Z"
    },
    "papermill": {
     "duration": 0.015021,
     "end_time": "2025-01-07T17:38:10.153012",
     "exception": false,
     "start_time": "2025-01-07T17:38:10.137991",
     "status": "completed"
    },
    "tags": []
   },
   "outputs": [],
   "source": [
    "#Country store and product that have NaN\n",
    "# for  k,v in t.items():\n",
    "#     if v!=0:\n",
    "#         print(k,v)"
   ]
  },
  {
   "cell_type": "code",
   "execution_count": 19,
   "id": "3401aa7a",
   "metadata": {
    "execution": {
     "iopub.execute_input": "2025-01-07T17:38:10.170653Z",
     "iopub.status.busy": "2025-01-07T17:38:10.170287Z",
     "iopub.status.idle": "2025-01-07T17:38:10.199275Z",
     "shell.execute_reply": "2025-01-07T17:38:10.198148Z"
    },
    "papermill": {
     "duration": 0.03961,
     "end_time": "2025-01-07T17:38:10.201046",
     "exception": false,
     "start_time": "2025-01-07T17:38:10.161436",
     "status": "completed"
    },
    "tags": []
   },
   "outputs": [
    {
     "name": "stderr",
     "output_type": "stream",
     "text": [
      "<ipython-input-19-7c247cb9ffdc>:2: FutureWarning: The default of observed=False is deprecated and will be changed to True in a future version of pandas. Pass observed=False to retain current behavior or observed=True to adopt the future default and silence this warning.\n",
      "  nan_product = df_train[(df_train['product']=='Holographic Goose') & (df_train['num_sold'].notna())].groupby(['country'])['num_sold']\n"
     ]
    },
    {
     "name": "stdout",
     "output_type": "stream",
     "text": [
      "Mean\n",
      "country\n",
      "Canada       241.249270\n",
      "Finland      177.405944\n",
      "Italy        128.415852\n",
      "Kenya          5.760129\n",
      "Norway       337.579194\n",
      "Singapore    204.719724\n",
      "Name: num_sold, dtype: float64\n",
      "Median\n",
      "country\n",
      "Canada       234.0\n",
      "Finland      188.0\n",
      "Italy        136.0\n",
      "Kenya          5.0\n",
      "Norway       350.0\n",
      "Singapore    218.0\n",
      "Name: num_sold, dtype: float64\n",
      "Mode\n",
      "country\n",
      "Canada              218.0\n",
      "Finland              91.0\n",
      "Italy        [66.0, 68.0]\n",
      "Kenya                 5.0\n",
      "Norway              171.0\n",
      "Singapore           238.0\n",
      "Name: num_sold, dtype: object\n",
      "Min\n",
      "country\n",
      "Canada       200.0\n",
      "Finland       65.0\n",
      "Italy         44.0\n",
      "Kenya          5.0\n",
      "Norway       105.0\n",
      "Singapore     69.0\n",
      "Name: num_sold, dtype: float64\n",
      "Max\n",
      "country\n",
      "Canada       449.0\n",
      "Finland      491.0\n",
      "Italy        318.0\n",
      "Kenya         11.0\n",
      "Norway       908.0\n",
      "Singapore    469.0\n",
      "Name: num_sold, dtype: float64\n"
     ]
    }
   ],
   "source": [
    "#Find Holographic Goose num_sold in each country\n",
    "nan_product = df_train[(df_train['product']=='Holographic Goose') & (df_train['num_sold'].notna())].groupby(['country'])['num_sold']\n",
    "print(\"Mean\")\n",
    "print(nan_product.mean())\n",
    "print(\"Median\")\n",
    "print(nan_product.median())\n",
    "print(\"Mode\")\n",
    "print(nan_product.agg(pd.Series.mode))\n",
    "print(\"Min\")\n",
    "print(nan_product.min())\n",
    "print(\"Max\")\n",
    "print(nan_product.max())"
   ]
  },
  {
   "cell_type": "markdown",
   "id": "b796f405",
   "metadata": {
    "papermill": {
     "duration": 0.008028,
     "end_time": "2025-01-07T17:38:10.217678",
     "exception": false,
     "start_time": "2025-01-07T17:38:10.209650",
     "status": "completed"
    },
    "tags": []
   },
   "source": [
    "Impute Canana NaN with 218.0 \n",
    "Impute Kenya NaN with 5.0"
   ]
  },
  {
   "cell_type": "code",
   "execution_count": 20,
   "id": "84859215",
   "metadata": {
    "execution": {
     "iopub.execute_input": "2025-01-07T17:38:10.235389Z",
     "iopub.status.busy": "2025-01-07T17:38:10.234967Z",
     "iopub.status.idle": "2025-01-07T17:38:10.242578Z",
     "shell.execute_reply": "2025-01-07T17:38:10.241552Z"
    },
    "papermill": {
     "duration": 0.018172,
     "end_time": "2025-01-07T17:38:10.244141",
     "exception": false,
     "start_time": "2025-01-07T17:38:10.225969",
     "status": "completed"
    },
    "tags": []
   },
   "outputs": [
    {
     "data": {
      "text/plain": [
       "5114"
      ]
     },
     "execution_count": 20,
     "metadata": {},
     "output_type": "execute_result"
    }
   ],
   "source": [
    "len(df[df['num_sold'].isna()])"
   ]
  },
  {
   "cell_type": "code",
   "execution_count": 21,
   "id": "b733f007",
   "metadata": {
    "execution": {
     "iopub.execute_input": "2025-01-07T17:38:10.262465Z",
     "iopub.status.busy": "2025-01-07T17:38:10.262104Z",
     "iopub.status.idle": "2025-01-07T17:38:10.272413Z",
     "shell.execute_reply": "2025-01-07T17:38:10.271406Z"
    },
    "papermill": {
     "duration": 0.021185,
     "end_time": "2025-01-07T17:38:10.274102",
     "exception": false,
     "start_time": "2025-01-07T17:38:10.252917",
     "status": "completed"
    },
    "tags": []
   },
   "outputs": [],
   "source": [
    "#Impute Canada with 218\n",
    "df.loc[df['country']=='Canada',['num_sold']]=df.loc[df['country']=='Canada',['num_sold']].fillna(218.0)"
   ]
  },
  {
   "cell_type": "code",
   "execution_count": 22,
   "id": "84be39bd",
   "metadata": {
    "execution": {
     "iopub.execute_input": "2025-01-07T17:38:10.292668Z",
     "iopub.status.busy": "2025-01-07T17:38:10.292328Z",
     "iopub.status.idle": "2025-01-07T17:38:10.301848Z",
     "shell.execute_reply": "2025-01-07T17:38:10.301079Z"
    },
    "papermill": {
     "duration": 0.020749,
     "end_time": "2025-01-07T17:38:10.303442",
     "exception": false,
     "start_time": "2025-01-07T17:38:10.282693",
     "status": "completed"
    },
    "tags": []
   },
   "outputs": [],
   "source": [
    "#Impute Kenya with 5\n",
    "df.loc[df['country']=='Kenya',['num_sold']]=df.loc[df['country']=='Kenya',['num_sold']].fillna(5.0)"
   ]
  },
  {
   "cell_type": "code",
   "execution_count": 23,
   "id": "4accbed8",
   "metadata": {
    "execution": {
     "iopub.execute_input": "2025-01-07T17:38:10.321562Z",
     "iopub.status.busy": "2025-01-07T17:38:10.321206Z",
     "iopub.status.idle": "2025-01-07T17:38:10.324856Z",
     "shell.execute_reply": "2025-01-07T17:38:10.323881Z"
    },
    "papermill": {
     "duration": 0.014283,
     "end_time": "2025-01-07T17:38:10.326359",
     "exception": false,
     "start_time": "2025-01-07T17:38:10.312076",
     "status": "completed"
    },
    "tags": []
   },
   "outputs": [],
   "source": [
    "# nsmode = df_train['num_sold'].mode()\n",
    "# df_train['num_sold']=df_train['num_sold'].fillna(nsmode[0])"
   ]
  },
  {
   "cell_type": "code",
   "execution_count": 24,
   "id": "805d2eb5",
   "metadata": {
    "execution": {
     "iopub.execute_input": "2025-01-07T17:38:10.344541Z",
     "iopub.status.busy": "2025-01-07T17:38:10.344165Z",
     "iopub.status.idle": "2025-01-07T17:38:10.361703Z",
     "shell.execute_reply": "2025-01-07T17:38:10.360523Z"
    },
    "papermill": {
     "duration": 0.028323,
     "end_time": "2025-01-07T17:38:10.363312",
     "exception": false,
     "start_time": "2025-01-07T17:38:10.334989",
     "status": "completed"
    },
    "tags": []
   },
   "outputs": [
    {
     "name": "stdout",
     "output_type": "stream",
     "text": [
      "<class 'pandas.core.frame.DataFrame'>\n",
      "DatetimeIndex: 230130 entries, 2010-01-01 to 2016-12-31\n",
      "Data columns (total 9 columns):\n",
      " #   Column       Non-Null Count   Dtype   \n",
      "---  ------       --------------   -----   \n",
      " 0   id           230130 non-null  int64   \n",
      " 1   country      230130 non-null  category\n",
      " 2   store        230130 non-null  category\n",
      " 3   product      230130 non-null  category\n",
      " 4   num_sold     230130 non-null  float64 \n",
      " 5   Day          230130 non-null  category\n",
      " 6   Month        230130 non-null  category\n",
      " 7   Year         230130 non-null  category\n",
      " 8   Day_of_week  230130 non-null  category\n",
      "dtypes: category(7), float64(1), int64(1)\n",
      "memory usage: 6.8 MB\n"
     ]
    }
   ],
   "source": [
    "df.info()"
   ]
  },
  {
   "cell_type": "code",
   "execution_count": 25,
   "id": "8690c414",
   "metadata": {
    "execution": {
     "iopub.execute_input": "2025-01-07T17:38:10.382436Z",
     "iopub.status.busy": "2025-01-07T17:38:10.382057Z",
     "iopub.status.idle": "2025-01-07T17:38:10.388882Z",
     "shell.execute_reply": "2025-01-07T17:38:10.387810Z"
    },
    "papermill": {
     "duration": 0.018274,
     "end_time": "2025-01-07T17:38:10.390493",
     "exception": false,
     "start_time": "2025-01-07T17:38:10.372219",
     "status": "completed"
    },
    "tags": []
   },
   "outputs": [],
   "source": [
    "df_train=df.reset_index()"
   ]
  },
  {
   "cell_type": "code",
   "execution_count": 26,
   "id": "c5d6d82d",
   "metadata": {
    "execution": {
     "iopub.execute_input": "2025-01-07T17:38:10.409083Z",
     "iopub.status.busy": "2025-01-07T17:38:10.408766Z",
     "iopub.status.idle": "2025-01-07T17:38:10.424047Z",
     "shell.execute_reply": "2025-01-07T17:38:10.422873Z"
    },
    "papermill": {
     "duration": 0.026273,
     "end_time": "2025-01-07T17:38:10.425651",
     "exception": false,
     "start_time": "2025-01-07T17:38:10.399378",
     "status": "completed"
    },
    "tags": []
   },
   "outputs": [
    {
     "name": "stdout",
     "output_type": "stream",
     "text": [
      "<class 'pandas.core.frame.DataFrame'>\n",
      "RangeIndex: 230130 entries, 0 to 230129\n",
      "Data columns (total 10 columns):\n",
      " #   Column       Non-Null Count   Dtype         \n",
      "---  ------       --------------   -----         \n",
      " 0   date         230130 non-null  datetime64[ns]\n",
      " 1   id           230130 non-null  int64         \n",
      " 2   country      230130 non-null  category      \n",
      " 3   store        230130 non-null  category      \n",
      " 4   product      230130 non-null  category      \n",
      " 5   num_sold     230130 non-null  float64       \n",
      " 6   Day          230130 non-null  category      \n",
      " 7   Month        230130 non-null  category      \n",
      " 8   Year         230130 non-null  category      \n",
      " 9   Day_of_week  230130 non-null  category      \n",
      "dtypes: category(7), datetime64[ns](1), float64(1), int64(1)\n",
      "memory usage: 6.8 MB\n"
     ]
    }
   ],
   "source": [
    "df_train.info()"
   ]
  },
  {
   "cell_type": "code",
   "execution_count": 27,
   "id": "00711bb6",
   "metadata": {
    "execution": {
     "iopub.execute_input": "2025-01-07T17:38:10.444691Z",
     "iopub.status.busy": "2025-01-07T17:38:10.444362Z",
     "iopub.status.idle": "2025-01-07T17:38:10.452431Z",
     "shell.execute_reply": "2025-01-07T17:38:10.451411Z"
    },
    "papermill": {
     "duration": 0.019146,
     "end_time": "2025-01-07T17:38:10.453905",
     "exception": false,
     "start_time": "2025-01-07T17:38:10.434759",
     "status": "completed"
    },
    "tags": []
   },
   "outputs": [],
   "source": [
    "\n",
    "\n",
    "def objective(trial: optuna.Trial) -> float:\n",
    "    #data, target = load_breast_cancer(return_X_y=True)\n",
    "    train_x, valid_x, train_y, valid_y = train_test_split(df_train.drop(['id','num_sold','date'],axis=1), df_train['num_sold'], test_size=0.25)\n",
    "    cats=df_train.select_dtypes('category').columns\n",
    "    \n",
    "    param = {\n",
    "        \"iterations\":trial.suggest_int(\"iterations\",1000,3000),\n",
    "        \"objective\": trial.suggest_categorical(\"objective\", [\"MAPE\"]),\n",
    "        \"colsample_bylevel\": trial.suggest_float(\"colsample_bylevel\", 0.01, 0.7, log=True),\n",
    "        \"depth\": trial.suggest_int(\"depth\", 1, 10),\n",
    "        \"boosting_type\": trial.suggest_categorical(\"boosting_type\", [\"Ordered\", \"Plain\"]),\n",
    "        \"bootstrap_type\": trial.suggest_categorical(\n",
    "            \"bootstrap_type\", [\"Bayesian\", \"Bernoulli\", \"MVS\"]\n",
    "        ),\n",
    "        \"used_ram_limit\": \"3gb\",\n",
    "        \"eval_metric\": \"MAPE\",\n",
    "        \"cat_features\": cats.to_list(),\n",
    "    }\n",
    "\n",
    "    if param[\"bootstrap_type\"] == \"Bayesian\":\n",
    "        param[\"bagging_temperature\"] = trial.suggest_float(\"bagging_temperature\", 0, 10)\n",
    "    elif param[\"bootstrap_type\"] == \"Bernoulli\":\n",
    "        param[\"subsample\"] = trial.suggest_float(\"subsample\", 0.1, 1, log=True)\n",
    "\n",
    "    gbm = cb.CatBoostRegressor(**param)\n",
    "\n",
    "    pruning_callback = CatBoostPruningCallback(trial, \"MAPE\")\n",
    "    gbm.fit(\n",
    "        train_x,\n",
    "        train_y,\n",
    "        eval_set=[(valid_x, valid_y)],\n",
    "        verbose=0,\n",
    "        early_stopping_rounds=300,\n",
    "        callbacks=[pruning_callback],\n",
    "    )\n",
    "\n",
    "    # evoke pruning manually.\n",
    "    pruning_callback.check_pruned()\n",
    "\n",
    "    \n",
    "    preds = gbm.predict(valid_x)\n",
    "    pred_labels = np.rint(preds)\n",
    "    mape = mean_absolute_percentage_error(valid_y, pred_labels)\n",
    "    return mape\n"
   ]
  },
  {
   "cell_type": "code",
   "execution_count": 28,
   "id": "60051f61",
   "metadata": {
    "execution": {
     "iopub.execute_input": "2025-01-07T17:38:10.472980Z",
     "iopub.status.busy": "2025-01-07T17:38:10.472648Z",
     "iopub.status.idle": "2025-01-07T17:49:20.173549Z",
     "shell.execute_reply": "2025-01-07T17:49:20.172284Z"
    },
    "papermill": {
     "duration": 669.721344,
     "end_time": "2025-01-07T17:49:20.184274",
     "exception": false,
     "start_time": "2025-01-07T17:38:10.462930",
     "status": "completed"
    },
    "tags": []
   },
   "outputs": [
    {
     "name": "stderr",
     "output_type": "stream",
     "text": [
      "<ipython-input-27-b11dbc01a29b>:27: ExperimentalWarning: CatBoostPruningCallback is experimental (supported from v3.0.0). The interface can change in the future.\n",
      "  pruning_callback = CatBoostPruningCallback(trial, \"MAPE\")\n",
      "<ipython-input-27-b11dbc01a29b>:27: ExperimentalWarning: CatBoostPruningCallback is experimental (supported from v3.0.0). The interface can change in the future.\n",
      "  pruning_callback = CatBoostPruningCallback(trial, \"MAPE\")\n",
      "<ipython-input-27-b11dbc01a29b>:27: ExperimentalWarning: CatBoostPruningCallback is experimental (supported from v3.0.0). The interface can change in the future.\n",
      "  pruning_callback = CatBoostPruningCallback(trial, \"MAPE\")\n",
      "<ipython-input-27-b11dbc01a29b>:27: ExperimentalWarning: CatBoostPruningCallback is experimental (supported from v3.0.0). The interface can change in the future.\n",
      "  pruning_callback = CatBoostPruningCallback(trial, \"MAPE\")\n",
      "<ipython-input-27-b11dbc01a29b>:27: ExperimentalWarning: CatBoostPruningCallback is experimental (supported from v3.0.0). The interface can change in the future.\n",
      "  pruning_callback = CatBoostPruningCallback(trial, \"MAPE\")\n",
      "<ipython-input-27-b11dbc01a29b>:27: ExperimentalWarning: CatBoostPruningCallback is experimental (supported from v3.0.0). The interface can change in the future.\n",
      "  pruning_callback = CatBoostPruningCallback(trial, \"MAPE\")\n",
      "<ipython-input-27-b11dbc01a29b>:27: ExperimentalWarning: CatBoostPruningCallback is experimental (supported from v3.0.0). The interface can change in the future.\n",
      "  pruning_callback = CatBoostPruningCallback(trial, \"MAPE\")\n",
      "<ipython-input-27-b11dbc01a29b>:27: ExperimentalWarning: CatBoostPruningCallback is experimental (supported from v3.0.0). The interface can change in the future.\n",
      "  pruning_callback = CatBoostPruningCallback(trial, \"MAPE\")\n",
      "<ipython-input-27-b11dbc01a29b>:27: ExperimentalWarning: CatBoostPruningCallback is experimental (supported from v3.0.0). The interface can change in the future.\n",
      "  pruning_callback = CatBoostPruningCallback(trial, \"MAPE\")\n",
      "<ipython-input-27-b11dbc01a29b>:27: ExperimentalWarning: CatBoostPruningCallback is experimental (supported from v3.0.0). The interface can change in the future.\n",
      "  pruning_callback = CatBoostPruningCallback(trial, \"MAPE\")\n",
      "<ipython-input-27-b11dbc01a29b>:27: ExperimentalWarning: CatBoostPruningCallback is experimental (supported from v3.0.0). The interface can change in the future.\n",
      "  pruning_callback = CatBoostPruningCallback(trial, \"MAPE\")\n",
      "<ipython-input-27-b11dbc01a29b>:27: ExperimentalWarning: CatBoostPruningCallback is experimental (supported from v3.0.0). The interface can change in the future.\n",
      "  pruning_callback = CatBoostPruningCallback(trial, \"MAPE\")\n",
      "<ipython-input-27-b11dbc01a29b>:27: ExperimentalWarning: CatBoostPruningCallback is experimental (supported from v3.0.0). The interface can change in the future.\n",
      "  pruning_callback = CatBoostPruningCallback(trial, \"MAPE\")\n",
      "<ipython-input-27-b11dbc01a29b>:27: ExperimentalWarning: CatBoostPruningCallback is experimental (supported from v3.0.0). The interface can change in the future.\n",
      "  pruning_callback = CatBoostPruningCallback(trial, \"MAPE\")\n"
     ]
    },
    {
     "name": "stdout",
     "output_type": "stream",
     "text": [
      "Number of finished trials: 14\n",
      "Best trial:\n",
      "  Value: 0.18456521417974459\n",
      "  Params: \n",
      "    iterations: 2601\n",
      "    objective: MAPE\n",
      "    colsample_bylevel: 0.1677400378127856\n",
      "    depth: 5\n",
      "    boosting_type: Plain\n",
      "    bootstrap_type: Bernoulli\n",
      "    subsample: 0.877049795307601\n"
     ]
    }
   ],
   "source": [
    "optuna.logging.set_verbosity(optuna.logging.CRITICAL)\n",
    "study = optuna.create_study(\n",
    "    pruner=optuna.pruners.MedianPruner(n_warmup_steps=5), direction=\"minimize\"\n",
    ")\n",
    "study.optimize(objective, n_trials=100, timeout=600)\n",
    "\n",
    "print(\"Number of finished trials: {}\".format(len(study.trials)))\n",
    "\n",
    "print(\"Best trial:\")\n",
    "trial = study.best_trial\n",
    "\n",
    "print(\"  Value: {}\".format(trial.value))\n",
    "\n",
    "print(\"  Params: \")\n",
    "for key, value in trial.params.items():\n",
    "    print(\"    {}: {}\".format(key, value))"
   ]
  },
  {
   "cell_type": "code",
   "execution_count": 29,
   "id": "caae4713",
   "metadata": {
    "execution": {
     "iopub.execute_input": "2025-01-07T17:49:20.204998Z",
     "iopub.status.busy": "2025-01-07T17:49:20.204599Z",
     "iopub.status.idle": "2025-01-07T17:49:20.212520Z",
     "shell.execute_reply": "2025-01-07T17:49:20.211304Z"
    },
    "papermill": {
     "duration": 0.020058,
     "end_time": "2025-01-07T17:49:20.214057",
     "exception": false,
     "start_time": "2025-01-07T17:49:20.193999",
     "status": "completed"
    },
    "tags": []
   },
   "outputs": [
    {
     "name": "stdout",
     "output_type": "stream",
     "text": [
      "{'iterations': 2601, 'objective': 'MAPE', 'colsample_bylevel': 0.1677400378127856, 'depth': 5, 'boosting_type': 'Plain', 'bootstrap_type': 'Bernoulli', 'subsample': 0.877049795307601}\n"
     ]
    }
   ],
   "source": [
    "print(study.best_params)"
   ]
  },
  {
   "cell_type": "code",
   "execution_count": 30,
   "id": "029e0acc",
   "metadata": {
    "execution": {
     "iopub.execute_input": "2025-01-07T17:49:20.234985Z",
     "iopub.status.busy": "2025-01-07T17:49:20.234539Z",
     "iopub.status.idle": "2025-01-07T17:49:20.252497Z",
     "shell.execute_reply": "2025-01-07T17:49:20.251301Z"
    },
    "papermill": {
     "duration": 0.030514,
     "end_time": "2025-01-07T17:49:20.254394",
     "exception": false,
     "start_time": "2025-01-07T17:49:20.223880",
     "status": "completed"
    },
    "tags": []
   },
   "outputs": [],
   "source": [
    "from catboost import Pool,cv\n",
    "cats=df_train.select_dtypes('category').columns\n",
    "features=df_train.drop(['id','num_sold','date'],axis=1).columns\n",
    "train_pool = Pool(data=df_train.drop(['id','num_sold','date'],axis=1),\n",
    "             label=df_train['num_sold'],\n",
    "             cat_features=cats.to_list())"
   ]
  },
  {
   "cell_type": "code",
   "execution_count": 31,
   "id": "18cfd645",
   "metadata": {
    "execution": {
     "iopub.execute_input": "2025-01-07T17:49:20.276118Z",
     "iopub.status.busy": "2025-01-07T17:49:20.275791Z",
     "iopub.status.idle": "2025-01-07T17:49:20.279721Z",
     "shell.execute_reply": "2025-01-07T17:49:20.278772Z"
    },
    "papermill": {
     "duration": 0.016628,
     "end_time": "2025-01-07T17:49:20.281360",
     "exception": false,
     "start_time": "2025-01-07T17:49:20.264732",
     "status": "completed"
    },
    "tags": []
   },
   "outputs": [],
   "source": [
    "# from catboost import Pool,cv\n",
    "\n",
    "#              #feature_names=features)\n",
    "\n",
    "\n",
    "# # params = {\"iterations\": 1000,\n",
    "# #           \"depth\": 4,\n",
    "# #           \"loss_function\": \"MAPE\",\n",
    "# #           \"verbose\": False}\n",
    "\n",
    "# scores = cv(train_pool,\n",
    "#             study.best_params,\n",
    "#            fold_count=5,\n",
    "#             verbose=0,\n",
    "#            )\n",
    "\n",
    "# print(scores)"
   ]
  },
  {
   "cell_type": "code",
   "execution_count": 32,
   "id": "ba6a5beb",
   "metadata": {
    "execution": {
     "iopub.execute_input": "2025-01-07T17:49:20.302979Z",
     "iopub.status.busy": "2025-01-07T17:49:20.302623Z",
     "iopub.status.idle": "2025-01-07T17:49:20.306236Z",
     "shell.execute_reply": "2025-01-07T17:49:20.305302Z"
    },
    "papermill": {
     "duration": 0.015955,
     "end_time": "2025-01-07T17:49:20.307743",
     "exception": false,
     "start_time": "2025-01-07T17:49:20.291788",
     "status": "completed"
    },
    "tags": []
   },
   "outputs": [],
   "source": [
    "#print(scores)"
   ]
  },
  {
   "cell_type": "code",
   "execution_count": 33,
   "id": "f008053f",
   "metadata": {
    "execution": {
     "iopub.execute_input": "2025-01-07T17:49:20.329110Z",
     "iopub.status.busy": "2025-01-07T17:49:20.328708Z",
     "iopub.status.idle": "2025-01-07T17:49:20.879254Z",
     "shell.execute_reply": "2025-01-07T17:49:20.878250Z"
    },
    "papermill": {
     "duration": 0.56322,
     "end_time": "2025-01-07T17:49:20.881122",
     "exception": false,
     "start_time": "2025-01-07T17:49:20.317902",
     "status": "completed"
    },
    "tags": []
   },
   "outputs": [],
   "source": [
    "hyperdict=optuna.importance.get_param_importances(study)"
   ]
  },
  {
   "cell_type": "code",
   "execution_count": 34,
   "id": "1b961918",
   "metadata": {
    "execution": {
     "iopub.execute_input": "2025-01-07T17:49:20.902701Z",
     "iopub.status.busy": "2025-01-07T17:49:20.902263Z",
     "iopub.status.idle": "2025-01-07T17:49:20.907782Z",
     "shell.execute_reply": "2025-01-07T17:49:20.906724Z"
    },
    "papermill": {
     "duration": 0.018009,
     "end_time": "2025-01-07T17:49:20.909349",
     "exception": false,
     "start_time": "2025-01-07T17:49:20.891340",
     "status": "completed"
    },
    "tags": []
   },
   "outputs": [
    {
     "name": "stdout",
     "output_type": "stream",
     "text": [
      "{'iterations': 0.30913601405101415, 'depth': 0.29998933995803334, 'colsample_bylevel': 0.15611466826287304, 'bootstrap_type': 0.12657157452387985, 'boosting_type': 0.10818840320419962, 'objective': 0.0}\n"
     ]
    }
   ],
   "source": [
    "print(hyperdict)"
   ]
  },
  {
   "cell_type": "code",
   "execution_count": 35,
   "id": "ca70a08a",
   "metadata": {
    "execution": {
     "iopub.execute_input": "2025-01-07T17:49:20.931154Z",
     "iopub.status.busy": "2025-01-07T17:49:20.930766Z",
     "iopub.status.idle": "2025-01-07T17:51:14.489369Z",
     "shell.execute_reply": "2025-01-07T17:51:14.488267Z"
    },
    "papermill": {
     "duration": 113.581526,
     "end_time": "2025-01-07T17:51:14.501161",
     "exception": false,
     "start_time": "2025-01-07T17:49:20.919635",
     "status": "completed"
    },
    "tags": []
   },
   "outputs": [
    {
     "data": {
      "text/plain": [
       "<catboost.core.CatBoostRegressor at 0x782c84234970>"
      ]
     },
     "execution_count": 35,
     "metadata": {},
     "output_type": "execute_result"
    }
   ],
   "source": [
    "#Train model with best param and iteration>1000 before prediction\n",
    "model=cb.CatBoostRegressor(**study.best_params,verbose=0)\n",
    "model.fit(train_pool)"
   ]
  },
  {
   "cell_type": "code",
   "execution_count": 36,
   "id": "b559324a",
   "metadata": {
    "execution": {
     "iopub.execute_input": "2025-01-07T17:51:14.522959Z",
     "iopub.status.busy": "2025-01-07T17:51:14.522628Z",
     "iopub.status.idle": "2025-01-07T17:51:14.526910Z",
     "shell.execute_reply": "2025-01-07T17:51:14.525996Z"
    },
    "papermill": {
     "duration": 0.017186,
     "end_time": "2025-01-07T17:51:14.528619",
     "exception": false,
     "start_time": "2025-01-07T17:51:14.511433",
     "status": "completed"
    },
    "tags": []
   },
   "outputs": [],
   "source": [
    "#model.is_fitted()"
   ]
  },
  {
   "cell_type": "code",
   "execution_count": 37,
   "id": "771eb4ab",
   "metadata": {
    "execution": {
     "iopub.execute_input": "2025-01-07T17:51:14.552236Z",
     "iopub.status.busy": "2025-01-07T17:51:14.551837Z",
     "iopub.status.idle": "2025-01-07T17:51:14.555549Z",
     "shell.execute_reply": "2025-01-07T17:51:14.554651Z"
    },
    "papermill": {
     "duration": 0.017448,
     "end_time": "2025-01-07T17:51:14.557242",
     "exception": false,
     "start_time": "2025-01-07T17:51:14.539794",
     "status": "completed"
    },
    "tags": []
   },
   "outputs": [],
   "source": [
    "#df_test.info()"
   ]
  },
  {
   "cell_type": "code",
   "execution_count": 38,
   "id": "908ab4f2",
   "metadata": {
    "execution": {
     "iopub.execute_input": "2025-01-07T17:51:14.580803Z",
     "iopub.status.busy": "2025-01-07T17:51:14.580398Z",
     "iopub.status.idle": "2025-01-07T17:51:14.768655Z",
     "shell.execute_reply": "2025-01-07T17:51:14.767642Z"
    },
    "papermill": {
     "duration": 0.202104,
     "end_time": "2025-01-07T17:51:14.770559",
     "exception": false,
     "start_time": "2025-01-07T17:51:14.568455",
     "status": "completed"
    },
    "tags": []
   },
   "outputs": [],
   "source": [
    "predicts = model.predict(df_test.drop(['id','date'],axis=1))"
   ]
  },
  {
   "cell_type": "code",
   "execution_count": 39,
   "id": "ee807a30",
   "metadata": {
    "execution": {
     "iopub.execute_input": "2025-01-07T17:51:14.793279Z",
     "iopub.status.busy": "2025-01-07T17:51:14.792893Z",
     "iopub.status.idle": "2025-01-07T17:51:14.995968Z",
     "shell.execute_reply": "2025-01-07T17:51:14.994832Z"
    },
    "papermill": {
     "duration": 0.216505,
     "end_time": "2025-01-07T17:51:14.998011",
     "exception": false,
     "start_time": "2025-01-07T17:51:14.781506",
     "status": "completed"
    },
    "tags": []
   },
   "outputs": [],
   "source": [
    "pd.concat([df_test['id'],pd.DataFrame(predicts,columns=['num_sold'])],axis=1).reset_index(drop=True).to_csv('submission_impute_interpolate_mode5.csv',index=False)"
   ]
  },
  {
   "cell_type": "code",
   "execution_count": null,
   "id": "3e5150e3",
   "metadata": {
    "papermill": {
     "duration": 0.010285,
     "end_time": "2025-01-07T17:51:15.019165",
     "exception": false,
     "start_time": "2025-01-07T17:51:15.008880",
     "status": "completed"
    },
    "tags": []
   },
   "outputs": [],
   "source": []
  }
 ],
 "metadata": {
  "kaggle": {
   "accelerator": "none",
   "dataSources": [
    {
     "databundleVersionId": 10652996,
     "sourceId": 85723,
     "sourceType": "competition"
    }
   ],
   "dockerImageVersionId": 30822,
   "isGpuEnabled": false,
   "isInternetEnabled": true,
   "language": "python",
   "sourceType": "notebook"
  },
  "kernelspec": {
   "display_name": "Python 3",
   "language": "python",
   "name": "python3"
  },
  "language_info": {
   "codemirror_mode": {
    "name": "ipython",
    "version": 3
   },
   "file_extension": ".py",
   "mimetype": "text/x-python",
   "name": "python",
   "nbconvert_exporter": "python",
   "pygments_lexer": "ipython3",
   "version": "3.10.12"
  },
  "papermill": {
   "default_parameters": {},
   "duration": 802.810502,
   "end_time": "2025-01-07T17:51:15.952402",
   "environment_variables": {},
   "exception": null,
   "input_path": "__notebook__.ipynb",
   "output_path": "__notebook__.ipynb",
   "parameters": {},
   "start_time": "2025-01-07T17:37:53.141900",
   "version": "2.6.0"
  }
 },
 "nbformat": 4,
 "nbformat_minor": 5
}
