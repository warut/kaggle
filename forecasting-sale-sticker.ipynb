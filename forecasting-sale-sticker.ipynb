{
 "cells": [
  {
   "cell_type": "code",
   "execution_count": 1,
   "id": "63f7741c",
   "metadata": {
    "_cell_guid": "b1076dfc-b9ad-4769-8c92-a6c4dae69d19",
    "_uuid": "8f2839f25d086af736a60e9eeb907d3b93b6e0e5",
    "execution": {
     "iopub.execute_input": "2025-01-15T18:37:53.937038Z",
     "iopub.status.busy": "2025-01-15T18:37:53.936614Z",
     "iopub.status.idle": "2025-01-15T18:37:54.964016Z",
     "shell.execute_reply": "2025-01-15T18:37:54.962915Z"
    },
    "papermill": {
     "duration": 1.043686,
     "end_time": "2025-01-15T18:37:54.965594",
     "exception": false,
     "start_time": "2025-01-15T18:37:53.921908",
     "status": "completed"
    },
    "tags": []
   },
   "outputs": [
    {
     "name": "stdout",
     "output_type": "stream",
     "text": [
      "/kaggle/input/playground-series-s5e1/sample_submission.csv\n",
      "/kaggle/input/playground-series-s5e1/train.csv\n",
      "/kaggle/input/playground-series-s5e1/test.csv\n",
      "/kaggle/input/cbfitmodels/cbfit_Singapore\n",
      "/kaggle/input/cbfitmodels/cbfit_Italy\n",
      "/kaggle/input/cbfitmodels/cbfit_Finland\n",
      "/kaggle/input/cbfitmodels/cbfit_Canada\n",
      "/kaggle/input/cbfitmodels/cbfit_Norway\n",
      "/kaggle/input/cbfitmodels/cbfit_Kenya\n",
      "/kaggle/input/cbfitmodels/__results___files/__results___9_0.png\n",
      "/kaggle/input/cbfitmodels/__results___files/__results___64_1.png\n",
      "/kaggle/input/cbfitmodels/__results___files/__results___13_0.png\n",
      "/kaggle/input/cbfitmodels/catboost_info/test_error.tsv\n",
      "/kaggle/input/cbfitmodels/catboost_info/learn_error.tsv\n",
      "/kaggle/input/cbfitmodels/catboost_info/catboost_training.json\n",
      "/kaggle/input/cbfitmodels/catboost_info/time_left.tsv\n",
      "/kaggle/input/cbfitmodels/catboost_info/learn/events.out.tfevents\n",
      "/kaggle/input/cbfitmodels/catboost_info/test/events.out.tfevents\n"
     ]
    }
   ],
   "source": [
    "# This Python 3 environment comes with many helpful analytics libraries installed\n",
    "# It is defined by the kaggle/python Docker image: https://github.com/kaggle/docker-python\n",
    "# For example, here's several helpful packages to load\n",
    "\n",
    "import numpy as np # linear algebra\n",
    "import pandas as pd # data processing, CSV file I/O (e.g. pd.read_csv)\n",
    "\n",
    "# Input data files are available in the read-only \"../input/\" directory\n",
    "# For example, running this (by clicking run or pressing Shift+Enter) will list all files under the input directory\n",
    "\n",
    "import os\n",
    "for dirname, _, filenames in os.walk('/kaggle/input'):\n",
    "    for filename in filenames:\n",
    "        print(os.path.join(dirname, filename))\n",
    "\n",
    "# You can write up to 20GB to the current directory (/kaggle/working/) that gets preserved as output when you create a version using \"Save & Run All\" \n",
    "# You can also write temporary files to /kaggle/temp/, but they won't be saved outside of the current session"
   ]
  },
  {
   "cell_type": "code",
   "execution_count": 2,
   "id": "82c37064",
   "metadata": {
    "execution": {
     "iopub.execute_input": "2025-01-15T18:37:54.992640Z",
     "iopub.status.busy": "2025-01-15T18:37:54.992206Z",
     "iopub.status.idle": "2025-01-15T18:37:56.549860Z",
     "shell.execute_reply": "2025-01-15T18:37:56.548970Z"
    },
    "papermill": {
     "duration": 1.572851,
     "end_time": "2025-01-15T18:37:56.551572",
     "exception": false,
     "start_time": "2025-01-15T18:37:54.978721",
     "status": "completed"
    },
    "tags": []
   },
   "outputs": [],
   "source": [
    "import pandas as pd\n",
    "import numpy as np\n",
    "from sklearn.preprocessing import SplineTransformer\n",
    "\n",
    "\n",
    "def periodic_spline_transformer(period, n_splines=None, degree=3):\n",
    "    if n_splines is None:\n",
    "        n_splines = period\n",
    "    n_knots = n_splines + 1  # periodic and include_bias is True\n",
    "    return SplineTransformer(\n",
    "        degree=degree,\n",
    "        n_knots=n_knots,\n",
    "        knots=np.linspace(0, period, n_knots).reshape(n_knots, 1),\n",
    "        extrapolation=\"periodic\",\n",
    "        include_bias=True,\n",
    "    )\n",
    "\n",
    "# Sample quarterly data\n",
    "# data = {'quarter': [1, 2, 3, 4, 1, 2, 3, 4, 1, 2, 3, 4],\n",
    "#         'value': [10, 15, 12, 18, 11, 16, 13, 19, 12, 17, 14, 20]}\n",
    "# df = pd.DataFrame(data)\n",
    "\n",
    "# # Create periodic spline transformer\n",
    "# qt = periodic_spline_transformer(12, 4)\n",
    "\n",
    "# # Transform the 'quarter' feature\n",
    "# quarter = qt.fit_transform(df_train[['Month']])[:,0]\n",
    "\n",
    "# # Add transformed features to DataFrame\n",
    "# print(quarter)"
   ]
  },
  {
   "cell_type": "code",
   "execution_count": 3,
   "id": "59baf27f",
   "metadata": {
    "execution": {
     "iopub.execute_input": "2025-01-15T18:37:56.579758Z",
     "iopub.status.busy": "2025-01-15T18:37:56.579274Z",
     "iopub.status.idle": "2025-01-15T18:37:56.583291Z",
     "shell.execute_reply": "2025-01-15T18:37:56.582330Z"
    },
    "papermill": {
     "duration": 0.019609,
     "end_time": "2025-01-15T18:37:56.584812",
     "exception": false,
     "start_time": "2025-01-15T18:37:56.565203",
     "status": "completed"
    },
    "tags": []
   },
   "outputs": [],
   "source": [
    "check_pg=[]"
   ]
  },
  {
   "cell_type": "code",
   "execution_count": 4,
   "id": "226b839b",
   "metadata": {
    "execution": {
     "iopub.execute_input": "2025-01-15T18:37:56.612136Z",
     "iopub.status.busy": "2025-01-15T18:37:56.611709Z",
     "iopub.status.idle": "2025-01-15T18:37:56.618998Z",
     "shell.execute_reply": "2025-01-15T18:37:56.617950Z"
    },
    "papermill": {
     "duration": 0.022726,
     "end_time": "2025-01-15T18:37:56.620804",
     "exception": false,
     "start_time": "2025-01-15T18:37:56.598078",
     "status": "completed"
    },
    "tags": []
   },
   "outputs": [],
   "source": [
    "def plot_periodogram(ts, detrend='linear', ax=None):\n",
    "    from scipy.signal import periodogram\n",
    "    fs = pd.Timedelta(\"365D\") / pd.Timedelta(\"1D\")\n",
    "    freqencies, spectrum = periodogram(\n",
    "        ts,\n",
    "        fs=fs,\n",
    "        detrend=detrend,\n",
    "        window=\"boxcar\",\n",
    "        scaling='spectrum',\n",
    "    )\n",
    "    check_pg.append(freqencies)\n",
    "    check_pg.append(spectrum)\n",
    "    if ax is None:\n",
    "        _, ax = plt.subplots()\n",
    "    ax.step(freqencies, spectrum, color=\"purple\")\n",
    "    ax.set_xscale(\"log\")\n",
    "    ax.set_xticks([1, 2, 4, 6, 12, 26, 52, 104])\n",
    "    ax.set_xticklabels(\n",
    "        [\n",
    "            \"Annual (1)\",\n",
    "            \"Semiannual (2)\",\n",
    "            \"Quarterly (4)\",\n",
    "            \"Bimonthly (6)\",\n",
    "            \"Monthly (12)\",\n",
    "            \"Biweekly (26)\",\n",
    "            \"Weekly (52)\",\n",
    "            \"Semiweekly (104)\",\n",
    "        ],\n",
    "        rotation=30,\n",
    "    )\n",
    "    ax.ticklabel_format(axis=\"y\", style=\"sci\", scilimits=(0, 0))\n",
    "    ax.set_ylabel(\"Variance\")\n",
    "    ax.set_title(\"Periodogram\")\n",
    "    plt.savefig('pg.png')\n",
    "    return ax"
   ]
  },
  {
   "cell_type": "code",
   "execution_count": 5,
   "id": "b64befc0",
   "metadata": {
    "execution": {
     "iopub.execute_input": "2025-01-15T18:37:56.648040Z",
     "iopub.status.busy": "2025-01-15T18:37:56.647640Z",
     "iopub.status.idle": "2025-01-15T18:38:09.452184Z",
     "shell.execute_reply": "2025-01-15T18:38:09.451116Z"
    },
    "papermill": {
     "duration": 12.820244,
     "end_time": "2025-01-15T18:38:09.454133",
     "exception": false,
     "start_time": "2025-01-15T18:37:56.633889",
     "status": "completed"
    },
    "tags": []
   },
   "outputs": [
    {
     "name": "stdout",
     "output_type": "stream",
     "text": [
      "Collecting optuna-integration[catboost]\r\n",
      "  Downloading optuna_integration-4.1.0-py3-none-any.whl.metadata (12 kB)\r\n",
      "Requirement already satisfied: optuna in /usr/local/lib/python3.10/dist-packages (from optuna-integration[catboost]) (4.1.0)\r\n",
      "Requirement already satisfied: numpy<2.0.0 in /usr/local/lib/python3.10/dist-packages (from optuna-integration[catboost]) (1.26.4)\r\n",
      "Requirement already satisfied: catboost in /usr/local/lib/python3.10/dist-packages (from optuna-integration[catboost]) (1.2.7)\r\n",
      "Requirement already satisfied: graphviz in /usr/local/lib/python3.10/dist-packages (from catboost->optuna-integration[catboost]) (0.20.3)\r\n",
      "Requirement already satisfied: matplotlib in /usr/local/lib/python3.10/dist-packages (from catboost->optuna-integration[catboost]) (3.7.1)\r\n",
      "Requirement already satisfied: pandas>=0.24 in /usr/local/lib/python3.10/dist-packages (from catboost->optuna-integration[catboost]) (2.1.4)\r\n",
      "Requirement already satisfied: scipy in /usr/local/lib/python3.10/dist-packages (from catboost->optuna-integration[catboost]) (1.13.1)\r\n",
      "Requirement already satisfied: plotly in /usr/local/lib/python3.10/dist-packages (from catboost->optuna-integration[catboost]) (5.24.1)\r\n",
      "Requirement already satisfied: six in /usr/local/lib/python3.10/dist-packages (from catboost->optuna-integration[catboost]) (1.16.0)\r\n",
      "Requirement already satisfied: alembic>=1.5.0 in /usr/local/lib/python3.10/dist-packages (from optuna->optuna-integration[catboost]) (1.14.0)\r\n",
      "Requirement already satisfied: colorlog in /usr/local/lib/python3.10/dist-packages (from optuna->optuna-integration[catboost]) (6.9.0)\r\n",
      "Requirement already satisfied: packaging>=20.0 in /usr/local/lib/python3.10/dist-packages (from optuna->optuna-integration[catboost]) (24.1)\r\n",
      "Requirement already satisfied: sqlalchemy>=1.4.2 in /usr/local/lib/python3.10/dist-packages (from optuna->optuna-integration[catboost]) (2.0.35)\r\n",
      "Requirement already satisfied: tqdm in /usr/local/lib/python3.10/dist-packages (from optuna->optuna-integration[catboost]) (4.66.5)\r\n",
      "Requirement already satisfied: PyYAML in /usr/local/lib/python3.10/dist-packages (from optuna->optuna-integration[catboost]) (6.0.2)\r\n",
      "Requirement already satisfied: Mako in /usr/local/lib/python3.10/dist-packages (from alembic>=1.5.0->optuna->optuna-integration[catboost]) (1.3.8)\r\n",
      "Requirement already satisfied: typing-extensions>=4 in /usr/local/lib/python3.10/dist-packages (from alembic>=1.5.0->optuna->optuna-integration[catboost]) (4.12.2)\r\n",
      "Requirement already satisfied: python-dateutil>=2.8.2 in /usr/local/lib/python3.10/dist-packages (from pandas>=0.24->catboost->optuna-integration[catboost]) (2.8.2)\r\n",
      "Requirement already satisfied: pytz>=2020.1 in /usr/local/lib/python3.10/dist-packages (from pandas>=0.24->catboost->optuna-integration[catboost]) (2024.2)\r\n",
      "Requirement already satisfied: tzdata>=2022.1 in /usr/local/lib/python3.10/dist-packages (from pandas>=0.24->catboost->optuna-integration[catboost]) (2024.1)\r\n",
      "Requirement already satisfied: greenlet!=0.4.17 in /usr/local/lib/python3.10/dist-packages (from sqlalchemy>=1.4.2->optuna->optuna-integration[catboost]) (3.1.0)\r\n",
      "Requirement already satisfied: contourpy>=1.0.1 in /usr/local/lib/python3.10/dist-packages (from matplotlib->catboost->optuna-integration[catboost]) (1.3.0)\r\n",
      "Requirement already satisfied: cycler>=0.10 in /usr/local/lib/python3.10/dist-packages (from matplotlib->catboost->optuna-integration[catboost]) (0.12.1)\r\n",
      "Requirement already satisfied: fonttools>=4.22.0 in /usr/local/lib/python3.10/dist-packages (from matplotlib->catboost->optuna-integration[catboost]) (4.53.1)\r\n",
      "Requirement already satisfied: kiwisolver>=1.0.1 in /usr/local/lib/python3.10/dist-packages (from matplotlib->catboost->optuna-integration[catboost]) (1.4.7)\r\n",
      "Requirement already satisfied: pillow>=6.2.0 in /usr/local/lib/python3.10/dist-packages (from matplotlib->catboost->optuna-integration[catboost]) (10.4.0)\r\n",
      "Requirement already satisfied: pyparsing>=2.3.1 in /usr/local/lib/python3.10/dist-packages (from matplotlib->catboost->optuna-integration[catboost]) (3.1.4)\r\n",
      "Requirement already satisfied: tenacity>=6.2.0 in /usr/local/lib/python3.10/dist-packages (from plotly->catboost->optuna-integration[catboost]) (9.0.0)\r\n",
      "Requirement already satisfied: MarkupSafe>=0.9.2 in /usr/local/lib/python3.10/dist-packages (from Mako->alembic>=1.5.0->optuna->optuna-integration[catboost]) (2.1.5)\r\n",
      "Downloading optuna_integration-4.1.0-py3-none-any.whl (97 kB)\r\n",
      "\u001b[2K   \u001b[90m━━━━━━━━━━━━━━━━━━━━━━━━━━━━━━━━━━━━━━━━\u001b[0m \u001b[32m97.4/97.4 kB\u001b[0m \u001b[31m4.1 MB/s\u001b[0m eta \u001b[36m0:00:00\u001b[0m\r\n",
      "\u001b[?25hInstalling collected packages: optuna-integration\r\n",
      "Successfully installed optuna-integration-4.1.0\r\n",
      "Requirement already satisfied: holidays in /usr/local/lib/python3.10/dist-packages (0.57)\r\n",
      "Collecting holidays\r\n",
      "  Downloading holidays-0.64-py3-none-any.whl.metadata (26 kB)\r\n",
      "Requirement already satisfied: python-dateutil in /usr/local/lib/python3.10/dist-packages (from holidays) (2.8.2)\r\n",
      "Requirement already satisfied: six>=1.5 in /usr/local/lib/python3.10/dist-packages (from python-dateutil->holidays) (1.16.0)\r\n",
      "Downloading holidays-0.64-py3-none-any.whl (1.2 MB)\r\n",
      "\u001b[2K   \u001b[90m━━━━━━━━━━━━━━━━━━━━━━━━━━━━━━━━━━━━━━━━\u001b[0m \u001b[32m1.2/1.2 MB\u001b[0m \u001b[31m27.3 MB/s\u001b[0m eta \u001b[36m0:00:00\u001b[0m\r\n",
      "\u001b[?25hInstalling collected packages: holidays\r\n",
      "  Attempting uninstall: holidays\r\n",
      "    Found existing installation: holidays 0.57\r\n",
      "    Uninstalling holidays-0.57:\r\n",
      "      Successfully uninstalled holidays-0.57\r\n",
      "Successfully installed holidays-0.64\r\n"
     ]
    }
   ],
   "source": [
    "!pip install optuna-integration[catboost]\n",
    "!pip install -U holidays"
   ]
  },
  {
   "cell_type": "code",
   "execution_count": 6,
   "id": "ff630442",
   "metadata": {
    "execution": {
     "iopub.execute_input": "2025-01-15T18:38:09.483971Z",
     "iopub.status.busy": "2025-01-15T18:38:09.483567Z",
     "iopub.status.idle": "2025-01-15T18:38:14.036467Z",
     "shell.execute_reply": "2025-01-15T18:38:14.035194Z"
    },
    "papermill": {
     "duration": 4.570166,
     "end_time": "2025-01-15T18:38:14.038395",
     "exception": false,
     "start_time": "2025-01-15T18:38:09.468229",
     "status": "completed"
    },
    "tags": []
   },
   "outputs": [
    {
     "name": "stdout",
     "output_type": "stream",
     "text": [
      "Collecting pycountry\r\n",
      "  Downloading pycountry-24.6.1-py3-none-any.whl.metadata (12 kB)\r\n",
      "Downloading pycountry-24.6.1-py3-none-any.whl (6.3 MB)\r\n",
      "\u001b[2K   \u001b[90m━━━━━━━━━━━━━━━━━━━━━━━━━━━━━━━━━━━━━━━━\u001b[0m \u001b[32m6.3/6.3 MB\u001b[0m \u001b[31m67.2 MB/s\u001b[0m eta \u001b[36m0:00:00\u001b[0m\r\n",
      "\u001b[?25hInstalling collected packages: pycountry\r\n",
      "Successfully installed pycountry-24.6.1\r\n"
     ]
    }
   ],
   "source": [
    "!pip install -U pycountry"
   ]
  },
  {
   "cell_type": "code",
   "execution_count": 7,
   "id": "3220839c",
   "metadata": {
    "execution": {
     "iopub.execute_input": "2025-01-15T18:38:14.068480Z",
     "iopub.status.busy": "2025-01-15T18:38:14.068141Z",
     "iopub.status.idle": "2025-01-15T18:38:14.128612Z",
     "shell.execute_reply": "2025-01-15T18:38:14.127662Z"
    },
    "papermill": {
     "duration": 0.077278,
     "end_time": "2025-01-15T18:38:14.130389",
     "exception": false,
     "start_time": "2025-01-15T18:38:14.053111",
     "status": "completed"
    },
    "tags": []
   },
   "outputs": [],
   "source": [
    "import statsmodels"
   ]
  },
  {
   "cell_type": "code",
   "execution_count": 8,
   "id": "d2bdb697",
   "metadata": {
    "execution": {
     "iopub.execute_input": "2025-01-15T18:38:14.160338Z",
     "iopub.status.busy": "2025-01-15T18:38:14.159986Z",
     "iopub.status.idle": "2025-01-15T18:38:15.614106Z",
     "shell.execute_reply": "2025-01-15T18:38:15.613005Z"
    },
    "papermill": {
     "duration": 1.471181,
     "end_time": "2025-01-15T18:38:15.616115",
     "exception": false,
     "start_time": "2025-01-15T18:38:14.144934",
     "status": "completed"
    },
    "tags": []
   },
   "outputs": [],
   "source": [
    "import pandas as pd\n",
    "import numpy as np\n",
    "import optuna\n",
    "import catboost as cb\n",
    "import matplotlib\n",
    "import seaborn as sns\n",
    "from sklearn.metrics import mean_absolute_percentage_error\n",
    "from sklearn.model_selection import train_test_split\n",
    "from optuna.integration import CatBoostPruningCallback\n",
    "import pycountry \n",
    "import holidays\n",
    "\n",
    "\n"
   ]
  },
  {
   "cell_type": "code",
   "execution_count": 9,
   "id": "c3df00d4",
   "metadata": {
    "execution": {
     "iopub.execute_input": "2025-01-15T18:38:15.645604Z",
     "iopub.status.busy": "2025-01-15T18:38:15.645133Z",
     "iopub.status.idle": "2025-01-15T18:38:16.119859Z",
     "shell.execute_reply": "2025-01-15T18:38:16.118938Z"
    },
    "papermill": {
     "duration": 0.491519,
     "end_time": "2025-01-15T18:38:16.121962",
     "exception": false,
     "start_time": "2025-01-15T18:38:15.630443",
     "status": "completed"
    },
    "tags": []
   },
   "outputs": [],
   "source": [
    "df_train=pd.read_csv('/kaggle/input/playground-series-s5e1/train.csv')\n",
    "df_test=pd.read_csv('/kaggle/input/playground-series-s5e1/test.csv')\n",
    "\n"
   ]
  },
  {
   "cell_type": "code",
   "execution_count": 10,
   "id": "0f24ed5e",
   "metadata": {
    "execution": {
     "iopub.execute_input": "2025-01-15T18:38:16.152223Z",
     "iopub.status.busy": "2025-01-15T18:38:16.151801Z",
     "iopub.status.idle": "2025-01-15T18:38:16.232638Z",
     "shell.execute_reply": "2025-01-15T18:38:16.231426Z"
    },
    "papermill": {
     "duration": 0.097952,
     "end_time": "2025-01-15T18:38:16.234306",
     "exception": false,
     "start_time": "2025-01-15T18:38:16.136354",
     "status": "completed"
    },
    "tags": []
   },
   "outputs": [
    {
     "name": "stdout",
     "output_type": "stream",
     "text": [
      "<class 'pandas.core.frame.DataFrame'>\n",
      "RangeIndex: 230130 entries, 0 to 230129\n",
      "Data columns (total 6 columns):\n",
      " #   Column    Non-Null Count   Dtype  \n",
      "---  ------    --------------   -----  \n",
      " 0   id        230130 non-null  int64  \n",
      " 1   date      230130 non-null  object \n",
      " 2   country   230130 non-null  object \n",
      " 3   store     230130 non-null  object \n",
      " 4   product   230130 non-null  object \n",
      " 5   num_sold  221259 non-null  float64\n",
      "dtypes: float64(1), int64(1), object(4)\n",
      "memory usage: 10.5+ MB\n"
     ]
    }
   ],
   "source": [
    "df_train.info()"
   ]
  },
  {
   "cell_type": "code",
   "execution_count": 11,
   "id": "ef9114cd",
   "metadata": {
    "execution": {
     "iopub.execute_input": "2025-01-15T18:38:16.266015Z",
     "iopub.status.busy": "2025-01-15T18:38:16.265598Z",
     "iopub.status.idle": "2025-01-15T18:38:16.288098Z",
     "shell.execute_reply": "2025-01-15T18:38:16.286784Z"
    },
    "papermill": {
     "duration": 0.042245,
     "end_time": "2025-01-15T18:38:16.290646",
     "exception": false,
     "start_time": "2025-01-15T18:38:16.248401",
     "status": "completed"
    },
    "tags": []
   },
   "outputs": [
    {
     "data": {
      "text/plain": [
       "array(['Discount Stickers', 'Stickers for Less', 'Premium Sticker Mart'],\n",
       "      dtype=object)"
      ]
     },
     "execution_count": 11,
     "metadata": {},
     "output_type": "execute_result"
    }
   ],
   "source": [
    "df_train['store'].unique()"
   ]
  },
  {
   "cell_type": "code",
   "execution_count": 12,
   "id": "b0a24f19",
   "metadata": {
    "execution": {
     "iopub.execute_input": "2025-01-15T18:38:16.339735Z",
     "iopub.status.busy": "2025-01-15T18:38:16.339176Z",
     "iopub.status.idle": "2025-01-15T18:38:16.379364Z",
     "shell.execute_reply": "2025-01-15T18:38:16.378328Z"
    },
    "papermill": {
     "duration": 0.068416,
     "end_time": "2025-01-15T18:38:16.380988",
     "exception": false,
     "start_time": "2025-01-15T18:38:16.312572",
     "status": "completed"
    },
    "tags": []
   },
   "outputs": [
    {
     "data": {
      "text/plain": [
       "array(['Discount Stickers', 'Stickers for Less', 'Premium Sticker Mart'],\n",
       "      dtype=object)"
      ]
     },
     "execution_count": 12,
     "metadata": {},
     "output_type": "execute_result"
    }
   ],
   "source": [
    "df_train[df_train['country']=='Kenya']['store'].unique()"
   ]
  },
  {
   "cell_type": "code",
   "execution_count": 13,
   "id": "e6d7cc19",
   "metadata": {
    "execution": {
     "iopub.execute_input": "2025-01-15T18:38:16.411618Z",
     "iopub.status.busy": "2025-01-15T18:38:16.411272Z",
     "iopub.status.idle": "2025-01-15T18:38:16.428425Z",
     "shell.execute_reply": "2025-01-15T18:38:16.427468Z"
    },
    "papermill": {
     "duration": 0.034,
     "end_time": "2025-01-15T18:38:16.430066",
     "exception": false,
     "start_time": "2025-01-15T18:38:16.396066",
     "status": "completed"
    },
    "tags": []
   },
   "outputs": [
    {
     "data": {
      "text/plain": [
       "array(['Holographic Goose', 'Kaggle', 'Kaggle Tiers', 'Kerneler',\n",
       "       'Kerneler Dark Mode'], dtype=object)"
      ]
     },
     "execution_count": 13,
     "metadata": {},
     "output_type": "execute_result"
    }
   ],
   "source": [
    "df_train['product'].unique()"
   ]
  },
  {
   "cell_type": "code",
   "execution_count": 14,
   "id": "29740067",
   "metadata": {
    "execution": {
     "iopub.execute_input": "2025-01-15T18:38:16.460394Z",
     "iopub.status.busy": "2025-01-15T18:38:16.460034Z",
     "iopub.status.idle": "2025-01-15T18:38:17.513386Z",
     "shell.execute_reply": "2025-01-15T18:38:17.512348Z"
    },
    "papermill": {
     "duration": 1.07087,
     "end_time": "2025-01-15T18:38:17.515452",
     "exception": false,
     "start_time": "2025-01-15T18:38:16.444582",
     "status": "completed"
    },
    "tags": []
   },
   "outputs": [
    {
     "data": {
      "image/png": "[encoded data removed]",
      "text/plain": [
       "<Figure size 640x480 with 4 Axes>"
      ]
     },
     "metadata": {},
     "output_type": "display_data"
    }
   ],
   "source": [
    "### import pandas as pd\n",
    "import numpy as np\n",
    "from statsmodels.tsa.seasonal import seasonal_decompose\n",
    "import matplotlib.pyplot as plt\n",
    "\n",
    "# Generate synthetic time series data\n",
    "np.random.seed(42)\n",
    "#df_train['date']=pd.to_datetime(df_train['date'])\n",
    "#df_train=df_train.set_index('date')\n",
    "df=df_train['num_sold']\n",
    "\n",
    "#time = pd.date_range(start=df_train['date'].min, end=df_train['date'].max, periods=365, freq='D')\n",
    "#series = 10 + 0.05 * np.arange(100) + np.sin(2 * np.pi * time.dayofyear / 365) + np.random.normal(0, 1, 100)\n",
    "#df = pd.DataFrame({'date': time, 'value': series}).set_index('date')\n",
    "\n",
    "# Decompose time series\n",
    "decomposition = seasonal_decompose(\n",
    "    df_train[(df_train['country']=='Singapore') & \n",
    "    (df_train['date'].str.contains('2013')) &\n",
    "    (df_train['store']=='Premium Sticker Mart')]['num_sold'],\n",
    "    model='multiplicative', period=30)  # Set period according to data frequency\n",
    "\n",
    "# Plot components\n",
    "decomposition.plot()\n",
    "plt.show()\n"
   ]
  },
  {
   "cell_type": "code",
   "execution_count": 15,
   "id": "7c4f1c7f",
   "metadata": {
    "execution": {
     "iopub.execute_input": "2025-01-15T18:38:17.549201Z",
     "iopub.status.busy": "2025-01-15T18:38:17.548631Z",
     "iopub.status.idle": "2025-01-15T18:38:17.552543Z",
     "shell.execute_reply": "2025-01-15T18:38:17.551591Z"
    },
    "papermill": {
     "duration": 0.022241,
     "end_time": "2025-01-15T18:38:17.554144",
     "exception": false,
     "start_time": "2025-01-15T18:38:17.531903",
     "status": "completed"
    },
    "tags": []
   },
   "outputs": [],
   "source": [
    "# temp=pd.concat([df_train['date'],df_train['num_sold']],axis=1)\n",
    "# sumsale2016=temp.groupby('date').mean().squeeze().loc['2013']\n",
    "# #sumsale2016\n",
    "# plot_periodogram(sumsale2016)"
   ]
  },
  {
   "cell_type": "code",
   "execution_count": 16,
   "id": "76e2474c",
   "metadata": {
    "execution": {
     "iopub.execute_input": "2025-01-15T18:38:17.586729Z",
     "iopub.status.busy": "2025-01-15T18:38:17.586376Z",
     "iopub.status.idle": "2025-01-15T18:38:19.023558Z",
     "shell.execute_reply": "2025-01-15T18:38:19.021678Z"
    },
    "papermill": {
     "duration": 1.458287,
     "end_time": "2025-01-15T18:38:19.028295",
     "exception": false,
     "start_time": "2025-01-15T18:38:17.570008",
     "status": "completed"
    },
    "tags": []
   },
   "outputs": [
    {
     "name": "stdout",
     "output_type": "stream",
     "text": [
      "ADF Statistic: -6.129147123657372\n",
      "p-value: 8.484833374009022e-08\n",
      "The series is stationary.\n"
     ]
    }
   ],
   "source": [
    "from statsmodels.tsa.stattools import adfuller\n",
    "\n",
    "# Perform ADF test\n",
    "adf_result = adfuller(df_train[(df_train['country']=='Singapore') & (df_train['store']=='Discount Stickers')]['num_sold'])\n",
    "\n",
    "# Print results\n",
    "print(\"ADF Statistic:\", adf_result[0])\n",
    "print(\"p-value:\", adf_result[1])\n",
    "if adf_result[1] < 0.05:\n",
    "    print(\"The series is stationary.\")\n",
    "else:\n",
    "    print(\"The series is not stationary.\")\n"
   ]
  },
  {
   "cell_type": "code",
   "execution_count": 17,
   "id": "1e9c6171",
   "metadata": {
    "execution": {
     "iopub.execute_input": "2025-01-15T18:38:19.125323Z",
     "iopub.status.busy": "2025-01-15T18:38:19.124343Z",
     "iopub.status.idle": "2025-01-15T18:38:19.190282Z",
     "shell.execute_reply": "2025-01-15T18:38:19.188257Z"
    },
    "papermill": {
     "duration": 0.116985,
     "end_time": "2025-01-15T18:38:19.192672",
     "exception": false,
     "start_time": "2025-01-15T18:38:19.075687",
     "status": "completed"
    },
    "tags": []
   },
   "outputs": [
    {
     "name": "stdout",
     "output_type": "stream",
     "text": [
      "KPSS Statistic: 0.7976600279714846\n",
      "p-value: 0.01\n",
      "The series is not stationary (has a trend).\n"
     ]
    },
    {
     "name": "stderr",
     "output_type": "stream",
     "text": [
      "<ipython-input-17-b1e5399dac4b>:4: InterpolationWarning: The test statistic is outside of the range of p-values available in the\n",
      "look-up table. The actual p-value is smaller than the p-value returned.\n",
      "\n",
      "  kpss_result = kpss(df_train[(df_train['country']=='Singapore') & (df_train['store']=='Discount Stickers')]['num_sold'], regression='c')\n"
     ]
    }
   ],
   "source": [
    "from statsmodels.tsa.stattools import kpss\n",
    "\n",
    "# Perform KPSS test\n",
    "kpss_result = kpss(df_train[(df_train['country']=='Singapore') & (df_train['store']=='Discount Stickers')]['num_sold'], regression='c')\n",
    "\n",
    "# Print results\n",
    "print(\"KPSS Statistic:\", kpss_result[0])\n",
    "print(\"p-value:\", kpss_result[1])\n",
    "if kpss_result[1] < 0.05:\n",
    "    print(\"The series is not stationary (has a trend).\")\n",
    "else:\n",
    "    print(\"The series is stationary.\")"
   ]
  },
  {
   "cell_type": "code",
   "execution_count": 18,
   "id": "53c92e18",
   "metadata": {
    "execution": {
     "iopub.execute_input": "2025-01-15T18:38:19.291009Z",
     "iopub.status.busy": "2025-01-15T18:38:19.290358Z",
     "iopub.status.idle": "2025-01-15T18:38:19.352149Z",
     "shell.execute_reply": "2025-01-15T18:38:19.350862Z"
    },
    "papermill": {
     "duration": 0.114206,
     "end_time": "2025-01-15T18:38:19.353816",
     "exception": false,
     "start_time": "2025-01-15T18:38:19.239610",
     "status": "completed"
    },
    "tags": []
   },
   "outputs": [
    {
     "name": "stdout",
     "output_type": "stream",
     "text": [
      "<class 'pandas.core.frame.DataFrame'>\n",
      "RangeIndex: 230130 entries, 0 to 230129\n",
      "Data columns (total 6 columns):\n",
      " #   Column    Non-Null Count   Dtype  \n",
      "---  ------    --------------   -----  \n",
      " 0   id        230130 non-null  int64  \n",
      " 1   date      230130 non-null  object \n",
      " 2   country   230130 non-null  object \n",
      " 3   store     230130 non-null  object \n",
      " 4   product   230130 non-null  object \n",
      " 5   num_sold  221259 non-null  float64\n",
      "dtypes: float64(1), int64(1), object(4)\n",
      "memory usage: 10.5+ MB\n"
     ]
    }
   ],
   "source": [
    "df_train.info()"
   ]
  },
  {
   "cell_type": "code",
   "execution_count": 19,
   "id": "5b1473ea",
   "metadata": {
    "execution": {
     "iopub.execute_input": "2025-01-15T18:38:19.387320Z",
     "iopub.status.busy": "2025-01-15T18:38:19.386918Z",
     "iopub.status.idle": "2025-01-15T18:38:22.776470Z",
     "shell.execute_reply": "2025-01-15T18:38:22.775381Z"
    },
    "papermill": {
     "duration": 3.411045,
     "end_time": "2025-01-15T18:38:22.781156",
     "exception": false,
     "start_time": "2025-01-15T18:38:19.370111",
     "status": "completed"
    },
    "tags": []
   },
   "outputs": [
    {
     "data": {
      "image/png": "[encoded data removed]",
      "text/plain": [
       "<Figure size 1200x800 with 6 Axes>"
      ]
     },
     "metadata": {},
     "output_type": "display_data"
    }
   ],
   "source": [
    "# Plot showing timeseries attributes: trend, seasonality \n",
    "\n",
    "# Create subplots: 2 rows, 3 columns\n",
    "fig, axes = plt.subplots(2, 3, figsize=(12, 8))\n",
    "\n",
    "# Flatten the axes array for easy iteration\n",
    "axes = axes.flatten()\n",
    "countrylist=df_train['country'].unique().tolist()\n",
    "# Loop through each subplot and plot\n",
    "for i, ax in enumerate(axes):\n",
    "    df=df_train[(df_train['country']==countrylist[i]) & (df_train['store']=='Discount Stickers')][['date','num_sold']]\n",
    "    df.dropna(inplace=True)\n",
    "    df.set_index('date',inplace=True)\n",
    "    df['rolling_mean'] = df['num_sold'].rolling(window=30).mean()\n",
    "    df['rolling_std'] = df['num_sold'].rolling(window=30).std()\n",
    "    df[['num_sold', 'rolling_mean', 'rolling_std']].plot(ax=ax,title=f'{countrylist[i]} Rolling Mean and Std Dev')\n",
    "\n",
    "plt.tight_layout()\n",
    "\n",
    "# Show the plot\n",
    "plt.show()\n",
    "    "
   ]
  },
  {
   "cell_type": "code",
   "execution_count": 20,
   "id": "cf916a40",
   "metadata": {
    "execution": {
     "iopub.execute_input": "2025-01-15T18:38:22.823609Z",
     "iopub.status.busy": "2025-01-15T18:38:22.823272Z",
     "iopub.status.idle": "2025-01-15T18:38:22.906472Z",
     "shell.execute_reply": "2025-01-15T18:38:22.905539Z"
    },
    "papermill": {
     "duration": 0.106028,
     "end_time": "2025-01-15T18:38:22.908196",
     "exception": false,
     "start_time": "2025-01-15T18:38:22.802168",
     "status": "completed"
    },
    "tags": []
   },
   "outputs": [
    {
     "data": {
      "text/plain": [
       "<bound method Series.max of 46        20.0\n",
       "47        16.0\n",
       "48         8.0\n",
       "49         9.0\n",
       "50         5.0\n",
       "          ... \n",
       "230095    10.0\n",
       "230096    72.0\n",
       "230097    58.0\n",
       "230098    33.0\n",
       "230099    42.0\n",
       "Name: num_sold, Length: 33730, dtype: float64>"
      ]
     },
     "execution_count": 20,
     "metadata": {},
     "output_type": "execute_result"
    }
   ],
   "source": [
    "test=df_train.dropna()\n",
    "test[test['country']=='Kenya']['num_sold'].max"
   ]
  },
  {
   "cell_type": "code",
   "execution_count": 21,
   "id": "05c0b31a",
   "metadata": {
    "execution": {
     "iopub.execute_input": "2025-01-15T18:38:22.950944Z",
     "iopub.status.busy": "2025-01-15T18:38:22.950522Z",
     "iopub.status.idle": "2025-01-15T18:38:22.955829Z",
     "shell.execute_reply": "2025-01-15T18:38:22.954707Z"
    },
    "papermill": {
     "duration": 0.028382,
     "end_time": "2025-01-15T18:38:22.957650",
     "exception": false,
     "start_time": "2025-01-15T18:38:22.929268",
     "status": "completed"
    },
    "tags": []
   },
   "outputs": [],
   "source": [
    "\n",
    "\n",
    "def get_alpha2_code(country_name):\n",
    "  \"\"\"\n",
    "  Gets the ISO 3166-1 Alpha-2 country code for the given country name.\n",
    "\n",
    "  Args:\n",
    "    country_name: The name of the country.\n",
    "\n",
    "  Returns:\n",
    "    The ISO 3166-1 Alpha-2 country code, or None if the country is not found.\n",
    "  \"\"\"\n",
    "  try:\n",
    "    country = pycountry.countries.search_fuzzy(country_name)[0]\n",
    "    return country.alpha_2\n",
    "  except LookupError:\n",
    "    return None\n",
    "\n"
   ]
  },
  {
   "cell_type": "code",
   "execution_count": 22,
   "id": "3bcbf9f9",
   "metadata": {
    "execution": {
     "iopub.execute_input": "2025-01-15T18:38:23.000650Z",
     "iopub.status.busy": "2025-01-15T18:38:23.000285Z",
     "iopub.status.idle": "2025-01-15T18:38:23.004988Z",
     "shell.execute_reply": "2025-01-15T18:38:23.003980Z"
    },
    "papermill": {
     "duration": 0.028159,
     "end_time": "2025-01-15T18:38:23.006754",
     "exception": false,
     "start_time": "2025-01-15T18:38:22.978595",
     "status": "completed"
    },
    "tags": []
   },
   "outputs": [],
   "source": [
    "# Function to create holiday sets for each country\n",
    "def generate_country_holidays(countries, start_year, end_year):\n",
    "    country_holidays = {}\n",
    "    for country in countries:\n",
    "        # Generate a holiday set for the range of years\n",
    "        country_holidays[country] = holidays.CountryHoliday(country, years=range(start_year, end_year + 1)) \n",
    "    return country_holidays\n"
   ]
  },
  {
   "cell_type": "code",
   "execution_count": 23,
   "id": "bc1da3b5",
   "metadata": {
    "execution": {
     "iopub.execute_input": "2025-01-15T18:38:23.050816Z",
     "iopub.status.busy": "2025-01-15T18:38:23.050415Z",
     "iopub.status.idle": "2025-01-15T18:38:26.485392Z",
     "shell.execute_reply": "2025-01-15T18:38:26.484525Z"
    },
    "papermill": {
     "duration": 3.458991,
     "end_time": "2025-01-15T18:38:26.487327",
     "exception": false,
     "start_time": "2025-01-15T18:38:23.028336",
     "status": "completed"
    },
    "tags": []
   },
   "outputs": [],
   "source": [
    "df_train['Day']=pd.to_datetime(df_train['date']).dt.strftime(\"%d\")\n",
    "df_train['Month']=pd.to_datetime(df_train['date']).dt.strftime(\"%m\")\n",
    "df_train['Year']=pd.to_datetime(df_train['date']).dt.strftime(\"%Y\")\n",
    "df_train['Day_of_week']=pd.to_datetime(df_train['date']).dt.dayofweek\n",
    "df_train['Week_No']=pd.to_datetime(df_train['date']).dt.isocalendar().week\n",
    "df_train['is_weekend']=(df_train['Day_of_week']>=4).astype(int)\n",
    "df_train['Quarter_Discrete'] = (df_train['Month'].astype(int) - 1) // 3 + 1\n",
    "df_train['quarter_normalized'] = (df_train['Quarter_Discrete']-1)/3\n",
    "df_train['month_normalized']=(df_train['Month'].astype(int)-1)/11\n",
    "df_train['Month_Spline']=periodic_spline_transformer(12,4).fit_transform(df_train[['quarter_normalized']])[:,0]\n",
    "df_train['Quarter_Spline']=periodic_spline_transformer(4,4).fit_transform(df_train[['quarter_normalized']])[:,0]\n",
    "df_train['week_number_normalized'] = df_train['Week_No'] / df_train['Week_No'].max()\n",
    "df_train['Week_Spline']=periodic_spline_transformer(53,5).fit_transform(df_train[['week_number_normalized']])[:,0]"
   ]
  },
  {
   "cell_type": "code",
   "execution_count": 24,
   "id": "2920d883",
   "metadata": {
    "execution": {
     "iopub.execute_input": "2025-01-15T18:38:26.530181Z",
     "iopub.status.busy": "2025-01-15T18:38:26.529817Z",
     "iopub.status.idle": "2025-01-15T18:38:26.534732Z",
     "shell.execute_reply": "2025-01-15T18:38:26.533755Z"
    },
    "papermill": {
     "duration": 0.028071,
     "end_time": "2025-01-15T18:38:26.536215",
     "exception": false,
     "start_time": "2025-01-15T18:38:26.508144",
     "status": "completed"
    },
    "tags": []
   },
   "outputs": [],
   "source": [
    "def consecutive_days_visited(df):\n",
    "    \"\"\"\n",
    "    Calculates the number of consecutive days a store was visited.\n",
    "\n",
    "    Args:\n",
    "        df: pandas DataFrame with columns 'date', 'country', 'store'\n",
    "\n",
    "    Returns:\n",
    "        pandas DataFrame with an additional column 'consecutive_days' \n",
    "    \"\"\"\n",
    "\n",
    "    # Ensure date index is sorted\n",
    "    df = df.sort_index()\n",
    "\n",
    "    # Group by 'country' and 'store'\n",
    "    grouped = df.groupby(['country', 'store'])\n",
    "\n",
    "    # Calculate consecutive days within each group\n",
    "    df['consecutive_days'] = (grouped.indices - grouped.indices.min()).dt.days + 1\n",
    "\n",
    "    return df\n"
   ]
  },
  {
   "cell_type": "code",
   "execution_count": 25,
   "id": "c98220f4",
   "metadata": {
    "execution": {
     "iopub.execute_input": "2025-01-15T18:38:26.578219Z",
     "iopub.status.busy": "2025-01-15T18:38:26.577888Z",
     "iopub.status.idle": "2025-01-15T18:38:26.755078Z",
     "shell.execute_reply": "2025-01-15T18:38:26.753729Z"
    },
    "papermill": {
     "duration": 0.200139,
     "end_time": "2025-01-15T18:38:26.756745",
     "exception": false,
     "start_time": "2025-01-15T18:38:26.556606",
     "status": "completed"
    },
    "tags": []
   },
   "outputs": [
    {
     "name": "stdout",
     "output_type": "stream",
     "text": [
      "['CA', 'FI', 'IT', 'KE', 'NO', 'SG']\n"
     ]
    }
   ],
   "source": [
    "allcountries=df_train['country'].unique()\n",
    "countrycodes = list(map(lambda x:get_alpha2_code(x),allcountries)) \n",
    "unique_countries = [cc for cc in countrycodes if cc is not None]\n",
    "print(countrycodes)"
   ]
  },
  {
   "cell_type": "code",
   "execution_count": 26,
   "id": "1e9d0663",
   "metadata": {
    "execution": {
     "iopub.execute_input": "2025-01-15T18:38:26.798658Z",
     "iopub.status.busy": "2025-01-15T18:38:26.798321Z",
     "iopub.status.idle": "2025-01-15T18:38:26.897536Z",
     "shell.execute_reply": "2025-01-15T18:38:26.896431Z"
    },
    "papermill": {
     "duration": 0.122263,
     "end_time": "2025-01-15T18:38:26.899428",
     "exception": false,
     "start_time": "2025-01-15T18:38:26.777165",
     "status": "completed"
    },
    "tags": []
   },
   "outputs": [],
   "source": [
    "df_train['store']=df_train['store'].astype('category')\n",
    "df_train['country']=df_train['country'].astype('category')\n",
    "df_train['product']=df_train['product'].astype('category')\n",
    "df_train['Day']=df_train['Day'].astype('category')\n",
    "df_train['Month']=df_train['Month'].astype('category')\n",
    "df_train['Year']=df_train['Year'].astype('category')\n",
    "df_train['Day_of_week']=df_train['Day_of_week'].astype('category')\n"
   ]
  },
  {
   "cell_type": "code",
   "execution_count": 27,
   "id": "5d47c960",
   "metadata": {
    "execution": {
     "iopub.execute_input": "2025-01-15T18:38:26.942983Z",
     "iopub.status.busy": "2025-01-15T18:38:26.942403Z",
     "iopub.status.idle": "2025-01-15T18:38:28.379599Z",
     "shell.execute_reply": "2025-01-15T18:38:28.378720Z"
    },
    "papermill": {
     "duration": 1.46127,
     "end_time": "2025-01-15T18:38:28.381497",
     "exception": false,
     "start_time": "2025-01-15T18:38:26.920227",
     "status": "completed"
    },
    "tags": []
   },
   "outputs": [],
   "source": [
    "df_test['Day']=pd.to_datetime(df_test['date']).dt.strftime(\"%d\")\n",
    "df_test['Month']=pd.to_datetime(df_test['date']).dt.strftime(\"%m\")\n",
    "df_test['Year']=pd.to_datetime(df_test['date']).dt.strftime(\"%Y\")\n",
    "df_test['Day_of_week']=pd.to_datetime(df_test['date']).dt.dayofweek\n",
    "df_test['Week_No']=pd.to_datetime(df_test['date']).dt.isocalendar().week\n",
    "df_test['is_weekend']=(df_test['Day_of_week']>=4).astype(int)\n",
    "df_test['Quarter_Discrete'] = (df_test['Month'].astype(int) - 1) // 3 + 1\n",
    "df_test['quarter_normalized'] = (df_test['Quarter_Discrete']-1)/3\n",
    "df_test['month_normalized']=(df_test['Month'].astype(int)-1)/11\n",
    "df_test['Month_Spline']=periodic_spline_transformer(12,4).fit_transform(df_test[['quarter_normalized']])[:,0]\n",
    "df_test['Quarter_Spline']=periodic_spline_transformer(4,4).fit_transform(df_test[['quarter_normalized']])[:,0]\n",
    "df_test['week_number_normalized'] = df_test['Week_No'] / df_test['Week_No'].max()\n",
    "df_test['Week_Spline']=periodic_spline_transformer(53,5).fit_transform(df_test[['week_number_normalized']])[:,0]\n"
   ]
  },
  {
   "cell_type": "code",
   "execution_count": 28,
   "id": "65bfcd96",
   "metadata": {
    "execution": {
     "iopub.execute_input": "2025-01-15T18:38:28.424468Z",
     "iopub.status.busy": "2025-01-15T18:38:28.424101Z",
     "iopub.status.idle": "2025-01-15T18:38:28.443058Z",
     "shell.execute_reply": "2025-01-15T18:38:28.441953Z"
    },
    "papermill": {
     "duration": 0.042747,
     "end_time": "2025-01-15T18:38:28.445137",
     "exception": false,
     "start_time": "2025-01-15T18:38:28.402390",
     "status": "completed"
    },
    "tags": []
   },
   "outputs": [],
   "source": [
    "df_test.drop(['week_number_normalized','month_normalized','quarter_normalized'],axis=1,inplace=True)"
   ]
  },
  {
   "cell_type": "code",
   "execution_count": 29,
   "id": "dd4344a9",
   "metadata": {
    "execution": {
     "iopub.execute_input": "2025-01-15T18:38:28.488719Z",
     "iopub.status.busy": "2025-01-15T18:38:28.488363Z",
     "iopub.status.idle": "2025-01-15T18:38:28.508288Z",
     "shell.execute_reply": "2025-01-15T18:38:28.507349Z"
    },
    "papermill": {
     "duration": 0.043784,
     "end_time": "2025-01-15T18:38:28.510224",
     "exception": false,
     "start_time": "2025-01-15T18:38:28.466440",
     "status": "completed"
    },
    "tags": []
   },
   "outputs": [],
   "source": [
    "df_train.drop(['week_number_normalized','month_normalized','quarter_normalized'],axis=1,inplace=True)"
   ]
  },
  {
   "cell_type": "code",
   "execution_count": 30,
   "id": "2a0422bf",
   "metadata": {
    "execution": {
     "iopub.execute_input": "2025-01-15T18:38:28.553161Z",
     "iopub.status.busy": "2025-01-15T18:38:28.552771Z",
     "iopub.status.idle": "2025-01-15T18:38:28.601078Z",
     "shell.execute_reply": "2025-01-15T18:38:28.599797Z"
    },
    "papermill": {
     "duration": 0.071665,
     "end_time": "2025-01-15T18:38:28.602865",
     "exception": false,
     "start_time": "2025-01-15T18:38:28.531200",
     "status": "completed"
    },
    "tags": []
   },
   "outputs": [],
   "source": [
    "df_test['store']=df_test['store'].astype('category')\n",
    "df_test['country']=df_test['country'].astype('category')\n",
    "df_test['product']=df_test['product'].astype('category')\n",
    "df_test['Day']=df_test['Day'].astype('category')\n",
    "df_test['Month']=df_test['Month'].astype('category')\n",
    "df_test['Year']=df_test['Year'].astype('category')\n",
    "df_test['Day_of_week']=df_test['Day_of_week'].astype('category')\n"
   ]
  },
  {
   "cell_type": "code",
   "execution_count": 31,
   "id": "979330d5",
   "metadata": {
    "execution": {
     "iopub.execute_input": "2025-01-15T18:38:28.645414Z",
     "iopub.status.busy": "2025-01-15T18:38:28.645022Z",
     "iopub.status.idle": "2025-01-15T18:38:28.687182Z",
     "shell.execute_reply": "2025-01-15T18:38:28.686095Z"
    },
    "papermill": {
     "duration": 0.065695,
     "end_time": "2025-01-15T18:38:28.689217",
     "exception": false,
     "start_time": "2025-01-15T18:38:28.623522",
     "status": "completed"
    },
    "tags": []
   },
   "outputs": [],
   "source": [
    "df_train['date']=pd.to_datetime(df_train['date'])\n",
    "df_test['date']=pd.to_datetime(df_test['date'])"
   ]
  },
  {
   "cell_type": "code",
   "execution_count": 32,
   "id": "42dc1318",
   "metadata": {
    "execution": {
     "iopub.execute_input": "2025-01-15T18:38:28.731724Z",
     "iopub.status.busy": "2025-01-15T18:38:28.731329Z",
     "iopub.status.idle": "2025-01-15T18:38:28.770786Z",
     "shell.execute_reply": "2025-01-15T18:38:28.769585Z"
    },
    "papermill": {
     "duration": 0.062757,
     "end_time": "2025-01-15T18:38:28.772679",
     "exception": false,
     "start_time": "2025-01-15T18:38:28.709922",
     "status": "completed"
    },
    "tags": []
   },
   "outputs": [
    {
     "name": "stderr",
     "output_type": "stream",
     "text": [
      "<ipython-input-32-a9a4f327ce0c>:1: FutureWarning: The default of observed=False is deprecated and will be changed to True in a future version of pandas. Pass observed=False to retain current behavior or observed=True to adopt the future default and silence this warning.\n",
      "  df_train['previous_visit']=df_train.reset_index().groupby(by=['country','store'])[['date']].diff()\n"
     ]
    }
   ],
   "source": [
    "df_train['previous_visit']=df_train.reset_index().groupby(by=['country','store'])[['date']].diff()"
   ]
  },
  {
   "cell_type": "code",
   "execution_count": 33,
   "id": "66c47c4e",
   "metadata": {
    "execution": {
     "iopub.execute_input": "2025-01-15T18:38:28.816256Z",
     "iopub.status.busy": "2025-01-15T18:38:28.815803Z",
     "iopub.status.idle": "2025-01-15T18:38:28.833508Z",
     "shell.execute_reply": "2025-01-15T18:38:28.832295Z"
    },
    "papermill": {
     "duration": 0.041896,
     "end_time": "2025-01-15T18:38:28.835481",
     "exception": false,
     "start_time": "2025-01-15T18:38:28.793585",
     "status": "completed"
    },
    "tags": []
   },
   "outputs": [
    {
     "name": "stderr",
     "output_type": "stream",
     "text": [
      "<ipython-input-33-9b789beb13f0>:1: FutureWarning: The default of observed=False is deprecated and will be changed to True in a future version of pandas. Pass observed=False to retain current behavior or observed=True to adopt the future default and silence this warning.\n",
      "  df_train['consec_days']=df_train.groupby(by=['country','store'])[['previous_visit']].cumsum()\n"
     ]
    }
   ],
   "source": [
    "df_train['consec_days']=df_train.groupby(by=['country','store'])[['previous_visit']].cumsum()"
   ]
  },
  {
   "cell_type": "code",
   "execution_count": 34,
   "id": "84a5344f",
   "metadata": {
    "execution": {
     "iopub.execute_input": "2025-01-15T18:38:28.877951Z",
     "iopub.status.busy": "2025-01-15T18:38:28.877554Z",
     "iopub.status.idle": "2025-01-15T18:38:28.900886Z",
     "shell.execute_reply": "2025-01-15T18:38:28.899591Z"
    },
    "papermill": {
     "duration": 0.046463,
     "end_time": "2025-01-15T18:38:28.902628",
     "exception": false,
     "start_time": "2025-01-15T18:38:28.856165",
     "status": "completed"
    },
    "tags": []
   },
   "outputs": [
    {
     "name": "stderr",
     "output_type": "stream",
     "text": [
      "<ipython-input-34-b64440241ea2>:1: FutureWarning: The default of observed=False is deprecated and will be changed to True in a future version of pandas. Pass observed=False to retain current behavior or observed=True to adopt the future default and silence this warning.\n",
      "  df_test['previous_visit']=df_test.reset_index().groupby(by=['country','store'])[['date']].diff()\n",
      "<ipython-input-34-b64440241ea2>:2: FutureWarning: The default of observed=False is deprecated and will be changed to True in a future version of pandas. Pass observed=False to retain current behavior or observed=True to adopt the future default and silence this warning.\n",
      "  df_test['consec_days']=df_test.groupby(by=['country','store'])[['previous_visit']].cumsum()\n"
     ]
    }
   ],
   "source": [
    "df_test['previous_visit']=df_test.reset_index().groupby(by=['country','store'])[['date']].diff()\n",
    "df_test['consec_days']=df_test.groupby(by=['country','store'])[['previous_visit']].cumsum()"
   ]
  },
  {
   "cell_type": "code",
   "execution_count": 35,
   "id": "3300e6e1",
   "metadata": {
    "execution": {
     "iopub.execute_input": "2025-01-15T18:38:28.946561Z",
     "iopub.status.busy": "2025-01-15T18:38:28.946225Z",
     "iopub.status.idle": "2025-01-15T18:38:28.998325Z",
     "shell.execute_reply": "2025-01-15T18:38:28.997356Z"
    },
    "papermill": {
     "duration": 0.076685,
     "end_time": "2025-01-15T18:38:29.000332",
     "exception": false,
     "start_time": "2025-01-15T18:38:28.923647",
     "status": "completed"
    },
    "tags": []
   },
   "outputs": [],
   "source": [
    "df_train.set_index('date',inplace=True)\n",
    "Startmin=df_train.index.min()\n",
    "df_train['days_since_start'] = (df_train.index - Startmin).days\n",
    "\n",
    "# Add cycle hints based on time \n",
    "df_train['sin_year'] = np.sin(2 * np.pi * df_train['days_since_start'] / 365)\n",
    "df_train['cos_year'] = np.cos(2 * np.pi * df_train['days_since_start'] / 365)\n",
    "df_train['sin_month'] = np.sin(2 * np.pi * df_train['days_since_start'] / 30)\n",
    "df_train['cos_month'] = np.cos(2 * np.pi * df_train['days_since_start'] / 30)\n",
    "\n",
    "df_test.set_index('date',inplace=True)\n",
    "df_test['days_since_start'] = (df_test.index - Startmin).days\n",
    "\n",
    "# Add cycle hints based on time \n",
    "df_test['sin_year'] = np.sin(2 * np.pi * df_test['days_since_start'] / 365)\n",
    "df_test['cos_year'] = np.cos(2 * np.pi * df_test['days_since_start'] / 365)\n",
    "df_test['sin_month'] = np.sin(2 * np.pi * df_test['days_since_start'] / 30)\n",
    "df_test['cos_month'] = np.cos(2 * np.pi * df_test['days_since_start'] / 30)\n",
    "\n",
    "df_train.reset_index(inplace=True)\n",
    "df_test.reset_index(inplace=True)"
   ]
  },
  {
   "cell_type": "code",
   "execution_count": 36,
   "id": "100b546b",
   "metadata": {
    "execution": {
     "iopub.execute_input": "2025-01-15T18:38:29.043337Z",
     "iopub.status.busy": "2025-01-15T18:38:29.042981Z",
     "iopub.status.idle": "2025-01-15T18:38:29.079104Z",
     "shell.execute_reply": "2025-01-15T18:38:29.077771Z"
    },
    "papermill": {
     "duration": 0.059725,
     "end_time": "2025-01-15T18:38:29.080982",
     "exception": false,
     "start_time": "2025-01-15T18:38:29.021257",
     "status": "completed"
    },
    "tags": []
   },
   "outputs": [
    {
     "name": "stdout",
     "output_type": "stream",
     "text": [
      "<class 'pandas.core.frame.DataFrame'>\n",
      "RangeIndex: 230130 entries, 0 to 230129\n",
      "Data columns (total 23 columns):\n",
      " #   Column            Non-Null Count   Dtype          \n",
      "---  ------            --------------   -----          \n",
      " 0   date              230130 non-null  datetime64[ns] \n",
      " 1   id                230130 non-null  int64          \n",
      " 2   country           230130 non-null  category       \n",
      " 3   store             230130 non-null  category       \n",
      " 4   product           230130 non-null  category       \n",
      " 5   num_sold          221259 non-null  float64        \n",
      " 6   Day               230130 non-null  category       \n",
      " 7   Month             230130 non-null  category       \n",
      " 8   Year              230130 non-null  category       \n",
      " 9   Day_of_week       230130 non-null  category       \n",
      " 10  Week_No           230130 non-null  UInt32         \n",
      " 11  is_weekend        230130 non-null  int64          \n",
      " 12  Quarter_Discrete  230130 non-null  int64          \n",
      " 13  Month_Spline      230130 non-null  float64        \n",
      " 14  Quarter_Spline    230130 non-null  float64        \n",
      " 15  Week_Spline       230130 non-null  float64        \n",
      " 16  previous_visit    230112 non-null  timedelta64[ns]\n",
      " 17  consec_days       230112 non-null  timedelta64[ns]\n",
      " 18  days_since_start  230130 non-null  int64          \n",
      " 19  sin_year          230130 non-null  float64        \n",
      " 20  cos_year          230130 non-null  float64        \n",
      " 21  sin_month         230130 non-null  float64        \n",
      " 22  cos_month         230130 non-null  float64        \n",
      "dtypes: UInt32(1), category(7), datetime64[ns](1), float64(8), int64(4), timedelta64[ns](2)\n",
      "memory usage: 29.0 MB\n"
     ]
    }
   ],
   "source": [
    "df_train.info()"
   ]
  },
  {
   "cell_type": "code",
   "execution_count": 37,
   "id": "bca0412f",
   "metadata": {
    "execution": {
     "iopub.execute_input": "2025-01-15T18:38:29.124023Z",
     "iopub.status.busy": "2025-01-15T18:38:29.123564Z",
     "iopub.status.idle": "2025-01-15T18:38:29.415933Z",
     "shell.execute_reply": "2025-01-15T18:38:29.414736Z"
    },
    "papermill": {
     "duration": 0.315808,
     "end_time": "2025-01-15T18:38:29.417906",
     "exception": false,
     "start_time": "2025-01-15T18:38:29.102098",
     "status": "completed"
    },
    "tags": []
   },
   "outputs": [],
   "source": [
    "#Get country\n",
    "\n",
    "#Get holidays for each country\n",
    "#allcountries.append(\"weirdcountry\")\n",
    "country_holidays={}\n",
    "\n",
    "#df_train['date']=pd.to_datetime(df_train['date'])\n",
    "start_year = df_train['date'].dt.year.min()\n",
    "end_year = df_train['date'].dt.year.max()\n",
    "\n",
    "country_holidays = generate_country_holidays(unique_countries, start_year, end_year)\n",
    "holiday_df = pd.DataFrame([\n",
    "    {'date': date, 'country_code': country, 'country': cname}\n",
    "    for country in unique_countries\n",
    "    for date in country_holidays[country]\n",
    "    for cname in [pycountry.countries.get(alpha_2=cc).name for cc in unique_countries]]\n",
    ")\n",
    "holiday_df['is_holiday'] = 1\n",
    "holiday_df['date']=pd.to_datetime(holiday_df['date'])\n",
    "holiday_df.drop('country_code',axis=1,inplace=True)\n",
    "\n",
    "df_train = df_train.merge(holiday_df, on=['date', 'country'], how='left').fillna({'is_holiday': 0})"
   ]
  },
  {
   "cell_type": "code",
   "execution_count": 38,
   "id": "5fa0f185",
   "metadata": {
    "execution": {
     "iopub.execute_input": "2025-01-15T18:38:29.461874Z",
     "iopub.status.busy": "2025-01-15T18:38:29.461476Z",
     "iopub.status.idle": "2025-01-15T18:38:29.492353Z",
     "shell.execute_reply": "2025-01-15T18:38:29.491328Z"
    },
    "papermill": {
     "duration": 0.055069,
     "end_time": "2025-01-15T18:38:29.494354",
     "exception": false,
     "start_time": "2025-01-15T18:38:29.439285",
     "status": "completed"
    },
    "tags": []
   },
   "outputs": [
    {
     "data": {
      "text/plain": [
       "<bound method Series.max of 600         1 days\n",
       "690         2 days\n",
       "780         3 days\n",
       "870         4 days\n",
       "1020        5 days\n",
       "            ...   \n",
       "249360   2552 days\n",
       "249450   2553 days\n",
       "249540   2554 days\n",
       "249630   2555 days\n",
       "249720   2556 days\n",
       "Name: consec_days, Length: 2769, dtype: timedelta64[ns]>"
      ]
     },
     "execution_count": 38,
     "metadata": {},
     "output_type": "execute_result"
    }
   ],
   "source": [
    "df_train[(df_train['country']=='Norway') & (df_train['store']=='Discount Stickers') & (df_train['previous_visit'].astype('int')>0)].consec_days.max"
   ]
  },
  {
   "cell_type": "code",
   "execution_count": 39,
   "id": "28465ba3",
   "metadata": {
    "execution": {
     "iopub.execute_input": "2025-01-15T18:38:29.539575Z",
     "iopub.status.busy": "2025-01-15T18:38:29.539226Z",
     "iopub.status.idle": "2025-01-15T18:38:29.616942Z",
     "shell.execute_reply": "2025-01-15T18:38:29.615952Z"
    },
    "papermill": {
     "duration": 0.102486,
     "end_time": "2025-01-15T18:38:29.618799",
     "exception": false,
     "start_time": "2025-01-15T18:38:29.516313",
     "status": "completed"
    },
    "tags": []
   },
   "outputs": [],
   "source": [
    "start_year = df_test['date'].dt.year.min()\n",
    "end_year = df_test['date'].dt.year.max()\n",
    "#unique_countries = [cc for cc in countrycodes if cc is not None]\n",
    "country_holidays = generate_country_holidays(unique_countries, start_year, end_year)\n",
    "\n",
    "holiday_df = pd.DataFrame([\n",
    "    {'date': date, 'country_code': country, 'country': cname}\n",
    "    for country in unique_countries\n",
    "    for date in country_holidays[country]\n",
    "    for cname in [pycountry.countries.get(alpha_2=cc).name for cc in unique_countries]]\n",
    ")\n",
    "holiday_df['is_holiday']=1\n",
    "holiday_df['date']=pd.to_datetime(holiday_df['date'])\n",
    "holiday_df.drop('country_code',axis=1,inplace=True)\n",
    "\n",
    "df_test = df_test.merge(holiday_df, on=['date', 'country'], how='left').fillna({'is_holiday': 0})\n"
   ]
  },
  {
   "cell_type": "code",
   "execution_count": 40,
   "id": "458c9e9c",
   "metadata": {
    "execution": {
     "iopub.execute_input": "2025-01-15T18:38:29.663262Z",
     "iopub.status.busy": "2025-01-15T18:38:29.662787Z",
     "iopub.status.idle": "2025-01-15T18:38:29.671573Z",
     "shell.execute_reply": "2025-01-15T18:38:29.670694Z"
    },
    "papermill": {
     "duration": 0.033055,
     "end_time": "2025-01-15T18:38:29.673152",
     "exception": false,
     "start_time": "2025-01-15T18:38:29.640097",
     "status": "completed"
    },
    "tags": []
   },
   "outputs": [
    {
     "data": {
      "text/plain": [
       "is_holiday\n",
       "0    88290\n",
       "1    18270\n",
       "Name: count, dtype: int64"
      ]
     },
     "execution_count": 40,
     "metadata": {},
     "output_type": "execute_result"
    }
   ],
   "source": [
    "df_test['is_holiday']=df_test['is_holiday'].astype(int)\n",
    "df_test['is_holiday'].value_counts()"
   ]
  },
  {
   "cell_type": "code",
   "execution_count": 41,
   "id": "36acba23",
   "metadata": {
    "execution": {
     "iopub.execute_input": "2025-01-15T18:38:29.716831Z",
     "iopub.status.busy": "2025-01-15T18:38:29.716388Z",
     "iopub.status.idle": "2025-01-15T18:38:29.721575Z",
     "shell.execute_reply": "2025-01-15T18:38:29.720700Z"
    },
    "papermill": {
     "duration": 0.028983,
     "end_time": "2025-01-15T18:38:29.723235",
     "exception": false,
     "start_time": "2025-01-15T18:38:29.694252",
     "status": "completed"
    },
    "tags": []
   },
   "outputs": [],
   "source": [
    "df_train.set_index('date',inplace=True)\n",
    "#df_test.set_index('date',inplace=True)"
   ]
  },
  {
   "cell_type": "code",
   "execution_count": 42,
   "id": "1d406c92",
   "metadata": {
    "execution": {
     "iopub.execute_input": "2025-01-15T18:38:29.766438Z",
     "iopub.status.busy": "2025-01-15T18:38:29.766099Z",
     "iopub.status.idle": "2025-01-15T18:38:29.769823Z",
     "shell.execute_reply": "2025-01-15T18:38:29.768910Z"
    },
    "papermill": {
     "duration": 0.026933,
     "end_time": "2025-01-15T18:38:29.771267",
     "exception": false,
     "start_time": "2025-01-15T18:38:29.744334",
     "status": "completed"
    },
    "tags": []
   },
   "outputs": [],
   "source": [
    "#Graph for intrpolate is changing too much\n",
    "#Not interpolate but just drop Na is better\n",
    "#Interpolate missing num_sold\n",
    "\n",
    "#df_train['date']=pd.to_datetime(df_train['date'])\n",
    "#df = df_train.set_index('date')\n",
    "\n",
    "# df_train = df_train.sort_values(by=['country', 'store', 'product', 'date'])\n",
    "\n",
    "# # Impute NaN with interpolation (grouped by Country, Store, and Product)\n",
    "# df_train['num_sold'] = df_train.groupby(['country', 'store', 'product'])['num_sold'].transform(\n",
    "#     lambda group: group.interpolate(method='linear',limit=None,limit_direction='both').ffill().bfill()\n",
    "# )\n",
    "#df['num_sold'].isna().any()"
   ]
  },
  {
   "cell_type": "code",
   "execution_count": 43,
   "id": "11d16e45",
   "metadata": {
    "execution": {
     "iopub.execute_input": "2025-01-15T18:38:29.814545Z",
     "iopub.status.busy": "2025-01-15T18:38:29.814146Z",
     "iopub.status.idle": "2025-01-15T18:38:29.818400Z",
     "shell.execute_reply": "2025-01-15T18:38:29.817133Z"
    },
    "papermill": {
     "duration": 0.028037,
     "end_time": "2025-01-15T18:38:29.820209",
     "exception": false,
     "start_time": "2025-01-15T18:38:29.792172",
     "status": "completed"
    },
    "tags": []
   },
   "outputs": [],
   "source": [
    "#condition = (df.num_sold.notna()) & (df['country']=='Canada') & (df['store']=='Discount Stickers') & (df['product']=='Holographic Goose')\n",
    "#df[condition]\n"
   ]
  },
  {
   "cell_type": "code",
   "execution_count": 44,
   "id": "42ad55d5",
   "metadata": {
    "execution": {
     "iopub.execute_input": "2025-01-15T18:38:29.864235Z",
     "iopub.status.busy": "2025-01-15T18:38:29.863864Z",
     "iopub.status.idle": "2025-01-15T18:38:29.867642Z",
     "shell.execute_reply": "2025-01-15T18:38:29.866779Z"
    },
    "papermill": {
     "duration": 0.027376,
     "end_time": "2025-01-15T18:38:29.869201",
     "exception": false,
     "start_time": "2025-01-15T18:38:29.841825",
     "status": "completed"
    },
    "tags": []
   },
   "outputs": [],
   "source": [
    "##Get num_sold NaN product store and country\n",
    "#t=df[df.num_sold.isna()].groupby(['country','store','product'])['product'].value_counts().to_dict()"
   ]
  },
  {
   "cell_type": "code",
   "execution_count": 45,
   "id": "97d5b00d",
   "metadata": {
    "execution": {
     "iopub.execute_input": "2025-01-15T18:38:29.912720Z",
     "iopub.status.busy": "2025-01-15T18:38:29.912372Z",
     "iopub.status.idle": "2025-01-15T18:38:29.916102Z",
     "shell.execute_reply": "2025-01-15T18:38:29.915135Z"
    },
    "papermill": {
     "duration": 0.027407,
     "end_time": "2025-01-15T18:38:29.917715",
     "exception": false,
     "start_time": "2025-01-15T18:38:29.890308",
     "status": "completed"
    },
    "tags": []
   },
   "outputs": [],
   "source": [
    "#Country store and product that have NaN\n",
    "# for  k,v in t.items():\n",
    "#     if v!=0:\n",
    "#         print(k,v)"
   ]
  },
  {
   "cell_type": "code",
   "execution_count": 46,
   "id": "bd827036",
   "metadata": {
    "execution": {
     "iopub.execute_input": "2025-01-15T18:38:29.962542Z",
     "iopub.status.busy": "2025-01-15T18:38:29.962139Z",
     "iopub.status.idle": "2025-01-15T18:38:29.998895Z",
     "shell.execute_reply": "2025-01-15T18:38:29.997453Z"
    },
    "papermill": {
     "duration": 0.062064,
     "end_time": "2025-01-15T18:38:30.000932",
     "exception": false,
     "start_time": "2025-01-15T18:38:29.938868",
     "status": "completed"
    },
    "tags": []
   },
   "outputs": [
    {
     "name": "stdout",
     "output_type": "stream",
     "text": [
      "Mean\n",
      "country\n",
      "Canada       242.974170\n",
      "Finland      179.209850\n",
      "Italy        129.627508\n",
      "Kenya          5.800233\n",
      "Norway       341.143664\n",
      "Singapore    206.325646\n",
      "Name: num_sold, dtype: float64\n",
      "Median\n",
      "country\n",
      "Canada       235.0\n",
      "Finland      190.0\n",
      "Italy        137.0\n",
      "Kenya          6.0\n",
      "Norway       353.0\n",
      "Singapore    219.0\n",
      "Name: num_sold, dtype: float64\n",
      "Mode\n",
      "country\n",
      "Canada       218.0\n",
      "Finland       91.0\n",
      "Italy         64.0\n",
      "Kenya          5.0\n",
      "Norway       171.0\n",
      "Singapore    107.0\n",
      "Name: num_sold, dtype: float64\n",
      "Min\n",
      "country\n",
      "Canada       200.0\n",
      "Finland       65.0\n",
      "Italy         44.0\n",
      "Kenya          5.0\n",
      "Norway       105.0\n",
      "Singapore     69.0\n",
      "Name: num_sold, dtype: float64\n",
      "Max\n",
      "country\n",
      "Canada       449.0\n",
      "Finland      491.0\n",
      "Italy        318.0\n",
      "Kenya         11.0\n",
      "Norway       908.0\n",
      "Singapore    469.0\n",
      "Name: num_sold, dtype: float64\n"
     ]
    }
   ],
   "source": [
    "#Find Holographic Goose num_sold in each country\n",
    "nan_product = df_train[(df_train['product']=='Holographic Goose') & (df_train['num_sold'].notna())].groupby(['country'])['num_sold']\n",
    "print(\"Mean\")\n",
    "print(nan_product.mean())\n",
    "print(\"Median\")\n",
    "print(nan_product.median())\n",
    "print(\"Mode\")\n",
    "print(nan_product.agg(pd.Series.mode))\n",
    "print(\"Min\")\n",
    "print(nan_product.min())\n",
    "print(\"Max\")\n",
    "print(nan_product.max())"
   ]
  },
  {
   "cell_type": "markdown",
   "id": "055cdf27",
   "metadata": {
    "papermill": {
     "duration": 0.021109,
     "end_time": "2025-01-15T18:38:30.043456",
     "exception": false,
     "start_time": "2025-01-15T18:38:30.022347",
     "status": "completed"
    },
    "tags": []
   },
   "source": [
    "Impute Canana NaN with 218.0 \n",
    "Impute Kenya NaN with 5.0"
   ]
  },
  {
   "cell_type": "code",
   "execution_count": 47,
   "id": "10a6fafb",
   "metadata": {
    "execution": {
     "iopub.execute_input": "2025-01-15T18:38:30.087608Z",
     "iopub.status.busy": "2025-01-15T18:38:30.087254Z",
     "iopub.status.idle": "2025-01-15T18:38:30.132646Z",
     "shell.execute_reply": "2025-01-15T18:38:30.131316Z"
    },
    "papermill": {
     "duration": 0.06997,
     "end_time": "2025-01-15T18:38:30.134787",
     "exception": false,
     "start_time": "2025-01-15T18:38:30.064817",
     "status": "completed"
    },
    "tags": []
   },
   "outputs": [],
   "source": [
    "df_train['previous_visit'].fillna(pd.to_timedelta(0),inplace=True)\n",
    "df_train['consec_days'].fillna(pd.to_timedelta(0),inplace=True)\n",
    "df_test['previous_visit'].fillna(pd.to_timedelta(0),inplace=True)\n",
    "df_test['consec_days'].fillna(pd.to_timedelta(0),inplace=True)\n",
    "\n",
    "df_train.dropna(inplace=True)\n",
    "#df_test.dropna(inplace=True)"
   ]
  },
  {
   "cell_type": "code",
   "execution_count": 48,
   "id": "e070b350",
   "metadata": {
    "execution": {
     "iopub.execute_input": "2025-01-15T18:38:30.179178Z",
     "iopub.status.busy": "2025-01-15T18:38:30.178751Z",
     "iopub.status.idle": "2025-01-15T18:38:30.182323Z",
     "shell.execute_reply": "2025-01-15T18:38:30.181439Z"
    },
    "papermill": {
     "duration": 0.026985,
     "end_time": "2025-01-15T18:38:30.183917",
     "exception": false,
     "start_time": "2025-01-15T18:38:30.156932",
     "status": "completed"
    },
    "tags": []
   },
   "outputs": [],
   "source": [
    "#Impute Canada with 218\n",
    "#df.loc[df['country']=='Canada',['num_sold']]=df.loc[df['country']=='Canada',['num_sold']].fillna(218.0)"
   ]
  },
  {
   "cell_type": "code",
   "execution_count": 49,
   "id": "fe6aca3d",
   "metadata": {
    "execution": {
     "iopub.execute_input": "2025-01-15T18:38:30.227276Z",
     "iopub.status.busy": "2025-01-15T18:38:30.226798Z",
     "iopub.status.idle": "2025-01-15T18:38:30.231092Z",
     "shell.execute_reply": "2025-01-15T18:38:30.230095Z"
    },
    "papermill": {
     "duration": 0.028023,
     "end_time": "2025-01-15T18:38:30.233001",
     "exception": false,
     "start_time": "2025-01-15T18:38:30.204978",
     "status": "completed"
    },
    "tags": []
   },
   "outputs": [],
   "source": [
    "#Impute Kenya with 5\n",
    "#df.loc[df['country']=='Kenya',['num_sold']]=df.loc[df['country']=='Kenya',['num_sold']].fillna(5.0)"
   ]
  },
  {
   "cell_type": "code",
   "execution_count": 50,
   "id": "3d0445af",
   "metadata": {
    "execution": {
     "iopub.execute_input": "2025-01-15T18:38:30.277099Z",
     "iopub.status.busy": "2025-01-15T18:38:30.276702Z",
     "iopub.status.idle": "2025-01-15T18:38:30.280729Z",
     "shell.execute_reply": "2025-01-15T18:38:30.279700Z"
    },
    "papermill": {
     "duration": 0.028004,
     "end_time": "2025-01-15T18:38:30.282515",
     "exception": false,
     "start_time": "2025-01-15T18:38:30.254511",
     "status": "completed"
    },
    "tags": []
   },
   "outputs": [],
   "source": [
    "# nsmode = df_train['num_sold'].mode()\n",
    "# df_train['num_sold']=df_train['num_sold'].fillna(nsmode[0])"
   ]
  },
  {
   "cell_type": "code",
   "execution_count": 51,
   "id": "961eb368",
   "metadata": {
    "execution": {
     "iopub.execute_input": "2025-01-15T18:38:30.327449Z",
     "iopub.status.busy": "2025-01-15T18:38:30.327109Z",
     "iopub.status.idle": "2025-01-15T18:38:30.362205Z",
     "shell.execute_reply": "2025-01-15T18:38:30.361242Z"
    },
    "papermill": {
     "duration": 0.059252,
     "end_time": "2025-01-15T18:38:30.364067",
     "exception": false,
     "start_time": "2025-01-15T18:38:30.304815",
     "status": "completed"
    },
    "tags": []
   },
   "outputs": [],
   "source": [
    "#Get date back to feature after interpolation\n",
    "df_train=df_train.reset_index()"
   ]
  },
  {
   "cell_type": "code",
   "execution_count": 52,
   "id": "7798c681",
   "metadata": {
    "execution": {
     "iopub.execute_input": "2025-01-15T18:38:30.407697Z",
     "iopub.status.busy": "2025-01-15T18:38:30.407346Z",
     "iopub.status.idle": "2025-01-15T18:38:30.439281Z",
     "shell.execute_reply": "2025-01-15T18:38:30.438051Z"
    },
    "papermill": {
     "duration": 0.055691,
     "end_time": "2025-01-15T18:38:30.441045",
     "exception": false,
     "start_time": "2025-01-15T18:38:30.385354",
     "status": "completed"
    },
    "tags": []
   },
   "outputs": [
    {
     "name": "stdout",
     "output_type": "stream",
     "text": [
      "<class 'pandas.core.frame.DataFrame'>\n",
      "RangeIndex: 240265 entries, 0 to 240264\n",
      "Data columns (total 24 columns):\n",
      " #   Column            Non-Null Count   Dtype          \n",
      "---  ------            --------------   -----          \n",
      " 0   date              240265 non-null  datetime64[ns] \n",
      " 1   id                240265 non-null  int64          \n",
      " 2   country           240265 non-null  object         \n",
      " 3   store             240265 non-null  category       \n",
      " 4   product           240265 non-null  category       \n",
      " 5   num_sold          240265 non-null  float64        \n",
      " 6   Day               240265 non-null  category       \n",
      " 7   Month             240265 non-null  category       \n",
      " 8   Year              240265 non-null  category       \n",
      " 9   Day_of_week       240265 non-null  category       \n",
      " 10  Week_No           240265 non-null  UInt32         \n",
      " 11  is_weekend        240265 non-null  int64          \n",
      " 12  Quarter_Discrete  240265 non-null  int64          \n",
      " 13  Month_Spline      240265 non-null  float64        \n",
      " 14  Quarter_Spline    240265 non-null  float64        \n",
      " 15  Week_Spline       240265 non-null  float64        \n",
      " 16  previous_visit    240265 non-null  timedelta64[ns]\n",
      " 17  consec_days       240265 non-null  timedelta64[ns]\n",
      " 18  days_since_start  240265 non-null  int64          \n",
      " 19  sin_year          240265 non-null  float64        \n",
      " 20  cos_year          240265 non-null  float64        \n",
      " 21  sin_month         240265 non-null  float64        \n",
      " 22  cos_month         240265 non-null  float64        \n",
      " 23  is_holiday        240265 non-null  float64        \n",
      "dtypes: UInt32(1), category(6), datetime64[ns](1), float64(9), int64(4), object(1), timedelta64[ns](2)\n",
      "memory usage: 33.7+ MB\n"
     ]
    }
   ],
   "source": [
    "df_train.info()"
   ]
  },
  {
   "cell_type": "code",
   "execution_count": 53,
   "id": "080dc384",
   "metadata": {
    "execution": {
     "iopub.execute_input": "2025-01-15T18:38:30.484652Z",
     "iopub.status.busy": "2025-01-15T18:38:30.484277Z",
     "iopub.status.idle": "2025-01-15T18:38:30.523377Z",
     "shell.execute_reply": "2025-01-15T18:38:30.522231Z"
    },
    "papermill": {
     "duration": 0.063007,
     "end_time": "2025-01-15T18:38:30.525296",
     "exception": false,
     "start_time": "2025-01-15T18:38:30.462289",
     "status": "completed"
    },
    "tags": []
   },
   "outputs": [],
   "source": [
    "df_train['is_holiday']=df_train['is_holiday'].astype('int')\n",
    "df_train['previous_visit']=pd.to_numeric(df_train['previous_visit'].dt.days,errors='coerce')\n",
    "df_train['consec_days']=pd.to_numeric(df_train['consec_days'].dt.days,errors='coerce')\n",
    "df_train['country']=df_train['country'].astype('category')\n",
    "\n",
    "df_test['is_holiday']=df_test['is_holiday'].astype('int')\n",
    "df_test['previous_visit']=pd.to_numeric(df_test['previous_visit'].dt.days,errors='coerce')\n",
    "df_test['consec_days']=pd.to_numeric(df_test['consec_days'].dt.days,errors='coerce')\n",
    "df_test['country']=df_test['country'].astype('category')"
   ]
  },
  {
   "cell_type": "code",
   "execution_count": 54,
   "id": "3229e73c",
   "metadata": {
    "execution": {
     "iopub.execute_input": "2025-01-15T18:38:30.568729Z",
     "iopub.status.busy": "2025-01-15T18:38:30.568321Z",
     "iopub.status.idle": "2025-01-15T18:38:30.577733Z",
     "shell.execute_reply": "2025-01-15T18:38:30.576687Z"
    },
    "papermill": {
     "duration": 0.033046,
     "end_time": "2025-01-15T18:38:30.579381",
     "exception": false,
     "start_time": "2025-01-15T18:38:30.546335",
     "status": "completed"
    },
    "tags": []
   },
   "outputs": [],
   "source": [
    "#log transform target\n",
    "df_train['num_sold']=np.log1p(df_train['num_sold']) \n"
   ]
  },
  {
   "cell_type": "code",
   "execution_count": 55,
   "id": "9202ebeb",
   "metadata": {
    "execution": {
     "iopub.execute_input": "2025-01-15T18:38:30.623565Z",
     "iopub.status.busy": "2025-01-15T18:38:30.623184Z",
     "iopub.status.idle": "2025-01-15T18:38:31.117275Z",
     "shell.execute_reply": "2025-01-15T18:38:31.116068Z"
    },
    "papermill": {
     "duration": 0.518309,
     "end_time": "2025-01-15T18:38:31.118995",
     "exception": false,
     "start_time": "2025-01-15T18:38:30.600686",
     "status": "completed"
    },
    "tags": []
   },
   "outputs": [
    {
     "name": "stdout",
     "output_type": "stream",
     "text": [
      "Canada train date 2010-01-01 00:00:00 to 2015-03-09 00:00:00\n",
      "Canada train loc  0 to 177819\n",
      "Canada valid date 2015-03-09 00:00:00 to 2016-12-31 00:00:00\n",
      "Canada valid loc 177820 to 240190\n",
      "Finland train date 2010-01-01 00:00:00 to 2015-04-03 00:00:00\n",
      "Finland train loc  84 to 180069\n",
      "Finland valid date 2015-04-03 00:00:00 to 2016-12-31 00:00:00\n",
      "Finland valid loc 180070 to 240205\n",
      "Italy train date 2010-01-01 00:00:00 to 2015-04-03 00:00:00\n",
      "Italy train loc  174 to 180144\n",
      "Italy valid date 2015-04-03 00:00:00 to 2016-12-31 00:00:00\n",
      "Italy valid loc 180145 to 240220\n",
      "Kenya train date 2010-01-01 00:00:00 to 2015-04-26 00:00:00\n",
      "Kenya train loc  264 to 182812\n",
      "Kenya valid date 2015-04-26 00:00:00 to 2016-12-31 00:00:00\n",
      "Kenya valid loc 182813 to 240234\n",
      "Norway train date 2010-01-01 00:00:00 to 2015-04-03 00:00:00\n",
      "Norway train loc  348 to 180289\n",
      "Norway valid date 2015-04-03 00:00:00 to 2016-12-31 00:00:00\n",
      "Norway valid loc 180290 to 240249\n",
      "Singapore train date 2010-01-01 00:00:00 to 2015-04-03 00:00:00\n",
      "Singapore train loc  438 to 180364\n",
      "Singapore valid date 2015-04-03 00:00:00 to 2016-12-31 00:00:00\n",
      "Singapore valid loc 180365 to 240264\n"
     ]
    }
   ],
   "source": [
    "#Split data according to country into\n",
    "from catboost import Pool\n",
    "country_train_pool={}\n",
    "country_valid_pool={}\n",
    "\n",
    "for c in countrylist:\n",
    "    df=df_train[df_train['country']==c]\n",
    "    train_x, valid_x, train_y, valid_y = train_test_split(df.drop(['id','num_sold','country'],axis=1),df['num_sold'],shuffle=False,test_size=0.25)\n",
    "    cats=df.select_dtypes('category').columns.to_list()\n",
    "    cats.remove('country')\n",
    "    cats.append('is_holiday')\n",
    "    cats.append('Week_No')\n",
    "    cats.append('is_weekend')\n",
    "    cats.append('Quarter_Discrete')\n",
    "    #train_weights = np.linspace(0.1, 1.0, len(train_x))\n",
    "    #valid_weights = np.linspace(0.1, 1.0, len(valid_x)) # Linearly increasing weights\n",
    "    # decay_rate=0.75\n",
    "    # train_weights = decay_rate ** np.arange(len(train_x))[::-1]  # Exponentially increasing weights\n",
    "    # valid_weights = decay_rate ** np.arange(len(valid_x))[::-1]  # Exponentially increasing weights\n",
    "    country_train_pool[c]=Pool(train_x,label=train_y,cat_features=cats)#,weight=train_weights)\n",
    "    country_valid_pool[c]=Pool(valid_x,label=valid_y,cat_features=cats)#,weight=valid_weights)\n",
    "    print(f\"{c} train date {train_x['date'].min()} to {train_x['date'].max()}\")\n",
    "    print(f\"{c} train loc  {train_x.index.min()} to {train_x.index.max()}\")\n",
    "    print(f\"{c} valid date {valid_x['date'].min()} to {valid_x['date'].max()}\") \n",
    "    print(f\"{c} valid loc {valid_x.index.min()} to {valid_x.index.max()}\")"
   ]
  },
  {
   "cell_type": "code",
   "execution_count": 56,
   "id": "416e3cf0",
   "metadata": {
    "execution": {
     "iopub.execute_input": "2025-01-15T18:38:31.163465Z",
     "iopub.status.busy": "2025-01-15T18:38:31.163127Z",
     "iopub.status.idle": "2025-01-15T18:38:31.171273Z",
     "shell.execute_reply": "2025-01-15T18:38:31.170242Z"
    },
    "papermill": {
     "duration": 0.032188,
     "end_time": "2025-01-15T18:38:31.172766",
     "exception": false,
     "start_time": "2025-01-15T18:38:31.140578",
     "status": "completed"
    },
    "tags": []
   },
   "outputs": [],
   "source": [
    "from functools import partial\n",
    "from catboost import cv\n",
    "\n",
    "def objective(trial: optuna.Trial, country) -> float:\n",
    "    #data, target = load_breast_cancer(return_X_y=True)\n",
    "    #train_x, valid_x, train_y, valid_y = train_test_split(df_train.drop(['id','num_sold','date'],axis=1), df_train['num_sold'], test_size=0.25)\n",
    "    #cats=df_train.select_dtypes('category').columns\n",
    "    \n",
    "    param = {\n",
    "        \"iterations\":trial.suggest_int(\"iterations\",1000,7000),\n",
    "        \"learning_rate\":trial.suggest_float(\"learning_rate\",0.006,0.03,log=True),\n",
    "        \"objective\": trial.suggest_categorical(\"objective\", [\"MAPE\"]),\n",
    "        \"colsample_bylevel\": trial.suggest_float(\"colsample_bylevel\", 0.01, 0.7, log=True),\n",
    "        \"depth\": trial.suggest_int(\"depth\", 1, 10),\n",
    "        \"boosting_type\": trial.suggest_categorical(\"boosting_type\", [\"Ordered\", \"Plain\"]),\n",
    "        \"bootstrap_type\": trial.suggest_categorical(\n",
    "            \"bootstrap_type\", [\"Bayesian\", \"Bernoulli\", \"MVS\"]\n",
    "        ),\n",
    "        \"used_ram_limit\": \"3gb\",\n",
    "        \"eval_metric\": \"MAPE\",\n",
    "        \"cat_features\": cats,\n",
    "    }\n",
    "\n",
    "    if param[\"bootstrap_type\"] == \"Bayesian\":\n",
    "        param[\"bagging_temperature\"] = trial.suggest_float(\"bagging_temperature\", 0, 10)\n",
    "    elif param[\"bootstrap_type\"] == \"Bernoulli\":\n",
    "        param[\"subsample\"] = trial.suggest_float(\"subsample\", 0.1, 1, log=True)\n",
    "\n",
    "   \n",
    "    #use catboost cv with timeseries data\n",
    "    cv_data = cb.cv(\n",
    "        country_train_pool[c],\n",
    "        params=param,\n",
    "        shuffle=False,\n",
    "        type='TimeSeries',\n",
    "        fold_count=3,\n",
    "        early_stopping_rounds=300,\n",
    "        verbose=0,\n",
    "    )\n",
    "    mape = cv_data['test-MAPE-mean'].min()\n",
    "    best_iter = cv_data['test-MAPE-mean'].values.argmin()\n",
    "    # gbm = cb.CatBoostRegressor(**param)\n",
    "\n",
    "    # pruning_callback = CatBoostPruningCallback(trial, \"MAPE\")\n",
    "    # gbm.fit(\n",
    "    #    # train_x,\n",
    "    #    # train_y,\n",
    "    #    # eval_set=[(valid_x, valid_y)],\n",
    "    #     country_train_pool[c],\n",
    "    #     eval_set=country_valid_pool[c],\n",
    "    #     verbose=0,\n",
    "    #     early_stopping_rounds=300,\n",
    "    #     callbacks=[pruning_callback],\n",
    "    # )\n",
    "\n",
    "    # evoke pruning manually.\n",
    "    #pruning_callback.check_pruned()\n",
    "\n",
    "    \n",
    "    #preds = gbm.predict(valid_x)\n",
    "    #pred_labels = np.fix(preds)\n",
    "    #mape = mean_absolute_percentage_error(valid_y, pred_labels)\n",
    "    return mape\n"
   ]
  },
  {
   "cell_type": "code",
   "execution_count": null,
   "id": "433ecbd2",
   "metadata": {
    "papermill": {
     "duration": 0.021662,
     "end_time": "2025-01-15T18:38:31.215857",
     "exception": false,
     "start_time": "2025-01-15T18:38:31.194195",
     "status": "completed"
    },
    "tags": []
   },
   "outputs": [],
   "source": []
  },
  {
   "cell_type": "code",
   "execution_count": 57,
   "id": "1ac07991",
   "metadata": {
    "execution": {
     "iopub.execute_input": "2025-01-15T18:38:31.260330Z",
     "iopub.status.busy": "2025-01-15T18:38:31.259963Z",
     "iopub.status.idle": "2025-01-15T19:56:18.481572Z",
     "shell.execute_reply": "2025-01-15T19:56:18.480419Z"
    },
    "papermill": {
     "duration": 4667.275849,
     "end_time": "2025-01-15T19:56:18.513318",
     "exception": false,
     "start_time": "2025-01-15T18:38:31.237469",
     "status": "completed"
    },
    "tags": []
   },
   "outputs": [
    {
     "name": "stdout",
     "output_type": "stream",
     "text": [
      "Training on fold [0/3]\n",
      "\n",
      "bestTest = 0.01361941113\n",
      "bestIteration = 4858\n",
      "\n",
      "Training on fold [1/3]\n",
      "\n",
      "bestTest = 0.01788606031\n",
      "bestIteration = 4586\n",
      "\n",
      "Training on fold [2/3]\n",
      "\n",
      "bestTest = 0.01150906077\n",
      "bestIteration = 4877\n",
      "\n",
      "Training on fold [0/3]\n",
      "\n",
      "bestTest = 0.01283455783\n",
      "bestIteration = 6755\n",
      "\n",
      "Training on fold [1/3]\n",
      "\n",
      "bestTest = 0.01167659582\n",
      "bestIteration = 6732\n",
      "\n",
      "Training on fold [2/3]\n",
      "\n",
      "bestTest = 0.01174889226\n",
      "bestIteration = 6744\n",
      "\n",
      "Training on fold [0/3]\n",
      "\n",
      "bestTest = 0.04455984338\n",
      "bestIteration = 3300\n",
      "\n",
      "Training on fold [1/3]\n",
      "\n",
      "bestTest = 0.0470699468\n",
      "bestIteration = 3316\n",
      "\n",
      "Training on fold [2/3]\n",
      "\n",
      "bestTest = 0.04285085531\n",
      "bestIteration = 3316\n",
      "\n",
      "Training on fold [0/3]\n",
      "\n",
      "bestTest = 0.01185990002\n",
      "bestIteration = 1706\n",
      "\n",
      "Training on fold [1/3]\n",
      "\n",
      "bestTest = 0.01346161959\n",
      "bestIteration = 1696\n",
      "\n",
      "Training on fold [2/3]\n",
      "\n",
      "bestTest = 0.01278256508\n",
      "bestIteration = 778\n",
      "\n",
      "Training on fold [0/3]\n",
      "\n",
      "bestTest = 0.04248986552\n",
      "bestIteration = 1157\n",
      "\n",
      "Training on fold [1/3]\n",
      "\n",
      "bestTest = 0.02277025626\n",
      "bestIteration = 1575\n",
      "\n",
      "Training on fold [2/3]\n",
      "\n",
      "bestTest = 0.1231115587\n",
      "bestIteration = 1351\n",
      "\n",
      "Training on fold [0/3]\n",
      "\n",
      "bestTest = 0.04723998497\n",
      "bestIteration = 2651\n",
      "\n",
      "Training on fold [1/3]\n",
      "\n",
      "bestTest = 0.05808722501\n",
      "bestIteration = 921\n",
      "\n",
      "Training on fold [2/3]\n",
      "\n",
      "bestTest = 0.02933980818\n",
      "bestIteration = 2608\n",
      "\n",
      "Training on fold [0/3]\n",
      "\n",
      "bestTest = 0.07345455136\n",
      "bestIteration = 2162\n",
      "\n",
      "Training on fold [1/3]\n",
      "\n",
      "bestTest = 0.03155347775\n",
      "bestIteration = 876\n",
      "\n",
      "Training on fold [2/3]\n",
      "\n",
      "bestTest = 0.05954291234\n",
      "bestIteration = 3109\n",
      "\n",
      "Training on fold [0/3]\n",
      "\n",
      "bestTest = 0.07307276918\n",
      "bestIteration = 2703\n",
      "\n",
      "Training on fold [1/3]\n",
      "\n",
      "bestTest = 0.04799733834\n",
      "bestIteration = 1517\n",
      "\n",
      "Training on fold [2/3]\n",
      "\n",
      "bestTest = 0.02184283219\n",
      "bestIteration = 2714\n",
      "\n",
      "Training on fold [0/3]\n",
      "\n",
      "bestTest = 0.1016276063\n",
      "bestIteration = 1311\n",
      "\n",
      "Training on fold [1/3]\n",
      "\n",
      "bestTest = 0.06749473706\n",
      "bestIteration = 749\n",
      "\n",
      "Training on fold [2/3]\n",
      "\n",
      "bestTest = 0.05838947587\n",
      "bestIteration = 1707\n",
      "\n",
      "Training on fold [0/3]\n",
      "\n",
      "bestTest = 0.03629442625\n",
      "bestIteration = 2512\n",
      "\n",
      "Training on fold [1/3]\n",
      "\n",
      "bestTest = 0.01175822266\n",
      "bestIteration = 2553\n",
      "\n",
      "Training on fold [2/3]\n",
      "\n",
      "bestTest = 0.01586561089\n",
      "bestIteration = 2856\n",
      "\n",
      "Number of finished trials: 10\n",
      "Canada Best trial:\n",
      "  Value: 0.012087870301142731\n",
      "Canada  Params: \n",
      "    iterations: 6756\n",
      "    learning_rate: 0.013446506928686083\n",
      "    objective: MAPE\n",
      "    colsample_bylevel: 0.02519288841345396\n",
      "    depth: 5\n",
      "    boosting_type: Plain\n",
      "    bootstrap_type: Bernoulli\n",
      "    subsample: 0.22567684080557457\n",
      "Training on fold [0/3]\n",
      "\n",
      "bestTest = 0.04177146438\n",
      "bestIteration = 4016\n",
      "\n",
      "Training on fold [1/3]\n",
      "\n",
      "bestTest = 0.03674046354\n",
      "bestIteration = 4016\n",
      "\n",
      "Training on fold [2/3]\n",
      "\n",
      "bestTest = 0.0347585552\n",
      "bestIteration = 4016\n",
      "\n",
      "Training on fold [0/3]\n",
      "\n",
      "bestTest = 0.0199115586\n",
      "bestIteration = 2560\n",
      "\n",
      "Training on fold [1/3]\n",
      "\n",
      "bestTest = 0.01672780561\n",
      "bestIteration = 2534\n",
      "\n",
      "Training on fold [2/3]\n",
      "\n",
      "bestTest = 0.01448062129\n",
      "bestIteration = 2558\n",
      "\n",
      "Training on fold [0/3]\n",
      "\n",
      "bestTest = 0.043929294\n",
      "bestIteration = 2737\n",
      "\n",
      "Training on fold [1/3]\n",
      "\n",
      "bestTest = 0.04276201721\n",
      "bestIteration = 2737\n",
      "\n",
      "Training on fold [2/3]\n",
      "\n",
      "bestTest = 0.04176362333\n",
      "bestIteration = 2733\n",
      "\n",
      "Training on fold [0/3]\n",
      "\n",
      "bestTest = 0.03530522112\n",
      "bestIteration = 5022\n",
      "\n",
      "Training on fold [1/3]\n",
      "\n",
      "bestTest = 0.03769580419\n",
      "bestIteration = 5022\n",
      "\n",
      "Training on fold [2/3]\n",
      "\n",
      "bestTest = 0.03646408289\n",
      "bestIteration = 5022\n",
      "\n",
      "Training on fold [0/3]\n",
      "\n",
      "bestTest = 0.02052707392\n",
      "bestIteration = 5911\n",
      "\n",
      "Training on fold [1/3]\n",
      "\n",
      "bestTest = 0.01908226605\n",
      "bestIteration = 5920\n",
      "\n",
      "Training on fold [2/3]\n",
      "\n",
      "bestTest = 0.01965093156\n",
      "bestIteration = 5920\n",
      "\n",
      "Training on fold [0/3]\n",
      "\n",
      "bestTest = 0.03392173272\n",
      "bestIteration = 4823\n",
      "\n",
      "Training on fold [1/3]\n",
      "\n",
      "bestTest = 0.03299932638\n",
      "bestIteration = 4825\n",
      "\n",
      "Training on fold [2/3]\n",
      "\n",
      "bestTest = 0.03216963725\n",
      "bestIteration = 4827\n",
      "\n",
      "Training on fold [0/3]\n",
      "\n",
      "bestTest = 0.04582989319\n",
      "bestIteration = 3403\n",
      "\n",
      "Training on fold [1/3]\n",
      "\n",
      "bestTest = 0.03995806068\n",
      "bestIteration = 3404\n",
      "\n",
      "Training on fold [2/3]\n",
      "\n",
      "bestTest = 0.03533894307\n",
      "bestIteration = 3377\n",
      "\n",
      "Training on fold [0/3]\n",
      "\n",
      "bestTest = 0.01831819731\n",
      "bestIteration = 5152\n",
      "\n",
      "Training on fold [1/3]\n",
      "\n",
      "bestTest = 0.01840320013\n",
      "bestIteration = 5153\n",
      "\n",
      "Training on fold [2/3]\n",
      "\n",
      "bestTest = 0.01798509875\n",
      "bestIteration = 5156\n",
      "\n",
      "Training on fold [0/3]\n",
      "\n",
      "bestTest = 0.07643905754\n",
      "bestIteration = 2467\n",
      "\n",
      "Training on fold [1/3]\n",
      "\n",
      "bestTest = 0.01305902204\n",
      "bestIteration = 958\n",
      "\n",
      "Training on fold [2/3]\n",
      "\n",
      "bestTest = 0.01559363482\n",
      "bestIteration = 1089\n",
      "\n",
      "Training on fold [0/3]\n",
      "\n",
      "bestTest = 0.01773449133\n",
      "bestIteration = 5971\n",
      "\n",
      "Training on fold [1/3]\n",
      "\n",
      "bestTest = 0.01859362799\n",
      "bestIteration = 5885\n",
      "\n",
      "Training on fold [2/3]\n",
      "\n",
      "bestTest = 0.01593460308\n",
      "bestIteration = 5973\n",
      "\n",
      "Training on fold [0/3]\n",
      "\n",
      "bestTest = 0.01719234665\n",
      "bestIteration = 1648\n",
      "\n",
      "Training on fold [1/3]\n",
      "\n",
      "bestTest = 0.01693633064\n",
      "bestIteration = 1644\n",
      "\n",
      "Training on fold [2/3]\n",
      "\n",
      "bestTest = 0.01721685638\n",
      "bestIteration = 1648\n",
      "\n",
      "Training on fold [0/3]\n",
      "\n",
      "bestTest = 0.01539654073\n",
      "bestIteration = 1040\n",
      "\n",
      "Training on fold [1/3]\n",
      "\n",
      "bestTest = 0.01500836362\n",
      "bestIteration = 1040\n",
      "\n",
      "Training on fold [2/3]\n",
      "\n",
      "bestTest = 0.01508725566\n",
      "bestIteration = 1040\n",
      "\n",
      "Training on fold [0/3]\n",
      "\n",
      "bestTest = 0.01872045819\n",
      "bestIteration = 1184\n",
      "\n",
      "Training on fold [1/3]\n",
      "\n",
      "bestTest = 0.01922679202\n",
      "bestIteration = 1182\n",
      "\n",
      "Training on fold [2/3]\n",
      "\n",
      "bestTest = 0.02346038665\n",
      "bestIteration = 1175\n",
      "\n",
      "Training on fold [0/3]\n",
      "\n",
      "bestTest = 0.02216807956\n",
      "bestIteration = 1989\n",
      "\n",
      "Training on fold [1/3]\n",
      "\n",
      "bestTest = 0.0122768933\n",
      "bestIteration = 1934\n",
      "\n",
      "Training on fold [2/3]\n",
      "\n",
      "bestTest = 0.0129755845\n",
      "bestIteration = 1991\n",
      "\n",
      "Training on fold [0/3]\n",
      "\n",
      "bestTest = 0.03046150859\n",
      "bestIteration = 1018\n",
      "\n",
      "Training on fold [1/3]\n",
      "\n",
      "bestTest = 0.04213025878\n",
      "bestIteration = 722\n",
      "\n",
      "Training on fold [2/3]\n",
      "\n",
      "bestTest = 0.05135031155\n",
      "bestIteration = 753\n",
      "\n",
      "Training on fold [0/3]\n",
      "\n",
      "bestTest = 0.01713629999\n",
      "bestIteration = 1819\n",
      "\n",
      "Training on fold [1/3]\n",
      "\n",
      "bestTest = 0.01685285335\n",
      "bestIteration = 1830\n",
      "\n",
      "Training on fold [2/3]\n",
      "\n",
      "bestTest = 0.01724075194\n",
      "bestIteration = 1150\n",
      "\n",
      "Training on fold [0/3]\n",
      "\n",
      "bestTest = 0.03848641435\n",
      "bestIteration = 1771\n",
      "\n",
      "Training on fold [1/3]\n",
      "\n",
      "bestTest = 0.0359537112\n",
      "bestIteration = 445\n",
      "\n",
      "Training on fold [2/3]\n",
      "\n",
      "bestTest = 0.0311858719\n",
      "bestIteration = 463\n",
      "\n",
      "Training on fold [0/3]\n",
      "\n",
      "bestTest = 0.04239886923\n",
      "bestIteration = 1976\n",
      "\n",
      "Training on fold [1/3]\n",
      "\n",
      "bestTest = 0.05059348839\n",
      "bestIteration = 719\n",
      "\n",
      "Training on fold [2/3]\n",
      "\n",
      "bestTest = 0.03820266698\n",
      "bestIteration = 2513\n",
      "\n",
      "Number of finished trials: 18\n",
      "Finland Best trial:\n",
      "  Value: 0.01516405333565501\n",
      "Finland  Params: \n",
      "    iterations: 1041\n",
      "    learning_rate: 0.015182214345251079\n",
      "    objective: MAPE\n",
      "    colsample_bylevel: 0.22429273294167337\n",
      "    depth: 2\n",
      "    boosting_type: Ordered\n",
      "    bootstrap_type: Bernoulli\n",
      "    subsample: 0.3973207882180353\n",
      "Training on fold [0/3]\n",
      "\n",
      "bestTest = 0.09251185443\n",
      "bestIteration = 1735\n",
      "\n",
      "Training on fold [1/3]\n",
      "\n",
      "bestTest = 0.03388524851\n",
      "bestIteration = 1228\n",
      "\n",
      "Training on fold [2/3]\n",
      "\n",
      "bestTest = 0.03716501373\n",
      "bestIteration = 768\n",
      "\n",
      "Training on fold [0/3]\n",
      "\n",
      "bestTest = 0.1059362806\n",
      "bestIteration = 1840\n",
      "\n",
      "Training on fold [1/3]\n",
      "\n",
      "bestTest = 0.08195278738\n",
      "bestIteration = 689\n",
      "\n",
      "Training on fold [2/3]\n",
      "\n",
      "bestTest = 0.06082223896\n",
      "bestIteration = 1226\n",
      "\n",
      "Training on fold [0/3]\n",
      "\n",
      "bestTest = 0.01754758949\n",
      "bestIteration = 2875\n",
      "\n",
      "Training on fold [1/3]\n",
      "\n",
      "bestTest = 0.01644578787\n",
      "bestIteration = 2949\n",
      "\n",
      "Training on fold [2/3]\n",
      "\n",
      "bestTest = 0.01913386437\n",
      "bestIteration = 1517\n",
      "\n",
      "Training on fold [0/3]\n",
      "\n",
      "bestTest = 0.1825686544\n",
      "bestIteration = 321\n",
      "\n",
      "Training on fold [1/3]\n",
      "\n",
      "bestTest = 0.1690091139\n",
      "bestIteration = 442\n",
      "\n",
      "Training on fold [2/3]\n",
      "\n",
      "bestTest = 0.1494469007\n",
      "bestIteration = 393\n",
      "\n",
      "Training on fold [0/3]\n",
      "\n",
      "bestTest = 0.017975447\n",
      "bestIteration = 5635\n",
      "\n",
      "Training on fold [1/3]\n",
      "\n",
      "bestTest = 0.01643534245\n",
      "bestIteration = 5561\n",
      "\n",
      "Training on fold [2/3]\n",
      "\n",
      "bestTest = 0.01861442763\n",
      "bestIteration = 1357\n",
      "\n",
      "Training on fold [0/3]\n",
      "\n",
      "bestTest = 0.01963197543\n",
      "bestIteration = 1686\n",
      "\n",
      "Training on fold [1/3]\n",
      "\n",
      "bestTest = 0.01959863978\n",
      "bestIteration = 2035\n",
      "\n",
      "Training on fold [2/3]\n",
      "\n",
      "bestTest = 0.02325367976\n",
      "bestIteration = 1132\n",
      "\n",
      "Training on fold [0/3]\n",
      "\n",
      "bestTest = 0.06191458805\n",
      "bestIteration = 1857\n",
      "\n",
      "Training on fold [1/3]\n",
      "\n",
      "bestTest = 0.06159536744\n",
      "bestIteration = 1373\n",
      "\n",
      "Training on fold [2/3]\n",
      "\n",
      "bestTest = 0.09925928806\n",
      "bestIteration = 1844\n",
      "\n",
      "Training on fold [0/3]\n",
      "\n",
      "bestTest = 0.0268797489\n",
      "bestIteration = 1109\n",
      "\n",
      "Training on fold [1/3]\n",
      "\n",
      "bestTest = 0.02159896443\n",
      "bestIteration = 1103\n",
      "\n",
      "Training on fold [2/3]\n",
      "\n",
      "bestTest = 0.02126106265\n",
      "bestIteration = 1109\n",
      "\n",
      "Training on fold [0/3]\n",
      "\n",
      "bestTest = 0.08961998851\n",
      "bestIteration = 2030\n",
      "\n",
      "Training on fold [1/3]\n",
      "\n",
      "bestTest = 0.09367456144\n",
      "bestIteration = 2035\n",
      "\n",
      "Training on fold [2/3]\n",
      "\n",
      "bestTest = 0.09360663794\n",
      "bestIteration = 2035\n",
      "\n",
      "Training on fold [0/3]\n",
      "\n",
      "bestTest = 0.01482674725\n",
      "bestIteration = 4896\n",
      "\n",
      "Training on fold [1/3]\n",
      "\n",
      "bestTest = 0.0146889097\n",
      "bestIteration = 4890\n",
      "\n",
      "Training on fold [2/3]\n",
      "\n",
      "bestTest = 0.0154586182\n",
      "bestIteration = 4885\n",
      "\n",
      "Training on fold [0/3]\n",
      "\n",
      "bestTest = 0.01270067365\n",
      "bestIteration = 4165\n",
      "\n",
      "Training on fold [1/3]\n",
      "\n",
      "bestTest = 0.02257214064\n",
      "bestIteration = 3108\n",
      "\n",
      "Training on fold [2/3]\n",
      "\n",
      "bestTest = 0.02794638961\n",
      "bestIteration = 3067\n",
      "\n",
      "Training on fold [0/3]\n",
      "\n",
      "bestTest = 0.01820348159\n",
      "bestIteration = 6635\n",
      "\n",
      "Training on fold [1/3]\n",
      "\n",
      "bestTest = 0.01712293423\n",
      "bestIteration = 6637\n",
      "\n",
      "Training on fold [2/3]\n",
      "\n",
      "bestTest = 0.01798321189\n",
      "bestIteration = 6637\n",
      "\n",
      "Number of finished trials: 12\n",
      "Italy Best trial:\n",
      "  Value: 0.014991486298029015\n",
      "Italy  Params: \n",
      "    iterations: 4899\n",
      "    learning_rate: 0.02089712608636091\n",
      "    objective: MAPE\n",
      "    colsample_bylevel: 0.0243609930381139\n",
      "    depth: 6\n",
      "    boosting_type: Plain\n",
      "    bootstrap_type: MVS\n",
      "Training on fold [0/3]\n",
      "\n",
      "bestTest = 0.04309801551\n",
      "bestIteration = 2546\n",
      "\n",
      "Training on fold [1/3]\n",
      "\n",
      "bestTest = 0.03571864447\n",
      "bestIteration = 1390\n",
      "\n",
      "Training on fold [2/3]\n",
      "\n",
      "bestTest = 0.0254853748\n",
      "bestIteration = 3467\n",
      "\n",
      "Training on fold [0/3]\n",
      "\n",
      "bestTest = 0.04255963555\n",
      "bestIteration = 3579\n",
      "\n",
      "Training on fold [1/3]\n",
      "\n",
      "bestTest = 0.04337862082\n",
      "bestIteration = 2784\n",
      "\n",
      "Training on fold [2/3]\n",
      "\n",
      "bestTest = 0.02795665947\n",
      "bestIteration = 3579\n",
      "\n",
      "Training on fold [0/3]\n",
      "\n",
      "bestTest = 0.06431892099\n",
      "bestIteration = 2676\n",
      "\n",
      "Training on fold [1/3]\n",
      "\n",
      "bestTest = 0.06490823706\n",
      "bestIteration = 2677\n",
      "\n",
      "Training on fold [2/3]\n",
      "\n",
      "bestTest = 0.06405057419\n",
      "bestIteration = 2678\n",
      "\n",
      "Training on fold [0/3]\n",
      "\n",
      "bestTest = 0.0410230105\n",
      "bestIteration = 3465\n",
      "\n",
      "Training on fold [1/3]\n",
      "\n",
      "bestTest = 0.04085398973\n",
      "bestIteration = 1600\n",
      "\n",
      "Training on fold [2/3]\n",
      "\n",
      "bestTest = 0.02363902416\n",
      "bestIteration = 3655\n",
      "\n",
      "Training on fold [0/3]\n",
      "\n",
      "bestTest = 0.07076076684\n",
      "bestIteration = 1722\n",
      "\n",
      "Training on fold [1/3]\n",
      "\n",
      "bestTest = 0.1121934004\n",
      "bestIteration = 975\n",
      "\n",
      "Training on fold [2/3]\n",
      "\n",
      "bestTest = 0.03001677177\n",
      "bestIteration = 4797\n",
      "\n",
      "Training on fold [0/3]\n",
      "\n",
      "bestTest = 0.1241274443\n",
      "bestIteration = 1099\n",
      "\n",
      "Training on fold [1/3]\n",
      "\n",
      "bestTest = 0.1375731804\n",
      "bestIteration = 1099\n",
      "\n",
      "Training on fold [2/3]\n",
      "\n",
      "bestTest = 0.1352553578\n",
      "bestIteration = 1093\n",
      "\n",
      "Training on fold [0/3]\n",
      "\n",
      "bestTest = 0.0464351271\n",
      "bestIteration = 1539\n",
      "\n",
      "Training on fold [1/3]\n",
      "\n",
      "bestTest = 0.0321097456\n",
      "bestIteration = 1560\n",
      "\n",
      "Training on fold [2/3]\n",
      "\n",
      "bestTest = 0.02311318403\n",
      "bestIteration = 5788\n",
      "\n",
      "Training on fold [0/3]\n",
      "\n",
      "bestTest = 0.04239771535\n",
      "bestIteration = 4455\n",
      "\n",
      "Training on fold [1/3]\n",
      "\n",
      "bestTest = 0.0440548596\n",
      "bestIteration = 4409\n",
      "\n",
      "Training on fold [2/3]\n",
      "\n",
      "bestTest = 0.02566046351\n",
      "bestIteration = 6709\n",
      "\n",
      "Training on fold [0/3]\n",
      "\n",
      "bestTest = 0.0468752088\n",
      "bestIteration = 2660\n",
      "\n",
      "Training on fold [1/3]\n",
      "\n",
      "bestTest = 0.04729928107\n",
      "bestIteration = 2660\n",
      "\n",
      "Training on fold [2/3]\n",
      "\n",
      "bestTest = 0.03629411309\n",
      "bestIteration = 2660\n",
      "\n",
      "Training on fold [0/3]\n",
      "\n",
      "bestTest = 0.05911343371\n",
      "bestIteration = 1016\n",
      "\n",
      "Training on fold [1/3]\n",
      "\n",
      "bestTest = 0.03915728734\n",
      "bestIteration = 1130\n",
      "\n",
      "Training on fold [2/3]\n",
      "\n",
      "bestTest = 0.02542263148\n",
      "bestIteration = 2776\n",
      "\n",
      "Training on fold [0/3]\n",
      "\n",
      "bestTest = 0.07087312929\n",
      "bestIteration = 746\n",
      "\n",
      "Training on fold [1/3]\n",
      "\n",
      "bestTest = 0.03744563036\n",
      "bestIteration = 1004\n",
      "\n",
      "Training on fold [2/3]\n",
      "\n",
      "bestTest = 0.02667349868\n",
      "bestIteration = 1830\n",
      "\n",
      "Training on fold [0/3]\n",
      "\n",
      "bestTest = 0.0480182232\n",
      "bestIteration = 1665\n",
      "\n",
      "Training on fold [1/3]\n",
      "\n",
      "bestTest = 0.04215480683\n",
      "bestIteration = 867\n",
      "\n",
      "Training on fold [2/3]\n",
      "\n",
      "bestTest = 0.02093114692\n",
      "bestIteration = 4586\n",
      "\n",
      "Training on fold [0/3]\n",
      "\n",
      "bestTest = 0.04500656002\n",
      "bestIteration = 1463\n",
      "\n",
      "Training on fold [1/3]\n",
      "\n",
      "bestTest = 0.03943335696\n",
      "bestIteration = 1603\n",
      "\n",
      "Training on fold [2/3]\n",
      "\n",
      "bestTest = 0.02363793965\n",
      "bestIteration = 5172\n",
      "\n",
      "Number of finished trials: 13\n",
      "Kenya Best trial:\n",
      "  Value: 0.034362422969741284\n",
      "Kenya  Params: \n",
      "    iterations: 5789\n",
      "    learning_rate: 0.019907125345552695\n",
      "    objective: MAPE\n",
      "    colsample_bylevel: 0.5305169369373978\n",
      "    depth: 2\n",
      "    boosting_type: Ordered\n",
      "    bootstrap_type: Bayesian\n",
      "    bagging_temperature: 1.036554516162188\n",
      "Training on fold [0/3]\n",
      "\n",
      "bestTest = 0.07569687663\n",
      "bestIteration = 2169\n",
      "\n",
      "Training on fold [1/3]\n",
      "\n",
      "bestTest = 0.02851512368\n",
      "bestIteration = 2724\n",
      "\n",
      "Training on fold [2/3]\n",
      "\n",
      "bestTest = 0.04372183925\n",
      "bestIteration = 1200\n",
      "\n",
      "Training on fold [0/3]\n",
      "\n",
      "bestTest = 0.03115762002\n",
      "bestIteration = 2586\n",
      "\n",
      "Training on fold [1/3]\n",
      "\n",
      "bestTest = 0.02487229262\n",
      "bestIteration = 2582\n",
      "\n",
      "Training on fold [2/3]\n",
      "\n",
      "bestTest = 0.03491042898\n",
      "bestIteration = 1353\n",
      "\n",
      "Training on fold [0/3]\n",
      "\n",
      "bestTest = 0.01671301968\n",
      "bestIteration = 3579\n",
      "\n",
      "Training on fold [1/3]\n",
      "\n",
      "bestTest = 0.01560823221\n",
      "bestIteration = 3586\n",
      "\n",
      "Training on fold [2/3]\n",
      "\n",
      "bestTest = 0.01985547554\n",
      "bestIteration = 3586\n",
      "\n",
      "Training on fold [0/3]\n",
      "\n",
      "bestTest = 0.04598693191\n",
      "bestIteration = 2621\n",
      "\n",
      "Training on fold [1/3]\n",
      "\n",
      "bestTest = 0.01182842435\n",
      "bestIteration = 3057\n",
      "\n",
      "Training on fold [2/3]\n",
      "\n",
      "bestTest = 0.01529557327\n",
      "bestIteration = 3874\n",
      "\n",
      "Training on fold [0/3]\n",
      "\n",
      "bestTest = 0.05484401232\n",
      "bestIteration = 2987\n",
      "\n",
      "Training on fold [1/3]\n",
      "\n",
      "bestTest = 0.02292702659\n",
      "bestIteration = 1287\n",
      "\n",
      "Training on fold [2/3]\n",
      "\n",
      "bestTest = 0.03101737964\n",
      "bestIteration = 1591\n",
      "\n",
      "Training on fold [0/3]\n",
      "\n",
      "bestTest = 0.03722950768\n",
      "bestIteration = 3685\n",
      "\n",
      "Training on fold [1/3]\n",
      "\n",
      "bestTest = 0.03220779666\n",
      "bestIteration = 3703\n",
      "\n",
      "Training on fold [2/3]\n",
      "\n",
      "bestTest = 0.03973209477\n",
      "bestIteration = 2210\n",
      "\n",
      "Training on fold [0/3]\n",
      "\n",
      "bestTest = 0.01752866767\n",
      "bestIteration = 2837\n",
      "\n",
      "Training on fold [1/3]\n",
      "\n",
      "bestTest = 0.05414529948\n",
      "bestIteration = 2428\n",
      "\n",
      "Training on fold [2/3]\n",
      "\n",
      "bestTest = 0.05401254985\n",
      "bestIteration = 950\n",
      "\n",
      "Number of finished trials: 7\n",
      "Norway Best trial:\n",
      "  Value: 0.017392956208749248\n",
      "Norway  Params: \n",
      "    iterations: 3590\n",
      "    learning_rate: 0.01285256102596382\n",
      "    objective: MAPE\n",
      "    colsample_bylevel: 0.03140463576151846\n",
      "    depth: 2\n",
      "    boosting_type: Plain\n",
      "    bootstrap_type: Bayesian\n",
      "    bagging_temperature: 1.0000810947264094\n",
      "Training on fold [0/3]\n",
      "\n",
      "bestTest = 0.07421574898\n",
      "bestIteration = 1999\n",
      "\n",
      "Training on fold [1/3]\n",
      "\n",
      "bestTest = 0.04543010351\n",
      "bestIteration = 1445\n",
      "\n",
      "Training on fold [2/3]\n",
      "\n",
      "bestTest = 0.07400174372\n",
      "bestIteration = 991\n",
      "\n",
      "Training on fold [0/3]\n",
      "\n",
      "bestTest = 0.06013511652\n",
      "bestIteration = 1482\n",
      "\n",
      "Training on fold [1/3]\n",
      "\n",
      "bestTest = 0.09634079422\n",
      "bestIteration = 620\n",
      "\n",
      "Training on fold [2/3]\n",
      "\n",
      "bestTest = 0.07100426561\n",
      "bestIteration = 1729\n",
      "\n",
      "Training on fold [0/3]\n",
      "\n",
      "bestTest = 0.04458630864\n",
      "bestIteration = 3793\n",
      "\n",
      "Training on fold [1/3]\n",
      "\n",
      "bestTest = 0.01913786536\n",
      "bestIteration = 2137\n",
      "\n",
      "Training on fold [2/3]\n",
      "\n",
      "bestTest = 0.03047300061\n",
      "bestIteration = 1525\n",
      "\n",
      "Training on fold [0/3]\n",
      "\n",
      "bestTest = 0.01549719645\n",
      "bestIteration = 6518\n",
      "\n",
      "Training on fold [1/3]\n",
      "\n",
      "bestTest = 0.01519294308\n",
      "bestIteration = 6442\n",
      "\n",
      "Training on fold [2/3]\n",
      "\n",
      "bestTest = 0.02094963637\n",
      "bestIteration = 4567\n",
      "\n",
      "Training on fold [0/3]\n",
      "\n",
      "bestTest = 0.02415923593\n",
      "bestIteration = 6540\n",
      "\n",
      "Training on fold [1/3]\n",
      "\n",
      "bestTest = 0.02104924839\n",
      "bestIteration = 6540\n",
      "\n",
      "Training on fold [2/3]\n",
      "\n",
      "bestTest = 0.01879048146\n",
      "bestIteration = 6465\n",
      "\n",
      "Training on fold [0/3]\n",
      "\n",
      "bestTest = 0.05711861352\n",
      "bestIteration = 1863\n",
      "\n",
      "Training on fold [1/3]\n",
      "\n",
      "bestTest = 0.05918856381\n",
      "bestIteration = 1880\n",
      "\n",
      "Training on fold [2/3]\n",
      "\n",
      "bestTest = 0.05534370821\n",
      "bestIteration = 1830\n",
      "\n",
      "Training on fold [0/3]\n",
      "\n",
      "bestTest = 0.0595411478\n",
      "bestIteration = 3045\n",
      "\n",
      "Training on fold [1/3]\n",
      "\n",
      "bestTest = 0.07343087402\n",
      "bestIteration = 1764\n",
      "\n",
      "Training on fold [2/3]\n",
      "\n",
      "bestTest = 0.05963533847\n",
      "bestIteration = 820\n",
      "\n",
      "Number of finished trials: 7\n",
      "Singapore Best trial:\n",
      "  Value: 0.017250710402550284\n",
      "Singapore  Params: \n",
      "    iterations: 6519\n",
      "    learning_rate: 0.015466249589173404\n",
      "    objective: MAPE\n",
      "    colsample_bylevel: 0.019795421139783574\n",
      "    depth: 4\n",
      "    boosting_type: Ordered\n",
      "    bootstrap_type: Bayesian\n",
      "    bagging_temperature: 3.754067567020262\n"
     ]
    }
   ],
   "source": [
    "from functools import partial \n",
    "\n",
    "country_best_params={}\n",
    "for c in countrylist:\n",
    "    objective = partial(objective, country = c)\n",
    "    \n",
    "    optuna.logging.set_verbosity(optuna.logging.CRITICAL)\n",
    "    study = optuna.create_study(\n",
    "        #pruner=optuna.pruners.MedianPruner(n_warmup_steps=5), \n",
    "        direction=\"minimize\",\n",
    "    )\n",
    "    study.optimize(objective, n_trials=100, timeout=600)\n",
    "    \n",
    "    print(\"Number of finished trials: {}\".format(len(study.trials)))\n",
    "    \n",
    "    print(f'{c} Best trial:')\n",
    "    trial = study.best_trial\n",
    "    \n",
    "    print(\"  Value: {}\".format(trial.value))\n",
    "    \n",
    "    print(f\"{c}  Params: \")\n",
    "    country_best_params[c]=trial.params.copy()\n",
    "    for key, value in trial.params.items():\n",
    "        print(\"    {}: {}\".format(key, value))\n",
    "        "
   ]
  },
  {
   "cell_type": "code",
   "execution_count": 58,
   "id": "9349dc8d",
   "metadata": {
    "execution": {
     "iopub.execute_input": "2025-01-15T19:56:18.578979Z",
     "iopub.status.busy": "2025-01-15T19:56:18.578570Z",
     "iopub.status.idle": "2025-01-15T19:56:18.582480Z",
     "shell.execute_reply": "2025-01-15T19:56:18.581649Z"
    },
    "papermill": {
     "duration": 0.038068,
     "end_time": "2025-01-15T19:56:18.584038",
     "exception": false,
     "start_time": "2025-01-15T19:56:18.545970",
     "status": "completed"
    },
    "tags": []
   },
   "outputs": [],
   "source": [
    "#print(study.best_params)"
   ]
  },
  {
   "cell_type": "code",
   "execution_count": 59,
   "id": "58cc1791",
   "metadata": {
    "execution": {
     "iopub.execute_input": "2025-01-15T19:56:18.650545Z",
     "iopub.status.busy": "2025-01-15T19:56:18.650233Z",
     "iopub.status.idle": "2025-01-15T19:56:18.653668Z",
     "shell.execute_reply": "2025-01-15T19:56:18.652824Z"
    },
    "papermill": {
     "duration": 0.038548,
     "end_time": "2025-01-15T19:56:18.655073",
     "exception": false,
     "start_time": "2025-01-15T19:56:18.616525",
     "status": "completed"
    },
    "tags": []
   },
   "outputs": [],
   "source": [
    "# from catboost import Pool,cv\n",
    "# cats=df_train.select_dtypes('category').columns\n",
    "# features=df_train.drop(['id','num_sold','date'],axis=1).columns\n",
    "# train_pool = Pool(data=df_train.drop(['id','num_sold','date'],axis=1),\n",
    "#              label=df_train['num_sold'],\n",
    "#              cat_features=cats.to_list())"
   ]
  },
  {
   "cell_type": "code",
   "execution_count": 60,
   "id": "d7b66bdc",
   "metadata": {
    "execution": {
     "iopub.execute_input": "2025-01-15T19:56:18.720605Z",
     "iopub.status.busy": "2025-01-15T19:56:18.720246Z",
     "iopub.status.idle": "2025-01-15T19:56:18.723903Z",
     "shell.execute_reply": "2025-01-15T19:56:18.723061Z"
    },
    "papermill": {
     "duration": 0.038384,
     "end_time": "2025-01-15T19:56:18.725432",
     "exception": false,
     "start_time": "2025-01-15T19:56:18.687048",
     "status": "completed"
    },
    "tags": []
   },
   "outputs": [],
   "source": [
    "# from catboost import Pool,cv\n",
    "\n",
    "#              #feature_names=features)\n",
    "\n",
    "\n",
    "# # params = {\"iterations\": 1000,\n",
    "# #           \"depth\": 4,\n",
    "# #           \"loss_function\": \"MAPE\",\n",
    "# #           \"verbose\": False}\n",
    "\n",
    "# scores = cv(train_pool,\n",
    "#             study.best_params,\n",
    "#            fold_count=5,\n",
    "#             verbose=0,\n",
    "#            )\n",
    "\n",
    "# print(scores)"
   ]
  },
  {
   "cell_type": "code",
   "execution_count": 61,
   "id": "348dd925",
   "metadata": {
    "execution": {
     "iopub.execute_input": "2025-01-15T19:56:18.793512Z",
     "iopub.status.busy": "2025-01-15T19:56:18.793146Z",
     "iopub.status.idle": "2025-01-15T19:56:18.797055Z",
     "shell.execute_reply": "2025-01-15T19:56:18.796068Z"
    },
    "papermill": {
     "duration": 0.039097,
     "end_time": "2025-01-15T19:56:18.798548",
     "exception": false,
     "start_time": "2025-01-15T19:56:18.759451",
     "status": "completed"
    },
    "tags": []
   },
   "outputs": [],
   "source": [
    "#print(scores)"
   ]
  },
  {
   "cell_type": "code",
   "execution_count": 62,
   "id": "eaaab8c7",
   "metadata": {
    "execution": {
     "iopub.execute_input": "2025-01-15T19:56:18.865155Z",
     "iopub.status.busy": "2025-01-15T19:56:18.864726Z",
     "iopub.status.idle": "2025-01-15T19:56:18.868305Z",
     "shell.execute_reply": "2025-01-15T19:56:18.867545Z"
    },
    "papermill": {
     "duration": 0.038243,
     "end_time": "2025-01-15T19:56:18.869629",
     "exception": false,
     "start_time": "2025-01-15T19:56:18.831386",
     "status": "completed"
    },
    "tags": []
   },
   "outputs": [],
   "source": [
    "#hyperdict=optuna.importance.get_param_importances(study)"
   ]
  },
  {
   "cell_type": "code",
   "execution_count": 63,
   "id": "e6b5f1c9",
   "metadata": {
    "execution": {
     "iopub.execute_input": "2025-01-15T19:56:18.935923Z",
     "iopub.status.busy": "2025-01-15T19:56:18.935516Z",
     "iopub.status.idle": "2025-01-15T19:56:18.939312Z",
     "shell.execute_reply": "2025-01-15T19:56:18.938334Z"
    },
    "papermill": {
     "duration": 0.038875,
     "end_time": "2025-01-15T19:56:18.940960",
     "exception": false,
     "start_time": "2025-01-15T19:56:18.902085",
     "status": "completed"
    },
    "tags": []
   },
   "outputs": [],
   "source": [
    "#print(hyperdict)"
   ]
  },
  {
   "cell_type": "code",
   "execution_count": 64,
   "id": "0b1bde85",
   "metadata": {
    "execution": {
     "iopub.execute_input": "2025-01-15T19:56:19.008910Z",
     "iopub.status.busy": "2025-01-15T19:56:19.008487Z",
     "iopub.status.idle": "2025-01-15T19:56:19.014621Z",
     "shell.execute_reply": "2025-01-15T19:56:19.013757Z"
    },
    "papermill": {
     "duration": 0.041516,
     "end_time": "2025-01-15T19:56:19.016212",
     "exception": false,
     "start_time": "2025-01-15T19:56:18.974696",
     "status": "completed"
    },
    "tags": []
   },
   "outputs": [
    {
     "name": "stdout",
     "output_type": "stream",
     "text": [
      "Canada\n",
      "{'iterations': 6756, 'learning_rate': 0.013446506928686083, 'objective': 'MAPE', 'colsample_bylevel': 0.02519288841345396, 'depth': 5, 'boosting_type': 'Plain', 'bootstrap_type': 'Bernoulli', 'subsample': 0.22567684080557457}\n",
      "Finland\n",
      "{'iterations': 1041, 'learning_rate': 0.015182214345251079, 'objective': 'MAPE', 'colsample_bylevel': 0.22429273294167337, 'depth': 2, 'boosting_type': 'Ordered', 'bootstrap_type': 'Bernoulli', 'subsample': 0.3973207882180353}\n",
      "Italy\n",
      "{'iterations': 4899, 'learning_rate': 0.02089712608636091, 'objective': 'MAPE', 'colsample_bylevel': 0.0243609930381139, 'depth': 6, 'boosting_type': 'Plain', 'bootstrap_type': 'MVS'}\n",
      "Kenya\n",
      "{'iterations': 5789, 'learning_rate': 0.019907125345552695, 'objective': 'MAPE', 'colsample_bylevel': 0.5305169369373978, 'depth': 2, 'boosting_type': 'Ordered', 'bootstrap_type': 'Bayesian', 'bagging_temperature': 1.036554516162188}\n",
      "Norway\n",
      "{'iterations': 3590, 'learning_rate': 0.01285256102596382, 'objective': 'MAPE', 'colsample_bylevel': 0.03140463576151846, 'depth': 2, 'boosting_type': 'Plain', 'bootstrap_type': 'Bayesian', 'bagging_temperature': 1.0000810947264094}\n",
      "Singapore\n",
      "{'iterations': 6519, 'learning_rate': 0.015466249589173404, 'objective': 'MAPE', 'colsample_bylevel': 0.019795421139783574, 'depth': 4, 'boosting_type': 'Ordered', 'bootstrap_type': 'Bayesian', 'bagging_temperature': 3.754067567020262}\n"
     ]
    }
   ],
   "source": [
    "for p,v in country_best_params.items():\n",
    "    print(p)\n",
    "    print(v)"
   ]
  },
  {
   "cell_type": "code",
   "execution_count": 65,
   "id": "f1833800",
   "metadata": {
    "execution": {
     "iopub.execute_input": "2025-01-15T19:56:19.082572Z",
     "iopub.status.busy": "2025-01-15T19:56:19.082263Z",
     "iopub.status.idle": "2025-01-15T19:56:19.086697Z",
     "shell.execute_reply": "2025-01-15T19:56:19.085933Z"
    },
    "papermill": {
     "duration": 0.039244,
     "end_time": "2025-01-15T19:56:19.088199",
     "exception": false,
     "start_time": "2025-01-15T19:56:19.048955",
     "status": "completed"
    },
    "tags": []
   },
   "outputs": [],
   "source": [
    "#Execute this cell in case of loading fitted model to do prediction\n",
    "country_model={}\n",
    "def LoadModel():\n",
    "    Path='/kaggle/input/cbfitmodels'\n",
    "    countrylist=['Canada','Finland','Italy','Kenya','Norway','Singapore']\n",
    "    for c in countrylist:\n",
    "        country_model[c]=cb.CatBoostRegressor().load_model(f'{Path}/cbfit_{c}')\n"
   ]
  },
  {
   "cell_type": "code",
   "execution_count": 66,
   "id": "927c3341",
   "metadata": {
    "execution": {
     "iopub.execute_input": "2025-01-15T19:56:19.153495Z",
     "iopub.status.busy": "2025-01-15T19:56:19.153169Z",
     "iopub.status.idle": "2025-01-15T19:56:19.589413Z",
     "shell.execute_reply": "2025-01-15T19:56:19.588585Z"
    },
    "papermill": {
     "duration": 0.470682,
     "end_time": "2025-01-15T19:56:19.590999",
     "exception": false,
     "start_time": "2025-01-15T19:56:19.120317",
     "status": "completed"
    },
    "tags": []
   },
   "outputs": [],
   "source": [
    "#Use when using model without training\n",
    "LoadModel()"
   ]
  },
  {
   "cell_type": "code",
   "execution_count": 67,
   "id": "8cbab453",
   "metadata": {
    "execution": {
     "iopub.execute_input": "2025-01-15T19:56:19.658258Z",
     "iopub.status.busy": "2025-01-15T19:56:19.657830Z",
     "iopub.status.idle": "2025-01-15T19:56:19.664128Z",
     "shell.execute_reply": "2025-01-15T19:56:19.663218Z"
    },
    "papermill": {
     "duration": 0.041845,
     "end_time": "2025-01-15T19:56:19.665542",
     "exception": false,
     "start_time": "2025-01-15T19:56:19.623697",
     "status": "completed"
    },
    "tags": []
   },
   "outputs": [],
   "source": [
    "country_best_params={}\n",
    "country_best_params['Canada']={'iterations': 3593, 'learning_rate': 0.012827192029471704, 'objective': 'MAPE', 'colsample_bylevel': 0.09122674054287529, 'depth': 3, 'boosting_type': 'Ordered', 'bootstrap_type': 'Bernoulli', 'subsample': 0.3698567303900272}\n",
    "country_best_params['Finland']={'iterations': 4674, 'learning_rate': 0.021005624891915504, 'objective': 'MAPE', 'colsample_bylevel': 0.5784183002099044, 'depth': 2, 'boosting_type': 'Ordered', 'bootstrap_type': 'Bayesian', 'bagging_temperature': 5.782146139508431}\n",
    "country_best_params['Italy']={'iterations': 1398, 'learning_rate': 0.0251234589892742, 'objective': 'MAPE', 'colsample_bylevel': 0.049188944104342755, 'depth': 7, 'boosting_type': 'Plain', 'bootstrap_type': 'MVS'}\n",
    "country_best_params['Kenya']={'iterations': 3924, 'learning_rate': 0.016615674668667934, 'objective': 'MAPE', 'colsample_bylevel': 0.4274609331782009, 'depth': 2, 'boosting_type': 'Ordered', 'bootstrap_type': 'Bayesian', 'bagging_temperature': 6.2645325168308865}\n",
    "country_best_params['Norway']={'iterations': 3851, 'learning_rate': 0.019929523358906295, 'objective': 'MAPE', 'colsample_bylevel': 0.07338903404462888, 'depth': 2, 'boosting_type': 'Ordered', 'bootstrap_type': 'MVS'}\n",
    "country_best_params['Singapore']={'iterations': 1094, 'learning_rate': 0.02694754587058969, 'objective': 'MAPE', 'colsample_bylevel': 0.554849569101183, 'depth': 3, 'boosting_type': 'Plain', 'bootstrap_type': 'MVS'}"
   ]
  },
  {
   "cell_type": "code",
   "execution_count": 68,
   "id": "ceb08a0c",
   "metadata": {
    "execution": {
     "iopub.execute_input": "2025-01-15T19:56:19.731597Z",
     "iopub.status.busy": "2025-01-15T19:56:19.731282Z",
     "iopub.status.idle": "2025-01-15T19:59:04.678031Z",
     "shell.execute_reply": "2025-01-15T19:59:04.676927Z"
    },
    "papermill": {
     "duration": 165.014309,
     "end_time": "2025-01-15T19:59:04.711713",
     "exception": false,
     "start_time": "2025-01-15T19:56:19.697404",
     "status": "completed"
    },
    "tags": []
   },
   "outputs": [
    {
     "name": "stdout",
     "output_type": "stream",
     "text": [
      "Canada {'learn': {'MAPE': 0.008257984678371882}, 'validation': {'MAPE': 0.009852748180026473}}\n",
      "Finland {'learn': {'MAPE': 0.009217464434817116}, 'validation': {'MAPE': 0.0094988625791356}}\n",
      "Italy {'learn': {'MAPE': 0.008358655021293383}, 'validation': {'MAPE': 0.012219364711936583}}\n",
      "Kenya {'learn': {'MAPE': 0.023298811136212974}, 'validation': {'MAPE': 0.030087448646372833}}\n",
      "Norway {'learn': {'MAPE': 0.009734018785334727}, 'validation': {'MAPE': 0.017196333035300194}}\n",
      "Singapore {'learn': {'MAPE': 0.008412477025536}, 'validation': {'MAPE': 0.008773319031912714}}\n"
     ]
    }
   ],
   "source": [
    "#Train model with best param and iteration>1000 before prediction\n",
    "country_model={}\n",
    "for c in countrylist:\n",
    "    country_model[c]=cb.CatBoostRegressor(**country_best_params[c],verbose=0)\n",
    "    country_model[c].fit(country_train_pool[c],eval_set=country_valid_pool[c])\n",
    "    country_model[c].save_model(f'cbfit_{c}')\n",
    "    print(f'{c} {country_model[c].get_best_score()}')"
   ]
  },
  {
   "cell_type": "code",
   "execution_count": 69,
   "id": "a88e27d5",
   "metadata": {
    "execution": {
     "iopub.execute_input": "2025-01-15T19:59:04.779223Z",
     "iopub.status.busy": "2025-01-15T19:59:04.778895Z",
     "iopub.status.idle": "2025-01-15T19:59:04.784648Z",
     "shell.execute_reply": "2025-01-15T19:59:04.783624Z"
    },
    "papermill": {
     "duration": 0.041627,
     "end_time": "2025-01-15T19:59:04.786311",
     "exception": false,
     "start_time": "2025-01-15T19:59:04.744684",
     "status": "completed"
    },
    "tags": []
   },
   "outputs": [
    {
     "data": {
      "text/plain": [
       "{'Canada': <catboost.core.CatBoostRegressor at 0x79a37a80d750>,\n",
       " 'Finland': <catboost.core.CatBoostRegressor at 0x79a37a8bf370>,\n",
       " 'Italy': <catboost.core.CatBoostRegressor at 0x79a37a8bcaf0>,\n",
       " 'Kenya': <catboost.core.CatBoostRegressor at 0x79a37a8bd2d0>,\n",
       " 'Norway': <catboost.core.CatBoostRegressor at 0x79a37a80d6f0>,\n",
       " 'Singapore': <catboost.core.CatBoostRegressor at 0x79a37a80f4c0>}"
      ]
     },
     "execution_count": 69,
     "metadata": {},
     "output_type": "execute_result"
    }
   ],
   "source": [
    "country_model"
   ]
  },
  {
   "cell_type": "code",
   "execution_count": 70,
   "id": "0232a777",
   "metadata": {
    "execution": {
     "iopub.execute_input": "2025-01-15T19:59:04.854180Z",
     "iopub.status.busy": "2025-01-15T19:59:04.853785Z",
     "iopub.status.idle": "2025-01-15T19:59:08.863142Z",
     "shell.execute_reply": "2025-01-15T19:59:08.862167Z"
    },
    "papermill": {
     "duration": 4.047704,
     "end_time": "2025-01-15T19:59:08.866827",
     "exception": false,
     "start_time": "2025-01-15T19:59:04.819123",
     "status": "completed"
    },
    "tags": []
   },
   "outputs": [
    {
     "name": "stderr",
     "output_type": "stream",
     "text": [
      "<ipython-input-70-b533e4724463>:7: SettingWithCopyWarning: \n",
      "A value is trying to be set on a copy of a slice from a DataFrame.\n",
      "Try using .loc[row_indexer,col_indexer] = value instead\n",
      "\n",
      "See the caveats in the documentation: https://pandas.pydata.org/pandas-docs/stable/user_guide/indexing.html#returning-a-view-versus-a-copy\n",
      "  df['num_sold']=country_predicts[c]\n",
      "<ipython-input-70-b533e4724463>:9: SettingWithCopyWarning: \n",
      "A value is trying to be set on a copy of a slice from a DataFrame.\n",
      "Try using .loc[row_indexer,col_indexer] = value instead\n",
      "\n",
      "See the caveats in the documentation: https://pandas.pydata.org/pandas-docs/stable/user_guide/indexing.html#returning-a-view-versus-a-copy\n",
      "  df['rolling_mean'] = df['num_sold'].rolling(window=30).mean()\n",
      "<ipython-input-70-b533e4724463>:10: SettingWithCopyWarning: \n",
      "A value is trying to be set on a copy of a slice from a DataFrame.\n",
      "Try using .loc[row_indexer,col_indexer] = value instead\n",
      "\n",
      "See the caveats in the documentation: https://pandas.pydata.org/pandas-docs/stable/user_guide/indexing.html#returning-a-view-versus-a-copy\n",
      "  df['rolling_std'] = df['num_sold'].rolling(window=30).std()\n",
      "<ipython-input-70-b533e4724463>:7: SettingWithCopyWarning: \n",
      "A value is trying to be set on a copy of a slice from a DataFrame.\n",
      "Try using .loc[row_indexer,col_indexer] = value instead\n",
      "\n",
      "See the caveats in the documentation: https://pandas.pydata.org/pandas-docs/stable/user_guide/indexing.html#returning-a-view-versus-a-copy\n",
      "  df['num_sold']=country_predicts[c]\n",
      "<ipython-input-70-b533e4724463>:9: SettingWithCopyWarning: \n",
      "A value is trying to be set on a copy of a slice from a DataFrame.\n",
      "Try using .loc[row_indexer,col_indexer] = value instead\n",
      "\n",
      "See the caveats in the documentation: https://pandas.pydata.org/pandas-docs/stable/user_guide/indexing.html#returning-a-view-versus-a-copy\n",
      "  df['rolling_mean'] = df['num_sold'].rolling(window=30).mean()\n",
      "<ipython-input-70-b533e4724463>:10: SettingWithCopyWarning: \n",
      "A value is trying to be set on a copy of a slice from a DataFrame.\n",
      "Try using .loc[row_indexer,col_indexer] = value instead\n",
      "\n",
      "See the caveats in the documentation: https://pandas.pydata.org/pandas-docs/stable/user_guide/indexing.html#returning-a-view-versus-a-copy\n",
      "  df['rolling_std'] = df['num_sold'].rolling(window=30).std()\n",
      "<ipython-input-70-b533e4724463>:7: SettingWithCopyWarning: \n",
      "A value is trying to be set on a copy of a slice from a DataFrame.\n",
      "Try using .loc[row_indexer,col_indexer] = value instead\n",
      "\n",
      "See the caveats in the documentation: https://pandas.pydata.org/pandas-docs/stable/user_guide/indexing.html#returning-a-view-versus-a-copy\n",
      "  df['num_sold']=country_predicts[c]\n",
      "<ipython-input-70-b533e4724463>:9: SettingWithCopyWarning: \n",
      "A value is trying to be set on a copy of a slice from a DataFrame.\n",
      "Try using .loc[row_indexer,col_indexer] = value instead\n",
      "\n",
      "See the caveats in the documentation: https://pandas.pydata.org/pandas-docs/stable/user_guide/indexing.html#returning-a-view-versus-a-copy\n",
      "  df['rolling_mean'] = df['num_sold'].rolling(window=30).mean()\n",
      "<ipython-input-70-b533e4724463>:10: SettingWithCopyWarning: \n",
      "A value is trying to be set on a copy of a slice from a DataFrame.\n",
      "Try using .loc[row_indexer,col_indexer] = value instead\n",
      "\n",
      "See the caveats in the documentation: https://pandas.pydata.org/pandas-docs/stable/user_guide/indexing.html#returning-a-view-versus-a-copy\n",
      "  df['rolling_std'] = df['num_sold'].rolling(window=30).std()\n",
      "<ipython-input-70-b533e4724463>:7: SettingWithCopyWarning: \n",
      "A value is trying to be set on a copy of a slice from a DataFrame.\n",
      "Try using .loc[row_indexer,col_indexer] = value instead\n",
      "\n",
      "See the caveats in the documentation: https://pandas.pydata.org/pandas-docs/stable/user_guide/indexing.html#returning-a-view-versus-a-copy\n",
      "  df['num_sold']=country_predicts[c]\n",
      "<ipython-input-70-b533e4724463>:9: SettingWithCopyWarning: \n",
      "A value is trying to be set on a copy of a slice from a DataFrame.\n",
      "Try using .loc[row_indexer,col_indexer] = value instead\n",
      "\n",
      "See the caveats in the documentation: https://pandas.pydata.org/pandas-docs/stable/user_guide/indexing.html#returning-a-view-versus-a-copy\n",
      "  df['rolling_mean'] = df['num_sold'].rolling(window=30).mean()\n",
      "<ipython-input-70-b533e4724463>:10: SettingWithCopyWarning: \n",
      "A value is trying to be set on a copy of a slice from a DataFrame.\n",
      "Try using .loc[row_indexer,col_indexer] = value instead\n",
      "\n",
      "See the caveats in the documentation: https://pandas.pydata.org/pandas-docs/stable/user_guide/indexing.html#returning-a-view-versus-a-copy\n",
      "  df['rolling_std'] = df['num_sold'].rolling(window=30).std()\n",
      "<ipython-input-70-b533e4724463>:7: SettingWithCopyWarning: \n",
      "A value is trying to be set on a copy of a slice from a DataFrame.\n",
      "Try using .loc[row_indexer,col_indexer] = value instead\n",
      "\n",
      "See the caveats in the documentation: https://pandas.pydata.org/pandas-docs/stable/user_guide/indexing.html#returning-a-view-versus-a-copy\n",
      "  df['num_sold']=country_predicts[c]\n",
      "<ipython-input-70-b533e4724463>:9: SettingWithCopyWarning: \n",
      "A value is trying to be set on a copy of a slice from a DataFrame.\n",
      "Try using .loc[row_indexer,col_indexer] = value instead\n",
      "\n",
      "See the caveats in the documentation: https://pandas.pydata.org/pandas-docs/stable/user_guide/indexing.html#returning-a-view-versus-a-copy\n",
      "  df['rolling_mean'] = df['num_sold'].rolling(window=30).mean()\n",
      "<ipython-input-70-b533e4724463>:10: SettingWithCopyWarning: \n",
      "A value is trying to be set on a copy of a slice from a DataFrame.\n",
      "Try using .loc[row_indexer,col_indexer] = value instead\n",
      "\n",
      "See the caveats in the documentation: https://pandas.pydata.org/pandas-docs/stable/user_guide/indexing.html#returning-a-view-versus-a-copy\n",
      "  df['rolling_std'] = df['num_sold'].rolling(window=30).std()\n",
      "<ipython-input-70-b533e4724463>:7: SettingWithCopyWarning: \n",
      "A value is trying to be set on a copy of a slice from a DataFrame.\n",
      "Try using .loc[row_indexer,col_indexer] = value instead\n",
      "\n",
      "See the caveats in the documentation: https://pandas.pydata.org/pandas-docs/stable/user_guide/indexing.html#returning-a-view-versus-a-copy\n",
      "  df['num_sold']=country_predicts[c]\n",
      "<ipython-input-70-b533e4724463>:9: SettingWithCopyWarning: \n",
      "A value is trying to be set on a copy of a slice from a DataFrame.\n",
      "Try using .loc[row_indexer,col_indexer] = value instead\n",
      "\n",
      "See the caveats in the documentation: https://pandas.pydata.org/pandas-docs/stable/user_guide/indexing.html#returning-a-view-versus-a-copy\n",
      "  df['rolling_mean'] = df['num_sold'].rolling(window=30).mean()\n",
      "<ipython-input-70-b533e4724463>:10: SettingWithCopyWarning: \n",
      "A value is trying to be set on a copy of a slice from a DataFrame.\n",
      "Try using .loc[row_indexer,col_indexer] = value instead\n",
      "\n",
      "See the caveats in the documentation: https://pandas.pydata.org/pandas-docs/stable/user_guide/indexing.html#returning-a-view-versus-a-copy\n",
      "  df['rolling_std'] = df['num_sold'].rolling(window=30).std()\n"
     ]
    },
    {
     "data": {
      "image/png": "[encoded data removed]",
      "text/plain": [
       "<Figure size 1200x800 with 6 Axes>"
      ]
     },
     "metadata": {},
     "output_type": "display_data"
    }
   ],
   "source": [
    "fig, axes = plt.subplots(2, 3, figsize=(12, 8))\n",
    "testcountrylist=df_test['country'].unique().tolist()\n",
    "country_predicts={}\n",
    "for i,c in enumerate(testcountrylist):\n",
    "    df=df_test[df_test['country']==c]\n",
    "    country_predicts[c] = np.expm1(country_model[c].predict(df.drop(['id','country'],axis=1)))\n",
    "    df['num_sold']=country_predicts[c]\n",
    "    df.set_index('date')\n",
    "    df['rolling_mean'] = df['num_sold'].rolling(window=30).mean()\n",
    "    df['rolling_std'] = df['num_sold'].rolling(window=30).std()\n",
    "    df[['num_sold', 'rolling_mean', 'rolling_std']].plot(ax=axes.flat[i],title=f'{c} Rolling Mean and Std Dev')\n",
    "\n",
    "plt.tight_layout()\n",
    "plt.show()"
   ]
  },
  {
   "cell_type": "code",
   "execution_count": 71,
   "id": "d16e52fc",
   "metadata": {
    "execution": {
     "iopub.execute_input": "2025-01-15T19:59:08.943128Z",
     "iopub.status.busy": "2025-01-15T19:59:08.942714Z",
     "iopub.status.idle": "2025-01-15T19:59:08.970933Z",
     "shell.execute_reply": "2025-01-15T19:59:08.970063Z"
    },
    "papermill": {
     "duration": 0.068132,
     "end_time": "2025-01-15T19:59:08.972700",
     "exception": false,
     "start_time": "2025-01-15T19:59:08.904568",
     "status": "completed"
    },
    "tags": []
   },
   "outputs": [],
   "source": [
    "cdf={}\n",
    "for c in testcountrylist:\n",
    "    cid=df_test[df_test['country']==c]['id']\n",
    "    cdf[c]=pd.concat([cid.reset_index(drop=True),pd.DataFrame(np.round(country_predicts[c],0),columns=['num_sold'])],axis=1)\n",
    "   "
   ]
  },
  {
   "cell_type": "code",
   "execution_count": 72,
   "id": "060257db",
   "metadata": {
    "execution": {
     "iopub.execute_input": "2025-01-15T19:59:09.048825Z",
     "iopub.status.busy": "2025-01-15T19:59:09.048442Z",
     "iopub.status.idle": "2025-01-15T19:59:09.055289Z",
     "shell.execute_reply": "2025-01-15T19:59:09.054464Z"
    },
    "papermill": {
     "duration": 0.046731,
     "end_time": "2025-01-15T19:59:09.056826",
     "exception": false,
     "start_time": "2025-01-15T19:59:09.010095",
     "status": "completed"
    },
    "tags": []
   },
   "outputs": [],
   "source": [
    "temp = pd.concat([df.reset_index(drop=True) for df in cdf.values()])"
   ]
  },
  {
   "cell_type": "code",
   "execution_count": 73,
   "id": "bc1fff8c",
   "metadata": {
    "execution": {
     "iopub.execute_input": "2025-01-15T19:59:09.132667Z",
     "iopub.status.busy": "2025-01-15T19:59:09.132312Z",
     "iopub.status.idle": "2025-01-15T19:59:09.148824Z",
     "shell.execute_reply": "2025-01-15T19:59:09.148045Z"
    },
    "papermill": {
     "duration": 0.056017,
     "end_time": "2025-01-15T19:59:09.150533",
     "exception": false,
     "start_time": "2025-01-15T19:59:09.094516",
     "status": "completed"
    },
    "tags": []
   },
   "outputs": [],
   "source": [
    "temp=temp.drop_duplicates()"
   ]
  },
  {
   "cell_type": "code",
   "execution_count": 74,
   "id": "c810e2ed",
   "metadata": {
    "execution": {
     "iopub.execute_input": "2025-01-15T19:59:09.226970Z",
     "iopub.status.busy": "2025-01-15T19:59:09.226555Z",
     "iopub.status.idle": "2025-01-15T19:59:09.359143Z",
     "shell.execute_reply": "2025-01-15T19:59:09.358214Z"
    },
    "papermill": {
     "duration": 0.172295,
     "end_time": "2025-01-15T19:59:09.360917",
     "exception": false,
     "start_time": "2025-01-15T19:59:09.188622",
     "status": "completed"
    },
    "tags": []
   },
   "outputs": [],
   "source": [
    "temp.to_csv('submission_6country_dropna_spline_round.csv',index=False)"
   ]
  },
  {
   "cell_type": "code",
   "execution_count": 75,
   "id": "a2c997a2",
   "metadata": {
    "execution": {
     "iopub.execute_input": "2025-01-15T19:59:09.436406Z",
     "iopub.status.busy": "2025-01-15T19:59:09.436076Z",
     "iopub.status.idle": "2025-01-15T19:59:09.464580Z",
     "shell.execute_reply": "2025-01-15T19:59:09.463764Z"
    },
    "papermill": {
     "duration": 0.068238,
     "end_time": "2025-01-15T19:59:09.466367",
     "exception": false,
     "start_time": "2025-01-15T19:59:09.398129",
     "status": "completed"
    },
    "tags": []
   },
   "outputs": [],
   "source": [
    "cdf={}\n",
    "for c in testcountrylist:\n",
    "    cid=df_test[df_test['country']==c]['id']\n",
    "    cdf[c]=pd.concat([cid.reset_index(drop=True),pd.DataFrame(np.fix(country_predicts[c]),columns=['num_sold'])],axis=1)"
   ]
  },
  {
   "cell_type": "code",
   "execution_count": 76,
   "id": "92c86a6a",
   "metadata": {
    "execution": {
     "iopub.execute_input": "2025-01-15T19:59:09.543670Z",
     "iopub.status.busy": "2025-01-15T19:59:09.543301Z",
     "iopub.status.idle": "2025-01-15T19:59:09.679492Z",
     "shell.execute_reply": "2025-01-15T19:59:09.678437Z"
    },
    "papermill": {
     "duration": 0.176613,
     "end_time": "2025-01-15T19:59:09.681430",
     "exception": false,
     "start_time": "2025-01-15T19:59:09.504817",
     "status": "completed"
    },
    "tags": []
   },
   "outputs": [],
   "source": [
    "#pd.concat([df_test['id'],pd.DataFrame(np.round(predicts,0),columns=['num_sold'])],axis=1).reset_index(drop=True).to_csv('submission_impute_dropna_holidays_conseddays.csv',index=False)\n",
    "temp = pd.concat([df.reset_index(drop=True) for df in cdf.values()])\n",
    "temp=temp.drop_duplicates()\n",
    "temp.to_csv('submission_6country_dropna_spline_fix.csv',index=False)"
   ]
  }
 ],
 "metadata": {
  "kaggle": {
   "accelerator": "none",
   "dataSources": [
    {
     "databundleVersionId": 10652996,
     "sourceId": 85723,
     "sourceType": "competition"
    },
    {
     "datasetId": 6470396,
     "sourceId": 10452614,
     "sourceType": "datasetVersion"
    }
   ],
   "dockerImageVersionId": 30822,
   "isGpuEnabled": false,
   "isInternetEnabled": true,
   "language": "python",
   "sourceType": "notebook"
  },
  "kernelspec": {
   "display_name": "Python 3",
   "language": "python",
   "name": "python3"
  },
  "language_info": {
   "codemirror_mode": {
    "name": "ipython",
    "version": 3
   },
   "file_extension": ".py",
   "mimetype": "text/x-python",
   "name": "python",
   "nbconvert_exporter": "python",
   "pygments_lexer": "ipython3",
   "version": "3.10.12"
  },
  "papermill": {
   "default_parameters": {},
   "duration": 4879.827262,
   "end_time": "2025-01-15T19:59:10.648589",
   "environment_variables": {},
   "exception": null,
   "input_path": "__notebook__.ipynb",
   "output_path": "__notebook__.ipynb",
   "parameters": {},
   "start_time": "2025-01-15T18:37:50.821327",
   "version": "2.6.0"
  }
 },
 "nbformat": 4,
 "nbformat_minor": 5
}
