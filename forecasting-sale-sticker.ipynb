{
 "cells": [
  {
   "cell_type": "code",
   "execution_count": 1,
   "id": "d99bcc2a",
   "metadata": {
    "_cell_guid": "b1076dfc-b9ad-4769-8c92-a6c4dae69d19",
    "_uuid": "8f2839f25d086af736a60e9eeb907d3b93b6e0e5",
    "execution": {
     "iopub.execute_input": "2025-01-07T17:10:33.459204Z",
     "iopub.status.busy": "2025-01-07T17:10:33.458850Z",
     "iopub.status.idle": "2025-01-07T17:10:33.843122Z",
     "shell.execute_reply": "2025-01-07T17:10:33.841625Z"
    },
    "papermill": {
     "duration": 0.394519,
     "end_time": "2025-01-07T17:10:33.845032",
     "exception": false,
     "start_time": "2025-01-07T17:10:33.450513",
     "status": "completed"
    },
    "tags": []
   },
   "outputs": [
    {
     "name": "stdout",
     "output_type": "stream",
     "text": [
      "/kaggle/input/playground-series-s5e1/sample_submission.csv\n",
      "/kaggle/input/playground-series-s5e1/train.csv\n",
      "/kaggle/input/playground-series-s5e1/test.csv\n"
     ]
    }
   ],
   "source": [
    "# This Python 3 environment comes with many helpful analytics libraries installed\n",
    "# It is defined by the kaggle/python Docker image: https://github.com/kaggle/docker-python\n",
    "# For example, here's several helpful packages to load\n",
    "\n",
    "import numpy as np # linear algebra\n",
    "import pandas as pd # data processing, CSV file I/O (e.g. pd.read_csv)\n",
    "\n",
    "# Input data files are available in the read-only \"../input/\" directory\n",
    "# For example, running this (by clicking run or pressing Shift+Enter) will list all files under the input directory\n",
    "\n",
    "import os\n",
    "for dirname, _, filenames in os.walk('/kaggle/input'):\n",
    "    for filename in filenames:\n",
    "        print(os.path.join(dirname, filename))\n",
    "\n",
    "# You can write up to 20GB to the current directory (/kaggle/working/) that gets preserved as output when you create a version using \"Save & Run All\" \n",
    "# You can also write temporary files to /kaggle/temp/, but they won't be saved outside of the current session"
   ]
  },
  {
   "cell_type": "code",
   "execution_count": 2,
   "id": "783fe9d7",
   "metadata": {
    "execution": {
     "iopub.execute_input": "2025-01-07T17:10:33.866395Z",
     "iopub.status.busy": "2025-01-07T17:10:33.865915Z",
     "iopub.status.idle": "2025-01-07T17:10:40.946082Z",
     "shell.execute_reply": "2025-01-07T17:10:40.944816Z"
    },
    "papermill": {
     "duration": 7.095144,
     "end_time": "2025-01-07T17:10:40.948286",
     "exception": false,
     "start_time": "2025-01-07T17:10:33.853142",
     "status": "completed"
    },
    "tags": []
   },
   "outputs": [
    {
     "name": "stdout",
     "output_type": "stream",
     "text": [
      "Collecting optuna-integration[catboost]\r\n",
      "  Downloading optuna_integration-4.1.0-py3-none-any.whl.metadata (12 kB)\r\n",
      "Requirement already satisfied: optuna in /usr/local/lib/python3.10/dist-packages (from optuna-integration[catboost]) (4.1.0)\r\n",
      "Requirement already satisfied: numpy<2.0.0 in /usr/local/lib/python3.10/dist-packages (from optuna-integration[catboost]) (1.26.4)\r\n",
      "Requirement already satisfied: catboost in /usr/local/lib/python3.10/dist-packages (from optuna-integration[catboost]) (1.2.7)\r\n",
      "Requirement already satisfied: graphviz in /usr/local/lib/python3.10/dist-packages (from catboost->optuna-integration[catboost]) (0.20.3)\r\n",
      "Requirement already satisfied: matplotlib in /usr/local/lib/python3.10/dist-packages (from catboost->optuna-integration[catboost]) (3.7.1)\r\n",
      "Requirement already satisfied: pandas>=0.24 in /usr/local/lib/python3.10/dist-packages (from catboost->optuna-integration[catboost]) (2.1.4)\r\n",
      "Requirement already satisfied: scipy in /usr/local/lib/python3.10/dist-packages (from catboost->optuna-integration[catboost]) (1.13.1)\r\n",
      "Requirement already satisfied: plotly in /usr/local/lib/python3.10/dist-packages (from catboost->optuna-integration[catboost]) (5.24.1)\r\n",
      "Requirement already satisfied: six in /usr/local/lib/python3.10/dist-packages (from catboost->optuna-integration[catboost]) (1.16.0)\r\n",
      "Requirement already satisfied: alembic>=1.5.0 in /usr/local/lib/python3.10/dist-packages (from optuna->optuna-integration[catboost]) (1.14.0)\r\n",
      "Requirement already satisfied: colorlog in /usr/local/lib/python3.10/dist-packages (from optuna->optuna-integration[catboost]) (6.9.0)\r\n",
      "Requirement already satisfied: packaging>=20.0 in /usr/local/lib/python3.10/dist-packages (from optuna->optuna-integration[catboost]) (24.1)\r\n",
      "Requirement already satisfied: sqlalchemy>=1.4.2 in /usr/local/lib/python3.10/dist-packages (from optuna->optuna-integration[catboost]) (2.0.35)\r\n",
      "Requirement already satisfied: tqdm in /usr/local/lib/python3.10/dist-packages (from optuna->optuna-integration[catboost]) (4.66.5)\r\n",
      "Requirement already satisfied: PyYAML in /usr/local/lib/python3.10/dist-packages (from optuna->optuna-integration[catboost]) (6.0.2)\r\n",
      "Requirement already satisfied: Mako in /usr/local/lib/python3.10/dist-packages (from alembic>=1.5.0->optuna->optuna-integration[catboost]) (1.3.8)\r\n",
      "Requirement already satisfied: typing-extensions>=4 in /usr/local/lib/python3.10/dist-packages (from alembic>=1.5.0->optuna->optuna-integration[catboost]) (4.12.2)\r\n",
      "Requirement already satisfied: python-dateutil>=2.8.2 in /usr/local/lib/python3.10/dist-packages (from pandas>=0.24->catboost->optuna-integration[catboost]) (2.8.2)\r\n",
      "Requirement already satisfied: pytz>=2020.1 in /usr/local/lib/python3.10/dist-packages (from pandas>=0.24->catboost->optuna-integration[catboost]) (2024.2)\r\n",
      "Requirement already satisfied: tzdata>=2022.1 in /usr/local/lib/python3.10/dist-packages (from pandas>=0.24->catboost->optuna-integration[catboost]) (2024.1)\r\n",
      "Requirement already satisfied: greenlet!=0.4.17 in /usr/local/lib/python3.10/dist-packages (from sqlalchemy>=1.4.2->optuna->optuna-integration[catboost]) (3.1.0)\r\n",
      "Requirement already satisfied: contourpy>=1.0.1 in /usr/local/lib/python3.10/dist-packages (from matplotlib->catboost->optuna-integration[catboost]) (1.3.0)\r\n",
      "Requirement already satisfied: cycler>=0.10 in /usr/local/lib/python3.10/dist-packages (from matplotlib->catboost->optuna-integration[catboost]) (0.12.1)\r\n",
      "Requirement already satisfied: fonttools>=4.22.0 in /usr/local/lib/python3.10/dist-packages (from matplotlib->catboost->optuna-integration[catboost]) (4.53.1)\r\n",
      "Requirement already satisfied: kiwisolver>=1.0.1 in /usr/local/lib/python3.10/dist-packages (from matplotlib->catboost->optuna-integration[catboost]) (1.4.7)\r\n",
      "Requirement already satisfied: pillow>=6.2.0 in /usr/local/lib/python3.10/dist-packages (from matplotlib->catboost->optuna-integration[catboost]) (10.4.0)\r\n",
      "Requirement already satisfied: pyparsing>=2.3.1 in /usr/local/lib/python3.10/dist-packages (from matplotlib->catboost->optuna-integration[catboost]) (3.1.4)\r\n",
      "Requirement already satisfied: tenacity>=6.2.0 in /usr/local/lib/python3.10/dist-packages (from plotly->catboost->optuna-integration[catboost]) (9.0.0)\r\n",
      "Requirement already satisfied: MarkupSafe>=0.9.2 in /usr/local/lib/python3.10/dist-packages (from Mako->alembic>=1.5.0->optuna->optuna-integration[catboost]) (2.1.5)\r\n",
      "Downloading optuna_integration-4.1.0-py3-none-any.whl (97 kB)\r\n",
      "\u001b[2K   \u001b[90m━━━━━━━━━━━━━━━━━━━━━━━━━━━━━━━━━━━━━━━━\u001b[0m \u001b[32m97.4/97.4 kB\u001b[0m \u001b[31m2.7 MB/s\u001b[0m eta \u001b[36m0:00:00\u001b[0m\r\n",
      "\u001b[?25hInstalling collected packages: optuna-integration\r\n",
      "Successfully installed optuna-integration-4.1.0\r\n"
     ]
    }
   ],
   "source": [
    "!pip install optuna-integration[catboost]"
   ]
  },
  {
   "cell_type": "code",
   "execution_count": 3,
   "id": "fd0c635c",
   "metadata": {
    "execution": {
     "iopub.execute_input": "2025-01-07T17:10:40.963831Z",
     "iopub.status.busy": "2025-01-07T17:10:40.963411Z",
     "iopub.status.idle": "2025-01-07T17:10:44.399731Z",
     "shell.execute_reply": "2025-01-07T17:10:44.398718Z"
    },
    "papermill": {
     "duration": 3.446265,
     "end_time": "2025-01-07T17:10:44.401741",
     "exception": false,
     "start_time": "2025-01-07T17:10:40.955476",
     "status": "completed"
    },
    "tags": []
   },
   "outputs": [],
   "source": [
    "import pandas as pd\n",
    "import numpy as np\n",
    "import optuna\n",
    "import catboost as cb\n",
    "import matplotlib\n",
    "import seaborn as sns\n",
    "from sklearn.metrics import mean_absolute_percentage_error\n",
    "from sklearn.model_selection import train_test_split\n",
    "from optuna.integration import CatBoostPruningCallback\n",
    "\n",
    "\n"
   ]
  },
  {
   "cell_type": "code",
   "execution_count": 4,
   "id": "fcdcd72b",
   "metadata": {
    "execution": {
     "iopub.execute_input": "2025-01-07T17:10:44.417573Z",
     "iopub.status.busy": "2025-01-07T17:10:44.417085Z",
     "iopub.status.idle": "2025-01-07T17:10:44.921323Z",
     "shell.execute_reply": "2025-01-07T17:10:44.920040Z"
    },
    "papermill": {
     "duration": 0.514399,
     "end_time": "2025-01-07T17:10:44.923585",
     "exception": false,
     "start_time": "2025-01-07T17:10:44.409186",
     "status": "completed"
    },
    "tags": []
   },
   "outputs": [],
   "source": [
    "df_train=pd.read_csv('/kaggle/input/playground-series-s5e1/train.csv')\n",
    "df_test=pd.read_csv('/kaggle/input/playground-series-s5e1/test.csv')\n",
    "\n"
   ]
  },
  {
   "cell_type": "code",
   "execution_count": 5,
   "id": "14004562",
   "metadata": {
    "execution": {
     "iopub.execute_input": "2025-01-07T17:10:44.939165Z",
     "iopub.status.busy": "2025-01-07T17:10:44.938804Z",
     "iopub.status.idle": "2025-01-07T17:10:45.019197Z",
     "shell.execute_reply": "2025-01-07T17:10:45.017639Z"
    },
    "papermill": {
     "duration": 0.090325,
     "end_time": "2025-01-07T17:10:45.021351",
     "exception": false,
     "start_time": "2025-01-07T17:10:44.931026",
     "status": "completed"
    },
    "tags": []
   },
   "outputs": [
    {
     "name": "stdout",
     "output_type": "stream",
     "text": [
      "<class 'pandas.core.frame.DataFrame'>\n",
      "RangeIndex: 230130 entries, 0 to 230129\n",
      "Data columns (total 6 columns):\n",
      " #   Column    Non-Null Count   Dtype  \n",
      "---  ------    --------------   -----  \n",
      " 0   id        230130 non-null  int64  \n",
      " 1   date      230130 non-null  object \n",
      " 2   country   230130 non-null  object \n",
      " 3   store     230130 non-null  object \n",
      " 4   product   230130 non-null  object \n",
      " 5   num_sold  221259 non-null  float64\n",
      "dtypes: float64(1), int64(1), object(4)\n",
      "memory usage: 10.5+ MB\n"
     ]
    }
   ],
   "source": [
    "df_train.info()"
   ]
  },
  {
   "cell_type": "code",
   "execution_count": 6,
   "id": "0e8bba34",
   "metadata": {
    "execution": {
     "iopub.execute_input": "2025-01-07T17:10:45.036932Z",
     "iopub.status.busy": "2025-01-07T17:10:45.036519Z",
     "iopub.status.idle": "2025-01-07T17:10:45.059807Z",
     "shell.execute_reply": "2025-01-07T17:10:45.058610Z"
    },
    "papermill": {
     "duration": 0.033007,
     "end_time": "2025-01-07T17:10:45.061639",
     "exception": false,
     "start_time": "2025-01-07T17:10:45.028632",
     "status": "completed"
    },
    "tags": []
   },
   "outputs": [
    {
     "data": {
      "text/plain": [
       "array(['Discount Stickers', 'Stickers for Less', 'Premium Sticker Mart'],\n",
       "      dtype=object)"
      ]
     },
     "execution_count": 6,
     "metadata": {},
     "output_type": "execute_result"
    }
   ],
   "source": [
    "df_train['store'].unique()"
   ]
  },
  {
   "cell_type": "code",
   "execution_count": 7,
   "id": "c514de3d",
   "metadata": {
    "execution": {
     "iopub.execute_input": "2025-01-07T17:10:45.078435Z",
     "iopub.status.busy": "2025-01-07T17:10:45.078076Z",
     "iopub.status.idle": "2025-01-07T17:10:45.095634Z",
     "shell.execute_reply": "2025-01-07T17:10:45.094504Z"
    },
    "papermill": {
     "duration": 0.028047,
     "end_time": "2025-01-07T17:10:45.097673",
     "exception": false,
     "start_time": "2025-01-07T17:10:45.069626",
     "status": "completed"
    },
    "tags": []
   },
   "outputs": [
    {
     "data": {
      "text/plain": [
       "array(['Holographic Goose', 'Kaggle', 'Kaggle Tiers', 'Kerneler',\n",
       "       'Kerneler Dark Mode'], dtype=object)"
      ]
     },
     "execution_count": 7,
     "metadata": {},
     "output_type": "execute_result"
    }
   ],
   "source": [
    "df_train['product'].unique()"
   ]
  },
  {
   "cell_type": "code",
   "execution_count": 8,
   "id": "7fecbe71",
   "metadata": {
    "execution": {
     "iopub.execute_input": "2025-01-07T17:10:45.114231Z",
     "iopub.status.busy": "2025-01-07T17:10:45.113873Z",
     "iopub.status.idle": "2025-01-07T17:10:48.440856Z",
     "shell.execute_reply": "2025-01-07T17:10:48.439835Z"
    },
    "papermill": {
     "duration": 3.337301,
     "end_time": "2025-01-07T17:10:48.442773",
     "exception": false,
     "start_time": "2025-01-07T17:10:45.105472",
     "status": "completed"
    },
    "tags": []
   },
   "outputs": [],
   "source": [
    "df_train['Day']=pd.to_datetime(df_train['date']).dt.strftime(\"%d\")\n",
    "df_train['Month']=pd.to_datetime(df_train['date']).dt.strftime(\"%m\")\n",
    "df_train['Year']=pd.to_datetime(df_train['date']).dt.strftime(\"%Y\")\n",
    "df_train['Day_of_week']=pd.to_datetime(df_train['date']).dt.dayofweek\n"
   ]
  },
  {
   "cell_type": "code",
   "execution_count": 9,
   "id": "8bfc0b32",
   "metadata": {
    "execution": {
     "iopub.execute_input": "2025-01-07T17:10:48.458977Z",
     "iopub.status.busy": "2025-01-07T17:10:48.458567Z",
     "iopub.status.idle": "2025-01-07T17:10:48.561156Z",
     "shell.execute_reply": "2025-01-07T17:10:48.560125Z"
    },
    "papermill": {
     "duration": 0.112742,
     "end_time": "2025-01-07T17:10:48.563266",
     "exception": false,
     "start_time": "2025-01-07T17:10:48.450524",
     "status": "completed"
    },
    "tags": []
   },
   "outputs": [],
   "source": [
    "df_train['store']=df_train['store'].astype('category')\n",
    "df_train['country']=df_train['country'].astype('category')\n",
    "df_train['product']=df_train['product'].astype('category')\n",
    "df_train['Day']=df_train['Day'].astype('category')\n",
    "df_train['Month']=df_train['Month'].astype('category')\n",
    "df_train['Year']=df_train['Year'].astype('category')\n",
    "df_train['Day_of_week']=df_train['Day_of_week'].astype('category')"
   ]
  },
  {
   "cell_type": "code",
   "execution_count": 10,
   "id": "cfbefa09",
   "metadata": {
    "execution": {
     "iopub.execute_input": "2025-01-07T17:10:48.580340Z",
     "iopub.status.busy": "2025-01-07T17:10:48.579962Z",
     "iopub.status.idle": "2025-01-07T17:10:50.012053Z",
     "shell.execute_reply": "2025-01-07T17:10:50.010865Z"
    },
    "papermill": {
     "duration": 1.44284,
     "end_time": "2025-01-07T17:10:50.014235",
     "exception": false,
     "start_time": "2025-01-07T17:10:48.571395",
     "status": "completed"
    },
    "tags": []
   },
   "outputs": [],
   "source": [
    "df_test['Day']=pd.to_datetime(df_test['date']).dt.strftime(\"%d\")\n",
    "df_test['Month']=pd.to_datetime(df_test['date']).dt.strftime(\"%m\")\n",
    "df_test['Year']=pd.to_datetime(df_test['date']).dt.strftime(\"%Y\")\n",
    "df_test['Day_of_week']=pd.to_datetime(df_test['date']).dt.dayofweek"
   ]
  },
  {
   "cell_type": "code",
   "execution_count": 11,
   "id": "8bf9baf0",
   "metadata": {
    "execution": {
     "iopub.execute_input": "2025-01-07T17:10:50.031601Z",
     "iopub.status.busy": "2025-01-07T17:10:50.031264Z",
     "iopub.status.idle": "2025-01-07T17:10:50.082800Z",
     "shell.execute_reply": "2025-01-07T17:10:50.081609Z"
    },
    "papermill": {
     "duration": 0.062028,
     "end_time": "2025-01-07T17:10:50.084738",
     "exception": false,
     "start_time": "2025-01-07T17:10:50.022710",
     "status": "completed"
    },
    "tags": []
   },
   "outputs": [],
   "source": [
    "df_test['store']=df_test['store'].astype('category')\n",
    "df_test['country']=df_test['country'].astype('category')\n",
    "df_test['product']=df_test['product'].astype('category')\n",
    "df_test['Day']=df_test['Day'].astype('category')\n",
    "df_test['Month']=df_test['Month'].astype('category')\n",
    "df_test['Year']=df_test['Year'].astype('category')\n",
    "df_test['Day_of_week']=df_test['Day_of_week'].astype('category')"
   ]
  },
  {
   "cell_type": "code",
   "execution_count": 12,
   "id": "1354e0cc",
   "metadata": {
    "execution": {
     "iopub.execute_input": "2025-01-07T17:10:50.101666Z",
     "iopub.status.busy": "2025-01-07T17:10:50.101221Z",
     "iopub.status.idle": "2025-01-07T17:10:50.137091Z",
     "shell.execute_reply": "2025-01-07T17:10:50.135871Z"
    },
    "papermill": {
     "duration": 0.046114,
     "end_time": "2025-01-07T17:10:50.138752",
     "exception": false,
     "start_time": "2025-01-07T17:10:50.092638",
     "status": "completed"
    },
    "tags": []
   },
   "outputs": [
    {
     "name": "stdout",
     "output_type": "stream",
     "text": [
      "<class 'pandas.core.frame.DataFrame'>\n",
      "RangeIndex: 230130 entries, 0 to 230129\n",
      "Data columns (total 10 columns):\n",
      " #   Column       Non-Null Count   Dtype   \n",
      "---  ------       --------------   -----   \n",
      " 0   id           230130 non-null  int64   \n",
      " 1   date         230130 non-null  object  \n",
      " 2   country      230130 non-null  category\n",
      " 3   store        230130 non-null  category\n",
      " 4   product      230130 non-null  category\n",
      " 5   num_sold     221259 non-null  float64 \n",
      " 6   Day          230130 non-null  category\n",
      " 7   Month        230130 non-null  category\n",
      " 8   Year         230130 non-null  category\n",
      " 9   Day_of_week  230130 non-null  category\n",
      "dtypes: category(7), float64(1), int64(1), object(1)\n",
      "memory usage: 6.8+ MB\n"
     ]
    }
   ],
   "source": [
    "df_train.info()"
   ]
  },
  {
   "cell_type": "code",
   "execution_count": 13,
   "id": "55c6b58f",
   "metadata": {
    "execution": {
     "iopub.execute_input": "2025-01-07T17:10:50.155567Z",
     "iopub.status.busy": "2025-01-07T17:10:50.155149Z",
     "iopub.status.idle": "2025-01-07T17:10:50.181823Z",
     "shell.execute_reply": "2025-01-07T17:10:50.180803Z"
    },
    "papermill": {
     "duration": 0.037023,
     "end_time": "2025-01-07T17:10:50.183593",
     "exception": false,
     "start_time": "2025-01-07T17:10:50.146570",
     "status": "completed"
    },
    "tags": []
   },
   "outputs": [
    {
     "data": {
      "text/html": [
       "<div>\n",
       "<style scoped>\n",
       "    .dataframe tbody tr th:only-of-type {\n",
       "        vertical-align: middle;\n",
       "    }\n",
       "\n",
       "    .dataframe tbody tr th {\n",
       "        vertical-align: top;\n",
       "    }\n",
       "\n",
       "    .dataframe thead th {\n",
       "        text-align: right;\n",
       "    }\n",
       "</style>\n",
       "<table border=\"1\" class=\"dataframe\">\n",
       "  <thead>\n",
       "    <tr style=\"text-align: right;\">\n",
       "      <th></th>\n",
       "      <th>id</th>\n",
       "      <th>country</th>\n",
       "      <th>store</th>\n",
       "      <th>product</th>\n",
       "      <th>num_sold</th>\n",
       "      <th>Day</th>\n",
       "      <th>Month</th>\n",
       "      <th>Year</th>\n",
       "      <th>Day_of_week</th>\n",
       "    </tr>\n",
       "    <tr>\n",
       "      <th>date</th>\n",
       "      <th></th>\n",
       "      <th></th>\n",
       "      <th></th>\n",
       "      <th></th>\n",
       "      <th></th>\n",
       "      <th></th>\n",
       "      <th></th>\n",
       "      <th></th>\n",
       "      <th></th>\n",
       "    </tr>\n",
       "  </thead>\n",
       "  <tbody>\n",
       "    <tr>\n",
       "      <th>2010-01-01</th>\n",
       "      <td>0</td>\n",
       "      <td>Canada</td>\n",
       "      <td>Discount Stickers</td>\n",
       "      <td>Holographic Goose</td>\n",
       "      <td>NaN</td>\n",
       "      <td>01</td>\n",
       "      <td>01</td>\n",
       "      <td>2010</td>\n",
       "      <td>4</td>\n",
       "    </tr>\n",
       "    <tr>\n",
       "      <th>2010-01-01</th>\n",
       "      <td>1</td>\n",
       "      <td>Canada</td>\n",
       "      <td>Discount Stickers</td>\n",
       "      <td>Kaggle</td>\n",
       "      <td>973.0</td>\n",
       "      <td>01</td>\n",
       "      <td>01</td>\n",
       "      <td>2010</td>\n",
       "      <td>4</td>\n",
       "    </tr>\n",
       "    <tr>\n",
       "      <th>2010-01-01</th>\n",
       "      <td>2</td>\n",
       "      <td>Canada</td>\n",
       "      <td>Discount Stickers</td>\n",
       "      <td>Kaggle Tiers</td>\n",
       "      <td>906.0</td>\n",
       "      <td>01</td>\n",
       "      <td>01</td>\n",
       "      <td>2010</td>\n",
       "      <td>4</td>\n",
       "    </tr>\n",
       "    <tr>\n",
       "      <th>2010-01-01</th>\n",
       "      <td>3</td>\n",
       "      <td>Canada</td>\n",
       "      <td>Discount Stickers</td>\n",
       "      <td>Kerneler</td>\n",
       "      <td>423.0</td>\n",
       "      <td>01</td>\n",
       "      <td>01</td>\n",
       "      <td>2010</td>\n",
       "      <td>4</td>\n",
       "    </tr>\n",
       "    <tr>\n",
       "      <th>2010-01-01</th>\n",
       "      <td>4</td>\n",
       "      <td>Canada</td>\n",
       "      <td>Discount Stickers</td>\n",
       "      <td>Kerneler Dark Mode</td>\n",
       "      <td>491.0</td>\n",
       "      <td>01</td>\n",
       "      <td>01</td>\n",
       "      <td>2010</td>\n",
       "      <td>4</td>\n",
       "    </tr>\n",
       "  </tbody>\n",
       "</table>\n",
       "</div>"
      ],
      "text/plain": [
       "            id country              store             product  num_sold Day  \\\n",
       "date                                                                          \n",
       "2010-01-01   0  Canada  Discount Stickers   Holographic Goose       NaN  01   \n",
       "2010-01-01   1  Canada  Discount Stickers              Kaggle     973.0  01   \n",
       "2010-01-01   2  Canada  Discount Stickers        Kaggle Tiers     906.0  01   \n",
       "2010-01-01   3  Canada  Discount Stickers            Kerneler     423.0  01   \n",
       "2010-01-01   4  Canada  Discount Stickers  Kerneler Dark Mode     491.0  01   \n",
       "\n",
       "           Month  Year Day_of_week  \n",
       "date                                \n",
       "2010-01-01    01  2010           4  \n",
       "2010-01-01    01  2010           4  \n",
       "2010-01-01    01  2010           4  \n",
       "2010-01-01    01  2010           4  \n",
       "2010-01-01    01  2010           4  "
      ]
     },
     "execution_count": 13,
     "metadata": {},
     "output_type": "execute_result"
    }
   ],
   "source": [
    "df_train.set_index('date').head()"
   ]
  },
  {
   "cell_type": "code",
   "execution_count": 14,
   "id": "73faf654",
   "metadata": {
    "execution": {
     "iopub.execute_input": "2025-01-07T17:10:50.200745Z",
     "iopub.status.busy": "2025-01-07T17:10:50.200320Z",
     "iopub.status.idle": "2025-01-07T17:10:50.248190Z",
     "shell.execute_reply": "2025-01-07T17:10:50.246681Z"
    },
    "papermill": {
     "duration": 0.058132,
     "end_time": "2025-01-07T17:10:50.249809",
     "exception": false,
     "start_time": "2025-01-07T17:10:50.191677",
     "status": "completed"
    },
    "tags": []
   },
   "outputs": [
    {
     "name": "stderr",
     "output_type": "stream",
     "text": [
      "<ipython-input-14-9352d877f2f4>:1: FutureWarning: The default of observed=False is deprecated and will be changed to True in a future version of pandas. Pass observed=False to retain current behavior or observed=True to adopt the future default and silence this warning.\n",
      "  temp=df_train.set_index('date').groupby(['country', 'store', 'product'])['num_sold']\n"
     ]
    },
    {
     "data": {
      "text/plain": [
       "date\n",
       "2010-01-01       NaN\n",
       "2010-01-01     973.0\n",
       "2010-01-01     906.0\n",
       "2010-01-01     423.0\n",
       "2010-01-01     491.0\n",
       "               ...  \n",
       "2010-01-05     264.0\n",
       "2010-01-05    1536.0\n",
       "2010-01-05    1410.0\n",
       "2010-01-05     770.0\n",
       "2010-01-05     962.0\n",
       "Name: num_sold, Length: 450, dtype: float64"
      ]
     },
     "execution_count": 14,
     "metadata": {},
     "output_type": "execute_result"
    }
   ],
   "source": [
    "temp=df_train.set_index('date').groupby(['country', 'store', 'product'])['num_sold']\n",
    "temp.head()"
   ]
  },
  {
   "cell_type": "code",
   "execution_count": 15,
   "id": "7fac6da1",
   "metadata": {
    "execution": {
     "iopub.execute_input": "2025-01-07T17:10:50.268330Z",
     "iopub.status.busy": "2025-01-07T17:10:50.267920Z",
     "iopub.status.idle": "2025-01-07T17:10:50.470203Z",
     "shell.execute_reply": "2025-01-07T17:10:50.469176Z"
    },
    "papermill": {
     "duration": 0.213956,
     "end_time": "2025-01-07T17:10:50.472087",
     "exception": false,
     "start_time": "2025-01-07T17:10:50.258131",
     "status": "completed"
    },
    "tags": []
   },
   "outputs": [
    {
     "name": "stderr",
     "output_type": "stream",
     "text": [
      "<ipython-input-15-61588bc6b376>:6: FutureWarning: The default of observed=False is deprecated and will be changed to True in a future version of pandas. Pass observed=False to retain current behavior or observed=True to adopt the future default and silence this warning.\n",
      "  df['num_sold'] = df.groupby(['country', 'store', 'product'])['num_sold'].transform(\n"
     ]
    }
   ],
   "source": [
    "\n",
    "df_train['date']=pd.to_datetime(df_train['date'])\n",
    "df = df_train.set_index('date')\n",
    "df = df.sort_values(by=['country', 'store', 'product', 'date'])\n",
    "\n",
    "# Impute NaN with interpolation (grouped by Country, Store, and Product)\n",
    "df['num_sold'] = df.groupby(['country', 'store', 'product'])['num_sold'].transform(\n",
    "    lambda group: group.interpolate(method='linear',limit=None,limit_direction='both').ffill().bfill()\n",
    ")\n",
    "#df['num_sold'].isna().any()"
   ]
  },
  {
   "cell_type": "code",
   "execution_count": 16,
   "id": "060e6785",
   "metadata": {
    "execution": {
     "iopub.execute_input": "2025-01-07T17:10:50.489719Z",
     "iopub.status.busy": "2025-01-07T17:10:50.489320Z",
     "iopub.status.idle": "2025-01-07T17:10:50.493300Z",
     "shell.execute_reply": "2025-01-07T17:10:50.492391Z"
    },
    "papermill": {
     "duration": 0.014652,
     "end_time": "2025-01-07T17:10:50.494993",
     "exception": false,
     "start_time": "2025-01-07T17:10:50.480341",
     "status": "completed"
    },
    "tags": []
   },
   "outputs": [],
   "source": [
    "#condition = (df.num_sold.notna()) & (df['country']=='Canada') & (df['store']=='Discount Stickers') & (df['product']=='Holographic Goose')\n",
    "#df[condition]\n"
   ]
  },
  {
   "cell_type": "code",
   "execution_count": 17,
   "id": "ee9e6230",
   "metadata": {
    "execution": {
     "iopub.execute_input": "2025-01-07T17:10:50.512908Z",
     "iopub.status.busy": "2025-01-07T17:10:50.512475Z",
     "iopub.status.idle": "2025-01-07T17:10:50.528945Z",
     "shell.execute_reply": "2025-01-07T17:10:50.527619Z"
    },
    "papermill": {
     "duration": 0.027733,
     "end_time": "2025-01-07T17:10:50.530992",
     "exception": false,
     "start_time": "2025-01-07T17:10:50.503259",
     "status": "completed"
    },
    "tags": []
   },
   "outputs": [
    {
     "name": "stderr",
     "output_type": "stream",
     "text": [
      "<ipython-input-17-f6c9b93567a2>:2: FutureWarning: The default of observed=False is deprecated and will be changed to True in a future version of pandas. Pass observed=False to retain current behavior or observed=True to adopt the future default and silence this warning.\n",
      "  t=df[df.num_sold.isna()].groupby(['country','store','product'])['product'].value_counts().to_dict()\n"
     ]
    }
   ],
   "source": [
    "##Get num_sold NaN product store and country\n",
    "t=df[df.num_sold.isna()].groupby(['country','store','product'])['product'].value_counts().to_dict()"
   ]
  },
  {
   "cell_type": "code",
   "execution_count": 18,
   "id": "5169deef",
   "metadata": {
    "execution": {
     "iopub.execute_input": "2025-01-07T17:10:50.549165Z",
     "iopub.status.busy": "2025-01-07T17:10:50.548805Z",
     "iopub.status.idle": "2025-01-07T17:10:50.552978Z",
     "shell.execute_reply": "2025-01-07T17:10:50.551748Z"
    },
    "papermill": {
     "duration": 0.015804,
     "end_time": "2025-01-07T17:10:50.555186",
     "exception": false,
     "start_time": "2025-01-07T17:10:50.539382",
     "status": "completed"
    },
    "tags": []
   },
   "outputs": [],
   "source": [
    "#Country store and product that have NaN\n",
    "# for  k,v in t.items():\n",
    "#     if v!=0:\n",
    "#         print(k,v)"
   ]
  },
  {
   "cell_type": "code",
   "execution_count": 19,
   "id": "b4290d40",
   "metadata": {
    "execution": {
     "iopub.execute_input": "2025-01-07T17:10:50.573674Z",
     "iopub.status.busy": "2025-01-07T17:10:50.573320Z",
     "iopub.status.idle": "2025-01-07T17:10:50.611610Z",
     "shell.execute_reply": "2025-01-07T17:10:50.610022Z"
    },
    "papermill": {
     "duration": 0.04965,
     "end_time": "2025-01-07T17:10:50.613544",
     "exception": false,
     "start_time": "2025-01-07T17:10:50.563894",
     "status": "completed"
    },
    "tags": []
   },
   "outputs": [
    {
     "name": "stderr",
     "output_type": "stream",
     "text": [
      "<ipython-input-19-7c247cb9ffdc>:2: FutureWarning: The default of observed=False is deprecated and will be changed to True in a future version of pandas. Pass observed=False to retain current behavior or observed=True to adopt the future default and silence this warning.\n",
      "  nan_product = df_train[(df_train['product']=='Holographic Goose') & (df_train['num_sold'].notna())].groupby(['country'])['num_sold']\n"
     ]
    },
    {
     "name": "stdout",
     "output_type": "stream",
     "text": [
      "Mean\n",
      "country\n",
      "Canada       241.249270\n",
      "Finland      177.405944\n",
      "Italy        128.415852\n",
      "Kenya          5.760129\n",
      "Norway       337.579194\n",
      "Singapore    204.719724\n",
      "Name: num_sold, dtype: float64\n",
      "Median\n",
      "country\n",
      "Canada       234.0\n",
      "Finland      188.0\n",
      "Italy        136.0\n",
      "Kenya          5.0\n",
      "Norway       350.0\n",
      "Singapore    218.0\n",
      "Name: num_sold, dtype: float64\n",
      "Mode\n",
      "country\n",
      "Canada              218.0\n",
      "Finland              91.0\n",
      "Italy        [66.0, 68.0]\n",
      "Kenya                 5.0\n",
      "Norway              171.0\n",
      "Singapore           238.0\n",
      "Name: num_sold, dtype: object\n",
      "Min\n",
      "country\n",
      "Canada       200.0\n",
      "Finland       65.0\n",
      "Italy         44.0\n",
      "Kenya          5.0\n",
      "Norway       105.0\n",
      "Singapore     69.0\n",
      "Name: num_sold, dtype: float64\n",
      "Max\n",
      "country\n",
      "Canada       449.0\n",
      "Finland      491.0\n",
      "Italy        318.0\n",
      "Kenya         11.0\n",
      "Norway       908.0\n",
      "Singapore    469.0\n",
      "Name: num_sold, dtype: float64\n"
     ]
    }
   ],
   "source": [
    "#Find Holographic Goose num_sold in each country\n",
    "nan_product = df_train[(df_train['product']=='Holographic Goose') & (df_train['num_sold'].notna())].groupby(['country'])['num_sold']\n",
    "print(\"Mean\")\n",
    "print(nan_product.mean())\n",
    "print(\"Median\")\n",
    "print(nan_product.median())\n",
    "print(\"Mode\")\n",
    "print(nan_product.agg(pd.Series.mode))\n",
    "print(\"Min\")\n",
    "print(nan_product.min())\n",
    "print(\"Max\")\n",
    "print(nan_product.max())"
   ]
  },
  {
   "cell_type": "markdown",
   "id": "eb7d46a7",
   "metadata": {
    "papermill": {
     "duration": 0.008221,
     "end_time": "2025-01-07T17:10:50.630439",
     "exception": false,
     "start_time": "2025-01-07T17:10:50.622218",
     "status": "completed"
    },
    "tags": []
   },
   "source": [
    "Impute Canana NaN with 218.0 \n",
    "Impute Kenya NaN with 5.0"
   ]
  },
  {
   "cell_type": "code",
   "execution_count": 20,
   "id": "1b830b5a",
   "metadata": {
    "execution": {
     "iopub.execute_input": "2025-01-07T17:10:50.648661Z",
     "iopub.status.busy": "2025-01-07T17:10:50.648318Z",
     "iopub.status.idle": "2025-01-07T17:10:50.655241Z",
     "shell.execute_reply": "2025-01-07T17:10:50.654356Z"
    },
    "papermill": {
     "duration": 0.017935,
     "end_time": "2025-01-07T17:10:50.657081",
     "exception": false,
     "start_time": "2025-01-07T17:10:50.639146",
     "status": "completed"
    },
    "tags": []
   },
   "outputs": [
    {
     "data": {
      "text/plain": [
       "5114"
      ]
     },
     "execution_count": 20,
     "metadata": {},
     "output_type": "execute_result"
    }
   ],
   "source": [
    "len(df[df['num_sold'].isna()])"
   ]
  },
  {
   "cell_type": "code",
   "execution_count": 21,
   "id": "30956797",
   "metadata": {
    "execution": {
     "iopub.execute_input": "2025-01-07T17:10:50.676232Z",
     "iopub.status.busy": "2025-01-07T17:10:50.675880Z",
     "iopub.status.idle": "2025-01-07T17:10:50.686083Z",
     "shell.execute_reply": "2025-01-07T17:10:50.685093Z"
    },
    "papermill": {
     "duration": 0.021698,
     "end_time": "2025-01-07T17:10:50.687895",
     "exception": false,
     "start_time": "2025-01-07T17:10:50.666197",
     "status": "completed"
    },
    "tags": []
   },
   "outputs": [],
   "source": [
    "#Impute Canada with 218\n",
    "df.loc[df['country']=='Canada',['num_sold']]=df.loc[df['country']=='Canada',['num_sold']].fillna(218.0)"
   ]
  },
  {
   "cell_type": "code",
   "execution_count": 22,
   "id": "b9d91ca5",
   "metadata": {
    "execution": {
     "iopub.execute_input": "2025-01-07T17:10:50.706501Z",
     "iopub.status.busy": "2025-01-07T17:10:50.706084Z",
     "iopub.status.idle": "2025-01-07T17:10:50.717063Z",
     "shell.execute_reply": "2025-01-07T17:10:50.715799Z"
    },
    "papermill": {
     "duration": 0.02274,
     "end_time": "2025-01-07T17:10:50.719280",
     "exception": false,
     "start_time": "2025-01-07T17:10:50.696540",
     "status": "completed"
    },
    "tags": []
   },
   "outputs": [],
   "source": [
    "#Impute Kenya with 5\n",
    "df.loc[df['country']=='Kenya',['num_sold']]=df.loc[df['country']=='Kenya',['num_sold']].fillna(5.0)"
   ]
  },
  {
   "cell_type": "code",
   "execution_count": 23,
   "id": "5d59f873",
   "metadata": {
    "execution": {
     "iopub.execute_input": "2025-01-07T17:10:50.738373Z",
     "iopub.status.busy": "2025-01-07T17:10:50.737996Z",
     "iopub.status.idle": "2025-01-07T17:10:50.741860Z",
     "shell.execute_reply": "2025-01-07T17:10:50.740854Z"
    },
    "papermill": {
     "duration": 0.01535,
     "end_time": "2025-01-07T17:10:50.743592",
     "exception": false,
     "start_time": "2025-01-07T17:10:50.728242",
     "status": "completed"
    },
    "tags": []
   },
   "outputs": [],
   "source": [
    "# nsmode = df_train['num_sold'].mode()\n",
    "# df_train['num_sold']=df_train['num_sold'].fillna(nsmode[0])"
   ]
  },
  {
   "cell_type": "code",
   "execution_count": 24,
   "id": "8d4c8031",
   "metadata": {
    "execution": {
     "iopub.execute_input": "2025-01-07T17:10:50.762333Z",
     "iopub.status.busy": "2025-01-07T17:10:50.761959Z",
     "iopub.status.idle": "2025-01-07T17:10:50.779845Z",
     "shell.execute_reply": "2025-01-07T17:10:50.778583Z"
    },
    "papermill": {
     "duration": 0.029177,
     "end_time": "2025-01-07T17:10:50.781664",
     "exception": false,
     "start_time": "2025-01-07T17:10:50.752487",
     "status": "completed"
    },
    "tags": []
   },
   "outputs": [
    {
     "name": "stdout",
     "output_type": "stream",
     "text": [
      "<class 'pandas.core.frame.DataFrame'>\n",
      "DatetimeIndex: 230130 entries, 2010-01-01 to 2016-12-31\n",
      "Data columns (total 9 columns):\n",
      " #   Column       Non-Null Count   Dtype   \n",
      "---  ------       --------------   -----   \n",
      " 0   id           230130 non-null  int64   \n",
      " 1   country      230130 non-null  category\n",
      " 2   store        230130 non-null  category\n",
      " 3   product      230130 non-null  category\n",
      " 4   num_sold     230130 non-null  float64 \n",
      " 5   Day          230130 non-null  category\n",
      " 6   Month        230130 non-null  category\n",
      " 7   Year         230130 non-null  category\n",
      " 8   Day_of_week  230130 non-null  category\n",
      "dtypes: category(7), float64(1), int64(1)\n",
      "memory usage: 6.8 MB\n"
     ]
    }
   ],
   "source": [
    "df.info()"
   ]
  },
  {
   "cell_type": "code",
   "execution_count": 25,
   "id": "92801f18",
   "metadata": {
    "execution": {
     "iopub.execute_input": "2025-01-07T17:10:50.800597Z",
     "iopub.status.busy": "2025-01-07T17:10:50.800242Z",
     "iopub.status.idle": "2025-01-07T17:10:50.806922Z",
     "shell.execute_reply": "2025-01-07T17:10:50.805863Z"
    },
    "papermill": {
     "duration": 0.018564,
     "end_time": "2025-01-07T17:10:50.809135",
     "exception": false,
     "start_time": "2025-01-07T17:10:50.790571",
     "status": "completed"
    },
    "tags": []
   },
   "outputs": [],
   "source": [
    "df_train=df.reset_index()"
   ]
  },
  {
   "cell_type": "code",
   "execution_count": 26,
   "id": "633cacba",
   "metadata": {
    "execution": {
     "iopub.execute_input": "2025-01-07T17:10:50.828644Z",
     "iopub.status.busy": "2025-01-07T17:10:50.828296Z",
     "iopub.status.idle": "2025-01-07T17:10:50.843502Z",
     "shell.execute_reply": "2025-01-07T17:10:50.842210Z"
    },
    "papermill": {
     "duration": 0.027029,
     "end_time": "2025-01-07T17:10:50.845459",
     "exception": false,
     "start_time": "2025-01-07T17:10:50.818430",
     "status": "completed"
    },
    "tags": []
   },
   "outputs": [
    {
     "name": "stdout",
     "output_type": "stream",
     "text": [
      "<class 'pandas.core.frame.DataFrame'>\n",
      "RangeIndex: 230130 entries, 0 to 230129\n",
      "Data columns (total 10 columns):\n",
      " #   Column       Non-Null Count   Dtype         \n",
      "---  ------       --------------   -----         \n",
      " 0   date         230130 non-null  datetime64[ns]\n",
      " 1   id           230130 non-null  int64         \n",
      " 2   country      230130 non-null  category      \n",
      " 3   store        230130 non-null  category      \n",
      " 4   product      230130 non-null  category      \n",
      " 5   num_sold     230130 non-null  float64       \n",
      " 6   Day          230130 non-null  category      \n",
      " 7   Month        230130 non-null  category      \n",
      " 8   Year         230130 non-null  category      \n",
      " 9   Day_of_week  230130 non-null  category      \n",
      "dtypes: category(7), datetime64[ns](1), float64(1), int64(1)\n",
      "memory usage: 6.8 MB\n"
     ]
    }
   ],
   "source": [
    "df_train.info()"
   ]
  },
  {
   "cell_type": "code",
   "execution_count": 27,
   "id": "1b8fc75b",
   "metadata": {
    "execution": {
     "iopub.execute_input": "2025-01-07T17:10:50.864895Z",
     "iopub.status.busy": "2025-01-07T17:10:50.864504Z",
     "iopub.status.idle": "2025-01-07T17:10:50.873808Z",
     "shell.execute_reply": "2025-01-07T17:10:50.872827Z"
    },
    "papermill": {
     "duration": 0.020603,
     "end_time": "2025-01-07T17:10:50.875377",
     "exception": false,
     "start_time": "2025-01-07T17:10:50.854774",
     "status": "completed"
    },
    "tags": []
   },
   "outputs": [],
   "source": [
    "\n",
    "\n",
    "def objective(trial: optuna.Trial) -> float:\n",
    "    #data, target = load_breast_cancer(return_X_y=True)\n",
    "    train_x, valid_x, train_y, valid_y = train_test_split(df_train.drop(['id','num_sold','date'],axis=1), df_train['num_sold'], test_size=0.25)\n",
    "    cats=df_train.select_dtypes('category').columns\n",
    "    \n",
    "    param = {\n",
    "        \"iterations\":trial.suggest_int(\"iterations\",1000,6000),\n",
    "        \"objective\": trial.suggest_categorical(\"objective\", [\"MAPE\"]),\n",
    "        \"colsample_bylevel\": trial.suggest_float(\"colsample_bylevel\", 0.01, 0.7, log=True),\n",
    "        \"depth\": trial.suggest_int(\"depth\", 1, 12),\n",
    "        \"boosting_type\": trial.suggest_categorical(\"boosting_type\", [\"Ordered\", \"Plain\"]),\n",
    "        \"bootstrap_type\": trial.suggest_categorical(\n",
    "            \"bootstrap_type\", [\"Bayesian\", \"Bernoulli\", \"MVS\"]\n",
    "        ),\n",
    "        \"used_ram_limit\": \"3gb\",\n",
    "        \"eval_metric\": \"MAPE\",\n",
    "        \"cat_features\": cats.to_list(),\n",
    "    }\n",
    "\n",
    "    if param[\"bootstrap_type\"] == \"Bayesian\":\n",
    "        param[\"bagging_temperature\"] = trial.suggest_float(\"bagging_temperature\", 0, 10)\n",
    "    elif param[\"bootstrap_type\"] == \"Bernoulli\":\n",
    "        param[\"subsample\"] = trial.suggest_float(\"subsample\", 0.1, 1, log=True)\n",
    "\n",
    "    gbm = cb.CatBoostRegressor(**param)\n",
    "\n",
    "    pruning_callback = CatBoostPruningCallback(trial, \"MAPE\")\n",
    "    gbm.fit(\n",
    "        train_x,\n",
    "        train_y,\n",
    "        eval_set=[(valid_x, valid_y)],\n",
    "        verbose=0,\n",
    "        early_stopping_rounds=300,\n",
    "        callbacks=[pruning_callback],\n",
    "    )\n",
    "\n",
    "    # evoke pruning manually.\n",
    "    pruning_callback.check_pruned()\n",
    "\n",
    "    \n",
    "    preds = gbm.predict(valid_x)\n",
    "    pred_labels = np.rint(preds)\n",
    "    mape = mean_absolute_percentage_error(valid_y, pred_labels)\n",
    "    return mape\n"
   ]
  },
  {
   "cell_type": "code",
   "execution_count": 28,
   "id": "b6b1ca3d",
   "metadata": {
    "execution": {
     "iopub.execute_input": "2025-01-07T17:10:50.895358Z",
     "iopub.status.busy": "2025-01-07T17:10:50.895019Z",
     "iopub.status.idle": "2025-01-07T17:20:58.177180Z",
     "shell.execute_reply": "2025-01-07T17:20:58.175804Z"
    },
    "papermill": {
     "duration": 607.303362,
     "end_time": "2025-01-07T17:20:58.188420",
     "exception": false,
     "start_time": "2025-01-07T17:10:50.885058",
     "status": "completed"
    },
    "tags": []
   },
   "outputs": [
    {
     "name": "stderr",
     "output_type": "stream",
     "text": [
      "<ipython-input-27-4d9ea195fb62>:27: ExperimentalWarning: CatBoostPruningCallback is experimental (supported from v3.0.0). The interface can change in the future.\n",
      "  pruning_callback = CatBoostPruningCallback(trial, \"MAPE\")\n",
      "<ipython-input-27-4d9ea195fb62>:27: ExperimentalWarning: CatBoostPruningCallback is experimental (supported from v3.0.0). The interface can change in the future.\n",
      "  pruning_callback = CatBoostPruningCallback(trial, \"MAPE\")\n",
      "<ipython-input-27-4d9ea195fb62>:27: ExperimentalWarning: CatBoostPruningCallback is experimental (supported from v3.0.0). The interface can change in the future.\n",
      "  pruning_callback = CatBoostPruningCallback(trial, \"MAPE\")\n",
      "<ipython-input-27-4d9ea195fb62>:27: ExperimentalWarning: CatBoostPruningCallback is experimental (supported from v3.0.0). The interface can change in the future.\n",
      "  pruning_callback = CatBoostPruningCallback(trial, \"MAPE\")\n"
     ]
    },
    {
     "name": "stdout",
     "output_type": "stream",
     "text": [
      "Number of finished trials: 4\n",
      "Best trial:\n",
      "  Value: 0.14918935794775\n",
      "  Params: \n",
      "    iterations: 3558\n",
      "    objective: MAPE\n",
      "    colsample_bylevel: 0.3640977968743766\n",
      "    depth: 6\n",
      "    boosting_type: Ordered\n",
      "    bootstrap_type: MVS\n"
     ]
    }
   ],
   "source": [
    "optuna.logging.set_verbosity(optuna.logging.CRITICAL)\n",
    "study = optuna.create_study(\n",
    "    pruner=optuna.pruners.MedianPruner(n_warmup_steps=5), direction=\"minimize\"\n",
    ")\n",
    "study.optimize(objective, n_trials=100, timeout=600)\n",
    "\n",
    "print(\"Number of finished trials: {}\".format(len(study.trials)))\n",
    "\n",
    "print(\"Best trial:\")\n",
    "trial = study.best_trial\n",
    "\n",
    "print(\"  Value: {}\".format(trial.value))\n",
    "\n",
    "print(\"  Params: \")\n",
    "for key, value in trial.params.items():\n",
    "    print(\"    {}: {}\".format(key, value))"
   ]
  },
  {
   "cell_type": "code",
   "execution_count": 29,
   "id": "52740ecb",
   "metadata": {
    "execution": {
     "iopub.execute_input": "2025-01-07T17:20:58.208870Z",
     "iopub.status.busy": "2025-01-07T17:20:58.208472Z",
     "iopub.status.idle": "2025-01-07T17:20:58.218123Z",
     "shell.execute_reply": "2025-01-07T17:20:58.216904Z"
    },
    "papermill": {
     "duration": 0.021307,
     "end_time": "2025-01-07T17:20:58.219629",
     "exception": false,
     "start_time": "2025-01-07T17:20:58.198322",
     "status": "completed"
    },
    "tags": []
   },
   "outputs": [
    {
     "name": "stdout",
     "output_type": "stream",
     "text": [
      "{'iterations': 3558, 'objective': 'MAPE', 'colsample_bylevel': 0.3640977968743766, 'depth': 6, 'boosting_type': 'Ordered', 'bootstrap_type': 'MVS'}\n"
     ]
    }
   ],
   "source": [
    "print(study.best_params)"
   ]
  },
  {
   "cell_type": "code",
   "execution_count": 30,
   "id": "6430883a",
   "metadata": {
    "execution": {
     "iopub.execute_input": "2025-01-07T17:20:58.240198Z",
     "iopub.status.busy": "2025-01-07T17:20:58.239843Z",
     "iopub.status.idle": "2025-01-07T17:20:58.256895Z",
     "shell.execute_reply": "2025-01-07T17:20:58.255878Z"
    },
    "papermill": {
     "duration": 0.029742,
     "end_time": "2025-01-07T17:20:58.259083",
     "exception": false,
     "start_time": "2025-01-07T17:20:58.229341",
     "status": "completed"
    },
    "tags": []
   },
   "outputs": [],
   "source": [
    "from catboost import Pool,cv\n",
    "cats=df_train.select_dtypes('category').columns\n",
    "features=df_train.drop(['id','num_sold','date'],axis=1).columns\n",
    "train_pool = Pool(data=df_train.drop(['id','num_sold','date'],axis=1),\n",
    "             label=df_train['num_sold'],\n",
    "             cat_features=cats.to_list())"
   ]
  },
  {
   "cell_type": "code",
   "execution_count": 31,
   "id": "a6ffa134",
   "metadata": {
    "execution": {
     "iopub.execute_input": "2025-01-07T17:20:58.279296Z",
     "iopub.status.busy": "2025-01-07T17:20:58.278950Z",
     "iopub.status.idle": "2025-01-07T17:20:58.282999Z",
     "shell.execute_reply": "2025-01-07T17:20:58.281888Z"
    },
    "papermill": {
     "duration": 0.015931,
     "end_time": "2025-01-07T17:20:58.284624",
     "exception": false,
     "start_time": "2025-01-07T17:20:58.268693",
     "status": "completed"
    },
    "tags": []
   },
   "outputs": [],
   "source": [
    "# from catboost import Pool,cv\n",
    "\n",
    "#              #feature_names=features)\n",
    "\n",
    "\n",
    "# # params = {\"iterations\": 1000,\n",
    "# #           \"depth\": 4,\n",
    "# #           \"loss_function\": \"MAPE\",\n",
    "# #           \"verbose\": False}\n",
    "\n",
    "# scores = cv(train_pool,\n",
    "#             study.best_params,\n",
    "#            fold_count=5,\n",
    "#             verbose=0,\n",
    "#            )\n",
    "\n",
    "# print(scores)"
   ]
  },
  {
   "cell_type": "code",
   "execution_count": 32,
   "id": "0652dd3d",
   "metadata": {
    "execution": {
     "iopub.execute_input": "2025-01-07T17:20:58.305092Z",
     "iopub.status.busy": "2025-01-07T17:20:58.304708Z",
     "iopub.status.idle": "2025-01-07T17:20:58.308741Z",
     "shell.execute_reply": "2025-01-07T17:20:58.307605Z"
    },
    "papermill": {
     "duration": 0.0161,
     "end_time": "2025-01-07T17:20:58.310516",
     "exception": false,
     "start_time": "2025-01-07T17:20:58.294416",
     "status": "completed"
    },
    "tags": []
   },
   "outputs": [],
   "source": [
    "#print(scores)"
   ]
  },
  {
   "cell_type": "code",
   "execution_count": 33,
   "id": "aba29d1c",
   "metadata": {
    "execution": {
     "iopub.execute_input": "2025-01-07T17:20:58.331074Z",
     "iopub.status.busy": "2025-01-07T17:20:58.330661Z",
     "iopub.status.idle": "2025-01-07T17:20:59.036058Z",
     "shell.execute_reply": "2025-01-07T17:20:59.034830Z"
    },
    "papermill": {
     "duration": 0.718059,
     "end_time": "2025-01-07T17:20:59.038176",
     "exception": false,
     "start_time": "2025-01-07T17:20:58.320117",
     "status": "completed"
    },
    "tags": []
   },
   "outputs": [],
   "source": [
    "hyperdict=optuna.importance.get_param_importances(study)"
   ]
  },
  {
   "cell_type": "code",
   "execution_count": 34,
   "id": "4afa8ac6",
   "metadata": {
    "execution": {
     "iopub.execute_input": "2025-01-07T17:20:59.059054Z",
     "iopub.status.busy": "2025-01-07T17:20:59.058594Z",
     "iopub.status.idle": "2025-01-07T17:20:59.064006Z",
     "shell.execute_reply": "2025-01-07T17:20:59.062818Z"
    },
    "papermill": {
     "duration": 0.017569,
     "end_time": "2025-01-07T17:20:59.065657",
     "exception": false,
     "start_time": "2025-01-07T17:20:59.048088",
     "status": "completed"
    },
    "tags": []
   },
   "outputs": [
    {
     "name": "stdout",
     "output_type": "stream",
     "text": [
      "{'colsample_bylevel': 0.3133933690623534, 'bootstrap_type': 0.2509620413630828, 'depth': 0.21831473041517263, 'iterations': 0.14773660076382247, 'boosting_type': 0.06959325839556874, 'objective': 0.0}\n"
     ]
    }
   ],
   "source": [
    "print(hyperdict)"
   ]
  },
  {
   "cell_type": "code",
   "execution_count": 35,
   "id": "afbeb5ce",
   "metadata": {
    "execution": {
     "iopub.execute_input": "2025-01-07T17:20:59.087168Z",
     "iopub.status.busy": "2025-01-07T17:20:59.086748Z",
     "iopub.status.idle": "2025-01-07T17:29:10.015692Z",
     "shell.execute_reply": "2025-01-07T17:29:10.014419Z"
    },
    "papermill": {
     "duration": 490.952052,
     "end_time": "2025-01-07T17:29:10.027888",
     "exception": false,
     "start_time": "2025-01-07T17:20:59.075836",
     "status": "completed"
    },
    "tags": []
   },
   "outputs": [
    {
     "data": {
      "text/plain": [
       "<catboost.core.CatBoostRegressor at 0x780848a68c40>"
      ]
     },
     "execution_count": 35,
     "metadata": {},
     "output_type": "execute_result"
    }
   ],
   "source": [
    "#Train model with best param and iteration>1000 before prediction\n",
    "model=cb.CatBoostRegressor(**study.best_params,verbose=0)\n",
    "model.fit(train_pool)"
   ]
  },
  {
   "cell_type": "code",
   "execution_count": 36,
   "id": "a69239f0",
   "metadata": {
    "execution": {
     "iopub.execute_input": "2025-01-07T17:29:10.050452Z",
     "iopub.status.busy": "2025-01-07T17:29:10.050111Z",
     "iopub.status.idle": "2025-01-07T17:29:10.054265Z",
     "shell.execute_reply": "2025-01-07T17:29:10.053151Z"
    },
    "papermill": {
     "duration": 0.018378,
     "end_time": "2025-01-07T17:29:10.056093",
     "exception": false,
     "start_time": "2025-01-07T17:29:10.037715",
     "status": "completed"
    },
    "tags": []
   },
   "outputs": [],
   "source": [
    "#model.is_fitted()"
   ]
  },
  {
   "cell_type": "code",
   "execution_count": 37,
   "id": "0e68a598",
   "metadata": {
    "execution": {
     "iopub.execute_input": "2025-01-07T17:29:10.077979Z",
     "iopub.status.busy": "2025-01-07T17:29:10.077600Z",
     "iopub.status.idle": "2025-01-07T17:29:10.081617Z",
     "shell.execute_reply": "2025-01-07T17:29:10.080442Z"
    },
    "papermill": {
     "duration": 0.017122,
     "end_time": "2025-01-07T17:29:10.083297",
     "exception": false,
     "start_time": "2025-01-07T17:29:10.066175",
     "status": "completed"
    },
    "tags": []
   },
   "outputs": [],
   "source": [
    "#df_test.info()"
   ]
  },
  {
   "cell_type": "code",
   "execution_count": 38,
   "id": "dfa223a0",
   "metadata": {
    "execution": {
     "iopub.execute_input": "2025-01-07T17:29:10.104976Z",
     "iopub.status.busy": "2025-01-07T17:29:10.104598Z",
     "iopub.status.idle": "2025-01-07T17:29:10.468954Z",
     "shell.execute_reply": "2025-01-07T17:29:10.467839Z"
    },
    "papermill": {
     "duration": 0.377597,
     "end_time": "2025-01-07T17:29:10.471257",
     "exception": false,
     "start_time": "2025-01-07T17:29:10.093660",
     "status": "completed"
    },
    "tags": []
   },
   "outputs": [],
   "source": [
    "predicts = model.predict(df_test.drop(['id','date'],axis=1))"
   ]
  },
  {
   "cell_type": "code",
   "execution_count": 39,
   "id": "27b286d0",
   "metadata": {
    "execution": {
     "iopub.execute_input": "2025-01-07T17:29:10.495122Z",
     "iopub.status.busy": "2025-01-07T17:29:10.494728Z",
     "iopub.status.idle": "2025-01-07T17:29:10.750483Z",
     "shell.execute_reply": "2025-01-07T17:29:10.747515Z"
    },
    "papermill": {
     "duration": 0.269282,
     "end_time": "2025-01-07T17:29:10.753096",
     "exception": false,
     "start_time": "2025-01-07T17:29:10.483814",
     "status": "completed"
    },
    "tags": []
   },
   "outputs": [],
   "source": [
    "pd.concat([df_test['id'],pd.DataFrame(predicts,columns=['num_sold'])],axis=1).reset_index(drop=True).to_csv('submission_impute_interpolate_mode4.csv',index=False)"
   ]
  },
  {
   "cell_type": "code",
   "execution_count": null,
   "id": "f8a6e192",
   "metadata": {
    "papermill": {
     "duration": 0.014388,
     "end_time": "2025-01-07T17:29:10.782884",
     "exception": false,
     "start_time": "2025-01-07T17:29:10.768496",
     "status": "completed"
    },
    "tags": []
   },
   "outputs": [],
   "source": []
  }
 ],
 "metadata": {
  "kaggle": {
   "accelerator": "none",
   "dataSources": [
    {
     "databundleVersionId": 10652996,
     "sourceId": 85723,
     "sourceType": "competition"
    }
   ],
   "dockerImageVersionId": 30822,
   "isGpuEnabled": false,
   "isInternetEnabled": true,
   "language": "python",
   "sourceType": "notebook"
  },
  "kernelspec": {
   "display_name": "Python 3",
   "language": "python",
   "name": "python3"
  },
  "language_info": {
   "codemirror_mode": {
    "name": "ipython",
    "version": 3
   },
   "file_extension": ".py",
   "mimetype": "text/x-python",
   "name": "python",
   "nbconvert_exporter": "python",
   "pygments_lexer": "ipython3",
   "version": "3.10.12"
  },
  "papermill": {
   "default_parameters": {},
   "duration": 1120.589284,
   "end_time": "2025-01-07T17:29:11.721137",
   "environment_variables": {},
   "exception": null,
   "input_path": "__notebook__.ipynb",
   "output_path": "__notebook__.ipynb",
   "parameters": {},
   "start_time": "2025-01-07T17:10:31.131853",
   "version": "2.6.0"
  }
 },
 "nbformat": 4,
 "nbformat_minor": 5
}
