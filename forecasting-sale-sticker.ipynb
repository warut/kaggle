{
 "cells": [
  {
   "cell_type": "code",
   "execution_count": 1,
   "id": "6453943c",
   "metadata": {
    "_cell_guid": "b1076dfc-b9ad-4769-8c92-a6c4dae69d19",
    "_uuid": "8f2839f25d086af736a60e9eeb907d3b93b6e0e5",
    "execution": {
     "iopub.execute_input": "2025-01-31T12:53:25.635580Z",
     "iopub.status.busy": "2025-01-31T12:53:25.635209Z",
     "iopub.status.idle": "2025-01-31T12:53:26.642306Z",
     "shell.execute_reply": "2025-01-31T12:53:26.640841Z"
    },
    "papermill": {
     "duration": 1.02499,
     "end_time": "2025-01-31T12:53:26.644208",
     "exception": false,
     "start_time": "2025-01-31T12:53:25.619218",
     "status": "completed"
    },
    "tags": []
   },
   "outputs": [
    {
     "name": "stdout",
     "output_type": "stream",
     "text": [
      "/kaggle/input/playground-series-s5e1/sample_submission.csv\n",
      "/kaggle/input/playground-series-s5e1/train.csv\n",
      "/kaggle/input/playground-series-s5e1/test.csv\n",
      "/kaggle/input/cbfitmodels/cbfit_Singapore\n",
      "/kaggle/input/cbfitmodels/cbfit_Italy\n",
      "/kaggle/input/cbfitmodels/cbfit_Finland\n",
      "/kaggle/input/cbfitmodels/cbfit_Canada\n",
      "/kaggle/input/cbfitmodels/cbfit_Norway\n",
      "/kaggle/input/cbfitmodels/cbfit_Kenya\n",
      "/kaggle/input/cbfitmodels/__results___files/__results___9_0.png\n",
      "/kaggle/input/cbfitmodels/__results___files/__results___64_1.png\n",
      "/kaggle/input/cbfitmodels/__results___files/__results___13_0.png\n",
      "/kaggle/input/cbfitmodels/catboost_info/test_error.tsv\n",
      "/kaggle/input/cbfitmodels/catboost_info/learn_error.tsv\n",
      "/kaggle/input/cbfitmodels/catboost_info/catboost_training.json\n",
      "/kaggle/input/cbfitmodels/catboost_info/time_left.tsv\n",
      "/kaggle/input/cbfitmodels/catboost_info/learn/events.out.tfevents\n",
      "/kaggle/input/cbfitmodels/catboost_info/test/events.out.tfevents\n"
     ]
    }
   ],
   "source": [
    "# This Python 3 environment comes with many helpful analytics libraries installed\n",
    "# It is defined by the kaggle/python Docker image: https://github.com/kaggle/docker-python\n",
    "# For example, here's several helpful packages to load\n",
    "\n",
    "import numpy as np # linear algebra\n",
    "import pandas as pd # data processing, CSV file I/O (e.g. pd.read_csv)\n",
    "\n",
    "# Input data files are available in the read-only \"../input/\" directory\n",
    "# For example, running this (by clicking run or pressing Shift+Enter) will list all files under the input directory\n",
    "\n",
    "import os\n",
    "for dirname, _, filenames in os.walk('/kaggle/input'):\n",
    "    for filename in filenames:\n",
    "        print(os.path.join(dirname, filename))\n",
    "\n",
    "# You can write up to 20GB to the current directory (/kaggle/working/) that gets preserved as output when you create a version using \"Save & Run All\" \n",
    "# You can also write temporary files to /kaggle/temp/, but they won't be saved outside of the current session"
   ]
  },
  {
   "cell_type": "code",
   "execution_count": 2,
   "id": "1abf9500",
   "metadata": {
    "execution": {
     "iopub.execute_input": "2025-01-31T12:53:26.672803Z",
     "iopub.status.busy": "2025-01-31T12:53:26.672240Z",
     "iopub.status.idle": "2025-01-31T12:53:28.089522Z",
     "shell.execute_reply": "2025-01-31T12:53:28.088031Z"
    },
    "papermill": {
     "duration": 1.434254,
     "end_time": "2025-01-31T12:53:28.092248",
     "exception": false,
     "start_time": "2025-01-31T12:53:26.657994",
     "status": "completed"
    },
    "tags": []
   },
   "outputs": [],
   "source": [
    "import pandas as pd\n",
    "import numpy as np\n",
    "from sklearn.preprocessing import SplineTransformer\n",
    "\n",
    "\n",
    "def periodic_spline_transformer(period, n_splines=None, degree=3):\n",
    "    if n_splines is None:\n",
    "        n_splines = period\n",
    "    n_knots = n_splines + 1  # periodic and include_bias is True\n",
    "    return SplineTransformer(\n",
    "        degree=degree,\n",
    "        n_knots=n_knots,\n",
    "        knots=np.linspace(0, period, n_knots).reshape(n_knots, 1),\n",
    "        extrapolation=\"periodic\",\n",
    "        include_bias=True,\n",
    "    )\n",
    "\n",
    "# Sample quarterly data\n",
    "# data = {'quarter': [1, 2, 3, 4, 1, 2, 3, 4, 1, 2, 3, 4],\n",
    "#         'value': [10, 15, 12, 18, 11, 16, 13, 19, 12, 17, 14, 20]}\n",
    "# df = pd.DataFrame(data)\n",
    "\n",
    "# # Create periodic spline transformer\n",
    "# qt = periodic_spline_transformer(12, 4)\n",
    "\n",
    "# # Transform the 'quarter' feature\n",
    "# quarter = qt.fit_transform(df_train[['Month']])[:,0]\n",
    "\n",
    "# # Add transformed features to DataFrame\n",
    "# print(quarter)"
   ]
  },
  {
   "cell_type": "code",
   "execution_count": 3,
   "id": "b85e1baa",
   "metadata": {
    "execution": {
     "iopub.execute_input": "2025-01-31T12:53:28.122251Z",
     "iopub.status.busy": "2025-01-31T12:53:28.121546Z",
     "iopub.status.idle": "2025-01-31T12:53:28.126815Z",
     "shell.execute_reply": "2025-01-31T12:53:28.125435Z"
    },
    "papermill": {
     "duration": 0.02251,
     "end_time": "2025-01-31T12:53:28.128848",
     "exception": false,
     "start_time": "2025-01-31T12:53:28.106338",
     "status": "completed"
    },
    "tags": []
   },
   "outputs": [],
   "source": [
    "check_pg=[]"
   ]
  },
  {
   "cell_type": "code",
   "execution_count": 4,
   "id": "45f59ab7",
   "metadata": {
    "execution": {
     "iopub.execute_input": "2025-01-31T12:53:28.158728Z",
     "iopub.status.busy": "2025-01-31T12:53:28.158330Z",
     "iopub.status.idle": "2025-01-31T12:53:28.166189Z",
     "shell.execute_reply": "2025-01-31T12:53:28.164983Z"
    },
    "papermill": {
     "duration": 0.025205,
     "end_time": "2025-01-31T12:53:28.168100",
     "exception": false,
     "start_time": "2025-01-31T12:53:28.142895",
     "status": "completed"
    },
    "tags": []
   },
   "outputs": [],
   "source": [
    "def plot_periodogram(ts, detrend='linear', ax=None):\n",
    "    from scipy.signal import periodogram\n",
    "    fs = pd.Timedelta(\"365D\") / pd.Timedelta(\"1D\")\n",
    "    freqencies, spectrum = periodogram(\n",
    "        ts,\n",
    "        fs=fs,\n",
    "        detrend=detrend,\n",
    "        window=\"boxcar\",\n",
    "        scaling='spectrum',\n",
    "    )\n",
    "    check_pg.append(freqencies)\n",
    "    check_pg.append(spectrum)\n",
    "    if ax is None:\n",
    "        _, ax = plt.subplots()\n",
    "    ax.step(freqencies, spectrum, color=\"purple\")\n",
    "    ax.set_xscale(\"log\")\n",
    "    ax.set_xticks([1, 2, 4, 6, 12, 26, 52, 104])\n",
    "    ax.set_xticklabels(\n",
    "        [\n",
    "            \"Annual (1)\",\n",
    "            \"Semiannual (2)\",\n",
    "            \"Quarterly (4)\",\n",
    "            \"Bimonthly (6)\",\n",
    "            \"Monthly (12)\",\n",
    "            \"Biweekly (26)\",\n",
    "            \"Weekly (52)\",\n",
    "            \"Semiweekly (104)\",\n",
    "        ],\n",
    "        rotation=30,\n",
    "    )\n",
    "    ax.ticklabel_format(axis=\"y\", style=\"sci\", scilimits=(0, 0))\n",
    "    ax.set_ylabel(\"Variance\")\n",
    "    ax.set_title(\"Periodogram\")\n",
    "    plt.savefig('pg.png')\n",
    "    return ax"
   ]
  },
  {
   "cell_type": "code",
   "execution_count": 5,
   "id": "b51cbeaa",
   "metadata": {
    "execution": {
     "iopub.execute_input": "2025-01-31T12:53:28.197357Z",
     "iopub.status.busy": "2025-01-31T12:53:28.196411Z",
     "iopub.status.idle": "2025-01-31T12:53:41.322457Z",
     "shell.execute_reply": "2025-01-31T12:53:41.321087Z"
    },
    "papermill": {
     "duration": 13.142409,
     "end_time": "2025-01-31T12:53:41.324634",
     "exception": false,
     "start_time": "2025-01-31T12:53:28.182225",
     "status": "completed"
    },
    "tags": []
   },
   "outputs": [
    {
     "name": "stdout",
     "output_type": "stream",
     "text": [
      "Collecting optuna-integration[catboost]\r\n",
      "  Downloading optuna_integration-4.2.1-py3-none-any.whl.metadata (12 kB)\r\n",
      "Requirement already satisfied: optuna in /usr/local/lib/python3.10/dist-packages (from optuna-integration[catboost]) (4.1.0)\r\n",
      "Requirement already satisfied: numpy<2.0.0 in /usr/local/lib/python3.10/dist-packages (from optuna-integration[catboost]) (1.26.4)\r\n",
      "Requirement already satisfied: catboost in /usr/local/lib/python3.10/dist-packages (from optuna-integration[catboost]) (1.2.7)\r\n",
      "Requirement already satisfied: graphviz in /usr/local/lib/python3.10/dist-packages (from catboost->optuna-integration[catboost]) (0.20.3)\r\n",
      "Requirement already satisfied: matplotlib in /usr/local/lib/python3.10/dist-packages (from catboost->optuna-integration[catboost]) (3.7.1)\r\n",
      "Requirement already satisfied: pandas>=0.24 in /usr/local/lib/python3.10/dist-packages (from catboost->optuna-integration[catboost]) (2.1.4)\r\n",
      "Requirement already satisfied: scipy in /usr/local/lib/python3.10/dist-packages (from catboost->optuna-integration[catboost]) (1.13.1)\r\n",
      "Requirement already satisfied: plotly in /usr/local/lib/python3.10/dist-packages (from catboost->optuna-integration[catboost]) (5.24.1)\r\n",
      "Requirement already satisfied: six in /usr/local/lib/python3.10/dist-packages (from catboost->optuna-integration[catboost]) (1.16.0)\r\n",
      "Requirement already satisfied: alembic>=1.5.0 in /usr/local/lib/python3.10/dist-packages (from optuna->optuna-integration[catboost]) (1.14.0)\r\n",
      "Requirement already satisfied: colorlog in /usr/local/lib/python3.10/dist-packages (from optuna->optuna-integration[catboost]) (6.9.0)\r\n",
      "Requirement already satisfied: packaging>=20.0 in /usr/local/lib/python3.10/dist-packages (from optuna->optuna-integration[catboost]) (24.1)\r\n",
      "Requirement already satisfied: sqlalchemy>=1.4.2 in /usr/local/lib/python3.10/dist-packages (from optuna->optuna-integration[catboost]) (2.0.35)\r\n",
      "Requirement already satisfied: tqdm in /usr/local/lib/python3.10/dist-packages (from optuna->optuna-integration[catboost]) (4.66.5)\r\n",
      "Requirement already satisfied: PyYAML in /usr/local/lib/python3.10/dist-packages (from optuna->optuna-integration[catboost]) (6.0.2)\r\n",
      "Requirement already satisfied: Mako in /usr/local/lib/python3.10/dist-packages (from alembic>=1.5.0->optuna->optuna-integration[catboost]) (1.3.8)\r\n",
      "Requirement already satisfied: typing-extensions>=4 in /usr/local/lib/python3.10/dist-packages (from alembic>=1.5.0->optuna->optuna-integration[catboost]) (4.12.2)\r\n",
      "Requirement already satisfied: python-dateutil>=2.8.2 in /usr/local/lib/python3.10/dist-packages (from pandas>=0.24->catboost->optuna-integration[catboost]) (2.8.2)\r\n",
      "Requirement already satisfied: pytz>=2020.1 in /usr/local/lib/python3.10/dist-packages (from pandas>=0.24->catboost->optuna-integration[catboost]) (2024.2)\r\n",
      "Requirement already satisfied: tzdata>=2022.1 in /usr/local/lib/python3.10/dist-packages (from pandas>=0.24->catboost->optuna-integration[catboost]) (2024.1)\r\n",
      "Requirement already satisfied: greenlet!=0.4.17 in /usr/local/lib/python3.10/dist-packages (from sqlalchemy>=1.4.2->optuna->optuna-integration[catboost]) (3.1.0)\r\n",
      "Requirement already satisfied: contourpy>=1.0.1 in /usr/local/lib/python3.10/dist-packages (from matplotlib->catboost->optuna-integration[catboost]) (1.3.0)\r\n",
      "Requirement already satisfied: cycler>=0.10 in /usr/local/lib/python3.10/dist-packages (from matplotlib->catboost->optuna-integration[catboost]) (0.12.1)\r\n",
      "Requirement already satisfied: fonttools>=4.22.0 in /usr/local/lib/python3.10/dist-packages (from matplotlib->catboost->optuna-integration[catboost]) (4.53.1)\r\n",
      "Requirement already satisfied: kiwisolver>=1.0.1 in /usr/local/lib/python3.10/dist-packages (from matplotlib->catboost->optuna-integration[catboost]) (1.4.7)\r\n",
      "Requirement already satisfied: pillow>=6.2.0 in /usr/local/lib/python3.10/dist-packages (from matplotlib->catboost->optuna-integration[catboost]) (10.4.0)\r\n",
      "Requirement already satisfied: pyparsing>=2.3.1 in /usr/local/lib/python3.10/dist-packages (from matplotlib->catboost->optuna-integration[catboost]) (3.1.4)\r\n",
      "Requirement already satisfied: tenacity>=6.2.0 in /usr/local/lib/python3.10/dist-packages (from plotly->catboost->optuna-integration[catboost]) (9.0.0)\r\n",
      "Requirement already satisfied: MarkupSafe>=0.9.2 in /usr/local/lib/python3.10/dist-packages (from Mako->alembic>=1.5.0->optuna->optuna-integration[catboost]) (2.1.5)\r\n",
      "Downloading optuna_integration-4.2.1-py3-none-any.whl (97 kB)\r\n",
      "\u001b[2K   \u001b[90m━━━━━━━━━━━━━━━━━━━━━━━━━━━━━━━━━━━━━━━━\u001b[0m \u001b[32m97.6/97.6 kB\u001b[0m \u001b[31m3.2 MB/s\u001b[0m eta \u001b[36m0:00:00\u001b[0m\r\n",
      "\u001b[?25hInstalling collected packages: optuna-integration\r\n",
      "Successfully installed optuna-integration-4.2.1\r\n",
      "Requirement already satisfied: holidays in /usr/local/lib/python3.10/dist-packages (0.57)\r\n",
      "Collecting holidays\r\n",
      "  Downloading holidays-0.65-py3-none-any.whl.metadata (26 kB)\r\n",
      "Requirement already satisfied: python-dateutil in /usr/local/lib/python3.10/dist-packages (from holidays) (2.8.2)\r\n",
      "Requirement already satisfied: six>=1.5 in /usr/local/lib/python3.10/dist-packages (from python-dateutil->holidays) (1.16.0)\r\n",
      "Downloading holidays-0.65-py3-none-any.whl (1.2 MB)\r\n",
      "\u001b[2K   \u001b[90m━━━━━━━━━━━━━━━━━━━━━━━━━━━━━━━━━━━━━━━━\u001b[0m \u001b[32m1.2/1.2 MB\u001b[0m \u001b[31m24.1 MB/s\u001b[0m eta \u001b[36m0:00:00\u001b[0m\r\n",
      "\u001b[?25hInstalling collected packages: holidays\r\n",
      "  Attempting uninstall: holidays\r\n",
      "    Found existing installation: holidays 0.57\r\n",
      "    Uninstalling holidays-0.57:\r\n",
      "      Successfully uninstalled holidays-0.57\r\n",
      "Successfully installed holidays-0.65\r\n"
     ]
    }
   ],
   "source": [
    "!pip install optuna-integration[catboost]\n",
    "!pip install -U holidays"
   ]
  },
  {
   "cell_type": "code",
   "execution_count": 6,
   "id": "443d751f",
   "metadata": {
    "execution": {
     "iopub.execute_input": "2025-01-31T12:53:41.357566Z",
     "iopub.status.busy": "2025-01-31T12:53:41.357203Z",
     "iopub.status.idle": "2025-01-31T12:53:46.233271Z",
     "shell.execute_reply": "2025-01-31T12:53:46.231903Z"
    },
    "papermill": {
     "duration": 4.896158,
     "end_time": "2025-01-31T12:53:46.235440",
     "exception": false,
     "start_time": "2025-01-31T12:53:41.339282",
     "status": "completed"
    },
    "tags": []
   },
   "outputs": [
    {
     "name": "stdout",
     "output_type": "stream",
     "text": [
      "Collecting pycountry\r\n",
      "  Downloading pycountry-24.6.1-py3-none-any.whl.metadata (12 kB)\r\n",
      "Downloading pycountry-24.6.1-py3-none-any.whl (6.3 MB)\r\n",
      "\u001b[2K   \u001b[90m━━━━━━━━━━━━━━━━━━━━━━━━━━━━━━━━━━━━━━━━\u001b[0m \u001b[32m6.3/6.3 MB\u001b[0m \u001b[31m54.3 MB/s\u001b[0m eta \u001b[36m0:00:00\u001b[0m\r\n",
      "\u001b[?25hInstalling collected packages: pycountry\r\n",
      "Successfully installed pycountry-24.6.1\r\n"
     ]
    }
   ],
   "source": [
    "!pip install -U pycountry"
   ]
  },
  {
   "cell_type": "code",
   "execution_count": 7,
   "id": "15aad4fc",
   "metadata": {
    "execution": {
     "iopub.execute_input": "2025-01-31T12:53:46.268000Z",
     "iopub.status.busy": "2025-01-31T12:53:46.267493Z",
     "iopub.status.idle": "2025-01-31T12:53:46.336372Z",
     "shell.execute_reply": "2025-01-31T12:53:46.334854Z"
    },
    "papermill": {
     "duration": 0.087866,
     "end_time": "2025-01-31T12:53:46.338394",
     "exception": false,
     "start_time": "2025-01-31T12:53:46.250528",
     "status": "completed"
    },
    "tags": []
   },
   "outputs": [],
   "source": [
    "import statsmodels"
   ]
  },
  {
   "cell_type": "code",
   "execution_count": 8,
   "id": "d57a9cb1",
   "metadata": {
    "execution": {
     "iopub.execute_input": "2025-01-31T12:53:46.372575Z",
     "iopub.status.busy": "2025-01-31T12:53:46.372221Z",
     "iopub.status.idle": "2025-01-31T12:53:47.955324Z",
     "shell.execute_reply": "2025-01-31T12:53:47.954112Z"
    },
    "papermill": {
     "duration": 1.603195,
     "end_time": "2025-01-31T12:53:47.957374",
     "exception": false,
     "start_time": "2025-01-31T12:53:46.354179",
     "status": "completed"
    },
    "tags": []
   },
   "outputs": [],
   "source": [
    "import pandas as pd\n",
    "import numpy as np\n",
    "import optuna\n",
    "import catboost as cb\n",
    "import matplotlib\n",
    "import seaborn as sns\n",
    "from sklearn.metrics import mean_absolute_percentage_error\n",
    "from sklearn.model_selection import train_test_split\n",
    "from optuna.integration import CatBoostPruningCallback\n",
    "import pycountry \n",
    "import holidays\n",
    "\n",
    "\n"
   ]
  },
  {
   "cell_type": "code",
   "execution_count": 9,
   "id": "88bf90e3",
   "metadata": {
    "execution": {
     "iopub.execute_input": "2025-01-31T12:53:47.988406Z",
     "iopub.status.busy": "2025-01-31T12:53:47.987897Z",
     "iopub.status.idle": "2025-01-31T12:53:48.594865Z",
     "shell.execute_reply": "2025-01-31T12:53:48.593134Z"
    },
    "papermill": {
     "duration": 0.624852,
     "end_time": "2025-01-31T12:53:48.597069",
     "exception": false,
     "start_time": "2025-01-31T12:53:47.972217",
     "status": "completed"
    },
    "tags": []
   },
   "outputs": [],
   "source": [
    "df_train=pd.read_csv('/kaggle/input/playground-series-s5e1/train.csv')\n",
    "df_test=pd.read_csv('/kaggle/input/playground-series-s5e1/test.csv')\n",
    "\n"
   ]
  },
  {
   "cell_type": "code",
   "execution_count": 10,
   "id": "c288ca0e",
   "metadata": {
    "execution": {
     "iopub.execute_input": "2025-01-31T12:53:48.629944Z",
     "iopub.status.busy": "2025-01-31T12:53:48.629514Z",
     "iopub.status.idle": "2025-01-31T12:53:48.707303Z",
     "shell.execute_reply": "2025-01-31T12:53:48.705981Z"
    },
    "papermill": {
     "duration": 0.097082,
     "end_time": "2025-01-31T12:53:48.709269",
     "exception": false,
     "start_time": "2025-01-31T12:53:48.612187",
     "status": "completed"
    },
    "tags": []
   },
   "outputs": [
    {
     "name": "stdout",
     "output_type": "stream",
     "text": [
      "<class 'pandas.core.frame.DataFrame'>\n",
      "RangeIndex: 230130 entries, 0 to 230129\n",
      "Data columns (total 6 columns):\n",
      " #   Column    Non-Null Count   Dtype  \n",
      "---  ------    --------------   -----  \n",
      " 0   id        230130 non-null  int64  \n",
      " 1   date      230130 non-null  object \n",
      " 2   country   230130 non-null  object \n",
      " 3   store     230130 non-null  object \n",
      " 4   product   230130 non-null  object \n",
      " 5   num_sold  221259 non-null  float64\n",
      "dtypes: float64(1), int64(1), object(4)\n",
      "memory usage: 10.5+ MB\n"
     ]
    }
   ],
   "source": [
    "df_train.info()"
   ]
  },
  {
   "cell_type": "code",
   "execution_count": 11,
   "id": "6b0259b5",
   "metadata": {
    "execution": {
     "iopub.execute_input": "2025-01-31T12:53:48.742634Z",
     "iopub.status.busy": "2025-01-31T12:53:48.742255Z",
     "iopub.status.idle": "2025-01-31T12:53:48.766947Z",
     "shell.execute_reply": "2025-01-31T12:53:48.765316Z"
    },
    "papermill": {
     "duration": 0.043193,
     "end_time": "2025-01-31T12:53:48.769175",
     "exception": false,
     "start_time": "2025-01-31T12:53:48.725982",
     "status": "completed"
    },
    "tags": []
   },
   "outputs": [
    {
     "data": {
      "text/plain": [
       "array(['Discount Stickers', 'Stickers for Less', 'Premium Sticker Mart'],\n",
       "      dtype=object)"
      ]
     },
     "execution_count": 11,
     "metadata": {},
     "output_type": "execute_result"
    }
   ],
   "source": [
    "df_train['store'].unique()"
   ]
  },
  {
   "cell_type": "code",
   "execution_count": 12,
   "id": "53be4111",
   "metadata": {
    "execution": {
     "iopub.execute_input": "2025-01-31T12:53:48.801245Z",
     "iopub.status.busy": "2025-01-31T12:53:48.800876Z",
     "iopub.status.idle": "2025-01-31T12:53:48.832990Z",
     "shell.execute_reply": "2025-01-31T12:53:48.831877Z"
    },
    "papermill": {
     "duration": 0.050802,
     "end_time": "2025-01-31T12:53:48.834948",
     "exception": false,
     "start_time": "2025-01-31T12:53:48.784146",
     "status": "completed"
    },
    "tags": []
   },
   "outputs": [
    {
     "data": {
      "text/plain": [
       "array(['Discount Stickers', 'Stickers for Less', 'Premium Sticker Mart'],\n",
       "      dtype=object)"
      ]
     },
     "execution_count": 12,
     "metadata": {},
     "output_type": "execute_result"
    }
   ],
   "source": [
    "df_train[df_train['country']=='Kenya']['store'].unique()"
   ]
  },
  {
   "cell_type": "code",
   "execution_count": 13,
   "id": "21f18c65",
   "metadata": {
    "execution": {
     "iopub.execute_input": "2025-01-31T12:53:48.867317Z",
     "iopub.status.busy": "2025-01-31T12:53:48.866937Z",
     "iopub.status.idle": "2025-01-31T12:53:48.885750Z",
     "shell.execute_reply": "2025-01-31T12:53:48.884319Z"
    },
    "papermill": {
     "duration": 0.037644,
     "end_time": "2025-01-31T12:53:48.887883",
     "exception": false,
     "start_time": "2025-01-31T12:53:48.850239",
     "status": "completed"
    },
    "tags": []
   },
   "outputs": [
    {
     "data": {
      "text/plain": [
       "array(['Holographic Goose', 'Kaggle', 'Kaggle Tiers', 'Kerneler',\n",
       "       'Kerneler Dark Mode'], dtype=object)"
      ]
     },
     "execution_count": 13,
     "metadata": {},
     "output_type": "execute_result"
    }
   ],
   "source": [
    "df_train['product'].unique()"
   ]
  },
  {
   "cell_type": "code",
   "execution_count": 14,
   "id": "5706eb50",
   "metadata": {
    "execution": {
     "iopub.execute_input": "2025-01-31T12:53:48.920332Z",
     "iopub.status.busy": "2025-01-31T12:53:48.919967Z",
     "iopub.status.idle": "2025-01-31T12:53:50.078491Z",
     "shell.execute_reply": "2025-01-31T12:53:50.077055Z"
    },
    "papermill": {
     "duration": 1.176707,
     "end_time": "2025-01-31T12:53:50.080568",
     "exception": false,
     "start_time": "2025-01-31T12:53:48.903861",
     "status": "completed"
    },
    "tags": []
   },
   "outputs": [
    {
     "data": {
      "image/png": "[encoded data removed]",
      "text/plain": [
       "<Figure size 640x480 with 4 Axes>"
      ]
     },
     "metadata": {},
     "output_type": "display_data"
    }
   ],
   "source": [
    "### import pandas as pd\n",
    "import numpy as np\n",
    "from statsmodels.tsa.seasonal import seasonal_decompose\n",
    "import matplotlib.pyplot as plt\n",
    "\n",
    "# Generate synthetic time series data\n",
    "np.random.seed(42)\n",
    "#df_train['date']=pd.to_datetime(df_train['date'])\n",
    "#df_train=df_train.set_index('date')\n",
    "df=df_train['num_sold']\n",
    "\n",
    "#time = pd.date_range(start=df_train['date'].min, end=df_train['date'].max, periods=365, freq='D')\n",
    "#series = 10 + 0.05 * np.arange(100) + np.sin(2 * np.pi * time.dayofyear / 365) + np.random.normal(0, 1, 100)\n",
    "#df = pd.DataFrame({'date': time, 'value': series}).set_index('date')\n",
    "\n",
    "# Decompose time series\n",
    "decomposition = seasonal_decompose(\n",
    "    df_train[(df_train['country']=='Singapore') & \n",
    "    (df_train['date'].str.contains('2013')) &\n",
    "    (df_train['store']=='Premium Sticker Mart')]['num_sold'],\n",
    "    model='multiplicative', period=30)  # Set period according to data frequency\n",
    "\n",
    "# Plot components\n",
    "decomposition.plot()\n",
    "plt.show()\n"
   ]
  },
  {
   "cell_type": "code",
   "execution_count": 15,
   "id": "5216111c",
   "metadata": {
    "execution": {
     "iopub.execute_input": "2025-01-31T12:53:50.115823Z",
     "iopub.status.busy": "2025-01-31T12:53:50.115256Z",
     "iopub.status.idle": "2025-01-31T12:53:50.120092Z",
     "shell.execute_reply": "2025-01-31T12:53:50.118912Z"
    },
    "papermill": {
     "duration": 0.024516,
     "end_time": "2025-01-31T12:53:50.121853",
     "exception": false,
     "start_time": "2025-01-31T12:53:50.097337",
     "status": "completed"
    },
    "tags": []
   },
   "outputs": [],
   "source": [
    "# temp=pd.concat([df_train['date'],df_train['num_sold']],axis=1)\n",
    "# sumsale2016=temp.groupby('date').mean().squeeze().loc['2013']\n",
    "# #sumsale2016\n",
    "# plot_periodogram(sumsale2016)"
   ]
  },
  {
   "cell_type": "code",
   "execution_count": 16,
   "id": "bc707948",
   "metadata": {
    "execution": {
     "iopub.execute_input": "2025-01-31T12:53:50.156644Z",
     "iopub.status.busy": "2025-01-31T12:53:50.156270Z",
     "iopub.status.idle": "2025-01-31T12:53:51.719624Z",
     "shell.execute_reply": "2025-01-31T12:53:51.718044Z"
    },
    "papermill": {
     "duration": 1.584011,
     "end_time": "2025-01-31T12:53:51.722381",
     "exception": false,
     "start_time": "2025-01-31T12:53:50.138370",
     "status": "completed"
    },
    "tags": []
   },
   "outputs": [
    {
     "name": "stdout",
     "output_type": "stream",
     "text": [
      "ADF Statistic: -6.129147123657372\n",
      "p-value: 8.484833374009022e-08\n",
      "The series is stationary.\n"
     ]
    }
   ],
   "source": [
    "from statsmodels.tsa.stattools import adfuller\n",
    "\n",
    "# Perform ADF test\n",
    "adf_result = adfuller(df_train[(df_train['country']=='Singapore') & (df_train['store']=='Discount Stickers')]['num_sold'])\n",
    "\n",
    "# Print results\n",
    "print(\"ADF Statistic:\", adf_result[0])\n",
    "print(\"p-value:\", adf_result[1])\n",
    "if adf_result[1] < 0.05:\n",
    "    print(\"The series is stationary.\")\n",
    "else:\n",
    "    print(\"The series is not stationary.\")\n"
   ]
  },
  {
   "cell_type": "code",
   "execution_count": 17,
   "id": "5ab49527",
   "metadata": {
    "execution": {
     "iopub.execute_input": "2025-01-31T12:53:51.827286Z",
     "iopub.status.busy": "2025-01-31T12:53:51.825778Z",
     "iopub.status.idle": "2025-01-31T12:53:51.890021Z",
     "shell.execute_reply": "2025-01-31T12:53:51.887853Z"
    },
    "papermill": {
     "duration": 0.120301,
     "end_time": "2025-01-31T12:53:51.893511",
     "exception": false,
     "start_time": "2025-01-31T12:53:51.773210",
     "status": "completed"
    },
    "tags": []
   },
   "outputs": [
    {
     "name": "stdout",
     "output_type": "stream",
     "text": [
      "KPSS Statistic: 0.7976600279714846\n",
      "p-value: 0.01\n",
      "The series is not stationary (has a trend).\n"
     ]
    },
    {
     "name": "stderr",
     "output_type": "stream",
     "text": [
      "<ipython-input-17-b1e5399dac4b>:4: InterpolationWarning: The test statistic is outside of the range of p-values available in the\n",
      "look-up table. The actual p-value is smaller than the p-value returned.\n",
      "\n",
      "  kpss_result = kpss(df_train[(df_train['country']=='Singapore') & (df_train['store']=='Discount Stickers')]['num_sold'], regression='c')\n"
     ]
    }
   ],
   "source": [
    "from statsmodels.tsa.stattools import kpss\n",
    "\n",
    "# Perform KPSS test\n",
    "kpss_result = kpss(df_train[(df_train['country']=='Singapore') & (df_train['store']=='Discount Stickers')]['num_sold'], regression='c')\n",
    "\n",
    "# Print results\n",
    "print(\"KPSS Statistic:\", kpss_result[0])\n",
    "print(\"p-value:\", kpss_result[1])\n",
    "if kpss_result[1] < 0.05:\n",
    "    print(\"The series is not stationary (has a trend).\")\n",
    "else:\n",
    "    print(\"The series is stationary.\")"
   ]
  },
  {
   "cell_type": "code",
   "execution_count": 18,
   "id": "37427829",
   "metadata": {
    "execution": {
     "iopub.execute_input": "2025-01-31T12:53:51.994530Z",
     "iopub.status.busy": "2025-01-31T12:53:51.993861Z",
     "iopub.status.idle": "2025-01-31T12:53:52.052376Z",
     "shell.execute_reply": "2025-01-31T12:53:52.050988Z"
    },
    "papermill": {
     "duration": 0.111865,
     "end_time": "2025-01-31T12:53:52.054235",
     "exception": false,
     "start_time": "2025-01-31T12:53:51.942370",
     "status": "completed"
    },
    "tags": []
   },
   "outputs": [
    {
     "name": "stdout",
     "output_type": "stream",
     "text": [
      "<class 'pandas.core.frame.DataFrame'>\n",
      "RangeIndex: 230130 entries, 0 to 230129\n",
      "Data columns (total 6 columns):\n",
      " #   Column    Non-Null Count   Dtype  \n",
      "---  ------    --------------   -----  \n",
      " 0   id        230130 non-null  int64  \n",
      " 1   date      230130 non-null  object \n",
      " 2   country   230130 non-null  object \n",
      " 3   store     230130 non-null  object \n",
      " 4   product   230130 non-null  object \n",
      " 5   num_sold  221259 non-null  float64\n",
      "dtypes: float64(1), int64(1), object(4)\n",
      "memory usage: 10.5+ MB\n"
     ]
    }
   ],
   "source": [
    "df_train.info()"
   ]
  },
  {
   "cell_type": "code",
   "execution_count": 19,
   "id": "9783b185",
   "metadata": {
    "execution": {
     "iopub.execute_input": "2025-01-31T12:53:52.088591Z",
     "iopub.status.busy": "2025-01-31T12:53:52.088244Z",
     "iopub.status.idle": "2025-01-31T12:53:55.446932Z",
     "shell.execute_reply": "2025-01-31T12:53:55.445636Z"
    },
    "papermill": {
     "duration": 3.380763,
     "end_time": "2025-01-31T12:53:55.451640",
     "exception": false,
     "start_time": "2025-01-31T12:53:52.070877",
     "status": "completed"
    },
    "tags": []
   },
   "outputs": [
    {
     "data": {
      "image/png": "[encoded data removed]",
      "text/plain": [
       "<Figure size 1200x800 with 6 Axes>"
      ]
     },
     "metadata": {},
     "output_type": "display_data"
    }
   ],
   "source": [
    "# Plot showing timeseries attributes: trend, seasonality \n",
    "\n",
    "# Create subplots: 2 rows, 3 columns\n",
    "fig, axes = plt.subplots(2, 3, figsize=(12, 8))\n",
    "\n",
    "# Flatten the axes array for easy iteration\n",
    "axes = axes.flatten()\n",
    "countrylist=df_train['country'].unique().tolist()\n",
    "# Loop through each subplot and plot\n",
    "for i, ax in enumerate(axes):\n",
    "    df=df_train[(df_train['country']==countrylist[i]) & (df_train['store']=='Discount Stickers')][['date','num_sold']]\n",
    "    df.dropna(inplace=True)\n",
    "    df.set_index('date',inplace=True)\n",
    "    df['rolling_mean'] = df['num_sold'].rolling(window=30).mean()\n",
    "    df['rolling_std'] = df['num_sold'].rolling(window=30).std()\n",
    "    df[['num_sold', 'rolling_mean', 'rolling_std']].plot(ax=ax,title=f'{countrylist[i]} Rolling Mean and Std Dev')\n",
    "\n",
    "plt.tight_layout()\n",
    "\n",
    "# Show the plot\n",
    "plt.show()\n",
    "    "
   ]
  },
  {
   "cell_type": "code",
   "execution_count": 20,
   "id": "2a7487be",
   "metadata": {
    "execution": {
     "iopub.execute_input": "2025-01-31T12:53:55.496179Z",
     "iopub.status.busy": "2025-01-31T12:53:55.495809Z",
     "iopub.status.idle": "2025-01-31T12:53:55.582970Z",
     "shell.execute_reply": "2025-01-31T12:53:55.581865Z"
    },
    "papermill": {
     "duration": 0.11131,
     "end_time": "2025-01-31T12:53:55.585055",
     "exception": false,
     "start_time": "2025-01-31T12:53:55.473745",
     "status": "completed"
    },
    "tags": []
   },
   "outputs": [
    {
     "data": {
      "text/plain": [
       "<bound method Series.max of 46        20.0\n",
       "47        16.0\n",
       "48         8.0\n",
       "49         9.0\n",
       "50         5.0\n",
       "          ... \n",
       "230095    10.0\n",
       "230096    72.0\n",
       "230097    58.0\n",
       "230098    33.0\n",
       "230099    42.0\n",
       "Name: num_sold, Length: 33730, dtype: float64>"
      ]
     },
     "execution_count": 20,
     "metadata": {},
     "output_type": "execute_result"
    }
   ],
   "source": [
    "test=df_train.dropna()\n",
    "test[test['country']=='Kenya']['num_sold'].max"
   ]
  },
  {
   "cell_type": "code",
   "execution_count": 21,
   "id": "f0bfd00a",
   "metadata": {
    "execution": {
     "iopub.execute_input": "2025-01-31T12:53:55.630356Z",
     "iopub.status.busy": "2025-01-31T12:53:55.629975Z",
     "iopub.status.idle": "2025-01-31T12:53:55.635833Z",
     "shell.execute_reply": "2025-01-31T12:53:55.634252Z"
    },
    "papermill": {
     "duration": 0.031234,
     "end_time": "2025-01-31T12:53:55.638378",
     "exception": false,
     "start_time": "2025-01-31T12:53:55.607144",
     "status": "completed"
    },
    "tags": []
   },
   "outputs": [],
   "source": [
    "\n",
    "\n",
    "def get_alpha2_code(country_name):\n",
    "  \"\"\"\n",
    "  Gets the ISO 3166-1 Alpha-2 country code for the given country name.\n",
    "\n",
    "  Args:\n",
    "    country_name: The name of the country.\n",
    "\n",
    "  Returns:\n",
    "    The ISO 3166-1 Alpha-2 country code, or None if the country is not found.\n",
    "  \"\"\"\n",
    "  try:\n",
    "    country = pycountry.countries.search_fuzzy(country_name)[0]\n",
    "    return country.alpha_2\n",
    "  except LookupError:\n",
    "    return None\n",
    "\n"
   ]
  },
  {
   "cell_type": "code",
   "execution_count": 22,
   "id": "75e65d5e",
   "metadata": {
    "execution": {
     "iopub.execute_input": "2025-01-31T12:53:55.684064Z",
     "iopub.status.busy": "2025-01-31T12:53:55.683641Z",
     "iopub.status.idle": "2025-01-31T12:53:55.689272Z",
     "shell.execute_reply": "2025-01-31T12:53:55.687959Z"
    },
    "papermill": {
     "duration": 0.031206,
     "end_time": "2025-01-31T12:53:55.691736",
     "exception": false,
     "start_time": "2025-01-31T12:53:55.660530",
     "status": "completed"
    },
    "tags": []
   },
   "outputs": [],
   "source": [
    "# Function to create holiday sets for each country\n",
    "def generate_country_holidays(countries, start_year, end_year):\n",
    "    country_holidays = {}\n",
    "    for country in countries:\n",
    "        # Generate a holiday set for the range of years\n",
    "        country_holidays[country] = holidays.CountryHoliday(country, years=range(start_year, end_year + 1)) \n",
    "    return country_holidays\n"
   ]
  },
  {
   "cell_type": "code",
   "execution_count": 23,
   "id": "892b8579",
   "metadata": {
    "execution": {
     "iopub.execute_input": "2025-01-31T12:53:55.738622Z",
     "iopub.status.busy": "2025-01-31T12:53:55.738212Z",
     "iopub.status.idle": "2025-01-31T12:53:59.332223Z",
     "shell.execute_reply": "2025-01-31T12:53:59.329837Z"
    },
    "papermill": {
     "duration": 3.619578,
     "end_time": "2025-01-31T12:53:59.334551",
     "exception": false,
     "start_time": "2025-01-31T12:53:55.714973",
     "status": "completed"
    },
    "tags": []
   },
   "outputs": [],
   "source": [
    "df_train['Day']=pd.to_datetime(df_train['date']).dt.strftime(\"%d\")\n",
    "df_train['Month']=pd.to_datetime(df_train['date']).dt.strftime(\"%m\")\n",
    "df_train['Year']=pd.to_datetime(df_train['date']).dt.strftime(\"%Y\")\n",
    "df_train['Day_of_week']=pd.to_datetime(df_train['date']).dt.dayofweek\n",
    "df_train['Week_No']=pd.to_datetime(df_train['date']).dt.isocalendar().week\n",
    "df_train['is_weekend']=(df_train['Day_of_week']>=4).astype(int)\n",
    "df_train['Quarter_Discrete'] = (df_train['Month'].astype(int) - 1) // 3 + 1\n",
    "df_train['quarter_normalized'] = (df_train['Quarter_Discrete']-1)/3\n",
    "df_train['month_normalized']=(df_train['Month'].astype(int)-1)/11\n",
    "df_train['Month_Spline']=periodic_spline_transformer(12,4).fit_transform(df_train[['quarter_normalized']])[:,0]\n",
    "df_train['Quarter_Spline']=periodic_spline_transformer(4,4).fit_transform(df_train[['quarter_normalized']])[:,0]\n",
    "df_train['week_number_normalized'] = df_train['Week_No'] / df_train['Week_No'].max()\n",
    "df_train['Week_Spline']=periodic_spline_transformer(53,5).fit_transform(df_train[['week_number_normalized']])[:,0]"
   ]
  },
  {
   "cell_type": "code",
   "execution_count": 24,
   "id": "6c4feff8",
   "metadata": {
    "execution": {
     "iopub.execute_input": "2025-01-31T12:53:59.381020Z",
     "iopub.status.busy": "2025-01-31T12:53:59.380284Z",
     "iopub.status.idle": "2025-01-31T12:53:59.387389Z",
     "shell.execute_reply": "2025-01-31T12:53:59.386070Z"
    },
    "papermill": {
     "duration": 0.032731,
     "end_time": "2025-01-31T12:53:59.389441",
     "exception": false,
     "start_time": "2025-01-31T12:53:59.356710",
     "status": "completed"
    },
    "tags": []
   },
   "outputs": [],
   "source": [
    "def consecutive_days_visited(df):\n",
    "    \"\"\"\n",
    "    Calculates the number of consecutive days a store was visited.\n",
    "\n",
    "    Args:\n",
    "        df: pandas DataFrame with columns 'date', 'country', 'store'\n",
    "\n",
    "    Returns:\n",
    "        pandas DataFrame with an additional column 'consecutive_days' \n",
    "    \"\"\"\n",
    "\n",
    "    # Ensure date index is sorted\n",
    "    df = df.sort_index()\n",
    "\n",
    "    # Group by 'country' and 'store'\n",
    "    grouped = df.groupby(['country', 'store'])\n",
    "\n",
    "    # Calculate consecutive days within each group\n",
    "    df['consecutive_days'] = (grouped.indices - grouped.indices.min()).dt.days + 1\n",
    "\n",
    "    return df\n"
   ]
  },
  {
   "cell_type": "code",
   "execution_count": 25,
   "id": "26eed2b4",
   "metadata": {
    "execution": {
     "iopub.execute_input": "2025-01-31T12:53:59.440988Z",
     "iopub.status.busy": "2025-01-31T12:53:59.440547Z",
     "iopub.status.idle": "2025-01-31T12:53:59.642186Z",
     "shell.execute_reply": "2025-01-31T12:53:59.638734Z"
    },
    "papermill": {
     "duration": 0.231791,
     "end_time": "2025-01-31T12:53:59.646361",
     "exception": false,
     "start_time": "2025-01-31T12:53:59.414570",
     "status": "completed"
    },
    "tags": []
   },
   "outputs": [
    {
     "name": "stdout",
     "output_type": "stream",
     "text": [
      "['CA', 'FI', 'IT', 'KE', 'NO', 'SG']\n"
     ]
    }
   ],
   "source": [
    "allcountries=df_train['country'].unique()\n",
    "countrycodes = list(map(lambda x:get_alpha2_code(x),allcountries)) \n",
    "unique_countries = [cc for cc in countrycodes if cc is not None]\n",
    "print(countrycodes)"
   ]
  },
  {
   "cell_type": "code",
   "execution_count": 26,
   "id": "2865c728",
   "metadata": {
    "execution": {
     "iopub.execute_input": "2025-01-31T12:53:59.702139Z",
     "iopub.status.busy": "2025-01-31T12:53:59.701226Z",
     "iopub.status.idle": "2025-01-31T12:53:59.813959Z",
     "shell.execute_reply": "2025-01-31T12:53:59.812152Z"
    },
    "papermill": {
     "duration": 0.142768,
     "end_time": "2025-01-31T12:53:59.816041",
     "exception": false,
     "start_time": "2025-01-31T12:53:59.673273",
     "status": "completed"
    },
    "tags": []
   },
   "outputs": [],
   "source": [
    "df_train['store']=df_train['store'].astype('category')\n",
    "df_train['country']=df_train['country'].astype('category')\n",
    "df_train['product']=df_train['product'].astype('category')\n",
    "df_train['Day']=df_train['Day'].astype('category')\n",
    "df_train['Month']=df_train['Month'].astype('category')\n",
    "df_train['Year']=df_train['Year'].astype('category')\n",
    "df_train['Day_of_week']=df_train['Day_of_week'].astype('category')\n"
   ]
  },
  {
   "cell_type": "code",
   "execution_count": 27,
   "id": "ce72cd5c",
   "metadata": {
    "execution": {
     "iopub.execute_input": "2025-01-31T12:53:59.863702Z",
     "iopub.status.busy": "2025-01-31T12:53:59.863272Z",
     "iopub.status.idle": "2025-01-31T12:54:01.380212Z",
     "shell.execute_reply": "2025-01-31T12:54:01.378950Z"
    },
    "papermill": {
     "duration": 1.543081,
     "end_time": "2025-01-31T12:54:01.382324",
     "exception": false,
     "start_time": "2025-01-31T12:53:59.839243",
     "status": "completed"
    },
    "tags": []
   },
   "outputs": [],
   "source": [
    "df_test['Day']=pd.to_datetime(df_test['date']).dt.strftime(\"%d\")\n",
    "df_test['Month']=pd.to_datetime(df_test['date']).dt.strftime(\"%m\")\n",
    "df_test['Year']=pd.to_datetime(df_test['date']).dt.strftime(\"%Y\")\n",
    "df_test['Day_of_week']=pd.to_datetime(df_test['date']).dt.dayofweek\n",
    "df_test['Week_No']=pd.to_datetime(df_test['date']).dt.isocalendar().week\n",
    "df_test['is_weekend']=(df_test['Day_of_week']>=4).astype(int)\n",
    "df_test['Quarter_Discrete'] = (df_test['Month'].astype(int) - 1) // 3 + 1\n",
    "df_test['quarter_normalized'] = (df_test['Quarter_Discrete']-1)/3\n",
    "df_test['month_normalized']=(df_test['Month'].astype(int)-1)/11\n",
    "df_test['Month_Spline']=periodic_spline_transformer(12,4).fit_transform(df_test[['quarter_normalized']])[:,0]\n",
    "df_test['Quarter_Spline']=periodic_spline_transformer(4,4).fit_transform(df_test[['quarter_normalized']])[:,0]\n",
    "df_test['week_number_normalized'] = df_test['Week_No'] / df_test['Week_No'].max()\n",
    "df_test['Week_Spline']=periodic_spline_transformer(53,5).fit_transform(df_test[['week_number_normalized']])[:,0]\n"
   ]
  },
  {
   "cell_type": "code",
   "execution_count": 28,
   "id": "5fd0bb74",
   "metadata": {
    "execution": {
     "iopub.execute_input": "2025-01-31T12:54:01.432764Z",
     "iopub.status.busy": "2025-01-31T12:54:01.432369Z",
     "iopub.status.idle": "2025-01-31T12:54:01.453201Z",
     "shell.execute_reply": "2025-01-31T12:54:01.452039Z"
    },
    "papermill": {
     "duration": 0.049957,
     "end_time": "2025-01-31T12:54:01.455397",
     "exception": false,
     "start_time": "2025-01-31T12:54:01.405440",
     "status": "completed"
    },
    "tags": []
   },
   "outputs": [],
   "source": [
    "df_test.drop(['week_number_normalized','month_normalized','quarter_normalized'],axis=1,inplace=True)"
   ]
  },
  {
   "cell_type": "code",
   "execution_count": 29,
   "id": "eef336f9",
   "metadata": {
    "execution": {
     "iopub.execute_input": "2025-01-31T12:54:01.500174Z",
     "iopub.status.busy": "2025-01-31T12:54:01.499550Z",
     "iopub.status.idle": "2025-01-31T12:54:01.520278Z",
     "shell.execute_reply": "2025-01-31T12:54:01.519204Z"
    },
    "papermill": {
     "duration": 0.045348,
     "end_time": "2025-01-31T12:54:01.522337",
     "exception": false,
     "start_time": "2025-01-31T12:54:01.476989",
     "status": "completed"
    },
    "tags": []
   },
   "outputs": [],
   "source": [
    "df_train.drop(['week_number_normalized','month_normalized','quarter_normalized'],axis=1,inplace=True)"
   ]
  },
  {
   "cell_type": "code",
   "execution_count": 30,
   "id": "f32d4ecf",
   "metadata": {
    "execution": {
     "iopub.execute_input": "2025-01-31T12:54:01.567564Z",
     "iopub.status.busy": "2025-01-31T12:54:01.567219Z",
     "iopub.status.idle": "2025-01-31T12:54:01.619608Z",
     "shell.execute_reply": "2025-01-31T12:54:01.618496Z"
    },
    "papermill": {
     "duration": 0.077702,
     "end_time": "2025-01-31T12:54:01.621734",
     "exception": false,
     "start_time": "2025-01-31T12:54:01.544032",
     "status": "completed"
    },
    "tags": []
   },
   "outputs": [],
   "source": [
    "df_test['store']=df_test['store'].astype('category')\n",
    "df_test['country']=df_test['country'].astype('category')\n",
    "df_test['product']=df_test['product'].astype('category')\n",
    "df_test['Day']=df_test['Day'].astype('category')\n",
    "df_test['Month']=df_test['Month'].astype('category')\n",
    "df_test['Year']=df_test['Year'].astype('category')\n",
    "df_test['Day_of_week']=df_test['Day_of_week'].astype('category')\n"
   ]
  },
  {
   "cell_type": "code",
   "execution_count": 31,
   "id": "e84e673c",
   "metadata": {
    "execution": {
     "iopub.execute_input": "2025-01-31T12:54:01.666198Z",
     "iopub.status.busy": "2025-01-31T12:54:01.665824Z",
     "iopub.status.idle": "2025-01-31T12:54:01.708953Z",
     "shell.execute_reply": "2025-01-31T12:54:01.707769Z"
    },
    "papermill": {
     "duration": 0.067956,
     "end_time": "2025-01-31T12:54:01.711064",
     "exception": false,
     "start_time": "2025-01-31T12:54:01.643108",
     "status": "completed"
    },
    "tags": []
   },
   "outputs": [],
   "source": [
    "df_train['date']=pd.to_datetime(df_train['date'])\n",
    "df_test['date']=pd.to_datetime(df_test['date'])"
   ]
  },
  {
   "cell_type": "code",
   "execution_count": 32,
   "id": "6b656d2e",
   "metadata": {
    "execution": {
     "iopub.execute_input": "2025-01-31T12:54:01.756477Z",
     "iopub.status.busy": "2025-01-31T12:54:01.756145Z",
     "iopub.status.idle": "2025-01-31T12:54:01.796939Z",
     "shell.execute_reply": "2025-01-31T12:54:01.795594Z"
    },
    "papermill": {
     "duration": 0.065377,
     "end_time": "2025-01-31T12:54:01.798775",
     "exception": false,
     "start_time": "2025-01-31T12:54:01.733398",
     "status": "completed"
    },
    "tags": []
   },
   "outputs": [
    {
     "name": "stderr",
     "output_type": "stream",
     "text": [
      "<ipython-input-32-a9a4f327ce0c>:1: FutureWarning: The default of observed=False is deprecated and will be changed to True in a future version of pandas. Pass observed=False to retain current behavior or observed=True to adopt the future default and silence this warning.\n",
      "  df_train['previous_visit']=df_train.reset_index().groupby(by=['country','store'])[['date']].diff()\n"
     ]
    }
   ],
   "source": [
    "df_train['previous_visit']=df_train.reset_index().groupby(by=['country','store'])[['date']].diff()"
   ]
  },
  {
   "cell_type": "code",
   "execution_count": 33,
   "id": "34c5fdf8",
   "metadata": {
    "execution": {
     "iopub.execute_input": "2025-01-31T12:54:01.843145Z",
     "iopub.status.busy": "2025-01-31T12:54:01.842803Z",
     "iopub.status.idle": "2025-01-31T12:54:01.861098Z",
     "shell.execute_reply": "2025-01-31T12:54:01.859758Z"
    },
    "papermill": {
     "duration": 0.043205,
     "end_time": "2025-01-31T12:54:01.863266",
     "exception": false,
     "start_time": "2025-01-31T12:54:01.820061",
     "status": "completed"
    },
    "tags": []
   },
   "outputs": [
    {
     "name": "stderr",
     "output_type": "stream",
     "text": [
      "<ipython-input-33-9b789beb13f0>:1: FutureWarning: The default of observed=False is deprecated and will be changed to True in a future version of pandas. Pass observed=False to retain current behavior or observed=True to adopt the future default and silence this warning.\n",
      "  df_train['consec_days']=df_train.groupby(by=['country','store'])[['previous_visit']].cumsum()\n"
     ]
    }
   ],
   "source": [
    "df_train['consec_days']=df_train.groupby(by=['country','store'])[['previous_visit']].cumsum()"
   ]
  },
  {
   "cell_type": "code",
   "execution_count": 34,
   "id": "51915461",
   "metadata": {
    "execution": {
     "iopub.execute_input": "2025-01-31T12:54:01.911429Z",
     "iopub.status.busy": "2025-01-31T12:54:01.911051Z",
     "iopub.status.idle": "2025-01-31T12:54:01.936492Z",
     "shell.execute_reply": "2025-01-31T12:54:01.935284Z"
    },
    "papermill": {
     "duration": 0.052018,
     "end_time": "2025-01-31T12:54:01.938853",
     "exception": false,
     "start_time": "2025-01-31T12:54:01.886835",
     "status": "completed"
    },
    "tags": []
   },
   "outputs": [
    {
     "name": "stderr",
     "output_type": "stream",
     "text": [
      "<ipython-input-34-b64440241ea2>:1: FutureWarning: The default of observed=False is deprecated and will be changed to True in a future version of pandas. Pass observed=False to retain current behavior or observed=True to adopt the future default and silence this warning.\n",
      "  df_test['previous_visit']=df_test.reset_index().groupby(by=['country','store'])[['date']].diff()\n",
      "<ipython-input-34-b64440241ea2>:2: FutureWarning: The default of observed=False is deprecated and will be changed to True in a future version of pandas. Pass observed=False to retain current behavior or observed=True to adopt the future default and silence this warning.\n",
      "  df_test['consec_days']=df_test.groupby(by=['country','store'])[['previous_visit']].cumsum()\n"
     ]
    }
   ],
   "source": [
    "df_test['previous_visit']=df_test.reset_index().groupby(by=['country','store'])[['date']].diff()\n",
    "df_test['consec_days']=df_test.groupby(by=['country','store'])[['previous_visit']].cumsum()"
   ]
  },
  {
   "cell_type": "code",
   "execution_count": 35,
   "id": "9ddcb59c",
   "metadata": {
    "execution": {
     "iopub.execute_input": "2025-01-31T12:54:01.985275Z",
     "iopub.status.busy": "2025-01-31T12:54:01.984916Z",
     "iopub.status.idle": "2025-01-31T12:54:02.043194Z",
     "shell.execute_reply": "2025-01-31T12:54:02.042156Z"
    },
    "papermill": {
     "duration": 0.083491,
     "end_time": "2025-01-31T12:54:02.045148",
     "exception": false,
     "start_time": "2025-01-31T12:54:01.961657",
     "status": "completed"
    },
    "tags": []
   },
   "outputs": [],
   "source": [
    "df_train.set_index('date',inplace=True)\n",
    "Startmin=df_train.index.min()\n",
    "df_train['days_since_start'] = (df_train.index - Startmin).days\n",
    "\n",
    "# Add cycle hints based on time \n",
    "df_train['sin_year'] = np.sin(2 * np.pi * df_train['days_since_start'] / 365)\n",
    "df_train['cos_year'] = np.cos(2 * np.pi * df_train['days_since_start'] / 365)\n",
    "df_train['sin_month'] = np.sin(2 * np.pi * df_train['days_since_start'] / 30)\n",
    "df_train['cos_month'] = np.cos(2 * np.pi * df_train['days_since_start'] / 30)\n",
    "\n",
    "df_test.set_index('date',inplace=True)\n",
    "df_test['days_since_start'] = (df_test.index - Startmin).days\n",
    "\n",
    "# Add cycle hints based on time \n",
    "df_test['sin_year'] = np.sin(2 * np.pi * df_test['days_since_start'] / 365)\n",
    "df_test['cos_year'] = np.cos(2 * np.pi * df_test['days_since_start'] / 365)\n",
    "df_test['sin_month'] = np.sin(2 * np.pi * df_test['days_since_start'] / 30)\n",
    "df_test['cos_month'] = np.cos(2 * np.pi * df_test['days_since_start'] / 30)\n",
    "\n",
    "df_train.reset_index(inplace=True)\n",
    "df_test.reset_index(inplace=True)"
   ]
  },
  {
   "cell_type": "code",
   "execution_count": 36,
   "id": "fd21eff6",
   "metadata": {
    "execution": {
     "iopub.execute_input": "2025-01-31T12:54:02.090140Z",
     "iopub.status.busy": "2025-01-31T12:54:02.089729Z",
     "iopub.status.idle": "2025-01-31T12:54:02.121875Z",
     "shell.execute_reply": "2025-01-31T12:54:02.119992Z"
    },
    "papermill": {
     "duration": 0.056937,
     "end_time": "2025-01-31T12:54:02.123781",
     "exception": false,
     "start_time": "2025-01-31T12:54:02.066844",
     "status": "completed"
    },
    "tags": []
   },
   "outputs": [
    {
     "name": "stdout",
     "output_type": "stream",
     "text": [
      "<class 'pandas.core.frame.DataFrame'>\n",
      "RangeIndex: 230130 entries, 0 to 230129\n",
      "Data columns (total 23 columns):\n",
      " #   Column            Non-Null Count   Dtype          \n",
      "---  ------            --------------   -----          \n",
      " 0   date              230130 non-null  datetime64[ns] \n",
      " 1   id                230130 non-null  int64          \n",
      " 2   country           230130 non-null  category       \n",
      " 3   store             230130 non-null  category       \n",
      " 4   product           230130 non-null  category       \n",
      " 5   num_sold          221259 non-null  float64        \n",
      " 6   Day               230130 non-null  category       \n",
      " 7   Month             230130 non-null  category       \n",
      " 8   Year              230130 non-null  category       \n",
      " 9   Day_of_week       230130 non-null  category       \n",
      " 10  Week_No           230130 non-null  UInt32         \n",
      " 11  is_weekend        230130 non-null  int64          \n",
      " 12  Quarter_Discrete  230130 non-null  int64          \n",
      " 13  Month_Spline      230130 non-null  float64        \n",
      " 14  Quarter_Spline    230130 non-null  float64        \n",
      " 15  Week_Spline       230130 non-null  float64        \n",
      " 16  previous_visit    230112 non-null  timedelta64[ns]\n",
      " 17  consec_days       230112 non-null  timedelta64[ns]\n",
      " 18  days_since_start  230130 non-null  int64          \n",
      " 19  sin_year          230130 non-null  float64        \n",
      " 20  cos_year          230130 non-null  float64        \n",
      " 21  sin_month         230130 non-null  float64        \n",
      " 22  cos_month         230130 non-null  float64        \n",
      "dtypes: UInt32(1), category(7), datetime64[ns](1), float64(8), int64(4), timedelta64[ns](2)\n",
      "memory usage: 29.0 MB\n"
     ]
    }
   ],
   "source": [
    "df_train.info()"
   ]
  },
  {
   "cell_type": "code",
   "execution_count": 37,
   "id": "1c9d12f3",
   "metadata": {
    "execution": {
     "iopub.execute_input": "2025-01-31T12:54:02.170949Z",
     "iopub.status.busy": "2025-01-31T12:54:02.170446Z",
     "iopub.status.idle": "2025-01-31T12:54:02.479856Z",
     "shell.execute_reply": "2025-01-31T12:54:02.478794Z"
    },
    "papermill": {
     "duration": 0.336088,
     "end_time": "2025-01-31T12:54:02.481988",
     "exception": false,
     "start_time": "2025-01-31T12:54:02.145900",
     "status": "completed"
    },
    "tags": []
   },
   "outputs": [],
   "source": [
    "#Get country\n",
    "\n",
    "#Get holidays for each country\n",
    "#allcountries.append(\"weirdcountry\")\n",
    "country_holidays={}\n",
    "\n",
    "#df_train['date']=pd.to_datetime(df_train['date'])\n",
    "start_year = df_train['date'].dt.year.min()\n",
    "end_year = df_train['date'].dt.year.max()\n",
    "\n",
    "country_holidays = generate_country_holidays(unique_countries, start_year, end_year)\n",
    "holiday_df = pd.DataFrame([\n",
    "    {'date': date, 'country_code': country, 'country': cname}\n",
    "    for country in unique_countries\n",
    "    for date in country_holidays[country]\n",
    "    for cname in [pycountry.countries.get(alpha_2=cc).name for cc in unique_countries]]\n",
    ")\n",
    "holiday_df['is_holiday'] = 1\n",
    "holiday_df['date']=pd.to_datetime(holiday_df['date'])\n",
    "holiday_df.drop('country_code',axis=1,inplace=True)\n",
    "\n",
    "df_train = df_train.merge(holiday_df, on=['date', 'country'], how='left').fillna({'is_holiday': 0})"
   ]
  },
  {
   "cell_type": "code",
   "execution_count": 38,
   "id": "d75ca326",
   "metadata": {
    "execution": {
     "iopub.execute_input": "2025-01-31T12:54:02.527455Z",
     "iopub.status.busy": "2025-01-31T12:54:02.527072Z",
     "iopub.status.idle": "2025-01-31T12:54:02.560344Z",
     "shell.execute_reply": "2025-01-31T12:54:02.558521Z"
    },
    "papermill": {
     "duration": 0.058303,
     "end_time": "2025-01-31T12:54:02.562264",
     "exception": false,
     "start_time": "2025-01-31T12:54:02.503961",
     "status": "completed"
    },
    "tags": []
   },
   "outputs": [
    {
     "data": {
      "text/plain": [
       "<bound method Series.max of 600         1 days\n",
       "690         2 days\n",
       "780         3 days\n",
       "870         4 days\n",
       "1020        5 days\n",
       "            ...   \n",
       "249360   2552 days\n",
       "249450   2553 days\n",
       "249540   2554 days\n",
       "249630   2555 days\n",
       "249720   2556 days\n",
       "Name: consec_days, Length: 2769, dtype: timedelta64[ns]>"
      ]
     },
     "execution_count": 38,
     "metadata": {},
     "output_type": "execute_result"
    }
   ],
   "source": [
    "df_train[(df_train['country']=='Norway') & (df_train['store']=='Discount Stickers') & (df_train['previous_visit'].astype('int')>0)].consec_days.max"
   ]
  },
  {
   "cell_type": "code",
   "execution_count": 39,
   "id": "69c6d105",
   "metadata": {
    "execution": {
     "iopub.execute_input": "2025-01-31T12:54:02.610045Z",
     "iopub.status.busy": "2025-01-31T12:54:02.609620Z",
     "iopub.status.idle": "2025-01-31T12:54:02.691254Z",
     "shell.execute_reply": "2025-01-31T12:54:02.690137Z"
    },
    "papermill": {
     "duration": 0.108689,
     "end_time": "2025-01-31T12:54:02.693436",
     "exception": false,
     "start_time": "2025-01-31T12:54:02.584747",
     "status": "completed"
    },
    "tags": []
   },
   "outputs": [],
   "source": [
    "start_year = df_test['date'].dt.year.min()\n",
    "end_year = df_test['date'].dt.year.max()\n",
    "#unique_countries = [cc for cc in countrycodes if cc is not None]\n",
    "country_holidays = generate_country_holidays(unique_countries, start_year, end_year)\n",
    "\n",
    "holiday_df = pd.DataFrame([\n",
    "    {'date': date, 'country_code': country, 'country': cname}\n",
    "    for country in unique_countries\n",
    "    for date in country_holidays[country]\n",
    "    for cname in [pycountry.countries.get(alpha_2=cc).name for cc in unique_countries]]\n",
    ")\n",
    "holiday_df['is_holiday']=1\n",
    "holiday_df['date']=pd.to_datetime(holiday_df['date'])\n",
    "holiday_df.drop('country_code',axis=1,inplace=True)\n",
    "\n",
    "df_test = df_test.merge(holiday_df, on=['date', 'country'], how='left').fillna({'is_holiday': 0})\n"
   ]
  },
  {
   "cell_type": "code",
   "execution_count": 40,
   "id": "8b594765",
   "metadata": {
    "execution": {
     "iopub.execute_input": "2025-01-31T12:54:02.739960Z",
     "iopub.status.busy": "2025-01-31T12:54:02.739452Z",
     "iopub.status.idle": "2025-01-31T12:54:02.750049Z",
     "shell.execute_reply": "2025-01-31T12:54:02.748810Z"
    },
    "papermill": {
     "duration": 0.035966,
     "end_time": "2025-01-31T12:54:02.751999",
     "exception": false,
     "start_time": "2025-01-31T12:54:02.716033",
     "status": "completed"
    },
    "tags": []
   },
   "outputs": [
    {
     "data": {
      "text/plain": [
       "is_holiday\n",
       "0    88290\n",
       "1    18270\n",
       "Name: count, dtype: int64"
      ]
     },
     "execution_count": 40,
     "metadata": {},
     "output_type": "execute_result"
    }
   ],
   "source": [
    "df_test['is_holiday']=df_test['is_holiday'].astype(int)\n",
    "df_test['is_holiday'].value_counts()"
   ]
  },
  {
   "cell_type": "code",
   "execution_count": 41,
   "id": "9282ebee",
   "metadata": {
    "execution": {
     "iopub.execute_input": "2025-01-31T12:54:02.799344Z",
     "iopub.status.busy": "2025-01-31T12:54:02.798956Z",
     "iopub.status.idle": "2025-01-31T12:54:02.805096Z",
     "shell.execute_reply": "2025-01-31T12:54:02.803841Z"
    },
    "papermill": {
     "duration": 0.032237,
     "end_time": "2025-01-31T12:54:02.807492",
     "exception": false,
     "start_time": "2025-01-31T12:54:02.775255",
     "status": "completed"
    },
    "tags": []
   },
   "outputs": [],
   "source": [
    "df_train.set_index('date',inplace=True)\n",
    "#df_test.set_index('date',inplace=True)"
   ]
  },
  {
   "cell_type": "code",
   "execution_count": 42,
   "id": "d9d7a902",
   "metadata": {
    "execution": {
     "iopub.execute_input": "2025-01-31T12:54:02.854188Z",
     "iopub.status.busy": "2025-01-31T12:54:02.853766Z",
     "iopub.status.idle": "2025-01-31T12:54:02.858135Z",
     "shell.execute_reply": "2025-01-31T12:54:02.856851Z"
    },
    "papermill": {
     "duration": 0.029618,
     "end_time": "2025-01-31T12:54:02.859916",
     "exception": false,
     "start_time": "2025-01-31T12:54:02.830298",
     "status": "completed"
    },
    "tags": []
   },
   "outputs": [],
   "source": [
    "#Graph for intrpolate is changing too much\n",
    "#Not interpolate but just drop Na is better\n",
    "#Interpolate missing num_sold\n",
    "\n",
    "#df_train['date']=pd.to_datetime(df_train['date'])\n",
    "#df = df_train.set_index('date')\n",
    "\n",
    "# df_train = df_train.sort_values(by=['country', 'store', 'product', 'date'])\n",
    "\n",
    "# # Impute NaN with interpolation (grouped by Country, Store, and Product)\n",
    "# df_train['num_sold'] = df_train.groupby(['country', 'store', 'product'])['num_sold'].transform(\n",
    "#     lambda group: group.interpolate(method='linear',limit=None,limit_direction='both').ffill().bfill()\n",
    "# )\n",
    "#df['num_sold'].isna().any()"
   ]
  },
  {
   "cell_type": "code",
   "execution_count": 43,
   "id": "7d4ff338",
   "metadata": {
    "execution": {
     "iopub.execute_input": "2025-01-31T12:54:02.911662Z",
     "iopub.status.busy": "2025-01-31T12:54:02.911206Z",
     "iopub.status.idle": "2025-01-31T12:54:02.915622Z",
     "shell.execute_reply": "2025-01-31T12:54:02.914353Z"
    },
    "papermill": {
     "duration": 0.034029,
     "end_time": "2025-01-31T12:54:02.917902",
     "exception": false,
     "start_time": "2025-01-31T12:54:02.883873",
     "status": "completed"
    },
    "tags": []
   },
   "outputs": [],
   "source": [
    "#condition = (df.num_sold.notna()) & (df['country']=='Canada') & (df['store']=='Discount Stickers') & (df['product']=='Holographic Goose')\n",
    "#df[condition]\n"
   ]
  },
  {
   "cell_type": "code",
   "execution_count": 44,
   "id": "61f84a91",
   "metadata": {
    "execution": {
     "iopub.execute_input": "2025-01-31T12:54:02.965915Z",
     "iopub.status.busy": "2025-01-31T12:54:02.965377Z",
     "iopub.status.idle": "2025-01-31T12:54:02.969358Z",
     "shell.execute_reply": "2025-01-31T12:54:02.968316Z"
    },
    "papermill": {
     "duration": 0.029174,
     "end_time": "2025-01-31T12:54:02.970980",
     "exception": false,
     "start_time": "2025-01-31T12:54:02.941806",
     "status": "completed"
    },
    "tags": []
   },
   "outputs": [],
   "source": [
    "##Get num_sold NaN product store and country\n",
    "#t=df[df.num_sold.isna()].groupby(['country','store','product'])['product'].value_counts().to_dict()"
   ]
  },
  {
   "cell_type": "code",
   "execution_count": 45,
   "id": "67675cd2",
   "metadata": {
    "execution": {
     "iopub.execute_input": "2025-01-31T12:54:03.019645Z",
     "iopub.status.busy": "2025-01-31T12:54:03.019263Z",
     "iopub.status.idle": "2025-01-31T12:54:03.023271Z",
     "shell.execute_reply": "2025-01-31T12:54:03.022107Z"
    },
    "papermill": {
     "duration": 0.032455,
     "end_time": "2025-01-31T12:54:03.025105",
     "exception": false,
     "start_time": "2025-01-31T12:54:02.992650",
     "status": "completed"
    },
    "tags": []
   },
   "outputs": [],
   "source": [
    "#Country store and product that have NaN\n",
    "# for  k,v in t.items():\n",
    "#     if v!=0:\n",
    "#         print(k,v)"
   ]
  },
  {
   "cell_type": "code",
   "execution_count": 46,
   "id": "410f2a32",
   "metadata": {
    "execution": {
     "iopub.execute_input": "2025-01-31T12:54:03.070359Z",
     "iopub.status.busy": "2025-01-31T12:54:03.069954Z",
     "iopub.status.idle": "2025-01-31T12:54:03.108047Z",
     "shell.execute_reply": "2025-01-31T12:54:03.106755Z"
    },
    "papermill": {
     "duration": 0.062786,
     "end_time": "2025-01-31T12:54:03.109914",
     "exception": false,
     "start_time": "2025-01-31T12:54:03.047128",
     "status": "completed"
    },
    "tags": []
   },
   "outputs": [
    {
     "name": "stdout",
     "output_type": "stream",
     "text": [
      "Mean\n",
      "country\n",
      "Canada       242.974170\n",
      "Finland      179.209850\n",
      "Italy        129.627508\n",
      "Kenya          5.800233\n",
      "Norway       341.143664\n",
      "Singapore    206.325646\n",
      "Name: num_sold, dtype: float64\n",
      "Median\n",
      "country\n",
      "Canada       235.0\n",
      "Finland      190.0\n",
      "Italy        137.0\n",
      "Kenya          6.0\n",
      "Norway       353.0\n",
      "Singapore    219.0\n",
      "Name: num_sold, dtype: float64\n",
      "Mode\n",
      "country\n",
      "Canada       218.0\n",
      "Finland       91.0\n",
      "Italy         64.0\n",
      "Kenya          5.0\n",
      "Norway       171.0\n",
      "Singapore    107.0\n",
      "Name: num_sold, dtype: float64\n",
      "Min\n",
      "country\n",
      "Canada       200.0\n",
      "Finland       65.0\n",
      "Italy         44.0\n",
      "Kenya          5.0\n",
      "Norway       105.0\n",
      "Singapore     69.0\n",
      "Name: num_sold, dtype: float64\n",
      "Max\n",
      "country\n",
      "Canada       449.0\n",
      "Finland      491.0\n",
      "Italy        318.0\n",
      "Kenya         11.0\n",
      "Norway       908.0\n",
      "Singapore    469.0\n",
      "Name: num_sold, dtype: float64\n"
     ]
    }
   ],
   "source": [
    "#Find Holographic Goose num_sold in each country\n",
    "nan_product = df_train[(df_train['product']=='Holographic Goose') & (df_train['num_sold'].notna())].groupby(['country'])['num_sold']\n",
    "print(\"Mean\")\n",
    "print(nan_product.mean())\n",
    "print(\"Median\")\n",
    "print(nan_product.median())\n",
    "print(\"Mode\")\n",
    "print(nan_product.agg(pd.Series.mode))\n",
    "print(\"Min\")\n",
    "print(nan_product.min())\n",
    "print(\"Max\")\n",
    "print(nan_product.max())"
   ]
  },
  {
   "cell_type": "markdown",
   "id": "118b7ae6",
   "metadata": {
    "papermill": {
     "duration": 0.021796,
     "end_time": "2025-01-31T12:54:03.153976",
     "exception": false,
     "start_time": "2025-01-31T12:54:03.132180",
     "status": "completed"
    },
    "tags": []
   },
   "source": [
    "Impute Canana NaN with 218.0 \n",
    "Impute Kenya NaN with 5.0"
   ]
  },
  {
   "cell_type": "code",
   "execution_count": 47,
   "id": "44c1057b",
   "metadata": {
    "execution": {
     "iopub.execute_input": "2025-01-31T12:54:03.200590Z",
     "iopub.status.busy": "2025-01-31T12:54:03.200203Z",
     "iopub.status.idle": "2025-01-31T12:54:03.248233Z",
     "shell.execute_reply": "2025-01-31T12:54:03.247090Z"
    },
    "papermill": {
     "duration": 0.074083,
     "end_time": "2025-01-31T12:54:03.250253",
     "exception": false,
     "start_time": "2025-01-31T12:54:03.176170",
     "status": "completed"
    },
    "tags": []
   },
   "outputs": [],
   "source": [
    "df_train['previous_visit'].fillna(pd.to_timedelta(0),inplace=True)\n",
    "df_train['consec_days'].fillna(pd.to_timedelta(0),inplace=True)\n",
    "df_test['previous_visit'].fillna(pd.to_timedelta(0),inplace=True)\n",
    "df_test['consec_days'].fillna(pd.to_timedelta(0),inplace=True)\n",
    "\n",
    "df_train.dropna(inplace=True)\n",
    "#df_test.dropna(inplace=True)"
   ]
  },
  {
   "cell_type": "code",
   "execution_count": 48,
   "id": "ccac2030",
   "metadata": {
    "execution": {
     "iopub.execute_input": "2025-01-31T12:54:03.297368Z",
     "iopub.status.busy": "2025-01-31T12:54:03.296982Z",
     "iopub.status.idle": "2025-01-31T12:54:03.301308Z",
     "shell.execute_reply": "2025-01-31T12:54:03.299741Z"
    },
    "papermill": {
     "duration": 0.030167,
     "end_time": "2025-01-31T12:54:03.303206",
     "exception": false,
     "start_time": "2025-01-31T12:54:03.273039",
     "status": "completed"
    },
    "tags": []
   },
   "outputs": [],
   "source": [
    "#Impute Canada with 218\n",
    "#df.loc[df['country']=='Canada',['num_sold']]=df.loc[df['country']=='Canada',['num_sold']].fillna(218.0)"
   ]
  },
  {
   "cell_type": "code",
   "execution_count": 49,
   "id": "861489e9",
   "metadata": {
    "execution": {
     "iopub.execute_input": "2025-01-31T12:54:03.351462Z",
     "iopub.status.busy": "2025-01-31T12:54:03.351082Z",
     "iopub.status.idle": "2025-01-31T12:54:03.355277Z",
     "shell.execute_reply": "2025-01-31T12:54:03.353916Z"
    },
    "papermill": {
     "duration": 0.031443,
     "end_time": "2025-01-31T12:54:03.357275",
     "exception": false,
     "start_time": "2025-01-31T12:54:03.325832",
     "status": "completed"
    },
    "tags": []
   },
   "outputs": [],
   "source": [
    "#Impute Kenya with 5\n",
    "#df.loc[df['country']=='Kenya',['num_sold']]=df.loc[df['country']=='Kenya',['num_sold']].fillna(5.0)"
   ]
  },
  {
   "cell_type": "code",
   "execution_count": 50,
   "id": "9ccb790b",
   "metadata": {
    "execution": {
     "iopub.execute_input": "2025-01-31T12:54:03.405878Z",
     "iopub.status.busy": "2025-01-31T12:54:03.405480Z",
     "iopub.status.idle": "2025-01-31T12:54:03.409904Z",
     "shell.execute_reply": "2025-01-31T12:54:03.408526Z"
    },
    "papermill": {
     "duration": 0.031269,
     "end_time": "2025-01-31T12:54:03.411915",
     "exception": false,
     "start_time": "2025-01-31T12:54:03.380646",
     "status": "completed"
    },
    "tags": []
   },
   "outputs": [],
   "source": [
    "# nsmode = df_train['num_sold'].mode()\n",
    "# df_train['num_sold']=df_train['num_sold'].fillna(nsmode[0])"
   ]
  },
  {
   "cell_type": "code",
   "execution_count": 51,
   "id": "84782570",
   "metadata": {
    "execution": {
     "iopub.execute_input": "2025-01-31T12:54:03.461045Z",
     "iopub.status.busy": "2025-01-31T12:54:03.460582Z",
     "iopub.status.idle": "2025-01-31T12:54:03.490140Z",
     "shell.execute_reply": "2025-01-31T12:54:03.488957Z"
    },
    "papermill": {
     "duration": 0.055204,
     "end_time": "2025-01-31T12:54:03.492240",
     "exception": false,
     "start_time": "2025-01-31T12:54:03.437036",
     "status": "completed"
    },
    "tags": []
   },
   "outputs": [],
   "source": [
    "#Get date back to feature after interpolation\n",
    "df_train=df_train.reset_index()"
   ]
  },
  {
   "cell_type": "code",
   "execution_count": 52,
   "id": "1c2bf3fe",
   "metadata": {
    "execution": {
     "iopub.execute_input": "2025-01-31T12:54:03.538979Z",
     "iopub.status.busy": "2025-01-31T12:54:03.538549Z",
     "iopub.status.idle": "2025-01-31T12:54:03.574573Z",
     "shell.execute_reply": "2025-01-31T12:54:03.573059Z"
    },
    "papermill": {
     "duration": 0.062047,
     "end_time": "2025-01-31T12:54:03.576784",
     "exception": false,
     "start_time": "2025-01-31T12:54:03.514737",
     "status": "completed"
    },
    "tags": []
   },
   "outputs": [
    {
     "name": "stdout",
     "output_type": "stream",
     "text": [
      "<class 'pandas.core.frame.DataFrame'>\n",
      "RangeIndex: 240265 entries, 0 to 240264\n",
      "Data columns (total 24 columns):\n",
      " #   Column            Non-Null Count   Dtype          \n",
      "---  ------            --------------   -----          \n",
      " 0   date              240265 non-null  datetime64[ns] \n",
      " 1   id                240265 non-null  int64          \n",
      " 2   country           240265 non-null  object         \n",
      " 3   store             240265 non-null  category       \n",
      " 4   product           240265 non-null  category       \n",
      " 5   num_sold          240265 non-null  float64        \n",
      " 6   Day               240265 non-null  category       \n",
      " 7   Month             240265 non-null  category       \n",
      " 8   Year              240265 non-null  category       \n",
      " 9   Day_of_week       240265 non-null  category       \n",
      " 10  Week_No           240265 non-null  UInt32         \n",
      " 11  is_weekend        240265 non-null  int64          \n",
      " 12  Quarter_Discrete  240265 non-null  int64          \n",
      " 13  Month_Spline      240265 non-null  float64        \n",
      " 14  Quarter_Spline    240265 non-null  float64        \n",
      " 15  Week_Spline       240265 non-null  float64        \n",
      " 16  previous_visit    240265 non-null  timedelta64[ns]\n",
      " 17  consec_days       240265 non-null  timedelta64[ns]\n",
      " 18  days_since_start  240265 non-null  int64          \n",
      " 19  sin_year          240265 non-null  float64        \n",
      " 20  cos_year          240265 non-null  float64        \n",
      " 21  sin_month         240265 non-null  float64        \n",
      " 22  cos_month         240265 non-null  float64        \n",
      " 23  is_holiday        240265 non-null  float64        \n",
      "dtypes: UInt32(1), category(6), datetime64[ns](1), float64(9), int64(4), object(1), timedelta64[ns](2)\n",
      "memory usage: 33.7+ MB\n"
     ]
    }
   ],
   "source": [
    "df_train.info()"
   ]
  },
  {
   "cell_type": "code",
   "execution_count": 53,
   "id": "953e1de1",
   "metadata": {
    "execution": {
     "iopub.execute_input": "2025-01-31T12:54:03.622821Z",
     "iopub.status.busy": "2025-01-31T12:54:03.622338Z",
     "iopub.status.idle": "2025-01-31T12:54:03.664942Z",
     "shell.execute_reply": "2025-01-31T12:54:03.663738Z"
    },
    "papermill": {
     "duration": 0.068053,
     "end_time": "2025-01-31T12:54:03.667059",
     "exception": false,
     "start_time": "2025-01-31T12:54:03.599006",
     "status": "completed"
    },
    "tags": []
   },
   "outputs": [],
   "source": [
    "df_train['is_holiday']=df_train['is_holiday'].astype('int')\n",
    "df_train['previous_visit']=pd.to_numeric(df_train['previous_visit'].dt.days,errors='coerce')\n",
    "df_train['consec_days']=pd.to_numeric(df_train['consec_days'].dt.days,errors='coerce')\n",
    "df_train['country']=df_train['country'].astype('category')\n",
    "\n",
    "df_test['is_holiday']=df_test['is_holiday'].astype('int')\n",
    "df_test['previous_visit']=pd.to_numeric(df_test['previous_visit'].dt.days,errors='coerce')\n",
    "df_test['consec_days']=pd.to_numeric(df_test['consec_days'].dt.days,errors='coerce')\n",
    "df_test['country']=df_test['country'].astype('category')"
   ]
  },
  {
   "cell_type": "code",
   "execution_count": 54,
   "id": "844ba010",
   "metadata": {
    "execution": {
     "iopub.execute_input": "2025-01-31T12:54:03.713818Z",
     "iopub.status.busy": "2025-01-31T12:54:03.713417Z",
     "iopub.status.idle": "2025-01-31T12:54:03.740628Z",
     "shell.execute_reply": "2025-01-31T12:54:03.739213Z"
    },
    "papermill": {
     "duration": 0.053462,
     "end_time": "2025-01-31T12:54:03.742645",
     "exception": false,
     "start_time": "2025-01-31T12:54:03.689183",
     "status": "completed"
    },
    "tags": []
   },
   "outputs": [
    {
     "name": "stdout",
     "output_type": "stream",
     "text": [
      "<class 'pandas.core.frame.DataFrame'>\n",
      "RangeIndex: 240265 entries, 0 to 240264\n",
      "Data columns (total 24 columns):\n",
      " #   Column            Non-Null Count   Dtype         \n",
      "---  ------            --------------   -----         \n",
      " 0   date              240265 non-null  datetime64[ns]\n",
      " 1   id                240265 non-null  int64         \n",
      " 2   country           240265 non-null  category      \n",
      " 3   store             240265 non-null  category      \n",
      " 4   product           240265 non-null  category      \n",
      " 5   num_sold          240265 non-null  float64       \n",
      " 6   Day               240265 non-null  category      \n",
      " 7   Month             240265 non-null  category      \n",
      " 8   Year              240265 non-null  category      \n",
      " 9   Day_of_week       240265 non-null  category      \n",
      " 10  Week_No           240265 non-null  UInt32        \n",
      " 11  is_weekend        240265 non-null  int64         \n",
      " 12  Quarter_Discrete  240265 non-null  int64         \n",
      " 13  Month_Spline      240265 non-null  float64       \n",
      " 14  Quarter_Spline    240265 non-null  float64       \n",
      " 15  Week_Spline       240265 non-null  float64       \n",
      " 16  previous_visit    240265 non-null  int64         \n",
      " 17  consec_days       240265 non-null  int64         \n",
      " 18  days_since_start  240265 non-null  int64         \n",
      " 19  sin_year          240265 non-null  float64       \n",
      " 20  cos_year          240265 non-null  float64       \n",
      " 21  sin_month         240265 non-null  float64       \n",
      " 22  cos_month         240265 non-null  float64       \n",
      " 23  is_holiday        240265 non-null  int64         \n",
      "dtypes: UInt32(1), category(7), datetime64[ns](1), float64(8), int64(7)\n",
      "memory usage: 32.1 MB\n"
     ]
    }
   ],
   "source": [
    "#log transform target\n",
    "df_train['num_sold']=np.log1p(df_train['num_sold']) \n",
    "df_train.info()"
   ]
  },
  {
   "cell_type": "code",
   "execution_count": 55,
   "id": "a13aec36",
   "metadata": {
    "execution": {
     "iopub.execute_input": "2025-01-31T12:54:03.847777Z",
     "iopub.status.busy": "2025-01-31T12:54:03.847310Z",
     "iopub.status.idle": "2025-01-31T12:54:03.864720Z",
     "shell.execute_reply": "2025-01-31T12:54:03.863448Z"
    },
    "papermill": {
     "duration": 0.042922,
     "end_time": "2025-01-31T12:54:03.866895",
     "exception": false,
     "start_time": "2025-01-31T12:54:03.823973",
     "status": "completed"
    },
    "tags": []
   },
   "outputs": [],
   "source": [
    "#dropping redundant features\n",
    "df_train.drop(['Year','Quarter_Discrete','Week_No','days_since_start','Month_Spline'],axis=1,inplace=True)\n",
    "df_test.drop(['Year','Quarter_Discrete','Week_No','days_since_start','Month_Spline'],axis=1,inplace=True)"
   ]
  },
  {
   "cell_type": "code",
   "execution_count": 56,
   "id": "ae6d3ab0",
   "metadata": {
    "execution": {
     "iopub.execute_input": "2025-01-31T12:54:03.912975Z",
     "iopub.status.busy": "2025-01-31T12:54:03.912572Z",
     "iopub.status.idle": "2025-01-31T12:54:03.933043Z",
     "shell.execute_reply": "2025-01-31T12:54:03.931491Z"
    },
    "papermill": {
     "duration": 0.046027,
     "end_time": "2025-01-31T12:54:03.935197",
     "exception": false,
     "start_time": "2025-01-31T12:54:03.889170",
     "status": "completed"
    },
    "tags": []
   },
   "outputs": [
    {
     "name": "stdout",
     "output_type": "stream",
     "text": [
      "<class 'pandas.core.frame.DataFrame'>\n",
      "RangeIndex: 240265 entries, 0 to 240264\n",
      "Data columns (total 19 columns):\n",
      " #   Column          Non-Null Count   Dtype         \n",
      "---  ------          --------------   -----         \n",
      " 0   date            240265 non-null  datetime64[ns]\n",
      " 1   id              240265 non-null  int64         \n",
      " 2   country         240265 non-null  category      \n",
      " 3   store           240265 non-null  category      \n",
      " 4   product         240265 non-null  category      \n",
      " 5   num_sold        240265 non-null  float64       \n",
      " 6   Day             240265 non-null  category      \n",
      " 7   Month           240265 non-null  category      \n",
      " 8   Day_of_week     240265 non-null  category      \n",
      " 9   is_weekend      240265 non-null  int64         \n",
      " 10  Quarter_Spline  240265 non-null  float64       \n",
      " 11  Week_Spline     240265 non-null  float64       \n",
      " 12  previous_visit  240265 non-null  int64         \n",
      " 13  consec_days     240265 non-null  int64         \n",
      " 14  sin_year        240265 non-null  float64       \n",
      " 15  cos_year        240265 non-null  float64       \n",
      " 16  sin_month       240265 non-null  float64       \n",
      " 17  cos_month       240265 non-null  float64       \n",
      " 18  is_holiday      240265 non-null  int64         \n",
      "dtypes: category(6), datetime64[ns](1), float64(7), int64(5)\n",
      "memory usage: 25.2 MB\n"
     ]
    }
   ],
   "source": [
    "df_train.info()"
   ]
  },
  {
   "cell_type": "code",
   "execution_count": 57,
   "id": "e48bea4e",
   "metadata": {
    "execution": {
     "iopub.execute_input": "2025-01-31T12:54:03.983183Z",
     "iopub.status.busy": "2025-01-31T12:54:03.982807Z",
     "iopub.status.idle": "2025-01-31T12:54:04.369192Z",
     "shell.execute_reply": "2025-01-31T12:54:04.367627Z"
    },
    "papermill": {
     "duration": 0.412722,
     "end_time": "2025-01-31T12:54:04.371110",
     "exception": false,
     "start_time": "2025-01-31T12:54:03.958388",
     "status": "completed"
    },
    "tags": []
   },
   "outputs": [
    {
     "name": "stdout",
     "output_type": "stream",
     "text": [
      "Canada train loc  0 to 177819\n",
      "Canada valid loc 177820 to 240190\n",
      "Finland train loc  84 to 180069\n",
      "Finland valid loc 180070 to 240205\n",
      "Italy train loc  174 to 180144\n",
      "Italy valid loc 180145 to 240220\n",
      "Kenya train loc  264 to 182812\n",
      "Kenya valid loc 182813 to 240234\n",
      "Norway train loc  348 to 180289\n",
      "Norway valid loc 180290 to 240249\n",
      "Singapore train loc  438 to 180364\n",
      "Singapore valid loc 180365 to 240264\n"
     ]
    }
   ],
   "source": [
    "#Split data according to country into\n",
    "from catboost import Pool\n",
    "country_train_pool={}\n",
    "country_valid_pool={}\n",
    "\n",
    "for c in countrylist:\n",
    "    df=df_train[df_train['country']==c]\n",
    "    train_x, valid_x, train_y, valid_y = train_test_split(df.drop(['id','num_sold','country'],axis=1),df['num_sold'],shuffle=False,test_size=0.25)\n",
    "    cats=df.select_dtypes('category').columns.to_list()\n",
    "    cats.remove('country')\n",
    "    cats.append('is_holiday')\n",
    "    #cats.append('Week_No')\n",
    "    cats.append('is_weekend')\n",
    "    #cats.append('Quarter_Discrete')\n",
    "    #train_weights = np.linspace(0.1, 1.0, len(train_x))\n",
    "    #valid_weights = np.linspace(0.1, 1.0, len(valid_x)) # Linearly increasing weights\n",
    "    # decay_rate=0.75\n",
    "    # train_weights = decay_rate ** np.arange(len(train_x))[::-1]  # Exponentially increasing weights\n",
    "    # valid_weights = decay_rate ** np.arange(len(valid_x))[::-1]  # Exponentially increasing weights\n",
    "    country_train_pool[c]=Pool(train_x,label=train_y,cat_features=cats)#,weight=train_weights)\n",
    "    country_valid_pool[c]=Pool(valid_x,label=valid_y,cat_features=cats)#,weight=valid_weights)\n",
    "    #print(f\"{c} train date {train_x['date'].min()} to {train_x['date'].max()}\")\n",
    "    print(f\"{c} train loc  {train_x.index.min()} to {train_x.index.max()}\")\n",
    "    #print(f\"{c} valid date {valid_x['date'].min()} to {valid_x['date'].max()}\") \n",
    "    print(f\"{c} valid loc {valid_x.index.min()} to {valid_x.index.max()}\")"
   ]
  },
  {
   "cell_type": "code",
   "execution_count": 58,
   "id": "9ac0ac5c",
   "metadata": {
    "execution": {
     "iopub.execute_input": "2025-01-31T12:54:04.418551Z",
     "iopub.status.busy": "2025-01-31T12:54:04.418156Z",
     "iopub.status.idle": "2025-01-31T12:54:04.430227Z",
     "shell.execute_reply": "2025-01-31T12:54:04.428510Z"
    },
    "papermill": {
     "duration": 0.037975,
     "end_time": "2025-01-31T12:54:04.432149",
     "exception": false,
     "start_time": "2025-01-31T12:54:04.394174",
     "status": "completed"
    },
    "tags": []
   },
   "outputs": [],
   "source": [
    "from functools import partial\n",
    "from catboost import cv\n",
    "\n",
    "def objective(trial: optuna.Trial, country) -> float:\n",
    "    #data, target = load_breast_cancer(return_X_y=True)\n",
    "    #train_x, valid_x, train_y, valid_y = train_test_split(df_train.drop(['id','num_sold','date'],axis=1), df_train['num_sold'], test_size=0.25)\n",
    "    #cats=df_train.select_dtypes('category').columns\n",
    "    \n",
    "    param = {\n",
    "        \"iterations\":trial.suggest_int(\"iterations\",1000,10000),\n",
    "        \"learning_rate\":trial.suggest_float(\"learning_rate\",0.005,0.03,log=True),\n",
    "        \"objective\": trial.suggest_categorical(\"objective\", [\"MAPE\"]),\n",
    "        \"colsample_bylevel\": trial.suggest_float(\"colsample_bylevel\", 0.01, 0.7, log=True),\n",
    "        \"depth\": trial.suggest_int(\"depth\", 4, 10),\n",
    "        \"boosting_type\": trial.suggest_categorical(\"boosting_type\", [\"Ordered\", \"Plain\"]),\n",
    "        \"bootstrap_type\": trial.suggest_categorical(\n",
    "            \"bootstrap_type\", [\"Bayesian\", \"Bernoulli\", \"MVS\"]\n",
    "        ),\n",
    "        \"used_ram_limit\": \"3gb\",\n",
    "        \"eval_metric\": \"MAPE\",\n",
    "        \"cat_features\": cats,\n",
    "    }\n",
    "\n",
    "    if param[\"bootstrap_type\"] == \"Bayesian\":\n",
    "        param[\"bagging_temperature\"] = trial.suggest_float(\"bagging_temperature\", 0, 10)\n",
    "    elif param[\"bootstrap_type\"] == \"Bernoulli\":\n",
    "        param[\"subsample\"] = trial.suggest_float(\"subsample\", 0.1, 1, log=True)\n",
    "\n",
    "   \n",
    "    #use catboost cv with timeseries data\n",
    "    cv_data = cb.cv(\n",
    "        country_train_pool[c],\n",
    "        params=param,\n",
    "        shuffle=False,\n",
    "        type='TimeSeries',\n",
    "        fold_count=3,\n",
    "        early_stopping_rounds=400,\n",
    "        verbose=0,\n",
    "    )\n",
    "    mape = cv_data['test-MAPE-mean'].min()\n",
    "    best_iter = cv_data['test-MAPE-mean'].values.argmin()\n",
    "    # gbm = cb.CatBoostRegressor(**param)\n",
    "\n",
    "    # pruning_callback = CatBoostPruningCallback(trial, \"MAPE\")\n",
    "    # gbm.fit(\n",
    "    #    # train_x,\n",
    "    #    # train_y,\n",
    "    #    # eval_set=[(valid_x, valid_y)],\n",
    "    #     country_train_pool[c],\n",
    "    #     eval_set=country_valid_pool[c],\n",
    "    #     verbose=0,\n",
    "    #     early_stopping_rounds=300,\n",
    "    #     callbacks=[pruning_callback],\n",
    "    # )\n",
    "\n",
    "    # evoke pruning manually.\n",
    "    #pruning_callback.check_pruned()\n",
    "\n",
    "    \n",
    "    #preds = gbm.predict(valid_x)\n",
    "    #pred_labels = np.fix(preds)\n",
    "    #mape = mean_absolute_percentage_error(valid_y, pred_labels)\n",
    "    return mape\n"
   ]
  },
  {
   "cell_type": "code",
   "execution_count": null,
   "id": "554d98df",
   "metadata": {
    "papermill": {
     "duration": 0.02189,
     "end_time": "2025-01-31T12:54:04.476978",
     "exception": false,
     "start_time": "2025-01-31T12:54:04.455088",
     "status": "completed"
    },
    "tags": []
   },
   "outputs": [],
   "source": []
  },
  {
   "cell_type": "code",
   "execution_count": 59,
   "id": "38589749",
   "metadata": {
    "execution": {
     "iopub.execute_input": "2025-01-31T12:54:04.522725Z",
     "iopub.status.busy": "2025-01-31T12:54:04.522296Z",
     "iopub.status.idle": "2025-01-31T13:59:33.995376Z",
     "shell.execute_reply": "2025-01-31T13:59:33.994158Z"
    },
    "papermill": {
     "duration": 3929.529044,
     "end_time": "2025-01-31T13:59:34.028222",
     "exception": false,
     "start_time": "2025-01-31T12:54:04.499178",
     "status": "completed"
    },
    "tags": []
   },
   "outputs": [
    {
     "name": "stdout",
     "output_type": "stream",
     "text": [
      "Training on fold [0/3]\n",
      "\n",
      "bestTest = 0.05585833925\n",
      "bestIteration = 1682\n",
      "\n",
      "Training on fold [1/3]\n",
      "\n",
      "bestTest = 0.0542180817\n",
      "bestIteration = 1684\n",
      "\n",
      "Training on fold [2/3]\n",
      "\n",
      "bestTest = 0.05374961735\n",
      "bestIteration = 1684\n",
      "\n",
      "Training on fold [0/3]\n",
      "\n",
      "bestTest = 0.02235301862\n",
      "bestIteration = 5313\n",
      "\n",
      "Training on fold [1/3]\n",
      "\n",
      "bestTest = 0.0118825199\n",
      "bestIteration = 4546\n",
      "\n",
      "Training on fold [2/3]\n",
      "\n",
      "bestTest = 0.01117022671\n",
      "bestIteration = 5318\n",
      "\n",
      "Training on fold [0/3]\n",
      "\n",
      "bestTest = 0.1280502653\n",
      "bestIteration = 692\n",
      "\n",
      "Training on fold [1/3]\n",
      "\n",
      "bestTest = 0.09289748984\n",
      "bestIteration = 334\n",
      "\n",
      "Training on fold [2/3]\n",
      "\n",
      "bestTest = 0.0440559867\n",
      "bestIteration = 1177\n",
      "\n",
      "Training on fold [0/3]\n",
      "\n",
      "bestTest = 0.02422083516\n",
      "bestIteration = 4310\n",
      "\n",
      "Training on fold [1/3]\n",
      "\n",
      "bestTest = 0.009658326038\n",
      "bestIteration = 4539\n",
      "\n",
      "Training on fold [2/3]\n",
      "\n",
      "bestTest = 0.01108882813\n",
      "bestIteration = 3145\n",
      "\n",
      "Training on fold [0/3]\n",
      "\n",
      "bestTest = 0.02646914179\n",
      "bestIteration = 6887\n",
      "\n",
      "Training on fold [1/3]\n",
      "\n",
      "bestTest = 0.02471692898\n",
      "bestIteration = 6898\n",
      "\n",
      "Training on fold [2/3]\n",
      "\n",
      "bestTest = 0.02483423287\n",
      "bestIteration = 6898\n",
      "\n",
      "Training on fold [0/3]\n",
      "\n",
      "bestTest = 0.01565321281\n",
      "bestIteration = 6135\n",
      "\n",
      "Training on fold [1/3]\n",
      "\n",
      "bestTest = 0.01422725429\n",
      "bestIteration = 6137\n",
      "\n",
      "Training on fold [2/3]\n",
      "\n",
      "bestTest = 0.01459814847\n",
      "bestIteration = 6138\n",
      "\n",
      "Training on fold [0/3]\n",
      "\n",
      "bestTest = 0.04854757341\n",
      "bestIteration = 3483\n",
      "\n",
      "Training on fold [1/3]\n",
      "\n",
      "bestTest = 0.046767348\n",
      "bestIteration = 3466\n",
      "\n",
      "Training on fold [2/3]\n",
      "\n",
      "bestTest = 0.04625748362\n",
      "bestIteration = 3456\n",
      "\n",
      "Number of finished trials: 7\n",
      "Canada Best trial:\n",
      "  Value: 0.014826315006539843\n",
      "Canada  Params: \n",
      "    iterations: 6141\n",
      "    learning_rate: 0.008996906722987037\n",
      "    objective: MAPE\n",
      "    colsample_bylevel: 0.028672650053301222\n",
      "    depth: 8\n",
      "    boosting_type: Ordered\n",
      "    bootstrap_type: Bernoulli\n",
      "    subsample: 0.16361110977409288\n",
      "Training on fold [0/3]\n",
      "\n",
      "bestTest = 0.01543115777\n",
      "bestIteration = 8542\n",
      "\n",
      "Training on fold [1/3]\n",
      "\n",
      "bestTest = 0.01299984084\n",
      "bestIteration = 8557\n",
      "\n",
      "Training on fold [2/3]\n",
      "\n",
      "bestTest = 0.01245837201\n",
      "bestIteration = 8559\n",
      "\n",
      "Training on fold [0/3]\n",
      "\n",
      "bestTest = 0.0184234457\n",
      "bestIteration = 3260\n",
      "\n",
      "Training on fold [1/3]\n",
      "\n",
      "bestTest = 0.01482535935\n",
      "bestIteration = 3143\n",
      "\n",
      "Training on fold [2/3]\n",
      "\n",
      "bestTest = 0.01250399013\n",
      "bestIteration = 3258\n",
      "\n",
      "Training on fold [0/3]\n",
      "\n",
      "bestTest = 0.02033405921\n",
      "bestIteration = 4228\n",
      "\n",
      "Training on fold [1/3]\n",
      "\n",
      "bestTest = 0.01723942493\n",
      "bestIteration = 753\n",
      "\n",
      "Training on fold [2/3]\n",
      "\n",
      "bestTest = 0.01132307908\n",
      "bestIteration = 2360\n",
      "\n",
      "Training on fold [0/3]\n",
      "\n",
      "bestTest = 0.05250996547\n",
      "bestIteration = 9637\n",
      "\n",
      "Training on fold [1/3]\n",
      "\n",
      "bestTest = 0.05261386862\n",
      "bestIteration = 9637\n",
      "\n",
      "Training on fold [2/3]\n",
      "\n",
      "bestTest = 0.04974862839\n",
      "bestIteration = 9637\n",
      "\n",
      "Training on fold [0/3]\n",
      "\n",
      "bestTest = 0.02944168854\n",
      "bestIteration = 2189\n",
      "\n",
      "Training on fold [1/3]\n",
      "\n",
      "bestTest = 0.02506816088\n",
      "bestIteration = 2190\n",
      "\n",
      "Training on fold [2/3]\n",
      "\n",
      "bestTest = 0.02353886396\n",
      "bestIteration = 2184\n",
      "\n",
      "Training on fold [0/3]\n",
      "\n",
      "bestTest = 0.04725719829\n",
      "bestIteration = 2782\n",
      "\n",
      "Training on fold [1/3]\n",
      "\n",
      "bestTest = 0.022515473\n",
      "bestIteration = 1309\n",
      "\n",
      "Training on fold [2/3]\n",
      "\n",
      "bestTest = 0.01592971045\n",
      "bestIteration = 2794\n",
      "\n",
      "Training on fold [0/3]\n",
      "\n",
      "bestTest = 0.01405838781\n",
      "bestIteration = 4153\n",
      "\n",
      "Training on fold [1/3]\n",
      "\n",
      "bestTest = 0.01185742418\n",
      "bestIteration = 7760\n",
      "\n",
      "Training on fold [2/3]\n",
      "\n",
      "bestTest = 0.01218357938\n",
      "bestIteration = 4459\n",
      "\n",
      "Training on fold [0/3]\n",
      "\n",
      "bestTest = 0.01793364737\n",
      "bestIteration = 4508\n",
      "\n",
      "Training on fold [1/3]\n",
      "\n",
      "bestTest = 0.01547785088\n",
      "bestIteration = 4508\n",
      "\n",
      "Training on fold [2/3]\n",
      "\n",
      "bestTest = 0.01375375956\n",
      "bestIteration = 4508\n",
      "\n",
      "Training on fold [0/3]\n",
      "\n",
      "bestTest = 0.01622926649\n",
      "bestIteration = 6812\n",
      "\n",
      "Training on fold [1/3]\n",
      "\n",
      "bestTest = 0.0150754253\n",
      "bestIteration = 4651\n",
      "\n",
      "Training on fold [2/3]\n",
      "\n",
      "bestTest = 0.01504426096\n",
      "bestIteration = 6758\n",
      "\n",
      "Training on fold [0/3]\n",
      "\n",
      "bestTest = 0.02359737064\n",
      "bestIteration = 3038\n",
      "\n",
      "Training on fold [1/3]\n",
      "\n",
      "bestTest = 0.0158631618\n",
      "bestIteration = 1290\n",
      "\n",
      "Training on fold [2/3]\n",
      "\n",
      "bestTest = 0.01179004202\n",
      "bestIteration = 4001\n",
      "\n",
      "Number of finished trials: 10\n",
      "Finland Best trial:\n",
      "  Value: 0.01272460330240817\n",
      "Finland  Params: \n",
      "    iterations: 7778\n",
      "    learning_rate: 0.023124072743573882\n",
      "    objective: MAPE\n",
      "    colsample_bylevel: 0.04764380083160097\n",
      "    depth: 4\n",
      "    boosting_type: Plain\n",
      "    bootstrap_type: Bernoulli\n",
      "    subsample: 0.1404789759952077\n",
      "Training on fold [0/3]\n",
      "\n",
      "bestTest = 0.05156842419\n",
      "bestIteration = 769\n",
      "\n",
      "Training on fold [1/3]\n",
      "\n",
      "bestTest = 0.02085976462\n",
      "bestIteration = 434\n",
      "\n",
      "Training on fold [2/3]\n",
      "\n",
      "bestTest = 0.01335049463\n",
      "bestIteration = 1242\n",
      "\n",
      "Training on fold [0/3]\n",
      "\n",
      "bestTest = 0.01752727707\n",
      "bestIteration = 5457\n",
      "\n",
      "Training on fold [1/3]\n",
      "\n",
      "bestTest = 0.01453518686\n",
      "bestIteration = 5486\n",
      "\n",
      "Training on fold [2/3]\n",
      "\n",
      "bestTest = 0.01470527421\n",
      "bestIteration = 5465\n",
      "\n",
      "Training on fold [0/3]\n",
      "\n",
      "bestTest = 0.04869539816\n",
      "bestIteration = 4500\n",
      "\n",
      "Training on fold [1/3]\n",
      "\n",
      "bestTest = 0.04541083909\n",
      "bestIteration = 4500\n",
      "\n",
      "Training on fold [2/3]\n",
      "\n",
      "bestTest = 0.04495119893\n",
      "bestIteration = 4500\n",
      "\n",
      "Training on fold [0/3]\n",
      "\n",
      "bestTest = 0.01793423599\n",
      "bestIteration = 5742\n",
      "\n",
      "Training on fold [1/3]\n",
      "\n",
      "bestTest = 0.0133329112\n",
      "bestIteration = 5738\n",
      "\n",
      "Training on fold [2/3]\n",
      "\n",
      "bestTest = 0.01348188061\n",
      "bestIteration = 5740\n",
      "\n",
      "Training on fold [0/3]\n",
      "\n",
      "bestTest = 0.02647069241\n",
      "bestIteration = 3417\n",
      "\n",
      "Training on fold [1/3]\n",
      "\n",
      "bestTest = 0.022255345\n",
      "bestIteration = 1071\n",
      "\n",
      "Training on fold [2/3]\n",
      "\n",
      "bestTest = 0.02219781829\n",
      "bestIteration = 4987\n",
      "\n",
      "Training on fold [0/3]\n",
      "\n",
      "bestTest = 0.04034144989\n",
      "bestIteration = 1847\n",
      "\n",
      "Training on fold [1/3]\n",
      "\n",
      "bestTest = 0.04027120412\n",
      "bestIteration = 1847\n",
      "\n",
      "Training on fold [2/3]\n",
      "\n",
      "bestTest = 0.0370160255\n",
      "bestIteration = 1847\n",
      "\n",
      "Training on fold [0/3]\n",
      "\n",
      "bestTest = 0.09069215837\n",
      "bestIteration = 681\n",
      "\n",
      "Training on fold [1/3]\n",
      "\n",
      "bestTest = 0.05200755901\n",
      "bestIteration = 613\n",
      "\n",
      "Training on fold [2/3]\n",
      "\n",
      "bestTest = 0.03384529497\n",
      "bestIteration = 1149\n",
      "\n",
      "Training on fold [0/3]\n",
      "\n",
      "bestTest = 0.02374593945\n",
      "bestIteration = 3233\n",
      "\n",
      "Training on fold [1/3]\n",
      "\n",
      "bestTest = 0.01414094383\n",
      "bestIteration = 1118\n",
      "\n",
      "Training on fold [2/3]\n",
      "\n",
      "bestTest = 0.01612130165\n",
      "bestIteration = 3156\n",
      "\n",
      "Training on fold [0/3]\n",
      "\n",
      "bestTest = 0.01588458563\n",
      "bestIteration = 1757\n",
      "\n",
      "Training on fold [1/3]\n",
      "\n",
      "bestTest = 0.01317462915\n",
      "bestIteration = 839\n",
      "\n",
      "Training on fold [2/3]\n",
      "\n",
      "bestTest = 0.01983602654\n",
      "bestIteration = 3946\n",
      "\n",
      "Training on fold [0/3]\n",
      "\n",
      "bestTest = 0.01903103281\n",
      "bestIteration = 4985\n",
      "\n",
      "Training on fold [1/3]\n",
      "\n",
      "bestTest = 0.0150210406\n",
      "bestIteration = 2215\n",
      "\n",
      "Training on fold [2/3]\n",
      "\n",
      "bestTest = 0.01213335836\n",
      "bestIteration = 6471\n",
      "\n",
      "Number of finished trials: 10\n",
      "Italy Best trial:\n",
      "  Value: 0.014916357291737424\n",
      "Italy  Params: \n",
      "    iterations: 5743\n",
      "    learning_rate: 0.011900258599494805\n",
      "    objective: MAPE\n",
      "    colsample_bylevel: 0.03542666684057203\n",
      "    depth: 7\n",
      "    boosting_type: Ordered\n",
      "    bootstrap_type: MVS\n",
      "Training on fold [0/3]\n",
      "\n",
      "bestTest = 0.0468832928\n",
      "bestIteration = 1368\n",
      "\n",
      "Training on fold [1/3]\n",
      "\n",
      "bestTest = 0.04022781292\n",
      "bestIteration = 2790\n",
      "\n",
      "Training on fold [2/3]\n",
      "\n",
      "bestTest = 0.02725946451\n",
      "bestIteration = 2306\n",
      "\n",
      "Training on fold [0/3]\n",
      "\n",
      "bestTest = 0.04963803787\n",
      "bestIteration = 1720\n",
      "\n",
      "Training on fold [1/3]\n",
      "\n",
      "bestTest = 0.06126452909\n",
      "bestIteration = 1543\n",
      "\n",
      "Training on fold [2/3]\n",
      "\n",
      "bestTest = 0.0444234854\n",
      "bestIteration = 1617\n",
      "\n",
      "Training on fold [0/3]\n",
      "\n",
      "bestTest = 0.04723624281\n",
      "bestIteration = 1010\n",
      "\n",
      "Training on fold [1/3]\n",
      "\n",
      "bestTest = 0.03892033224\n",
      "bestIteration = 1010\n",
      "\n",
      "Training on fold [2/3]\n",
      "\n",
      "bestTest = 0.03373614563\n",
      "bestIteration = 1010\n",
      "\n",
      "Training on fold [0/3]\n",
      "\n",
      "bestTest = 0.08005539099\n",
      "bestIteration = 1251\n",
      "\n",
      "Training on fold [1/3]\n",
      "\n",
      "bestTest = 0.05824245413\n",
      "bestIteration = 3588\n",
      "\n",
      "Training on fold [2/3]\n",
      "\n",
      "bestTest = 0.02986288938\n",
      "bestIteration = 6218\n",
      "\n",
      "Number of finished trials: 4\n",
      "Kenya Best trial:\n",
      "  Value: 0.03832364362883009\n",
      "Kenya  Params: \n",
      "    iterations: 3841\n",
      "    learning_rate: 0.010577280986916184\n",
      "    objective: MAPE\n",
      "    colsample_bylevel: 0.2098015839735411\n",
      "    depth: 8\n",
      "    boosting_type: Ordered\n",
      "    bootstrap_type: Bernoulli\n",
      "    subsample: 0.4237645601573369\n",
      "Training on fold [0/3]\n",
      "\n",
      "bestTest = 0.04929932186\n",
      "bestIteration = 3888\n",
      "\n",
      "Training on fold [1/3]\n",
      "\n",
      "bestTest = 0.04433144451\n",
      "bestIteration = 3969\n",
      "\n",
      "Training on fold [2/3]\n",
      "\n",
      "bestTest = 0.05423397834\n",
      "bestIteration = 3969\n",
      "\n",
      "Training on fold [0/3]\n",
      "\n",
      "bestTest = 0.01622100352\n",
      "bestIteration = 9963\n",
      "\n",
      "Training on fold [1/3]\n",
      "\n",
      "bestTest = 0.01614826683\n",
      "bestIteration = 9933\n",
      "\n",
      "Training on fold [2/3]\n",
      "\n",
      "bestTest = 0.02279932699\n",
      "bestIteration = 9689\n",
      "\n",
      "Training on fold [0/3]\n",
      "\n",
      "bestTest = 0.04399880423\n",
      "bestIteration = 3500\n",
      "\n",
      "Training on fold [1/3]\n",
      "\n",
      "bestTest = 0.0396425541\n",
      "bestIteration = 3499\n",
      "\n",
      "Training on fold [2/3]\n",
      "\n",
      "bestTest = 0.04520123757\n",
      "bestIteration = 3508\n",
      "\n",
      "Training on fold [0/3]\n",
      "\n",
      "bestTest = 0.04634065394\n",
      "bestIteration = 2112\n",
      "\n",
      "Training on fold [1/3]\n",
      "\n",
      "bestTest = 0.01717938249\n",
      "bestIteration = 759\n",
      "\n",
      "Training on fold [2/3]\n",
      "\n",
      "bestTest = 0.01533971535\n",
      "bestIteration = 2865\n",
      "\n",
      "Training on fold [0/3]\n",
      "\n",
      "bestTest = 0.01296686315\n",
      "bestIteration = 8514\n",
      "\n",
      "Training on fold [1/3]\n",
      "\n",
      "bestTest = 0.01165642014\n",
      "bestIteration = 8541\n",
      "\n",
      "Training on fold [2/3]\n",
      "\n",
      "bestTest = 0.02045493647\n",
      "bestIteration = 8542\n",
      "\n",
      "Training on fold [0/3]\n",
      "\n",
      "bestTest = 0.03296341207\n",
      "bestIteration = 2983\n",
      "\n",
      "Training on fold [1/3]\n",
      "\n",
      "bestTest = 0.02986113517\n",
      "bestIteration = 2984\n",
      "\n",
      "Training on fold [2/3]\n",
      "\n",
      "bestTest = 0.03211789022\n",
      "bestIteration = 2979\n",
      "\n",
      "Training on fold [0/3]\n",
      "\n",
      "bestTest = 0.08231550676\n",
      "bestIteration = 1607\n",
      "\n",
      "Training on fold [1/3]\n",
      "\n",
      "bestTest = 0.0784644267\n",
      "bestIteration = 1609\n",
      "\n",
      "Training on fold [2/3]\n",
      "\n",
      "bestTest = 0.08190405972\n",
      "bestIteration = 1609\n",
      "\n",
      "Training on fold [0/3]\n",
      "\n",
      "bestTest = 0.01241747669\n",
      "bestIteration = 4610\n",
      "\n",
      "Training on fold [1/3]\n",
      "\n",
      "bestTest = 0.01094517726\n",
      "bestIteration = 4607\n",
      "\n",
      "Training on fold [2/3]\n",
      "\n",
      "bestTest = 0.01550734953\n",
      "bestIteration = 2298\n",
      "\n",
      "Training on fold [0/3]\n",
      "\n",
      "bestTest = 0.0709758252\n",
      "bestIteration = 2794\n",
      "\n",
      "Training on fold [1/3]\n",
      "\n",
      "bestTest = 0.06521290146\n",
      "bestIteration = 2818\n",
      "\n",
      "Training on fold [2/3]\n",
      "\n",
      "bestTest = 0.07339069707\n",
      "bestIteration = 2818\n",
      "\n",
      "Training on fold [0/3]\n",
      "\n",
      "bestTest = 0.03188675149\n",
      "bestIteration = 980\n",
      "\n",
      "Training on fold [1/3]\n",
      "\n",
      "bestTest = 0.01012244494\n",
      "bestIteration = 621\n",
      "\n",
      "Training on fold [2/3]\n",
      "\n",
      "bestTest = 0.01847359432\n",
      "bestIteration = 421\n",
      "\n",
      "Training on fold [0/3]\n",
      "\n",
      "bestTest = 0.06344795565\n",
      "bestIteration = 1304\n",
      "\n",
      "Training on fold [1/3]\n",
      "\n",
      "bestTest = 0.01613804251\n",
      "bestIteration = 286\n",
      "\n",
      "Training on fold [2/3]\n",
      "\n",
      "bestTest = 0.01566382983\n",
      "bestIteration = 191\n",
      "\n",
      "Training on fold [0/3]\n",
      "\n",
      "bestTest = 0.01045701458\n",
      "bestIteration = 9914\n",
      "\n",
      "Training on fold [1/3]\n",
      "\n",
      "bestTest = 0.008595363906\n",
      "bestIteration = 9915\n",
      "\n",
      "Training on fold [2/3]\n",
      "\n",
      "bestTest = 0.01578124831\n",
      "bestIteration = 6223\n",
      "\n",
      "Training on fold [0/3]\n",
      "\n",
      "bestTest = 0.01371195086\n",
      "bestIteration = 5256\n",
      "\n",
      "Training on fold [1/3]\n",
      "\n",
      "bestTest = 0.009272288389\n",
      "bestIteration = 5216\n",
      "\n",
      "Training on fold [2/3]\n",
      "\n",
      "bestTest = 0.01563943995\n",
      "bestIteration = 3071\n",
      "\n",
      "Number of finished trials: 13\n",
      "Norway Best trial:\n",
      "  Value: 0.011615468745981827\n",
      "Norway  Params: \n",
      "    iterations: 9916\n",
      "    learning_rate: 0.010257923868805347\n",
      "    objective: MAPE\n",
      "    colsample_bylevel: 0.043532108287229386\n",
      "    depth: 10\n",
      "    boosting_type: Plain\n",
      "    bootstrap_type: MVS\n",
      "Training on fold [0/3]\n",
      "\n",
      "bestTest = 0.01357394332\n",
      "bestIteration = 9522\n",
      "\n",
      "Training on fold [1/3]\n",
      "\n",
      "bestTest = 0.01254964736\n",
      "bestIteration = 9531\n",
      "\n",
      "Training on fold [2/3]\n",
      "\n",
      "bestTest = 0.01122043846\n",
      "bestIteration = 9500\n",
      "\n",
      "Training on fold [0/3]\n",
      "\n",
      "bestTest = 0.01923635283\n",
      "bestIteration = 5963\n",
      "\n",
      "Training on fold [1/3]\n",
      "\n",
      "bestTest = 0.01877289958\n",
      "bestIteration = 5968\n",
      "\n",
      "Training on fold [2/3]\n",
      "\n",
      "bestTest = 0.01602543439\n",
      "bestIteration = 5968\n",
      "\n",
      "Training on fold [0/3]\n",
      "\n",
      "bestTest = 0.0308679827\n",
      "bestIteration = 4771\n",
      "\n",
      "Training on fold [1/3]\n",
      "\n",
      "bestTest = 0.03091559253\n",
      "bestIteration = 4780\n",
      "\n",
      "Training on fold [2/3]\n",
      "\n",
      "bestTest = 0.02768603654\n",
      "bestIteration = 4780\n",
      "\n",
      "Training on fold [0/3]\n",
      "\n",
      "bestTest = 0.03187241279\n",
      "bestIteration = 4971\n",
      "\n",
      "Training on fold [1/3]\n",
      "\n",
      "bestTest = 0.01238604856\n",
      "bestIteration = 2870\n",
      "\n",
      "Training on fold [2/3]\n",
      "\n",
      "bestTest = 0.0144868642\n",
      "bestIteration = 4070\n",
      "\n",
      "Training on fold [0/3]\n",
      "\n",
      "bestTest = 0.05555218458\n",
      "bestIteration = 4235\n",
      "\n",
      "Training on fold [1/3]\n",
      "\n",
      "bestTest = 0.05275298139\n",
      "bestIteration = 4226\n",
      "\n",
      "Training on fold [2/3]\n",
      "\n",
      "bestTest = 0.05212425389\n",
      "bestIteration = 4235\n",
      "\n",
      "Training on fold [0/3]\n",
      "\n",
      "bestTest = 0.0327261171\n",
      "bestIteration = 2212\n",
      "\n",
      "Training on fold [1/3]\n",
      "\n",
      "bestTest = 0.02564668068\n",
      "bestIteration = 2216\n",
      "\n",
      "Training on fold [2/3]\n",
      "\n",
      "bestTest = 0.02355526241\n",
      "bestIteration = 2217\n",
      "\n",
      "Training on fold [0/3]\n",
      "\n",
      "bestTest = 0.03143041872\n",
      "bestIteration = 3970\n",
      "\n",
      "Training on fold [1/3]\n",
      "\n",
      "bestTest = 0.01589725724\n",
      "bestIteration = 1704\n",
      "\n",
      "Training on fold [2/3]\n",
      "\n",
      "bestTest = 0.03213814896\n",
      "bestIteration = 3629\n",
      "\n",
      "Training on fold [0/3]\n",
      "\n",
      "bestTest = 0.03254293755\n",
      "bestIteration = 5487\n",
      "\n",
      "Training on fold [1/3]\n",
      "\n",
      "bestTest = 0.0188067695\n",
      "bestIteration = 962\n",
      "\n",
      "Training on fold [2/3]\n",
      "\n",
      "bestTest = 0.03204289761\n",
      "bestIteration = 2273\n",
      "\n",
      "Number of finished trials: 8\n",
      "Singapore Best trial:\n",
      "  Value: 0.012451031682691441\n",
      "Singapore  Params: \n",
      "    iterations: 9631\n",
      "    learning_rate: 0.02124605701210245\n",
      "    objective: MAPE\n",
      "    colsample_bylevel: 0.03052778075276554\n",
      "    depth: 7\n",
      "    boosting_type: Ordered\n",
      "    bootstrap_type: Bayesian\n",
      "    bagging_temperature: 9.814629839077405\n"
     ]
    }
   ],
   "source": [
    "from functools import partial \n",
    "\n",
    "country_best_params={}\n",
    "for c in countrylist:\n",
    "    objective = partial(objective, country = c)\n",
    "    \n",
    "    optuna.logging.set_verbosity(optuna.logging.CRITICAL)\n",
    "    study = optuna.create_study(\n",
    "        #pruner=optuna.pruners.MedianPruner(n_warmup_steps=5), \n",
    "        direction=\"minimize\",\n",
    "    )\n",
    "    study.optimize(objective, n_trials=100, timeout=600)\n",
    "    \n",
    "    print(\"Number of finished trials: {}\".format(len(study.trials)))\n",
    "    \n",
    "    print(f'{c} Best trial:')\n",
    "    trial = study.best_trial\n",
    "    \n",
    "    print(\"  Value: {}\".format(trial.value))\n",
    "    \n",
    "    print(f\"{c}  Params: \")\n",
    "    country_best_params[c]=trial.params.copy()\n",
    "    for key, value in trial.params.items():\n",
    "        print(\"    {}: {}\".format(key, value))\n",
    "        "
   ]
  },
  {
   "cell_type": "code",
   "execution_count": 60,
   "id": "05805fa9",
   "metadata": {
    "execution": {
     "iopub.execute_input": "2025-01-31T13:59:34.096162Z",
     "iopub.status.busy": "2025-01-31T13:59:34.095778Z",
     "iopub.status.idle": "2025-01-31T13:59:34.100120Z",
     "shell.execute_reply": "2025-01-31T13:59:34.098997Z"
    },
    "papermill": {
     "duration": 0.041513,
     "end_time": "2025-01-31T13:59:34.101945",
     "exception": false,
     "start_time": "2025-01-31T13:59:34.060432",
     "status": "completed"
    },
    "tags": []
   },
   "outputs": [],
   "source": [
    "#print(study.best_params)"
   ]
  },
  {
   "cell_type": "code",
   "execution_count": 61,
   "id": "23c5f43e",
   "metadata": {
    "execution": {
     "iopub.execute_input": "2025-01-31T13:59:34.167998Z",
     "iopub.status.busy": "2025-01-31T13:59:34.167566Z",
     "iopub.status.idle": "2025-01-31T13:59:34.172137Z",
     "shell.execute_reply": "2025-01-31T13:59:34.170819Z"
    },
    "papermill": {
     "duration": 0.040333,
     "end_time": "2025-01-31T13:59:34.173922",
     "exception": false,
     "start_time": "2025-01-31T13:59:34.133589",
     "status": "completed"
    },
    "tags": []
   },
   "outputs": [],
   "source": [
    "# from catboost import Pool,cv\n",
    "# cats=df_train.select_dtypes('category').columns\n",
    "# features=df_train.drop(['id','num_sold','date'],axis=1).columns\n",
    "# train_pool = Pool(data=df_train.drop(['id','num_sold','date'],axis=1),\n",
    "#              label=df_train['num_sold'],\n",
    "#              cat_features=cats.to_list())"
   ]
  },
  {
   "cell_type": "code",
   "execution_count": 62,
   "id": "6d01381c",
   "metadata": {
    "execution": {
     "iopub.execute_input": "2025-01-31T13:59:34.239977Z",
     "iopub.status.busy": "2025-01-31T13:59:34.239531Z",
     "iopub.status.idle": "2025-01-31T13:59:34.244277Z",
     "shell.execute_reply": "2025-01-31T13:59:34.243045Z"
    },
    "papermill": {
     "duration": 0.039936,
     "end_time": "2025-01-31T13:59:34.246209",
     "exception": false,
     "start_time": "2025-01-31T13:59:34.206273",
     "status": "completed"
    },
    "tags": []
   },
   "outputs": [],
   "source": [
    "# from catboost import Pool,cv\n",
    "\n",
    "#              #feature_names=features)\n",
    "\n",
    "\n",
    "# # params = {\"iterations\": 1000,\n",
    "# #           \"depth\": 4,\n",
    "# #           \"loss_function\": \"MAPE\",\n",
    "# #           \"verbose\": False}\n",
    "\n",
    "# scores = cv(train_pool,\n",
    "#             study.best_params,\n",
    "#            fold_count=5,\n",
    "#             verbose=0,\n",
    "#            )\n",
    "\n",
    "# print(scores)"
   ]
  },
  {
   "cell_type": "code",
   "execution_count": 63,
   "id": "6a529f21",
   "metadata": {
    "execution": {
     "iopub.execute_input": "2025-01-31T13:59:34.311723Z",
     "iopub.status.busy": "2025-01-31T13:59:34.311305Z",
     "iopub.status.idle": "2025-01-31T13:59:34.315424Z",
     "shell.execute_reply": "2025-01-31T13:59:34.314296Z"
    },
    "papermill": {
     "duration": 0.039207,
     "end_time": "2025-01-31T13:59:34.317076",
     "exception": false,
     "start_time": "2025-01-31T13:59:34.277869",
     "status": "completed"
    },
    "tags": []
   },
   "outputs": [],
   "source": [
    "#print(scores)"
   ]
  },
  {
   "cell_type": "code",
   "execution_count": 64,
   "id": "f24d5d8d",
   "metadata": {
    "execution": {
     "iopub.execute_input": "2025-01-31T13:59:34.383877Z",
     "iopub.status.busy": "2025-01-31T13:59:34.383414Z",
     "iopub.status.idle": "2025-01-31T13:59:34.387556Z",
     "shell.execute_reply": "2025-01-31T13:59:34.386428Z"
    },
    "papermill": {
     "duration": 0.039257,
     "end_time": "2025-01-31T13:59:34.389424",
     "exception": false,
     "start_time": "2025-01-31T13:59:34.350167",
     "status": "completed"
    },
    "tags": []
   },
   "outputs": [],
   "source": [
    "#hyperdict=optuna.importance.get_param_importances(study)"
   ]
  },
  {
   "cell_type": "code",
   "execution_count": 65,
   "id": "f1090f9b",
   "metadata": {
    "execution": {
     "iopub.execute_input": "2025-01-31T13:59:34.455779Z",
     "iopub.status.busy": "2025-01-31T13:59:34.455378Z",
     "iopub.status.idle": "2025-01-31T13:59:34.459991Z",
     "shell.execute_reply": "2025-01-31T13:59:34.458496Z"
    },
    "papermill": {
     "duration": 0.0395,
     "end_time": "2025-01-31T13:59:34.461787",
     "exception": false,
     "start_time": "2025-01-31T13:59:34.422287",
     "status": "completed"
    },
    "tags": []
   },
   "outputs": [],
   "source": [
    "#print(hyperdict)"
   ]
  },
  {
   "cell_type": "code",
   "execution_count": 66,
   "id": "3b2555dd",
   "metadata": {
    "execution": {
     "iopub.execute_input": "2025-01-31T13:59:34.527909Z",
     "iopub.status.busy": "2025-01-31T13:59:34.527488Z",
     "iopub.status.idle": "2025-01-31T13:59:34.536014Z",
     "shell.execute_reply": "2025-01-31T13:59:34.534721Z"
    },
    "papermill": {
     "duration": 0.043508,
     "end_time": "2025-01-31T13:59:34.537905",
     "exception": false,
     "start_time": "2025-01-31T13:59:34.494397",
     "status": "completed"
    },
    "tags": []
   },
   "outputs": [
    {
     "name": "stdout",
     "output_type": "stream",
     "text": [
      "Canada\n",
      "{'iterations': 6141, 'learning_rate': 0.008996906722987037, 'objective': 'MAPE', 'colsample_bylevel': 0.028672650053301222, 'depth': 8, 'boosting_type': 'Ordered', 'bootstrap_type': 'Bernoulli', 'subsample': 0.16361110977409288}\n",
      "Finland\n",
      "{'iterations': 7778, 'learning_rate': 0.023124072743573882, 'objective': 'MAPE', 'colsample_bylevel': 0.04764380083160097, 'depth': 4, 'boosting_type': 'Plain', 'bootstrap_type': 'Bernoulli', 'subsample': 0.1404789759952077}\n",
      "Italy\n",
      "{'iterations': 5743, 'learning_rate': 0.011900258599494805, 'objective': 'MAPE', 'colsample_bylevel': 0.03542666684057203, 'depth': 7, 'boosting_type': 'Ordered', 'bootstrap_type': 'MVS'}\n",
      "Kenya\n",
      "{'iterations': 3841, 'learning_rate': 0.010577280986916184, 'objective': 'MAPE', 'colsample_bylevel': 0.2098015839735411, 'depth': 8, 'boosting_type': 'Ordered', 'bootstrap_type': 'Bernoulli', 'subsample': 0.4237645601573369}\n",
      "Norway\n",
      "{'iterations': 9916, 'learning_rate': 0.010257923868805347, 'objective': 'MAPE', 'colsample_bylevel': 0.043532108287229386, 'depth': 10, 'boosting_type': 'Plain', 'bootstrap_type': 'MVS'}\n",
      "Singapore\n",
      "{'iterations': 9631, 'learning_rate': 0.02124605701210245, 'objective': 'MAPE', 'colsample_bylevel': 0.03052778075276554, 'depth': 7, 'boosting_type': 'Ordered', 'bootstrap_type': 'Bayesian', 'bagging_temperature': 9.814629839077405}\n"
     ]
    }
   ],
   "source": [
    "for p,v in country_best_params.items():\n",
    "    print(p)\n",
    "    print(v)"
   ]
  },
  {
   "cell_type": "code",
   "execution_count": 67,
   "id": "b3bafcd9",
   "metadata": {
    "execution": {
     "iopub.execute_input": "2025-01-31T13:59:34.604489Z",
     "iopub.status.busy": "2025-01-31T13:59:34.604149Z",
     "iopub.status.idle": "2025-01-31T13:59:34.609488Z",
     "shell.execute_reply": "2025-01-31T13:59:34.608238Z"
    },
    "papermill": {
     "duration": 0.040646,
     "end_time": "2025-01-31T13:59:34.611258",
     "exception": false,
     "start_time": "2025-01-31T13:59:34.570612",
     "status": "completed"
    },
    "tags": []
   },
   "outputs": [],
   "source": [
    "#Execute this cell in case of loading fitted model to do prediction\n",
    "country_model={}\n",
    "def LoadModel():\n",
    "    Path='/kaggle/input/cbfitmodels'\n",
    "    countrylist=['Canada','Finland','Italy','Kenya','Norway','Singapore']\n",
    "    for c in countrylist:\n",
    "        country_model[c]=cb.CatBoostRegressor().load_model(f'{Path}/cbfit_{c}')\n"
   ]
  },
  {
   "cell_type": "code",
   "execution_count": 68,
   "id": "f068db10",
   "metadata": {
    "execution": {
     "iopub.execute_input": "2025-01-31T13:59:34.677442Z",
     "iopub.status.busy": "2025-01-31T13:59:34.677051Z",
     "iopub.status.idle": "2025-01-31T13:59:34.680814Z",
     "shell.execute_reply": "2025-01-31T13:59:34.679814Z"
    },
    "papermill": {
     "duration": 0.038409,
     "end_time": "2025-01-31T13:59:34.682744",
     "exception": false,
     "start_time": "2025-01-31T13:59:34.644335",
     "status": "completed"
    },
    "tags": []
   },
   "outputs": [],
   "source": [
    "#Use when using model without training\n",
    "#LoadModel()"
   ]
  },
  {
   "cell_type": "code",
   "execution_count": 69,
   "id": "3c5741e1",
   "metadata": {
    "execution": {
     "iopub.execute_input": "2025-01-31T13:59:34.749289Z",
     "iopub.status.busy": "2025-01-31T13:59:34.748929Z",
     "iopub.status.idle": "2025-01-31T13:59:34.752884Z",
     "shell.execute_reply": "2025-01-31T13:59:34.751796Z"
    },
    "papermill": {
     "duration": 0.039009,
     "end_time": "2025-01-31T13:59:34.754620",
     "exception": false,
     "start_time": "2025-01-31T13:59:34.715611",
     "status": "completed"
    },
    "tags": []
   },
   "outputs": [],
   "source": [
    "# country_best_params={}\n",
    "# country_best_params['Canada']={'iterations': 3593, 'learning_rate': 0.012827192029471704, 'objective': 'MAPE', 'colsample_bylevel': 0.09122674054287529, 'depth': 3, 'boosting_type': 'Ordered', 'bootstrap_type': 'Bernoulli', 'subsample': 0.3698567303900272}\n",
    "# country_best_params['Finland']={'iterations': 4674, 'learning_rate': 0.021005624891915504, 'objective': 'MAPE', 'colsample_bylevel': 0.5784183002099044, 'depth': 2, 'boosting_type': 'Ordered', 'bootstrap_type': 'Bayesian', 'bagging_temperature': 5.782146139508431}\n",
    "# country_best_params['Italy']={'iterations': 1398, 'learning_rate': 0.0251234589892742, 'objective': 'MAPE', 'colsample_bylevel': 0.049188944104342755, 'depth': 7, 'boosting_type': 'Plain', 'bootstrap_type': 'MVS'}\n",
    "# country_best_params['Kenya']={'iterations': 3924, 'learning_rate': 0.016615674668667934, 'objective': 'MAPE', 'colsample_bylevel': 0.4274609331782009, 'depth': 2, 'boosting_type': 'Ordered', 'bootstrap_type': 'Bayesian', 'bagging_temperature': 6.2645325168308865}\n",
    "# country_best_params['Norway']={'iterations': 3851, 'learning_rate': 0.019929523358906295, 'objective': 'MAPE', 'colsample_bylevel': 0.07338903404462888, 'depth': 2, 'boosting_type': 'Ordered', 'bootstrap_type': 'MVS'}\n",
    "# country_best_params['Singapore']={'iterations': 1094, 'learning_rate': 0.02694754587058969, 'objective': 'MAPE', 'colsample_bylevel': 0.554849569101183, 'depth': 3, 'boosting_type': 'Plain', 'bootstrap_type': 'MVS'}"
   ]
  },
  {
   "cell_type": "code",
   "execution_count": 70,
   "id": "7e6f4a91",
   "metadata": {
    "execution": {
     "iopub.execute_input": "2025-01-31T13:59:34.822325Z",
     "iopub.status.busy": "2025-01-31T13:59:34.821924Z",
     "iopub.status.idle": "2025-01-31T14:04:39.605761Z",
     "shell.execute_reply": "2025-01-31T14:04:39.604451Z"
    },
    "papermill": {
     "duration": 304.851448,
     "end_time": "2025-01-31T14:04:39.639513",
     "exception": false,
     "start_time": "2025-01-31T13:59:34.788065",
     "status": "completed"
    },
    "tags": []
   },
   "outputs": [
    {
     "name": "stdout",
     "output_type": "stream",
     "text": [
      "Canada {'learn': {'MAPE': 0.012916732197562767}, 'validation': {'MAPE': 0.014811379535959854}}\n",
      "Finland {'learn': {'MAPE': 0.00851026854458211}, 'validation': {'MAPE': 0.009676475315216733}}\n",
      "Italy {'learn': {'MAPE': 0.010901696683304365}, 'validation': {'MAPE': 0.012416309183051555}}\n",
      "Kenya {'learn': {'MAPE': 0.016227006356011806}, 'validation': {'MAPE': 0.028672541896643255}}\n",
      "Norway {'learn': {'MAPE': 0.00726870608032272}, 'validation': {'MAPE': 0.01571256004312224}}\n",
      "Singapore {'learn': {'MAPE': 0.01070914128130559}, 'validation': {'MAPE': 0.01098674956362673}}\n"
     ]
    }
   ],
   "source": [
    "#Train model with best param and iteration>1000 before prediction\n",
    "country_model={}\n",
    "for c in countrylist:\n",
    "    country_model[c]=cb.CatBoostRegressor(**country_best_params[c],verbose=0)\n",
    "    country_model[c].fit(country_train_pool[c],eval_set=country_valid_pool[c])\n",
    "    country_model[c].save_model(f'cbfit_{c}')\n",
    "    print(f'{c} {country_model[c].get_best_score()}')"
   ]
  },
  {
   "cell_type": "code",
   "execution_count": 71,
   "id": "bb302125",
   "metadata": {
    "execution": {
     "iopub.execute_input": "2025-01-31T14:04:39.709987Z",
     "iopub.status.busy": "2025-01-31T14:04:39.709535Z",
     "iopub.status.idle": "2025-01-31T14:04:39.715871Z",
     "shell.execute_reply": "2025-01-31T14:04:39.714796Z"
    },
    "papermill": {
     "duration": 0.043634,
     "end_time": "2025-01-31T14:04:39.717790",
     "exception": false,
     "start_time": "2025-01-31T14:04:39.674156",
     "status": "completed"
    },
    "tags": []
   },
   "outputs": [
    {
     "data": {
      "text/plain": [
       "{'Canada': <catboost.core.CatBoostRegressor at 0x79f0af5d29e0>,\n",
       " 'Finland': <catboost.core.CatBoostRegressor at 0x79f0b6be6c20>,\n",
       " 'Italy': <catboost.core.CatBoostRegressor at 0x79f0b6be77c0>,\n",
       " 'Kenya': <catboost.core.CatBoostRegressor at 0x79f0b6be7ca0>,\n",
       " 'Norway': <catboost.core.CatBoostRegressor at 0x79f0af5d3ac0>,\n",
       " 'Singapore': <catboost.core.CatBoostRegressor at 0x79f0af5d21d0>}"
      ]
     },
     "execution_count": 71,
     "metadata": {},
     "output_type": "execute_result"
    }
   ],
   "source": [
    "country_model"
   ]
  },
  {
   "cell_type": "code",
   "execution_count": 72,
   "id": "c4e75ee0",
   "metadata": {
    "execution": {
     "iopub.execute_input": "2025-01-31T14:04:39.786107Z",
     "iopub.status.busy": "2025-01-31T14:04:39.785736Z",
     "iopub.status.idle": "2025-01-31T14:04:44.099558Z",
     "shell.execute_reply": "2025-01-31T14:04:44.098387Z"
    },
    "papermill": {
     "duration": 4.350124,
     "end_time": "2025-01-31T14:04:44.102333",
     "exception": false,
     "start_time": "2025-01-31T14:04:39.752209",
     "status": "completed"
    },
    "tags": []
   },
   "outputs": [
    {
     "name": "stderr",
     "output_type": "stream",
     "text": [
      "<ipython-input-72-b533e4724463>:7: SettingWithCopyWarning: \n",
      "A value is trying to be set on a copy of a slice from a DataFrame.\n",
      "Try using .loc[row_indexer,col_indexer] = value instead\n",
      "\n",
      "See the caveats in the documentation: https://pandas.pydata.org/pandas-docs/stable/user_guide/indexing.html#returning-a-view-versus-a-copy\n",
      "  df['num_sold']=country_predicts[c]\n",
      "<ipython-input-72-b533e4724463>:9: SettingWithCopyWarning: \n",
      "A value is trying to be set on a copy of a slice from a DataFrame.\n",
      "Try using .loc[row_indexer,col_indexer] = value instead\n",
      "\n",
      "See the caveats in the documentation: https://pandas.pydata.org/pandas-docs/stable/user_guide/indexing.html#returning-a-view-versus-a-copy\n",
      "  df['rolling_mean'] = df['num_sold'].rolling(window=30).mean()\n",
      "<ipython-input-72-b533e4724463>:10: SettingWithCopyWarning: \n",
      "A value is trying to be set on a copy of a slice from a DataFrame.\n",
      "Try using .loc[row_indexer,col_indexer] = value instead\n",
      "\n",
      "See the caveats in the documentation: https://pandas.pydata.org/pandas-docs/stable/user_guide/indexing.html#returning-a-view-versus-a-copy\n",
      "  df['rolling_std'] = df['num_sold'].rolling(window=30).std()\n",
      "<ipython-input-72-b533e4724463>:7: SettingWithCopyWarning: \n",
      "A value is trying to be set on a copy of a slice from a DataFrame.\n",
      "Try using .loc[row_indexer,col_indexer] = value instead\n",
      "\n",
      "See the caveats in the documentation: https://pandas.pydata.org/pandas-docs/stable/user_guide/indexing.html#returning-a-view-versus-a-copy\n",
      "  df['num_sold']=country_predicts[c]\n",
      "<ipython-input-72-b533e4724463>:9: SettingWithCopyWarning: \n",
      "A value is trying to be set on a copy of a slice from a DataFrame.\n",
      "Try using .loc[row_indexer,col_indexer] = value instead\n",
      "\n",
      "See the caveats in the documentation: https://pandas.pydata.org/pandas-docs/stable/user_guide/indexing.html#returning-a-view-versus-a-copy\n",
      "  df['rolling_mean'] = df['num_sold'].rolling(window=30).mean()\n",
      "<ipython-input-72-b533e4724463>:10: SettingWithCopyWarning: \n",
      "A value is trying to be set on a copy of a slice from a DataFrame.\n",
      "Try using .loc[row_indexer,col_indexer] = value instead\n",
      "\n",
      "See the caveats in the documentation: https://pandas.pydata.org/pandas-docs/stable/user_guide/indexing.html#returning-a-view-versus-a-copy\n",
      "  df['rolling_std'] = df['num_sold'].rolling(window=30).std()\n",
      "<ipython-input-72-b533e4724463>:7: SettingWithCopyWarning: \n",
      "A value is trying to be set on a copy of a slice from a DataFrame.\n",
      "Try using .loc[row_indexer,col_indexer] = value instead\n",
      "\n",
      "See the caveats in the documentation: https://pandas.pydata.org/pandas-docs/stable/user_guide/indexing.html#returning-a-view-versus-a-copy\n",
      "  df['num_sold']=country_predicts[c]\n",
      "<ipython-input-72-b533e4724463>:9: SettingWithCopyWarning: \n",
      "A value is trying to be set on a copy of a slice from a DataFrame.\n",
      "Try using .loc[row_indexer,col_indexer] = value instead\n",
      "\n",
      "See the caveats in the documentation: https://pandas.pydata.org/pandas-docs/stable/user_guide/indexing.html#returning-a-view-versus-a-copy\n",
      "  df['rolling_mean'] = df['num_sold'].rolling(window=30).mean()\n",
      "<ipython-input-72-b533e4724463>:10: SettingWithCopyWarning: \n",
      "A value is trying to be set on a copy of a slice from a DataFrame.\n",
      "Try using .loc[row_indexer,col_indexer] = value instead\n",
      "\n",
      "See the caveats in the documentation: https://pandas.pydata.org/pandas-docs/stable/user_guide/indexing.html#returning-a-view-versus-a-copy\n",
      "  df['rolling_std'] = df['num_sold'].rolling(window=30).std()\n",
      "<ipython-input-72-b533e4724463>:7: SettingWithCopyWarning: \n",
      "A value is trying to be set on a copy of a slice from a DataFrame.\n",
      "Try using .loc[row_indexer,col_indexer] = value instead\n",
      "\n",
      "See the caveats in the documentation: https://pandas.pydata.org/pandas-docs/stable/user_guide/indexing.html#returning-a-view-versus-a-copy\n",
      "  df['num_sold']=country_predicts[c]\n",
      "<ipython-input-72-b533e4724463>:9: SettingWithCopyWarning: \n",
      "A value is trying to be set on a copy of a slice from a DataFrame.\n",
      "Try using .loc[row_indexer,col_indexer] = value instead\n",
      "\n",
      "See the caveats in the documentation: https://pandas.pydata.org/pandas-docs/stable/user_guide/indexing.html#returning-a-view-versus-a-copy\n",
      "  df['rolling_mean'] = df['num_sold'].rolling(window=30).mean()\n",
      "<ipython-input-72-b533e4724463>:10: SettingWithCopyWarning: \n",
      "A value is trying to be set on a copy of a slice from a DataFrame.\n",
      "Try using .loc[row_indexer,col_indexer] = value instead\n",
      "\n",
      "See the caveats in the documentation: https://pandas.pydata.org/pandas-docs/stable/user_guide/indexing.html#returning-a-view-versus-a-copy\n",
      "  df['rolling_std'] = df['num_sold'].rolling(window=30).std()\n",
      "<ipython-input-72-b533e4724463>:7: SettingWithCopyWarning: \n",
      "A value is trying to be set on a copy of a slice from a DataFrame.\n",
      "Try using .loc[row_indexer,col_indexer] = value instead\n",
      "\n",
      "See the caveats in the documentation: https://pandas.pydata.org/pandas-docs/stable/user_guide/indexing.html#returning-a-view-versus-a-copy\n",
      "  df['num_sold']=country_predicts[c]\n",
      "<ipython-input-72-b533e4724463>:9: SettingWithCopyWarning: \n",
      "A value is trying to be set on a copy of a slice from a DataFrame.\n",
      "Try using .loc[row_indexer,col_indexer] = value instead\n",
      "\n",
      "See the caveats in the documentation: https://pandas.pydata.org/pandas-docs/stable/user_guide/indexing.html#returning-a-view-versus-a-copy\n",
      "  df['rolling_mean'] = df['num_sold'].rolling(window=30).mean()\n",
      "<ipython-input-72-b533e4724463>:10: SettingWithCopyWarning: \n",
      "A value is trying to be set on a copy of a slice from a DataFrame.\n",
      "Try using .loc[row_indexer,col_indexer] = value instead\n",
      "\n",
      "See the caveats in the documentation: https://pandas.pydata.org/pandas-docs/stable/user_guide/indexing.html#returning-a-view-versus-a-copy\n",
      "  df['rolling_std'] = df['num_sold'].rolling(window=30).std()\n",
      "<ipython-input-72-b533e4724463>:7: SettingWithCopyWarning: \n",
      "A value is trying to be set on a copy of a slice from a DataFrame.\n",
      "Try using .loc[row_indexer,col_indexer] = value instead\n",
      "\n",
      "See the caveats in the documentation: https://pandas.pydata.org/pandas-docs/stable/user_guide/indexing.html#returning-a-view-versus-a-copy\n",
      "  df['num_sold']=country_predicts[c]\n",
      "<ipython-input-72-b533e4724463>:9: SettingWithCopyWarning: \n",
      "A value is trying to be set on a copy of a slice from a DataFrame.\n",
      "Try using .loc[row_indexer,col_indexer] = value instead\n",
      "\n",
      "See the caveats in the documentation: https://pandas.pydata.org/pandas-docs/stable/user_guide/indexing.html#returning-a-view-versus-a-copy\n",
      "  df['rolling_mean'] = df['num_sold'].rolling(window=30).mean()\n",
      "<ipython-input-72-b533e4724463>:10: SettingWithCopyWarning: \n",
      "A value is trying to be set on a copy of a slice from a DataFrame.\n",
      "Try using .loc[row_indexer,col_indexer] = value instead\n",
      "\n",
      "See the caveats in the documentation: https://pandas.pydata.org/pandas-docs/stable/user_guide/indexing.html#returning-a-view-versus-a-copy\n",
      "  df['rolling_std'] = df['num_sold'].rolling(window=30).std()\n"
     ]
    },
    {
     "data": {
      "image/png": "[encoded data removed]",
      "text/plain": [
       "<Figure size 1200x800 with 6 Axes>"
      ]
     },
     "metadata": {},
     "output_type": "display_data"
    }
   ],
   "source": [
    "fig, axes = plt.subplots(2, 3, figsize=(12, 8))\n",
    "testcountrylist=df_test['country'].unique().tolist()\n",
    "country_predicts={}\n",
    "for i,c in enumerate(testcountrylist):\n",
    "    df=df_test[df_test['country']==c]\n",
    "    country_predicts[c] = np.expm1(country_model[c].predict(df.drop(['id','country'],axis=1)))\n",
    "    df['num_sold']=country_predicts[c]\n",
    "    df.set_index('date')\n",
    "    df['rolling_mean'] = df['num_sold'].rolling(window=30).mean()\n",
    "    df['rolling_std'] = df['num_sold'].rolling(window=30).std()\n",
    "    df[['num_sold', 'rolling_mean', 'rolling_std']].plot(ax=axes.flat[i],title=f'{c} Rolling Mean and Std Dev')\n",
    "\n",
    "plt.tight_layout()\n",
    "plt.show()"
   ]
  },
  {
   "cell_type": "code",
   "execution_count": 73,
   "id": "fcd1b01a",
   "metadata": {
    "execution": {
     "iopub.execute_input": "2025-01-31T14:04:44.179197Z",
     "iopub.status.busy": "2025-01-31T14:04:44.178805Z",
     "iopub.status.idle": "2025-01-31T14:04:44.209347Z",
     "shell.execute_reply": "2025-01-31T14:04:44.208241Z"
    },
    "papermill": {
     "duration": 0.071706,
     "end_time": "2025-01-31T14:04:44.211399",
     "exception": false,
     "start_time": "2025-01-31T14:04:44.139693",
     "status": "completed"
    },
    "tags": []
   },
   "outputs": [],
   "source": [
    "cdf={}\n",
    "for c in testcountrylist:\n",
    "    cid=df_test[df_test['country']==c]['id']\n",
    "    cdf[c]=pd.concat([cid.reset_index(drop=True),pd.DataFrame(np.round(country_predicts[c],0),columns=['num_sold'])],axis=1)\n",
    "   "
   ]
  },
  {
   "cell_type": "code",
   "execution_count": 74,
   "id": "e33a603d",
   "metadata": {
    "execution": {
     "iopub.execute_input": "2025-01-31T14:04:44.290409Z",
     "iopub.status.busy": "2025-01-31T14:04:44.289973Z",
     "iopub.status.idle": "2025-01-31T14:04:44.298359Z",
     "shell.execute_reply": "2025-01-31T14:04:44.297177Z"
    },
    "papermill": {
     "duration": 0.048511,
     "end_time": "2025-01-31T14:04:44.300315",
     "exception": false,
     "start_time": "2025-01-31T14:04:44.251804",
     "status": "completed"
    },
    "tags": []
   },
   "outputs": [],
   "source": [
    "temp = pd.concat([df.reset_index(drop=True) for df in cdf.values()])"
   ]
  },
  {
   "cell_type": "code",
   "execution_count": 75,
   "id": "b481ed5d",
   "metadata": {
    "execution": {
     "iopub.execute_input": "2025-01-31T14:04:44.376770Z",
     "iopub.status.busy": "2025-01-31T14:04:44.376376Z",
     "iopub.status.idle": "2025-01-31T14:04:44.395004Z",
     "shell.execute_reply": "2025-01-31T14:04:44.393917Z"
    },
    "papermill": {
     "duration": 0.058523,
     "end_time": "2025-01-31T14:04:44.397015",
     "exception": false,
     "start_time": "2025-01-31T14:04:44.338492",
     "status": "completed"
    },
    "tags": []
   },
   "outputs": [],
   "source": [
    "temp=temp.drop_duplicates()"
   ]
  },
  {
   "cell_type": "code",
   "execution_count": 76,
   "id": "679f77ab",
   "metadata": {
    "execution": {
     "iopub.execute_input": "2025-01-31T14:04:44.473009Z",
     "iopub.status.busy": "2025-01-31T14:04:44.472603Z",
     "iopub.status.idle": "2025-01-31T14:04:44.604943Z",
     "shell.execute_reply": "2025-01-31T14:04:44.603605Z"
    },
    "papermill": {
     "duration": 0.17291,
     "end_time": "2025-01-31T14:04:44.606960",
     "exception": false,
     "start_time": "2025-01-31T14:04:44.434050",
     "status": "completed"
    },
    "tags": []
   },
   "outputs": [],
   "source": [
    "temp.to_csv('submission_6country_dropna_spline_round2.csv',index=False)"
   ]
  },
  {
   "cell_type": "code",
   "execution_count": 77,
   "id": "9c562f3c",
   "metadata": {
    "execution": {
     "iopub.execute_input": "2025-01-31T14:04:44.688219Z",
     "iopub.status.busy": "2025-01-31T14:04:44.687812Z",
     "iopub.status.idle": "2025-01-31T14:04:44.722310Z",
     "shell.execute_reply": "2025-01-31T14:04:44.720944Z"
    },
    "papermill": {
     "duration": 0.079332,
     "end_time": "2025-01-31T14:04:44.724223",
     "exception": false,
     "start_time": "2025-01-31T14:04:44.644891",
     "status": "completed"
    },
    "tags": []
   },
   "outputs": [],
   "source": [
    "cdf={}\n",
    "for c in testcountrylist:\n",
    "    cid=df_test[df_test['country']==c]['id']\n",
    "    cdf[c]=pd.concat([cid.reset_index(drop=True),pd.DataFrame(np.fix(country_predicts[c]),columns=['num_sold'])],axis=1)"
   ]
  },
  {
   "cell_type": "code",
   "execution_count": 78,
   "id": "4829ee78",
   "metadata": {
    "execution": {
     "iopub.execute_input": "2025-01-31T14:04:44.800464Z",
     "iopub.status.busy": "2025-01-31T14:04:44.800118Z",
     "iopub.status.idle": "2025-01-31T14:04:44.944132Z",
     "shell.execute_reply": "2025-01-31T14:04:44.942972Z"
    },
    "papermill": {
     "duration": 0.184826,
     "end_time": "2025-01-31T14:04:44.946162",
     "exception": false,
     "start_time": "2025-01-31T14:04:44.761336",
     "status": "completed"
    },
    "tags": []
   },
   "outputs": [],
   "source": [
    "#pd.concat([df_test['id'],pd.DataFrame(np.round(predicts,0),columns=['num_sold'])],axis=1).reset_index(drop=True).to_csv('submission_impute_dropna_holidays_conseddays.csv',index=False)\n",
    "temp = pd.concat([df.reset_index(drop=True) for df in cdf.values()])\n",
    "temp=temp.drop_duplicates()\n",
    "temp.to_csv('submission_6country_dropna_spline_fix2.csv',index=False)"
   ]
  }
 ],
 "metadata": {
  "kaggle": {
   "accelerator": "none",
   "dataSources": [
    {
     "databundleVersionId": 10652996,
     "sourceId": 85723,
     "sourceType": "competition"
    },
    {
     "datasetId": 6470396,
     "sourceId": 10452614,
     "sourceType": "datasetVersion"
    }
   ],
   "dockerImageVersionId": 30822,
   "isGpuEnabled": false,
   "isInternetEnabled": true,
   "language": "python",
   "sourceType": "notebook"
  },
  "kernelspec": {
   "display_name": "Python 3",
   "language": "python",
   "name": "python3"
  },
  "language_info": {
   "codemirror_mode": {
    "name": "ipython",
    "version": 3
   },
   "file_extension": ".py",
   "mimetype": "text/x-python",
   "name": "python",
   "nbconvert_exporter": "python",
   "pygments_lexer": "ipython3",
   "version": "3.10.12"
  },
  "papermill": {
   "default_parameters": {},
   "duration": 4283.447362,
   "end_time": "2025-01-31T14:04:46.012574",
   "environment_variables": {},
   "exception": null,
   "input_path": "__notebook__.ipynb",
   "output_path": "__notebook__.ipynb",
   "parameters": {},
   "start_time": "2025-01-31T12:53:22.565212",
   "version": "2.6.0"
  }
 },
 "nbformat": 4,
 "nbformat_minor": 5
}
