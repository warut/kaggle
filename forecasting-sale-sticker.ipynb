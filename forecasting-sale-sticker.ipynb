{
 "cells": [
  {
   "cell_type": "code",
   "execution_count": 1,
   "id": "94051b3b",
   "metadata": {
    "_cell_guid": "b1076dfc-b9ad-4769-8c92-a6c4dae69d19",
    "_uuid": "8f2839f25d086af736a60e9eeb907d3b93b6e0e5",
    "execution": {
     "iopub.execute_input": "2025-01-14T04:38:16.564181Z",
     "iopub.status.busy": "2025-01-14T04:38:16.563646Z",
     "iopub.status.idle": "2025-01-14T04:38:17.450836Z",
     "shell.execute_reply": "2025-01-14T04:38:17.449505Z"
    },
    "papermill": {
     "duration": 0.90427,
     "end_time": "2025-01-14T04:38:17.452583",
     "exception": false,
     "start_time": "2025-01-14T04:38:16.548313",
     "status": "completed"
    },
    "tags": []
   },
   "outputs": [
    {
     "name": "stdout",
     "output_type": "stream",
     "text": [
      "/kaggle/input/cbfitmodels/cbfit_Singapore\n",
      "/kaggle/input/cbfitmodels/cbfit_Italy\n",
      "/kaggle/input/cbfitmodels/cbfit_Finland\n",
      "/kaggle/input/cbfitmodels/cbfit_Canada\n",
      "/kaggle/input/cbfitmodels/cbfit_Norway\n",
      "/kaggle/input/cbfitmodels/cbfit_Kenya\n",
      "/kaggle/input/cbfitmodels/__results___files/__results___9_0.png\n",
      "/kaggle/input/cbfitmodels/__results___files/__results___64_1.png\n",
      "/kaggle/input/cbfitmodels/__results___files/__results___13_0.png\n",
      "/kaggle/input/cbfitmodels/catboost_info/test_error.tsv\n",
      "/kaggle/input/cbfitmodels/catboost_info/learn_error.tsv\n",
      "/kaggle/input/cbfitmodels/catboost_info/catboost_training.json\n",
      "/kaggle/input/cbfitmodels/catboost_info/time_left.tsv\n",
      "/kaggle/input/cbfitmodels/catboost_info/learn/events.out.tfevents\n",
      "/kaggle/input/cbfitmodels/catboost_info/test/events.out.tfevents\n",
      "/kaggle/input/playground-series-s5e1/sample_submission.csv\n",
      "/kaggle/input/playground-series-s5e1/train.csv\n",
      "/kaggle/input/playground-series-s5e1/test.csv\n"
     ]
    }
   ],
   "source": [
    "# This Python 3 environment comes with many helpful analytics libraries installed\n",
    "# It is defined by the kaggle/python Docker image: https://github.com/kaggle/docker-python\n",
    "# For example, here's several helpful packages to load\n",
    "\n",
    "import numpy as np # linear algebra\n",
    "import pandas as pd # data processing, CSV file I/O (e.g. pd.read_csv)\n",
    "\n",
    "# Input data files are available in the read-only \"../input/\" directory\n",
    "# For example, running this (by clicking run or pressing Shift+Enter) will list all files under the input directory\n",
    "\n",
    "import os\n",
    "for dirname, _, filenames in os.walk('/kaggle/input'):\n",
    "    for filename in filenames:\n",
    "        print(os.path.join(dirname, filename))\n",
    "\n",
    "# You can write up to 20GB to the current directory (/kaggle/working/) that gets preserved as output when you create a version using \"Save & Run All\" \n",
    "# You can also write temporary files to /kaggle/temp/, but they won't be saved outside of the current session"
   ]
  },
  {
   "cell_type": "code",
   "execution_count": 2,
   "id": "33d49848",
   "metadata": {
    "execution": {
     "iopub.execute_input": "2025-01-14T04:38:17.479575Z",
     "iopub.status.busy": "2025-01-14T04:38:17.478955Z",
     "iopub.status.idle": "2025-01-14T04:38:18.737081Z",
     "shell.execute_reply": "2025-01-14T04:38:18.735763Z"
    },
    "papermill": {
     "duration": 1.273631,
     "end_time": "2025-01-14T04:38:18.739319",
     "exception": false,
     "start_time": "2025-01-14T04:38:17.465688",
     "status": "completed"
    },
    "tags": []
   },
   "outputs": [],
   "source": [
    "import pandas as pd\n",
    "import numpy as np\n",
    "from sklearn.preprocessing import SplineTransformer\n",
    "\n",
    "\n",
    "def periodic_spline_transformer(period, n_splines=None, degree=3):\n",
    "    if n_splines is None:\n",
    "        n_splines = period\n",
    "    n_knots = n_splines + 1  # periodic and include_bias is True\n",
    "    return SplineTransformer(\n",
    "        degree=degree,\n",
    "        n_knots=n_knots,\n",
    "        knots=np.linspace(0, period, n_knots).reshape(n_knots, 1),\n",
    "        extrapolation=\"periodic\",\n",
    "        include_bias=True,\n",
    "    )\n",
    "\n",
    "# Sample quarterly data\n",
    "# data = {'quarter': [1, 2, 3, 4, 1, 2, 3, 4, 1, 2, 3, 4],\n",
    "#         'value': [10, 15, 12, 18, 11, 16, 13, 19, 12, 17, 14, 20]}\n",
    "# df = pd.DataFrame(data)\n",
    "\n",
    "# # Create periodic spline transformer\n",
    "# qt = periodic_spline_transformer(12, 4)\n",
    "\n",
    "# # Transform the 'quarter' feature\n",
    "# quarter = qt.fit_transform(df_train[['Month']])[:,0]\n",
    "\n",
    "# # Add transformed features to DataFrame\n",
    "# print(quarter)"
   ]
  },
  {
   "cell_type": "code",
   "execution_count": 3,
   "id": "79f5c563",
   "metadata": {
    "execution": {
     "iopub.execute_input": "2025-01-14T04:38:18.767201Z",
     "iopub.status.busy": "2025-01-14T04:38:18.766637Z",
     "iopub.status.idle": "2025-01-14T04:38:31.856763Z",
     "shell.execute_reply": "2025-01-14T04:38:31.855502Z"
    },
    "papermill": {
     "duration": 13.106736,
     "end_time": "2025-01-14T04:38:31.859030",
     "exception": false,
     "start_time": "2025-01-14T04:38:18.752294",
     "status": "completed"
    },
    "tags": []
   },
   "outputs": [
    {
     "name": "stdout",
     "output_type": "stream",
     "text": [
      "Collecting optuna-integration[catboost]\r\n",
      "  Downloading optuna_integration-4.1.0-py3-none-any.whl.metadata (12 kB)\r\n",
      "Requirement already satisfied: optuna in /usr/local/lib/python3.10/dist-packages (from optuna-integration[catboost]) (4.1.0)\r\n",
      "Requirement already satisfied: numpy<2.0.0 in /usr/local/lib/python3.10/dist-packages (from optuna-integration[catboost]) (1.26.4)\r\n",
      "Requirement already satisfied: catboost in /usr/local/lib/python3.10/dist-packages (from optuna-integration[catboost]) (1.2.7)\r\n",
      "Requirement already satisfied: graphviz in /usr/local/lib/python3.10/dist-packages (from catboost->optuna-integration[catboost]) (0.20.3)\r\n",
      "Requirement already satisfied: matplotlib in /usr/local/lib/python3.10/dist-packages (from catboost->optuna-integration[catboost]) (3.7.1)\r\n",
      "Requirement already satisfied: pandas>=0.24 in /usr/local/lib/python3.10/dist-packages (from catboost->optuna-integration[catboost]) (2.1.4)\r\n",
      "Requirement already satisfied: scipy in /usr/local/lib/python3.10/dist-packages (from catboost->optuna-integration[catboost]) (1.13.1)\r\n",
      "Requirement already satisfied: plotly in /usr/local/lib/python3.10/dist-packages (from catboost->optuna-integration[catboost]) (5.24.1)\r\n",
      "Requirement already satisfied: six in /usr/local/lib/python3.10/dist-packages (from catboost->optuna-integration[catboost]) (1.16.0)\r\n",
      "Requirement already satisfied: alembic>=1.5.0 in /usr/local/lib/python3.10/dist-packages (from optuna->optuna-integration[catboost]) (1.14.0)\r\n",
      "Requirement already satisfied: colorlog in /usr/local/lib/python3.10/dist-packages (from optuna->optuna-integration[catboost]) (6.9.0)\r\n",
      "Requirement already satisfied: packaging>=20.0 in /usr/local/lib/python3.10/dist-packages (from optuna->optuna-integration[catboost]) (24.1)\r\n",
      "Requirement already satisfied: sqlalchemy>=1.4.2 in /usr/local/lib/python3.10/dist-packages (from optuna->optuna-integration[catboost]) (2.0.35)\r\n",
      "Requirement already satisfied: tqdm in /usr/local/lib/python3.10/dist-packages (from optuna->optuna-integration[catboost]) (4.66.5)\r\n",
      "Requirement already satisfied: PyYAML in /usr/local/lib/python3.10/dist-packages (from optuna->optuna-integration[catboost]) (6.0.2)\r\n",
      "Requirement already satisfied: Mako in /usr/local/lib/python3.10/dist-packages (from alembic>=1.5.0->optuna->optuna-integration[catboost]) (1.3.8)\r\n",
      "Requirement already satisfied: typing-extensions>=4 in /usr/local/lib/python3.10/dist-packages (from alembic>=1.5.0->optuna->optuna-integration[catboost]) (4.12.2)\r\n",
      "Requirement already satisfied: python-dateutil>=2.8.2 in /usr/local/lib/python3.10/dist-packages (from pandas>=0.24->catboost->optuna-integration[catboost]) (2.8.2)\r\n",
      "Requirement already satisfied: pytz>=2020.1 in /usr/local/lib/python3.10/dist-packages (from pandas>=0.24->catboost->optuna-integration[catboost]) (2024.2)\r\n",
      "Requirement already satisfied: tzdata>=2022.1 in /usr/local/lib/python3.10/dist-packages (from pandas>=0.24->catboost->optuna-integration[catboost]) (2024.1)\r\n",
      "Requirement already satisfied: greenlet!=0.4.17 in /usr/local/lib/python3.10/dist-packages (from sqlalchemy>=1.4.2->optuna->optuna-integration[catboost]) (3.1.0)\r\n",
      "Requirement already satisfied: contourpy>=1.0.1 in /usr/local/lib/python3.10/dist-packages (from matplotlib->catboost->optuna-integration[catboost]) (1.3.0)\r\n",
      "Requirement already satisfied: cycler>=0.10 in /usr/local/lib/python3.10/dist-packages (from matplotlib->catboost->optuna-integration[catboost]) (0.12.1)\r\n",
      "Requirement already satisfied: fonttools>=4.22.0 in /usr/local/lib/python3.10/dist-packages (from matplotlib->catboost->optuna-integration[catboost]) (4.53.1)\r\n",
      "Requirement already satisfied: kiwisolver>=1.0.1 in /usr/local/lib/python3.10/dist-packages (from matplotlib->catboost->optuna-integration[catboost]) (1.4.7)\r\n",
      "Requirement already satisfied: pillow>=6.2.0 in /usr/local/lib/python3.10/dist-packages (from matplotlib->catboost->optuna-integration[catboost]) (10.4.0)\r\n",
      "Requirement already satisfied: pyparsing>=2.3.1 in /usr/local/lib/python3.10/dist-packages (from matplotlib->catboost->optuna-integration[catboost]) (3.1.4)\r\n",
      "Requirement already satisfied: tenacity>=6.2.0 in /usr/local/lib/python3.10/dist-packages (from plotly->catboost->optuna-integration[catboost]) (9.0.0)\r\n",
      "Requirement already satisfied: MarkupSafe>=0.9.2 in /usr/local/lib/python3.10/dist-packages (from Mako->alembic>=1.5.0->optuna->optuna-integration[catboost]) (2.1.5)\r\n",
      "Downloading optuna_integration-4.1.0-py3-none-any.whl (97 kB)\r\n",
      "\u001b[2K   \u001b[90m━━━━━━━━━━━━━━━━━━━━━━━━━━━━━━━━━━━━━━━━\u001b[0m \u001b[32m97.4/97.4 kB\u001b[0m \u001b[31m2.9 MB/s\u001b[0m eta \u001b[36m0:00:00\u001b[0m\r\n",
      "\u001b[?25hInstalling collected packages: optuna-integration\r\n",
      "Successfully installed optuna-integration-4.1.0\r\n",
      "Requirement already satisfied: holidays in /usr/local/lib/python3.10/dist-packages (0.57)\r\n",
      "Collecting holidays\r\n",
      "  Downloading holidays-0.64-py3-none-any.whl.metadata (26 kB)\r\n",
      "Requirement already satisfied: python-dateutil in /usr/local/lib/python3.10/dist-packages (from holidays) (2.8.2)\r\n",
      "Requirement already satisfied: six>=1.5 in /usr/local/lib/python3.10/dist-packages (from python-dateutil->holidays) (1.16.0)\r\n",
      "Downloading holidays-0.64-py3-none-any.whl (1.2 MB)\r\n",
      "\u001b[2K   \u001b[90m━━━━━━━━━━━━━━━━━━━━━━━━━━━━━━━━━━━━━━━━\u001b[0m \u001b[32m1.2/1.2 MB\u001b[0m \u001b[31m19.3 MB/s\u001b[0m eta \u001b[36m0:00:00\u001b[0m\r\n",
      "\u001b[?25hInstalling collected packages: holidays\r\n",
      "  Attempting uninstall: holidays\r\n",
      "    Found existing installation: holidays 0.57\r\n",
      "    Uninstalling holidays-0.57:\r\n",
      "      Successfully uninstalled holidays-0.57\r\n",
      "Successfully installed holidays-0.64\r\n"
     ]
    }
   ],
   "source": [
    "!pip install optuna-integration[catboost]\n",
    "!pip install -U holidays"
   ]
  },
  {
   "cell_type": "code",
   "execution_count": 4,
   "id": "4721d3c2",
   "metadata": {
    "execution": {
     "iopub.execute_input": "2025-01-14T04:38:31.889198Z",
     "iopub.status.busy": "2025-01-14T04:38:31.888790Z",
     "iopub.status.idle": "2025-01-14T04:38:36.715004Z",
     "shell.execute_reply": "2025-01-14T04:38:36.713714Z"
    },
    "papermill": {
     "duration": 4.843022,
     "end_time": "2025-01-14T04:38:36.717005",
     "exception": false,
     "start_time": "2025-01-14T04:38:31.873983",
     "status": "completed"
    },
    "tags": []
   },
   "outputs": [
    {
     "name": "stdout",
     "output_type": "stream",
     "text": [
      "Collecting pycountry\r\n",
      "  Downloading pycountry-24.6.1-py3-none-any.whl.metadata (12 kB)\r\n",
      "Downloading pycountry-24.6.1-py3-none-any.whl (6.3 MB)\r\n",
      "\u001b[2K   \u001b[90m━━━━━━━━━━━━━━━━━━━━━━━━━━━━━━━━━━━━━━━━\u001b[0m \u001b[32m6.3/6.3 MB\u001b[0m \u001b[31m57.2 MB/s\u001b[0m eta \u001b[36m0:00:00\u001b[0m\r\n",
      "\u001b[?25hInstalling collected packages: pycountry\r\n",
      "Successfully installed pycountry-24.6.1\r\n"
     ]
    }
   ],
   "source": [
    "!pip install -U pycountry"
   ]
  },
  {
   "cell_type": "code",
   "execution_count": 5,
   "id": "01818b9e",
   "metadata": {
    "execution": {
     "iopub.execute_input": "2025-01-14T04:38:36.747001Z",
     "iopub.status.busy": "2025-01-14T04:38:36.746634Z",
     "iopub.status.idle": "2025-01-14T04:38:36.811334Z",
     "shell.execute_reply": "2025-01-14T04:38:36.810129Z"
    },
    "papermill": {
     "duration": 0.081915,
     "end_time": "2025-01-14T04:38:36.813447",
     "exception": false,
     "start_time": "2025-01-14T04:38:36.731532",
     "status": "completed"
    },
    "tags": []
   },
   "outputs": [],
   "source": [
    "import statsmodels"
   ]
  },
  {
   "cell_type": "code",
   "execution_count": 6,
   "id": "41b211ce",
   "metadata": {
    "execution": {
     "iopub.execute_input": "2025-01-14T04:38:36.843682Z",
     "iopub.status.busy": "2025-01-14T04:38:36.843330Z",
     "iopub.status.idle": "2025-01-14T04:38:38.283631Z",
     "shell.execute_reply": "2025-01-14T04:38:38.282678Z"
    },
    "papermill": {
     "duration": 1.457556,
     "end_time": "2025-01-14T04:38:38.285686",
     "exception": false,
     "start_time": "2025-01-14T04:38:36.828130",
     "status": "completed"
    },
    "tags": []
   },
   "outputs": [],
   "source": [
    "import pandas as pd\n",
    "import numpy as np\n",
    "import optuna\n",
    "import catboost as cb\n",
    "import matplotlib\n",
    "import seaborn as sns\n",
    "from sklearn.metrics import mean_absolute_percentage_error\n",
    "from sklearn.model_selection import train_test_split\n",
    "from optuna.integration import CatBoostPruningCallback\n",
    "import pycountry \n",
    "import holidays\n",
    "\n",
    "\n"
   ]
  },
  {
   "cell_type": "code",
   "execution_count": 7,
   "id": "8eb587ae",
   "metadata": {
    "execution": {
     "iopub.execute_input": "2025-01-14T04:38:38.315529Z",
     "iopub.status.busy": "2025-01-14T04:38:38.314957Z",
     "iopub.status.idle": "2025-01-14T04:38:38.780215Z",
     "shell.execute_reply": "2025-01-14T04:38:38.779214Z"
    },
    "papermill": {
     "duration": 0.482231,
     "end_time": "2025-01-14T04:38:38.782193",
     "exception": false,
     "start_time": "2025-01-14T04:38:38.299962",
     "status": "completed"
    },
    "tags": []
   },
   "outputs": [],
   "source": [
    "df_train=pd.read_csv('/kaggle/input/playground-series-s5e1/train.csv')\n",
    "df_test=pd.read_csv('/kaggle/input/playground-series-s5e1/test.csv')\n",
    "\n"
   ]
  },
  {
   "cell_type": "code",
   "execution_count": 8,
   "id": "66211d55",
   "metadata": {
    "execution": {
     "iopub.execute_input": "2025-01-14T04:38:38.811320Z",
     "iopub.status.busy": "2025-01-14T04:38:38.810919Z",
     "iopub.status.idle": "2025-01-14T04:38:38.884207Z",
     "shell.execute_reply": "2025-01-14T04:38:38.882732Z"
    },
    "papermill": {
     "duration": 0.08948,
     "end_time": "2025-01-14T04:38:38.885952",
     "exception": false,
     "start_time": "2025-01-14T04:38:38.796472",
     "status": "completed"
    },
    "tags": []
   },
   "outputs": [
    {
     "name": "stdout",
     "output_type": "stream",
     "text": [
      "<class 'pandas.core.frame.DataFrame'>\n",
      "RangeIndex: 230130 entries, 0 to 230129\n",
      "Data columns (total 6 columns):\n",
      " #   Column    Non-Null Count   Dtype  \n",
      "---  ------    --------------   -----  \n",
      " 0   id        230130 non-null  int64  \n",
      " 1   date      230130 non-null  object \n",
      " 2   country   230130 non-null  object \n",
      " 3   store     230130 non-null  object \n",
      " 4   product   230130 non-null  object \n",
      " 5   num_sold  221259 non-null  float64\n",
      "dtypes: float64(1), int64(1), object(4)\n",
      "memory usage: 10.5+ MB\n"
     ]
    }
   ],
   "source": [
    "df_train.info()"
   ]
  },
  {
   "cell_type": "code",
   "execution_count": 9,
   "id": "245c2ed5",
   "metadata": {
    "execution": {
     "iopub.execute_input": "2025-01-14T04:38:38.915193Z",
     "iopub.status.busy": "2025-01-14T04:38:38.914784Z",
     "iopub.status.idle": "2025-01-14T04:38:38.937566Z",
     "shell.execute_reply": "2025-01-14T04:38:38.936452Z"
    },
    "papermill": {
     "duration": 0.039373,
     "end_time": "2025-01-14T04:38:38.939327",
     "exception": false,
     "start_time": "2025-01-14T04:38:38.899954",
     "status": "completed"
    },
    "tags": []
   },
   "outputs": [
    {
     "data": {
      "text/plain": [
       "array(['Discount Stickers', 'Stickers for Less', 'Premium Sticker Mart'],\n",
       "      dtype=object)"
      ]
     },
     "execution_count": 9,
     "metadata": {},
     "output_type": "execute_result"
    }
   ],
   "source": [
    "df_train['store'].unique()"
   ]
  },
  {
   "cell_type": "code",
   "execution_count": 10,
   "id": "d1c882ac",
   "metadata": {
    "execution": {
     "iopub.execute_input": "2025-01-14T04:38:38.968914Z",
     "iopub.status.busy": "2025-01-14T04:38:38.968543Z",
     "iopub.status.idle": "2025-01-14T04:38:38.985574Z",
     "shell.execute_reply": "2025-01-14T04:38:38.984673Z"
    },
    "papermill": {
     "duration": 0.033661,
     "end_time": "2025-01-14T04:38:38.987063",
     "exception": false,
     "start_time": "2025-01-14T04:38:38.953402",
     "status": "completed"
    },
    "tags": []
   },
   "outputs": [
    {
     "data": {
      "text/plain": [
       "array(['Holographic Goose', 'Kaggle', 'Kaggle Tiers', 'Kerneler',\n",
       "       'Kerneler Dark Mode'], dtype=object)"
      ]
     },
     "execution_count": 10,
     "metadata": {},
     "output_type": "execute_result"
    }
   ],
   "source": [
    "df_train['product'].unique()"
   ]
  },
  {
   "cell_type": "code",
   "execution_count": 11,
   "id": "10f1e818",
   "metadata": {
    "execution": {
     "iopub.execute_input": "2025-01-14T04:38:39.016891Z",
     "iopub.status.busy": "2025-01-14T04:38:39.016516Z",
     "iopub.status.idle": "2025-01-14T04:38:40.105287Z",
     "shell.execute_reply": "2025-01-14T04:38:40.104179Z"
    },
    "papermill": {
     "duration": 1.10598,
     "end_time": "2025-01-14T04:38:40.107260",
     "exception": false,
     "start_time": "2025-01-14T04:38:39.001280",
     "status": "completed"
    },
    "tags": []
   },
   "outputs": [
    {
     "data": {
      "image/png": "[encoded data removed]",
      "text/plain": [
       "<Figure size 640x480 with 4 Axes>"
      ]
     },
     "metadata": {},
     "output_type": "display_data"
    }
   ],
   "source": [
    "import pandas as pd\n",
    "import numpy as np\n",
    "from statsmodels.tsa.seasonal import seasonal_decompose\n",
    "import matplotlib.pyplot as plt\n",
    "\n",
    "# Generate synthetic time series data\n",
    "np.random.seed(42)\n",
    "#df_train['date']=pd.to_datetime(df_train['date'])\n",
    "#df_train=df_train.set_index('date')\n",
    "df=df_train['num_sold']\n",
    "\n",
    "#time = pd.date_range(start=df_train['date'].min, end=df_train['date'].max, periods=365, freq='D')\n",
    "#series = 10 + 0.05 * np.arange(100) + np.sin(2 * np.pi * time.dayofyear / 365) + np.random.normal(0, 1, 100)\n",
    "#df = pd.DataFrame({'date': time, 'value': series}).set_index('date')\n",
    "\n",
    "# Decompose time series\n",
    "decomposition = seasonal_decompose(df_train[(df_train['country']=='Singapore') & (df_train['store']=='Discount Stickers')]['num_sold'], model='multiplicative', period=600)  # Set period according to data frequency\n",
    "\n",
    "# Plot components\n",
    "decomposition.plot()\n",
    "plt.show()\n"
   ]
  },
  {
   "cell_type": "code",
   "execution_count": 12,
   "id": "888f59c4",
   "metadata": {
    "execution": {
     "iopub.execute_input": "2025-01-14T04:38:40.138962Z",
     "iopub.status.busy": "2025-01-14T04:38:40.138458Z",
     "iopub.status.idle": "2025-01-14T04:38:41.958654Z",
     "shell.execute_reply": "2025-01-14T04:38:41.955928Z"
    },
    "papermill": {
     "duration": 1.839968,
     "end_time": "2025-01-14T04:38:41.962403",
     "exception": false,
     "start_time": "2025-01-14T04:38:40.122435",
     "status": "completed"
    },
    "tags": []
   },
   "outputs": [
    {
     "name": "stdout",
     "output_type": "stream",
     "text": [
      "ADF Statistic: -6.129147123657372\n",
      "p-value: 8.484833374009022e-08\n",
      "The series is stationary.\n"
     ]
    }
   ],
   "source": [
    "from statsmodels.tsa.stattools import adfuller\n",
    "\n",
    "# Perform ADF test\n",
    "adf_result = adfuller(df_train[(df_train['country']=='Singapore') & (df_train['store']=='Discount Stickers')]['num_sold'])\n",
    "\n",
    "# Print results\n",
    "print(\"ADF Statistic:\", adf_result[0])\n",
    "print(\"p-value:\", adf_result[1])\n",
    "if adf_result[1] < 0.05:\n",
    "    print(\"The series is stationary.\")\n",
    "else:\n",
    "    print(\"The series is not stationary.\")\n"
   ]
  },
  {
   "cell_type": "code",
   "execution_count": 13,
   "id": "1178b77f",
   "metadata": {
    "execution": {
     "iopub.execute_input": "2025-01-14T04:38:42.071777Z",
     "iopub.status.busy": "2025-01-14T04:38:42.071255Z",
     "iopub.status.idle": "2025-01-14T04:38:42.165723Z",
     "shell.execute_reply": "2025-01-14T04:38:42.163132Z"
    },
    "papermill": {
     "duration": 0.124343,
     "end_time": "2025-01-14T04:38:42.169066",
     "exception": false,
     "start_time": "2025-01-14T04:38:42.044723",
     "status": "completed"
    },
    "tags": []
   },
   "outputs": [
    {
     "name": "stdout",
     "output_type": "stream",
     "text": [
      "KPSS Statistic: 0.7976600279714846\n",
      "p-value: 0.01\n",
      "The series is not stationary (has a trend).\n"
     ]
    },
    {
     "name": "stderr",
     "output_type": "stream",
     "text": [
      "<ipython-input-13-b1e5399dac4b>:4: InterpolationWarning: The test statistic is outside of the range of p-values available in the\n",
      "look-up table. The actual p-value is smaller than the p-value returned.\n",
      "\n",
      "  kpss_result = kpss(df_train[(df_train['country']=='Singapore') & (df_train['store']=='Discount Stickers')]['num_sold'], regression='c')\n"
     ]
    }
   ],
   "source": [
    "from statsmodels.tsa.stattools import kpss\n",
    "\n",
    "# Perform KPSS test\n",
    "kpss_result = kpss(df_train[(df_train['country']=='Singapore') & (df_train['store']=='Discount Stickers')]['num_sold'], regression='c')\n",
    "\n",
    "# Print results\n",
    "print(\"KPSS Statistic:\", kpss_result[0])\n",
    "print(\"p-value:\", kpss_result[1])\n",
    "if kpss_result[1] < 0.05:\n",
    "    print(\"The series is not stationary (has a trend).\")\n",
    "else:\n",
    "    print(\"The series is stationary.\")"
   ]
  },
  {
   "cell_type": "code",
   "execution_count": 14,
   "id": "6c76339f",
   "metadata": {
    "execution": {
     "iopub.execute_input": "2025-01-14T04:38:42.299383Z",
     "iopub.status.busy": "2025-01-14T04:38:42.298888Z",
     "iopub.status.idle": "2025-01-14T04:38:42.361121Z",
     "shell.execute_reply": "2025-01-14T04:38:42.359963Z"
    },
    "papermill": {
     "duration": 0.087996,
     "end_time": "2025-01-14T04:38:42.363016",
     "exception": false,
     "start_time": "2025-01-14T04:38:42.275020",
     "status": "completed"
    },
    "tags": []
   },
   "outputs": [
    {
     "name": "stdout",
     "output_type": "stream",
     "text": [
      "<class 'pandas.core.frame.DataFrame'>\n",
      "RangeIndex: 230130 entries, 0 to 230129\n",
      "Data columns (total 6 columns):\n",
      " #   Column    Non-Null Count   Dtype  \n",
      "---  ------    --------------   -----  \n",
      " 0   id        230130 non-null  int64  \n",
      " 1   date      230130 non-null  object \n",
      " 2   country   230130 non-null  object \n",
      " 3   store     230130 non-null  object \n",
      " 4   product   230130 non-null  object \n",
      " 5   num_sold  221259 non-null  float64\n",
      "dtypes: float64(1), int64(1), object(4)\n",
      "memory usage: 10.5+ MB\n"
     ]
    }
   ],
   "source": [
    "df_train.info()"
   ]
  },
  {
   "cell_type": "code",
   "execution_count": 15,
   "id": "9cc6bf4c",
   "metadata": {
    "execution": {
     "iopub.execute_input": "2025-01-14T04:38:42.395184Z",
     "iopub.status.busy": "2025-01-14T04:38:42.394758Z",
     "iopub.status.idle": "2025-01-14T04:38:45.875177Z",
     "shell.execute_reply": "2025-01-14T04:38:45.874026Z"
    },
    "papermill": {
     "duration": 3.501384,
     "end_time": "2025-01-14T04:38:45.879791",
     "exception": false,
     "start_time": "2025-01-14T04:38:42.378407",
     "status": "completed"
    },
    "tags": []
   },
   "outputs": [
    {
     "data": {
      "image/png": "[encoded data removed]",
      "text/plain": [
       "<Figure size 1200x800 with 6 Axes>"
      ]
     },
     "metadata": {},
     "output_type": "display_data"
    }
   ],
   "source": [
    "# Plot showing timeseries attributes: trend, seasonality \n",
    "\n",
    "# Create subplots: 2 rows, 3 columns\n",
    "fig, axes = plt.subplots(2, 3, figsize=(12, 8))\n",
    "\n",
    "# Flatten the axes array for easy iteration\n",
    "axes = axes.flatten()\n",
    "countrylist=df_train['country'].unique().tolist()\n",
    "# Loop through each subplot and plot\n",
    "for i, ax in enumerate(axes):\n",
    "    df=df_train[(df_train['country']==countrylist[i]) & (df_train['store']=='Discount Stickers')][['date','num_sold']]\n",
    "    df.dropna(inplace=True)\n",
    "    df.set_index('date',inplace=True)\n",
    "    df['rolling_mean'] = df['num_sold'].rolling(window=30).mean()\n",
    "    df['rolling_std'] = df['num_sold'].rolling(window=30).std()\n",
    "    df[['num_sold', 'rolling_mean', 'rolling_std']].plot(ax=ax,title=f'{countrylist[i]} Rolling Mean and Std Dev')\n",
    "\n",
    "plt.tight_layout()\n",
    "\n",
    "# Show the plot\n",
    "plt.show()\n",
    "    "
   ]
  },
  {
   "cell_type": "code",
   "execution_count": 16,
   "id": "6db6e111",
   "metadata": {
    "execution": {
     "iopub.execute_input": "2025-01-14T04:38:45.921989Z",
     "iopub.status.busy": "2025-01-14T04:38:45.921591Z",
     "iopub.status.idle": "2025-01-14T04:38:46.008430Z",
     "shell.execute_reply": "2025-01-14T04:38:46.007231Z"
    },
    "papermill": {
     "duration": 0.109548,
     "end_time": "2025-01-14T04:38:46.010337",
     "exception": false,
     "start_time": "2025-01-14T04:38:45.900789",
     "status": "completed"
    },
    "tags": []
   },
   "outputs": [
    {
     "data": {
      "text/plain": [
       "<bound method Series.max of 46        20.0\n",
       "47        16.0\n",
       "48         8.0\n",
       "49         9.0\n",
       "50         5.0\n",
       "          ... \n",
       "230095    10.0\n",
       "230096    72.0\n",
       "230097    58.0\n",
       "230098    33.0\n",
       "230099    42.0\n",
       "Name: num_sold, Length: 33730, dtype: float64>"
      ]
     },
     "execution_count": 16,
     "metadata": {},
     "output_type": "execute_result"
    }
   ],
   "source": [
    "test=df_train.dropna()\n",
    "test[test['country']=='Kenya']['num_sold'].max"
   ]
  },
  {
   "cell_type": "code",
   "execution_count": 17,
   "id": "1f20034d",
   "metadata": {
    "execution": {
     "iopub.execute_input": "2025-01-14T04:38:46.053208Z",
     "iopub.status.busy": "2025-01-14T04:38:46.052809Z",
     "iopub.status.idle": "2025-01-14T04:38:46.058223Z",
     "shell.execute_reply": "2025-01-14T04:38:46.057136Z"
    },
    "papermill": {
     "duration": 0.029628,
     "end_time": "2025-01-14T04:38:46.060149",
     "exception": false,
     "start_time": "2025-01-14T04:38:46.030521",
     "status": "completed"
    },
    "tags": []
   },
   "outputs": [],
   "source": [
    "\n",
    "\n",
    "def get_alpha2_code(country_name):\n",
    "  \"\"\"\n",
    "  Gets the ISO 3166-1 Alpha-2 country code for the given country name.\n",
    "\n",
    "  Args:\n",
    "    country_name: The name of the country.\n",
    "\n",
    "  Returns:\n",
    "    The ISO 3166-1 Alpha-2 country code, or None if the country is not found.\n",
    "  \"\"\"\n",
    "  try:\n",
    "    country = pycountry.countries.search_fuzzy(country_name)[0]\n",
    "    return country.alpha_2\n",
    "  except LookupError:\n",
    "    return None\n",
    "\n"
   ]
  },
  {
   "cell_type": "code",
   "execution_count": 18,
   "id": "1d0b0770",
   "metadata": {
    "execution": {
     "iopub.execute_input": "2025-01-14T04:38:46.102600Z",
     "iopub.status.busy": "2025-01-14T04:38:46.102233Z",
     "iopub.status.idle": "2025-01-14T04:38:46.107420Z",
     "shell.execute_reply": "2025-01-14T04:38:46.106313Z"
    },
    "papermill": {
     "duration": 0.02835,
     "end_time": "2025-01-14T04:38:46.109312",
     "exception": false,
     "start_time": "2025-01-14T04:38:46.080962",
     "status": "completed"
    },
    "tags": []
   },
   "outputs": [],
   "source": [
    "# Function to create holiday sets for each country\n",
    "def generate_country_holidays(countries, start_year, end_year):\n",
    "    country_holidays = {}\n",
    "    for country in countries:\n",
    "        # Generate a holiday set for the range of years\n",
    "        country_holidays[country] = holidays.CountryHoliday(country, years=range(start_year, end_year + 1)) \n",
    "    return country_holidays\n"
   ]
  },
  {
   "cell_type": "code",
   "execution_count": 19,
   "id": "a327e605",
   "metadata": {
    "execution": {
     "iopub.execute_input": "2025-01-14T04:38:46.152539Z",
     "iopub.status.busy": "2025-01-14T04:38:46.152139Z",
     "iopub.status.idle": "2025-01-14T04:38:49.550267Z",
     "shell.execute_reply": "2025-01-14T04:38:49.548812Z"
    },
    "papermill": {
     "duration": 3.422346,
     "end_time": "2025-01-14T04:38:49.552628",
     "exception": false,
     "start_time": "2025-01-14T04:38:46.130282",
     "status": "completed"
    },
    "tags": []
   },
   "outputs": [],
   "source": [
    "df_train['Day']=pd.to_datetime(df_train['date']).dt.strftime(\"%d\")\n",
    "df_train['Month']=pd.to_datetime(df_train['date']).dt.strftime(\"%m\")\n",
    "df_train['Year']=pd.to_datetime(df_train['date']).dt.strftime(\"%Y\")\n",
    "df_train['Day_of_week']=pd.to_datetime(df_train['date']).dt.dayofweek\n",
    "df_train['Week_No']=pd.to_datetime(df_train['date']).dt.isocalendar().week\n",
    "df_train['is_weekend']=(df_train['Day_of_week']>=5).astype(int)\n",
    "df_train['Quarter_Discrete'] = (df_train['Month'].astype(int) - 1) // 3 + 1\n",
    "df_train['Quarter_Spline']=periodic_spline_transformer(12,4).fit_transform(df_train[['Month']])[:,0]\n"
   ]
  },
  {
   "cell_type": "code",
   "execution_count": 20,
   "id": "8aa78e71",
   "metadata": {
    "execution": {
     "iopub.execute_input": "2025-01-14T04:38:49.594513Z",
     "iopub.status.busy": "2025-01-14T04:38:49.594101Z",
     "iopub.status.idle": "2025-01-14T04:38:49.601864Z",
     "shell.execute_reply": "2025-01-14T04:38:49.600686Z"
    },
    "papermill": {
     "duration": 0.030329,
     "end_time": "2025-01-14T04:38:49.603507",
     "exception": false,
     "start_time": "2025-01-14T04:38:49.573178",
     "status": "completed"
    },
    "tags": []
   },
   "outputs": [
    {
     "data": {
      "text/plain": [
       "0         0.049383\n",
       "1         0.049383\n",
       "2         0.049383\n",
       "3         0.049383\n",
       "4         0.049383\n",
       "            ...   \n",
       "230125    0.166667\n",
       "230126    0.166667\n",
       "230127    0.166667\n",
       "230128    0.166667\n",
       "230129    0.166667\n",
       "Name: Quarter_Spline, Length: 230130, dtype: float64"
      ]
     },
     "execution_count": 20,
     "metadata": {},
     "output_type": "execute_result"
    }
   ],
   "source": [
    "df_train['Quarter_Spline']"
   ]
  },
  {
   "cell_type": "code",
   "execution_count": 21,
   "id": "bf00083d",
   "metadata": {
    "execution": {
     "iopub.execute_input": "2025-01-14T04:38:49.646250Z",
     "iopub.status.busy": "2025-01-14T04:38:49.645782Z",
     "iopub.status.idle": "2025-01-14T04:38:49.651569Z",
     "shell.execute_reply": "2025-01-14T04:38:49.650011Z"
    },
    "papermill": {
     "duration": 0.029191,
     "end_time": "2025-01-14T04:38:49.653424",
     "exception": false,
     "start_time": "2025-01-14T04:38:49.624233",
     "status": "completed"
    },
    "tags": []
   },
   "outputs": [],
   "source": [
    "def consecutive_days_visited(df):\n",
    "    \"\"\"\n",
    "    Calculates the number of consecutive days a store was visited.\n",
    "\n",
    "    Args:\n",
    "        df: pandas DataFrame with columns 'date', 'country', 'store'\n",
    "\n",
    "    Returns:\n",
    "        pandas DataFrame with an additional column 'consecutive_days' \n",
    "    \"\"\"\n",
    "\n",
    "    # Ensure date index is sorted\n",
    "    df = df.sort_index()\n",
    "\n",
    "    # Group by 'country' and 'store'\n",
    "    grouped = df.groupby(['country', 'store'])\n",
    "\n",
    "    # Calculate consecutive days within each group\n",
    "    df['consecutive_days'] = (grouped.indices - grouped.indices.min()).dt.days + 1\n",
    "\n",
    "    return df\n"
   ]
  },
  {
   "cell_type": "code",
   "execution_count": 22,
   "id": "bee4391a",
   "metadata": {
    "execution": {
     "iopub.execute_input": "2025-01-14T04:38:49.696158Z",
     "iopub.status.busy": "2025-01-14T04:38:49.695742Z",
     "iopub.status.idle": "2025-01-14T04:38:49.876302Z",
     "shell.execute_reply": "2025-01-14T04:38:49.874554Z"
    },
    "papermill": {
     "duration": 0.203945,
     "end_time": "2025-01-14T04:38:49.878353",
     "exception": false,
     "start_time": "2025-01-14T04:38:49.674408",
     "status": "completed"
    },
    "tags": []
   },
   "outputs": [
    {
     "name": "stdout",
     "output_type": "stream",
     "text": [
      "['CA', 'FI', 'IT', 'KE', 'NO', 'SG']\n"
     ]
    }
   ],
   "source": [
    "allcountries=df_train['country'].unique()\n",
    "countrycodes = list(map(lambda x:get_alpha2_code(x),allcountries)) \n",
    "unique_countries = [cc for cc in countrycodes if cc is not None]\n",
    "print(countrycodes)"
   ]
  },
  {
   "cell_type": "code",
   "execution_count": 23,
   "id": "d3de33fd",
   "metadata": {
    "execution": {
     "iopub.execute_input": "2025-01-14T04:38:49.920653Z",
     "iopub.status.busy": "2025-01-14T04:38:49.920284Z",
     "iopub.status.idle": "2025-01-14T04:38:50.023517Z",
     "shell.execute_reply": "2025-01-14T04:38:50.022184Z"
    },
    "papermill": {
     "duration": 0.126402,
     "end_time": "2025-01-14T04:38:50.025422",
     "exception": false,
     "start_time": "2025-01-14T04:38:49.899020",
     "status": "completed"
    },
    "tags": []
   },
   "outputs": [],
   "source": [
    "df_train['store']=df_train['store'].astype('category')\n",
    "df_train['country']=df_train['country'].astype('category')\n",
    "df_train['product']=df_train['product'].astype('category')\n",
    "df_train['Day']=df_train['Day'].astype('category')\n",
    "df_train['Month']=df_train['Month'].astype('category')\n",
    "df_train['Year']=df_train['Year'].astype('category')\n",
    "df_train['Day_of_week']=df_train['Day_of_week'].astype('category')\n"
   ]
  },
  {
   "cell_type": "code",
   "execution_count": 24,
   "id": "9ecf2872",
   "metadata": {
    "execution": {
     "iopub.execute_input": "2025-01-14T04:38:50.067903Z",
     "iopub.status.busy": "2025-01-14T04:38:50.067547Z",
     "iopub.status.idle": "2025-01-14T04:38:51.539786Z",
     "shell.execute_reply": "2025-01-14T04:38:51.538367Z"
    },
    "papermill": {
     "duration": 1.496472,
     "end_time": "2025-01-14T04:38:51.542614",
     "exception": false,
     "start_time": "2025-01-14T04:38:50.046142",
     "status": "completed"
    },
    "tags": []
   },
   "outputs": [],
   "source": [
    "df_test['Day']=pd.to_datetime(df_test['date']).dt.strftime(\"%d\")\n",
    "df_test['Month']=pd.to_datetime(df_test['date']).dt.strftime(\"%m\")\n",
    "df_test['Year']=pd.to_datetime(df_test['date']).dt.strftime(\"%Y\")\n",
    "df_test['Day_of_week']=pd.to_datetime(df_test['date']).dt.dayofweek\n",
    "df_test['Week_No']=pd.to_datetime(df_test['date']).dt.isocalendar().week\n",
    "df_test['is_weekend']=(df_test['Day_of_week']>=5).astype(int)\n",
    "df_test['Quarter_Discrete'] = (df_test['Month'].astype(int) - 1) // 3 + 1\n",
    "df_test['Quarter_Spline']=periodic_spline_transformer(12,4).fit_transform(df_test[['Month']])[:,0]\n"
   ]
  },
  {
   "cell_type": "code",
   "execution_count": 25,
   "id": "11ffe3db",
   "metadata": {
    "execution": {
     "iopub.execute_input": "2025-01-14T04:38:51.585923Z",
     "iopub.status.busy": "2025-01-14T04:38:51.585539Z",
     "iopub.status.idle": "2025-01-14T04:38:51.637374Z",
     "shell.execute_reply": "2025-01-14T04:38:51.636234Z"
    },
    "papermill": {
     "duration": 0.075821,
     "end_time": "2025-01-14T04:38:51.639504",
     "exception": false,
     "start_time": "2025-01-14T04:38:51.563683",
     "status": "completed"
    },
    "tags": []
   },
   "outputs": [],
   "source": [
    "df_test['store']=df_test['store'].astype('category')\n",
    "df_test['country']=df_test['country'].astype('category')\n",
    "df_test['product']=df_test['product'].astype('category')\n",
    "df_test['Day']=df_test['Day'].astype('category')\n",
    "df_test['Month']=df_test['Month'].astype('category')\n",
    "df_test['Year']=df_test['Year'].astype('category')\n",
    "df_test['Day_of_week']=df_test['Day_of_week'].astype('category')\n"
   ]
  },
  {
   "cell_type": "code",
   "execution_count": 26,
   "id": "5382ef03",
   "metadata": {
    "execution": {
     "iopub.execute_input": "2025-01-14T04:38:51.683239Z",
     "iopub.status.busy": "2025-01-14T04:38:51.682846Z",
     "iopub.status.idle": "2025-01-14T04:38:51.727051Z",
     "shell.execute_reply": "2025-01-14T04:38:51.725953Z"
    },
    "papermill": {
     "duration": 0.068236,
     "end_time": "2025-01-14T04:38:51.728990",
     "exception": false,
     "start_time": "2025-01-14T04:38:51.660754",
     "status": "completed"
    },
    "tags": []
   },
   "outputs": [],
   "source": [
    "df_train['date']=pd.to_datetime(df_train['date'])\n",
    "df_test['date']=pd.to_datetime(df_test['date'])"
   ]
  },
  {
   "cell_type": "code",
   "execution_count": 27,
   "id": "96e208d4",
   "metadata": {
    "execution": {
     "iopub.execute_input": "2025-01-14T04:38:51.772713Z",
     "iopub.status.busy": "2025-01-14T04:38:51.772332Z",
     "iopub.status.idle": "2025-01-14T04:38:51.809736Z",
     "shell.execute_reply": "2025-01-14T04:38:51.808618Z"
    },
    "papermill": {
     "duration": 0.061692,
     "end_time": "2025-01-14T04:38:51.811528",
     "exception": false,
     "start_time": "2025-01-14T04:38:51.749836",
     "status": "completed"
    },
    "tags": []
   },
   "outputs": [
    {
     "name": "stderr",
     "output_type": "stream",
     "text": [
      "<ipython-input-27-a9a4f327ce0c>:1: FutureWarning: The default of observed=False is deprecated and will be changed to True in a future version of pandas. Pass observed=False to retain current behavior or observed=True to adopt the future default and silence this warning.\n",
      "  df_train['previous_visit']=df_train.reset_index().groupby(by=['country','store'])[['date']].diff()\n"
     ]
    }
   ],
   "source": [
    "df_train['previous_visit']=df_train.reset_index().groupby(by=['country','store'])[['date']].diff()"
   ]
  },
  {
   "cell_type": "code",
   "execution_count": 28,
   "id": "0e0ee5f6",
   "metadata": {
    "execution": {
     "iopub.execute_input": "2025-01-14T04:38:51.853834Z",
     "iopub.status.busy": "2025-01-14T04:38:51.853474Z",
     "iopub.status.idle": "2025-01-14T04:38:51.871741Z",
     "shell.execute_reply": "2025-01-14T04:38:51.870634Z"
    },
    "papermill": {
     "duration": 0.041498,
     "end_time": "2025-01-14T04:38:51.873576",
     "exception": false,
     "start_time": "2025-01-14T04:38:51.832078",
     "status": "completed"
    },
    "tags": []
   },
   "outputs": [
    {
     "name": "stderr",
     "output_type": "stream",
     "text": [
      "<ipython-input-28-9b789beb13f0>:1: FutureWarning: The default of observed=False is deprecated and will be changed to True in a future version of pandas. Pass observed=False to retain current behavior or observed=True to adopt the future default and silence this warning.\n",
      "  df_train['consec_days']=df_train.groupby(by=['country','store'])[['previous_visit']].cumsum()\n"
     ]
    }
   ],
   "source": [
    "df_train['consec_days']=df_train.groupby(by=['country','store'])[['previous_visit']].cumsum()"
   ]
  },
  {
   "cell_type": "code",
   "execution_count": 29,
   "id": "1db88b19",
   "metadata": {
    "execution": {
     "iopub.execute_input": "2025-01-14T04:38:51.915810Z",
     "iopub.status.busy": "2025-01-14T04:38:51.915388Z",
     "iopub.status.idle": "2025-01-14T04:38:51.938955Z",
     "shell.execute_reply": "2025-01-14T04:38:51.937789Z"
    },
    "papermill": {
     "duration": 0.046987,
     "end_time": "2025-01-14T04:38:51.940955",
     "exception": false,
     "start_time": "2025-01-14T04:38:51.893968",
     "status": "completed"
    },
    "tags": []
   },
   "outputs": [
    {
     "name": "stderr",
     "output_type": "stream",
     "text": [
      "<ipython-input-29-b64440241ea2>:1: FutureWarning: The default of observed=False is deprecated and will be changed to True in a future version of pandas. Pass observed=False to retain current behavior or observed=True to adopt the future default and silence this warning.\n",
      "  df_test['previous_visit']=df_test.reset_index().groupby(by=['country','store'])[['date']].diff()\n",
      "<ipython-input-29-b64440241ea2>:2: FutureWarning: The default of observed=False is deprecated and will be changed to True in a future version of pandas. Pass observed=False to retain current behavior or observed=True to adopt the future default and silence this warning.\n",
      "  df_test['consec_days']=df_test.groupby(by=['country','store'])[['previous_visit']].cumsum()\n"
     ]
    }
   ],
   "source": [
    "df_test['previous_visit']=df_test.reset_index().groupby(by=['country','store'])[['date']].diff()\n",
    "df_test['consec_days']=df_test.groupby(by=['country','store'])[['previous_visit']].cumsum()"
   ]
  },
  {
   "cell_type": "code",
   "execution_count": 30,
   "id": "f9464db0",
   "metadata": {
    "execution": {
     "iopub.execute_input": "2025-01-14T04:38:51.983371Z",
     "iopub.status.busy": "2025-01-14T04:38:51.982944Z",
     "iopub.status.idle": "2025-01-14T04:38:52.043331Z",
     "shell.execute_reply": "2025-01-14T04:38:52.042154Z"
    },
    "papermill": {
     "duration": 0.084107,
     "end_time": "2025-01-14T04:38:52.045503",
     "exception": false,
     "start_time": "2025-01-14T04:38:51.961396",
     "status": "completed"
    },
    "tags": []
   },
   "outputs": [],
   "source": [
    "df_train.set_index('date',inplace=True)\n",
    "Startmin=df_train.index.min()\n",
    "df_train['days_since_start'] = (df_train.index - Startmin).days\n",
    "\n",
    "# Add cycle hints based on time \n",
    "df_train['sin_year'] = np.sin(2 * np.pi * df_train['days_since_start'] / 365)\n",
    "df_train['cos_year'] = np.cos(2 * np.pi * df_train['days_since_start'] / 365)\n",
    "df_train['sin_month'] = np.sin(2 * np.pi * df_train['days_since_start'] / 30)\n",
    "df_train['cos_month'] = np.cos(2 * np.pi * df_train['days_since_start'] / 30)\n",
    "\n",
    "df_test.set_index('date',inplace=True)\n",
    "df_test['days_since_start'] = (df_test.index - Startmin).days\n",
    "\n",
    "# Add cycle hints based on time \n",
    "df_test['sin_year'] = np.sin(2 * np.pi * df_test['days_since_start'] / 365)\n",
    "df_test['cos_year'] = np.cos(2 * np.pi * df_test['days_since_start'] / 365)\n",
    "df_test['sin_month'] = np.sin(2 * np.pi * df_test['days_since_start'] / 30)\n",
    "df_test['cos_month'] = np.cos(2 * np.pi * df_test['days_since_start'] / 30)\n",
    "\n",
    "df_train.reset_index(inplace=True)\n",
    "df_test.reset_index(inplace=True)"
   ]
  },
  {
   "cell_type": "code",
   "execution_count": 31,
   "id": "e6f7942d",
   "metadata": {
    "execution": {
     "iopub.execute_input": "2025-01-14T04:38:52.089626Z",
     "iopub.status.busy": "2025-01-14T04:38:52.089199Z",
     "iopub.status.idle": "2025-01-14T04:38:52.124600Z",
     "shell.execute_reply": "2025-01-14T04:38:52.123232Z"
    },
    "papermill": {
     "duration": 0.059935,
     "end_time": "2025-01-14T04:38:52.126491",
     "exception": false,
     "start_time": "2025-01-14T04:38:52.066556",
     "status": "completed"
    },
    "tags": []
   },
   "outputs": [
    {
     "name": "stdout",
     "output_type": "stream",
     "text": [
      "<class 'pandas.core.frame.DataFrame'>\n",
      "RangeIndex: 230130 entries, 0 to 230129\n",
      "Data columns (total 21 columns):\n",
      " #   Column            Non-Null Count   Dtype          \n",
      "---  ------            --------------   -----          \n",
      " 0   date              230130 non-null  datetime64[ns] \n",
      " 1   id                230130 non-null  int64          \n",
      " 2   country           230130 non-null  category       \n",
      " 3   store             230130 non-null  category       \n",
      " 4   product           230130 non-null  category       \n",
      " 5   num_sold          221259 non-null  float64        \n",
      " 6   Day               230130 non-null  category       \n",
      " 7   Month             230130 non-null  category       \n",
      " 8   Year              230130 non-null  category       \n",
      " 9   Day_of_week       230130 non-null  category       \n",
      " 10  Week_No           230130 non-null  UInt32         \n",
      " 11  is_weekend        230130 non-null  int64          \n",
      " 12  Quarter_Discrete  230130 non-null  int64          \n",
      " 13  Quarter_Spline    230130 non-null  float64        \n",
      " 14  previous_visit    230112 non-null  timedelta64[ns]\n",
      " 15  consec_days       230112 non-null  timedelta64[ns]\n",
      " 16  days_since_start  230130 non-null  int64          \n",
      " 17  sin_year          230130 non-null  float64        \n",
      " 18  cos_year          230130 non-null  float64        \n",
      " 19  sin_month         230130 non-null  float64        \n",
      " 20  cos_month         230130 non-null  float64        \n",
      "dtypes: UInt32(1), category(7), datetime64[ns](1), float64(6), int64(4), timedelta64[ns](2)\n",
      "memory usage: 25.5 MB\n"
     ]
    }
   ],
   "source": [
    "df_train.info()"
   ]
  },
  {
   "cell_type": "code",
   "execution_count": 32,
   "id": "875419a1",
   "metadata": {
    "execution": {
     "iopub.execute_input": "2025-01-14T04:38:52.172766Z",
     "iopub.status.busy": "2025-01-14T04:38:52.172344Z",
     "iopub.status.idle": "2025-01-14T04:38:52.189131Z",
     "shell.execute_reply": "2025-01-14T04:38:52.187990Z"
    },
    "papermill": {
     "duration": 0.042359,
     "end_time": "2025-01-14T04:38:52.191173",
     "exception": false,
     "start_time": "2025-01-14T04:38:52.148814",
     "status": "completed"
    },
    "tags": []
   },
   "outputs": [
    {
     "data": {
      "text/plain": [
       "<bound method Series.max of 150         1 days\n",
       "240         2 days\n",
       "330         3 days\n",
       "420         4 days\n",
       "510         5 days\n",
       "            ...   \n",
       "229740   2552 days\n",
       "229830   2553 days\n",
       "229920   2554 days\n",
       "230010   2555 days\n",
       "230100   2556 days\n",
       "Name: consec_days, Length: 2556, dtype: timedelta64[ns]>"
      ]
     },
     "execution_count": 32,
     "metadata": {},
     "output_type": "execute_result"
    }
   ],
   "source": [
    "df_train[(df_train['country']=='Norway') & (df_train['store']=='Discount Stickers') & (df_train['previous_visit'].astype('int')>0)].consec_days.max"
   ]
  },
  {
   "cell_type": "code",
   "execution_count": 33,
   "id": "62670df5",
   "metadata": {
    "execution": {
     "iopub.execute_input": "2025-01-14T04:38:52.234098Z",
     "iopub.status.busy": "2025-01-14T04:38:52.233667Z",
     "iopub.status.idle": "2025-01-14T04:38:52.509947Z",
     "shell.execute_reply": "2025-01-14T04:38:52.508872Z"
    },
    "papermill": {
     "duration": 0.299735,
     "end_time": "2025-01-14T04:38:52.511853",
     "exception": false,
     "start_time": "2025-01-14T04:38:52.212118",
     "status": "completed"
    },
    "tags": []
   },
   "outputs": [],
   "source": [
    "#Get country\n",
    "\n",
    "#Get holidays for each country\n",
    "#allcountries.append(\"weirdcountry\")\n",
    "country_holidays={}\n",
    "\n",
    "#df_train['date']=pd.to_datetime(df_train['date'])\n",
    "start_year = df_train['date'].dt.year.min()\n",
    "end_year = df_train['date'].dt.year.max()\n",
    "\n",
    "country_holidays = generate_country_holidays(unique_countries, start_year, end_year)\n",
    "holiday_df = pd.DataFrame([\n",
    "    {'date': date, 'country_code': country, 'country': cname}\n",
    "    for country in unique_countries\n",
    "    for date in country_holidays[country]\n",
    "    for cname in [pycountry.countries.get(alpha_2=cc).name for cc in unique_countries]]\n",
    ")\n",
    "holiday_df['is_holiday'] = 1\n",
    "holiday_df['date']=pd.to_datetime(holiday_df['date'])\n",
    "holiday_df.drop('country_code',axis=1,inplace=True)\n",
    "\n",
    "df_train = df_train.merge(holiday_df, on=['date', 'country'], how='left').fillna({'is_holiday': 0})"
   ]
  },
  {
   "cell_type": "code",
   "execution_count": 34,
   "id": "855fd155",
   "metadata": {
    "execution": {
     "iopub.execute_input": "2025-01-14T04:38:52.556903Z",
     "iopub.status.busy": "2025-01-14T04:38:52.556546Z",
     "iopub.status.idle": "2025-01-14T04:38:52.634289Z",
     "shell.execute_reply": "2025-01-14T04:38:52.633300Z"
    },
    "papermill": {
     "duration": 0.103374,
     "end_time": "2025-01-14T04:38:52.636164",
     "exception": false,
     "start_time": "2025-01-14T04:38:52.532790",
     "status": "completed"
    },
    "tags": []
   },
   "outputs": [],
   "source": [
    "start_year = df_test['date'].dt.year.min()\n",
    "end_year = df_test['date'].dt.year.max()\n",
    "#unique_countries = [cc for cc in countrycodes if cc is not None]\n",
    "country_holidays = generate_country_holidays(unique_countries, start_year, end_year)\n",
    "\n",
    "holiday_df = pd.DataFrame([\n",
    "    {'date': date, 'country_code': country, 'country': cname}\n",
    "    for country in unique_countries\n",
    "    for date in country_holidays[country]\n",
    "    for cname in [pycountry.countries.get(alpha_2=cc).name for cc in unique_countries]]\n",
    ")\n",
    "holiday_df['is_holiday']=1\n",
    "holiday_df['date']=pd.to_datetime(holiday_df['date'])\n",
    "holiday_df.drop('country_code',axis=1,inplace=True)\n",
    "\n",
    "df_test = df_test.merge(holiday_df, on=['date', 'country'], how='left').fillna({'is_holiday': 0})\n"
   ]
  },
  {
   "cell_type": "code",
   "execution_count": 35,
   "id": "d8a461d9",
   "metadata": {
    "execution": {
     "iopub.execute_input": "2025-01-14T04:38:52.679106Z",
     "iopub.status.busy": "2025-01-14T04:38:52.678733Z",
     "iopub.status.idle": "2025-01-14T04:38:52.687510Z",
     "shell.execute_reply": "2025-01-14T04:38:52.686621Z"
    },
    "papermill": {
     "duration": 0.032035,
     "end_time": "2025-01-14T04:38:52.688919",
     "exception": false,
     "start_time": "2025-01-14T04:38:52.656884",
     "status": "completed"
    },
    "tags": []
   },
   "outputs": [
    {
     "data": {
      "text/plain": [
       "is_holiday\n",
       "0    88290\n",
       "1    18270\n",
       "Name: count, dtype: int64"
      ]
     },
     "execution_count": 35,
     "metadata": {},
     "output_type": "execute_result"
    }
   ],
   "source": [
    "df_test['is_holiday']=df_test['is_holiday'].astype(int)\n",
    "df_test['is_holiday'].value_counts()"
   ]
  },
  {
   "cell_type": "code",
   "execution_count": 36,
   "id": "532aa403",
   "metadata": {
    "execution": {
     "iopub.execute_input": "2025-01-14T04:38:52.731836Z",
     "iopub.status.busy": "2025-01-14T04:38:52.731363Z",
     "iopub.status.idle": "2025-01-14T04:38:52.736934Z",
     "shell.execute_reply": "2025-01-14T04:38:52.735963Z"
    },
    "papermill": {
     "duration": 0.02917,
     "end_time": "2025-01-14T04:38:52.738811",
     "exception": false,
     "start_time": "2025-01-14T04:38:52.709641",
     "status": "completed"
    },
    "tags": []
   },
   "outputs": [],
   "source": [
    "df_train.set_index('date',inplace=True)\n",
    "#df_test.set_index('date',inplace=True)"
   ]
  },
  {
   "cell_type": "code",
   "execution_count": 37,
   "id": "e4af383c",
   "metadata": {
    "execution": {
     "iopub.execute_input": "2025-01-14T04:38:52.782795Z",
     "iopub.status.busy": "2025-01-14T04:38:52.782420Z",
     "iopub.status.idle": "2025-01-14T04:38:52.786558Z",
     "shell.execute_reply": "2025-01-14T04:38:52.785561Z"
    },
    "papermill": {
     "duration": 0.028213,
     "end_time": "2025-01-14T04:38:52.788084",
     "exception": false,
     "start_time": "2025-01-14T04:38:52.759871",
     "status": "completed"
    },
    "tags": []
   },
   "outputs": [],
   "source": [
    "#Graph for intrpolate is changing too much\n",
    "#Not interpolate but just drop Na is better\n",
    "#Interpolate missing num_sold\n",
    "\n",
    "#df_train['date']=pd.to_datetime(df_train['date'])\n",
    "#df = df_train.set_index('date')\n",
    "\n",
    "# df_train = df_train.sort_values(by=['country', 'store', 'product', 'date'])\n",
    "\n",
    "# # Impute NaN with interpolation (grouped by Country, Store, and Product)\n",
    "# df_train['num_sold'] = df_train.groupby(['country', 'store', 'product'])['num_sold'].transform(\n",
    "#     lambda group: group.interpolate(method='linear',limit=None,limit_direction='both').ffill().bfill()\n",
    "# )\n",
    "#df['num_sold'].isna().any()"
   ]
  },
  {
   "cell_type": "code",
   "execution_count": 38,
   "id": "ef2b8200",
   "metadata": {
    "execution": {
     "iopub.execute_input": "2025-01-14T04:38:52.830531Z",
     "iopub.status.busy": "2025-01-14T04:38:52.830175Z",
     "iopub.status.idle": "2025-01-14T04:38:52.834184Z",
     "shell.execute_reply": "2025-01-14T04:38:52.833160Z"
    },
    "papermill": {
     "duration": 0.027123,
     "end_time": "2025-01-14T04:38:52.835930",
     "exception": false,
     "start_time": "2025-01-14T04:38:52.808807",
     "status": "completed"
    },
    "tags": []
   },
   "outputs": [],
   "source": [
    "#condition = (df.num_sold.notna()) & (df['country']=='Canada') & (df['store']=='Discount Stickers') & (df['product']=='Holographic Goose')\n",
    "#df[condition]\n"
   ]
  },
  {
   "cell_type": "code",
   "execution_count": 39,
   "id": "4952330a",
   "metadata": {
    "execution": {
     "iopub.execute_input": "2025-01-14T04:38:52.878703Z",
     "iopub.status.busy": "2025-01-14T04:38:52.878345Z",
     "iopub.status.idle": "2025-01-14T04:38:52.882106Z",
     "shell.execute_reply": "2025-01-14T04:38:52.881182Z"
    },
    "papermill": {
     "duration": 0.026994,
     "end_time": "2025-01-14T04:38:52.883640",
     "exception": false,
     "start_time": "2025-01-14T04:38:52.856646",
     "status": "completed"
    },
    "tags": []
   },
   "outputs": [],
   "source": [
    "##Get num_sold NaN product store and country\n",
    "#t=df[df.num_sold.isna()].groupby(['country','store','product'])['product'].value_counts().to_dict()"
   ]
  },
  {
   "cell_type": "code",
   "execution_count": 40,
   "id": "9ece647a",
   "metadata": {
    "execution": {
     "iopub.execute_input": "2025-01-14T04:38:52.926438Z",
     "iopub.status.busy": "2025-01-14T04:38:52.926074Z",
     "iopub.status.idle": "2025-01-14T04:38:52.929846Z",
     "shell.execute_reply": "2025-01-14T04:38:52.928832Z"
    },
    "papermill": {
     "duration": 0.02734,
     "end_time": "2025-01-14T04:38:52.931581",
     "exception": false,
     "start_time": "2025-01-14T04:38:52.904241",
     "status": "completed"
    },
    "tags": []
   },
   "outputs": [],
   "source": [
    "#Country store and product that have NaN\n",
    "# for  k,v in t.items():\n",
    "#     if v!=0:\n",
    "#         print(k,v)"
   ]
  },
  {
   "cell_type": "code",
   "execution_count": 41,
   "id": "2e8e4e7e",
   "metadata": {
    "execution": {
     "iopub.execute_input": "2025-01-14T04:38:52.975522Z",
     "iopub.status.busy": "2025-01-14T04:38:52.975155Z",
     "iopub.status.idle": "2025-01-14T04:38:53.012516Z",
     "shell.execute_reply": "2025-01-14T04:38:53.011168Z"
    },
    "papermill": {
     "duration": 0.061721,
     "end_time": "2025-01-14T04:38:53.014196",
     "exception": false,
     "start_time": "2025-01-14T04:38:52.952475",
     "status": "completed"
    },
    "tags": []
   },
   "outputs": [
    {
     "name": "stdout",
     "output_type": "stream",
     "text": [
      "Mean\n",
      "country\n",
      "Canada       242.974170\n",
      "Finland      179.209850\n",
      "Italy        129.627508\n",
      "Kenya          5.800233\n",
      "Norway       341.143664\n",
      "Singapore    206.325646\n",
      "Name: num_sold, dtype: float64\n",
      "Median\n",
      "country\n",
      "Canada       235.0\n",
      "Finland      190.0\n",
      "Italy        137.0\n",
      "Kenya          6.0\n",
      "Norway       353.0\n",
      "Singapore    219.0\n",
      "Name: num_sold, dtype: float64\n",
      "Mode\n",
      "country\n",
      "Canada       218.0\n",
      "Finland       91.0\n",
      "Italy         64.0\n",
      "Kenya          5.0\n",
      "Norway       171.0\n",
      "Singapore    107.0\n",
      "Name: num_sold, dtype: float64\n",
      "Min\n",
      "country\n",
      "Canada       200.0\n",
      "Finland       65.0\n",
      "Italy         44.0\n",
      "Kenya          5.0\n",
      "Norway       105.0\n",
      "Singapore     69.0\n",
      "Name: num_sold, dtype: float64\n",
      "Max\n",
      "country\n",
      "Canada       449.0\n",
      "Finland      491.0\n",
      "Italy        318.0\n",
      "Kenya         11.0\n",
      "Norway       908.0\n",
      "Singapore    469.0\n",
      "Name: num_sold, dtype: float64\n"
     ]
    }
   ],
   "source": [
    "#Find Holographic Goose num_sold in each country\n",
    "nan_product = df_train[(df_train['product']=='Holographic Goose') & (df_train['num_sold'].notna())].groupby(['country'])['num_sold']\n",
    "print(\"Mean\")\n",
    "print(nan_product.mean())\n",
    "print(\"Median\")\n",
    "print(nan_product.median())\n",
    "print(\"Mode\")\n",
    "print(nan_product.agg(pd.Series.mode))\n",
    "print(\"Min\")\n",
    "print(nan_product.min())\n",
    "print(\"Max\")\n",
    "print(nan_product.max())"
   ]
  },
  {
   "cell_type": "markdown",
   "id": "26c01c87",
   "metadata": {
    "papermill": {
     "duration": 0.02069,
     "end_time": "2025-01-14T04:38:53.055652",
     "exception": false,
     "start_time": "2025-01-14T04:38:53.034962",
     "status": "completed"
    },
    "tags": []
   },
   "source": [
    "Impute Canana NaN with 218.0 \n",
    "Impute Kenya NaN with 5.0"
   ]
  },
  {
   "cell_type": "code",
   "execution_count": 42,
   "id": "22bce58c",
   "metadata": {
    "execution": {
     "iopub.execute_input": "2025-01-14T04:38:53.099943Z",
     "iopub.status.busy": "2025-01-14T04:38:53.099553Z",
     "iopub.status.idle": "2025-01-14T04:38:53.148153Z",
     "shell.execute_reply": "2025-01-14T04:38:53.147024Z"
    },
    "papermill": {
     "duration": 0.073307,
     "end_time": "2025-01-14T04:38:53.150095",
     "exception": false,
     "start_time": "2025-01-14T04:38:53.076788",
     "status": "completed"
    },
    "tags": []
   },
   "outputs": [],
   "source": [
    "df_train['previous_visit'].fillna(pd.to_timedelta(0),inplace=True)\n",
    "df_train['consec_days'].fillna(pd.to_timedelta(0),inplace=True)\n",
    "df_test['previous_visit'].fillna(pd.to_timedelta(0),inplace=True)\n",
    "df_test['consec_days'].fillna(pd.to_timedelta(0),inplace=True)\n",
    "\n",
    "df_train.dropna(inplace=True)\n",
    "#df_test.dropna(inplace=True)"
   ]
  },
  {
   "cell_type": "code",
   "execution_count": 43,
   "id": "2d955af0",
   "metadata": {
    "execution": {
     "iopub.execute_input": "2025-01-14T04:38:53.194528Z",
     "iopub.status.busy": "2025-01-14T04:38:53.194167Z",
     "iopub.status.idle": "2025-01-14T04:38:53.197907Z",
     "shell.execute_reply": "2025-01-14T04:38:53.196968Z"
    },
    "papermill": {
     "duration": 0.027425,
     "end_time": "2025-01-14T04:38:53.199442",
     "exception": false,
     "start_time": "2025-01-14T04:38:53.172017",
     "status": "completed"
    },
    "tags": []
   },
   "outputs": [],
   "source": [
    "#Impute Canada with 218\n",
    "#df.loc[df['country']=='Canada',['num_sold']]=df.loc[df['country']=='Canada',['num_sold']].fillna(218.0)"
   ]
  },
  {
   "cell_type": "code",
   "execution_count": 44,
   "id": "35b9cc59",
   "metadata": {
    "execution": {
     "iopub.execute_input": "2025-01-14T04:38:53.243865Z",
     "iopub.status.busy": "2025-01-14T04:38:53.243501Z",
     "iopub.status.idle": "2025-01-14T04:38:53.247340Z",
     "shell.execute_reply": "2025-01-14T04:38:53.246274Z"
    },
    "papermill": {
     "duration": 0.027914,
     "end_time": "2025-01-14T04:38:53.249011",
     "exception": false,
     "start_time": "2025-01-14T04:38:53.221097",
     "status": "completed"
    },
    "tags": []
   },
   "outputs": [],
   "source": [
    "#Impute Kenya with 5\n",
    "#df.loc[df['country']=='Kenya',['num_sold']]=df.loc[df['country']=='Kenya',['num_sold']].fillna(5.0)"
   ]
  },
  {
   "cell_type": "code",
   "execution_count": 45,
   "id": "07538fd4",
   "metadata": {
    "execution": {
     "iopub.execute_input": "2025-01-14T04:38:53.293231Z",
     "iopub.status.busy": "2025-01-14T04:38:53.292823Z",
     "iopub.status.idle": "2025-01-14T04:38:53.296695Z",
     "shell.execute_reply": "2025-01-14T04:38:53.295617Z"
    },
    "papermill": {
     "duration": 0.028134,
     "end_time": "2025-01-14T04:38:53.298429",
     "exception": false,
     "start_time": "2025-01-14T04:38:53.270295",
     "status": "completed"
    },
    "tags": []
   },
   "outputs": [],
   "source": [
    "# nsmode = df_train['num_sold'].mode()\n",
    "# df_train['num_sold']=df_train['num_sold'].fillna(nsmode[0])"
   ]
  },
  {
   "cell_type": "code",
   "execution_count": 46,
   "id": "83f6497d",
   "metadata": {
    "execution": {
     "iopub.execute_input": "2025-01-14T04:38:53.342148Z",
     "iopub.status.busy": "2025-01-14T04:38:53.341760Z",
     "iopub.status.idle": "2025-01-14T04:38:53.373489Z",
     "shell.execute_reply": "2025-01-14T04:38:53.372528Z"
    },
    "papermill": {
     "duration": 0.055996,
     "end_time": "2025-01-14T04:38:53.375547",
     "exception": false,
     "start_time": "2025-01-14T04:38:53.319551",
     "status": "completed"
    },
    "tags": []
   },
   "outputs": [],
   "source": [
    "#Get date back to feature after interpolation\n",
    "df_train=df_train.reset_index()"
   ]
  },
  {
   "cell_type": "code",
   "execution_count": 47,
   "id": "ac1772ff",
   "metadata": {
    "execution": {
     "iopub.execute_input": "2025-01-14T04:38:53.419810Z",
     "iopub.status.busy": "2025-01-14T04:38:53.419413Z",
     "iopub.status.idle": "2025-01-14T04:38:53.452738Z",
     "shell.execute_reply": "2025-01-14T04:38:53.451173Z"
    },
    "papermill": {
     "duration": 0.057743,
     "end_time": "2025-01-14T04:38:53.454561",
     "exception": false,
     "start_time": "2025-01-14T04:38:53.396818",
     "status": "completed"
    },
    "tags": []
   },
   "outputs": [
    {
     "name": "stdout",
     "output_type": "stream",
     "text": [
      "<class 'pandas.core.frame.DataFrame'>\n",
      "RangeIndex: 240265 entries, 0 to 240264\n",
      "Data columns (total 22 columns):\n",
      " #   Column            Non-Null Count   Dtype          \n",
      "---  ------            --------------   -----          \n",
      " 0   date              240265 non-null  datetime64[ns] \n",
      " 1   id                240265 non-null  int64          \n",
      " 2   country           240265 non-null  object         \n",
      " 3   store             240265 non-null  category       \n",
      " 4   product           240265 non-null  category       \n",
      " 5   num_sold          240265 non-null  float64        \n",
      " 6   Day               240265 non-null  category       \n",
      " 7   Month             240265 non-null  category       \n",
      " 8   Year              240265 non-null  category       \n",
      " 9   Day_of_week       240265 non-null  category       \n",
      " 10  Week_No           240265 non-null  UInt32         \n",
      " 11  is_weekend        240265 non-null  int64          \n",
      " 12  Quarter_Discrete  240265 non-null  int64          \n",
      " 13  Quarter_Spline    240265 non-null  float64        \n",
      " 14  previous_visit    240265 non-null  timedelta64[ns]\n",
      " 15  consec_days       240265 non-null  timedelta64[ns]\n",
      " 16  days_since_start  240265 non-null  int64          \n",
      " 17  sin_year          240265 non-null  float64        \n",
      " 18  cos_year          240265 non-null  float64        \n",
      " 19  sin_month         240265 non-null  float64        \n",
      " 20  cos_month         240265 non-null  float64        \n",
      " 21  is_holiday        240265 non-null  float64        \n",
      "dtypes: UInt32(1), category(6), datetime64[ns](1), float64(7), int64(4), object(1), timedelta64[ns](2)\n",
      "memory usage: 30.0+ MB\n"
     ]
    }
   ],
   "source": [
    "df_train.info()"
   ]
  },
  {
   "cell_type": "code",
   "execution_count": 48,
   "id": "58997616",
   "metadata": {
    "execution": {
     "iopub.execute_input": "2025-01-14T04:38:53.499326Z",
     "iopub.status.busy": "2025-01-14T04:38:53.498954Z",
     "iopub.status.idle": "2025-01-14T04:38:53.539951Z",
     "shell.execute_reply": "2025-01-14T04:38:53.538890Z"
    },
    "papermill": {
     "duration": 0.065665,
     "end_time": "2025-01-14T04:38:53.542264",
     "exception": false,
     "start_time": "2025-01-14T04:38:53.476599",
     "status": "completed"
    },
    "tags": []
   },
   "outputs": [],
   "source": [
    "df_train['is_holiday']=df_train['is_holiday'].astype('int')\n",
    "df_train['previous_visit']=pd.to_numeric(df_train['previous_visit'].dt.days,errors='coerce')\n",
    "df_train['consec_days']=pd.to_numeric(df_train['consec_days'].dt.days,errors='coerce')\n",
    "df_train['country']=df_train['country'].astype('category')\n",
    "\n",
    "df_test['is_holiday']=df_test['is_holiday'].astype('int')\n",
    "df_test['previous_visit']=pd.to_numeric(df_test['previous_visit'].dt.days,errors='coerce')\n",
    "df_test['consec_days']=pd.to_numeric(df_test['consec_days'].dt.days,errors='coerce')\n",
    "df_test['country']=df_test['country'].astype('category')"
   ]
  },
  {
   "cell_type": "code",
   "execution_count": 49,
   "id": "0c463e68",
   "metadata": {
    "execution": {
     "iopub.execute_input": "2025-01-14T04:38:53.587368Z",
     "iopub.status.busy": "2025-01-14T04:38:53.586972Z",
     "iopub.status.idle": "2025-01-14T04:38:53.596200Z",
     "shell.execute_reply": "2025-01-14T04:38:53.595288Z"
    },
    "papermill": {
     "duration": 0.032728,
     "end_time": "2025-01-14T04:38:53.597882",
     "exception": false,
     "start_time": "2025-01-14T04:38:53.565154",
     "status": "completed"
    },
    "tags": []
   },
   "outputs": [],
   "source": [
    "#log transform target\n",
    "df_train['num_sold']=np.log1p(df_train['num_sold']) \n"
   ]
  },
  {
   "cell_type": "code",
   "execution_count": 50,
   "id": "ee3a73d0",
   "metadata": {
    "execution": {
     "iopub.execute_input": "2025-01-14T04:38:53.642213Z",
     "iopub.status.busy": "2025-01-14T04:38:53.641826Z",
     "iopub.status.idle": "2025-01-14T04:38:54.177516Z",
     "shell.execute_reply": "2025-01-14T04:38:54.176198Z"
    },
    "papermill": {
     "duration": 0.559851,
     "end_time": "2025-01-14T04:38:54.179126",
     "exception": false,
     "start_time": "2025-01-14T04:38:53.619275",
     "status": "completed"
    },
    "tags": []
   },
   "outputs": [
    {
     "name": "stdout",
     "output_type": "stream",
     "text": [
      "Canada train date 2010-01-01 00:00:00 to 2015-03-09 00:00:00\n",
      "Canada train loc  0 to 177819\n",
      "Canada valid date 2015-03-09 00:00:00 to 2016-12-31 00:00:00\n",
      "Canada valid loc 177820 to 240190\n",
      "Finland train date 2010-01-01 00:00:00 to 2015-04-03 00:00:00\n",
      "Finland train loc  84 to 180069\n",
      "Finland valid date 2015-04-03 00:00:00 to 2016-12-31 00:00:00\n",
      "Finland valid loc 180070 to 240205\n",
      "Italy train date 2010-01-01 00:00:00 to 2015-04-03 00:00:00\n",
      "Italy train loc  174 to 180144\n",
      "Italy valid date 2015-04-03 00:00:00 to 2016-12-31 00:00:00\n",
      "Italy valid loc 180145 to 240220\n",
      "Kenya train date 2010-01-01 00:00:00 to 2015-04-26 00:00:00\n",
      "Kenya train loc  264 to 182812\n",
      "Kenya valid date 2015-04-26 00:00:00 to 2016-12-31 00:00:00\n",
      "Kenya valid loc 182813 to 240234\n",
      "Norway train date 2010-01-01 00:00:00 to 2015-04-03 00:00:00\n",
      "Norway train loc  348 to 180289\n",
      "Norway valid date 2015-04-03 00:00:00 to 2016-12-31 00:00:00\n",
      "Norway valid loc 180290 to 240249\n",
      "Singapore train date 2010-01-01 00:00:00 to 2015-04-03 00:00:00\n",
      "Singapore train loc  438 to 180364\n",
      "Singapore valid date 2015-04-03 00:00:00 to 2016-12-31 00:00:00\n",
      "Singapore valid loc 180365 to 240264\n"
     ]
    }
   ],
   "source": [
    "#Split data according to country into\n",
    "from catboost import Pool\n",
    "country_train_pool={}\n",
    "country_valid_pool={}\n",
    "\n",
    "for c in countrylist:\n",
    "    df=df_train[df_train['country']==c]\n",
    "    train_x, valid_x, train_y, valid_y = train_test_split(df.drop(['id','num_sold','country'],axis=1),df['num_sold'],shuffle=False,test_size=0.25)\n",
    "    cats=df.select_dtypes('category').columns.to_list()\n",
    "    cats.remove('country')\n",
    "    cats.append('is_holiday')\n",
    "    cats.append('Week_No')\n",
    "    cats.append('is_weekend')\n",
    "    cats.append('Quarter_Discrete')\n",
    "    #train_weights = np.linspace(0.1, 1.0, len(train_x))\n",
    "    #valid_weights = np.linspace(0.1, 1.0, len(valid_x)) # Linearly increasing weights\n",
    "    # decay_rate=0.75\n",
    "    # train_weights = decay_rate ** np.arange(len(train_x))[::-1]  # Exponentially increasing weights\n",
    "    # valid_weights = decay_rate ** np.arange(len(valid_x))[::-1]  # Exponentially increasing weights\n",
    "    country_train_pool[c]=Pool(train_x,label=train_y,cat_features=cats)#,weight=train_weights)\n",
    "    country_valid_pool[c]=Pool(valid_x,label=valid_y,cat_features=cats)#,weight=valid_weights)\n",
    "    print(f\"{c} train date {train_x['date'].min()} to {train_x['date'].max()}\")\n",
    "    print(f\"{c} train loc  {train_x.index.min()} to {train_x.index.max()}\")\n",
    "    print(f\"{c} valid date {valid_x['date'].min()} to {valid_x['date'].max()}\") \n",
    "    print(f\"{c} valid loc {valid_x.index.min()} to {valid_x.index.max()}\")"
   ]
  },
  {
   "cell_type": "code",
   "execution_count": 51,
   "id": "2d45615a",
   "metadata": {
    "execution": {
     "iopub.execute_input": "2025-01-14T04:38:54.223015Z",
     "iopub.status.busy": "2025-01-14T04:38:54.222617Z",
     "iopub.status.idle": "2025-01-14T04:38:54.230597Z",
     "shell.execute_reply": "2025-01-14T04:38:54.229655Z"
    },
    "papermill": {
     "duration": 0.031968,
     "end_time": "2025-01-14T04:38:54.232327",
     "exception": false,
     "start_time": "2025-01-14T04:38:54.200359",
     "status": "completed"
    },
    "tags": []
   },
   "outputs": [],
   "source": [
    "from functools import partial\n",
    "from catboost import cv\n",
    "\n",
    "def objective(trial: optuna.Trial, country) -> float:\n",
    "    #data, target = load_breast_cancer(return_X_y=True)\n",
    "    #train_x, valid_x, train_y, valid_y = train_test_split(df_train.drop(['id','num_sold','date'],axis=1), df_train['num_sold'], test_size=0.25)\n",
    "    #cats=df_train.select_dtypes('category').columns\n",
    "    \n",
    "    param = {\n",
    "        \"iterations\":trial.suggest_int(\"iterations\",1000,5000),\n",
    "        \"learning_rate\":trial.suggest_float(\"learning_rate\",0.006,0.03,log=True),\n",
    "        \"objective\": trial.suggest_categorical(\"objective\", [\"MAPE\"]),\n",
    "        \"colsample_bylevel\": trial.suggest_float(\"colsample_bylevel\", 0.01, 0.7, log=True),\n",
    "        \"depth\": trial.suggest_int(\"depth\", 1, 10),\n",
    "        \"boosting_type\": trial.suggest_categorical(\"boosting_type\", [\"Ordered\", \"Plain\"]),\n",
    "        \"bootstrap_type\": trial.suggest_categorical(\n",
    "            \"bootstrap_type\", [\"Bayesian\", \"Bernoulli\", \"MVS\"]\n",
    "        ),\n",
    "        \"used_ram_limit\": \"3gb\",\n",
    "        \"eval_metric\": \"MAPE\",\n",
    "        \"cat_features\": cats,\n",
    "    }\n",
    "\n",
    "    if param[\"bootstrap_type\"] == \"Bayesian\":\n",
    "        param[\"bagging_temperature\"] = trial.suggest_float(\"bagging_temperature\", 0, 10)\n",
    "    elif param[\"bootstrap_type\"] == \"Bernoulli\":\n",
    "        param[\"subsample\"] = trial.suggest_float(\"subsample\", 0.1, 1, log=True)\n",
    "\n",
    "   \n",
    "    #use catboost cv with timeseries data\n",
    "    cv_data = cb.cv(\n",
    "        country_train_pool[c],\n",
    "        params=param,\n",
    "        shuffle=False,\n",
    "        type='TimeSeries',\n",
    "        fold_count=3,\n",
    "        early_stopping_rounds=300,\n",
    "        verbose=0,\n",
    "    )\n",
    "    mape = cv_data['test-MAPE-mean'].min()\n",
    "    best_iter = cv_data['test-MAPE-mean'].values.argmin()\n",
    "    # gbm = cb.CatBoostRegressor(**param)\n",
    "\n",
    "    # pruning_callback = CatBoostPruningCallback(trial, \"MAPE\")\n",
    "    # gbm.fit(\n",
    "    #    # train_x,\n",
    "    #    # train_y,\n",
    "    #    # eval_set=[(valid_x, valid_y)],\n",
    "    #     country_train_pool[c],\n",
    "    #     eval_set=country_valid_pool[c],\n",
    "    #     verbose=0,\n",
    "    #     early_stopping_rounds=300,\n",
    "    #     callbacks=[pruning_callback],\n",
    "    # )\n",
    "\n",
    "    # evoke pruning manually.\n",
    "    #pruning_callback.check_pruned()\n",
    "\n",
    "    \n",
    "    #preds = gbm.predict(valid_x)\n",
    "    #pred_labels = np.fix(preds)\n",
    "    #mape = mean_absolute_percentage_error(valid_y, pred_labels)\n",
    "    return mape\n"
   ]
  },
  {
   "cell_type": "code",
   "execution_count": null,
   "id": "133a2410",
   "metadata": {
    "papermill": {
     "duration": 0.020623,
     "end_time": "2025-01-14T04:38:54.274178",
     "exception": false,
     "start_time": "2025-01-14T04:38:54.253555",
     "status": "completed"
    },
    "tags": []
   },
   "outputs": [],
   "source": []
  },
  {
   "cell_type": "code",
   "execution_count": 52,
   "id": "f09b1ed2",
   "metadata": {
    "execution": {
     "iopub.execute_input": "2025-01-14T04:38:54.317673Z",
     "iopub.status.busy": "2025-01-14T04:38:54.317257Z",
     "iopub.status.idle": "2025-01-14T05:44:01.064896Z",
     "shell.execute_reply": "2025-01-14T05:44:01.063541Z"
    },
    "papermill": {
     "duration": 3906.806421,
     "end_time": "2025-01-14T05:44:01.101525",
     "exception": false,
     "start_time": "2025-01-14T04:38:54.295104",
     "status": "completed"
    },
    "tags": []
   },
   "outputs": [
    {
     "name": "stdout",
     "output_type": "stream",
     "text": [
      "Training on fold [0/3]\n",
      "\n",
      "bestTest = 0.02933171417\n",
      "bestIteration = 1614\n",
      "\n",
      "Training on fold [1/3]\n",
      "\n",
      "bestTest = 0.0143147173\n",
      "bestIteration = 2202\n",
      "\n",
      "Training on fold [2/3]\n",
      "\n",
      "bestTest = 0.01495585768\n",
      "bestIteration = 2226\n",
      "\n",
      "Training on fold [0/3]\n",
      "\n",
      "bestTest = 0.05144873028\n",
      "bestIteration = 1857\n",
      "\n",
      "Training on fold [1/3]\n",
      "\n",
      "bestTest = 0.02895658237\n",
      "bestIteration = 1252\n",
      "\n",
      "Training on fold [2/3]\n",
      "\n",
      "bestTest = 0.0428213337\n",
      "bestIteration = 973\n",
      "\n",
      "Training on fold [0/3]\n",
      "\n",
      "bestTest = 0.01709716871\n",
      "bestIteration = 2306\n",
      "\n",
      "Training on fold [1/3]\n",
      "\n",
      "bestTest = 0.0172315702\n",
      "bestIteration = 2305\n",
      "\n",
      "Training on fold [2/3]\n",
      "\n",
      "bestTest = 0.01795357963\n",
      "bestIteration = 2299\n",
      "\n",
      "Training on fold [0/3]\n",
      "\n",
      "bestTest = 0.02786428519\n",
      "bestIteration = 3963\n",
      "\n",
      "Training on fold [1/3]\n",
      "\n",
      "bestTest = 0.02649781092\n",
      "bestIteration = 3966\n",
      "\n",
      "Training on fold [2/3]\n",
      "\n",
      "bestTest = 0.02442757561\n",
      "bestIteration = 3967\n",
      "\n",
      "Training on fold [0/3]\n",
      "\n",
      "bestTest = 0.03077176534\n",
      "bestIteration = 2002\n",
      "\n",
      "Training on fold [1/3]\n",
      "\n",
      "bestTest = 0.01106956921\n",
      "bestIteration = 3983\n",
      "\n",
      "Training on fold [2/3]\n",
      "\n",
      "bestTest = 0.01080873257\n",
      "bestIteration = 3555\n",
      "\n",
      "Training on fold [0/3]\n",
      "\n",
      "bestTest = 0.0953674971\n",
      "bestIteration = 1227\n",
      "\n",
      "Training on fold [1/3]\n",
      "\n",
      "bestTest = 0.04617129683\n",
      "bestIteration = 513\n",
      "\n",
      "Training on fold [2/3]\n",
      "\n",
      "bestTest = 0.02321713928\n",
      "bestIteration = 1339\n",
      "\n",
      "Training on fold [0/3]\n",
      "\n",
      "bestTest = 0.02200425097\n",
      "bestIteration = 3286\n",
      "\n",
      "Training on fold [1/3]\n",
      "\n",
      "bestTest = 0.01083728432\n",
      "bestIteration = 4663\n",
      "\n",
      "Training on fold [2/3]\n",
      "\n",
      "bestTest = 0.01215667178\n",
      "bestIteration = 4419\n",
      "\n",
      "Training on fold [0/3]\n",
      "\n",
      "bestTest = 0.04668646215\n",
      "bestIteration = 877\n",
      "\n",
      "Training on fold [1/3]\n",
      "\n",
      "bestTest = 0.02986728786\n",
      "bestIteration = 380\n",
      "\n",
      "Training on fold [2/3]\n",
      "\n",
      "bestTest = 0.05385648398\n",
      "bestIteration = 1574\n",
      "\n",
      "Training on fold [0/3]\n",
      "\n",
      "bestTest = 0.02034322591\n",
      "bestIteration = 1594\n",
      "\n",
      "Training on fold [1/3]\n",
      "\n",
      "bestTest = 0.03941426012\n",
      "bestIteration = 373\n",
      "\n",
      "Training on fold [2/3]\n",
      "\n",
      "bestTest = 0.03638885506\n",
      "bestIteration = 607\n",
      "\n",
      "Training on fold [0/3]\n",
      "\n",
      "bestTest = 0.06115763806\n",
      "bestIteration = 1153\n",
      "\n",
      "Training on fold [1/3]\n",
      "\n",
      "bestTest = 0.0585439427\n",
      "bestIteration = 1179\n",
      "\n",
      "Training on fold [2/3]\n",
      "\n",
      "bestTest = 0.05752915112\n",
      "bestIteration = 1164\n",
      "\n",
      "Training on fold [0/3]\n",
      "\n",
      "bestTest = 0.01971597792\n",
      "bestIteration = 4895\n",
      "\n",
      "Training on fold [1/3]\n",
      "\n",
      "bestTest = 0.01876317058\n",
      "bestIteration = 4915\n",
      "\n",
      "Training on fold [2/3]\n",
      "\n",
      "bestTest = 0.01792539345\n",
      "bestIteration = 4915\n",
      "\n",
      "Training on fold [0/3]\n",
      "\n",
      "bestTest = 0.01560896546\n",
      "bestIteration = 3015\n",
      "\n",
      "Training on fold [1/3]\n",
      "\n",
      "bestTest = 0.0169002761\n",
      "bestIteration = 2660\n",
      "\n",
      "Training on fold [2/3]\n",
      "\n",
      "bestTest = 0.01743127806\n",
      "bestIteration = 2717\n",
      "\n",
      "Training on fold [0/3]\n",
      "\n",
      "bestTest = 0.01593552642\n",
      "bestIteration = 3134\n",
      "\n",
      "Training on fold [1/3]\n",
      "\n",
      "bestTest = 0.02039479286\n",
      "bestIteration = 1299\n",
      "\n",
      "Training on fold [2/3]\n",
      "\n",
      "bestTest = 0.01053514918\n",
      "bestIteration = 3133\n",
      "\n",
      "Training on fold [0/3]\n",
      "\n",
      "bestTest = 0.04088854949\n",
      "bestIteration = 3031\n",
      "\n",
      "Training on fold [1/3]\n",
      "\n",
      "bestTest = 0.01206388679\n",
      "bestIteration = 3023\n",
      "\n",
      "Training on fold [2/3]\n",
      "\n",
      "bestTest = 0.01363528111\n",
      "bestIteration = 3005\n",
      "\n",
      "Training on fold [0/3]\n",
      "\n",
      "bestTest = 0.1084290018\n",
      "bestIteration = 2372\n",
      "\n",
      "Training on fold [1/3]\n",
      "\n",
      "bestTest = 0.07216015218\n",
      "bestIteration = 1750\n",
      "\n",
      "Training on fold [2/3]\n",
      "\n",
      "bestTest = 0.08206700168\n",
      "bestIteration = 2182\n",
      "\n",
      "Number of finished trials: 15\n",
      "Canada Best trial:\n",
      "  Value: 0.01503725423999066\n",
      "Canada  Params: \n",
      "    iterations: 4664\n",
      "    learning_rate: 0.015967421436313554\n",
      "    objective: MAPE\n",
      "    colsample_bylevel: 0.048803336237593496\n",
      "    depth: 8\n",
      "    boosting_type: Plain\n",
      "    bootstrap_type: Bayesian\n",
      "    bagging_temperature: 1.472313039586025\n",
      "Training on fold [0/3]\n",
      "\n",
      "bestTest = 0.01634550121\n",
      "bestIteration = 1482\n",
      "\n",
      "Training on fold [1/3]\n",
      "\n",
      "bestTest = 0.01572144364\n",
      "bestIteration = 3009\n",
      "\n",
      "Training on fold [2/3]\n",
      "\n",
      "bestTest = 0.01615687077\n",
      "bestIteration = 1839\n",
      "\n",
      "Training on fold [0/3]\n",
      "\n",
      "bestTest = 0.03496909543\n",
      "bestIteration = 1087\n",
      "\n",
      "Training on fold [1/3]\n",
      "\n",
      "bestTest = 0.03841448406\n",
      "bestIteration = 1087\n",
      "\n",
      "Training on fold [2/3]\n",
      "\n",
      "bestTest = 0.03551480229\n",
      "bestIteration = 1086\n",
      "\n",
      "Training on fold [0/3]\n",
      "\n",
      "bestTest = 0.03459889036\n",
      "bestIteration = 3630\n",
      "\n",
      "Training on fold [1/3]\n",
      "\n",
      "bestTest = 0.03543183396\n",
      "bestIteration = 3630\n",
      "\n",
      "Training on fold [2/3]\n",
      "\n",
      "bestTest = 0.0333321181\n",
      "bestIteration = 3630\n",
      "\n",
      "Training on fold [0/3]\n",
      "\n",
      "bestTest = 0.01637038587\n",
      "bestIteration = 2364\n",
      "\n",
      "Training on fold [1/3]\n",
      "\n",
      "bestTest = 0.01576939001\n",
      "bestIteration = 3750\n",
      "\n",
      "Training on fold [2/3]\n",
      "\n",
      "bestTest = 0.01692347697\n",
      "bestIteration = 1716\n",
      "\n",
      "Training on fold [0/3]\n",
      "\n",
      "bestTest = 0.07144062159\n",
      "bestIteration = 1160\n",
      "\n",
      "Training on fold [1/3]\n",
      "\n",
      "bestTest = 0.07137239716\n",
      "bestIteration = 1160\n",
      "\n",
      "Training on fold [2/3]\n",
      "\n",
      "bestTest = 0.06905656441\n",
      "bestIteration = 1160\n",
      "\n",
      "Training on fold [0/3]\n",
      "\n",
      "bestTest = 0.04203749587\n",
      "bestIteration = 2011\n",
      "\n",
      "Training on fold [1/3]\n",
      "\n",
      "bestTest = 0.04463642203\n",
      "bestIteration = 1216\n",
      "\n",
      "Training on fold [2/3]\n",
      "\n",
      "bestTest = 0.01440162618\n",
      "bestIteration = 2011\n",
      "\n",
      "Training on fold [0/3]\n",
      "\n",
      "bestTest = 0.02369745832\n",
      "bestIteration = 4527\n",
      "\n",
      "Training on fold [1/3]\n",
      "\n",
      "bestTest = 0.02179133525\n",
      "bestIteration = 4526\n",
      "\n",
      "Training on fold [2/3]\n",
      "\n",
      "bestTest = 0.02139950751\n",
      "bestIteration = 4526\n",
      "\n",
      "Training on fold [0/3]\n",
      "\n",
      "bestTest = 0.02034042811\n",
      "bestIteration = 1287\n",
      "\n",
      "Training on fold [1/3]\n",
      "\n",
      "bestTest = 0.01854173292\n",
      "bestIteration = 1287\n",
      "\n",
      "Training on fold [2/3]\n",
      "\n",
      "bestTest = 0.01883608773\n",
      "bestIteration = 1286\n",
      "\n",
      "Training on fold [0/3]\n",
      "\n",
      "bestTest = 0.02725640139\n",
      "bestIteration = 2744\n",
      "\n",
      "Training on fold [1/3]\n",
      "\n",
      "bestTest = 0.009923182426\n",
      "bestIteration = 2125\n",
      "\n",
      "Training on fold [2/3]\n",
      "\n",
      "bestTest = 0.01184292925\n",
      "bestIteration = 1504\n",
      "\n",
      "Training on fold [0/3]\n",
      "\n",
      "bestTest = 0.01799884096\n",
      "bestIteration = 1371\n",
      "\n",
      "Training on fold [1/3]\n",
      "\n",
      "bestTest = 0.01820073034\n",
      "bestIteration = 1371\n",
      "\n",
      "Training on fold [2/3]\n",
      "\n",
      "bestTest = 0.01798364608\n",
      "bestIteration = 1371\n",
      "\n",
      "Training on fold [0/3]\n",
      "\n",
      "bestTest = 0.01915990368\n",
      "bestIteration = 3876\n",
      "\n",
      "Training on fold [1/3]\n",
      "\n",
      "bestTest = 0.01925114617\n",
      "bestIteration = 2230\n",
      "\n",
      "Training on fold [2/3]\n",
      "\n",
      "bestTest = 0.04384109392\n",
      "bestIteration = 2009\n",
      "\n",
      "Training on fold [0/3]\n",
      "\n",
      "bestTest = 0.03029976813\n",
      "bestIteration = 2620\n",
      "\n",
      "Training on fold [1/3]\n",
      "\n",
      "bestTest = 0.01578295196\n",
      "bestIteration = 1598\n",
      "\n",
      "Training on fold [2/3]\n",
      "\n",
      "bestTest = 0.0309531955\n",
      "bestIteration = 1086\n",
      "\n",
      "Training on fold [0/3]\n",
      "\n",
      "bestTest = 0.05381413331\n",
      "bestIteration = 481\n",
      "\n",
      "Training on fold [1/3]\n",
      "\n",
      "bestTest = 0.01217929507\n",
      "bestIteration = 1930\n",
      "\n",
      "Training on fold [2/3]\n",
      "\n",
      "bestTest = 0.01335935226\n",
      "bestIteration = 1722\n",
      "\n",
      "Training on fold [0/3]\n",
      "\n",
      "bestTest = 0.03236133508\n",
      "bestIteration = 1981\n",
      "\n",
      "Training on fold [1/3]\n",
      "\n",
      "bestTest = 0.03123288185\n",
      "bestIteration = 1613\n",
      "\n",
      "Training on fold [2/3]\n",
      "\n",
      "bestTest = 0.0167594375\n",
      "bestIteration = 1543\n",
      "\n",
      "Training on fold [0/3]\n",
      "\n",
      "bestTest = 0.0185875842\n",
      "bestIteration = 3099\n",
      "\n",
      "Training on fold [1/3]\n",
      "\n",
      "bestTest = 0.0177387176\n",
      "bestIteration = 2388\n",
      "\n",
      "Training on fold [2/3]\n",
      "\n",
      "bestTest = 0.03314793968\n",
      "bestIteration = 1741\n",
      "\n",
      "Training on fold [0/3]\n",
      "\n",
      "bestTest = 0.0173307999\n",
      "bestIteration = 4392\n",
      "\n",
      "Training on fold [1/3]\n",
      "\n",
      "bestTest = 0.01664926062\n",
      "bestIteration = 4395\n",
      "\n",
      "Training on fold [2/3]\n",
      "\n",
      "bestTest = 0.01782340667\n",
      "bestIteration = 4266\n",
      "\n",
      "Training on fold [0/3]\n",
      "\n",
      "bestTest = 0.04278906364\n",
      "bestIteration = 1707\n",
      "\n",
      "Training on fold [1/3]\n",
      "\n",
      "bestTest = 0.04704504712\n",
      "bestIteration = 663\n",
      "\n",
      "Training on fold [2/3]\n",
      "\n",
      "bestTest = 0.05928357951\n",
      "bestIteration = 684\n",
      "\n",
      "Number of finished trials: 17\n",
      "Finland Best trial:\n",
      "  Value: 0.016107715083014385\n",
      "Finland  Params: \n",
      "    iterations: 4588\n",
      "    learning_rate: 0.01686672745016501\n",
      "    objective: MAPE\n",
      "    colsample_bylevel: 0.3207656490999908\n",
      "    depth: 1\n",
      "    boosting_type: Plain\n",
      "    bootstrap_type: Bernoulli\n",
      "    subsample: 0.4681846656894693\n",
      "Training on fold [0/3]\n",
      "\n",
      "bestTest = 0.0359560963\n",
      "bestIteration = 1079\n",
      "\n",
      "Training on fold [1/3]\n",
      "\n",
      "bestTest = 0.03855001733\n",
      "bestIteration = 1078\n",
      "\n",
      "Training on fold [2/3]\n",
      "\n",
      "bestTest = 0.05292436768\n",
      "bestIteration = 1079\n",
      "\n",
      "Training on fold [0/3]\n",
      "\n",
      "bestTest = 0.0173700763\n",
      "bestIteration = 4783\n",
      "\n",
      "Training on fold [1/3]\n",
      "\n",
      "bestTest = 0.01834929288\n",
      "bestIteration = 3696\n",
      "\n",
      "Training on fold [2/3]\n",
      "\n",
      "bestTest = 0.02015516619\n",
      "bestIteration = 3434\n",
      "\n",
      "Training on fold [0/3]\n",
      "\n",
      "bestTest = 0.01865457998\n",
      "bestIteration = 1040\n",
      "\n",
      "Training on fold [1/3]\n",
      "\n",
      "bestTest = 0.02006131667\n",
      "bestIteration = 1042\n",
      "\n",
      "Training on fold [2/3]\n",
      "\n",
      "bestTest = 0.02015477804\n",
      "bestIteration = 1041\n",
      "\n",
      "Training on fold [0/3]\n",
      "\n",
      "bestTest = 0.02955165826\n",
      "bestIteration = 1797\n",
      "\n",
      "Training on fold [1/3]\n",
      "\n",
      "bestTest = 0.02719705603\n",
      "bestIteration = 1797\n",
      "\n",
      "Training on fold [2/3]\n",
      "\n",
      "bestTest = 0.02569109798\n",
      "bestIteration = 1796\n",
      "\n",
      "Training on fold [0/3]\n",
      "\n",
      "bestTest = 0.07422246555\n",
      "bestIteration = 684\n",
      "\n",
      "Training on fold [1/3]\n",
      "\n",
      "bestTest = 0.04465976684\n",
      "bestIteration = 837\n",
      "\n",
      "Training on fold [2/3]\n",
      "\n",
      "bestTest = 0.02018073587\n",
      "bestIteration = 734\n",
      "\n",
      "Training on fold [0/3]\n",
      "\n",
      "bestTest = 0.02241646736\n",
      "bestIteration = 1786\n",
      "\n",
      "Training on fold [1/3]\n",
      "\n",
      "bestTest = 0.01486061566\n",
      "bestIteration = 2852\n",
      "\n",
      "Training on fold [2/3]\n",
      "\n",
      "bestTest = 0.01261579474\n",
      "bestIteration = 3428\n",
      "\n",
      "Training on fold [0/3]\n",
      "\n",
      "bestTest = 0.01804276622\n",
      "bestIteration = 2317\n",
      "\n",
      "Training on fold [1/3]\n",
      "\n",
      "bestTest = 0.01788090564\n",
      "bestIteration = 2865\n",
      "\n",
      "Training on fold [2/3]\n",
      "\n",
      "bestTest = 0.01189558549\n",
      "bestIteration = 3715\n",
      "\n",
      "Training on fold [0/3]\n",
      "\n",
      "bestTest = 0.01797421335\n",
      "bestIteration = 4125\n",
      "\n",
      "Training on fold [1/3]\n",
      "\n",
      "bestTest = 0.01632596403\n",
      "bestIteration = 3776\n",
      "\n",
      "Training on fold [2/3]\n",
      "\n",
      "bestTest = 0.01876430384\n",
      "bestIteration = 2117\n",
      "\n",
      "Training on fold [0/3]\n",
      "\n",
      "bestTest = 0.09628603826\n",
      "bestIteration = 1807\n",
      "\n",
      "Training on fold [1/3]\n",
      "\n",
      "bestTest = 0.04256840471\n",
      "bestIteration = 1854\n",
      "\n",
      "Training on fold [2/3]\n",
      "\n",
      "bestTest = 0.02515976934\n",
      "bestIteration = 1856\n",
      "\n",
      "Number of finished trials: 9\n",
      "Italy Best trial:\n",
      "  Value: 0.01603031412854038\n",
      "Italy  Params: \n",
      "    iterations: 3719\n",
      "    learning_rate: 0.01307812649088125\n",
      "    objective: MAPE\n",
      "    colsample_bylevel: 0.06371206288212844\n",
      "    depth: 4\n",
      "    boosting_type: Plain\n",
      "    bootstrap_type: MVS\n",
      "Training on fold [0/3]\n",
      "\n",
      "bestTest = 0.1282578561\n",
      "bestIteration = 1858\n",
      "\n",
      "Training on fold [1/3]\n",
      "\n",
      "bestTest = 0.1322280552\n",
      "bestIteration = 1855\n",
      "\n",
      "Training on fold [2/3]\n",
      "\n",
      "bestTest = 0.1308608951\n",
      "bestIteration = 1858\n",
      "\n",
      "Training on fold [0/3]\n",
      "\n",
      "bestTest = 0.1018063214\n",
      "bestIteration = 1790\n",
      "\n",
      "Training on fold [1/3]\n",
      "\n",
      "bestTest = 0.1214851452\n",
      "bestIteration = 1790\n",
      "\n",
      "Training on fold [2/3]\n",
      "\n",
      "bestTest = 0.1197917477\n",
      "bestIteration = 1790\n",
      "\n",
      "Training on fold [0/3]\n",
      "\n",
      "bestTest = 0.04667129518\n",
      "bestIteration = 1011\n",
      "\n",
      "Training on fold [1/3]\n",
      "\n",
      "bestTest = 0.04608244433\n",
      "bestIteration = 1032\n",
      "\n",
      "Training on fold [2/3]\n",
      "\n",
      "bestTest = 0.0377748109\n",
      "bestIteration = 1032\n",
      "\n",
      "Training on fold [0/3]\n",
      "\n",
      "bestTest = 0.08232218954\n",
      "bestIteration = 1914\n",
      "\n",
      "Training on fold [1/3]\n",
      "\n",
      "bestTest = 0.08934155512\n",
      "bestIteration = 1912\n",
      "\n",
      "Training on fold [2/3]\n",
      "\n",
      "bestTest = 0.08549576033\n",
      "bestIteration = 1916\n",
      "\n",
      "Training on fold [0/3]\n",
      "\n",
      "bestTest = 0.07174624373\n",
      "bestIteration = 3072\n",
      "\n",
      "Training on fold [1/3]\n",
      "\n",
      "bestTest = 0.0610622201\n",
      "bestIteration = 865\n",
      "\n",
      "Training on fold [2/3]\n",
      "\n",
      "bestTest = 0.0237511764\n",
      "bestIteration = 2420\n",
      "\n",
      "Training on fold [0/3]\n",
      "\n",
      "bestTest = 0.05327555241\n",
      "bestIteration = 1959\n",
      "\n",
      "Training on fold [1/3]\n",
      "\n",
      "bestTest = 0.06084331529\n",
      "bestIteration = 1959\n",
      "\n",
      "Training on fold [2/3]\n",
      "\n",
      "bestTest = 0.04732052312\n",
      "bestIteration = 1961\n",
      "\n",
      "Training on fold [0/3]\n",
      "\n",
      "bestTest = 0.06738331815\n",
      "bestIteration = 660\n",
      "\n",
      "Training on fold [1/3]\n",
      "\n",
      "bestTest = 0.04369193947\n",
      "bestIteration = 727\n",
      "\n",
      "Training on fold [2/3]\n",
      "\n",
      "bestTest = 0.02460389882\n",
      "bestIteration = 1538\n",
      "\n",
      "Training on fold [0/3]\n",
      "\n",
      "bestTest = 0.08185436241\n",
      "bestIteration = 1756\n",
      "\n",
      "Training on fold [1/3]\n",
      "\n",
      "bestTest = 0.08255084633\n",
      "bestIteration = 1759\n",
      "\n",
      "Training on fold [2/3]\n",
      "\n",
      "bestTest = 0.07644336048\n",
      "bestIteration = 1759\n",
      "\n",
      "Training on fold [0/3]\n",
      "\n",
      "bestTest = 0.04258586875\n",
      "bestIteration = 2407\n",
      "\n",
      "Training on fold [1/3]\n",
      "\n",
      "bestTest = 0.05869468054\n",
      "bestIteration = 1723\n",
      "\n",
      "Training on fold [2/3]\n",
      "\n",
      "bestTest = 0.02591315447\n",
      "bestIteration = 2860\n",
      "\n",
      "Training on fold [0/3]\n",
      "\n",
      "bestTest = 0.05864724459\n",
      "bestIteration = 1975\n",
      "\n",
      "Training on fold [1/3]\n",
      "\n",
      "bestTest = 0.04240430084\n",
      "bestIteration = 1973\n",
      "\n",
      "Training on fold [2/3]\n",
      "\n",
      "bestTest = 0.0318199795\n",
      "bestIteration = 1976\n",
      "\n",
      "Training on fold [0/3]\n",
      "\n",
      "bestTest = 0.1770887083\n",
      "bestIteration = 931\n",
      "\n",
      "Training on fold [1/3]\n",
      "\n",
      "bestTest = 0.09687922636\n",
      "bestIteration = 273\n",
      "\n",
      "Training on fold [2/3]\n",
      "\n",
      "bestTest = 0.05363270023\n",
      "bestIteration = 899\n",
      "\n",
      "Training on fold [0/3]\n",
      "\n",
      "bestTest = 0.0852109549\n",
      "bestIteration = 489\n",
      "\n",
      "Training on fold [1/3]\n",
      "\n",
      "bestTest = 0.09169065775\n",
      "bestIteration = 413\n",
      "\n",
      "Training on fold [2/3]\n",
      "\n",
      "bestTest = 0.02911188319\n",
      "bestIteration = 2232\n",
      "\n",
      "Training on fold [0/3]\n",
      "\n",
      "bestTest = 0.07135835455\n",
      "bestIteration = 997\n",
      "\n",
      "Training on fold [1/3]\n",
      "\n",
      "bestTest = 0.1010820826\n",
      "bestIteration = 780\n",
      "\n",
      "Training on fold [2/3]\n",
      "\n",
      "bestTest = 0.0328764408\n",
      "bestIteration = 985\n",
      "\n",
      "Training on fold [0/3]\n",
      "\n",
      "bestTest = 0.03575713006\n",
      "bestIteration = 4940\n",
      "\n",
      "Training on fold [1/3]\n",
      "\n",
      "bestTest = 0.03838352876\n",
      "bestIteration = 2273\n",
      "\n",
      "Training on fold [2/3]\n",
      "\n",
      "bestTest = 0.02559178653\n",
      "bestIteration = 4963\n",
      "\n",
      "Training on fold [0/3]\n",
      "\n",
      "bestTest = 0.03709335195\n",
      "bestIteration = 4877\n",
      "\n",
      "Training on fold [1/3]\n",
      "\n",
      "bestTest = 0.04814015529\n",
      "bestIteration = 3352\n",
      "\n",
      "Training on fold [2/3]\n",
      "\n",
      "bestTest = 0.02630321942\n",
      "bestIteration = 4921\n",
      "\n",
      "Training on fold [0/3]\n",
      "\n",
      "bestTest = 0.03831107196\n",
      "bestIteration = 4646\n",
      "\n",
      "Training on fold [1/3]\n",
      "\n",
      "bestTest = 0.04067071946\n",
      "bestIteration = 4797\n",
      "\n",
      "Training on fold [2/3]\n",
      "\n",
      "bestTest = 0.02814910429\n",
      "bestIteration = 4799\n",
      "\n",
      "Training on fold [0/3]\n",
      "\n",
      "bestTest = 0.03996435341\n",
      "bestIteration = 4989\n",
      "\n",
      "Training on fold [1/3]\n",
      "\n",
      "bestTest = 0.04097744477\n",
      "bestIteration = 4460\n",
      "\n",
      "Training on fold [2/3]\n",
      "\n",
      "bestTest = 0.02738352161\n",
      "bestIteration = 4989\n",
      "\n",
      "Training on fold [0/3]\n",
      "\n",
      "bestTest = 0.04518960955\n",
      "bestIteration = 4281\n",
      "\n",
      "Training on fold [1/3]\n",
      "\n",
      "bestTest = 0.04971691942\n",
      "bestIteration = 4280\n",
      "\n",
      "Training on fold [2/3]\n",
      "\n",
      "bestTest = 0.04006614991\n",
      "bestIteration = 4267\n",
      "\n",
      "Training on fold [0/3]\n",
      "\n",
      "bestTest = 0.03704568719\n",
      "bestIteration = 4196\n",
      "\n",
      "Training on fold [1/3]\n",
      "\n",
      "bestTest = 0.03825880136\n",
      "bestIteration = 2565\n",
      "\n",
      "Training on fold [2/3]\n",
      "\n",
      "bestTest = 0.02461334898\n",
      "bestIteration = 4296\n",
      "\n",
      "Training on fold [0/3]\n",
      "\n",
      "bestTest = 0.04257711631\n",
      "bestIteration = 3776\n",
      "\n",
      "Training on fold [1/3]\n",
      "\n",
      "bestTest = 0.03614619143\n",
      "bestIteration = 3794\n",
      "\n",
      "Training on fold [2/3]\n",
      "\n",
      "bestTest = 0.02483048659\n",
      "bestIteration = 3807\n",
      "\n",
      "Number of finished trials: 20\n",
      "Kenya Best trial:\n",
      "  Value: 0.03335476077267923\n",
      "Kenya  Params: \n",
      "    iterations: 4989\n",
      "    learning_rate: 0.02277222950469074\n",
      "    objective: MAPE\n",
      "    colsample_bylevel: 0.025395766143595965\n",
      "    depth: 8\n",
      "    boosting_type: Plain\n",
      "    bootstrap_type: Bernoulli\n",
      "    subsample: 0.848689220697756\n",
      "Training on fold [0/3]\n",
      "\n",
      "bestTest = 0.05724238283\n",
      "bestIteration = 1399\n",
      "\n",
      "Training on fold [1/3]\n",
      "\n",
      "bestTest = 0.06062225503\n",
      "bestIteration = 1403\n",
      "\n",
      "Training on fold [2/3]\n",
      "\n",
      "bestTest = 0.01624377391\n",
      "bestIteration = 1401\n",
      "\n",
      "Training on fold [0/3]\n",
      "\n",
      "bestTest = 0.03670723233\n",
      "bestIteration = 3106\n",
      "\n",
      "Training on fold [1/3]\n",
      "\n",
      "bestTest = 0.03425575293\n",
      "bestIteration = 3113\n",
      "\n",
      "Training on fold [2/3]\n",
      "\n",
      "bestTest = 0.03567160025\n",
      "bestIteration = 3113\n",
      "\n",
      "Training on fold [0/3]\n",
      "\n",
      "bestTest = 0.08381224345\n",
      "bestIteration = 1452\n",
      "\n",
      "Training on fold [1/3]\n",
      "\n",
      "bestTest = 0.07841368993\n",
      "bestIteration = 1452\n",
      "\n",
      "Training on fold [2/3]\n",
      "\n",
      "bestTest = 0.08319876038\n",
      "bestIteration = 1458\n",
      "\n",
      "Training on fold [0/3]\n",
      "\n",
      "bestTest = 0.03154752763\n",
      "bestIteration = 2510\n",
      "\n",
      "Training on fold [1/3]\n",
      "\n",
      "bestTest = 0.03718129791\n",
      "bestIteration = 2498\n",
      "\n",
      "Training on fold [2/3]\n",
      "\n",
      "bestTest = 0.03825439668\n",
      "bestIteration = 2510\n",
      "\n",
      "Training on fold [0/3]\n",
      "\n",
      "bestTest = 0.01763766861\n",
      "bestIteration = 1957\n",
      "\n",
      "Training on fold [1/3]\n",
      "\n",
      "bestTest = 0.01536937324\n",
      "bestIteration = 1757\n",
      "\n",
      "Training on fold [2/3]\n",
      "\n",
      "bestTest = 0.01452493644\n",
      "bestIteration = 1958\n",
      "\n",
      "Training on fold [0/3]\n",
      "\n",
      "bestTest = 0.06068839212\n",
      "bestIteration = 1893\n",
      "\n",
      "Training on fold [1/3]\n",
      "\n",
      "bestTest = 0.06714974001\n",
      "bestIteration = 1895\n",
      "\n",
      "Training on fold [2/3]\n",
      "\n",
      "bestTest = 0.06944180368\n",
      "bestIteration = 1895\n",
      "\n",
      "Training on fold [0/3]\n",
      "\n",
      "bestTest = 0.03837632109\n",
      "bestIteration = 1592\n",
      "\n",
      "Training on fold [1/3]\n",
      "\n",
      "bestTest = 0.05986172087\n",
      "bestIteration = 2494\n",
      "\n",
      "Training on fold [2/3]\n",
      "\n",
      "bestTest = 0.02692787565\n",
      "bestIteration = 2462\n",
      "\n",
      "Training on fold [0/3]\n",
      "\n",
      "bestTest = 0.06291767788\n",
      "bestIteration = 1738\n",
      "\n",
      "Training on fold [1/3]\n",
      "\n",
      "bestTest = 0.05925041834\n",
      "bestIteration = 1743\n",
      "\n",
      "Training on fold [2/3]\n",
      "\n",
      "bestTest = 0.0617800841\n",
      "bestIteration = 1743\n",
      "\n",
      "Training on fold [0/3]\n",
      "\n",
      "bestTest = 0.01540687141\n",
      "bestIteration = 3600\n",
      "\n",
      "Training on fold [1/3]\n",
      "\n",
      "bestTest = 0.01265379624\n",
      "bestIteration = 3597\n",
      "\n",
      "Training on fold [2/3]\n",
      "\n",
      "bestTest = 0.01608178668\n",
      "bestIteration = 3440\n",
      "\n",
      "Training on fold [0/3]\n",
      "\n",
      "bestTest = 0.01210138783\n",
      "bestIteration = 3981\n",
      "\n",
      "Training on fold [1/3]\n",
      "\n",
      "bestTest = 0.01012576031\n",
      "bestIteration = 3981\n",
      "\n",
      "Training on fold [2/3]\n",
      "\n",
      "bestTest = 0.01467936897\n",
      "bestIteration = 3597\n",
      "\n",
      "Training on fold [0/3]\n",
      "\n",
      "bestTest = 0.03618010818\n",
      "bestIteration = 4810\n",
      "\n",
      "Training on fold [1/3]\n",
      "\n",
      "bestTest = 0.02593697796\n",
      "bestIteration = 1405\n",
      "\n",
      "Training on fold [2/3]\n",
      "\n",
      "bestTest = 0.03854833655\n",
      "bestIteration = 1986\n",
      "\n",
      "Number of finished trials: 11\n",
      "Norway Best trial:\n",
      "  Value: 0.012304724881807205\n",
      "Norway  Params: \n",
      "    iterations: 3982\n",
      "    learning_rate: 0.01332819345570656\n",
      "    objective: MAPE\n",
      "    colsample_bylevel: 0.042645347551674644\n",
      "    depth: 8\n",
      "    boosting_type: Plain\n",
      "    bootstrap_type: MVS\n",
      "Training on fold [0/3]\n",
      "\n",
      "bestTest = 0.05432155939\n",
      "bestIteration = 1574\n",
      "\n",
      "Training on fold [1/3]\n",
      "\n",
      "bestTest = 0.04994305915\n",
      "bestIteration = 1567\n",
      "\n",
      "Training on fold [2/3]\n",
      "\n",
      "bestTest = 0.04274197807\n",
      "bestIteration = 1577\n",
      "\n",
      "Training on fold [0/3]\n",
      "\n",
      "bestTest = 0.03034860138\n",
      "bestIteration = 1002\n",
      "\n",
      "Training on fold [1/3]\n",
      "\n",
      "bestTest = 0.04521107053\n",
      "bestIteration = 1002\n",
      "\n",
      "Training on fold [2/3]\n",
      "\n",
      "bestTest = 0.1021388822\n",
      "bestIteration = 1002\n",
      "\n",
      "Training on fold [0/3]\n",
      "\n",
      "bestTest = 0.03082725215\n",
      "bestIteration = 1323\n",
      "\n",
      "Training on fold [1/3]\n",
      "\n",
      "bestTest = 0.02091748158\n",
      "bestIteration = 1363\n",
      "\n",
      "Training on fold [2/3]\n",
      "\n",
      "bestTest = 0.01176556345\n",
      "bestIteration = 1287\n",
      "\n",
      "Training on fold [0/3]\n",
      "\n",
      "bestTest = 0.02724289317\n",
      "bestIteration = 4224\n",
      "\n",
      "Training on fold [1/3]\n",
      "\n",
      "bestTest = 0.02485882023\n",
      "bestIteration = 4230\n",
      "\n",
      "Training on fold [2/3]\n",
      "\n",
      "bestTest = 0.02500375675\n",
      "bestIteration = 4216\n",
      "\n",
      "Training on fold [0/3]\n",
      "\n",
      "bestTest = 0.0336335208\n",
      "bestIteration = 1441\n",
      "\n",
      "Training on fold [1/3]\n",
      "\n",
      "bestTest = 0.01858013927\n",
      "bestIteration = 1441\n",
      "\n",
      "Training on fold [2/3]\n",
      "\n",
      "bestTest = 0.01345705684\n",
      "bestIteration = 1448\n",
      "\n",
      "Training on fold [0/3]\n",
      "\n",
      "bestTest = 0.03019564187\n",
      "bestIteration = 3620\n",
      "\n",
      "Training on fold [1/3]\n",
      "\n",
      "bestTest = 0.04901965667\n",
      "bestIteration = 1121\n",
      "\n",
      "Training on fold [2/3]\n",
      "\n",
      "bestTest = 0.0451399426\n",
      "bestIteration = 547\n",
      "\n",
      "Training on fold [0/3]\n",
      "\n",
      "bestTest = 0.06107753394\n",
      "bestIteration = 1533\n",
      "\n",
      "Training on fold [1/3]\n",
      "\n",
      "bestTest = 0.03816335126\n",
      "bestIteration = 1188\n",
      "\n",
      "Training on fold [2/3]\n",
      "\n",
      "bestTest = 0.03496614033\n",
      "bestIteration = 1335\n",
      "\n",
      "Training on fold [0/3]\n",
      "\n",
      "bestTest = 0.07378668463\n",
      "bestIteration = 2405\n",
      "\n",
      "Training on fold [1/3]\n",
      "\n",
      "bestTest = 0.06631491121\n",
      "bestIteration = 2376\n",
      "\n",
      "Training on fold [2/3]\n",
      "\n",
      "bestTest = 0.09799802205\n",
      "bestIteration = 2386\n",
      "\n",
      "Training on fold [0/3]\n",
      "\n",
      "bestTest = 0.01849502896\n",
      "bestIteration = 4477\n",
      "\n",
      "Training on fold [1/3]\n",
      "\n",
      "bestTest = 0.01314917242\n",
      "bestIteration = 4478\n",
      "\n",
      "Training on fold [2/3]\n",
      "\n",
      "bestTest = 0.01553470693\n",
      "bestIteration = 4065\n",
      "\n",
      "Training on fold [0/3]\n",
      "\n",
      "bestTest = 0.2100612878\n",
      "bestIteration = 718\n",
      "\n",
      "Training on fold [1/3]\n",
      "\n",
      "bestTest = 0.06906278863\n",
      "bestIteration = 522\n",
      "\n",
      "Training on fold [2/3]\n",
      "\n",
      "bestTest = 0.01722902801\n",
      "bestIteration = 983\n",
      "\n",
      "Number of finished trials: 10\n",
      "Singapore Best trial:\n",
      "  Value: 0.015750861041848113\n",
      "Singapore  Params: \n",
      "    iterations: 4479\n",
      "    learning_rate: 0.011581265619296597\n",
      "    objective: MAPE\n",
      "    colsample_bylevel: 0.03993956357440888\n",
      "    depth: 3\n",
      "    boosting_type: Ordered\n",
      "    bootstrap_type: Bernoulli\n",
      "    subsample: 0.3459290784527362\n"
     ]
    }
   ],
   "source": [
    "from functools import partial \n",
    "\n",
    "country_best_params={}\n",
    "for c in countrylist:\n",
    "    objective = partial(objective, country = c)\n",
    "    \n",
    "    optuna.logging.set_verbosity(optuna.logging.CRITICAL)\n",
    "    study = optuna.create_study(\n",
    "        #pruner=optuna.pruners.MedianPruner(n_warmup_steps=5), \n",
    "        direction=\"minimize\",\n",
    "    )\n",
    "    study.optimize(objective, n_trials=100, timeout=600)\n",
    "    \n",
    "    print(\"Number of finished trials: {}\".format(len(study.trials)))\n",
    "    \n",
    "    print(f'{c} Best trial:')\n",
    "    trial = study.best_trial\n",
    "    \n",
    "    print(\"  Value: {}\".format(trial.value))\n",
    "    \n",
    "    print(f\"{c}  Params: \")\n",
    "    country_best_params[c]=trial.params.copy()\n",
    "    for key, value in trial.params.items():\n",
    "        print(\"    {}: {}\".format(key, value))\n",
    "        "
   ]
  },
  {
   "cell_type": "code",
   "execution_count": 53,
   "id": "5d34e3ce",
   "metadata": {
    "execution": {
     "iopub.execute_input": "2025-01-14T05:44:01.173203Z",
     "iopub.status.busy": "2025-01-14T05:44:01.172712Z",
     "iopub.status.idle": "2025-01-14T05:44:01.177088Z",
     "shell.execute_reply": "2025-01-14T05:44:01.175965Z"
    },
    "papermill": {
     "duration": 0.042351,
     "end_time": "2025-01-14T05:44:01.178868",
     "exception": false,
     "start_time": "2025-01-14T05:44:01.136517",
     "status": "completed"
    },
    "tags": []
   },
   "outputs": [],
   "source": [
    "#print(study.best_params)"
   ]
  },
  {
   "cell_type": "code",
   "execution_count": 54,
   "id": "12bff737",
   "metadata": {
    "execution": {
     "iopub.execute_input": "2025-01-14T05:44:01.251777Z",
     "iopub.status.busy": "2025-01-14T05:44:01.251345Z",
     "iopub.status.idle": "2025-01-14T05:44:01.255605Z",
     "shell.execute_reply": "2025-01-14T05:44:01.254447Z"
    },
    "papermill": {
     "duration": 0.042463,
     "end_time": "2025-01-14T05:44:01.257540",
     "exception": false,
     "start_time": "2025-01-14T05:44:01.215077",
     "status": "completed"
    },
    "tags": []
   },
   "outputs": [],
   "source": [
    "# from catboost import Pool,cv\n",
    "# cats=df_train.select_dtypes('category').columns\n",
    "# features=df_train.drop(['id','num_sold','date'],axis=1).columns\n",
    "# train_pool = Pool(data=df_train.drop(['id','num_sold','date'],axis=1),\n",
    "#              label=df_train['num_sold'],\n",
    "#              cat_features=cats.to_list())"
   ]
  },
  {
   "cell_type": "code",
   "execution_count": 55,
   "id": "6df74e73",
   "metadata": {
    "execution": {
     "iopub.execute_input": "2025-01-14T05:44:01.330261Z",
     "iopub.status.busy": "2025-01-14T05:44:01.329861Z",
     "iopub.status.idle": "2025-01-14T05:44:01.333929Z",
     "shell.execute_reply": "2025-01-14T05:44:01.332906Z"
    },
    "papermill": {
     "duration": 0.042254,
     "end_time": "2025-01-14T05:44:01.335686",
     "exception": false,
     "start_time": "2025-01-14T05:44:01.293432",
     "status": "completed"
    },
    "tags": []
   },
   "outputs": [],
   "source": [
    "# from catboost import Pool,cv\n",
    "\n",
    "#              #feature_names=features)\n",
    "\n",
    "\n",
    "# # params = {\"iterations\": 1000,\n",
    "# #           \"depth\": 4,\n",
    "# #           \"loss_function\": \"MAPE\",\n",
    "# #           \"verbose\": False}\n",
    "\n",
    "# scores = cv(train_pool,\n",
    "#             study.best_params,\n",
    "#            fold_count=5,\n",
    "#             verbose=0,\n",
    "#            )\n",
    "\n",
    "# print(scores)"
   ]
  },
  {
   "cell_type": "code",
   "execution_count": 56,
   "id": "facd6070",
   "metadata": {
    "execution": {
     "iopub.execute_input": "2025-01-14T05:44:01.408518Z",
     "iopub.status.busy": "2025-01-14T05:44:01.408150Z",
     "iopub.status.idle": "2025-01-14T05:44:01.412192Z",
     "shell.execute_reply": "2025-01-14T05:44:01.411125Z"
    },
    "papermill": {
     "duration": 0.042583,
     "end_time": "2025-01-14T05:44:01.414177",
     "exception": false,
     "start_time": "2025-01-14T05:44:01.371594",
     "status": "completed"
    },
    "tags": []
   },
   "outputs": [],
   "source": [
    "#print(scores)"
   ]
  },
  {
   "cell_type": "code",
   "execution_count": 57,
   "id": "39ab6ef8",
   "metadata": {
    "execution": {
     "iopub.execute_input": "2025-01-14T05:44:01.558290Z",
     "iopub.status.busy": "2025-01-14T05:44:01.557885Z",
     "iopub.status.idle": "2025-01-14T05:44:01.562627Z",
     "shell.execute_reply": "2025-01-14T05:44:01.561151Z"
    },
    "papermill": {
     "duration": 0.114312,
     "end_time": "2025-01-14T05:44:01.564375",
     "exception": false,
     "start_time": "2025-01-14T05:44:01.450063",
     "status": "completed"
    },
    "tags": []
   },
   "outputs": [],
   "source": [
    "#hyperdict=optuna.importance.get_param_importances(study)"
   ]
  },
  {
   "cell_type": "code",
   "execution_count": 58,
   "id": "5ea79009",
   "metadata": {
    "execution": {
     "iopub.execute_input": "2025-01-14T05:44:01.638318Z",
     "iopub.status.busy": "2025-01-14T05:44:01.637908Z",
     "iopub.status.idle": "2025-01-14T05:44:01.641845Z",
     "shell.execute_reply": "2025-01-14T05:44:01.640882Z"
    },
    "papermill": {
     "duration": 0.042338,
     "end_time": "2025-01-14T05:44:01.643681",
     "exception": false,
     "start_time": "2025-01-14T05:44:01.601343",
     "status": "completed"
    },
    "tags": []
   },
   "outputs": [],
   "source": [
    "#print(hyperdict)"
   ]
  },
  {
   "cell_type": "code",
   "execution_count": 59,
   "id": "54b5aba1",
   "metadata": {
    "execution": {
     "iopub.execute_input": "2025-01-14T05:44:01.718088Z",
     "iopub.status.busy": "2025-01-14T05:44:01.717709Z",
     "iopub.status.idle": "2025-01-14T05:44:01.725312Z",
     "shell.execute_reply": "2025-01-14T05:44:01.724245Z"
    },
    "papermill": {
     "duration": 0.046446,
     "end_time": "2025-01-14T05:44:01.727126",
     "exception": false,
     "start_time": "2025-01-14T05:44:01.680680",
     "status": "completed"
    },
    "tags": []
   },
   "outputs": [
    {
     "name": "stdout",
     "output_type": "stream",
     "text": [
      "Canada\n",
      "{'iterations': 4664, 'learning_rate': 0.015967421436313554, 'objective': 'MAPE', 'colsample_bylevel': 0.048803336237593496, 'depth': 8, 'boosting_type': 'Plain', 'bootstrap_type': 'Bayesian', 'bagging_temperature': 1.472313039586025}\n",
      "Finland\n",
      "{'iterations': 4588, 'learning_rate': 0.01686672745016501, 'objective': 'MAPE', 'colsample_bylevel': 0.3207656490999908, 'depth': 1, 'boosting_type': 'Plain', 'bootstrap_type': 'Bernoulli', 'subsample': 0.4681846656894693}\n",
      "Italy\n",
      "{'iterations': 3719, 'learning_rate': 0.01307812649088125, 'objective': 'MAPE', 'colsample_bylevel': 0.06371206288212844, 'depth': 4, 'boosting_type': 'Plain', 'bootstrap_type': 'MVS'}\n",
      "Kenya\n",
      "{'iterations': 4989, 'learning_rate': 0.02277222950469074, 'objective': 'MAPE', 'colsample_bylevel': 0.025395766143595965, 'depth': 8, 'boosting_type': 'Plain', 'bootstrap_type': 'Bernoulli', 'subsample': 0.848689220697756}\n",
      "Norway\n",
      "{'iterations': 3982, 'learning_rate': 0.01332819345570656, 'objective': 'MAPE', 'colsample_bylevel': 0.042645347551674644, 'depth': 8, 'boosting_type': 'Plain', 'bootstrap_type': 'MVS'}\n",
      "Singapore\n",
      "{'iterations': 4479, 'learning_rate': 0.011581265619296597, 'objective': 'MAPE', 'colsample_bylevel': 0.03993956357440888, 'depth': 3, 'boosting_type': 'Ordered', 'bootstrap_type': 'Bernoulli', 'subsample': 0.3459290784527362}\n"
     ]
    }
   ],
   "source": [
    "for p,v in country_best_params.items():\n",
    "    print(p)\n",
    "    print(v)"
   ]
  },
  {
   "cell_type": "code",
   "execution_count": 60,
   "id": "01d2ad8a",
   "metadata": {
    "execution": {
     "iopub.execute_input": "2025-01-14T05:44:01.800585Z",
     "iopub.status.busy": "2025-01-14T05:44:01.800219Z",
     "iopub.status.idle": "2025-01-14T05:44:01.805538Z",
     "shell.execute_reply": "2025-01-14T05:44:01.804377Z"
    },
    "papermill": {
     "duration": 0.044164,
     "end_time": "2025-01-14T05:44:01.807296",
     "exception": false,
     "start_time": "2025-01-14T05:44:01.763132",
     "status": "completed"
    },
    "tags": []
   },
   "outputs": [],
   "source": [
    "#Execute this cell in case of loading fitted model to do prediction\n",
    "country_model={}\n",
    "def LoadModel():\n",
    "    Path='/kaggle/input/cbfitmodels'\n",
    "    countrylist=['Canada','Finland','Italy','Kenya','Norway','Singapore']\n",
    "    for c in countrylist:\n",
    "        country_model[c]=cb.CatBoostRegressor().load_model(f'{Path}/cbfit_{c}')\n"
   ]
  },
  {
   "cell_type": "code",
   "execution_count": 61,
   "id": "55cb24eb",
   "metadata": {
    "execution": {
     "iopub.execute_input": "2025-01-14T05:44:01.880759Z",
     "iopub.status.busy": "2025-01-14T05:44:01.880405Z",
     "iopub.status.idle": "2025-01-14T05:44:02.363305Z",
     "shell.execute_reply": "2025-01-14T05:44:02.362193Z"
    },
    "papermill": {
     "duration": 0.522193,
     "end_time": "2025-01-14T05:44:02.365472",
     "exception": false,
     "start_time": "2025-01-14T05:44:01.843279",
     "status": "completed"
    },
    "tags": []
   },
   "outputs": [],
   "source": [
    "#Use when using model without training\n",
    "LoadModel()"
   ]
  },
  {
   "cell_type": "code",
   "execution_count": 62,
   "id": "d2623104",
   "metadata": {
    "execution": {
     "iopub.execute_input": "2025-01-14T05:44:02.440452Z",
     "iopub.status.busy": "2025-01-14T05:44:02.440066Z",
     "iopub.status.idle": "2025-01-14T05:44:02.447015Z",
     "shell.execute_reply": "2025-01-14T05:44:02.445872Z"
    },
    "papermill": {
     "duration": 0.047158,
     "end_time": "2025-01-14T05:44:02.448877",
     "exception": false,
     "start_time": "2025-01-14T05:44:02.401719",
     "status": "completed"
    },
    "tags": []
   },
   "outputs": [],
   "source": [
    "country_best_params={}\n",
    "country_best_params['Canada']={'iterations': 3593, 'learning_rate': 0.012827192029471704, 'objective': 'MAPE', 'colsample_bylevel': 0.09122674054287529, 'depth': 3, 'boosting_type': 'Ordered', 'bootstrap_type': 'Bernoulli', 'subsample': 0.3698567303900272}\n",
    "country_best_params['Finland']={'iterations': 4674, 'learning_rate': 0.021005624891915504, 'objective': 'MAPE', 'colsample_bylevel': 0.5784183002099044, 'depth': 2, 'boosting_type': 'Ordered', 'bootstrap_type': 'Bayesian', 'bagging_temperature': 5.782146139508431}\n",
    "country_best_params['Italy']={'iterations': 1398, 'learning_rate': 0.0251234589892742, 'objective': 'MAPE', 'colsample_bylevel': 0.049188944104342755, 'depth': 7, 'boosting_type': 'Plain', 'bootstrap_type': 'MVS'}\n",
    "country_best_params['Kenya']={'iterations': 3924, 'learning_rate': 0.016615674668667934, 'objective': 'MAPE', 'colsample_bylevel': 0.4274609331782009, 'depth': 2, 'boosting_type': 'Ordered', 'bootstrap_type': 'Bayesian', 'bagging_temperature': 6.2645325168308865}\n",
    "country_best_params['Norway']={'iterations': 3851, 'learning_rate': 0.019929523358906295, 'objective': 'MAPE', 'colsample_bylevel': 0.07338903404462888, 'depth': 2, 'boosting_type': 'Ordered', 'bootstrap_type': 'MVS'}\n",
    "country_best_params['Singapore']={'iterations': 1094, 'learning_rate': 0.02694754587058969, 'objective': 'MAPE', 'colsample_bylevel': 0.554849569101183, 'depth': 3, 'boosting_type': 'Plain', 'bootstrap_type': 'MVS'}"
   ]
  },
  {
   "cell_type": "code",
   "execution_count": 63,
   "id": "429e1b82",
   "metadata": {
    "execution": {
     "iopub.execute_input": "2025-01-14T05:44:02.522468Z",
     "iopub.status.busy": "2025-01-14T05:44:02.522092Z",
     "iopub.status.idle": "2025-01-14T05:46:55.749724Z",
     "shell.execute_reply": "2025-01-14T05:46:55.748528Z"
    },
    "papermill": {
     "duration": 173.301758,
     "end_time": "2025-01-14T05:46:55.786978",
     "exception": false,
     "start_time": "2025-01-14T05:44:02.485220",
     "status": "completed"
    },
    "tags": []
   },
   "outputs": [
    {
     "name": "stdout",
     "output_type": "stream",
     "text": [
      "Canada {'learn': {'MAPE': 0.008207124142566906}, 'validation': {'MAPE': 0.008790210259472141}}\n",
      "Finland {'learn': {'MAPE': 0.00904276240195855}, 'validation': {'MAPE': 0.009471223033995594}}\n",
      "Italy {'learn': {'MAPE': 0.008666336495058411}, 'validation': {'MAPE': 0.016709852872092812}}\n",
      "Kenya {'learn': {'MAPE': 0.0233427411497259}, 'validation': {'MAPE': 0.02914059525952352}}\n",
      "Norway {'learn': {'MAPE': 0.010373251986302437}, 'validation': {'MAPE': 0.015064061018529966}}\n",
      "Singapore {'learn': {'MAPE': 0.008450937776458752}, 'validation': {'MAPE': 0.00920698620384751}}\n"
     ]
    }
   ],
   "source": [
    "#Train model with best param and iteration>1000 before prediction\n",
    "country_model={}\n",
    "for c in countrylist:\n",
    "    country_model[c]=cb.CatBoostRegressor(**country_best_params[c],verbose=0)\n",
    "    country_model[c].fit(country_train_pool[c],eval_set=country_valid_pool[c])\n",
    "    country_model[c].save_model(f'cbfit_{c}')\n",
    "    print(f'{c} {country_model[c].get_best_score()}')"
   ]
  },
  {
   "cell_type": "code",
   "execution_count": 64,
   "id": "ef702f12",
   "metadata": {
    "execution": {
     "iopub.execute_input": "2025-01-14T05:46:55.861984Z",
     "iopub.status.busy": "2025-01-14T05:46:55.861572Z",
     "iopub.status.idle": "2025-01-14T05:46:55.867697Z",
     "shell.execute_reply": "2025-01-14T05:46:55.866709Z"
    },
    "papermill": {
     "duration": 0.045886,
     "end_time": "2025-01-14T05:46:55.869333",
     "exception": false,
     "start_time": "2025-01-14T05:46:55.823447",
     "status": "completed"
    },
    "tags": []
   },
   "outputs": [
    {
     "data": {
      "text/plain": [
       "{'Canada': <catboost.core.CatBoostRegressor at 0x7ff739337d60>,\n",
       " 'Finland': <catboost.core.CatBoostRegressor at 0x7ff7392d6b30>,\n",
       " 'Italy': <catboost.core.CatBoostRegressor at 0x7ff7392d68f0>,\n",
       " 'Kenya': <catboost.core.CatBoostRegressor at 0x7ff739337df0>,\n",
       " 'Norway': <catboost.core.CatBoostRegressor at 0x7ff739337130>,\n",
       " 'Singapore': <catboost.core.CatBoostRegressor at 0x7ff73d8ae7d0>}"
      ]
     },
     "execution_count": 64,
     "metadata": {},
     "output_type": "execute_result"
    }
   ],
   "source": [
    "country_model"
   ]
  },
  {
   "cell_type": "code",
   "execution_count": 65,
   "id": "fef2a686",
   "metadata": {
    "execution": {
     "iopub.execute_input": "2025-01-14T05:46:55.944507Z",
     "iopub.status.busy": "2025-01-14T05:46:55.944132Z",
     "iopub.status.idle": "2025-01-14T05:46:59.961693Z",
     "shell.execute_reply": "2025-01-14T05:46:59.960618Z"
    },
    "papermill": {
     "duration": 4.058971,
     "end_time": "2025-01-14T05:46:59.965739",
     "exception": false,
     "start_time": "2025-01-14T05:46:55.906768",
     "status": "completed"
    },
    "tags": []
   },
   "outputs": [
    {
     "name": "stderr",
     "output_type": "stream",
     "text": [
      "<ipython-input-65-b533e4724463>:7: SettingWithCopyWarning: \n",
      "A value is trying to be set on a copy of a slice from a DataFrame.\n",
      "Try using .loc[row_indexer,col_indexer] = value instead\n",
      "\n",
      "See the caveats in the documentation: https://pandas.pydata.org/pandas-docs/stable/user_guide/indexing.html#returning-a-view-versus-a-copy\n",
      "  df['num_sold']=country_predicts[c]\n",
      "<ipython-input-65-b533e4724463>:9: SettingWithCopyWarning: \n",
      "A value is trying to be set on a copy of a slice from a DataFrame.\n",
      "Try using .loc[row_indexer,col_indexer] = value instead\n",
      "\n",
      "See the caveats in the documentation: https://pandas.pydata.org/pandas-docs/stable/user_guide/indexing.html#returning-a-view-versus-a-copy\n",
      "  df['rolling_mean'] = df['num_sold'].rolling(window=30).mean()\n",
      "<ipython-input-65-b533e4724463>:10: SettingWithCopyWarning: \n",
      "A value is trying to be set on a copy of a slice from a DataFrame.\n",
      "Try using .loc[row_indexer,col_indexer] = value instead\n",
      "\n",
      "See the caveats in the documentation: https://pandas.pydata.org/pandas-docs/stable/user_guide/indexing.html#returning-a-view-versus-a-copy\n",
      "  df['rolling_std'] = df['num_sold'].rolling(window=30).std()\n",
      "<ipython-input-65-b533e4724463>:7: SettingWithCopyWarning: \n",
      "A value is trying to be set on a copy of a slice from a DataFrame.\n",
      "Try using .loc[row_indexer,col_indexer] = value instead\n",
      "\n",
      "See the caveats in the documentation: https://pandas.pydata.org/pandas-docs/stable/user_guide/indexing.html#returning-a-view-versus-a-copy\n",
      "  df['num_sold']=country_predicts[c]\n",
      "<ipython-input-65-b533e4724463>:9: SettingWithCopyWarning: \n",
      "A value is trying to be set on a copy of a slice from a DataFrame.\n",
      "Try using .loc[row_indexer,col_indexer] = value instead\n",
      "\n",
      "See the caveats in the documentation: https://pandas.pydata.org/pandas-docs/stable/user_guide/indexing.html#returning-a-view-versus-a-copy\n",
      "  df['rolling_mean'] = df['num_sold'].rolling(window=30).mean()\n",
      "<ipython-input-65-b533e4724463>:10: SettingWithCopyWarning: \n",
      "A value is trying to be set on a copy of a slice from a DataFrame.\n",
      "Try using .loc[row_indexer,col_indexer] = value instead\n",
      "\n",
      "See the caveats in the documentation: https://pandas.pydata.org/pandas-docs/stable/user_guide/indexing.html#returning-a-view-versus-a-copy\n",
      "  df['rolling_std'] = df['num_sold'].rolling(window=30).std()\n",
      "<ipython-input-65-b533e4724463>:7: SettingWithCopyWarning: \n",
      "A value is trying to be set on a copy of a slice from a DataFrame.\n",
      "Try using .loc[row_indexer,col_indexer] = value instead\n",
      "\n",
      "See the caveats in the documentation: https://pandas.pydata.org/pandas-docs/stable/user_guide/indexing.html#returning-a-view-versus-a-copy\n",
      "  df['num_sold']=country_predicts[c]\n",
      "<ipython-input-65-b533e4724463>:9: SettingWithCopyWarning: \n",
      "A value is trying to be set on a copy of a slice from a DataFrame.\n",
      "Try using .loc[row_indexer,col_indexer] = value instead\n",
      "\n",
      "See the caveats in the documentation: https://pandas.pydata.org/pandas-docs/stable/user_guide/indexing.html#returning-a-view-versus-a-copy\n",
      "  df['rolling_mean'] = df['num_sold'].rolling(window=30).mean()\n",
      "<ipython-input-65-b533e4724463>:10: SettingWithCopyWarning: \n",
      "A value is trying to be set on a copy of a slice from a DataFrame.\n",
      "Try using .loc[row_indexer,col_indexer] = value instead\n",
      "\n",
      "See the caveats in the documentation: https://pandas.pydata.org/pandas-docs/stable/user_guide/indexing.html#returning-a-view-versus-a-copy\n",
      "  df['rolling_std'] = df['num_sold'].rolling(window=30).std()\n",
      "<ipython-input-65-b533e4724463>:7: SettingWithCopyWarning: \n",
      "A value is trying to be set on a copy of a slice from a DataFrame.\n",
      "Try using .loc[row_indexer,col_indexer] = value instead\n",
      "\n",
      "See the caveats in the documentation: https://pandas.pydata.org/pandas-docs/stable/user_guide/indexing.html#returning-a-view-versus-a-copy\n",
      "  df['num_sold']=country_predicts[c]\n",
      "<ipython-input-65-b533e4724463>:9: SettingWithCopyWarning: \n",
      "A value is trying to be set on a copy of a slice from a DataFrame.\n",
      "Try using .loc[row_indexer,col_indexer] = value instead\n",
      "\n",
      "See the caveats in the documentation: https://pandas.pydata.org/pandas-docs/stable/user_guide/indexing.html#returning-a-view-versus-a-copy\n",
      "  df['rolling_mean'] = df['num_sold'].rolling(window=30).mean()\n",
      "<ipython-input-65-b533e4724463>:10: SettingWithCopyWarning: \n",
      "A value is trying to be set on a copy of a slice from a DataFrame.\n",
      "Try using .loc[row_indexer,col_indexer] = value instead\n",
      "\n",
      "See the caveats in the documentation: https://pandas.pydata.org/pandas-docs/stable/user_guide/indexing.html#returning-a-view-versus-a-copy\n",
      "  df['rolling_std'] = df['num_sold'].rolling(window=30).std()\n",
      "<ipython-input-65-b533e4724463>:7: SettingWithCopyWarning: \n",
      "A value is trying to be set on a copy of a slice from a DataFrame.\n",
      "Try using .loc[row_indexer,col_indexer] = value instead\n",
      "\n",
      "See the caveats in the documentation: https://pandas.pydata.org/pandas-docs/stable/user_guide/indexing.html#returning-a-view-versus-a-copy\n",
      "  df['num_sold']=country_predicts[c]\n",
      "<ipython-input-65-b533e4724463>:9: SettingWithCopyWarning: \n",
      "A value is trying to be set on a copy of a slice from a DataFrame.\n",
      "Try using .loc[row_indexer,col_indexer] = value instead\n",
      "\n",
      "See the caveats in the documentation: https://pandas.pydata.org/pandas-docs/stable/user_guide/indexing.html#returning-a-view-versus-a-copy\n",
      "  df['rolling_mean'] = df['num_sold'].rolling(window=30).mean()\n",
      "<ipython-input-65-b533e4724463>:10: SettingWithCopyWarning: \n",
      "A value is trying to be set on a copy of a slice from a DataFrame.\n",
      "Try using .loc[row_indexer,col_indexer] = value instead\n",
      "\n",
      "See the caveats in the documentation: https://pandas.pydata.org/pandas-docs/stable/user_guide/indexing.html#returning-a-view-versus-a-copy\n",
      "  df['rolling_std'] = df['num_sold'].rolling(window=30).std()\n",
      "<ipython-input-65-b533e4724463>:7: SettingWithCopyWarning: \n",
      "A value is trying to be set on a copy of a slice from a DataFrame.\n",
      "Try using .loc[row_indexer,col_indexer] = value instead\n",
      "\n",
      "See the caveats in the documentation: https://pandas.pydata.org/pandas-docs/stable/user_guide/indexing.html#returning-a-view-versus-a-copy\n",
      "  df['num_sold']=country_predicts[c]\n",
      "<ipython-input-65-b533e4724463>:9: SettingWithCopyWarning: \n",
      "A value is trying to be set on a copy of a slice from a DataFrame.\n",
      "Try using .loc[row_indexer,col_indexer] = value instead\n",
      "\n",
      "See the caveats in the documentation: https://pandas.pydata.org/pandas-docs/stable/user_guide/indexing.html#returning-a-view-versus-a-copy\n",
      "  df['rolling_mean'] = df['num_sold'].rolling(window=30).mean()\n",
      "<ipython-input-65-b533e4724463>:10: SettingWithCopyWarning: \n",
      "A value is trying to be set on a copy of a slice from a DataFrame.\n",
      "Try using .loc[row_indexer,col_indexer] = value instead\n",
      "\n",
      "See the caveats in the documentation: https://pandas.pydata.org/pandas-docs/stable/user_guide/indexing.html#returning-a-view-versus-a-copy\n",
      "  df['rolling_std'] = df['num_sold'].rolling(window=30).std()\n"
     ]
    },
    {
     "data": {
      "image/png": "[encoded data removed]",
      "text/plain": [
       "<Figure size 1200x800 with 6 Axes>"
      ]
     },
     "metadata": {},
     "output_type": "display_data"
    }
   ],
   "source": [
    "fig, axes = plt.subplots(2, 3, figsize=(12, 8))\n",
    "testcountrylist=df_test['country'].unique().tolist()\n",
    "country_predicts={}\n",
    "for i,c in enumerate(testcountrylist):\n",
    "    df=df_test[df_test['country']==c]\n",
    "    country_predicts[c] = np.expm1(country_model[c].predict(df.drop(['id','country'],axis=1)))\n",
    "    df['num_sold']=country_predicts[c]\n",
    "    df.set_index('date')\n",
    "    df['rolling_mean'] = df['num_sold'].rolling(window=30).mean()\n",
    "    df['rolling_std'] = df['num_sold'].rolling(window=30).std()\n",
    "    df[['num_sold', 'rolling_mean', 'rolling_std']].plot(ax=axes.flat[i],title=f'{c} Rolling Mean and Std Dev')\n",
    "\n",
    "plt.tight_layout()\n",
    "plt.show()"
   ]
  },
  {
   "cell_type": "code",
   "execution_count": 66,
   "id": "9b55a54f",
   "metadata": {
    "execution": {
     "iopub.execute_input": "2025-01-14T05:47:00.049171Z",
     "iopub.status.busy": "2025-01-14T05:47:00.048772Z",
     "iopub.status.idle": "2025-01-14T05:47:00.080013Z",
     "shell.execute_reply": "2025-01-14T05:47:00.079053Z"
    },
    "papermill": {
     "duration": 0.074547,
     "end_time": "2025-01-14T05:47:00.081870",
     "exception": false,
     "start_time": "2025-01-14T05:47:00.007323",
     "status": "completed"
    },
    "tags": []
   },
   "outputs": [],
   "source": [
    "cdf={}\n",
    "for c in testcountrylist:\n",
    "    cid=df_test[df_test['country']==c]['id']\n",
    "    cdf[c]=pd.concat([cid.reset_index(drop=True),pd.DataFrame(np.round(country_predicts[c],0),columns=['num_sold'])],axis=1)\n",
    "   "
   ]
  },
  {
   "cell_type": "code",
   "execution_count": 67,
   "id": "690c2551",
   "metadata": {
    "execution": {
     "iopub.execute_input": "2025-01-14T05:47:00.165731Z",
     "iopub.status.busy": "2025-01-14T05:47:00.165318Z",
     "iopub.status.idle": "2025-01-14T05:47:00.173147Z",
     "shell.execute_reply": "2025-01-14T05:47:00.172166Z"
    },
    "papermill": {
     "duration": 0.052739,
     "end_time": "2025-01-14T05:47:00.175178",
     "exception": false,
     "start_time": "2025-01-14T05:47:00.122439",
     "status": "completed"
    },
    "tags": []
   },
   "outputs": [],
   "source": [
    "temp = pd.concat([df.reset_index(drop=True) for df in cdf.values()])"
   ]
  },
  {
   "cell_type": "code",
   "execution_count": 68,
   "id": "67765143",
   "metadata": {
    "execution": {
     "iopub.execute_input": "2025-01-14T05:47:00.257818Z",
     "iopub.status.busy": "2025-01-14T05:47:00.257406Z",
     "iopub.status.idle": "2025-01-14T05:47:00.277776Z",
     "shell.execute_reply": "2025-01-14T05:47:00.276824Z"
    },
    "papermill": {
     "duration": 0.063621,
     "end_time": "2025-01-14T05:47:00.279746",
     "exception": false,
     "start_time": "2025-01-14T05:47:00.216125",
     "status": "completed"
    },
    "tags": []
   },
   "outputs": [],
   "source": [
    "temp=temp.drop_duplicates()"
   ]
  },
  {
   "cell_type": "code",
   "execution_count": 69,
   "id": "93c08433",
   "metadata": {
    "execution": {
     "iopub.execute_input": "2025-01-14T05:47:00.363097Z",
     "iopub.status.busy": "2025-01-14T05:47:00.362707Z",
     "iopub.status.idle": "2025-01-14T05:47:00.506619Z",
     "shell.execute_reply": "2025-01-14T05:47:00.505680Z"
    },
    "papermill": {
     "duration": 0.188038,
     "end_time": "2025-01-14T05:47:00.508614",
     "exception": false,
     "start_time": "2025-01-14T05:47:00.320576",
     "status": "completed"
    },
    "tags": []
   },
   "outputs": [],
   "source": [
    "temp.to_csv('submission_6country_dropna_npround3.csv',index=False)"
   ]
  },
  {
   "cell_type": "code",
   "execution_count": 70,
   "id": "6c15214d",
   "metadata": {
    "execution": {
     "iopub.execute_input": "2025-01-14T05:47:00.593361Z",
     "iopub.status.busy": "2025-01-14T05:47:00.592941Z",
     "iopub.status.idle": "2025-01-14T05:47:00.626145Z",
     "shell.execute_reply": "2025-01-14T05:47:00.624720Z"
    },
    "papermill": {
     "duration": 0.079103,
     "end_time": "2025-01-14T05:47:00.628658",
     "exception": false,
     "start_time": "2025-01-14T05:47:00.549555",
     "status": "completed"
    },
    "tags": []
   },
   "outputs": [],
   "source": [
    "cdf={}\n",
    "for c in testcountrylist:\n",
    "    cid=df_test[df_test['country']==c]['id']\n",
    "    cdf[c]=pd.concat([cid.reset_index(drop=True),pd.DataFrame(np.fix(country_predicts[c]),columns=['num_sold'])],axis=1)"
   ]
  },
  {
   "cell_type": "code",
   "execution_count": 71,
   "id": "c48f5faf",
   "metadata": {
    "execution": {
     "iopub.execute_input": "2025-01-14T05:47:00.738448Z",
     "iopub.status.busy": "2025-01-14T05:47:00.737987Z",
     "iopub.status.idle": "2025-01-14T05:47:00.880466Z",
     "shell.execute_reply": "2025-01-14T05:47:00.879339Z"
    },
    "papermill": {
     "duration": 0.196228,
     "end_time": "2025-01-14T05:47:00.882510",
     "exception": false,
     "start_time": "2025-01-14T05:47:00.686282",
     "status": "completed"
    },
    "tags": []
   },
   "outputs": [],
   "source": [
    "#pd.concat([df_test['id'],pd.DataFrame(np.round(predicts,0),columns=['num_sold'])],axis=1).reset_index(drop=True).to_csv('submission_impute_dropna_holidays_conseddays.csv',index=False)\n",
    "temp = pd.concat([df.reset_index(drop=True) for df in cdf.values()])\n",
    "temp=temp.drop_duplicates()\n",
    "temp.to_csv('submission_6country_dropna_npfix3.csv',index=False)"
   ]
  }
 ],
 "metadata": {
  "kaggle": {
   "accelerator": "none",
   "dataSources": [
    {
     "databundleVersionId": 10652996,
     "sourceId": 85723,
     "sourceType": "competition"
    },
    {
     "datasetId": 6470396,
     "sourceId": 10452614,
     "sourceType": "datasetVersion"
    }
   ],
   "dockerImageVersionId": 30822,
   "isGpuEnabled": false,
   "isInternetEnabled": true,
   "language": "python",
   "sourceType": "notebook"
  },
  "kernelspec": {
   "display_name": "Python 3",
   "language": "python",
   "name": "python3"
  },
  "language_info": {
   "codemirror_mode": {
    "name": "ipython",
    "version": 3
   },
   "file_extension": ".py",
   "mimetype": "text/x-python",
   "name": "python",
   "nbconvert_exporter": "python",
   "pygments_lexer": "ipython3",
   "version": "3.10.12"
  },
  "papermill": {
   "default_parameters": {},
   "duration": 4128.334574,
   "end_time": "2025-01-14T05:47:01.954519",
   "environment_variables": {},
   "exception": null,
   "input_path": "__notebook__.ipynb",
   "output_path": "__notebook__.ipynb",
   "parameters": {},
   "start_time": "2025-01-14T04:38:13.619945",
   "version": "2.6.0"
  }
 },
 "nbformat": 4,
 "nbformat_minor": 5
}
