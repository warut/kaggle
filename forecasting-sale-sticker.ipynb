{
 "cells": [
  {
   "cell_type": "code",
   "execution_count": 1,
   "id": "ebc9483c",
   "metadata": {
    "_cell_guid": "b1076dfc-b9ad-4769-8c92-a6c4dae69d19",
    "_uuid": "8f2839f25d086af736a60e9eeb907d3b93b6e0e5",
    "execution": {
     "iopub.execute_input": "2025-01-08T05:04:19.366280Z",
     "iopub.status.busy": "2025-01-08T05:04:19.365900Z",
     "iopub.status.idle": "2025-01-08T05:04:19.775316Z",
     "shell.execute_reply": "2025-01-08T05:04:19.773822Z"
    },
    "papermill": {
     "duration": 0.421062,
     "end_time": "2025-01-08T05:04:19.777512",
     "exception": false,
     "start_time": "2025-01-08T05:04:19.356450",
     "status": "completed"
    },
    "tags": []
   },
   "outputs": [
    {
     "name": "stdout",
     "output_type": "stream",
     "text": [
      "/kaggle/input/playground-series-s5e1/sample_submission.csv\n",
      "/kaggle/input/playground-series-s5e1/train.csv\n",
      "/kaggle/input/playground-series-s5e1/test.csv\n"
     ]
    }
   ],
   "source": [
    "# This Python 3 environment comes with many helpful analytics libraries installed\n",
    "# It is defined by the kaggle/python Docker image: https://github.com/kaggle/docker-python\n",
    "# For example, here's several helpful packages to load\n",
    "\n",
    "import numpy as np # linear algebra\n",
    "import pandas as pd # data processing, CSV file I/O (e.g. pd.read_csv)\n",
    "\n",
    "# Input data files are available in the read-only \"../input/\" directory\n",
    "# For example, running this (by clicking run or pressing Shift+Enter) will list all files under the input directory\n",
    "\n",
    "import os\n",
    "for dirname, _, filenames in os.walk('/kaggle/input'):\n",
    "    for filename in filenames:\n",
    "        print(os.path.join(dirname, filename))\n",
    "\n",
    "# You can write up to 20GB to the current directory (/kaggle/working/) that gets preserved as output when you create a version using \"Save & Run All\" \n",
    "# You can also write temporary files to /kaggle/temp/, but they won't be saved outside of the current session"
   ]
  },
  {
   "cell_type": "code",
   "execution_count": 2,
   "id": "f776f75f",
   "metadata": {
    "execution": {
     "iopub.execute_input": "2025-01-08T05:04:19.795018Z",
     "iopub.status.busy": "2025-01-08T05:04:19.794444Z",
     "iopub.status.idle": "2025-01-08T05:04:26.495973Z",
     "shell.execute_reply": "2025-01-08T05:04:26.494243Z"
    },
    "papermill": {
     "duration": 6.712758,
     "end_time": "2025-01-08T05:04:26.498309",
     "exception": false,
     "start_time": "2025-01-08T05:04:19.785551",
     "status": "completed"
    },
    "tags": []
   },
   "outputs": [
    {
     "name": "stdout",
     "output_type": "stream",
     "text": [
      "Collecting optuna-integration[catboost]\r\n",
      "  Downloading optuna_integration-4.1.0-py3-none-any.whl.metadata (12 kB)\r\n",
      "Requirement already satisfied: optuna in /usr/local/lib/python3.10/dist-packages (from optuna-integration[catboost]) (4.1.0)\r\n",
      "Requirement already satisfied: numpy<2.0.0 in /usr/local/lib/python3.10/dist-packages (from optuna-integration[catboost]) (1.26.4)\r\n",
      "Requirement already satisfied: catboost in /usr/local/lib/python3.10/dist-packages (from optuna-integration[catboost]) (1.2.7)\r\n",
      "Requirement already satisfied: graphviz in /usr/local/lib/python3.10/dist-packages (from catboost->optuna-integration[catboost]) (0.20.3)\r\n",
      "Requirement already satisfied: matplotlib in /usr/local/lib/python3.10/dist-packages (from catboost->optuna-integration[catboost]) (3.7.1)\r\n",
      "Requirement already satisfied: pandas>=0.24 in /usr/local/lib/python3.10/dist-packages (from catboost->optuna-integration[catboost]) (2.1.4)\r\n",
      "Requirement already satisfied: scipy in /usr/local/lib/python3.10/dist-packages (from catboost->optuna-integration[catboost]) (1.13.1)\r\n",
      "Requirement already satisfied: plotly in /usr/local/lib/python3.10/dist-packages (from catboost->optuna-integration[catboost]) (5.24.1)\r\n",
      "Requirement already satisfied: six in /usr/local/lib/python3.10/dist-packages (from catboost->optuna-integration[catboost]) (1.16.0)\r\n",
      "Requirement already satisfied: alembic>=1.5.0 in /usr/local/lib/python3.10/dist-packages (from optuna->optuna-integration[catboost]) (1.14.0)\r\n",
      "Requirement already satisfied: colorlog in /usr/local/lib/python3.10/dist-packages (from optuna->optuna-integration[catboost]) (6.9.0)\r\n",
      "Requirement already satisfied: packaging>=20.0 in /usr/local/lib/python3.10/dist-packages (from optuna->optuna-integration[catboost]) (24.1)\r\n",
      "Requirement already satisfied: sqlalchemy>=1.4.2 in /usr/local/lib/python3.10/dist-packages (from optuna->optuna-integration[catboost]) (2.0.35)\r\n",
      "Requirement already satisfied: tqdm in /usr/local/lib/python3.10/dist-packages (from optuna->optuna-integration[catboost]) (4.66.5)\r\n",
      "Requirement already satisfied: PyYAML in /usr/local/lib/python3.10/dist-packages (from optuna->optuna-integration[catboost]) (6.0.2)\r\n",
      "Requirement already satisfied: Mako in /usr/local/lib/python3.10/dist-packages (from alembic>=1.5.0->optuna->optuna-integration[catboost]) (1.3.8)\r\n",
      "Requirement already satisfied: typing-extensions>=4 in /usr/local/lib/python3.10/dist-packages (from alembic>=1.5.0->optuna->optuna-integration[catboost]) (4.12.2)\r\n",
      "Requirement already satisfied: python-dateutil>=2.8.2 in /usr/local/lib/python3.10/dist-packages (from pandas>=0.24->catboost->optuna-integration[catboost]) (2.8.2)\r\n",
      "Requirement already satisfied: pytz>=2020.1 in /usr/local/lib/python3.10/dist-packages (from pandas>=0.24->catboost->optuna-integration[catboost]) (2024.2)\r\n",
      "Requirement already satisfied: tzdata>=2022.1 in /usr/local/lib/python3.10/dist-packages (from pandas>=0.24->catboost->optuna-integration[catboost]) (2024.1)\r\n",
      "Requirement already satisfied: greenlet!=0.4.17 in /usr/local/lib/python3.10/dist-packages (from sqlalchemy>=1.4.2->optuna->optuna-integration[catboost]) (3.1.0)\r\n",
      "Requirement already satisfied: contourpy>=1.0.1 in /usr/local/lib/python3.10/dist-packages (from matplotlib->catboost->optuna-integration[catboost]) (1.3.0)\r\n",
      "Requirement already satisfied: cycler>=0.10 in /usr/local/lib/python3.10/dist-packages (from matplotlib->catboost->optuna-integration[catboost]) (0.12.1)\r\n",
      "Requirement already satisfied: fonttools>=4.22.0 in /usr/local/lib/python3.10/dist-packages (from matplotlib->catboost->optuna-integration[catboost]) (4.53.1)\r\n",
      "Requirement already satisfied: kiwisolver>=1.0.1 in /usr/local/lib/python3.10/dist-packages (from matplotlib->catboost->optuna-integration[catboost]) (1.4.7)\r\n",
      "Requirement already satisfied: pillow>=6.2.0 in /usr/local/lib/python3.10/dist-packages (from matplotlib->catboost->optuna-integration[catboost]) (10.4.0)\r\n",
      "Requirement already satisfied: pyparsing>=2.3.1 in /usr/local/lib/python3.10/dist-packages (from matplotlib->catboost->optuna-integration[catboost]) (3.1.4)\r\n",
      "Requirement already satisfied: tenacity>=6.2.0 in /usr/local/lib/python3.10/dist-packages (from plotly->catboost->optuna-integration[catboost]) (9.0.0)\r\n",
      "Requirement already satisfied: MarkupSafe>=0.9.2 in /usr/local/lib/python3.10/dist-packages (from Mako->alembic>=1.5.0->optuna->optuna-integration[catboost]) (2.1.5)\r\n",
      "Downloading optuna_integration-4.1.0-py3-none-any.whl (97 kB)\r\n",
      "\u001b[2K   \u001b[90m━━━━━━━━━━━━━━━━━━━━━━━━━━━━━━━━━━━━━━━━\u001b[0m \u001b[32m97.4/97.4 kB\u001b[0m \u001b[31m2.7 MB/s\u001b[0m eta \u001b[36m0:00:00\u001b[0m\r\n",
      "\u001b[?25hInstalling collected packages: optuna-integration\r\n",
      "Successfully installed optuna-integration-4.1.0\r\n"
     ]
    }
   ],
   "source": [
    "!pip install optuna-integration[catboost]"
   ]
  },
  {
   "cell_type": "code",
   "execution_count": 3,
   "id": "d88dfba7",
   "metadata": {
    "execution": {
     "iopub.execute_input": "2025-01-08T05:04:26.518180Z",
     "iopub.status.busy": "2025-01-08T05:04:26.517737Z",
     "iopub.status.idle": "2025-01-08T05:04:29.424176Z",
     "shell.execute_reply": "2025-01-08T05:04:29.423016Z"
    },
    "papermill": {
     "duration": 2.91933,
     "end_time": "2025-01-08T05:04:29.426337",
     "exception": false,
     "start_time": "2025-01-08T05:04:26.507007",
     "status": "completed"
    },
    "tags": []
   },
   "outputs": [],
   "source": [
    "import pandas as pd\n",
    "import numpy as np\n",
    "import optuna\n",
    "import catboost as cb\n",
    "import matplotlib\n",
    "import seaborn as sns\n",
    "from sklearn.metrics import mean_absolute_percentage_error\n",
    "from sklearn.model_selection import train_test_split\n",
    "from optuna.integration import CatBoostPruningCallback\n",
    "\n",
    "\n"
   ]
  },
  {
   "cell_type": "code",
   "execution_count": 4,
   "id": "06e611e4",
   "metadata": {
    "execution": {
     "iopub.execute_input": "2025-01-08T05:04:29.446113Z",
     "iopub.status.busy": "2025-01-08T05:04:29.445566Z",
     "iopub.status.idle": "2025-01-08T05:04:29.943205Z",
     "shell.execute_reply": "2025-01-08T05:04:29.942148Z"
    },
    "papermill": {
     "duration": 0.509821,
     "end_time": "2025-01-08T05:04:29.945102",
     "exception": false,
     "start_time": "2025-01-08T05:04:29.435281",
     "status": "completed"
    },
    "tags": []
   },
   "outputs": [],
   "source": [
    "df_train=pd.read_csv('/kaggle/input/playground-series-s5e1/train.csv')\n",
    "df_test=pd.read_csv('/kaggle/input/playground-series-s5e1/test.csv')\n",
    "\n"
   ]
  },
  {
   "cell_type": "code",
   "execution_count": 5,
   "id": "550b2f83",
   "metadata": {
    "execution": {
     "iopub.execute_input": "2025-01-08T05:04:29.962614Z",
     "iopub.status.busy": "2025-01-08T05:04:29.962237Z",
     "iopub.status.idle": "2025-01-08T05:04:30.036024Z",
     "shell.execute_reply": "2025-01-08T05:04:30.034318Z"
    },
    "papermill": {
     "duration": 0.084935,
     "end_time": "2025-01-08T05:04:30.038172",
     "exception": false,
     "start_time": "2025-01-08T05:04:29.953237",
     "status": "completed"
    },
    "tags": []
   },
   "outputs": [
    {
     "name": "stdout",
     "output_type": "stream",
     "text": [
      "<class 'pandas.core.frame.DataFrame'>\n",
      "RangeIndex: 230130 entries, 0 to 230129\n",
      "Data columns (total 6 columns):\n",
      " #   Column    Non-Null Count   Dtype  \n",
      "---  ------    --------------   -----  \n",
      " 0   id        230130 non-null  int64  \n",
      " 1   date      230130 non-null  object \n",
      " 2   country   230130 non-null  object \n",
      " 3   store     230130 non-null  object \n",
      " 4   product   230130 non-null  object \n",
      " 5   num_sold  221259 non-null  float64\n",
      "dtypes: float64(1), int64(1), object(4)\n",
      "memory usage: 10.5+ MB\n"
     ]
    }
   ],
   "source": [
    "df_train.info()"
   ]
  },
  {
   "cell_type": "code",
   "execution_count": 6,
   "id": "d246fcc9",
   "metadata": {
    "execution": {
     "iopub.execute_input": "2025-01-08T05:04:30.056503Z",
     "iopub.status.busy": "2025-01-08T05:04:30.056128Z",
     "iopub.status.idle": "2025-01-08T05:04:30.080414Z",
     "shell.execute_reply": "2025-01-08T05:04:30.079224Z"
    },
    "papermill": {
     "duration": 0.035772,
     "end_time": "2025-01-08T05:04:30.082216",
     "exception": false,
     "start_time": "2025-01-08T05:04:30.046444",
     "status": "completed"
    },
    "tags": []
   },
   "outputs": [
    {
     "data": {
      "text/plain": [
       "array(['Discount Stickers', 'Stickers for Less', 'Premium Sticker Mart'],\n",
       "      dtype=object)"
      ]
     },
     "execution_count": 6,
     "metadata": {},
     "output_type": "execute_result"
    }
   ],
   "source": [
    "df_train['store'].unique()"
   ]
  },
  {
   "cell_type": "code",
   "execution_count": 7,
   "id": "f8bceeb5",
   "metadata": {
    "execution": {
     "iopub.execute_input": "2025-01-08T05:04:30.101702Z",
     "iopub.status.busy": "2025-01-08T05:04:30.101351Z",
     "iopub.status.idle": "2025-01-08T05:04:30.121093Z",
     "shell.execute_reply": "2025-01-08T05:04:30.119920Z"
    },
    "papermill": {
     "duration": 0.032239,
     "end_time": "2025-01-08T05:04:30.123095",
     "exception": false,
     "start_time": "2025-01-08T05:04:30.090856",
     "status": "completed"
    },
    "tags": []
   },
   "outputs": [
    {
     "data": {
      "text/plain": [
       "array(['Holographic Goose', 'Kaggle', 'Kaggle Tiers', 'Kerneler',\n",
       "       'Kerneler Dark Mode'], dtype=object)"
      ]
     },
     "execution_count": 7,
     "metadata": {},
     "output_type": "execute_result"
    }
   ],
   "source": [
    "df_train['product'].unique()"
   ]
  },
  {
   "cell_type": "code",
   "execution_count": 8,
   "id": "f3342c54",
   "metadata": {
    "execution": {
     "iopub.execute_input": "2025-01-08T05:04:30.140891Z",
     "iopub.status.busy": "2025-01-08T05:04:30.140445Z",
     "iopub.status.idle": "2025-01-08T05:04:33.279647Z",
     "shell.execute_reply": "2025-01-08T05:04:33.278453Z"
    },
    "papermill": {
     "duration": 3.150292,
     "end_time": "2025-01-08T05:04:33.281644",
     "exception": false,
     "start_time": "2025-01-08T05:04:30.131352",
     "status": "completed"
    },
    "tags": []
   },
   "outputs": [],
   "source": [
    "df_train['Day']=pd.to_datetime(df_train['date']).dt.strftime(\"%d\")\n",
    "df_train['Month']=pd.to_datetime(df_train['date']).dt.strftime(\"%m\")\n",
    "df_train['Year']=pd.to_datetime(df_train['date']).dt.strftime(\"%Y\")\n",
    "df_train['Day_of_week']=pd.to_datetime(df_train['date']).dt.dayofweek\n"
   ]
  },
  {
   "cell_type": "code",
   "execution_count": 9,
   "id": "4f79c848",
   "metadata": {
    "execution": {
     "iopub.execute_input": "2025-01-08T05:04:33.300773Z",
     "iopub.status.busy": "2025-01-08T05:04:33.300375Z",
     "iopub.status.idle": "2025-01-08T05:04:33.417017Z",
     "shell.execute_reply": "2025-01-08T05:04:33.415806Z"
    },
    "papermill": {
     "duration": 0.128819,
     "end_time": "2025-01-08T05:04:33.419122",
     "exception": false,
     "start_time": "2025-01-08T05:04:33.290303",
     "status": "completed"
    },
    "tags": []
   },
   "outputs": [],
   "source": [
    "df_train['store']=df_train['store'].astype('category')\n",
    "df_train['country']=df_train['country'].astype('category')\n",
    "df_train['product']=df_train['product'].astype('category')\n",
    "df_train['Day']=df_train['Day'].astype('category')\n",
    "df_train['Month']=df_train['Month'].astype('category')\n",
    "df_train['Year']=df_train['Year'].astype('category')\n",
    "df_train['Day_of_week']=df_train['Day_of_week'].astype('category')"
   ]
  },
  {
   "cell_type": "code",
   "execution_count": 10,
   "id": "7c76cdf4",
   "metadata": {
    "execution": {
     "iopub.execute_input": "2025-01-08T05:04:33.437585Z",
     "iopub.status.busy": "2025-01-08T05:04:33.437241Z",
     "iopub.status.idle": "2025-01-08T05:04:34.810208Z",
     "shell.execute_reply": "2025-01-08T05:04:34.808888Z"
    },
    "papermill": {
     "duration": 1.385195,
     "end_time": "2025-01-08T05:04:34.812824",
     "exception": false,
     "start_time": "2025-01-08T05:04:33.427629",
     "status": "completed"
    },
    "tags": []
   },
   "outputs": [],
   "source": [
    "df_test['Day']=pd.to_datetime(df_test['date']).dt.strftime(\"%d\")\n",
    "df_test['Month']=pd.to_datetime(df_test['date']).dt.strftime(\"%m\")\n",
    "df_test['Year']=pd.to_datetime(df_test['date']).dt.strftime(\"%Y\")\n",
    "df_test['Day_of_week']=pd.to_datetime(df_test['date']).dt.dayofweek"
   ]
  },
  {
   "cell_type": "code",
   "execution_count": 11,
   "id": "8fba5f00",
   "metadata": {
    "execution": {
     "iopub.execute_input": "2025-01-08T05:04:34.839507Z",
     "iopub.status.busy": "2025-01-08T05:04:34.839122Z",
     "iopub.status.idle": "2025-01-08T05:04:34.892864Z",
     "shell.execute_reply": "2025-01-08T05:04:34.891647Z"
    },
    "papermill": {
     "duration": 0.07121,
     "end_time": "2025-01-08T05:04:34.895082",
     "exception": false,
     "start_time": "2025-01-08T05:04:34.823872",
     "status": "completed"
    },
    "tags": []
   },
   "outputs": [],
   "source": [
    "df_test['store']=df_test['store'].astype('category')\n",
    "df_test['country']=df_test['country'].astype('category')\n",
    "df_test['product']=df_test['product'].astype('category')\n",
    "df_test['Day']=df_test['Day'].astype('category')\n",
    "df_test['Month']=df_test['Month'].astype('category')\n",
    "df_test['Year']=df_test['Year'].astype('category')\n",
    "df_test['Day_of_week']=df_test['Day_of_week'].astype('category')"
   ]
  },
  {
   "cell_type": "code",
   "execution_count": 12,
   "id": "6e489623",
   "metadata": {
    "execution": {
     "iopub.execute_input": "2025-01-08T05:04:34.921984Z",
     "iopub.status.busy": "2025-01-08T05:04:34.921427Z",
     "iopub.status.idle": "2025-01-08T05:04:34.959810Z",
     "shell.execute_reply": "2025-01-08T05:04:34.958093Z"
    },
    "papermill": {
     "duration": 0.055991,
     "end_time": "2025-01-08T05:04:34.962271",
     "exception": false,
     "start_time": "2025-01-08T05:04:34.906280",
     "status": "completed"
    },
    "tags": []
   },
   "outputs": [
    {
     "name": "stdout",
     "output_type": "stream",
     "text": [
      "<class 'pandas.core.frame.DataFrame'>\n",
      "RangeIndex: 230130 entries, 0 to 230129\n",
      "Data columns (total 10 columns):\n",
      " #   Column       Non-Null Count   Dtype   \n",
      "---  ------       --------------   -----   \n",
      " 0   id           230130 non-null  int64   \n",
      " 1   date         230130 non-null  object  \n",
      " 2   country      230130 non-null  category\n",
      " 3   store        230130 non-null  category\n",
      " 4   product      230130 non-null  category\n",
      " 5   num_sold     221259 non-null  float64 \n",
      " 6   Day          230130 non-null  category\n",
      " 7   Month        230130 non-null  category\n",
      " 8   Year         230130 non-null  category\n",
      " 9   Day_of_week  230130 non-null  category\n",
      "dtypes: category(7), float64(1), int64(1), object(1)\n",
      "memory usage: 6.8+ MB\n"
     ]
    }
   ],
   "source": [
    "df_train.info()"
   ]
  },
  {
   "cell_type": "code",
   "execution_count": 13,
   "id": "e8136e44",
   "metadata": {
    "execution": {
     "iopub.execute_input": "2025-01-08T05:04:34.980686Z",
     "iopub.status.busy": "2025-01-08T05:04:34.980303Z",
     "iopub.status.idle": "2025-01-08T05:04:35.007244Z",
     "shell.execute_reply": "2025-01-08T05:04:35.005750Z"
    },
    "papermill": {
     "duration": 0.038897,
     "end_time": "2025-01-08T05:04:35.009753",
     "exception": false,
     "start_time": "2025-01-08T05:04:34.970856",
     "status": "completed"
    },
    "tags": []
   },
   "outputs": [
    {
     "data": {
      "text/html": [
       "<div>\n",
       "<style scoped>\n",
       "    .dataframe tbody tr th:only-of-type {\n",
       "        vertical-align: middle;\n",
       "    }\n",
       "\n",
       "    .dataframe tbody tr th {\n",
       "        vertical-align: top;\n",
       "    }\n",
       "\n",
       "    .dataframe thead th {\n",
       "        text-align: right;\n",
       "    }\n",
       "</style>\n",
       "<table border=\"1\" class=\"dataframe\">\n",
       "  <thead>\n",
       "    <tr style=\"text-align: right;\">\n",
       "      <th></th>\n",
       "      <th>id</th>\n",
       "      <th>country</th>\n",
       "      <th>store</th>\n",
       "      <th>product</th>\n",
       "      <th>num_sold</th>\n",
       "      <th>Day</th>\n",
       "      <th>Month</th>\n",
       "      <th>Year</th>\n",
       "      <th>Day_of_week</th>\n",
       "    </tr>\n",
       "    <tr>\n",
       "      <th>date</th>\n",
       "      <th></th>\n",
       "      <th></th>\n",
       "      <th></th>\n",
       "      <th></th>\n",
       "      <th></th>\n",
       "      <th></th>\n",
       "      <th></th>\n",
       "      <th></th>\n",
       "      <th></th>\n",
       "    </tr>\n",
       "  </thead>\n",
       "  <tbody>\n",
       "    <tr>\n",
       "      <th>2010-01-01</th>\n",
       "      <td>0</td>\n",
       "      <td>Canada</td>\n",
       "      <td>Discount Stickers</td>\n",
       "      <td>Holographic Goose</td>\n",
       "      <td>NaN</td>\n",
       "      <td>01</td>\n",
       "      <td>01</td>\n",
       "      <td>2010</td>\n",
       "      <td>4</td>\n",
       "    </tr>\n",
       "    <tr>\n",
       "      <th>2010-01-01</th>\n",
       "      <td>1</td>\n",
       "      <td>Canada</td>\n",
       "      <td>Discount Stickers</td>\n",
       "      <td>Kaggle</td>\n",
       "      <td>973.0</td>\n",
       "      <td>01</td>\n",
       "      <td>01</td>\n",
       "      <td>2010</td>\n",
       "      <td>4</td>\n",
       "    </tr>\n",
       "    <tr>\n",
       "      <th>2010-01-01</th>\n",
       "      <td>2</td>\n",
       "      <td>Canada</td>\n",
       "      <td>Discount Stickers</td>\n",
       "      <td>Kaggle Tiers</td>\n",
       "      <td>906.0</td>\n",
       "      <td>01</td>\n",
       "      <td>01</td>\n",
       "      <td>2010</td>\n",
       "      <td>4</td>\n",
       "    </tr>\n",
       "    <tr>\n",
       "      <th>2010-01-01</th>\n",
       "      <td>3</td>\n",
       "      <td>Canada</td>\n",
       "      <td>Discount Stickers</td>\n",
       "      <td>Kerneler</td>\n",
       "      <td>423.0</td>\n",
       "      <td>01</td>\n",
       "      <td>01</td>\n",
       "      <td>2010</td>\n",
       "      <td>4</td>\n",
       "    </tr>\n",
       "    <tr>\n",
       "      <th>2010-01-01</th>\n",
       "      <td>4</td>\n",
       "      <td>Canada</td>\n",
       "      <td>Discount Stickers</td>\n",
       "      <td>Kerneler Dark Mode</td>\n",
       "      <td>491.0</td>\n",
       "      <td>01</td>\n",
       "      <td>01</td>\n",
       "      <td>2010</td>\n",
       "      <td>4</td>\n",
       "    </tr>\n",
       "  </tbody>\n",
       "</table>\n",
       "</div>"
      ],
      "text/plain": [
       "            id country              store             product  num_sold Day  \\\n",
       "date                                                                          \n",
       "2010-01-01   0  Canada  Discount Stickers   Holographic Goose       NaN  01   \n",
       "2010-01-01   1  Canada  Discount Stickers              Kaggle     973.0  01   \n",
       "2010-01-01   2  Canada  Discount Stickers        Kaggle Tiers     906.0  01   \n",
       "2010-01-01   3  Canada  Discount Stickers            Kerneler     423.0  01   \n",
       "2010-01-01   4  Canada  Discount Stickers  Kerneler Dark Mode     491.0  01   \n",
       "\n",
       "           Month  Year Day_of_week  \n",
       "date                                \n",
       "2010-01-01    01  2010           4  \n",
       "2010-01-01    01  2010           4  \n",
       "2010-01-01    01  2010           4  \n",
       "2010-01-01    01  2010           4  \n",
       "2010-01-01    01  2010           4  "
      ]
     },
     "execution_count": 13,
     "metadata": {},
     "output_type": "execute_result"
    }
   ],
   "source": [
    "df_train.set_index('date').head()"
   ]
  },
  {
   "cell_type": "code",
   "execution_count": 14,
   "id": "aab11340",
   "metadata": {
    "execution": {
     "iopub.execute_input": "2025-01-08T05:04:35.036404Z",
     "iopub.status.busy": "2025-01-08T05:04:35.036074Z",
     "iopub.status.idle": "2025-01-08T05:04:35.089879Z",
     "shell.execute_reply": "2025-01-08T05:04:35.088594Z"
    },
    "papermill": {
     "duration": 0.067347,
     "end_time": "2025-01-08T05:04:35.091977",
     "exception": false,
     "start_time": "2025-01-08T05:04:35.024630",
     "status": "completed"
    },
    "tags": []
   },
   "outputs": [
    {
     "name": "stderr",
     "output_type": "stream",
     "text": [
      "<ipython-input-14-9352d877f2f4>:1: FutureWarning: The default of observed=False is deprecated and will be changed to True in a future version of pandas. Pass observed=False to retain current behavior or observed=True to adopt the future default and silence this warning.\n",
      "  temp=df_train.set_index('date').groupby(['country', 'store', 'product'])['num_sold']\n"
     ]
    },
    {
     "data": {
      "text/plain": [
       "date\n",
       "2010-01-01       NaN\n",
       "2010-01-01     973.0\n",
       "2010-01-01     906.0\n",
       "2010-01-01     423.0\n",
       "2010-01-01     491.0\n",
       "               ...  \n",
       "2010-01-05     264.0\n",
       "2010-01-05    1536.0\n",
       "2010-01-05    1410.0\n",
       "2010-01-05     770.0\n",
       "2010-01-05     962.0\n",
       "Name: num_sold, Length: 450, dtype: float64"
      ]
     },
     "execution_count": 14,
     "metadata": {},
     "output_type": "execute_result"
    }
   ],
   "source": [
    "temp=df_train.set_index('date').groupby(['country', 'store', 'product'])['num_sold']\n",
    "temp.head()"
   ]
  },
  {
   "cell_type": "code",
   "execution_count": 15,
   "id": "355f5839",
   "metadata": {
    "execution": {
     "iopub.execute_input": "2025-01-08T05:04:35.118825Z",
     "iopub.status.busy": "2025-01-08T05:04:35.118353Z",
     "iopub.status.idle": "2025-01-08T05:04:35.339422Z",
     "shell.execute_reply": "2025-01-08T05:04:35.337837Z"
    },
    "papermill": {
     "duration": 0.234461,
     "end_time": "2025-01-08T05:04:35.341943",
     "exception": false,
     "start_time": "2025-01-08T05:04:35.107482",
     "status": "completed"
    },
    "tags": []
   },
   "outputs": [
    {
     "name": "stderr",
     "output_type": "stream",
     "text": [
      "<ipython-input-15-61588bc6b376>:6: FutureWarning: The default of observed=False is deprecated and will be changed to True in a future version of pandas. Pass observed=False to retain current behavior or observed=True to adopt the future default and silence this warning.\n",
      "  df['num_sold'] = df.groupby(['country', 'store', 'product'])['num_sold'].transform(\n"
     ]
    }
   ],
   "source": [
    "\n",
    "df_train['date']=pd.to_datetime(df_train['date'])\n",
    "df = df_train.set_index('date')\n",
    "df = df.sort_values(by=['country', 'store', 'product', 'date'])\n",
    "\n",
    "# Impute NaN with interpolation (grouped by Country, Store, and Product)\n",
    "df['num_sold'] = df.groupby(['country', 'store', 'product'])['num_sold'].transform(\n",
    "    lambda group: group.interpolate(method='linear',limit=None,limit_direction='both').ffill().bfill()\n",
    ")\n",
    "#df['num_sold'].isna().any()"
   ]
  },
  {
   "cell_type": "code",
   "execution_count": 16,
   "id": "2d0c0dad",
   "metadata": {
    "execution": {
     "iopub.execute_input": "2025-01-08T05:04:35.373070Z",
     "iopub.status.busy": "2025-01-08T05:04:35.372364Z",
     "iopub.status.idle": "2025-01-08T05:04:35.377328Z",
     "shell.execute_reply": "2025-01-08T05:04:35.376029Z"
    },
    "papermill": {
     "duration": 0.020276,
     "end_time": "2025-01-08T05:04:35.379557",
     "exception": false,
     "start_time": "2025-01-08T05:04:35.359281",
     "status": "completed"
    },
    "tags": []
   },
   "outputs": [],
   "source": [
    "#condition = (df.num_sold.notna()) & (df['country']=='Canada') & (df['store']=='Discount Stickers') & (df['product']=='Holographic Goose')\n",
    "#df[condition]\n"
   ]
  },
  {
   "cell_type": "code",
   "execution_count": 17,
   "id": "96045785",
   "metadata": {
    "execution": {
     "iopub.execute_input": "2025-01-08T05:04:35.399582Z",
     "iopub.status.busy": "2025-01-08T05:04:35.399127Z",
     "iopub.status.idle": "2025-01-08T05:04:35.420560Z",
     "shell.execute_reply": "2025-01-08T05:04:35.419298Z"
    },
    "papermill": {
     "duration": 0.03396,
     "end_time": "2025-01-08T05:04:35.422628",
     "exception": false,
     "start_time": "2025-01-08T05:04:35.388668",
     "status": "completed"
    },
    "tags": []
   },
   "outputs": [
    {
     "name": "stderr",
     "output_type": "stream",
     "text": [
      "<ipython-input-17-f6c9b93567a2>:2: FutureWarning: The default of observed=False is deprecated and will be changed to True in a future version of pandas. Pass observed=False to retain current behavior or observed=True to adopt the future default and silence this warning.\n",
      "  t=df[df.num_sold.isna()].groupby(['country','store','product'])['product'].value_counts().to_dict()\n"
     ]
    }
   ],
   "source": [
    "##Get num_sold NaN product store and country\n",
    "t=df[df.num_sold.isna()].groupby(['country','store','product'])['product'].value_counts().to_dict()"
   ]
  },
  {
   "cell_type": "code",
   "execution_count": 18,
   "id": "4a4d245d",
   "metadata": {
    "execution": {
     "iopub.execute_input": "2025-01-08T05:04:35.456881Z",
     "iopub.status.busy": "2025-01-08T05:04:35.456336Z",
     "iopub.status.idle": "2025-01-08T05:04:35.460794Z",
     "shell.execute_reply": "2025-01-08T05:04:35.459611Z"
    },
    "papermill": {
     "duration": 0.024011,
     "end_time": "2025-01-08T05:04:35.463570",
     "exception": false,
     "start_time": "2025-01-08T05:04:35.439559",
     "status": "completed"
    },
    "tags": []
   },
   "outputs": [],
   "source": [
    "#Country store and product that have NaN\n",
    "# for  k,v in t.items():\n",
    "#     if v!=0:\n",
    "#         print(k,v)"
   ]
  },
  {
   "cell_type": "code",
   "execution_count": 19,
   "id": "8517ef0a",
   "metadata": {
    "execution": {
     "iopub.execute_input": "2025-01-08T05:04:35.500949Z",
     "iopub.status.busy": "2025-01-08T05:04:35.500437Z",
     "iopub.status.idle": "2025-01-08T05:04:35.546466Z",
     "shell.execute_reply": "2025-01-08T05:04:35.545193Z"
    },
    "papermill": {
     "duration": 0.071346,
     "end_time": "2025-01-08T05:04:35.549229",
     "exception": false,
     "start_time": "2025-01-08T05:04:35.477883",
     "status": "completed"
    },
    "tags": []
   },
   "outputs": [
    {
     "name": "stdout",
     "output_type": "stream",
     "text": [
      "Mean\n",
      "country\n",
      "Canada       241.249270\n",
      "Finland      177.405944\n",
      "Italy        128.415852\n",
      "Kenya          5.760129\n",
      "Norway       337.579194\n",
      "Singapore    204.719724\n",
      "Name: num_sold, dtype: float64\n",
      "Median\n",
      "country\n",
      "Canada       234.0\n",
      "Finland      188.0\n",
      "Italy        136.0\n",
      "Kenya          5.0\n",
      "Norway       350.0\n",
      "Singapore    218.0\n",
      "Name: num_sold, dtype: float64\n",
      "Mode\n",
      "country\n",
      "Canada              218.0\n",
      "Finland              91.0\n",
      "Italy        [66.0, 68.0]\n",
      "Kenya                 5.0\n",
      "Norway              171.0\n",
      "Singapore           238.0\n",
      "Name: num_sold, dtype: object\n",
      "Min\n",
      "country\n",
      "Canada       200.0\n",
      "Finland       65.0\n",
      "Italy         44.0\n",
      "Kenya          5.0\n",
      "Norway       105.0\n",
      "Singapore     69.0\n",
      "Name: num_sold, dtype: float64\n",
      "Max\n",
      "country\n",
      "Canada       449.0\n",
      "Finland      491.0\n",
      "Italy        318.0\n",
      "Kenya         11.0\n",
      "Norway       908.0\n",
      "Singapore    469.0\n",
      "Name: num_sold, dtype: float64\n"
     ]
    },
    {
     "name": "stderr",
     "output_type": "stream",
     "text": [
      "<ipython-input-19-7c247cb9ffdc>:2: FutureWarning: The default of observed=False is deprecated and will be changed to True in a future version of pandas. Pass observed=False to retain current behavior or observed=True to adopt the future default and silence this warning.\n",
      "  nan_product = df_train[(df_train['product']=='Holographic Goose') & (df_train['num_sold'].notna())].groupby(['country'])['num_sold']\n"
     ]
    }
   ],
   "source": [
    "#Find Holographic Goose num_sold in each country\n",
    "nan_product = df_train[(df_train['product']=='Holographic Goose') & (df_train['num_sold'].notna())].groupby(['country'])['num_sold']\n",
    "print(\"Mean\")\n",
    "print(nan_product.mean())\n",
    "print(\"Median\")\n",
    "print(nan_product.median())\n",
    "print(\"Mode\")\n",
    "print(nan_product.agg(pd.Series.mode))\n",
    "print(\"Min\")\n",
    "print(nan_product.min())\n",
    "print(\"Max\")\n",
    "print(nan_product.max())"
   ]
  },
  {
   "cell_type": "markdown",
   "id": "77ad0287",
   "metadata": {
    "papermill": {
     "duration": 0.016104,
     "end_time": "2025-01-08T05:04:35.582413",
     "exception": false,
     "start_time": "2025-01-08T05:04:35.566309",
     "status": "completed"
    },
    "tags": []
   },
   "source": [
    "Impute Canana NaN with 218.0 \n",
    "Impute Kenya NaN with 5.0"
   ]
  },
  {
   "cell_type": "code",
   "execution_count": 20,
   "id": "7a560526",
   "metadata": {
    "execution": {
     "iopub.execute_input": "2025-01-08T05:04:35.602498Z",
     "iopub.status.busy": "2025-01-08T05:04:35.602120Z",
     "iopub.status.idle": "2025-01-08T05:04:35.616940Z",
     "shell.execute_reply": "2025-01-08T05:04:35.615841Z"
    },
    "papermill": {
     "duration": 0.02705,
     "end_time": "2025-01-08T05:04:35.619053",
     "exception": false,
     "start_time": "2025-01-08T05:04:35.592003",
     "status": "completed"
    },
    "tags": []
   },
   "outputs": [],
   "source": [
    "df.dropna(inplace=True)"
   ]
  },
  {
   "cell_type": "code",
   "execution_count": 21,
   "id": "9282ebbe",
   "metadata": {
    "execution": {
     "iopub.execute_input": "2025-01-08T05:04:35.638838Z",
     "iopub.status.busy": "2025-01-08T05:04:35.638433Z",
     "iopub.status.idle": "2025-01-08T05:04:35.646447Z",
     "shell.execute_reply": "2025-01-08T05:04:35.645303Z"
    },
    "papermill": {
     "duration": 0.02033,
     "end_time": "2025-01-08T05:04:35.648572",
     "exception": false,
     "start_time": "2025-01-08T05:04:35.628242",
     "status": "completed"
    },
    "tags": []
   },
   "outputs": [
    {
     "data": {
      "text/plain": [
       "0"
      ]
     },
     "execution_count": 21,
     "metadata": {},
     "output_type": "execute_result"
    }
   ],
   "source": [
    "len(df[df['num_sold'].isna()])"
   ]
  },
  {
   "cell_type": "code",
   "execution_count": 22,
   "id": "cb917878",
   "metadata": {
    "execution": {
     "iopub.execute_input": "2025-01-08T05:04:35.669141Z",
     "iopub.status.busy": "2025-01-08T05:04:35.668617Z",
     "iopub.status.idle": "2025-01-08T05:04:35.673311Z",
     "shell.execute_reply": "2025-01-08T05:04:35.672150Z"
    },
    "papermill": {
     "duration": 0.017261,
     "end_time": "2025-01-08T05:04:35.675579",
     "exception": false,
     "start_time": "2025-01-08T05:04:35.658318",
     "status": "completed"
    },
    "tags": []
   },
   "outputs": [],
   "source": [
    "#Impute Canada with 218\n",
    "#df.loc[df['country']=='Canada',['num_sold']]=df.loc[df['country']=='Canada',['num_sold']].fillna(218.0)"
   ]
  },
  {
   "cell_type": "code",
   "execution_count": 23,
   "id": "8f770a5e",
   "metadata": {
    "execution": {
     "iopub.execute_input": "2025-01-08T05:04:35.704596Z",
     "iopub.status.busy": "2025-01-08T05:04:35.704240Z",
     "iopub.status.idle": "2025-01-08T05:04:35.708490Z",
     "shell.execute_reply": "2025-01-08T05:04:35.707198Z"
    },
    "papermill": {
     "duration": 0.017158,
     "end_time": "2025-01-08T05:04:35.710189",
     "exception": false,
     "start_time": "2025-01-08T05:04:35.693031",
     "status": "completed"
    },
    "tags": []
   },
   "outputs": [],
   "source": [
    "#Impute Kenya with 5\n",
    "#df.loc[df['country']=='Kenya',['num_sold']]=df.loc[df['country']=='Kenya',['num_sold']].fillna(5.0)"
   ]
  },
  {
   "cell_type": "code",
   "execution_count": 24,
   "id": "57ce0532",
   "metadata": {
    "execution": {
     "iopub.execute_input": "2025-01-08T05:04:35.731588Z",
     "iopub.status.busy": "2025-01-08T05:04:35.731116Z",
     "iopub.status.idle": "2025-01-08T05:04:35.735556Z",
     "shell.execute_reply": "2025-01-08T05:04:35.734511Z"
    },
    "papermill": {
     "duration": 0.017998,
     "end_time": "2025-01-08T05:04:35.737359",
     "exception": false,
     "start_time": "2025-01-08T05:04:35.719361",
     "status": "completed"
    },
    "tags": []
   },
   "outputs": [],
   "source": [
    "# nsmode = df_train['num_sold'].mode()\n",
    "# df_train['num_sold']=df_train['num_sold'].fillna(nsmode[0])"
   ]
  },
  {
   "cell_type": "code",
   "execution_count": 25,
   "id": "830054d7",
   "metadata": {
    "execution": {
     "iopub.execute_input": "2025-01-08T05:04:35.758124Z",
     "iopub.status.busy": "2025-01-08T05:04:35.757598Z",
     "iopub.status.idle": "2025-01-08T05:04:35.778089Z",
     "shell.execute_reply": "2025-01-08T05:04:35.776785Z"
    },
    "papermill": {
     "duration": 0.0333,
     "end_time": "2025-01-08T05:04:35.780151",
     "exception": false,
     "start_time": "2025-01-08T05:04:35.746851",
     "status": "completed"
    },
    "tags": []
   },
   "outputs": [
    {
     "name": "stdout",
     "output_type": "stream",
     "text": [
      "<class 'pandas.core.frame.DataFrame'>\n",
      "DatetimeIndex: 225016 entries, 2010-01-01 to 2016-12-31\n",
      "Data columns (total 9 columns):\n",
      " #   Column       Non-Null Count   Dtype   \n",
      "---  ------       --------------   -----   \n",
      " 0   id           225016 non-null  int64   \n",
      " 1   country      225016 non-null  category\n",
      " 2   store        225016 non-null  category\n",
      " 3   product      225016 non-null  category\n",
      " 4   num_sold     225016 non-null  float64 \n",
      " 5   Day          225016 non-null  category\n",
      " 6   Month        225016 non-null  category\n",
      " 7   Year         225016 non-null  category\n",
      " 8   Day_of_week  225016 non-null  category\n",
      "dtypes: category(7), float64(1), int64(1)\n",
      "memory usage: 6.7 MB\n"
     ]
    }
   ],
   "source": [
    "df.info()"
   ]
  },
  {
   "cell_type": "code",
   "execution_count": 26,
   "id": "07dcae4c",
   "metadata": {
    "execution": {
     "iopub.execute_input": "2025-01-08T05:04:35.807456Z",
     "iopub.status.busy": "2025-01-08T05:04:35.806981Z",
     "iopub.status.idle": "2025-01-08T05:04:35.814475Z",
     "shell.execute_reply": "2025-01-08T05:04:35.813248Z"
    },
    "papermill": {
     "duration": 0.020005,
     "end_time": "2025-01-08T05:04:35.816390",
     "exception": false,
     "start_time": "2025-01-08T05:04:35.796385",
     "status": "completed"
    },
    "tags": []
   },
   "outputs": [],
   "source": [
    "df_train=df.reset_index()"
   ]
  },
  {
   "cell_type": "code",
   "execution_count": 27,
   "id": "cdb1eb1d",
   "metadata": {
    "execution": {
     "iopub.execute_input": "2025-01-08T05:04:35.837292Z",
     "iopub.status.busy": "2025-01-08T05:04:35.836789Z",
     "iopub.status.idle": "2025-01-08T05:04:35.854130Z",
     "shell.execute_reply": "2025-01-08T05:04:35.852732Z"
    },
    "papermill": {
     "duration": 0.030143,
     "end_time": "2025-01-08T05:04:35.856346",
     "exception": false,
     "start_time": "2025-01-08T05:04:35.826203",
     "status": "completed"
    },
    "tags": []
   },
   "outputs": [
    {
     "name": "stdout",
     "output_type": "stream",
     "text": [
      "<class 'pandas.core.frame.DataFrame'>\n",
      "RangeIndex: 225016 entries, 0 to 225015\n",
      "Data columns (total 10 columns):\n",
      " #   Column       Non-Null Count   Dtype         \n",
      "---  ------       --------------   -----         \n",
      " 0   date         225016 non-null  datetime64[ns]\n",
      " 1   id           225016 non-null  int64         \n",
      " 2   country      225016 non-null  category      \n",
      " 3   store        225016 non-null  category      \n",
      " 4   product      225016 non-null  category      \n",
      " 5   num_sold     225016 non-null  float64       \n",
      " 6   Day          225016 non-null  category      \n",
      " 7   Month        225016 non-null  category      \n",
      " 8   Year         225016 non-null  category      \n",
      " 9   Day_of_week  225016 non-null  category      \n",
      "dtypes: category(7), datetime64[ns](1), float64(1), int64(1)\n",
      "memory usage: 6.7 MB\n"
     ]
    }
   ],
   "source": [
    "df_train.info()"
   ]
  },
  {
   "cell_type": "code",
   "execution_count": 28,
   "id": "f94ee412",
   "metadata": {
    "execution": {
     "iopub.execute_input": "2025-01-08T05:04:35.876871Z",
     "iopub.status.busy": "2025-01-08T05:04:35.876423Z",
     "iopub.status.idle": "2025-01-08T05:04:35.885369Z",
     "shell.execute_reply": "2025-01-08T05:04:35.883927Z"
    },
    "papermill": {
     "duration": 0.021269,
     "end_time": "2025-01-08T05:04:35.887306",
     "exception": false,
     "start_time": "2025-01-08T05:04:35.866037",
     "status": "completed"
    },
    "tags": []
   },
   "outputs": [],
   "source": [
    "\n",
    "\n",
    "def objective(trial: optuna.Trial) -> float:\n",
    "    #data, target = load_breast_cancer(return_X_y=True)\n",
    "    train_x, valid_x, train_y, valid_y = train_test_split(df_train.drop(['id','num_sold','date'],axis=1), df_train['num_sold'], test_size=0.25)\n",
    "    cats=df_train.select_dtypes('category').columns\n",
    "    \n",
    "    param = {\n",
    "        \"iterations\":trial.suggest_int(\"iterations\",1000,3000),\n",
    "        \"objective\": trial.suggest_categorical(\"objective\", [\"MAPE\"]),\n",
    "        \"colsample_bylevel\": trial.suggest_float(\"colsample_bylevel\", 0.01, 0.7, log=True),\n",
    "        \"depth\": trial.suggest_int(\"depth\", 1, 10),\n",
    "        \"boosting_type\": trial.suggest_categorical(\"boosting_type\", [\"Ordered\", \"Plain\"]),\n",
    "        \"bootstrap_type\": trial.suggest_categorical(\n",
    "            \"bootstrap_type\", [\"Bayesian\", \"Bernoulli\", \"MVS\"]\n",
    "        ),\n",
    "        \"used_ram_limit\": \"3gb\",\n",
    "        \"eval_metric\": \"MAPE\",\n",
    "        \"cat_features\": cats.to_list(),\n",
    "    }\n",
    "\n",
    "    if param[\"bootstrap_type\"] == \"Bayesian\":\n",
    "        param[\"bagging_temperature\"] = trial.suggest_float(\"bagging_temperature\", 0, 10)\n",
    "    elif param[\"bootstrap_type\"] == \"Bernoulli\":\n",
    "        param[\"subsample\"] = trial.suggest_float(\"subsample\", 0.1, 1, log=True)\n",
    "\n",
    "    gbm = cb.CatBoostRegressor(**param)\n",
    "\n",
    "    pruning_callback = CatBoostPruningCallback(trial, \"MAPE\")\n",
    "    gbm.fit(\n",
    "        train_x,\n",
    "        train_y,\n",
    "        eval_set=[(valid_x, valid_y)],\n",
    "        verbose=0,\n",
    "        early_stopping_rounds=300,\n",
    "        callbacks=[pruning_callback],\n",
    "    )\n",
    "\n",
    "    # evoke pruning manually.\n",
    "    pruning_callback.check_pruned()\n",
    "\n",
    "    \n",
    "    preds = gbm.predict(valid_x)\n",
    "    pred_labels = np.rint(preds)\n",
    "    mape = mean_absolute_percentage_error(valid_y, pred_labels)\n",
    "    return mape\n"
   ]
  },
  {
   "cell_type": "code",
   "execution_count": 29,
   "id": "d6c88dda",
   "metadata": {
    "execution": {
     "iopub.execute_input": "2025-01-08T05:04:35.913352Z",
     "iopub.status.busy": "2025-01-08T05:04:35.913020Z",
     "iopub.status.idle": "2025-01-08T05:17:26.569181Z",
     "shell.execute_reply": "2025-01-08T05:17:26.567874Z"
    },
    "papermill": {
     "duration": 770.679022,
     "end_time": "2025-01-08T05:17:26.581572",
     "exception": false,
     "start_time": "2025-01-08T05:04:35.902550",
     "status": "completed"
    },
    "tags": []
   },
   "outputs": [
    {
     "name": "stderr",
     "output_type": "stream",
     "text": [
      "<ipython-input-28-b11dbc01a29b>:27: ExperimentalWarning: CatBoostPruningCallback is experimental (supported from v3.0.0). The interface can change in the future.\n",
      "  pruning_callback = CatBoostPruningCallback(trial, \"MAPE\")\n",
      "<ipython-input-28-b11dbc01a29b>:27: ExperimentalWarning: CatBoostPruningCallback is experimental (supported from v3.0.0). The interface can change in the future.\n",
      "  pruning_callback = CatBoostPruningCallback(trial, \"MAPE\")\n",
      "<ipython-input-28-b11dbc01a29b>:27: ExperimentalWarning: CatBoostPruningCallback is experimental (supported from v3.0.0). The interface can change in the future.\n",
      "  pruning_callback = CatBoostPruningCallback(trial, \"MAPE\")\n",
      "<ipython-input-28-b11dbc01a29b>:27: ExperimentalWarning: CatBoostPruningCallback is experimental (supported from v3.0.0). The interface can change in the future.\n",
      "  pruning_callback = CatBoostPruningCallback(trial, \"MAPE\")\n",
      "<ipython-input-28-b11dbc01a29b>:27: ExperimentalWarning: CatBoostPruningCallback is experimental (supported from v3.0.0). The interface can change in the future.\n",
      "  pruning_callback = CatBoostPruningCallback(trial, \"MAPE\")\n",
      "<ipython-input-28-b11dbc01a29b>:27: ExperimentalWarning: CatBoostPruningCallback is experimental (supported from v3.0.0). The interface can change in the future.\n",
      "  pruning_callback = CatBoostPruningCallback(trial, \"MAPE\")\n",
      "<ipython-input-28-b11dbc01a29b>:27: ExperimentalWarning: CatBoostPruningCallback is experimental (supported from v3.0.0). The interface can change in the future.\n",
      "  pruning_callback = CatBoostPruningCallback(trial, \"MAPE\")\n"
     ]
    },
    {
     "name": "stdout",
     "output_type": "stream",
     "text": [
      "Number of finished trials: 7\n",
      "Best trial:\n",
      "  Value: 0.1480644221888893\n",
      "  Params: \n",
      "    iterations: 2184\n",
      "    objective: MAPE\n",
      "    colsample_bylevel: 0.17798025235463805\n",
      "    depth: 9\n",
      "    boosting_type: Ordered\n",
      "    bootstrap_type: Bayesian\n",
      "    bagging_temperature: 7.111709930860358\n"
     ]
    }
   ],
   "source": [
    "optuna.logging.set_verbosity(optuna.logging.CRITICAL)\n",
    "study = optuna.create_study(\n",
    "    pruner=optuna.pruners.MedianPruner(n_warmup_steps=5), direction=\"minimize\"\n",
    ")\n",
    "study.optimize(objective, n_trials=100, timeout=600)\n",
    "\n",
    "print(\"Number of finished trials: {}\".format(len(study.trials)))\n",
    "\n",
    "print(\"Best trial:\")\n",
    "trial = study.best_trial\n",
    "\n",
    "print(\"  Value: {}\".format(trial.value))\n",
    "\n",
    "print(\"  Params: \")\n",
    "for key, value in trial.params.items():\n",
    "    print(\"    {}: {}\".format(key, value))"
   ]
  },
  {
   "cell_type": "code",
   "execution_count": 30,
   "id": "f991c558",
   "metadata": {
    "execution": {
     "iopub.execute_input": "2025-01-08T05:17:26.603922Z",
     "iopub.status.busy": "2025-01-08T05:17:26.603506Z",
     "iopub.status.idle": "2025-01-08T05:17:26.613013Z",
     "shell.execute_reply": "2025-01-08T05:17:26.611606Z"
    },
    "papermill": {
     "duration": 0.022798,
     "end_time": "2025-01-08T05:17:26.615112",
     "exception": false,
     "start_time": "2025-01-08T05:17:26.592314",
     "status": "completed"
    },
    "tags": []
   },
   "outputs": [
    {
     "name": "stdout",
     "output_type": "stream",
     "text": [
      "{'iterations': 2184, 'objective': 'MAPE', 'colsample_bylevel': 0.17798025235463805, 'depth': 9, 'boosting_type': 'Ordered', 'bootstrap_type': 'Bayesian', 'bagging_temperature': 7.111709930860358}\n"
     ]
    }
   ],
   "source": [
    "print(study.best_params)"
   ]
  },
  {
   "cell_type": "code",
   "execution_count": 31,
   "id": "06ff2f08",
   "metadata": {
    "execution": {
     "iopub.execute_input": "2025-01-08T05:17:26.637075Z",
     "iopub.status.busy": "2025-01-08T05:17:26.636551Z",
     "iopub.status.idle": "2025-01-08T05:17:26.658660Z",
     "shell.execute_reply": "2025-01-08T05:17:26.657339Z"
    },
    "papermill": {
     "duration": 0.034792,
     "end_time": "2025-01-08T05:17:26.660622",
     "exception": false,
     "start_time": "2025-01-08T05:17:26.625830",
     "status": "completed"
    },
    "tags": []
   },
   "outputs": [],
   "source": [
    "from catboost import Pool,cv\n",
    "cats=df_train.select_dtypes('category').columns\n",
    "features=df_train.drop(['id','num_sold','date'],axis=1).columns\n",
    "train_pool = Pool(data=df_train.drop(['id','num_sold','date'],axis=1),\n",
    "             label=df_train['num_sold'],\n",
    "             cat_features=cats.to_list())"
   ]
  },
  {
   "cell_type": "code",
   "execution_count": 32,
   "id": "e7dde3f7",
   "metadata": {
    "execution": {
     "iopub.execute_input": "2025-01-08T05:17:26.682873Z",
     "iopub.status.busy": "2025-01-08T05:17:26.682417Z",
     "iopub.status.idle": "2025-01-08T05:17:26.687339Z",
     "shell.execute_reply": "2025-01-08T05:17:26.686142Z"
    },
    "papermill": {
     "duration": 0.017959,
     "end_time": "2025-01-08T05:17:26.689404",
     "exception": false,
     "start_time": "2025-01-08T05:17:26.671445",
     "status": "completed"
    },
    "tags": []
   },
   "outputs": [],
   "source": [
    "# from catboost import Pool,cv\n",
    "\n",
    "#              #feature_names=features)\n",
    "\n",
    "\n",
    "# # params = {\"iterations\": 1000,\n",
    "# #           \"depth\": 4,\n",
    "# #           \"loss_function\": \"MAPE\",\n",
    "# #           \"verbose\": False}\n",
    "\n",
    "# scores = cv(train_pool,\n",
    "#             study.best_params,\n",
    "#            fold_count=5,\n",
    "#             verbose=0,\n",
    "#            )\n",
    "\n",
    "# print(scores)"
   ]
  },
  {
   "cell_type": "code",
   "execution_count": 33,
   "id": "fced6c31",
   "metadata": {
    "execution": {
     "iopub.execute_input": "2025-01-08T05:17:26.712469Z",
     "iopub.status.busy": "2025-01-08T05:17:26.712123Z",
     "iopub.status.idle": "2025-01-08T05:17:26.716368Z",
     "shell.execute_reply": "2025-01-08T05:17:26.715249Z"
    },
    "papermill": {
     "duration": 0.017774,
     "end_time": "2025-01-08T05:17:26.718003",
     "exception": false,
     "start_time": "2025-01-08T05:17:26.700229",
     "status": "completed"
    },
    "tags": []
   },
   "outputs": [],
   "source": [
    "#print(scores)"
   ]
  },
  {
   "cell_type": "code",
   "execution_count": 34,
   "id": "7b421347",
   "metadata": {
    "execution": {
     "iopub.execute_input": "2025-01-08T05:17:26.740232Z",
     "iopub.status.busy": "2025-01-08T05:17:26.739814Z",
     "iopub.status.idle": "2025-01-08T05:17:27.422520Z",
     "shell.execute_reply": "2025-01-08T05:17:27.420989Z"
    },
    "papermill": {
     "duration": 0.696405,
     "end_time": "2025-01-08T05:17:27.424637",
     "exception": false,
     "start_time": "2025-01-08T05:17:26.728232",
     "status": "completed"
    },
    "tags": []
   },
   "outputs": [],
   "source": [
    "hyperdict=optuna.importance.get_param_importances(study)"
   ]
  },
  {
   "cell_type": "code",
   "execution_count": 35,
   "id": "69d4ca6d",
   "metadata": {
    "execution": {
     "iopub.execute_input": "2025-01-08T05:17:27.446821Z",
     "iopub.status.busy": "2025-01-08T05:17:27.446415Z",
     "iopub.status.idle": "2025-01-08T05:17:27.452324Z",
     "shell.execute_reply": "2025-01-08T05:17:27.450550Z"
    },
    "papermill": {
     "duration": 0.019222,
     "end_time": "2025-01-08T05:17:27.454331",
     "exception": false,
     "start_time": "2025-01-08T05:17:27.435109",
     "status": "completed"
    },
    "tags": []
   },
   "outputs": [
    {
     "name": "stdout",
     "output_type": "stream",
     "text": [
      "{'depth': 0.6360003649693603, 'iterations': 0.14541992549266997, 'boosting_type': 0.10508608196075447, 'colsample_bylevel': 0.08519359641797096, 'bootstrap_type': 0.028300031159244367, 'objective': 0.0}\n"
     ]
    }
   ],
   "source": [
    "print(hyperdict)"
   ]
  },
  {
   "cell_type": "code",
   "execution_count": 36,
   "id": "2e8df698",
   "metadata": {
    "execution": {
     "iopub.execute_input": "2025-01-08T05:17:27.476338Z",
     "iopub.status.busy": "2025-01-08T05:17:27.475900Z",
     "iopub.status.idle": "2025-01-08T05:22:45.572703Z",
     "shell.execute_reply": "2025-01-08T05:22:45.571372Z"
    },
    "papermill": {
     "duration": 318.120749,
     "end_time": "2025-01-08T05:22:45.585432",
     "exception": false,
     "start_time": "2025-01-08T05:17:27.464683",
     "status": "completed"
    },
    "tags": []
   },
   "outputs": [
    {
     "data": {
      "text/plain": [
       "<catboost.core.CatBoostRegressor at 0x79d13d6c46d0>"
      ]
     },
     "execution_count": 36,
     "metadata": {},
     "output_type": "execute_result"
    }
   ],
   "source": [
    "#Train model with best param and iteration>1000 before prediction\n",
    "model=cb.CatBoostRegressor(**study.best_params,verbose=0)\n",
    "model.fit(train_pool)"
   ]
  },
  {
   "cell_type": "code",
   "execution_count": 37,
   "id": "8194dd2f",
   "metadata": {
    "execution": {
     "iopub.execute_input": "2025-01-08T05:22:45.609419Z",
     "iopub.status.busy": "2025-01-08T05:22:45.609093Z",
     "iopub.status.idle": "2025-01-08T05:22:45.613131Z",
     "shell.execute_reply": "2025-01-08T05:22:45.612011Z"
    },
    "papermill": {
     "duration": 0.017305,
     "end_time": "2025-01-08T05:22:45.614919",
     "exception": false,
     "start_time": "2025-01-08T05:22:45.597614",
     "status": "completed"
    },
    "tags": []
   },
   "outputs": [],
   "source": [
    "#model.is_fitted()"
   ]
  },
  {
   "cell_type": "code",
   "execution_count": 38,
   "id": "e83cd837",
   "metadata": {
    "execution": {
     "iopub.execute_input": "2025-01-08T05:22:45.637030Z",
     "iopub.status.busy": "2025-01-08T05:22:45.636468Z",
     "iopub.status.idle": "2025-01-08T05:22:45.641284Z",
     "shell.execute_reply": "2025-01-08T05:22:45.639875Z"
    },
    "papermill": {
     "duration": 0.017916,
     "end_time": "2025-01-08T05:22:45.643244",
     "exception": false,
     "start_time": "2025-01-08T05:22:45.625328",
     "status": "completed"
    },
    "tags": []
   },
   "outputs": [],
   "source": [
    "#df_test.info()"
   ]
  },
  {
   "cell_type": "code",
   "execution_count": 39,
   "id": "10ca3d17",
   "metadata": {
    "execution": {
     "iopub.execute_input": "2025-01-08T05:22:45.666038Z",
     "iopub.status.busy": "2025-01-08T05:22:45.665461Z",
     "iopub.status.idle": "2025-01-08T05:22:46.066095Z",
     "shell.execute_reply": "2025-01-08T05:22:46.064923Z"
    },
    "papermill": {
     "duration": 0.41401,
     "end_time": "2025-01-08T05:22:46.068185",
     "exception": false,
     "start_time": "2025-01-08T05:22:45.654175",
     "status": "completed"
    },
    "tags": []
   },
   "outputs": [],
   "source": [
    "predicts = model.predict(df_test.drop(['id','date'],axis=1))"
   ]
  },
  {
   "cell_type": "code",
   "execution_count": 40,
   "id": "2165c029",
   "metadata": {
    "execution": {
     "iopub.execute_input": "2025-01-08T05:22:46.091140Z",
     "iopub.status.busy": "2025-01-08T05:22:46.090649Z",
     "iopub.status.idle": "2025-01-08T05:22:46.228035Z",
     "shell.execute_reply": "2025-01-08T05:22:46.226866Z"
    },
    "papermill": {
     "duration": 0.151015,
     "end_time": "2025-01-08T05:22:46.230075",
     "exception": false,
     "start_time": "2025-01-08T05:22:46.079060",
     "status": "completed"
    },
    "tags": []
   },
   "outputs": [],
   "source": [
    "pd.concat([df_test['id'],pd.DataFrame(np.round(predicts,0),columns=['num_sold'])],axis=1).reset_index(drop=True).to_csv('submission_impute_dropna.csv',index=False)"
   ]
  },
  {
   "cell_type": "code",
   "execution_count": null,
   "id": "dd64fc1f",
   "metadata": {
    "papermill": {
     "duration": 0.010333,
     "end_time": "2025-01-08T05:22:46.251132",
     "exception": false,
     "start_time": "2025-01-08T05:22:46.240799",
     "status": "completed"
    },
    "tags": []
   },
   "outputs": [],
   "source": []
  }
 ],
 "metadata": {
  "kaggle": {
   "accelerator": "none",
   "dataSources": [
    {
     "databundleVersionId": 10652996,
     "sourceId": 85723,
     "sourceType": "competition"
    }
   ],
   "dockerImageVersionId": 30822,
   "isGpuEnabled": false,
   "isInternetEnabled": true,
   "language": "python",
   "sourceType": "notebook"
  },
  "kernelspec": {
   "display_name": "Python 3",
   "language": "python",
   "name": "python3"
  },
  "language_info": {
   "codemirror_mode": {
    "name": "ipython",
    "version": 3
   },
   "file_extension": ".py",
   "mimetype": "text/x-python",
   "name": "python",
   "nbconvert_exporter": "python",
   "pygments_lexer": "ipython3",
   "version": "3.10.12"
  },
  "papermill": {
   "default_parameters": {},
   "duration": 1110.180553,
   "end_time": "2025-01-08T05:22:47.186929",
   "environment_variables": {},
   "exception": null,
   "input_path": "__notebook__.ipynb",
   "output_path": "__notebook__.ipynb",
   "parameters": {},
   "start_time": "2025-01-08T05:04:17.006376",
   "version": "2.6.0"
  }
 },
 "nbformat": 4,
 "nbformat_minor": 5
}
