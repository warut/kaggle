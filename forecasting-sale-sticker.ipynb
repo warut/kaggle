{
 "cells": [
  {
   "cell_type": "code",
   "execution_count": 1,
   "id": "06afa25a",
   "metadata": {
    "_cell_guid": "b1076dfc-b9ad-4769-8c92-a6c4dae69d19",
    "_uuid": "8f2839f25d086af736a60e9eeb907d3b93b6e0e5",
    "execution": {
     "iopub.execute_input": "2025-01-14T07:14:33.072111Z",
     "iopub.status.busy": "2025-01-14T07:14:33.071747Z",
     "iopub.status.idle": "2025-01-14T07:14:33.563788Z",
     "shell.execute_reply": "2025-01-14T07:14:33.561674Z"
    },
    "papermill": {
     "duration": 0.509979,
     "end_time": "2025-01-14T07:14:33.566418",
     "exception": false,
     "start_time": "2025-01-14T07:14:33.056439",
     "status": "completed"
    },
    "tags": []
   },
   "outputs": [
    {
     "name": "stdout",
     "output_type": "stream",
     "text": [
      "/kaggle/input/cbfitmodels/cbfit_Singapore\n",
      "/kaggle/input/cbfitmodels/cbfit_Italy\n",
      "/kaggle/input/cbfitmodels/cbfit_Finland\n",
      "/kaggle/input/cbfitmodels/cbfit_Canada\n",
      "/kaggle/input/cbfitmodels/cbfit_Norway\n",
      "/kaggle/input/cbfitmodels/cbfit_Kenya\n",
      "/kaggle/input/cbfitmodels/__results___files/__results___9_0.png\n",
      "/kaggle/input/cbfitmodels/__results___files/__results___64_1.png\n",
      "/kaggle/input/cbfitmodels/__results___files/__results___13_0.png\n",
      "/kaggle/input/cbfitmodels/catboost_info/test_error.tsv\n",
      "/kaggle/input/cbfitmodels/catboost_info/learn_error.tsv\n",
      "/kaggle/input/cbfitmodels/catboost_info/catboost_training.json\n",
      "/kaggle/input/cbfitmodels/catboost_info/time_left.tsv\n",
      "/kaggle/input/cbfitmodels/catboost_info/learn/events.out.tfevents\n",
      "/kaggle/input/cbfitmodels/catboost_info/test/events.out.tfevents\n",
      "/kaggle/input/playground-series-s5e1/sample_submission.csv\n",
      "/kaggle/input/playground-series-s5e1/train.csv\n",
      "/kaggle/input/playground-series-s5e1/test.csv\n"
     ]
    }
   ],
   "source": [
    "# This Python 3 environment comes with many helpful analytics libraries installed\n",
    "# It is defined by the kaggle/python Docker image: https://github.com/kaggle/docker-python\n",
    "# For example, here's several helpful packages to load\n",
    "\n",
    "import numpy as np # linear algebra\n",
    "import pandas as pd # data processing, CSV file I/O (e.g. pd.read_csv)\n",
    "\n",
    "# Input data files are available in the read-only \"../input/\" directory\n",
    "# For example, running this (by clicking run or pressing Shift+Enter) will list all files under the input directory\n",
    "\n",
    "import os\n",
    "for dirname, _, filenames in os.walk('/kaggle/input'):\n",
    "    for filename in filenames:\n",
    "        print(os.path.join(dirname, filename))\n",
    "\n",
    "# You can write up to 20GB to the current directory (/kaggle/working/) that gets preserved as output when you create a version using \"Save & Run All\" \n",
    "# You can also write temporary files to /kaggle/temp/, but they won't be saved outside of the current session"
   ]
  },
  {
   "cell_type": "code",
   "execution_count": 2,
   "id": "a816b0f9",
   "metadata": {
    "execution": {
     "iopub.execute_input": "2025-01-14T07:14:33.594818Z",
     "iopub.status.busy": "2025-01-14T07:14:33.594089Z",
     "iopub.status.idle": "2025-01-14T07:14:34.992587Z",
     "shell.execute_reply": "2025-01-14T07:14:34.991329Z"
    },
    "papermill": {
     "duration": 1.414432,
     "end_time": "2025-01-14T07:14:34.994734",
     "exception": false,
     "start_time": "2025-01-14T07:14:33.580302",
     "status": "completed"
    },
    "tags": []
   },
   "outputs": [],
   "source": [
    "import pandas as pd\n",
    "import numpy as np\n",
    "from sklearn.preprocessing import SplineTransformer\n",
    "\n",
    "\n",
    "def periodic_spline_transformer(period, n_splines=None, degree=3):\n",
    "    if n_splines is None:\n",
    "        n_splines = period\n",
    "    n_knots = n_splines + 1  # periodic and include_bias is True\n",
    "    return SplineTransformer(\n",
    "        degree=degree,\n",
    "        n_knots=n_knots,\n",
    "        knots=np.linspace(0, period, n_knots).reshape(n_knots, 1),\n",
    "        extrapolation=\"periodic\",\n",
    "        include_bias=True,\n",
    "    )\n",
    "\n",
    "# Sample quarterly data\n",
    "# data = {'quarter': [1, 2, 3, 4, 1, 2, 3, 4, 1, 2, 3, 4],\n",
    "#         'value': [10, 15, 12, 18, 11, 16, 13, 19, 12, 17, 14, 20]}\n",
    "# df = pd.DataFrame(data)\n",
    "\n",
    "# # Create periodic spline transformer\n",
    "# qt = periodic_spline_transformer(12, 4)\n",
    "\n",
    "# # Transform the 'quarter' feature\n",
    "# quarter = qt.fit_transform(df_train[['Month']])[:,0]\n",
    "\n",
    "# # Add transformed features to DataFrame\n",
    "# print(quarter)"
   ]
  },
  {
   "cell_type": "code",
   "execution_count": 3,
   "id": "5f27d32d",
   "metadata": {
    "execution": {
     "iopub.execute_input": "2025-01-14T07:14:35.022872Z",
     "iopub.status.busy": "2025-01-14T07:14:35.022230Z",
     "iopub.status.idle": "2025-01-14T07:14:48.429672Z",
     "shell.execute_reply": "2025-01-14T07:14:48.428267Z"
    },
    "papermill": {
     "duration": 13.424776,
     "end_time": "2025-01-14T07:14:48.432184",
     "exception": false,
     "start_time": "2025-01-14T07:14:35.007408",
     "status": "completed"
    },
    "tags": []
   },
   "outputs": [
    {
     "name": "stdout",
     "output_type": "stream",
     "text": [
      "Collecting optuna-integration[catboost]\r\n",
      "  Downloading optuna_integration-4.1.0-py3-none-any.whl.metadata (12 kB)\r\n",
      "Requirement already satisfied: optuna in /usr/local/lib/python3.10/dist-packages (from optuna-integration[catboost]) (4.1.0)\r\n",
      "Requirement already satisfied: numpy<2.0.0 in /usr/local/lib/python3.10/dist-packages (from optuna-integration[catboost]) (1.26.4)\r\n",
      "Requirement already satisfied: catboost in /usr/local/lib/python3.10/dist-packages (from optuna-integration[catboost]) (1.2.7)\r\n",
      "Requirement already satisfied: graphviz in /usr/local/lib/python3.10/dist-packages (from catboost->optuna-integration[catboost]) (0.20.3)\r\n",
      "Requirement already satisfied: matplotlib in /usr/local/lib/python3.10/dist-packages (from catboost->optuna-integration[catboost]) (3.7.1)\r\n",
      "Requirement already satisfied: pandas>=0.24 in /usr/local/lib/python3.10/dist-packages (from catboost->optuna-integration[catboost]) (2.1.4)\r\n",
      "Requirement already satisfied: scipy in /usr/local/lib/python3.10/dist-packages (from catboost->optuna-integration[catboost]) (1.13.1)\r\n",
      "Requirement already satisfied: plotly in /usr/local/lib/python3.10/dist-packages (from catboost->optuna-integration[catboost]) (5.24.1)\r\n",
      "Requirement already satisfied: six in /usr/local/lib/python3.10/dist-packages (from catboost->optuna-integration[catboost]) (1.16.0)\r\n",
      "Requirement already satisfied: alembic>=1.5.0 in /usr/local/lib/python3.10/dist-packages (from optuna->optuna-integration[catboost]) (1.14.0)\r\n",
      "Requirement already satisfied: colorlog in /usr/local/lib/python3.10/dist-packages (from optuna->optuna-integration[catboost]) (6.9.0)\r\n",
      "Requirement already satisfied: packaging>=20.0 in /usr/local/lib/python3.10/dist-packages (from optuna->optuna-integration[catboost]) (24.1)\r\n",
      "Requirement already satisfied: sqlalchemy>=1.4.2 in /usr/local/lib/python3.10/dist-packages (from optuna->optuna-integration[catboost]) (2.0.35)\r\n",
      "Requirement already satisfied: tqdm in /usr/local/lib/python3.10/dist-packages (from optuna->optuna-integration[catboost]) (4.66.5)\r\n",
      "Requirement already satisfied: PyYAML in /usr/local/lib/python3.10/dist-packages (from optuna->optuna-integration[catboost]) (6.0.2)\r\n",
      "Requirement already satisfied: Mako in /usr/local/lib/python3.10/dist-packages (from alembic>=1.5.0->optuna->optuna-integration[catboost]) (1.3.8)\r\n",
      "Requirement already satisfied: typing-extensions>=4 in /usr/local/lib/python3.10/dist-packages (from alembic>=1.5.0->optuna->optuna-integration[catboost]) (4.12.2)\r\n",
      "Requirement already satisfied: python-dateutil>=2.8.2 in /usr/local/lib/python3.10/dist-packages (from pandas>=0.24->catboost->optuna-integration[catboost]) (2.8.2)\r\n",
      "Requirement already satisfied: pytz>=2020.1 in /usr/local/lib/python3.10/dist-packages (from pandas>=0.24->catboost->optuna-integration[catboost]) (2024.2)\r\n",
      "Requirement already satisfied: tzdata>=2022.1 in /usr/local/lib/python3.10/dist-packages (from pandas>=0.24->catboost->optuna-integration[catboost]) (2024.1)\r\n",
      "Requirement already satisfied: greenlet!=0.4.17 in /usr/local/lib/python3.10/dist-packages (from sqlalchemy>=1.4.2->optuna->optuna-integration[catboost]) (3.1.0)\r\n",
      "Requirement already satisfied: contourpy>=1.0.1 in /usr/local/lib/python3.10/dist-packages (from matplotlib->catboost->optuna-integration[catboost]) (1.3.0)\r\n",
      "Requirement already satisfied: cycler>=0.10 in /usr/local/lib/python3.10/dist-packages (from matplotlib->catboost->optuna-integration[catboost]) (0.12.1)\r\n",
      "Requirement already satisfied: fonttools>=4.22.0 in /usr/local/lib/python3.10/dist-packages (from matplotlib->catboost->optuna-integration[catboost]) (4.53.1)\r\n",
      "Requirement already satisfied: kiwisolver>=1.0.1 in /usr/local/lib/python3.10/dist-packages (from matplotlib->catboost->optuna-integration[catboost]) (1.4.7)\r\n",
      "Requirement already satisfied: pillow>=6.2.0 in /usr/local/lib/python3.10/dist-packages (from matplotlib->catboost->optuna-integration[catboost]) (10.4.0)\r\n",
      "Requirement already satisfied: pyparsing>=2.3.1 in /usr/local/lib/python3.10/dist-packages (from matplotlib->catboost->optuna-integration[catboost]) (3.1.4)\r\n",
      "Requirement already satisfied: tenacity>=6.2.0 in /usr/local/lib/python3.10/dist-packages (from plotly->catboost->optuna-integration[catboost]) (9.0.0)\r\n",
      "Requirement already satisfied: MarkupSafe>=0.9.2 in /usr/local/lib/python3.10/dist-packages (from Mako->alembic>=1.5.0->optuna->optuna-integration[catboost]) (2.1.5)\r\n",
      "Downloading optuna_integration-4.1.0-py3-none-any.whl (97 kB)\r\n",
      "\u001b[2K   \u001b[90m━━━━━━━━━━━━━━━━━━━━━━━━━━━━━━━━━━━━━━━━\u001b[0m \u001b[32m97.4/97.4 kB\u001b[0m \u001b[31m2.7 MB/s\u001b[0m eta \u001b[36m0:00:00\u001b[0m\r\n",
      "\u001b[?25hInstalling collected packages: optuna-integration\r\n",
      "Successfully installed optuna-integration-4.1.0\r\n",
      "Requirement already satisfied: holidays in /usr/local/lib/python3.10/dist-packages (0.57)\r\n",
      "Collecting holidays\r\n",
      "  Downloading holidays-0.64-py3-none-any.whl.metadata (26 kB)\r\n",
      "Requirement already satisfied: python-dateutil in /usr/local/lib/python3.10/dist-packages (from holidays) (2.8.2)\r\n",
      "Requirement already satisfied: six>=1.5 in /usr/local/lib/python3.10/dist-packages (from python-dateutil->holidays) (1.16.0)\r\n",
      "Downloading holidays-0.64-py3-none-any.whl (1.2 MB)\r\n",
      "\u001b[2K   \u001b[90m━━━━━━━━━━━━━━━━━━━━━━━━━━━━━━━━━━━━━━━━\u001b[0m \u001b[32m1.2/1.2 MB\u001b[0m \u001b[31m21.6 MB/s\u001b[0m eta \u001b[36m0:00:00\u001b[0m\r\n",
      "\u001b[?25hInstalling collected packages: holidays\r\n",
      "  Attempting uninstall: holidays\r\n",
      "    Found existing installation: holidays 0.57\r\n",
      "    Uninstalling holidays-0.57:\r\n",
      "      Successfully uninstalled holidays-0.57\r\n",
      "Successfully installed holidays-0.64\r\n"
     ]
    }
   ],
   "source": [
    "!pip install optuna-integration[catboost]\n",
    "!pip install -U holidays"
   ]
  },
  {
   "cell_type": "code",
   "execution_count": 4,
   "id": "1d749432",
   "metadata": {
    "execution": {
     "iopub.execute_input": "2025-01-14T07:14:48.463968Z",
     "iopub.status.busy": "2025-01-14T07:14:48.463569Z",
     "iopub.status.idle": "2025-01-14T07:14:53.636462Z",
     "shell.execute_reply": "2025-01-14T07:14:53.634720Z"
    },
    "papermill": {
     "duration": 5.191691,
     "end_time": "2025-01-14T07:14:53.639109",
     "exception": false,
     "start_time": "2025-01-14T07:14:48.447418",
     "status": "completed"
    },
    "tags": []
   },
   "outputs": [
    {
     "name": "stdout",
     "output_type": "stream",
     "text": [
      "Collecting pycountry\r\n",
      "  Downloading pycountry-24.6.1-py3-none-any.whl.metadata (12 kB)\r\n",
      "Downloading pycountry-24.6.1-py3-none-any.whl (6.3 MB)\r\n",
      "\u001b[2K   \u001b[90m━━━━━━━━━━━━━━━━━━━━━━━━━━━━━━━━━━━━━━━━\u001b[0m \u001b[32m6.3/6.3 MB\u001b[0m \u001b[31m54.2 MB/s\u001b[0m eta \u001b[36m0:00:00\u001b[0m\r\n",
      "\u001b[?25hInstalling collected packages: pycountry\r\n",
      "Successfully installed pycountry-24.6.1\r\n"
     ]
    }
   ],
   "source": [
    "!pip install -U pycountry"
   ]
  },
  {
   "cell_type": "code",
   "execution_count": 5,
   "id": "3c2bbc9a",
   "metadata": {
    "execution": {
     "iopub.execute_input": "2025-01-14T07:14:53.672242Z",
     "iopub.status.busy": "2025-01-14T07:14:53.671839Z",
     "iopub.status.idle": "2025-01-14T07:14:53.733840Z",
     "shell.execute_reply": "2025-01-14T07:14:53.732506Z"
    },
    "papermill": {
     "duration": 0.081655,
     "end_time": "2025-01-14T07:14:53.736123",
     "exception": false,
     "start_time": "2025-01-14T07:14:53.654468",
     "status": "completed"
    },
    "tags": []
   },
   "outputs": [],
   "source": [
    "import statsmodels"
   ]
  },
  {
   "cell_type": "code",
   "execution_count": 6,
   "id": "79bc7471",
   "metadata": {
    "execution": {
     "iopub.execute_input": "2025-01-14T07:14:53.767849Z",
     "iopub.status.busy": "2025-01-14T07:14:53.767506Z",
     "iopub.status.idle": "2025-01-14T07:14:55.341955Z",
     "shell.execute_reply": "2025-01-14T07:14:55.340627Z"
    },
    "papermill": {
     "duration": 1.593062,
     "end_time": "2025-01-14T07:14:55.344062",
     "exception": false,
     "start_time": "2025-01-14T07:14:53.751000",
     "status": "completed"
    },
    "tags": []
   },
   "outputs": [],
   "source": [
    "import pandas as pd\n",
    "import numpy as np\n",
    "import optuna\n",
    "import catboost as cb\n",
    "import matplotlib\n",
    "import seaborn as sns\n",
    "from sklearn.metrics import mean_absolute_percentage_error\n",
    "from sklearn.model_selection import train_test_split\n",
    "from optuna.integration import CatBoostPruningCallback\n",
    "import pycountry \n",
    "import holidays\n",
    "\n",
    "\n"
   ]
  },
  {
   "cell_type": "code",
   "execution_count": 7,
   "id": "fd01636d",
   "metadata": {
    "execution": {
     "iopub.execute_input": "2025-01-14T07:14:55.374089Z",
     "iopub.status.busy": "2025-01-14T07:14:55.373522Z",
     "iopub.status.idle": "2025-01-14T07:14:55.988954Z",
     "shell.execute_reply": "2025-01-14T07:14:55.987707Z"
    },
    "papermill": {
     "duration": 0.632676,
     "end_time": "2025-01-14T07:14:55.991047",
     "exception": false,
     "start_time": "2025-01-14T07:14:55.358371",
     "status": "completed"
    },
    "tags": []
   },
   "outputs": [],
   "source": [
    "df_train=pd.read_csv('/kaggle/input/playground-series-s5e1/train.csv')\n",
    "df_test=pd.read_csv('/kaggle/input/playground-series-s5e1/test.csv')\n",
    "\n"
   ]
  },
  {
   "cell_type": "code",
   "execution_count": 8,
   "id": "c8c35370",
   "metadata": {
    "execution": {
     "iopub.execute_input": "2025-01-14T07:14:56.023859Z",
     "iopub.status.busy": "2025-01-14T07:14:56.023435Z",
     "iopub.status.idle": "2025-01-14T07:14:56.103620Z",
     "shell.execute_reply": "2025-01-14T07:14:56.102135Z"
    },
    "papermill": {
     "duration": 0.098768,
     "end_time": "2025-01-14T07:14:56.105701",
     "exception": false,
     "start_time": "2025-01-14T07:14:56.006933",
     "status": "completed"
    },
    "tags": []
   },
   "outputs": [
    {
     "name": "stdout",
     "output_type": "stream",
     "text": [
      "<class 'pandas.core.frame.DataFrame'>\n",
      "RangeIndex: 230130 entries, 0 to 230129\n",
      "Data columns (total 6 columns):\n",
      " #   Column    Non-Null Count   Dtype  \n",
      "---  ------    --------------   -----  \n",
      " 0   id        230130 non-null  int64  \n",
      " 1   date      230130 non-null  object \n",
      " 2   country   230130 non-null  object \n",
      " 3   store     230130 non-null  object \n",
      " 4   product   230130 non-null  object \n",
      " 5   num_sold  221259 non-null  float64\n",
      "dtypes: float64(1), int64(1), object(4)\n",
      "memory usage: 10.5+ MB\n"
     ]
    }
   ],
   "source": [
    "df_train.info()"
   ]
  },
  {
   "cell_type": "code",
   "execution_count": 9,
   "id": "7105f26c",
   "metadata": {
    "execution": {
     "iopub.execute_input": "2025-01-14T07:14:56.135478Z",
     "iopub.status.busy": "2025-01-14T07:14:56.135028Z",
     "iopub.status.idle": "2025-01-14T07:14:56.160493Z",
     "shell.execute_reply": "2025-01-14T07:14:56.159242Z"
    },
    "papermill": {
     "duration": 0.042434,
     "end_time": "2025-01-14T07:14:56.162436",
     "exception": false,
     "start_time": "2025-01-14T07:14:56.120002",
     "status": "completed"
    },
    "tags": []
   },
   "outputs": [
    {
     "data": {
      "text/plain": [
       "array(['Discount Stickers', 'Stickers for Less', 'Premium Sticker Mart'],\n",
       "      dtype=object)"
      ]
     },
     "execution_count": 9,
     "metadata": {},
     "output_type": "execute_result"
    }
   ],
   "source": [
    "df_train['store'].unique()"
   ]
  },
  {
   "cell_type": "code",
   "execution_count": 10,
   "id": "cc7f49b0",
   "metadata": {
    "execution": {
     "iopub.execute_input": "2025-01-14T07:14:56.194065Z",
     "iopub.status.busy": "2025-01-14T07:14:56.193659Z",
     "iopub.status.idle": "2025-01-14T07:14:56.214717Z",
     "shell.execute_reply": "2025-01-14T07:14:56.213623Z"
    },
    "papermill": {
     "duration": 0.039152,
     "end_time": "2025-01-14T07:14:56.216681",
     "exception": false,
     "start_time": "2025-01-14T07:14:56.177529",
     "status": "completed"
    },
    "tags": []
   },
   "outputs": [
    {
     "data": {
      "text/plain": [
       "array(['Holographic Goose', 'Kaggle', 'Kaggle Tiers', 'Kerneler',\n",
       "       'Kerneler Dark Mode'], dtype=object)"
      ]
     },
     "execution_count": 10,
     "metadata": {},
     "output_type": "execute_result"
    }
   ],
   "source": [
    "df_train['product'].unique()"
   ]
  },
  {
   "cell_type": "code",
   "execution_count": 11,
   "id": "e474d1d2",
   "metadata": {
    "execution": {
     "iopub.execute_input": "2025-01-14T07:14:56.247315Z",
     "iopub.status.busy": "2025-01-14T07:14:56.246863Z",
     "iopub.status.idle": "2025-01-14T07:14:57.387519Z",
     "shell.execute_reply": "2025-01-14T07:14:57.386255Z"
    },
    "papermill": {
     "duration": 1.158378,
     "end_time": "2025-01-14T07:14:57.389661",
     "exception": false,
     "start_time": "2025-01-14T07:14:56.231283",
     "status": "completed"
    },
    "tags": []
   },
   "outputs": [
    {
     "data": {
      "image/png": "[encoded data removed]",
      "text/plain": [
       "<Figure size 640x480 with 4 Axes>"
      ]
     },
     "metadata": {},
     "output_type": "display_data"
    }
   ],
   "source": [
    "import pandas as pd\n",
    "import numpy as np\n",
    "from statsmodels.tsa.seasonal import seasonal_decompose\n",
    "import matplotlib.pyplot as plt\n",
    "\n",
    "# Generate synthetic time series data\n",
    "np.random.seed(42)\n",
    "#df_train['date']=pd.to_datetime(df_train['date'])\n",
    "#df_train=df_train.set_index('date')\n",
    "df=df_train['num_sold']\n",
    "\n",
    "#time = pd.date_range(start=df_train['date'].min, end=df_train['date'].max, periods=365, freq='D')\n",
    "#series = 10 + 0.05 * np.arange(100) + np.sin(2 * np.pi * time.dayofyear / 365) + np.random.normal(0, 1, 100)\n",
    "#df = pd.DataFrame({'date': time, 'value': series}).set_index('date')\n",
    "\n",
    "# Decompose time series\n",
    "decomposition = seasonal_decompose(df_train[(df_train['country']=='Singapore') & (df_train['store']=='Discount Stickers')]['num_sold'], model='multiplicative', period=600)  # Set period according to data frequency\n",
    "\n",
    "# Plot components\n",
    "decomposition.plot()\n",
    "plt.show()\n"
   ]
  },
  {
   "cell_type": "code",
   "execution_count": 12,
   "id": "86a34f34",
   "metadata": {
    "execution": {
     "iopub.execute_input": "2025-01-14T07:14:57.423491Z",
     "iopub.status.busy": "2025-01-14T07:14:57.422797Z",
     "iopub.status.idle": "2025-01-14T07:14:59.338834Z",
     "shell.execute_reply": "2025-01-14T07:14:59.337355Z"
    },
    "papermill": {
     "duration": 1.93754,
     "end_time": "2025-01-14T07:14:59.343097",
     "exception": false,
     "start_time": "2025-01-14T07:14:57.405557",
     "status": "completed"
    },
    "tags": []
   },
   "outputs": [
    {
     "name": "stdout",
     "output_type": "stream",
     "text": [
      "ADF Statistic: -6.129147123657372\n",
      "p-value: 8.484833374009022e-08\n",
      "The series is stationary.\n"
     ]
    }
   ],
   "source": [
    "from statsmodels.tsa.stattools import adfuller\n",
    "\n",
    "# Perform ADF test\n",
    "adf_result = adfuller(df_train[(df_train['country']=='Singapore') & (df_train['store']=='Discount Stickers')]['num_sold'])\n",
    "\n",
    "# Print results\n",
    "print(\"ADF Statistic:\", adf_result[0])\n",
    "print(\"p-value:\", adf_result[1])\n",
    "if adf_result[1] < 0.05:\n",
    "    print(\"The series is stationary.\")\n",
    "else:\n",
    "    print(\"The series is not stationary.\")\n"
   ]
  },
  {
   "cell_type": "code",
   "execution_count": 13,
   "id": "04464d0e",
   "metadata": {
    "execution": {
     "iopub.execute_input": "2025-01-14T07:14:59.440876Z",
     "iopub.status.busy": "2025-01-14T07:14:59.439040Z",
     "iopub.status.idle": "2025-01-14T07:14:59.510898Z",
     "shell.execute_reply": "2025-01-14T07:14:59.509418Z"
    },
    "papermill": {
     "duration": 0.126709,
     "end_time": "2025-01-14T07:14:59.516984",
     "exception": false,
     "start_time": "2025-01-14T07:14:59.390275",
     "status": "completed"
    },
    "tags": []
   },
   "outputs": [
    {
     "name": "stdout",
     "output_type": "stream",
     "text": [
      "KPSS Statistic: 0.7976600279714846\n",
      "p-value: 0.01\n",
      "The series is not stationary (has a trend).\n"
     ]
    },
    {
     "name": "stderr",
     "output_type": "stream",
     "text": [
      "<ipython-input-13-b1e5399dac4b>:4: InterpolationWarning: The test statistic is outside of the range of p-values available in the\n",
      "look-up table. The actual p-value is smaller than the p-value returned.\n",
      "\n",
      "  kpss_result = kpss(df_train[(df_train['country']=='Singapore') & (df_train['store']=='Discount Stickers')]['num_sold'], regression='c')\n"
     ]
    }
   ],
   "source": [
    "from statsmodels.tsa.stattools import kpss\n",
    "\n",
    "# Perform KPSS test\n",
    "kpss_result = kpss(df_train[(df_train['country']=='Singapore') & (df_train['store']=='Discount Stickers')]['num_sold'], regression='c')\n",
    "\n",
    "# Print results\n",
    "print(\"KPSS Statistic:\", kpss_result[0])\n",
    "print(\"p-value:\", kpss_result[1])\n",
    "if kpss_result[1] < 0.05:\n",
    "    print(\"The series is not stationary (has a trend).\")\n",
    "else:\n",
    "    print(\"The series is stationary.\")"
   ]
  },
  {
   "cell_type": "code",
   "execution_count": 14,
   "id": "780370fd",
   "metadata": {
    "execution": {
     "iopub.execute_input": "2025-01-14T07:14:59.613266Z",
     "iopub.status.busy": "2025-01-14T07:14:59.611917Z",
     "iopub.status.idle": "2025-01-14T07:14:59.673919Z",
     "shell.execute_reply": "2025-01-14T07:14:59.672332Z"
    },
    "papermill": {
     "duration": 0.112284,
     "end_time": "2025-01-14T07:14:59.676005",
     "exception": false,
     "start_time": "2025-01-14T07:14:59.563721",
     "status": "completed"
    },
    "tags": []
   },
   "outputs": [
    {
     "name": "stdout",
     "output_type": "stream",
     "text": [
      "<class 'pandas.core.frame.DataFrame'>\n",
      "RangeIndex: 230130 entries, 0 to 230129\n",
      "Data columns (total 6 columns):\n",
      " #   Column    Non-Null Count   Dtype  \n",
      "---  ------    --------------   -----  \n",
      " 0   id        230130 non-null  int64  \n",
      " 1   date      230130 non-null  object \n",
      " 2   country   230130 non-null  object \n",
      " 3   store     230130 non-null  object \n",
      " 4   product   230130 non-null  object \n",
      " 5   num_sold  221259 non-null  float64\n",
      "dtypes: float64(1), int64(1), object(4)\n",
      "memory usage: 10.5+ MB\n"
     ]
    }
   ],
   "source": [
    "df_train.info()"
   ]
  },
  {
   "cell_type": "code",
   "execution_count": 15,
   "id": "621571b4",
   "metadata": {
    "execution": {
     "iopub.execute_input": "2025-01-14T07:14:59.710903Z",
     "iopub.status.busy": "2025-01-14T07:14:59.710540Z",
     "iopub.status.idle": "2025-01-14T07:15:03.383151Z",
     "shell.execute_reply": "2025-01-14T07:15:03.381804Z"
    },
    "papermill": {
     "duration": 3.695332,
     "end_time": "2025-01-14T07:15:03.388083",
     "exception": false,
     "start_time": "2025-01-14T07:14:59.692751",
     "status": "completed"
    },
    "tags": []
   },
   "outputs": [
    {
     "data": {
      "image/png": "[encoded data removed]",
      "text/plain": [
       "<Figure size 1200x800 with 6 Axes>"
      ]
     },
     "metadata": {},
     "output_type": "display_data"
    }
   ],
   "source": [
    "# Plot showing timeseries attributes: trend, seasonality \n",
    "\n",
    "# Create subplots: 2 rows, 3 columns\n",
    "fig, axes = plt.subplots(2, 3, figsize=(12, 8))\n",
    "\n",
    "# Flatten the axes array for easy iteration\n",
    "axes = axes.flatten()\n",
    "countrylist=df_train['country'].unique().tolist()\n",
    "# Loop through each subplot and plot\n",
    "for i, ax in enumerate(axes):\n",
    "    df=df_train[(df_train['country']==countrylist[i]) & (df_train['store']=='Discount Stickers')][['date','num_sold']]\n",
    "    df.dropna(inplace=True)\n",
    "    df.set_index('date',inplace=True)\n",
    "    df['rolling_mean'] = df['num_sold'].rolling(window=30).mean()\n",
    "    df['rolling_std'] = df['num_sold'].rolling(window=30).std()\n",
    "    df[['num_sold', 'rolling_mean', 'rolling_std']].plot(ax=ax,title=f'{countrylist[i]} Rolling Mean and Std Dev')\n",
    "\n",
    "plt.tight_layout()\n",
    "\n",
    "# Show the plot\n",
    "plt.show()\n",
    "    "
   ]
  },
  {
   "cell_type": "code",
   "execution_count": 16,
   "id": "224d4702",
   "metadata": {
    "execution": {
     "iopub.execute_input": "2025-01-14T07:15:03.432400Z",
     "iopub.status.busy": "2025-01-14T07:15:03.431979Z",
     "iopub.status.idle": "2025-01-14T07:15:03.520493Z",
     "shell.execute_reply": "2025-01-14T07:15:03.519102Z"
    },
    "papermill": {
     "duration": 0.112745,
     "end_time": "2025-01-14T07:15:03.522523",
     "exception": false,
     "start_time": "2025-01-14T07:15:03.409778",
     "status": "completed"
    },
    "tags": []
   },
   "outputs": [
    {
     "data": {
      "text/plain": [
       "<bound method Series.max of 46        20.0\n",
       "47        16.0\n",
       "48         8.0\n",
       "49         9.0\n",
       "50         5.0\n",
       "          ... \n",
       "230095    10.0\n",
       "230096    72.0\n",
       "230097    58.0\n",
       "230098    33.0\n",
       "230099    42.0\n",
       "Name: num_sold, Length: 33730, dtype: float64>"
      ]
     },
     "execution_count": 16,
     "metadata": {},
     "output_type": "execute_result"
    }
   ],
   "source": [
    "test=df_train.dropna()\n",
    "test[test['country']=='Kenya']['num_sold'].max"
   ]
  },
  {
   "cell_type": "code",
   "execution_count": 17,
   "id": "52e1c325",
   "metadata": {
    "execution": {
     "iopub.execute_input": "2025-01-14T07:15:03.565943Z",
     "iopub.status.busy": "2025-01-14T07:15:03.565506Z",
     "iopub.status.idle": "2025-01-14T07:15:03.571651Z",
     "shell.execute_reply": "2025-01-14T07:15:03.570415Z"
    },
    "papermill": {
     "duration": 0.030661,
     "end_time": "2025-01-14T07:15:03.573657",
     "exception": false,
     "start_time": "2025-01-14T07:15:03.542996",
     "status": "completed"
    },
    "tags": []
   },
   "outputs": [],
   "source": [
    "\n",
    "\n",
    "def get_alpha2_code(country_name):\n",
    "  \"\"\"\n",
    "  Gets the ISO 3166-1 Alpha-2 country code for the given country name.\n",
    "\n",
    "  Args:\n",
    "    country_name: The name of the country.\n",
    "\n",
    "  Returns:\n",
    "    The ISO 3166-1 Alpha-2 country code, or None if the country is not found.\n",
    "  \"\"\"\n",
    "  try:\n",
    "    country = pycountry.countries.search_fuzzy(country_name)[0]\n",
    "    return country.alpha_2\n",
    "  except LookupError:\n",
    "    return None\n",
    "\n"
   ]
  },
  {
   "cell_type": "code",
   "execution_count": 18,
   "id": "1ee0aa63",
   "metadata": {
    "execution": {
     "iopub.execute_input": "2025-01-14T07:15:03.618988Z",
     "iopub.status.busy": "2025-01-14T07:15:03.618589Z",
     "iopub.status.idle": "2025-01-14T07:15:03.624035Z",
     "shell.execute_reply": "2025-01-14T07:15:03.622729Z"
    },
    "papermill": {
     "duration": 0.030135,
     "end_time": "2025-01-14T07:15:03.625851",
     "exception": false,
     "start_time": "2025-01-14T07:15:03.595716",
     "status": "completed"
    },
    "tags": []
   },
   "outputs": [],
   "source": [
    "# Function to create holiday sets for each country\n",
    "def generate_country_holidays(countries, start_year, end_year):\n",
    "    country_holidays = {}\n",
    "    for country in countries:\n",
    "        # Generate a holiday set for the range of years\n",
    "        country_holidays[country] = holidays.CountryHoliday(country, years=range(start_year, end_year + 1)) \n",
    "    return country_holidays\n"
   ]
  },
  {
   "cell_type": "code",
   "execution_count": 19,
   "id": "d7e3bd3c",
   "metadata": {
    "execution": {
     "iopub.execute_input": "2025-01-14T07:15:03.669751Z",
     "iopub.status.busy": "2025-01-14T07:15:03.669335Z",
     "iopub.status.idle": "2025-01-14T07:15:07.194393Z",
     "shell.execute_reply": "2025-01-14T07:15:07.193120Z"
    },
    "papermill": {
     "duration": 3.549734,
     "end_time": "2025-01-14T07:15:07.196598",
     "exception": false,
     "start_time": "2025-01-14T07:15:03.646864",
     "status": "completed"
    },
    "tags": []
   },
   "outputs": [],
   "source": [
    "df_train['Day']=pd.to_datetime(df_train['date']).dt.strftime(\"%d\")\n",
    "df_train['Month']=pd.to_datetime(df_train['date']).dt.strftime(\"%m\")\n",
    "df_train['Year']=pd.to_datetime(df_train['date']).dt.strftime(\"%Y\")\n",
    "df_train['Day_of_week']=pd.to_datetime(df_train['date']).dt.dayofweek\n",
    "df_train['Week_No']=pd.to_datetime(df_train['date']).dt.isocalendar().week\n",
    "df_train['is_weekend']=(df_train['Day_of_week']>=4).astype(int)\n",
    "df_train['Quarter_Discrete'] = (df_train['Month'].astype(int) - 1) // 3 + 1\n",
    "df_train['Quarter_Spline']=periodic_spline_transformer(12,4).fit_transform(df_train[['Month']])[:,0]\n"
   ]
  },
  {
   "cell_type": "code",
   "execution_count": 20,
   "id": "9c09ef47",
   "metadata": {
    "execution": {
     "iopub.execute_input": "2025-01-14T07:15:07.239608Z",
     "iopub.status.busy": "2025-01-14T07:15:07.239080Z",
     "iopub.status.idle": "2025-01-14T07:15:07.247967Z",
     "shell.execute_reply": "2025-01-14T07:15:07.246774Z"
    },
    "papermill": {
     "duration": 0.032932,
     "end_time": "2025-01-14T07:15:07.250301",
     "exception": false,
     "start_time": "2025-01-14T07:15:07.217369",
     "status": "completed"
    },
    "tags": []
   },
   "outputs": [
    {
     "data": {
      "text/plain": [
       "0         0.049383\n",
       "1         0.049383\n",
       "2         0.049383\n",
       "3         0.049383\n",
       "4         0.049383\n",
       "            ...   \n",
       "230125    0.166667\n",
       "230126    0.166667\n",
       "230127    0.166667\n",
       "230128    0.166667\n",
       "230129    0.166667\n",
       "Name: Quarter_Spline, Length: 230130, dtype: float64"
      ]
     },
     "execution_count": 20,
     "metadata": {},
     "output_type": "execute_result"
    }
   ],
   "source": [
    "df_train['Quarter_Spline']"
   ]
  },
  {
   "cell_type": "code",
   "execution_count": 21,
   "id": "901f3686",
   "metadata": {
    "execution": {
     "iopub.execute_input": "2025-01-14T07:15:07.292978Z",
     "iopub.status.busy": "2025-01-14T07:15:07.292641Z",
     "iopub.status.idle": "2025-01-14T07:15:07.298100Z",
     "shell.execute_reply": "2025-01-14T07:15:07.296782Z"
    },
    "papermill": {
     "duration": 0.029294,
     "end_time": "2025-01-14T07:15:07.300337",
     "exception": false,
     "start_time": "2025-01-14T07:15:07.271043",
     "status": "completed"
    },
    "tags": []
   },
   "outputs": [],
   "source": [
    "def consecutive_days_visited(df):\n",
    "    \"\"\"\n",
    "    Calculates the number of consecutive days a store was visited.\n",
    "\n",
    "    Args:\n",
    "        df: pandas DataFrame with columns 'date', 'country', 'store'\n",
    "\n",
    "    Returns:\n",
    "        pandas DataFrame with an additional column 'consecutive_days' \n",
    "    \"\"\"\n",
    "\n",
    "    # Ensure date index is sorted\n",
    "    df = df.sort_index()\n",
    "\n",
    "    # Group by 'country' and 'store'\n",
    "    grouped = df.groupby(['country', 'store'])\n",
    "\n",
    "    # Calculate consecutive days within each group\n",
    "    df['consecutive_days'] = (grouped.indices - grouped.indices.min()).dt.days + 1\n",
    "\n",
    "    return df\n"
   ]
  },
  {
   "cell_type": "code",
   "execution_count": 22,
   "id": "6edf7eb9",
   "metadata": {
    "execution": {
     "iopub.execute_input": "2025-01-14T07:15:07.344118Z",
     "iopub.status.busy": "2025-01-14T07:15:07.343715Z",
     "iopub.status.idle": "2025-01-14T07:15:07.530032Z",
     "shell.execute_reply": "2025-01-14T07:15:07.528564Z"
    },
    "papermill": {
     "duration": 0.210645,
     "end_time": "2025-01-14T07:15:07.532125",
     "exception": false,
     "start_time": "2025-01-14T07:15:07.321480",
     "status": "completed"
    },
    "tags": []
   },
   "outputs": [
    {
     "name": "stdout",
     "output_type": "stream",
     "text": [
      "['CA', 'FI', 'IT', 'KE', 'NO', 'SG']\n"
     ]
    }
   ],
   "source": [
    "allcountries=df_train['country'].unique()\n",
    "countrycodes = list(map(lambda x:get_alpha2_code(x),allcountries)) \n",
    "unique_countries = [cc for cc in countrycodes if cc is not None]\n",
    "print(countrycodes)"
   ]
  },
  {
   "cell_type": "code",
   "execution_count": 23,
   "id": "1c6cbd39",
   "metadata": {
    "execution": {
     "iopub.execute_input": "2025-01-14T07:15:07.575478Z",
     "iopub.status.busy": "2025-01-14T07:15:07.574999Z",
     "iopub.status.idle": "2025-01-14T07:15:07.691784Z",
     "shell.execute_reply": "2025-01-14T07:15:07.690397Z"
    },
    "papermill": {
     "duration": 0.141191,
     "end_time": "2025-01-14T07:15:07.693948",
     "exception": false,
     "start_time": "2025-01-14T07:15:07.552757",
     "status": "completed"
    },
    "tags": []
   },
   "outputs": [],
   "source": [
    "df_train['store']=df_train['store'].astype('category')\n",
    "df_train['country']=df_train['country'].astype('category')\n",
    "df_train['product']=df_train['product'].astype('category')\n",
    "df_train['Day']=df_train['Day'].astype('category')\n",
    "df_train['Month']=df_train['Month'].astype('category')\n",
    "df_train['Year']=df_train['Year'].astype('category')\n",
    "df_train['Day_of_week']=df_train['Day_of_week'].astype('category')\n"
   ]
  },
  {
   "cell_type": "code",
   "execution_count": 24,
   "id": "a41d9fc7",
   "metadata": {
    "execution": {
     "iopub.execute_input": "2025-01-14T07:15:07.736756Z",
     "iopub.status.busy": "2025-01-14T07:15:07.736291Z",
     "iopub.status.idle": "2025-01-14T07:15:09.344670Z",
     "shell.execute_reply": "2025-01-14T07:15:09.343327Z"
    },
    "papermill": {
     "duration": 1.63275,
     "end_time": "2025-01-14T07:15:09.347050",
     "exception": false,
     "start_time": "2025-01-14T07:15:07.714300",
     "status": "completed"
    },
    "tags": []
   },
   "outputs": [],
   "source": [
    "df_test['Day']=pd.to_datetime(df_test['date']).dt.strftime(\"%d\")\n",
    "df_test['Month']=pd.to_datetime(df_test['date']).dt.strftime(\"%m\")\n",
    "df_test['Year']=pd.to_datetime(df_test['date']).dt.strftime(\"%Y\")\n",
    "df_test['Day_of_week']=pd.to_datetime(df_test['date']).dt.dayofweek\n",
    "df_test['Week_No']=pd.to_datetime(df_test['date']).dt.isocalendar().week\n",
    "df_test['is_weekend']=(df_test['Day_of_week']>=4).astype(int)\n",
    "df_test['Quarter_Discrete'] = (df_test['Month'].astype(int) - 1) // 3 + 1\n",
    "df_test['Quarter_Spline']=periodic_spline_transformer(12,4).fit_transform(df_test[['Month']])[:,0]\n"
   ]
  },
  {
   "cell_type": "code",
   "execution_count": 25,
   "id": "c5339843",
   "metadata": {
    "execution": {
     "iopub.execute_input": "2025-01-14T07:15:09.399545Z",
     "iopub.status.busy": "2025-01-14T07:15:09.399065Z",
     "iopub.status.idle": "2025-01-14T07:15:09.458829Z",
     "shell.execute_reply": "2025-01-14T07:15:09.457508Z"
    },
    "papermill": {
     "duration": 0.084547,
     "end_time": "2025-01-14T07:15:09.461239",
     "exception": false,
     "start_time": "2025-01-14T07:15:09.376692",
     "status": "completed"
    },
    "tags": []
   },
   "outputs": [],
   "source": [
    "df_test['store']=df_test['store'].astype('category')\n",
    "df_test['country']=df_test['country'].astype('category')\n",
    "df_test['product']=df_test['product'].astype('category')\n",
    "df_test['Day']=df_test['Day'].astype('category')\n",
    "df_test['Month']=df_test['Month'].astype('category')\n",
    "df_test['Year']=df_test['Year'].astype('category')\n",
    "df_test['Day_of_week']=df_test['Day_of_week'].astype('category')\n"
   ]
  },
  {
   "cell_type": "code",
   "execution_count": 26,
   "id": "94f35293",
   "metadata": {
    "execution": {
     "iopub.execute_input": "2025-01-14T07:15:09.505314Z",
     "iopub.status.busy": "2025-01-14T07:15:09.504855Z",
     "iopub.status.idle": "2025-01-14T07:15:09.554099Z",
     "shell.execute_reply": "2025-01-14T07:15:09.552807Z"
    },
    "papermill": {
     "duration": 0.073938,
     "end_time": "2025-01-14T07:15:09.556605",
     "exception": false,
     "start_time": "2025-01-14T07:15:09.482667",
     "status": "completed"
    },
    "tags": []
   },
   "outputs": [],
   "source": [
    "df_train['date']=pd.to_datetime(df_train['date'])\n",
    "df_test['date']=pd.to_datetime(df_test['date'])"
   ]
  },
  {
   "cell_type": "code",
   "execution_count": 27,
   "id": "4302fffb",
   "metadata": {
    "execution": {
     "iopub.execute_input": "2025-01-14T07:15:09.600646Z",
     "iopub.status.busy": "2025-01-14T07:15:09.600217Z",
     "iopub.status.idle": "2025-01-14T07:15:09.647702Z",
     "shell.execute_reply": "2025-01-14T07:15:09.646213Z"
    },
    "papermill": {
     "duration": 0.072136,
     "end_time": "2025-01-14T07:15:09.649811",
     "exception": false,
     "start_time": "2025-01-14T07:15:09.577675",
     "status": "completed"
    },
    "tags": []
   },
   "outputs": [
    {
     "name": "stderr",
     "output_type": "stream",
     "text": [
      "<ipython-input-27-a9a4f327ce0c>:1: FutureWarning: The default of observed=False is deprecated and will be changed to True in a future version of pandas. Pass observed=False to retain current behavior or observed=True to adopt the future default and silence this warning.\n",
      "  df_train['previous_visit']=df_train.reset_index().groupby(by=['country','store'])[['date']].diff()\n"
     ]
    }
   ],
   "source": [
    "df_train['previous_visit']=df_train.reset_index().groupby(by=['country','store'])[['date']].diff()"
   ]
  },
  {
   "cell_type": "code",
   "execution_count": 28,
   "id": "5db12175",
   "metadata": {
    "execution": {
     "iopub.execute_input": "2025-01-14T07:15:09.694414Z",
     "iopub.status.busy": "2025-01-14T07:15:09.693968Z",
     "iopub.status.idle": "2025-01-14T07:15:09.717757Z",
     "shell.execute_reply": "2025-01-14T07:15:09.716318Z"
    },
    "papermill": {
     "duration": 0.049404,
     "end_time": "2025-01-14T07:15:09.720497",
     "exception": false,
     "start_time": "2025-01-14T07:15:09.671093",
     "status": "completed"
    },
    "tags": []
   },
   "outputs": [
    {
     "name": "stderr",
     "output_type": "stream",
     "text": [
      "<ipython-input-28-9b789beb13f0>:1: FutureWarning: The default of observed=False is deprecated and will be changed to True in a future version of pandas. Pass observed=False to retain current behavior or observed=True to adopt the future default and silence this warning.\n",
      "  df_train['consec_days']=df_train.groupby(by=['country','store'])[['previous_visit']].cumsum()\n"
     ]
    }
   ],
   "source": [
    "df_train['consec_days']=df_train.groupby(by=['country','store'])[['previous_visit']].cumsum()"
   ]
  },
  {
   "cell_type": "code",
   "execution_count": 29,
   "id": "02cb4be6",
   "metadata": {
    "execution": {
     "iopub.execute_input": "2025-01-14T07:15:09.772588Z",
     "iopub.status.busy": "2025-01-14T07:15:09.772094Z",
     "iopub.status.idle": "2025-01-14T07:15:09.801565Z",
     "shell.execute_reply": "2025-01-14T07:15:09.800394Z"
    },
    "papermill": {
     "duration": 0.054317,
     "end_time": "2025-01-14T07:15:09.803699",
     "exception": false,
     "start_time": "2025-01-14T07:15:09.749382",
     "status": "completed"
    },
    "tags": []
   },
   "outputs": [
    {
     "name": "stderr",
     "output_type": "stream",
     "text": [
      "<ipython-input-29-b64440241ea2>:1: FutureWarning: The default of observed=False is deprecated and will be changed to True in a future version of pandas. Pass observed=False to retain current behavior or observed=True to adopt the future default and silence this warning.\n",
      "  df_test['previous_visit']=df_test.reset_index().groupby(by=['country','store'])[['date']].diff()\n",
      "<ipython-input-29-b64440241ea2>:2: FutureWarning: The default of observed=False is deprecated and will be changed to True in a future version of pandas. Pass observed=False to retain current behavior or observed=True to adopt the future default and silence this warning.\n",
      "  df_test['consec_days']=df_test.groupby(by=['country','store'])[['previous_visit']].cumsum()\n"
     ]
    }
   ],
   "source": [
    "df_test['previous_visit']=df_test.reset_index().groupby(by=['country','store'])[['date']].diff()\n",
    "df_test['consec_days']=df_test.groupby(by=['country','store'])[['previous_visit']].cumsum()"
   ]
  },
  {
   "cell_type": "code",
   "execution_count": 30,
   "id": "3fb081ae",
   "metadata": {
    "execution": {
     "iopub.execute_input": "2025-01-14T07:15:09.855463Z",
     "iopub.status.busy": "2025-01-14T07:15:09.854994Z",
     "iopub.status.idle": "2025-01-14T07:15:09.924445Z",
     "shell.execute_reply": "2025-01-14T07:15:09.922830Z"
    },
    "papermill": {
     "duration": 0.094911,
     "end_time": "2025-01-14T07:15:09.927004",
     "exception": false,
     "start_time": "2025-01-14T07:15:09.832093",
     "status": "completed"
    },
    "tags": []
   },
   "outputs": [],
   "source": [
    "df_train.set_index('date',inplace=True)\n",
    "Startmin=df_train.index.min()\n",
    "df_train['days_since_start'] = (df_train.index - Startmin).days\n",
    "\n",
    "# Add cycle hints based on time \n",
    "df_train['sin_year'] = np.sin(2 * np.pi * df_train['days_since_start'] / 365)\n",
    "df_train['cos_year'] = np.cos(2 * np.pi * df_train['days_since_start'] / 365)\n",
    "df_train['sin_month'] = np.sin(2 * np.pi * df_train['days_since_start'] / 30)\n",
    "df_train['cos_month'] = np.cos(2 * np.pi * df_train['days_since_start'] / 30)\n",
    "\n",
    "df_test.set_index('date',inplace=True)\n",
    "df_test['days_since_start'] = (df_test.index - Startmin).days\n",
    "\n",
    "# Add cycle hints based on time \n",
    "df_test['sin_year'] = np.sin(2 * np.pi * df_test['days_since_start'] / 365)\n",
    "df_test['cos_year'] = np.cos(2 * np.pi * df_test['days_since_start'] / 365)\n",
    "df_test['sin_month'] = np.sin(2 * np.pi * df_test['days_since_start'] / 30)\n",
    "df_test['cos_month'] = np.cos(2 * np.pi * df_test['days_since_start'] / 30)\n",
    "\n",
    "df_train.reset_index(inplace=True)\n",
    "df_test.reset_index(inplace=True)"
   ]
  },
  {
   "cell_type": "code",
   "execution_count": 31,
   "id": "f17022a8",
   "metadata": {
    "execution": {
     "iopub.execute_input": "2025-01-14T07:15:09.985914Z",
     "iopub.status.busy": "2025-01-14T07:15:09.985478Z",
     "iopub.status.idle": "2025-01-14T07:15:10.027923Z",
     "shell.execute_reply": "2025-01-14T07:15:10.026275Z"
    },
    "papermill": {
     "duration": 0.068647,
     "end_time": "2025-01-14T07:15:10.030391",
     "exception": false,
     "start_time": "2025-01-14T07:15:09.961744",
     "status": "completed"
    },
    "tags": []
   },
   "outputs": [
    {
     "name": "stdout",
     "output_type": "stream",
     "text": [
      "<class 'pandas.core.frame.DataFrame'>\n",
      "RangeIndex: 230130 entries, 0 to 230129\n",
      "Data columns (total 21 columns):\n",
      " #   Column            Non-Null Count   Dtype          \n",
      "---  ------            --------------   -----          \n",
      " 0   date              230130 non-null  datetime64[ns] \n",
      " 1   id                230130 non-null  int64          \n",
      " 2   country           230130 non-null  category       \n",
      " 3   store             230130 non-null  category       \n",
      " 4   product           230130 non-null  category       \n",
      " 5   num_sold          221259 non-null  float64        \n",
      " 6   Day               230130 non-null  category       \n",
      " 7   Month             230130 non-null  category       \n",
      " 8   Year              230130 non-null  category       \n",
      " 9   Day_of_week       230130 non-null  category       \n",
      " 10  Week_No           230130 non-null  UInt32         \n",
      " 11  is_weekend        230130 non-null  int64          \n",
      " 12  Quarter_Discrete  230130 non-null  int64          \n",
      " 13  Quarter_Spline    230130 non-null  float64        \n",
      " 14  previous_visit    230112 non-null  timedelta64[ns]\n",
      " 15  consec_days       230112 non-null  timedelta64[ns]\n",
      " 16  days_since_start  230130 non-null  int64          \n",
      " 17  sin_year          230130 non-null  float64        \n",
      " 18  cos_year          230130 non-null  float64        \n",
      " 19  sin_month         230130 non-null  float64        \n",
      " 20  cos_month         230130 non-null  float64        \n",
      "dtypes: UInt32(1), category(7), datetime64[ns](1), float64(6), int64(4), timedelta64[ns](2)\n",
      "memory usage: 25.5 MB\n"
     ]
    }
   ],
   "source": [
    "df_train.info()"
   ]
  },
  {
   "cell_type": "code",
   "execution_count": 32,
   "id": "dde425d8",
   "metadata": {
    "execution": {
     "iopub.execute_input": "2025-01-14T07:15:10.076115Z",
     "iopub.status.busy": "2025-01-14T07:15:10.075599Z",
     "iopub.status.idle": "2025-01-14T07:15:10.098089Z",
     "shell.execute_reply": "2025-01-14T07:15:10.096637Z"
    },
    "papermill": {
     "duration": 0.04786,
     "end_time": "2025-01-14T07:15:10.100279",
     "exception": false,
     "start_time": "2025-01-14T07:15:10.052419",
     "status": "completed"
    },
    "tags": []
   },
   "outputs": [
    {
     "data": {
      "text/plain": [
       "<bound method Series.max of 150         1 days\n",
       "240         2 days\n",
       "330         3 days\n",
       "420         4 days\n",
       "510         5 days\n",
       "            ...   \n",
       "229740   2552 days\n",
       "229830   2553 days\n",
       "229920   2554 days\n",
       "230010   2555 days\n",
       "230100   2556 days\n",
       "Name: consec_days, Length: 2556, dtype: timedelta64[ns]>"
      ]
     },
     "execution_count": 32,
     "metadata": {},
     "output_type": "execute_result"
    }
   ],
   "source": [
    "df_train[(df_train['country']=='Norway') & (df_train['store']=='Discount Stickers') & (df_train['previous_visit'].astype('int')>0)].consec_days.max"
   ]
  },
  {
   "cell_type": "code",
   "execution_count": 33,
   "id": "8b4ab916",
   "metadata": {
    "execution": {
     "iopub.execute_input": "2025-01-14T07:15:10.146611Z",
     "iopub.status.busy": "2025-01-14T07:15:10.146128Z",
     "iopub.status.idle": "2025-01-14T07:15:10.491062Z",
     "shell.execute_reply": "2025-01-14T07:15:10.489763Z"
    },
    "papermill": {
     "duration": 0.370913,
     "end_time": "2025-01-14T07:15:10.493596",
     "exception": false,
     "start_time": "2025-01-14T07:15:10.122683",
     "status": "completed"
    },
    "tags": []
   },
   "outputs": [],
   "source": [
    "#Get country\n",
    "\n",
    "#Get holidays for each country\n",
    "#allcountries.append(\"weirdcountry\")\n",
    "country_holidays={}\n",
    "\n",
    "#df_train['date']=pd.to_datetime(df_train['date'])\n",
    "start_year = df_train['date'].dt.year.min()\n",
    "end_year = df_train['date'].dt.year.max()\n",
    "\n",
    "country_holidays = generate_country_holidays(unique_countries, start_year, end_year)\n",
    "holiday_df = pd.DataFrame([\n",
    "    {'date': date, 'country_code': country, 'country': cname}\n",
    "    for country in unique_countries\n",
    "    for date in country_holidays[country]\n",
    "    for cname in [pycountry.countries.get(alpha_2=cc).name for cc in unique_countries]]\n",
    ")\n",
    "holiday_df['is_holiday'] = 1\n",
    "holiday_df['date']=pd.to_datetime(holiday_df['date'])\n",
    "holiday_df.drop('country_code',axis=1,inplace=True)\n",
    "\n",
    "df_train = df_train.merge(holiday_df, on=['date', 'country'], how='left').fillna({'is_holiday': 0})"
   ]
  },
  {
   "cell_type": "code",
   "execution_count": 34,
   "id": "07386cd2",
   "metadata": {
    "execution": {
     "iopub.execute_input": "2025-01-14T07:15:10.538874Z",
     "iopub.status.busy": "2025-01-14T07:15:10.538474Z",
     "iopub.status.idle": "2025-01-14T07:15:10.633505Z",
     "shell.execute_reply": "2025-01-14T07:15:10.632015Z"
    },
    "papermill": {
     "duration": 0.120373,
     "end_time": "2025-01-14T07:15:10.635653",
     "exception": false,
     "start_time": "2025-01-14T07:15:10.515280",
     "status": "completed"
    },
    "tags": []
   },
   "outputs": [],
   "source": [
    "start_year = df_test['date'].dt.year.min()\n",
    "end_year = df_test['date'].dt.year.max()\n",
    "#unique_countries = [cc for cc in countrycodes if cc is not None]\n",
    "country_holidays = generate_country_holidays(unique_countries, start_year, end_year)\n",
    "\n",
    "holiday_df = pd.DataFrame([\n",
    "    {'date': date, 'country_code': country, 'country': cname}\n",
    "    for country in unique_countries\n",
    "    for date in country_holidays[country]\n",
    "    for cname in [pycountry.countries.get(alpha_2=cc).name for cc in unique_countries]]\n",
    ")\n",
    "holiday_df['is_holiday']=1\n",
    "holiday_df['date']=pd.to_datetime(holiday_df['date'])\n",
    "holiday_df.drop('country_code',axis=1,inplace=True)\n",
    "\n",
    "df_test = df_test.merge(holiday_df, on=['date', 'country'], how='left').fillna({'is_holiday': 0})\n"
   ]
  },
  {
   "cell_type": "code",
   "execution_count": 35,
   "id": "d7b1a1e8",
   "metadata": {
    "execution": {
     "iopub.execute_input": "2025-01-14T07:15:10.679506Z",
     "iopub.status.busy": "2025-01-14T07:15:10.679044Z",
     "iopub.status.idle": "2025-01-14T07:15:10.689735Z",
     "shell.execute_reply": "2025-01-14T07:15:10.688540Z"
    },
    "papermill": {
     "duration": 0.035279,
     "end_time": "2025-01-14T07:15:10.691841",
     "exception": false,
     "start_time": "2025-01-14T07:15:10.656562",
     "status": "completed"
    },
    "tags": []
   },
   "outputs": [
    {
     "data": {
      "text/plain": [
       "is_holiday\n",
       "0    88290\n",
       "1    18270\n",
       "Name: count, dtype: int64"
      ]
     },
     "execution_count": 35,
     "metadata": {},
     "output_type": "execute_result"
    }
   ],
   "source": [
    "df_test['is_holiday']=df_test['is_holiday'].astype(int)\n",
    "df_test['is_holiday'].value_counts()"
   ]
  },
  {
   "cell_type": "code",
   "execution_count": 36,
   "id": "afe0455b",
   "metadata": {
    "execution": {
     "iopub.execute_input": "2025-01-14T07:15:10.735745Z",
     "iopub.status.busy": "2025-01-14T07:15:10.735316Z",
     "iopub.status.idle": "2025-01-14T07:15:10.741332Z",
     "shell.execute_reply": "2025-01-14T07:15:10.739897Z"
    },
    "papermill": {
     "duration": 0.030695,
     "end_time": "2025-01-14T07:15:10.743561",
     "exception": false,
     "start_time": "2025-01-14T07:15:10.712866",
     "status": "completed"
    },
    "tags": []
   },
   "outputs": [],
   "source": [
    "df_train.set_index('date',inplace=True)\n",
    "#df_test.set_index('date',inplace=True)"
   ]
  },
  {
   "cell_type": "code",
   "execution_count": 37,
   "id": "485ed191",
   "metadata": {
    "execution": {
     "iopub.execute_input": "2025-01-14T07:15:10.789385Z",
     "iopub.status.busy": "2025-01-14T07:15:10.788910Z",
     "iopub.status.idle": "2025-01-14T07:15:10.793724Z",
     "shell.execute_reply": "2025-01-14T07:15:10.792453Z"
    },
    "papermill": {
     "duration": 0.030081,
     "end_time": "2025-01-14T07:15:10.795724",
     "exception": false,
     "start_time": "2025-01-14T07:15:10.765643",
     "status": "completed"
    },
    "tags": []
   },
   "outputs": [],
   "source": [
    "#Graph for intrpolate is changing too much\n",
    "#Not interpolate but just drop Na is better\n",
    "#Interpolate missing num_sold\n",
    "\n",
    "#df_train['date']=pd.to_datetime(df_train['date'])\n",
    "#df = df_train.set_index('date')\n",
    "\n",
    "# df_train = df_train.sort_values(by=['country', 'store', 'product', 'date'])\n",
    "\n",
    "# # Impute NaN with interpolation (grouped by Country, Store, and Product)\n",
    "# df_train['num_sold'] = df_train.groupby(['country', 'store', 'product'])['num_sold'].transform(\n",
    "#     lambda group: group.interpolate(method='linear',limit=None,limit_direction='both').ffill().bfill()\n",
    "# )\n",
    "#df['num_sold'].isna().any()"
   ]
  },
  {
   "cell_type": "code",
   "execution_count": 38,
   "id": "d7ef887b",
   "metadata": {
    "execution": {
     "iopub.execute_input": "2025-01-14T07:15:10.841123Z",
     "iopub.status.busy": "2025-01-14T07:15:10.840709Z",
     "iopub.status.idle": "2025-01-14T07:15:10.845237Z",
     "shell.execute_reply": "2025-01-14T07:15:10.843880Z"
    },
    "papermill": {
     "duration": 0.029416,
     "end_time": "2025-01-14T07:15:10.847089",
     "exception": false,
     "start_time": "2025-01-14T07:15:10.817673",
     "status": "completed"
    },
    "tags": []
   },
   "outputs": [],
   "source": [
    "#condition = (df.num_sold.notna()) & (df['country']=='Canada') & (df['store']=='Discount Stickers') & (df['product']=='Holographic Goose')\n",
    "#df[condition]\n"
   ]
  },
  {
   "cell_type": "code",
   "execution_count": 39,
   "id": "45606bf6",
   "metadata": {
    "execution": {
     "iopub.execute_input": "2025-01-14T07:15:10.893173Z",
     "iopub.status.busy": "2025-01-14T07:15:10.892765Z",
     "iopub.status.idle": "2025-01-14T07:15:10.897232Z",
     "shell.execute_reply": "2025-01-14T07:15:10.896040Z"
    },
    "papermill": {
     "duration": 0.030043,
     "end_time": "2025-01-14T07:15:10.899313",
     "exception": false,
     "start_time": "2025-01-14T07:15:10.869270",
     "status": "completed"
    },
    "tags": []
   },
   "outputs": [],
   "source": [
    "##Get num_sold NaN product store and country\n",
    "#t=df[df.num_sold.isna()].groupby(['country','store','product'])['product'].value_counts().to_dict()"
   ]
  },
  {
   "cell_type": "code",
   "execution_count": 40,
   "id": "0895edbc",
   "metadata": {
    "execution": {
     "iopub.execute_input": "2025-01-14T07:15:10.945031Z",
     "iopub.status.busy": "2025-01-14T07:15:10.944511Z",
     "iopub.status.idle": "2025-01-14T07:15:10.949586Z",
     "shell.execute_reply": "2025-01-14T07:15:10.948296Z"
    },
    "papermill": {
     "duration": 0.030152,
     "end_time": "2025-01-14T07:15:10.951488",
     "exception": false,
     "start_time": "2025-01-14T07:15:10.921336",
     "status": "completed"
    },
    "tags": []
   },
   "outputs": [],
   "source": [
    "#Country store and product that have NaN\n",
    "# for  k,v in t.items():\n",
    "#     if v!=0:\n",
    "#         print(k,v)"
   ]
  },
  {
   "cell_type": "code",
   "execution_count": 41,
   "id": "1d699ea3",
   "metadata": {
    "execution": {
     "iopub.execute_input": "2025-01-14T07:15:10.996590Z",
     "iopub.status.busy": "2025-01-14T07:15:10.996120Z",
     "iopub.status.idle": "2025-01-14T07:15:11.039912Z",
     "shell.execute_reply": "2025-01-14T07:15:11.038560Z"
    },
    "papermill": {
     "duration": 0.06893,
     "end_time": "2025-01-14T07:15:11.042332",
     "exception": false,
     "start_time": "2025-01-14T07:15:10.973402",
     "status": "completed"
    },
    "tags": []
   },
   "outputs": [
    {
     "name": "stdout",
     "output_type": "stream",
     "text": [
      "Mean\n",
      "country\n",
      "Canada       242.974170\n",
      "Finland      179.209850\n",
      "Italy        129.627508\n",
      "Kenya          5.800233\n",
      "Norway       341.143664\n",
      "Singapore    206.325646\n",
      "Name: num_sold, dtype: float64\n",
      "Median\n",
      "country\n",
      "Canada       235.0\n",
      "Finland      190.0\n",
      "Italy        137.0\n",
      "Kenya          6.0\n",
      "Norway       353.0\n",
      "Singapore    219.0\n",
      "Name: num_sold, dtype: float64\n",
      "Mode\n",
      "country\n",
      "Canada       218.0\n",
      "Finland       91.0\n",
      "Italy         64.0\n",
      "Kenya          5.0\n",
      "Norway       171.0\n",
      "Singapore    107.0\n",
      "Name: num_sold, dtype: float64\n",
      "Min\n",
      "country\n",
      "Canada       200.0\n",
      "Finland       65.0\n",
      "Italy         44.0\n",
      "Kenya          5.0\n",
      "Norway       105.0\n",
      "Singapore     69.0\n",
      "Name: num_sold, dtype: float64\n",
      "Max\n",
      "country\n",
      "Canada       449.0\n",
      "Finland      491.0\n",
      "Italy        318.0\n",
      "Kenya         11.0\n",
      "Norway       908.0\n",
      "Singapore    469.0\n",
      "Name: num_sold, dtype: float64\n"
     ]
    }
   ],
   "source": [
    "#Find Holographic Goose num_sold in each country\n",
    "nan_product = df_train[(df_train['product']=='Holographic Goose') & (df_train['num_sold'].notna())].groupby(['country'])['num_sold']\n",
    "print(\"Mean\")\n",
    "print(nan_product.mean())\n",
    "print(\"Median\")\n",
    "print(nan_product.median())\n",
    "print(\"Mode\")\n",
    "print(nan_product.agg(pd.Series.mode))\n",
    "print(\"Min\")\n",
    "print(nan_product.min())\n",
    "print(\"Max\")\n",
    "print(nan_product.max())"
   ]
  },
  {
   "cell_type": "markdown",
   "id": "125f987c",
   "metadata": {
    "papermill": {
     "duration": 0.021543,
     "end_time": "2025-01-14T07:15:11.086750",
     "exception": false,
     "start_time": "2025-01-14T07:15:11.065207",
     "status": "completed"
    },
    "tags": []
   },
   "source": [
    "Impute Canana NaN with 218.0 \n",
    "Impute Kenya NaN with 5.0"
   ]
  },
  {
   "cell_type": "code",
   "execution_count": 42,
   "id": "53343c7c",
   "metadata": {
    "execution": {
     "iopub.execute_input": "2025-01-14T07:15:11.132360Z",
     "iopub.status.busy": "2025-01-14T07:15:11.131898Z",
     "iopub.status.idle": "2025-01-14T07:15:11.189145Z",
     "shell.execute_reply": "2025-01-14T07:15:11.187728Z"
    },
    "papermill": {
     "duration": 0.082889,
     "end_time": "2025-01-14T07:15:11.191648",
     "exception": false,
     "start_time": "2025-01-14T07:15:11.108759",
     "status": "completed"
    },
    "tags": []
   },
   "outputs": [],
   "source": [
    "df_train['previous_visit'].fillna(pd.to_timedelta(0),inplace=True)\n",
    "df_train['consec_days'].fillna(pd.to_timedelta(0),inplace=True)\n",
    "df_test['previous_visit'].fillna(pd.to_timedelta(0),inplace=True)\n",
    "df_test['consec_days'].fillna(pd.to_timedelta(0),inplace=True)\n",
    "\n",
    "df_train.dropna(inplace=True)\n",
    "#df_test.dropna(inplace=True)"
   ]
  },
  {
   "cell_type": "code",
   "execution_count": 43,
   "id": "ee4c3fa7",
   "metadata": {
    "execution": {
     "iopub.execute_input": "2025-01-14T07:15:11.238520Z",
     "iopub.status.busy": "2025-01-14T07:15:11.238035Z",
     "iopub.status.idle": "2025-01-14T07:15:11.242685Z",
     "shell.execute_reply": "2025-01-14T07:15:11.241364Z"
    },
    "papermill": {
     "duration": 0.030128,
     "end_time": "2025-01-14T07:15:11.244739",
     "exception": false,
     "start_time": "2025-01-14T07:15:11.214611",
     "status": "completed"
    },
    "tags": []
   },
   "outputs": [],
   "source": [
    "#Impute Canada with 218\n",
    "#df.loc[df['country']=='Canada',['num_sold']]=df.loc[df['country']=='Canada',['num_sold']].fillna(218.0)"
   ]
  },
  {
   "cell_type": "code",
   "execution_count": 44,
   "id": "a7d38a9a",
   "metadata": {
    "execution": {
     "iopub.execute_input": "2025-01-14T07:15:11.291257Z",
     "iopub.status.busy": "2025-01-14T07:15:11.290771Z",
     "iopub.status.idle": "2025-01-14T07:15:11.295225Z",
     "shell.execute_reply": "2025-01-14T07:15:11.294032Z"
    },
    "papermill": {
     "duration": 0.030012,
     "end_time": "2025-01-14T07:15:11.296957",
     "exception": false,
     "start_time": "2025-01-14T07:15:11.266945",
     "status": "completed"
    },
    "tags": []
   },
   "outputs": [],
   "source": [
    "#Impute Kenya with 5\n",
    "#df.loc[df['country']=='Kenya',['num_sold']]=df.loc[df['country']=='Kenya',['num_sold']].fillna(5.0)"
   ]
  },
  {
   "cell_type": "code",
   "execution_count": 45,
   "id": "9ab821b4",
   "metadata": {
    "execution": {
     "iopub.execute_input": "2025-01-14T07:15:11.340607Z",
     "iopub.status.busy": "2025-01-14T07:15:11.340084Z",
     "iopub.status.idle": "2025-01-14T07:15:11.344710Z",
     "shell.execute_reply": "2025-01-14T07:15:11.343328Z"
    },
    "papermill": {
     "duration": 0.028813,
     "end_time": "2025-01-14T07:15:11.346645",
     "exception": false,
     "start_time": "2025-01-14T07:15:11.317832",
     "status": "completed"
    },
    "tags": []
   },
   "outputs": [],
   "source": [
    "# nsmode = df_train['num_sold'].mode()\n",
    "# df_train['num_sold']=df_train['num_sold'].fillna(nsmode[0])"
   ]
  },
  {
   "cell_type": "code",
   "execution_count": 46,
   "id": "ae8ff7f5",
   "metadata": {
    "execution": {
     "iopub.execute_input": "2025-01-14T07:15:11.391078Z",
     "iopub.status.busy": "2025-01-14T07:15:11.390655Z",
     "iopub.status.idle": "2025-01-14T07:15:11.439745Z",
     "shell.execute_reply": "2025-01-14T07:15:11.438577Z"
    },
    "papermill": {
     "duration": 0.073303,
     "end_time": "2025-01-14T07:15:11.441693",
     "exception": false,
     "start_time": "2025-01-14T07:15:11.368390",
     "status": "completed"
    },
    "tags": []
   },
   "outputs": [],
   "source": [
    "#Get date back to feature after interpolation\n",
    "df_train=df_train.reset_index()"
   ]
  },
  {
   "cell_type": "code",
   "execution_count": 47,
   "id": "b8702ecf",
   "metadata": {
    "execution": {
     "iopub.execute_input": "2025-01-14T07:15:11.486513Z",
     "iopub.status.busy": "2025-01-14T07:15:11.486020Z",
     "iopub.status.idle": "2025-01-14T07:15:11.519940Z",
     "shell.execute_reply": "2025-01-14T07:15:11.518608Z"
    },
    "papermill": {
     "duration": 0.059459,
     "end_time": "2025-01-14T07:15:11.522126",
     "exception": false,
     "start_time": "2025-01-14T07:15:11.462667",
     "status": "completed"
    },
    "tags": []
   },
   "outputs": [
    {
     "name": "stdout",
     "output_type": "stream",
     "text": [
      "<class 'pandas.core.frame.DataFrame'>\n",
      "RangeIndex: 240265 entries, 0 to 240264\n",
      "Data columns (total 22 columns):\n",
      " #   Column            Non-Null Count   Dtype          \n",
      "---  ------            --------------   -----          \n",
      " 0   date              240265 non-null  datetime64[ns] \n",
      " 1   id                240265 non-null  int64          \n",
      " 2   country           240265 non-null  object         \n",
      " 3   store             240265 non-null  category       \n",
      " 4   product           240265 non-null  category       \n",
      " 5   num_sold          240265 non-null  float64        \n",
      " 6   Day               240265 non-null  category       \n",
      " 7   Month             240265 non-null  category       \n",
      " 8   Year              240265 non-null  category       \n",
      " 9   Day_of_week       240265 non-null  category       \n",
      " 10  Week_No           240265 non-null  UInt32         \n",
      " 11  is_weekend        240265 non-null  int64          \n",
      " 12  Quarter_Discrete  240265 non-null  int64          \n",
      " 13  Quarter_Spline    240265 non-null  float64        \n",
      " 14  previous_visit    240265 non-null  timedelta64[ns]\n",
      " 15  consec_days       240265 non-null  timedelta64[ns]\n",
      " 16  days_since_start  240265 non-null  int64          \n",
      " 17  sin_year          240265 non-null  float64        \n",
      " 18  cos_year          240265 non-null  float64        \n",
      " 19  sin_month         240265 non-null  float64        \n",
      " 20  cos_month         240265 non-null  float64        \n",
      " 21  is_holiday        240265 non-null  float64        \n",
      "dtypes: UInt32(1), category(6), datetime64[ns](1), float64(7), int64(4), object(1), timedelta64[ns](2)\n",
      "memory usage: 30.0+ MB\n"
     ]
    }
   ],
   "source": [
    "df_train.info()"
   ]
  },
  {
   "cell_type": "code",
   "execution_count": 48,
   "id": "e3d376ea",
   "metadata": {
    "execution": {
     "iopub.execute_input": "2025-01-14T07:15:11.568417Z",
     "iopub.status.busy": "2025-01-14T07:15:11.567976Z",
     "iopub.status.idle": "2025-01-14T07:15:11.609445Z",
     "shell.execute_reply": "2025-01-14T07:15:11.608246Z"
    },
    "papermill": {
     "duration": 0.066944,
     "end_time": "2025-01-14T07:15:11.611692",
     "exception": false,
     "start_time": "2025-01-14T07:15:11.544748",
     "status": "completed"
    },
    "tags": []
   },
   "outputs": [],
   "source": [
    "df_train['is_holiday']=df_train['is_holiday'].astype('int')\n",
    "df_train['previous_visit']=pd.to_numeric(df_train['previous_visit'].dt.days,errors='coerce')\n",
    "df_train['consec_days']=pd.to_numeric(df_train['consec_days'].dt.days,errors='coerce')\n",
    "df_train['country']=df_train['country'].astype('category')\n",
    "\n",
    "df_test['is_holiday']=df_test['is_holiday'].astype('int')\n",
    "df_test['previous_visit']=pd.to_numeric(df_test['previous_visit'].dt.days,errors='coerce')\n",
    "df_test['consec_days']=pd.to_numeric(df_test['consec_days'].dt.days,errors='coerce')\n",
    "df_test['country']=df_test['country'].astype('category')"
   ]
  },
  {
   "cell_type": "code",
   "execution_count": 49,
   "id": "6844b884",
   "metadata": {
    "execution": {
     "iopub.execute_input": "2025-01-14T07:15:11.658220Z",
     "iopub.status.busy": "2025-01-14T07:15:11.657786Z",
     "iopub.status.idle": "2025-01-14T07:15:11.667763Z",
     "shell.execute_reply": "2025-01-14T07:15:11.666505Z"
    },
    "papermill": {
     "duration": 0.035894,
     "end_time": "2025-01-14T07:15:11.670114",
     "exception": false,
     "start_time": "2025-01-14T07:15:11.634220",
     "status": "completed"
    },
    "tags": []
   },
   "outputs": [],
   "source": [
    "#log transform target\n",
    "df_train['num_sold']=np.log1p(df_train['num_sold']) \n"
   ]
  },
  {
   "cell_type": "code",
   "execution_count": 50,
   "id": "d8865198",
   "metadata": {
    "execution": {
     "iopub.execute_input": "2025-01-14T07:15:11.716456Z",
     "iopub.status.busy": "2025-01-14T07:15:11.716059Z",
     "iopub.status.idle": "2025-01-14T07:15:12.211419Z",
     "shell.execute_reply": "2025-01-14T07:15:12.209745Z"
    },
    "papermill": {
     "duration": 0.521451,
     "end_time": "2025-01-14T07:15:12.213907",
     "exception": false,
     "start_time": "2025-01-14T07:15:11.692456",
     "status": "completed"
    },
    "tags": []
   },
   "outputs": [
    {
     "name": "stdout",
     "output_type": "stream",
     "text": [
      "Canada train date 2010-01-01 00:00:00 to 2015-03-09 00:00:00\n",
      "Canada train loc  0 to 177819\n",
      "Canada valid date 2015-03-09 00:00:00 to 2016-12-31 00:00:00\n",
      "Canada valid loc 177820 to 240190\n",
      "Finland train date 2010-01-01 00:00:00 to 2015-04-03 00:00:00\n",
      "Finland train loc  84 to 180069\n",
      "Finland valid date 2015-04-03 00:00:00 to 2016-12-31 00:00:00\n",
      "Finland valid loc 180070 to 240205\n",
      "Italy train date 2010-01-01 00:00:00 to 2015-04-03 00:00:00\n",
      "Italy train loc  174 to 180144\n",
      "Italy valid date 2015-04-03 00:00:00 to 2016-12-31 00:00:00\n",
      "Italy valid loc 180145 to 240220\n",
      "Kenya train date 2010-01-01 00:00:00 to 2015-04-26 00:00:00\n",
      "Kenya train loc  264 to 182812\n",
      "Kenya valid date 2015-04-26 00:00:00 to 2016-12-31 00:00:00\n",
      "Kenya valid loc 182813 to 240234\n",
      "Norway train date 2010-01-01 00:00:00 to 2015-04-03 00:00:00\n",
      "Norway train loc  348 to 180289\n",
      "Norway valid date 2015-04-03 00:00:00 to 2016-12-31 00:00:00\n",
      "Norway valid loc 180290 to 240249\n",
      "Singapore train date 2010-01-01 00:00:00 to 2015-04-03 00:00:00\n",
      "Singapore train loc  438 to 180364\n",
      "Singapore valid date 2015-04-03 00:00:00 to 2016-12-31 00:00:00\n",
      "Singapore valid loc 180365 to 240264\n"
     ]
    }
   ],
   "source": [
    "#Split data according to country into\n",
    "from catboost import Pool\n",
    "country_train_pool={}\n",
    "country_valid_pool={}\n",
    "\n",
    "for c in countrylist:\n",
    "    df=df_train[df_train['country']==c]\n",
    "    train_x, valid_x, train_y, valid_y = train_test_split(df.drop(['id','num_sold','country'],axis=1),df['num_sold'],shuffle=False,test_size=0.25)\n",
    "    cats=df.select_dtypes('category').columns.to_list()\n",
    "    cats.remove('country')\n",
    "    cats.append('is_holiday')\n",
    "    cats.append('Week_No')\n",
    "    cats.append('is_weekend')\n",
    "    cats.append('Quarter_Discrete')\n",
    "    #train_weights = np.linspace(0.1, 1.0, len(train_x))\n",
    "    #valid_weights = np.linspace(0.1, 1.0, len(valid_x)) # Linearly increasing weights\n",
    "    # decay_rate=0.75\n",
    "    # train_weights = decay_rate ** np.arange(len(train_x))[::-1]  # Exponentially increasing weights\n",
    "    # valid_weights = decay_rate ** np.arange(len(valid_x))[::-1]  # Exponentially increasing weights\n",
    "    country_train_pool[c]=Pool(train_x,label=train_y,cat_features=cats)#,weight=train_weights)\n",
    "    country_valid_pool[c]=Pool(valid_x,label=valid_y,cat_features=cats)#,weight=valid_weights)\n",
    "    print(f\"{c} train date {train_x['date'].min()} to {train_x['date'].max()}\")\n",
    "    print(f\"{c} train loc  {train_x.index.min()} to {train_x.index.max()}\")\n",
    "    print(f\"{c} valid date {valid_x['date'].min()} to {valid_x['date'].max()}\") \n",
    "    print(f\"{c} valid loc {valid_x.index.min()} to {valid_x.index.max()}\")"
   ]
  },
  {
   "cell_type": "code",
   "execution_count": 51,
   "id": "2de3be3e",
   "metadata": {
    "execution": {
     "iopub.execute_input": "2025-01-14T07:15:12.261943Z",
     "iopub.status.busy": "2025-01-14T07:15:12.261386Z",
     "iopub.status.idle": "2025-01-14T07:15:12.273852Z",
     "shell.execute_reply": "2025-01-14T07:15:12.272479Z"
    },
    "papermill": {
     "duration": 0.039635,
     "end_time": "2025-01-14T07:15:12.276390",
     "exception": false,
     "start_time": "2025-01-14T07:15:12.236755",
     "status": "completed"
    },
    "tags": []
   },
   "outputs": [],
   "source": [
    "from functools import partial\n",
    "from catboost import cv\n",
    "\n",
    "def objective(trial: optuna.Trial, country) -> float:\n",
    "    #data, target = load_breast_cancer(return_X_y=True)\n",
    "    #train_x, valid_x, train_y, valid_y = train_test_split(df_train.drop(['id','num_sold','date'],axis=1), df_train['num_sold'], test_size=0.25)\n",
    "    #cats=df_train.select_dtypes('category').columns\n",
    "    \n",
    "    param = {\n",
    "        \"iterations\":trial.suggest_int(\"iterations\",1000,7000),\n",
    "        \"learning_rate\":trial.suggest_float(\"learning_rate\",0.006,0.03,log=True),\n",
    "        \"objective\": trial.suggest_categorical(\"objective\", [\"MAPE\"]),\n",
    "        \"colsample_bylevel\": trial.suggest_float(\"colsample_bylevel\", 0.01, 0.7, log=True),\n",
    "        \"depth\": trial.suggest_int(\"depth\", 1, 10),\n",
    "        \"boosting_type\": trial.suggest_categorical(\"boosting_type\", [\"Ordered\", \"Plain\"]),\n",
    "        \"bootstrap_type\": trial.suggest_categorical(\n",
    "            \"bootstrap_type\", [\"Bayesian\", \"Bernoulli\", \"MVS\"]\n",
    "        ),\n",
    "        \"used_ram_limit\": \"3gb\",\n",
    "        \"eval_metric\": \"MAPE\",\n",
    "        \"cat_features\": cats,\n",
    "    }\n",
    "\n",
    "    if param[\"bootstrap_type\"] == \"Bayesian\":\n",
    "        param[\"bagging_temperature\"] = trial.suggest_float(\"bagging_temperature\", 0, 10)\n",
    "    elif param[\"bootstrap_type\"] == \"Bernoulli\":\n",
    "        param[\"subsample\"] = trial.suggest_float(\"subsample\", 0.1, 1, log=True)\n",
    "\n",
    "   \n",
    "    #use catboost cv with timeseries data\n",
    "    cv_data = cb.cv(\n",
    "        country_train_pool[c],\n",
    "        params=param,\n",
    "        shuffle=False,\n",
    "        type='TimeSeries',\n",
    "        fold_count=3,\n",
    "        early_stopping_rounds=300,\n",
    "        verbose=0,\n",
    "    )\n",
    "    mape = cv_data['test-MAPE-mean'].min()\n",
    "    best_iter = cv_data['test-MAPE-mean'].values.argmin()\n",
    "    # gbm = cb.CatBoostRegressor(**param)\n",
    "\n",
    "    # pruning_callback = CatBoostPruningCallback(trial, \"MAPE\")\n",
    "    # gbm.fit(\n",
    "    #    # train_x,\n",
    "    #    # train_y,\n",
    "    #    # eval_set=[(valid_x, valid_y)],\n",
    "    #     country_train_pool[c],\n",
    "    #     eval_set=country_valid_pool[c],\n",
    "    #     verbose=0,\n",
    "    #     early_stopping_rounds=300,\n",
    "    #     callbacks=[pruning_callback],\n",
    "    # )\n",
    "\n",
    "    # evoke pruning manually.\n",
    "    #pruning_callback.check_pruned()\n",
    "\n",
    "    \n",
    "    #preds = gbm.predict(valid_x)\n",
    "    #pred_labels = np.fix(preds)\n",
    "    #mape = mean_absolute_percentage_error(valid_y, pred_labels)\n",
    "    return mape\n"
   ]
  },
  {
   "cell_type": "code",
   "execution_count": null,
   "id": "efa3c364",
   "metadata": {
    "papermill": {
     "duration": 0.021109,
     "end_time": "2025-01-14T07:15:12.320436",
     "exception": false,
     "start_time": "2025-01-14T07:15:12.299327",
     "status": "completed"
    },
    "tags": []
   },
   "outputs": [],
   "source": []
  },
  {
   "cell_type": "code",
   "execution_count": 52,
   "id": "51b06686",
   "metadata": {
    "execution": {
     "iopub.execute_input": "2025-01-14T07:15:12.363785Z",
     "iopub.status.busy": "2025-01-14T07:15:12.363435Z",
     "iopub.status.idle": "2025-01-14T08:29:18.220515Z",
     "shell.execute_reply": "2025-01-14T08:29:18.219133Z"
    },
    "papermill": {
     "duration": 4445.909185,
     "end_time": "2025-01-14T08:29:18.250606",
     "exception": false,
     "start_time": "2025-01-14T07:15:12.341421",
     "status": "completed"
    },
    "tags": []
   },
   "outputs": [
    {
     "name": "stdout",
     "output_type": "stream",
     "text": [
      "Training on fold [0/3]\n",
      "\n",
      "bestTest = 0.02621437218\n",
      "bestIteration = 4942\n",
      "\n",
      "Training on fold [1/3]\n",
      "\n",
      "bestTest = 0.03096556554\n",
      "bestIteration = 2572\n",
      "\n",
      "Training on fold [2/3]\n",
      "\n",
      "bestTest = 0.01652212754\n",
      "bestIteration = 6602\n",
      "\n",
      "Training on fold [0/3]\n",
      "\n",
      "bestTest = 0.05154956046\n",
      "bestIteration = 1933\n",
      "\n",
      "Training on fold [1/3]\n",
      "\n",
      "bestTest = 0.05165215175\n",
      "bestIteration = 1933\n",
      "\n",
      "Training on fold [2/3]\n",
      "\n",
      "bestTest = 0.04911482185\n",
      "bestIteration = 1933\n",
      "\n",
      "Training on fold [0/3]\n",
      "\n",
      "bestTest = 0.02015108246\n",
      "bestIteration = 6330\n",
      "\n",
      "Training on fold [1/3]\n",
      "\n",
      "bestTest = 0.01974087672\n",
      "bestIteration = 6328\n",
      "\n",
      "Training on fold [2/3]\n",
      "\n",
      "bestTest = 0.01725148479\n",
      "bestIteration = 6330\n",
      "\n",
      "Training on fold [0/3]\n",
      "\n",
      "bestTest = 0.03608752103\n",
      "bestIteration = 1819\n",
      "\n",
      "Training on fold [1/3]\n",
      "\n",
      "bestTest = 0.03284488802\n",
      "bestIteration = 1819\n",
      "\n",
      "Training on fold [2/3]\n",
      "\n",
      "bestTest = 0.03323639763\n",
      "bestIteration = 1819\n",
      "\n",
      "Training on fold [0/3]\n",
      "\n",
      "bestTest = 0.05497719187\n",
      "bestIteration = 2048\n",
      "\n",
      "Training on fold [1/3]\n",
      "\n",
      "bestTest = 0.04688558585\n",
      "bestIteration = 1404\n",
      "\n",
      "Training on fold [2/3]\n",
      "\n",
      "bestTest = 0.05148057974\n",
      "bestIteration = 2147\n",
      "\n",
      "Training on fold [0/3]\n",
      "\n",
      "bestTest = 0.043287877\n",
      "bestIteration = 2160\n",
      "\n",
      "Training on fold [1/3]\n",
      "\n",
      "bestTest = 0.01787136927\n",
      "bestIteration = 991\n",
      "\n",
      "Training on fold [2/3]\n",
      "\n",
      "bestTest = 0.04268698646\n",
      "bestIteration = 1681\n",
      "\n",
      "Training on fold [0/3]\n",
      "\n",
      "bestTest = 0.02145623773\n",
      "bestIteration = 1936\n",
      "\n",
      "Training on fold [1/3]\n",
      "\n",
      "bestTest = 0.0146203053\n",
      "bestIteration = 1933\n",
      "\n",
      "Training on fold [2/3]\n",
      "\n",
      "bestTest = 0.01348862294\n",
      "bestIteration = 1933\n",
      "\n",
      "Training on fold [0/3]\n",
      "\n",
      "bestTest = 0.02529819122\n",
      "bestIteration = 5217\n",
      "\n",
      "Training on fold [1/3]\n",
      "\n",
      "bestTest = 0.02493978819\n",
      "bestIteration = 5222\n",
      "\n",
      "Training on fold [2/3]\n",
      "\n",
      "bestTest = 0.02434234256\n",
      "bestIteration = 5222\n",
      "\n",
      "Training on fold [0/3]\n",
      "\n",
      "bestTest = 0.02029135651\n",
      "bestIteration = 1763\n",
      "\n",
      "Training on fold [1/3]\n",
      "\n",
      "bestTest = 0.02344782086\n",
      "bestIteration = 1762\n",
      "\n",
      "Training on fold [2/3]\n",
      "\n",
      "bestTest = 0.01896399456\n",
      "bestIteration = 1763\n",
      "\n",
      "Training on fold [0/3]\n",
      "\n",
      "bestTest = 0.04271171317\n",
      "bestIteration = 2288\n",
      "\n",
      "Training on fold [1/3]\n",
      "\n",
      "bestTest = 0.03342908201\n",
      "bestIteration = 2028\n",
      "\n",
      "Training on fold [2/3]\n",
      "\n",
      "bestTest = 0.04370608206\n",
      "bestIteration = 2352\n",
      "\n",
      "Number of finished trials: 10\n",
      "Canada Best trial:\n",
      "  Value: 0.016521936357796554\n",
      "Canada  Params: \n",
      "    iterations: 1939\n",
      "    learning_rate: 0.010684411236500149\n",
      "    objective: MAPE\n",
      "    colsample_bylevel: 0.13657938904588907\n",
      "    depth: 3\n",
      "    boosting_type: Plain\n",
      "    bootstrap_type: Bayesian\n",
      "    bagging_temperature: 9.321606156832605\n",
      "Training on fold [0/3]\n",
      "\n",
      "bestTest = 0.01832006544\n",
      "bestIteration = 3095\n",
      "\n",
      "Training on fold [1/3]\n",
      "\n",
      "bestTest = 0.01678906246\n",
      "bestIteration = 3103\n",
      "\n",
      "Training on fold [2/3]\n",
      "\n",
      "bestTest = 0.01615571518\n",
      "bestIteration = 3107\n",
      "\n",
      "Training on fold [0/3]\n",
      "\n",
      "bestTest = 0.0325795152\n",
      "bestIteration = 1225\n",
      "\n",
      "Training on fold [1/3]\n",
      "\n",
      "bestTest = 0.03672336871\n",
      "bestIteration = 1511\n",
      "\n",
      "Training on fold [2/3]\n",
      "\n",
      "bestTest = 0.06658269167\n",
      "bestIteration = 450\n",
      "\n",
      "Training on fold [0/3]\n",
      "\n",
      "bestTest = 0.0199164054\n",
      "bestIteration = 2004\n",
      "\n",
      "Training on fold [1/3]\n",
      "\n",
      "bestTest = 0.01562630464\n",
      "bestIteration = 2006\n",
      "\n",
      "Training on fold [2/3]\n",
      "\n",
      "bestTest = 0.01477950608\n",
      "bestIteration = 2006\n",
      "\n",
      "Training on fold [0/3]\n",
      "\n",
      "bestTest = 0.03106516894\n",
      "bestIteration = 1255\n",
      "\n",
      "Training on fold [1/3]\n",
      "\n",
      "bestTest = 0.02756945009\n",
      "bestIteration = 1255\n",
      "\n",
      "Training on fold [2/3]\n",
      "\n",
      "bestTest = 0.03045849362\n",
      "bestIteration = 1255\n",
      "\n",
      "Training on fold [0/3]\n",
      "\n",
      "bestTest = 0.03347080304\n",
      "bestIteration = 3684\n",
      "\n",
      "Training on fold [1/3]\n",
      "\n",
      "bestTest = 0.04792547401\n",
      "bestIteration = 399\n",
      "\n",
      "Training on fold [2/3]\n",
      "\n",
      "bestTest = 0.01262395246\n",
      "bestIteration = 1721\n",
      "\n",
      "Training on fold [0/3]\n",
      "\n",
      "bestTest = 0.01698723454\n",
      "bestIteration = 2906\n",
      "\n",
      "Training on fold [1/3]\n",
      "\n",
      "bestTest = 0.01652830136\n",
      "bestIteration = 2417\n",
      "\n",
      "Training on fold [2/3]\n",
      "\n",
      "bestTest = 0.01740037909\n",
      "bestIteration = 1823\n",
      "\n",
      "Training on fold [0/3]\n",
      "\n",
      "bestTest = 0.03102521749\n",
      "bestIteration = 4237\n",
      "\n",
      "Training on fold [1/3]\n",
      "\n",
      "bestTest = 0.02956999849\n",
      "bestIteration = 4235\n",
      "\n",
      "Training on fold [2/3]\n",
      "\n",
      "bestTest = 0.0279484406\n",
      "bestIteration = 4237\n",
      "\n",
      "Training on fold [0/3]\n",
      "\n",
      "bestTest = 0.02131616709\n",
      "bestIteration = 4166\n",
      "\n",
      "Training on fold [1/3]\n",
      "\n",
      "bestTest = 0.01953210959\n",
      "bestIteration = 4175\n",
      "\n",
      "Training on fold [2/3]\n",
      "\n",
      "bestTest = 0.01933477435\n",
      "bestIteration = 4174\n",
      "\n",
      "Training on fold [0/3]\n",
      "\n",
      "bestTest = 0.01334189962\n",
      "bestIteration = 1535\n",
      "\n",
      "Training on fold [1/3]\n",
      "\n",
      "bestTest = 0.05089132171\n",
      "bestIteration = 634\n",
      "\n",
      "Training on fold [2/3]\n",
      "\n",
      "bestTest = 0.01681746694\n",
      "bestIteration = 1343\n",
      "\n",
      "Training on fold [0/3]\n",
      "\n",
      "bestTest = 0.01883020268\n",
      "bestIteration = 5156\n",
      "\n",
      "Training on fold [1/3]\n",
      "\n",
      "bestTest = 0.01734007252\n",
      "bestIteration = 5153\n",
      "\n",
      "Training on fold [2/3]\n",
      "\n",
      "bestTest = 0.01831922229\n",
      "bestIteration = 5156\n",
      "\n",
      "Training on fold [0/3]\n",
      "\n",
      "bestTest = 0.02400709752\n",
      "bestIteration = 2015\n",
      "\n",
      "Training on fold [1/3]\n",
      "\n",
      "bestTest = 0.01345952595\n",
      "bestIteration = 2076\n",
      "\n",
      "Training on fold [2/3]\n",
      "\n",
      "bestTest = 0.02404012029\n",
      "bestIteration = 1583\n",
      "\n",
      "Number of finished trials: 11\n",
      "Finland Best trial:\n",
      "  Value: 0.016775147268485315\n",
      "Finland  Params: \n",
      "    iterations: 2007\n",
      "    learning_rate: 0.011980651745749376\n",
      "    objective: MAPE\n",
      "    colsample_bylevel: 0.05361151137085509\n",
      "    depth: 3\n",
      "    boosting_type: Ordered\n",
      "    bootstrap_type: MVS\n",
      "Training on fold [0/3]\n",
      "\n",
      "bestTest = 0.01849836705\n",
      "bestIteration = 3185\n",
      "\n",
      "Training on fold [1/3]\n",
      "\n",
      "bestTest = 0.04830436564\n",
      "bestIteration = 703\n",
      "\n",
      "Training on fold [2/3]\n",
      "\n",
      "bestTest = 0.02321267604\n",
      "bestIteration = 1784\n",
      "\n",
      "Training on fold [0/3]\n",
      "\n",
      "bestTest = 0.01652775453\n",
      "bestIteration = 2111\n",
      "\n",
      "Training on fold [1/3]\n",
      "\n",
      "bestTest = 0.01497717067\n",
      "bestIteration = 2260\n",
      "\n",
      "Training on fold [2/3]\n",
      "\n",
      "bestTest = 0.01381647706\n",
      "bestIteration = 1498\n",
      "\n",
      "Training on fold [0/3]\n",
      "\n",
      "bestTest = 0.07380379431\n",
      "bestIteration = 1084\n",
      "\n",
      "Training on fold [1/3]\n",
      "\n",
      "bestTest = 0.06096333888\n",
      "bestIteration = 1084\n",
      "\n",
      "Training on fold [2/3]\n",
      "\n",
      "bestTest = 0.06904959587\n",
      "bestIteration = 1084\n",
      "\n",
      "Training on fold [0/3]\n",
      "\n",
      "bestTest = 0.06403713979\n",
      "bestIteration = 1153\n",
      "\n",
      "Training on fold [1/3]\n",
      "\n",
      "bestTest = 0.06309496524\n",
      "bestIteration = 1153\n",
      "\n",
      "Training on fold [2/3]\n",
      "\n",
      "bestTest = 0.05962289048\n",
      "bestIteration = 1149\n",
      "\n",
      "Training on fold [0/3]\n",
      "\n",
      "bestTest = 0.02147693354\n",
      "bestIteration = 6428\n",
      "\n",
      "Training on fold [1/3]\n",
      "\n",
      "bestTest = 0.01313712854\n",
      "bestIteration = 6431\n",
      "\n",
      "Training on fold [2/3]\n",
      "\n",
      "bestTest = 0.01390249712\n",
      "bestIteration = 6423\n",
      "\n",
      "Training on fold [0/3]\n",
      "\n",
      "bestTest = 0.01691166626\n",
      "bestIteration = 3780\n",
      "\n",
      "Training on fold [1/3]\n",
      "\n",
      "bestTest = 0.02000952932\n",
      "bestIteration = 1955\n",
      "\n",
      "Training on fold [2/3]\n",
      "\n",
      "bestTest = 0.01622480347\n",
      "bestIteration = 1880\n",
      "\n",
      "Training on fold [0/3]\n",
      "\n",
      "bestTest = 0.01296583909\n",
      "bestIteration = 1748\n",
      "\n",
      "Training on fold [1/3]\n",
      "\n",
      "bestTest = 0.01296096148\n",
      "bestIteration = 1749\n",
      "\n",
      "Training on fold [2/3]\n",
      "\n",
      "bestTest = 0.01475511475\n",
      "bestIteration = 953\n",
      "\n",
      "Training on fold [0/3]\n",
      "\n",
      "bestTest = 0.01495806406\n",
      "bestIteration = 5978\n",
      "\n",
      "Training on fold [1/3]\n",
      "\n",
      "bestTest = 0.01499288039\n",
      "bestIteration = 4932\n",
      "\n",
      "Training on fold [2/3]\n",
      "\n",
      "bestTest = 0.01477890096\n",
      "bestIteration = 4424\n",
      "\n",
      "Training on fold [0/3]\n",
      "\n",
      "bestTest = 0.02879234725\n",
      "bestIteration = 5651\n",
      "\n",
      "Training on fold [1/3]\n",
      "\n",
      "bestTest = 0.02686848318\n",
      "bestIteration = 5653\n",
      "\n",
      "Training on fold [2/3]\n",
      "\n",
      "bestTest = 0.02566512953\n",
      "bestIteration = 5657\n",
      "\n",
      "Training on fold [0/3]\n",
      "\n",
      "bestTest = 0.04235258713\n",
      "bestIteration = 3246\n",
      "\n",
      "Training on fold [1/3]\n",
      "\n",
      "bestTest = 0.03847796999\n",
      "bestIteration = 3246\n",
      "\n",
      "Training on fold [2/3]\n",
      "\n",
      "bestTest = 0.04233929648\n",
      "bestIteration = 3246\n",
      "\n",
      "Training on fold [0/3]\n",
      "\n",
      "bestTest = 0.01817873762\n",
      "bestIteration = 4577\n",
      "\n",
      "Training on fold [1/3]\n",
      "\n",
      "bestTest = 0.01732335041\n",
      "bestIteration = 4513\n",
      "\n",
      "Training on fold [2/3]\n",
      "\n",
      "bestTest = 0.02048415988\n",
      "bestIteration = 1936\n",
      "\n",
      "Training on fold [0/3]\n",
      "\n",
      "bestTest = 0.01742780376\n",
      "bestIteration = 4971\n",
      "\n",
      "Training on fold [1/3]\n",
      "\n",
      "bestTest = 0.01666853679\n",
      "bestIteration = 4970\n",
      "\n",
      "Training on fold [2/3]\n",
      "\n",
      "bestTest = 0.01777725489\n",
      "bestIteration = 3300\n",
      "\n",
      "Number of finished trials: 12\n",
      "Italy Best trial:\n",
      "  Value: 0.013868325991905767\n",
      "Italy  Params: \n",
      "    iterations: 6870\n",
      "    learning_rate: 0.022176707633286802\n",
      "    objective: MAPE\n",
      "    colsample_bylevel: 0.5924212145350894\n",
      "    depth: 2\n",
      "    boosting_type: Plain\n",
      "    bootstrap_type: Bernoulli\n",
      "    subsample: 0.5273140536967089\n",
      "Training on fold [0/3]\n",
      "\n",
      "bestTest = 0.0395113308\n",
      "bestIteration = 3237\n",
      "\n",
      "Training on fold [1/3]\n",
      "\n",
      "bestTest = 0.04836419047\n",
      "bestIteration = 3087\n",
      "\n",
      "Training on fold [2/3]\n",
      "\n",
      "bestTest = 0.02371986488\n",
      "bestIteration = 6502\n",
      "\n",
      "Training on fold [0/3]\n",
      "\n",
      "bestTest = 0.05677634777\n",
      "bestIteration = 1829\n",
      "\n",
      "Training on fold [1/3]\n",
      "\n",
      "bestTest = 0.0462208954\n",
      "bestIteration = 1142\n",
      "\n",
      "Training on fold [2/3]\n",
      "\n",
      "bestTest = 0.02453039511\n",
      "bestIteration = 3391\n",
      "\n",
      "Training on fold [0/3]\n",
      "\n",
      "bestTest = 0.1175475809\n",
      "bestIteration = 547\n",
      "\n",
      "Training on fold [1/3]\n",
      "\n",
      "bestTest = 0.1072386969\n",
      "bestIteration = 690\n",
      "\n",
      "Training on fold [2/3]\n",
      "\n",
      "bestTest = 0.03393199996\n",
      "bestIteration = 1735\n",
      "\n",
      "Training on fold [0/3]\n",
      "\n",
      "bestTest = 0.04524536188\n",
      "bestIteration = 6763\n",
      "\n",
      "Training on fold [1/3]\n",
      "\n",
      "bestTest = 0.04361643072\n",
      "bestIteration = 6763\n",
      "\n",
      "Training on fold [2/3]\n",
      "\n",
      "bestTest = 0.0376010137\n",
      "bestIteration = 6753\n",
      "\n",
      "Training on fold [0/3]\n",
      "\n",
      "bestTest = 0.03936523899\n",
      "bestIteration = 2012\n",
      "\n",
      "Training on fold [1/3]\n",
      "\n",
      "bestTest = 0.04303920595\n",
      "bestIteration = 1989\n",
      "\n",
      "Training on fold [2/3]\n",
      "\n",
      "bestTest = 0.02273486274\n",
      "bestIteration = 4416\n",
      "\n",
      "Training on fold [0/3]\n",
      "\n",
      "bestTest = 0.08330521448\n",
      "bestIteration = 1975\n",
      "\n",
      "Training on fold [1/3]\n",
      "\n",
      "bestTest = 0.1230197126\n",
      "bestIteration = 1352\n",
      "\n",
      "Training on fold [2/3]\n",
      "\n",
      "bestTest = 0.04271603515\n",
      "bestIteration = 3595\n",
      "\n",
      "Training on fold [0/3]\n",
      "\n",
      "bestTest = 0.04923483278\n",
      "bestIteration = 2179\n",
      "\n",
      "Training on fold [1/3]\n",
      "\n",
      "bestTest = 0.05560491383\n",
      "bestIteration = 2053\n",
      "\n",
      "Training on fold [2/3]\n",
      "\n",
      "bestTest = 0.03794421265\n",
      "bestIteration = 2181\n",
      "\n",
      "Training on fold [0/3]\n",
      "\n",
      "bestTest = 0.04439145796\n",
      "bestIteration = 3860\n",
      "\n",
      "Training on fold [1/3]\n",
      "\n",
      "bestTest = 0.03673938907\n",
      "bestIteration = 3840\n",
      "\n",
      "Training on fold [2/3]\n",
      "\n",
      "bestTest = 0.02521152799\n",
      "bestIteration = 6266\n",
      "\n",
      "Training on fold [0/3]\n",
      "\n",
      "bestTest = 0.04201744031\n",
      "bestIteration = 4454\n",
      "\n",
      "Training on fold [1/3]\n",
      "\n",
      "bestTest = 0.04218562227\n",
      "bestIteration = 4480\n",
      "\n",
      "Training on fold [2/3]\n",
      "\n",
      "bestTest = 0.02853342741\n",
      "bestIteration = 4484\n",
      "\n",
      "Number of finished trials: 9\n",
      "Kenya Best trial:\n",
      "  Value: 0.03519171964434902\n",
      "Kenya  Params: \n",
      "    iterations: 4422\n",
      "    learning_rate: 0.01819186392748126\n",
      "    objective: MAPE\n",
      "    colsample_bylevel: 0.04523000933834238\n",
      "    depth: 4\n",
      "    boosting_type: Plain\n",
      "    bootstrap_type: MVS\n",
      "Training on fold [0/3]\n",
      "\n",
      "bestTest = 0.03947836766\n",
      "bestIteration = 2235\n",
      "\n",
      "Training on fold [1/3]\n",
      "\n",
      "bestTest = 0.03619351578\n",
      "bestIteration = 669\n",
      "\n",
      "Training on fold [2/3]\n",
      "\n",
      "bestTest = 0.01767314026\n",
      "bestIteration = 1592\n",
      "\n",
      "Training on fold [0/3]\n",
      "\n",
      "bestTest = 0.01882186741\n",
      "bestIteration = 5183\n",
      "\n",
      "Training on fold [1/3]\n",
      "\n",
      "bestTest = 0.01210354103\n",
      "bestIteration = 3090\n",
      "\n",
      "Training on fold [2/3]\n",
      "\n",
      "bestTest = 0.01697179713\n",
      "bestIteration = 2686\n",
      "\n",
      "Training on fold [0/3]\n",
      "\n",
      "bestTest = 0.01693464838\n",
      "bestIteration = 3200\n",
      "\n",
      "Training on fold [1/3]\n",
      "\n",
      "bestTest = 0.01638343636\n",
      "bestIteration = 3200\n",
      "\n",
      "Training on fold [2/3]\n",
      "\n",
      "bestTest = 0.01998723365\n",
      "bestIteration = 3200\n",
      "\n",
      "Training on fold [0/3]\n",
      "\n",
      "bestTest = 0.04880103867\n",
      "bestIteration = 1921\n",
      "\n",
      "Training on fold [1/3]\n",
      "\n",
      "bestTest = 0.08322385149\n",
      "bestIteration = 3982\n",
      "\n",
      "Training on fold [2/3]\n",
      "\n",
      "bestTest = 0.0645827941\n",
      "bestIteration = 1241\n",
      "\n",
      "Training on fold [0/3]\n",
      "\n",
      "bestTest = 0.02627605323\n",
      "bestIteration = 2085\n",
      "\n",
      "Training on fold [1/3]\n",
      "\n",
      "bestTest = 0.03787163893\n",
      "bestIteration = 2113\n",
      "\n",
      "Training on fold [2/3]\n",
      "\n",
      "bestTest = 0.01893058762\n",
      "bestIteration = 1518\n",
      "\n",
      "Training on fold [0/3]\n",
      "\n",
      "bestTest = 0.1521375569\n",
      "bestIteration = 1717\n",
      "\n",
      "Training on fold [1/3]\n",
      "\n",
      "bestTest = 0.05981519492\n",
      "bestIteration = 2061\n",
      "\n",
      "Training on fold [2/3]\n",
      "\n",
      "bestTest = 0.05378106524\n",
      "bestIteration = 2440\n",
      "\n",
      "Number of finished trials: 6\n",
      "Norway Best trial:\n",
      "  Value: 0.016055090773441767\n",
      "Norway  Params: \n",
      "    iterations: 5193\n",
      "    learning_rate: 0.024025146614601957\n",
      "    objective: MAPE\n",
      "    colsample_bylevel: 0.03999563395298037\n",
      "    depth: 6\n",
      "    boosting_type: Ordered\n",
      "    bootstrap_type: Bayesian\n",
      "    bagging_temperature: 6.136437552959595\n",
      "Training on fold [0/3]\n",
      "\n",
      "bestTest = 0.04149071649\n",
      "bestIteration = 2177\n",
      "\n",
      "Training on fold [1/3]\n",
      "\n",
      "bestTest = 0.03550321946\n",
      "bestIteration = 2182\n",
      "\n",
      "Training on fold [2/3]\n",
      "\n",
      "bestTest = 0.0351681447\n",
      "bestIteration = 2178\n",
      "\n",
      "Training on fold [0/3]\n",
      "\n",
      "bestTest = 0.03732301037\n",
      "bestIteration = 3065\n",
      "\n",
      "Training on fold [1/3]\n",
      "\n",
      "bestTest = 0.01936171535\n",
      "bestIteration = 1030\n",
      "\n",
      "Training on fold [2/3]\n",
      "\n",
      "bestTest = 0.01309453158\n",
      "bestIteration = 2946\n",
      "\n",
      "Training on fold [0/3]\n",
      "\n",
      "bestTest = 0.07621003208\n",
      "bestIteration = 1261\n",
      "\n",
      "Training on fold [1/3]\n",
      "\n",
      "bestTest = 0.04240673893\n",
      "bestIteration = 1182\n",
      "\n",
      "Training on fold [2/3]\n",
      "\n",
      "bestTest = 0.04803493622\n",
      "bestIteration = 1694\n",
      "\n",
      "Training on fold [0/3]\n",
      "\n",
      "bestTest = 0.01457135741\n",
      "bestIteration = 6907\n",
      "\n",
      "Training on fold [1/3]\n",
      "\n",
      "bestTest = 0.01556397042\n",
      "bestIteration = 3517\n",
      "\n",
      "Training on fold [2/3]\n",
      "\n",
      "bestTest = 0.01384466364\n",
      "bestIteration = 2283\n",
      "\n",
      "Training on fold [0/3]\n",
      "\n",
      "bestTest = 0.02404908181\n",
      "bestIteration = 3291\n",
      "\n",
      "Training on fold [1/3]\n",
      "\n",
      "bestTest = 0.02090299176\n",
      "bestIteration = 3307\n",
      "\n",
      "Training on fold [2/3]\n",
      "\n",
      "bestTest = 0.02045804993\n",
      "bestIteration = 3307\n",
      "\n",
      "Training on fold [0/3]\n",
      "\n",
      "bestTest = 0.03785320443\n",
      "bestIteration = 3067\n",
      "\n",
      "Training on fold [1/3]\n",
      "\n",
      "bestTest = 0.0210292924\n",
      "bestIteration = 2441\n",
      "\n",
      "Training on fold [2/3]\n",
      "\n",
      "bestTest = 0.01646358477\n",
      "bestIteration = 2991\n",
      "\n",
      "Training on fold [0/3]\n",
      "\n",
      "bestTest = 0.04820816895\n",
      "bestIteration = 2755\n",
      "\n",
      "Training on fold [1/3]\n",
      "\n",
      "bestTest = 0.03507393263\n",
      "bestIteration = 1731\n",
      "\n",
      "Training on fold [2/3]\n",
      "\n",
      "bestTest = 0.05177760158\n",
      "bestIteration = 1802\n",
      "\n",
      "Training on fold [0/3]\n",
      "\n",
      "bestTest = 0.0383872795\n",
      "bestIteration = 1390\n",
      "\n",
      "Training on fold [1/3]\n",
      "\n",
      "bestTest = 0.07416609412\n",
      "bestIteration = 527\n",
      "\n",
      "Training on fold [2/3]\n",
      "\n",
      "bestTest = 0.04550841014\n",
      "bestIteration = 614\n",
      "\n",
      "Training on fold [0/3]\n",
      "\n",
      "bestTest = 0.01703278825\n",
      "bestIteration = 3165\n",
      "\n",
      "Training on fold [1/3]\n",
      "\n",
      "bestTest = 0.01619248075\n",
      "bestIteration = 3162\n",
      "\n",
      "Training on fold [2/3]\n",
      "\n",
      "bestTest = 0.01443100909\n",
      "bestIteration = 3166\n",
      "\n",
      "Training on fold [0/3]\n",
      "\n",
      "bestTest = 0.02914246484\n",
      "bestIteration = 3797\n",
      "\n",
      "Training on fold [1/3]\n",
      "\n",
      "bestTest = 0.01899753486\n",
      "bestIteration = 1246\n",
      "\n",
      "Training on fold [2/3]\n",
      "\n",
      "bestTest = 0.0125143649\n",
      "bestIteration = 1935\n",
      "\n",
      "Training on fold [0/3]\n",
      "\n",
      "bestTest = 0.01618919096\n",
      "bestIteration = 6201\n",
      "\n",
      "Training on fold [1/3]\n",
      "\n",
      "bestTest = 0.01572204178\n",
      "bestIteration = 6118\n",
      "\n",
      "Training on fold [2/3]\n",
      "\n",
      "bestTest = 0.0148781557\n",
      "bestIteration = 6201\n",
      "\n",
      "Number of finished trials: 11\n",
      "Singapore Best trial:\n",
      "  Value: 0.014676142679790718\n",
      "Singapore  Params: \n",
      "    iterations: 6912\n",
      "    learning_rate: 0.011058682228802472\n",
      "    objective: MAPE\n",
      "    colsample_bylevel: 0.5289346495752502\n",
      "    depth: 1\n",
      "    boosting_type: Plain\n",
      "    bootstrap_type: MVS\n"
     ]
    }
   ],
   "source": [
    "from functools import partial \n",
    "\n",
    "country_best_params={}\n",
    "for c in countrylist:\n",
    "    objective = partial(objective, country = c)\n",
    "    \n",
    "    optuna.logging.set_verbosity(optuna.logging.CRITICAL)\n",
    "    study = optuna.create_study(\n",
    "        #pruner=optuna.pruners.MedianPruner(n_warmup_steps=5), \n",
    "        direction=\"minimize\",\n",
    "    )\n",
    "    study.optimize(objective, n_trials=100, timeout=600)\n",
    "    \n",
    "    print(\"Number of finished trials: {}\".format(len(study.trials)))\n",
    "    \n",
    "    print(f'{c} Best trial:')\n",
    "    trial = study.best_trial\n",
    "    \n",
    "    print(\"  Value: {}\".format(trial.value))\n",
    "    \n",
    "    print(f\"{c}  Params: \")\n",
    "    country_best_params[c]=trial.params.copy()\n",
    "    for key, value in trial.params.items():\n",
    "        print(\"    {}: {}\".format(key, value))\n",
    "        "
   ]
  },
  {
   "cell_type": "code",
   "execution_count": 53,
   "id": "e56daaf0",
   "metadata": {
    "execution": {
     "iopub.execute_input": "2025-01-14T08:29:18.315804Z",
     "iopub.status.busy": "2025-01-14T08:29:18.315373Z",
     "iopub.status.idle": "2025-01-14T08:29:18.320597Z",
     "shell.execute_reply": "2025-01-14T08:29:18.319229Z"
    },
    "papermill": {
     "duration": 0.039844,
     "end_time": "2025-01-14T08:29:18.322664",
     "exception": false,
     "start_time": "2025-01-14T08:29:18.282820",
     "status": "completed"
    },
    "tags": []
   },
   "outputs": [],
   "source": [
    "#print(study.best_params)"
   ]
  },
  {
   "cell_type": "code",
   "execution_count": 54,
   "id": "b96f70cb",
   "metadata": {
    "execution": {
     "iopub.execute_input": "2025-01-14T08:29:18.389275Z",
     "iopub.status.busy": "2025-01-14T08:29:18.388855Z",
     "iopub.status.idle": "2025-01-14T08:29:18.392792Z",
     "shell.execute_reply": "2025-01-14T08:29:18.391784Z"
    },
    "papermill": {
     "duration": 0.039546,
     "end_time": "2025-01-14T08:29:18.394636",
     "exception": false,
     "start_time": "2025-01-14T08:29:18.355090",
     "status": "completed"
    },
    "tags": []
   },
   "outputs": [],
   "source": [
    "# from catboost import Pool,cv\n",
    "# cats=df_train.select_dtypes('category').columns\n",
    "# features=df_train.drop(['id','num_sold','date'],axis=1).columns\n",
    "# train_pool = Pool(data=df_train.drop(['id','num_sold','date'],axis=1),\n",
    "#              label=df_train['num_sold'],\n",
    "#              cat_features=cats.to_list())"
   ]
  },
  {
   "cell_type": "code",
   "execution_count": 55,
   "id": "642ffaa6",
   "metadata": {
    "execution": {
     "iopub.execute_input": "2025-01-14T08:29:18.461937Z",
     "iopub.status.busy": "2025-01-14T08:29:18.461564Z",
     "iopub.status.idle": "2025-01-14T08:29:18.465829Z",
     "shell.execute_reply": "2025-01-14T08:29:18.464570Z"
    },
    "papermill": {
     "duration": 0.040205,
     "end_time": "2025-01-14T08:29:18.467825",
     "exception": false,
     "start_time": "2025-01-14T08:29:18.427620",
     "status": "completed"
    },
    "tags": []
   },
   "outputs": [],
   "source": [
    "# from catboost import Pool,cv\n",
    "\n",
    "#              #feature_names=features)\n",
    "\n",
    "\n",
    "# # params = {\"iterations\": 1000,\n",
    "# #           \"depth\": 4,\n",
    "# #           \"loss_function\": \"MAPE\",\n",
    "# #           \"verbose\": False}\n",
    "\n",
    "# scores = cv(train_pool,\n",
    "#             study.best_params,\n",
    "#            fold_count=5,\n",
    "#             verbose=0,\n",
    "#            )\n",
    "\n",
    "# print(scores)"
   ]
  },
  {
   "cell_type": "code",
   "execution_count": 56,
   "id": "c63cd8aa",
   "metadata": {
    "execution": {
     "iopub.execute_input": "2025-01-14T08:29:18.536616Z",
     "iopub.status.busy": "2025-01-14T08:29:18.536234Z",
     "iopub.status.idle": "2025-01-14T08:29:18.540388Z",
     "shell.execute_reply": "2025-01-14T08:29:18.539223Z"
    },
    "papermill": {
     "duration": 0.04056,
     "end_time": "2025-01-14T08:29:18.542523",
     "exception": false,
     "start_time": "2025-01-14T08:29:18.501963",
     "status": "completed"
    },
    "tags": []
   },
   "outputs": [],
   "source": [
    "#print(scores)"
   ]
  },
  {
   "cell_type": "code",
   "execution_count": 57,
   "id": "821252ca",
   "metadata": {
    "execution": {
     "iopub.execute_input": "2025-01-14T08:29:18.610502Z",
     "iopub.status.busy": "2025-01-14T08:29:18.610056Z",
     "iopub.status.idle": "2025-01-14T08:29:18.614455Z",
     "shell.execute_reply": "2025-01-14T08:29:18.613228Z"
    },
    "papermill": {
     "duration": 0.040815,
     "end_time": "2025-01-14T08:29:18.616411",
     "exception": false,
     "start_time": "2025-01-14T08:29:18.575596",
     "status": "completed"
    },
    "tags": []
   },
   "outputs": [],
   "source": [
    "#hyperdict=optuna.importance.get_param_importances(study)"
   ]
  },
  {
   "cell_type": "code",
   "execution_count": 58,
   "id": "ee7cea25",
   "metadata": {
    "execution": {
     "iopub.execute_input": "2025-01-14T08:29:18.681046Z",
     "iopub.status.busy": "2025-01-14T08:29:18.680704Z",
     "iopub.status.idle": "2025-01-14T08:29:18.685142Z",
     "shell.execute_reply": "2025-01-14T08:29:18.683997Z"
    },
    "papermill": {
     "duration": 0.038837,
     "end_time": "2025-01-14T08:29:18.687329",
     "exception": false,
     "start_time": "2025-01-14T08:29:18.648492",
     "status": "completed"
    },
    "tags": []
   },
   "outputs": [],
   "source": [
    "#print(hyperdict)"
   ]
  },
  {
   "cell_type": "code",
   "execution_count": 59,
   "id": "5e7c35e4",
   "metadata": {
    "execution": {
     "iopub.execute_input": "2025-01-14T08:29:18.753453Z",
     "iopub.status.busy": "2025-01-14T08:29:18.753022Z",
     "iopub.status.idle": "2025-01-14T08:29:18.761664Z",
     "shell.execute_reply": "2025-01-14T08:29:18.760428Z"
    },
    "papermill": {
     "duration": 0.044516,
     "end_time": "2025-01-14T08:29:18.763843",
     "exception": false,
     "start_time": "2025-01-14T08:29:18.719327",
     "status": "completed"
    },
    "tags": []
   },
   "outputs": [
    {
     "name": "stdout",
     "output_type": "stream",
     "text": [
      "Canada\n",
      "{'iterations': 1939, 'learning_rate': 0.010684411236500149, 'objective': 'MAPE', 'colsample_bylevel': 0.13657938904588907, 'depth': 3, 'boosting_type': 'Plain', 'bootstrap_type': 'Bayesian', 'bagging_temperature': 9.321606156832605}\n",
      "Finland\n",
      "{'iterations': 2007, 'learning_rate': 0.011980651745749376, 'objective': 'MAPE', 'colsample_bylevel': 0.05361151137085509, 'depth': 3, 'boosting_type': 'Ordered', 'bootstrap_type': 'MVS'}\n",
      "Italy\n",
      "{'iterations': 6870, 'learning_rate': 0.022176707633286802, 'objective': 'MAPE', 'colsample_bylevel': 0.5924212145350894, 'depth': 2, 'boosting_type': 'Plain', 'bootstrap_type': 'Bernoulli', 'subsample': 0.5273140536967089}\n",
      "Kenya\n",
      "{'iterations': 4422, 'learning_rate': 0.01819186392748126, 'objective': 'MAPE', 'colsample_bylevel': 0.04523000933834238, 'depth': 4, 'boosting_type': 'Plain', 'bootstrap_type': 'MVS'}\n",
      "Norway\n",
      "{'iterations': 5193, 'learning_rate': 0.024025146614601957, 'objective': 'MAPE', 'colsample_bylevel': 0.03999563395298037, 'depth': 6, 'boosting_type': 'Ordered', 'bootstrap_type': 'Bayesian', 'bagging_temperature': 6.136437552959595}\n",
      "Singapore\n",
      "{'iterations': 6912, 'learning_rate': 0.011058682228802472, 'objective': 'MAPE', 'colsample_bylevel': 0.5289346495752502, 'depth': 1, 'boosting_type': 'Plain', 'bootstrap_type': 'MVS'}\n"
     ]
    }
   ],
   "source": [
    "for p,v in country_best_params.items():\n",
    "    print(p)\n",
    "    print(v)"
   ]
  },
  {
   "cell_type": "code",
   "execution_count": 60,
   "id": "b15ad12a",
   "metadata": {
    "execution": {
     "iopub.execute_input": "2025-01-14T08:29:18.836810Z",
     "iopub.status.busy": "2025-01-14T08:29:18.836456Z",
     "iopub.status.idle": "2025-01-14T08:29:18.842325Z",
     "shell.execute_reply": "2025-01-14T08:29:18.841024Z"
    },
    "papermill": {
     "duration": 0.047128,
     "end_time": "2025-01-14T08:29:18.844051",
     "exception": false,
     "start_time": "2025-01-14T08:29:18.796923",
     "status": "completed"
    },
    "tags": []
   },
   "outputs": [],
   "source": [
    "#Execute this cell in case of loading fitted model to do prediction\n",
    "country_model={}\n",
    "def LoadModel():\n",
    "    Path='/kaggle/input/cbfitmodels'\n",
    "    countrylist=['Canada','Finland','Italy','Kenya','Norway','Singapore']\n",
    "    for c in countrylist:\n",
    "        country_model[c]=cb.CatBoostRegressor().load_model(f'{Path}/cbfit_{c}')\n"
   ]
  },
  {
   "cell_type": "code",
   "execution_count": 61,
   "id": "104c325a",
   "metadata": {
    "execution": {
     "iopub.execute_input": "2025-01-14T08:29:18.913043Z",
     "iopub.status.busy": "2025-01-14T08:29:18.912705Z",
     "iopub.status.idle": "2025-01-14T08:29:19.497528Z",
     "shell.execute_reply": "2025-01-14T08:29:19.495853Z"
    },
    "papermill": {
     "duration": 0.622723,
     "end_time": "2025-01-14T08:29:19.500093",
     "exception": false,
     "start_time": "2025-01-14T08:29:18.877370",
     "status": "completed"
    },
    "tags": []
   },
   "outputs": [],
   "source": [
    "#Use when using model without training\n",
    "LoadModel()"
   ]
  },
  {
   "cell_type": "code",
   "execution_count": 62,
   "id": "dee278d2",
   "metadata": {
    "execution": {
     "iopub.execute_input": "2025-01-14T08:29:19.568365Z",
     "iopub.status.busy": "2025-01-14T08:29:19.567938Z",
     "iopub.status.idle": "2025-01-14T08:29:19.575402Z",
     "shell.execute_reply": "2025-01-14T08:29:19.574276Z"
    },
    "papermill": {
     "duration": 0.04377,
     "end_time": "2025-01-14T08:29:19.577240",
     "exception": false,
     "start_time": "2025-01-14T08:29:19.533470",
     "status": "completed"
    },
    "tags": []
   },
   "outputs": [],
   "source": [
    "country_best_params={}\n",
    "country_best_params['Canada']={'iterations': 3593, 'learning_rate': 0.012827192029471704, 'objective': 'MAPE', 'colsample_bylevel': 0.09122674054287529, 'depth': 3, 'boosting_type': 'Ordered', 'bootstrap_type': 'Bernoulli', 'subsample': 0.3698567303900272}\n",
    "country_best_params['Finland']={'iterations': 4674, 'learning_rate': 0.021005624891915504, 'objective': 'MAPE', 'colsample_bylevel': 0.5784183002099044, 'depth': 2, 'boosting_type': 'Ordered', 'bootstrap_type': 'Bayesian', 'bagging_temperature': 5.782146139508431}\n",
    "country_best_params['Italy']={'iterations': 1398, 'learning_rate': 0.0251234589892742, 'objective': 'MAPE', 'colsample_bylevel': 0.049188944104342755, 'depth': 7, 'boosting_type': 'Plain', 'bootstrap_type': 'MVS'}\n",
    "country_best_params['Kenya']={'iterations': 3924, 'learning_rate': 0.016615674668667934, 'objective': 'MAPE', 'colsample_bylevel': 0.4274609331782009, 'depth': 2, 'boosting_type': 'Ordered', 'bootstrap_type': 'Bayesian', 'bagging_temperature': 6.2645325168308865}\n",
    "country_best_params['Norway']={'iterations': 3851, 'learning_rate': 0.019929523358906295, 'objective': 'MAPE', 'colsample_bylevel': 0.07338903404462888, 'depth': 2, 'boosting_type': 'Ordered', 'bootstrap_type': 'MVS'}\n",
    "country_best_params['Singapore']={'iterations': 1094, 'learning_rate': 0.02694754587058969, 'objective': 'MAPE', 'colsample_bylevel': 0.554849569101183, 'depth': 3, 'boosting_type': 'Plain', 'bootstrap_type': 'MVS'}"
   ]
  },
  {
   "cell_type": "code",
   "execution_count": 63,
   "id": "e71dc7a7",
   "metadata": {
    "execution": {
     "iopub.execute_input": "2025-01-14T08:29:19.643398Z",
     "iopub.status.busy": "2025-01-14T08:29:19.642971Z",
     "iopub.status.idle": "2025-01-14T08:32:33.762737Z",
     "shell.execute_reply": "2025-01-14T08:32:33.761316Z"
    },
    "papermill": {
     "duration": 194.188868,
     "end_time": "2025-01-14T08:32:33.798762",
     "exception": false,
     "start_time": "2025-01-14T08:29:19.609894",
     "status": "completed"
    },
    "tags": []
   },
   "outputs": [
    {
     "name": "stdout",
     "output_type": "stream",
     "text": [
      "Canada {'learn': {'MAPE': 0.008269156698279522}, 'validation': {'MAPE': 0.009044089966872268}}\n",
      "Finland {'learn': {'MAPE': 0.009074969798395772}, 'validation': {'MAPE': 0.009260053608743313}}\n",
      "Italy {'learn': {'MAPE': 0.008706211235837001}, 'validation': {'MAPE': 0.01313347160091982}}\n",
      "Kenya {'learn': {'MAPE': 0.02352475039109838}, 'validation': {'MAPE': 0.031123602795161163}}\n",
      "Norway {'learn': {'MAPE': 0.01023168420336607}, 'validation': {'MAPE': 0.016641205701075367}}\n",
      "Singapore {'learn': {'MAPE': 0.008384397330230279}, 'validation': {'MAPE': 0.009383224599149507}}\n"
     ]
    }
   ],
   "source": [
    "#Train model with best param and iteration>1000 before prediction\n",
    "country_model={}\n",
    "for c in countrylist:\n",
    "    country_model[c]=cb.CatBoostRegressor(**country_best_params[c],verbose=0)\n",
    "    country_model[c].fit(country_train_pool[c],eval_set=country_valid_pool[c])\n",
    "    country_model[c].save_model(f'cbfit_{c}')\n",
    "    print(f'{c} {country_model[c].get_best_score()}')"
   ]
  },
  {
   "cell_type": "code",
   "execution_count": 64,
   "id": "983a3d88",
   "metadata": {
    "execution": {
     "iopub.execute_input": "2025-01-14T08:32:33.868817Z",
     "iopub.status.busy": "2025-01-14T08:32:33.868386Z",
     "iopub.status.idle": "2025-01-14T08:32:33.875625Z",
     "shell.execute_reply": "2025-01-14T08:32:33.874411Z"
    },
    "papermill": {
     "duration": 0.045144,
     "end_time": "2025-01-14T08:32:33.877717",
     "exception": false,
     "start_time": "2025-01-14T08:32:33.832573",
     "status": "completed"
    },
    "tags": []
   },
   "outputs": [
    {
     "data": {
      "text/plain": [
       "{'Canada': <catboost.core.CatBoostRegressor at 0x7f8a3aad3ee0>,\n",
       " 'Finland': <catboost.core.CatBoostRegressor at 0x7f8a3aa29960>,\n",
       " 'Italy': <catboost.core.CatBoostRegressor at 0x7f8a3aa29b10>,\n",
       " 'Kenya': <catboost.core.CatBoostRegressor at 0x7f8a3aa29ea0>,\n",
       " 'Norway': <catboost.core.CatBoostRegressor at 0x7f8a3aad2d10>,\n",
       " 'Singapore': <catboost.core.CatBoostRegressor at 0x7f8a3aad3be0>}"
      ]
     },
     "execution_count": 64,
     "metadata": {},
     "output_type": "execute_result"
    }
   ],
   "source": [
    "country_model"
   ]
  },
  {
   "cell_type": "code",
   "execution_count": 65,
   "id": "8681c13e",
   "metadata": {
    "execution": {
     "iopub.execute_input": "2025-01-14T08:32:33.947634Z",
     "iopub.status.busy": "2025-01-14T08:32:33.947228Z",
     "iopub.status.idle": "2025-01-14T08:32:38.342826Z",
     "shell.execute_reply": "2025-01-14T08:32:38.341325Z"
    },
    "papermill": {
     "duration": 4.433945,
     "end_time": "2025-01-14T08:32:38.345792",
     "exception": false,
     "start_time": "2025-01-14T08:32:33.911847",
     "status": "completed"
    },
    "tags": []
   },
   "outputs": [
    {
     "name": "stderr",
     "output_type": "stream",
     "text": [
      "<ipython-input-65-b533e4724463>:7: SettingWithCopyWarning: \n",
      "A value is trying to be set on a copy of a slice from a DataFrame.\n",
      "Try using .loc[row_indexer,col_indexer] = value instead\n",
      "\n",
      "See the caveats in the documentation: https://pandas.pydata.org/pandas-docs/stable/user_guide/indexing.html#returning-a-view-versus-a-copy\n",
      "  df['num_sold']=country_predicts[c]\n",
      "<ipython-input-65-b533e4724463>:9: SettingWithCopyWarning: \n",
      "A value is trying to be set on a copy of a slice from a DataFrame.\n",
      "Try using .loc[row_indexer,col_indexer] = value instead\n",
      "\n",
      "See the caveats in the documentation: https://pandas.pydata.org/pandas-docs/stable/user_guide/indexing.html#returning-a-view-versus-a-copy\n",
      "  df['rolling_mean'] = df['num_sold'].rolling(window=30).mean()\n",
      "<ipython-input-65-b533e4724463>:10: SettingWithCopyWarning: \n",
      "A value is trying to be set on a copy of a slice from a DataFrame.\n",
      "Try using .loc[row_indexer,col_indexer] = value instead\n",
      "\n",
      "See the caveats in the documentation: https://pandas.pydata.org/pandas-docs/stable/user_guide/indexing.html#returning-a-view-versus-a-copy\n",
      "  df['rolling_std'] = df['num_sold'].rolling(window=30).std()\n",
      "<ipython-input-65-b533e4724463>:7: SettingWithCopyWarning: \n",
      "A value is trying to be set on a copy of a slice from a DataFrame.\n",
      "Try using .loc[row_indexer,col_indexer] = value instead\n",
      "\n",
      "See the caveats in the documentation: https://pandas.pydata.org/pandas-docs/stable/user_guide/indexing.html#returning-a-view-versus-a-copy\n",
      "  df['num_sold']=country_predicts[c]\n",
      "<ipython-input-65-b533e4724463>:9: SettingWithCopyWarning: \n",
      "A value is trying to be set on a copy of a slice from a DataFrame.\n",
      "Try using .loc[row_indexer,col_indexer] = value instead\n",
      "\n",
      "See the caveats in the documentation: https://pandas.pydata.org/pandas-docs/stable/user_guide/indexing.html#returning-a-view-versus-a-copy\n",
      "  df['rolling_mean'] = df['num_sold'].rolling(window=30).mean()\n",
      "<ipython-input-65-b533e4724463>:10: SettingWithCopyWarning: \n",
      "A value is trying to be set on a copy of a slice from a DataFrame.\n",
      "Try using .loc[row_indexer,col_indexer] = value instead\n",
      "\n",
      "See the caveats in the documentation: https://pandas.pydata.org/pandas-docs/stable/user_guide/indexing.html#returning-a-view-versus-a-copy\n",
      "  df['rolling_std'] = df['num_sold'].rolling(window=30).std()\n",
      "<ipython-input-65-b533e4724463>:7: SettingWithCopyWarning: \n",
      "A value is trying to be set on a copy of a slice from a DataFrame.\n",
      "Try using .loc[row_indexer,col_indexer] = value instead\n",
      "\n",
      "See the caveats in the documentation: https://pandas.pydata.org/pandas-docs/stable/user_guide/indexing.html#returning-a-view-versus-a-copy\n",
      "  df['num_sold']=country_predicts[c]\n",
      "<ipython-input-65-b533e4724463>:9: SettingWithCopyWarning: \n",
      "A value is trying to be set on a copy of a slice from a DataFrame.\n",
      "Try using .loc[row_indexer,col_indexer] = value instead\n",
      "\n",
      "See the caveats in the documentation: https://pandas.pydata.org/pandas-docs/stable/user_guide/indexing.html#returning-a-view-versus-a-copy\n",
      "  df['rolling_mean'] = df['num_sold'].rolling(window=30).mean()\n",
      "<ipython-input-65-b533e4724463>:10: SettingWithCopyWarning: \n",
      "A value is trying to be set on a copy of a slice from a DataFrame.\n",
      "Try using .loc[row_indexer,col_indexer] = value instead\n",
      "\n",
      "See the caveats in the documentation: https://pandas.pydata.org/pandas-docs/stable/user_guide/indexing.html#returning-a-view-versus-a-copy\n",
      "  df['rolling_std'] = df['num_sold'].rolling(window=30).std()\n",
      "<ipython-input-65-b533e4724463>:7: SettingWithCopyWarning: \n",
      "A value is trying to be set on a copy of a slice from a DataFrame.\n",
      "Try using .loc[row_indexer,col_indexer] = value instead\n",
      "\n",
      "See the caveats in the documentation: https://pandas.pydata.org/pandas-docs/stable/user_guide/indexing.html#returning-a-view-versus-a-copy\n",
      "  df['num_sold']=country_predicts[c]\n",
      "<ipython-input-65-b533e4724463>:9: SettingWithCopyWarning: \n",
      "A value is trying to be set on a copy of a slice from a DataFrame.\n",
      "Try using .loc[row_indexer,col_indexer] = value instead\n",
      "\n",
      "See the caveats in the documentation: https://pandas.pydata.org/pandas-docs/stable/user_guide/indexing.html#returning-a-view-versus-a-copy\n",
      "  df['rolling_mean'] = df['num_sold'].rolling(window=30).mean()\n",
      "<ipython-input-65-b533e4724463>:10: SettingWithCopyWarning: \n",
      "A value is trying to be set on a copy of a slice from a DataFrame.\n",
      "Try using .loc[row_indexer,col_indexer] = value instead\n",
      "\n",
      "See the caveats in the documentation: https://pandas.pydata.org/pandas-docs/stable/user_guide/indexing.html#returning-a-view-versus-a-copy\n",
      "  df['rolling_std'] = df['num_sold'].rolling(window=30).std()\n",
      "<ipython-input-65-b533e4724463>:7: SettingWithCopyWarning: \n",
      "A value is trying to be set on a copy of a slice from a DataFrame.\n",
      "Try using .loc[row_indexer,col_indexer] = value instead\n",
      "\n",
      "See the caveats in the documentation: https://pandas.pydata.org/pandas-docs/stable/user_guide/indexing.html#returning-a-view-versus-a-copy\n",
      "  df['num_sold']=country_predicts[c]\n",
      "<ipython-input-65-b533e4724463>:9: SettingWithCopyWarning: \n",
      "A value is trying to be set on a copy of a slice from a DataFrame.\n",
      "Try using .loc[row_indexer,col_indexer] = value instead\n",
      "\n",
      "See the caveats in the documentation: https://pandas.pydata.org/pandas-docs/stable/user_guide/indexing.html#returning-a-view-versus-a-copy\n",
      "  df['rolling_mean'] = df['num_sold'].rolling(window=30).mean()\n",
      "<ipython-input-65-b533e4724463>:10: SettingWithCopyWarning: \n",
      "A value is trying to be set on a copy of a slice from a DataFrame.\n",
      "Try using .loc[row_indexer,col_indexer] = value instead\n",
      "\n",
      "See the caveats in the documentation: https://pandas.pydata.org/pandas-docs/stable/user_guide/indexing.html#returning-a-view-versus-a-copy\n",
      "  df['rolling_std'] = df['num_sold'].rolling(window=30).std()\n",
      "<ipython-input-65-b533e4724463>:7: SettingWithCopyWarning: \n",
      "A value is trying to be set on a copy of a slice from a DataFrame.\n",
      "Try using .loc[row_indexer,col_indexer] = value instead\n",
      "\n",
      "See the caveats in the documentation: https://pandas.pydata.org/pandas-docs/stable/user_guide/indexing.html#returning-a-view-versus-a-copy\n",
      "  df['num_sold']=country_predicts[c]\n",
      "<ipython-input-65-b533e4724463>:9: SettingWithCopyWarning: \n",
      "A value is trying to be set on a copy of a slice from a DataFrame.\n",
      "Try using .loc[row_indexer,col_indexer] = value instead\n",
      "\n",
      "See the caveats in the documentation: https://pandas.pydata.org/pandas-docs/stable/user_guide/indexing.html#returning-a-view-versus-a-copy\n",
      "  df['rolling_mean'] = df['num_sold'].rolling(window=30).mean()\n",
      "<ipython-input-65-b533e4724463>:10: SettingWithCopyWarning: \n",
      "A value is trying to be set on a copy of a slice from a DataFrame.\n",
      "Try using .loc[row_indexer,col_indexer] = value instead\n",
      "\n",
      "See the caveats in the documentation: https://pandas.pydata.org/pandas-docs/stable/user_guide/indexing.html#returning-a-view-versus-a-copy\n",
      "  df['rolling_std'] = df['num_sold'].rolling(window=30).std()\n"
     ]
    },
    {
     "data": {
      "image/png": "[encoded data removed]",
      "text/plain": [
       "<Figure size 1200x800 with 6 Axes>"
      ]
     },
     "metadata": {},
     "output_type": "display_data"
    }
   ],
   "source": [
    "fig, axes = plt.subplots(2, 3, figsize=(12, 8))\n",
    "testcountrylist=df_test['country'].unique().tolist()\n",
    "country_predicts={}\n",
    "for i,c in enumerate(testcountrylist):\n",
    "    df=df_test[df_test['country']==c]\n",
    "    country_predicts[c] = np.expm1(country_model[c].predict(df.drop(['id','country'],axis=1)))\n",
    "    df['num_sold']=country_predicts[c]\n",
    "    df.set_index('date')\n",
    "    df['rolling_mean'] = df['num_sold'].rolling(window=30).mean()\n",
    "    df['rolling_std'] = df['num_sold'].rolling(window=30).std()\n",
    "    df[['num_sold', 'rolling_mean', 'rolling_std']].plot(ax=axes.flat[i],title=f'{c} Rolling Mean and Std Dev')\n",
    "\n",
    "plt.tight_layout()\n",
    "plt.show()"
   ]
  },
  {
   "cell_type": "code",
   "execution_count": 66,
   "id": "8a52db24",
   "metadata": {
    "execution": {
     "iopub.execute_input": "2025-01-14T08:32:38.421329Z",
     "iopub.status.busy": "2025-01-14T08:32:38.420917Z",
     "iopub.status.idle": "2025-01-14T08:32:38.452741Z",
     "shell.execute_reply": "2025-01-14T08:32:38.451624Z"
    },
    "papermill": {
     "duration": 0.071309,
     "end_time": "2025-01-14T08:32:38.454780",
     "exception": false,
     "start_time": "2025-01-14T08:32:38.383471",
     "status": "completed"
    },
    "tags": []
   },
   "outputs": [],
   "source": [
    "cdf={}\n",
    "for c in testcountrylist:\n",
    "    cid=df_test[df_test['country']==c]['id']\n",
    "    cdf[c]=pd.concat([cid.reset_index(drop=True),pd.DataFrame(np.round(country_predicts[c],0),columns=['num_sold'])],axis=1)\n",
    "   "
   ]
  },
  {
   "cell_type": "code",
   "execution_count": 67,
   "id": "76094f4e",
   "metadata": {
    "execution": {
     "iopub.execute_input": "2025-01-14T08:32:38.529002Z",
     "iopub.status.busy": "2025-01-14T08:32:38.528646Z",
     "iopub.status.idle": "2025-01-14T08:32:38.536418Z",
     "shell.execute_reply": "2025-01-14T08:32:38.535307Z"
    },
    "papermill": {
     "duration": 0.047356,
     "end_time": "2025-01-14T08:32:38.538663",
     "exception": false,
     "start_time": "2025-01-14T08:32:38.491307",
     "status": "completed"
    },
    "tags": []
   },
   "outputs": [],
   "source": [
    "temp = pd.concat([df.reset_index(drop=True) for df in cdf.values()])"
   ]
  },
  {
   "cell_type": "code",
   "execution_count": 68,
   "id": "b73ca671",
   "metadata": {
    "execution": {
     "iopub.execute_input": "2025-01-14T08:32:38.618510Z",
     "iopub.status.busy": "2025-01-14T08:32:38.618055Z",
     "iopub.status.idle": "2025-01-14T08:32:38.639030Z",
     "shell.execute_reply": "2025-01-14T08:32:38.637866Z"
    },
    "papermill": {
     "duration": 0.063347,
     "end_time": "2025-01-14T08:32:38.641357",
     "exception": false,
     "start_time": "2025-01-14T08:32:38.578010",
     "status": "completed"
    },
    "tags": []
   },
   "outputs": [],
   "source": [
    "temp=temp.drop_duplicates()"
   ]
  },
  {
   "cell_type": "code",
   "execution_count": 69,
   "id": "addf3ecb",
   "metadata": {
    "execution": {
     "iopub.execute_input": "2025-01-14T08:32:38.722334Z",
     "iopub.status.busy": "2025-01-14T08:32:38.721903Z",
     "iopub.status.idle": "2025-01-14T08:32:38.862752Z",
     "shell.execute_reply": "2025-01-14T08:32:38.861680Z"
    },
    "papermill": {
     "duration": 0.185314,
     "end_time": "2025-01-14T08:32:38.865144",
     "exception": false,
     "start_time": "2025-01-14T08:32:38.679830",
     "status": "completed"
    },
    "tags": []
   },
   "outputs": [],
   "source": [
    "temp.to_csv('submission_6country_dropna_npround3.csv',index=False)"
   ]
  },
  {
   "cell_type": "code",
   "execution_count": 70,
   "id": "a82d578f",
   "metadata": {
    "execution": {
     "iopub.execute_input": "2025-01-14T08:32:38.946609Z",
     "iopub.status.busy": "2025-01-14T08:32:38.946045Z",
     "iopub.status.idle": "2025-01-14T08:32:38.982839Z",
     "shell.execute_reply": "2025-01-14T08:32:38.981098Z"
    },
    "papermill": {
     "duration": 0.080338,
     "end_time": "2025-01-14T08:32:38.985316",
     "exception": false,
     "start_time": "2025-01-14T08:32:38.904978",
     "status": "completed"
    },
    "tags": []
   },
   "outputs": [],
   "source": [
    "cdf={}\n",
    "for c in testcountrylist:\n",
    "    cid=df_test[df_test['country']==c]['id']\n",
    "    cdf[c]=pd.concat([cid.reset_index(drop=True),pd.DataFrame(np.fix(country_predicts[c]),columns=['num_sold'])],axis=1)"
   ]
  },
  {
   "cell_type": "code",
   "execution_count": 71,
   "id": "b7d8a75e",
   "metadata": {
    "execution": {
     "iopub.execute_input": "2025-01-14T08:32:39.085748Z",
     "iopub.status.busy": "2025-01-14T08:32:39.085350Z",
     "iopub.status.idle": "2025-01-14T08:32:39.230545Z",
     "shell.execute_reply": "2025-01-14T08:32:39.229004Z"
    },
    "papermill": {
     "duration": 0.195623,
     "end_time": "2025-01-14T08:32:39.232536",
     "exception": false,
     "start_time": "2025-01-14T08:32:39.036913",
     "status": "completed"
    },
    "tags": []
   },
   "outputs": [],
   "source": [
    "#pd.concat([df_test['id'],pd.DataFrame(np.round(predicts,0),columns=['num_sold'])],axis=1).reset_index(drop=True).to_csv('submission_impute_dropna_holidays_conseddays.csv',index=False)\n",
    "temp = pd.concat([df.reset_index(drop=True) for df in cdf.values()])\n",
    "temp=temp.drop_duplicates()\n",
    "temp.to_csv('submission_6country_dropna_npfix3.csv',index=False)"
   ]
  }
 ],
 "metadata": {
  "kaggle": {
   "accelerator": "none",
   "dataSources": [
    {
     "databundleVersionId": 10652996,
     "sourceId": 85723,
     "sourceType": "competition"
    },
    {
     "datasetId": 6470396,
     "sourceId": 10452614,
     "sourceType": "datasetVersion"
    }
   ],
   "dockerImageVersionId": 30822,
   "isGpuEnabled": false,
   "isInternetEnabled": true,
   "language": "python",
   "sourceType": "notebook"
  },
  "kernelspec": {
   "display_name": "Python 3",
   "language": "python",
   "name": "python3"
  },
  "language_info": {
   "codemirror_mode": {
    "name": "ipython",
    "version": 3
   },
   "file_extension": ".py",
   "mimetype": "text/x-python",
   "name": "python",
   "nbconvert_exporter": "python",
   "pygments_lexer": "ipython3",
   "version": "3.10.12"
  },
  "papermill": {
   "default_parameters": {},
   "duration": 4689.814044,
   "end_time": "2025-01-14T08:32:40.401311",
   "environment_variables": {},
   "exception": null,
   "input_path": "__notebook__.ipynb",
   "output_path": "__notebook__.ipynb",
   "parameters": {},
   "start_time": "2025-01-14T07:14:30.587267",
   "version": "2.6.0"
  }
 },
 "nbformat": 4,
 "nbformat_minor": 5
}
