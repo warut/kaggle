{
 "cells": [
  {
   "cell_type": "code",
   "execution_count": 1,
   "id": "4986a25e",
   "metadata": {
    "_cell_guid": "b1076dfc-b9ad-4769-8c92-a6c4dae69d19",
    "_uuid": "8f2839f25d086af736a60e9eeb907d3b93b6e0e5",
    "execution": {
     "iopub.execute_input": "2025-01-16T07:06:30.311252Z",
     "iopub.status.busy": "2025-01-16T07:06:30.310856Z",
     "iopub.status.idle": "2025-01-16T07:06:31.309478Z",
     "shell.execute_reply": "2025-01-16T07:06:31.308217Z"
    },
    "papermill": {
     "duration": 1.015562,
     "end_time": "2025-01-16T07:06:31.311335",
     "exception": false,
     "start_time": "2025-01-16T07:06:30.295773",
     "status": "completed"
    },
    "tags": []
   },
   "outputs": [
    {
     "name": "stdout",
     "output_type": "stream",
     "text": [
      "/kaggle/input/playground-series-s5e1/sample_submission.csv\n",
      "/kaggle/input/playground-series-s5e1/train.csv\n",
      "/kaggle/input/playground-series-s5e1/test.csv\n",
      "/kaggle/input/cbfitmodels/cbfit_Singapore\n",
      "/kaggle/input/cbfitmodels/cbfit_Italy\n",
      "/kaggle/input/cbfitmodels/cbfit_Finland\n",
      "/kaggle/input/cbfitmodels/cbfit_Canada\n",
      "/kaggle/input/cbfitmodels/cbfit_Norway\n",
      "/kaggle/input/cbfitmodels/cbfit_Kenya\n",
      "/kaggle/input/cbfitmodels/__results___files/__results___9_0.png\n",
      "/kaggle/input/cbfitmodels/__results___files/__results___64_1.png\n",
      "/kaggle/input/cbfitmodels/__results___files/__results___13_0.png\n",
      "/kaggle/input/cbfitmodels/catboost_info/test_error.tsv\n",
      "/kaggle/input/cbfitmodels/catboost_info/learn_error.tsv\n",
      "/kaggle/input/cbfitmodels/catboost_info/catboost_training.json\n",
      "/kaggle/input/cbfitmodels/catboost_info/time_left.tsv\n",
      "/kaggle/input/cbfitmodels/catboost_info/learn/events.out.tfevents\n",
      "/kaggle/input/cbfitmodels/catboost_info/test/events.out.tfevents\n"
     ]
    }
   ],
   "source": [
    "# This Python 3 environment comes with many helpful analytics libraries installed\n",
    "# It is defined by the kaggle/python Docker image: https://github.com/kaggle/docker-python\n",
    "# For example, here's several helpful packages to load\n",
    "\n",
    "import numpy as np # linear algebra\n",
    "import pandas as pd # data processing, CSV file I/O (e.g. pd.read_csv)\n",
    "\n",
    "# Input data files are available in the read-only \"../input/\" directory\n",
    "# For example, running this (by clicking run or pressing Shift+Enter) will list all files under the input directory\n",
    "\n",
    "import os\n",
    "for dirname, _, filenames in os.walk('/kaggle/input'):\n",
    "    for filename in filenames:\n",
    "        print(os.path.join(dirname, filename))\n",
    "\n",
    "# You can write up to 20GB to the current directory (/kaggle/working/) that gets preserved as output when you create a version using \"Save & Run All\" \n",
    "# You can also write temporary files to /kaggle/temp/, but they won't be saved outside of the current session"
   ]
  },
  {
   "cell_type": "code",
   "execution_count": 2,
   "id": "8414cd7d",
   "metadata": {
    "execution": {
     "iopub.execute_input": "2025-01-16T07:06:31.339903Z",
     "iopub.status.busy": "2025-01-16T07:06:31.339387Z",
     "iopub.status.idle": "2025-01-16T07:06:32.708138Z",
     "shell.execute_reply": "2025-01-16T07:06:32.707239Z"
    },
    "papermill": {
     "duration": 1.38448,
     "end_time": "2025-01-16T07:06:32.710030",
     "exception": false,
     "start_time": "2025-01-16T07:06:31.325550",
     "status": "completed"
    },
    "tags": []
   },
   "outputs": [],
   "source": [
    "import pandas as pd\n",
    "import numpy as np\n",
    "from sklearn.preprocessing import SplineTransformer\n",
    "\n",
    "\n",
    "def periodic_spline_transformer(period, n_splines=None, degree=3):\n",
    "    if n_splines is None:\n",
    "        n_splines = period\n",
    "    n_knots = n_splines + 1  # periodic and include_bias is True\n",
    "    return SplineTransformer(\n",
    "        degree=degree,\n",
    "        n_knots=n_knots,\n",
    "        knots=np.linspace(0, period, n_knots).reshape(n_knots, 1),\n",
    "        extrapolation=\"periodic\",\n",
    "        include_bias=True,\n",
    "    )\n",
    "\n",
    "# Sample quarterly data\n",
    "# data = {'quarter': [1, 2, 3, 4, 1, 2, 3, 4, 1, 2, 3, 4],\n",
    "#         'value': [10, 15, 12, 18, 11, 16, 13, 19, 12, 17, 14, 20]}\n",
    "# df = pd.DataFrame(data)\n",
    "\n",
    "# # Create periodic spline transformer\n",
    "# qt = periodic_spline_transformer(12, 4)\n",
    "\n",
    "# # Transform the 'quarter' feature\n",
    "# quarter = qt.fit_transform(df_train[['Month']])[:,0]\n",
    "\n",
    "# # Add transformed features to DataFrame\n",
    "# print(quarter)"
   ]
  },
  {
   "cell_type": "code",
   "execution_count": 3,
   "id": "33ec2799",
   "metadata": {
    "execution": {
     "iopub.execute_input": "2025-01-16T07:06:32.749723Z",
     "iopub.status.busy": "2025-01-16T07:06:32.748923Z",
     "iopub.status.idle": "2025-01-16T07:06:32.754713Z",
     "shell.execute_reply": "2025-01-16T07:06:32.753279Z"
    },
    "papermill": {
     "duration": 0.029192,
     "end_time": "2025-01-16T07:06:32.757505",
     "exception": false,
     "start_time": "2025-01-16T07:06:32.728313",
     "status": "completed"
    },
    "tags": []
   },
   "outputs": [],
   "source": [
    "check_pg=[]"
   ]
  },
  {
   "cell_type": "code",
   "execution_count": 4,
   "id": "f5f8faab",
   "metadata": {
    "execution": {
     "iopub.execute_input": "2025-01-16T07:06:32.794479Z",
     "iopub.status.busy": "2025-01-16T07:06:32.794141Z",
     "iopub.status.idle": "2025-01-16T07:06:32.801411Z",
     "shell.execute_reply": "2025-01-16T07:06:32.800210Z"
    },
    "papermill": {
     "duration": 0.024978,
     "end_time": "2025-01-16T07:06:32.803160",
     "exception": false,
     "start_time": "2025-01-16T07:06:32.778182",
     "status": "completed"
    },
    "tags": []
   },
   "outputs": [],
   "source": [
    "def plot_periodogram(ts, detrend='linear', ax=None):\n",
    "    from scipy.signal import periodogram\n",
    "    fs = pd.Timedelta(\"365D\") / pd.Timedelta(\"1D\")\n",
    "    freqencies, spectrum = periodogram(\n",
    "        ts,\n",
    "        fs=fs,\n",
    "        detrend=detrend,\n",
    "        window=\"boxcar\",\n",
    "        scaling='spectrum',\n",
    "    )\n",
    "    check_pg.append(freqencies)\n",
    "    check_pg.append(spectrum)\n",
    "    if ax is None:\n",
    "        _, ax = plt.subplots()\n",
    "    ax.step(freqencies, spectrum, color=\"purple\")\n",
    "    ax.set_xscale(\"log\")\n",
    "    ax.set_xticks([1, 2, 4, 6, 12, 26, 52, 104])\n",
    "    ax.set_xticklabels(\n",
    "        [\n",
    "            \"Annual (1)\",\n",
    "            \"Semiannual (2)\",\n",
    "            \"Quarterly (4)\",\n",
    "            \"Bimonthly (6)\",\n",
    "            \"Monthly (12)\",\n",
    "            \"Biweekly (26)\",\n",
    "            \"Weekly (52)\",\n",
    "            \"Semiweekly (104)\",\n",
    "        ],\n",
    "        rotation=30,\n",
    "    )\n",
    "    ax.ticklabel_format(axis=\"y\", style=\"sci\", scilimits=(0, 0))\n",
    "    ax.set_ylabel(\"Variance\")\n",
    "    ax.set_title(\"Periodogram\")\n",
    "    plt.savefig('pg.png')\n",
    "    return ax"
   ]
  },
  {
   "cell_type": "code",
   "execution_count": 5,
   "id": "d375fb22",
   "metadata": {
    "execution": {
     "iopub.execute_input": "2025-01-16T07:06:32.833803Z",
     "iopub.status.busy": "2025-01-16T07:06:32.833432Z",
     "iopub.status.idle": "2025-01-16T07:06:45.306220Z",
     "shell.execute_reply": "2025-01-16T07:06:45.305076Z"
    },
    "papermill": {
     "duration": 12.491933,
     "end_time": "2025-01-16T07:06:45.308274",
     "exception": false,
     "start_time": "2025-01-16T07:06:32.816341",
     "status": "completed"
    },
    "tags": []
   },
   "outputs": [
    {
     "name": "stdout",
     "output_type": "stream",
     "text": [
      "Collecting optuna-integration[catboost]\r\n",
      "  Downloading optuna_integration-4.1.0-py3-none-any.whl.metadata (12 kB)\r\n",
      "Requirement already satisfied: optuna in /usr/local/lib/python3.10/dist-packages (from optuna-integration[catboost]) (4.1.0)\r\n",
      "Requirement already satisfied: numpy<2.0.0 in /usr/local/lib/python3.10/dist-packages (from optuna-integration[catboost]) (1.26.4)\r\n",
      "Requirement already satisfied: catboost in /usr/local/lib/python3.10/dist-packages (from optuna-integration[catboost]) (1.2.7)\r\n",
      "Requirement already satisfied: graphviz in /usr/local/lib/python3.10/dist-packages (from catboost->optuna-integration[catboost]) (0.20.3)\r\n",
      "Requirement already satisfied: matplotlib in /usr/local/lib/python3.10/dist-packages (from catboost->optuna-integration[catboost]) (3.7.1)\r\n",
      "Requirement already satisfied: pandas>=0.24 in /usr/local/lib/python3.10/dist-packages (from catboost->optuna-integration[catboost]) (2.1.4)\r\n",
      "Requirement already satisfied: scipy in /usr/local/lib/python3.10/dist-packages (from catboost->optuna-integration[catboost]) (1.13.1)\r\n",
      "Requirement already satisfied: plotly in /usr/local/lib/python3.10/dist-packages (from catboost->optuna-integration[catboost]) (5.24.1)\r\n",
      "Requirement already satisfied: six in /usr/local/lib/python3.10/dist-packages (from catboost->optuna-integration[catboost]) (1.16.0)\r\n",
      "Requirement already satisfied: alembic>=1.5.0 in /usr/local/lib/python3.10/dist-packages (from optuna->optuna-integration[catboost]) (1.14.0)\r\n",
      "Requirement already satisfied: colorlog in /usr/local/lib/python3.10/dist-packages (from optuna->optuna-integration[catboost]) (6.9.0)\r\n",
      "Requirement already satisfied: packaging>=20.0 in /usr/local/lib/python3.10/dist-packages (from optuna->optuna-integration[catboost]) (24.1)\r\n",
      "Requirement already satisfied: sqlalchemy>=1.4.2 in /usr/local/lib/python3.10/dist-packages (from optuna->optuna-integration[catboost]) (2.0.35)\r\n",
      "Requirement already satisfied: tqdm in /usr/local/lib/python3.10/dist-packages (from optuna->optuna-integration[catboost]) (4.66.5)\r\n",
      "Requirement already satisfied: PyYAML in /usr/local/lib/python3.10/dist-packages (from optuna->optuna-integration[catboost]) (6.0.2)\r\n",
      "Requirement already satisfied: Mako in /usr/local/lib/python3.10/dist-packages (from alembic>=1.5.0->optuna->optuna-integration[catboost]) (1.3.8)\r\n",
      "Requirement already satisfied: typing-extensions>=4 in /usr/local/lib/python3.10/dist-packages (from alembic>=1.5.0->optuna->optuna-integration[catboost]) (4.12.2)\r\n",
      "Requirement already satisfied: python-dateutil>=2.8.2 in /usr/local/lib/python3.10/dist-packages (from pandas>=0.24->catboost->optuna-integration[catboost]) (2.8.2)\r\n",
      "Requirement already satisfied: pytz>=2020.1 in /usr/local/lib/python3.10/dist-packages (from pandas>=0.24->catboost->optuna-integration[catboost]) (2024.2)\r\n",
      "Requirement already satisfied: tzdata>=2022.1 in /usr/local/lib/python3.10/dist-packages (from pandas>=0.24->catboost->optuna-integration[catboost]) (2024.1)\r\n",
      "Requirement already satisfied: greenlet!=0.4.17 in /usr/local/lib/python3.10/dist-packages (from sqlalchemy>=1.4.2->optuna->optuna-integration[catboost]) (3.1.0)\r\n",
      "Requirement already satisfied: contourpy>=1.0.1 in /usr/local/lib/python3.10/dist-packages (from matplotlib->catboost->optuna-integration[catboost]) (1.3.0)\r\n",
      "Requirement already satisfied: cycler>=0.10 in /usr/local/lib/python3.10/dist-packages (from matplotlib->catboost->optuna-integration[catboost]) (0.12.1)\r\n",
      "Requirement already satisfied: fonttools>=4.22.0 in /usr/local/lib/python3.10/dist-packages (from matplotlib->catboost->optuna-integration[catboost]) (4.53.1)\r\n",
      "Requirement already satisfied: kiwisolver>=1.0.1 in /usr/local/lib/python3.10/dist-packages (from matplotlib->catboost->optuna-integration[catboost]) (1.4.7)\r\n",
      "Requirement already satisfied: pillow>=6.2.0 in /usr/local/lib/python3.10/dist-packages (from matplotlib->catboost->optuna-integration[catboost]) (10.4.0)\r\n",
      "Requirement already satisfied: pyparsing>=2.3.1 in /usr/local/lib/python3.10/dist-packages (from matplotlib->catboost->optuna-integration[catboost]) (3.1.4)\r\n",
      "Requirement already satisfied: tenacity>=6.2.0 in /usr/local/lib/python3.10/dist-packages (from plotly->catboost->optuna-integration[catboost]) (9.0.0)\r\n",
      "Requirement already satisfied: MarkupSafe>=0.9.2 in /usr/local/lib/python3.10/dist-packages (from Mako->alembic>=1.5.0->optuna->optuna-integration[catboost]) (2.1.5)\r\n",
      "Downloading optuna_integration-4.1.0-py3-none-any.whl (97 kB)\r\n",
      "\u001b[2K   \u001b[90m━━━━━━━━━━━━━━━━━━━━━━━━━━━━━━━━━━━━━━━━\u001b[0m \u001b[32m97.4/97.4 kB\u001b[0m \u001b[31m4.2 MB/s\u001b[0m eta \u001b[36m0:00:00\u001b[0m\r\n",
      "\u001b[?25hInstalling collected packages: optuna-integration\r\n",
      "Successfully installed optuna-integration-4.1.0\r\n",
      "Requirement already satisfied: holidays in /usr/local/lib/python3.10/dist-packages (0.57)\r\n",
      "Collecting holidays\r\n",
      "  Downloading holidays-0.64-py3-none-any.whl.metadata (26 kB)\r\n",
      "Requirement already satisfied: python-dateutil in /usr/local/lib/python3.10/dist-packages (from holidays) (2.8.2)\r\n",
      "Requirement already satisfied: six>=1.5 in /usr/local/lib/python3.10/dist-packages (from python-dateutil->holidays) (1.16.0)\r\n",
      "Downloading holidays-0.64-py3-none-any.whl (1.2 MB)\r\n",
      "\u001b[2K   \u001b[90m━━━━━━━━━━━━━━━━━━━━━━━━━━━━━━━━━━━━━━━━\u001b[0m \u001b[32m1.2/1.2 MB\u001b[0m \u001b[31m23.4 MB/s\u001b[0m eta \u001b[36m0:00:00\u001b[0m\r\n",
      "\u001b[?25hInstalling collected packages: holidays\r\n",
      "  Attempting uninstall: holidays\r\n",
      "    Found existing installation: holidays 0.57\r\n",
      "    Uninstalling holidays-0.57:\r\n",
      "      Successfully uninstalled holidays-0.57\r\n",
      "Successfully installed holidays-0.64\r\n"
     ]
    }
   ],
   "source": [
    "!pip install optuna-integration[catboost]\n",
    "!pip install -U holidays"
   ]
  },
  {
   "cell_type": "code",
   "execution_count": 6,
   "id": "b06c25c1",
   "metadata": {
    "execution": {
     "iopub.execute_input": "2025-01-16T07:06:45.338416Z",
     "iopub.status.busy": "2025-01-16T07:06:45.338020Z",
     "iopub.status.idle": "2025-01-16T07:06:49.979242Z",
     "shell.execute_reply": "2025-01-16T07:06:49.978041Z"
    },
    "papermill": {
     "duration": 4.658688,
     "end_time": "2025-01-16T07:06:49.981247",
     "exception": false,
     "start_time": "2025-01-16T07:06:45.322559",
     "status": "completed"
    },
    "tags": []
   },
   "outputs": [
    {
     "name": "stdout",
     "output_type": "stream",
     "text": [
      "Collecting pycountry\r\n",
      "  Downloading pycountry-24.6.1-py3-none-any.whl.metadata (12 kB)\r\n",
      "Downloading pycountry-24.6.1-py3-none-any.whl (6.3 MB)\r\n",
      "\u001b[2K   \u001b[90m━━━━━━━━━━━━━━━━━━━━━━━━━━━━━━━━━━━━━━━━\u001b[0m \u001b[32m6.3/6.3 MB\u001b[0m \u001b[31m65.2 MB/s\u001b[0m eta \u001b[36m0:00:00\u001b[0m\r\n",
      "\u001b[?25hInstalling collected packages: pycountry\r\n",
      "Successfully installed pycountry-24.6.1\r\n"
     ]
    }
   ],
   "source": [
    "!pip install -U pycountry"
   ]
  },
  {
   "cell_type": "code",
   "execution_count": 7,
   "id": "9d4be7f2",
   "metadata": {
    "execution": {
     "iopub.execute_input": "2025-01-16T07:06:50.012014Z",
     "iopub.status.busy": "2025-01-16T07:06:50.011650Z",
     "iopub.status.idle": "2025-01-16T07:06:50.075417Z",
     "shell.execute_reply": "2025-01-16T07:06:50.074289Z"
    },
    "papermill": {
     "duration": 0.081477,
     "end_time": "2025-01-16T07:06:50.077397",
     "exception": false,
     "start_time": "2025-01-16T07:06:49.995920",
     "status": "completed"
    },
    "tags": []
   },
   "outputs": [],
   "source": [
    "import statsmodels"
   ]
  },
  {
   "cell_type": "code",
   "execution_count": 8,
   "id": "21bbff82",
   "metadata": {
    "execution": {
     "iopub.execute_input": "2025-01-16T07:06:50.107603Z",
     "iopub.status.busy": "2025-01-16T07:06:50.107214Z",
     "iopub.status.idle": "2025-01-16T07:06:51.602197Z",
     "shell.execute_reply": "2025-01-16T07:06:51.601148Z"
    },
    "papermill": {
     "duration": 1.512419,
     "end_time": "2025-01-16T07:06:51.604295",
     "exception": false,
     "start_time": "2025-01-16T07:06:50.091876",
     "status": "completed"
    },
    "tags": []
   },
   "outputs": [],
   "source": [
    "import pandas as pd\n",
    "import numpy as np\n",
    "import optuna\n",
    "import catboost as cb\n",
    "import matplotlib\n",
    "import seaborn as sns\n",
    "from sklearn.metrics import mean_absolute_percentage_error\n",
    "from sklearn.model_selection import train_test_split\n",
    "from optuna.integration import CatBoostPruningCallback\n",
    "import pycountry \n",
    "import holidays\n",
    "\n",
    "\n"
   ]
  },
  {
   "cell_type": "code",
   "execution_count": 9,
   "id": "b0e8ef22",
   "metadata": {
    "execution": {
     "iopub.execute_input": "2025-01-16T07:06:51.634428Z",
     "iopub.status.busy": "2025-01-16T07:06:51.633906Z",
     "iopub.status.idle": "2025-01-16T07:06:52.303483Z",
     "shell.execute_reply": "2025-01-16T07:06:52.302402Z"
    },
    "papermill": {
     "duration": 0.686615,
     "end_time": "2025-01-16T07:06:52.305442",
     "exception": false,
     "start_time": "2025-01-16T07:06:51.618827",
     "status": "completed"
    },
    "tags": []
   },
   "outputs": [],
   "source": [
    "df_train=pd.read_csv('/kaggle/input/playground-series-s5e1/train.csv')\n",
    "df_test=pd.read_csv('/kaggle/input/playground-series-s5e1/test.csv')\n",
    "\n"
   ]
  },
  {
   "cell_type": "code",
   "execution_count": 10,
   "id": "8ab6c3b3",
   "metadata": {
    "execution": {
     "iopub.execute_input": "2025-01-16T07:06:52.335740Z",
     "iopub.status.busy": "2025-01-16T07:06:52.335321Z",
     "iopub.status.idle": "2025-01-16T07:06:52.412389Z",
     "shell.execute_reply": "2025-01-16T07:06:52.411107Z"
    },
    "papermill": {
     "duration": 0.094354,
     "end_time": "2025-01-16T07:06:52.414187",
     "exception": false,
     "start_time": "2025-01-16T07:06:52.319833",
     "status": "completed"
    },
    "tags": []
   },
   "outputs": [
    {
     "name": "stdout",
     "output_type": "stream",
     "text": [
      "<class 'pandas.core.frame.DataFrame'>\n",
      "RangeIndex: 230130 entries, 0 to 230129\n",
      "Data columns (total 6 columns):\n",
      " #   Column    Non-Null Count   Dtype  \n",
      "---  ------    --------------   -----  \n",
      " 0   id        230130 non-null  int64  \n",
      " 1   date      230130 non-null  object \n",
      " 2   country   230130 non-null  object \n",
      " 3   store     230130 non-null  object \n",
      " 4   product   230130 non-null  object \n",
      " 5   num_sold  221259 non-null  float64\n",
      "dtypes: float64(1), int64(1), object(4)\n",
      "memory usage: 10.5+ MB\n"
     ]
    }
   ],
   "source": [
    "df_train.info()"
   ]
  },
  {
   "cell_type": "code",
   "execution_count": 11,
   "id": "70e113d8",
   "metadata": {
    "execution": {
     "iopub.execute_input": "2025-01-16T07:06:52.444115Z",
     "iopub.status.busy": "2025-01-16T07:06:52.443728Z",
     "iopub.status.idle": "2025-01-16T07:06:52.466053Z",
     "shell.execute_reply": "2025-01-16T07:06:52.464925Z"
    },
    "papermill": {
     "duration": 0.039174,
     "end_time": "2025-01-16T07:06:52.467817",
     "exception": false,
     "start_time": "2025-01-16T07:06:52.428643",
     "status": "completed"
    },
    "tags": []
   },
   "outputs": [
    {
     "data": {
      "text/plain": [
       "array(['Discount Stickers', 'Stickers for Less', 'Premium Sticker Mart'],\n",
       "      dtype=object)"
      ]
     },
     "execution_count": 11,
     "metadata": {},
     "output_type": "execute_result"
    }
   ],
   "source": [
    "df_train['store'].unique()"
   ]
  },
  {
   "cell_type": "code",
   "execution_count": 12,
   "id": "45fa7ed3",
   "metadata": {
    "execution": {
     "iopub.execute_input": "2025-01-16T07:06:52.498636Z",
     "iopub.status.busy": "2025-01-16T07:06:52.498284Z",
     "iopub.status.idle": "2025-01-16T07:06:52.529791Z",
     "shell.execute_reply": "2025-01-16T07:06:52.528680Z"
    },
    "papermill": {
     "duration": 0.049019,
     "end_time": "2025-01-16T07:06:52.531686",
     "exception": false,
     "start_time": "2025-01-16T07:06:52.482667",
     "status": "completed"
    },
    "tags": []
   },
   "outputs": [
    {
     "data": {
      "text/plain": [
       "array(['Discount Stickers', 'Stickers for Less', 'Premium Sticker Mart'],\n",
       "      dtype=object)"
      ]
     },
     "execution_count": 12,
     "metadata": {},
     "output_type": "execute_result"
    }
   ],
   "source": [
    "df_train[df_train['country']=='Kenya']['store'].unique()"
   ]
  },
  {
   "cell_type": "code",
   "execution_count": 13,
   "id": "1565ad81",
   "metadata": {
    "execution": {
     "iopub.execute_input": "2025-01-16T07:06:52.562310Z",
     "iopub.status.busy": "2025-01-16T07:06:52.561929Z",
     "iopub.status.idle": "2025-01-16T07:06:52.579578Z",
     "shell.execute_reply": "2025-01-16T07:06:52.578471Z"
    },
    "papermill": {
     "duration": 0.034939,
     "end_time": "2025-01-16T07:06:52.581456",
     "exception": false,
     "start_time": "2025-01-16T07:06:52.546517",
     "status": "completed"
    },
    "tags": []
   },
   "outputs": [
    {
     "data": {
      "text/plain": [
       "array(['Holographic Goose', 'Kaggle', 'Kaggle Tiers', 'Kerneler',\n",
       "       'Kerneler Dark Mode'], dtype=object)"
      ]
     },
     "execution_count": 13,
     "metadata": {},
     "output_type": "execute_result"
    }
   ],
   "source": [
    "df_train['product'].unique()"
   ]
  },
  {
   "cell_type": "code",
   "execution_count": 14,
   "id": "1a82bd42",
   "metadata": {
    "execution": {
     "iopub.execute_input": "2025-01-16T07:06:52.612617Z",
     "iopub.status.busy": "2025-01-16T07:06:52.612246Z",
     "iopub.status.idle": "2025-01-16T07:06:53.725527Z",
     "shell.execute_reply": "2025-01-16T07:06:53.724418Z"
    },
    "papermill": {
     "duration": 1.131242,
     "end_time": "2025-01-16T07:06:53.727496",
     "exception": false,
     "start_time": "2025-01-16T07:06:52.596254",
     "status": "completed"
    },
    "tags": []
   },
   "outputs": [
    {
     "data": {
      "image/png": "[encoded data removed]",
      "text/plain": [
       "<Figure size 640x480 with 4 Axes>"
      ]
     },
     "metadata": {},
     "output_type": "display_data"
    }
   ],
   "source": [
    "### import pandas as pd\n",
    "import numpy as np\n",
    "from statsmodels.tsa.seasonal import seasonal_decompose\n",
    "import matplotlib.pyplot as plt\n",
    "\n",
    "# Generate synthetic time series data\n",
    "np.random.seed(42)\n",
    "#df_train['date']=pd.to_datetime(df_train['date'])\n",
    "#df_train=df_train.set_index('date')\n",
    "df=df_train['num_sold']\n",
    "\n",
    "#time = pd.date_range(start=df_train['date'].min, end=df_train['date'].max, periods=365, freq='D')\n",
    "#series = 10 + 0.05 * np.arange(100) + np.sin(2 * np.pi * time.dayofyear / 365) + np.random.normal(0, 1, 100)\n",
    "#df = pd.DataFrame({'date': time, 'value': series}).set_index('date')\n",
    "\n",
    "# Decompose time series\n",
    "decomposition = seasonal_decompose(\n",
    "    df_train[(df_train['country']=='Singapore') & \n",
    "    (df_train['date'].str.contains('2013')) &\n",
    "    (df_train['store']=='Premium Sticker Mart')]['num_sold'],\n",
    "    model='multiplicative', period=30)  # Set period according to data frequency\n",
    "\n",
    "# Plot components\n",
    "decomposition.plot()\n",
    "plt.show()\n"
   ]
  },
  {
   "cell_type": "code",
   "execution_count": 15,
   "id": "96351760",
   "metadata": {
    "execution": {
     "iopub.execute_input": "2025-01-16T07:06:53.761305Z",
     "iopub.status.busy": "2025-01-16T07:06:53.760769Z",
     "iopub.status.idle": "2025-01-16T07:06:53.765239Z",
     "shell.execute_reply": "2025-01-16T07:06:53.764110Z"
    },
    "papermill": {
     "duration": 0.023096,
     "end_time": "2025-01-16T07:06:53.767027",
     "exception": false,
     "start_time": "2025-01-16T07:06:53.743931",
     "status": "completed"
    },
    "tags": []
   },
   "outputs": [],
   "source": [
    "# temp=pd.concat([df_train['date'],df_train['num_sold']],axis=1)\n",
    "# sumsale2016=temp.groupby('date').mean().squeeze().loc['2013']\n",
    "# #sumsale2016\n",
    "# plot_periodogram(sumsale2016)"
   ]
  },
  {
   "cell_type": "code",
   "execution_count": 16,
   "id": "f740e2be",
   "metadata": {
    "execution": {
     "iopub.execute_input": "2025-01-16T07:06:53.800877Z",
     "iopub.status.busy": "2025-01-16T07:06:53.800495Z",
     "iopub.status.idle": "2025-01-16T07:06:55.273291Z",
     "shell.execute_reply": "2025-01-16T07:06:55.272128Z"
    },
    "papermill": {
     "duration": 1.494536,
     "end_time": "2025-01-16T07:06:55.278011",
     "exception": false,
     "start_time": "2025-01-16T07:06:53.783475",
     "status": "completed"
    },
    "tags": []
   },
   "outputs": [
    {
     "name": "stdout",
     "output_type": "stream",
     "text": [
      "ADF Statistic: -6.129147123657372\n",
      "p-value: 8.484833374009022e-08\n",
      "The series is stationary.\n"
     ]
    }
   ],
   "source": [
    "from statsmodels.tsa.stattools import adfuller\n",
    "\n",
    "# Perform ADF test\n",
    "adf_result = adfuller(df_train[(df_train['country']=='Singapore') & (df_train['store']=='Discount Stickers')]['num_sold'])\n",
    "\n",
    "# Print results\n",
    "print(\"ADF Statistic:\", adf_result[0])\n",
    "print(\"p-value:\", adf_result[1])\n",
    "if adf_result[1] < 0.05:\n",
    "    print(\"The series is stationary.\")\n",
    "else:\n",
    "    print(\"The series is not stationary.\")\n"
   ]
  },
  {
   "cell_type": "code",
   "execution_count": 17,
   "id": "916d734c",
   "metadata": {
    "execution": {
     "iopub.execute_input": "2025-01-16T07:06:55.377104Z",
     "iopub.status.busy": "2025-01-16T07:06:55.376168Z",
     "iopub.status.idle": "2025-01-16T07:06:55.440930Z",
     "shell.execute_reply": "2025-01-16T07:06:55.439548Z"
    },
    "papermill": {
     "duration": 0.119145,
     "end_time": "2025-01-16T07:06:55.445604",
     "exception": false,
     "start_time": "2025-01-16T07:06:55.326459",
     "status": "completed"
    },
    "tags": []
   },
   "outputs": [
    {
     "name": "stdout",
     "output_type": "stream",
     "text": [
      "KPSS Statistic: 0.7976600279714846\n",
      "p-value: 0.01\n",
      "The series is not stationary (has a trend).\n"
     ]
    },
    {
     "name": "stderr",
     "output_type": "stream",
     "text": [
      "<ipython-input-17-b1e5399dac4b>:4: InterpolationWarning: The test statistic is outside of the range of p-values available in the\n",
      "look-up table. The actual p-value is smaller than the p-value returned.\n",
      "\n",
      "  kpss_result = kpss(df_train[(df_train['country']=='Singapore') & (df_train['store']=='Discount Stickers')]['num_sold'], regression='c')\n"
     ]
    }
   ],
   "source": [
    "from statsmodels.tsa.stattools import kpss\n",
    "\n",
    "# Perform KPSS test\n",
    "kpss_result = kpss(df_train[(df_train['country']=='Singapore') & (df_train['store']=='Discount Stickers')]['num_sold'], regression='c')\n",
    "\n",
    "# Print results\n",
    "print(\"KPSS Statistic:\", kpss_result[0])\n",
    "print(\"p-value:\", kpss_result[1])\n",
    "if kpss_result[1] < 0.05:\n",
    "    print(\"The series is not stationary (has a trend).\")\n",
    "else:\n",
    "    print(\"The series is stationary.\")"
   ]
  },
  {
   "cell_type": "code",
   "execution_count": 18,
   "id": "26fca465",
   "metadata": {
    "execution": {
     "iopub.execute_input": "2025-01-16T07:06:55.543661Z",
     "iopub.status.busy": "2025-01-16T07:06:55.542973Z",
     "iopub.status.idle": "2025-01-16T07:06:55.605810Z",
     "shell.execute_reply": "2025-01-16T07:06:55.604381Z"
    },
    "papermill": {
     "duration": 0.114929,
     "end_time": "2025-01-16T07:06:55.607728",
     "exception": false,
     "start_time": "2025-01-16T07:06:55.492799",
     "status": "completed"
    },
    "tags": []
   },
   "outputs": [
    {
     "name": "stdout",
     "output_type": "stream",
     "text": [
      "<class 'pandas.core.frame.DataFrame'>\n",
      "RangeIndex: 230130 entries, 0 to 230129\n",
      "Data columns (total 6 columns):\n",
      " #   Column    Non-Null Count   Dtype  \n",
      "---  ------    --------------   -----  \n",
      " 0   id        230130 non-null  int64  \n",
      " 1   date      230130 non-null  object \n",
      " 2   country   230130 non-null  object \n",
      " 3   store     230130 non-null  object \n",
      " 4   product   230130 non-null  object \n",
      " 5   num_sold  221259 non-null  float64\n",
      "dtypes: float64(1), int64(1), object(4)\n",
      "memory usage: 10.5+ MB\n"
     ]
    }
   ],
   "source": [
    "df_train.info()"
   ]
  },
  {
   "cell_type": "code",
   "execution_count": 19,
   "id": "a7bfd49f",
   "metadata": {
    "execution": {
     "iopub.execute_input": "2025-01-16T07:06:55.642115Z",
     "iopub.status.busy": "2025-01-16T07:06:55.641721Z",
     "iopub.status.idle": "2025-01-16T07:06:59.075329Z",
     "shell.execute_reply": "2025-01-16T07:06:59.074138Z"
    },
    "papermill": {
     "duration": 3.454744,
     "end_time": "2025-01-16T07:06:59.079107",
     "exception": false,
     "start_time": "2025-01-16T07:06:55.624363",
     "status": "completed"
    },
    "tags": []
   },
   "outputs": [
    {
     "data": {
      "image/png": "[encoded data removed]",
      "text/plain": [
       "<Figure size 1200x800 with 6 Axes>"
      ]
     },
     "metadata": {},
     "output_type": "display_data"
    }
   ],
   "source": [
    "# Plot showing timeseries attributes: trend, seasonality \n",
    "\n",
    "# Create subplots: 2 rows, 3 columns\n",
    "fig, axes = plt.subplots(2, 3, figsize=(12, 8))\n",
    "\n",
    "# Flatten the axes array for easy iteration\n",
    "axes = axes.flatten()\n",
    "countrylist=df_train['country'].unique().tolist()\n",
    "# Loop through each subplot and plot\n",
    "for i, ax in enumerate(axes):\n",
    "    df=df_train[(df_train['country']==countrylist[i]) & (df_train['store']=='Discount Stickers')][['date','num_sold']]\n",
    "    df.dropna(inplace=True)\n",
    "    df.set_index('date',inplace=True)\n",
    "    df['rolling_mean'] = df['num_sold'].rolling(window=30).mean()\n",
    "    df['rolling_std'] = df['num_sold'].rolling(window=30).std()\n",
    "    df[['num_sold', 'rolling_mean', 'rolling_std']].plot(ax=ax,title=f'{countrylist[i]} Rolling Mean and Std Dev')\n",
    "\n",
    "plt.tight_layout()\n",
    "\n",
    "# Show the plot\n",
    "plt.show()\n",
    "    "
   ]
  },
  {
   "cell_type": "code",
   "execution_count": 20,
   "id": "37b99114",
   "metadata": {
    "execution": {
     "iopub.execute_input": "2025-01-16T07:06:59.123741Z",
     "iopub.status.busy": "2025-01-16T07:06:59.123348Z",
     "iopub.status.idle": "2025-01-16T07:06:59.164925Z",
     "shell.execute_reply": "2025-01-16T07:06:59.163767Z"
    },
    "papermill": {
     "duration": 0.065138,
     "end_time": "2025-01-16T07:06:59.166668",
     "exception": false,
     "start_time": "2025-01-16T07:06:59.101530",
     "status": "completed"
    },
    "tags": []
   },
   "outputs": [
    {
     "data": {
      "text/html": [
       "<div>\n",
       "<style scoped>\n",
       "    .dataframe tbody tr th:only-of-type {\n",
       "        vertical-align: middle;\n",
       "    }\n",
       "\n",
       "    .dataframe tbody tr th {\n",
       "        vertical-align: top;\n",
       "    }\n",
       "\n",
       "    .dataframe thead th {\n",
       "        text-align: right;\n",
       "    }\n",
       "</style>\n",
       "<table border=\"1\" class=\"dataframe\">\n",
       "  <thead>\n",
       "    <tr style=\"text-align: right;\">\n",
       "      <th></th>\n",
       "      <th>store</th>\n",
       "      <th>num_sold</th>\n",
       "    </tr>\n",
       "  </thead>\n",
       "  <tbody>\n",
       "    <tr>\n",
       "      <th>0</th>\n",
       "      <td>Discount Stickers</td>\n",
       "      <td>218.0</td>\n",
       "    </tr>\n",
       "    <tr>\n",
       "      <th>1</th>\n",
       "      <td>Premium Sticker Mart</td>\n",
       "      <td>NaN</td>\n",
       "    </tr>\n",
       "    <tr>\n",
       "      <th>2</th>\n",
       "      <td>Stickers for Less</td>\n",
       "      <td>NaN</td>\n",
       "    </tr>\n",
       "  </tbody>\n",
       "</table>\n",
       "</div>"
      ],
      "text/plain": [
       "                  store  num_sold\n",
       "0     Discount Stickers     218.0\n",
       "1  Premium Sticker Mart       NaN\n",
       "2     Stickers for Less       NaN"
      ]
     },
     "execution_count": 20,
     "metadata": {},
     "output_type": "execute_result"
    }
   ],
   "source": [
    "df_train.loc[df_train['country']=='Canada',['store','num_sold']].mode()"
   ]
  },
  {
   "cell_type": "code",
   "execution_count": 21,
   "id": "0f96cdfd",
   "metadata": {
    "execution": {
     "iopub.execute_input": "2025-01-16T07:06:59.209454Z",
     "iopub.status.busy": "2025-01-16T07:06:59.209036Z",
     "iopub.status.idle": "2025-01-16T07:06:59.276668Z",
     "shell.execute_reply": "2025-01-16T07:06:59.275545Z"
    },
    "papermill": {
     "duration": 0.091096,
     "end_time": "2025-01-16T07:06:59.278581",
     "exception": false,
     "start_time": "2025-01-16T07:06:59.187485",
     "status": "completed"
    },
    "tags": []
   },
   "outputs": [
    {
     "data": {
      "text/html": [
       "<div>\n",
       "<style scoped>\n",
       "    .dataframe tbody tr th:only-of-type {\n",
       "        vertical-align: middle;\n",
       "    }\n",
       "\n",
       "    .dataframe tbody tr th {\n",
       "        vertical-align: top;\n",
       "    }\n",
       "\n",
       "    .dataframe thead th {\n",
       "        text-align: right;\n",
       "    }\n",
       "</style>\n",
       "<table border=\"1\" class=\"dataframe\">\n",
       "  <thead>\n",
       "    <tr style=\"text-align: right;\">\n",
       "      <th></th>\n",
       "      <th></th>\n",
       "      <th>id</th>\n",
       "      <th>date</th>\n",
       "      <th>product</th>\n",
       "      <th>num_sold</th>\n",
       "    </tr>\n",
       "    <tr>\n",
       "      <th>country</th>\n",
       "      <th>store</th>\n",
       "      <th></th>\n",
       "      <th></th>\n",
       "      <th></th>\n",
       "      <th></th>\n",
       "    </tr>\n",
       "  </thead>\n",
       "  <tbody>\n",
       "    <tr>\n",
       "      <th rowspan=\"3\" valign=\"top\">Canada</th>\n",
       "      <th>Discount Stickers</th>\n",
       "      <td>2558</td>\n",
       "      <td>2558</td>\n",
       "      <td>2558</td>\n",
       "      <td>0</td>\n",
       "    </tr>\n",
       "    <tr>\n",
       "      <th>Premium Sticker Mart</th>\n",
       "      <td>380</td>\n",
       "      <td>380</td>\n",
       "      <td>380</td>\n",
       "      <td>0</td>\n",
       "    </tr>\n",
       "    <tr>\n",
       "      <th>Stickers for Less</th>\n",
       "      <td>1308</td>\n",
       "      <td>1308</td>\n",
       "      <td>1308</td>\n",
       "      <td>0</td>\n",
       "    </tr>\n",
       "    <tr>\n",
       "      <th rowspan=\"3\" valign=\"top\">Kenya</th>\n",
       "      <th>Discount Stickers</th>\n",
       "      <td>2621</td>\n",
       "      <td>2621</td>\n",
       "      <td>2621</td>\n",
       "      <td>0</td>\n",
       "    </tr>\n",
       "    <tr>\n",
       "      <th>Premium Sticker Mart</th>\n",
       "      <td>646</td>\n",
       "      <td>646</td>\n",
       "      <td>646</td>\n",
       "      <td>0</td>\n",
       "    </tr>\n",
       "    <tr>\n",
       "      <th>Stickers for Less</th>\n",
       "      <td>1358</td>\n",
       "      <td>1358</td>\n",
       "      <td>1358</td>\n",
       "      <td>0</td>\n",
       "    </tr>\n",
       "  </tbody>\n",
       "</table>\n",
       "</div>"
      ],
      "text/plain": [
       "                                id  date  product  num_sold\n",
       "country store                                              \n",
       "Canada  Discount Stickers     2558  2558     2558         0\n",
       "        Premium Sticker Mart   380   380      380         0\n",
       "        Stickers for Less     1308  1308     1308         0\n",
       "Kenya   Discount Stickers     2621  2621     2621         0\n",
       "        Premium Sticker Mart   646   646      646         0\n",
       "        Stickers for Less     1358  1358     1358         0"
      ]
     },
     "execution_count": 21,
     "metadata": {},
     "output_type": "execute_result"
    }
   ],
   "source": [
    "df_train.iloc[df_train[df_train.isna().any(axis=1)].index,:].groupby(by=['country','store']).count()"
   ]
  },
  {
   "cell_type": "code",
   "execution_count": 22,
   "id": "0c46c5d3",
   "metadata": {
    "execution": {
     "iopub.execute_input": "2025-01-16T07:06:59.322020Z",
     "iopub.status.busy": "2025-01-16T07:06:59.321673Z",
     "iopub.status.idle": "2025-01-16T07:06:59.326748Z",
     "shell.execute_reply": "2025-01-16T07:06:59.325877Z"
    },
    "papermill": {
     "duration": 0.028457,
     "end_time": "2025-01-16T07:06:59.328136",
     "exception": false,
     "start_time": "2025-01-16T07:06:59.299679",
     "status": "completed"
    },
    "tags": []
   },
   "outputs": [],
   "source": [
    "\n",
    "\n",
    "def get_alpha2_code(country_name):\n",
    "  \"\"\"\n",
    "  Gets the ISO 3166-1 Alpha-2 country code for the given country name.\n",
    "\n",
    "  Args:\n",
    "    country_name: The name of the country.\n",
    "\n",
    "  Returns:\n",
    "    The ISO 3166-1 Alpha-2 country code, or None if the country is not found.\n",
    "  \"\"\"\n",
    "  try:\n",
    "    country = pycountry.countries.search_fuzzy(country_name)[0]\n",
    "    return country.alpha_2\n",
    "  except LookupError:\n",
    "    return None\n",
    "\n"
   ]
  },
  {
   "cell_type": "code",
   "execution_count": 23,
   "id": "baa2c699",
   "metadata": {
    "execution": {
     "iopub.execute_input": "2025-01-16T07:06:59.371168Z",
     "iopub.status.busy": "2025-01-16T07:06:59.370780Z",
     "iopub.status.idle": "2025-01-16T07:06:59.375647Z",
     "shell.execute_reply": "2025-01-16T07:06:59.374723Z"
    },
    "papermill": {
     "duration": 0.028147,
     "end_time": "2025-01-16T07:06:59.377328",
     "exception": false,
     "start_time": "2025-01-16T07:06:59.349181",
     "status": "completed"
    },
    "tags": []
   },
   "outputs": [],
   "source": [
    "# Function to create holiday sets for each country\n",
    "def generate_country_holidays(countries, start_year, end_year):\n",
    "    country_holidays = {}\n",
    "    for country in countries:\n",
    "        # Generate a holiday set for the range of years\n",
    "        country_holidays[country] = holidays.CountryHoliday(country, years=range(start_year, end_year + 1)) \n",
    "    return country_holidays\n"
   ]
  },
  {
   "cell_type": "code",
   "execution_count": 24,
   "id": "2663ae88",
   "metadata": {
    "execution": {
     "iopub.execute_input": "2025-01-16T07:06:59.420202Z",
     "iopub.status.busy": "2025-01-16T07:06:59.419811Z",
     "iopub.status.idle": "2025-01-16T07:07:02.862547Z",
     "shell.execute_reply": "2025-01-16T07:07:02.861189Z"
    },
    "papermill": {
     "duration": 3.467297,
     "end_time": "2025-01-16T07:07:02.865472",
     "exception": false,
     "start_time": "2025-01-16T07:06:59.398175",
     "status": "completed"
    },
    "tags": []
   },
   "outputs": [],
   "source": [
    "df_train['Day']=pd.to_datetime(df_train['date']).dt.strftime(\"%d\")\n",
    "df_train['Month']=pd.to_datetime(df_train['date']).dt.strftime(\"%m\")\n",
    "df_train['Year']=pd.to_datetime(df_train['date']).dt.strftime(\"%Y\")\n",
    "df_train['Day_of_week']=pd.to_datetime(df_train['date']).dt.dayofweek\n",
    "df_train['Week_No']=pd.to_datetime(df_train['date']).dt.isocalendar().week\n",
    "df_train['is_weekend']=(df_train['Day_of_week']>=4).astype(int)\n",
    "df_train['Quarter_Discrete'] = (df_train['Month'].astype(int) - 1) // 3 + 1\n",
    "df_train['quarter_normalized'] = (df_train['Quarter_Discrete']-1)/3\n",
    "df_train['month_normalized']=(df_train['Month'].astype(int)-1)/11\n",
    "df_train['Month_Spline']=periodic_spline_transformer(12,4).fit_transform(df_train[['quarter_normalized']])[:,0]\n",
    "df_train['Quarter_Spline']=periodic_spline_transformer(4,4).fit_transform(df_train[['quarter_normalized']])[:,0]\n",
    "df_train['week_number_normalized'] = df_train['Week_No'] / df_train['Week_No'].max()\n",
    "df_train['Week_Spline']=periodic_spline_transformer(53,5).fit_transform(df_train[['week_number_normalized']])[:,0]"
   ]
  },
  {
   "cell_type": "code",
   "execution_count": 25,
   "id": "efb06a48",
   "metadata": {
    "execution": {
     "iopub.execute_input": "2025-01-16T07:07:02.921972Z",
     "iopub.status.busy": "2025-01-16T07:07:02.921420Z",
     "iopub.status.idle": "2025-01-16T07:07:02.926840Z",
     "shell.execute_reply": "2025-01-16T07:07:02.925851Z"
    },
    "papermill": {
     "duration": 0.034357,
     "end_time": "2025-01-16T07:07:02.928587",
     "exception": false,
     "start_time": "2025-01-16T07:07:02.894230",
     "status": "completed"
    },
    "tags": []
   },
   "outputs": [],
   "source": [
    "def consecutive_days_visited(df):\n",
    "    \"\"\"\n",
    "    Calculates the number of consecutive days a store was visited.\n",
    "\n",
    "    Args:\n",
    "        df: pandas DataFrame with columns 'date', 'country', 'store'\n",
    "\n",
    "    Returns:\n",
    "        pandas DataFrame with an additional column 'consecutive_days' \n",
    "    \"\"\"\n",
    "\n",
    "    # Ensure date index is sorted\n",
    "    df = df.sort_index()\n",
    "\n",
    "    # Group by 'country' and 'store'\n",
    "    grouped = df.groupby(['country', 'store'])\n",
    "\n",
    "    # Calculate consecutive days within each group\n",
    "    df['consecutive_days'] = (grouped.indices - grouped.indices.min()).dt.days + 1\n",
    "\n",
    "    return df\n"
   ]
  },
  {
   "cell_type": "code",
   "execution_count": 26,
   "id": "e190be4d",
   "metadata": {
    "execution": {
     "iopub.execute_input": "2025-01-16T07:07:02.972592Z",
     "iopub.status.busy": "2025-01-16T07:07:02.972217Z",
     "iopub.status.idle": "2025-01-16T07:07:03.150007Z",
     "shell.execute_reply": "2025-01-16T07:07:03.148689Z"
    },
    "papermill": {
     "duration": 0.201858,
     "end_time": "2025-01-16T07:07:03.151789",
     "exception": false,
     "start_time": "2025-01-16T07:07:02.949931",
     "status": "completed"
    },
    "tags": []
   },
   "outputs": [
    {
     "name": "stdout",
     "output_type": "stream",
     "text": [
      "['CA', 'FI', 'IT', 'KE', 'NO', 'SG']\n"
     ]
    }
   ],
   "source": [
    "allcountries=df_train['country'].unique()\n",
    "countrycodes = list(map(lambda x:get_alpha2_code(x),allcountries)) \n",
    "unique_countries = [cc for cc in countrycodes if cc is not None]\n",
    "print(countrycodes)"
   ]
  },
  {
   "cell_type": "code",
   "execution_count": 27,
   "id": "7a10c5cc",
   "metadata": {
    "execution": {
     "iopub.execute_input": "2025-01-16T07:07:03.195961Z",
     "iopub.status.busy": "2025-01-16T07:07:03.195515Z",
     "iopub.status.idle": "2025-01-16T07:07:03.297036Z",
     "shell.execute_reply": "2025-01-16T07:07:03.295883Z"
    },
    "papermill": {
     "duration": 0.125828,
     "end_time": "2025-01-16T07:07:03.298973",
     "exception": false,
     "start_time": "2025-01-16T07:07:03.173145",
     "status": "completed"
    },
    "tags": []
   },
   "outputs": [],
   "source": [
    "df_train['store']=df_train['store'].astype('category')\n",
    "df_train['country']=df_train['country'].astype('category')\n",
    "df_train['product']=df_train['product'].astype('category')\n",
    "df_train['Day']=df_train['Day'].astype('category')\n",
    "df_train['Month']=df_train['Month'].astype('category')\n",
    "df_train['Year']=df_train['Year'].astype('category')\n",
    "df_train['Day_of_week']=df_train['Day_of_week'].astype('category')\n"
   ]
  },
  {
   "cell_type": "code",
   "execution_count": 28,
   "id": "cb49950b",
   "metadata": {
    "execution": {
     "iopub.execute_input": "2025-01-16T07:07:03.342588Z",
     "iopub.status.busy": "2025-01-16T07:07:03.342230Z",
     "iopub.status.idle": "2025-01-16T07:07:04.808909Z",
     "shell.execute_reply": "2025-01-16T07:07:04.807885Z"
    },
    "papermill": {
     "duration": 1.490716,
     "end_time": "2025-01-16T07:07:04.810879",
     "exception": false,
     "start_time": "2025-01-16T07:07:03.320163",
     "status": "completed"
    },
    "tags": []
   },
   "outputs": [],
   "source": [
    "df_test['Day']=pd.to_datetime(df_test['date']).dt.strftime(\"%d\")\n",
    "df_test['Month']=pd.to_datetime(df_test['date']).dt.strftime(\"%m\")\n",
    "df_test['Year']=pd.to_datetime(df_test['date']).dt.strftime(\"%Y\")\n",
    "df_test['Day_of_week']=pd.to_datetime(df_test['date']).dt.dayofweek\n",
    "df_test['Week_No']=pd.to_datetime(df_test['date']).dt.isocalendar().week\n",
    "df_test['is_weekend']=(df_test['Day_of_week']>=4).astype(int)\n",
    "df_test['Quarter_Discrete'] = (df_test['Month'].astype(int) - 1) // 3 + 1\n",
    "df_test['quarter_normalized'] = (df_test['Quarter_Discrete']-1)/3\n",
    "df_test['month_normalized']=(df_test['Month'].astype(int)-1)/11\n",
    "df_test['Month_Spline']=periodic_spline_transformer(12,4).fit_transform(df_test[['quarter_normalized']])[:,0]\n",
    "df_test['Quarter_Spline']=periodic_spline_transformer(4,4).fit_transform(df_test[['quarter_normalized']])[:,0]\n",
    "df_test['week_number_normalized'] = df_test['Week_No'] / df_test['Week_No'].max()\n",
    "df_test['Week_Spline']=periodic_spline_transformer(53,5).fit_transform(df_test[['week_number_normalized']])[:,0]\n"
   ]
  },
  {
   "cell_type": "code",
   "execution_count": 29,
   "id": "e68b05dc",
   "metadata": {
    "execution": {
     "iopub.execute_input": "2025-01-16T07:07:04.856687Z",
     "iopub.status.busy": "2025-01-16T07:07:04.856333Z",
     "iopub.status.idle": "2025-01-16T07:07:04.874422Z",
     "shell.execute_reply": "2025-01-16T07:07:04.873437Z"
    },
    "papermill": {
     "duration": 0.043668,
     "end_time": "2025-01-16T07:07:04.876283",
     "exception": false,
     "start_time": "2025-01-16T07:07:04.832615",
     "status": "completed"
    },
    "tags": []
   },
   "outputs": [],
   "source": [
    "df_test.drop(['week_number_normalized','month_normalized','quarter_normalized'],axis=1,inplace=True)"
   ]
  },
  {
   "cell_type": "code",
   "execution_count": 30,
   "id": "b7df7c8f",
   "metadata": {
    "execution": {
     "iopub.execute_input": "2025-01-16T07:07:04.919960Z",
     "iopub.status.busy": "2025-01-16T07:07:04.919595Z",
     "iopub.status.idle": "2025-01-16T07:07:04.937248Z",
     "shell.execute_reply": "2025-01-16T07:07:04.936091Z"
    },
    "papermill": {
     "duration": 0.041829,
     "end_time": "2025-01-16T07:07:04.939278",
     "exception": false,
     "start_time": "2025-01-16T07:07:04.897449",
     "status": "completed"
    },
    "tags": []
   },
   "outputs": [],
   "source": [
    "df_train.drop(['week_number_normalized','month_normalized','quarter_normalized'],axis=1,inplace=True)"
   ]
  },
  {
   "cell_type": "code",
   "execution_count": 31,
   "id": "b550a9a2",
   "metadata": {
    "execution": {
     "iopub.execute_input": "2025-01-16T07:07:04.982936Z",
     "iopub.status.busy": "2025-01-16T07:07:04.982590Z",
     "iopub.status.idle": "2025-01-16T07:07:05.030819Z",
     "shell.execute_reply": "2025-01-16T07:07:05.029963Z"
    },
    "papermill": {
     "duration": 0.072263,
     "end_time": "2025-01-16T07:07:05.032612",
     "exception": false,
     "start_time": "2025-01-16T07:07:04.960349",
     "status": "completed"
    },
    "tags": []
   },
   "outputs": [],
   "source": [
    "df_test['store']=df_test['store'].astype('category')\n",
    "df_test['country']=df_test['country'].astype('category')\n",
    "df_test['product']=df_test['product'].astype('category')\n",
    "df_test['Day']=df_test['Day'].astype('category')\n",
    "df_test['Month']=df_test['Month'].astype('category')\n",
    "df_test['Year']=df_test['Year'].astype('category')\n",
    "df_test['Day_of_week']=df_test['Day_of_week'].astype('category')\n"
   ]
  },
  {
   "cell_type": "code",
   "execution_count": 32,
   "id": "7bbe3827",
   "metadata": {
    "execution": {
     "iopub.execute_input": "2025-01-16T07:07:05.076412Z",
     "iopub.status.busy": "2025-01-16T07:07:05.075990Z",
     "iopub.status.idle": "2025-01-16T07:07:05.117811Z",
     "shell.execute_reply": "2025-01-16T07:07:05.116987Z"
    },
    "papermill": {
     "duration": 0.065733,
     "end_time": "2025-01-16T07:07:05.119600",
     "exception": false,
     "start_time": "2025-01-16T07:07:05.053867",
     "status": "completed"
    },
    "tags": []
   },
   "outputs": [],
   "source": [
    "df_train['date']=pd.to_datetime(df_train['date'])\n",
    "df_test['date']=pd.to_datetime(df_test['date'])"
   ]
  },
  {
   "cell_type": "code",
   "execution_count": 33,
   "id": "f4dc5a62",
   "metadata": {
    "execution": {
     "iopub.execute_input": "2025-01-16T07:07:05.163013Z",
     "iopub.status.busy": "2025-01-16T07:07:05.162641Z",
     "iopub.status.idle": "2025-01-16T07:07:05.198621Z",
     "shell.execute_reply": "2025-01-16T07:07:05.197379Z"
    },
    "papermill": {
     "duration": 0.060179,
     "end_time": "2025-01-16T07:07:05.200657",
     "exception": false,
     "start_time": "2025-01-16T07:07:05.140478",
     "status": "completed"
    },
    "tags": []
   },
   "outputs": [
    {
     "name": "stderr",
     "output_type": "stream",
     "text": [
      "<ipython-input-33-a9a4f327ce0c>:1: FutureWarning: The default of observed=False is deprecated and will be changed to True in a future version of pandas. Pass observed=False to retain current behavior or observed=True to adopt the future default and silence this warning.\n",
      "  df_train['previous_visit']=df_train.reset_index().groupby(by=['country','store'])[['date']].diff()\n"
     ]
    }
   ],
   "source": [
    "df_train['previous_visit']=df_train.reset_index().groupby(by=['country','store'])[['date']].diff()"
   ]
  },
  {
   "cell_type": "code",
   "execution_count": 34,
   "id": "53df0e50",
   "metadata": {
    "execution": {
     "iopub.execute_input": "2025-01-16T07:07:05.244203Z",
     "iopub.status.busy": "2025-01-16T07:07:05.243778Z",
     "iopub.status.idle": "2025-01-16T07:07:05.259983Z",
     "shell.execute_reply": "2025-01-16T07:07:05.258845Z"
    },
    "papermill": {
     "duration": 0.039932,
     "end_time": "2025-01-16T07:07:05.261709",
     "exception": false,
     "start_time": "2025-01-16T07:07:05.221777",
     "status": "completed"
    },
    "tags": []
   },
   "outputs": [
    {
     "name": "stderr",
     "output_type": "stream",
     "text": [
      "<ipython-input-34-9b789beb13f0>:1: FutureWarning: The default of observed=False is deprecated and will be changed to True in a future version of pandas. Pass observed=False to retain current behavior or observed=True to adopt the future default and silence this warning.\n",
      "  df_train['consec_days']=df_train.groupby(by=['country','store'])[['previous_visit']].cumsum()\n"
     ]
    }
   ],
   "source": [
    "df_train['consec_days']=df_train.groupby(by=['country','store'])[['previous_visit']].cumsum()"
   ]
  },
  {
   "cell_type": "code",
   "execution_count": 35,
   "id": "6a749a63",
   "metadata": {
    "execution": {
     "iopub.execute_input": "2025-01-16T07:07:05.305172Z",
     "iopub.status.busy": "2025-01-16T07:07:05.304787Z",
     "iopub.status.idle": "2025-01-16T07:07:05.327728Z",
     "shell.execute_reply": "2025-01-16T07:07:05.326693Z"
    },
    "papermill": {
     "duration": 0.046875,
     "end_time": "2025-01-16T07:07:05.329633",
     "exception": false,
     "start_time": "2025-01-16T07:07:05.282758",
     "status": "completed"
    },
    "tags": []
   },
   "outputs": [
    {
     "name": "stderr",
     "output_type": "stream",
     "text": [
      "<ipython-input-35-b64440241ea2>:1: FutureWarning: The default of observed=False is deprecated and will be changed to True in a future version of pandas. Pass observed=False to retain current behavior or observed=True to adopt the future default and silence this warning.\n",
      "  df_test['previous_visit']=df_test.reset_index().groupby(by=['country','store'])[['date']].diff()\n",
      "<ipython-input-35-b64440241ea2>:2: FutureWarning: The default of observed=False is deprecated and will be changed to True in a future version of pandas. Pass observed=False to retain current behavior or observed=True to adopt the future default and silence this warning.\n",
      "  df_test['consec_days']=df_test.groupby(by=['country','store'])[['previous_visit']].cumsum()\n"
     ]
    }
   ],
   "source": [
    "df_test['previous_visit']=df_test.reset_index().groupby(by=['country','store'])[['date']].diff()\n",
    "df_test['consec_days']=df_test.groupby(by=['country','store'])[['previous_visit']].cumsum()"
   ]
  },
  {
   "cell_type": "code",
   "execution_count": 36,
   "id": "022a1554",
   "metadata": {
    "execution": {
     "iopub.execute_input": "2025-01-16T07:07:05.374313Z",
     "iopub.status.busy": "2025-01-16T07:07:05.373930Z",
     "iopub.status.idle": "2025-01-16T07:07:05.427184Z",
     "shell.execute_reply": "2025-01-16T07:07:05.426168Z"
    },
    "papermill": {
     "duration": 0.078145,
     "end_time": "2025-01-16T07:07:05.428874",
     "exception": false,
     "start_time": "2025-01-16T07:07:05.350729",
     "status": "completed"
    },
    "tags": []
   },
   "outputs": [],
   "source": [
    "df_train.set_index('date',inplace=True)\n",
    "Startmin=df_train.index.min()\n",
    "df_train['days_since_start'] = (df_train.index - Startmin).days\n",
    "\n",
    "# Add cycle hints based on time \n",
    "df_train['sin_year'] = np.sin(2 * np.pi * df_train['days_since_start'] / 365)\n",
    "df_train['cos_year'] = np.cos(2 * np.pi * df_train['days_since_start'] / 365)\n",
    "df_train['sin_month'] = np.sin(2 * np.pi * df_train['days_since_start'] / 30)\n",
    "df_train['cos_month'] = np.cos(2 * np.pi * df_train['days_since_start'] / 30)\n",
    "\n",
    "df_test.set_index('date',inplace=True)\n",
    "df_test['days_since_start'] = (df_test.index - Startmin).days\n",
    "\n",
    "# Add cycle hints based on time \n",
    "df_test['sin_year'] = np.sin(2 * np.pi * df_test['days_since_start'] / 365)\n",
    "df_test['cos_year'] = np.cos(2 * np.pi * df_test['days_since_start'] / 365)\n",
    "df_test['sin_month'] = np.sin(2 * np.pi * df_test['days_since_start'] / 30)\n",
    "df_test['cos_month'] = np.cos(2 * np.pi * df_test['days_since_start'] / 30)\n",
    "\n",
    "df_train.reset_index(inplace=True)\n",
    "df_test.reset_index(inplace=True)"
   ]
  },
  {
   "cell_type": "code",
   "execution_count": 37,
   "id": "b40884ac",
   "metadata": {
    "execution": {
     "iopub.execute_input": "2025-01-16T07:07:05.472250Z",
     "iopub.status.busy": "2025-01-16T07:07:05.471801Z",
     "iopub.status.idle": "2025-01-16T07:07:05.501517Z",
     "shell.execute_reply": "2025-01-16T07:07:05.500199Z"
    },
    "papermill": {
     "duration": 0.053406,
     "end_time": "2025-01-16T07:07:05.503374",
     "exception": false,
     "start_time": "2025-01-16T07:07:05.449968",
     "status": "completed"
    },
    "tags": []
   },
   "outputs": [
    {
     "name": "stdout",
     "output_type": "stream",
     "text": [
      "<class 'pandas.core.frame.DataFrame'>\n",
      "RangeIndex: 230130 entries, 0 to 230129\n",
      "Data columns (total 23 columns):\n",
      " #   Column            Non-Null Count   Dtype          \n",
      "---  ------            --------------   -----          \n",
      " 0   date              230130 non-null  datetime64[ns] \n",
      " 1   id                230130 non-null  int64          \n",
      " 2   country           230130 non-null  category       \n",
      " 3   store             230130 non-null  category       \n",
      " 4   product           230130 non-null  category       \n",
      " 5   num_sold          221259 non-null  float64        \n",
      " 6   Day               230130 non-null  category       \n",
      " 7   Month             230130 non-null  category       \n",
      " 8   Year              230130 non-null  category       \n",
      " 9   Day_of_week       230130 non-null  category       \n",
      " 10  Week_No           230130 non-null  UInt32         \n",
      " 11  is_weekend        230130 non-null  int64          \n",
      " 12  Quarter_Discrete  230130 non-null  int64          \n",
      " 13  Month_Spline      230130 non-null  float64        \n",
      " 14  Quarter_Spline    230130 non-null  float64        \n",
      " 15  Week_Spline       230130 non-null  float64        \n",
      " 16  previous_visit    230112 non-null  timedelta64[ns]\n",
      " 17  consec_days       230112 non-null  timedelta64[ns]\n",
      " 18  days_since_start  230130 non-null  int64          \n",
      " 19  sin_year          230130 non-null  float64        \n",
      " 20  cos_year          230130 non-null  float64        \n",
      " 21  sin_month         230130 non-null  float64        \n",
      " 22  cos_month         230130 non-null  float64        \n",
      "dtypes: UInt32(1), category(7), datetime64[ns](1), float64(8), int64(4), timedelta64[ns](2)\n",
      "memory usage: 29.0 MB\n"
     ]
    }
   ],
   "source": [
    "df_train.info()"
   ]
  },
  {
   "cell_type": "code",
   "execution_count": 38,
   "id": "10fdcb1c",
   "metadata": {
    "execution": {
     "iopub.execute_input": "2025-01-16T07:07:05.548132Z",
     "iopub.status.busy": "2025-01-16T07:07:05.547722Z",
     "iopub.status.idle": "2025-01-16T07:07:05.827693Z",
     "shell.execute_reply": "2025-01-16T07:07:05.826515Z"
    },
    "papermill": {
     "duration": 0.304493,
     "end_time": "2025-01-16T07:07:05.829596",
     "exception": false,
     "start_time": "2025-01-16T07:07:05.525103",
     "status": "completed"
    },
    "tags": []
   },
   "outputs": [],
   "source": [
    "#Get country\n",
    "\n",
    "#Get holidays for each country\n",
    "#allcountries.append(\"weirdcountry\")\n",
    "country_holidays={}\n",
    "\n",
    "#df_train['date']=pd.to_datetime(df_train['date'])\n",
    "start_year = df_train['date'].dt.year.min()\n",
    "end_year = df_train['date'].dt.year.max()\n",
    "\n",
    "country_holidays = generate_country_holidays(unique_countries, start_year, end_year)\n",
    "holiday_df = pd.DataFrame([\n",
    "    {'date': date, 'country_code': country, 'country': cname}\n",
    "    for country in unique_countries\n",
    "    for date in country_holidays[country]\n",
    "    for cname in [pycountry.countries.get(alpha_2=cc).name for cc in unique_countries]]\n",
    ")\n",
    "holiday_df['is_holiday'] = 1\n",
    "holiday_df['date']=pd.to_datetime(holiday_df['date'])\n",
    "holiday_df.drop('country_code',axis=1,inplace=True)\n",
    "\n",
    "df_train = df_train.merge(holiday_df, on=['date', 'country'], how='left').fillna({'is_holiday': 0})"
   ]
  },
  {
   "cell_type": "code",
   "execution_count": 39,
   "id": "6d2e7fa8",
   "metadata": {
    "execution": {
     "iopub.execute_input": "2025-01-16T07:07:05.875285Z",
     "iopub.status.busy": "2025-01-16T07:07:05.874869Z",
     "iopub.status.idle": "2025-01-16T07:07:05.905633Z",
     "shell.execute_reply": "2025-01-16T07:07:05.904465Z"
    },
    "papermill": {
     "duration": 0.055013,
     "end_time": "2025-01-16T07:07:05.907407",
     "exception": false,
     "start_time": "2025-01-16T07:07:05.852394",
     "status": "completed"
    },
    "tags": []
   },
   "outputs": [
    {
     "data": {
      "text/plain": [
       "<bound method Series.max of 600         1 days\n",
       "690         2 days\n",
       "780         3 days\n",
       "870         4 days\n",
       "1020        5 days\n",
       "            ...   \n",
       "249360   2552 days\n",
       "249450   2553 days\n",
       "249540   2554 days\n",
       "249630   2555 days\n",
       "249720   2556 days\n",
       "Name: consec_days, Length: 2769, dtype: timedelta64[ns]>"
      ]
     },
     "execution_count": 39,
     "metadata": {},
     "output_type": "execute_result"
    }
   ],
   "source": [
    "df_train[(df_train['country']=='Norway') & (df_train['store']=='Discount Stickers') & (df_train['previous_visit'].astype('int')>0)].consec_days.max"
   ]
  },
  {
   "cell_type": "code",
   "execution_count": 40,
   "id": "6cab3fb2",
   "metadata": {
    "execution": {
     "iopub.execute_input": "2025-01-16T07:07:05.951943Z",
     "iopub.status.busy": "2025-01-16T07:07:05.951568Z",
     "iopub.status.idle": "2025-01-16T07:07:06.026719Z",
     "shell.execute_reply": "2025-01-16T07:07:06.025539Z"
    },
    "papermill": {
     "duration": 0.099567,
     "end_time": "2025-01-16T07:07:06.028684",
     "exception": false,
     "start_time": "2025-01-16T07:07:05.929117",
     "status": "completed"
    },
    "tags": []
   },
   "outputs": [],
   "source": [
    "start_year = df_test['date'].dt.year.min()\n",
    "end_year = df_test['date'].dt.year.max()\n",
    "#unique_countries = [cc for cc in countrycodes if cc is not None]\n",
    "country_holidays = generate_country_holidays(unique_countries, start_year, end_year)\n",
    "\n",
    "holiday_df = pd.DataFrame([\n",
    "    {'date': date, 'country_code': country, 'country': cname}\n",
    "    for country in unique_countries\n",
    "    for date in country_holidays[country]\n",
    "    for cname in [pycountry.countries.get(alpha_2=cc).name for cc in unique_countries]]\n",
    ")\n",
    "holiday_df['is_holiday']=1\n",
    "holiday_df['date']=pd.to_datetime(holiday_df['date'])\n",
    "holiday_df.drop('country_code',axis=1,inplace=True)\n",
    "\n",
    "df_test = df_test.merge(holiday_df, on=['date', 'country'], how='left').fillna({'is_holiday': 0})\n"
   ]
  },
  {
   "cell_type": "code",
   "execution_count": 41,
   "id": "b4888934",
   "metadata": {
    "execution": {
     "iopub.execute_input": "2025-01-16T07:07:06.073495Z",
     "iopub.status.busy": "2025-01-16T07:07:06.073117Z",
     "iopub.status.idle": "2025-01-16T07:07:06.081715Z",
     "shell.execute_reply": "2025-01-16T07:07:06.080799Z"
    },
    "papermill": {
     "duration": 0.033194,
     "end_time": "2025-01-16T07:07:06.083338",
     "exception": false,
     "start_time": "2025-01-16T07:07:06.050144",
     "status": "completed"
    },
    "tags": []
   },
   "outputs": [
    {
     "data": {
      "text/plain": [
       "is_holiday\n",
       "0    88290\n",
       "1    18270\n",
       "Name: count, dtype: int64"
      ]
     },
     "execution_count": 41,
     "metadata": {},
     "output_type": "execute_result"
    }
   ],
   "source": [
    "df_test['is_holiday']=df_test['is_holiday'].astype(int)\n",
    "df_test['is_holiday'].value_counts()"
   ]
  },
  {
   "cell_type": "code",
   "execution_count": 42,
   "id": "8994c65f",
   "metadata": {
    "execution": {
     "iopub.execute_input": "2025-01-16T07:07:06.127704Z",
     "iopub.status.busy": "2025-01-16T07:07:06.127346Z",
     "iopub.status.idle": "2025-01-16T07:07:06.132172Z",
     "shell.execute_reply": "2025-01-16T07:07:06.131202Z"
    },
    "papermill": {
     "duration": 0.028644,
     "end_time": "2025-01-16T07:07:06.133614",
     "exception": false,
     "start_time": "2025-01-16T07:07:06.104970",
     "status": "completed"
    },
    "tags": []
   },
   "outputs": [],
   "source": [
    "df_train.set_index('date',inplace=True)\n",
    "#df_test.set_index('date',inplace=True)"
   ]
  },
  {
   "cell_type": "code",
   "execution_count": 43,
   "id": "9f1ef519",
   "metadata": {
    "execution": {
     "iopub.execute_input": "2025-01-16T07:07:06.177658Z",
     "iopub.status.busy": "2025-01-16T07:07:06.177305Z",
     "iopub.status.idle": "2025-01-16T07:07:06.181215Z",
     "shell.execute_reply": "2025-01-16T07:07:06.180136Z"
    },
    "papermill": {
     "duration": 0.027731,
     "end_time": "2025-01-16T07:07:06.182857",
     "exception": false,
     "start_time": "2025-01-16T07:07:06.155126",
     "status": "completed"
    },
    "tags": []
   },
   "outputs": [],
   "source": [
    "#Graph for intrpolate is changing too much\n",
    "#Not interpolate but just drop Na is better\n",
    "#Interpolate missing num_sold\n",
    "\n",
    "#df_train['date']=pd.to_datetime(df_train['date'])\n",
    "#df = df_train.set_index('date')\n",
    "\n",
    "# df_train = df_train.sort_values(by=['country', 'store', 'product', 'date'])\n",
    "\n",
    "# # Impute NaN with interpolation (grouped by Country, Store, and Product)\n",
    "# df_train['num_sold'] = df_train.groupby(['country', 'store', 'product'])['num_sold'].transform(\n",
    "#     lambda group: group.interpolate(method='linear',limit=None,limit_direction='both').ffill().bfill()\n",
    "# )\n",
    "#df['num_sold'].isna().any()"
   ]
  },
  {
   "cell_type": "code",
   "execution_count": 44,
   "id": "fed26e49",
   "metadata": {
    "execution": {
     "iopub.execute_input": "2025-01-16T07:07:06.227225Z",
     "iopub.status.busy": "2025-01-16T07:07:06.226798Z",
     "iopub.status.idle": "2025-01-16T07:07:06.230866Z",
     "shell.execute_reply": "2025-01-16T07:07:06.229882Z"
    },
    "papermill": {
     "duration": 0.027806,
     "end_time": "2025-01-16T07:07:06.232583",
     "exception": false,
     "start_time": "2025-01-16T07:07:06.204777",
     "status": "completed"
    },
    "tags": []
   },
   "outputs": [],
   "source": [
    "#condition = (df.num_sold.notna()) & (df['country']=='Canada') & (df['store']=='Discount Stickers') & (df['product']=='Holographic Goose')\n",
    "#df[condition]\n"
   ]
  },
  {
   "cell_type": "code",
   "execution_count": 45,
   "id": "c1e0ed6e",
   "metadata": {
    "execution": {
     "iopub.execute_input": "2025-01-16T07:07:06.276771Z",
     "iopub.status.busy": "2025-01-16T07:07:06.276398Z",
     "iopub.status.idle": "2025-01-16T07:07:06.280039Z",
     "shell.execute_reply": "2025-01-16T07:07:06.279103Z"
    },
    "papermill": {
     "duration": 0.027619,
     "end_time": "2025-01-16T07:07:06.281661",
     "exception": false,
     "start_time": "2025-01-16T07:07:06.254042",
     "status": "completed"
    },
    "tags": []
   },
   "outputs": [],
   "source": [
    "##Get num_sold NaN product store and country\n",
    "#t=df[df.num_sold.isna()].groupby(['country','store','product'])['product'].value_counts().to_dict()"
   ]
  },
  {
   "cell_type": "code",
   "execution_count": 46,
   "id": "8281fe95",
   "metadata": {
    "execution": {
     "iopub.execute_input": "2025-01-16T07:07:06.326490Z",
     "iopub.status.busy": "2025-01-16T07:07:06.326152Z",
     "iopub.status.idle": "2025-01-16T07:07:06.329767Z",
     "shell.execute_reply": "2025-01-16T07:07:06.328857Z"
    },
    "papermill": {
     "duration": 0.027534,
     "end_time": "2025-01-16T07:07:06.331449",
     "exception": false,
     "start_time": "2025-01-16T07:07:06.303915",
     "status": "completed"
    },
    "tags": []
   },
   "outputs": [],
   "source": [
    "#Country store and product that have NaN\n",
    "# for  k,v in t.items():\n",
    "#     if v!=0:\n",
    "#         print(k,v)"
   ]
  },
  {
   "cell_type": "code",
   "execution_count": 47,
   "id": "00ffc282",
   "metadata": {
    "execution": {
     "iopub.execute_input": "2025-01-16T07:07:06.375719Z",
     "iopub.status.busy": "2025-01-16T07:07:06.375366Z",
     "iopub.status.idle": "2025-01-16T07:07:06.409186Z",
     "shell.execute_reply": "2025-01-16T07:07:06.407651Z"
    },
    "papermill": {
     "duration": 0.058293,
     "end_time": "2025-01-16T07:07:06.411192",
     "exception": false,
     "start_time": "2025-01-16T07:07:06.352899",
     "status": "completed"
    },
    "tags": []
   },
   "outputs": [
    {
     "name": "stdout",
     "output_type": "stream",
     "text": [
      "Mean\n",
      "country\n",
      "Canada       242.974170\n",
      "Finland      179.209850\n",
      "Italy        129.627508\n",
      "Kenya          5.800233\n",
      "Norway       341.143664\n",
      "Singapore    206.325646\n",
      "Name: num_sold, dtype: float64\n",
      "Median\n",
      "country\n",
      "Canada       235.0\n",
      "Finland      190.0\n",
      "Italy        137.0\n",
      "Kenya          6.0\n",
      "Norway       353.0\n",
      "Singapore    219.0\n",
      "Name: num_sold, dtype: float64\n",
      "Mode\n",
      "country\n",
      "Canada       218.0\n",
      "Finland       91.0\n",
      "Italy         64.0\n",
      "Kenya          5.0\n",
      "Norway       171.0\n",
      "Singapore    107.0\n",
      "Name: num_sold, dtype: float64\n",
      "Min\n",
      "country\n",
      "Canada       200.0\n",
      "Finland       65.0\n",
      "Italy         44.0\n",
      "Kenya          5.0\n",
      "Norway       105.0\n",
      "Singapore     69.0\n",
      "Name: num_sold, dtype: float64\n",
      "Max\n",
      "country\n",
      "Canada       449.0\n",
      "Finland      491.0\n",
      "Italy        318.0\n",
      "Kenya         11.0\n",
      "Norway       908.0\n",
      "Singapore    469.0\n",
      "Name: num_sold, dtype: float64\n"
     ]
    }
   ],
   "source": [
    "#Find Holographic Goose num_sold in each country\n",
    "nan_product = df_train[(df_train['product']=='Holographic Goose') & (df_train['num_sold'].notna())].groupby(['country'])['num_sold']\n",
    "print(\"Mean\")\n",
    "print(nan_product.mean())\n",
    "print(\"Median\")\n",
    "print(nan_product.median())\n",
    "print(\"Mode\")\n",
    "print(nan_product.agg(pd.Series.mode))\n",
    "print(\"Min\")\n",
    "print(nan_product.min())\n",
    "print(\"Max\")\n",
    "print(nan_product.max())"
   ]
  },
  {
   "cell_type": "markdown",
   "id": "a6eebc5d",
   "metadata": {
    "papermill": {
     "duration": 0.021186,
     "end_time": "2025-01-16T07:07:06.454194",
     "exception": false,
     "start_time": "2025-01-16T07:07:06.433008",
     "status": "completed"
    },
    "tags": []
   },
   "source": [
    "Impute Canana NaN with 218.0 \n",
    "Impute Kenya NaN with 5.0"
   ]
  },
  {
   "cell_type": "code",
   "execution_count": 48,
   "id": "76b26885",
   "metadata": {
    "execution": {
     "iopub.execute_input": "2025-01-16T07:07:06.498471Z",
     "iopub.status.busy": "2025-01-16T07:07:06.498117Z",
     "iopub.status.idle": "2025-01-16T07:07:06.542531Z",
     "shell.execute_reply": "2025-01-16T07:07:06.541614Z"
    },
    "papermill": {
     "duration": 0.06887,
     "end_time": "2025-01-16T07:07:06.544460",
     "exception": false,
     "start_time": "2025-01-16T07:07:06.475590",
     "status": "completed"
    },
    "tags": []
   },
   "outputs": [],
   "source": [
    "df_train['previous_visit'].fillna(pd.to_timedelta(0),inplace=True)\n",
    "df_train['consec_days'].fillna(pd.to_timedelta(0),inplace=True)\n",
    "df_test['previous_visit'].fillna(pd.to_timedelta(0),inplace=True)\n",
    "df_test['consec_days'].fillna(pd.to_timedelta(0),inplace=True)\n",
    "\n",
    "df_train.dropna(inplace=True)\n",
    "#df_test.dropna(inplace=True)"
   ]
  },
  {
   "cell_type": "code",
   "execution_count": 49,
   "id": "16927379",
   "metadata": {
    "execution": {
     "iopub.execute_input": "2025-01-16T07:07:06.589506Z",
     "iopub.status.busy": "2025-01-16T07:07:06.588911Z",
     "iopub.status.idle": "2025-01-16T07:07:06.633791Z",
     "shell.execute_reply": "2025-01-16T07:07:06.632609Z"
    },
    "papermill": {
     "duration": 0.069603,
     "end_time": "2025-01-16T07:07:06.635731",
     "exception": false,
     "start_time": "2025-01-16T07:07:06.566128",
     "status": "completed"
    },
    "tags": []
   },
   "outputs": [],
   "source": [
    "#Impute Canada with 218\n",
    "df_train.loc[df_train['country']=='Canada',['num_sold']]=df_train.loc[df_train['country']=='Canada',['num_sold']].fillna(218.0)"
   ]
  },
  {
   "cell_type": "code",
   "execution_count": 50,
   "id": "74b97ff6",
   "metadata": {
    "execution": {
     "iopub.execute_input": "2025-01-16T07:07:06.680336Z",
     "iopub.status.busy": "2025-01-16T07:07:06.679944Z",
     "iopub.status.idle": "2025-01-16T07:07:06.725274Z",
     "shell.execute_reply": "2025-01-16T07:07:06.724105Z"
    },
    "papermill": {
     "duration": 0.069856,
     "end_time": "2025-01-16T07:07:06.727263",
     "exception": false,
     "start_time": "2025-01-16T07:07:06.657407",
     "status": "completed"
    },
    "tags": []
   },
   "outputs": [],
   "source": [
    "#Impute Kenya with 5\n",
    "df_train.loc[df_train['country']=='Kenya',['num_sold']]=df_train.loc[df_train['country']=='Kenya',['num_sold']].fillna(5.0)"
   ]
  },
  {
   "cell_type": "code",
   "execution_count": 51,
   "id": "a30f0237",
   "metadata": {
    "execution": {
     "iopub.execute_input": "2025-01-16T07:07:06.772188Z",
     "iopub.status.busy": "2025-01-16T07:07:06.771763Z",
     "iopub.status.idle": "2025-01-16T07:07:06.775666Z",
     "shell.execute_reply": "2025-01-16T07:07:06.774658Z"
    },
    "papermill": {
     "duration": 0.028163,
     "end_time": "2025-01-16T07:07:06.777391",
     "exception": false,
     "start_time": "2025-01-16T07:07:06.749228",
     "status": "completed"
    },
    "tags": []
   },
   "outputs": [],
   "source": [
    "# nsmode = df_train['num_sold'].mode()\n",
    "# df_train['num_sold']=df_train['num_sold'].fillna(nsmode[0])"
   ]
  },
  {
   "cell_type": "code",
   "execution_count": 52,
   "id": "ea4e8a08",
   "metadata": {
    "execution": {
     "iopub.execute_input": "2025-01-16T07:07:06.822046Z",
     "iopub.status.busy": "2025-01-16T07:07:06.821682Z",
     "iopub.status.idle": "2025-01-16T07:07:06.850441Z",
     "shell.execute_reply": "2025-01-16T07:07:06.848925Z"
    },
    "papermill": {
     "duration": 0.05387,
     "end_time": "2025-01-16T07:07:06.852830",
     "exception": false,
     "start_time": "2025-01-16T07:07:06.798960",
     "status": "completed"
    },
    "tags": []
   },
   "outputs": [],
   "source": [
    "#Get date back to feature after interpolation\n",
    "df_train=df_train.reset_index()"
   ]
  },
  {
   "cell_type": "code",
   "execution_count": 53,
   "id": "c317309e",
   "metadata": {
    "execution": {
     "iopub.execute_input": "2025-01-16T07:07:06.898340Z",
     "iopub.status.busy": "2025-01-16T07:07:06.897923Z",
     "iopub.status.idle": "2025-01-16T07:07:06.931550Z",
     "shell.execute_reply": "2025-01-16T07:07:06.930289Z"
    },
    "papermill": {
     "duration": 0.058902,
     "end_time": "2025-01-16T07:07:06.933509",
     "exception": false,
     "start_time": "2025-01-16T07:07:06.874607",
     "status": "completed"
    },
    "tags": []
   },
   "outputs": [
    {
     "name": "stdout",
     "output_type": "stream",
     "text": [
      "<class 'pandas.core.frame.DataFrame'>\n",
      "RangeIndex: 240265 entries, 0 to 240264\n",
      "Data columns (total 24 columns):\n",
      " #   Column            Non-Null Count   Dtype          \n",
      "---  ------            --------------   -----          \n",
      " 0   date              240265 non-null  datetime64[ns] \n",
      " 1   id                240265 non-null  int64          \n",
      " 2   country           240265 non-null  object         \n",
      " 3   store             240265 non-null  category       \n",
      " 4   product           240265 non-null  category       \n",
      " 5   num_sold          240265 non-null  float64        \n",
      " 6   Day               240265 non-null  category       \n",
      " 7   Month             240265 non-null  category       \n",
      " 8   Year              240265 non-null  category       \n",
      " 9   Day_of_week       240265 non-null  category       \n",
      " 10  Week_No           240265 non-null  UInt32         \n",
      " 11  is_weekend        240265 non-null  int64          \n",
      " 12  Quarter_Discrete  240265 non-null  int64          \n",
      " 13  Month_Spline      240265 non-null  float64        \n",
      " 14  Quarter_Spline    240265 non-null  float64        \n",
      " 15  Week_Spline       240265 non-null  float64        \n",
      " 16  previous_visit    240265 non-null  timedelta64[ns]\n",
      " 17  consec_days       240265 non-null  timedelta64[ns]\n",
      " 18  days_since_start  240265 non-null  int64          \n",
      " 19  sin_year          240265 non-null  float64        \n",
      " 20  cos_year          240265 non-null  float64        \n",
      " 21  sin_month         240265 non-null  float64        \n",
      " 22  cos_month         240265 non-null  float64        \n",
      " 23  is_holiday        240265 non-null  float64        \n",
      "dtypes: UInt32(1), category(6), datetime64[ns](1), float64(9), int64(4), object(1), timedelta64[ns](2)\n",
      "memory usage: 33.7+ MB\n"
     ]
    }
   ],
   "source": [
    "df_train.info()"
   ]
  },
  {
   "cell_type": "code",
   "execution_count": 54,
   "id": "df3367d3",
   "metadata": {
    "execution": {
     "iopub.execute_input": "2025-01-16T07:07:06.979398Z",
     "iopub.status.busy": "2025-01-16T07:07:06.978960Z",
     "iopub.status.idle": "2025-01-16T07:07:07.018766Z",
     "shell.execute_reply": "2025-01-16T07:07:07.017927Z"
    },
    "papermill": {
     "duration": 0.06475,
     "end_time": "2025-01-16T07:07:07.020654",
     "exception": false,
     "start_time": "2025-01-16T07:07:06.955904",
     "status": "completed"
    },
    "tags": []
   },
   "outputs": [],
   "source": [
    "df_train['is_holiday']=df_train['is_holiday'].astype('int')\n",
    "df_train['previous_visit']=pd.to_numeric(df_train['previous_visit'].dt.days,errors='coerce')\n",
    "df_train['consec_days']=pd.to_numeric(df_train['consec_days'].dt.days,errors='coerce')\n",
    "df_train['country']=df_train['country'].astype('category')\n",
    "\n",
    "df_test['is_holiday']=df_test['is_holiday'].astype('int')\n",
    "df_test['previous_visit']=pd.to_numeric(df_test['previous_visit'].dt.days,errors='coerce')\n",
    "df_test['consec_days']=pd.to_numeric(df_test['consec_days'].dt.days,errors='coerce')\n",
    "df_test['country']=df_test['country'].astype('category')"
   ]
  },
  {
   "cell_type": "code",
   "execution_count": 55,
   "id": "27e4745f",
   "metadata": {
    "execution": {
     "iopub.execute_input": "2025-01-16T07:07:07.066272Z",
     "iopub.status.busy": "2025-01-16T07:07:07.065858Z",
     "iopub.status.idle": "2025-01-16T07:07:07.075637Z",
     "shell.execute_reply": "2025-01-16T07:07:07.074693Z"
    },
    "papermill": {
     "duration": 0.034571,
     "end_time": "2025-01-16T07:07:07.077576",
     "exception": false,
     "start_time": "2025-01-16T07:07:07.043005",
     "status": "completed"
    },
    "tags": []
   },
   "outputs": [],
   "source": [
    "#log transform target\n",
    "df_train['num_sold']=np.log1p(df_train['num_sold']) \n"
   ]
  },
  {
   "cell_type": "code",
   "execution_count": 56,
   "id": "4b57e803",
   "metadata": {
    "execution": {
     "iopub.execute_input": "2025-01-16T07:07:07.123549Z",
     "iopub.status.busy": "2025-01-16T07:07:07.123166Z",
     "iopub.status.idle": "2025-01-16T07:07:07.931767Z",
     "shell.execute_reply": "2025-01-16T07:07:07.930638Z"
    },
    "papermill": {
     "duration": 0.833628,
     "end_time": "2025-01-16T07:07:07.933439",
     "exception": false,
     "start_time": "2025-01-16T07:07:07.099811",
     "status": "completed"
    },
    "tags": []
   },
   "outputs": [
    {
     "name": "stdout",
     "output_type": "stream",
     "text": [
      "Canada train date 2010-01-01 00:00:00 to 2015-07-18 00:00:00\n",
      "Canada train loc  0 to 190498\n",
      "Canada valid date 2015-07-18 00:00:00 to 2016-12-31 00:00:00\n",
      "Canada valid loc 190499 to 240190\n",
      "Finland train date 2010-01-01 00:00:00 to 2015-08-04 00:00:00\n",
      "Finland train loc  84 to 191972\n",
      "Finland valid date 2015-08-05 00:00:00 to 2016-12-31 00:00:00\n",
      "Finland valid loc 192043 to 240205\n",
      "Italy train date 2010-01-01 00:00:00 to 2015-08-04 00:00:00\n",
      "Italy train loc  174 to 191987\n",
      "Italy valid date 2015-08-05 00:00:00 to 2016-12-31 00:00:00\n",
      "Italy valid loc 192058 to 240220\n",
      "Kenya train date 2010-01-01 00:00:00 to 2015-09-02 00:00:00\n",
      "Kenya train loc  264 to 194491\n",
      "Kenya valid date 2015-09-02 00:00:00 to 2016-12-31 00:00:00\n",
      "Kenya valid loc 194492 to 240234\n",
      "Norway train date 2010-01-01 00:00:00 to 2015-08-04 00:00:00\n",
      "Norway train loc  348 to 192015\n",
      "Norway valid date 2015-08-05 00:00:00 to 2016-12-31 00:00:00\n",
      "Norway valid loc 192086 to 240249\n",
      "Singapore train date 2010-01-01 00:00:00 to 2015-08-04 00:00:00\n",
      "Singapore train loc  438 to 192030\n",
      "Singapore valid date 2015-08-05 00:00:00 to 2016-12-31 00:00:00\n",
      "Singapore valid loc 192101 to 240264\n"
     ]
    }
   ],
   "source": [
    "#Split data according to country into\n",
    "from catboost import Pool\n",
    "cv_country_train_pool={}\n",
    "country_train_pool={}\n",
    "country_valid_pool={}\n",
    "\n",
    "\n",
    "for c in countrylist:\n",
    "    df=df_train[df_train['country']==c]\n",
    "    train_x, valid_x, train_y, valid_y = train_test_split(df.drop(['id','num_sold','country'],axis=1),df['num_sold'],shuffle=False,test_size=0.20)\n",
    "    cvtrain_x, cvvalid_x, cvtrain_y, cvvalid_y = train_test_split(df.drop(['id','num_sold','country'],axis=1),df['num_sold'],shuffle=False,test_size=0.10) \n",
    "    cats=df.select_dtypes('category').columns.to_list()\n",
    "    cats.remove('country')\n",
    "    cats.append('is_holiday')\n",
    "    cats.append('Week_No')\n",
    "    cats.append('is_weekend')\n",
    "    cats.append('Quarter_Discrete')\n",
    "    #train_weights = np.linspace(0.1, 1.0, len(train_x))\n",
    "    #valid_weights = np.linspace(0.1, 1.0, len(valid_x)) # Linearly increasing weights\n",
    "    # decay_rate=0.75\n",
    "    # train_weights = decay_rate ** np.arange(len(train_x))[::-1]  # Exponentially increasing weights\n",
    "    # valid_weights = decay_rate ** np.arange(len(valid_x))[::-1]  # Exponentially increasing weights\n",
    "    cv_country_train_pool[c]=Pool(cvtrain_x,label=cvtrain_y,cat_features=cats)\n",
    "    country_train_pool[c]=Pool(train_x,label=train_y,cat_features=cats)#,weight=train_weights)\n",
    "    country_valid_pool[c]=Pool(valid_x,label=valid_y,cat_features=cats)#,weight=valid_weights)\n",
    "    print(f\"{c} train date {train_x['date'].min()} to {train_x['date'].max()}\")\n",
    "    print(f\"{c} train loc  {train_x.index.min()} to {train_x.index.max()}\")\n",
    "    print(f\"{c} valid date {valid_x['date'].min()} to {valid_x['date'].max()}\") \n",
    "    print(f\"{c} valid loc {valid_x.index.min()} to {valid_x.index.max()}\")"
   ]
  },
  {
   "cell_type": "code",
   "execution_count": 57,
   "id": "cfe9f0bb",
   "metadata": {
    "execution": {
     "iopub.execute_input": "2025-01-16T07:07:07.979274Z",
     "iopub.status.busy": "2025-01-16T07:07:07.978904Z",
     "iopub.status.idle": "2025-01-16T07:07:07.986925Z",
     "shell.execute_reply": "2025-01-16T07:07:07.985941Z"
    },
    "papermill": {
     "duration": 0.033496,
     "end_time": "2025-01-16T07:07:07.988901",
     "exception": false,
     "start_time": "2025-01-16T07:07:07.955405",
     "status": "completed"
    },
    "tags": []
   },
   "outputs": [],
   "source": [
    "from functools import partial\n",
    "from catboost import cv\n",
    "\n",
    "def objective(trial: optuna.Trial, country) -> float:\n",
    "    #data, target = load_breast_cancer(return_X_y=True)\n",
    "    #train_x, valid_x, train_y, valid_y = train_test_split(df_train.drop(['id','num_sold','date'],axis=1), df_train['num_sold'], test_size=0.25)\n",
    "    #cats=df_train.select_dtypes('category').columns\n",
    "    \n",
    "    param = {\n",
    "        \"iterations\":trial.suggest_int(\"iterations\",1000,7000),\n",
    "        \"learning_rate\":trial.suggest_float(\"learning_rate\",0.006,0.03,log=True),\n",
    "        \"objective\": trial.suggest_categorical(\"objective\", [\"MAPE\"]),\n",
    "        \"colsample_bylevel\": trial.suggest_float(\"colsample_bylevel\", 0.01, 0.7, log=True),\n",
    "        \"depth\": trial.suggest_int(\"depth\", 1, 10),\n",
    "        \"boosting_type\": trial.suggest_categorical(\"boosting_type\", [\"Ordered\", \"Plain\"]),\n",
    "        \"bootstrap_type\": trial.suggest_categorical(\n",
    "            \"bootstrap_type\", [\"Bayesian\", \"Bernoulli\", \"MVS\"]\n",
    "        ),\n",
    "        \"used_ram_limit\": \"3gb\",\n",
    "        \"eval_metric\": \"MAPE\",\n",
    "        \"cat_features\": cats,\n",
    "    }\n",
    "\n",
    "    if param[\"bootstrap_type\"] == \"Bayesian\":\n",
    "        param[\"bagging_temperature\"] = trial.suggest_float(\"bagging_temperature\", 0, 10)\n",
    "    elif param[\"bootstrap_type\"] == \"Bernoulli\":\n",
    "        param[\"subsample\"] = trial.suggest_float(\"subsample\", 0.1, 1, log=True)\n",
    "\n",
    "   \n",
    "    #use catboost cv with timeseries data\n",
    "    cv_data = cb.cv(\n",
    "        cv_country_train_pool[c],\n",
    "        params=param,\n",
    "        shuffle=False,\n",
    "        type='TimeSeries',\n",
    "        fold_count=3,\n",
    "        early_stopping_rounds=300,\n",
    "        verbose=0,\n",
    "    )\n",
    "    mape = cv_data['test-MAPE-mean'].min()\n",
    "    best_iter = cv_data['test-MAPE-mean'].values.argmin()\n",
    "    # gbm = cb.CatBoostRegressor(**param)\n",
    "\n",
    "    # pruning_callback = CatBoostPruningCallback(trial, \"MAPE\")\n",
    "    # gbm.fit(\n",
    "    #    # train_x,\n",
    "    #    # train_y,\n",
    "    #    # eval_set=[(valid_x, valid_y)],\n",
    "    #     country_train_pool[c],\n",
    "    #     eval_set=country_valid_pool[c],\n",
    "    #     verbose=0,\n",
    "    #     early_stopping_rounds=300,\n",
    "    #     callbacks=[pruning_callback],\n",
    "    # )\n",
    "\n",
    "    # evoke pruning manually.\n",
    "    #pruning_callback.check_pruned()\n",
    "\n",
    "    \n",
    "    #preds = gbm.predict(valid_x)\n",
    "    #pred_labels = np.fix(preds)\n",
    "    #mape = mean_absolute_percentage_error(valid_y, pred_labels)\n",
    "    return mape\n"
   ]
  },
  {
   "cell_type": "code",
   "execution_count": null,
   "id": "5fcfd5fa",
   "metadata": {
    "papermill": {
     "duration": 0.021482,
     "end_time": "2025-01-16T07:07:08.032672",
     "exception": false,
     "start_time": "2025-01-16T07:07:08.011190",
     "status": "completed"
    },
    "tags": []
   },
   "outputs": [],
   "source": []
  },
  {
   "cell_type": "code",
   "execution_count": 58,
   "id": "52143d06",
   "metadata": {
    "execution": {
     "iopub.execute_input": "2025-01-16T07:07:08.077957Z",
     "iopub.status.busy": "2025-01-16T07:07:08.077520Z",
     "iopub.status.idle": "2025-01-16T08:12:19.506096Z",
     "shell.execute_reply": "2025-01-16T08:12:19.504952Z"
    },
    "papermill": {
     "duration": 3911.484749,
     "end_time": "2025-01-16T08:12:19.539133",
     "exception": false,
     "start_time": "2025-01-16T07:07:08.054384",
     "status": "completed"
    },
    "tags": []
   },
   "outputs": [
    {
     "name": "stdout",
     "output_type": "stream",
     "text": [
      "Training on fold [0/3]\n",
      "\n",
      "bestTest = 0.03488013503\n",
      "bestIteration = 5415\n",
      "\n",
      "Training on fold [1/3]\n",
      "\n",
      "bestTest = 0.01501899185\n",
      "bestIteration = 1859\n",
      "\n",
      "Training on fold [2/3]\n",
      "\n",
      "bestTest = 0.01260141155\n",
      "bestIteration = 5421\n",
      "\n",
      "Training on fold [0/3]\n",
      "\n",
      "bestTest = 0.09031931177\n",
      "bestIteration = 1784\n",
      "\n",
      "Training on fold [1/3]\n",
      "\n",
      "bestTest = 0.06582903339\n",
      "bestIteration = 1007\n",
      "\n",
      "Training on fold [2/3]\n",
      "\n",
      "bestTest = 0.05183263306\n",
      "bestIteration = 887\n",
      "\n",
      "Training on fold [0/3]\n",
      "\n",
      "bestTest = 0.03032959492\n",
      "bestIteration = 5181\n",
      "\n",
      "Training on fold [1/3]\n",
      "\n",
      "bestTest = 0.03085638366\n",
      "bestIteration = 5173\n",
      "\n",
      "Training on fold [2/3]\n",
      "\n",
      "bestTest = 0.03267221895\n",
      "bestIteration = 5187\n",
      "\n",
      "Training on fold [0/3]\n",
      "\n",
      "bestTest = 0.06834977117\n",
      "bestIteration = 2757\n",
      "\n",
      "Training on fold [1/3]\n",
      "\n",
      "bestTest = 0.05719078781\n",
      "bestIteration = 340\n",
      "\n",
      "Training on fold [2/3]\n",
      "\n",
      "bestTest = 0.02915379618\n",
      "bestIteration = 359\n",
      "\n",
      "Training on fold [0/3]\n",
      "\n",
      "bestTest = 0.06834837262\n",
      "bestIteration = 1474\n",
      "\n",
      "Training on fold [1/3]\n",
      "\n",
      "bestTest = 0.05747259976\n",
      "bestIteration = 598\n",
      "\n",
      "Training on fold [2/3]\n",
      "\n",
      "bestTest = 0.03049710736\n",
      "bestIteration = 736\n",
      "\n",
      "Training on fold [0/3]\n",
      "\n",
      "bestTest = 0.01498731047\n",
      "bestIteration = 2072\n",
      "\n",
      "Training on fold [1/3]\n",
      "\n",
      "bestTest = 0.01457077621\n",
      "bestIteration = 2098\n",
      "\n",
      "Training on fold [2/3]\n",
      "\n",
      "bestTest = 0.01746420965\n",
      "bestIteration = 2096\n",
      "\n",
      "Training on fold [0/3]\n",
      "\n",
      "bestTest = 0.01993143895\n",
      "bestIteration = 3361\n",
      "\n",
      "Training on fold [1/3]\n",
      "\n",
      "bestTest = 0.02328680737\n",
      "bestIteration = 3361\n",
      "\n",
      "Training on fold [2/3]\n",
      "\n",
      "bestTest = 0.02397428724\n",
      "bestIteration = 3361\n",
      "\n",
      "Training on fold [0/3]\n",
      "\n",
      "bestTest = 0.0154525813\n",
      "bestIteration = 2223\n",
      "\n",
      "Training on fold [1/3]\n",
      "\n",
      "bestTest = 0.01437041402\n",
      "bestIteration = 2208\n",
      "\n",
      "Training on fold [2/3]\n",
      "\n",
      "bestTest = 0.01957676195\n",
      "bestIteration = 2213\n",
      "\n",
      "Training on fold [0/3]\n",
      "\n",
      "bestTest = 0.01447260922\n",
      "bestIteration = 5000\n",
      "\n",
      "Training on fold [1/3]\n",
      "\n",
      "bestTest = 0.01247009718\n",
      "bestIteration = 4952\n",
      "\n",
      "Training on fold [2/3]\n",
      "\n",
      "bestTest = 0.0151897909\n",
      "bestIteration = 4972\n",
      "\n",
      "Training on fold [0/3]\n",
      "\n",
      "bestTest = 0.0564755744\n",
      "bestIteration = 2485\n",
      "\n",
      "Training on fold [1/3]\n",
      "\n",
      "bestTest = 0.05937406389\n",
      "bestIteration = 529\n",
      "\n",
      "Training on fold [2/3]\n",
      "\n",
      "bestTest = 0.0176498042\n",
      "bestIteration = 840\n",
      "\n",
      "Number of finished trials: 10\n",
      "Canada Best trial:\n",
      "  Value: 0.014047745224919602\n",
      "Canada  Params: \n",
      "    iterations: 5004\n",
      "    learning_rate: 0.010262551960139123\n",
      "    objective: MAPE\n",
      "    colsample_bylevel: 0.033052228433317773\n",
      "    depth: 9\n",
      "    boosting_type: Plain\n",
      "    bootstrap_type: Bayesian\n",
      "    bagging_temperature: 5.765752348422414\n",
      "Training on fold [0/3]\n",
      "\n",
      "bestTest = 0.02551367748\n",
      "bestIteration = 3392\n",
      "\n",
      "Training on fold [1/3]\n",
      "\n",
      "bestTest = 0.05325435953\n",
      "bestIteration = 932\n",
      "\n",
      "Training on fold [2/3]\n",
      "\n",
      "bestTest = 0.03789792071\n",
      "bestIteration = 812\n",
      "\n",
      "Training on fold [0/3]\n",
      "\n",
      "bestTest = 0.01302480461\n",
      "bestIteration = 2771\n",
      "\n",
      "Training on fold [1/3]\n",
      "\n",
      "bestTest = 0.01182015366\n",
      "bestIteration = 2280\n",
      "\n",
      "Training on fold [2/3]\n",
      "\n",
      "bestTest = 0.01903951001\n",
      "bestIteration = 2390\n",
      "\n",
      "Training on fold [0/3]\n",
      "\n",
      "bestTest = 0.01509017048\n",
      "bestIteration = 5191\n",
      "\n",
      "Training on fold [1/3]\n",
      "\n",
      "bestTest = 0.01359329263\n",
      "bestIteration = 3276\n",
      "\n",
      "Training on fold [2/3]\n",
      "\n",
      "bestTest = 0.01240129734\n",
      "bestIteration = 5054\n",
      "\n",
      "Training on fold [0/3]\n",
      "\n",
      "bestTest = 0.01416027784\n",
      "bestIteration = 2193\n",
      "\n",
      "Training on fold [1/3]\n",
      "\n",
      "bestTest = 0.01412580805\n",
      "bestIteration = 2193\n",
      "\n",
      "Training on fold [2/3]\n",
      "\n",
      "bestTest = 0.02001185685\n",
      "bestIteration = 2078\n",
      "\n",
      "Training on fold [0/3]\n",
      "\n",
      "bestTest = 0.01344923825\n",
      "bestIteration = 6574\n",
      "\n",
      "Training on fold [1/3]\n",
      "\n",
      "bestTest = 0.01539842809\n",
      "bestIteration = 6560\n",
      "\n",
      "Training on fold [2/3]\n",
      "\n",
      "bestTest = 0.01782221149\n",
      "bestIteration = 6441\n",
      "\n",
      "Training on fold [0/3]\n",
      "\n",
      "bestTest = 0.1353835444\n",
      "bestIteration = 2087\n",
      "\n",
      "Training on fold [1/3]\n",
      "\n",
      "bestTest = 0.05031941528\n",
      "bestIteration = 701\n",
      "\n",
      "Training on fold [2/3]\n",
      "\n",
      "bestTest = 0.02411987793\n",
      "bestIteration = 1667\n",
      "\n",
      "Training on fold [0/3]\n",
      "\n",
      "bestTest = 0.0379859939\n",
      "bestIteration = 2312\n",
      "\n",
      "Training on fold [1/3]\n",
      "\n",
      "bestTest = 0.0365760992\n",
      "bestIteration = 2307\n",
      "\n",
      "Training on fold [2/3]\n",
      "\n",
      "bestTest = 0.04072565661\n",
      "bestIteration = 2313\n",
      "\n",
      "Training on fold [0/3]\n",
      "\n",
      "bestTest = 0.01868469977\n",
      "bestIteration = 6535\n",
      "\n",
      "Training on fold [1/3]\n",
      "\n",
      "bestTest = 0.01802625575\n",
      "bestIteration = 6535\n",
      "\n",
      "Training on fold [2/3]\n",
      "\n",
      "bestTest = 0.02200604657\n",
      "bestIteration = 6535\n",
      "\n",
      "Training on fold [0/3]\n",
      "\n",
      "bestTest = 0.06926542866\n",
      "bestIteration = 948\n",
      "\n",
      "Training on fold [1/3]\n",
      "\n",
      "bestTest = 0.07754259429\n",
      "bestIteration = 339\n",
      "\n",
      "Training on fold [2/3]\n",
      "\n",
      "bestTest = 0.08073053337\n",
      "bestIteration = 333\n",
      "\n",
      "Number of finished trials: 9\n",
      "Finland Best trial:\n",
      "  Value: 0.013717022570380127\n",
      "Finland  Params: \n",
      "    iterations: 5196\n",
      "    learning_rate: 0.006293978825574773\n",
      "    objective: MAPE\n",
      "    colsample_bylevel: 0.14171473043281624\n",
      "    depth: 3\n",
      "    boosting_type: Plain\n",
      "    bootstrap_type: Bernoulli\n",
      "    subsample: 0.2850130638169297\n",
      "Training on fold [0/3]\n",
      "\n",
      "bestTest = 0.0140720459\n",
      "bestIteration = 4109\n",
      "\n",
      "Training on fold [1/3]\n",
      "\n",
      "bestTest = 0.02429586042\n",
      "bestIteration = 1543\n",
      "\n",
      "Training on fold [2/3]\n",
      "\n",
      "bestTest = 0.01828728596\n",
      "bestIteration = 1490\n",
      "\n",
      "Training on fold [0/3]\n",
      "\n",
      "bestTest = 0.03142929166\n",
      "bestIteration = 1823\n",
      "\n",
      "Training on fold [1/3]\n",
      "\n",
      "bestTest = 0.04249948555\n",
      "bestIteration = 1838\n",
      "\n",
      "Training on fold [2/3]\n",
      "\n",
      "bestTest = 0.01778898198\n",
      "bestIteration = 1759\n",
      "\n",
      "Training on fold [0/3]\n",
      "\n",
      "bestTest = 0.01529365072\n",
      "bestIteration = 4249\n",
      "\n",
      "Training on fold [1/3]\n",
      "\n",
      "bestTest = 0.04292738394\n",
      "bestIteration = 2277\n",
      "\n",
      "Training on fold [2/3]\n",
      "\n",
      "bestTest = 0.02112162296\n",
      "bestIteration = 1327\n",
      "\n",
      "Training on fold [0/3]\n",
      "\n",
      "bestTest = 0.0187943424\n",
      "bestIteration = 2812\n",
      "\n",
      "Training on fold [1/3]\n",
      "\n",
      "bestTest = 0.020623145\n",
      "bestIteration = 2810\n",
      "\n",
      "Training on fold [2/3]\n",
      "\n",
      "bestTest = 0.0252729122\n",
      "bestIteration = 2606\n",
      "\n",
      "Training on fold [0/3]\n",
      "\n",
      "bestTest = 0.03253644067\n",
      "bestIteration = 5520\n",
      "\n",
      "Training on fold [1/3]\n",
      "\n",
      "bestTest = 0.03274822367\n",
      "bestIteration = 5537\n",
      "\n",
      "Training on fold [2/3]\n",
      "\n",
      "bestTest = 0.03771631868\n",
      "bestIteration = 5537\n",
      "\n",
      "Training on fold [0/3]\n",
      "\n",
      "bestTest = 0.03111638785\n",
      "bestIteration = 4057\n",
      "\n",
      "Training on fold [1/3]\n",
      "\n",
      "bestTest = 0.01561660049\n",
      "bestIteration = 1487\n",
      "\n",
      "Training on fold [2/3]\n",
      "\n",
      "bestTest = 0.01314995448\n",
      "bestIteration = 2748\n",
      "\n",
      "Training on fold [0/3]\n",
      "\n",
      "bestTest = 0.1324783229\n",
      "bestIteration = 957\n",
      "\n",
      "Training on fold [1/3]\n",
      "\n",
      "bestTest = 0.05114325896\n",
      "bestIteration = 660\n",
      "\n",
      "Training on fold [2/3]\n",
      "\n",
      "bestTest = 0.02465243502\n",
      "bestIteration = 588\n",
      "\n",
      "Training on fold [0/3]\n",
      "\n",
      "bestTest = 0.0299259506\n",
      "bestIteration = 1708\n",
      "\n",
      "Training on fold [1/3]\n",
      "\n",
      "bestTest = 0.02291094259\n",
      "bestIteration = 1707\n",
      "\n",
      "Training on fold [2/3]\n",
      "\n",
      "bestTest = 0.01574620249\n",
      "bestIteration = 1708\n",
      "\n",
      "Training on fold [0/3]\n",
      "\n",
      "bestTest = 0.02081264719\n",
      "bestIteration = 2240\n",
      "\n",
      "Training on fold [1/3]\n",
      "\n",
      "bestTest = 0.01174842817\n",
      "bestIteration = 981\n",
      "\n",
      "Training on fold [2/3]\n",
      "\n",
      "bestTest = 0.01770561619\n",
      "bestIteration = 1487\n",
      "\n",
      "Training on fold [0/3]\n",
      "\n",
      "bestTest = 0.08818748889\n",
      "bestIteration = 1202\n",
      "\n",
      "Training on fold [1/3]\n",
      "\n",
      "bestTest = 0.05484690077\n",
      "bestIteration = 435\n",
      "\n",
      "Training on fold [2/3]\n",
      "\n",
      "bestTest = 0.02626736999\n",
      "bestIteration = 582\n",
      "\n",
      "Training on fold [0/3]\n",
      "\n",
      "bestTest = 0.038213553\n",
      "bestIteration = 3592\n",
      "\n",
      "Training on fold [1/3]\n",
      "\n",
      "bestTest = 0.01025152105\n",
      "bestIteration = 2010\n",
      "\n",
      "Training on fold [2/3]\n",
      "\n",
      "bestTest = 0.01781641326\n",
      "bestIteration = 1644\n",
      "\n",
      "Number of finished trials: 11\n",
      "Italy Best trial:\n",
      "  Value: 0.017088090544851137\n",
      "Italy  Params: \n",
      "    iterations: 5229\n",
      "    learning_rate: 0.018559468128675292\n",
      "    objective: MAPE\n",
      "    colsample_bylevel: 0.1493781912240848\n",
      "    depth: 3\n",
      "    boosting_type: Plain\n",
      "    bootstrap_type: MVS\n",
      "Training on fold [0/3]\n",
      "\n",
      "bestTest = 0.04506789709\n",
      "bestIteration = 4543\n",
      "\n",
      "Training on fold [1/3]\n",
      "\n",
      "bestTest = 0.0310251524\n",
      "bestIteration = 5450\n",
      "\n",
      "Training on fold [2/3]\n",
      "\n",
      "bestTest = 0.04507777487\n",
      "bestIteration = 3968\n",
      "\n",
      "Training on fold [0/3]\n",
      "\n",
      "bestTest = 0.04858239382\n",
      "bestIteration = 3362\n",
      "\n",
      "Training on fold [1/3]\n",
      "\n",
      "bestTest = 0.02955329769\n",
      "bestIteration = 4183\n",
      "\n",
      "Training on fold [2/3]\n",
      "\n",
      "bestTest = 0.04812757425\n",
      "bestIteration = 3560\n",
      "\n",
      "Training on fold [0/3]\n",
      "\n",
      "bestTest = 0.08347936231\n",
      "bestIteration = 1673\n",
      "\n",
      "Training on fold [1/3]\n",
      "\n",
      "bestTest = 0.07764089866\n",
      "bestIteration = 1681\n",
      "\n",
      "Training on fold [2/3]\n",
      "\n",
      "bestTest = 0.07519318894\n",
      "bestIteration = 1677\n",
      "\n",
      "Training on fold [0/3]\n",
      "\n",
      "bestTest = 0.108438423\n",
      "bestIteration = 1964\n",
      "\n",
      "Training on fold [1/3]\n",
      "\n",
      "bestTest = 0.1048037722\n",
      "bestIteration = 1964\n",
      "\n",
      "Training on fold [2/3]\n",
      "\n",
      "bestTest = 0.110178844\n",
      "bestIteration = 1964\n",
      "\n",
      "Training on fold [0/3]\n",
      "\n",
      "bestTest = 0.06393008027\n",
      "bestIteration = 2041\n",
      "\n",
      "Training on fold [1/3]\n",
      "\n",
      "bestTest = 0.04776849888\n",
      "bestIteration = 4862\n",
      "\n",
      "Training on fold [2/3]\n",
      "\n",
      "bestTest = 0.04523525068\n",
      "bestIteration = 2458\n",
      "\n",
      "Training on fold [0/3]\n",
      "\n",
      "bestTest = 0.08020674607\n",
      "bestIteration = 6511\n",
      "\n",
      "Training on fold [1/3]\n",
      "\n",
      "bestTest = 0.07730950132\n",
      "bestIteration = 6515\n",
      "\n",
      "Training on fold [2/3]\n",
      "\n",
      "bestTest = 0.07518837529\n",
      "bestIteration = 6513\n",
      "\n",
      "Training on fold [0/3]\n",
      "\n",
      "bestTest = 0.04246706414\n",
      "bestIteration = 6838\n",
      "\n",
      "Training on fold [1/3]\n",
      "\n",
      "bestTest = 0.03429365236\n",
      "bestIteration = 6574\n",
      "\n",
      "Training on fold [2/3]\n",
      "\n",
      "bestTest = 0.04006353783\n",
      "bestIteration = 6496\n",
      "\n",
      "Training on fold [0/3]\n",
      "\n",
      "bestTest = 0.1292605274\n",
      "bestIteration = 666\n",
      "\n",
      "Training on fold [1/3]\n",
      "\n",
      "bestTest = 0.03886015594\n",
      "bestIteration = 2402\n",
      "\n",
      "Training on fold [2/3]\n",
      "\n",
      "bestTest = 0.08912549987\n",
      "bestIteration = 1923\n",
      "\n",
      "Training on fold [0/3]\n",
      "\n",
      "bestTest = 0.04940015513\n",
      "bestIteration = 2707\n",
      "\n",
      "Training on fold [1/3]\n",
      "\n",
      "bestTest = 0.04576063259\n",
      "bestIteration = 2708\n",
      "\n",
      "Training on fold [2/3]\n",
      "\n",
      "bestTest = 0.04383973298\n",
      "bestIteration = 2708\n",
      "\n",
      "Number of finished trials: 9\n",
      "Kenya Best trial:\n",
      "  Value: 0.03897300441107338\n",
      "Kenya  Params: \n",
      "    iterations: 6841\n",
      "    learning_rate: 0.018881022681663483\n",
      "    objective: MAPE\n",
      "    colsample_bylevel: 0.10581347267420968\n",
      "    depth: 1\n",
      "    boosting_type: Plain\n",
      "    bootstrap_type: MVS\n",
      "Training on fold [0/3]\n",
      "\n",
      "bestTest = 0.05650325869\n",
      "bestIteration = 2299\n",
      "\n",
      "Training on fold [1/3]\n",
      "\n",
      "bestTest = 0.0261351381\n",
      "bestIteration = 690\n",
      "\n",
      "Training on fold [2/3]\n",
      "\n",
      "bestTest = 0.03686441865\n",
      "bestIteration = 619\n",
      "\n",
      "Training on fold [0/3]\n",
      "\n",
      "bestTest = 0.01461726688\n",
      "bestIteration = 3595\n",
      "\n",
      "Training on fold [1/3]\n",
      "\n",
      "bestTest = 0.01434339545\n",
      "bestIteration = 3595\n",
      "\n",
      "Training on fold [2/3]\n",
      "\n",
      "bestTest = 0.03411007836\n",
      "bestIteration = 3594\n",
      "\n",
      "Training on fold [0/3]\n",
      "\n",
      "bestTest = 0.02454758771\n",
      "bestIteration = 1078\n",
      "\n",
      "Training on fold [1/3]\n",
      "\n",
      "bestTest = 0.02688343684\n",
      "bestIteration = 1079\n",
      "\n",
      "Training on fold [2/3]\n",
      "\n",
      "bestTest = 0.02896998406\n",
      "bestIteration = 1079\n",
      "\n",
      "Training on fold [0/3]\n",
      "\n",
      "bestTest = 0.1609427644\n",
      "bestIteration = 2236\n",
      "\n",
      "Training on fold [1/3]\n",
      "\n",
      "bestTest = 0.1071648483\n",
      "bestIteration = 985\n",
      "\n",
      "Training on fold [2/3]\n",
      "\n",
      "bestTest = 0.01903290143\n",
      "bestIteration = 438\n",
      "\n",
      "Training on fold [0/3]\n",
      "\n",
      "bestTest = 0.1008155847\n",
      "bestIteration = 1429\n",
      "\n",
      "Training on fold [1/3]\n",
      "\n",
      "bestTest = 0.06351664489\n",
      "bestIteration = 346\n",
      "\n",
      "Training on fold [2/3]\n",
      "\n",
      "bestTest = 0.07608057264\n",
      "bestIteration = 530\n",
      "\n",
      "Training on fold [0/3]\n",
      "\n",
      "bestTest = 0.04489547777\n",
      "bestIteration = 2485\n",
      "\n",
      "Training on fold [1/3]\n",
      "\n",
      "bestTest = 0.05070008712\n",
      "bestIteration = 2489\n",
      "\n",
      "Training on fold [2/3]\n",
      "\n",
      "bestTest = 0.05772540801\n",
      "bestIteration = 2489\n",
      "\n",
      "Training on fold [0/3]\n",
      "\n",
      "bestTest = 0.02122106143\n",
      "bestIteration = 3396\n",
      "\n",
      "Training on fold [1/3]\n",
      "\n",
      "bestTest = 0.01104687038\n",
      "bestIteration = 3384\n",
      "\n",
      "Training on fold [2/3]\n",
      "\n",
      "bestTest = 0.02669091094\n",
      "bestIteration = 1834\n",
      "\n",
      "Training on fold [0/3]\n",
      "\n",
      "bestTest = 0.01552732867\n",
      "bestIteration = 2268\n",
      "\n",
      "Training on fold [1/3]\n",
      "\n",
      "bestTest = 0.01620616224\n",
      "bestIteration = 2268\n",
      "\n",
      "Training on fold [2/3]\n",
      "\n",
      "bestTest = 0.0310012407\n",
      "bestIteration = 2267\n",
      "\n",
      "Training on fold [0/3]\n",
      "\n",
      "bestTest = 0.0835001902\n",
      "bestIteration = 3787\n",
      "\n",
      "Training on fold [1/3]\n",
      "\n",
      "bestTest = 0.03177707124\n",
      "bestIteration = 545\n",
      "\n",
      "Training on fold [2/3]\n",
      "\n",
      "bestTest = 0.02441563607\n",
      "bestIteration = 1296\n",
      "\n",
      "Number of finished trials: 9\n",
      "Norway Best trial:\n",
      "  Value: 0.0196780577799624\n",
      "Norway  Params: \n",
      "    iterations: 3398\n",
      "    learning_rate: 0.010557708255107144\n",
      "    objective: MAPE\n",
      "    colsample_bylevel: 0.12426416913934371\n",
      "    depth: 3\n",
      "    boosting_type: Ordered\n",
      "    bootstrap_type: Bayesian\n",
      "    bagging_temperature: 0.002213902626837516\n",
      "Training on fold [0/3]\n",
      "\n",
      "bestTest = 0.02847929801\n",
      "bestIteration = 3000\n",
      "\n",
      "Training on fold [1/3]\n",
      "\n",
      "bestTest = 0.03024275788\n",
      "bestIteration = 2951\n",
      "\n",
      "Training on fold [2/3]\n",
      "\n",
      "bestTest = 0.0534555843\n",
      "bestIteration = 1361\n",
      "\n",
      "Number of finished trials: 1\n",
      "Singapore Best trial:\n",
      "  Value: 0.03745803927670305\n",
      "Singapore  Params: \n",
      "    iterations: 3003\n",
      "    learning_rate: 0.006797559892983606\n",
      "    objective: MAPE\n",
      "    colsample_bylevel: 0.5429745844831996\n",
      "    depth: 10\n",
      "    boosting_type: Ordered\n",
      "    bootstrap_type: Bernoulli\n",
      "    subsample: 0.8184203407353198\n"
     ]
    }
   ],
   "source": [
    "from functools import partial \n",
    "\n",
    "country_best_params={}\n",
    "for c in countrylist:\n",
    "    objective = partial(objective, country = c)\n",
    "    \n",
    "    optuna.logging.set_verbosity(optuna.logging.CRITICAL)\n",
    "    study = optuna.create_study(\n",
    "        #pruner=optuna.pruners.MedianPruner(n_warmup_steps=5), \n",
    "        direction=\"minimize\",\n",
    "    )\n",
    "    study.optimize(objective, n_trials=100, timeout=600)\n",
    "    \n",
    "    print(\"Number of finished trials: {}\".format(len(study.trials)))\n",
    "    \n",
    "    print(f'{c} Best trial:')\n",
    "    trial = study.best_trial\n",
    "    \n",
    "    print(\"  Value: {}\".format(trial.value))\n",
    "    \n",
    "    print(f\"{c}  Params: \")\n",
    "    country_best_params[c]=trial.params.copy()\n",
    "    for key, value in trial.params.items():\n",
    "        print(\"    {}: {}\".format(key, value))\n",
    "        "
   ]
  },
  {
   "cell_type": "code",
   "execution_count": 59,
   "id": "1d8dd805",
   "metadata": {
    "execution": {
     "iopub.execute_input": "2025-01-16T08:12:19.602367Z",
     "iopub.status.busy": "2025-01-16T08:12:19.601965Z",
     "iopub.status.idle": "2025-01-16T08:12:19.606189Z",
     "shell.execute_reply": "2025-01-16T08:12:19.605047Z"
    },
    "papermill": {
     "duration": 0.0382,
     "end_time": "2025-01-16T08:12:19.607921",
     "exception": false,
     "start_time": "2025-01-16T08:12:19.569721",
     "status": "completed"
    },
    "tags": []
   },
   "outputs": [],
   "source": [
    "#print(study.best_params)"
   ]
  },
  {
   "cell_type": "code",
   "execution_count": 60,
   "id": "63ffa93f",
   "metadata": {
    "execution": {
     "iopub.execute_input": "2025-01-16T08:12:19.670656Z",
     "iopub.status.busy": "2025-01-16T08:12:19.670270Z",
     "iopub.status.idle": "2025-01-16T08:12:19.674815Z",
     "shell.execute_reply": "2025-01-16T08:12:19.673599Z"
    },
    "papermill": {
     "duration": 0.038169,
     "end_time": "2025-01-16T08:12:19.676823",
     "exception": false,
     "start_time": "2025-01-16T08:12:19.638654",
     "status": "completed"
    },
    "tags": []
   },
   "outputs": [],
   "source": [
    "# from catboost import Pool,cv\n",
    "# cats=df_train.select_dtypes('category').columns\n",
    "# features=df_train.drop(['id','num_sold','date'],axis=1).columns\n",
    "# train_pool = Pool(data=df_train.drop(['id','num_sold','date'],axis=1),\n",
    "#              label=df_train['num_sold'],\n",
    "#              cat_features=cats.to_list())"
   ]
  },
  {
   "cell_type": "code",
   "execution_count": 61,
   "id": "a81aa2d1",
   "metadata": {
    "execution": {
     "iopub.execute_input": "2025-01-16T08:12:19.739728Z",
     "iopub.status.busy": "2025-01-16T08:12:19.739324Z",
     "iopub.status.idle": "2025-01-16T08:12:19.743629Z",
     "shell.execute_reply": "2025-01-16T08:12:19.742727Z"
    },
    "papermill": {
     "duration": 0.03762,
     "end_time": "2025-01-16T08:12:19.745361",
     "exception": false,
     "start_time": "2025-01-16T08:12:19.707741",
     "status": "completed"
    },
    "tags": []
   },
   "outputs": [],
   "source": [
    "# from catboost import Pool,cv\n",
    "\n",
    "#              #feature_names=features)\n",
    "\n",
    "\n",
    "# # params = {\"iterations\": 1000,\n",
    "# #           \"depth\": 4,\n",
    "# #           \"loss_function\": \"MAPE\",\n",
    "# #           \"verbose\": False}\n",
    "\n",
    "# scores = cv(train_pool,\n",
    "#             study.best_params,\n",
    "#            fold_count=5,\n",
    "#             verbose=0,\n",
    "#            )\n",
    "\n",
    "# print(scores)"
   ]
  },
  {
   "cell_type": "code",
   "execution_count": 62,
   "id": "a1a4e9de",
   "metadata": {
    "execution": {
     "iopub.execute_input": "2025-01-16T08:12:19.809891Z",
     "iopub.status.busy": "2025-01-16T08:12:19.809501Z",
     "iopub.status.idle": "2025-01-16T08:12:19.813371Z",
     "shell.execute_reply": "2025-01-16T08:12:19.812396Z"
    },
    "papermill": {
     "duration": 0.037661,
     "end_time": "2025-01-16T08:12:19.815050",
     "exception": false,
     "start_time": "2025-01-16T08:12:19.777389",
     "status": "completed"
    },
    "tags": []
   },
   "outputs": [],
   "source": [
    "#print(scores)"
   ]
  },
  {
   "cell_type": "code",
   "execution_count": 63,
   "id": "364216de",
   "metadata": {
    "execution": {
     "iopub.execute_input": "2025-01-16T08:12:19.880879Z",
     "iopub.status.busy": "2025-01-16T08:12:19.880525Z",
     "iopub.status.idle": "2025-01-16T08:12:19.884233Z",
     "shell.execute_reply": "2025-01-16T08:12:19.883371Z"
    },
    "papermill": {
     "duration": 0.039762,
     "end_time": "2025-01-16T08:12:19.885747",
     "exception": false,
     "start_time": "2025-01-16T08:12:19.845985",
     "status": "completed"
    },
    "tags": []
   },
   "outputs": [],
   "source": [
    "#hyperdict=optuna.importance.get_param_importances(study)"
   ]
  },
  {
   "cell_type": "code",
   "execution_count": 64,
   "id": "9ee6655a",
   "metadata": {
    "execution": {
     "iopub.execute_input": "2025-01-16T08:12:20.012044Z",
     "iopub.status.busy": "2025-01-16T08:12:20.011673Z",
     "iopub.status.idle": "2025-01-16T08:12:20.015676Z",
     "shell.execute_reply": "2025-01-16T08:12:20.014651Z"
    },
    "papermill": {
     "duration": 0.036939,
     "end_time": "2025-01-16T08:12:20.017350",
     "exception": false,
     "start_time": "2025-01-16T08:12:19.980411",
     "status": "completed"
    },
    "tags": []
   },
   "outputs": [],
   "source": [
    "#print(hyperdict)"
   ]
  },
  {
   "cell_type": "code",
   "execution_count": 65,
   "id": "585099ca",
   "metadata": {
    "execution": {
     "iopub.execute_input": "2025-01-16T08:12:20.080657Z",
     "iopub.status.busy": "2025-01-16T08:12:20.080306Z",
     "iopub.status.idle": "2025-01-16T08:12:20.088237Z",
     "shell.execute_reply": "2025-01-16T08:12:20.087168Z"
    },
    "papermill": {
     "duration": 0.041536,
     "end_time": "2025-01-16T08:12:20.089970",
     "exception": false,
     "start_time": "2025-01-16T08:12:20.048434",
     "status": "completed"
    },
    "tags": []
   },
   "outputs": [
    {
     "name": "stdout",
     "output_type": "stream",
     "text": [
      "Canada\n",
      "{'iterations': 5004, 'learning_rate': 0.010262551960139123, 'objective': 'MAPE', 'colsample_bylevel': 0.033052228433317773, 'depth': 9, 'boosting_type': 'Plain', 'bootstrap_type': 'Bayesian', 'bagging_temperature': 5.765752348422414}\n",
      "Finland\n",
      "{'iterations': 5196, 'learning_rate': 0.006293978825574773, 'objective': 'MAPE', 'colsample_bylevel': 0.14171473043281624, 'depth': 3, 'boosting_type': 'Plain', 'bootstrap_type': 'Bernoulli', 'subsample': 0.2850130638169297}\n",
      "Italy\n",
      "{'iterations': 5229, 'learning_rate': 0.018559468128675292, 'objective': 'MAPE', 'colsample_bylevel': 0.1493781912240848, 'depth': 3, 'boosting_type': 'Plain', 'bootstrap_type': 'MVS'}\n",
      "Kenya\n",
      "{'iterations': 6841, 'learning_rate': 0.018881022681663483, 'objective': 'MAPE', 'colsample_bylevel': 0.10581347267420968, 'depth': 1, 'boosting_type': 'Plain', 'bootstrap_type': 'MVS'}\n",
      "Norway\n",
      "{'iterations': 3398, 'learning_rate': 0.010557708255107144, 'objective': 'MAPE', 'colsample_bylevel': 0.12426416913934371, 'depth': 3, 'boosting_type': 'Ordered', 'bootstrap_type': 'Bayesian', 'bagging_temperature': 0.002213902626837516}\n",
      "Singapore\n",
      "{'iterations': 3003, 'learning_rate': 0.006797559892983606, 'objective': 'MAPE', 'colsample_bylevel': 0.5429745844831996, 'depth': 10, 'boosting_type': 'Ordered', 'bootstrap_type': 'Bernoulli', 'subsample': 0.8184203407353198}\n"
     ]
    }
   ],
   "source": [
    "for p,v in country_best_params.items():\n",
    "    print(p)\n",
    "    print(v)"
   ]
  },
  {
   "cell_type": "code",
   "execution_count": 66,
   "id": "52d2361c",
   "metadata": {
    "execution": {
     "iopub.execute_input": "2025-01-16T08:12:20.154770Z",
     "iopub.status.busy": "2025-01-16T08:12:20.154422Z",
     "iopub.status.idle": "2025-01-16T08:12:20.159550Z",
     "shell.execute_reply": "2025-01-16T08:12:20.158582Z"
    },
    "papermill": {
     "duration": 0.039219,
     "end_time": "2025-01-16T08:12:20.161085",
     "exception": false,
     "start_time": "2025-01-16T08:12:20.121866",
     "status": "completed"
    },
    "tags": []
   },
   "outputs": [],
   "source": [
    "#Execute this cell in case of loading fitted model to do prediction\n",
    "country_model={}\n",
    "def LoadModel():\n",
    "    Path='/kaggle/input/cbfitmodels'\n",
    "    countrylist=['Canada','Finland','Italy','Kenya','Norway','Singapore']\n",
    "    for c in countrylist:\n",
    "        country_model[c]=cb.CatBoostRegressor().load_model(f'{Path}/cbfit_{c}')\n"
   ]
  },
  {
   "cell_type": "code",
   "execution_count": 67,
   "id": "24a451db",
   "metadata": {
    "execution": {
     "iopub.execute_input": "2025-01-16T08:12:20.224682Z",
     "iopub.status.busy": "2025-01-16T08:12:20.224270Z",
     "iopub.status.idle": "2025-01-16T08:12:20.663260Z",
     "shell.execute_reply": "2025-01-16T08:12:20.662193Z"
    },
    "papermill": {
     "duration": 0.472936,
     "end_time": "2025-01-16T08:12:20.665167",
     "exception": false,
     "start_time": "2025-01-16T08:12:20.192231",
     "status": "completed"
    },
    "tags": []
   },
   "outputs": [],
   "source": [
    "#Use when using model without training\n",
    "LoadModel()"
   ]
  },
  {
   "cell_type": "code",
   "execution_count": 68,
   "id": "c6d8edf5",
   "metadata": {
    "execution": {
     "iopub.execute_input": "2025-01-16T08:12:20.729532Z",
     "iopub.status.busy": "2025-01-16T08:12:20.729129Z",
     "iopub.status.idle": "2025-01-16T08:12:20.736490Z",
     "shell.execute_reply": "2025-01-16T08:12:20.735364Z"
    },
    "papermill": {
     "duration": 0.041728,
     "end_time": "2025-01-16T08:12:20.738209",
     "exception": false,
     "start_time": "2025-01-16T08:12:20.696481",
     "status": "completed"
    },
    "tags": []
   },
   "outputs": [],
   "source": [
    "country_best_params={}\n",
    "country_best_params['Canada']={'iterations': 3593, 'learning_rate': 0.012827192029471704, 'objective': 'MAPE', 'colsample_bylevel': 0.09122674054287529, 'depth': 3, 'boosting_type': 'Ordered', 'bootstrap_type': 'Bernoulli', 'subsample': 0.3698567303900272}\n",
    "country_best_params['Finland']={'iterations': 4674, 'learning_rate': 0.021005624891915504, 'objective': 'MAPE', 'colsample_bylevel': 0.5784183002099044, 'depth': 2, 'boosting_type': 'Ordered', 'bootstrap_type': 'Bayesian', 'bagging_temperature': 5.782146139508431}\n",
    "country_best_params['Italy']={'iterations': 1398, 'learning_rate': 0.0251234589892742, 'objective': 'MAPE', 'colsample_bylevel': 0.049188944104342755, 'depth': 7, 'boosting_type': 'Plain', 'bootstrap_type': 'MVS'}\n",
    "country_best_params['Kenya']={'iterations': 3924, 'learning_rate': 0.016615674668667934, 'objective': 'MAPE', 'colsample_bylevel': 0.4274609331782009, 'depth': 2, 'boosting_type': 'Ordered', 'bootstrap_type': 'Bayesian', 'bagging_temperature': 6.2645325168308865}\n",
    "country_best_params['Norway']={'iterations': 3851, 'learning_rate': 0.019929523358906295, 'objective': 'MAPE', 'colsample_bylevel': 0.07338903404462888, 'depth': 2, 'boosting_type': 'Ordered', 'bootstrap_type': 'MVS'}\n",
    "country_best_params['Singapore']={'iterations': 1094, 'learning_rate': 0.02694754587058969, 'objective': 'MAPE', 'colsample_bylevel': 0.554849569101183, 'depth': 3, 'boosting_type': 'Plain', 'bootstrap_type': 'MVS'}"
   ]
  },
  {
   "cell_type": "code",
   "execution_count": 69,
   "id": "7dfa0f28",
   "metadata": {
    "execution": {
     "iopub.execute_input": "2025-01-16T08:12:20.802220Z",
     "iopub.status.busy": "2025-01-16T08:12:20.801799Z",
     "iopub.status.idle": "2025-01-16T08:15:17.559762Z",
     "shell.execute_reply": "2025-01-16T08:15:17.558610Z"
    },
    "papermill": {
     "duration": 176.823084,
     "end_time": "2025-01-16T08:15:17.592882",
     "exception": false,
     "start_time": "2025-01-16T08:12:20.769798",
     "status": "completed"
    },
    "tags": []
   },
   "outputs": [
    {
     "name": "stdout",
     "output_type": "stream",
     "text": [
      "Canada {'learn': {'MAPE': 0.008603857790550054}, 'validation': {'MAPE': 0.009688656998332748}}\n",
      "Finland {'learn': {'MAPE': 0.00914233936959974}, 'validation': {'MAPE': 0.009268343941677805}}\n",
      "Italy {'learn': {'MAPE': 0.008558853464850621}, 'validation': {'MAPE': 0.009919316114451113}}\n",
      "Kenya {'learn': {'MAPE': 0.021937051007563723}, 'validation': {'MAPE': 0.023868025673156486}}\n",
      "Norway {'learn': {'MAPE': 0.009689885197632213}, 'validation': {'MAPE': 0.016917699796391024}}\n",
      "Singapore {'learn': {'MAPE': 0.008356753302790407}, 'validation': {'MAPE': 0.008634089773757622}}\n"
     ]
    }
   ],
   "source": [
    "#Train model with best param and iteration>1000 before prediction\n",
    "country_model={}\n",
    "for c in countrylist:\n",
    "    country_model[c]=cb.CatBoostRegressor(**country_best_params[c],verbose=0)\n",
    "    country_model[c].fit(country_train_pool[c],eval_set=country_valid_pool[c])\n",
    "    country_model[c].save_model(f'cbfit_{c}')\n",
    "    print(f'{c} {country_model[c].get_best_score()}')"
   ]
  },
  {
   "cell_type": "code",
   "execution_count": 70,
   "id": "b8914fd9",
   "metadata": {
    "execution": {
     "iopub.execute_input": "2025-01-16T08:15:17.656837Z",
     "iopub.status.busy": "2025-01-16T08:15:17.656479Z",
     "iopub.status.idle": "2025-01-16T08:15:17.662529Z",
     "shell.execute_reply": "2025-01-16T08:15:17.661492Z"
    },
    "papermill": {
     "duration": 0.040095,
     "end_time": "2025-01-16T08:15:17.664327",
     "exception": false,
     "start_time": "2025-01-16T08:15:17.624232",
     "status": "completed"
    },
    "tags": []
   },
   "outputs": [
    {
     "data": {
      "text/plain": [
       "{'Canada': <catboost.core.CatBoostRegressor at 0x7d190ef8b100>,\n",
       " 'Finland': <catboost.core.CatBoostRegressor at 0x7d190ef8b880>,\n",
       " 'Italy': <catboost.core.CatBoostRegressor at 0x7d190ef8bdf0>,\n",
       " 'Kenya': <catboost.core.CatBoostRegressor at 0x7d190ef8b130>,\n",
       " 'Norway': <catboost.core.CatBoostRegressor at 0x7d190ef8bd90>,\n",
       " 'Singapore': <catboost.core.CatBoostRegressor at 0x7d190ef8a0b0>}"
      ]
     },
     "execution_count": 70,
     "metadata": {},
     "output_type": "execute_result"
    }
   ],
   "source": [
    "country_model"
   ]
  },
  {
   "cell_type": "code",
   "execution_count": 71,
   "id": "caf25b78",
   "metadata": {
    "execution": {
     "iopub.execute_input": "2025-01-16T08:15:17.729599Z",
     "iopub.status.busy": "2025-01-16T08:15:17.729249Z",
     "iopub.status.idle": "2025-01-16T08:15:21.763979Z",
     "shell.execute_reply": "2025-01-16T08:15:21.762755Z"
    },
    "papermill": {
     "duration": 4.07162,
     "end_time": "2025-01-16T08:15:21.767972",
     "exception": false,
     "start_time": "2025-01-16T08:15:17.696352",
     "status": "completed"
    },
    "tags": []
   },
   "outputs": [
    {
     "name": "stderr",
     "output_type": "stream",
     "text": [
      "<ipython-input-71-b533e4724463>:7: SettingWithCopyWarning: \n",
      "A value is trying to be set on a copy of a slice from a DataFrame.\n",
      "Try using .loc[row_indexer,col_indexer] = value instead\n",
      "\n",
      "See the caveats in the documentation: https://pandas.pydata.org/pandas-docs/stable/user_guide/indexing.html#returning-a-view-versus-a-copy\n",
      "  df['num_sold']=country_predicts[c]\n",
      "<ipython-input-71-b533e4724463>:9: SettingWithCopyWarning: \n",
      "A value is trying to be set on a copy of a slice from a DataFrame.\n",
      "Try using .loc[row_indexer,col_indexer] = value instead\n",
      "\n",
      "See the caveats in the documentation: https://pandas.pydata.org/pandas-docs/stable/user_guide/indexing.html#returning-a-view-versus-a-copy\n",
      "  df['rolling_mean'] = df['num_sold'].rolling(window=30).mean()\n",
      "<ipython-input-71-b533e4724463>:10: SettingWithCopyWarning: \n",
      "A value is trying to be set on a copy of a slice from a DataFrame.\n",
      "Try using .loc[row_indexer,col_indexer] = value instead\n",
      "\n",
      "See the caveats in the documentation: https://pandas.pydata.org/pandas-docs/stable/user_guide/indexing.html#returning-a-view-versus-a-copy\n",
      "  df['rolling_std'] = df['num_sold'].rolling(window=30).std()\n",
      "<ipython-input-71-b533e4724463>:7: SettingWithCopyWarning: \n",
      "A value is trying to be set on a copy of a slice from a DataFrame.\n",
      "Try using .loc[row_indexer,col_indexer] = value instead\n",
      "\n",
      "See the caveats in the documentation: https://pandas.pydata.org/pandas-docs/stable/user_guide/indexing.html#returning-a-view-versus-a-copy\n",
      "  df['num_sold']=country_predicts[c]\n",
      "<ipython-input-71-b533e4724463>:9: SettingWithCopyWarning: \n",
      "A value is trying to be set on a copy of a slice from a DataFrame.\n",
      "Try using .loc[row_indexer,col_indexer] = value instead\n",
      "\n",
      "See the caveats in the documentation: https://pandas.pydata.org/pandas-docs/stable/user_guide/indexing.html#returning-a-view-versus-a-copy\n",
      "  df['rolling_mean'] = df['num_sold'].rolling(window=30).mean()\n",
      "<ipython-input-71-b533e4724463>:10: SettingWithCopyWarning: \n",
      "A value is trying to be set on a copy of a slice from a DataFrame.\n",
      "Try using .loc[row_indexer,col_indexer] = value instead\n",
      "\n",
      "See the caveats in the documentation: https://pandas.pydata.org/pandas-docs/stable/user_guide/indexing.html#returning-a-view-versus-a-copy\n",
      "  df['rolling_std'] = df['num_sold'].rolling(window=30).std()\n",
      "<ipython-input-71-b533e4724463>:7: SettingWithCopyWarning: \n",
      "A value is trying to be set on a copy of a slice from a DataFrame.\n",
      "Try using .loc[row_indexer,col_indexer] = value instead\n",
      "\n",
      "See the caveats in the documentation: https://pandas.pydata.org/pandas-docs/stable/user_guide/indexing.html#returning-a-view-versus-a-copy\n",
      "  df['num_sold']=country_predicts[c]\n",
      "<ipython-input-71-b533e4724463>:9: SettingWithCopyWarning: \n",
      "A value is trying to be set on a copy of a slice from a DataFrame.\n",
      "Try using .loc[row_indexer,col_indexer] = value instead\n",
      "\n",
      "See the caveats in the documentation: https://pandas.pydata.org/pandas-docs/stable/user_guide/indexing.html#returning-a-view-versus-a-copy\n",
      "  df['rolling_mean'] = df['num_sold'].rolling(window=30).mean()\n",
      "<ipython-input-71-b533e4724463>:10: SettingWithCopyWarning: \n",
      "A value is trying to be set on a copy of a slice from a DataFrame.\n",
      "Try using .loc[row_indexer,col_indexer] = value instead\n",
      "\n",
      "See the caveats in the documentation: https://pandas.pydata.org/pandas-docs/stable/user_guide/indexing.html#returning-a-view-versus-a-copy\n",
      "  df['rolling_std'] = df['num_sold'].rolling(window=30).std()\n",
      "<ipython-input-71-b533e4724463>:7: SettingWithCopyWarning: \n",
      "A value is trying to be set on a copy of a slice from a DataFrame.\n",
      "Try using .loc[row_indexer,col_indexer] = value instead\n",
      "\n",
      "See the caveats in the documentation: https://pandas.pydata.org/pandas-docs/stable/user_guide/indexing.html#returning-a-view-versus-a-copy\n",
      "  df['num_sold']=country_predicts[c]\n",
      "<ipython-input-71-b533e4724463>:9: SettingWithCopyWarning: \n",
      "A value is trying to be set on a copy of a slice from a DataFrame.\n",
      "Try using .loc[row_indexer,col_indexer] = value instead\n",
      "\n",
      "See the caveats in the documentation: https://pandas.pydata.org/pandas-docs/stable/user_guide/indexing.html#returning-a-view-versus-a-copy\n",
      "  df['rolling_mean'] = df['num_sold'].rolling(window=30).mean()\n",
      "<ipython-input-71-b533e4724463>:10: SettingWithCopyWarning: \n",
      "A value is trying to be set on a copy of a slice from a DataFrame.\n",
      "Try using .loc[row_indexer,col_indexer] = value instead\n",
      "\n",
      "See the caveats in the documentation: https://pandas.pydata.org/pandas-docs/stable/user_guide/indexing.html#returning-a-view-versus-a-copy\n",
      "  df['rolling_std'] = df['num_sold'].rolling(window=30).std()\n",
      "<ipython-input-71-b533e4724463>:7: SettingWithCopyWarning: \n",
      "A value is trying to be set on a copy of a slice from a DataFrame.\n",
      "Try using .loc[row_indexer,col_indexer] = value instead\n",
      "\n",
      "See the caveats in the documentation: https://pandas.pydata.org/pandas-docs/stable/user_guide/indexing.html#returning-a-view-versus-a-copy\n",
      "  df['num_sold']=country_predicts[c]\n",
      "<ipython-input-71-b533e4724463>:9: SettingWithCopyWarning: \n",
      "A value is trying to be set on a copy of a slice from a DataFrame.\n",
      "Try using .loc[row_indexer,col_indexer] = value instead\n",
      "\n",
      "See the caveats in the documentation: https://pandas.pydata.org/pandas-docs/stable/user_guide/indexing.html#returning-a-view-versus-a-copy\n",
      "  df['rolling_mean'] = df['num_sold'].rolling(window=30).mean()\n",
      "<ipython-input-71-b533e4724463>:10: SettingWithCopyWarning: \n",
      "A value is trying to be set on a copy of a slice from a DataFrame.\n",
      "Try using .loc[row_indexer,col_indexer] = value instead\n",
      "\n",
      "See the caveats in the documentation: https://pandas.pydata.org/pandas-docs/stable/user_guide/indexing.html#returning-a-view-versus-a-copy\n",
      "  df['rolling_std'] = df['num_sold'].rolling(window=30).std()\n",
      "<ipython-input-71-b533e4724463>:7: SettingWithCopyWarning: \n",
      "A value is trying to be set on a copy of a slice from a DataFrame.\n",
      "Try using .loc[row_indexer,col_indexer] = value instead\n",
      "\n",
      "See the caveats in the documentation: https://pandas.pydata.org/pandas-docs/stable/user_guide/indexing.html#returning-a-view-versus-a-copy\n",
      "  df['num_sold']=country_predicts[c]\n",
      "<ipython-input-71-b533e4724463>:9: SettingWithCopyWarning: \n",
      "A value is trying to be set on a copy of a slice from a DataFrame.\n",
      "Try using .loc[row_indexer,col_indexer] = value instead\n",
      "\n",
      "See the caveats in the documentation: https://pandas.pydata.org/pandas-docs/stable/user_guide/indexing.html#returning-a-view-versus-a-copy\n",
      "  df['rolling_mean'] = df['num_sold'].rolling(window=30).mean()\n",
      "<ipython-input-71-b533e4724463>:10: SettingWithCopyWarning: \n",
      "A value is trying to be set on a copy of a slice from a DataFrame.\n",
      "Try using .loc[row_indexer,col_indexer] = value instead\n",
      "\n",
      "See the caveats in the documentation: https://pandas.pydata.org/pandas-docs/stable/user_guide/indexing.html#returning-a-view-versus-a-copy\n",
      "  df['rolling_std'] = df['num_sold'].rolling(window=30).std()\n"
     ]
    },
    {
     "data": {
      "image/png": "[encoded data removed]",
      "text/plain": [
       "<Figure size 1200x800 with 6 Axes>"
      ]
     },
     "metadata": {},
     "output_type": "display_data"
    }
   ],
   "source": [
    "fig, axes = plt.subplots(2, 3, figsize=(12, 8))\n",
    "testcountrylist=df_test['country'].unique().tolist()\n",
    "country_predicts={}\n",
    "for i,c in enumerate(testcountrylist):\n",
    "    df=df_test[df_test['country']==c]\n",
    "    country_predicts[c] = np.expm1(country_model[c].predict(df.drop(['id','country'],axis=1)))\n",
    "    df['num_sold']=country_predicts[c]\n",
    "    df.set_index('date')\n",
    "    df['rolling_mean'] = df['num_sold'].rolling(window=30).mean()\n",
    "    df['rolling_std'] = df['num_sold'].rolling(window=30).std()\n",
    "    df[['num_sold', 'rolling_mean', 'rolling_std']].plot(ax=axes.flat[i],title=f'{c} Rolling Mean and Std Dev')\n",
    "\n",
    "plt.tight_layout()\n",
    "plt.show()"
   ]
  },
  {
   "cell_type": "code",
   "execution_count": 72,
   "id": "3277b584",
   "metadata": {
    "execution": {
     "iopub.execute_input": "2025-01-16T08:15:21.843421Z",
     "iopub.status.busy": "2025-01-16T08:15:21.843000Z",
     "iopub.status.idle": "2025-01-16T08:15:21.875652Z",
     "shell.execute_reply": "2025-01-16T08:15:21.874599Z"
    },
    "papermill": {
     "duration": 0.072505,
     "end_time": "2025-01-16T08:15:21.877720",
     "exception": false,
     "start_time": "2025-01-16T08:15:21.805215",
     "status": "completed"
    },
    "tags": []
   },
   "outputs": [],
   "source": [
    "cdf={}\n",
    "for c in testcountrylist:\n",
    "    cid=df_test[df_test['country']==c]['id']\n",
    "    cdf[c]=pd.concat([cid.reset_index(drop=True),pd.DataFrame(np.round(country_predicts[c],0),columns=['num_sold'])],axis=1)\n",
    "   "
   ]
  },
  {
   "cell_type": "code",
   "execution_count": 73,
   "id": "7fccd95d",
   "metadata": {
    "execution": {
     "iopub.execute_input": "2025-01-16T08:15:21.953013Z",
     "iopub.status.busy": "2025-01-16T08:15:21.952644Z",
     "iopub.status.idle": "2025-01-16T08:15:21.960382Z",
     "shell.execute_reply": "2025-01-16T08:15:21.959202Z"
    },
    "papermill": {
     "duration": 0.048969,
     "end_time": "2025-01-16T08:15:21.962909",
     "exception": false,
     "start_time": "2025-01-16T08:15:21.913940",
     "status": "completed"
    },
    "tags": []
   },
   "outputs": [],
   "source": [
    "temp = pd.concat([df.reset_index(drop=True) for df in cdf.values()])"
   ]
  },
  {
   "cell_type": "code",
   "execution_count": 74,
   "id": "85929e91",
   "metadata": {
    "execution": {
     "iopub.execute_input": "2025-01-16T08:15:22.039919Z",
     "iopub.status.busy": "2025-01-16T08:15:22.039560Z",
     "iopub.status.idle": "2025-01-16T08:15:22.060620Z",
     "shell.execute_reply": "2025-01-16T08:15:22.059488Z"
    },
    "papermill": {
     "duration": 0.063045,
     "end_time": "2025-01-16T08:15:22.062928",
     "exception": false,
     "start_time": "2025-01-16T08:15:21.999883",
     "status": "completed"
    },
    "tags": []
   },
   "outputs": [],
   "source": [
    "temp=temp.drop_duplicates()"
   ]
  },
  {
   "cell_type": "code",
   "execution_count": 75,
   "id": "86694cb0",
   "metadata": {
    "execution": {
     "iopub.execute_input": "2025-01-16T08:15:22.137622Z",
     "iopub.status.busy": "2025-01-16T08:15:22.137138Z",
     "iopub.status.idle": "2025-01-16T08:15:22.269689Z",
     "shell.execute_reply": "2025-01-16T08:15:22.268720Z"
    },
    "papermill": {
     "duration": 0.172074,
     "end_time": "2025-01-16T08:15:22.271658",
     "exception": false,
     "start_time": "2025-01-16T08:15:22.099584",
     "status": "completed"
    },
    "tags": []
   },
   "outputs": [],
   "source": [
    "temp.to_csv('submission_6country_dropna_spline_round.csv',index=False)"
   ]
  },
  {
   "cell_type": "code",
   "execution_count": 76,
   "id": "8134a16a",
   "metadata": {
    "execution": {
     "iopub.execute_input": "2025-01-16T08:15:22.346154Z",
     "iopub.status.busy": "2025-01-16T08:15:22.345713Z",
     "iopub.status.idle": "2025-01-16T08:15:22.377544Z",
     "shell.execute_reply": "2025-01-16T08:15:22.376358Z"
    },
    "papermill": {
     "duration": 0.071041,
     "end_time": "2025-01-16T08:15:22.379419",
     "exception": false,
     "start_time": "2025-01-16T08:15:22.308378",
     "status": "completed"
    },
    "tags": []
   },
   "outputs": [],
   "source": [
    "cdf={}\n",
    "for c in testcountrylist:\n",
    "    cid=df_test[df_test['country']==c]['id']\n",
    "    cdf[c]=pd.concat([cid.reset_index(drop=True),pd.DataFrame(np.fix(country_predicts[c]),columns=['num_sold'])],axis=1)"
   ]
  },
  {
   "cell_type": "code",
   "execution_count": 77,
   "id": "e7fc7e39",
   "metadata": {
    "execution": {
     "iopub.execute_input": "2025-01-16T08:15:22.454030Z",
     "iopub.status.busy": "2025-01-16T08:15:22.453659Z",
     "iopub.status.idle": "2025-01-16T08:15:22.596607Z",
     "shell.execute_reply": "2025-01-16T08:15:22.595501Z"
    },
    "papermill": {
     "duration": 0.182734,
     "end_time": "2025-01-16T08:15:22.598823",
     "exception": false,
     "start_time": "2025-01-16T08:15:22.416089",
     "status": "completed"
    },
    "tags": []
   },
   "outputs": [],
   "source": [
    "#pd.concat([df_test['id'],pd.DataFrame(np.round(predicts,0),columns=['num_sold'])],axis=1).reset_index(drop=True).to_csv('submission_impute_dropna_holidays_conseddays.csv',index=False)\n",
    "temp = pd.concat([df.reset_index(drop=True) for df in cdf.values()])\n",
    "temp=temp.drop_duplicates()\n",
    "temp.to_csv('submission_6country_dropna_spline_fix.csv',index=False)"
   ]
  }
 ],
 "metadata": {
  "kaggle": {
   "accelerator": "none",
   "dataSources": [
    {
     "databundleVersionId": 10652996,
     "sourceId": 85723,
     "sourceType": "competition"
    },
    {
     "datasetId": 6470396,
     "sourceId": 10452614,
     "sourceType": "datasetVersion"
    }
   ],
   "dockerImageVersionId": 30822,
   "isGpuEnabled": false,
   "isInternetEnabled": true,
   "language": "python",
   "sourceType": "notebook"
  },
  "kernelspec": {
   "display_name": "Python 3",
   "language": "python",
   "name": "python3"
  },
  "language_info": {
   "codemirror_mode": {
    "name": "ipython",
    "version": 3
   },
   "file_extension": ".py",
   "mimetype": "text/x-python",
   "name": "python",
   "nbconvert_exporter": "python",
   "pygments_lexer": "ipython3",
   "version": "3.10.12"
  },
  "papermill": {
   "default_parameters": {},
   "duration": 4136.428007,
   "end_time": "2025-01-16T08:15:23.665319",
   "environment_variables": {},
   "exception": null,
   "input_path": "__notebook__.ipynb",
   "output_path": "__notebook__.ipynb",
   "parameters": {},
   "start_time": "2025-01-16T07:06:27.237312",
   "version": "2.6.0"
  }
 },
 "nbformat": 4,
 "nbformat_minor": 5
}
