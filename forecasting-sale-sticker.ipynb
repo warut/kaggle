{
 "cells": [
  {
   "cell_type": "code",
   "execution_count": 1,
   "id": "5969cce4",
   "metadata": {
    "_cell_guid": "b1076dfc-b9ad-4769-8c92-a6c4dae69d19",
    "_uuid": "8f2839f25d086af736a60e9eeb907d3b93b6e0e5",
    "execution": {
     "iopub.execute_input": "2025-01-31T09:32:18.453042Z",
     "iopub.status.busy": "2025-01-31T09:32:18.452650Z",
     "iopub.status.idle": "2025-01-31T09:32:19.493373Z",
     "shell.execute_reply": "2025-01-31T09:32:19.491867Z"
    },
    "papermill": {
     "duration": 1.057909,
     "end_time": "2025-01-31T09:32:19.495430",
     "exception": false,
     "start_time": "2025-01-31T09:32:18.437521",
     "status": "completed"
    },
    "tags": []
   },
   "outputs": [
    {
     "name": "stdout",
     "output_type": "stream",
     "text": [
      "/kaggle/input/playground-series-s5e1/sample_submission.csv\n",
      "/kaggle/input/playground-series-s5e1/train.csv\n",
      "/kaggle/input/playground-series-s5e1/test.csv\n",
      "/kaggle/input/cbfitmodels/cbfit_Singapore\n",
      "/kaggle/input/cbfitmodels/cbfit_Italy\n",
      "/kaggle/input/cbfitmodels/cbfit_Finland\n",
      "/kaggle/input/cbfitmodels/cbfit_Canada\n",
      "/kaggle/input/cbfitmodels/cbfit_Norway\n",
      "/kaggle/input/cbfitmodels/cbfit_Kenya\n",
      "/kaggle/input/cbfitmodels/__results___files/__results___9_0.png\n",
      "/kaggle/input/cbfitmodels/__results___files/__results___64_1.png\n",
      "/kaggle/input/cbfitmodels/__results___files/__results___13_0.png\n",
      "/kaggle/input/cbfitmodels/catboost_info/test_error.tsv\n",
      "/kaggle/input/cbfitmodels/catboost_info/learn_error.tsv\n",
      "/kaggle/input/cbfitmodels/catboost_info/catboost_training.json\n",
      "/kaggle/input/cbfitmodels/catboost_info/time_left.tsv\n",
      "/kaggle/input/cbfitmodels/catboost_info/learn/events.out.tfevents\n",
      "/kaggle/input/cbfitmodels/catboost_info/test/events.out.tfevents\n"
     ]
    }
   ],
   "source": [
    "# This Python 3 environment comes with many helpful analytics libraries installed\n",
    "# It is defined by the kaggle/python Docker image: https://github.com/kaggle/docker-python\n",
    "# For example, here's several helpful packages to load\n",
    "\n",
    "import numpy as np # linear algebra\n",
    "import pandas as pd # data processing, CSV file I/O (e.g. pd.read_csv)\n",
    "\n",
    "# Input data files are available in the read-only \"../input/\" directory\n",
    "# For example, running this (by clicking run or pressing Shift+Enter) will list all files under the input directory\n",
    "\n",
    "import os\n",
    "for dirname, _, filenames in os.walk('/kaggle/input'):\n",
    "    for filename in filenames:\n",
    "        print(os.path.join(dirname, filename))\n",
    "\n",
    "# You can write up to 20GB to the current directory (/kaggle/working/) that gets preserved as output when you create a version using \"Save & Run All\" \n",
    "# You can also write temporary files to /kaggle/temp/, but they won't be saved outside of the current session"
   ]
  },
  {
   "cell_type": "code",
   "execution_count": 2,
   "id": "84138699",
   "metadata": {
    "execution": {
     "iopub.execute_input": "2025-01-31T09:32:19.523483Z",
     "iopub.status.busy": "2025-01-31T09:32:19.522924Z",
     "iopub.status.idle": "2025-01-31T09:32:20.884593Z",
     "shell.execute_reply": "2025-01-31T09:32:20.883337Z"
    },
    "papermill": {
     "duration": 1.377623,
     "end_time": "2025-01-31T09:32:20.886615",
     "exception": false,
     "start_time": "2025-01-31T09:32:19.508992",
     "status": "completed"
    },
    "tags": []
   },
   "outputs": [],
   "source": [
    "import pandas as pd\n",
    "import numpy as np\n",
    "from sklearn.preprocessing import SplineTransformer\n",
    "\n",
    "\n",
    "def periodic_spline_transformer(period, n_splines=None, degree=3):\n",
    "    if n_splines is None:\n",
    "        n_splines = period\n",
    "    n_knots = n_splines + 1  # periodic and include_bias is True\n",
    "    return SplineTransformer(\n",
    "        degree=degree,\n",
    "        n_knots=n_knots,\n",
    "        knots=np.linspace(0, period, n_knots).reshape(n_knots, 1),\n",
    "        extrapolation=\"periodic\",\n",
    "        include_bias=True,\n",
    "    )\n",
    "\n",
    "# Sample quarterly data\n",
    "# data = {'quarter': [1, 2, 3, 4, 1, 2, 3, 4, 1, 2, 3, 4],\n",
    "#         'value': [10, 15, 12, 18, 11, 16, 13, 19, 12, 17, 14, 20]}\n",
    "# df = pd.DataFrame(data)\n",
    "\n",
    "# # Create periodic spline transformer\n",
    "# qt = periodic_spline_transformer(12, 4)\n",
    "\n",
    "# # Transform the 'quarter' feature\n",
    "# quarter = qt.fit_transform(df_train[['Month']])[:,0]\n",
    "\n",
    "# # Add transformed features to DataFrame\n",
    "# print(quarter)"
   ]
  },
  {
   "cell_type": "code",
   "execution_count": 3,
   "id": "16d6192c",
   "metadata": {
    "execution": {
     "iopub.execute_input": "2025-01-31T09:32:20.918335Z",
     "iopub.status.busy": "2025-01-31T09:32:20.917726Z",
     "iopub.status.idle": "2025-01-31T09:32:20.924334Z",
     "shell.execute_reply": "2025-01-31T09:32:20.922525Z"
    },
    "papermill": {
     "duration": 0.025988,
     "end_time": "2025-01-31T09:32:20.926866",
     "exception": false,
     "start_time": "2025-01-31T09:32:20.900878",
     "status": "completed"
    },
    "tags": []
   },
   "outputs": [],
   "source": [
    "check_pg=[]"
   ]
  },
  {
   "cell_type": "code",
   "execution_count": 4,
   "id": "95eadd64",
   "metadata": {
    "execution": {
     "iopub.execute_input": "2025-01-31T09:32:20.959878Z",
     "iopub.status.busy": "2025-01-31T09:32:20.959210Z",
     "iopub.status.idle": "2025-01-31T09:32:20.968085Z",
     "shell.execute_reply": "2025-01-31T09:32:20.966910Z"
    },
    "papermill": {
     "duration": 0.028894,
     "end_time": "2025-01-31T09:32:20.970356",
     "exception": false,
     "start_time": "2025-01-31T09:32:20.941462",
     "status": "completed"
    },
    "tags": []
   },
   "outputs": [],
   "source": [
    "def plot_periodogram(ts, detrend='linear', ax=None):\n",
    "    from scipy.signal import periodogram\n",
    "    fs = pd.Timedelta(\"365D\") / pd.Timedelta(\"1D\")\n",
    "    freqencies, spectrum = periodogram(\n",
    "        ts,\n",
    "        fs=fs,\n",
    "        detrend=detrend,\n",
    "        window=\"boxcar\",\n",
    "        scaling='spectrum',\n",
    "    )\n",
    "    check_pg.append(freqencies)\n",
    "    check_pg.append(spectrum)\n",
    "    if ax is None:\n",
    "        _, ax = plt.subplots()\n",
    "    ax.step(freqencies, spectrum, color=\"purple\")\n",
    "    ax.set_xscale(\"log\")\n",
    "    ax.set_xticks([1, 2, 4, 6, 12, 26, 52, 104])\n",
    "    ax.set_xticklabels(\n",
    "        [\n",
    "            \"Annual (1)\",\n",
    "            \"Semiannual (2)\",\n",
    "            \"Quarterly (4)\",\n",
    "            \"Bimonthly (6)\",\n",
    "            \"Monthly (12)\",\n",
    "            \"Biweekly (26)\",\n",
    "            \"Weekly (52)\",\n",
    "            \"Semiweekly (104)\",\n",
    "        ],\n",
    "        rotation=30,\n",
    "    )\n",
    "    ax.ticklabel_format(axis=\"y\", style=\"sci\", scilimits=(0, 0))\n",
    "    ax.set_ylabel(\"Variance\")\n",
    "    ax.set_title(\"Periodogram\")\n",
    "    plt.savefig('pg.png')\n",
    "    return ax"
   ]
  },
  {
   "cell_type": "code",
   "execution_count": 5,
   "id": "e20c273c",
   "metadata": {
    "execution": {
     "iopub.execute_input": "2025-01-31T09:32:21.000001Z",
     "iopub.status.busy": "2025-01-31T09:32:20.999593Z",
     "iopub.status.idle": "2025-01-31T09:32:33.488398Z",
     "shell.execute_reply": "2025-01-31T09:32:33.487233Z"
    },
    "papermill": {
     "duration": 12.506269,
     "end_time": "2025-01-31T09:32:33.490501",
     "exception": false,
     "start_time": "2025-01-31T09:32:20.984232",
     "status": "completed"
    },
    "tags": []
   },
   "outputs": [
    {
     "name": "stdout",
     "output_type": "stream",
     "text": [
      "Collecting optuna-integration[catboost]\r\n",
      "  Downloading optuna_integration-4.2.1-py3-none-any.whl.metadata (12 kB)\r\n",
      "Requirement already satisfied: optuna in /usr/local/lib/python3.10/dist-packages (from optuna-integration[catboost]) (4.1.0)\r\n",
      "Requirement already satisfied: numpy<2.0.0 in /usr/local/lib/python3.10/dist-packages (from optuna-integration[catboost]) (1.26.4)\r\n",
      "Requirement already satisfied: catboost in /usr/local/lib/python3.10/dist-packages (from optuna-integration[catboost]) (1.2.7)\r\n",
      "Requirement already satisfied: graphviz in /usr/local/lib/python3.10/dist-packages (from catboost->optuna-integration[catboost]) (0.20.3)\r\n",
      "Requirement already satisfied: matplotlib in /usr/local/lib/python3.10/dist-packages (from catboost->optuna-integration[catboost]) (3.7.1)\r\n",
      "Requirement already satisfied: pandas>=0.24 in /usr/local/lib/python3.10/dist-packages (from catboost->optuna-integration[catboost]) (2.1.4)\r\n",
      "Requirement already satisfied: scipy in /usr/local/lib/python3.10/dist-packages (from catboost->optuna-integration[catboost]) (1.13.1)\r\n",
      "Requirement already satisfied: plotly in /usr/local/lib/python3.10/dist-packages (from catboost->optuna-integration[catboost]) (5.24.1)\r\n",
      "Requirement already satisfied: six in /usr/local/lib/python3.10/dist-packages (from catboost->optuna-integration[catboost]) (1.16.0)\r\n",
      "Requirement already satisfied: alembic>=1.5.0 in /usr/local/lib/python3.10/dist-packages (from optuna->optuna-integration[catboost]) (1.14.0)\r\n",
      "Requirement already satisfied: colorlog in /usr/local/lib/python3.10/dist-packages (from optuna->optuna-integration[catboost]) (6.9.0)\r\n",
      "Requirement already satisfied: packaging>=20.0 in /usr/local/lib/python3.10/dist-packages (from optuna->optuna-integration[catboost]) (24.1)\r\n",
      "Requirement already satisfied: sqlalchemy>=1.4.2 in /usr/local/lib/python3.10/dist-packages (from optuna->optuna-integration[catboost]) (2.0.35)\r\n",
      "Requirement already satisfied: tqdm in /usr/local/lib/python3.10/dist-packages (from optuna->optuna-integration[catboost]) (4.66.5)\r\n",
      "Requirement already satisfied: PyYAML in /usr/local/lib/python3.10/dist-packages (from optuna->optuna-integration[catboost]) (6.0.2)\r\n",
      "Requirement already satisfied: Mako in /usr/local/lib/python3.10/dist-packages (from alembic>=1.5.0->optuna->optuna-integration[catboost]) (1.3.8)\r\n",
      "Requirement already satisfied: typing-extensions>=4 in /usr/local/lib/python3.10/dist-packages (from alembic>=1.5.0->optuna->optuna-integration[catboost]) (4.12.2)\r\n",
      "Requirement already satisfied: python-dateutil>=2.8.2 in /usr/local/lib/python3.10/dist-packages (from pandas>=0.24->catboost->optuna-integration[catboost]) (2.8.2)\r\n",
      "Requirement already satisfied: pytz>=2020.1 in /usr/local/lib/python3.10/dist-packages (from pandas>=0.24->catboost->optuna-integration[catboost]) (2024.2)\r\n",
      "Requirement already satisfied: tzdata>=2022.1 in /usr/local/lib/python3.10/dist-packages (from pandas>=0.24->catboost->optuna-integration[catboost]) (2024.1)\r\n",
      "Requirement already satisfied: greenlet!=0.4.17 in /usr/local/lib/python3.10/dist-packages (from sqlalchemy>=1.4.2->optuna->optuna-integration[catboost]) (3.1.0)\r\n",
      "Requirement already satisfied: contourpy>=1.0.1 in /usr/local/lib/python3.10/dist-packages (from matplotlib->catboost->optuna-integration[catboost]) (1.3.0)\r\n",
      "Requirement already satisfied: cycler>=0.10 in /usr/local/lib/python3.10/dist-packages (from matplotlib->catboost->optuna-integration[catboost]) (0.12.1)\r\n",
      "Requirement already satisfied: fonttools>=4.22.0 in /usr/local/lib/python3.10/dist-packages (from matplotlib->catboost->optuna-integration[catboost]) (4.53.1)\r\n",
      "Requirement already satisfied: kiwisolver>=1.0.1 in /usr/local/lib/python3.10/dist-packages (from matplotlib->catboost->optuna-integration[catboost]) (1.4.7)\r\n",
      "Requirement already satisfied: pillow>=6.2.0 in /usr/local/lib/python3.10/dist-packages (from matplotlib->catboost->optuna-integration[catboost]) (10.4.0)\r\n",
      "Requirement already satisfied: pyparsing>=2.3.1 in /usr/local/lib/python3.10/dist-packages (from matplotlib->catboost->optuna-integration[catboost]) (3.1.4)\r\n",
      "Requirement already satisfied: tenacity>=6.2.0 in /usr/local/lib/python3.10/dist-packages (from plotly->catboost->optuna-integration[catboost]) (9.0.0)\r\n",
      "Requirement already satisfied: MarkupSafe>=0.9.2 in /usr/local/lib/python3.10/dist-packages (from Mako->alembic>=1.5.0->optuna->optuna-integration[catboost]) (2.1.5)\r\n",
      "Downloading optuna_integration-4.2.1-py3-none-any.whl (97 kB)\r\n",
      "\u001b[2K   \u001b[90m━━━━━━━━━━━━━━━━━━━━━━━━━━━━━━━━━━━━━━━━\u001b[0m \u001b[32m97.6/97.6 kB\u001b[0m \u001b[31m3.3 MB/s\u001b[0m eta \u001b[36m0:00:00\u001b[0m\r\n",
      "\u001b[?25hInstalling collected packages: optuna-integration\r\n",
      "Successfully installed optuna-integration-4.2.1\r\n",
      "Requirement already satisfied: holidays in /usr/local/lib/python3.10/dist-packages (0.57)\r\n",
      "Collecting holidays\r\n",
      "  Downloading holidays-0.65-py3-none-any.whl.metadata (26 kB)\r\n",
      "Requirement already satisfied: python-dateutil in /usr/local/lib/python3.10/dist-packages (from holidays) (2.8.2)\r\n",
      "Requirement already satisfied: six>=1.5 in /usr/local/lib/python3.10/dist-packages (from python-dateutil->holidays) (1.16.0)\r\n",
      "Downloading holidays-0.65-py3-none-any.whl (1.2 MB)\r\n",
      "\u001b[2K   \u001b[90m━━━━━━━━━━━━━━━━━━━━━━━━━━━━━━━━━━━━━━━━\u001b[0m \u001b[32m1.2/1.2 MB\u001b[0m \u001b[31m29.5 MB/s\u001b[0m eta \u001b[36m0:00:00\u001b[0m\r\n",
      "\u001b[?25hInstalling collected packages: holidays\r\n",
      "  Attempting uninstall: holidays\r\n",
      "    Found existing installation: holidays 0.57\r\n",
      "    Uninstalling holidays-0.57:\r\n",
      "      Successfully uninstalled holidays-0.57\r\n",
      "Successfully installed holidays-0.65\r\n"
     ]
    }
   ],
   "source": [
    "!pip install optuna-integration[catboost]\n",
    "!pip install -U holidays"
   ]
  },
  {
   "cell_type": "code",
   "execution_count": 6,
   "id": "7b7a1a20",
   "metadata": {
    "execution": {
     "iopub.execute_input": "2025-01-31T09:32:33.521665Z",
     "iopub.status.busy": "2025-01-31T09:32:33.521310Z",
     "iopub.status.idle": "2025-01-31T09:32:38.203898Z",
     "shell.execute_reply": "2025-01-31T09:32:38.202479Z"
    },
    "papermill": {
     "duration": 4.70091,
     "end_time": "2025-01-31T09:32:38.205955",
     "exception": false,
     "start_time": "2025-01-31T09:32:33.505045",
     "status": "completed"
    },
    "tags": []
   },
   "outputs": [
    {
     "name": "stdout",
     "output_type": "stream",
     "text": [
      "Collecting pycountry\r\n",
      "  Downloading pycountry-24.6.1-py3-none-any.whl.metadata (12 kB)\r\n",
      "Downloading pycountry-24.6.1-py3-none-any.whl (6.3 MB)\r\n",
      "\u001b[2K   \u001b[90m━━━━━━━━━━━━━━━━━━━━━━━━━━━━━━━━━━━━━━━━\u001b[0m \u001b[32m6.3/6.3 MB\u001b[0m \u001b[31m71.4 MB/s\u001b[0m eta \u001b[36m0:00:00\u001b[0m\r\n",
      "\u001b[?25hInstalling collected packages: pycountry\r\n",
      "Successfully installed pycountry-24.6.1\r\n"
     ]
    }
   ],
   "source": [
    "!pip install -U pycountry"
   ]
  },
  {
   "cell_type": "code",
   "execution_count": 7,
   "id": "0c35829d",
   "metadata": {
    "execution": {
     "iopub.execute_input": "2025-01-31T09:32:38.237671Z",
     "iopub.status.busy": "2025-01-31T09:32:38.237286Z",
     "iopub.status.idle": "2025-01-31T09:32:38.296528Z",
     "shell.execute_reply": "2025-01-31T09:32:38.295482Z"
    },
    "papermill": {
     "duration": 0.077771,
     "end_time": "2025-01-31T09:32:38.298640",
     "exception": false,
     "start_time": "2025-01-31T09:32:38.220869",
     "status": "completed"
    },
    "tags": []
   },
   "outputs": [],
   "source": [
    "import statsmodels"
   ]
  },
  {
   "cell_type": "code",
   "execution_count": 8,
   "id": "ccfd72b7",
   "metadata": {
    "execution": {
     "iopub.execute_input": "2025-01-31T09:32:38.328938Z",
     "iopub.status.busy": "2025-01-31T09:32:38.328574Z",
     "iopub.status.idle": "2025-01-31T09:32:39.764852Z",
     "shell.execute_reply": "2025-01-31T09:32:39.763814Z"
    },
    "papermill": {
     "duration": 1.453645,
     "end_time": "2025-01-31T09:32:39.766817",
     "exception": false,
     "start_time": "2025-01-31T09:32:38.313172",
     "status": "completed"
    },
    "tags": []
   },
   "outputs": [],
   "source": [
    "import pandas as pd\n",
    "import numpy as np\n",
    "import optuna\n",
    "import catboost as cb\n",
    "import matplotlib\n",
    "import seaborn as sns\n",
    "from sklearn.metrics import mean_absolute_percentage_error\n",
    "from sklearn.model_selection import train_test_split\n",
    "from optuna.integration import CatBoostPruningCallback\n",
    "import pycountry \n",
    "import holidays\n",
    "\n",
    "\n"
   ]
  },
  {
   "cell_type": "code",
   "execution_count": 9,
   "id": "4802d476",
   "metadata": {
    "execution": {
     "iopub.execute_input": "2025-01-31T09:32:39.798678Z",
     "iopub.status.busy": "2025-01-31T09:32:39.798173Z",
     "iopub.status.idle": "2025-01-31T09:32:40.255273Z",
     "shell.execute_reply": "2025-01-31T09:32:40.254170Z"
    },
    "papermill": {
     "duration": 0.475482,
     "end_time": "2025-01-31T09:32:40.257214",
     "exception": false,
     "start_time": "2025-01-31T09:32:39.781732",
     "status": "completed"
    },
    "tags": []
   },
   "outputs": [],
   "source": [
    "df_train=pd.read_csv('/kaggle/input/playground-series-s5e1/train.csv')\n",
    "df_test=pd.read_csv('/kaggle/input/playground-series-s5e1/test.csv')\n",
    "\n"
   ]
  },
  {
   "cell_type": "code",
   "execution_count": 10,
   "id": "cdb66c15",
   "metadata": {
    "execution": {
     "iopub.execute_input": "2025-01-31T09:32:40.287444Z",
     "iopub.status.busy": "2025-01-31T09:32:40.286956Z",
     "iopub.status.idle": "2025-01-31T09:32:40.361763Z",
     "shell.execute_reply": "2025-01-31T09:32:40.360555Z"
    },
    "papermill": {
     "duration": 0.091939,
     "end_time": "2025-01-31T09:32:40.363604",
     "exception": false,
     "start_time": "2025-01-31T09:32:40.271665",
     "status": "completed"
    },
    "tags": []
   },
   "outputs": [
    {
     "name": "stdout",
     "output_type": "stream",
     "text": [
      "<class 'pandas.core.frame.DataFrame'>\n",
      "RangeIndex: 230130 entries, 0 to 230129\n",
      "Data columns (total 6 columns):\n",
      " #   Column    Non-Null Count   Dtype  \n",
      "---  ------    --------------   -----  \n",
      " 0   id        230130 non-null  int64  \n",
      " 1   date      230130 non-null  object \n",
      " 2   country   230130 non-null  object \n",
      " 3   store     230130 non-null  object \n",
      " 4   product   230130 non-null  object \n",
      " 5   num_sold  221259 non-null  float64\n",
      "dtypes: float64(1), int64(1), object(4)\n",
      "memory usage: 10.5+ MB\n"
     ]
    }
   ],
   "source": [
    "df_train.info()"
   ]
  },
  {
   "cell_type": "code",
   "execution_count": 11,
   "id": "69933214",
   "metadata": {
    "execution": {
     "iopub.execute_input": "2025-01-31T09:32:40.393961Z",
     "iopub.status.busy": "2025-01-31T09:32:40.393567Z",
     "iopub.status.idle": "2025-01-31T09:32:40.416698Z",
     "shell.execute_reply": "2025-01-31T09:32:40.415620Z"
    },
    "papermill": {
     "duration": 0.040518,
     "end_time": "2025-01-31T09:32:40.418682",
     "exception": false,
     "start_time": "2025-01-31T09:32:40.378164",
     "status": "completed"
    },
    "tags": []
   },
   "outputs": [
    {
     "data": {
      "text/plain": [
       "array(['Discount Stickers', 'Stickers for Less', 'Premium Sticker Mart'],\n",
       "      dtype=object)"
      ]
     },
     "execution_count": 11,
     "metadata": {},
     "output_type": "execute_result"
    }
   ],
   "source": [
    "df_train['store'].unique()"
   ]
  },
  {
   "cell_type": "code",
   "execution_count": 12,
   "id": "6e76619e",
   "metadata": {
    "execution": {
     "iopub.execute_input": "2025-01-31T09:32:40.450145Z",
     "iopub.status.busy": "2025-01-31T09:32:40.449757Z",
     "iopub.status.idle": "2025-01-31T09:32:40.483512Z",
     "shell.execute_reply": "2025-01-31T09:32:40.482374Z"
    },
    "papermill": {
     "duration": 0.051443,
     "end_time": "2025-01-31T09:32:40.485559",
     "exception": false,
     "start_time": "2025-01-31T09:32:40.434116",
     "status": "completed"
    },
    "tags": []
   },
   "outputs": [
    {
     "data": {
      "text/plain": [
       "array(['Discount Stickers', 'Stickers for Less', 'Premium Sticker Mart'],\n",
       "      dtype=object)"
      ]
     },
     "execution_count": 12,
     "metadata": {},
     "output_type": "execute_result"
    }
   ],
   "source": [
    "df_train[df_train['country']=='Kenya']['store'].unique()"
   ]
  },
  {
   "cell_type": "code",
   "execution_count": 13,
   "id": "1e9f6fa6",
   "metadata": {
    "execution": {
     "iopub.execute_input": "2025-01-31T09:32:40.515878Z",
     "iopub.status.busy": "2025-01-31T09:32:40.515539Z",
     "iopub.status.idle": "2025-01-31T09:32:40.534746Z",
     "shell.execute_reply": "2025-01-31T09:32:40.533664Z"
    },
    "papermill": {
     "duration": 0.036418,
     "end_time": "2025-01-31T09:32:40.536607",
     "exception": false,
     "start_time": "2025-01-31T09:32:40.500189",
     "status": "completed"
    },
    "tags": []
   },
   "outputs": [
    {
     "data": {
      "text/plain": [
       "array(['Holographic Goose', 'Kaggle', 'Kaggle Tiers', 'Kerneler',\n",
       "       'Kerneler Dark Mode'], dtype=object)"
      ]
     },
     "execution_count": 13,
     "metadata": {},
     "output_type": "execute_result"
    }
   ],
   "source": [
    "df_train['product'].unique()"
   ]
  },
  {
   "cell_type": "code",
   "execution_count": 14,
   "id": "048d7b2e",
   "metadata": {
    "execution": {
     "iopub.execute_input": "2025-01-31T09:32:40.567674Z",
     "iopub.status.busy": "2025-01-31T09:32:40.567304Z",
     "iopub.status.idle": "2025-01-31T09:32:41.593202Z",
     "shell.execute_reply": "2025-01-31T09:32:41.592195Z"
    },
    "papermill": {
     "duration": 1.043883,
     "end_time": "2025-01-31T09:32:41.595161",
     "exception": false,
     "start_time": "2025-01-31T09:32:40.551278",
     "status": "completed"
    },
    "tags": []
   },
   "outputs": [
    {
     "data": {
      "image/png": "[encoded data removed]",
      "text/plain": [
       "<Figure size 640x480 with 4 Axes>"
      ]
     },
     "metadata": {},
     "output_type": "display_data"
    }
   ],
   "source": [
    "### import pandas as pd\n",
    "import numpy as np\n",
    "from statsmodels.tsa.seasonal import seasonal_decompose\n",
    "import matplotlib.pyplot as plt\n",
    "\n",
    "# Generate synthetic time series data\n",
    "np.random.seed(42)\n",
    "#df_train['date']=pd.to_datetime(df_train['date'])\n",
    "#df_train=df_train.set_index('date')\n",
    "df=df_train['num_sold']\n",
    "\n",
    "#time = pd.date_range(start=df_train['date'].min, end=df_train['date'].max, periods=365, freq='D')\n",
    "#series = 10 + 0.05 * np.arange(100) + np.sin(2 * np.pi * time.dayofyear / 365) + np.random.normal(0, 1, 100)\n",
    "#df = pd.DataFrame({'date': time, 'value': series}).set_index('date')\n",
    "\n",
    "# Decompose time series\n",
    "decomposition = seasonal_decompose(\n",
    "    df_train[(df_train['country']=='Singapore') & \n",
    "    (df_train['date'].str.contains('2013')) &\n",
    "    (df_train['store']=='Premium Sticker Mart')]['num_sold'],\n",
    "    model='multiplicative', period=30)  # Set period according to data frequency\n",
    "\n",
    "# Plot components\n",
    "decomposition.plot()\n",
    "plt.show()\n"
   ]
  },
  {
   "cell_type": "code",
   "execution_count": 15,
   "id": "a1970912",
   "metadata": {
    "execution": {
     "iopub.execute_input": "2025-01-31T09:32:41.629549Z",
     "iopub.status.busy": "2025-01-31T09:32:41.628945Z",
     "iopub.status.idle": "2025-01-31T09:32:41.632998Z",
     "shell.execute_reply": "2025-01-31T09:32:41.632184Z"
    },
    "papermill": {
     "duration": 0.022764,
     "end_time": "2025-01-31T09:32:41.634691",
     "exception": false,
     "start_time": "2025-01-31T09:32:41.611927",
     "status": "completed"
    },
    "tags": []
   },
   "outputs": [],
   "source": [
    "# temp=pd.concat([df_train['date'],df_train['num_sold']],axis=1)\n",
    "# sumsale2016=temp.groupby('date').mean().squeeze().loc['2013']\n",
    "# #sumsale2016\n",
    "# plot_periodogram(sumsale2016)"
   ]
  },
  {
   "cell_type": "code",
   "execution_count": 16,
   "id": "7cd4bce8",
   "metadata": {
    "execution": {
     "iopub.execute_input": "2025-01-31T09:32:41.668717Z",
     "iopub.status.busy": "2025-01-31T09:32:41.668336Z",
     "iopub.status.idle": "2025-01-31T09:32:43.061765Z",
     "shell.execute_reply": "2025-01-31T09:32:43.059722Z"
    },
    "papermill": {
     "duration": 1.41509,
     "end_time": "2025-01-31T09:32:43.066092",
     "exception": false,
     "start_time": "2025-01-31T09:32:41.651002",
     "status": "completed"
    },
    "tags": []
   },
   "outputs": [
    {
     "name": "stdout",
     "output_type": "stream",
     "text": [
      "ADF Statistic: -6.129147123657372\n",
      "p-value: 8.484833374009022e-08\n",
      "The series is stationary.\n"
     ]
    }
   ],
   "source": [
    "from statsmodels.tsa.stattools import adfuller\n",
    "\n",
    "# Perform ADF test\n",
    "adf_result = adfuller(df_train[(df_train['country']=='Singapore') & (df_train['store']=='Discount Stickers')]['num_sold'])\n",
    "\n",
    "# Print results\n",
    "print(\"ADF Statistic:\", adf_result[0])\n",
    "print(\"p-value:\", adf_result[1])\n",
    "if adf_result[1] < 0.05:\n",
    "    print(\"The series is stationary.\")\n",
    "else:\n",
    "    print(\"The series is not stationary.\")\n"
   ]
  },
  {
   "cell_type": "code",
   "execution_count": 17,
   "id": "85008393",
   "metadata": {
    "execution": {
     "iopub.execute_input": "2025-01-31T09:32:43.130847Z",
     "iopub.status.busy": "2025-01-31T09:32:43.130030Z",
     "iopub.status.idle": "2025-01-31T09:32:43.208927Z",
     "shell.execute_reply": "2025-01-31T09:32:43.205287Z"
    },
    "papermill": {
     "duration": 0.117341,
     "end_time": "2025-01-31T09:32:43.214437",
     "exception": false,
     "start_time": "2025-01-31T09:32:43.097096",
     "status": "completed"
    },
    "tags": []
   },
   "outputs": [
    {
     "name": "stdout",
     "output_type": "stream",
     "text": [
      "KPSS Statistic: 0.7976600279714846\n",
      "p-value: 0.01\n",
      "The series is not stationary (has a trend).\n"
     ]
    },
    {
     "name": "stderr",
     "output_type": "stream",
     "text": [
      "<ipython-input-17-b1e5399dac4b>:4: InterpolationWarning: The test statistic is outside of the range of p-values available in the\n",
      "look-up table. The actual p-value is smaller than the p-value returned.\n",
      "\n",
      "  kpss_result = kpss(df_train[(df_train['country']=='Singapore') & (df_train['store']=='Discount Stickers')]['num_sold'], regression='c')\n"
     ]
    }
   ],
   "source": [
    "from statsmodels.tsa.stattools import kpss\n",
    "\n",
    "# Perform KPSS test\n",
    "kpss_result = kpss(df_train[(df_train['country']=='Singapore') & (df_train['store']=='Discount Stickers')]['num_sold'], regression='c')\n",
    "\n",
    "# Print results\n",
    "print(\"KPSS Statistic:\", kpss_result[0])\n",
    "print(\"p-value:\", kpss_result[1])\n",
    "if kpss_result[1] < 0.05:\n",
    "    print(\"The series is not stationary (has a trend).\")\n",
    "else:\n",
    "    print(\"The series is stationary.\")"
   ]
  },
  {
   "cell_type": "code",
   "execution_count": 18,
   "id": "57fc3b6a",
   "metadata": {
    "execution": {
     "iopub.execute_input": "2025-01-31T09:32:43.281672Z",
     "iopub.status.busy": "2025-01-31T09:32:43.279614Z",
     "iopub.status.idle": "2025-01-31T09:32:43.356746Z",
     "shell.execute_reply": "2025-01-31T09:32:43.355213Z"
    },
    "papermill": {
     "duration": 0.11281,
     "end_time": "2025-01-31T09:32:43.358823",
     "exception": false,
     "start_time": "2025-01-31T09:32:43.246013",
     "status": "completed"
    },
    "tags": []
   },
   "outputs": [
    {
     "name": "stdout",
     "output_type": "stream",
     "text": [
      "<class 'pandas.core.frame.DataFrame'>\n",
      "RangeIndex: 230130 entries, 0 to 230129\n",
      "Data columns (total 6 columns):\n",
      " #   Column    Non-Null Count   Dtype  \n",
      "---  ------    --------------   -----  \n",
      " 0   id        230130 non-null  int64  \n",
      " 1   date      230130 non-null  object \n",
      " 2   country   230130 non-null  object \n",
      " 3   store     230130 non-null  object \n",
      " 4   product   230130 non-null  object \n",
      " 5   num_sold  221259 non-null  float64\n",
      "dtypes: float64(1), int64(1), object(4)\n",
      "memory usage: 10.5+ MB\n"
     ]
    }
   ],
   "source": [
    "df_train.info()"
   ]
  },
  {
   "cell_type": "code",
   "execution_count": 19,
   "id": "89b098a7",
   "metadata": {
    "execution": {
     "iopub.execute_input": "2025-01-31T09:32:43.393160Z",
     "iopub.status.busy": "2025-01-31T09:32:43.392751Z",
     "iopub.status.idle": "2025-01-31T09:32:46.711221Z",
     "shell.execute_reply": "2025-01-31T09:32:46.709761Z"
    },
    "papermill": {
     "duration": 3.339892,
     "end_time": "2025-01-31T09:32:46.715272",
     "exception": false,
     "start_time": "2025-01-31T09:32:43.375380",
     "status": "completed"
    },
    "tags": []
   },
   "outputs": [
    {
     "data": {
      "image/png": "[encoded data removed]",
      "text/plain": [
       "<Figure size 1200x800 with 6 Axes>"
      ]
     },
     "metadata": {},
     "output_type": "display_data"
    }
   ],
   "source": [
    "# Plot showing timeseries attributes: trend, seasonality \n",
    "\n",
    "# Create subplots: 2 rows, 3 columns\n",
    "fig, axes = plt.subplots(2, 3, figsize=(12, 8))\n",
    "\n",
    "# Flatten the axes array for easy iteration\n",
    "axes = axes.flatten()\n",
    "countrylist=df_train['country'].unique().tolist()\n",
    "# Loop through each subplot and plot\n",
    "for i, ax in enumerate(axes):\n",
    "    df=df_train[(df_train['country']==countrylist[i]) & (df_train['store']=='Discount Stickers')][['date','num_sold']]\n",
    "    df.dropna(inplace=True)\n",
    "    df.set_index('date',inplace=True)\n",
    "    df['rolling_mean'] = df['num_sold'].rolling(window=30).mean()\n",
    "    df['rolling_std'] = df['num_sold'].rolling(window=30).std()\n",
    "    df[['num_sold', 'rolling_mean', 'rolling_std']].plot(ax=ax,title=f'{countrylist[i]} Rolling Mean and Std Dev')\n",
    "\n",
    "plt.tight_layout()\n",
    "\n",
    "# Show the plot\n",
    "plt.show()\n",
    "    "
   ]
  },
  {
   "cell_type": "code",
   "execution_count": 20,
   "id": "932bef11",
   "metadata": {
    "execution": {
     "iopub.execute_input": "2025-01-31T09:32:46.761287Z",
     "iopub.status.busy": "2025-01-31T09:32:46.760864Z",
     "iopub.status.idle": "2025-01-31T09:32:46.844846Z",
     "shell.execute_reply": "2025-01-31T09:32:46.843780Z"
    },
    "papermill": {
     "duration": 0.10825,
     "end_time": "2025-01-31T09:32:46.846681",
     "exception": false,
     "start_time": "2025-01-31T09:32:46.738431",
     "status": "completed"
    },
    "tags": []
   },
   "outputs": [
    {
     "data": {
      "text/plain": [
       "<bound method Series.max of 46        20.0\n",
       "47        16.0\n",
       "48         8.0\n",
       "49         9.0\n",
       "50         5.0\n",
       "          ... \n",
       "230095    10.0\n",
       "230096    72.0\n",
       "230097    58.0\n",
       "230098    33.0\n",
       "230099    42.0\n",
       "Name: num_sold, Length: 33730, dtype: float64>"
      ]
     },
     "execution_count": 20,
     "metadata": {},
     "output_type": "execute_result"
    }
   ],
   "source": [
    "test=df_train.dropna()\n",
    "test[test['country']=='Kenya']['num_sold'].max"
   ]
  },
  {
   "cell_type": "code",
   "execution_count": 21,
   "id": "f1b3dc17",
   "metadata": {
    "execution": {
     "iopub.execute_input": "2025-01-31T09:32:46.890187Z",
     "iopub.status.busy": "2025-01-31T09:32:46.889725Z",
     "iopub.status.idle": "2025-01-31T09:32:46.894911Z",
     "shell.execute_reply": "2025-01-31T09:32:46.893851Z"
    },
    "papermill": {
     "duration": 0.02903,
     "end_time": "2025-01-31T09:32:46.896643",
     "exception": false,
     "start_time": "2025-01-31T09:32:46.867613",
     "status": "completed"
    },
    "tags": []
   },
   "outputs": [],
   "source": [
    "\n",
    "\n",
    "def get_alpha2_code(country_name):\n",
    "  \"\"\"\n",
    "  Gets the ISO 3166-1 Alpha-2 country code for the given country name.\n",
    "\n",
    "  Args:\n",
    "    country_name: The name of the country.\n",
    "\n",
    "  Returns:\n",
    "    The ISO 3166-1 Alpha-2 country code, or None if the country is not found.\n",
    "  \"\"\"\n",
    "  try:\n",
    "    country = pycountry.countries.search_fuzzy(country_name)[0]\n",
    "    return country.alpha_2\n",
    "  except LookupError:\n",
    "    return None\n",
    "\n"
   ]
  },
  {
   "cell_type": "code",
   "execution_count": 22,
   "id": "7c951c29",
   "metadata": {
    "execution": {
     "iopub.execute_input": "2025-01-31T09:32:46.939949Z",
     "iopub.status.busy": "2025-01-31T09:32:46.939584Z",
     "iopub.status.idle": "2025-01-31T09:32:46.944419Z",
     "shell.execute_reply": "2025-01-31T09:32:46.943348Z"
    },
    "papermill": {
     "duration": 0.028647,
     "end_time": "2025-01-31T09:32:46.946285",
     "exception": false,
     "start_time": "2025-01-31T09:32:46.917638",
     "status": "completed"
    },
    "tags": []
   },
   "outputs": [],
   "source": [
    "# Function to create holiday sets for each country\n",
    "def generate_country_holidays(countries, start_year, end_year):\n",
    "    country_holidays = {}\n",
    "    for country in countries:\n",
    "        # Generate a holiday set for the range of years\n",
    "        country_holidays[country] = holidays.CountryHoliday(country, years=range(start_year, end_year + 1)) \n",
    "    return country_holidays\n"
   ]
  },
  {
   "cell_type": "code",
   "execution_count": 23,
   "id": "edc39236",
   "metadata": {
    "execution": {
     "iopub.execute_input": "2025-01-31T09:32:46.990869Z",
     "iopub.status.busy": "2025-01-31T09:32:46.990521Z",
     "iopub.status.idle": "2025-01-31T09:32:50.454711Z",
     "shell.execute_reply": "2025-01-31T09:32:50.453629Z"
    },
    "papermill": {
     "duration": 3.489068,
     "end_time": "2025-01-31T09:32:50.456721",
     "exception": false,
     "start_time": "2025-01-31T09:32:46.967653",
     "status": "completed"
    },
    "tags": []
   },
   "outputs": [],
   "source": [
    "df_train['Day']=pd.to_datetime(df_train['date']).dt.strftime(\"%d\")\n",
    "df_train['Month']=pd.to_datetime(df_train['date']).dt.strftime(\"%m\")\n",
    "df_train['Year']=pd.to_datetime(df_train['date']).dt.strftime(\"%Y\")\n",
    "df_train['Day_of_week']=pd.to_datetime(df_train['date']).dt.dayofweek\n",
    "df_train['Week_No']=pd.to_datetime(df_train['date']).dt.isocalendar().week\n",
    "df_train['is_weekend']=(df_train['Day_of_week']>=4).astype(int)\n",
    "df_train['Quarter_Discrete'] = (df_train['Month'].astype(int) - 1) // 3 + 1\n",
    "df_train['quarter_normalized'] = (df_train['Quarter_Discrete']-1)/3\n",
    "df_train['month_normalized']=(df_train['Month'].astype(int)-1)/11\n",
    "df_train['Month_Spline']=periodic_spline_transformer(12,4).fit_transform(df_train[['quarter_normalized']])[:,0]\n",
    "df_train['Quarter_Spline']=periodic_spline_transformer(4,4).fit_transform(df_train[['quarter_normalized']])[:,0]\n",
    "df_train['week_number_normalized'] = df_train['Week_No'] / df_train['Week_No'].max()\n",
    "df_train['Week_Spline']=periodic_spline_transformer(53,5).fit_transform(df_train[['week_number_normalized']])[:,0]"
   ]
  },
  {
   "cell_type": "code",
   "execution_count": 24,
   "id": "da60b553",
   "metadata": {
    "execution": {
     "iopub.execute_input": "2025-01-31T09:32:50.504273Z",
     "iopub.status.busy": "2025-01-31T09:32:50.503674Z",
     "iopub.status.idle": "2025-01-31T09:32:50.509253Z",
     "shell.execute_reply": "2025-01-31T09:32:50.508077Z"
    },
    "papermill": {
     "duration": 0.031992,
     "end_time": "2025-01-31T09:32:50.511021",
     "exception": false,
     "start_time": "2025-01-31T09:32:50.479029",
     "status": "completed"
    },
    "tags": []
   },
   "outputs": [],
   "source": [
    "def consecutive_days_visited(df):\n",
    "    \"\"\"\n",
    "    Calculates the number of consecutive days a store was visited.\n",
    "\n",
    "    Args:\n",
    "        df: pandas DataFrame with columns 'date', 'country', 'store'\n",
    "\n",
    "    Returns:\n",
    "        pandas DataFrame with an additional column 'consecutive_days' \n",
    "    \"\"\"\n",
    "\n",
    "    # Ensure date index is sorted\n",
    "    df = df.sort_index()\n",
    "\n",
    "    # Group by 'country' and 'store'\n",
    "    grouped = df.groupby(['country', 'store'])\n",
    "\n",
    "    # Calculate consecutive days within each group\n",
    "    df['consecutive_days'] = (grouped.indices - grouped.indices.min()).dt.days + 1\n",
    "\n",
    "    return df\n"
   ]
  },
  {
   "cell_type": "code",
   "execution_count": 25,
   "id": "370dcc2d",
   "metadata": {
    "execution": {
     "iopub.execute_input": "2025-01-31T09:32:50.554447Z",
     "iopub.status.busy": "2025-01-31T09:32:50.554028Z",
     "iopub.status.idle": "2025-01-31T09:32:50.736812Z",
     "shell.execute_reply": "2025-01-31T09:32:50.735554Z"
    },
    "papermill": {
     "duration": 0.206528,
     "end_time": "2025-01-31T09:32:50.738664",
     "exception": false,
     "start_time": "2025-01-31T09:32:50.532136",
     "status": "completed"
    },
    "tags": []
   },
   "outputs": [
    {
     "name": "stdout",
     "output_type": "stream",
     "text": [
      "['CA', 'FI', 'IT', 'KE', 'NO', 'SG']\n"
     ]
    }
   ],
   "source": [
    "allcountries=df_train['country'].unique()\n",
    "countrycodes = list(map(lambda x:get_alpha2_code(x),allcountries)) \n",
    "unique_countries = [cc for cc in countrycodes if cc is not None]\n",
    "print(countrycodes)"
   ]
  },
  {
   "cell_type": "code",
   "execution_count": 26,
   "id": "2aba5ec9",
   "metadata": {
    "execution": {
     "iopub.execute_input": "2025-01-31T09:32:50.782555Z",
     "iopub.status.busy": "2025-01-31T09:32:50.782173Z",
     "iopub.status.idle": "2025-01-31T09:32:50.885620Z",
     "shell.execute_reply": "2025-01-31T09:32:50.884215Z"
    },
    "papermill": {
     "duration": 0.127977,
     "end_time": "2025-01-31T09:32:50.887860",
     "exception": false,
     "start_time": "2025-01-31T09:32:50.759883",
     "status": "completed"
    },
    "tags": []
   },
   "outputs": [],
   "source": [
    "df_train['store']=df_train['store'].astype('category')\n",
    "df_train['country']=df_train['country'].astype('category')\n",
    "df_train['product']=df_train['product'].astype('category')\n",
    "df_train['Day']=df_train['Day'].astype('category')\n",
    "df_train['Month']=df_train['Month'].astype('category')\n",
    "df_train['Year']=df_train['Year'].astype('category')\n",
    "df_train['Day_of_week']=df_train['Day_of_week'].astype('category')\n"
   ]
  },
  {
   "cell_type": "code",
   "execution_count": 27,
   "id": "64258102",
   "metadata": {
    "execution": {
     "iopub.execute_input": "2025-01-31T09:32:50.932548Z",
     "iopub.status.busy": "2025-01-31T09:32:50.932169Z",
     "iopub.status.idle": "2025-01-31T09:32:52.384561Z",
     "shell.execute_reply": "2025-01-31T09:32:52.383300Z"
    },
    "papermill": {
     "duration": 1.477501,
     "end_time": "2025-01-31T09:32:52.386526",
     "exception": false,
     "start_time": "2025-01-31T09:32:50.909025",
     "status": "completed"
    },
    "tags": []
   },
   "outputs": [],
   "source": [
    "df_test['Day']=pd.to_datetime(df_test['date']).dt.strftime(\"%d\")\n",
    "df_test['Month']=pd.to_datetime(df_test['date']).dt.strftime(\"%m\")\n",
    "df_test['Year']=pd.to_datetime(df_test['date']).dt.strftime(\"%Y\")\n",
    "df_test['Day_of_week']=pd.to_datetime(df_test['date']).dt.dayofweek\n",
    "df_test['Week_No']=pd.to_datetime(df_test['date']).dt.isocalendar().week\n",
    "df_test['is_weekend']=(df_test['Day_of_week']>=4).astype(int)\n",
    "df_test['Quarter_Discrete'] = (df_test['Month'].astype(int) - 1) // 3 + 1\n",
    "df_test['quarter_normalized'] = (df_test['Quarter_Discrete']-1)/3\n",
    "df_test['month_normalized']=(df_test['Month'].astype(int)-1)/11\n",
    "df_test['Month_Spline']=periodic_spline_transformer(12,4).fit_transform(df_test[['quarter_normalized']])[:,0]\n",
    "df_test['Quarter_Spline']=periodic_spline_transformer(4,4).fit_transform(df_test[['quarter_normalized']])[:,0]\n",
    "df_test['week_number_normalized'] = df_test['Week_No'] / df_test['Week_No'].max()\n",
    "df_test['Week_Spline']=periodic_spline_transformer(53,5).fit_transform(df_test[['week_number_normalized']])[:,0]\n"
   ]
  },
  {
   "cell_type": "code",
   "execution_count": 28,
   "id": "9358a2a5",
   "metadata": {
    "execution": {
     "iopub.execute_input": "2025-01-31T09:32:52.431770Z",
     "iopub.status.busy": "2025-01-31T09:32:52.431423Z",
     "iopub.status.idle": "2025-01-31T09:32:52.450951Z",
     "shell.execute_reply": "2025-01-31T09:32:52.449818Z"
    },
    "papermill": {
     "duration": 0.045222,
     "end_time": "2025-01-31T09:32:52.453354",
     "exception": false,
     "start_time": "2025-01-31T09:32:52.408132",
     "status": "completed"
    },
    "tags": []
   },
   "outputs": [],
   "source": [
    "df_test.drop(['week_number_normalized','month_normalized','quarter_normalized'],axis=1,inplace=True)"
   ]
  },
  {
   "cell_type": "code",
   "execution_count": 29,
   "id": "959bfdfd",
   "metadata": {
    "execution": {
     "iopub.execute_input": "2025-01-31T09:32:52.503592Z",
     "iopub.status.busy": "2025-01-31T09:32:52.503112Z",
     "iopub.status.idle": "2025-01-31T09:32:52.526437Z",
     "shell.execute_reply": "2025-01-31T09:32:52.524792Z"
    },
    "papermill": {
     "duration": 0.054694,
     "end_time": "2025-01-31T09:32:52.529279",
     "exception": false,
     "start_time": "2025-01-31T09:32:52.474585",
     "status": "completed"
    },
    "tags": []
   },
   "outputs": [],
   "source": [
    "df_train.drop(['week_number_normalized','month_normalized','quarter_normalized'],axis=1,inplace=True)"
   ]
  },
  {
   "cell_type": "code",
   "execution_count": 30,
   "id": "9ebedcb1",
   "metadata": {
    "execution": {
     "iopub.execute_input": "2025-01-31T09:32:52.585653Z",
     "iopub.status.busy": "2025-01-31T09:32:52.585299Z",
     "iopub.status.idle": "2025-01-31T09:32:52.637767Z",
     "shell.execute_reply": "2025-01-31T09:32:52.636747Z"
    },
    "papermill": {
     "duration": 0.079812,
     "end_time": "2025-01-31T09:32:52.639756",
     "exception": false,
     "start_time": "2025-01-31T09:32:52.559944",
     "status": "completed"
    },
    "tags": []
   },
   "outputs": [],
   "source": [
    "df_test['store']=df_test['store'].astype('category')\n",
    "df_test['country']=df_test['country'].astype('category')\n",
    "df_test['product']=df_test['product'].astype('category')\n",
    "df_test['Day']=df_test['Day'].astype('category')\n",
    "df_test['Month']=df_test['Month'].astype('category')\n",
    "df_test['Year']=df_test['Year'].astype('category')\n",
    "df_test['Day_of_week']=df_test['Day_of_week'].astype('category')\n"
   ]
  },
  {
   "cell_type": "code",
   "execution_count": 31,
   "id": "b24202aa",
   "metadata": {
    "execution": {
     "iopub.execute_input": "2025-01-31T09:32:52.683993Z",
     "iopub.status.busy": "2025-01-31T09:32:52.683646Z",
     "iopub.status.idle": "2025-01-31T09:32:52.726541Z",
     "shell.execute_reply": "2025-01-31T09:32:52.725549Z"
    },
    "papermill": {
     "duration": 0.066954,
     "end_time": "2025-01-31T09:32:52.728647",
     "exception": false,
     "start_time": "2025-01-31T09:32:52.661693",
     "status": "completed"
    },
    "tags": []
   },
   "outputs": [],
   "source": [
    "df_train['date']=pd.to_datetime(df_train['date'])\n",
    "df_test['date']=pd.to_datetime(df_test['date'])"
   ]
  },
  {
   "cell_type": "code",
   "execution_count": 32,
   "id": "51585a48",
   "metadata": {
    "execution": {
     "iopub.execute_input": "2025-01-31T09:32:52.771708Z",
     "iopub.status.busy": "2025-01-31T09:32:52.771194Z",
     "iopub.status.idle": "2025-01-31T09:32:52.810718Z",
     "shell.execute_reply": "2025-01-31T09:32:52.809386Z"
    },
    "papermill": {
     "duration": 0.063697,
     "end_time": "2025-01-31T09:32:52.813155",
     "exception": false,
     "start_time": "2025-01-31T09:32:52.749458",
     "status": "completed"
    },
    "tags": []
   },
   "outputs": [
    {
     "name": "stderr",
     "output_type": "stream",
     "text": [
      "<ipython-input-32-a9a4f327ce0c>:1: FutureWarning: The default of observed=False is deprecated and will be changed to True in a future version of pandas. Pass observed=False to retain current behavior or observed=True to adopt the future default and silence this warning.\n",
      "  df_train['previous_visit']=df_train.reset_index().groupby(by=['country','store'])[['date']].diff()\n"
     ]
    }
   ],
   "source": [
    "df_train['previous_visit']=df_train.reset_index().groupby(by=['country','store'])[['date']].diff()"
   ]
  },
  {
   "cell_type": "code",
   "execution_count": 33,
   "id": "09c2b8ca",
   "metadata": {
    "execution": {
     "iopub.execute_input": "2025-01-31T09:32:52.858406Z",
     "iopub.status.busy": "2025-01-31T09:32:52.857987Z",
     "iopub.status.idle": "2025-01-31T09:32:52.876484Z",
     "shell.execute_reply": "2025-01-31T09:32:52.875213Z"
    },
    "papermill": {
     "duration": 0.043678,
     "end_time": "2025-01-31T09:32:52.878337",
     "exception": false,
     "start_time": "2025-01-31T09:32:52.834659",
     "status": "completed"
    },
    "tags": []
   },
   "outputs": [
    {
     "name": "stderr",
     "output_type": "stream",
     "text": [
      "<ipython-input-33-9b789beb13f0>:1: FutureWarning: The default of observed=False is deprecated and will be changed to True in a future version of pandas. Pass observed=False to retain current behavior or observed=True to adopt the future default and silence this warning.\n",
      "  df_train['consec_days']=df_train.groupby(by=['country','store'])[['previous_visit']].cumsum()\n"
     ]
    }
   ],
   "source": [
    "df_train['consec_days']=df_train.groupby(by=['country','store'])[['previous_visit']].cumsum()"
   ]
  },
  {
   "cell_type": "code",
   "execution_count": 34,
   "id": "f79984bb",
   "metadata": {
    "execution": {
     "iopub.execute_input": "2025-01-31T09:32:52.923900Z",
     "iopub.status.busy": "2025-01-31T09:32:52.923526Z",
     "iopub.status.idle": "2025-01-31T09:32:52.948849Z",
     "shell.execute_reply": "2025-01-31T09:32:52.947746Z"
    },
    "papermill": {
     "duration": 0.05024,
     "end_time": "2025-01-31T09:32:52.950924",
     "exception": false,
     "start_time": "2025-01-31T09:32:52.900684",
     "status": "completed"
    },
    "tags": []
   },
   "outputs": [
    {
     "name": "stderr",
     "output_type": "stream",
     "text": [
      "<ipython-input-34-b64440241ea2>:1: FutureWarning: The default of observed=False is deprecated and will be changed to True in a future version of pandas. Pass observed=False to retain current behavior or observed=True to adopt the future default and silence this warning.\n",
      "  df_test['previous_visit']=df_test.reset_index().groupby(by=['country','store'])[['date']].diff()\n",
      "<ipython-input-34-b64440241ea2>:2: FutureWarning: The default of observed=False is deprecated and will be changed to True in a future version of pandas. Pass observed=False to retain current behavior or observed=True to adopt the future default and silence this warning.\n",
      "  df_test['consec_days']=df_test.groupby(by=['country','store'])[['previous_visit']].cumsum()\n"
     ]
    }
   ],
   "source": [
    "df_test['previous_visit']=df_test.reset_index().groupby(by=['country','store'])[['date']].diff()\n",
    "df_test['consec_days']=df_test.groupby(by=['country','store'])[['previous_visit']].cumsum()"
   ]
  },
  {
   "cell_type": "code",
   "execution_count": 35,
   "id": "5e53e90b",
   "metadata": {
    "execution": {
     "iopub.execute_input": "2025-01-31T09:32:52.994945Z",
     "iopub.status.busy": "2025-01-31T09:32:52.994570Z",
     "iopub.status.idle": "2025-01-31T09:32:53.048539Z",
     "shell.execute_reply": "2025-01-31T09:32:53.047449Z"
    },
    "papermill": {
     "duration": 0.07812,
     "end_time": "2025-01-31T09:32:53.050526",
     "exception": false,
     "start_time": "2025-01-31T09:32:52.972406",
     "status": "completed"
    },
    "tags": []
   },
   "outputs": [],
   "source": [
    "df_train.set_index('date',inplace=True)\n",
    "Startmin=df_train.index.min()\n",
    "df_train['days_since_start'] = (df_train.index - Startmin).days\n",
    "\n",
    "# Add cycle hints based on time \n",
    "df_train['sin_year'] = np.sin(2 * np.pi * df_train['days_since_start'] / 365)\n",
    "df_train['cos_year'] = np.cos(2 * np.pi * df_train['days_since_start'] / 365)\n",
    "df_train['sin_month'] = np.sin(2 * np.pi * df_train['days_since_start'] / 30)\n",
    "df_train['cos_month'] = np.cos(2 * np.pi * df_train['days_since_start'] / 30)\n",
    "\n",
    "df_test.set_index('date',inplace=True)\n",
    "df_test['days_since_start'] = (df_test.index - Startmin).days\n",
    "\n",
    "# Add cycle hints based on time \n",
    "df_test['sin_year'] = np.sin(2 * np.pi * df_test['days_since_start'] / 365)\n",
    "df_test['cos_year'] = np.cos(2 * np.pi * df_test['days_since_start'] / 365)\n",
    "df_test['sin_month'] = np.sin(2 * np.pi * df_test['days_since_start'] / 30)\n",
    "df_test['cos_month'] = np.cos(2 * np.pi * df_test['days_since_start'] / 30)\n",
    "\n",
    "df_train.reset_index(inplace=True)\n",
    "df_test.reset_index(inplace=True)"
   ]
  },
  {
   "cell_type": "code",
   "execution_count": 36,
   "id": "1c233c38",
   "metadata": {
    "execution": {
     "iopub.execute_input": "2025-01-31T09:32:53.095600Z",
     "iopub.status.busy": "2025-01-31T09:32:53.095214Z",
     "iopub.status.idle": "2025-01-31T09:32:53.129243Z",
     "shell.execute_reply": "2025-01-31T09:32:53.127498Z"
    },
    "papermill": {
     "duration": 0.059749,
     "end_time": "2025-01-31T09:32:53.131348",
     "exception": false,
     "start_time": "2025-01-31T09:32:53.071599",
     "status": "completed"
    },
    "tags": []
   },
   "outputs": [
    {
     "name": "stdout",
     "output_type": "stream",
     "text": [
      "<class 'pandas.core.frame.DataFrame'>\n",
      "RangeIndex: 230130 entries, 0 to 230129\n",
      "Data columns (total 23 columns):\n",
      " #   Column            Non-Null Count   Dtype          \n",
      "---  ------            --------------   -----          \n",
      " 0   date              230130 non-null  datetime64[ns] \n",
      " 1   id                230130 non-null  int64          \n",
      " 2   country           230130 non-null  category       \n",
      " 3   store             230130 non-null  category       \n",
      " 4   product           230130 non-null  category       \n",
      " 5   num_sold          221259 non-null  float64        \n",
      " 6   Day               230130 non-null  category       \n",
      " 7   Month             230130 non-null  category       \n",
      " 8   Year              230130 non-null  category       \n",
      " 9   Day_of_week       230130 non-null  category       \n",
      " 10  Week_No           230130 non-null  UInt32         \n",
      " 11  is_weekend        230130 non-null  int64          \n",
      " 12  Quarter_Discrete  230130 non-null  int64          \n",
      " 13  Month_Spline      230130 non-null  float64        \n",
      " 14  Quarter_Spline    230130 non-null  float64        \n",
      " 15  Week_Spline       230130 non-null  float64        \n",
      " 16  previous_visit    230112 non-null  timedelta64[ns]\n",
      " 17  consec_days       230112 non-null  timedelta64[ns]\n",
      " 18  days_since_start  230130 non-null  int64          \n",
      " 19  sin_year          230130 non-null  float64        \n",
      " 20  cos_year          230130 non-null  float64        \n",
      " 21  sin_month         230130 non-null  float64        \n",
      " 22  cos_month         230130 non-null  float64        \n",
      "dtypes: UInt32(1), category(7), datetime64[ns](1), float64(8), int64(4), timedelta64[ns](2)\n",
      "memory usage: 29.0 MB\n"
     ]
    }
   ],
   "source": [
    "df_train.info()"
   ]
  },
  {
   "cell_type": "code",
   "execution_count": 37,
   "id": "d29a800c",
   "metadata": {
    "execution": {
     "iopub.execute_input": "2025-01-31T09:32:53.176467Z",
     "iopub.status.busy": "2025-01-31T09:32:53.176037Z",
     "iopub.status.idle": "2025-01-31T09:32:53.466358Z",
     "shell.execute_reply": "2025-01-31T09:32:53.465083Z"
    },
    "papermill": {
     "duration": 0.314912,
     "end_time": "2025-01-31T09:32:53.468416",
     "exception": false,
     "start_time": "2025-01-31T09:32:53.153504",
     "status": "completed"
    },
    "tags": []
   },
   "outputs": [],
   "source": [
    "#Get country\n",
    "\n",
    "#Get holidays for each country\n",
    "#allcountries.append(\"weirdcountry\")\n",
    "country_holidays={}\n",
    "\n",
    "#df_train['date']=pd.to_datetime(df_train['date'])\n",
    "start_year = df_train['date'].dt.year.min()\n",
    "end_year = df_train['date'].dt.year.max()\n",
    "\n",
    "country_holidays = generate_country_holidays(unique_countries, start_year, end_year)\n",
    "holiday_df = pd.DataFrame([\n",
    "    {'date': date, 'country_code': country, 'country': cname}\n",
    "    for country in unique_countries\n",
    "    for date in country_holidays[country]\n",
    "    for cname in [pycountry.countries.get(alpha_2=cc).name for cc in unique_countries]]\n",
    ")\n",
    "holiday_df['is_holiday'] = 1\n",
    "holiday_df['date']=pd.to_datetime(holiday_df['date'])\n",
    "holiday_df.drop('country_code',axis=1,inplace=True)\n",
    "\n",
    "df_train = df_train.merge(holiday_df, on=['date', 'country'], how='left').fillna({'is_holiday': 0})"
   ]
  },
  {
   "cell_type": "code",
   "execution_count": 38,
   "id": "85239332",
   "metadata": {
    "execution": {
     "iopub.execute_input": "2025-01-31T09:32:53.514910Z",
     "iopub.status.busy": "2025-01-31T09:32:53.514511Z",
     "iopub.status.idle": "2025-01-31T09:32:53.546419Z",
     "shell.execute_reply": "2025-01-31T09:32:53.545360Z"
    },
    "papermill": {
     "duration": 0.057475,
     "end_time": "2025-01-31T09:32:53.548142",
     "exception": false,
     "start_time": "2025-01-31T09:32:53.490667",
     "status": "completed"
    },
    "tags": []
   },
   "outputs": [
    {
     "data": {
      "text/plain": [
       "<bound method Series.max of 600         1 days\n",
       "690         2 days\n",
       "780         3 days\n",
       "870         4 days\n",
       "1020        5 days\n",
       "            ...   \n",
       "249360   2552 days\n",
       "249450   2553 days\n",
       "249540   2554 days\n",
       "249630   2555 days\n",
       "249720   2556 days\n",
       "Name: consec_days, Length: 2769, dtype: timedelta64[ns]>"
      ]
     },
     "execution_count": 38,
     "metadata": {},
     "output_type": "execute_result"
    }
   ],
   "source": [
    "df_train[(df_train['country']=='Norway') & (df_train['store']=='Discount Stickers') & (df_train['previous_visit'].astype('int')>0)].consec_days.max"
   ]
  },
  {
   "cell_type": "code",
   "execution_count": 39,
   "id": "a7ee3fb5",
   "metadata": {
    "execution": {
     "iopub.execute_input": "2025-01-31T09:32:53.592744Z",
     "iopub.status.busy": "2025-01-31T09:32:53.592403Z",
     "iopub.status.idle": "2025-01-31T09:32:53.668483Z",
     "shell.execute_reply": "2025-01-31T09:32:53.667267Z"
    },
    "papermill": {
     "duration": 0.10094,
     "end_time": "2025-01-31T09:32:53.670514",
     "exception": false,
     "start_time": "2025-01-31T09:32:53.569574",
     "status": "completed"
    },
    "tags": []
   },
   "outputs": [],
   "source": [
    "start_year = df_test['date'].dt.year.min()\n",
    "end_year = df_test['date'].dt.year.max()\n",
    "#unique_countries = [cc for cc in countrycodes if cc is not None]\n",
    "country_holidays = generate_country_holidays(unique_countries, start_year, end_year)\n",
    "\n",
    "holiday_df = pd.DataFrame([\n",
    "    {'date': date, 'country_code': country, 'country': cname}\n",
    "    for country in unique_countries\n",
    "    for date in country_holidays[country]\n",
    "    for cname in [pycountry.countries.get(alpha_2=cc).name for cc in unique_countries]]\n",
    ")\n",
    "holiday_df['is_holiday']=1\n",
    "holiday_df['date']=pd.to_datetime(holiday_df['date'])\n",
    "holiday_df.drop('country_code',axis=1,inplace=True)\n",
    "\n",
    "df_test = df_test.merge(holiday_df, on=['date', 'country'], how='left').fillna({'is_holiday': 0})\n"
   ]
  },
  {
   "cell_type": "code",
   "execution_count": 40,
   "id": "defdfc3f",
   "metadata": {
    "execution": {
     "iopub.execute_input": "2025-01-31T09:32:53.714861Z",
     "iopub.status.busy": "2025-01-31T09:32:53.714495Z",
     "iopub.status.idle": "2025-01-31T09:32:53.723918Z",
     "shell.execute_reply": "2025-01-31T09:32:53.722767Z"
    },
    "papermill": {
     "duration": 0.033634,
     "end_time": "2025-01-31T09:32:53.725663",
     "exception": false,
     "start_time": "2025-01-31T09:32:53.692029",
     "status": "completed"
    },
    "tags": []
   },
   "outputs": [
    {
     "data": {
      "text/plain": [
       "is_holiday\n",
       "0    88290\n",
       "1    18270\n",
       "Name: count, dtype: int64"
      ]
     },
     "execution_count": 40,
     "metadata": {},
     "output_type": "execute_result"
    }
   ],
   "source": [
    "df_test['is_holiday']=df_test['is_holiday'].astype(int)\n",
    "df_test['is_holiday'].value_counts()"
   ]
  },
  {
   "cell_type": "code",
   "execution_count": 41,
   "id": "d41588fe",
   "metadata": {
    "execution": {
     "iopub.execute_input": "2025-01-31T09:32:53.769573Z",
     "iopub.status.busy": "2025-01-31T09:32:53.769210Z",
     "iopub.status.idle": "2025-01-31T09:32:53.774268Z",
     "shell.execute_reply": "2025-01-31T09:32:53.773310Z"
    },
    "papermill": {
     "duration": 0.029053,
     "end_time": "2025-01-31T09:32:53.775937",
     "exception": false,
     "start_time": "2025-01-31T09:32:53.746884",
     "status": "completed"
    },
    "tags": []
   },
   "outputs": [],
   "source": [
    "df_train.set_index('date',inplace=True)\n",
    "#df_test.set_index('date',inplace=True)"
   ]
  },
  {
   "cell_type": "code",
   "execution_count": 42,
   "id": "5348980d",
   "metadata": {
    "execution": {
     "iopub.execute_input": "2025-01-31T09:32:53.819633Z",
     "iopub.status.busy": "2025-01-31T09:32:53.819271Z",
     "iopub.status.idle": "2025-01-31T09:32:53.823167Z",
     "shell.execute_reply": "2025-01-31T09:32:53.822230Z"
    },
    "papermill": {
     "duration": 0.027496,
     "end_time": "2025-01-31T09:32:53.824720",
     "exception": false,
     "start_time": "2025-01-31T09:32:53.797224",
     "status": "completed"
    },
    "tags": []
   },
   "outputs": [],
   "source": [
    "#Graph for intrpolate is changing too much\n",
    "#Not interpolate but just drop Na is better\n",
    "#Interpolate missing num_sold\n",
    "\n",
    "#df_train['date']=pd.to_datetime(df_train['date'])\n",
    "#df = df_train.set_index('date')\n",
    "\n",
    "# df_train = df_train.sort_values(by=['country', 'store', 'product', 'date'])\n",
    "\n",
    "# # Impute NaN with interpolation (grouped by Country, Store, and Product)\n",
    "# df_train['num_sold'] = df_train.groupby(['country', 'store', 'product'])['num_sold'].transform(\n",
    "#     lambda group: group.interpolate(method='linear',limit=None,limit_direction='both').ffill().bfill()\n",
    "# )\n",
    "#df['num_sold'].isna().any()"
   ]
  },
  {
   "cell_type": "code",
   "execution_count": 43,
   "id": "9340580f",
   "metadata": {
    "execution": {
     "iopub.execute_input": "2025-01-31T09:32:53.869511Z",
     "iopub.status.busy": "2025-01-31T09:32:53.869132Z",
     "iopub.status.idle": "2025-01-31T09:32:53.872955Z",
     "shell.execute_reply": "2025-01-31T09:32:53.872093Z"
    },
    "papermill": {
     "duration": 0.028801,
     "end_time": "2025-01-31T09:32:53.874639",
     "exception": false,
     "start_time": "2025-01-31T09:32:53.845838",
     "status": "completed"
    },
    "tags": []
   },
   "outputs": [],
   "source": [
    "#condition = (df.num_sold.notna()) & (df['country']=='Canada') & (df['store']=='Discount Stickers') & (df['product']=='Holographic Goose')\n",
    "#df[condition]\n"
   ]
  },
  {
   "cell_type": "code",
   "execution_count": 44,
   "id": "f9c11dcf",
   "metadata": {
    "execution": {
     "iopub.execute_input": "2025-01-31T09:32:53.919342Z",
     "iopub.status.busy": "2025-01-31T09:32:53.918908Z",
     "iopub.status.idle": "2025-01-31T09:32:53.922852Z",
     "shell.execute_reply": "2025-01-31T09:32:53.921834Z"
    },
    "papermill": {
     "duration": 0.028271,
     "end_time": "2025-01-31T09:32:53.924597",
     "exception": false,
     "start_time": "2025-01-31T09:32:53.896326",
     "status": "completed"
    },
    "tags": []
   },
   "outputs": [],
   "source": [
    "##Get num_sold NaN product store and country\n",
    "#t=df[df.num_sold.isna()].groupby(['country','store','product'])['product'].value_counts().to_dict()"
   ]
  },
  {
   "cell_type": "code",
   "execution_count": 45,
   "id": "c582d6ea",
   "metadata": {
    "execution": {
     "iopub.execute_input": "2025-01-31T09:32:53.968829Z",
     "iopub.status.busy": "2025-01-31T09:32:53.968449Z",
     "iopub.status.idle": "2025-01-31T09:32:53.972427Z",
     "shell.execute_reply": "2025-01-31T09:32:53.971354Z"
    },
    "papermill": {
     "duration": 0.028207,
     "end_time": "2025-01-31T09:32:53.974107",
     "exception": false,
     "start_time": "2025-01-31T09:32:53.945900",
     "status": "completed"
    },
    "tags": []
   },
   "outputs": [],
   "source": [
    "#Country store and product that have NaN\n",
    "# for  k,v in t.items():\n",
    "#     if v!=0:\n",
    "#         print(k,v)"
   ]
  },
  {
   "cell_type": "code",
   "execution_count": 46,
   "id": "8fc23606",
   "metadata": {
    "execution": {
     "iopub.execute_input": "2025-01-31T09:32:54.019500Z",
     "iopub.status.busy": "2025-01-31T09:32:54.019084Z",
     "iopub.status.idle": "2025-01-31T09:32:54.055358Z",
     "shell.execute_reply": "2025-01-31T09:32:54.053969Z"
    },
    "papermill": {
     "duration": 0.061683,
     "end_time": "2025-01-31T09:32:54.057243",
     "exception": false,
     "start_time": "2025-01-31T09:32:53.995560",
     "status": "completed"
    },
    "tags": []
   },
   "outputs": [
    {
     "name": "stdout",
     "output_type": "stream",
     "text": [
      "Mean\n",
      "country\n",
      "Canada       242.974170\n",
      "Finland      179.209850\n",
      "Italy        129.627508\n",
      "Kenya          5.800233\n",
      "Norway       341.143664\n",
      "Singapore    206.325646\n",
      "Name: num_sold, dtype: float64\n",
      "Median\n",
      "country\n",
      "Canada       235.0\n",
      "Finland      190.0\n",
      "Italy        137.0\n",
      "Kenya          6.0\n",
      "Norway       353.0\n",
      "Singapore    219.0\n",
      "Name: num_sold, dtype: float64\n",
      "Mode\n",
      "country\n",
      "Canada       218.0\n",
      "Finland       91.0\n",
      "Italy         64.0\n",
      "Kenya          5.0\n",
      "Norway       171.0\n",
      "Singapore    107.0\n",
      "Name: num_sold, dtype: float64\n",
      "Min\n",
      "country\n",
      "Canada       200.0\n",
      "Finland       65.0\n",
      "Italy         44.0\n",
      "Kenya          5.0\n",
      "Norway       105.0\n",
      "Singapore     69.0\n",
      "Name: num_sold, dtype: float64\n",
      "Max\n",
      "country\n",
      "Canada       449.0\n",
      "Finland      491.0\n",
      "Italy        318.0\n",
      "Kenya         11.0\n",
      "Norway       908.0\n",
      "Singapore    469.0\n",
      "Name: num_sold, dtype: float64\n"
     ]
    }
   ],
   "source": [
    "#Find Holographic Goose num_sold in each country\n",
    "nan_product = df_train[(df_train['product']=='Holographic Goose') & (df_train['num_sold'].notna())].groupby(['country'])['num_sold']\n",
    "print(\"Mean\")\n",
    "print(nan_product.mean())\n",
    "print(\"Median\")\n",
    "print(nan_product.median())\n",
    "print(\"Mode\")\n",
    "print(nan_product.agg(pd.Series.mode))\n",
    "print(\"Min\")\n",
    "print(nan_product.min())\n",
    "print(\"Max\")\n",
    "print(nan_product.max())"
   ]
  },
  {
   "cell_type": "markdown",
   "id": "f9a38953",
   "metadata": {
    "papermill": {
     "duration": 0.021548,
     "end_time": "2025-01-31T09:32:54.100337",
     "exception": false,
     "start_time": "2025-01-31T09:32:54.078789",
     "status": "completed"
    },
    "tags": []
   },
   "source": [
    "Impute Canana NaN with 218.0 \n",
    "Impute Kenya NaN with 5.0"
   ]
  },
  {
   "cell_type": "code",
   "execution_count": 47,
   "id": "0289e810",
   "metadata": {
    "execution": {
     "iopub.execute_input": "2025-01-31T09:32:54.146157Z",
     "iopub.status.busy": "2025-01-31T09:32:54.145762Z",
     "iopub.status.idle": "2025-01-31T09:32:54.191552Z",
     "shell.execute_reply": "2025-01-31T09:32:54.190284Z"
    },
    "papermill": {
     "duration": 0.071294,
     "end_time": "2025-01-31T09:32:54.193630",
     "exception": false,
     "start_time": "2025-01-31T09:32:54.122336",
     "status": "completed"
    },
    "tags": []
   },
   "outputs": [],
   "source": [
    "df_train['previous_visit'].fillna(pd.to_timedelta(0),inplace=True)\n",
    "df_train['consec_days'].fillna(pd.to_timedelta(0),inplace=True)\n",
    "df_test['previous_visit'].fillna(pd.to_timedelta(0),inplace=True)\n",
    "df_test['consec_days'].fillna(pd.to_timedelta(0),inplace=True)\n",
    "\n",
    "df_train.dropna(inplace=True)\n",
    "#df_test.dropna(inplace=True)"
   ]
  },
  {
   "cell_type": "code",
   "execution_count": 48,
   "id": "12a8606e",
   "metadata": {
    "execution": {
     "iopub.execute_input": "2025-01-31T09:32:54.240843Z",
     "iopub.status.busy": "2025-01-31T09:32:54.240497Z",
     "iopub.status.idle": "2025-01-31T09:32:54.244514Z",
     "shell.execute_reply": "2025-01-31T09:32:54.243349Z"
    },
    "papermill": {
     "duration": 0.030734,
     "end_time": "2025-01-31T09:32:54.246442",
     "exception": false,
     "start_time": "2025-01-31T09:32:54.215708",
     "status": "completed"
    },
    "tags": []
   },
   "outputs": [],
   "source": [
    "#Impute Canada with 218\n",
    "#df.loc[df['country']=='Canada',['num_sold']]=df.loc[df['country']=='Canada',['num_sold']].fillna(218.0)"
   ]
  },
  {
   "cell_type": "code",
   "execution_count": 49,
   "id": "66edb7ec",
   "metadata": {
    "execution": {
     "iopub.execute_input": "2025-01-31T09:32:54.290546Z",
     "iopub.status.busy": "2025-01-31T09:32:54.290133Z",
     "iopub.status.idle": "2025-01-31T09:32:54.293777Z",
     "shell.execute_reply": "2025-01-31T09:32:54.292895Z"
    },
    "papermill": {
     "duration": 0.027446,
     "end_time": "2025-01-31T09:32:54.295422",
     "exception": false,
     "start_time": "2025-01-31T09:32:54.267976",
     "status": "completed"
    },
    "tags": []
   },
   "outputs": [],
   "source": [
    "#Impute Kenya with 5\n",
    "#df.loc[df['country']=='Kenya',['num_sold']]=df.loc[df['country']=='Kenya',['num_sold']].fillna(5.0)"
   ]
  },
  {
   "cell_type": "code",
   "execution_count": 50,
   "id": "66b6822d",
   "metadata": {
    "execution": {
     "iopub.execute_input": "2025-01-31T09:32:54.340483Z",
     "iopub.status.busy": "2025-01-31T09:32:54.340098Z",
     "iopub.status.idle": "2025-01-31T09:32:54.343959Z",
     "shell.execute_reply": "2025-01-31T09:32:54.343011Z"
    },
    "papermill": {
     "duration": 0.028601,
     "end_time": "2025-01-31T09:32:54.345797",
     "exception": false,
     "start_time": "2025-01-31T09:32:54.317196",
     "status": "completed"
    },
    "tags": []
   },
   "outputs": [],
   "source": [
    "# nsmode = df_train['num_sold'].mode()\n",
    "# df_train['num_sold']=df_train['num_sold'].fillna(nsmode[0])"
   ]
  },
  {
   "cell_type": "code",
   "execution_count": 51,
   "id": "2604a705",
   "metadata": {
    "execution": {
     "iopub.execute_input": "2025-01-31T09:32:54.390604Z",
     "iopub.status.busy": "2025-01-31T09:32:54.390244Z",
     "iopub.status.idle": "2025-01-31T09:32:54.418302Z",
     "shell.execute_reply": "2025-01-31T09:32:54.417155Z"
    },
    "papermill": {
     "duration": 0.052512,
     "end_time": "2025-01-31T09:32:54.420278",
     "exception": false,
     "start_time": "2025-01-31T09:32:54.367766",
     "status": "completed"
    },
    "tags": []
   },
   "outputs": [],
   "source": [
    "#Get date back to feature after interpolation\n",
    "df_train=df_train.reset_index()"
   ]
  },
  {
   "cell_type": "code",
   "execution_count": 52,
   "id": "2fc260e8",
   "metadata": {
    "execution": {
     "iopub.execute_input": "2025-01-31T09:32:54.465480Z",
     "iopub.status.busy": "2025-01-31T09:32:54.465094Z",
     "iopub.status.idle": "2025-01-31T09:32:54.498981Z",
     "shell.execute_reply": "2025-01-31T09:32:54.496933Z"
    },
    "papermill": {
     "duration": 0.059799,
     "end_time": "2025-01-31T09:32:54.501699",
     "exception": false,
     "start_time": "2025-01-31T09:32:54.441900",
     "status": "completed"
    },
    "tags": []
   },
   "outputs": [
    {
     "name": "stdout",
     "output_type": "stream",
     "text": [
      "<class 'pandas.core.frame.DataFrame'>\n",
      "RangeIndex: 240265 entries, 0 to 240264\n",
      "Data columns (total 24 columns):\n",
      " #   Column            Non-Null Count   Dtype          \n",
      "---  ------            --------------   -----          \n",
      " 0   date              240265 non-null  datetime64[ns] \n",
      " 1   id                240265 non-null  int64          \n",
      " 2   country           240265 non-null  object         \n",
      " 3   store             240265 non-null  category       \n",
      " 4   product           240265 non-null  category       \n",
      " 5   num_sold          240265 non-null  float64        \n",
      " 6   Day               240265 non-null  category       \n",
      " 7   Month             240265 non-null  category       \n",
      " 8   Year              240265 non-null  category       \n",
      " 9   Day_of_week       240265 non-null  category       \n",
      " 10  Week_No           240265 non-null  UInt32         \n",
      " 11  is_weekend        240265 non-null  int64          \n",
      " 12  Quarter_Discrete  240265 non-null  int64          \n",
      " 13  Month_Spline      240265 non-null  float64        \n",
      " 14  Quarter_Spline    240265 non-null  float64        \n",
      " 15  Week_Spline       240265 non-null  float64        \n",
      " 16  previous_visit    240265 non-null  timedelta64[ns]\n",
      " 17  consec_days       240265 non-null  timedelta64[ns]\n",
      " 18  days_since_start  240265 non-null  int64          \n",
      " 19  sin_year          240265 non-null  float64        \n",
      " 20  cos_year          240265 non-null  float64        \n",
      " 21  sin_month         240265 non-null  float64        \n",
      " 22  cos_month         240265 non-null  float64        \n",
      " 23  is_holiday        240265 non-null  float64        \n",
      "dtypes: UInt32(1), category(6), datetime64[ns](1), float64(9), int64(4), object(1), timedelta64[ns](2)\n",
      "memory usage: 33.7+ MB\n"
     ]
    }
   ],
   "source": [
    "df_train.info()"
   ]
  },
  {
   "cell_type": "code",
   "execution_count": 53,
   "id": "4c821c7e",
   "metadata": {
    "execution": {
     "iopub.execute_input": "2025-01-31T09:32:54.546396Z",
     "iopub.status.busy": "2025-01-31T09:32:54.545986Z",
     "iopub.status.idle": "2025-01-31T09:32:54.586640Z",
     "shell.execute_reply": "2025-01-31T09:32:54.585637Z"
    },
    "papermill": {
     "duration": 0.065098,
     "end_time": "2025-01-31T09:32:54.588618",
     "exception": false,
     "start_time": "2025-01-31T09:32:54.523520",
     "status": "completed"
    },
    "tags": []
   },
   "outputs": [],
   "source": [
    "df_train['is_holiday']=df_train['is_holiday'].astype('int')\n",
    "df_train['previous_visit']=pd.to_numeric(df_train['previous_visit'].dt.days,errors='coerce')\n",
    "df_train['consec_days']=pd.to_numeric(df_train['consec_days'].dt.days,errors='coerce')\n",
    "df_train['country']=df_train['country'].astype('category')\n",
    "\n",
    "df_test['is_holiday']=df_test['is_holiday'].astype('int')\n",
    "df_test['previous_visit']=pd.to_numeric(df_test['previous_visit'].dt.days,errors='coerce')\n",
    "df_test['consec_days']=pd.to_numeric(df_test['consec_days'].dt.days,errors='coerce')\n",
    "df_test['country']=df_test['country'].astype('category')"
   ]
  },
  {
   "cell_type": "code",
   "execution_count": 54,
   "id": "f5dbef21",
   "metadata": {
    "execution": {
     "iopub.execute_input": "2025-01-31T09:32:54.635896Z",
     "iopub.status.busy": "2025-01-31T09:32:54.635502Z",
     "iopub.status.idle": "2025-01-31T09:32:54.645159Z",
     "shell.execute_reply": "2025-01-31T09:32:54.644106Z"
    },
    "papermill": {
     "duration": 0.034253,
     "end_time": "2025-01-31T09:32:54.646915",
     "exception": false,
     "start_time": "2025-01-31T09:32:54.612662",
     "status": "completed"
    },
    "tags": []
   },
   "outputs": [],
   "source": [
    "#log transform target\n",
    "df_train['num_sold']=np.log1p(df_train['num_sold']) \n"
   ]
  },
  {
   "cell_type": "code",
   "execution_count": 55,
   "id": "a3a677c4",
   "metadata": {
    "execution": {
     "iopub.execute_input": "2025-01-31T09:32:54.691540Z",
     "iopub.status.busy": "2025-01-31T09:32:54.691172Z",
     "iopub.status.idle": "2025-01-31T09:32:55.176714Z",
     "shell.execute_reply": "2025-01-31T09:32:55.175441Z"
    },
    "papermill": {
     "duration": 0.510061,
     "end_time": "2025-01-31T09:32:55.178535",
     "exception": false,
     "start_time": "2025-01-31T09:32:54.668474",
     "status": "completed"
    },
    "tags": []
   },
   "outputs": [
    {
     "name": "stdout",
     "output_type": "stream",
     "text": [
      "Canada train date 2010-01-01 00:00:00 to 2015-03-09 00:00:00\n",
      "Canada train loc  0 to 177819\n",
      "Canada valid date 2015-03-09 00:00:00 to 2016-12-31 00:00:00\n",
      "Canada valid loc 177820 to 240190\n",
      "Finland train date 2010-01-01 00:00:00 to 2015-04-03 00:00:00\n",
      "Finland train loc  84 to 180069\n",
      "Finland valid date 2015-04-03 00:00:00 to 2016-12-31 00:00:00\n",
      "Finland valid loc 180070 to 240205\n",
      "Italy train date 2010-01-01 00:00:00 to 2015-04-03 00:00:00\n",
      "Italy train loc  174 to 180144\n",
      "Italy valid date 2015-04-03 00:00:00 to 2016-12-31 00:00:00\n",
      "Italy valid loc 180145 to 240220\n",
      "Kenya train date 2010-01-01 00:00:00 to 2015-04-26 00:00:00\n",
      "Kenya train loc  264 to 182812\n",
      "Kenya valid date 2015-04-26 00:00:00 to 2016-12-31 00:00:00\n",
      "Kenya valid loc 182813 to 240234\n",
      "Norway train date 2010-01-01 00:00:00 to 2015-04-03 00:00:00\n",
      "Norway train loc  348 to 180289\n",
      "Norway valid date 2015-04-03 00:00:00 to 2016-12-31 00:00:00\n",
      "Norway valid loc 180290 to 240249\n",
      "Singapore train date 2010-01-01 00:00:00 to 2015-04-03 00:00:00\n",
      "Singapore train loc  438 to 180364\n",
      "Singapore valid date 2015-04-03 00:00:00 to 2016-12-31 00:00:00\n",
      "Singapore valid loc 180365 to 240264\n"
     ]
    }
   ],
   "source": [
    "#Split data according to country into\n",
    "from catboost import Pool\n",
    "country_train_pool={}\n",
    "country_valid_pool={}\n",
    "\n",
    "for c in countrylist:\n",
    "    df=df_train[df_train['country']==c]\n",
    "    train_x, valid_x, train_y, valid_y = train_test_split(df.drop(['id','num_sold','country'],axis=1),df['num_sold'],shuffle=False,test_size=0.25)\n",
    "    cats=df.select_dtypes('category').columns.to_list()\n",
    "    cats.remove('country')\n",
    "    cats.append('is_holiday')\n",
    "    cats.append('Week_No')\n",
    "    cats.append('is_weekend')\n",
    "    cats.append('Quarter_Discrete')\n",
    "    #train_weights = np.linspace(0.1, 1.0, len(train_x))\n",
    "    #valid_weights = np.linspace(0.1, 1.0, len(valid_x)) # Linearly increasing weights\n",
    "    # decay_rate=0.75\n",
    "    # train_weights = decay_rate ** np.arange(len(train_x))[::-1]  # Exponentially increasing weights\n",
    "    # valid_weights = decay_rate ** np.arange(len(valid_x))[::-1]  # Exponentially increasing weights\n",
    "    country_train_pool[c]=Pool(train_x,label=train_y,cat_features=cats)#,weight=train_weights)\n",
    "    country_valid_pool[c]=Pool(valid_x,label=valid_y,cat_features=cats)#,weight=valid_weights)\n",
    "    print(f\"{c} train date {train_x['date'].min()} to {train_x['date'].max()}\")\n",
    "    print(f\"{c} train loc  {train_x.index.min()} to {train_x.index.max()}\")\n",
    "    print(f\"{c} valid date {valid_x['date'].min()} to {valid_x['date'].max()}\") \n",
    "    print(f\"{c} valid loc {valid_x.index.min()} to {valid_x.index.max()}\")"
   ]
  },
  {
   "cell_type": "code",
   "execution_count": 56,
   "id": "80f4a06a",
   "metadata": {
    "execution": {
     "iopub.execute_input": "2025-01-31T09:32:55.225171Z",
     "iopub.status.busy": "2025-01-31T09:32:55.224761Z",
     "iopub.status.idle": "2025-01-31T09:32:55.233502Z",
     "shell.execute_reply": "2025-01-31T09:32:55.232235Z"
    },
    "papermill": {
     "duration": 0.034077,
     "end_time": "2025-01-31T09:32:55.235169",
     "exception": false,
     "start_time": "2025-01-31T09:32:55.201092",
     "status": "completed"
    },
    "tags": []
   },
   "outputs": [],
   "source": [
    "from functools import partial\n",
    "from catboost import cv\n",
    "\n",
    "def objective(trial: optuna.Trial, country) -> float:\n",
    "    #data, target = load_breast_cancer(return_X_y=True)\n",
    "    #train_x, valid_x, train_y, valid_y = train_test_split(df_train.drop(['id','num_sold','date'],axis=1), df_train['num_sold'], test_size=0.25)\n",
    "    #cats=df_train.select_dtypes('category').columns\n",
    "    \n",
    "    param = {\n",
    "        \"iterations\":trial.suggest_int(\"iterations\",1000,10000),\n",
    "        \"learning_rate\":trial.suggest_float(\"learning_rate\",0.005,0.03,log=True),\n",
    "        \"objective\": trial.suggest_categorical(\"objective\", [\"MAPE\"]),\n",
    "        \"colsample_bylevel\": trial.suggest_float(\"colsample_bylevel\", 0.01, 0.7, log=True),\n",
    "        \"depth\": trial.suggest_int(\"depth\", 4, 10),\n",
    "        \"boosting_type\": trial.suggest_categorical(\"boosting_type\", [\"Ordered\", \"Plain\"]),\n",
    "        \"bootstrap_type\": trial.suggest_categorical(\n",
    "            \"bootstrap_type\", [\"Bayesian\", \"Bernoulli\", \"MVS\"]\n",
    "        ),\n",
    "        \"used_ram_limit\": \"3gb\",\n",
    "        \"eval_metric\": \"MAPE\",\n",
    "        \"cat_features\": cats,\n",
    "    }\n",
    "\n",
    "    if param[\"bootstrap_type\"] == \"Bayesian\":\n",
    "        param[\"bagging_temperature\"] = trial.suggest_float(\"bagging_temperature\", 0, 10)\n",
    "    elif param[\"bootstrap_type\"] == \"Bernoulli\":\n",
    "        param[\"subsample\"] = trial.suggest_float(\"subsample\", 0.1, 1, log=True)\n",
    "\n",
    "   \n",
    "    #use catboost cv with timeseries data\n",
    "    cv_data = cb.cv(\n",
    "        country_train_pool[c],\n",
    "        params=param,\n",
    "        shuffle=False,\n",
    "        type='TimeSeries',\n",
    "        fold_count=3,\n",
    "        early_stopping_rounds=400,\n",
    "        verbose=0,\n",
    "    )\n",
    "    mape = cv_data['test-MAPE-mean'].min()\n",
    "    best_iter = cv_data['test-MAPE-mean'].values.argmin()\n",
    "    # gbm = cb.CatBoostRegressor(**param)\n",
    "\n",
    "    # pruning_callback = CatBoostPruningCallback(trial, \"MAPE\")\n",
    "    # gbm.fit(\n",
    "    #    # train_x,\n",
    "    #    # train_y,\n",
    "    #    # eval_set=[(valid_x, valid_y)],\n",
    "    #     country_train_pool[c],\n",
    "    #     eval_set=country_valid_pool[c],\n",
    "    #     verbose=0,\n",
    "    #     early_stopping_rounds=300,\n",
    "    #     callbacks=[pruning_callback],\n",
    "    # )\n",
    "\n",
    "    # evoke pruning manually.\n",
    "    #pruning_callback.check_pruned()\n",
    "\n",
    "    \n",
    "    #preds = gbm.predict(valid_x)\n",
    "    #pred_labels = np.fix(preds)\n",
    "    #mape = mean_absolute_percentage_error(valid_y, pred_labels)\n",
    "    return mape\n"
   ]
  },
  {
   "cell_type": "code",
   "execution_count": null,
   "id": "800ec03f",
   "metadata": {
    "papermill": {
     "duration": 0.020995,
     "end_time": "2025-01-31T09:32:55.278133",
     "exception": false,
     "start_time": "2025-01-31T09:32:55.257138",
     "status": "completed"
    },
    "tags": []
   },
   "outputs": [],
   "source": []
  },
  {
   "cell_type": "code",
   "execution_count": 57,
   "id": "02d51280",
   "metadata": {
    "execution": {
     "iopub.execute_input": "2025-01-31T09:32:55.322331Z",
     "iopub.status.busy": "2025-01-31T09:32:55.321836Z",
     "iopub.status.idle": "2025-01-31T10:48:12.814139Z",
     "shell.execute_reply": "2025-01-31T10:48:12.812980Z"
    },
    "papermill": {
     "duration": 4517.544997,
     "end_time": "2025-01-31T10:48:12.844414",
     "exception": false,
     "start_time": "2025-01-31T09:32:55.299417",
     "status": "completed"
    },
    "tags": []
   },
   "outputs": [
    {
     "name": "stdout",
     "output_type": "stream",
     "text": [
      "Training on fold [0/3]\n",
      "\n",
      "bestTest = 0.02236979761\n",
      "bestIteration = 4141\n",
      "\n",
      "Training on fold [1/3]\n",
      "\n",
      "bestTest = 0.01535994135\n",
      "bestIteration = 4083\n",
      "\n",
      "Training on fold [2/3]\n",
      "\n",
      "bestTest = 0.01057188454\n",
      "bestIteration = 4179\n",
      "\n",
      "Training on fold [0/3]\n",
      "\n",
      "bestTest = 0.02873689577\n",
      "bestIteration = 2749\n",
      "\n",
      "Training on fold [1/3]\n",
      "\n",
      "bestTest = 0.03577767261\n",
      "bestIteration = 1358\n",
      "\n",
      "Training on fold [2/3]\n",
      "\n",
      "bestTest = 0.02897128519\n",
      "bestIteration = 2325\n",
      "\n",
      "Training on fold [0/3]\n",
      "\n",
      "bestTest = 0.04228689248\n",
      "bestIteration = 2363\n",
      "\n",
      "Training on fold [1/3]\n",
      "\n",
      "bestTest = 0.03238213917\n",
      "bestIteration = 2283\n",
      "\n",
      "Training on fold [2/3]\n",
      "\n",
      "bestTest = 0.02692862522\n",
      "bestIteration = 2361\n",
      "\n",
      "Training on fold [0/3]\n",
      "\n",
      "bestTest = 0.0755691614\n",
      "bestIteration = 2009\n",
      "\n",
      "Training on fold [1/3]\n",
      "\n",
      "bestTest = 0.04438011095\n",
      "bestIteration = 932\n",
      "\n",
      "Training on fold [2/3]\n",
      "\n",
      "bestTest = 0.03616697717\n",
      "bestIteration = 2356\n",
      "\n",
      "Training on fold [0/3]\n",
      "\n",
      "bestTest = 0.05345386137\n",
      "bestIteration = 1632\n",
      "\n",
      "Training on fold [1/3]\n",
      "\n",
      "bestTest = 0.06154021089\n",
      "bestIteration = 3296\n",
      "\n",
      "Training on fold [2/3]\n",
      "\n",
      "bestTest = 0.06508238598\n",
      "bestIteration = 1976\n",
      "\n",
      "Training on fold [0/3]\n",
      "\n",
      "bestTest = 0.07207817239\n",
      "bestIteration = 1805\n",
      "\n",
      "Training on fold [1/3]\n",
      "\n",
      "bestTest = 0.03224908738\n",
      "bestIteration = 676\n",
      "\n",
      "Training on fold [2/3]\n",
      "\n",
      "bestTest = 0.03534662535\n",
      "bestIteration = 535\n",
      "\n",
      "Training on fold [0/3]\n",
      "\n",
      "bestTest = 0.0571490612\n",
      "bestIteration = 3541\n",
      "\n",
      "Training on fold [1/3]\n",
      "\n",
      "bestTest = 0.0348538326\n",
      "bestIteration = 1193\n",
      "\n",
      "Training on fold [2/3]\n",
      "\n",
      "bestTest = 0.01378059735\n",
      "bestIteration = 7299\n",
      "\n",
      "Number of finished trials: 7\n",
      "Canada Best trial:\n",
      "  Value: 0.016110703675042748\n",
      "Canada  Params: \n",
      "    iterations: 4180\n",
      "    learning_rate: 0.009066104996109355\n",
      "    objective: MAPE\n",
      "    colsample_bylevel: 0.04944412176397352\n",
      "    depth: 6\n",
      "    boosting_type: Plain\n",
      "    bootstrap_type: Bernoulli\n",
      "    subsample: 0.39751429150605444\n",
      "Training on fold [0/3]\n",
      "\n",
      "bestTest = 0.01931662524\n",
      "bestIteration = 5983\n",
      "\n",
      "Training on fold [1/3]\n",
      "\n",
      "bestTest = 0.01843412061\n",
      "bestIteration = 5981\n",
      "\n",
      "Training on fold [2/3]\n",
      "\n",
      "bestTest = 0.01781008386\n",
      "bestIteration = 5975\n",
      "\n",
      "Training on fold [0/3]\n",
      "\n",
      "bestTest = 0.02480308035\n",
      "bestIteration = 7130\n",
      "\n",
      "Training on fold [1/3]\n",
      "\n",
      "bestTest = 0.01524477503\n",
      "bestIteration = 7174\n",
      "\n",
      "Training on fold [2/3]\n",
      "\n",
      "bestTest = 0.01581035847\n",
      "bestIteration = 7172\n",
      "\n",
      "Training on fold [0/3]\n",
      "\n",
      "bestTest = 0.04662008134\n",
      "bestIteration = 1860\n",
      "\n",
      "Training on fold [1/3]\n",
      "\n",
      "bestTest = 0.04741250425\n",
      "bestIteration = 786\n",
      "\n",
      "Training on fold [2/3]\n",
      "\n",
      "bestTest = 0.01889105967\n",
      "bestIteration = 1922\n",
      "\n",
      "Training on fold [0/3]\n",
      "\n",
      "bestTest = 0.09778544151\n",
      "bestIteration = 2023\n",
      "\n",
      "Training on fold [1/3]\n",
      "\n",
      "bestTest = 0.07048920788\n",
      "bestIteration = 914\n",
      "\n",
      "Training on fold [2/3]\n",
      "\n",
      "bestTest = 0.06827225859\n",
      "bestIteration = 1588\n",
      "\n",
      "Training on fold [0/3]\n",
      "\n",
      "bestTest = 0.0615491404\n",
      "bestIteration = 1274\n",
      "\n",
      "Training on fold [1/3]\n",
      "\n",
      "bestTest = 0.08725039402\n",
      "bestIteration = 1381\n",
      "\n",
      "Training on fold [2/3]\n",
      "\n",
      "bestTest = 0.1071469614\n",
      "bestIteration = 1295\n",
      "\n",
      "Training on fold [0/3]\n",
      "\n",
      "bestTest = 0.03063737613\n",
      "bestIteration = 2787\n",
      "\n",
      "Training on fold [1/3]\n",
      "\n",
      "bestTest = 0.02482870285\n",
      "bestIteration = 2469\n",
      "\n",
      "Training on fold [2/3]\n",
      "\n",
      "bestTest = 0.01182898939\n",
      "bestIteration = 2560\n",
      "\n",
      "Training on fold [0/3]\n",
      "\n",
      "bestTest = 0.03356314302\n",
      "bestIteration = 5885\n",
      "\n",
      "Training on fold [1/3]\n",
      "\n",
      "bestTest = 0.03150915073\n",
      "bestIteration = 5881\n",
      "\n",
      "Training on fold [2/3]\n",
      "\n",
      "bestTest = 0.02848706318\n",
      "bestIteration = 5879\n",
      "\n",
      "Training on fold [0/3]\n",
      "\n",
      "bestTest = 0.2282546925\n",
      "bestIteration = 1538\n",
      "\n",
      "Training on fold [1/3]\n",
      "\n",
      "bestTest = 0.07249932561\n",
      "bestIteration = 1700\n",
      "\n",
      "Training on fold [2/3]\n",
      "\n",
      "bestTest = 0.06079887461\n",
      "bestIteration = 3473\n",
      "\n",
      "Number of finished trials: 8\n",
      "Finland Best trial:\n",
      "  Value: 0.018520292392533437\n",
      "Finland  Params: \n",
      "    iterations: 5984\n",
      "    learning_rate: 0.008798785137883808\n",
      "    objective: MAPE\n",
      "    colsample_bylevel: 0.02274586466916535\n",
      "    depth: 5\n",
      "    boosting_type: Plain\n",
      "    bootstrap_type: Bayesian\n",
      "    bagging_temperature: 6.9628844685103175\n",
      "Training on fold [0/3]\n",
      "\n",
      "bestTest = 0.03295062333\n",
      "bestIteration = 4498\n",
      "\n",
      "Training on fold [1/3]\n",
      "\n",
      "bestTest = 0.01540193412\n",
      "bestIteration = 2795\n",
      "\n",
      "Training on fold [2/3]\n",
      "\n",
      "bestTest = 0.01721540796\n",
      "bestIteration = 2124\n",
      "\n",
      "Training on fold [0/3]\n",
      "\n",
      "bestTest = 0.01231941459\n",
      "bestIteration = 6372\n",
      "\n",
      "Training on fold [1/3]\n",
      "\n",
      "bestTest = 0.02335765378\n",
      "bestIteration = 5073\n",
      "\n",
      "Training on fold [2/3]\n",
      "\n",
      "bestTest = 0.03605442944\n",
      "bestIteration = 6271\n",
      "\n",
      "Training on fold [0/3]\n",
      "\n",
      "bestTest = 0.04919715142\n",
      "bestIteration = 3101\n",
      "\n",
      "Training on fold [1/3]\n",
      "\n",
      "bestTest = 0.07790815656\n",
      "bestIteration = 2478\n",
      "\n",
      "Training on fold [2/3]\n",
      "\n",
      "bestTest = 0.06137524307\n",
      "bestIteration = 1052\n",
      "\n",
      "Training on fold [0/3]\n",
      "\n",
      "bestTest = 0.04641266894\n",
      "bestIteration = 1302\n",
      "\n",
      "Training on fold [1/3]\n",
      "\n",
      "bestTest = 0.0195633199\n",
      "bestIteration = 1568\n",
      "\n",
      "Training on fold [2/3]\n",
      "\n",
      "bestTest = 0.03702017817\n",
      "bestIteration = 1624\n",
      "\n",
      "Training on fold [0/3]\n",
      "\n",
      "bestTest = 0.03025842571\n",
      "bestIteration = 3270\n",
      "\n",
      "Training on fold [1/3]\n",
      "\n",
      "bestTest = 0.02211406898\n",
      "bestIteration = 3670\n",
      "\n",
      "Training on fold [2/3]\n",
      "\n",
      "bestTest = 0.02691086994\n",
      "bestIteration = 4373\n",
      "\n",
      "Training on fold [0/3]\n",
      "\n",
      "bestTest = 0.03688012896\n",
      "bestIteration = 1035\n",
      "\n",
      "Training on fold [1/3]\n",
      "\n",
      "bestTest = 0.02846048191\n",
      "bestIteration = 2326\n",
      "\n",
      "Training on fold [2/3]\n",
      "\n",
      "bestTest = 0.05654925823\n",
      "bestIteration = 1225\n",
      "\n",
      "Training on fold [0/3]\n",
      "\n",
      "bestTest = 0.03105259221\n",
      "bestIteration = 2776\n",
      "\n",
      "Training on fold [1/3]\n",
      "\n",
      "bestTest = 0.0145747779\n",
      "bestIteration = 4120\n",
      "\n",
      "Training on fold [2/3]\n",
      "\n",
      "bestTest = 0.02669425822\n",
      "bestIteration = 2309\n",
      "\n",
      "Training on fold [0/3]\n",
      "\n",
      "bestTest = 0.09194139043\n",
      "bestIteration = 1052\n",
      "\n",
      "Training on fold [1/3]\n",
      "\n",
      "bestTest = 0.03349194178\n",
      "bestIteration = 926\n",
      "\n",
      "Training on fold [2/3]\n",
      "\n",
      "bestTest = 0.02612823168\n",
      "bestIteration = 1753\n",
      "\n",
      "Training on fold [0/3]\n",
      "\n",
      "bestTest = 0.04607179872\n",
      "bestIteration = 7678\n",
      "\n",
      "Training on fold [1/3]\n",
      "\n",
      "bestTest = 0.04470888441\n",
      "bestIteration = 7679\n",
      "\n",
      "Training on fold [2/3]\n",
      "\n",
      "bestTest = 0.04262025031\n",
      "bestIteration = 7650\n",
      "\n",
      "Number of finished trials: 9\n",
      "Italy Best trial:\n",
      "  Value: 0.02190997862117131\n",
      "Italy  Params: \n",
      "    iterations: 8392\n",
      "    learning_rate: 0.017459742652665707\n",
      "    objective: MAPE\n",
      "    colsample_bylevel: 0.055774991107649344\n",
      "    depth: 6\n",
      "    boosting_type: Plain\n",
      "    bootstrap_type: Bayesian\n",
      "    bagging_temperature: 3.4968527285255\n",
      "Training on fold [0/3]\n",
      "\n",
      "bestTest = 0.06374793306\n",
      "bestIteration = 1493\n",
      "\n",
      "Training on fold [1/3]\n",
      "\n",
      "bestTest = 0.04098486026\n",
      "bestIteration = 1423\n",
      "\n",
      "Training on fold [2/3]\n",
      "\n",
      "bestTest = 0.02139465479\n",
      "bestIteration = 5458\n",
      "\n",
      "Training on fold [0/3]\n",
      "\n",
      "bestTest = 0.03562555217\n",
      "bestIteration = 8268\n",
      "\n",
      "Training on fold [1/3]\n",
      "\n",
      "bestTest = 0.03209868786\n",
      "bestIteration = 8243\n",
      "\n",
      "Training on fold [2/3]\n",
      "\n",
      "bestTest = 0.02658254405\n",
      "bestIteration = 8268\n",
      "\n",
      "Training on fold [0/3]\n",
      "\n",
      "bestTest = 0.06403093704\n",
      "bestIteration = 2222\n",
      "\n",
      "Training on fold [1/3]\n",
      "\n",
      "bestTest = 0.07202790339\n",
      "bestIteration = 1853\n",
      "\n",
      "Training on fold [2/3]\n",
      "\n",
      "bestTest = 0.03445711221\n",
      "bestIteration = 4939\n",
      "\n",
      "Training on fold [0/3]\n",
      "\n",
      "bestTest = 0.09497306409\n",
      "bestIteration = 5214\n",
      "\n",
      "Training on fold [1/3]\n",
      "\n",
      "bestTest = 0.09453343842\n",
      "bestIteration = 5214\n",
      "\n",
      "Training on fold [2/3]\n",
      "\n",
      "bestTest = 0.1010198026\n",
      "bestIteration = 5204\n",
      "\n",
      "Training on fold [0/3]\n",
      "\n",
      "bestTest = 0.05881122419\n",
      "bestIteration = 7280\n",
      "\n",
      "Training on fold [1/3]\n",
      "\n",
      "bestTest = 0.05781725197\n",
      "bestIteration = 7284\n",
      "\n",
      "Training on fold [2/3]\n",
      "\n",
      "bestTest = 0.04860338971\n",
      "bestIteration = 7280\n",
      "\n",
      "Training on fold [0/3]\n",
      "\n",
      "bestTest = 0.04956090856\n",
      "bestIteration = 2322\n",
      "\n",
      "Training on fold [1/3]\n",
      "\n",
      "bestTest = 0.07401774028\n",
      "bestIteration = 2005\n",
      "\n",
      "Training on fold [2/3]\n",
      "\n",
      "bestTest = 0.02466992788\n",
      "bestIteration = 6666\n",
      "\n",
      "Training on fold [0/3]\n",
      "\n",
      "bestTest = 0.08302117261\n",
      "bestIteration = 1032\n",
      "\n",
      "Training on fold [1/3]\n",
      "\n",
      "bestTest = 0.08178871098\n",
      "bestIteration = 595\n",
      "\n",
      "Training on fold [2/3]\n",
      "\n",
      "bestTest = 0.03211840067\n",
      "bestIteration = 2187\n",
      "\n",
      "Number of finished trials: 7\n",
      "Kenya Best trial:\n",
      "  Value: 0.031437148926377716\n",
      "Kenya  Params: \n",
      "    iterations: 8269\n",
      "    learning_rate: 0.0202677466106194\n",
      "    objective: MAPE\n",
      "    colsample_bylevel: 0.01691572799311861\n",
      "    depth: 4\n",
      "    boosting_type: Ordered\n",
      "    bootstrap_type: MVS\n",
      "Training on fold [0/3]\n",
      "\n",
      "bestTest = 0.0370974123\n",
      "bestIteration = 1409\n",
      "\n",
      "Training on fold [1/3]\n",
      "\n",
      "bestTest = 0.01831509695\n",
      "bestIteration = 1410\n",
      "\n",
      "Training on fold [2/3]\n",
      "\n",
      "bestTest = 0.0194264485\n",
      "bestIteration = 1410\n",
      "\n",
      "Training on fold [0/3]\n",
      "\n",
      "bestTest = 0.1124138926\n",
      "bestIteration = 1886\n",
      "\n",
      "Training on fold [1/3]\n",
      "\n",
      "bestTest = 0.1069097713\n",
      "bestIteration = 1395\n",
      "\n",
      "Training on fold [2/3]\n",
      "\n",
      "bestTest = 0.1024635837\n",
      "bestIteration = 1713\n",
      "\n",
      "Training on fold [0/3]\n",
      "\n",
      "bestTest = 0.01960336373\n",
      "bestIteration = 8460\n",
      "\n",
      "Training on fold [1/3]\n",
      "\n",
      "bestTest = 0.02220579118\n",
      "bestIteration = 4530\n",
      "\n",
      "Training on fold [2/3]\n",
      "\n",
      "bestTest = 0.01606839405\n",
      "bestIteration = 4788\n",
      "\n",
      "Training on fold [0/3]\n",
      "\n",
      "bestTest = 0.08920010636\n",
      "bestIteration = 1966\n",
      "\n",
      "Training on fold [1/3]\n",
      "\n",
      "bestTest = 0.05684203913\n",
      "bestIteration = 798\n",
      "\n",
      "Training on fold [2/3]\n",
      "\n",
      "bestTest = 0.04843458317\n",
      "bestIteration = 1926\n",
      "\n",
      "Training on fold [0/3]\n",
      "\n",
      "bestTest = 0.04393588566\n",
      "bestIteration = 3715\n",
      "\n",
      "Training on fold [1/3]\n",
      "\n",
      "bestTest = 0.04302752801\n",
      "bestIteration = 3708\n",
      "\n",
      "Training on fold [2/3]\n",
      "\n",
      "bestTest = 0.0614185869\n",
      "bestIteration = 3584\n",
      "\n",
      "Training on fold [0/3]\n",
      "\n",
      "bestTest = 0.02263795824\n",
      "bestIteration = 2677\n",
      "\n",
      "Training on fold [1/3]\n",
      "\n",
      "bestTest = 0.02216924294\n",
      "bestIteration = 2706\n",
      "\n",
      "Training on fold [2/3]\n",
      "\n",
      "bestTest = 0.02280326737\n",
      "bestIteration = 2706\n",
      "\n",
      "Training on fold [0/3]\n",
      "\n",
      "bestTest = 0.009936142767\n",
      "bestIteration = 9292\n",
      "\n",
      "Training on fold [1/3]\n",
      "\n",
      "bestTest = 0.01202919625\n",
      "bestIteration = 1996\n",
      "\n",
      "Training on fold [2/3]\n",
      "\n",
      "bestTest = 0.0174649666\n",
      "bestIteration = 3452\n",
      "\n",
      "Number of finished trials: 7\n",
      "Norway Best trial:\n",
      "  Value: 0.013222257468212978\n",
      "Norway  Params: \n",
      "    iterations: 9366\n",
      "    learning_rate: 0.025082576847832008\n",
      "    objective: MAPE\n",
      "    colsample_bylevel: 0.038637669754674794\n",
      "    depth: 4\n",
      "    boosting_type: Ordered\n",
      "    bootstrap_type: Bernoulli\n",
      "    subsample: 0.20415650334724406\n",
      "Training on fold [0/3]\n",
      "\n",
      "bestTest = 0.01524619845\n",
      "bestIteration = 8736\n",
      "\n",
      "Training on fold [1/3]\n",
      "\n",
      "bestTest = 0.0132361822\n",
      "bestIteration = 8592\n",
      "\n",
      "Training on fold [2/3]\n",
      "\n",
      "bestTest = 0.01268058598\n",
      "bestIteration = 7652\n",
      "\n",
      "Training on fold [0/3]\n",
      "\n",
      "bestTest = 0.1654002754\n",
      "bestIteration = 767\n",
      "\n",
      "Training on fold [1/3]\n",
      "\n",
      "bestTest = 0.08037752592\n",
      "bestIteration = 751\n",
      "\n",
      "Training on fold [2/3]\n",
      "\n",
      "bestTest = 0.09449076749\n",
      "bestIteration = 1527\n",
      "\n",
      "Training on fold [0/3]\n",
      "\n",
      "bestTest = 0.0392692648\n",
      "bestIteration = 5022\n",
      "\n",
      "Training on fold [1/3]\n",
      "\n",
      "bestTest = 0.02465723675\n",
      "bestIteration = 3226\n",
      "\n",
      "Training on fold [2/3]\n",
      "\n",
      "bestTest = 0.03123569024\n",
      "bestIteration = 2168\n",
      "\n",
      "Training on fold [0/3]\n",
      "\n",
      "bestTest = 0.02934500689\n",
      "bestIteration = 8596\n",
      "\n",
      "Training on fold [1/3]\n",
      "\n",
      "bestTest = 0.01456629123\n",
      "bestIteration = 4922\n",
      "\n",
      "Training on fold [2/3]\n",
      "\n",
      "bestTest = 0.01298090342\n",
      "bestIteration = 4444\n",
      "\n",
      "Training on fold [0/3]\n",
      "\n",
      "bestTest = 0.03043631353\n",
      "bestIteration = 2120\n",
      "\n",
      "Training on fold [1/3]\n",
      "\n",
      "bestTest = 0.04833329525\n",
      "bestIteration = 406\n",
      "\n",
      "Training on fold [2/3]\n",
      "\n",
      "bestTest = 0.03008407358\n",
      "bestIteration = 1162\n",
      "\n",
      "Training on fold [0/3]\n",
      "\n",
      "bestTest = 0.02596167216\n",
      "bestIteration = 3240\n",
      "\n",
      "Training on fold [1/3]\n",
      "\n",
      "bestTest = 0.03205178362\n",
      "bestIteration = 2568\n",
      "\n",
      "Training on fold [2/3]\n",
      "\n",
      "bestTest = 0.08278366236\n",
      "bestIteration = 989\n",
      "\n",
      "Number of finished trials: 6\n",
      "Singapore Best trial:\n",
      "  Value: 0.013791695696399124\n",
      "Singapore  Params: \n",
      "    iterations: 8751\n",
      "    learning_rate: 0.012437120317789952\n",
      "    objective: MAPE\n",
      "    colsample_bylevel: 0.020311956058742763\n",
      "    depth: 8\n",
      "    boosting_type: Plain\n",
      "    bootstrap_type: Bernoulli\n",
      "    subsample: 0.1326853337573836\n"
     ]
    }
   ],
   "source": [
    "from functools import partial \n",
    "\n",
    "country_best_params={}\n",
    "for c in countrylist:\n",
    "    objective = partial(objective, country = c)\n",
    "    \n",
    "    optuna.logging.set_verbosity(optuna.logging.CRITICAL)\n",
    "    study = optuna.create_study(\n",
    "        #pruner=optuna.pruners.MedianPruner(n_warmup_steps=5), \n",
    "        direction=\"minimize\",\n",
    "    )\n",
    "    study.optimize(objective, n_trials=100, timeout=600)\n",
    "    \n",
    "    print(\"Number of finished trials: {}\".format(len(study.trials)))\n",
    "    \n",
    "    print(f'{c} Best trial:')\n",
    "    trial = study.best_trial\n",
    "    \n",
    "    print(\"  Value: {}\".format(trial.value))\n",
    "    \n",
    "    print(f\"{c}  Params: \")\n",
    "    country_best_params[c]=trial.params.copy()\n",
    "    for key, value in trial.params.items():\n",
    "        print(\"    {}: {}\".format(key, value))\n",
    "        "
   ]
  },
  {
   "cell_type": "code",
   "execution_count": 58,
   "id": "39c348b5",
   "metadata": {
    "execution": {
     "iopub.execute_input": "2025-01-31T10:48:12.972600Z",
     "iopub.status.busy": "2025-01-31T10:48:12.972205Z",
     "iopub.status.idle": "2025-01-31T10:48:12.976676Z",
     "shell.execute_reply": "2025-01-31T10:48:12.975584Z"
    },
    "papermill": {
     "duration": 0.037811,
     "end_time": "2025-01-31T10:48:12.978320",
     "exception": false,
     "start_time": "2025-01-31T10:48:12.940509",
     "status": "completed"
    },
    "tags": []
   },
   "outputs": [],
   "source": [
    "#print(study.best_params)"
   ]
  },
  {
   "cell_type": "code",
   "execution_count": 59,
   "id": "61efcf2d",
   "metadata": {
    "execution": {
     "iopub.execute_input": "2025-01-31T10:48:13.038261Z",
     "iopub.status.busy": "2025-01-31T10:48:13.037863Z",
     "iopub.status.idle": "2025-01-31T10:48:13.042081Z",
     "shell.execute_reply": "2025-01-31T10:48:13.041120Z"
    },
    "papermill": {
     "duration": 0.035891,
     "end_time": "2025-01-31T10:48:13.043651",
     "exception": false,
     "start_time": "2025-01-31T10:48:13.007760",
     "status": "completed"
    },
    "tags": []
   },
   "outputs": [],
   "source": [
    "# from catboost import Pool,cv\n",
    "# cats=df_train.select_dtypes('category').columns\n",
    "# features=df_train.drop(['id','num_sold','date'],axis=1).columns\n",
    "# train_pool = Pool(data=df_train.drop(['id','num_sold','date'],axis=1),\n",
    "#              label=df_train['num_sold'],\n",
    "#              cat_features=cats.to_list())"
   ]
  },
  {
   "cell_type": "code",
   "execution_count": 60,
   "id": "15d8eb88",
   "metadata": {
    "execution": {
     "iopub.execute_input": "2025-01-31T10:48:13.104360Z",
     "iopub.status.busy": "2025-01-31T10:48:13.103930Z",
     "iopub.status.idle": "2025-01-31T10:48:13.108391Z",
     "shell.execute_reply": "2025-01-31T10:48:13.107110Z"
    },
    "papermill": {
     "duration": 0.036908,
     "end_time": "2025-01-31T10:48:13.110207",
     "exception": false,
     "start_time": "2025-01-31T10:48:13.073299",
     "status": "completed"
    },
    "tags": []
   },
   "outputs": [],
   "source": [
    "# from catboost import Pool,cv\n",
    "\n",
    "#              #feature_names=features)\n",
    "\n",
    "\n",
    "# # params = {\"iterations\": 1000,\n",
    "# #           \"depth\": 4,\n",
    "# #           \"loss_function\": \"MAPE\",\n",
    "# #           \"verbose\": False}\n",
    "\n",
    "# scores = cv(train_pool,\n",
    "#             study.best_params,\n",
    "#            fold_count=5,\n",
    "#             verbose=0,\n",
    "#            )\n",
    "\n",
    "# print(scores)"
   ]
  },
  {
   "cell_type": "code",
   "execution_count": 61,
   "id": "33834fd0",
   "metadata": {
    "execution": {
     "iopub.execute_input": "2025-01-31T10:48:13.172936Z",
     "iopub.status.busy": "2025-01-31T10:48:13.172574Z",
     "iopub.status.idle": "2025-01-31T10:48:13.176396Z",
     "shell.execute_reply": "2025-01-31T10:48:13.175474Z"
    },
    "papermill": {
     "duration": 0.036327,
     "end_time": "2025-01-31T10:48:13.178046",
     "exception": false,
     "start_time": "2025-01-31T10:48:13.141719",
     "status": "completed"
    },
    "tags": []
   },
   "outputs": [],
   "source": [
    "#print(scores)"
   ]
  },
  {
   "cell_type": "code",
   "execution_count": 62,
   "id": "2309fbb7",
   "metadata": {
    "execution": {
     "iopub.execute_input": "2025-01-31T10:48:13.239706Z",
     "iopub.status.busy": "2025-01-31T10:48:13.239357Z",
     "iopub.status.idle": "2025-01-31T10:48:13.243320Z",
     "shell.execute_reply": "2025-01-31T10:48:13.242357Z"
    },
    "papermill": {
     "duration": 0.037205,
     "end_time": "2025-01-31T10:48:13.244994",
     "exception": false,
     "start_time": "2025-01-31T10:48:13.207789",
     "status": "completed"
    },
    "tags": []
   },
   "outputs": [],
   "source": [
    "#hyperdict=optuna.importance.get_param_importances(study)"
   ]
  },
  {
   "cell_type": "code",
   "execution_count": 63,
   "id": "41439d5f",
   "metadata": {
    "execution": {
     "iopub.execute_input": "2025-01-31T10:48:13.306209Z",
     "iopub.status.busy": "2025-01-31T10:48:13.305696Z",
     "iopub.status.idle": "2025-01-31T10:48:13.310085Z",
     "shell.execute_reply": "2025-01-31T10:48:13.308821Z"
    },
    "papermill": {
     "duration": 0.037077,
     "end_time": "2025-01-31T10:48:13.312142",
     "exception": false,
     "start_time": "2025-01-31T10:48:13.275065",
     "status": "completed"
    },
    "tags": []
   },
   "outputs": [],
   "source": [
    "#print(hyperdict)"
   ]
  },
  {
   "cell_type": "code",
   "execution_count": 64,
   "id": "840929e8",
   "metadata": {
    "execution": {
     "iopub.execute_input": "2025-01-31T10:48:13.373229Z",
     "iopub.status.busy": "2025-01-31T10:48:13.372794Z",
     "iopub.status.idle": "2025-01-31T10:48:13.379657Z",
     "shell.execute_reply": "2025-01-31T10:48:13.378433Z"
    },
    "papermill": {
     "duration": 0.038915,
     "end_time": "2025-01-31T10:48:13.381419",
     "exception": false,
     "start_time": "2025-01-31T10:48:13.342504",
     "status": "completed"
    },
    "tags": []
   },
   "outputs": [
    {
     "name": "stdout",
     "output_type": "stream",
     "text": [
      "Canada\n",
      "{'iterations': 4180, 'learning_rate': 0.009066104996109355, 'objective': 'MAPE', 'colsample_bylevel': 0.04944412176397352, 'depth': 6, 'boosting_type': 'Plain', 'bootstrap_type': 'Bernoulli', 'subsample': 0.39751429150605444}\n",
      "Finland\n",
      "{'iterations': 5984, 'learning_rate': 0.008798785137883808, 'objective': 'MAPE', 'colsample_bylevel': 0.02274586466916535, 'depth': 5, 'boosting_type': 'Plain', 'bootstrap_type': 'Bayesian', 'bagging_temperature': 6.9628844685103175}\n",
      "Italy\n",
      "{'iterations': 8392, 'learning_rate': 0.017459742652665707, 'objective': 'MAPE', 'colsample_bylevel': 0.055774991107649344, 'depth': 6, 'boosting_type': 'Plain', 'bootstrap_type': 'Bayesian', 'bagging_temperature': 3.4968527285255}\n",
      "Kenya\n",
      "{'iterations': 8269, 'learning_rate': 0.0202677466106194, 'objective': 'MAPE', 'colsample_bylevel': 0.01691572799311861, 'depth': 4, 'boosting_type': 'Ordered', 'bootstrap_type': 'MVS'}\n",
      "Norway\n",
      "{'iterations': 9366, 'learning_rate': 0.025082576847832008, 'objective': 'MAPE', 'colsample_bylevel': 0.038637669754674794, 'depth': 4, 'boosting_type': 'Ordered', 'bootstrap_type': 'Bernoulli', 'subsample': 0.20415650334724406}\n",
      "Singapore\n",
      "{'iterations': 8751, 'learning_rate': 0.012437120317789952, 'objective': 'MAPE', 'colsample_bylevel': 0.020311956058742763, 'depth': 8, 'boosting_type': 'Plain', 'bootstrap_type': 'Bernoulli', 'subsample': 0.1326853337573836}\n"
     ]
    }
   ],
   "source": [
    "for p,v in country_best_params.items():\n",
    "    print(p)\n",
    "    print(v)"
   ]
  },
  {
   "cell_type": "code",
   "execution_count": 65,
   "id": "517bd467",
   "metadata": {
    "execution": {
     "iopub.execute_input": "2025-01-31T10:48:13.443612Z",
     "iopub.status.busy": "2025-01-31T10:48:13.443240Z",
     "iopub.status.idle": "2025-01-31T10:48:13.449307Z",
     "shell.execute_reply": "2025-01-31T10:48:13.447945Z"
    },
    "papermill": {
     "duration": 0.039621,
     "end_time": "2025-01-31T10:48:13.451523",
     "exception": false,
     "start_time": "2025-01-31T10:48:13.411902",
     "status": "completed"
    },
    "tags": []
   },
   "outputs": [],
   "source": [
    "#Execute this cell in case of loading fitted model to do prediction\n",
    "country_model={}\n",
    "def LoadModel():\n",
    "    Path='/kaggle/input/cbfitmodels'\n",
    "    countrylist=['Canada','Finland','Italy','Kenya','Norway','Singapore']\n",
    "    for c in countrylist:\n",
    "        country_model[c]=cb.CatBoostRegressor().load_model(f'{Path}/cbfit_{c}')\n"
   ]
  },
  {
   "cell_type": "code",
   "execution_count": 66,
   "id": "8abb996c",
   "metadata": {
    "execution": {
     "iopub.execute_input": "2025-01-31T10:48:13.514466Z",
     "iopub.status.busy": "2025-01-31T10:48:13.514088Z",
     "iopub.status.idle": "2025-01-31T10:48:13.517783Z",
     "shell.execute_reply": "2025-01-31T10:48:13.516800Z"
    },
    "papermill": {
     "duration": 0.036211,
     "end_time": "2025-01-31T10:48:13.519666",
     "exception": false,
     "start_time": "2025-01-31T10:48:13.483455",
     "status": "completed"
    },
    "tags": []
   },
   "outputs": [],
   "source": [
    "#Use when using model without training\n",
    "#LoadModel()"
   ]
  },
  {
   "cell_type": "code",
   "execution_count": 67,
   "id": "88eb4080",
   "metadata": {
    "execution": {
     "iopub.execute_input": "2025-01-31T10:48:13.584318Z",
     "iopub.status.busy": "2025-01-31T10:48:13.583887Z",
     "iopub.status.idle": "2025-01-31T10:48:13.588314Z",
     "shell.execute_reply": "2025-01-31T10:48:13.587195Z"
    },
    "papermill": {
     "duration": 0.038781,
     "end_time": "2025-01-31T10:48:13.590091",
     "exception": false,
     "start_time": "2025-01-31T10:48:13.551310",
     "status": "completed"
    },
    "tags": []
   },
   "outputs": [],
   "source": [
    "# country_best_params={}\n",
    "# country_best_params['Canada']={'iterations': 3593, 'learning_rate': 0.012827192029471704, 'objective': 'MAPE', 'colsample_bylevel': 0.09122674054287529, 'depth': 3, 'boosting_type': 'Ordered', 'bootstrap_type': 'Bernoulli', 'subsample': 0.3698567303900272}\n",
    "# country_best_params['Finland']={'iterations': 4674, 'learning_rate': 0.021005624891915504, 'objective': 'MAPE', 'colsample_bylevel': 0.5784183002099044, 'depth': 2, 'boosting_type': 'Ordered', 'bootstrap_type': 'Bayesian', 'bagging_temperature': 5.782146139508431}\n",
    "# country_best_params['Italy']={'iterations': 1398, 'learning_rate': 0.0251234589892742, 'objective': 'MAPE', 'colsample_bylevel': 0.049188944104342755, 'depth': 7, 'boosting_type': 'Plain', 'bootstrap_type': 'MVS'}\n",
    "# country_best_params['Kenya']={'iterations': 3924, 'learning_rate': 0.016615674668667934, 'objective': 'MAPE', 'colsample_bylevel': 0.4274609331782009, 'depth': 2, 'boosting_type': 'Ordered', 'bootstrap_type': 'Bayesian', 'bagging_temperature': 6.2645325168308865}\n",
    "# country_best_params['Norway']={'iterations': 3851, 'learning_rate': 0.019929523358906295, 'objective': 'MAPE', 'colsample_bylevel': 0.07338903404462888, 'depth': 2, 'boosting_type': 'Ordered', 'bootstrap_type': 'MVS'}\n",
    "# country_best_params['Singapore']={'iterations': 1094, 'learning_rate': 0.02694754587058969, 'objective': 'MAPE', 'colsample_bylevel': 0.554849569101183, 'depth': 3, 'boosting_type': 'Plain', 'bootstrap_type': 'MVS'}"
   ]
  },
  {
   "cell_type": "code",
   "execution_count": 68,
   "id": "c5bb26e8",
   "metadata": {
    "execution": {
     "iopub.execute_input": "2025-01-31T10:48:13.653429Z",
     "iopub.status.busy": "2025-01-31T10:48:13.652949Z",
     "iopub.status.idle": "2025-01-31T10:52:31.620700Z",
     "shell.execute_reply": "2025-01-31T10:52:31.619489Z"
    },
    "papermill": {
     "duration": 258.031094,
     "end_time": "2025-01-31T10:52:31.651973",
     "exception": false,
     "start_time": "2025-01-31T10:48:13.620879",
     "status": "completed"
    },
    "tags": []
   },
   "outputs": [
    {
     "name": "stdout",
     "output_type": "stream",
     "text": [
      "Canada {'learn': {'MAPE': 0.007888912480282444}, 'validation': {'MAPE': 0.010486764350906215}}\n",
      "Finland {'learn': {'MAPE': 0.01561128746653908}, 'validation': {'MAPE': 0.017661765491218766}}\n",
      "Italy {'learn': {'MAPE': 0.007420324574965489}, 'validation': {'MAPE': 0.011134589726132033}}\n",
      "Kenya {'learn': {'MAPE': 0.028793694931335555}, 'validation': {'MAPE': 0.034990376873834356}}\n",
      "Norway {'learn': {'MAPE': 0.007473207151244783}, 'validation': {'MAPE': 0.014596944771970561}}\n",
      "Singapore {'learn': {'MAPE': 0.01033583857739177}, 'validation': {'MAPE': 0.012295335912436998}}\n"
     ]
    }
   ],
   "source": [
    "#Train model with best param and iteration>1000 before prediction\n",
    "country_model={}\n",
    "for c in countrylist:\n",
    "    country_model[c]=cb.CatBoostRegressor(**country_best_params[c],verbose=0)\n",
    "    country_model[c].fit(country_train_pool[c],eval_set=country_valid_pool[c])\n",
    "    country_model[c].save_model(f'cbfit_{c}')\n",
    "    print(f'{c} {country_model[c].get_best_score()}')"
   ]
  },
  {
   "cell_type": "code",
   "execution_count": 69,
   "id": "c438d2cd",
   "metadata": {
    "execution": {
     "iopub.execute_input": "2025-01-31T10:52:31.715324Z",
     "iopub.status.busy": "2025-01-31T10:52:31.714923Z",
     "iopub.status.idle": "2025-01-31T10:52:31.721072Z",
     "shell.execute_reply": "2025-01-31T10:52:31.719995Z"
    },
    "papermill": {
     "duration": 0.039843,
     "end_time": "2025-01-31T10:52:31.722711",
     "exception": false,
     "start_time": "2025-01-31T10:52:31.682868",
     "status": "completed"
    },
    "tags": []
   },
   "outputs": [
    {
     "data": {
      "text/plain": [
       "{'Canada': <catboost.core.CatBoostRegressor at 0x7fda8671a8c0>,\n",
       " 'Finland': <catboost.core.CatBoostRegressor at 0x7fdac4beba00>,\n",
       " 'Italy': <catboost.core.CatBoostRegressor at 0x7fda86719bd0>,\n",
       " 'Kenya': <catboost.core.CatBoostRegressor at 0x7fda86719ab0>,\n",
       " 'Norway': <catboost.core.CatBoostRegressor at 0x7fda86719c00>,\n",
       " 'Singapore': <catboost.core.CatBoostRegressor at 0x7fda867190f0>}"
      ]
     },
     "execution_count": 69,
     "metadata": {},
     "output_type": "execute_result"
    }
   ],
   "source": [
    "country_model"
   ]
  },
  {
   "cell_type": "code",
   "execution_count": 70,
   "id": "d89a4657",
   "metadata": {
    "execution": {
     "iopub.execute_input": "2025-01-31T10:52:31.784950Z",
     "iopub.status.busy": "2025-01-31T10:52:31.784583Z",
     "iopub.status.idle": "2025-01-31T10:52:36.298117Z",
     "shell.execute_reply": "2025-01-31T10:52:36.296599Z"
    },
    "papermill": {
     "duration": 4.546935,
     "end_time": "2025-01-31T10:52:36.300568",
     "exception": false,
     "start_time": "2025-01-31T10:52:31.753633",
     "status": "completed"
    },
    "tags": []
   },
   "outputs": [
    {
     "name": "stderr",
     "output_type": "stream",
     "text": [
      "<ipython-input-70-b533e4724463>:7: SettingWithCopyWarning: \n",
      "A value is trying to be set on a copy of a slice from a DataFrame.\n",
      "Try using .loc[row_indexer,col_indexer] = value instead\n",
      "\n",
      "See the caveats in the documentation: https://pandas.pydata.org/pandas-docs/stable/user_guide/indexing.html#returning-a-view-versus-a-copy\n",
      "  df['num_sold']=country_predicts[c]\n",
      "<ipython-input-70-b533e4724463>:9: SettingWithCopyWarning: \n",
      "A value is trying to be set on a copy of a slice from a DataFrame.\n",
      "Try using .loc[row_indexer,col_indexer] = value instead\n",
      "\n",
      "See the caveats in the documentation: https://pandas.pydata.org/pandas-docs/stable/user_guide/indexing.html#returning-a-view-versus-a-copy\n",
      "  df['rolling_mean'] = df['num_sold'].rolling(window=30).mean()\n",
      "<ipython-input-70-b533e4724463>:10: SettingWithCopyWarning: \n",
      "A value is trying to be set on a copy of a slice from a DataFrame.\n",
      "Try using .loc[row_indexer,col_indexer] = value instead\n",
      "\n",
      "See the caveats in the documentation: https://pandas.pydata.org/pandas-docs/stable/user_guide/indexing.html#returning-a-view-versus-a-copy\n",
      "  df['rolling_std'] = df['num_sold'].rolling(window=30).std()\n",
      "<ipython-input-70-b533e4724463>:7: SettingWithCopyWarning: \n",
      "A value is trying to be set on a copy of a slice from a DataFrame.\n",
      "Try using .loc[row_indexer,col_indexer] = value instead\n",
      "\n",
      "See the caveats in the documentation: https://pandas.pydata.org/pandas-docs/stable/user_guide/indexing.html#returning-a-view-versus-a-copy\n",
      "  df['num_sold']=country_predicts[c]\n",
      "<ipython-input-70-b533e4724463>:9: SettingWithCopyWarning: \n",
      "A value is trying to be set on a copy of a slice from a DataFrame.\n",
      "Try using .loc[row_indexer,col_indexer] = value instead\n",
      "\n",
      "See the caveats in the documentation: https://pandas.pydata.org/pandas-docs/stable/user_guide/indexing.html#returning-a-view-versus-a-copy\n",
      "  df['rolling_mean'] = df['num_sold'].rolling(window=30).mean()\n",
      "<ipython-input-70-b533e4724463>:10: SettingWithCopyWarning: \n",
      "A value is trying to be set on a copy of a slice from a DataFrame.\n",
      "Try using .loc[row_indexer,col_indexer] = value instead\n",
      "\n",
      "See the caveats in the documentation: https://pandas.pydata.org/pandas-docs/stable/user_guide/indexing.html#returning-a-view-versus-a-copy\n",
      "  df['rolling_std'] = df['num_sold'].rolling(window=30).std()\n",
      "<ipython-input-70-b533e4724463>:7: SettingWithCopyWarning: \n",
      "A value is trying to be set on a copy of a slice from a DataFrame.\n",
      "Try using .loc[row_indexer,col_indexer] = value instead\n",
      "\n",
      "See the caveats in the documentation: https://pandas.pydata.org/pandas-docs/stable/user_guide/indexing.html#returning-a-view-versus-a-copy\n",
      "  df['num_sold']=country_predicts[c]\n",
      "<ipython-input-70-b533e4724463>:9: SettingWithCopyWarning: \n",
      "A value is trying to be set on a copy of a slice from a DataFrame.\n",
      "Try using .loc[row_indexer,col_indexer] = value instead\n",
      "\n",
      "See the caveats in the documentation: https://pandas.pydata.org/pandas-docs/stable/user_guide/indexing.html#returning-a-view-versus-a-copy\n",
      "  df['rolling_mean'] = df['num_sold'].rolling(window=30).mean()\n",
      "<ipython-input-70-b533e4724463>:10: SettingWithCopyWarning: \n",
      "A value is trying to be set on a copy of a slice from a DataFrame.\n",
      "Try using .loc[row_indexer,col_indexer] = value instead\n",
      "\n",
      "See the caveats in the documentation: https://pandas.pydata.org/pandas-docs/stable/user_guide/indexing.html#returning-a-view-versus-a-copy\n",
      "  df['rolling_std'] = df['num_sold'].rolling(window=30).std()\n",
      "<ipython-input-70-b533e4724463>:7: SettingWithCopyWarning: \n",
      "A value is trying to be set on a copy of a slice from a DataFrame.\n",
      "Try using .loc[row_indexer,col_indexer] = value instead\n",
      "\n",
      "See the caveats in the documentation: https://pandas.pydata.org/pandas-docs/stable/user_guide/indexing.html#returning-a-view-versus-a-copy\n",
      "  df['num_sold']=country_predicts[c]\n",
      "<ipython-input-70-b533e4724463>:9: SettingWithCopyWarning: \n",
      "A value is trying to be set on a copy of a slice from a DataFrame.\n",
      "Try using .loc[row_indexer,col_indexer] = value instead\n",
      "\n",
      "See the caveats in the documentation: https://pandas.pydata.org/pandas-docs/stable/user_guide/indexing.html#returning-a-view-versus-a-copy\n",
      "  df['rolling_mean'] = df['num_sold'].rolling(window=30).mean()\n",
      "<ipython-input-70-b533e4724463>:10: SettingWithCopyWarning: \n",
      "A value is trying to be set on a copy of a slice from a DataFrame.\n",
      "Try using .loc[row_indexer,col_indexer] = value instead\n",
      "\n",
      "See the caveats in the documentation: https://pandas.pydata.org/pandas-docs/stable/user_guide/indexing.html#returning-a-view-versus-a-copy\n",
      "  df['rolling_std'] = df['num_sold'].rolling(window=30).std()\n",
      "<ipython-input-70-b533e4724463>:7: SettingWithCopyWarning: \n",
      "A value is trying to be set on a copy of a slice from a DataFrame.\n",
      "Try using .loc[row_indexer,col_indexer] = value instead\n",
      "\n",
      "See the caveats in the documentation: https://pandas.pydata.org/pandas-docs/stable/user_guide/indexing.html#returning-a-view-versus-a-copy\n",
      "  df['num_sold']=country_predicts[c]\n",
      "<ipython-input-70-b533e4724463>:9: SettingWithCopyWarning: \n",
      "A value is trying to be set on a copy of a slice from a DataFrame.\n",
      "Try using .loc[row_indexer,col_indexer] = value instead\n",
      "\n",
      "See the caveats in the documentation: https://pandas.pydata.org/pandas-docs/stable/user_guide/indexing.html#returning-a-view-versus-a-copy\n",
      "  df['rolling_mean'] = df['num_sold'].rolling(window=30).mean()\n",
      "<ipython-input-70-b533e4724463>:10: SettingWithCopyWarning: \n",
      "A value is trying to be set on a copy of a slice from a DataFrame.\n",
      "Try using .loc[row_indexer,col_indexer] = value instead\n",
      "\n",
      "See the caveats in the documentation: https://pandas.pydata.org/pandas-docs/stable/user_guide/indexing.html#returning-a-view-versus-a-copy\n",
      "  df['rolling_std'] = df['num_sold'].rolling(window=30).std()\n",
      "<ipython-input-70-b533e4724463>:7: SettingWithCopyWarning: \n",
      "A value is trying to be set on a copy of a slice from a DataFrame.\n",
      "Try using .loc[row_indexer,col_indexer] = value instead\n",
      "\n",
      "See the caveats in the documentation: https://pandas.pydata.org/pandas-docs/stable/user_guide/indexing.html#returning-a-view-versus-a-copy\n",
      "  df['num_sold']=country_predicts[c]\n",
      "<ipython-input-70-b533e4724463>:9: SettingWithCopyWarning: \n",
      "A value is trying to be set on a copy of a slice from a DataFrame.\n",
      "Try using .loc[row_indexer,col_indexer] = value instead\n",
      "\n",
      "See the caveats in the documentation: https://pandas.pydata.org/pandas-docs/stable/user_guide/indexing.html#returning-a-view-versus-a-copy\n",
      "  df['rolling_mean'] = df['num_sold'].rolling(window=30).mean()\n",
      "<ipython-input-70-b533e4724463>:10: SettingWithCopyWarning: \n",
      "A value is trying to be set on a copy of a slice from a DataFrame.\n",
      "Try using .loc[row_indexer,col_indexer] = value instead\n",
      "\n",
      "See the caveats in the documentation: https://pandas.pydata.org/pandas-docs/stable/user_guide/indexing.html#returning-a-view-versus-a-copy\n",
      "  df['rolling_std'] = df['num_sold'].rolling(window=30).std()\n"
     ]
    },
    {
     "data": {
      "image/png": "[encoded data removed]",
      "text/plain": [
       "<Figure size 1200x800 with 6 Axes>"
      ]
     },
     "metadata": {},
     "output_type": "display_data"
    }
   ],
   "source": [
    "fig, axes = plt.subplots(2, 3, figsize=(12, 8))\n",
    "testcountrylist=df_test['country'].unique().tolist()\n",
    "country_predicts={}\n",
    "for i,c in enumerate(testcountrylist):\n",
    "    df=df_test[df_test['country']==c]\n",
    "    country_predicts[c] = np.expm1(country_model[c].predict(df.drop(['id','country'],axis=1)))\n",
    "    df['num_sold']=country_predicts[c]\n",
    "    df.set_index('date')\n",
    "    df['rolling_mean'] = df['num_sold'].rolling(window=30).mean()\n",
    "    df['rolling_std'] = df['num_sold'].rolling(window=30).std()\n",
    "    df[['num_sold', 'rolling_mean', 'rolling_std']].plot(ax=axes.flat[i],title=f'{c} Rolling Mean and Std Dev')\n",
    "\n",
    "plt.tight_layout()\n",
    "plt.show()"
   ]
  },
  {
   "cell_type": "code",
   "execution_count": 71,
   "id": "50147e83",
   "metadata": {
    "execution": {
     "iopub.execute_input": "2025-01-31T10:52:36.375256Z",
     "iopub.status.busy": "2025-01-31T10:52:36.374783Z",
     "iopub.status.idle": "2025-01-31T10:52:36.411304Z",
     "shell.execute_reply": "2025-01-31T10:52:36.409862Z"
    },
    "papermill": {
     "duration": 0.075405,
     "end_time": "2025-01-31T10:52:36.413710",
     "exception": false,
     "start_time": "2025-01-31T10:52:36.338305",
     "status": "completed"
    },
    "tags": []
   },
   "outputs": [],
   "source": [
    "cdf={}\n",
    "for c in testcountrylist:\n",
    "    cid=df_test[df_test['country']==c]['id']\n",
    "    cdf[c]=pd.concat([cid.reset_index(drop=True),pd.DataFrame(np.round(country_predicts[c],0),columns=['num_sold'])],axis=1)\n",
    "   "
   ]
  },
  {
   "cell_type": "code",
   "execution_count": 72,
   "id": "6eceb4e9",
   "metadata": {
    "execution": {
     "iopub.execute_input": "2025-01-31T10:52:36.493846Z",
     "iopub.status.busy": "2025-01-31T10:52:36.493473Z",
     "iopub.status.idle": "2025-01-31T10:52:36.502660Z",
     "shell.execute_reply": "2025-01-31T10:52:36.501256Z"
    },
    "papermill": {
     "duration": 0.052648,
     "end_time": "2025-01-31T10:52:36.504796",
     "exception": false,
     "start_time": "2025-01-31T10:52:36.452148",
     "status": "completed"
    },
    "tags": []
   },
   "outputs": [],
   "source": [
    "temp = pd.concat([df.reset_index(drop=True) for df in cdf.values()])"
   ]
  },
  {
   "cell_type": "code",
   "execution_count": 73,
   "id": "ff55263f",
   "metadata": {
    "execution": {
     "iopub.execute_input": "2025-01-31T10:52:36.580693Z",
     "iopub.status.busy": "2025-01-31T10:52:36.580335Z",
     "iopub.status.idle": "2025-01-31T10:52:36.601533Z",
     "shell.execute_reply": "2025-01-31T10:52:36.600122Z"
    },
    "papermill": {
     "duration": 0.061492,
     "end_time": "2025-01-31T10:52:36.604025",
     "exception": false,
     "start_time": "2025-01-31T10:52:36.542533",
     "status": "completed"
    },
    "tags": []
   },
   "outputs": [],
   "source": [
    "temp=temp.drop_duplicates()"
   ]
  },
  {
   "cell_type": "code",
   "execution_count": 74,
   "id": "b3d853b4",
   "metadata": {
    "execution": {
     "iopub.execute_input": "2025-01-31T10:52:36.680461Z",
     "iopub.status.busy": "2025-01-31T10:52:36.679888Z",
     "iopub.status.idle": "2025-01-31T10:52:36.825545Z",
     "shell.execute_reply": "2025-01-31T10:52:36.824420Z"
    },
    "papermill": {
     "duration": 0.186774,
     "end_time": "2025-01-31T10:52:36.827591",
     "exception": false,
     "start_time": "2025-01-31T10:52:36.640817",
     "status": "completed"
    },
    "tags": []
   },
   "outputs": [],
   "source": [
    "temp.to_csv('submission_6country_dropna_spline_round2.csv',index=False)"
   ]
  },
  {
   "cell_type": "code",
   "execution_count": 75,
   "id": "233b9bd1",
   "metadata": {
    "execution": {
     "iopub.execute_input": "2025-01-31T10:52:36.901917Z",
     "iopub.status.busy": "2025-01-31T10:52:36.901574Z",
     "iopub.status.idle": "2025-01-31T10:52:36.936232Z",
     "shell.execute_reply": "2025-01-31T10:52:36.934841Z"
    },
    "papermill": {
     "duration": 0.073997,
     "end_time": "2025-01-31T10:52:36.938278",
     "exception": false,
     "start_time": "2025-01-31T10:52:36.864281",
     "status": "completed"
    },
    "tags": []
   },
   "outputs": [],
   "source": [
    "cdf={}\n",
    "for c in testcountrylist:\n",
    "    cid=df_test[df_test['country']==c]['id']\n",
    "    cdf[c]=pd.concat([cid.reset_index(drop=True),pd.DataFrame(np.fix(country_predicts[c]),columns=['num_sold'])],axis=1)"
   ]
  },
  {
   "cell_type": "code",
   "execution_count": 76,
   "id": "fb53c3ad",
   "metadata": {
    "execution": {
     "iopub.execute_input": "2025-01-31T10:52:37.012949Z",
     "iopub.status.busy": "2025-01-31T10:52:37.012520Z",
     "iopub.status.idle": "2025-01-31T10:52:37.160091Z",
     "shell.execute_reply": "2025-01-31T10:52:37.158614Z"
    },
    "papermill": {
     "duration": 0.186622,
     "end_time": "2025-01-31T10:52:37.162574",
     "exception": false,
     "start_time": "2025-01-31T10:52:36.975952",
     "status": "completed"
    },
    "tags": []
   },
   "outputs": [],
   "source": [
    "#pd.concat([df_test['id'],pd.DataFrame(np.round(predicts,0),columns=['num_sold'])],axis=1).reset_index(drop=True).to_csv('submission_impute_dropna_holidays_conseddays.csv',index=False)\n",
    "temp = pd.concat([df.reset_index(drop=True) for df in cdf.values()])\n",
    "temp=temp.drop_duplicates()\n",
    "temp.to_csv('submission_6country_dropna_spline_fix2.csv',index=False)"
   ]
  }
 ],
 "metadata": {
  "kaggle": {
   "accelerator": "none",
   "dataSources": [
    {
     "databundleVersionId": 10652996,
     "sourceId": 85723,
     "sourceType": "competition"
    },
    {
     "datasetId": 6470396,
     "sourceId": 10452614,
     "sourceType": "datasetVersion"
    }
   ],
   "dockerImageVersionId": 30822,
   "isGpuEnabled": false,
   "isInternetEnabled": true,
   "language": "python",
   "sourceType": "notebook"
  },
  "kernelspec": {
   "display_name": "Python 3",
   "language": "python",
   "name": "python3"
  },
  "language_info": {
   "codemirror_mode": {
    "name": "ipython",
    "version": 3
   },
   "file_extension": ".py",
   "mimetype": "text/x-python",
   "name": "python",
   "nbconvert_exporter": "python",
   "pygments_lexer": "ipython3",
   "version": "3.10.12"
  },
  "papermill": {
   "default_parameters": {},
   "duration": 4822.7716,
   "end_time": "2025-01-31T10:52:38.230306",
   "environment_variables": {},
   "exception": null,
   "input_path": "__notebook__.ipynb",
   "output_path": "__notebook__.ipynb",
   "parameters": {},
   "start_time": "2025-01-31T09:32:15.458706",
   "version": "2.6.0"
  }
 },
 "nbformat": 4,
 "nbformat_minor": 5
}
