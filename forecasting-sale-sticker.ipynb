{
 "cells": [
  {
   "cell_type": "code",
   "execution_count": 1,
   "id": "2fa4d3a3",
   "metadata": {
    "_cell_guid": "b1076dfc-b9ad-4769-8c92-a6c4dae69d19",
    "_uuid": "8f2839f25d086af736a60e9eeb907d3b93b6e0e5",
    "execution": {
     "iopub.execute_input": "2025-01-31T14:28:43.506175Z",
     "iopub.status.busy": "2025-01-31T14:28:43.505718Z",
     "iopub.status.idle": "2025-01-31T14:28:44.486908Z",
     "shell.execute_reply": "2025-01-31T14:28:44.485467Z"
    },
    "papermill": {
     "duration": 0.998637,
     "end_time": "2025-01-31T14:28:44.488881",
     "exception": false,
     "start_time": "2025-01-31T14:28:43.490244",
     "status": "completed"
    },
    "tags": []
   },
   "outputs": [
    {
     "name": "stdout",
     "output_type": "stream",
     "text": [
      "/kaggle/input/playground-series-s5e1/sample_submission.csv\n",
      "/kaggle/input/playground-series-s5e1/train.csv\n",
      "/kaggle/input/playground-series-s5e1/test.csv\n",
      "/kaggle/input/cbfitmodels/cbfit_Singapore\n",
      "/kaggle/input/cbfitmodels/cbfit_Italy\n",
      "/kaggle/input/cbfitmodels/cbfit_Finland\n",
      "/kaggle/input/cbfitmodels/cbfit_Canada\n",
      "/kaggle/input/cbfitmodels/cbfit_Norway\n",
      "/kaggle/input/cbfitmodels/cbfit_Kenya\n",
      "/kaggle/input/cbfitmodels/__results___files/__results___9_0.png\n",
      "/kaggle/input/cbfitmodels/__results___files/__results___64_1.png\n",
      "/kaggle/input/cbfitmodels/__results___files/__results___13_0.png\n",
      "/kaggle/input/cbfitmodels/catboost_info/test_error.tsv\n",
      "/kaggle/input/cbfitmodels/catboost_info/learn_error.tsv\n",
      "/kaggle/input/cbfitmodels/catboost_info/catboost_training.json\n",
      "/kaggle/input/cbfitmodels/catboost_info/time_left.tsv\n",
      "/kaggle/input/cbfitmodels/catboost_info/learn/events.out.tfevents\n",
      "/kaggle/input/cbfitmodels/catboost_info/test/events.out.tfevents\n"
     ]
    }
   ],
   "source": [
    "# This Python 3 environment comes with many helpful analytics libraries installed\n",
    "# It is defined by the kaggle/python Docker image: https://github.com/kaggle/docker-python\n",
    "# For example, here's several helpful packages to load\n",
    "\n",
    "import numpy as np # linear algebra\n",
    "import pandas as pd # data processing, CSV file I/O (e.g. pd.read_csv)\n",
    "\n",
    "# Input data files are available in the read-only \"../input/\" directory\n",
    "# For example, running this (by clicking run or pressing Shift+Enter) will list all files under the input directory\n",
    "\n",
    "import os\n",
    "for dirname, _, filenames in os.walk('/kaggle/input'):\n",
    "    for filename in filenames:\n",
    "        print(os.path.join(dirname, filename))\n",
    "\n",
    "# You can write up to 20GB to the current directory (/kaggle/working/) that gets preserved as output when you create a version using \"Save & Run All\" \n",
    "# You can also write temporary files to /kaggle/temp/, but they won't be saved outside of the current session"
   ]
  },
  {
   "cell_type": "code",
   "execution_count": 2,
   "id": "bf02d6f4",
   "metadata": {
    "execution": {
     "iopub.execute_input": "2025-01-31T14:28:44.518353Z",
     "iopub.status.busy": "2025-01-31T14:28:44.517823Z",
     "iopub.status.idle": "2025-01-31T14:28:45.853572Z",
     "shell.execute_reply": "2025-01-31T14:28:45.852378Z"
    },
    "papermill": {
     "duration": 1.352346,
     "end_time": "2025-01-31T14:28:45.855652",
     "exception": false,
     "start_time": "2025-01-31T14:28:44.503306",
     "status": "completed"
    },
    "tags": []
   },
   "outputs": [],
   "source": [
    "import pandas as pd\n",
    "import numpy as np\n",
    "from sklearn.preprocessing import SplineTransformer\n",
    "\n",
    "\n",
    "def periodic_spline_transformer(period, n_splines=None, degree=3):\n",
    "    if n_splines is None:\n",
    "        n_splines = period\n",
    "    n_knots = n_splines + 1  # periodic and include_bias is True\n",
    "    return SplineTransformer(\n",
    "        degree=degree,\n",
    "        n_knots=n_knots,\n",
    "        knots=np.linspace(0, period, n_knots).reshape(n_knots, 1),\n",
    "        extrapolation=\"periodic\",\n",
    "        include_bias=True,\n",
    "    )\n",
    "\n",
    "# Sample quarterly data\n",
    "# data = {'quarter': [1, 2, 3, 4, 1, 2, 3, 4, 1, 2, 3, 4],\n",
    "#         'value': [10, 15, 12, 18, 11, 16, 13, 19, 12, 17, 14, 20]}\n",
    "# df = pd.DataFrame(data)\n",
    "\n",
    "# # Create periodic spline transformer\n",
    "# qt = periodic_spline_transformer(12, 4)\n",
    "\n",
    "# # Transform the 'quarter' feature\n",
    "# quarter = qt.fit_transform(df_train[['Month']])[:,0]\n",
    "\n",
    "# # Add transformed features to DataFrame\n",
    "# print(quarter)"
   ]
  },
  {
   "cell_type": "code",
   "execution_count": 3,
   "id": "8ce49ac5",
   "metadata": {
    "execution": {
     "iopub.execute_input": "2025-01-31T14:28:45.885696Z",
     "iopub.status.busy": "2025-01-31T14:28:45.885153Z",
     "iopub.status.idle": "2025-01-31T14:28:45.889238Z",
     "shell.execute_reply": "2025-01-31T14:28:45.888378Z"
    },
    "papermill": {
     "duration": 0.02098,
     "end_time": "2025-01-31T14:28:45.891166",
     "exception": false,
     "start_time": "2025-01-31T14:28:45.870186",
     "status": "completed"
    },
    "tags": []
   },
   "outputs": [],
   "source": [
    "check_pg=[]"
   ]
  },
  {
   "cell_type": "code",
   "execution_count": 4,
   "id": "b938f924",
   "metadata": {
    "execution": {
     "iopub.execute_input": "2025-01-31T14:28:45.919570Z",
     "iopub.status.busy": "2025-01-31T14:28:45.919194Z",
     "iopub.status.idle": "2025-01-31T14:28:45.926491Z",
     "shell.execute_reply": "2025-01-31T14:28:45.925462Z"
    },
    "papermill": {
     "duration": 0.023769,
     "end_time": "2025-01-31T14:28:45.928127",
     "exception": false,
     "start_time": "2025-01-31T14:28:45.904358",
     "status": "completed"
    },
    "tags": []
   },
   "outputs": [],
   "source": [
    "def plot_periodogram(ts, detrend='linear', ax=None):\n",
    "    from scipy.signal import periodogram\n",
    "    fs = pd.Timedelta(\"365D\") / pd.Timedelta(\"1D\")\n",
    "    freqencies, spectrum = periodogram(\n",
    "        ts,\n",
    "        fs=fs,\n",
    "        detrend=detrend,\n",
    "        window=\"boxcar\",\n",
    "        scaling='spectrum',\n",
    "    )\n",
    "    check_pg.append(freqencies)\n",
    "    check_pg.append(spectrum)\n",
    "    if ax is None:\n",
    "        _, ax = plt.subplots()\n",
    "    ax.step(freqencies, spectrum, color=\"purple\")\n",
    "    ax.set_xscale(\"log\")\n",
    "    ax.set_xticks([1, 2, 4, 6, 12, 26, 52, 104])\n",
    "    ax.set_xticklabels(\n",
    "        [\n",
    "            \"Annual (1)\",\n",
    "            \"Semiannual (2)\",\n",
    "            \"Quarterly (4)\",\n",
    "            \"Bimonthly (6)\",\n",
    "            \"Monthly (12)\",\n",
    "            \"Biweekly (26)\",\n",
    "            \"Weekly (52)\",\n",
    "            \"Semiweekly (104)\",\n",
    "        ],\n",
    "        rotation=30,\n",
    "    )\n",
    "    ax.ticklabel_format(axis=\"y\", style=\"sci\", scilimits=(0, 0))\n",
    "    ax.set_ylabel(\"Variance\")\n",
    "    ax.set_title(\"Periodogram\")\n",
    "    plt.savefig('pg.png')\n",
    "    return ax"
   ]
  },
  {
   "cell_type": "code",
   "execution_count": 5,
   "id": "94c3eef2",
   "metadata": {
    "execution": {
     "iopub.execute_input": "2025-01-31T14:28:45.955853Z",
     "iopub.status.busy": "2025-01-31T14:28:45.955471Z",
     "iopub.status.idle": "2025-01-31T14:28:58.490391Z",
     "shell.execute_reply": "2025-01-31T14:28:58.488960Z"
    },
    "papermill": {
     "duration": 12.551289,
     "end_time": "2025-01-31T14:28:58.492542",
     "exception": false,
     "start_time": "2025-01-31T14:28:45.941253",
     "status": "completed"
    },
    "tags": []
   },
   "outputs": [
    {
     "name": "stdout",
     "output_type": "stream",
     "text": [
      "Collecting optuna-integration[catboost]\r\n",
      "  Downloading optuna_integration-4.2.1-py3-none-any.whl.metadata (12 kB)\r\n",
      "Requirement already satisfied: optuna in /usr/local/lib/python3.10/dist-packages (from optuna-integration[catboost]) (4.1.0)\r\n",
      "Requirement already satisfied: numpy<2.0.0 in /usr/local/lib/python3.10/dist-packages (from optuna-integration[catboost]) (1.26.4)\r\n",
      "Requirement already satisfied: catboost in /usr/local/lib/python3.10/dist-packages (from optuna-integration[catboost]) (1.2.7)\r\n",
      "Requirement already satisfied: graphviz in /usr/local/lib/python3.10/dist-packages (from catboost->optuna-integration[catboost]) (0.20.3)\r\n",
      "Requirement already satisfied: matplotlib in /usr/local/lib/python3.10/dist-packages (from catboost->optuna-integration[catboost]) (3.7.1)\r\n",
      "Requirement already satisfied: pandas>=0.24 in /usr/local/lib/python3.10/dist-packages (from catboost->optuna-integration[catboost]) (2.1.4)\r\n",
      "Requirement already satisfied: scipy in /usr/local/lib/python3.10/dist-packages (from catboost->optuna-integration[catboost]) (1.13.1)\r\n",
      "Requirement already satisfied: plotly in /usr/local/lib/python3.10/dist-packages (from catboost->optuna-integration[catboost]) (5.24.1)\r\n",
      "Requirement already satisfied: six in /usr/local/lib/python3.10/dist-packages (from catboost->optuna-integration[catboost]) (1.16.0)\r\n",
      "Requirement already satisfied: alembic>=1.5.0 in /usr/local/lib/python3.10/dist-packages (from optuna->optuna-integration[catboost]) (1.14.0)\r\n",
      "Requirement already satisfied: colorlog in /usr/local/lib/python3.10/dist-packages (from optuna->optuna-integration[catboost]) (6.9.0)\r\n",
      "Requirement already satisfied: packaging>=20.0 in /usr/local/lib/python3.10/dist-packages (from optuna->optuna-integration[catboost]) (24.1)\r\n",
      "Requirement already satisfied: sqlalchemy>=1.4.2 in /usr/local/lib/python3.10/dist-packages (from optuna->optuna-integration[catboost]) (2.0.35)\r\n",
      "Requirement already satisfied: tqdm in /usr/local/lib/python3.10/dist-packages (from optuna->optuna-integration[catboost]) (4.66.5)\r\n",
      "Requirement already satisfied: PyYAML in /usr/local/lib/python3.10/dist-packages (from optuna->optuna-integration[catboost]) (6.0.2)\r\n",
      "Requirement already satisfied: Mako in /usr/local/lib/python3.10/dist-packages (from alembic>=1.5.0->optuna->optuna-integration[catboost]) (1.3.8)\r\n",
      "Requirement already satisfied: typing-extensions>=4 in /usr/local/lib/python3.10/dist-packages (from alembic>=1.5.0->optuna->optuna-integration[catboost]) (4.12.2)\r\n",
      "Requirement already satisfied: python-dateutil>=2.8.2 in /usr/local/lib/python3.10/dist-packages (from pandas>=0.24->catboost->optuna-integration[catboost]) (2.8.2)\r\n",
      "Requirement already satisfied: pytz>=2020.1 in /usr/local/lib/python3.10/dist-packages (from pandas>=0.24->catboost->optuna-integration[catboost]) (2024.2)\r\n",
      "Requirement already satisfied: tzdata>=2022.1 in /usr/local/lib/python3.10/dist-packages (from pandas>=0.24->catboost->optuna-integration[catboost]) (2024.1)\r\n",
      "Requirement already satisfied: greenlet!=0.4.17 in /usr/local/lib/python3.10/dist-packages (from sqlalchemy>=1.4.2->optuna->optuna-integration[catboost]) (3.1.0)\r\n",
      "Requirement already satisfied: contourpy>=1.0.1 in /usr/local/lib/python3.10/dist-packages (from matplotlib->catboost->optuna-integration[catboost]) (1.3.0)\r\n",
      "Requirement already satisfied: cycler>=0.10 in /usr/local/lib/python3.10/dist-packages (from matplotlib->catboost->optuna-integration[catboost]) (0.12.1)\r\n",
      "Requirement already satisfied: fonttools>=4.22.0 in /usr/local/lib/python3.10/dist-packages (from matplotlib->catboost->optuna-integration[catboost]) (4.53.1)\r\n",
      "Requirement already satisfied: kiwisolver>=1.0.1 in /usr/local/lib/python3.10/dist-packages (from matplotlib->catboost->optuna-integration[catboost]) (1.4.7)\r\n",
      "Requirement already satisfied: pillow>=6.2.0 in /usr/local/lib/python3.10/dist-packages (from matplotlib->catboost->optuna-integration[catboost]) (10.4.0)\r\n",
      "Requirement already satisfied: pyparsing>=2.3.1 in /usr/local/lib/python3.10/dist-packages (from matplotlib->catboost->optuna-integration[catboost]) (3.1.4)\r\n",
      "Requirement already satisfied: tenacity>=6.2.0 in /usr/local/lib/python3.10/dist-packages (from plotly->catboost->optuna-integration[catboost]) (9.0.0)\r\n",
      "Requirement already satisfied: MarkupSafe>=0.9.2 in /usr/local/lib/python3.10/dist-packages (from Mako->alembic>=1.5.0->optuna->optuna-integration[catboost]) (2.1.5)\r\n",
      "Downloading optuna_integration-4.2.1-py3-none-any.whl (97 kB)\r\n",
      "\u001b[2K   \u001b[90m━━━━━━━━━━━━━━━━━━━━━━━━━━━━━━━━━━━━━━━━\u001b[0m \u001b[32m97.6/97.6 kB\u001b[0m \u001b[31m4.1 MB/s\u001b[0m eta \u001b[36m0:00:00\u001b[0m\r\n",
      "\u001b[?25hInstalling collected packages: optuna-integration\r\n",
      "Successfully installed optuna-integration-4.2.1\r\n",
      "Requirement already satisfied: holidays in /usr/local/lib/python3.10/dist-packages (0.57)\r\n",
      "Collecting holidays\r\n",
      "  Downloading holidays-0.65-py3-none-any.whl.metadata (26 kB)\r\n",
      "Requirement already satisfied: python-dateutil in /usr/local/lib/python3.10/dist-packages (from holidays) (2.8.2)\r\n",
      "Requirement already satisfied: six>=1.5 in /usr/local/lib/python3.10/dist-packages (from python-dateutil->holidays) (1.16.0)\r\n",
      "Downloading holidays-0.65-py3-none-any.whl (1.2 MB)\r\n",
      "\u001b[2K   \u001b[90m━━━━━━━━━━━━━━━━━━━━━━━━━━━━━━━━━━━━━━━━\u001b[0m \u001b[32m1.2/1.2 MB\u001b[0m \u001b[31m25.2 MB/s\u001b[0m eta \u001b[36m0:00:00\u001b[0m\r\n",
      "\u001b[?25hInstalling collected packages: holidays\r\n",
      "  Attempting uninstall: holidays\r\n",
      "    Found existing installation: holidays 0.57\r\n",
      "    Uninstalling holidays-0.57:\r\n",
      "      Successfully uninstalled holidays-0.57\r\n",
      "Successfully installed holidays-0.65\r\n"
     ]
    }
   ],
   "source": [
    "!pip install optuna-integration[catboost]\n",
    "!pip install -U holidays"
   ]
  },
  {
   "cell_type": "code",
   "execution_count": 6,
   "id": "db22e70b",
   "metadata": {
    "execution": {
     "iopub.execute_input": "2025-01-31T14:28:58.523747Z",
     "iopub.status.busy": "2025-01-31T14:28:58.523315Z",
     "iopub.status.idle": "2025-01-31T14:29:03.320405Z",
     "shell.execute_reply": "2025-01-31T14:29:03.318836Z"
    },
    "papermill": {
     "duration": 4.815097,
     "end_time": "2025-01-31T14:29:03.322607",
     "exception": false,
     "start_time": "2025-01-31T14:28:58.507510",
     "status": "completed"
    },
    "tags": []
   },
   "outputs": [
    {
     "name": "stdout",
     "output_type": "stream",
     "text": [
      "Collecting pycountry\r\n",
      "  Downloading pycountry-24.6.1-py3-none-any.whl.metadata (12 kB)\r\n",
      "Downloading pycountry-24.6.1-py3-none-any.whl (6.3 MB)\r\n",
      "\u001b[2K   \u001b[90m━━━━━━━━━━━━━━━━━━━━━━━━━━━━━━━━━━━━━━━━\u001b[0m \u001b[32m6.3/6.3 MB\u001b[0m \u001b[31m63.7 MB/s\u001b[0m eta \u001b[36m0:00:00\u001b[0m\r\n",
      "\u001b[?25hInstalling collected packages: pycountry\r\n",
      "Successfully installed pycountry-24.6.1\r\n"
     ]
    }
   ],
   "source": [
    "!pip install -U pycountry"
   ]
  },
  {
   "cell_type": "code",
   "execution_count": 7,
   "id": "568b3952",
   "metadata": {
    "execution": {
     "iopub.execute_input": "2025-01-31T14:29:03.354350Z",
     "iopub.status.busy": "2025-01-31T14:29:03.353825Z",
     "iopub.status.idle": "2025-01-31T14:29:03.419256Z",
     "shell.execute_reply": "2025-01-31T14:29:03.417894Z"
    },
    "papermill": {
     "duration": 0.083121,
     "end_time": "2025-01-31T14:29:03.421227",
     "exception": false,
     "start_time": "2025-01-31T14:29:03.338106",
     "status": "completed"
    },
    "tags": []
   },
   "outputs": [],
   "source": [
    "import statsmodels"
   ]
  },
  {
   "cell_type": "code",
   "execution_count": 8,
   "id": "a06a5e88",
   "metadata": {
    "execution": {
     "iopub.execute_input": "2025-01-31T14:29:03.453486Z",
     "iopub.status.busy": "2025-01-31T14:29:03.453039Z",
     "iopub.status.idle": "2025-01-31T14:29:04.846224Z",
     "shell.execute_reply": "2025-01-31T14:29:04.845129Z"
    },
    "papermill": {
     "duration": 1.411043,
     "end_time": "2025-01-31T14:29:04.848140",
     "exception": false,
     "start_time": "2025-01-31T14:29:03.437097",
     "status": "completed"
    },
    "tags": []
   },
   "outputs": [],
   "source": [
    "import pandas as pd\n",
    "import numpy as np\n",
    "import optuna\n",
    "import catboost as cb\n",
    "import matplotlib\n",
    "import seaborn as sns\n",
    "from sklearn.metrics import mean_absolute_percentage_error\n",
    "from sklearn.model_selection import train_test_split\n",
    "from optuna.integration import CatBoostPruningCallback\n",
    "import pycountry \n",
    "import holidays\n",
    "\n",
    "\n"
   ]
  },
  {
   "cell_type": "code",
   "execution_count": 9,
   "id": "9ddf73c5",
   "metadata": {
    "execution": {
     "iopub.execute_input": "2025-01-31T14:29:04.878894Z",
     "iopub.status.busy": "2025-01-31T14:29:04.878346Z",
     "iopub.status.idle": "2025-01-31T14:29:05.342032Z",
     "shell.execute_reply": "2025-01-31T14:29:05.340838Z"
    },
    "papermill": {
     "duration": 0.48097,
     "end_time": "2025-01-31T14:29:05.343969",
     "exception": false,
     "start_time": "2025-01-31T14:29:04.862999",
     "status": "completed"
    },
    "tags": []
   },
   "outputs": [],
   "source": [
    "df_train=pd.read_csv('/kaggle/input/playground-series-s5e1/train.csv')\n",
    "df_test=pd.read_csv('/kaggle/input/playground-series-s5e1/test.csv')\n",
    "\n"
   ]
  },
  {
   "cell_type": "code",
   "execution_count": 10,
   "id": "ad65bb2a",
   "metadata": {
    "execution": {
     "iopub.execute_input": "2025-01-31T14:29:05.374787Z",
     "iopub.status.busy": "2025-01-31T14:29:05.374370Z",
     "iopub.status.idle": "2025-01-31T14:29:05.447111Z",
     "shell.execute_reply": "2025-01-31T14:29:05.445992Z"
    },
    "papermill": {
     "duration": 0.090286,
     "end_time": "2025-01-31T14:29:05.448988",
     "exception": false,
     "start_time": "2025-01-31T14:29:05.358702",
     "status": "completed"
    },
    "tags": []
   },
   "outputs": [
    {
     "name": "stdout",
     "output_type": "stream",
     "text": [
      "<class 'pandas.core.frame.DataFrame'>\n",
      "RangeIndex: 230130 entries, 0 to 230129\n",
      "Data columns (total 6 columns):\n",
      " #   Column    Non-Null Count   Dtype  \n",
      "---  ------    --------------   -----  \n",
      " 0   id        230130 non-null  int64  \n",
      " 1   date      230130 non-null  object \n",
      " 2   country   230130 non-null  object \n",
      " 3   store     230130 non-null  object \n",
      " 4   product   230130 non-null  object \n",
      " 5   num_sold  221259 non-null  float64\n",
      "dtypes: float64(1), int64(1), object(4)\n",
      "memory usage: 10.5+ MB\n"
     ]
    }
   ],
   "source": [
    "df_train.info()"
   ]
  },
  {
   "cell_type": "code",
   "execution_count": 11,
   "id": "e5297e4b",
   "metadata": {
    "execution": {
     "iopub.execute_input": "2025-01-31T14:29:05.479956Z",
     "iopub.status.busy": "2025-01-31T14:29:05.479591Z",
     "iopub.status.idle": "2025-01-31T14:29:05.503241Z",
     "shell.execute_reply": "2025-01-31T14:29:05.501680Z"
    },
    "papermill": {
     "duration": 0.0416,
     "end_time": "2025-01-31T14:29:05.505363",
     "exception": false,
     "start_time": "2025-01-31T14:29:05.463763",
     "status": "completed"
    },
    "tags": []
   },
   "outputs": [
    {
     "data": {
      "text/plain": [
       "array(['Discount Stickers', 'Stickers for Less', 'Premium Sticker Mart'],\n",
       "      dtype=object)"
      ]
     },
     "execution_count": 11,
     "metadata": {},
     "output_type": "execute_result"
    }
   ],
   "source": [
    "df_train['store'].unique()"
   ]
  },
  {
   "cell_type": "code",
   "execution_count": 12,
   "id": "13b1d6aa",
   "metadata": {
    "execution": {
     "iopub.execute_input": "2025-01-31T14:29:05.536516Z",
     "iopub.status.busy": "2025-01-31T14:29:05.536178Z",
     "iopub.status.idle": "2025-01-31T14:29:05.567417Z",
     "shell.execute_reply": "2025-01-31T14:29:05.566410Z"
    },
    "papermill": {
     "duration": 0.048645,
     "end_time": "2025-01-31T14:29:05.569123",
     "exception": false,
     "start_time": "2025-01-31T14:29:05.520478",
     "status": "completed"
    },
    "tags": []
   },
   "outputs": [
    {
     "data": {
      "text/plain": [
       "array(['Discount Stickers', 'Stickers for Less', 'Premium Sticker Mart'],\n",
       "      dtype=object)"
      ]
     },
     "execution_count": 12,
     "metadata": {},
     "output_type": "execute_result"
    }
   ],
   "source": [
    "df_train[df_train['country']=='Kenya']['store'].unique()"
   ]
  },
  {
   "cell_type": "code",
   "execution_count": 13,
   "id": "7e7328d3",
   "metadata": {
    "execution": {
     "iopub.execute_input": "2025-01-31T14:29:05.600383Z",
     "iopub.status.busy": "2025-01-31T14:29:05.600020Z",
     "iopub.status.idle": "2025-01-31T14:29:05.619500Z",
     "shell.execute_reply": "2025-01-31T14:29:05.618419Z"
    },
    "papermill": {
     "duration": 0.037196,
     "end_time": "2025-01-31T14:29:05.621366",
     "exception": false,
     "start_time": "2025-01-31T14:29:05.584170",
     "status": "completed"
    },
    "tags": []
   },
   "outputs": [
    {
     "data": {
      "text/plain": [
       "array(['Holographic Goose', 'Kaggle', 'Kaggle Tiers', 'Kerneler',\n",
       "       'Kerneler Dark Mode'], dtype=object)"
      ]
     },
     "execution_count": 13,
     "metadata": {},
     "output_type": "execute_result"
    }
   ],
   "source": [
    "df_train['product'].unique()"
   ]
  },
  {
   "cell_type": "code",
   "execution_count": 14,
   "id": "bc3360fe",
   "metadata": {
    "execution": {
     "iopub.execute_input": "2025-01-31T14:29:05.654046Z",
     "iopub.status.busy": "2025-01-31T14:29:05.653681Z",
     "iopub.status.idle": "2025-01-31T14:29:06.714339Z",
     "shell.execute_reply": "2025-01-31T14:29:06.713150Z"
    },
    "papermill": {
     "duration": 1.078887,
     "end_time": "2025-01-31T14:29:06.716131",
     "exception": false,
     "start_time": "2025-01-31T14:29:05.637244",
     "status": "completed"
    },
    "tags": []
   },
   "outputs": [
    {
     "data": {
      "image/png": "[encoded data removed]",
      "text/plain": [
       "<Figure size 640x480 with 4 Axes>"
      ]
     },
     "metadata": {},
     "output_type": "display_data"
    }
   ],
   "source": [
    "### import pandas as pd\n",
    "import numpy as np\n",
    "from statsmodels.tsa.seasonal import seasonal_decompose\n",
    "import matplotlib.pyplot as plt\n",
    "\n",
    "# Generate synthetic time series data\n",
    "np.random.seed(42)\n",
    "#df_train['date']=pd.to_datetime(df_train['date'])\n",
    "#df_train=df_train.set_index('date')\n",
    "df=df_train['num_sold']\n",
    "\n",
    "#time = pd.date_range(start=df_train['date'].min, end=df_train['date'].max, periods=365, freq='D')\n",
    "#series = 10 + 0.05 * np.arange(100) + np.sin(2 * np.pi * time.dayofyear / 365) + np.random.normal(0, 1, 100)\n",
    "#df = pd.DataFrame({'date': time, 'value': series}).set_index('date')\n",
    "\n",
    "# Decompose time series\n",
    "decomposition = seasonal_decompose(\n",
    "    df_train[(df_train['country']=='Singapore') & \n",
    "    (df_train['date'].str.contains('2013')) &\n",
    "    (df_train['store']=='Premium Sticker Mart')]['num_sold'],\n",
    "    model='multiplicative', period=30)  # Set period according to data frequency\n",
    "\n",
    "# Plot components\n",
    "decomposition.plot()\n",
    "plt.show()\n"
   ]
  },
  {
   "cell_type": "code",
   "execution_count": 15,
   "id": "efe430e2",
   "metadata": {
    "execution": {
     "iopub.execute_input": "2025-01-31T14:29:06.750097Z",
     "iopub.status.busy": "2025-01-31T14:29:06.749565Z",
     "iopub.status.idle": "2025-01-31T14:29:06.753401Z",
     "shell.execute_reply": "2025-01-31T14:29:06.752432Z"
    },
    "papermill": {
     "duration": 0.022585,
     "end_time": "2025-01-31T14:29:06.755084",
     "exception": false,
     "start_time": "2025-01-31T14:29:06.732499",
     "status": "completed"
    },
    "tags": []
   },
   "outputs": [],
   "source": [
    "# temp=pd.concat([df_train['date'],df_train['num_sold']],axis=1)\n",
    "# sumsale2016=temp.groupby('date').mean().squeeze().loc['2013']\n",
    "# #sumsale2016\n",
    "# plot_periodogram(sumsale2016)"
   ]
  },
  {
   "cell_type": "code",
   "execution_count": 16,
   "id": "9d5ede58",
   "metadata": {
    "execution": {
     "iopub.execute_input": "2025-01-31T14:29:06.789296Z",
     "iopub.status.busy": "2025-01-31T14:29:06.788878Z",
     "iopub.status.idle": "2025-01-31T14:29:08.409769Z",
     "shell.execute_reply": "2025-01-31T14:29:08.408254Z"
    },
    "papermill": {
     "duration": 1.641791,
     "end_time": "2025-01-31T14:29:08.413227",
     "exception": false,
     "start_time": "2025-01-31T14:29:06.771436",
     "status": "completed"
    },
    "tags": []
   },
   "outputs": [
    {
     "name": "stdout",
     "output_type": "stream",
     "text": [
      "ADF Statistic: -6.129147123657372\n",
      "p-value: 8.484833374009022e-08\n",
      "The series is stationary.\n"
     ]
    }
   ],
   "source": [
    "from statsmodels.tsa.stattools import adfuller\n",
    "\n",
    "# Perform ADF test\n",
    "adf_result = adfuller(df_train[(df_train['country']=='Singapore') & (df_train['store']=='Discount Stickers')]['num_sold'])\n",
    "\n",
    "# Print results\n",
    "print(\"ADF Statistic:\", adf_result[0])\n",
    "print(\"p-value:\", adf_result[1])\n",
    "if adf_result[1] < 0.05:\n",
    "    print(\"The series is stationary.\")\n",
    "else:\n",
    "    print(\"The series is not stationary.\")\n"
   ]
  },
  {
   "cell_type": "code",
   "execution_count": 17,
   "id": "f98dcb43",
   "metadata": {
    "execution": {
     "iopub.execute_input": "2025-01-31T14:29:08.516383Z",
     "iopub.status.busy": "2025-01-31T14:29:08.515810Z",
     "iopub.status.idle": "2025-01-31T14:29:08.593397Z",
     "shell.execute_reply": "2025-01-31T14:29:08.576399Z"
    },
    "papermill": {
     "duration": 0.133519,
     "end_time": "2025-01-31T14:29:08.597022",
     "exception": false,
     "start_time": "2025-01-31T14:29:08.463503",
     "status": "completed"
    },
    "tags": []
   },
   "outputs": [
    {
     "name": "stdout",
     "output_type": "stream",
     "text": [
      "KPSS Statistic: 0.7976600279714846\n",
      "p-value: 0.01\n",
      "The series is not stationary (has a trend).\n"
     ]
    },
    {
     "name": "stderr",
     "output_type": "stream",
     "text": [
      "<ipython-input-17-b1e5399dac4b>:4: InterpolationWarning: The test statistic is outside of the range of p-values available in the\n",
      "look-up table. The actual p-value is smaller than the p-value returned.\n",
      "\n",
      "  kpss_result = kpss(df_train[(df_train['country']=='Singapore') & (df_train['store']=='Discount Stickers')]['num_sold'], regression='c')\n"
     ]
    }
   ],
   "source": [
    "from statsmodels.tsa.stattools import kpss\n",
    "\n",
    "# Perform KPSS test\n",
    "kpss_result = kpss(df_train[(df_train['country']=='Singapore') & (df_train['store']=='Discount Stickers')]['num_sold'], regression='c')\n",
    "\n",
    "# Print results\n",
    "print(\"KPSS Statistic:\", kpss_result[0])\n",
    "print(\"p-value:\", kpss_result[1])\n",
    "if kpss_result[1] < 0.05:\n",
    "    print(\"The series is not stationary (has a trend).\")\n",
    "else:\n",
    "    print(\"The series is stationary.\")"
   ]
  },
  {
   "cell_type": "code",
   "execution_count": 18,
   "id": "4fe4fce8",
   "metadata": {
    "execution": {
     "iopub.execute_input": "2025-01-31T14:29:08.695799Z",
     "iopub.status.busy": "2025-01-31T14:29:08.695347Z",
     "iopub.status.idle": "2025-01-31T14:29:08.749118Z",
     "shell.execute_reply": "2025-01-31T14:29:08.747853Z"
    },
    "papermill": {
     "duration": 0.103516,
     "end_time": "2025-01-31T14:29:08.750915",
     "exception": false,
     "start_time": "2025-01-31T14:29:08.647399",
     "status": "completed"
    },
    "tags": []
   },
   "outputs": [
    {
     "name": "stdout",
     "output_type": "stream",
     "text": [
      "<class 'pandas.core.frame.DataFrame'>\n",
      "RangeIndex: 230130 entries, 0 to 230129\n",
      "Data columns (total 6 columns):\n",
      " #   Column    Non-Null Count   Dtype  \n",
      "---  ------    --------------   -----  \n",
      " 0   id        230130 non-null  int64  \n",
      " 1   date      230130 non-null  object \n",
      " 2   country   230130 non-null  object \n",
      " 3   store     230130 non-null  object \n",
      " 4   product   230130 non-null  object \n",
      " 5   num_sold  221259 non-null  float64\n",
      "dtypes: float64(1), int64(1), object(4)\n",
      "memory usage: 10.5+ MB\n"
     ]
    }
   ],
   "source": [
    "df_train.info()"
   ]
  },
  {
   "cell_type": "code",
   "execution_count": 19,
   "id": "ffed73c9",
   "metadata": {
    "execution": {
     "iopub.execute_input": "2025-01-31T14:29:08.786343Z",
     "iopub.status.busy": "2025-01-31T14:29:08.785912Z",
     "iopub.status.idle": "2025-01-31T14:29:12.252743Z",
     "shell.execute_reply": "2025-01-31T14:29:12.251619Z"
    },
    "papermill": {
     "duration": 3.488499,
     "end_time": "2025-01-31T14:29:12.256494",
     "exception": false,
     "start_time": "2025-01-31T14:29:08.767995",
     "status": "completed"
    },
    "tags": []
   },
   "outputs": [
    {
     "data": {
      "image/png": "[encoded data removed]",
      "text/plain": [
       "<Figure size 1200x800 with 6 Axes>"
      ]
     },
     "metadata": {},
     "output_type": "display_data"
    }
   ],
   "source": [
    "# Plot showing timeseries attributes: trend, seasonality \n",
    "\n",
    "# Create subplots: 2 rows, 3 columns\n",
    "fig, axes = plt.subplots(2, 3, figsize=(12, 8))\n",
    "\n",
    "# Flatten the axes array for easy iteration\n",
    "axes = axes.flatten()\n",
    "countrylist=df_train['country'].unique().tolist()\n",
    "# Loop through each subplot and plot\n",
    "for i, ax in enumerate(axes):\n",
    "    df=df_train[(df_train['country']==countrylist[i]) & (df_train['store']=='Discount Stickers')][['date','num_sold']]\n",
    "    df.dropna(inplace=True)\n",
    "    df.set_index('date',inplace=True)\n",
    "    df['rolling_mean'] = df['num_sold'].rolling(window=30).mean()\n",
    "    df['rolling_std'] = df['num_sold'].rolling(window=30).std()\n",
    "    df[['num_sold', 'rolling_mean', 'rolling_std']].plot(ax=ax,title=f'{countrylist[i]} Rolling Mean and Std Dev')\n",
    "\n",
    "plt.tight_layout()\n",
    "\n",
    "# Show the plot\n",
    "plt.show()\n",
    "    "
   ]
  },
  {
   "cell_type": "code",
   "execution_count": 20,
   "id": "9fb1665d",
   "metadata": {
    "execution": {
     "iopub.execute_input": "2025-01-31T14:29:12.300203Z",
     "iopub.status.busy": "2025-01-31T14:29:12.299798Z",
     "iopub.status.idle": "2025-01-31T14:29:12.383621Z",
     "shell.execute_reply": "2025-01-31T14:29:12.382690Z"
    },
    "papermill": {
     "duration": 0.108444,
     "end_time": "2025-01-31T14:29:12.385746",
     "exception": false,
     "start_time": "2025-01-31T14:29:12.277302",
     "status": "completed"
    },
    "tags": []
   },
   "outputs": [
    {
     "data": {
      "text/plain": [
       "<bound method Series.max of 46        20.0\n",
       "47        16.0\n",
       "48         8.0\n",
       "49         9.0\n",
       "50         5.0\n",
       "          ... \n",
       "230095    10.0\n",
       "230096    72.0\n",
       "230097    58.0\n",
       "230098    33.0\n",
       "230099    42.0\n",
       "Name: num_sold, Length: 33730, dtype: float64>"
      ]
     },
     "execution_count": 20,
     "metadata": {},
     "output_type": "execute_result"
    }
   ],
   "source": [
    "test=df_train.dropna()\n",
    "test[test['country']=='Kenya']['num_sold'].max"
   ]
  },
  {
   "cell_type": "code",
   "execution_count": 21,
   "id": "41caae40",
   "metadata": {
    "execution": {
     "iopub.execute_input": "2025-01-31T14:29:12.430274Z",
     "iopub.status.busy": "2025-01-31T14:29:12.429872Z",
     "iopub.status.idle": "2025-01-31T14:29:12.435691Z",
     "shell.execute_reply": "2025-01-31T14:29:12.434156Z"
    },
    "papermill": {
     "duration": 0.030635,
     "end_time": "2025-01-31T14:29:12.437677",
     "exception": false,
     "start_time": "2025-01-31T14:29:12.407042",
     "status": "completed"
    },
    "tags": []
   },
   "outputs": [],
   "source": [
    "\n",
    "\n",
    "def get_alpha2_code(country_name):\n",
    "  \"\"\"\n",
    "  Gets the ISO 3166-1 Alpha-2 country code for the given country name.\n",
    "\n",
    "  Args:\n",
    "    country_name: The name of the country.\n",
    "\n",
    "  Returns:\n",
    "    The ISO 3166-1 Alpha-2 country code, or None if the country is not found.\n",
    "  \"\"\"\n",
    "  try:\n",
    "    country = pycountry.countries.search_fuzzy(country_name)[0]\n",
    "    return country.alpha_2\n",
    "  except LookupError:\n",
    "    return None\n",
    "\n"
   ]
  },
  {
   "cell_type": "code",
   "execution_count": 22,
   "id": "1fc9c6c2",
   "metadata": {
    "execution": {
     "iopub.execute_input": "2025-01-31T14:29:12.482819Z",
     "iopub.status.busy": "2025-01-31T14:29:12.482418Z",
     "iopub.status.idle": "2025-01-31T14:29:12.487823Z",
     "shell.execute_reply": "2025-01-31T14:29:12.486412Z"
    },
    "papermill": {
     "duration": 0.03024,
     "end_time": "2025-01-31T14:29:12.489595",
     "exception": false,
     "start_time": "2025-01-31T14:29:12.459355",
     "status": "completed"
    },
    "tags": []
   },
   "outputs": [],
   "source": [
    "# Function to create holiday sets for each country\n",
    "def generate_country_holidays(countries, start_year, end_year):\n",
    "    country_holidays = {}\n",
    "    for country in countries:\n",
    "        # Generate a holiday set for the range of years\n",
    "        country_holidays[country] = holidays.CountryHoliday(country, years=range(start_year, end_year + 1)) \n",
    "    return country_holidays\n"
   ]
  },
  {
   "cell_type": "code",
   "execution_count": 23,
   "id": "66c30111",
   "metadata": {
    "execution": {
     "iopub.execute_input": "2025-01-31T14:29:12.534190Z",
     "iopub.status.busy": "2025-01-31T14:29:12.533800Z",
     "iopub.status.idle": "2025-01-31T14:29:16.125308Z",
     "shell.execute_reply": "2025-01-31T14:29:16.124238Z"
    },
    "papermill": {
     "duration": 3.616576,
     "end_time": "2025-01-31T14:29:16.127341",
     "exception": false,
     "start_time": "2025-01-31T14:29:12.510765",
     "status": "completed"
    },
    "tags": []
   },
   "outputs": [],
   "source": [
    "df_train['Day']=pd.to_datetime(df_train['date']).dt.strftime(\"%d\")\n",
    "df_train['Month']=pd.to_datetime(df_train['date']).dt.strftime(\"%m\")\n",
    "df_train['Year']=pd.to_datetime(df_train['date']).dt.strftime(\"%Y\")\n",
    "df_train['Day_of_week']=pd.to_datetime(df_train['date']).dt.dayofweek\n",
    "df_train['Week_No']=pd.to_datetime(df_train['date']).dt.isocalendar().week\n",
    "df_train['is_weekend']=(df_train['Day_of_week']>=4).astype(int)\n",
    "df_train['Quarter_Discrete'] = (df_train['Month'].astype(int) - 1) // 3 + 1\n",
    "df_train['quarter_normalized'] = (df_train['Quarter_Discrete']-1)/3\n",
    "df_train['month_normalized']=(df_train['Month'].astype(int)-1)/11\n",
    "df_train['Month_Spline']=periodic_spline_transformer(12,4).fit_transform(df_train[['quarter_normalized']])[:,0]\n",
    "df_train['Quarter_Spline']=periodic_spline_transformer(4,4).fit_transform(df_train[['quarter_normalized']])[:,0]\n",
    "df_train['week_number_normalized'] = df_train['Week_No'] / df_train['Week_No'].max()\n",
    "df_train['Week_Spline']=periodic_spline_transformer(53,5).fit_transform(df_train[['week_number_normalized']])[:,0]"
   ]
  },
  {
   "cell_type": "code",
   "execution_count": 24,
   "id": "23a75ec9",
   "metadata": {
    "execution": {
     "iopub.execute_input": "2025-01-31T14:29:16.172128Z",
     "iopub.status.busy": "2025-01-31T14:29:16.171712Z",
     "iopub.status.idle": "2025-01-31T14:29:16.176893Z",
     "shell.execute_reply": "2025-01-31T14:29:16.175824Z"
    },
    "papermill": {
     "duration": 0.029391,
     "end_time": "2025-01-31T14:29:16.178890",
     "exception": false,
     "start_time": "2025-01-31T14:29:16.149499",
     "status": "completed"
    },
    "tags": []
   },
   "outputs": [],
   "source": [
    "def consecutive_days_visited(df):\n",
    "    \"\"\"\n",
    "    Calculates the number of consecutive days a store was visited.\n",
    "\n",
    "    Args:\n",
    "        df: pandas DataFrame with columns 'date', 'country', 'store'\n",
    "\n",
    "    Returns:\n",
    "        pandas DataFrame with an additional column 'consecutive_days' \n",
    "    \"\"\"\n",
    "\n",
    "    # Ensure date index is sorted\n",
    "    df = df.sort_index()\n",
    "\n",
    "    # Group by 'country' and 'store'\n",
    "    grouped = df.groupby(['country', 'store'])\n",
    "\n",
    "    # Calculate consecutive days within each group\n",
    "    df['consecutive_days'] = (grouped.indices - grouped.indices.min()).dt.days + 1\n",
    "\n",
    "    return df\n"
   ]
  },
  {
   "cell_type": "code",
   "execution_count": 25,
   "id": "a70daea8",
   "metadata": {
    "execution": {
     "iopub.execute_input": "2025-01-31T14:29:16.224194Z",
     "iopub.status.busy": "2025-01-31T14:29:16.223778Z",
     "iopub.status.idle": "2025-01-31T14:29:16.405776Z",
     "shell.execute_reply": "2025-01-31T14:29:16.404339Z"
    },
    "papermill": {
     "duration": 0.206587,
     "end_time": "2025-01-31T14:29:16.407636",
     "exception": false,
     "start_time": "2025-01-31T14:29:16.201049",
     "status": "completed"
    },
    "tags": []
   },
   "outputs": [
    {
     "name": "stdout",
     "output_type": "stream",
     "text": [
      "['CA', 'FI', 'IT', 'KE', 'NO', 'SG']\n"
     ]
    }
   ],
   "source": [
    "allcountries=df_train['country'].unique()\n",
    "countrycodes = list(map(lambda x:get_alpha2_code(x),allcountries)) \n",
    "unique_countries = [cc for cc in countrycodes if cc is not None]\n",
    "print(countrycodes)"
   ]
  },
  {
   "cell_type": "code",
   "execution_count": 26,
   "id": "515f4175",
   "metadata": {
    "execution": {
     "iopub.execute_input": "2025-01-31T14:29:16.451877Z",
     "iopub.status.busy": "2025-01-31T14:29:16.451535Z",
     "iopub.status.idle": "2025-01-31T14:29:16.556378Z",
     "shell.execute_reply": "2025-01-31T14:29:16.555362Z"
    },
    "papermill": {
     "duration": 0.129278,
     "end_time": "2025-01-31T14:29:16.558306",
     "exception": false,
     "start_time": "2025-01-31T14:29:16.429028",
     "status": "completed"
    },
    "tags": []
   },
   "outputs": [],
   "source": [
    "df_train['store']=df_train['store'].astype('category')\n",
    "df_train['country']=df_train['country'].astype('category')\n",
    "df_train['product']=df_train['product'].astype('category')\n",
    "df_train['Day']=df_train['Day'].astype('category')\n",
    "df_train['Month']=df_train['Month'].astype('category')\n",
    "df_train['Year']=df_train['Year'].astype('category')\n",
    "df_train['Day_of_week']=df_train['Day_of_week'].astype('category')\n"
   ]
  },
  {
   "cell_type": "code",
   "execution_count": 27,
   "id": "ca5d8646",
   "metadata": {
    "execution": {
     "iopub.execute_input": "2025-01-31T14:29:16.604245Z",
     "iopub.status.busy": "2025-01-31T14:29:16.603874Z",
     "iopub.status.idle": "2025-01-31T14:29:18.190908Z",
     "shell.execute_reply": "2025-01-31T14:29:18.189924Z"
    },
    "papermill": {
     "duration": 1.612031,
     "end_time": "2025-01-31T14:29:18.192882",
     "exception": false,
     "start_time": "2025-01-31T14:29:16.580851",
     "status": "completed"
    },
    "tags": []
   },
   "outputs": [],
   "source": [
    "df_test['Day']=pd.to_datetime(df_test['date']).dt.strftime(\"%d\")\n",
    "df_test['Month']=pd.to_datetime(df_test['date']).dt.strftime(\"%m\")\n",
    "df_test['Year']=pd.to_datetime(df_test['date']).dt.strftime(\"%Y\")\n",
    "df_test['Day_of_week']=pd.to_datetime(df_test['date']).dt.dayofweek\n",
    "df_test['Week_No']=pd.to_datetime(df_test['date']).dt.isocalendar().week\n",
    "df_test['is_weekend']=(df_test['Day_of_week']>=4).astype(int)\n",
    "df_test['Quarter_Discrete'] = (df_test['Month'].astype(int) - 1) // 3 + 1\n",
    "df_test['quarter_normalized'] = (df_test['Quarter_Discrete']-1)/3\n",
    "df_test['month_normalized']=(df_test['Month'].astype(int)-1)/11\n",
    "df_test['Month_Spline']=periodic_spline_transformer(12,4).fit_transform(df_test[['quarter_normalized']])[:,0]\n",
    "df_test['Quarter_Spline']=periodic_spline_transformer(4,4).fit_transform(df_test[['quarter_normalized']])[:,0]\n",
    "df_test['week_number_normalized'] = df_test['Week_No'] / df_test['Week_No'].max()\n",
    "df_test['Week_Spline']=periodic_spline_transformer(53,5).fit_transform(df_test[['week_number_normalized']])[:,0]\n"
   ]
  },
  {
   "cell_type": "code",
   "execution_count": 28,
   "id": "2c22c370",
   "metadata": {
    "execution": {
     "iopub.execute_input": "2025-01-31T14:29:18.239670Z",
     "iopub.status.busy": "2025-01-31T14:29:18.239316Z",
     "iopub.status.idle": "2025-01-31T14:29:18.257936Z",
     "shell.execute_reply": "2025-01-31T14:29:18.256862Z"
    },
    "papermill": {
     "duration": 0.043647,
     "end_time": "2025-01-31T14:29:18.259921",
     "exception": false,
     "start_time": "2025-01-31T14:29:18.216274",
     "status": "completed"
    },
    "tags": []
   },
   "outputs": [],
   "source": [
    "df_test.drop(['week_number_normalized','month_normalized','quarter_normalized'],axis=1,inplace=True)"
   ]
  },
  {
   "cell_type": "code",
   "execution_count": 29,
   "id": "2e0dc539",
   "metadata": {
    "execution": {
     "iopub.execute_input": "2025-01-31T14:29:18.303318Z",
     "iopub.status.busy": "2025-01-31T14:29:18.302934Z",
     "iopub.status.idle": "2025-01-31T14:29:18.323305Z",
     "shell.execute_reply": "2025-01-31T14:29:18.322258Z"
    },
    "papermill": {
     "duration": 0.044232,
     "end_time": "2025-01-31T14:29:18.325405",
     "exception": false,
     "start_time": "2025-01-31T14:29:18.281173",
     "status": "completed"
    },
    "tags": []
   },
   "outputs": [],
   "source": [
    "df_train.drop(['week_number_normalized','month_normalized','quarter_normalized'],axis=1,inplace=True)"
   ]
  },
  {
   "cell_type": "code",
   "execution_count": 30,
   "id": "973b547d",
   "metadata": {
    "execution": {
     "iopub.execute_input": "2025-01-31T14:29:18.369987Z",
     "iopub.status.busy": "2025-01-31T14:29:18.369592Z",
     "iopub.status.idle": "2025-01-31T14:29:18.423071Z",
     "shell.execute_reply": "2025-01-31T14:29:18.421797Z"
    },
    "papermill": {
     "duration": 0.077746,
     "end_time": "2025-01-31T14:29:18.425063",
     "exception": false,
     "start_time": "2025-01-31T14:29:18.347317",
     "status": "completed"
    },
    "tags": []
   },
   "outputs": [],
   "source": [
    "df_test['store']=df_test['store'].astype('category')\n",
    "df_test['country']=df_test['country'].astype('category')\n",
    "df_test['product']=df_test['product'].astype('category')\n",
    "df_test['Day']=df_test['Day'].astype('category')\n",
    "df_test['Month']=df_test['Month'].astype('category')\n",
    "df_test['Year']=df_test['Year'].astype('category')\n",
    "df_test['Day_of_week']=df_test['Day_of_week'].astype('category')\n"
   ]
  },
  {
   "cell_type": "code",
   "execution_count": 31,
   "id": "5f597f68",
   "metadata": {
    "execution": {
     "iopub.execute_input": "2025-01-31T14:29:18.470234Z",
     "iopub.status.busy": "2025-01-31T14:29:18.469820Z",
     "iopub.status.idle": "2025-01-31T14:29:18.513328Z",
     "shell.execute_reply": "2025-01-31T14:29:18.512125Z"
    },
    "papermill": {
     "duration": 0.068538,
     "end_time": "2025-01-31T14:29:18.515399",
     "exception": false,
     "start_time": "2025-01-31T14:29:18.446861",
     "status": "completed"
    },
    "tags": []
   },
   "outputs": [],
   "source": [
    "df_train['date']=pd.to_datetime(df_train['date'])\n",
    "df_test['date']=pd.to_datetime(df_test['date'])"
   ]
  },
  {
   "cell_type": "code",
   "execution_count": 32,
   "id": "fcddc664",
   "metadata": {
    "execution": {
     "iopub.execute_input": "2025-01-31T14:29:18.561458Z",
     "iopub.status.busy": "2025-01-31T14:29:18.561078Z",
     "iopub.status.idle": "2025-01-31T14:29:18.598738Z",
     "shell.execute_reply": "2025-01-31T14:29:18.597566Z"
    },
    "papermill": {
     "duration": 0.064192,
     "end_time": "2025-01-31T14:29:18.600886",
     "exception": false,
     "start_time": "2025-01-31T14:29:18.536694",
     "status": "completed"
    },
    "tags": []
   },
   "outputs": [
    {
     "name": "stderr",
     "output_type": "stream",
     "text": [
      "<ipython-input-32-a9a4f327ce0c>:1: FutureWarning: The default of observed=False is deprecated and will be changed to True in a future version of pandas. Pass observed=False to retain current behavior or observed=True to adopt the future default and silence this warning.\n",
      "  df_train['previous_visit']=df_train.reset_index().groupby(by=['country','store'])[['date']].diff()\n"
     ]
    }
   ],
   "source": [
    "df_train['previous_visit']=df_train.reset_index().groupby(by=['country','store'])[['date']].diff()"
   ]
  },
  {
   "cell_type": "code",
   "execution_count": 33,
   "id": "39e0b325",
   "metadata": {
    "execution": {
     "iopub.execute_input": "2025-01-31T14:29:18.645571Z",
     "iopub.status.busy": "2025-01-31T14:29:18.645052Z",
     "iopub.status.idle": "2025-01-31T14:29:18.662072Z",
     "shell.execute_reply": "2025-01-31T14:29:18.660912Z"
    },
    "papermill": {
     "duration": 0.041414,
     "end_time": "2025-01-31T14:29:18.663856",
     "exception": false,
     "start_time": "2025-01-31T14:29:18.622442",
     "status": "completed"
    },
    "tags": []
   },
   "outputs": [
    {
     "name": "stderr",
     "output_type": "stream",
     "text": [
      "<ipython-input-33-9b789beb13f0>:1: FutureWarning: The default of observed=False is deprecated and will be changed to True in a future version of pandas. Pass observed=False to retain current behavior or observed=True to adopt the future default and silence this warning.\n",
      "  df_train['consec_days']=df_train.groupby(by=['country','store'])[['previous_visit']].cumsum()\n"
     ]
    }
   ],
   "source": [
    "df_train['consec_days']=df_train.groupby(by=['country','store'])[['previous_visit']].cumsum()"
   ]
  },
  {
   "cell_type": "code",
   "execution_count": 34,
   "id": "ab2a6eff",
   "metadata": {
    "execution": {
     "iopub.execute_input": "2025-01-31T14:29:18.708104Z",
     "iopub.status.busy": "2025-01-31T14:29:18.707653Z",
     "iopub.status.idle": "2025-01-31T14:29:18.732274Z",
     "shell.execute_reply": "2025-01-31T14:29:18.731098Z"
    },
    "papermill": {
     "duration": 0.048988,
     "end_time": "2025-01-31T14:29:18.734161",
     "exception": false,
     "start_time": "2025-01-31T14:29:18.685173",
     "status": "completed"
    },
    "tags": []
   },
   "outputs": [
    {
     "name": "stderr",
     "output_type": "stream",
     "text": [
      "<ipython-input-34-b64440241ea2>:1: FutureWarning: The default of observed=False is deprecated and will be changed to True in a future version of pandas. Pass observed=False to retain current behavior or observed=True to adopt the future default and silence this warning.\n",
      "  df_test['previous_visit']=df_test.reset_index().groupby(by=['country','store'])[['date']].diff()\n",
      "<ipython-input-34-b64440241ea2>:2: FutureWarning: The default of observed=False is deprecated and will be changed to True in a future version of pandas. Pass observed=False to retain current behavior or observed=True to adopt the future default and silence this warning.\n",
      "  df_test['consec_days']=df_test.groupby(by=['country','store'])[['previous_visit']].cumsum()\n"
     ]
    }
   ],
   "source": [
    "df_test['previous_visit']=df_test.reset_index().groupby(by=['country','store'])[['date']].diff()\n",
    "df_test['consec_days']=df_test.groupby(by=['country','store'])[['previous_visit']].cumsum()"
   ]
  },
  {
   "cell_type": "code",
   "execution_count": 35,
   "id": "7abc0b59",
   "metadata": {
    "execution": {
     "iopub.execute_input": "2025-01-31T14:29:18.778917Z",
     "iopub.status.busy": "2025-01-31T14:29:18.778510Z",
     "iopub.status.idle": "2025-01-31T14:29:18.833530Z",
     "shell.execute_reply": "2025-01-31T14:29:18.832456Z"
    },
    "papermill": {
     "duration": 0.079801,
     "end_time": "2025-01-31T14:29:18.835405",
     "exception": false,
     "start_time": "2025-01-31T14:29:18.755604",
     "status": "completed"
    },
    "tags": []
   },
   "outputs": [],
   "source": [
    "df_train.set_index('date',inplace=True)\n",
    "Startmin=df_train.index.min()\n",
    "df_train['days_since_start'] = (df_train.index - Startmin).days\n",
    "\n",
    "# Add cycle hints based on time \n",
    "df_train['sin_year'] = np.sin(2 * np.pi * df_train['days_since_start'] / 365)\n",
    "df_train['cos_year'] = np.cos(2 * np.pi * df_train['days_since_start'] / 365)\n",
    "df_train['sin_month'] = np.sin(2 * np.pi * df_train['days_since_start'] / 30)\n",
    "df_train['cos_month'] = np.cos(2 * np.pi * df_train['days_since_start'] / 30)\n",
    "\n",
    "df_test.set_index('date',inplace=True)\n",
    "df_test['days_since_start'] = (df_test.index - Startmin).days\n",
    "\n",
    "# Add cycle hints based on time \n",
    "df_test['sin_year'] = np.sin(2 * np.pi * df_test['days_since_start'] / 365)\n",
    "df_test['cos_year'] = np.cos(2 * np.pi * df_test['days_since_start'] / 365)\n",
    "df_test['sin_month'] = np.sin(2 * np.pi * df_test['days_since_start'] / 30)\n",
    "df_test['cos_month'] = np.cos(2 * np.pi * df_test['days_since_start'] / 30)\n",
    "\n",
    "df_train.reset_index(inplace=True)\n",
    "df_test.reset_index(inplace=True)"
   ]
  },
  {
   "cell_type": "code",
   "execution_count": 36,
   "id": "54b699bd",
   "metadata": {
    "execution": {
     "iopub.execute_input": "2025-01-31T14:29:18.880262Z",
     "iopub.status.busy": "2025-01-31T14:29:18.879848Z",
     "iopub.status.idle": "2025-01-31T14:29:18.910453Z",
     "shell.execute_reply": "2025-01-31T14:29:18.908986Z"
    },
    "papermill": {
     "duration": 0.055435,
     "end_time": "2025-01-31T14:29:18.912493",
     "exception": false,
     "start_time": "2025-01-31T14:29:18.857058",
     "status": "completed"
    },
    "tags": []
   },
   "outputs": [
    {
     "name": "stdout",
     "output_type": "stream",
     "text": [
      "<class 'pandas.core.frame.DataFrame'>\n",
      "RangeIndex: 230130 entries, 0 to 230129\n",
      "Data columns (total 23 columns):\n",
      " #   Column            Non-Null Count   Dtype          \n",
      "---  ------            --------------   -----          \n",
      " 0   date              230130 non-null  datetime64[ns] \n",
      " 1   id                230130 non-null  int64          \n",
      " 2   country           230130 non-null  category       \n",
      " 3   store             230130 non-null  category       \n",
      " 4   product           230130 non-null  category       \n",
      " 5   num_sold          221259 non-null  float64        \n",
      " 6   Day               230130 non-null  category       \n",
      " 7   Month             230130 non-null  category       \n",
      " 8   Year              230130 non-null  category       \n",
      " 9   Day_of_week       230130 non-null  category       \n",
      " 10  Week_No           230130 non-null  UInt32         \n",
      " 11  is_weekend        230130 non-null  int64          \n",
      " 12  Quarter_Discrete  230130 non-null  int64          \n",
      " 13  Month_Spline      230130 non-null  float64        \n",
      " 14  Quarter_Spline    230130 non-null  float64        \n",
      " 15  Week_Spline       230130 non-null  float64        \n",
      " 16  previous_visit    230112 non-null  timedelta64[ns]\n",
      " 17  consec_days       230112 non-null  timedelta64[ns]\n",
      " 18  days_since_start  230130 non-null  int64          \n",
      " 19  sin_year          230130 non-null  float64        \n",
      " 20  cos_year          230130 non-null  float64        \n",
      " 21  sin_month         230130 non-null  float64        \n",
      " 22  cos_month         230130 non-null  float64        \n",
      "dtypes: UInt32(1), category(7), datetime64[ns](1), float64(8), int64(4), timedelta64[ns](2)\n",
      "memory usage: 29.0 MB\n"
     ]
    }
   ],
   "source": [
    "df_train.info()"
   ]
  },
  {
   "cell_type": "code",
   "execution_count": 37,
   "id": "df336274",
   "metadata": {
    "execution": {
     "iopub.execute_input": "2025-01-31T14:29:18.958991Z",
     "iopub.status.busy": "2025-01-31T14:29:18.958617Z",
     "iopub.status.idle": "2025-01-31T14:29:19.253178Z",
     "shell.execute_reply": "2025-01-31T14:29:19.252104Z"
    },
    "papermill": {
     "duration": 0.320303,
     "end_time": "2025-01-31T14:29:19.254992",
     "exception": false,
     "start_time": "2025-01-31T14:29:18.934689",
     "status": "completed"
    },
    "tags": []
   },
   "outputs": [],
   "source": [
    "#Get country\n",
    "\n",
    "#Get holidays for each country\n",
    "#allcountries.append(\"weirdcountry\")\n",
    "country_holidays={}\n",
    "\n",
    "#df_train['date']=pd.to_datetime(df_train['date'])\n",
    "start_year = df_train['date'].dt.year.min()\n",
    "end_year = df_train['date'].dt.year.max()\n",
    "\n",
    "country_holidays = generate_country_holidays(unique_countries, start_year, end_year)\n",
    "holiday_df = pd.DataFrame([\n",
    "    {'date': date, 'country_code': country, 'country': cname}\n",
    "    for country in unique_countries\n",
    "    for date in country_holidays[country]\n",
    "    for cname in [pycountry.countries.get(alpha_2=cc).name for cc in unique_countries]]\n",
    ")\n",
    "holiday_df['is_holiday'] = 1\n",
    "holiday_df['date']=pd.to_datetime(holiday_df['date'])\n",
    "holiday_df.drop('country_code',axis=1,inplace=True)\n",
    "\n",
    "df_train = df_train.merge(holiday_df, on=['date', 'country'], how='left').fillna({'is_holiday': 0})"
   ]
  },
  {
   "cell_type": "code",
   "execution_count": 38,
   "id": "3b428178",
   "metadata": {
    "execution": {
     "iopub.execute_input": "2025-01-31T14:29:19.299598Z",
     "iopub.status.busy": "2025-01-31T14:29:19.299222Z",
     "iopub.status.idle": "2025-01-31T14:29:19.330674Z",
     "shell.execute_reply": "2025-01-31T14:29:19.329564Z"
    },
    "papermill": {
     "duration": 0.056041,
     "end_time": "2025-01-31T14:29:19.332566",
     "exception": false,
     "start_time": "2025-01-31T14:29:19.276525",
     "status": "completed"
    },
    "tags": []
   },
   "outputs": [
    {
     "data": {
      "text/plain": [
       "<bound method Series.max of 600         1 days\n",
       "690         2 days\n",
       "780         3 days\n",
       "870         4 days\n",
       "1020        5 days\n",
       "            ...   \n",
       "249360   2552 days\n",
       "249450   2553 days\n",
       "249540   2554 days\n",
       "249630   2555 days\n",
       "249720   2556 days\n",
       "Name: consec_days, Length: 2769, dtype: timedelta64[ns]>"
      ]
     },
     "execution_count": 38,
     "metadata": {},
     "output_type": "execute_result"
    }
   ],
   "source": [
    "df_train[(df_train['country']=='Norway') & (df_train['store']=='Discount Stickers') & (df_train['previous_visit'].astype('int')>0)].consec_days.max"
   ]
  },
  {
   "cell_type": "code",
   "execution_count": 39,
   "id": "37bc91f9",
   "metadata": {
    "execution": {
     "iopub.execute_input": "2025-01-31T14:29:19.377978Z",
     "iopub.status.busy": "2025-01-31T14:29:19.377570Z",
     "iopub.status.idle": "2025-01-31T14:29:19.456859Z",
     "shell.execute_reply": "2025-01-31T14:29:19.455880Z"
    },
    "papermill": {
     "duration": 0.104117,
     "end_time": "2025-01-31T14:29:19.458770",
     "exception": false,
     "start_time": "2025-01-31T14:29:19.354653",
     "status": "completed"
    },
    "tags": []
   },
   "outputs": [],
   "source": [
    "start_year = df_test['date'].dt.year.min()\n",
    "end_year = df_test['date'].dt.year.max()\n",
    "#unique_countries = [cc for cc in countrycodes if cc is not None]\n",
    "country_holidays = generate_country_holidays(unique_countries, start_year, end_year)\n",
    "\n",
    "holiday_df = pd.DataFrame([\n",
    "    {'date': date, 'country_code': country, 'country': cname}\n",
    "    for country in unique_countries\n",
    "    for date in country_holidays[country]\n",
    "    for cname in [pycountry.countries.get(alpha_2=cc).name for cc in unique_countries]]\n",
    ")\n",
    "holiday_df['is_holiday']=1\n",
    "holiday_df['date']=pd.to_datetime(holiday_df['date'])\n",
    "holiday_df.drop('country_code',axis=1,inplace=True)\n",
    "\n",
    "df_test = df_test.merge(holiday_df, on=['date', 'country'], how='left').fillna({'is_holiday': 0})\n"
   ]
  },
  {
   "cell_type": "code",
   "execution_count": 40,
   "id": "7fc9abe3",
   "metadata": {
    "execution": {
     "iopub.execute_input": "2025-01-31T14:29:19.503830Z",
     "iopub.status.busy": "2025-01-31T14:29:19.503459Z",
     "iopub.status.idle": "2025-01-31T14:29:19.512917Z",
     "shell.execute_reply": "2025-01-31T14:29:19.511889Z"
    },
    "papermill": {
     "duration": 0.033953,
     "end_time": "2025-01-31T14:29:19.514655",
     "exception": false,
     "start_time": "2025-01-31T14:29:19.480702",
     "status": "completed"
    },
    "tags": []
   },
   "outputs": [
    {
     "data": {
      "text/plain": [
       "is_holiday\n",
       "0    88290\n",
       "1    18270\n",
       "Name: count, dtype: int64"
      ]
     },
     "execution_count": 40,
     "metadata": {},
     "output_type": "execute_result"
    }
   ],
   "source": [
    "df_test['is_holiday']=df_test['is_holiday'].astype(int)\n",
    "df_test['is_holiday'].value_counts()"
   ]
  },
  {
   "cell_type": "code",
   "execution_count": 41,
   "id": "3b42a505",
   "metadata": {
    "execution": {
     "iopub.execute_input": "2025-01-31T14:29:19.561928Z",
     "iopub.status.busy": "2025-01-31T14:29:19.561576Z",
     "iopub.status.idle": "2025-01-31T14:29:19.566816Z",
     "shell.execute_reply": "2025-01-31T14:29:19.565707Z"
    },
    "papermill": {
     "duration": 0.032388,
     "end_time": "2025-01-31T14:29:19.568704",
     "exception": false,
     "start_time": "2025-01-31T14:29:19.536316",
     "status": "completed"
    },
    "tags": []
   },
   "outputs": [],
   "source": [
    "df_train.set_index('date',inplace=True)\n",
    "#df_test.set_index('date',inplace=True)"
   ]
  },
  {
   "cell_type": "code",
   "execution_count": 42,
   "id": "d81ca849",
   "metadata": {
    "execution": {
     "iopub.execute_input": "2025-01-31T14:29:19.613784Z",
     "iopub.status.busy": "2025-01-31T14:29:19.613398Z",
     "iopub.status.idle": "2025-01-31T14:29:19.617484Z",
     "shell.execute_reply": "2025-01-31T14:29:19.616421Z"
    },
    "papermill": {
     "duration": 0.028504,
     "end_time": "2025-01-31T14:29:19.619096",
     "exception": false,
     "start_time": "2025-01-31T14:29:19.590592",
     "status": "completed"
    },
    "tags": []
   },
   "outputs": [],
   "source": [
    "#Graph for intrpolate is changing too much\n",
    "#Not interpolate but just drop Na is better\n",
    "#Interpolate missing num_sold\n",
    "\n",
    "#df_train['date']=pd.to_datetime(df_train['date'])\n",
    "#df = df_train.set_index('date')\n",
    "\n",
    "# df_train = df_train.sort_values(by=['country', 'store', 'product', 'date'])\n",
    "\n",
    "# # Impute NaN with interpolation (grouped by Country, Store, and Product)\n",
    "# df_train['num_sold'] = df_train.groupby(['country', 'store', 'product'])['num_sold'].transform(\n",
    "#     lambda group: group.interpolate(method='linear',limit=None,limit_direction='both').ffill().bfill()\n",
    "# )\n",
    "#df['num_sold'].isna().any()"
   ]
  },
  {
   "cell_type": "code",
   "execution_count": 43,
   "id": "1a4e5681",
   "metadata": {
    "execution": {
     "iopub.execute_input": "2025-01-31T14:29:19.664286Z",
     "iopub.status.busy": "2025-01-31T14:29:19.663867Z",
     "iopub.status.idle": "2025-01-31T14:29:19.667766Z",
     "shell.execute_reply": "2025-01-31T14:29:19.666736Z"
    },
    "papermill": {
     "duration": 0.02864,
     "end_time": "2025-01-31T14:29:19.669349",
     "exception": false,
     "start_time": "2025-01-31T14:29:19.640709",
     "status": "completed"
    },
    "tags": []
   },
   "outputs": [],
   "source": [
    "#condition = (df.num_sold.notna()) & (df['country']=='Canada') & (df['store']=='Discount Stickers') & (df['product']=='Holographic Goose')\n",
    "#df[condition]\n"
   ]
  },
  {
   "cell_type": "code",
   "execution_count": 44,
   "id": "9788874c",
   "metadata": {
    "execution": {
     "iopub.execute_input": "2025-01-31T14:29:19.714782Z",
     "iopub.status.busy": "2025-01-31T14:29:19.714435Z",
     "iopub.status.idle": "2025-01-31T14:29:19.718770Z",
     "shell.execute_reply": "2025-01-31T14:29:19.717420Z"
    },
    "papermill": {
     "duration": 0.029209,
     "end_time": "2025-01-31T14:29:19.720507",
     "exception": false,
     "start_time": "2025-01-31T14:29:19.691298",
     "status": "completed"
    },
    "tags": []
   },
   "outputs": [],
   "source": [
    "##Get num_sold NaN product store and country\n",
    "#t=df[df.num_sold.isna()].groupby(['country','store','product'])['product'].value_counts().to_dict()"
   ]
  },
  {
   "cell_type": "code",
   "execution_count": 45,
   "id": "7534c77a",
   "metadata": {
    "execution": {
     "iopub.execute_input": "2025-01-31T14:29:19.767349Z",
     "iopub.status.busy": "2025-01-31T14:29:19.766780Z",
     "iopub.status.idle": "2025-01-31T14:29:19.771623Z",
     "shell.execute_reply": "2025-01-31T14:29:19.770490Z"
    },
    "papermill": {
     "duration": 0.03032,
     "end_time": "2025-01-31T14:29:19.773444",
     "exception": false,
     "start_time": "2025-01-31T14:29:19.743124",
     "status": "completed"
    },
    "tags": []
   },
   "outputs": [],
   "source": [
    "#Country store and product that have NaN\n",
    "# for  k,v in t.items():\n",
    "#     if v!=0:\n",
    "#         print(k,v)"
   ]
  },
  {
   "cell_type": "code",
   "execution_count": 46,
   "id": "8475ed9b",
   "metadata": {
    "execution": {
     "iopub.execute_input": "2025-01-31T14:29:19.819617Z",
     "iopub.status.busy": "2025-01-31T14:29:19.819212Z",
     "iopub.status.idle": "2025-01-31T14:29:19.854887Z",
     "shell.execute_reply": "2025-01-31T14:29:19.853435Z"
    },
    "papermill": {
     "duration": 0.0612,
     "end_time": "2025-01-31T14:29:19.856783",
     "exception": false,
     "start_time": "2025-01-31T14:29:19.795583",
     "status": "completed"
    },
    "tags": []
   },
   "outputs": [
    {
     "name": "stdout",
     "output_type": "stream",
     "text": [
      "Mean\n",
      "country\n",
      "Canada       242.974170\n",
      "Finland      179.209850\n",
      "Italy        129.627508\n",
      "Kenya          5.800233\n",
      "Norway       341.143664\n",
      "Singapore    206.325646\n",
      "Name: num_sold, dtype: float64\n",
      "Median\n",
      "country\n",
      "Canada       235.0\n",
      "Finland      190.0\n",
      "Italy        137.0\n",
      "Kenya          6.0\n",
      "Norway       353.0\n",
      "Singapore    219.0\n",
      "Name: num_sold, dtype: float64\n",
      "Mode\n",
      "country\n",
      "Canada       218.0\n",
      "Finland       91.0\n",
      "Italy         64.0\n",
      "Kenya          5.0\n",
      "Norway       171.0\n",
      "Singapore    107.0\n",
      "Name: num_sold, dtype: float64\n",
      "Min\n",
      "country\n",
      "Canada       200.0\n",
      "Finland       65.0\n",
      "Italy         44.0\n",
      "Kenya          5.0\n",
      "Norway       105.0\n",
      "Singapore     69.0\n",
      "Name: num_sold, dtype: float64\n",
      "Max\n",
      "country\n",
      "Canada       449.0\n",
      "Finland      491.0\n",
      "Italy        318.0\n",
      "Kenya         11.0\n",
      "Norway       908.0\n",
      "Singapore    469.0\n",
      "Name: num_sold, dtype: float64\n"
     ]
    }
   ],
   "source": [
    "#Find Holographic Goose num_sold in each country\n",
    "nan_product = df_train[(df_train['product']=='Holographic Goose') & (df_train['num_sold'].notna())].groupby(['country'])['num_sold']\n",
    "print(\"Mean\")\n",
    "print(nan_product.mean())\n",
    "print(\"Median\")\n",
    "print(nan_product.median())\n",
    "print(\"Mode\")\n",
    "print(nan_product.agg(pd.Series.mode))\n",
    "print(\"Min\")\n",
    "print(nan_product.min())\n",
    "print(\"Max\")\n",
    "print(nan_product.max())"
   ]
  },
  {
   "cell_type": "markdown",
   "id": "d6eb5079",
   "metadata": {
    "papermill": {
     "duration": 0.022145,
     "end_time": "2025-01-31T14:29:19.900931",
     "exception": false,
     "start_time": "2025-01-31T14:29:19.878786",
     "status": "completed"
    },
    "tags": []
   },
   "source": [
    "Impute Canana NaN with 218.0 \n",
    "Impute Kenya NaN with 5.0"
   ]
  },
  {
   "cell_type": "code",
   "execution_count": 47,
   "id": "aacab2ee",
   "metadata": {
    "execution": {
     "iopub.execute_input": "2025-01-31T14:29:19.946484Z",
     "iopub.status.busy": "2025-01-31T14:29:19.946095Z",
     "iopub.status.idle": "2025-01-31T14:29:19.992359Z",
     "shell.execute_reply": "2025-01-31T14:29:19.991294Z"
    },
    "papermill": {
     "duration": 0.071516,
     "end_time": "2025-01-31T14:29:19.994439",
     "exception": false,
     "start_time": "2025-01-31T14:29:19.922923",
     "status": "completed"
    },
    "tags": []
   },
   "outputs": [],
   "source": [
    "df_train['previous_visit'].fillna(pd.to_timedelta(0),inplace=True)\n",
    "df_train['consec_days'].fillna(pd.to_timedelta(0),inplace=True)\n",
    "df_test['previous_visit'].fillna(pd.to_timedelta(0),inplace=True)\n",
    "df_test['consec_days'].fillna(pd.to_timedelta(0),inplace=True)\n",
    "\n",
    "df_train.dropna(inplace=True)\n",
    "#df_test.dropna(inplace=True)"
   ]
  },
  {
   "cell_type": "code",
   "execution_count": 48,
   "id": "ea5a9208",
   "metadata": {
    "execution": {
     "iopub.execute_input": "2025-01-31T14:29:20.039790Z",
     "iopub.status.busy": "2025-01-31T14:29:20.039450Z",
     "iopub.status.idle": "2025-01-31T14:29:20.043403Z",
     "shell.execute_reply": "2025-01-31T14:29:20.042478Z"
    },
    "papermill": {
     "duration": 0.028637,
     "end_time": "2025-01-31T14:29:20.045125",
     "exception": false,
     "start_time": "2025-01-31T14:29:20.016488",
     "status": "completed"
    },
    "tags": []
   },
   "outputs": [],
   "source": [
    "#Impute Canada with 218\n",
    "#df.loc[df['country']=='Canada',['num_sold']]=df.loc[df['country']=='Canada',['num_sold']].fillna(218.0)"
   ]
  },
  {
   "cell_type": "code",
   "execution_count": 49,
   "id": "e883f0c0",
   "metadata": {
    "execution": {
     "iopub.execute_input": "2025-01-31T14:29:20.091090Z",
     "iopub.status.busy": "2025-01-31T14:29:20.090706Z",
     "iopub.status.idle": "2025-01-31T14:29:20.094802Z",
     "shell.execute_reply": "2025-01-31T14:29:20.093608Z"
    },
    "papermill": {
     "duration": 0.028783,
     "end_time": "2025-01-31T14:29:20.096555",
     "exception": false,
     "start_time": "2025-01-31T14:29:20.067772",
     "status": "completed"
    },
    "tags": []
   },
   "outputs": [],
   "source": [
    "#Impute Kenya with 5\n",
    "#df.loc[df['country']=='Kenya',['num_sold']]=df.loc[df['country']=='Kenya',['num_sold']].fillna(5.0)"
   ]
  },
  {
   "cell_type": "code",
   "execution_count": 50,
   "id": "432d71db",
   "metadata": {
    "execution": {
     "iopub.execute_input": "2025-01-31T14:29:20.142583Z",
     "iopub.status.busy": "2025-01-31T14:29:20.142175Z",
     "iopub.status.idle": "2025-01-31T14:29:20.146250Z",
     "shell.execute_reply": "2025-01-31T14:29:20.145095Z"
    },
    "papermill": {
     "duration": 0.029261,
     "end_time": "2025-01-31T14:29:20.147981",
     "exception": false,
     "start_time": "2025-01-31T14:29:20.118720",
     "status": "completed"
    },
    "tags": []
   },
   "outputs": [],
   "source": [
    "# nsmode = df_train['num_sold'].mode()\n",
    "# df_train['num_sold']=df_train['num_sold'].fillna(nsmode[0])"
   ]
  },
  {
   "cell_type": "code",
   "execution_count": 51,
   "id": "4861604a",
   "metadata": {
    "execution": {
     "iopub.execute_input": "2025-01-31T14:29:20.192873Z",
     "iopub.status.busy": "2025-01-31T14:29:20.192471Z",
     "iopub.status.idle": "2025-01-31T14:29:20.223922Z",
     "shell.execute_reply": "2025-01-31T14:29:20.222825Z"
    },
    "papermill": {
     "duration": 0.056241,
     "end_time": "2025-01-31T14:29:20.225983",
     "exception": false,
     "start_time": "2025-01-31T14:29:20.169742",
     "status": "completed"
    },
    "tags": []
   },
   "outputs": [],
   "source": [
    "#Get date back to feature after interpolation\n",
    "df_train=df_train.reset_index()"
   ]
  },
  {
   "cell_type": "code",
   "execution_count": 52,
   "id": "8dc12101",
   "metadata": {
    "execution": {
     "iopub.execute_input": "2025-01-31T14:29:20.271376Z",
     "iopub.status.busy": "2025-01-31T14:29:20.270971Z",
     "iopub.status.idle": "2025-01-31T14:29:20.305506Z",
     "shell.execute_reply": "2025-01-31T14:29:20.304224Z"
    },
    "papermill": {
     "duration": 0.059328,
     "end_time": "2025-01-31T14:29:20.307271",
     "exception": false,
     "start_time": "2025-01-31T14:29:20.247943",
     "status": "completed"
    },
    "tags": []
   },
   "outputs": [
    {
     "name": "stdout",
     "output_type": "stream",
     "text": [
      "<class 'pandas.core.frame.DataFrame'>\n",
      "RangeIndex: 240265 entries, 0 to 240264\n",
      "Data columns (total 24 columns):\n",
      " #   Column            Non-Null Count   Dtype          \n",
      "---  ------            --------------   -----          \n",
      " 0   date              240265 non-null  datetime64[ns] \n",
      " 1   id                240265 non-null  int64          \n",
      " 2   country           240265 non-null  object         \n",
      " 3   store             240265 non-null  category       \n",
      " 4   product           240265 non-null  category       \n",
      " 5   num_sold          240265 non-null  float64        \n",
      " 6   Day               240265 non-null  category       \n",
      " 7   Month             240265 non-null  category       \n",
      " 8   Year              240265 non-null  category       \n",
      " 9   Day_of_week       240265 non-null  category       \n",
      " 10  Week_No           240265 non-null  UInt32         \n",
      " 11  is_weekend        240265 non-null  int64          \n",
      " 12  Quarter_Discrete  240265 non-null  int64          \n",
      " 13  Month_Spline      240265 non-null  float64        \n",
      " 14  Quarter_Spline    240265 non-null  float64        \n",
      " 15  Week_Spline       240265 non-null  float64        \n",
      " 16  previous_visit    240265 non-null  timedelta64[ns]\n",
      " 17  consec_days       240265 non-null  timedelta64[ns]\n",
      " 18  days_since_start  240265 non-null  int64          \n",
      " 19  sin_year          240265 non-null  float64        \n",
      " 20  cos_year          240265 non-null  float64        \n",
      " 21  sin_month         240265 non-null  float64        \n",
      " 22  cos_month         240265 non-null  float64        \n",
      " 23  is_holiday        240265 non-null  float64        \n",
      "dtypes: UInt32(1), category(6), datetime64[ns](1), float64(9), int64(4), object(1), timedelta64[ns](2)\n",
      "memory usage: 33.7+ MB\n"
     ]
    }
   ],
   "source": [
    "df_train.info()"
   ]
  },
  {
   "cell_type": "code",
   "execution_count": 53,
   "id": "cd66ea71",
   "metadata": {
    "execution": {
     "iopub.execute_input": "2025-01-31T14:29:20.352637Z",
     "iopub.status.busy": "2025-01-31T14:29:20.352172Z",
     "iopub.status.idle": "2025-01-31T14:29:20.392626Z",
     "shell.execute_reply": "2025-01-31T14:29:20.391368Z"
    },
    "papermill": {
     "duration": 0.065246,
     "end_time": "2025-01-31T14:29:20.394588",
     "exception": false,
     "start_time": "2025-01-31T14:29:20.329342",
     "status": "completed"
    },
    "tags": []
   },
   "outputs": [],
   "source": [
    "df_train['is_holiday']=df_train['is_holiday'].astype('int')\n",
    "df_train['previous_visit']=pd.to_numeric(df_train['previous_visit'].dt.days,errors='coerce')\n",
    "df_train['consec_days']=pd.to_numeric(df_train['consec_days'].dt.days,errors='coerce')\n",
    "df_train['country']=df_train['country'].astype('category')\n",
    "\n",
    "df_test['is_holiday']=df_test['is_holiday'].astype('int')\n",
    "df_test['previous_visit']=pd.to_numeric(df_test['previous_visit'].dt.days,errors='coerce')\n",
    "df_test['consec_days']=pd.to_numeric(df_test['consec_days'].dt.days,errors='coerce')\n",
    "df_test['country']=df_test['country'].astype('category')"
   ]
  },
  {
   "cell_type": "code",
   "execution_count": 54,
   "id": "029f567f",
   "metadata": {
    "execution": {
     "iopub.execute_input": "2025-01-31T14:29:20.440045Z",
     "iopub.status.busy": "2025-01-31T14:29:20.439623Z",
     "iopub.status.idle": "2025-01-31T14:29:20.465200Z",
     "shell.execute_reply": "2025-01-31T14:29:20.463822Z"
    },
    "papermill": {
     "duration": 0.050421,
     "end_time": "2025-01-31T14:29:20.466943",
     "exception": false,
     "start_time": "2025-01-31T14:29:20.416522",
     "status": "completed"
    },
    "tags": []
   },
   "outputs": [
    {
     "name": "stdout",
     "output_type": "stream",
     "text": [
      "<class 'pandas.core.frame.DataFrame'>\n",
      "RangeIndex: 240265 entries, 0 to 240264\n",
      "Data columns (total 24 columns):\n",
      " #   Column            Non-Null Count   Dtype         \n",
      "---  ------            --------------   -----         \n",
      " 0   date              240265 non-null  datetime64[ns]\n",
      " 1   id                240265 non-null  int64         \n",
      " 2   country           240265 non-null  category      \n",
      " 3   store             240265 non-null  category      \n",
      " 4   product           240265 non-null  category      \n",
      " 5   num_sold          240265 non-null  float64       \n",
      " 6   Day               240265 non-null  category      \n",
      " 7   Month             240265 non-null  category      \n",
      " 8   Year              240265 non-null  category      \n",
      " 9   Day_of_week       240265 non-null  category      \n",
      " 10  Week_No           240265 non-null  UInt32        \n",
      " 11  is_weekend        240265 non-null  int64         \n",
      " 12  Quarter_Discrete  240265 non-null  int64         \n",
      " 13  Month_Spline      240265 non-null  float64       \n",
      " 14  Quarter_Spline    240265 non-null  float64       \n",
      " 15  Week_Spline       240265 non-null  float64       \n",
      " 16  previous_visit    240265 non-null  int64         \n",
      " 17  consec_days       240265 non-null  int64         \n",
      " 18  days_since_start  240265 non-null  int64         \n",
      " 19  sin_year          240265 non-null  float64       \n",
      " 20  cos_year          240265 non-null  float64       \n",
      " 21  sin_month         240265 non-null  float64       \n",
      " 22  cos_month         240265 non-null  float64       \n",
      " 23  is_holiday        240265 non-null  int64         \n",
      "dtypes: UInt32(1), category(7), datetime64[ns](1), float64(8), int64(7)\n",
      "memory usage: 32.1 MB\n"
     ]
    }
   ],
   "source": [
    "#log transform target\n",
    "df_train['num_sold']=np.log1p(df_train['num_sold']) \n",
    "df_train.info()"
   ]
  },
  {
   "cell_type": "code",
   "execution_count": 55,
   "id": "543e21de",
   "metadata": {
    "execution": {
     "iopub.execute_input": "2025-01-31T14:29:20.512259Z",
     "iopub.status.busy": "2025-01-31T14:29:20.511846Z",
     "iopub.status.idle": "2025-01-31T14:29:20.530209Z",
     "shell.execute_reply": "2025-01-31T14:29:20.528988Z"
    },
    "papermill": {
     "duration": 0.043173,
     "end_time": "2025-01-31T14:29:20.532125",
     "exception": false,
     "start_time": "2025-01-31T14:29:20.488952",
     "status": "completed"
    },
    "tags": []
   },
   "outputs": [],
   "source": [
    "#dropping redundant features\n",
    "df_train.drop(['Year','Quarter_Discrete','Week_No','days_since_start','Month_Spline'],axis=1,inplace=True)\n",
    "df_test.drop(['Year','Quarter_Discrete','Week_No','days_since_start','Month_Spline'],axis=1,inplace=True)"
   ]
  },
  {
   "cell_type": "code",
   "execution_count": 56,
   "id": "395df42f",
   "metadata": {
    "execution": {
     "iopub.execute_input": "2025-01-31T14:29:20.640586Z",
     "iopub.status.busy": "2025-01-31T14:29:20.640187Z",
     "iopub.status.idle": "2025-01-31T14:29:20.659835Z",
     "shell.execute_reply": "2025-01-31T14:29:20.658449Z"
    },
    "papermill": {
     "duration": 0.044536,
     "end_time": "2025-01-31T14:29:20.661504",
     "exception": false,
     "start_time": "2025-01-31T14:29:20.616968",
     "status": "completed"
    },
    "tags": []
   },
   "outputs": [
    {
     "name": "stdout",
     "output_type": "stream",
     "text": [
      "<class 'pandas.core.frame.DataFrame'>\n",
      "RangeIndex: 240265 entries, 0 to 240264\n",
      "Data columns (total 19 columns):\n",
      " #   Column          Non-Null Count   Dtype         \n",
      "---  ------          --------------   -----         \n",
      " 0   date            240265 non-null  datetime64[ns]\n",
      " 1   id              240265 non-null  int64         \n",
      " 2   country         240265 non-null  category      \n",
      " 3   store           240265 non-null  category      \n",
      " 4   product         240265 non-null  category      \n",
      " 5   num_sold        240265 non-null  float64       \n",
      " 6   Day             240265 non-null  category      \n",
      " 7   Month           240265 non-null  category      \n",
      " 8   Day_of_week     240265 non-null  category      \n",
      " 9   is_weekend      240265 non-null  int64         \n",
      " 10  Quarter_Spline  240265 non-null  float64       \n",
      " 11  Week_Spline     240265 non-null  float64       \n",
      " 12  previous_visit  240265 non-null  int64         \n",
      " 13  consec_days     240265 non-null  int64         \n",
      " 14  sin_year        240265 non-null  float64       \n",
      " 15  cos_year        240265 non-null  float64       \n",
      " 16  sin_month       240265 non-null  float64       \n",
      " 17  cos_month       240265 non-null  float64       \n",
      " 18  is_holiday      240265 non-null  int64         \n",
      "dtypes: category(6), datetime64[ns](1), float64(7), int64(5)\n",
      "memory usage: 25.2 MB\n"
     ]
    }
   ],
   "source": [
    "df_train.info()"
   ]
  },
  {
   "cell_type": "code",
   "execution_count": 57,
   "id": "eb05758f",
   "metadata": {
    "execution": {
     "iopub.execute_input": "2025-01-31T14:29:20.707845Z",
     "iopub.status.busy": "2025-01-31T14:29:20.707465Z",
     "iopub.status.idle": "2025-01-31T14:29:21.086440Z",
     "shell.execute_reply": "2025-01-31T14:29:21.085056Z"
    },
    "papermill": {
     "duration": 0.40404,
     "end_time": "2025-01-31T14:29:21.088461",
     "exception": false,
     "start_time": "2025-01-31T14:29:20.684421",
     "status": "completed"
    },
    "tags": []
   },
   "outputs": [
    {
     "name": "stdout",
     "output_type": "stream",
     "text": [
      "Canada train loc  0 to 177819\n",
      "Canada valid loc 177820 to 240190\n",
      "Finland train loc  84 to 180069\n",
      "Finland valid loc 180070 to 240205\n",
      "Italy train loc  174 to 180144\n",
      "Italy valid loc 180145 to 240220\n",
      "Kenya train loc  264 to 182812\n",
      "Kenya valid loc 182813 to 240234\n",
      "Norway train loc  348 to 180289\n",
      "Norway valid loc 180290 to 240249\n",
      "Singapore train loc  438 to 180364\n",
      "Singapore valid loc 180365 to 240264\n"
     ]
    }
   ],
   "source": [
    "#Split data according to country into\n",
    "from catboost import Pool\n",
    "country_train_pool={}\n",
    "country_valid_pool={}\n",
    "\n",
    "for c in countrylist:\n",
    "    df=df_train[df_train['country']==c]\n",
    "    train_x, valid_x, train_y, valid_y = train_test_split(df.drop(['id','num_sold','country'],axis=1),df['num_sold'],shuffle=False,test_size=0.25)\n",
    "    cats=df.select_dtypes('category').columns.to_list()\n",
    "    cats.remove('country')\n",
    "    cats.append('is_holiday')\n",
    "    #cats.append('Week_No')\n",
    "    cats.append('is_weekend')\n",
    "    #cats.append('Quarter_Discrete')\n",
    "    #train_weights = np.linspace(0.1, 1.0, len(train_x))\n",
    "    #valid_weights = np.linspace(0.1, 1.0, len(valid_x)) # Linearly increasing weights\n",
    "    # decay_rate=0.75\n",
    "    # train_weights = decay_rate ** np.arange(len(train_x))[::-1]  # Exponentially increasing weights\n",
    "    # valid_weights = decay_rate ** np.arange(len(valid_x))[::-1]  # Exponentially increasing weights\n",
    "    country_train_pool[c]=Pool(train_x,label=train_y,cat_features=cats)#,weight=train_weights)\n",
    "    country_valid_pool[c]=Pool(valid_x,label=valid_y,cat_features=cats)#,weight=valid_weights)\n",
    "    #print(f\"{c} train date {train_x['date'].min()} to {train_x['date'].max()}\")\n",
    "    print(f\"{c} train loc  {train_x.index.min()} to {train_x.index.max()}\")\n",
    "    #print(f\"{c} valid date {valid_x['date'].min()} to {valid_x['date'].max()}\") \n",
    "    print(f\"{c} valid loc {valid_x.index.min()} to {valid_x.index.max()}\")"
   ]
  },
  {
   "cell_type": "code",
   "execution_count": 58,
   "id": "b45700e0",
   "metadata": {
    "execution": {
     "iopub.execute_input": "2025-01-31T14:29:21.134848Z",
     "iopub.status.busy": "2025-01-31T14:29:21.134485Z",
     "iopub.status.idle": "2025-01-31T14:29:21.143072Z",
     "shell.execute_reply": "2025-01-31T14:29:21.141846Z"
    },
    "papermill": {
     "duration": 0.034236,
     "end_time": "2025-01-31T14:29:21.145159",
     "exception": false,
     "start_time": "2025-01-31T14:29:21.110923",
     "status": "completed"
    },
    "tags": []
   },
   "outputs": [],
   "source": [
    "from functools import partial\n",
    "from catboost import cv\n",
    "\n",
    "def objective(trial: optuna.Trial, country) -> float:\n",
    "    #data, target = load_breast_cancer(return_X_y=True)\n",
    "    #train_x, valid_x, train_y, valid_y = train_test_split(df_train.drop(['id','num_sold','date'],axis=1), df_train['num_sold'], test_size=0.25)\n",
    "    #cats=df_train.select_dtypes('category').columns\n",
    "    \n",
    "    param = {\n",
    "        \"iterations\":trial.suggest_int(\"iterations\",1000,10000),\n",
    "        \"learning_rate\":trial.suggest_float(\"learning_rate\",0.005,0.03,log=True),\n",
    "        \"objective\": trial.suggest_categorical(\"objective\", [\"MAPE\"]),\n",
    "        \"colsample_bylevel\": trial.suggest_float(\"colsample_bylevel\", 0.01, 0.7, log=True),\n",
    "        \"depth\": trial.suggest_int(\"depth\", 2, 10),\n",
    "        \"boosting_type\": trial.suggest_categorical(\"boosting_type\", [\"Ordered\", \"Plain\"]),\n",
    "        \"bootstrap_type\": trial.suggest_categorical(\n",
    "            \"bootstrap_type\", [\"Bayesian\", \"Bernoulli\", \"MVS\"]\n",
    "        ),\n",
    "        \"used_ram_limit\": \"3gb\",\n",
    "        \"eval_metric\": \"MAPE\",\n",
    "        \"cat_features\": cats,\n",
    "    }\n",
    "\n",
    "    if param[\"bootstrap_type\"] == \"Bayesian\":\n",
    "        param[\"bagging_temperature\"] = trial.suggest_float(\"bagging_temperature\", 0, 10)\n",
    "    elif param[\"bootstrap_type\"] == \"Bernoulli\":\n",
    "        param[\"subsample\"] = trial.suggest_float(\"subsample\", 0.1, 1, log=True)\n",
    "\n",
    "   \n",
    "    #use catboost cv with timeseries data\n",
    "    cv_data = cb.cv(\n",
    "        country_train_pool[c],\n",
    "        params=param,\n",
    "        shuffle=False,\n",
    "        type='TimeSeries',\n",
    "        fold_count=3,\n",
    "        early_stopping_rounds=400,\n",
    "        verbose=0,\n",
    "    )\n",
    "    mape = cv_data['test-MAPE-mean'].min()\n",
    "    best_iter = cv_data['test-MAPE-mean'].values.argmin()\n",
    "    # gbm = cb.CatBoostRegressor(**param)\n",
    "\n",
    "    # pruning_callback = CatBoostPruningCallback(trial, \"MAPE\")\n",
    "    # gbm.fit(\n",
    "    #    # train_x,\n",
    "    #    # train_y,\n",
    "    #    # eval_set=[(valid_x, valid_y)],\n",
    "    #     country_train_pool[c],\n",
    "    #     eval_set=country_valid_pool[c],\n",
    "    #     verbose=0,\n",
    "    #     early_stopping_rounds=300,\n",
    "    #     callbacks=[pruning_callback],\n",
    "    # )\n",
    "\n",
    "    # evoke pruning manually.\n",
    "    #pruning_callback.check_pruned()\n",
    "\n",
    "    \n",
    "    #preds = gbm.predict(valid_x)\n",
    "    #pred_labels = np.fix(preds)\n",
    "    #mape = mean_absolute_percentage_error(valid_y, pred_labels)\n",
    "    return mape\n"
   ]
  },
  {
   "cell_type": "code",
   "execution_count": null,
   "id": "6ddc9fef",
   "metadata": {
    "papermill": {
     "duration": 0.022113,
     "end_time": "2025-01-31T14:29:21.190244",
     "exception": false,
     "start_time": "2025-01-31T14:29:21.168131",
     "status": "completed"
    },
    "tags": []
   },
   "outputs": [],
   "source": []
  },
  {
   "cell_type": "code",
   "execution_count": 59,
   "id": "dd98864c",
   "metadata": {
    "execution": {
     "iopub.execute_input": "2025-01-31T14:29:21.236505Z",
     "iopub.status.busy": "2025-01-31T14:29:21.236160Z",
     "iopub.status.idle": "2025-01-31T15:31:46.909698Z",
     "shell.execute_reply": "2025-01-31T15:31:46.908528Z"
    },
    "papermill": {
     "duration": 3745.730979,
     "end_time": "2025-01-31T15:31:46.943824",
     "exception": false,
     "start_time": "2025-01-31T14:29:21.212845",
     "status": "completed"
    },
    "tags": []
   },
   "outputs": [
    {
     "name": "stdout",
     "output_type": "stream",
     "text": [
      "Training on fold [0/3]\n",
      "\n",
      "bestTest = 0.011530384\n",
      "bestIteration = 7627\n",
      "\n",
      "Training on fold [1/3]\n",
      "\n",
      "bestTest = 0.01232808664\n",
      "bestIteration = 7313\n",
      "\n",
      "Training on fold [2/3]\n",
      "\n",
      "bestTest = 0.0151555547\n",
      "bestIteration = 4410\n",
      "\n",
      "Training on fold [0/3]\n",
      "\n",
      "bestTest = 0.06239186241\n",
      "bestIteration = 1457\n",
      "\n",
      "Training on fold [1/3]\n",
      "\n",
      "bestTest = 0.03349613834\n",
      "bestIteration = 775\n",
      "\n",
      "Training on fold [2/3]\n",
      "\n",
      "bestTest = 0.01605891596\n",
      "bestIteration = 3329\n",
      "\n",
      "Training on fold [0/3]\n",
      "\n",
      "bestTest = 0.04029084312\n",
      "bestIteration = 1207\n",
      "\n",
      "Training on fold [1/3]\n",
      "\n",
      "bestTest = 0.04368203527\n",
      "bestIteration = 797\n",
      "\n",
      "Training on fold [2/3]\n",
      "\n",
      "bestTest = 0.03177327898\n",
      "bestIteration = 1897\n",
      "\n",
      "Training on fold [0/3]\n",
      "\n",
      "bestTest = 0.07084436901\n",
      "bestIteration = 2095\n",
      "\n",
      "Training on fold [1/3]\n",
      "\n",
      "bestTest = 0.07122159466\n",
      "bestIteration = 2095\n",
      "\n",
      "Training on fold [2/3]\n",
      "\n",
      "bestTest = 0.06903369715\n",
      "bestIteration = 2095\n",
      "\n",
      "Training on fold [0/3]\n",
      "\n",
      "bestTest = 0.03269639852\n",
      "bestIteration = 1753\n",
      "\n",
      "Training on fold [1/3]\n",
      "\n",
      "bestTest = 0.0147310447\n",
      "bestIteration = 735\n",
      "\n",
      "Training on fold [2/3]\n",
      "\n",
      "bestTest = 0.02138544427\n",
      "bestIteration = 2831\n",
      "\n",
      "Training on fold [0/3]\n",
      "\n",
      "bestTest = 0.0515136742\n",
      "bestIteration = 2263\n",
      "\n",
      "Training on fold [1/3]\n",
      "\n",
      "bestTest = 0.02228446536\n",
      "bestIteration = 1441\n",
      "\n",
      "Training on fold [2/3]\n",
      "\n",
      "bestTest = 0.01483696755\n",
      "bestIteration = 2314\n",
      "\n",
      "Training on fold [0/3]\n",
      "\n",
      "bestTest = 0.02070501587\n",
      "bestIteration = 1672\n",
      "\n",
      "Training on fold [1/3]\n",
      "\n",
      "bestTest = 0.01775294375\n",
      "bestIteration = 1670\n",
      "\n",
      "Training on fold [2/3]\n",
      "\n",
      "bestTest = 0.01491716751\n",
      "bestIteration = 1668\n",
      "\n",
      "Training on fold [0/3]\n",
      "\n",
      "bestTest = 0.01282852489\n",
      "bestIteration = 5925\n",
      "\n",
      "Training on fold [1/3]\n",
      "\n",
      "bestTest = 0.008796394387\n",
      "bestIteration = 7902\n",
      "\n",
      "Training on fold [2/3]\n",
      "\n",
      "bestTest = 0.0120995016\n",
      "bestIteration = 1926\n",
      "\n",
      "Training on fold [0/3]\n",
      "\n",
      "bestTest = 0.01550118179\n",
      "bestIteration = 5461\n",
      "\n",
      "Training on fold [1/3]\n",
      "\n",
      "bestTest = 0.01315146912\n",
      "bestIteration = 5469\n",
      "\n",
      "Training on fold [2/3]\n",
      "\n",
      "bestTest = 0.01280784005\n",
      "bestIteration = 5452\n",
      "\n",
      "Training on fold [0/3]\n",
      "\n",
      "bestTest = 0.04731934567\n",
      "bestIteration = 1198\n",
      "\n",
      "Training on fold [1/3]\n",
      "\n",
      "bestTest = 0.06111385544\n",
      "bestIteration = 610\n",
      "\n",
      "Training on fold [2/3]\n",
      "\n",
      "bestTest = 0.0438650701\n",
      "bestIteration = 1701\n",
      "\n",
      "Number of finished trials: 10\n",
      "Canada Best trial:\n",
      "  Value: 0.011281228279656526\n",
      "Canada  Params: \n",
      "    iterations: 8095\n",
      "    learning_rate: 0.012046953745476315\n",
      "    objective: MAPE\n",
      "    colsample_bylevel: 0.06257653518317376\n",
      "    depth: 6\n",
      "    boosting_type: Plain\n",
      "    bootstrap_type: MVS\n",
      "Training on fold [0/3]\n",
      "\n",
      "bestTest = 0.02894503358\n",
      "bestIteration = 2634\n",
      "\n",
      "Training on fold [1/3]\n",
      "\n",
      "bestTest = 0.01620724063\n",
      "bestIteration = 1363\n",
      "\n",
      "Training on fold [2/3]\n",
      "\n",
      "bestTest = 0.03771629188\n",
      "bestIteration = 2635\n",
      "\n",
      "Training on fold [0/3]\n",
      "\n",
      "bestTest = 0.01465891116\n",
      "bestIteration = 3670\n",
      "\n",
      "Training on fold [1/3]\n",
      "\n",
      "bestTest = 0.01135657138\n",
      "bestIteration = 6575\n",
      "\n",
      "Training on fold [2/3]\n",
      "\n",
      "bestTest = 0.01203702926\n",
      "bestIteration = 1600\n",
      "\n",
      "Training on fold [0/3]\n",
      "\n",
      "bestTest = 0.01579386077\n",
      "bestIteration = 6443\n",
      "\n",
      "Training on fold [1/3]\n",
      "\n",
      "bestTest = 0.01395183185\n",
      "bestIteration = 6438\n",
      "\n",
      "Training on fold [2/3]\n",
      "\n",
      "bestTest = 0.01275829194\n",
      "bestIteration = 2331\n",
      "\n",
      "Training on fold [0/3]\n",
      "\n",
      "bestTest = 0.06447414897\n",
      "bestIteration = 632\n",
      "\n",
      "Training on fold [1/3]\n",
      "\n",
      "bestTest = 0.03106913741\n",
      "bestIteration = 266\n",
      "\n",
      "Training on fold [2/3]\n",
      "\n",
      "bestTest = 0.04169104876\n",
      "bestIteration = 1150\n",
      "\n",
      "Training on fold [0/3]\n",
      "\n",
      "bestTest = 0.01581329119\n",
      "bestIteration = 9636\n",
      "\n",
      "Training on fold [1/3]\n",
      "\n",
      "bestTest = 0.01345621992\n",
      "bestIteration = 9620\n",
      "\n",
      "Training on fold [2/3]\n",
      "\n",
      "bestTest = 0.01187576037\n",
      "bestIteration = 7163\n",
      "\n",
      "Training on fold [0/3]\n",
      "\n",
      "bestTest = 0.01931993622\n",
      "bestIteration = 7892\n",
      "\n",
      "Training on fold [1/3]\n",
      "\n",
      "bestTest = 0.0320205316\n",
      "bestIteration = 842\n",
      "\n",
      "Training on fold [2/3]\n",
      "\n",
      "bestTest = 0.01116879211\n",
      "bestIteration = 3734\n",
      "\n",
      "Number of finished trials: 6\n",
      "Finland Best trial:\n",
      "  Value: 0.012858626429504326\n",
      "Finland  Params: \n",
      "    iterations: 8820\n",
      "    learning_rate: 0.024964817218200104\n",
      "    objective: MAPE\n",
      "    colsample_bylevel: 0.49038515624148005\n",
      "    depth: 2\n",
      "    boosting_type: Plain\n",
      "    bootstrap_type: MVS\n",
      "Training on fold [0/3]\n",
      "\n",
      "bestTest = 0.02905709487\n",
      "bestIteration = 1886\n",
      "\n",
      "Training on fold [1/3]\n",
      "\n",
      "bestTest = 0.01504501554\n",
      "bestIteration = 693\n",
      "\n",
      "Training on fold [2/3]\n",
      "\n",
      "bestTest = 0.01449605407\n",
      "bestIteration = 1754\n",
      "\n",
      "Training on fold [0/3]\n",
      "\n",
      "bestTest = 0.01990244789\n",
      "bestIteration = 2302\n",
      "\n",
      "Training on fold [1/3]\n",
      "\n",
      "bestTest = 0.01506983336\n",
      "bestIteration = 2284\n",
      "\n",
      "Training on fold [2/3]\n",
      "\n",
      "bestTest = 0.01448789283\n",
      "bestIteration = 2302\n",
      "\n",
      "Training on fold [0/3]\n",
      "\n",
      "bestTest = 0.03032377658\n",
      "bestIteration = 992\n",
      "\n",
      "Training on fold [1/3]\n",
      "\n",
      "bestTest = 0.02121954501\n",
      "bestIteration = 452\n",
      "\n",
      "Training on fold [2/3]\n",
      "\n",
      "bestTest = 0.01967864936\n",
      "bestIteration = 1744\n",
      "\n",
      "Training on fold [0/3]\n",
      "\n",
      "bestTest = 0.03079507113\n",
      "bestIteration = 8228\n",
      "\n",
      "Training on fold [1/3]\n",
      "\n",
      "bestTest = 0.03072576809\n",
      "bestIteration = 8228\n",
      "\n",
      "Training on fold [2/3]\n",
      "\n",
      "bestTest = 0.02760803266\n",
      "bestIteration = 8228\n",
      "\n",
      "Training on fold [0/3]\n",
      "\n",
      "bestTest = 0.01496948611\n",
      "bestIteration = 7167\n",
      "\n",
      "Training on fold [1/3]\n",
      "\n",
      "bestTest = 0.01212031118\n",
      "bestIteration = 7146\n",
      "\n",
      "Training on fold [2/3]\n",
      "\n",
      "bestTest = 0.01479420228\n",
      "bestIteration = 2569\n",
      "\n",
      "Training on fold [0/3]\n",
      "\n",
      "bestTest = 0.03494423998\n",
      "bestIteration = 1051\n",
      "\n",
      "Training on fold [1/3]\n",
      "\n",
      "bestTest = 0.01416878761\n",
      "bestIteration = 1051\n",
      "\n",
      "Training on fold [2/3]\n",
      "\n",
      "bestTest = 0.02107307795\n",
      "bestIteration = 1038\n",
      "\n",
      "Training on fold [0/3]\n",
      "\n",
      "bestTest = 0.01665208417\n",
      "bestIteration = 5104\n",
      "\n",
      "Training on fold [1/3]\n",
      "\n",
      "bestTest = 0.0134641992\n",
      "bestIteration = 5100\n",
      "\n",
      "Training on fold [2/3]\n",
      "\n",
      "bestTest = 0.01417024241\n",
      "bestIteration = 5116\n",
      "\n",
      "Training on fold [0/3]\n",
      "\n",
      "bestTest = 0.01849496895\n",
      "bestIteration = 8406\n",
      "\n",
      "Training on fold [1/3]\n",
      "\n",
      "bestTest = 0.01491406593\n",
      "bestIteration = 8413\n",
      "\n",
      "Training on fold [2/3]\n",
      "\n",
      "bestTest = 0.01419341463\n",
      "bestIteration = 8410\n",
      "\n",
      "Training on fold [0/3]\n",
      "\n",
      "bestTest = 0.09858202234\n",
      "bestIteration = 1642\n",
      "\n",
      "Training on fold [1/3]\n",
      "\n",
      "bestTest = 0.09917297948\n",
      "bestIteration = 1656\n",
      "\n",
      "Training on fold [2/3]\n",
      "\n",
      "bestTest = 0.09821775371\n",
      "bestIteration = 1656\n",
      "\n",
      "Training on fold [0/3]\n",
      "\n",
      "bestTest = 0.03414016068\n",
      "bestIteration = 1112\n",
      "\n",
      "Training on fold [1/3]\n",
      "\n",
      "bestTest = 0.02894185485\n",
      "bestIteration = 1112\n",
      "\n",
      "Training on fold [2/3]\n",
      "\n",
      "bestTest = 0.02545063411\n",
      "bestIteration = 1112\n",
      "\n",
      "Training on fold [0/3]\n",
      "\n",
      "bestTest = 0.0133575073\n",
      "bestIteration = 3414\n",
      "\n",
      "Training on fold [1/3]\n",
      "\n",
      "bestTest = 0.01006785374\n",
      "bestIteration = 4875\n",
      "\n",
      "Training on fold [2/3]\n",
      "\n",
      "bestTest = 0.01282315065\n",
      "bestIteration = 1672\n",
      "\n",
      "Training on fold [0/3]\n",
      "\n",
      "bestTest = 0.02279139119\n",
      "bestIteration = 1292\n",
      "\n",
      "Training on fold [1/3]\n",
      "\n",
      "bestTest = 0.01007914517\n",
      "bestIteration = 3344\n",
      "\n",
      "Training on fold [2/3]\n",
      "\n",
      "bestTest = 0.01293335576\n",
      "bestIteration = 1376\n",
      "\n",
      "Training on fold [0/3]\n",
      "\n",
      "bestTest = 0.01498276478\n",
      "bestIteration = 2304\n",
      "\n",
      "Training on fold [1/3]\n",
      "\n",
      "bestTest = 0.01046950951\n",
      "bestIteration = 5928\n",
      "\n",
      "Training on fold [2/3]\n",
      "\n",
      "bestTest = 0.0126970148\n",
      "bestIteration = 1487\n",
      "\n",
      "Training on fold [0/3]\n",
      "\n",
      "bestTest = 0.01519644039\n",
      "bestIteration = 2180\n",
      "\n",
      "Training on fold [1/3]\n",
      "\n",
      "bestTest = 0.01931182281\n",
      "bestIteration = 584\n",
      "\n",
      "Training on fold [2/3]\n",
      "\n",
      "bestTest = 0.01178695516\n",
      "bestIteration = 879\n",
      "\n",
      "Training on fold [0/3]\n",
      "\n",
      "bestTest = 0.04333830371\n",
      "bestIteration = 1642\n",
      "\n",
      "Training on fold [1/3]\n",
      "\n",
      "bestTest = 0.01432381605\n",
      "bestIteration = 1698\n",
      "\n",
      "Training on fold [2/3]\n",
      "\n",
      "bestTest = 0.01186654755\n",
      "bestIteration = 1088\n",
      "\n",
      "Training on fold [0/3]\n",
      "\n",
      "bestTest = 0.01592339817\n",
      "bestIteration = 1489\n",
      "\n",
      "Training on fold [1/3]\n",
      "\n",
      "bestTest = 0.01413592767\n",
      "bestIteration = 4430\n",
      "\n",
      "Training on fold [2/3]\n",
      "\n",
      "bestTest = 0.01197476221\n",
      "bestIteration = 1549\n",
      "\n",
      "Number of finished trials: 16\n",
      "Italy Best trial:\n",
      "  Value: 0.012246237887942412\n",
      "Italy  Params: \n",
      "    iterations: 5851\n",
      "    learning_rate: 0.028014379106439852\n",
      "    objective: MAPE\n",
      "    colsample_bylevel: 0.4785785878172028\n",
      "    depth: 2\n",
      "    boosting_type: Plain\n",
      "    bootstrap_type: MVS\n",
      "Training on fold [0/3]\n",
      "\n",
      "bestTest = 0.0380889969\n",
      "bestIteration = 1969\n",
      "\n",
      "Training on fold [1/3]\n",
      "\n",
      "bestTest = 0.0332544259\n",
      "bestIteration = 3812\n",
      "\n",
      "Training on fold [2/3]\n",
      "\n",
      "bestTest = 0.02614889568\n",
      "bestIteration = 3816\n",
      "\n",
      "Training on fold [0/3]\n",
      "\n",
      "bestTest = 0.03905422842\n",
      "bestIteration = 3597\n",
      "\n",
      "Training on fold [1/3]\n",
      "\n",
      "bestTest = 0.0323408368\n",
      "bestIteration = 3309\n",
      "\n",
      "Training on fold [2/3]\n",
      "\n",
      "bestTest = 0.02511269209\n",
      "bestIteration = 6142\n",
      "\n",
      "Training on fold [0/3]\n",
      "\n",
      "bestTest = 0.03616076949\n",
      "bestIteration = 1698\n",
      "\n",
      "Training on fold [1/3]\n",
      "\n",
      "bestTest = 0.03337422197\n",
      "bestIteration = 1724\n",
      "\n",
      "Training on fold [2/3]\n",
      "\n",
      "bestTest = 0.02692791839\n",
      "bestIteration = 1720\n",
      "\n",
      "Training on fold [0/3]\n",
      "\n",
      "bestTest = 0.0561870568\n",
      "bestIteration = 2128\n",
      "\n",
      "Training on fold [1/3]\n",
      "\n",
      "bestTest = 0.04052470981\n",
      "bestIteration = 2287\n",
      "\n",
      "Training on fold [2/3]\n",
      "\n",
      "bestTest = 0.02835083758\n",
      "bestIteration = 4876\n",
      "\n",
      "Training on fold [0/3]\n",
      "\n",
      "bestTest = 0.04392896062\n",
      "bestIteration = 2658\n",
      "\n",
      "Training on fold [1/3]\n",
      "\n",
      "bestTest = 0.03767745849\n",
      "bestIteration = 2603\n",
      "\n",
      "Training on fold [2/3]\n",
      "\n",
      "bestTest = 0.03131862429\n",
      "bestIteration = 2668\n",
      "\n",
      "Training on fold [0/3]\n",
      "\n",
      "bestTest = 0.09322920394\n",
      "bestIteration = 3462\n",
      "\n",
      "Training on fold [1/3]\n",
      "\n",
      "bestTest = 0.09576860943\n",
      "bestIteration = 3454\n",
      "\n",
      "Training on fold [2/3]\n",
      "\n",
      "bestTest = 0.09311301361\n",
      "bestIteration = 3475\n",
      "\n",
      "Training on fold [0/3]\n",
      "\n",
      "bestTest = 0.05019144485\n",
      "bestIteration = 1402\n",
      "\n",
      "Training on fold [1/3]\n",
      "\n",
      "bestTest = 0.04000252374\n",
      "bestIteration = 2126\n",
      "\n",
      "Training on fold [2/3]\n",
      "\n",
      "bestTest = 0.03040888928\n",
      "bestIteration = 2365\n",
      "\n",
      "Training on fold [0/3]\n",
      "\n",
      "bestTest = 0.03254786179\n",
      "bestIteration = 1523\n",
      "\n",
      "Training on fold [1/3]\n",
      "\n",
      "bestTest = 0.03929646963\n",
      "bestIteration = 791\n",
      "\n",
      "Training on fold [2/3]\n",
      "\n",
      "bestTest = 0.02105564493\n",
      "bestIteration = 4896\n",
      "\n",
      "Training on fold [0/3]\n",
      "\n",
      "bestTest = 0.06618845663\n",
      "bestIteration = 9765\n",
      "\n",
      "Training on fold [1/3]\n",
      "\n",
      "bestTest = 0.06210400448\n",
      "bestIteration = 9767\n",
      "\n",
      "Training on fold [2/3]\n",
      "\n",
      "bestTest = 0.06927994076\n",
      "bestIteration = 9742\n",
      "\n",
      "Training on fold [0/3]\n",
      "\n",
      "bestTest = 0.04176594677\n",
      "bestIteration = 4628\n",
      "\n",
      "Training on fold [1/3]\n",
      "\n",
      "bestTest = 0.04472394027\n",
      "bestIteration = 6691\n",
      "\n",
      "Training on fold [2/3]\n",
      "\n",
      "bestTest = 0.02411493663\n",
      "bestIteration = 4421\n",
      "\n",
      "Number of finished trials: 10\n",
      "Kenya Best trial:\n",
      "  Value: 0.03144713513070262\n",
      "Kenya  Params: \n",
      "    iterations: 8484\n",
      "    learning_rate: 0.028278392372347524\n",
      "    objective: MAPE\n",
      "    colsample_bylevel: 0.40934895596204385\n",
      "    depth: 3\n",
      "    boosting_type: Ordered\n",
      "    bootstrap_type: Bernoulli\n",
      "    subsample: 0.12028894242342357\n",
      "Training on fold [0/3]\n",
      "\n",
      "bestTest = 0.02317990261\n",
      "bestIteration = 4876\n",
      "\n",
      "Training on fold [1/3]\n",
      "\n",
      "bestTest = 0.01214380232\n",
      "bestIteration = 1051\n",
      "\n",
      "Training on fold [2/3]\n",
      "\n",
      "bestTest = 0.01797929325\n",
      "bestIteration = 869\n",
      "\n",
      "Training on fold [0/3]\n",
      "\n",
      "bestTest = 0.03340789261\n",
      "bestIteration = 2500\n",
      "\n",
      "Training on fold [1/3]\n",
      "\n",
      "bestTest = 0.02372896151\n",
      "bestIteration = 1159\n",
      "\n",
      "Training on fold [2/3]\n",
      "\n",
      "bestTest = 0.01455825554\n",
      "bestIteration = 1342\n",
      "\n",
      "Training on fold [0/3]\n",
      "\n",
      "bestTest = 0.05005492425\n",
      "bestIteration = 1683\n",
      "\n",
      "Training on fold [1/3]\n",
      "\n",
      "bestTest = 0.02247190809\n",
      "bestIteration = 658\n",
      "\n",
      "Training on fold [2/3]\n",
      "\n",
      "bestTest = 0.01400519491\n",
      "bestIteration = 540\n",
      "\n",
      "Training on fold [0/3]\n",
      "\n",
      "bestTest = 0.01861952382\n",
      "bestIteration = 2466\n",
      "\n",
      "Training on fold [1/3]\n",
      "\n",
      "bestTest = 0.01316629133\n",
      "bestIteration = 2466\n",
      "\n",
      "Training on fold [2/3]\n",
      "\n",
      "bestTest = 0.01974360741\n",
      "bestIteration = 2460\n",
      "\n",
      "Training on fold [0/3]\n",
      "\n",
      "bestTest = 0.02426472498\n",
      "bestIteration = 1659\n",
      "\n",
      "Training on fold [1/3]\n",
      "\n",
      "bestTest = 0.01622425801\n",
      "bestIteration = 1659\n",
      "\n",
      "Training on fold [2/3]\n",
      "\n",
      "bestTest = 0.01826013035\n",
      "bestIteration = 1658\n",
      "\n",
      "Training on fold [0/3]\n",
      "\n",
      "bestTest = 0.01654196281\n",
      "bestIteration = 5861\n",
      "\n",
      "Training on fold [1/3]\n",
      "\n",
      "bestTest = 0.01285328119\n",
      "bestIteration = 3203\n",
      "\n",
      "Training on fold [2/3]\n",
      "\n",
      "bestTest = 0.01989281985\n",
      "bestIteration = 1101\n",
      "\n",
      "Training on fold [0/3]\n",
      "\n",
      "bestTest = 0.02132007301\n",
      "bestIteration = 4925\n",
      "\n",
      "Training on fold [1/3]\n",
      "\n",
      "bestTest = 0.01324281742\n",
      "bestIteration = 1503\n",
      "\n",
      "Training on fold [2/3]\n",
      "\n",
      "bestTest = 0.01615561812\n",
      "bestIteration = 1918\n",
      "\n",
      "Training on fold [0/3]\n",
      "\n",
      "bestTest = 0.01900639244\n",
      "bestIteration = 1569\n",
      "\n",
      "Training on fold [1/3]\n",
      "\n",
      "bestTest = 0.01541542048\n",
      "bestIteration = 1569\n",
      "\n",
      "Training on fold [2/3]\n",
      "\n",
      "bestTest = 0.01886753509\n",
      "bestIteration = 1569\n",
      "\n",
      "Training on fold [0/3]\n",
      "\n",
      "bestTest = 0.02064771124\n",
      "bestIteration = 5002\n",
      "\n",
      "Training on fold [1/3]\n",
      "\n",
      "bestTest = 0.009500591245\n",
      "bestIteration = 4987\n",
      "\n",
      "Training on fold [2/3]\n",
      "\n",
      "bestTest = 0.01938826063\n",
      "bestIteration = 4940\n",
      "\n",
      "Training on fold [0/3]\n",
      "\n",
      "bestTest = 0.01463730748\n",
      "bestIteration = 5424\n",
      "\n",
      "Training on fold [1/3]\n",
      "\n",
      "bestTest = 0.0137784279\n",
      "bestIteration = 5420\n",
      "\n",
      "Training on fold [2/3]\n",
      "\n",
      "bestTest = 0.02098466632\n",
      "bestIteration = 5245\n",
      "\n",
      "Training on fold [0/3]\n",
      "\n",
      "bestTest = 0.02072245097\n",
      "bestIteration = 2523\n",
      "\n",
      "Training on fold [1/3]\n",
      "\n",
      "bestTest = 0.01864507813\n",
      "bestIteration = 970\n",
      "\n",
      "Training on fold [2/3]\n",
      "\n",
      "bestTest = 0.01840476668\n",
      "bestIteration = 630\n",
      "\n",
      "Training on fold [0/3]\n",
      "\n",
      "bestTest = 0.0187984841\n",
      "bestIteration = 4982\n",
      "\n",
      "Training on fold [1/3]\n",
      "\n",
      "bestTest = 0.01800597969\n",
      "bestIteration = 4981\n",
      "\n",
      "Training on fold [2/3]\n",
      "\n",
      "bestTest = 0.02352057794\n",
      "bestIteration = 4980\n",
      "\n",
      "Training on fold [0/3]\n",
      "\n",
      "bestTest = 0.01857669242\n",
      "bestIteration = 6351\n",
      "\n",
      "Training on fold [1/3]\n",
      "\n",
      "bestTest = 0.0177378625\n",
      "bestIteration = 6324\n",
      "\n",
      "Training on fold [2/3]\n",
      "\n",
      "bestTest = 0.02270763972\n",
      "bestIteration = 6356\n",
      "\n",
      "Training on fold [0/3]\n",
      "\n",
      "bestTest = 0.01346182785\n",
      "bestIteration = 4178\n",
      "\n",
      "Training on fold [1/3]\n",
      "\n",
      "bestTest = 0.01217078389\n",
      "bestIteration = 4176\n",
      "\n",
      "Training on fold [2/3]\n",
      "\n",
      "bestTest = 0.02115631563\n",
      "bestIteration = 4177\n",
      "\n",
      "Training on fold [0/3]\n",
      "\n",
      "bestTest = 0.01290887184\n",
      "bestIteration = 3590\n",
      "\n",
      "Training on fold [1/3]\n",
      "\n",
      "bestTest = 0.01233515167\n",
      "bestIteration = 3583\n",
      "\n",
      "Training on fold [2/3]\n",
      "\n",
      "bestTest = 0.01889564602\n",
      "bestIteration = 3591\n",
      "\n",
      "Number of finished trials: 15\n",
      "Norway Best trial:\n",
      "  Value: 0.01471328218961023\n",
      "Norway  Params: \n",
      "    iterations: 3592\n",
      "    learning_rate: 0.021265656471484876\n",
      "    objective: MAPE\n",
      "    colsample_bylevel: 0.04053524344529136\n",
      "    depth: 3\n",
      "    boosting_type: Ordered\n",
      "    bootstrap_type: MVS\n",
      "Training on fold [0/3]\n",
      "\n",
      "bestTest = 0.01201512045\n",
      "bestIteration = 8172\n",
      "\n",
      "Training on fold [1/3]\n",
      "\n",
      "bestTest = 0.009500992038\n",
      "bestIteration = 8441\n",
      "\n",
      "Training on fold [2/3]\n",
      "\n",
      "bestTest = 0.0100121766\n",
      "bestIteration = 5712\n",
      "\n",
      "Training on fold [0/3]\n",
      "\n",
      "bestTest = 0.04020290131\n",
      "bestIteration = 1885\n",
      "\n",
      "Training on fold [1/3]\n",
      "\n",
      "bestTest = 0.03706794898\n",
      "bestIteration = 1888\n",
      "\n",
      "Training on fold [2/3]\n",
      "\n",
      "bestTest = 0.03421885538\n",
      "bestIteration = 1890\n",
      "\n",
      "Training on fold [0/3]\n",
      "\n",
      "bestTest = 0.02935864744\n",
      "bestIteration = 6250\n",
      "\n",
      "Training on fold [1/3]\n",
      "\n",
      "bestTest = 0.02719752568\n",
      "bestIteration = 6213\n",
      "\n",
      "Training on fold [2/3]\n",
      "\n",
      "bestTest = 0.02616528938\n",
      "bestIteration = 6251\n",
      "\n",
      "Training on fold [0/3]\n",
      "\n",
      "bestTest = 0.02100904255\n",
      "bestIteration = 9824\n",
      "\n",
      "Training on fold [1/3]\n",
      "\n",
      "bestTest = 0.01128229822\n",
      "bestIteration = 4286\n",
      "\n",
      "Training on fold [2/3]\n",
      "\n",
      "bestTest = 0.0101503991\n",
      "bestIteration = 9739\n",
      "\n",
      "Training on fold [0/3]\n",
      "\n",
      "bestTest = 0.03005950065\n",
      "bestIteration = 2958\n",
      "\n",
      "Training on fold [1/3]\n",
      "\n",
      "bestTest = 0.01464170012\n",
      "bestIteration = 2953\n",
      "\n",
      "Training on fold [2/3]\n",
      "\n",
      "bestTest = 0.0150764477\n",
      "bestIteration = 2952\n",
      "\n",
      "Training on fold [0/3]\n",
      "\n",
      "bestTest = 0.01257827124\n",
      "bestIteration = 6998\n",
      "\n",
      "Training on fold [1/3]\n",
      "\n",
      "bestTest = 0.01240255084\n",
      "bestIteration = 7000\n",
      "\n",
      "Training on fold [2/3]\n",
      "\n",
      "bestTest = 0.01196374911\n",
      "bestIteration = 6737\n",
      "\n",
      "Training on fold [0/3]\n",
      "\n",
      "bestTest = 0.02160709243\n",
      "bestIteration = 1694\n",
      "\n",
      "Training on fold [1/3]\n",
      "\n",
      "bestTest = 0.02238913714\n",
      "bestIteration = 1688\n",
      "\n",
      "Training on fold [2/3]\n",
      "\n",
      "bestTest = 0.01984794287\n",
      "bestIteration = 1694\n",
      "\n",
      "Training on fold [0/3]\n",
      "\n",
      "bestTest = 0.05584666709\n",
      "bestIteration = 3056\n",
      "\n",
      "Training on fold [1/3]\n",
      "\n",
      "bestTest = 0.05677603663\n",
      "bestIteration = 3057\n",
      "\n",
      "Training on fold [2/3]\n",
      "\n",
      "bestTest = 0.05160726556\n",
      "bestIteration = 3049\n",
      "\n",
      "Training on fold [0/3]\n",
      "\n",
      "bestTest = 0.03831569834\n",
      "bestIteration = 3480\n",
      "\n",
      "Training on fold [1/3]\n",
      "\n",
      "bestTest = 0.02066779792\n",
      "bestIteration = 3181\n",
      "\n",
      "Training on fold [2/3]\n",
      "\n",
      "bestTest = 0.01480901282\n",
      "bestIteration = 3480\n",
      "\n",
      "Training on fold [0/3]\n",
      "\n",
      "bestTest = 0.01060113424\n",
      "bestIteration = 6275\n",
      "\n",
      "Training on fold [1/3]\n",
      "\n",
      "bestTest = 0.01104484474\n",
      "bestIteration = 6301\n",
      "\n",
      "Training on fold [2/3]\n",
      "\n",
      "bestTest = 0.01011555499\n",
      "bestIteration = 5192\n",
      "\n",
      "Number of finished trials: 10\n",
      "Singapore Best trial:\n",
      "  Value: 0.010531157014937759\n",
      "Singapore  Params: \n",
      "    iterations: 8677\n",
      "    learning_rate: 0.01706818781143934\n",
      "    objective: MAPE\n",
      "    colsample_bylevel: 0.22398451266344\n",
      "    depth: 2\n",
      "    boosting_type: Plain\n",
      "    bootstrap_type: MVS\n"
     ]
    }
   ],
   "source": [
    "from functools import partial \n",
    "\n",
    "country_best_params={}\n",
    "for c in countrylist:\n",
    "    objective = partial(objective, country = c)\n",
    "    \n",
    "    optuna.logging.set_verbosity(optuna.logging.CRITICAL)\n",
    "    study = optuna.create_study(\n",
    "        #pruner=optuna.pruners.MedianPruner(n_warmup_steps=5), \n",
    "        direction=\"minimize\",\n",
    "    )\n",
    "    study.optimize(objective, n_trials=100, timeout=600)\n",
    "    \n",
    "    print(\"Number of finished trials: {}\".format(len(study.trials)))\n",
    "    \n",
    "    print(f'{c} Best trial:')\n",
    "    trial = study.best_trial\n",
    "    \n",
    "    print(\"  Value: {}\".format(trial.value))\n",
    "    \n",
    "    print(f\"{c}  Params: \")\n",
    "    country_best_params[c]=trial.params.copy()\n",
    "    for key, value in trial.params.items():\n",
    "        print(\"    {}: {}\".format(key, value))\n",
    "        "
   ]
  },
  {
   "cell_type": "code",
   "execution_count": 60,
   "id": "2dda593c",
   "metadata": {
    "execution": {
     "iopub.execute_input": "2025-01-31T15:31:47.012605Z",
     "iopub.status.busy": "2025-01-31T15:31:47.012235Z",
     "iopub.status.idle": "2025-01-31T15:31:47.016340Z",
     "shell.execute_reply": "2025-01-31T15:31:47.015157Z"
    },
    "papermill": {
     "duration": 0.040384,
     "end_time": "2025-01-31T15:31:47.018104",
     "exception": false,
     "start_time": "2025-01-31T15:31:46.977720",
     "status": "completed"
    },
    "tags": []
   },
   "outputs": [],
   "source": [
    "#print(study.best_params)"
   ]
  },
  {
   "cell_type": "code",
   "execution_count": 61,
   "id": "8322c08f",
   "metadata": {
    "execution": {
     "iopub.execute_input": "2025-01-31T15:31:47.086993Z",
     "iopub.status.busy": "2025-01-31T15:31:47.086627Z",
     "iopub.status.idle": "2025-01-31T15:31:47.090778Z",
     "shell.execute_reply": "2025-01-31T15:31:47.089677Z"
    },
    "papermill": {
     "duration": 0.040512,
     "end_time": "2025-01-31T15:31:47.092603",
     "exception": false,
     "start_time": "2025-01-31T15:31:47.052091",
     "status": "completed"
    },
    "tags": []
   },
   "outputs": [],
   "source": [
    "# from catboost import Pool,cv\n",
    "# cats=df_train.select_dtypes('category').columns\n",
    "# features=df_train.drop(['id','num_sold','date'],axis=1).columns\n",
    "# train_pool = Pool(data=df_train.drop(['id','num_sold','date'],axis=1),\n",
    "#              label=df_train['num_sold'],\n",
    "#              cat_features=cats.to_list())"
   ]
  },
  {
   "cell_type": "code",
   "execution_count": 62,
   "id": "f01aa7ab",
   "metadata": {
    "execution": {
     "iopub.execute_input": "2025-01-31T15:31:47.161797Z",
     "iopub.status.busy": "2025-01-31T15:31:47.161447Z",
     "iopub.status.idle": "2025-01-31T15:31:47.165646Z",
     "shell.execute_reply": "2025-01-31T15:31:47.164563Z"
    },
    "papermill": {
     "duration": 0.040892,
     "end_time": "2025-01-31T15:31:47.167497",
     "exception": false,
     "start_time": "2025-01-31T15:31:47.126605",
     "status": "completed"
    },
    "tags": []
   },
   "outputs": [],
   "source": [
    "# from catboost import Pool,cv\n",
    "\n",
    "#              #feature_names=features)\n",
    "\n",
    "\n",
    "# # params = {\"iterations\": 1000,\n",
    "# #           \"depth\": 4,\n",
    "# #           \"loss_function\": \"MAPE\",\n",
    "# #           \"verbose\": False}\n",
    "\n",
    "# scores = cv(train_pool,\n",
    "#             study.best_params,\n",
    "#            fold_count=5,\n",
    "#             verbose=0,\n",
    "#            )\n",
    "\n",
    "# print(scores)"
   ]
  },
  {
   "cell_type": "code",
   "execution_count": 63,
   "id": "e6e419be",
   "metadata": {
    "execution": {
     "iopub.execute_input": "2025-01-31T15:31:47.237106Z",
     "iopub.status.busy": "2025-01-31T15:31:47.236721Z",
     "iopub.status.idle": "2025-01-31T15:31:47.240938Z",
     "shell.execute_reply": "2025-01-31T15:31:47.239783Z"
    },
    "papermill": {
     "duration": 0.041525,
     "end_time": "2025-01-31T15:31:47.242750",
     "exception": false,
     "start_time": "2025-01-31T15:31:47.201225",
     "status": "completed"
    },
    "tags": []
   },
   "outputs": [],
   "source": [
    "#print(scores)"
   ]
  },
  {
   "cell_type": "code",
   "execution_count": 64,
   "id": "b2981a84",
   "metadata": {
    "execution": {
     "iopub.execute_input": "2025-01-31T15:31:47.310954Z",
     "iopub.status.busy": "2025-01-31T15:31:47.310575Z",
     "iopub.status.idle": "2025-01-31T15:31:47.314565Z",
     "shell.execute_reply": "2025-01-31T15:31:47.313593Z"
    },
    "papermill": {
     "duration": 0.039975,
     "end_time": "2025-01-31T15:31:47.316257",
     "exception": false,
     "start_time": "2025-01-31T15:31:47.276282",
     "status": "completed"
    },
    "tags": []
   },
   "outputs": [],
   "source": [
    "#hyperdict=optuna.importance.get_param_importances(study)"
   ]
  },
  {
   "cell_type": "code",
   "execution_count": 65,
   "id": "2f650157",
   "metadata": {
    "execution": {
     "iopub.execute_input": "2025-01-31T15:31:47.385362Z",
     "iopub.status.busy": "2025-01-31T15:31:47.384949Z",
     "iopub.status.idle": "2025-01-31T15:31:47.389255Z",
     "shell.execute_reply": "2025-01-31T15:31:47.388135Z"
    },
    "papermill": {
     "duration": 0.040511,
     "end_time": "2025-01-31T15:31:47.391037",
     "exception": false,
     "start_time": "2025-01-31T15:31:47.350526",
     "status": "completed"
    },
    "tags": []
   },
   "outputs": [],
   "source": [
    "#print(hyperdict)"
   ]
  },
  {
   "cell_type": "code",
   "execution_count": 66,
   "id": "8e204912",
   "metadata": {
    "execution": {
     "iopub.execute_input": "2025-01-31T15:31:47.464666Z",
     "iopub.status.busy": "2025-01-31T15:31:47.464304Z",
     "iopub.status.idle": "2025-01-31T15:31:47.471785Z",
     "shell.execute_reply": "2025-01-31T15:31:47.470779Z"
    },
    "papermill": {
     "duration": 0.047876,
     "end_time": "2025-01-31T15:31:47.473586",
     "exception": false,
     "start_time": "2025-01-31T15:31:47.425710",
     "status": "completed"
    },
    "tags": []
   },
   "outputs": [
    {
     "name": "stdout",
     "output_type": "stream",
     "text": [
      "Canada\n",
      "{'iterations': 8095, 'learning_rate': 0.012046953745476315, 'objective': 'MAPE', 'colsample_bylevel': 0.06257653518317376, 'depth': 6, 'boosting_type': 'Plain', 'bootstrap_type': 'MVS'}\n",
      "Finland\n",
      "{'iterations': 8820, 'learning_rate': 0.024964817218200104, 'objective': 'MAPE', 'colsample_bylevel': 0.49038515624148005, 'depth': 2, 'boosting_type': 'Plain', 'bootstrap_type': 'MVS'}\n",
      "Italy\n",
      "{'iterations': 5851, 'learning_rate': 0.028014379106439852, 'objective': 'MAPE', 'colsample_bylevel': 0.4785785878172028, 'depth': 2, 'boosting_type': 'Plain', 'bootstrap_type': 'MVS'}\n",
      "Kenya\n",
      "{'iterations': 8484, 'learning_rate': 0.028278392372347524, 'objective': 'MAPE', 'colsample_bylevel': 0.40934895596204385, 'depth': 3, 'boosting_type': 'Ordered', 'bootstrap_type': 'Bernoulli', 'subsample': 0.12028894242342357}\n",
      "Norway\n",
      "{'iterations': 3592, 'learning_rate': 0.021265656471484876, 'objective': 'MAPE', 'colsample_bylevel': 0.04053524344529136, 'depth': 3, 'boosting_type': 'Ordered', 'bootstrap_type': 'MVS'}\n",
      "Singapore\n",
      "{'iterations': 8677, 'learning_rate': 0.01706818781143934, 'objective': 'MAPE', 'colsample_bylevel': 0.22398451266344, 'depth': 2, 'boosting_type': 'Plain', 'bootstrap_type': 'MVS'}\n"
     ]
    }
   ],
   "source": [
    "for p,v in country_best_params.items():\n",
    "    print(p)\n",
    "    print(v)"
   ]
  },
  {
   "cell_type": "code",
   "execution_count": 67,
   "id": "3f9503e5",
   "metadata": {
    "execution": {
     "iopub.execute_input": "2025-01-31T15:31:47.550721Z",
     "iopub.status.busy": "2025-01-31T15:31:47.550373Z",
     "iopub.status.idle": "2025-01-31T15:31:47.556212Z",
     "shell.execute_reply": "2025-01-31T15:31:47.554677Z"
    },
    "papermill": {
     "duration": 0.050286,
     "end_time": "2025-01-31T15:31:47.558743",
     "exception": false,
     "start_time": "2025-01-31T15:31:47.508457",
     "status": "completed"
    },
    "tags": []
   },
   "outputs": [],
   "source": [
    "#Execute this cell in case of loading fitted model to do prediction\n",
    "country_model={}\n",
    "def LoadModel():\n",
    "    Path='/kaggle/input/cbfitmodels'\n",
    "    countrylist=['Canada','Finland','Italy','Kenya','Norway','Singapore']\n",
    "    for c in countrylist:\n",
    "        country_model[c]=cb.CatBoostRegressor().load_model(f'{Path}/cbfit_{c}')\n"
   ]
  },
  {
   "cell_type": "code",
   "execution_count": 68,
   "id": "ffff0eb1",
   "metadata": {
    "execution": {
     "iopub.execute_input": "2025-01-31T15:31:47.647578Z",
     "iopub.status.busy": "2025-01-31T15:31:47.647198Z",
     "iopub.status.idle": "2025-01-31T15:31:47.651227Z",
     "shell.execute_reply": "2025-01-31T15:31:47.650224Z"
    },
    "papermill": {
     "duration": 0.044703,
     "end_time": "2025-01-31T15:31:47.652804",
     "exception": false,
     "start_time": "2025-01-31T15:31:47.608101",
     "status": "completed"
    },
    "tags": []
   },
   "outputs": [],
   "source": [
    "#Use when using model without training\n",
    "#LoadModel()"
   ]
  },
  {
   "cell_type": "code",
   "execution_count": 69,
   "id": "35bbfd91",
   "metadata": {
    "execution": {
     "iopub.execute_input": "2025-01-31T15:31:47.721611Z",
     "iopub.status.busy": "2025-01-31T15:31:47.721272Z",
     "iopub.status.idle": "2025-01-31T15:31:47.725210Z",
     "shell.execute_reply": "2025-01-31T15:31:47.724145Z"
    },
    "papermill": {
     "duration": 0.039981,
     "end_time": "2025-01-31T15:31:47.726713",
     "exception": false,
     "start_time": "2025-01-31T15:31:47.686732",
     "status": "completed"
    },
    "tags": []
   },
   "outputs": [],
   "source": [
    "# country_best_params={}\n",
    "# country_best_params['Canada']={'iterations': 3593, 'learning_rate': 0.012827192029471704, 'objective': 'MAPE', 'colsample_bylevel': 0.09122674054287529, 'depth': 3, 'boosting_type': 'Ordered', 'bootstrap_type': 'Bernoulli', 'subsample': 0.3698567303900272}\n",
    "# country_best_params['Finland']={'iterations': 4674, 'learning_rate': 0.021005624891915504, 'objective': 'MAPE', 'colsample_bylevel': 0.5784183002099044, 'depth': 2, 'boosting_type': 'Ordered', 'bootstrap_type': 'Bayesian', 'bagging_temperature': 5.782146139508431}\n",
    "# country_best_params['Italy']={'iterations': 1398, 'learning_rate': 0.0251234589892742, 'objective': 'MAPE', 'colsample_bylevel': 0.049188944104342755, 'depth': 7, 'boosting_type': 'Plain', 'bootstrap_type': 'MVS'}\n",
    "# country_best_params['Kenya']={'iterations': 3924, 'learning_rate': 0.016615674668667934, 'objective': 'MAPE', 'colsample_bylevel': 0.4274609331782009, 'depth': 2, 'boosting_type': 'Ordered', 'bootstrap_type': 'Bayesian', 'bagging_temperature': 6.2645325168308865}\n",
    "# country_best_params['Norway']={'iterations': 3851, 'learning_rate': 0.019929523358906295, 'objective': 'MAPE', 'colsample_bylevel': 0.07338903404462888, 'depth': 2, 'boosting_type': 'Ordered', 'bootstrap_type': 'MVS'}\n",
    "# country_best_params['Singapore']={'iterations': 1094, 'learning_rate': 0.02694754587058969, 'objective': 'MAPE', 'colsample_bylevel': 0.554849569101183, 'depth': 3, 'boosting_type': 'Plain', 'bootstrap_type': 'MVS'}"
   ]
  },
  {
   "cell_type": "code",
   "execution_count": 70,
   "id": "a3460330",
   "metadata": {
    "execution": {
     "iopub.execute_input": "2025-01-31T15:31:47.796248Z",
     "iopub.status.busy": "2025-01-31T15:31:47.795839Z",
     "iopub.status.idle": "2025-01-31T15:36:31.018617Z",
     "shell.execute_reply": "2025-01-31T15:36:31.017154Z"
    },
    "papermill": {
     "duration": 283.292289,
     "end_time": "2025-01-31T15:36:31.052989",
     "exception": false,
     "start_time": "2025-01-31T15:31:47.760700",
     "status": "completed"
    },
    "tags": []
   },
   "outputs": [
    {
     "name": "stdout",
     "output_type": "stream",
     "text": [
      "Canada {'learn': {'MAPE': 0.0069558398293019475}, 'validation': {'MAPE': 0.011632192163674344}}\n",
      "Canada         Feature Id  Importances\n",
      "0          product    38.986167\n",
      "1            store    24.043843\n",
      "2   previous_visit    16.587214\n",
      "3      Day_of_week     3.289567\n",
      "4            Month     3.203185\n",
      "5             date     2.352680\n",
      "6       is_weekend     1.954509\n",
      "7              Day     1.924315\n",
      "8      Week_Spline     1.179266\n",
      "9         cos_year     1.173432\n",
      "10        sin_year     1.067386\n",
      "11     consec_days     1.001653\n",
      "12      is_holiday     0.984699\n",
      "13       cos_month     0.917477\n",
      "14  Quarter_Spline     0.840486\n",
      "15       sin_month     0.494121\n",
      "Finland {'learn': {'MAPE': 0.0076473618643971}, 'validation': {'MAPE': 0.00961687786097859}}\n",
      "Finland         Feature Id  Importances\n",
      "0          product    45.198590\n",
      "1            store    25.706713\n",
      "2   previous_visit    24.027560\n",
      "3         sin_year     1.445280\n",
      "4      Day_of_week     0.754177\n",
      "5         cos_year     0.707044\n",
      "6            Month     0.590088\n",
      "7      consec_days     0.498307\n",
      "8             date     0.485078\n",
      "9       is_weekend     0.439069\n",
      "10     Week_Spline     0.098179\n",
      "11  Quarter_Spline     0.039974\n",
      "12             Day     0.003708\n",
      "13      is_holiday     0.003581\n",
      "14       sin_month     0.002287\n",
      "15       cos_month     0.000366\n",
      "Italy {'learn': {'MAPE': 0.008054360823606428}, 'validation': {'MAPE': 0.008906362212670119}}\n",
      "Italy         Feature Id  Importances\n",
      "0          product    43.652466\n",
      "1   previous_visit    25.621913\n",
      "2            store    25.503871\n",
      "3      Day_of_week     1.673107\n",
      "4      consec_days     0.880378\n",
      "5            Month     0.766057\n",
      "6         cos_year     0.608569\n",
      "7             date     0.570544\n",
      "8       is_weekend     0.353403\n",
      "9         sin_year     0.223550\n",
      "10     Week_Spline     0.088010\n",
      "11  Quarter_Spline     0.041070\n",
      "12             Day     0.010901\n",
      "13       sin_month     0.003214\n",
      "14       cos_month     0.002018\n",
      "15      is_holiday     0.000929\n",
      "Kenya {'learn': {'MAPE': 0.018121486958675624}, 'validation': {'MAPE': 0.02638366742354377}}\n",
      "Kenya         Feature Id  Importances\n",
      "0          product    40.392174\n",
      "1            store    32.562220\n",
      "2   previous_visit    13.768534\n",
      "3      consec_days     3.357480\n",
      "4             date     3.266564\n",
      "5       is_weekend     1.884825\n",
      "6      Day_of_week     1.228183\n",
      "7            Month     1.138235\n",
      "8         cos_year     0.838880\n",
      "9         sin_year     0.748580\n",
      "10  Quarter_Spline     0.332654\n",
      "11     Week_Spline     0.314507\n",
      "12             Day     0.098774\n",
      "13       cos_month     0.034938\n",
      "14       sin_month     0.028026\n",
      "15      is_holiday     0.005428\n",
      "Norway {'learn': {'MAPE': 0.010371996702658499}, 'validation': {'MAPE': 0.013813631677673383}}\n",
      "Norway         Feature Id  Importances\n",
      "0          product    41.820861\n",
      "1   previous_visit    28.477705\n",
      "2            store    19.732523\n",
      "3      Week_Spline     1.744349\n",
      "4      consec_days     1.173425\n",
      "5             date     0.962773\n",
      "6         cos_year     0.917244\n",
      "7            Month     0.914227\n",
      "8      Day_of_week     0.795290\n",
      "9         sin_year     0.784588\n",
      "10      is_holiday     0.766636\n",
      "11       sin_month     0.551406\n",
      "12      is_weekend     0.544842\n",
      "13             Day     0.346018\n",
      "14  Quarter_Spline     0.283749\n",
      "15       cos_month     0.184364\n",
      "Singapore {'learn': {'MAPE': 0.00811220833296724}, 'validation': {'MAPE': 0.008727418101398538}}\n",
      "Singapore         Feature Id  Importances\n",
      "0          product    40.395666\n",
      "1   previous_visit    27.329996\n",
      "2            store    23.355592\n",
      "3      Day_of_week     1.756008\n",
      "4      consec_days     1.698287\n",
      "5       is_weekend     1.410555\n",
      "6             date     1.200855\n",
      "7         cos_year     0.717887\n",
      "8       is_holiday     0.473435\n",
      "9            Month     0.465653\n",
      "10        sin_year     0.465435\n",
      "11     Week_Spline     0.304378\n",
      "12       sin_month     0.199251\n",
      "13  Quarter_Spline     0.175792\n",
      "14             Day     0.045890\n",
      "15       cos_month     0.005319\n"
     ]
    }
   ],
   "source": [
    "#Train model with best param and iteration>1000 before prediction\n",
    "country_model={}\n",
    "for c in countrylist:\n",
    "    country_model[c]=cb.CatBoostRegressor(**country_best_params[c],verbose=0)\n",
    "    country_model[c].fit(country_train_pool[c],eval_set=country_valid_pool[c])\n",
    "    country_model[c].save_model(f'cbfit_{c}')\n",
    "    print(f'{c} {country_model[c].get_best_score()}')\n",
    "    print(f'{c} {country_model[c].get_feature_importance(prettified=True)}')"
   ]
  },
  {
   "cell_type": "code",
   "execution_count": 71,
   "id": "35801917",
   "metadata": {
    "execution": {
     "iopub.execute_input": "2025-01-31T15:36:31.123950Z",
     "iopub.status.busy": "2025-01-31T15:36:31.123604Z",
     "iopub.status.idle": "2025-01-31T15:36:31.129562Z",
     "shell.execute_reply": "2025-01-31T15:36:31.128718Z"
    },
    "papermill": {
     "duration": 0.0427,
     "end_time": "2025-01-31T15:36:31.131133",
     "exception": false,
     "start_time": "2025-01-31T15:36:31.088433",
     "status": "completed"
    },
    "tags": []
   },
   "outputs": [
    {
     "data": {
      "text/plain": [
       "{'Canada': <catboost.core.CatBoostRegressor at 0x7f1a963ccbe0>,\n",
       " 'Finland': <catboost.core.CatBoostRegressor at 0x7f1a963cd780>,\n",
       " 'Italy': <catboost.core.CatBoostRegressor at 0x7f1a9da3b040>,\n",
       " 'Kenya': <catboost.core.CatBoostRegressor at 0x7f1a963cd270>,\n",
       " 'Norway': <catboost.core.CatBoostRegressor at 0x7f1a9da3a530>,\n",
       " 'Singapore': <catboost.core.CatBoostRegressor at 0x7f1a963ce920>}"
      ]
     },
     "execution_count": 71,
     "metadata": {},
     "output_type": "execute_result"
    }
   ],
   "source": [
    "country_model"
   ]
  },
  {
   "cell_type": "code",
   "execution_count": 72,
   "id": "24e1332c",
   "metadata": {
    "execution": {
     "iopub.execute_input": "2025-01-31T15:36:31.201197Z",
     "iopub.status.busy": "2025-01-31T15:36:31.200798Z",
     "iopub.status.idle": "2025-01-31T15:36:35.290335Z",
     "shell.execute_reply": "2025-01-31T15:36:35.288884Z"
    },
    "papermill": {
     "duration": 4.128584,
     "end_time": "2025-01-31T15:36:35.293889",
     "exception": false,
     "start_time": "2025-01-31T15:36:31.165305",
     "status": "completed"
    },
    "tags": []
   },
   "outputs": [
    {
     "name": "stderr",
     "output_type": "stream",
     "text": [
      "<ipython-input-72-b533e4724463>:7: SettingWithCopyWarning: \n",
      "A value is trying to be set on a copy of a slice from a DataFrame.\n",
      "Try using .loc[row_indexer,col_indexer] = value instead\n",
      "\n",
      "See the caveats in the documentation: https://pandas.pydata.org/pandas-docs/stable/user_guide/indexing.html#returning-a-view-versus-a-copy\n",
      "  df['num_sold']=country_predicts[c]\n",
      "<ipython-input-72-b533e4724463>:9: SettingWithCopyWarning: \n",
      "A value is trying to be set on a copy of a slice from a DataFrame.\n",
      "Try using .loc[row_indexer,col_indexer] = value instead\n",
      "\n",
      "See the caveats in the documentation: https://pandas.pydata.org/pandas-docs/stable/user_guide/indexing.html#returning-a-view-versus-a-copy\n",
      "  df['rolling_mean'] = df['num_sold'].rolling(window=30).mean()\n",
      "<ipython-input-72-b533e4724463>:10: SettingWithCopyWarning: \n",
      "A value is trying to be set on a copy of a slice from a DataFrame.\n",
      "Try using .loc[row_indexer,col_indexer] = value instead\n",
      "\n",
      "See the caveats in the documentation: https://pandas.pydata.org/pandas-docs/stable/user_guide/indexing.html#returning-a-view-versus-a-copy\n",
      "  df['rolling_std'] = df['num_sold'].rolling(window=30).std()\n",
      "<ipython-input-72-b533e4724463>:7: SettingWithCopyWarning: \n",
      "A value is trying to be set on a copy of a slice from a DataFrame.\n",
      "Try using .loc[row_indexer,col_indexer] = value instead\n",
      "\n",
      "See the caveats in the documentation: https://pandas.pydata.org/pandas-docs/stable/user_guide/indexing.html#returning-a-view-versus-a-copy\n",
      "  df['num_sold']=country_predicts[c]\n",
      "<ipython-input-72-b533e4724463>:9: SettingWithCopyWarning: \n",
      "A value is trying to be set on a copy of a slice from a DataFrame.\n",
      "Try using .loc[row_indexer,col_indexer] = value instead\n",
      "\n",
      "See the caveats in the documentation: https://pandas.pydata.org/pandas-docs/stable/user_guide/indexing.html#returning-a-view-versus-a-copy\n",
      "  df['rolling_mean'] = df['num_sold'].rolling(window=30).mean()\n",
      "<ipython-input-72-b533e4724463>:10: SettingWithCopyWarning: \n",
      "A value is trying to be set on a copy of a slice from a DataFrame.\n",
      "Try using .loc[row_indexer,col_indexer] = value instead\n",
      "\n",
      "See the caveats in the documentation: https://pandas.pydata.org/pandas-docs/stable/user_guide/indexing.html#returning-a-view-versus-a-copy\n",
      "  df['rolling_std'] = df['num_sold'].rolling(window=30).std()\n",
      "<ipython-input-72-b533e4724463>:7: SettingWithCopyWarning: \n",
      "A value is trying to be set on a copy of a slice from a DataFrame.\n",
      "Try using .loc[row_indexer,col_indexer] = value instead\n",
      "\n",
      "See the caveats in the documentation: https://pandas.pydata.org/pandas-docs/stable/user_guide/indexing.html#returning-a-view-versus-a-copy\n",
      "  df['num_sold']=country_predicts[c]\n",
      "<ipython-input-72-b533e4724463>:9: SettingWithCopyWarning: \n",
      "A value is trying to be set on a copy of a slice from a DataFrame.\n",
      "Try using .loc[row_indexer,col_indexer] = value instead\n",
      "\n",
      "See the caveats in the documentation: https://pandas.pydata.org/pandas-docs/stable/user_guide/indexing.html#returning-a-view-versus-a-copy\n",
      "  df['rolling_mean'] = df['num_sold'].rolling(window=30).mean()\n",
      "<ipython-input-72-b533e4724463>:10: SettingWithCopyWarning: \n",
      "A value is trying to be set on a copy of a slice from a DataFrame.\n",
      "Try using .loc[row_indexer,col_indexer] = value instead\n",
      "\n",
      "See the caveats in the documentation: https://pandas.pydata.org/pandas-docs/stable/user_guide/indexing.html#returning-a-view-versus-a-copy\n",
      "  df['rolling_std'] = df['num_sold'].rolling(window=30).std()\n",
      "<ipython-input-72-b533e4724463>:7: SettingWithCopyWarning: \n",
      "A value is trying to be set on a copy of a slice from a DataFrame.\n",
      "Try using .loc[row_indexer,col_indexer] = value instead\n",
      "\n",
      "See the caveats in the documentation: https://pandas.pydata.org/pandas-docs/stable/user_guide/indexing.html#returning-a-view-versus-a-copy\n",
      "  df['num_sold']=country_predicts[c]\n",
      "<ipython-input-72-b533e4724463>:9: SettingWithCopyWarning: \n",
      "A value is trying to be set on a copy of a slice from a DataFrame.\n",
      "Try using .loc[row_indexer,col_indexer] = value instead\n",
      "\n",
      "See the caveats in the documentation: https://pandas.pydata.org/pandas-docs/stable/user_guide/indexing.html#returning-a-view-versus-a-copy\n",
      "  df['rolling_mean'] = df['num_sold'].rolling(window=30).mean()\n",
      "<ipython-input-72-b533e4724463>:10: SettingWithCopyWarning: \n",
      "A value is trying to be set on a copy of a slice from a DataFrame.\n",
      "Try using .loc[row_indexer,col_indexer] = value instead\n",
      "\n",
      "See the caveats in the documentation: https://pandas.pydata.org/pandas-docs/stable/user_guide/indexing.html#returning-a-view-versus-a-copy\n",
      "  df['rolling_std'] = df['num_sold'].rolling(window=30).std()\n",
      "<ipython-input-72-b533e4724463>:7: SettingWithCopyWarning: \n",
      "A value is trying to be set on a copy of a slice from a DataFrame.\n",
      "Try using .loc[row_indexer,col_indexer] = value instead\n",
      "\n",
      "See the caveats in the documentation: https://pandas.pydata.org/pandas-docs/stable/user_guide/indexing.html#returning-a-view-versus-a-copy\n",
      "  df['num_sold']=country_predicts[c]\n",
      "<ipython-input-72-b533e4724463>:9: SettingWithCopyWarning: \n",
      "A value is trying to be set on a copy of a slice from a DataFrame.\n",
      "Try using .loc[row_indexer,col_indexer] = value instead\n",
      "\n",
      "See the caveats in the documentation: https://pandas.pydata.org/pandas-docs/stable/user_guide/indexing.html#returning-a-view-versus-a-copy\n",
      "  df['rolling_mean'] = df['num_sold'].rolling(window=30).mean()\n",
      "<ipython-input-72-b533e4724463>:10: SettingWithCopyWarning: \n",
      "A value is trying to be set on a copy of a slice from a DataFrame.\n",
      "Try using .loc[row_indexer,col_indexer] = value instead\n",
      "\n",
      "See the caveats in the documentation: https://pandas.pydata.org/pandas-docs/stable/user_guide/indexing.html#returning-a-view-versus-a-copy\n",
      "  df['rolling_std'] = df['num_sold'].rolling(window=30).std()\n",
      "<ipython-input-72-b533e4724463>:7: SettingWithCopyWarning: \n",
      "A value is trying to be set on a copy of a slice from a DataFrame.\n",
      "Try using .loc[row_indexer,col_indexer] = value instead\n",
      "\n",
      "See the caveats in the documentation: https://pandas.pydata.org/pandas-docs/stable/user_guide/indexing.html#returning-a-view-versus-a-copy\n",
      "  df['num_sold']=country_predicts[c]\n",
      "<ipython-input-72-b533e4724463>:9: SettingWithCopyWarning: \n",
      "A value is trying to be set on a copy of a slice from a DataFrame.\n",
      "Try using .loc[row_indexer,col_indexer] = value instead\n",
      "\n",
      "See the caveats in the documentation: https://pandas.pydata.org/pandas-docs/stable/user_guide/indexing.html#returning-a-view-versus-a-copy\n",
      "  df['rolling_mean'] = df['num_sold'].rolling(window=30).mean()\n",
      "<ipython-input-72-b533e4724463>:10: SettingWithCopyWarning: \n",
      "A value is trying to be set on a copy of a slice from a DataFrame.\n",
      "Try using .loc[row_indexer,col_indexer] = value instead\n",
      "\n",
      "See the caveats in the documentation: https://pandas.pydata.org/pandas-docs/stable/user_guide/indexing.html#returning-a-view-versus-a-copy\n",
      "  df['rolling_std'] = df['num_sold'].rolling(window=30).std()\n"
     ]
    },
    {
     "data": {
      "image/png": "[encoded data removed]",
      "text/plain": [
       "<Figure size 1200x800 with 6 Axes>"
      ]
     },
     "metadata": {},
     "output_type": "display_data"
    }
   ],
   "source": [
    "fig, axes = plt.subplots(2, 3, figsize=(12, 8))\n",
    "testcountrylist=df_test['country'].unique().tolist()\n",
    "country_predicts={}\n",
    "for i,c in enumerate(testcountrylist):\n",
    "    df=df_test[df_test['country']==c]\n",
    "    country_predicts[c] = np.expm1(country_model[c].predict(df.drop(['id','country'],axis=1)))\n",
    "    df['num_sold']=country_predicts[c]\n",
    "    df.set_index('date')\n",
    "    df['rolling_mean'] = df['num_sold'].rolling(window=30).mean()\n",
    "    df['rolling_std'] = df['num_sold'].rolling(window=30).std()\n",
    "    df[['num_sold', 'rolling_mean', 'rolling_std']].plot(ax=axes.flat[i],title=f'{c} Rolling Mean and Std Dev')\n",
    "\n",
    "plt.tight_layout()\n",
    "plt.show()"
   ]
  },
  {
   "cell_type": "code",
   "execution_count": 73,
   "id": "3521491c",
   "metadata": {
    "execution": {
     "iopub.execute_input": "2025-01-31T15:36:35.374256Z",
     "iopub.status.busy": "2025-01-31T15:36:35.373867Z",
     "iopub.status.idle": "2025-01-31T15:36:35.402265Z",
     "shell.execute_reply": "2025-01-31T15:36:35.401209Z"
    },
    "papermill": {
     "duration": 0.070959,
     "end_time": "2025-01-31T15:36:35.404193",
     "exception": false,
     "start_time": "2025-01-31T15:36:35.333234",
     "status": "completed"
    },
    "tags": []
   },
   "outputs": [],
   "source": [
    "cdf={}\n",
    "for c in testcountrylist:\n",
    "    cid=df_test[df_test['country']==c]['id']\n",
    "    cdf[c]=pd.concat([cid.reset_index(drop=True),pd.DataFrame(np.round(country_predicts[c],0),columns=['num_sold'])],axis=1)\n",
    "   "
   ]
  },
  {
   "cell_type": "code",
   "execution_count": 74,
   "id": "c99723d8",
   "metadata": {
    "execution": {
     "iopub.execute_input": "2025-01-31T15:36:35.483816Z",
     "iopub.status.busy": "2025-01-31T15:36:35.483481Z",
     "iopub.status.idle": "2025-01-31T15:36:35.490633Z",
     "shell.execute_reply": "2025-01-31T15:36:35.489586Z"
    },
    "papermill": {
     "duration": 0.04873,
     "end_time": "2025-01-31T15:36:35.492353",
     "exception": false,
     "start_time": "2025-01-31T15:36:35.443623",
     "status": "completed"
    },
    "tags": []
   },
   "outputs": [],
   "source": [
    "temp = pd.concat([df.reset_index(drop=True) for df in cdf.values()])"
   ]
  },
  {
   "cell_type": "code",
   "execution_count": 75,
   "id": "97bb6d28",
   "metadata": {
    "execution": {
     "iopub.execute_input": "2025-01-31T15:36:35.572830Z",
     "iopub.status.busy": "2025-01-31T15:36:35.572459Z",
     "iopub.status.idle": "2025-01-31T15:36:35.590546Z",
     "shell.execute_reply": "2025-01-31T15:36:35.589625Z"
    },
    "papermill": {
     "duration": 0.059886,
     "end_time": "2025-01-31T15:36:35.592321",
     "exception": false,
     "start_time": "2025-01-31T15:36:35.532435",
     "status": "completed"
    },
    "tags": []
   },
   "outputs": [],
   "source": [
    "temp=temp.drop_duplicates()"
   ]
  },
  {
   "cell_type": "code",
   "execution_count": 76,
   "id": "eecc6473",
   "metadata": {
    "execution": {
     "iopub.execute_input": "2025-01-31T15:36:35.675117Z",
     "iopub.status.busy": "2025-01-31T15:36:35.674732Z",
     "iopub.status.idle": "2025-01-31T15:36:35.805032Z",
     "shell.execute_reply": "2025-01-31T15:36:35.803864Z"
    },
    "papermill": {
     "duration": 0.175265,
     "end_time": "2025-01-31T15:36:35.807058",
     "exception": false,
     "start_time": "2025-01-31T15:36:35.631793",
     "status": "completed"
    },
    "tags": []
   },
   "outputs": [],
   "source": [
    "temp.to_csv('submission_6country_dropna_spline_round2.csv',index=False)"
   ]
  },
  {
   "cell_type": "code",
   "execution_count": 77,
   "id": "dfc14372",
   "metadata": {
    "execution": {
     "iopub.execute_input": "2025-01-31T15:36:35.890020Z",
     "iopub.status.busy": "2025-01-31T15:36:35.889652Z",
     "iopub.status.idle": "2025-01-31T15:36:35.919488Z",
     "shell.execute_reply": "2025-01-31T15:36:35.918554Z"
    },
    "papermill": {
     "duration": 0.073303,
     "end_time": "2025-01-31T15:36:35.921411",
     "exception": false,
     "start_time": "2025-01-31T15:36:35.848108",
     "status": "completed"
    },
    "tags": []
   },
   "outputs": [],
   "source": [
    "cdf={}\n",
    "for c in testcountrylist:\n",
    "    cid=df_test[df_test['country']==c]['id']\n",
    "    cdf[c]=pd.concat([cid.reset_index(drop=True),pd.DataFrame(np.fix(country_predicts[c]),columns=['num_sold'])],axis=1)"
   ]
  },
  {
   "cell_type": "code",
   "execution_count": 78,
   "id": "2c5ff497",
   "metadata": {
    "execution": {
     "iopub.execute_input": "2025-01-31T15:36:36.001852Z",
     "iopub.status.busy": "2025-01-31T15:36:36.001501Z",
     "iopub.status.idle": "2025-01-31T15:36:36.144477Z",
     "shell.execute_reply": "2025-01-31T15:36:36.143323Z"
    },
    "papermill": {
     "duration": 0.185142,
     "end_time": "2025-01-31T15:36:36.146480",
     "exception": false,
     "start_time": "2025-01-31T15:36:35.961338",
     "status": "completed"
    },
    "tags": []
   },
   "outputs": [],
   "source": [
    "#pd.concat([df_test['id'],pd.DataFrame(np.round(predicts,0),columns=['num_sold'])],axis=1).reset_index(drop=True).to_csv('submission_impute_dropna_holidays_conseddays.csv',index=False)\n",
    "temp = pd.concat([df.reset_index(drop=True) for df in cdf.values()])\n",
    "temp=temp.drop_duplicates()\n",
    "temp.to_csv('submission_6country_dropna_spline_fix2.csv',index=False)"
   ]
  }
 ],
 "metadata": {
  "kaggle": {
   "accelerator": "none",
   "dataSources": [
    {
     "databundleVersionId": 10652996,
     "sourceId": 85723,
     "sourceType": "competition"
    },
    {
     "datasetId": 6470396,
     "sourceId": 10452614,
     "sourceType": "datasetVersion"
    }
   ],
   "dockerImageVersionId": 30822,
   "isGpuEnabled": false,
   "isInternetEnabled": true,
   "language": "python",
   "sourceType": "notebook"
  },
  "kernelspec": {
   "display_name": "Python 3",
   "language": "python",
   "name": "python3"
  },
  "language_info": {
   "codemirror_mode": {
    "name": "ipython",
    "version": 3
   },
   "file_extension": ".py",
   "mimetype": "text/x-python",
   "name": "python",
   "nbconvert_exporter": "python",
   "pygments_lexer": "ipython3",
   "version": "3.10.12"
  },
  "papermill": {
   "default_parameters": {},
   "duration": 4076.626835,
   "end_time": "2025-01-31T15:36:37.214408",
   "environment_variables": {},
   "exception": null,
   "input_path": "__notebook__.ipynb",
   "output_path": "__notebook__.ipynb",
   "parameters": {},
   "start_time": "2025-01-31T14:28:40.587573",
   "version": "2.6.0"
  }
 },
 "nbformat": 4,
 "nbformat_minor": 5
}
