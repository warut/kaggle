{
 "cells": [
  {
   "cell_type": "code",
   "execution_count": 1,
   "id": "eed574e2",
   "metadata": {
    "_cell_guid": "b1076dfc-b9ad-4769-8c92-a6c4dae69d19",
    "_uuid": "8f2839f25d086af736a60e9eeb907d3b93b6e0e5",
    "execution": {
     "iopub.execute_input": "2025-01-30T14:33:33.497876Z",
     "iopub.status.busy": "2025-01-30T14:33:33.497511Z",
     "iopub.status.idle": "2025-01-30T14:33:34.240904Z",
     "shell.execute_reply": "2025-01-30T14:33:34.239692Z"
    },
    "papermill": {
     "duration": 0.758694,
     "end_time": "2025-01-30T14:33:34.242682",
     "exception": false,
     "start_time": "2025-01-30T14:33:33.483988",
     "status": "completed"
    },
    "tags": []
   },
   "outputs": [
    {
     "name": "stdout",
     "output_type": "stream",
     "text": [
      "/kaggle/input/playground-series-s5e1/sample_submission.csv\n",
      "/kaggle/input/playground-series-s5e1/train.csv\n",
      "/kaggle/input/playground-series-s5e1/test.csv\n",
      "/kaggle/input/cbfitmodels/cbfit_Singapore\n",
      "/kaggle/input/cbfitmodels/cbfit_Italy\n",
      "/kaggle/input/cbfitmodels/cbfit_Finland\n",
      "/kaggle/input/cbfitmodels/cbfit_Canada\n",
      "/kaggle/input/cbfitmodels/cbfit_Norway\n",
      "/kaggle/input/cbfitmodels/cbfit_Kenya\n",
      "/kaggle/input/cbfitmodels/__results___files/__results___9_0.png\n",
      "/kaggle/input/cbfitmodels/__results___files/__results___64_1.png\n",
      "/kaggle/input/cbfitmodels/__results___files/__results___13_0.png\n",
      "/kaggle/input/cbfitmodels/catboost_info/test_error.tsv\n",
      "/kaggle/input/cbfitmodels/catboost_info/learn_error.tsv\n",
      "/kaggle/input/cbfitmodels/catboost_info/catboost_training.json\n",
      "/kaggle/input/cbfitmodels/catboost_info/time_left.tsv\n",
      "/kaggle/input/cbfitmodels/catboost_info/learn/events.out.tfevents\n",
      "/kaggle/input/cbfitmodels/catboost_info/test/events.out.tfevents\n"
     ]
    }
   ],
   "source": [
    "# This Python 3 environment comes with many helpful analytics libraries installed\n",
    "# It is defined by the kaggle/python Docker image: https://github.com/kaggle/docker-python\n",
    "# For example, here's several helpful packages to load\n",
    "\n",
    "import numpy as np # linear algebra\n",
    "import pandas as pd # data processing, CSV file I/O (e.g. pd.read_csv)\n",
    "\n",
    "# Input data files are available in the read-only \"../input/\" directory\n",
    "# For example, running this (by clicking run or pressing Shift+Enter) will list all files under the input directory\n",
    "\n",
    "import os\n",
    "for dirname, _, filenames in os.walk('/kaggle/input'):\n",
    "    for filename in filenames:\n",
    "        print(os.path.join(dirname, filename))\n",
    "\n",
    "# You can write up to 20GB to the current directory (/kaggle/working/) that gets preserved as output when you create a version using \"Save & Run All\" \n",
    "# You can also write temporary files to /kaggle/temp/, but they won't be saved outside of the current session"
   ]
  },
  {
   "cell_type": "code",
   "execution_count": 2,
   "id": "a568ce2a",
   "metadata": {
    "execution": {
     "iopub.execute_input": "2025-01-30T14:33:34.267242Z",
     "iopub.status.busy": "2025-01-30T14:33:34.266734Z",
     "iopub.status.idle": "2025-01-30T14:33:35.289801Z",
     "shell.execute_reply": "2025-01-30T14:33:35.288931Z"
    },
    "papermill": {
     "duration": 1.037157,
     "end_time": "2025-01-30T14:33:35.291641",
     "exception": false,
     "start_time": "2025-01-30T14:33:34.254484",
     "status": "completed"
    },
    "tags": []
   },
   "outputs": [],
   "source": [
    "import pandas as pd\n",
    "import numpy as np\n",
    "from sklearn.preprocessing import SplineTransformer\n",
    "\n",
    "\n",
    "def periodic_spline_transformer(period, n_splines=None, degree=3):\n",
    "    if n_splines is None:\n",
    "        n_splines = period\n",
    "    n_knots = n_splines + 1  # periodic and include_bias is True\n",
    "    return SplineTransformer(\n",
    "        degree=degree,\n",
    "        n_knots=n_knots,\n",
    "        knots=np.linspace(0, period, n_knots).reshape(n_knots, 1),\n",
    "        extrapolation=\"periodic\",\n",
    "        include_bias=True,\n",
    "    )\n",
    "\n",
    "# Sample quarterly data\n",
    "# data = {'quarter': [1, 2, 3, 4, 1, 2, 3, 4, 1, 2, 3, 4],\n",
    "#         'value': [10, 15, 12, 18, 11, 16, 13, 19, 12, 17, 14, 20]}\n",
    "# df = pd.DataFrame(data)\n",
    "\n",
    "# # Create periodic spline transformer\n",
    "# qt = periodic_spline_transformer(12, 4)\n",
    "\n",
    "# # Transform the 'quarter' feature\n",
    "# quarter = qt.fit_transform(df_train[['Month']])[:,0]\n",
    "\n",
    "# # Add transformed features to DataFrame\n",
    "# print(quarter)"
   ]
  },
  {
   "cell_type": "code",
   "execution_count": 3,
   "id": "be520a14",
   "metadata": {
    "execution": {
     "iopub.execute_input": "2025-01-30T14:33:35.316533Z",
     "iopub.status.busy": "2025-01-30T14:33:35.316070Z",
     "iopub.status.idle": "2025-01-30T14:33:35.319825Z",
     "shell.execute_reply": "2025-01-30T14:33:35.319063Z"
    },
    "papermill": {
     "duration": 0.018011,
     "end_time": "2025-01-30T14:33:35.321482",
     "exception": false,
     "start_time": "2025-01-30T14:33:35.303471",
     "status": "completed"
    },
    "tags": []
   },
   "outputs": [],
   "source": [
    "check_pg=[]"
   ]
  },
  {
   "cell_type": "code",
   "execution_count": 4,
   "id": "d81a2485",
   "metadata": {
    "execution": {
     "iopub.execute_input": "2025-01-30T14:33:35.345947Z",
     "iopub.status.busy": "2025-01-30T14:33:35.345619Z",
     "iopub.status.idle": "2025-01-30T14:33:35.352205Z",
     "shell.execute_reply": "2025-01-30T14:33:35.351384Z"
    },
    "papermill": {
     "duration": 0.020755,
     "end_time": "2025-01-30T14:33:35.353619",
     "exception": false,
     "start_time": "2025-01-30T14:33:35.332864",
     "status": "completed"
    },
    "tags": []
   },
   "outputs": [],
   "source": [
    "def plot_periodogram(ts, detrend='linear', ax=None):\n",
    "    from scipy.signal import periodogram\n",
    "    fs = pd.Timedelta(\"365D\") / pd.Timedelta(\"1D\")\n",
    "    freqencies, spectrum = periodogram(\n",
    "        ts,\n",
    "        fs=fs,\n",
    "        detrend=detrend,\n",
    "        window=\"boxcar\",\n",
    "        scaling='spectrum',\n",
    "    )\n",
    "    check_pg.append(freqencies)\n",
    "    check_pg.append(spectrum)\n",
    "    if ax is None:\n",
    "        _, ax = plt.subplots()\n",
    "    ax.step(freqencies, spectrum, color=\"purple\")\n",
    "    ax.set_xscale(\"log\")\n",
    "    ax.set_xticks([1, 2, 4, 6, 12, 26, 52, 104])\n",
    "    ax.set_xticklabels(\n",
    "        [\n",
    "            \"Annual (1)\",\n",
    "            \"Semiannual (2)\",\n",
    "            \"Quarterly (4)\",\n",
    "            \"Bimonthly (6)\",\n",
    "            \"Monthly (12)\",\n",
    "            \"Biweekly (26)\",\n",
    "            \"Weekly (52)\",\n",
    "            \"Semiweekly (104)\",\n",
    "        ],\n",
    "        rotation=30,\n",
    "    )\n",
    "    ax.ticklabel_format(axis=\"y\", style=\"sci\", scilimits=(0, 0))\n",
    "    ax.set_ylabel(\"Variance\")\n",
    "    ax.set_title(\"Periodogram\")\n",
    "    plt.savefig('pg.png')\n",
    "    return ax"
   ]
  },
  {
   "cell_type": "code",
   "execution_count": 5,
   "id": "266dda3b",
   "metadata": {
    "execution": {
     "iopub.execute_input": "2025-01-30T14:33:35.377421Z",
     "iopub.status.busy": "2025-01-30T14:33:35.377097Z",
     "iopub.status.idle": "2025-01-30T14:33:46.451030Z",
     "shell.execute_reply": "2025-01-30T14:33:46.449999Z"
    },
    "papermill": {
     "duration": 11.087959,
     "end_time": "2025-01-30T14:33:46.452997",
     "exception": false,
     "start_time": "2025-01-30T14:33:35.365038",
     "status": "completed"
    },
    "tags": []
   },
   "outputs": [
    {
     "name": "stdout",
     "output_type": "stream",
     "text": [
      "Collecting optuna-integration[catboost]\r\n",
      "  Downloading optuna_integration-4.2.1-py3-none-any.whl.metadata (12 kB)\r\n",
      "Requirement already satisfied: optuna in /usr/local/lib/python3.10/dist-packages (from optuna-integration[catboost]) (4.1.0)\r\n",
      "Requirement already satisfied: numpy<2.0.0 in /usr/local/lib/python3.10/dist-packages (from optuna-integration[catboost]) (1.26.4)\r\n",
      "Requirement already satisfied: catboost in /usr/local/lib/python3.10/dist-packages (from optuna-integration[catboost]) (1.2.7)\r\n",
      "Requirement already satisfied: graphviz in /usr/local/lib/python3.10/dist-packages (from catboost->optuna-integration[catboost]) (0.20.3)\r\n",
      "Requirement already satisfied: matplotlib in /usr/local/lib/python3.10/dist-packages (from catboost->optuna-integration[catboost]) (3.7.1)\r\n",
      "Requirement already satisfied: pandas>=0.24 in /usr/local/lib/python3.10/dist-packages (from catboost->optuna-integration[catboost]) (2.1.4)\r\n",
      "Requirement already satisfied: scipy in /usr/local/lib/python3.10/dist-packages (from catboost->optuna-integration[catboost]) (1.13.1)\r\n",
      "Requirement already satisfied: plotly in /usr/local/lib/python3.10/dist-packages (from catboost->optuna-integration[catboost]) (5.24.1)\r\n",
      "Requirement already satisfied: six in /usr/local/lib/python3.10/dist-packages (from catboost->optuna-integration[catboost]) (1.16.0)\r\n",
      "Requirement already satisfied: alembic>=1.5.0 in /usr/local/lib/python3.10/dist-packages (from optuna->optuna-integration[catboost]) (1.14.0)\r\n",
      "Requirement already satisfied: colorlog in /usr/local/lib/python3.10/dist-packages (from optuna->optuna-integration[catboost]) (6.9.0)\r\n",
      "Requirement already satisfied: packaging>=20.0 in /usr/local/lib/python3.10/dist-packages (from optuna->optuna-integration[catboost]) (24.1)\r\n",
      "Requirement already satisfied: sqlalchemy>=1.4.2 in /usr/local/lib/python3.10/dist-packages (from optuna->optuna-integration[catboost]) (2.0.35)\r\n",
      "Requirement already satisfied: tqdm in /usr/local/lib/python3.10/dist-packages (from optuna->optuna-integration[catboost]) (4.66.5)\r\n",
      "Requirement already satisfied: PyYAML in /usr/local/lib/python3.10/dist-packages (from optuna->optuna-integration[catboost]) (6.0.2)\r\n",
      "Requirement already satisfied: Mako in /usr/local/lib/python3.10/dist-packages (from alembic>=1.5.0->optuna->optuna-integration[catboost]) (1.3.8)\r\n",
      "Requirement already satisfied: typing-extensions>=4 in /usr/local/lib/python3.10/dist-packages (from alembic>=1.5.0->optuna->optuna-integration[catboost]) (4.12.2)\r\n",
      "Requirement already satisfied: python-dateutil>=2.8.2 in /usr/local/lib/python3.10/dist-packages (from pandas>=0.24->catboost->optuna-integration[catboost]) (2.8.2)\r\n",
      "Requirement already satisfied: pytz>=2020.1 in /usr/local/lib/python3.10/dist-packages (from pandas>=0.24->catboost->optuna-integration[catboost]) (2024.2)\r\n",
      "Requirement already satisfied: tzdata>=2022.1 in /usr/local/lib/python3.10/dist-packages (from pandas>=0.24->catboost->optuna-integration[catboost]) (2024.1)\r\n",
      "Requirement already satisfied: greenlet!=0.4.17 in /usr/local/lib/python3.10/dist-packages (from sqlalchemy>=1.4.2->optuna->optuna-integration[catboost]) (3.1.0)\r\n",
      "Requirement already satisfied: contourpy>=1.0.1 in /usr/local/lib/python3.10/dist-packages (from matplotlib->catboost->optuna-integration[catboost]) (1.3.0)\r\n",
      "Requirement already satisfied: cycler>=0.10 in /usr/local/lib/python3.10/dist-packages (from matplotlib->catboost->optuna-integration[catboost]) (0.12.1)\r\n",
      "Requirement already satisfied: fonttools>=4.22.0 in /usr/local/lib/python3.10/dist-packages (from matplotlib->catboost->optuna-integration[catboost]) (4.53.1)\r\n",
      "Requirement already satisfied: kiwisolver>=1.0.1 in /usr/local/lib/python3.10/dist-packages (from matplotlib->catboost->optuna-integration[catboost]) (1.4.7)\r\n",
      "Requirement already satisfied: pillow>=6.2.0 in /usr/local/lib/python3.10/dist-packages (from matplotlib->catboost->optuna-integration[catboost]) (10.4.0)\r\n",
      "Requirement already satisfied: pyparsing>=2.3.1 in /usr/local/lib/python3.10/dist-packages (from matplotlib->catboost->optuna-integration[catboost]) (3.1.4)\r\n",
      "Requirement already satisfied: tenacity>=6.2.0 in /usr/local/lib/python3.10/dist-packages (from plotly->catboost->optuna-integration[catboost]) (9.0.0)\r\n",
      "Requirement already satisfied: MarkupSafe>=0.9.2 in /usr/local/lib/python3.10/dist-packages (from Mako->alembic>=1.5.0->optuna->optuna-integration[catboost]) (2.1.5)\r\n",
      "Downloading optuna_integration-4.2.1-py3-none-any.whl (97 kB)\r\n",
      "\u001b[2K   \u001b[90m━━━━━━━━━━━━━━━━━━━━━━━━━━━━━━━━━━━━━━━━\u001b[0m \u001b[32m97.6/97.6 kB\u001b[0m \u001b[31m3.5 MB/s\u001b[0m eta \u001b[36m0:00:00\u001b[0m\r\n",
      "\u001b[?25hInstalling collected packages: optuna-integration\r\n",
      "Successfully installed optuna-integration-4.2.1\r\n",
      "Requirement already satisfied: holidays in /usr/local/lib/python3.10/dist-packages (0.57)\r\n",
      "Collecting holidays\r\n",
      "  Downloading holidays-0.65-py3-none-any.whl.metadata (26 kB)\r\n",
      "Requirement already satisfied: python-dateutil in /usr/local/lib/python3.10/dist-packages (from holidays) (2.8.2)\r\n",
      "Requirement already satisfied: six>=1.5 in /usr/local/lib/python3.10/dist-packages (from python-dateutil->holidays) (1.16.0)\r\n",
      "Downloading holidays-0.65-py3-none-any.whl (1.2 MB)\r\n",
      "\u001b[2K   \u001b[90m━━━━━━━━━━━━━━━━━━━━━━━━━━━━━━━━━━━━━━━━\u001b[0m \u001b[32m1.2/1.2 MB\u001b[0m \u001b[31m25.8 MB/s\u001b[0m eta \u001b[36m0:00:00\u001b[0m\r\n",
      "\u001b[?25hInstalling collected packages: holidays\r\n",
      "  Attempting uninstall: holidays\r\n",
      "    Found existing installation: holidays 0.57\r\n",
      "    Uninstalling holidays-0.57:\r\n",
      "      Successfully uninstalled holidays-0.57\r\n",
      "Successfully installed holidays-0.65\r\n"
     ]
    }
   ],
   "source": [
    "!pip install optuna-integration[catboost]\n",
    "!pip install -U holidays"
   ]
  },
  {
   "cell_type": "code",
   "execution_count": 6,
   "id": "7003c7df",
   "metadata": {
    "execution": {
     "iopub.execute_input": "2025-01-30T14:33:46.479323Z",
     "iopub.status.busy": "2025-01-30T14:33:46.478913Z",
     "iopub.status.idle": "2025-01-30T14:33:50.861657Z",
     "shell.execute_reply": "2025-01-30T14:33:50.860543Z"
    },
    "papermill": {
     "duration": 4.398267,
     "end_time": "2025-01-30T14:33:50.863686",
     "exception": false,
     "start_time": "2025-01-30T14:33:46.465419",
     "status": "completed"
    },
    "tags": []
   },
   "outputs": [
    {
     "name": "stdout",
     "output_type": "stream",
     "text": [
      "Collecting pycountry\r\n",
      "  Downloading pycountry-24.6.1-py3-none-any.whl.metadata (12 kB)\r\n",
      "Downloading pycountry-24.6.1-py3-none-any.whl (6.3 MB)\r\n",
      "\u001b[2K   \u001b[90m━━━━━━━━━━━━━━━━━━━━━━━━━━━━━━━━━━━━━━━━\u001b[0m \u001b[32m6.3/6.3 MB\u001b[0m \u001b[31m58.3 MB/s\u001b[0m eta \u001b[36m0:00:00\u001b[0m\r\n",
      "\u001b[?25hInstalling collected packages: pycountry\r\n",
      "Successfully installed pycountry-24.6.1\r\n"
     ]
    }
   ],
   "source": [
    "!pip install -U pycountry"
   ]
  },
  {
   "cell_type": "code",
   "execution_count": 7,
   "id": "e866f323",
   "metadata": {
    "execution": {
     "iopub.execute_input": "2025-01-30T14:33:50.892970Z",
     "iopub.status.busy": "2025-01-30T14:33:50.892614Z",
     "iopub.status.idle": "2025-01-30T14:33:50.941714Z",
     "shell.execute_reply": "2025-01-30T14:33:50.940920Z"
    },
    "papermill": {
     "duration": 0.064899,
     "end_time": "2025-01-30T14:33:50.943529",
     "exception": false,
     "start_time": "2025-01-30T14:33:50.878630",
     "status": "completed"
    },
    "tags": []
   },
   "outputs": [],
   "source": [
    "import statsmodels"
   ]
  },
  {
   "cell_type": "code",
   "execution_count": 8,
   "id": "0674b1fe",
   "metadata": {
    "execution": {
     "iopub.execute_input": "2025-01-30T14:33:50.970502Z",
     "iopub.status.busy": "2025-01-30T14:33:50.970182Z",
     "iopub.status.idle": "2025-01-30T14:33:52.275589Z",
     "shell.execute_reply": "2025-01-30T14:33:52.274441Z"
    },
    "papermill": {
     "duration": 1.320559,
     "end_time": "2025-01-30T14:33:52.277386",
     "exception": false,
     "start_time": "2025-01-30T14:33:50.956827",
     "status": "completed"
    },
    "tags": []
   },
   "outputs": [],
   "source": [
    "import pandas as pd\n",
    "import numpy as np\n",
    "import optuna\n",
    "import catboost as cb\n",
    "import matplotlib\n",
    "import seaborn as sns\n",
    "from sklearn.metrics import mean_absolute_percentage_error\n",
    "from sklearn.model_selection import train_test_split\n",
    "from optuna.integration import CatBoostPruningCallback\n",
    "import pycountry \n",
    "import holidays\n",
    "from sklearn.linear_model import LinearRegression\n",
    "from sklearn.preprocessing import LabelEncoder\n",
    "from statsmodels.tsa.deterministic import DeterministicProcess\n",
    "\n",
    "\n"
   ]
  },
  {
   "cell_type": "code",
   "execution_count": 9,
   "id": "8951be7e",
   "metadata": {
    "execution": {
     "iopub.execute_input": "2025-01-30T14:33:52.304519Z",
     "iopub.status.busy": "2025-01-30T14:33:52.303953Z",
     "iopub.status.idle": "2025-01-30T14:33:52.837450Z",
     "shell.execute_reply": "2025-01-30T14:33:52.836569Z"
    },
    "papermill": {
     "duration": 0.548887,
     "end_time": "2025-01-30T14:33:52.839343",
     "exception": false,
     "start_time": "2025-01-30T14:33:52.290456",
     "status": "completed"
    },
    "tags": []
   },
   "outputs": [],
   "source": [
    "df_train=pd.read_csv('/kaggle/input/playground-series-s5e1/train.csv')\n",
    "df_test=pd.read_csv('/kaggle/input/playground-series-s5e1/test.csv')\n",
    "\n"
   ]
  },
  {
   "cell_type": "code",
   "execution_count": 10,
   "id": "c7725cb2",
   "metadata": {
    "execution": {
     "iopub.execute_input": "2025-01-30T14:33:52.865473Z",
     "iopub.status.busy": "2025-01-30T14:33:52.865146Z",
     "iopub.status.idle": "2025-01-30T14:33:52.935644Z",
     "shell.execute_reply": "2025-01-30T14:33:52.934459Z"
    },
    "papermill": {
     "duration": 0.08509,
     "end_time": "2025-01-30T14:33:52.937288",
     "exception": false,
     "start_time": "2025-01-30T14:33:52.852198",
     "status": "completed"
    },
    "tags": []
   },
   "outputs": [
    {
     "name": "stdout",
     "output_type": "stream",
     "text": [
      "<class 'pandas.core.frame.DataFrame'>\n",
      "RangeIndex: 230130 entries, 0 to 230129\n",
      "Data columns (total 6 columns):\n",
      " #   Column    Non-Null Count   Dtype  \n",
      "---  ------    --------------   -----  \n",
      " 0   id        230130 non-null  int64  \n",
      " 1   date      230130 non-null  object \n",
      " 2   country   230130 non-null  object \n",
      " 3   store     230130 non-null  object \n",
      " 4   product   230130 non-null  object \n",
      " 5   num_sold  221259 non-null  float64\n",
      "dtypes: float64(1), int64(1), object(4)\n",
      "memory usage: 10.5+ MB\n"
     ]
    }
   ],
   "source": [
    "df_train.info()"
   ]
  },
  {
   "cell_type": "code",
   "execution_count": 11,
   "id": "474ae76c",
   "metadata": {
    "execution": {
     "iopub.execute_input": "2025-01-30T14:33:52.964461Z",
     "iopub.status.busy": "2025-01-30T14:33:52.964028Z",
     "iopub.status.idle": "2025-01-30T14:33:52.985031Z",
     "shell.execute_reply": "2025-01-30T14:33:52.984062Z"
    },
    "papermill": {
     "duration": 0.036158,
     "end_time": "2025-01-30T14:33:52.986671",
     "exception": false,
     "start_time": "2025-01-30T14:33:52.950513",
     "status": "completed"
    },
    "tags": []
   },
   "outputs": [
    {
     "data": {
      "text/plain": [
       "array(['Discount Stickers', 'Stickers for Less', 'Premium Sticker Mart'],\n",
       "      dtype=object)"
      ]
     },
     "execution_count": 11,
     "metadata": {},
     "output_type": "execute_result"
    }
   ],
   "source": [
    "df_train['store'].unique()"
   ]
  },
  {
   "cell_type": "code",
   "execution_count": 12,
   "id": "41790d18",
   "metadata": {
    "execution": {
     "iopub.execute_input": "2025-01-30T14:33:53.014304Z",
     "iopub.status.busy": "2025-01-30T14:33:53.013926Z",
     "iopub.status.idle": "2025-01-30T14:33:53.043550Z",
     "shell.execute_reply": "2025-01-30T14:33:53.042666Z"
    },
    "papermill": {
     "duration": 0.044892,
     "end_time": "2025-01-30T14:33:53.044968",
     "exception": false,
     "start_time": "2025-01-30T14:33:53.000076",
     "status": "completed"
    },
    "tags": []
   },
   "outputs": [
    {
     "data": {
      "text/plain": [
       "array(['Discount Stickers', 'Stickers for Less', 'Premium Sticker Mart'],\n",
       "      dtype=object)"
      ]
     },
     "execution_count": 12,
     "metadata": {},
     "output_type": "execute_result"
    }
   ],
   "source": [
    "df_train[df_train['country']=='Kenya']['store'].unique()"
   ]
  },
  {
   "cell_type": "code",
   "execution_count": 13,
   "id": "8e67dc86",
   "metadata": {
    "execution": {
     "iopub.execute_input": "2025-01-30T14:33:53.072808Z",
     "iopub.status.busy": "2025-01-30T14:33:53.072479Z",
     "iopub.status.idle": "2025-01-30T14:33:53.088844Z",
     "shell.execute_reply": "2025-01-30T14:33:53.088036Z"
    },
    "papermill": {
     "duration": 0.031803,
     "end_time": "2025-01-30T14:33:53.090301",
     "exception": false,
     "start_time": "2025-01-30T14:33:53.058498",
     "status": "completed"
    },
    "tags": []
   },
   "outputs": [
    {
     "data": {
      "text/plain": [
       "array(['Holographic Goose', 'Kaggle', 'Kaggle Tiers', 'Kerneler',\n",
       "       'Kerneler Dark Mode'], dtype=object)"
      ]
     },
     "execution_count": 13,
     "metadata": {},
     "output_type": "execute_result"
    }
   ],
   "source": [
    "df_train['product'].unique()"
   ]
  },
  {
   "cell_type": "code",
   "execution_count": 14,
   "id": "3d536a8e",
   "metadata": {
    "execution": {
     "iopub.execute_input": "2025-01-30T14:33:53.117977Z",
     "iopub.status.busy": "2025-01-30T14:33:53.117631Z",
     "iopub.status.idle": "2025-01-30T14:33:54.145888Z",
     "shell.execute_reply": "2025-01-30T14:33:54.144785Z"
    },
    "papermill": {
     "duration": 1.043971,
     "end_time": "2025-01-30T14:33:54.147579",
     "exception": false,
     "start_time": "2025-01-30T14:33:53.103608",
     "status": "completed"
    },
    "tags": []
   },
   "outputs": [
    {
     "data": {
      "image/png": "[encoded data removed]",
      "text/plain": [
       "<Figure size 640x480 with 4 Axes>"
      ]
     },
     "metadata": {},
     "output_type": "display_data"
    }
   ],
   "source": [
    "### import pandas as pd\n",
    "import numpy as np\n",
    "from statsmodels.tsa.seasonal import seasonal_decompose\n",
    "import matplotlib.pyplot as plt\n",
    "\n",
    "# Generate synthetic time series data\n",
    "np.random.seed(42)\n",
    "#df_train['date']=pd.to_datetime(df_train['date'])\n",
    "#df_train=df_train.set_index('date')\n",
    "df=df_train['num_sold']\n",
    "\n",
    "#time = pd.date_range(start=df_train['date'].min, end=df_train['date'].max, periods=365, freq='D')\n",
    "#series = 10 + 0.05 * np.arange(100) + np.sin(2 * np.pi * time.dayofyear / 365) + np.random.normal(0, 1, 100)\n",
    "#df = pd.DataFrame({'date': time, 'value': series}).set_index('date')\n",
    "\n",
    "# Decompose time series\n",
    "decomposition = seasonal_decompose(\n",
    "    df_train[(df_train['country']=='Singapore') & \n",
    "    (df_train['date'].str.contains('2013')) &\n",
    "    (df_train['store']=='Premium Sticker Mart')]['num_sold'],\n",
    "    model='multiplicative', period=30)  # Set period according to data frequency\n",
    "\n",
    "# Plot components\n",
    "decomposition.plot()\n",
    "plt.show()\n"
   ]
  },
  {
   "cell_type": "code",
   "execution_count": 15,
   "id": "2ae3e6b2",
   "metadata": {
    "execution": {
     "iopub.execute_input": "2025-01-30T14:33:54.179004Z",
     "iopub.status.busy": "2025-01-30T14:33:54.178365Z",
     "iopub.status.idle": "2025-01-30T14:33:54.183098Z",
     "shell.execute_reply": "2025-01-30T14:33:54.182148Z"
    },
    "papermill": {
     "duration": 0.022286,
     "end_time": "2025-01-30T14:33:54.184879",
     "exception": false,
     "start_time": "2025-01-30T14:33:54.162593",
     "status": "completed"
    },
    "tags": []
   },
   "outputs": [],
   "source": [
    "# temp=pd.concat([df_train['date'],df_train['num_sold']],axis=1)\n",
    "# sumsale2016=temp.groupby('date').mean().squeeze().loc['2013']\n",
    "# #sumsale2016\n",
    "# plot_periodogram(sumsale2016)"
   ]
  },
  {
   "cell_type": "code",
   "execution_count": 16,
   "id": "e8a29b4c",
   "metadata": {
    "execution": {
     "iopub.execute_input": "2025-01-30T14:33:54.223447Z",
     "iopub.status.busy": "2025-01-30T14:33:54.222934Z",
     "iopub.status.idle": "2025-01-30T14:33:56.126119Z",
     "shell.execute_reply": "2025-01-30T14:33:56.124614Z"
    },
    "papermill": {
     "duration": 1.921189,
     "end_time": "2025-01-30T14:33:56.128658",
     "exception": false,
     "start_time": "2025-01-30T14:33:54.207469",
     "status": "completed"
    },
    "tags": []
   },
   "outputs": [
    {
     "name": "stdout",
     "output_type": "stream",
     "text": [
      "ADF Statistic: -6.129147123657372\n",
      "p-value: 8.484833374009022e-08\n",
      "The series is stationary.\n"
     ]
    }
   ],
   "source": [
    "from statsmodels.tsa.stattools import adfuller\n",
    "\n",
    "# Perform ADF test\n",
    "adf_result = adfuller(df_train[(df_train['country']=='Singapore') & (df_train['store']=='Discount Stickers')]['num_sold'])\n",
    "\n",
    "# Print results\n",
    "print(\"ADF Statistic:\", adf_result[0])\n",
    "print(\"p-value:\", adf_result[1])\n",
    "if adf_result[1] < 0.05:\n",
    "    print(\"The series is stationary.\")\n",
    "else:\n",
    "    print(\"The series is not stationary.\")\n"
   ]
  },
  {
   "cell_type": "code",
   "execution_count": 17,
   "id": "3e78a74d",
   "metadata": {
    "execution": {
     "iopub.execute_input": "2025-01-30T14:33:56.215492Z",
     "iopub.status.busy": "2025-01-30T14:33:56.214535Z",
     "iopub.status.idle": "2025-01-30T14:33:56.288908Z",
     "shell.execute_reply": "2025-01-30T14:33:56.285523Z"
    },
    "papermill": {
     "duration": 0.122676,
     "end_time": "2025-01-30T14:33:56.293537",
     "exception": false,
     "start_time": "2025-01-30T14:33:56.170861",
     "status": "completed"
    },
    "tags": []
   },
   "outputs": [
    {
     "name": "stdout",
     "output_type": "stream",
     "text": [
      "KPSS Statistic: 0.7976600279714846\n",
      "p-value: 0.01\n",
      "The series is not stationary (has a trend).\n"
     ]
    },
    {
     "name": "stderr",
     "output_type": "stream",
     "text": [
      "<ipython-input-17-b1e5399dac4b>:4: InterpolationWarning: The test statistic is outside of the range of p-values available in the\n",
      "look-up table. The actual p-value is smaller than the p-value returned.\n",
      "\n",
      "  kpss_result = kpss(df_train[(df_train['country']=='Singapore') & (df_train['store']=='Discount Stickers')]['num_sold'], regression='c')\n"
     ]
    }
   ],
   "source": [
    "from statsmodels.tsa.stattools import kpss\n",
    "\n",
    "# Perform KPSS test\n",
    "kpss_result = kpss(df_train[(df_train['country']=='Singapore') & (df_train['store']=='Discount Stickers')]['num_sold'], regression='c')\n",
    "\n",
    "# Print results\n",
    "print(\"KPSS Statistic:\", kpss_result[0])\n",
    "print(\"p-value:\", kpss_result[1])\n",
    "if kpss_result[1] < 0.05:\n",
    "    print(\"The series is not stationary (has a trend).\")\n",
    "else:\n",
    "    print(\"The series is stationary.\")"
   ]
  },
  {
   "cell_type": "code",
   "execution_count": 18,
   "id": "7078d39b",
   "metadata": {
    "execution": {
     "iopub.execute_input": "2025-01-30T14:33:56.382592Z",
     "iopub.status.busy": "2025-01-30T14:33:56.379824Z",
     "iopub.status.idle": "2025-01-30T14:33:56.445353Z",
     "shell.execute_reply": "2025-01-30T14:33:56.444214Z"
    },
    "papermill": {
     "duration": 0.110296,
     "end_time": "2025-01-30T14:33:56.447032",
     "exception": false,
     "start_time": "2025-01-30T14:33:56.336736",
     "status": "completed"
    },
    "tags": []
   },
   "outputs": [
    {
     "name": "stdout",
     "output_type": "stream",
     "text": [
      "<class 'pandas.core.frame.DataFrame'>\n",
      "RangeIndex: 230130 entries, 0 to 230129\n",
      "Data columns (total 6 columns):\n",
      " #   Column    Non-Null Count   Dtype  \n",
      "---  ------    --------------   -----  \n",
      " 0   id        230130 non-null  int64  \n",
      " 1   date      230130 non-null  object \n",
      " 2   country   230130 non-null  object \n",
      " 3   store     230130 non-null  object \n",
      " 4   product   230130 non-null  object \n",
      " 5   num_sold  221259 non-null  float64\n",
      "dtypes: float64(1), int64(1), object(4)\n",
      "memory usage: 10.5+ MB\n"
     ]
    }
   ],
   "source": [
    "df_train.info()"
   ]
  },
  {
   "cell_type": "code",
   "execution_count": 19,
   "id": "117ea07d",
   "metadata": {
    "execution": {
     "iopub.execute_input": "2025-01-30T14:33:56.477616Z",
     "iopub.status.busy": "2025-01-30T14:33:56.477279Z",
     "iopub.status.idle": "2025-01-30T14:34:02.791577Z",
     "shell.execute_reply": "2025-01-30T14:34:02.790663Z"
    },
    "papermill": {
     "duration": 6.333539,
     "end_time": "2025-01-30T14:34:02.795265",
     "exception": false,
     "start_time": "2025-01-30T14:33:56.461726",
     "status": "completed"
    },
    "tags": []
   },
   "outputs": [
    {
     "data": {
      "image/png": "[encoded data removed]",
      "text/plain": [
       "<Figure size 1200x800 with 6 Axes>"
      ]
     },
     "metadata": {},
     "output_type": "display_data"
    }
   ],
   "source": [
    "# Plot showing timeseries attributes: trend, seasonality \n",
    "\n",
    "# Create subplots: 2 rows, 3 columns\n",
    "fig, axes = plt.subplots(2, 3, figsize=(12, 8))\n",
    "\n",
    "# Flatten the axes array for easy iteration\n",
    "axes = axes.flatten()\n",
    "productlist=df_train['product'].unique().tolist()\n",
    "# Loop through each subplot and plot\n",
    "for i, ax in enumerate(axes):\n",
    "    if i<len(productlist):\n",
    "        df=df_train[(df_train['product']==productlist[i])][['date','num_sold']]\n",
    "        df.dropna(inplace=True)\n",
    "        df['date']=pd.to_datetime(df['date'])\n",
    "        df.set_index('date',inplace=True)\n",
    "        df=df.loc['2010':'2015',:]\n",
    "        df['rolling_mean'] = df['num_sold'].rolling(window=5).mean()\n",
    "        df['rolling_std'] = df['num_sold'].rolling(window=5).std()\n",
    "        df[['num_sold', 'rolling_mean', 'rolling_std']].plot(ax=ax,title=f'{productlist[i]} Rolling Mean and Std Dev')\n",
    "    \n",
    "plt.tight_layout()\n",
    "\n",
    "# Show the plot\n",
    "plt.show()\n",
    "    "
   ]
  },
  {
   "cell_type": "code",
   "execution_count": 20,
   "id": "7b65f650",
   "metadata": {
    "execution": {
     "iopub.execute_input": "2025-01-30T14:34:02.832699Z",
     "iopub.status.busy": "2025-01-30T14:34:02.832391Z",
     "iopub.status.idle": "2025-01-30T14:34:02.870453Z",
     "shell.execute_reply": "2025-01-30T14:34:02.869570Z"
    },
    "papermill": {
     "duration": 0.058934,
     "end_time": "2025-01-30T14:34:02.872093",
     "exception": false,
     "start_time": "2025-01-30T14:34:02.813159",
     "status": "completed"
    },
    "tags": []
   },
   "outputs": [
    {
     "data": {
      "text/html": [
       "<div>\n",
       "<style scoped>\n",
       "    .dataframe tbody tr th:only-of-type {\n",
       "        vertical-align: middle;\n",
       "    }\n",
       "\n",
       "    .dataframe tbody tr th {\n",
       "        vertical-align: top;\n",
       "    }\n",
       "\n",
       "    .dataframe thead th {\n",
       "        text-align: right;\n",
       "    }\n",
       "</style>\n",
       "<table border=\"1\" class=\"dataframe\">\n",
       "  <thead>\n",
       "    <tr style=\"text-align: right;\">\n",
       "      <th></th>\n",
       "      <th>store</th>\n",
       "      <th>num_sold</th>\n",
       "    </tr>\n",
       "  </thead>\n",
       "  <tbody>\n",
       "    <tr>\n",
       "      <th>0</th>\n",
       "      <td>Discount Stickers</td>\n",
       "      <td>218.0</td>\n",
       "    </tr>\n",
       "    <tr>\n",
       "      <th>1</th>\n",
       "      <td>Premium Sticker Mart</td>\n",
       "      <td>NaN</td>\n",
       "    </tr>\n",
       "    <tr>\n",
       "      <th>2</th>\n",
       "      <td>Stickers for Less</td>\n",
       "      <td>NaN</td>\n",
       "    </tr>\n",
       "  </tbody>\n",
       "</table>\n",
       "</div>"
      ],
      "text/plain": [
       "                  store  num_sold\n",
       "0     Discount Stickers     218.0\n",
       "1  Premium Sticker Mart       NaN\n",
       "2     Stickers for Less       NaN"
      ]
     },
     "execution_count": 20,
     "metadata": {},
     "output_type": "execute_result"
    }
   ],
   "source": [
    "df_train.loc[df_train['country']=='Canada',['store','num_sold']].mode()"
   ]
  },
  {
   "cell_type": "code",
   "execution_count": 21,
   "id": "c676ad41",
   "metadata": {
    "execution": {
     "iopub.execute_input": "2025-01-30T14:34:02.908413Z",
     "iopub.status.busy": "2025-01-30T14:34:02.908097Z",
     "iopub.status.idle": "2025-01-30T14:34:02.967857Z",
     "shell.execute_reply": "2025-01-30T14:34:02.966885Z"
    },
    "papermill": {
     "duration": 0.079639,
     "end_time": "2025-01-30T14:34:02.969456",
     "exception": false,
     "start_time": "2025-01-30T14:34:02.889817",
     "status": "completed"
    },
    "tags": []
   },
   "outputs": [
    {
     "data": {
      "text/html": [
       "<div>\n",
       "<style scoped>\n",
       "    .dataframe tbody tr th:only-of-type {\n",
       "        vertical-align: middle;\n",
       "    }\n",
       "\n",
       "    .dataframe tbody tr th {\n",
       "        vertical-align: top;\n",
       "    }\n",
       "\n",
       "    .dataframe thead th {\n",
       "        text-align: right;\n",
       "    }\n",
       "</style>\n",
       "<table border=\"1\" class=\"dataframe\">\n",
       "  <thead>\n",
       "    <tr style=\"text-align: right;\">\n",
       "      <th></th>\n",
       "      <th></th>\n",
       "      <th>id</th>\n",
       "      <th>date</th>\n",
       "      <th>product</th>\n",
       "      <th>num_sold</th>\n",
       "    </tr>\n",
       "    <tr>\n",
       "      <th>country</th>\n",
       "      <th>store</th>\n",
       "      <th></th>\n",
       "      <th></th>\n",
       "      <th></th>\n",
       "      <th></th>\n",
       "    </tr>\n",
       "  </thead>\n",
       "  <tbody>\n",
       "    <tr>\n",
       "      <th rowspan=\"3\" valign=\"top\">Canada</th>\n",
       "      <th>Discount Stickers</th>\n",
       "      <td>2558</td>\n",
       "      <td>2558</td>\n",
       "      <td>2558</td>\n",
       "      <td>0</td>\n",
       "    </tr>\n",
       "    <tr>\n",
       "      <th>Premium Sticker Mart</th>\n",
       "      <td>380</td>\n",
       "      <td>380</td>\n",
       "      <td>380</td>\n",
       "      <td>0</td>\n",
       "    </tr>\n",
       "    <tr>\n",
       "      <th>Stickers for Less</th>\n",
       "      <td>1308</td>\n",
       "      <td>1308</td>\n",
       "      <td>1308</td>\n",
       "      <td>0</td>\n",
       "    </tr>\n",
       "    <tr>\n",
       "      <th rowspan=\"3\" valign=\"top\">Kenya</th>\n",
       "      <th>Discount Stickers</th>\n",
       "      <td>2621</td>\n",
       "      <td>2621</td>\n",
       "      <td>2621</td>\n",
       "      <td>0</td>\n",
       "    </tr>\n",
       "    <tr>\n",
       "      <th>Premium Sticker Mart</th>\n",
       "      <td>646</td>\n",
       "      <td>646</td>\n",
       "      <td>646</td>\n",
       "      <td>0</td>\n",
       "    </tr>\n",
       "    <tr>\n",
       "      <th>Stickers for Less</th>\n",
       "      <td>1358</td>\n",
       "      <td>1358</td>\n",
       "      <td>1358</td>\n",
       "      <td>0</td>\n",
       "    </tr>\n",
       "  </tbody>\n",
       "</table>\n",
       "</div>"
      ],
      "text/plain": [
       "                                id  date  product  num_sold\n",
       "country store                                              \n",
       "Canada  Discount Stickers     2558  2558     2558         0\n",
       "        Premium Sticker Mart   380   380      380         0\n",
       "        Stickers for Less     1308  1308     1308         0\n",
       "Kenya   Discount Stickers     2621  2621     2621         0\n",
       "        Premium Sticker Mart   646   646      646         0\n",
       "        Stickers for Less     1358  1358     1358         0"
      ]
     },
     "execution_count": 21,
     "metadata": {},
     "output_type": "execute_result"
    }
   ],
   "source": [
    "df_train.iloc[df_train[df_train.isna().any(axis=1)].index,:].groupby(by=['country','store']).count()"
   ]
  },
  {
   "cell_type": "code",
   "execution_count": 22,
   "id": "6c2f17f4",
   "metadata": {
    "execution": {
     "iopub.execute_input": "2025-01-30T14:34:03.007712Z",
     "iopub.status.busy": "2025-01-30T14:34:03.007391Z",
     "iopub.status.idle": "2025-01-30T14:34:03.012013Z",
     "shell.execute_reply": "2025-01-30T14:34:03.011173Z"
    },
    "papermill": {
     "duration": 0.025324,
     "end_time": "2025-01-30T14:34:03.013556",
     "exception": false,
     "start_time": "2025-01-30T14:34:02.988232",
     "status": "completed"
    },
    "tags": []
   },
   "outputs": [],
   "source": [
    "\n",
    "\n",
    "def get_alpha2_code(country_name):\n",
    "  \"\"\"\n",
    "  Gets the ISO 3166-1 Alpha-2 country code for the given country name.\n",
    "\n",
    "  Args:\n",
    "    country_name: The name of the country.\n",
    "\n",
    "  Returns:\n",
    "    The ISO 3166-1 Alpha-2 country code, or None if the country is not found.\n",
    "  \"\"\"\n",
    "  try:\n",
    "    country = pycountry.countries.search_fuzzy(country_name)[0]\n",
    "    return country.alpha_2\n",
    "  except LookupError:\n",
    "    return None\n",
    "\n"
   ]
  },
  {
   "cell_type": "code",
   "execution_count": 23,
   "id": "82f813a1",
   "metadata": {
    "execution": {
     "iopub.execute_input": "2025-01-30T14:34:03.050433Z",
     "iopub.status.busy": "2025-01-30T14:34:03.050119Z",
     "iopub.status.idle": "2025-01-30T14:34:03.054330Z",
     "shell.execute_reply": "2025-01-30T14:34:03.053475Z"
    },
    "papermill": {
     "duration": 0.024293,
     "end_time": "2025-01-30T14:34:03.055879",
     "exception": false,
     "start_time": "2025-01-30T14:34:03.031586",
     "status": "completed"
    },
    "tags": []
   },
   "outputs": [],
   "source": [
    "# Function to create holiday sets for each country\n",
    "def generate_country_holidays(countries, start_year, end_year):\n",
    "    country_holidays = {}\n",
    "    for country in countries:\n",
    "        # Generate a holiday set for the range of years\n",
    "        country_holidays[country] = holidays.CountryHoliday(country, years=range(start_year, end_year + 1)) \n",
    "    return country_holidays\n"
   ]
  },
  {
   "cell_type": "code",
   "execution_count": 24,
   "id": "36f01f30",
   "metadata": {
    "execution": {
     "iopub.execute_input": "2025-01-30T14:34:03.092487Z",
     "iopub.status.busy": "2025-01-30T14:34:03.092137Z",
     "iopub.status.idle": "2025-01-30T14:34:06.465247Z",
     "shell.execute_reply": "2025-01-30T14:34:06.464138Z"
    },
    "papermill": {
     "duration": 3.393798,
     "end_time": "2025-01-30T14:34:06.467145",
     "exception": false,
     "start_time": "2025-01-30T14:34:03.073347",
     "status": "completed"
    },
    "tags": []
   },
   "outputs": [],
   "source": [
    "df_train['Day']=pd.to_datetime(df_train['date']).dt.strftime(\"%d\")\n",
    "df_train['Month']=pd.to_datetime(df_train['date']).dt.strftime(\"%m\")\n",
    "df_train['Year']=pd.to_datetime(df_train['date']).dt.strftime(\"%Y\")\n",
    "df_train['Day_of_week']=pd.to_datetime(df_train['date']).dt.dayofweek\n",
    "df_train['Week_No']=pd.to_datetime(df_train['date']).dt.isocalendar().week\n",
    "df_train['is_weekend']=(df_train['Day_of_week']>=4).astype(int)\n",
    "df_train['Quarter_Discrete'] = (df_train['Month'].astype(int) - 1) // 3 + 1\n",
    "df_train['quarter_normalized'] = (df_train['Quarter_Discrete']-1)/3\n",
    "df_train['month_normalized']=(df_train['Month'].astype(int)-1)/11\n",
    "#df_train['Month_Spline']=periodic_spline_transformer(12,4).fit_transform(df_train[['quarter_normalized']])[:,0]\n",
    "#df_train['Quarter_Spline']=periodic_spline_transformer(4,4).fit_transform(df_train[['quarter_normalized']])[:,0]\n",
    "df_train['week_number_normalized'] = df_train['Week_No'] / df_train['Week_No'].max()\n",
    "#df_train['Week_Spline']=periodic_spline_transformer(53,5).fit_transform(df_train[['week_number_normalized']])[:,0]"
   ]
  },
  {
   "cell_type": "code",
   "execution_count": 25,
   "id": "cde1e05c",
   "metadata": {
    "execution": {
     "iopub.execute_input": "2025-01-30T14:34:06.504544Z",
     "iopub.status.busy": "2025-01-30T14:34:06.503943Z",
     "iopub.status.idle": "2025-01-30T14:34:06.509886Z",
     "shell.execute_reply": "2025-01-30T14:34:06.508684Z"
    },
    "papermill": {
     "duration": 0.026353,
     "end_time": "2025-01-30T14:34:06.511618",
     "exception": false,
     "start_time": "2025-01-30T14:34:06.485265",
     "status": "completed"
    },
    "tags": []
   },
   "outputs": [],
   "source": [
    "def consecutive_days_visited(df):\n",
    "    \"\"\"\n",
    "    Calculates the number of consecutive days a store was visited.\n",
    "\n",
    "    Args:\n",
    "        df: pandas DataFrame with columns 'date', 'country', 'store'\n",
    "\n",
    "    Returns:\n",
    "        pandas DataFrame with an additional column 'consecutive_days' \n",
    "    \"\"\"\n",
    "\n",
    "    # Ensure date index is sorted\n",
    "    df = df.sort_index()\n",
    "\n",
    "    # Group by 'country' and 'store'\n",
    "    grouped = df.groupby(['country', 'store'])\n",
    "\n",
    "    # Calculate consecutive days within each group\n",
    "    df['consecutive_days'] = (grouped.indices - grouped.indices.min()).dt.days + 1\n",
    "\n",
    "    return df\n"
   ]
  },
  {
   "cell_type": "code",
   "execution_count": 26,
   "id": "6e239822",
   "metadata": {
    "execution": {
     "iopub.execute_input": "2025-01-30T14:34:06.548397Z",
     "iopub.status.busy": "2025-01-30T14:34:06.548000Z",
     "iopub.status.idle": "2025-01-30T14:34:06.721842Z",
     "shell.execute_reply": "2025-01-30T14:34:06.720479Z"
    },
    "papermill": {
     "duration": 0.194029,
     "end_time": "2025-01-30T14:34:06.723593",
     "exception": false,
     "start_time": "2025-01-30T14:34:06.529564",
     "status": "completed"
    },
    "tags": []
   },
   "outputs": [
    {
     "name": "stdout",
     "output_type": "stream",
     "text": [
      "['CA', 'FI', 'IT', 'KE', 'NO', 'SG']\n"
     ]
    }
   ],
   "source": [
    "allcountries=df_train['country'].unique()\n",
    "countrycodes = list(map(lambda x:get_alpha2_code(x),allcountries)) \n",
    "unique_countries = [cc for cc in countrycodes if cc is not None]\n",
    "print(countrycodes)"
   ]
  },
  {
   "cell_type": "code",
   "execution_count": 27,
   "id": "3ea5378a",
   "metadata": {
    "execution": {
     "iopub.execute_input": "2025-01-30T14:34:06.760622Z",
     "iopub.status.busy": "2025-01-30T14:34:06.760235Z",
     "iopub.status.idle": "2025-01-30T14:34:06.855941Z",
     "shell.execute_reply": "2025-01-30T14:34:06.855095Z"
    },
    "papermill": {
     "duration": 0.116018,
     "end_time": "2025-01-30T14:34:06.857736",
     "exception": false,
     "start_time": "2025-01-30T14:34:06.741718",
     "status": "completed"
    },
    "tags": []
   },
   "outputs": [],
   "source": [
    "df_train['store']=df_train['store'].astype('category')\n",
    "df_train['country']=df_train['country'].astype('category')\n",
    "df_train['product']=df_train['product'].astype('category')\n",
    "df_train['Day']=df_train['Day'].astype('category')\n",
    "df_train['Month']=df_train['Month'].astype('category')\n",
    "df_train['Year']=df_train['Year'].astype('category')\n",
    "df_train['Day_of_week']=df_train['Day_of_week'].astype('category')\n"
   ]
  },
  {
   "cell_type": "code",
   "execution_count": 28,
   "id": "66e5b7d4",
   "metadata": {
    "execution": {
     "iopub.execute_input": "2025-01-30T14:34:06.895987Z",
     "iopub.status.busy": "2025-01-30T14:34:06.895638Z",
     "iopub.status.idle": "2025-01-30T14:34:08.360721Z",
     "shell.execute_reply": "2025-01-30T14:34:08.359892Z"
    },
    "papermill": {
     "duration": 1.485685,
     "end_time": "2025-01-30T14:34:08.362536",
     "exception": false,
     "start_time": "2025-01-30T14:34:06.876851",
     "status": "completed"
    },
    "tags": []
   },
   "outputs": [],
   "source": [
    "df_test['Day']=pd.to_datetime(df_test['date']).dt.strftime(\"%d\")\n",
    "df_test['Month']=pd.to_datetime(df_test['date']).dt.strftime(\"%m\")\n",
    "df_test['Year']=pd.to_datetime(df_test['date']).dt.strftime(\"%Y\")\n",
    "df_test['Day_of_week']=pd.to_datetime(df_test['date']).dt.dayofweek\n",
    "df_test['Week_No']=pd.to_datetime(df_test['date']).dt.isocalendar().week\n",
    "df_test['is_weekend']=(df_test['Day_of_week']>=4).astype(int)\n",
    "df_test['Quarter_Discrete'] = (df_test['Month'].astype(int) - 1) // 3 + 1\n",
    "df_test['quarter_normalized'] = (df_test['Quarter_Discrete']-1)/3\n",
    "df_test['month_normalized']=(df_test['Month'].astype(int)-1)/11\n",
    "#df_test['Month_Spline']=periodic_spline_transformer(12,4).fit_transform(df_test[['quarter_normalized']])[:,0]\n",
    "#df_test['Quarter_Spline']=periodic_spline_transformer(4,4).fit_transform(df_test[['quarter_normalized']])[:,0]\n",
    "df_test['week_number_normalized'] = df_test['Week_No'] / df_test['Week_No'].max()\n",
    "#df_test['Week_Spline']=periodic_spline_transformer(53,5).fit_transform(df_test[['week_number_normalized']])[:,0]\n"
   ]
  },
  {
   "cell_type": "code",
   "execution_count": 29,
   "id": "c88ab063",
   "metadata": {
    "execution": {
     "iopub.execute_input": "2025-01-30T14:34:08.400489Z",
     "iopub.status.busy": "2025-01-30T14:34:08.400148Z",
     "iopub.status.idle": "2025-01-30T14:34:08.422218Z",
     "shell.execute_reply": "2025-01-30T14:34:08.421280Z"
    },
    "papermill": {
     "duration": 0.043025,
     "end_time": "2025-01-30T14:34:08.424094",
     "exception": false,
     "start_time": "2025-01-30T14:34:08.381069",
     "status": "completed"
    },
    "tags": []
   },
   "outputs": [],
   "source": [
    "df_test.drop(['week_number_normalized','month_normalized','quarter_normalized'],axis=1,inplace=True)"
   ]
  },
  {
   "cell_type": "code",
   "execution_count": 30,
   "id": "38e63f59",
   "metadata": {
    "execution": {
     "iopub.execute_input": "2025-01-30T14:34:08.461913Z",
     "iopub.status.busy": "2025-01-30T14:34:08.461569Z",
     "iopub.status.idle": "2025-01-30T14:34:08.476654Z",
     "shell.execute_reply": "2025-01-30T14:34:08.475721Z"
    },
    "papermill": {
     "duration": 0.035991,
     "end_time": "2025-01-30T14:34:08.478419",
     "exception": false,
     "start_time": "2025-01-30T14:34:08.442428",
     "status": "completed"
    },
    "tags": []
   },
   "outputs": [],
   "source": [
    "df_train.drop(['week_number_normalized','month_normalized','quarter_normalized'],axis=1,inplace=True)"
   ]
  },
  {
   "cell_type": "code",
   "execution_count": 31,
   "id": "7406eba5",
   "metadata": {
    "execution": {
     "iopub.execute_input": "2025-01-30T14:34:08.516490Z",
     "iopub.status.busy": "2025-01-30T14:34:08.516134Z",
     "iopub.status.idle": "2025-01-30T14:34:08.560440Z",
     "shell.execute_reply": "2025-01-30T14:34:08.559223Z"
    },
    "papermill": {
     "duration": 0.065197,
     "end_time": "2025-01-30T14:34:08.562210",
     "exception": false,
     "start_time": "2025-01-30T14:34:08.497013",
     "status": "completed"
    },
    "tags": []
   },
   "outputs": [],
   "source": [
    "df_test['store']=df_test['store'].astype('category')\n",
    "df_test['country']=df_test['country'].astype('category')\n",
    "df_test['product']=df_test['product'].astype('category')\n",
    "df_test['Day']=df_test['Day'].astype('category')\n",
    "df_test['Month']=df_test['Month'].astype('category')\n",
    "df_test['Year']=df_test['Year'].astype('category')\n",
    "df_test['Day_of_week']=df_test['Day_of_week'].astype('category')\n"
   ]
  },
  {
   "cell_type": "code",
   "execution_count": 32,
   "id": "03271fca",
   "metadata": {
    "execution": {
     "iopub.execute_input": "2025-01-30T14:34:08.600147Z",
     "iopub.status.busy": "2025-01-30T14:34:08.599726Z",
     "iopub.status.idle": "2025-01-30T14:34:08.640402Z",
     "shell.execute_reply": "2025-01-30T14:34:08.639258Z"
    },
    "papermill": {
     "duration": 0.061633,
     "end_time": "2025-01-30T14:34:08.642404",
     "exception": false,
     "start_time": "2025-01-30T14:34:08.580771",
     "status": "completed"
    },
    "tags": []
   },
   "outputs": [],
   "source": [
    "df_train['date']=pd.to_datetime(df_train['date'])\n",
    "df_test['date']=pd.to_datetime(df_test['date'])"
   ]
  },
  {
   "cell_type": "code",
   "execution_count": 33,
   "id": "1e784545",
   "metadata": {
    "execution": {
     "iopub.execute_input": "2025-01-30T14:34:08.680706Z",
     "iopub.status.busy": "2025-01-30T14:34:08.680391Z",
     "iopub.status.idle": "2025-01-30T14:34:08.709174Z",
     "shell.execute_reply": "2025-01-30T14:34:08.708018Z"
    },
    "papermill": {
     "duration": 0.049652,
     "end_time": "2025-01-30T14:34:08.710764",
     "exception": false,
     "start_time": "2025-01-30T14:34:08.661112",
     "status": "completed"
    },
    "tags": []
   },
   "outputs": [
    {
     "name": "stderr",
     "output_type": "stream",
     "text": [
      "<ipython-input-33-a9a4f327ce0c>:1: FutureWarning: The default of observed=False is deprecated and will be changed to True in a future version of pandas. Pass observed=False to retain current behavior or observed=True to adopt the future default and silence this warning.\n",
      "  df_train['previous_visit']=df_train.reset_index().groupby(by=['country','store'])[['date']].diff()\n"
     ]
    }
   ],
   "source": [
    "df_train['previous_visit']=df_train.reset_index().groupby(by=['country','store'])[['date']].diff()"
   ]
  },
  {
   "cell_type": "code",
   "execution_count": 34,
   "id": "a9e537eb",
   "metadata": {
    "execution": {
     "iopub.execute_input": "2025-01-30T14:34:08.748752Z",
     "iopub.status.busy": "2025-01-30T14:34:08.748391Z",
     "iopub.status.idle": "2025-01-30T14:34:08.763369Z",
     "shell.execute_reply": "2025-01-30T14:34:08.762328Z"
    },
    "papermill": {
     "duration": 0.035733,
     "end_time": "2025-01-30T14:34:08.764997",
     "exception": false,
     "start_time": "2025-01-30T14:34:08.729264",
     "status": "completed"
    },
    "tags": []
   },
   "outputs": [
    {
     "name": "stderr",
     "output_type": "stream",
     "text": [
      "<ipython-input-34-9b789beb13f0>:1: FutureWarning: The default of observed=False is deprecated and will be changed to True in a future version of pandas. Pass observed=False to retain current behavior or observed=True to adopt the future default and silence this warning.\n",
      "  df_train['consec_days']=df_train.groupby(by=['country','store'])[['previous_visit']].cumsum()\n"
     ]
    }
   ],
   "source": [
    "df_train['consec_days']=df_train.groupby(by=['country','store'])[['previous_visit']].cumsum()"
   ]
  },
  {
   "cell_type": "code",
   "execution_count": 35,
   "id": "c40c644c",
   "metadata": {
    "execution": {
     "iopub.execute_input": "2025-01-30T14:34:08.803121Z",
     "iopub.status.busy": "2025-01-30T14:34:08.802697Z",
     "iopub.status.idle": "2025-01-30T14:34:08.823653Z",
     "shell.execute_reply": "2025-01-30T14:34:08.822449Z"
    },
    "papermill": {
     "duration": 0.041918,
     "end_time": "2025-01-30T14:34:08.825410",
     "exception": false,
     "start_time": "2025-01-30T14:34:08.783492",
     "status": "completed"
    },
    "tags": []
   },
   "outputs": [
    {
     "name": "stderr",
     "output_type": "stream",
     "text": [
      "<ipython-input-35-b64440241ea2>:1: FutureWarning: The default of observed=False is deprecated and will be changed to True in a future version of pandas. Pass observed=False to retain current behavior or observed=True to adopt the future default and silence this warning.\n",
      "  df_test['previous_visit']=df_test.reset_index().groupby(by=['country','store'])[['date']].diff()\n",
      "<ipython-input-35-b64440241ea2>:2: FutureWarning: The default of observed=False is deprecated and will be changed to True in a future version of pandas. Pass observed=False to retain current behavior or observed=True to adopt the future default and silence this warning.\n",
      "  df_test['consec_days']=df_test.groupby(by=['country','store'])[['previous_visit']].cumsum()\n"
     ]
    }
   ],
   "source": [
    "df_test['previous_visit']=df_test.reset_index().groupby(by=['country','store'])[['date']].diff()\n",
    "df_test['consec_days']=df_test.groupby(by=['country','store'])[['previous_visit']].cumsum()"
   ]
  },
  {
   "cell_type": "code",
   "execution_count": 36,
   "id": "87391161",
   "metadata": {
    "execution": {
     "iopub.execute_input": "2025-01-30T14:34:08.864283Z",
     "iopub.status.busy": "2025-01-30T14:34:08.863900Z",
     "iopub.status.idle": "2025-01-30T14:34:08.912902Z",
     "shell.execute_reply": "2025-01-30T14:34:08.912130Z"
    },
    "papermill": {
     "duration": 0.07002,
     "end_time": "2025-01-30T14:34:08.914655",
     "exception": false,
     "start_time": "2025-01-30T14:34:08.844635",
     "status": "completed"
    },
    "tags": []
   },
   "outputs": [],
   "source": [
    "df_train.set_index('date',inplace=True)\n",
    "Startmin=df_train.index.min()\n",
    "df_train['days_since_start'] = (df_train.index - Startmin).days\n",
    "\n",
    "# Add cycle hints based on time \n",
    "df_train['sin_year'] = np.sin(2 * np.pi * df_train['days_since_start'] / 365)\n",
    "df_train['cos_year'] = np.cos(2 * np.pi * df_train['days_since_start'] / 365)\n",
    "df_train['sin_month'] = np.sin(2 * np.pi * df_train['days_since_start'] / 30)\n",
    "df_train['cos_month'] = np.cos(2 * np.pi * df_train['days_since_start'] / 30)\n",
    "\n",
    "df_test.set_index('date',inplace=True)\n",
    "df_test['days_since_start'] = (df_test.index - Startmin).days\n",
    "\n",
    "# Add cycle hints based on time \n",
    "df_test['sin_year'] = np.sin(2 * np.pi * df_test['days_since_start'] / 365)\n",
    "df_test['cos_year'] = np.cos(2 * np.pi * df_test['days_since_start'] / 365)\n",
    "df_test['sin_month'] = np.sin(2 * np.pi * df_test['days_since_start'] / 30)\n",
    "df_test['cos_month'] = np.cos(2 * np.pi * df_test['days_since_start'] / 30)\n",
    "\n",
    "df_train.reset_index(inplace=True)\n",
    "df_test.reset_index(inplace=True)"
   ]
  },
  {
   "cell_type": "code",
   "execution_count": 37,
   "id": "6e4d9c09",
   "metadata": {
    "execution": {
     "iopub.execute_input": "2025-01-30T14:34:08.954563Z",
     "iopub.status.busy": "2025-01-30T14:34:08.954225Z",
     "iopub.status.idle": "2025-01-30T14:34:08.980411Z",
     "shell.execute_reply": "2025-01-30T14:34:08.979198Z"
    },
    "papermill": {
     "duration": 0.047771,
     "end_time": "2025-01-30T14:34:08.982206",
     "exception": false,
     "start_time": "2025-01-30T14:34:08.934435",
     "status": "completed"
    },
    "tags": []
   },
   "outputs": [
    {
     "name": "stdout",
     "output_type": "stream",
     "text": [
      "<class 'pandas.core.frame.DataFrame'>\n",
      "RangeIndex: 230130 entries, 0 to 230129\n",
      "Data columns (total 20 columns):\n",
      " #   Column            Non-Null Count   Dtype          \n",
      "---  ------            --------------   -----          \n",
      " 0   date              230130 non-null  datetime64[ns] \n",
      " 1   id                230130 non-null  int64          \n",
      " 2   country           230130 non-null  category       \n",
      " 3   store             230130 non-null  category       \n",
      " 4   product           230130 non-null  category       \n",
      " 5   num_sold          221259 non-null  float64        \n",
      " 6   Day               230130 non-null  category       \n",
      " 7   Month             230130 non-null  category       \n",
      " 8   Year              230130 non-null  category       \n",
      " 9   Day_of_week       230130 non-null  category       \n",
      " 10  Week_No           230130 non-null  UInt32         \n",
      " 11  is_weekend        230130 non-null  int64          \n",
      " 12  Quarter_Discrete  230130 non-null  int64          \n",
      " 13  previous_visit    230112 non-null  timedelta64[ns]\n",
      " 14  consec_days       230112 non-null  timedelta64[ns]\n",
      " 15  days_since_start  230130 non-null  int64          \n",
      " 16  sin_year          230130 non-null  float64        \n",
      " 17  cos_year          230130 non-null  float64        \n",
      " 18  sin_month         230130 non-null  float64        \n",
      " 19  cos_month         230130 non-null  float64        \n",
      "dtypes: UInt32(1), category(7), datetime64[ns](1), float64(5), int64(4), timedelta64[ns](2)\n",
      "memory usage: 23.7 MB\n"
     ]
    }
   ],
   "source": [
    "df_train.info()"
   ]
  },
  {
   "cell_type": "code",
   "execution_count": 38,
   "id": "e57cad12",
   "metadata": {
    "execution": {
     "iopub.execute_input": "2025-01-30T14:34:09.021531Z",
     "iopub.status.busy": "2025-01-30T14:34:09.021164Z",
     "iopub.status.idle": "2025-01-30T14:34:09.269560Z",
     "shell.execute_reply": "2025-01-30T14:34:09.268420Z"
    },
    "papermill": {
     "duration": 0.270086,
     "end_time": "2025-01-30T14:34:09.271394",
     "exception": false,
     "start_time": "2025-01-30T14:34:09.001308",
     "status": "completed"
    },
    "tags": []
   },
   "outputs": [],
   "source": [
    "#Get country\n",
    "\n",
    "#Get holidays for each country\n",
    "#allcountries.append(\"weirdcountry\")\n",
    "country_holidays={}\n",
    "\n",
    "#df_train['date']=pd.to_datetime(df_train['date'])\n",
    "start_year = df_train['date'].dt.year.min()\n",
    "end_year = df_train['date'].dt.year.max()\n",
    "\n",
    "country_holidays = generate_country_holidays(unique_countries, start_year, end_year)\n",
    "holiday_df = pd.DataFrame([\n",
    "    {'date': date, 'country_code': country, 'country': cname}\n",
    "    for country in unique_countries\n",
    "    for date in country_holidays[country]\n",
    "    for cname in [pycountry.countries.get(alpha_2=cc).name for cc in unique_countries]]\n",
    ")\n",
    "holiday_df['is_holiday'] = 1\n",
    "holiday_df['date']=pd.to_datetime(holiday_df['date'])\n",
    "holiday_df.drop('country_code',axis=1,inplace=True)\n",
    "\n",
    "df_train = df_train.merge(holiday_df, on=['date', 'country'], how='left').fillna({'is_holiday': 0})"
   ]
  },
  {
   "cell_type": "code",
   "execution_count": 39,
   "id": "2fca8868",
   "metadata": {
    "execution": {
     "iopub.execute_input": "2025-01-30T14:34:09.309752Z",
     "iopub.status.busy": "2025-01-30T14:34:09.309404Z",
     "iopub.status.idle": "2025-01-30T14:34:09.373677Z",
     "shell.execute_reply": "2025-01-30T14:34:09.372578Z"
    },
    "papermill": {
     "duration": 0.08561,
     "end_time": "2025-01-30T14:34:09.375608",
     "exception": false,
     "start_time": "2025-01-30T14:34:09.289998",
     "status": "completed"
    },
    "tags": []
   },
   "outputs": [],
   "source": [
    "start_year = df_test['date'].dt.year.min()\n",
    "end_year = df_test['date'].dt.year.max()\n",
    "#unique_countries = [cc for cc in countrycodes if cc is not None]\n",
    "country_holidays = generate_country_holidays(unique_countries, start_year, end_year)\n",
    "\n",
    "holiday_df = pd.DataFrame([\n",
    "    {'date': date, 'country_code': country, 'country': cname}\n",
    "    for country in unique_countries\n",
    "    for date in country_holidays[country]\n",
    "    for cname in [pycountry.countries.get(alpha_2=cc).name for cc in unique_countries]]\n",
    ")\n",
    "holiday_df['is_holiday']=1\n",
    "holiday_df['date']=pd.to_datetime(holiday_df['date'])\n",
    "holiday_df.drop('country_code',axis=1,inplace=True)\n",
    "\n",
    "df_test = df_test.merge(holiday_df, on=['date', 'country'], how='left').fillna({'is_holiday': 0})\n"
   ]
  },
  {
   "cell_type": "code",
   "execution_count": 40,
   "id": "ab465a31",
   "metadata": {
    "execution": {
     "iopub.execute_input": "2025-01-30T14:34:09.414262Z",
     "iopub.status.busy": "2025-01-30T14:34:09.413881Z",
     "iopub.status.idle": "2025-01-30T14:34:09.422122Z",
     "shell.execute_reply": "2025-01-30T14:34:09.421154Z"
    },
    "papermill": {
     "duration": 0.029178,
     "end_time": "2025-01-30T14:34:09.423693",
     "exception": false,
     "start_time": "2025-01-30T14:34:09.394515",
     "status": "completed"
    },
    "tags": []
   },
   "outputs": [
    {
     "data": {
      "text/plain": [
       "is_holiday\n",
       "0    88290\n",
       "1    18270\n",
       "Name: count, dtype: int64"
      ]
     },
     "execution_count": 40,
     "metadata": {},
     "output_type": "execute_result"
    }
   ],
   "source": [
    "df_test['is_holiday']=df_test['is_holiday'].astype(int)\n",
    "df_test['is_holiday'].value_counts()"
   ]
  },
  {
   "cell_type": "code",
   "execution_count": 41,
   "id": "1401abbb",
   "metadata": {
    "execution": {
     "iopub.execute_input": "2025-01-30T14:34:09.477744Z",
     "iopub.status.busy": "2025-01-30T14:34:09.477405Z",
     "iopub.status.idle": "2025-01-30T14:34:09.484145Z",
     "shell.execute_reply": "2025-01-30T14:34:09.483029Z"
    },
    "papermill": {
     "duration": 0.040442,
     "end_time": "2025-01-30T14:34:09.486350",
     "exception": false,
     "start_time": "2025-01-30T14:34:09.445908",
     "status": "completed"
    },
    "tags": []
   },
   "outputs": [],
   "source": [
    "df_train.set_index('date',inplace=True)\n",
    "df_test.set_index('date',inplace=True)"
   ]
  },
  {
   "cell_type": "code",
   "execution_count": 42,
   "id": "70a9840d",
   "metadata": {
    "execution": {
     "iopub.execute_input": "2025-01-30T14:34:09.538939Z",
     "iopub.status.busy": "2025-01-30T14:34:09.538588Z",
     "iopub.status.idle": "2025-01-30T14:34:09.542417Z",
     "shell.execute_reply": "2025-01-30T14:34:09.541455Z"
    },
    "papermill": {
     "duration": 0.024805,
     "end_time": "2025-01-30T14:34:09.543981",
     "exception": false,
     "start_time": "2025-01-30T14:34:09.519176",
     "status": "completed"
    },
    "tags": []
   },
   "outputs": [],
   "source": [
    "#Graph for intrpolate is changing too much\n",
    "#Not interpolate but just drop Na is better\n",
    "#Interpolate missing num_sold\n",
    "\n",
    "#df_train['date']=pd.to_datetime(df_train['date'])\n",
    "#df = df_train.set_index('date')\n",
    "\n",
    "# df_train = df_train.sort_values(by=['country', 'store', 'product', 'date'])\n",
    "\n",
    "# # Impute NaN with interpolation (grouped by Country, Store, and Product)\n",
    "# df_train['num_sold'] = df_train.groupby(['country', 'store', 'product'])['num_sold'].transform(\n",
    "#     lambda group: group.interpolate(method='linear',limit=None,limit_direction='both').ffill().bfill()\n",
    "# )\n",
    "#df['num_sold'].isna().any()"
   ]
  },
  {
   "cell_type": "code",
   "execution_count": 43,
   "id": "71963484",
   "metadata": {
    "execution": {
     "iopub.execute_input": "2025-01-30T14:34:09.583170Z",
     "iopub.status.busy": "2025-01-30T14:34:09.582779Z",
     "iopub.status.idle": "2025-01-30T14:34:09.586415Z",
     "shell.execute_reply": "2025-01-30T14:34:09.585492Z"
    },
    "papermill": {
     "duration": 0.024734,
     "end_time": "2025-01-30T14:34:09.587773",
     "exception": false,
     "start_time": "2025-01-30T14:34:09.563039",
     "status": "completed"
    },
    "tags": []
   },
   "outputs": [],
   "source": [
    "#condition = (df.num_sold.notna()) & (df['country']=='Canada') & (df['store']=='Discount Stickers') & (df['product']=='Holographic Goose')\n",
    "#df[condition]\n"
   ]
  },
  {
   "cell_type": "code",
   "execution_count": 44,
   "id": "1108d223",
   "metadata": {
    "execution": {
     "iopub.execute_input": "2025-01-30T14:34:09.626235Z",
     "iopub.status.busy": "2025-01-30T14:34:09.625814Z",
     "iopub.status.idle": "2025-01-30T14:34:09.629613Z",
     "shell.execute_reply": "2025-01-30T14:34:09.628666Z"
    },
    "papermill": {
     "duration": 0.025031,
     "end_time": "2025-01-30T14:34:09.631221",
     "exception": false,
     "start_time": "2025-01-30T14:34:09.606190",
     "status": "completed"
    },
    "tags": []
   },
   "outputs": [],
   "source": [
    "##Get num_sold NaN product store and country\n",
    "#t=df[df.num_sold.isna()].groupby(['country','store','product'])['product'].value_counts().to_dict()"
   ]
  },
  {
   "cell_type": "code",
   "execution_count": 45,
   "id": "e62a0213",
   "metadata": {
    "execution": {
     "iopub.execute_input": "2025-01-30T14:34:09.669820Z",
     "iopub.status.busy": "2025-01-30T14:34:09.669444Z",
     "iopub.status.idle": "2025-01-30T14:34:09.673097Z",
     "shell.execute_reply": "2025-01-30T14:34:09.672134Z"
    },
    "papermill": {
     "duration": 0.024613,
     "end_time": "2025-01-30T14:34:09.674692",
     "exception": false,
     "start_time": "2025-01-30T14:34:09.650079",
     "status": "completed"
    },
    "tags": []
   },
   "outputs": [],
   "source": [
    "#Country store and product that have NaN\n",
    "# for  k,v in t.items():\n",
    "#     if v!=0:\n",
    "#         print(k,v)"
   ]
  },
  {
   "cell_type": "markdown",
   "id": "00a8ea67",
   "metadata": {
    "papermill": {
     "duration": 0.018163,
     "end_time": "2025-01-30T14:34:09.711494",
     "exception": false,
     "start_time": "2025-01-30T14:34:09.693331",
     "status": "completed"
    },
    "tags": []
   },
   "source": [
    "Impute Canana NaN with 218.0 \n",
    "Impute Kenya NaN with 5.0"
   ]
  },
  {
   "cell_type": "code",
   "execution_count": 46,
   "id": "257d5c51",
   "metadata": {
    "execution": {
     "iopub.execute_input": "2025-01-30T14:34:09.750228Z",
     "iopub.status.busy": "2025-01-30T14:34:09.749836Z",
     "iopub.status.idle": "2025-01-30T14:34:09.792127Z",
     "shell.execute_reply": "2025-01-30T14:34:09.790804Z"
    },
    "papermill": {
     "duration": 0.06375,
     "end_time": "2025-01-30T14:34:09.793953",
     "exception": false,
     "start_time": "2025-01-30T14:34:09.730203",
     "status": "completed"
    },
    "tags": []
   },
   "outputs": [],
   "source": [
    "df_train['previous_visit'].fillna(pd.to_timedelta(0),inplace=True)\n",
    "df_train['consec_days'].fillna(pd.to_timedelta(0),inplace=True)\n",
    "df_test['previous_visit'].fillna(pd.to_timedelta(0),inplace=True)\n",
    "df_test['consec_days'].fillna(pd.to_timedelta(0),inplace=True)\n",
    "\n",
    "df_train.dropna(inplace=True)\n",
    "#df_test.dropna(inplace=True)"
   ]
  },
  {
   "cell_type": "code",
   "execution_count": 47,
   "id": "569029aa",
   "metadata": {
    "execution": {
     "iopub.execute_input": "2025-01-30T14:34:09.832948Z",
     "iopub.status.busy": "2025-01-30T14:34:09.832591Z",
     "iopub.status.idle": "2025-01-30T14:34:09.874023Z",
     "shell.execute_reply": "2025-01-30T14:34:09.873131Z"
    },
    "papermill": {
     "duration": 0.062586,
     "end_time": "2025-01-30T14:34:09.875835",
     "exception": false,
     "start_time": "2025-01-30T14:34:09.813249",
     "status": "completed"
    },
    "tags": []
   },
   "outputs": [],
   "source": [
    "#Drop Na instead of impute\n",
    "df_train.dropna(inplace=True)"
   ]
  },
  {
   "cell_type": "code",
   "execution_count": 48,
   "id": "b9cb1bfb",
   "metadata": {
    "execution": {
     "iopub.execute_input": "2025-01-30T14:34:09.913906Z",
     "iopub.status.busy": "2025-01-30T14:34:09.913581Z",
     "iopub.status.idle": "2025-01-30T14:34:09.917142Z",
     "shell.execute_reply": "2025-01-30T14:34:09.916220Z"
    },
    "papermill": {
     "duration": 0.024133,
     "end_time": "2025-01-30T14:34:09.918542",
     "exception": false,
     "start_time": "2025-01-30T14:34:09.894409",
     "status": "completed"
    },
    "tags": []
   },
   "outputs": [],
   "source": [
    "#Impute Canada with 218\n",
    "#df_train.loc[df_train['country']=='Canada',['num_sold']]=df_train.loc[df_train['country']=='Canada',['num_sold']].fillna(218.0)"
   ]
  },
  {
   "cell_type": "code",
   "execution_count": 49,
   "id": "9ae48ac2",
   "metadata": {
    "execution": {
     "iopub.execute_input": "2025-01-30T14:34:09.958014Z",
     "iopub.status.busy": "2025-01-30T14:34:09.957641Z",
     "iopub.status.idle": "2025-01-30T14:34:09.961168Z",
     "shell.execute_reply": "2025-01-30T14:34:09.960341Z"
    },
    "papermill": {
     "duration": 0.024617,
     "end_time": "2025-01-30T14:34:09.962637",
     "exception": false,
     "start_time": "2025-01-30T14:34:09.938020",
     "status": "completed"
    },
    "tags": []
   },
   "outputs": [],
   "source": [
    "#Impute Kenya with 5\n",
    "#df_train.loc[df_train['country']=='Kenya',['num_sold']]=df_train.loc[df_train['country']=='Kenya',['num_sold']].fillna(5.0)"
   ]
  },
  {
   "cell_type": "code",
   "execution_count": 50,
   "id": "183e5ce1",
   "metadata": {
    "execution": {
     "iopub.execute_input": "2025-01-30T14:34:10.000329Z",
     "iopub.status.busy": "2025-01-30T14:34:09.999930Z",
     "iopub.status.idle": "2025-01-30T14:34:10.003489Z",
     "shell.execute_reply": "2025-01-30T14:34:10.002600Z"
    },
    "papermill": {
     "duration": 0.023919,
     "end_time": "2025-01-30T14:34:10.004954",
     "exception": false,
     "start_time": "2025-01-30T14:34:09.981035",
     "status": "completed"
    },
    "tags": []
   },
   "outputs": [],
   "source": [
    "# nsmode = df_train['num_sold'].mode()\n",
    "# df_train['num_sold']=df_train['num_sold'].fillna(nsmode[0])"
   ]
  },
  {
   "cell_type": "code",
   "execution_count": 51,
   "id": "eb38194e",
   "metadata": {
    "execution": {
     "iopub.execute_input": "2025-01-30T14:34:10.042576Z",
     "iopub.status.busy": "2025-01-30T14:34:10.042223Z",
     "iopub.status.idle": "2025-01-30T14:34:10.063605Z",
     "shell.execute_reply": "2025-01-30T14:34:10.062554Z"
    },
    "papermill": {
     "duration": 0.041973,
     "end_time": "2025-01-30T14:34:10.065309",
     "exception": false,
     "start_time": "2025-01-30T14:34:10.023336",
     "status": "completed"
    },
    "tags": []
   },
   "outputs": [
    {
     "data": {
      "text/plain": [
       "id                  False\n",
       "country             False\n",
       "store               False\n",
       "product             False\n",
       "num_sold            False\n",
       "Day                 False\n",
       "Month               False\n",
       "Year                False\n",
       "Day_of_week         False\n",
       "Week_No             False\n",
       "is_weekend          False\n",
       "Quarter_Discrete    False\n",
       "previous_visit      False\n",
       "consec_days         False\n",
       "days_since_start    False\n",
       "sin_year            False\n",
       "cos_year            False\n",
       "sin_month           False\n",
       "cos_month           False\n",
       "is_holiday          False\n",
       "dtype: bool"
      ]
     },
     "execution_count": 51,
     "metadata": {},
     "output_type": "execute_result"
    }
   ],
   "source": [
    "df_train.isna().any()"
   ]
  },
  {
   "cell_type": "code",
   "execution_count": 52,
   "id": "8fbef3f4",
   "metadata": {
    "execution": {
     "iopub.execute_input": "2025-01-30T14:34:10.103864Z",
     "iopub.status.busy": "2025-01-30T14:34:10.103493Z",
     "iopub.status.idle": "2025-01-30T14:34:10.141791Z",
     "shell.execute_reply": "2025-01-30T14:34:10.140689Z"
    },
    "papermill": {
     "duration": 0.059508,
     "end_time": "2025-01-30T14:34:10.143669",
     "exception": false,
     "start_time": "2025-01-30T14:34:10.084161",
     "status": "completed"
    },
    "tags": []
   },
   "outputs": [],
   "source": [
    "df_train['is_holiday']=df_train['is_holiday'].astype('int')\n",
    "df_train['previous_visit']=pd.to_numeric(df_train['previous_visit'].dt.days,errors='coerce')\n",
    "df_train['consec_days']=pd.to_numeric(df_train['consec_days'].dt.days,errors='coerce')\n",
    "df_train['country']=df_train['country'].astype('category')\n",
    "\n",
    "df_test['is_holiday']=df_test['is_holiday'].astype('int')\n",
    "df_test['previous_visit']=pd.to_numeric(df_test['previous_visit'].dt.days,errors='coerce')\n",
    "df_test['consec_days']=pd.to_numeric(df_test['consec_days'].dt.days,errors='coerce')\n",
    "df_test['country']=df_test['country'].astype('category')"
   ]
  },
  {
   "cell_type": "code",
   "execution_count": 53,
   "id": "048fb4bf",
   "metadata": {
    "execution": {
     "iopub.execute_input": "2025-01-30T14:34:10.182166Z",
     "iopub.status.busy": "2025-01-30T14:34:10.181791Z",
     "iopub.status.idle": "2025-01-30T14:34:10.190842Z",
     "shell.execute_reply": "2025-01-30T14:34:10.189890Z"
    },
    "papermill": {
     "duration": 0.029684,
     "end_time": "2025-01-30T14:34:10.192318",
     "exception": false,
     "start_time": "2025-01-30T14:34:10.162634",
     "status": "completed"
    },
    "tags": []
   },
   "outputs": [],
   "source": [
    "#log transform target\n",
    "df_train['num_sold']=np.log1p(df_train['num_sold']) \n"
   ]
  },
  {
   "cell_type": "code",
   "execution_count": 54,
   "id": "9395fe35",
   "metadata": {
    "execution": {
     "iopub.execute_input": "2025-01-30T14:34:10.230586Z",
     "iopub.status.busy": "2025-01-30T14:34:10.230255Z",
     "iopub.status.idle": "2025-01-30T14:34:10.982416Z",
     "shell.execute_reply": "2025-01-30T14:34:10.981376Z"
    },
    "papermill": {
     "duration": 0.773141,
     "end_time": "2025-01-30T14:34:10.983877",
     "exception": false,
     "start_time": "2025-01-30T14:34:10.210736",
     "status": "completed"
    },
    "tags": []
   },
   "outputs": [
    {
     "name": "stdout",
     "output_type": "stream",
     "text": [
      "Kaggle train date 2010-01-01 00:00:00 to 2015-08-04 00:00:00\n",
      "Kaggle train loc  0 to 39959\n",
      "Kaggle valid date 2015-08-05 00:00:00 to 2016-12-31 00:00:00\n",
      "Kaggle valid loc 39960 to 49949\n",
      "Kaggle Tiers train date 2010-01-01 00:00:00 to 2015-08-04 00:00:00\n",
      "Kaggle Tiers train loc  0 to 39959\n",
      "Kaggle Tiers valid date 2015-08-05 00:00:00 to 2016-12-31 00:00:00\n",
      "Kaggle Tiers valid loc 39960 to 49949\n",
      "Kerneler train date 2010-01-01 00:00:00 to 2015-08-05 00:00:00\n",
      "Kerneler train loc  0 to 39905\n",
      "Kerneler valid date 2015-08-05 00:00:00 to 2016-12-31 00:00:00\n",
      "Kerneler valid loc 39906 to 49882\n",
      "Kerneler Dark Mode train date 2010-01-01 00:00:00 to 2015-08-04 00:00:00\n",
      "Kerneler Dark Mode train loc  0 to 39958\n",
      "Kerneler Dark Mode valid date 2015-08-05 00:00:00 to 2016-12-31 00:00:00\n",
      "Kerneler Dark Mode valid loc 39959 to 49948\n",
      "Holographic Goose train date 2010-01-01 00:00:00 to 2015-08-17 00:00:00\n",
      "Holographic Goose train loc  0 to 32425\n",
      "Holographic Goose valid date 2015-08-17 00:00:00 to 2016-12-31 00:00:00\n",
      "Holographic Goose valid loc 32426 to 40532\n"
     ]
    }
   ],
   "source": [
    "#Split data according to country into\n",
    "from catboost import Pool\n",
    "cv_product_train_pool={}\n",
    "product_train_pool={}\n",
    "product_valid_pool={}\n",
    "productlist=['Kaggle', 'Kaggle Tiers', 'Kerneler', 'Kerneler Dark Mode', 'Holographic Goose']\n",
    "\n",
    "for p in productlist:\n",
    "    df=df_train[df_train['product']==p].reset_index()\n",
    "    train_x, valid_x, train_y, valid_y = train_test_split(df.drop(['id','num_sold','product'],axis=1),df['num_sold'],shuffle=False,test_size=0.20)\n",
    "    cvtrain_x, cvvalid_x, cvtrain_y, cvvalid_y = train_test_split(df.drop(['id','num_sold','product'],axis=1),df['num_sold'],shuffle=False,test_size=0.10) \n",
    "    cats=df.select_dtypes('category').columns.to_list()\n",
    "    cats.remove('product')\n",
    "    cats.append('is_holiday')\n",
    "    cats.append('Week_No')\n",
    "    cats.append('is_weekend')\n",
    "    cats.append('Quarter_Discrete')\n",
    "    #train_weights = np.linspace(0.1, 1.0, len(train_x))\n",
    "    #valid_weights = np.linspace(0.1, 1.0, len(valid_x)) # Linearly increasing weights\n",
    "    # decay_rate=0.75\n",
    "    # train_weights = decay_rate ** np.arange(len(train_x))[::-1]  # Exponentially increasing weights\n",
    "    # valid_weights = decay_rate ** np.arange(len(valid_x))[::-1]  # Exponentially increasing weights\n",
    "    cv_product_train_pool[p]=Pool(cvtrain_x,label=cvtrain_y,cat_features=cats)\n",
    "    product_train_pool[p]=Pool(train_x,label=train_y,cat_features=cats)#,weight=train_weights)\n",
    "    product_valid_pool[p]=Pool(valid_x,label=valid_y,cat_features=cats)#,weight=valid_weights)\n",
    "    print(f\"{p} train date {train_x['date'].min()} to {train_x['date'].max()}\")\n",
    "    print(f\"{p} train loc  {train_x.index.min()} to {train_x.index.max()}\")\n",
    "    print(f\"{p} valid date {valid_x['date'].min()} to {valid_x['date'].max()}\") \n",
    "    print(f\"{p} valid loc {valid_x.index.min()} to {valid_x.index.max()}\")"
   ]
  },
  {
   "cell_type": "code",
   "execution_count": 55,
   "id": "7f4971ce",
   "metadata": {
    "execution": {
     "iopub.execute_input": "2025-01-30T14:34:11.023341Z",
     "iopub.status.busy": "2025-01-30T14:34:11.022825Z",
     "iopub.status.idle": "2025-01-30T14:34:11.026908Z",
     "shell.execute_reply": "2025-01-30T14:34:11.026070Z"
    },
    "papermill": {
     "duration": 0.025401,
     "end_time": "2025-01-30T14:34:11.028317",
     "exception": false,
     "start_time": "2025-01-30T14:34:11.002916",
     "status": "completed"
    },
    "tags": []
   },
   "outputs": [],
   "source": [
    "# #Split data according to country into\n",
    "# from catboost import Pool\n",
    "# cv_country_train_pool={}\n",
    "# country_train_pool={}\n",
    "# country_valid_pool={}\n",
    "# countrylist=['Canada','Finland','Italy','Kenya','Norway','Singapore']\n",
    "\n",
    "# for c in countrylist:\n",
    "#     df=df_train[df_train['country']==c]\n",
    "#     train_x, valid_x, train_y, valid_y = train_test_split(df.drop(['id','num_sold','country'],axis=1),df['num_sold'],shuffle=False,test_size=0.20)\n",
    "#     cvtrain_x, cvvalid_x, cvtrain_y, cvvalid_y = train_test_split(df.drop(['id','num_sold','country'],axis=1),df['num_sold'],shuffle=False,test_size=0.10) \n",
    "#     cats=df.select_dtypes('category').columns.to_list()\n",
    "#     cats.remove('country')\n",
    "#     cats.append('is_holiday')\n",
    "#     cats.append('Week_No')\n",
    "#     cats.append('is_weekend')\n",
    "#     cats.append('Quarter_Discrete')\n",
    "#     #train_weights = np.linspace(0.1, 1.0, len(train_x))\n",
    "#     #valid_weights = np.linspace(0.1, 1.0, len(valid_x)) # Linearly increasing weights\n",
    "#     # decay_rate=0.75\n",
    "#     # train_weights = decay_rate ** np.arange(len(train_x))[::-1]  # Exponentially increasing weights\n",
    "#     # valid_weights = decay_rate ** np.arange(len(valid_x))[::-1]  # Exponentially increasing weights\n",
    "#     cv_country_train_pool[c]=Pool(cvtrain_x,label=cvtrain_y,cat_features=cats)\n",
    "#     country_train_pool[c]=Pool(train_x,label=train_y,cat_features=cats)#,weight=train_weights)\n",
    "#     country_valid_pool[c]=Pool(valid_x,label=valid_y,cat_features=cats)#,weight=valid_weights)\n",
    "#     print(f\"{c} train date {train_x['date'].min()} to {train_x['date'].max()}\")\n",
    "#     print(f\"{c} train loc  {train_x.index.min()} to {train_x.index.max()}\")\n",
    "#     print(f\"{c} valid date {valid_x['date'].min()} to {valid_x['date'].max()}\") \n",
    "#     print(f\"{c} valid loc {valid_x.index.min()} to {valid_x.index.max()}\")"
   ]
  },
  {
   "cell_type": "code",
   "execution_count": 56,
   "id": "ae360ce5",
   "metadata": {
    "execution": {
     "iopub.execute_input": "2025-01-30T14:34:11.066931Z",
     "iopub.status.busy": "2025-01-30T14:34:11.066615Z",
     "iopub.status.idle": "2025-01-30T14:34:11.074302Z",
     "shell.execute_reply": "2025-01-30T14:34:11.073482Z"
    },
    "papermill": {
     "duration": 0.02871,
     "end_time": "2025-01-30T14:34:11.075833",
     "exception": false,
     "start_time": "2025-01-30T14:34:11.047123",
     "status": "completed"
    },
    "tags": []
   },
   "outputs": [],
   "source": [
    "from functools import partial\n",
    "from catboost import cv\n",
    "\n",
    "def objective(trial: optuna.Trial, product,resid_y) -> float:\n",
    "    #data, target = load_breast_cancer(return_X_y=True)\n",
    "    #train_x, valid_x, train_y, valid_y = train_test_split(df_train.drop(['id','num_sold','date'],axis=1), df_train['num_sold'], test_size=0.25)\n",
    "    #cats=df_train.select_dtypes('category').columns\n",
    "    \n",
    "    param = {\n",
    "        \"iterations\":trial.suggest_int(\"iterations\",1000,7000),\n",
    "        \"learning_rate\":trial.suggest_float(\"learning_rate\",0.006,0.03,log=True),\n",
    "        \"objective\": trial.suggest_categorical(\"objective\", [\"MAPE\"]),\n",
    "        #\"colsample_bylevel\": trial.suggest_float(\"colsample_bylevel\", 0.01, 0.7, log=True), #this is not for GPU\n",
    "        \"depth\": trial.suggest_int(\"depth\", 1, 10),\n",
    "        \"boosting_type\": trial.suggest_categorical(\"boosting_type\", [\"Ordered\", \"Plain\"]),\n",
    "        \"bootstrap_type\": trial.suggest_categorical(\n",
    "            \"bootstrap_type\", [\"Bayesian\", \"Bernoulli\", \"MVS\"]\n",
    "        ),\n",
    "        \"used_ram_limit\": \"1gb\",\n",
    "        \"eval_metric\": \"MAPE\",\n",
    "        #\"task_type\": \"GPU\",\n",
    "       #\"cat_features\": cats,\n",
    "    }\n",
    "\n",
    "    if param[\"bootstrap_type\"] == \"Bayesian\":\n",
    "        param[\"bagging_temperature\"] = trial.suggest_float(\"bagging_temperature\", 0, 10)\n",
    "    elif param[\"bootstrap_type\"] == \"Bernoulli\":\n",
    "        param[\"subsample\"] = trial.suggest_float(\"subsample\", 0.1, 1, log=True)\n",
    "\n",
    "   \n",
    "    #use catboost cv with timeseries data\n",
    "    df=df_train[df_train['product']==p]\n",
    "    cvtrain_x = df.drop(['id','num_sold','product'],axis=1)\n",
    "  \n",
    "    # train_x, valid_x, train_y, valid_y = train_test_split(df.drop(['id','num_sold','product'],axis=1),df['num_sold'],shuffle=False,test_size=0.20)\n",
    "    # cvtrain_x, cvvalid_x, cvtrain_y, cvvalid_y = train_test_split(df.drop(['id','num_sold','product'],axis=1),df['num_sold'],shuffle=False,test_size=0.10) \n",
    "    cats=df.select_dtypes('category').columns.to_list()\n",
    "    cats.remove('product')\n",
    "    cats.append('is_holiday')\n",
    "    cats.append('Week_No')\n",
    "    cats.append('is_weekend')\n",
    "    cats.append('Quarter_Discrete')\n",
    "    #train_weights = np.linspace(0.1, 1.0, len(train_x))\n",
    "    #valid_weights = np.linspace(0.1, 1.0, len(valid_x)) # Linearly increasing weights\n",
    "    # decay_rate=0.75\n",
    "    # train_weights = decay_rate ** np.arange(len(train_x))[::-1]  # Exponentially increasing weights\n",
    "    # valid_weights = decay_rate ** np.arange(len(valid_x))[::-1]  # Exponentially increasing weights\n",
    "    cv_product_train_pool=Pool(cvtrain_x,label=resid_y,cat_features=cats)\n",
    "     \n",
    "    cv_data = cb.cv(\n",
    "        cv_product_train_pool,\n",
    "        params=param,\n",
    "        shuffle=False,\n",
    "        type='TimeSeries',\n",
    "        fold_count=3,\n",
    "        early_stopping_rounds=300,\n",
    "        verbose=0,\n",
    "    )\n",
    "    mape = cv_data['test-MAPE-mean'].min()\n",
    "    best_iter = cv_data['test-MAPE-mean'].values.argmin()\n",
    "    return mape\n"
   ]
  },
  {
   "cell_type": "code",
   "execution_count": 57,
   "id": "f6c19856",
   "metadata": {
    "execution": {
     "iopub.execute_input": "2025-01-30T14:34:11.114855Z",
     "iopub.status.busy": "2025-01-30T14:34:11.114498Z",
     "iopub.status.idle": "2025-01-30T14:34:11.127408Z",
     "shell.execute_reply": "2025-01-30T14:34:11.126407Z"
    },
    "papermill": {
     "duration": 0.034496,
     "end_time": "2025-01-30T14:34:11.128990",
     "exception": false,
     "start_time": "2025-01-30T14:34:11.094494",
     "status": "completed"
    },
    "tags": []
   },
   "outputs": [],
   "source": [
    "from functools import partial\n",
    "import joblib\n",
    "from sklearn.linear_model import LinearRegression\n",
    "from sklearn.preprocessing import QuantileTransformer\n",
    "from statsmodels.tsa.deterministic import Fourier, Seasonality, TimeTrend\n",
    "\n",
    "def HybridModels(prod,fore_days):    \n",
    "    X2=df_train[(df_train['product']==prod)].drop(['id','product'],axis=1)\n",
    "    #df2=df_train[(df_train['product']==prod)].loc[:,['date','num_sold']].groupby(by=['date']).mean()\n",
    "    df=df_train[(df_train['product']==prod)].loc[:,['date','num_sold']]\n",
    "    df=df.reset_index(drop=True).set_index('date')\n",
    "\n",
    "    #Split train test timeseries\n",
    "    #y_sum = df2.loc['2010':'2016','num_sold']\n",
    "    y = df.loc['2010':'2016', 'num_sold']\n",
    "    X2 = X2.set_index('date')\n",
    "    X2_train = X2.loc['2010':'2014',:].drop(['num_sold'],axis=1)\n",
    "    X2_test = X2.loc['2015':'2016',:].drop(['num_sold'],axis=1)\n",
    "    Y2_train = X2.loc['2010':'2014','num_sold']\n",
    "    Y2_test = X2.loc['2015':'2016','num_sold']\n",
    "\n",
    "    # X_1: Features for Linear Regression\n",
    "    bigCycle = Fourier(period=5*365,order=1)\n",
    "    four = Fourier(period=365.25, order=5) #Annual cycle\n",
    "    seas = Seasonality(period=7) # weekly cycle\n",
    "    dp = DeterministicProcess(\n",
    "        index=y.index,\n",
    "        constant=True,\n",
    "        order=2,\n",
    "        additional_terms=[bigCycle,seas,four],\n",
    "        )\n",
    "    X = dp.in_sample() # X 2010-2016\n",
    "    print(f'X shape {X.shape}')\n",
    "    print(f'y shape {y.shape}')\n",
    "    X_fore=dp.out_of_sample(steps=fore_days,forecast_index= pd.date_range(start=X.index[-1]+pd.Timedelta(days=1), periods=fore_days, freq=\"D\"))\n",
    "    model = LinearRegression()\n",
    "    model.fit(X,y)\n",
    "    #save model\n",
    "    joblib.dump(model,f'linear_{prod}.joblib')\n",
    "    \n",
    "    y_pred = pd.Series(model.predict(X), index=X.index)\n",
    "    y_resid = y-y_pred\n",
    "    print(f'y_pred shape {y_pred.shape}')\n",
    "    print(f'y_resid shape {y_resid.shape}')\n",
    "    #Get best param from Optuna\n",
    "    #qt = QuantileTransformer(random_state=17)\n",
    "    #y_resid_transform=qt.fit_transform(y_resid.values.reshape(-1,1))\n",
    "    #y_resid=pd.Series(y_resid_transform.flatten(),index=y_resid.index)\n",
    "    objectiveP = partial(objective, product = prod, resid_y=y_resid)    \n",
    "    optuna.logging.set_verbosity(optuna.logging.CRITICAL)\n",
    "    study = optuna.create_study(\n",
    "        #pruner=optuna.pruners.MedianPruner(n_warmup_steps=5), \n",
    "        direction=\"minimize\",\n",
    "    )\n",
    "    study.optimize(objectiveP, n_trials=100, timeout=600)\n",
    "    print(f'best value {study.best_trial.value}')\n",
    "    catparams=study.best_trial.params.copy()\n",
    "    print(catparams)\n",
    "    \n",
    "    eval_pool=Pool(X2_test.reset_index(),label=y_resid.loc['2015':'2016'].reset_index(drop=True),cat_features=cats)\n",
    "    model2=cb.CatBoostRegressor(**catparams)\n",
    "    model2.fit(\n",
    "        X2_train.reset_index(),\n",
    "        y_resid.loc['2010':'2014'].reset_index(drop=True),\n",
    "        eval_set=eval_pool,\n",
    "        cat_features=cats,verbose=0)\n",
    "    joblib.dump(model2,f'cat_{p}.joblib')\n",
    "    \n",
    "    y_fore = pd.Series(model.predict(X_fore), index=X_fore.index)\n",
    "    #Predict and set index as date to get the id later\n",
    "    saveids=df_test[df_test['product']==prod]['id']\n",
    "    #y_fore_resid2_qt=pd.Series(model2.predict(df_test[df_test['product']==prod].reset_index().drop(['id','product'],axis=1)))    \n",
    "    #y_fore_resid2=pd.Series(qt.inverse_transform(y_fore_resid2_qt.values.reshape(-1,1)).flatten())\n",
    "    y_fore_resid2=pd.Series(model2.predict(df_test[df_test['product']==prod].reset_index().drop(['id','product'],axis=1)))    \n",
    "    \n",
    "    df_ans = pd.concat([saveids.reset_index(),y_fore_resid2],axis=1,ignore_index=True)\n",
    "    #print(df_ans.describe())\n",
    "    df_ans=df_ans.rename({0:'date',1:'id',2:'resid'},axis=1)\n",
    "    df_ans['fore']=df_ans['date'].map(y_fore)\n",
    "    df_ans['num_sold']=df_ans['fore']+df_ans['resid']\n",
    "    \n",
    "    return df_ans.copy()\n",
    "    \n",
    "   # y_pred_resid = pd.Series(model2.predict(X2_test.reset_index(drop=True)), index=X2_test.index)\n",
    "\n"
   ]
  },
  {
   "cell_type": "code",
   "execution_count": null,
   "id": "97091b07",
   "metadata": {
    "papermill": {
     "duration": 0.018306,
     "end_time": "2025-01-30T14:34:11.165791",
     "exception": false,
     "start_time": "2025-01-30T14:34:11.147485",
     "status": "completed"
    },
    "tags": []
   },
   "outputs": [],
   "source": []
  },
  {
   "cell_type": "code",
   "execution_count": 58,
   "id": "fb98b271",
   "metadata": {
    "execution": {
     "iopub.execute_input": "2025-01-30T14:34:11.203941Z",
     "iopub.status.busy": "2025-01-30T14:34:11.203583Z",
     "iopub.status.idle": "2025-01-30T14:34:11.209004Z",
     "shell.execute_reply": "2025-01-30T14:34:11.208104Z"
    },
    "papermill": {
     "duration": 0.026449,
     "end_time": "2025-01-30T14:34:11.210490",
     "exception": false,
     "start_time": "2025-01-30T14:34:11.184041",
     "status": "completed"
    },
    "tags": []
   },
   "outputs": [
    {
     "data": {
      "text/plain": [
       "(240265, 20)"
      ]
     },
     "execution_count": 58,
     "metadata": {},
     "output_type": "execute_result"
    }
   ],
   "source": [
    "df_train.shape\n",
    "#pd.core.indexes.range.RangeIndex"
   ]
  },
  {
   "cell_type": "code",
   "execution_count": 59,
   "id": "3c8db17b",
   "metadata": {
    "execution": {
     "iopub.execute_input": "2025-01-30T14:34:11.249977Z",
     "iopub.status.busy": "2025-01-30T14:34:11.249627Z",
     "iopub.status.idle": "2025-01-30T14:34:11.258641Z",
     "shell.execute_reply": "2025-01-30T14:34:11.257700Z"
    },
    "papermill": {
     "duration": 0.03041,
     "end_time": "2025-01-30T14:34:11.260190",
     "exception": false,
     "start_time": "2025-01-30T14:34:11.229780",
     "status": "completed"
    },
    "tags": []
   },
   "outputs": [],
   "source": [
    "def LoadandPredict(prod,fore_days):\n",
    "    model=joblib.load(f'linear_{prod}.joblib')\n",
    "    model2=joblib.load(f'cat_{prod}.joblib')\n",
    "    df=df_train.reset_index()\n",
    "    df=df[(df['product']==prod)].loc[:,['date','num_sold']]\n",
    "    df=df.set_index('date')\n",
    "\n",
    "    #Split train test timeseries\n",
    "    #y_sum = df2.loc['2010':'2016','num_sold']\n",
    "    y = df.loc['2010':'2016', 'num_sold']\n",
    "     \n",
    "    bigCycle = Fourier(period=5*365,order=1)\n",
    "    four = Fourier(period=365.25, order=5) #Annual cycle\n",
    "    seas = Seasonality(period=7) # weekly cycle\n",
    "    dp = DeterministicProcess(\n",
    "        index=y.index,\n",
    "        constant=True,\n",
    "        order=2,\n",
    "        additional_terms=[bigCycle,seas,four],\n",
    "        )\n",
    "    X = dp.in_sample() # X 2010-2016\n",
    "    print(f'X shape {X.shape}')\n",
    "    print(f'y shape {y.shape}')\n",
    "    X_fore=dp.out_of_sample(steps=fore_days,forecast_index= pd.date_range(start=X.index[-1]+pd.Timedelta(days=1), periods=fore_days, freq=\"D\"))\n",
    "    \n",
    "    y_fore = pd.Series(model.predict(X_fore), index=X_fore.index)\n",
    "    #Predict and set index as date to get the id later\n",
    "    saveids=df_test[df_test['product']==prod]['id']\n",
    "    y_fore_resid2=pd.Series(model2.predict(df_test[df_test['product']==prod].reset_index().drop(['id','product'],axis=1)))\n",
    "    print(f'y_fore  {y_fore.head()}')\n",
    "    print(f'saveids shape {saveids.shape}')\n",
    "    print(f'y_fore_resid2 shape {y_fore_resid2.shape}')\n",
    "    \n",
    "    df_ans = pd.concat([saveids.reset_index(),y_fore_resid2],axis=1,ignore_index=True)\n",
    "    print(df_ans.describe())\n",
    "    df_ans=df_ans.rename({0:'date',1:'id',2:'resid'},axis=1)\n",
    "    df_ans['fore']=df_ans['date'].map(y_fore)\n",
    "    df_ans['num_sold']=df_ans['fore']+df_ans['resid']\n",
    "    print(df_ans.describe())\n",
    "    return df_ans['id','num_sold'].copy()\n",
    "    "
   ]
  },
  {
   "cell_type": "code",
   "execution_count": 60,
   "id": "a93f6639",
   "metadata": {
    "execution": {
     "iopub.execute_input": "2025-01-30T14:34:11.300327Z",
     "iopub.status.busy": "2025-01-30T14:34:11.299916Z",
     "iopub.status.idle": "2025-01-30T14:34:11.303692Z",
     "shell.execute_reply": "2025-01-30T14:34:11.302635Z"
    },
    "papermill": {
     "duration": 0.026026,
     "end_time": "2025-01-30T14:34:11.305322",
     "exception": false,
     "start_time": "2025-01-30T14:34:11.279296",
     "status": "completed"
    },
    "tags": []
   },
   "outputs": [],
   "source": [
    "# best_params={'iterations': 6134, 'learning_rate': 0.007146208442605881, 'objective': 'MAPE', 'colsample_bylevel': 0.18423434947526843, 'depth': 6, 'boosting_type': 'Plain', 'bootstrap_type': 'Bayesian', 'bagging_temperature': 3.594657481022848}\n",
    "# if type(df_train.index)==pd.RangeIndex:\n",
    "#     df_train=df_train.set_index('date')\n",
    "# sub=LoadandPredict('Kaggle',(df_test.index[-1]-df_train.index[-1]).days)"
   ]
  },
  {
   "cell_type": "code",
   "execution_count": 61,
   "id": "02a545ce",
   "metadata": {
    "execution": {
     "iopub.execute_input": "2025-01-30T14:34:11.345597Z",
     "iopub.status.busy": "2025-01-30T14:34:11.345242Z",
     "iopub.status.idle": "2025-01-30T14:34:11.348879Z",
     "shell.execute_reply": "2025-01-30T14:34:11.348108Z"
    },
    "papermill": {
     "duration": 0.025309,
     "end_time": "2025-01-30T14:34:11.350394",
     "exception": false,
     "start_time": "2025-01-30T14:34:11.325085",
     "status": "completed"
    },
    "tags": []
   },
   "outputs": [],
   "source": [
    "#submission=pd.concat([ans[0],ans[1],ans[2],ans[3],ans[4]],axis=0,ignore_index=True)[['id','num_sold']]"
   ]
  },
  {
   "cell_type": "code",
   "execution_count": 62,
   "id": "fe52ce45",
   "metadata": {
    "execution": {
     "iopub.execute_input": "2025-01-30T14:34:11.389861Z",
     "iopub.status.busy": "2025-01-30T14:34:11.389539Z",
     "iopub.status.idle": "2025-01-30T14:34:11.392829Z",
     "shell.execute_reply": "2025-01-30T14:34:11.392126Z"
    },
    "papermill": {
     "duration": 0.024395,
     "end_time": "2025-01-30T14:34:11.394117",
     "exception": false,
     "start_time": "2025-01-30T14:34:11.369722",
     "status": "completed"
    },
    "tags": []
   },
   "outputs": [],
   "source": [
    "#submission=submission.sort_values(['id'])"
   ]
  },
  {
   "cell_type": "code",
   "execution_count": 63,
   "id": "c2a31ae2",
   "metadata": {
    "execution": {
     "iopub.execute_input": "2025-01-30T14:34:11.432765Z",
     "iopub.status.busy": "2025-01-30T14:34:11.432445Z",
     "iopub.status.idle": "2025-01-30T14:34:11.436074Z",
     "shell.execute_reply": "2025-01-30T14:34:11.435130Z"
    },
    "papermill": {
     "duration": 0.024324,
     "end_time": "2025-01-30T14:34:11.437450",
     "exception": false,
     "start_time": "2025-01-30T14:34:11.413126",
     "status": "completed"
    },
    "tags": []
   },
   "outputs": [],
   "source": [
    "# submission=submission.drop_duplicates()\n",
    "# submission['num_sold']=np.expm1(submission['num_sold'])\n",
    "# submission.shape"
   ]
  },
  {
   "cell_type": "code",
   "execution_count": 64,
   "id": "6ee4e839",
   "metadata": {
    "execution": {
     "iopub.execute_input": "2025-01-30T14:34:11.476336Z",
     "iopub.status.busy": "2025-01-30T14:34:11.475968Z",
     "iopub.status.idle": "2025-01-30T14:34:11.479682Z",
     "shell.execute_reply": "2025-01-30T14:34:11.478758Z"
    },
    "papermill": {
     "duration": 0.025486,
     "end_time": "2025-01-30T14:34:11.481156",
     "exception": false,
     "start_time": "2025-01-30T14:34:11.455670",
     "status": "completed"
    },
    "tags": []
   },
   "outputs": [],
   "source": [
    "#submission.to_csv('TS_Hybrid_product5models_impute_optuna.csv',index=False)"
   ]
  },
  {
   "cell_type": "code",
   "execution_count": 65,
   "id": "40dd2f87",
   "metadata": {
    "execution": {
     "iopub.execute_input": "2025-01-30T14:34:11.519992Z",
     "iopub.status.busy": "2025-01-30T14:34:11.519647Z",
     "iopub.status.idle": "2025-01-30T14:34:11.523456Z",
     "shell.execute_reply": "2025-01-30T14:34:11.522534Z"
    },
    "papermill": {
     "duration": 0.025227,
     "end_time": "2025-01-30T14:34:11.525132",
     "exception": false,
     "start_time": "2025-01-30T14:34:11.499905",
     "status": "completed"
    },
    "tags": []
   },
   "outputs": [],
   "source": [
    "#submission['num_sold']=np.fix(submission['num_sold'])\n",
    "#submission.to_csv('TS_Hybrid_fix.csv',index=False)"
   ]
  },
  {
   "cell_type": "code",
   "execution_count": 66,
   "id": "a150933d",
   "metadata": {
    "execution": {
     "iopub.execute_input": "2025-01-30T14:34:11.565294Z",
     "iopub.status.busy": "2025-01-30T14:34:11.564917Z",
     "iopub.status.idle": "2025-01-30T16:00:15.093684Z",
     "shell.execute_reply": "2025-01-30T16:00:15.092457Z"
    },
    "papermill": {
     "duration": 5163.55063,
     "end_time": "2025-01-30T16:00:15.095739",
     "exception": false,
     "start_time": "2025-01-30T14:34:11.545109",
     "status": "completed"
    },
    "tags": []
   },
   "outputs": [
    {
     "name": "stdout",
     "output_type": "stream",
     "text": [
      "X shape (49950, 21)\n",
      "y shape (49950,)\n",
      "y_pred shape (49950,)\n",
      "y_resid shape (49950,)\n",
      "Training on fold [0/3]\n"
     ]
    },
    {
     "name": "stderr",
     "output_type": "stream",
     "text": [
      "CatBoost is using more CPU RAM (600MiB) than the limit (512MiB)\n",
      "CatBoost is using more CPU RAM (600MiB) than the limit (512MiB)\n"
     ]
    },
    {
     "name": "stdout",
     "output_type": "stream",
     "text": [
      "\n",
      "bestTest = 0.1091344799\n",
      "bestIteration = 507\n",
      "\n",
      "Training on fold [1/3]\n"
     ]
    },
    {
     "name": "stderr",
     "output_type": "stream",
     "text": [
      "CatBoost is using more CPU RAM (661MiB) than the limit (512MiB)\n",
      "CatBoost is using more CPU RAM (661MiB) than the limit (512MiB)\n"
     ]
    },
    {
     "name": "stdout",
     "output_type": "stream",
     "text": [
      "\n",
      "bestTest = 0.0726560042\n",
      "bestIteration = 2198\n",
      "\n",
      "Training on fold [2/3]\n"
     ]
    },
    {
     "name": "stderr",
     "output_type": "stream",
     "text": [
      "CatBoost is using more CPU RAM (701MiB) than the limit (512MiB)\n",
      "CatBoost is using more CPU RAM (701MiB) than the limit (512MiB)\n"
     ]
    },
    {
     "name": "stdout",
     "output_type": "stream",
     "text": [
      "\n",
      "bestTest = 0.1002273973\n",
      "bestIteration = 382\n",
      "\n",
      "Training on fold [0/3]\n"
     ]
    },
    {
     "name": "stderr",
     "output_type": "stream",
     "text": [
      "CatBoost is using more CPU RAM (737MiB) than the limit (512MiB)\n",
      "CatBoost is using more CPU RAM (737MiB) than the limit (512MiB)\n"
     ]
    },
    {
     "name": "stdout",
     "output_type": "stream",
     "text": [
      "\n",
      "bestTest = 0.1191870032\n",
      "bestIteration = 2299\n",
      "\n",
      "Training on fold [1/3]\n"
     ]
    },
    {
     "name": "stderr",
     "output_type": "stream",
     "text": [
      "CatBoost is using more CPU RAM (749MiB) than the limit (512MiB)\n",
      "CatBoost is using more CPU RAM (749MiB) than the limit (512MiB)\n"
     ]
    },
    {
     "name": "stdout",
     "output_type": "stream",
     "text": [
      "\n",
      "bestTest = 0.08151891792\n",
      "bestIteration = 5908\n",
      "\n",
      "Training on fold [2/3]\n"
     ]
    },
    {
     "name": "stderr",
     "output_type": "stream",
     "text": [
      "CatBoost is using more CPU RAM (752MiB) than the limit (512MiB)\n",
      "CatBoost is using more CPU RAM (752MiB) than the limit (512MiB)\n"
     ]
    },
    {
     "name": "stdout",
     "output_type": "stream",
     "text": [
      "\n",
      "bestTest = 0.0999889566\n",
      "bestIteration = 5966\n",
      "\n",
      "Training on fold [0/3]\n"
     ]
    },
    {
     "name": "stderr",
     "output_type": "stream",
     "text": [
      "CatBoost is using more CPU RAM (760MiB) than the limit (512MiB)\n",
      "CatBoost is using more CPU RAM (760MiB) than the limit (512MiB)\n"
     ]
    },
    {
     "name": "stdout",
     "output_type": "stream",
     "text": [
      "\n",
      "bestTest = 0.1076515516\n",
      "bestIteration = 4763\n",
      "\n",
      "Training on fold [1/3]\n"
     ]
    },
    {
     "name": "stderr",
     "output_type": "stream",
     "text": [
      "CatBoost is using more CPU RAM (760MiB) than the limit (512MiB)\n",
      "CatBoost is using more CPU RAM (760MiB) than the limit (512MiB)\n"
     ]
    },
    {
     "name": "stdout",
     "output_type": "stream",
     "text": [
      "\n",
      "bestTest = 0.07407672202\n",
      "bestIteration = 3817\n",
      "\n",
      "Training on fold [2/3]\n"
     ]
    },
    {
     "name": "stderr",
     "output_type": "stream",
     "text": [
      "CatBoost is using more CPU RAM (761MiB) than the limit (512MiB)\n",
      "CatBoost is using more CPU RAM (761MiB) than the limit (512MiB)\n"
     ]
    },
    {
     "name": "stdout",
     "output_type": "stream",
     "text": [
      "\n",
      "bestTest = 0.09094925572\n",
      "bestIteration = 6077\n",
      "\n",
      "Training on fold [0/3]\n"
     ]
    },
    {
     "name": "stderr",
     "output_type": "stream",
     "text": [
      "CatBoost is using more CPU RAM (763MiB) than the limit (512MiB)\n",
      "CatBoost is using more CPU RAM (763MiB) than the limit (512MiB)\n"
     ]
    },
    {
     "name": "stdout",
     "output_type": "stream",
     "text": [
      "\n",
      "bestTest = 0.1209939637\n",
      "bestIteration = 1030\n",
      "\n",
      "Training on fold [1/3]\n"
     ]
    },
    {
     "name": "stderr",
     "output_type": "stream",
     "text": [
      "CatBoost is using more CPU RAM (764MiB) than the limit (512MiB)\n",
      "CatBoost is using more CPU RAM (764MiB) than the limit (512MiB)\n"
     ]
    },
    {
     "name": "stdout",
     "output_type": "stream",
     "text": [
      "\n",
      "bestTest = 0.07638251822\n",
      "bestIteration = 1846\n",
      "\n",
      "Training on fold [2/3]\n"
     ]
    },
    {
     "name": "stderr",
     "output_type": "stream",
     "text": [
      "CatBoost is using more CPU RAM (764MiB) than the limit (512MiB)\n",
      "CatBoost is using more CPU RAM (764MiB) than the limit (512MiB)\n"
     ]
    },
    {
     "name": "stdout",
     "output_type": "stream",
     "text": [
      "\n",
      "bestTest = 0.1063609397\n",
      "bestIteration = 785\n",
      "\n",
      "Training on fold [0/3]\n"
     ]
    },
    {
     "name": "stderr",
     "output_type": "stream",
     "text": [
      "CatBoost is using more CPU RAM (764MiB) than the limit (512MiB)\n",
      "CatBoost is using more CPU RAM (764MiB) than the limit (512MiB)\n"
     ]
    },
    {
     "name": "stdout",
     "output_type": "stream",
     "text": [
      "\n",
      "bestTest = 0.07712600927\n",
      "bestIteration = 3257\n",
      "\n",
      "Training on fold [1/3]\n"
     ]
    },
    {
     "name": "stderr",
     "output_type": "stream",
     "text": [
      "CatBoost is using more CPU RAM (815MiB) than the limit (512MiB)\n",
      "CatBoost is using more CPU RAM (815MiB) than the limit (512MiB)\n"
     ]
    },
    {
     "name": "stdout",
     "output_type": "stream",
     "text": [
      "\n",
      "bestTest = 0.08986374669\n",
      "bestIteration = 1758\n",
      "\n",
      "Training on fold [2/3]\n"
     ]
    },
    {
     "name": "stderr",
     "output_type": "stream",
     "text": [
      "CatBoost is using more CPU RAM (835MiB) than the limit (512MiB)\n",
      "CatBoost is using more CPU RAM (835MiB) than the limit (512MiB)\n"
     ]
    },
    {
     "name": "stdout",
     "output_type": "stream",
     "text": [
      "\n",
      "bestTest = 0.08427453561\n",
      "bestIteration = 2046\n",
      "\n",
      "best value 0.08400661601358513\n",
      "{'iterations': 5697, 'learning_rate': 0.00624579939603655, 'objective': 'MAPE', 'depth': 7, 'boosting_type': 'Plain', 'bootstrap_type': 'MVS'}\n",
      "X shape (49950, 21)\n",
      "y shape (49950,)\n",
      "y_pred shape (49950,)\n",
      "y_resid shape (49950,)\n",
      "Training on fold [0/3]\n"
     ]
    },
    {
     "name": "stderr",
     "output_type": "stream",
     "text": [
      "CatBoost is using more CPU RAM (947MiB) than the limit (512MiB)\n",
      "CatBoost is using more CPU RAM (947MiB) than the limit (512MiB)\n"
     ]
    },
    {
     "name": "stdout",
     "output_type": "stream",
     "text": [
      "\n",
      "bestTest = 0.1044181708\n",
      "bestIteration = 809\n",
      "\n",
      "Training on fold [1/3]\n"
     ]
    },
    {
     "name": "stderr",
     "output_type": "stream",
     "text": [
      "CatBoost is using more CPU RAM (948MiB) than the limit (512MiB)\n",
      "CatBoost is using more CPU RAM (948MiB) than the limit (512MiB)\n"
     ]
    },
    {
     "name": "stdout",
     "output_type": "stream",
     "text": [
      "\n",
      "bestTest = 0.09462296238\n",
      "bestIteration = 1474\n",
      "\n",
      "Training on fold [2/3]\n"
     ]
    },
    {
     "name": "stderr",
     "output_type": "stream",
     "text": [
      "CatBoost is using more CPU RAM (949MiB) than the limit (512MiB)\n",
      "CatBoost is using more CPU RAM (949MiB) than the limit (512MiB)\n"
     ]
    },
    {
     "name": "stdout",
     "output_type": "stream",
     "text": [
      "\n",
      "bestTest = 0.1125855783\n",
      "bestIteration = 684\n",
      "\n",
      "Training on fold [0/3]\n"
     ]
    },
    {
     "name": "stderr",
     "output_type": "stream",
     "text": [
      "CatBoost is using more CPU RAM (949MiB) than the limit (512MiB)\n",
      "CatBoost is using more CPU RAM (949MiB) than the limit (512MiB)\n"
     ]
    },
    {
     "name": "stdout",
     "output_type": "stream",
     "text": [
      "\n",
      "bestTest = 0.09836947495\n",
      "bestIteration = 1325\n",
      "\n",
      "Training on fold [1/3]\n"
     ]
    },
    {
     "name": "stderr",
     "output_type": "stream",
     "text": [
      "CatBoost is using more CPU RAM (950MiB) than the limit (512MiB)\n",
      "CatBoost is using more CPU RAM (950MiB) than the limit (512MiB)\n"
     ]
    },
    {
     "name": "stdout",
     "output_type": "stream",
     "text": [
      "\n",
      "bestTest = 0.09252700662\n",
      "bestIteration = 2304\n",
      "\n",
      "Training on fold [2/3]\n"
     ]
    },
    {
     "name": "stderr",
     "output_type": "stream",
     "text": [
      "CatBoost is using more CPU RAM (950MiB) than the limit (512MiB)\n",
      "CatBoost is using more CPU RAM (950MiB) than the limit (512MiB)\n"
     ]
    },
    {
     "name": "stdout",
     "output_type": "stream",
     "text": [
      "\n",
      "bestTest = 0.1029241564\n",
      "bestIteration = 740\n",
      "\n",
      "Training on fold [0/3]\n"
     ]
    },
    {
     "name": "stderr",
     "output_type": "stream",
     "text": [
      "CatBoost is using more CPU RAM (950MiB) than the limit (512MiB)\n",
      "CatBoost is using more CPU RAM (950MiB) than the limit (512MiB)\n"
     ]
    },
    {
     "name": "stdout",
     "output_type": "stream",
     "text": [
      "\n",
      "bestTest = 0.1038308296\n",
      "bestIteration = 1394\n",
      "\n",
      "Training on fold [1/3]\n"
     ]
    },
    {
     "name": "stderr",
     "output_type": "stream",
     "text": [
      "CatBoost is using more CPU RAM (950MiB) than the limit (512MiB)\n",
      "CatBoost is using more CPU RAM (950MiB) than the limit (512MiB)\n"
     ]
    },
    {
     "name": "stdout",
     "output_type": "stream",
     "text": [
      "\n",
      "bestTest = 0.09450557308\n",
      "bestIteration = 407\n",
      "\n",
      "Training on fold [2/3]\n"
     ]
    },
    {
     "name": "stderr",
     "output_type": "stream",
     "text": [
      "CatBoost is using more CPU RAM (950MiB) than the limit (512MiB)\n",
      "CatBoost is using more CPU RAM (950MiB) than the limit (512MiB)\n"
     ]
    },
    {
     "name": "stdout",
     "output_type": "stream",
     "text": [
      "\n",
      "bestTest = 0.09585465416\n",
      "bestIteration = 209\n",
      "\n",
      "Training on fold [0/3]\n"
     ]
    },
    {
     "name": "stderr",
     "output_type": "stream",
     "text": [
      "CatBoost is using more CPU RAM (950MiB) than the limit (512MiB)\n",
      "CatBoost is using more CPU RAM (950MiB) than the limit (512MiB)\n"
     ]
    },
    {
     "name": "stdout",
     "output_type": "stream",
     "text": [
      "\n",
      "bestTest = 0.0893354028\n",
      "bestIteration = 192\n",
      "\n",
      "Training on fold [1/3]\n"
     ]
    },
    {
     "name": "stderr",
     "output_type": "stream",
     "text": [
      "CatBoost is using more CPU RAM (951MiB) than the limit (512MiB)\n",
      "CatBoost is using more CPU RAM (951MiB) than the limit (512MiB)\n"
     ]
    },
    {
     "name": "stdout",
     "output_type": "stream",
     "text": [
      "\n",
      "bestTest = 0.1218093285\n",
      "bestIteration = 515\n",
      "\n",
      "Training on fold [2/3]\n"
     ]
    },
    {
     "name": "stderr",
     "output_type": "stream",
     "text": [
      "CatBoost is using more CPU RAM (959MiB) than the limit (512MiB)\n",
      "CatBoost is using more CPU RAM (959MiB) than the limit (512MiB)\n"
     ]
    },
    {
     "name": "stdout",
     "output_type": "stream",
     "text": [
      "\n",
      "bestTest = 0.09707519229\n",
      "bestIteration = 797\n",
      "\n",
      "Training on fold [0/3]\n"
     ]
    },
    {
     "name": "stderr",
     "output_type": "stream",
     "text": [
      "CatBoost is using more CPU RAM (968MiB) than the limit (512MiB)\n",
      "CatBoost is using more CPU RAM (968MiB) than the limit (512MiB)\n"
     ]
    },
    {
     "name": "stdout",
     "output_type": "stream",
     "text": [
      "\n",
      "bestTest = 0.08818494771\n",
      "bestIteration = 242\n",
      "\n",
      "Training on fold [1/3]\n"
     ]
    },
    {
     "name": "stderr",
     "output_type": "stream",
     "text": [
      "CatBoost is using more CPU RAM (988MiB) than the limit (512MiB)\n",
      "CatBoost is using more CPU RAM (988MiB) than the limit (512MiB)\n"
     ]
    },
    {
     "name": "stdout",
     "output_type": "stream",
     "text": [
      "\n",
      "bestTest = 0.09973818669\n",
      "bestIteration = 483\n",
      "\n",
      "Training on fold [2/3]\n"
     ]
    },
    {
     "name": "stderr",
     "output_type": "stream",
     "text": [
      "CatBoost is using more CPU RAM (1.02GiB) than the limit (512MiB)\n",
      "CatBoost is using more CPU RAM (1.02GiB) than the limit (512MiB)\n",
      "CatBoost is using more CPU RAM (1.02GiB) than the limit (1GiB)\n",
      "Resource CPU RAM: functionWithResourceUsage.ResourceUsage(223892) > ResourceQuota(0)\n",
      "Resource CPU RAM: functionWithResourceUsage.ResourceUsage(223892) > ResourceQuota(0)\n",
      "Resource CPU RAM: functionWithResourceUsage.ResourceUsage(223892) > ResourceQuota(0)\n",
      "Resource CPU RAM: functionWithResourceUsage.ResourceUsage(223892) > ResourceQuota(0)\n",
      "Resource CPU RAM: functionWithResourceUsage.ResourceUsage(223892) > ResourceQuota(0)\n",
      "Resource CPU RAM: functionWithResourceUsage.ResourceUsage(223892) > ResourceQuota(0)\n",
      "Resource CPU RAM: functionWithResourceUsage.ResourceUsage(223892) > ResourceQuota(0)\n",
      "Resource CPU RAM: functionWithResourceUsage.ResourceUsage(223892) > ResourceQuota(0)\n",
      "Resource CPU RAM: functionWithResourceUsage.ResourceUsage(1348668) > ResourceQuota(0)\n",
      "Resource CPU RAM: functionWithResourceUsage.ResourceUsage(1348668) > ResourceQuota(0)\n",
      "Resource CPU RAM: functionWithResourceUsage.ResourceUsage(1348668) > ResourceQuota(0)\n",
      "Resource CPU RAM: functionWithResourceUsage.ResourceUsage(1348668) > ResourceQuota(0)\n",
      "Resource CPU RAM: functionWithResourceUsage.ResourceUsage(1348668) > ResourceQuota(0)\n",
      "Resource CPU RAM: functionWithResourceUsage.ResourceUsage(1348668) > ResourceQuota(0)\n",
      "Resource CPU RAM: functionWithResourceUsage.ResourceUsage(1348668) > ResourceQuota(0)\n",
      "Resource CPU RAM: functionWithResourceUsage.ResourceUsage(1348668) > ResourceQuota(0)\n",
      "Resource CPU RAM: functionWithResourceUsage.ResourceUsage(1348668) > ResourceQuota(0)\n",
      "Resource CPU RAM: functionWithResourceUsage.ResourceUsage(1348668) > ResourceQuota(0)\n",
      "CatBoost is using more CPU RAM (1.02GiB) than the limit (1GiB)\n",
      "Resource CPU RAM: functionWithResourceUsage.ResourceUsage(37463) > ResourceQuota(0)\n",
      "Resource CPU RAM: functionWithResourceUsage.ResourceUsage(37463) > ResourceQuota(0)\n",
      "Resource CPU RAM: functionWithResourceUsage.ResourceUsage(37463) > ResourceQuota(0)\n",
      "Resource CPU RAM: functionWithResourceUsage.ResourceUsage(37463) > ResourceQuota(0)\n",
      "Resource CPU RAM: functionWithResourceUsage.ResourceUsage(37463) > ResourceQuota(0)\n",
      "Resource CPU RAM: functionWithResourceUsage.ResourceUsage(37463) > ResourceQuota(0)\n",
      "Resource CPU RAM: functionWithResourceUsage.ResourceUsage(37463) > ResourceQuota(0)\n",
      "Resource CPU RAM: functionWithResourceUsage.ResourceUsage(149852) > ResourceQuota(0)\n",
      "Resource CPU RAM: functionWithResourceUsage.ResourceUsage(149852) > ResourceQuota(0)\n",
      "Resource CPU RAM: functionWithResourceUsage.ResourceUsage(149852) > ResourceQuota(0)\n",
      "Resource CPU RAM: functionWithResourceUsage.ResourceUsage(149852) > ResourceQuota(0)\n",
      "Resource CPU RAM: functionWithResourceUsage.ResourceUsage(149852) > ResourceQuota(0)\n",
      "Resource CPU RAM: functionWithResourceUsage.ResourceUsage(149852) > ResourceQuota(0)\n",
      "Resource CPU RAM: functionWithResourceUsage.ResourceUsage(149852) > ResourceQuota(0)\n",
      "Resource CPU RAM: functionWithResourceUsage.ResourceUsage(149852) > ResourceQuota(0)\n",
      "Resource CPU RAM: functionWithResourceUsage.ResourceUsage(37463) > ResourceQuota(0)\n",
      "CatBoost is using more CPU RAM (1.02GiB) than the limit (1GiB)\n",
      "Resource CPU RAM: functionWithResourceUsage.ResourceUsage(12488) > ResourceQuota(0)\n",
      "Resource CPU RAM: functionWithResourceUsage.ResourceUsage(12488) > ResourceQuota(0)\n",
      "Resource CPU RAM: functionWithResourceUsage.ResourceUsage(12488) > ResourceQuota(0)\n",
      "Resource CPU RAM: functionWithResourceUsage.ResourceUsage(12488) > ResourceQuota(0)\n",
      "Resource CPU RAM: functionWithResourceUsage.ResourceUsage(12488) > ResourceQuota(0)\n",
      "Resource CPU RAM: functionWithResourceUsage.ResourceUsage(12488) > ResourceQuota(0)\n",
      "Resource CPU RAM: functionWithResourceUsage.ResourceUsage(12488) > ResourceQuota(0)\n",
      "Resource CPU RAM: functionWithResourceUsage.ResourceUsage(449532) > ResourceQuota(0)\n",
      "Resource CPU RAM: functionWithResourceUsage.ResourceUsage(449532) > ResourceQuota(0)\n",
      "Resource CPU RAM: functionWithResourceUsage.ResourceUsage(449532) > ResourceQuota(0)\n",
      "Resource CPU RAM: functionWithResourceUsage.ResourceUsage(449532) > ResourceQuota(0)\n",
      "Resource CPU RAM: functionWithResourceUsage.ResourceUsage(449532) > ResourceQuota(0)\n",
      "Resource CPU RAM: functionWithResourceUsage.ResourceUsage(449532) > ResourceQuota(0)\n",
      "Resource CPU RAM: functionWithResourceUsage.ResourceUsage(449532) > ResourceQuota(0)\n",
      "Resource CPU RAM: functionWithResourceUsage.ResourceUsage(449532) > ResourceQuota(0)\n",
      "Resource CPU RAM: functionWithResourceUsage.ResourceUsage(449532) > ResourceQuota(0)\n",
      "Resource CPU RAM: functionWithResourceUsage.ResourceUsage(449532) > ResourceQuota(0)\n",
      "CatBoost is using more CPU RAM (1.02GiB) than the limit (1GiB)\n",
      "Resource CPU RAM: functionWithResourceUsage.ResourceUsage(12487) > ResourceQuota(0)\n",
      "Resource CPU RAM: functionWithResourceUsage.ResourceUsage(12487) > ResourceQuota(0)\n",
      "Resource CPU RAM: functionWithResourceUsage.ResourceUsage(12487) > ResourceQuota(0)\n",
      "Resource CPU RAM: functionWithResourceUsage.ResourceUsage(12487) > ResourceQuota(0)\n",
      "Resource CPU RAM: functionWithResourceUsage.ResourceUsage(12487) > ResourceQuota(0)\n",
      "Resource CPU RAM: functionWithResourceUsage.ResourceUsage(12487) > ResourceQuota(0)\n",
      "Resource CPU RAM: functionWithResourceUsage.ResourceUsage(12487) > ResourceQuota(0)\n",
      "Resource CPU RAM: functionWithResourceUsage.ResourceUsage(49948) > ResourceQuota(0)\n",
      "Resource CPU RAM: functionWithResourceUsage.ResourceUsage(49948) > ResourceQuota(0)\n",
      "Resource CPU RAM: functionWithResourceUsage.ResourceUsage(49948) > ResourceQuota(0)\n",
      "Resource CPU RAM: functionWithResourceUsage.ResourceUsage(49948) > ResourceQuota(0)\n",
      "Resource CPU RAM: functionWithResourceUsage.ResourceUsage(49948) > ResourceQuota(0)\n",
      "Resource CPU RAM: functionWithResourceUsage.ResourceUsage(49948) > ResourceQuota(0)\n",
      "Resource CPU RAM: functionWithResourceUsage.ResourceUsage(49948) > ResourceQuota(0)\n",
      "Resource CPU RAM: functionWithResourceUsage.ResourceUsage(49948) > ResourceQuota(0)\n",
      "Resource CPU RAM: functionWithResourceUsage.ResourceUsage(12487) > ResourceQuota(0)\n"
     ]
    },
    {
     "name": "stdout",
     "output_type": "stream",
     "text": [
      "\n",
      "bestTest = 0.1092928327\n",
      "bestIteration = 550\n",
      "\n",
      "best value 0.09917811951416944\n",
      "{'iterations': 4241, 'learning_rate': 0.0072055235702648745, 'objective': 'MAPE', 'depth': 2, 'boosting_type': 'Plain', 'bootstrap_type': 'Bernoulli', 'subsample': 0.11179332101868829}\n",
      "X shape (49883, 21)\n",
      "y shape (49883,)\n",
      "y_pred shape (49883,)\n",
      "y_resid shape (49883,)\n",
      "Training on fold [0/3]\n"
     ]
    },
    {
     "name": "stderr",
     "output_type": "stream",
     "text": [
      "CatBoost is using more CPU RAM (1.04GiB) than the limit (512MiB)\n",
      "CatBoost is using more CPU RAM (1.04GiB) than the limit (512MiB)\n",
      "CatBoost is using more CPU RAM (1.04GiB) than the limit (1GiB)\n",
      "Resource CPU RAM: functionWithResourceUsage.ResourceUsage(98932) > ResourceQuota(0)\n",
      "Resource CPU RAM: functionWithResourceUsage.ResourceUsage(98932) > ResourceQuota(0)\n",
      "Resource CPU RAM: functionWithResourceUsage.ResourceUsage(98932) > ResourceQuota(0)\n",
      "Resource CPU RAM: functionWithResourceUsage.ResourceUsage(98932) > ResourceQuota(0)\n",
      "Resource CPU RAM: functionWithResourceUsage.ResourceUsage(98932) > ResourceQuota(0)\n",
      "Resource CPU RAM: functionWithResourceUsage.ResourceUsage(98932) > ResourceQuota(0)\n",
      "Resource CPU RAM: functionWithResourceUsage.ResourceUsage(98932) > ResourceQuota(0)\n",
      "Resource CPU RAM: functionWithResourceUsage.ResourceUsage(98932) > ResourceQuota(0)\n",
      "Resource CPU RAM: functionWithResourceUsage.ResourceUsage(448956) > ResourceQuota(0)\n",
      "Resource CPU RAM: functionWithResourceUsage.ResourceUsage(448956) > ResourceQuota(0)\n",
      "Resource CPU RAM: functionWithResourceUsage.ResourceUsage(448956) > ResourceQuota(0)\n",
      "Resource CPU RAM: functionWithResourceUsage.ResourceUsage(448956) > ResourceQuota(0)\n",
      "Resource CPU RAM: functionWithResourceUsage.ResourceUsage(448956) > ResourceQuota(0)\n",
      "Resource CPU RAM: functionWithResourceUsage.ResourceUsage(448956) > ResourceQuota(0)\n",
      "Resource CPU RAM: functionWithResourceUsage.ResourceUsage(448956) > ResourceQuota(0)\n",
      "Resource CPU RAM: functionWithResourceUsage.ResourceUsage(448956) > ResourceQuota(0)\n",
      "Resource CPU RAM: functionWithResourceUsage.ResourceUsage(448956) > ResourceQuota(0)\n",
      "Resource CPU RAM: functionWithResourceUsage.ResourceUsage(448956) > ResourceQuota(0)\n",
      "CatBoost is using more CPU RAM (1.04GiB) than the limit (1GiB)\n",
      "Resource CPU RAM: functionWithResourceUsage.ResourceUsage(12471) > ResourceQuota(0)\n",
      "Resource CPU RAM: functionWithResourceUsage.ResourceUsage(12471) > ResourceQuota(0)\n",
      "Resource CPU RAM: functionWithResourceUsage.ResourceUsage(12471) > ResourceQuota(0)\n",
      "Resource CPU RAM: functionWithResourceUsage.ResourceUsage(12471) > ResourceQuota(0)\n",
      "Resource CPU RAM: functionWithResourceUsage.ResourceUsage(12471) > ResourceQuota(0)\n",
      "Resource CPU RAM: functionWithResourceUsage.ResourceUsage(12471) > ResourceQuota(0)\n",
      "Resource CPU RAM: functionWithResourceUsage.ResourceUsage(12471) > ResourceQuota(0)\n",
      "Resource CPU RAM: functionWithResourceUsage.ResourceUsage(49884) > ResourceQuota(0)\n",
      "Resource CPU RAM: functionWithResourceUsage.ResourceUsage(49884) > ResourceQuota(0)\n",
      "Resource CPU RAM: functionWithResourceUsage.ResourceUsage(49884) > ResourceQuota(0)\n",
      "Resource CPU RAM: functionWithResourceUsage.ResourceUsage(49884) > ResourceQuota(0)\n",
      "Resource CPU RAM: functionWithResourceUsage.ResourceUsage(49884) > ResourceQuota(0)\n",
      "Resource CPU RAM: functionWithResourceUsage.ResourceUsage(49884) > ResourceQuota(0)\n",
      "Resource CPU RAM: functionWithResourceUsage.ResourceUsage(49884) > ResourceQuota(0)\n",
      "Resource CPU RAM: functionWithResourceUsage.ResourceUsage(12471) > ResourceQuota(0)\n",
      "CatBoost is using more CPU RAM (1.04GiB) than the limit (1GiB)\n",
      "Resource CPU RAM: functionWithResourceUsage.ResourceUsage(12472) > ResourceQuota(0)\n",
      "Resource CPU RAM: functionWithResourceUsage.ResourceUsage(12472) > ResourceQuota(0)\n",
      "Resource CPU RAM: functionWithResourceUsage.ResourceUsage(12472) > ResourceQuota(0)\n",
      "Resource CPU RAM: functionWithResourceUsage.ResourceUsage(12472) > ResourceQuota(0)\n",
      "Resource CPU RAM: functionWithResourceUsage.ResourceUsage(12472) > ResourceQuota(0)\n",
      "Resource CPU RAM: functionWithResourceUsage.ResourceUsage(12472) > ResourceQuota(0)\n",
      "Resource CPU RAM: functionWithResourceUsage.ResourceUsage(12472) > ResourceQuota(0)\n",
      "Resource CPU RAM: functionWithResourceUsage.ResourceUsage(448956) > ResourceQuota(0)\n",
      "Resource CPU RAM: functionWithResourceUsage.ResourceUsage(448956) > ResourceQuota(0)\n",
      "Resource CPU RAM: functionWithResourceUsage.ResourceUsage(448956) > ResourceQuota(0)\n",
      "Resource CPU RAM: functionWithResourceUsage.ResourceUsage(448956) > ResourceQuota(0)\n",
      "Resource CPU RAM: functionWithResourceUsage.ResourceUsage(448956) > ResourceQuota(0)\n",
      "Resource CPU RAM: functionWithResourceUsage.ResourceUsage(448956) > ResourceQuota(0)\n",
      "Resource CPU RAM: functionWithResourceUsage.ResourceUsage(448956) > ResourceQuota(0)\n",
      "Resource CPU RAM: functionWithResourceUsage.ResourceUsage(448956) > ResourceQuota(0)\n",
      "Resource CPU RAM: functionWithResourceUsage.ResourceUsage(448956) > ResourceQuota(0)\n",
      "Resource CPU RAM: functionWithResourceUsage.ResourceUsage(448956) > ResourceQuota(0)\n",
      "CatBoost is using more CPU RAM (1.04GiB) than the limit (1GiB)\n",
      "Resource CPU RAM: functionWithResourceUsage.ResourceUsage(12471) > ResourceQuota(0)\n",
      "Resource CPU RAM: functionWithResourceUsage.ResourceUsage(12471) > ResourceQuota(0)\n",
      "Resource CPU RAM: functionWithResourceUsage.ResourceUsage(12471) > ResourceQuota(0)\n",
      "Resource CPU RAM: functionWithResourceUsage.ResourceUsage(12471) > ResourceQuota(0)\n",
      "Resource CPU RAM: functionWithResourceUsage.ResourceUsage(12471) > ResourceQuota(0)\n",
      "Resource CPU RAM: functionWithResourceUsage.ResourceUsage(12471) > ResourceQuota(0)\n",
      "Resource CPU RAM: functionWithResourceUsage.ResourceUsage(12471) > ResourceQuota(0)\n",
      "Resource CPU RAM: functionWithResourceUsage.ResourceUsage(49884) > ResourceQuota(0)\n",
      "Resource CPU RAM: functionWithResourceUsage.ResourceUsage(49884) > ResourceQuota(0)\n",
      "Resource CPU RAM: functionWithResourceUsage.ResourceUsage(49884) > ResourceQuota(0)\n",
      "Resource CPU RAM: functionWithResourceUsage.ResourceUsage(49884) > ResourceQuota(0)\n",
      "Resource CPU RAM: functionWithResourceUsage.ResourceUsage(49884) > ResourceQuota(0)\n",
      "Resource CPU RAM: functionWithResourceUsage.ResourceUsage(49884) > ResourceQuota(0)\n",
      "Resource CPU RAM: functionWithResourceUsage.ResourceUsage(49884) > ResourceQuota(0)\n",
      "Resource CPU RAM: functionWithResourceUsage.ResourceUsage(49884) > ResourceQuota(0)\n",
      "Resource CPU RAM: functionWithResourceUsage.ResourceUsage(12471) > ResourceQuota(0)\n"
     ]
    },
    {
     "name": "stdout",
     "output_type": "stream",
     "text": [
      "\n",
      "bestTest = 0.08576565075\n",
      "bestIteration = 260\n",
      "\n",
      "Training on fold [1/3]\n"
     ]
    },
    {
     "name": "stderr",
     "output_type": "stream",
     "text": [
      "CatBoost is using more CPU RAM (1.05GiB) than the limit (512MiB)\n",
      "CatBoost is using more CPU RAM (1.05GiB) than the limit (512MiB)\n",
      "CatBoost is using more CPU RAM (1.05GiB) than the limit (1GiB)\n",
      "Resource CPU RAM: functionWithResourceUsage.ResourceUsage(161288) > ResourceQuota(0)\n",
      "Resource CPU RAM: functionWithResourceUsage.ResourceUsage(161288) > ResourceQuota(0)\n",
      "Resource CPU RAM: functionWithResourceUsage.ResourceUsage(161288) > ResourceQuota(0)\n",
      "Resource CPU RAM: functionWithResourceUsage.ResourceUsage(161288) > ResourceQuota(0)\n",
      "Resource CPU RAM: functionWithResourceUsage.ResourceUsage(161288) > ResourceQuota(0)\n",
      "Resource CPU RAM: functionWithResourceUsage.ResourceUsage(161288) > ResourceQuota(0)\n",
      "Resource CPU RAM: functionWithResourceUsage.ResourceUsage(161288) > ResourceQuota(0)\n",
      "Resource CPU RAM: functionWithResourceUsage.ResourceUsage(161288) > ResourceQuota(0)\n",
      "Resource CPU RAM: functionWithResourceUsage.ResourceUsage(897912) > ResourceQuota(0)\n",
      "Resource CPU RAM: functionWithResourceUsage.ResourceUsage(897912) > ResourceQuota(0)\n",
      "Resource CPU RAM: functionWithResourceUsage.ResourceUsage(897912) > ResourceQuota(0)\n",
      "Resource CPU RAM: functionWithResourceUsage.ResourceUsage(897912) > ResourceQuota(0)\n",
      "Resource CPU RAM: functionWithResourceUsage.ResourceUsage(897912) > ResourceQuota(0)\n",
      "Resource CPU RAM: functionWithResourceUsage.ResourceUsage(897912) > ResourceQuota(0)\n",
      "Resource CPU RAM: functionWithResourceUsage.ResourceUsage(897912) > ResourceQuota(0)\n",
      "Resource CPU RAM: functionWithResourceUsage.ResourceUsage(897912) > ResourceQuota(0)\n",
      "Resource CPU RAM: functionWithResourceUsage.ResourceUsage(897912) > ResourceQuota(0)\n",
      "Resource CPU RAM: functionWithResourceUsage.ResourceUsage(897912) > ResourceQuota(0)\n",
      "CatBoost is using more CPU RAM (1.05GiB) than the limit (1GiB)\n",
      "Resource CPU RAM: functionWithResourceUsage.ResourceUsage(24942) > ResourceQuota(0)\n",
      "Resource CPU RAM: functionWithResourceUsage.ResourceUsage(24942) > ResourceQuota(0)\n",
      "Resource CPU RAM: functionWithResourceUsage.ResourceUsage(24942) > ResourceQuota(0)\n",
      "Resource CPU RAM: functionWithResourceUsage.ResourceUsage(24942) > ResourceQuota(0)\n",
      "Resource CPU RAM: functionWithResourceUsage.ResourceUsage(24942) > ResourceQuota(0)\n",
      "Resource CPU RAM: functionWithResourceUsage.ResourceUsage(24942) > ResourceQuota(0)\n",
      "Resource CPU RAM: functionWithResourceUsage.ResourceUsage(24942) > ResourceQuota(0)\n",
      "Resource CPU RAM: functionWithResourceUsage.ResourceUsage(99768) > ResourceQuota(0)\n",
      "Resource CPU RAM: functionWithResourceUsage.ResourceUsage(99768) > ResourceQuota(0)\n",
      "Resource CPU RAM: functionWithResourceUsage.ResourceUsage(99768) > ResourceQuota(0)\n",
      "Resource CPU RAM: functionWithResourceUsage.ResourceUsage(99768) > ResourceQuota(0)\n",
      "Resource CPU RAM: functionWithResourceUsage.ResourceUsage(99768) > ResourceQuota(0)\n",
      "Resource CPU RAM: functionWithResourceUsage.ResourceUsage(99768) > ResourceQuota(0)\n",
      "Resource CPU RAM: functionWithResourceUsage.ResourceUsage(99768) > ResourceQuota(0)\n",
      "Resource CPU RAM: functionWithResourceUsage.ResourceUsage(99768) > ResourceQuota(0)\n",
      "Resource CPU RAM: functionWithResourceUsage.ResourceUsage(24942) > ResourceQuota(0)\n",
      "CatBoost is using more CPU RAM (1.05GiB) than the limit (1GiB)\n",
      "Resource CPU RAM: functionWithResourceUsage.ResourceUsage(12472) > ResourceQuota(0)\n",
      "Resource CPU RAM: functionWithResourceUsage.ResourceUsage(12472) > ResourceQuota(0)\n",
      "Resource CPU RAM: functionWithResourceUsage.ResourceUsage(12472) > ResourceQuota(0)\n",
      "Resource CPU RAM: functionWithResourceUsage.ResourceUsage(12472) > ResourceQuota(0)\n",
      "Resource CPU RAM: functionWithResourceUsage.ResourceUsage(12472) > ResourceQuota(0)\n",
      "Resource CPU RAM: functionWithResourceUsage.ResourceUsage(12472) > ResourceQuota(0)\n",
      "Resource CPU RAM: functionWithResourceUsage.ResourceUsage(12472) > ResourceQuota(0)\n",
      "Resource CPU RAM: functionWithResourceUsage.ResourceUsage(448956) > ResourceQuota(0)\n",
      "Resource CPU RAM: functionWithResourceUsage.ResourceUsage(448956) > ResourceQuota(0)\n",
      "Resource CPU RAM: functionWithResourceUsage.ResourceUsage(448956) > ResourceQuota(0)\n",
      "Resource CPU RAM: functionWithResourceUsage.ResourceUsage(448956) > ResourceQuota(0)\n",
      "Resource CPU RAM: functionWithResourceUsage.ResourceUsage(448956) > ResourceQuota(0)\n",
      "Resource CPU RAM: functionWithResourceUsage.ResourceUsage(448956) > ResourceQuota(0)\n",
      "Resource CPU RAM: functionWithResourceUsage.ResourceUsage(448956) > ResourceQuota(0)\n",
      "Resource CPU RAM: functionWithResourceUsage.ResourceUsage(448956) > ResourceQuota(0)\n",
      "Resource CPU RAM: functionWithResourceUsage.ResourceUsage(448956) > ResourceQuota(0)\n",
      "Resource CPU RAM: functionWithResourceUsage.ResourceUsage(448956) > ResourceQuota(0)\n",
      "CatBoost is using more CPU RAM (1.05GiB) than the limit (1GiB)\n",
      "Resource CPU RAM: functionWithResourceUsage.ResourceUsage(12471) > ResourceQuota(0)\n",
      "Resource CPU RAM: functionWithResourceUsage.ResourceUsage(12471) > ResourceQuota(0)\n",
      "Resource CPU RAM: functionWithResourceUsage.ResourceUsage(12471) > ResourceQuota(0)\n",
      "Resource CPU RAM: functionWithResourceUsage.ResourceUsage(12471) > ResourceQuota(0)\n",
      "Resource CPU RAM: functionWithResourceUsage.ResourceUsage(12471) > ResourceQuota(0)\n",
      "Resource CPU RAM: functionWithResourceUsage.ResourceUsage(12471) > ResourceQuota(0)\n",
      "Resource CPU RAM: functionWithResourceUsage.ResourceUsage(12471) > ResourceQuota(0)\n",
      "Resource CPU RAM: functionWithResourceUsage.ResourceUsage(49884) > ResourceQuota(0)\n",
      "Resource CPU RAM: functionWithResourceUsage.ResourceUsage(49884) > ResourceQuota(0)\n",
      "Resource CPU RAM: functionWithResourceUsage.ResourceUsage(49884) > ResourceQuota(0)\n",
      "Resource CPU RAM: functionWithResourceUsage.ResourceUsage(49884) > ResourceQuota(0)\n",
      "Resource CPU RAM: functionWithResourceUsage.ResourceUsage(49884) > ResourceQuota(0)\n",
      "Resource CPU RAM: functionWithResourceUsage.ResourceUsage(49884) > ResourceQuota(0)\n",
      "Resource CPU RAM: functionWithResourceUsage.ResourceUsage(49884) > ResourceQuota(0)\n",
      "Resource CPU RAM: functionWithResourceUsage.ResourceUsage(49884) > ResourceQuota(0)\n",
      "Resource CPU RAM: functionWithResourceUsage.ResourceUsage(12471) > ResourceQuota(0)\n"
     ]
    },
    {
     "name": "stdout",
     "output_type": "stream",
     "text": [
      "\n",
      "bestTest = 0.06711342415\n",
      "bestIteration = 1014\n",
      "\n",
      "Training on fold [2/3]\n"
     ]
    },
    {
     "name": "stderr",
     "output_type": "stream",
     "text": [
      "CatBoost is using more CPU RAM (1.05GiB) than the limit (512MiB)\n",
      "CatBoost is using more CPU RAM (1.05GiB) than the limit (512MiB)\n",
      "CatBoost is using more CPU RAM (1.05GiB) than the limit (1GiB)\n",
      "Resource CPU RAM: functionWithResourceUsage.ResourceUsage(223644) > ResourceQuota(0)\n",
      "Resource CPU RAM: functionWithResourceUsage.ResourceUsage(223644) > ResourceQuota(0)\n",
      "Resource CPU RAM: functionWithResourceUsage.ResourceUsage(223644) > ResourceQuota(0)\n",
      "Resource CPU RAM: functionWithResourceUsage.ResourceUsage(223644) > ResourceQuota(0)\n",
      "Resource CPU RAM: functionWithResourceUsage.ResourceUsage(223644) > ResourceQuota(0)\n",
      "Resource CPU RAM: functionWithResourceUsage.ResourceUsage(223644) > ResourceQuota(0)\n",
      "Resource CPU RAM: functionWithResourceUsage.ResourceUsage(223644) > ResourceQuota(0)\n",
      "Resource CPU RAM: functionWithResourceUsage.ResourceUsage(223644) > ResourceQuota(0)\n",
      "Resource CPU RAM: functionWithResourceUsage.ResourceUsage(1346868) > ResourceQuota(0)\n",
      "Resource CPU RAM: functionWithResourceUsage.ResourceUsage(1346868) > ResourceQuota(0)\n",
      "Resource CPU RAM: functionWithResourceUsage.ResourceUsage(1346868) > ResourceQuota(0)\n",
      "Resource CPU RAM: functionWithResourceUsage.ResourceUsage(1346868) > ResourceQuota(0)\n",
      "Resource CPU RAM: functionWithResourceUsage.ResourceUsage(1346868) > ResourceQuota(0)\n",
      "Resource CPU RAM: functionWithResourceUsage.ResourceUsage(1346868) > ResourceQuota(0)\n",
      "Resource CPU RAM: functionWithResourceUsage.ResourceUsage(1346868) > ResourceQuota(0)\n",
      "Resource CPU RAM: functionWithResourceUsage.ResourceUsage(1346868) > ResourceQuota(0)\n",
      "Resource CPU RAM: functionWithResourceUsage.ResourceUsage(1346868) > ResourceQuota(0)\n",
      "Resource CPU RAM: functionWithResourceUsage.ResourceUsage(1346868) > ResourceQuota(0)\n",
      "CatBoost is using more CPU RAM (1.05GiB) than the limit (1GiB)\n",
      "Resource CPU RAM: functionWithResourceUsage.ResourceUsage(37413) > ResourceQuota(0)\n",
      "Resource CPU RAM: functionWithResourceUsage.ResourceUsage(37413) > ResourceQuota(0)\n",
      "Resource CPU RAM: functionWithResourceUsage.ResourceUsage(37413) > ResourceQuota(0)\n",
      "Resource CPU RAM: functionWithResourceUsage.ResourceUsage(37413) > ResourceQuota(0)\n",
      "Resource CPU RAM: functionWithResourceUsage.ResourceUsage(37413) > ResourceQuota(0)\n",
      "Resource CPU RAM: functionWithResourceUsage.ResourceUsage(37413) > ResourceQuota(0)\n",
      "Resource CPU RAM: functionWithResourceUsage.ResourceUsage(37413) > ResourceQuota(0)\n",
      "Resource CPU RAM: functionWithResourceUsage.ResourceUsage(149652) > ResourceQuota(0)\n",
      "Resource CPU RAM: functionWithResourceUsage.ResourceUsage(149652) > ResourceQuota(0)\n",
      "Resource CPU RAM: functionWithResourceUsage.ResourceUsage(149652) > ResourceQuota(0)\n",
      "Resource CPU RAM: functionWithResourceUsage.ResourceUsage(149652) > ResourceQuota(0)\n",
      "Resource CPU RAM: functionWithResourceUsage.ResourceUsage(149652) > ResourceQuota(0)\n",
      "Resource CPU RAM: functionWithResourceUsage.ResourceUsage(149652) > ResourceQuota(0)\n",
      "Resource CPU RAM: functionWithResourceUsage.ResourceUsage(149652) > ResourceQuota(0)\n",
      "Resource CPU RAM: functionWithResourceUsage.ResourceUsage(149652) > ResourceQuota(0)\n",
      "Resource CPU RAM: functionWithResourceUsage.ResourceUsage(37413) > ResourceQuota(0)\n",
      "CatBoost is using more CPU RAM (1.05GiB) than the limit (1GiB)\n",
      "Resource CPU RAM: functionWithResourceUsage.ResourceUsage(12472) > ResourceQuota(0)\n",
      "Resource CPU RAM: functionWithResourceUsage.ResourceUsage(12472) > ResourceQuota(0)\n",
      "Resource CPU RAM: functionWithResourceUsage.ResourceUsage(12472) > ResourceQuota(0)\n",
      "Resource CPU RAM: functionWithResourceUsage.ResourceUsage(12472) > ResourceQuota(0)\n",
      "Resource CPU RAM: functionWithResourceUsage.ResourceUsage(12472) > ResourceQuota(0)\n",
      "Resource CPU RAM: functionWithResourceUsage.ResourceUsage(12472) > ResourceQuota(0)\n",
      "Resource CPU RAM: functionWithResourceUsage.ResourceUsage(12472) > ResourceQuota(0)\n",
      "Resource CPU RAM: functionWithResourceUsage.ResourceUsage(448920) > ResourceQuota(0)\n",
      "Resource CPU RAM: functionWithResourceUsage.ResourceUsage(448920) > ResourceQuota(0)\n",
      "Resource CPU RAM: functionWithResourceUsage.ResourceUsage(448920) > ResourceQuota(0)\n",
      "Resource CPU RAM: functionWithResourceUsage.ResourceUsage(448920) > ResourceQuota(0)\n",
      "Resource CPU RAM: functionWithResourceUsage.ResourceUsage(448920) > ResourceQuota(0)\n",
      "Resource CPU RAM: functionWithResourceUsage.ResourceUsage(448920) > ResourceQuota(0)\n",
      "Resource CPU RAM: functionWithResourceUsage.ResourceUsage(448920) > ResourceQuota(0)\n",
      "Resource CPU RAM: functionWithResourceUsage.ResourceUsage(448920) > ResourceQuota(0)\n",
      "Resource CPU RAM: functionWithResourceUsage.ResourceUsage(448920) > ResourceQuota(0)\n",
      "Resource CPU RAM: functionWithResourceUsage.ResourceUsage(448920) > ResourceQuota(0)\n",
      "CatBoost is using more CPU RAM (1.05GiB) than the limit (1GiB)\n",
      "Resource CPU RAM: functionWithResourceUsage.ResourceUsage(12470) > ResourceQuota(0)\n",
      "Resource CPU RAM: functionWithResourceUsage.ResourceUsage(12470) > ResourceQuota(0)\n",
      "Resource CPU RAM: functionWithResourceUsage.ResourceUsage(12470) > ResourceQuota(0)\n",
      "Resource CPU RAM: functionWithResourceUsage.ResourceUsage(12470) > ResourceQuota(0)\n",
      "Resource CPU RAM: functionWithResourceUsage.ResourceUsage(12470) > ResourceQuota(0)\n",
      "Resource CPU RAM: functionWithResourceUsage.ResourceUsage(12470) > ResourceQuota(0)\n",
      "Resource CPU RAM: functionWithResourceUsage.ResourceUsage(12470) > ResourceQuota(0)\n",
      "Resource CPU RAM: functionWithResourceUsage.ResourceUsage(49880) > ResourceQuota(0)\n",
      "Resource CPU RAM: functionWithResourceUsage.ResourceUsage(49880) > ResourceQuota(0)\n",
      "Resource CPU RAM: functionWithResourceUsage.ResourceUsage(49880) > ResourceQuota(0)\n",
      "Resource CPU RAM: functionWithResourceUsage.ResourceUsage(49880) > ResourceQuota(0)\n",
      "Resource CPU RAM: functionWithResourceUsage.ResourceUsage(49880) > ResourceQuota(0)\n",
      "Resource CPU RAM: functionWithResourceUsage.ResourceUsage(49880) > ResourceQuota(0)\n",
      "Resource CPU RAM: functionWithResourceUsage.ResourceUsage(49880) > ResourceQuota(0)\n",
      "Resource CPU RAM: functionWithResourceUsage.ResourceUsage(49880) > ResourceQuota(0)\n",
      "Resource CPU RAM: functionWithResourceUsage.ResourceUsage(12470) > ResourceQuota(0)\n"
     ]
    },
    {
     "name": "stdout",
     "output_type": "stream",
     "text": [
      "\n",
      "bestTest = 0.06947254537\n",
      "bestIteration = 1906\n",
      "\n",
      "Training on fold [0/3]\n"
     ]
    },
    {
     "name": "stderr",
     "output_type": "stream",
     "text": [
      "CatBoost is using more CPU RAM (1.05GiB) than the limit (512MiB)\n",
      "CatBoost is using more CPU RAM (1.05GiB) than the limit (512MiB)\n",
      "CatBoost is using more CPU RAM (1.05GiB) than the limit (1GiB)\n",
      "Resource CPU RAM: functionWithResourceUsage.ResourceUsage(98932) > ResourceQuota(0)\n",
      "Resource CPU RAM: functionWithResourceUsage.ResourceUsage(98932) > ResourceQuota(0)\n",
      "Resource CPU RAM: functionWithResourceUsage.ResourceUsage(98932) > ResourceQuota(0)\n",
      "Resource CPU RAM: functionWithResourceUsage.ResourceUsage(98932) > ResourceQuota(0)\n",
      "Resource CPU RAM: functionWithResourceUsage.ResourceUsage(98932) > ResourceQuota(0)\n",
      "Resource CPU RAM: functionWithResourceUsage.ResourceUsage(98932) > ResourceQuota(0)\n",
      "Resource CPU RAM: functionWithResourceUsage.ResourceUsage(98932) > ResourceQuota(0)\n",
      "Resource CPU RAM: functionWithResourceUsage.ResourceUsage(98932) > ResourceQuota(0)\n",
      "Resource CPU RAM: functionWithResourceUsage.ResourceUsage(448956) > ResourceQuota(0)\n",
      "Resource CPU RAM: functionWithResourceUsage.ResourceUsage(448956) > ResourceQuota(0)\n",
      "Resource CPU RAM: functionWithResourceUsage.ResourceUsage(448956) > ResourceQuota(0)\n",
      "Resource CPU RAM: functionWithResourceUsage.ResourceUsage(448956) > ResourceQuota(0)\n",
      "Resource CPU RAM: functionWithResourceUsage.ResourceUsage(448956) > ResourceQuota(0)\n",
      "Resource CPU RAM: functionWithResourceUsage.ResourceUsage(448956) > ResourceQuota(0)\n",
      "Resource CPU RAM: functionWithResourceUsage.ResourceUsage(448956) > ResourceQuota(0)\n",
      "Resource CPU RAM: functionWithResourceUsage.ResourceUsage(448956) > ResourceQuota(0)\n",
      "Resource CPU RAM: functionWithResourceUsage.ResourceUsage(448956) > ResourceQuota(0)\n",
      "Resource CPU RAM: functionWithResourceUsage.ResourceUsage(448956) > ResourceQuota(0)\n",
      "CatBoost is using more CPU RAM (1.05GiB) than the limit (1GiB)\n",
      "Resource CPU RAM: functionWithResourceUsage.ResourceUsage(12471) > ResourceQuota(0)\n",
      "Resource CPU RAM: functionWithResourceUsage.ResourceUsage(12471) > ResourceQuota(0)\n",
      "Resource CPU RAM: functionWithResourceUsage.ResourceUsage(12471) > ResourceQuota(0)\n",
      "Resource CPU RAM: functionWithResourceUsage.ResourceUsage(12471) > ResourceQuota(0)\n",
      "Resource CPU RAM: functionWithResourceUsage.ResourceUsage(12471) > ResourceQuota(0)\n",
      "Resource CPU RAM: functionWithResourceUsage.ResourceUsage(12471) > ResourceQuota(0)\n",
      "Resource CPU RAM: functionWithResourceUsage.ResourceUsage(12471) > ResourceQuota(0)\n",
      "Resource CPU RAM: functionWithResourceUsage.ResourceUsage(49884) > ResourceQuota(0)\n",
      "Resource CPU RAM: functionWithResourceUsage.ResourceUsage(49884) > ResourceQuota(0)\n",
      "Resource CPU RAM: functionWithResourceUsage.ResourceUsage(49884) > ResourceQuota(0)\n",
      "Resource CPU RAM: functionWithResourceUsage.ResourceUsage(49884) > ResourceQuota(0)\n",
      "Resource CPU RAM: functionWithResourceUsage.ResourceUsage(49884) > ResourceQuota(0)\n",
      "Resource CPU RAM: functionWithResourceUsage.ResourceUsage(49884) > ResourceQuota(0)\n",
      "Resource CPU RAM: functionWithResourceUsage.ResourceUsage(49884) > ResourceQuota(0)\n",
      "Resource CPU RAM: functionWithResourceUsage.ResourceUsage(12471) > ResourceQuota(0)\n",
      "CatBoost is using more CPU RAM (1.05GiB) than the limit (1GiB)\n",
      "Resource CPU RAM: functionWithResourceUsage.ResourceUsage(12472) > ResourceQuota(0)\n",
      "Resource CPU RAM: functionWithResourceUsage.ResourceUsage(12472) > ResourceQuota(0)\n",
      "Resource CPU RAM: functionWithResourceUsage.ResourceUsage(12472) > ResourceQuota(0)\n",
      "Resource CPU RAM: functionWithResourceUsage.ResourceUsage(12472) > ResourceQuota(0)\n",
      "Resource CPU RAM: functionWithResourceUsage.ResourceUsage(12472) > ResourceQuota(0)\n",
      "Resource CPU RAM: functionWithResourceUsage.ResourceUsage(12472) > ResourceQuota(0)\n",
      "Resource CPU RAM: functionWithResourceUsage.ResourceUsage(12472) > ResourceQuota(0)\n",
      "Resource CPU RAM: functionWithResourceUsage.ResourceUsage(448956) > ResourceQuota(0)\n",
      "Resource CPU RAM: functionWithResourceUsage.ResourceUsage(448956) > ResourceQuota(0)\n",
      "Resource CPU RAM: functionWithResourceUsage.ResourceUsage(448956) > ResourceQuota(0)\n",
      "Resource CPU RAM: functionWithResourceUsage.ResourceUsage(448956) > ResourceQuota(0)\n",
      "Resource CPU RAM: functionWithResourceUsage.ResourceUsage(448956) > ResourceQuota(0)\n",
      "Resource CPU RAM: functionWithResourceUsage.ResourceUsage(448956) > ResourceQuota(0)\n",
      "Resource CPU RAM: functionWithResourceUsage.ResourceUsage(448956) > ResourceQuota(0)\n",
      "Resource CPU RAM: functionWithResourceUsage.ResourceUsage(448956) > ResourceQuota(0)\n",
      "Resource CPU RAM: functionWithResourceUsage.ResourceUsage(448956) > ResourceQuota(0)\n",
      "Resource CPU RAM: functionWithResourceUsage.ResourceUsage(448956) > ResourceQuota(0)\n",
      "CatBoost is using more CPU RAM (1.05GiB) than the limit (1GiB)\n",
      "Resource CPU RAM: functionWithResourceUsage.ResourceUsage(12471) > ResourceQuota(0)\n",
      "Resource CPU RAM: functionWithResourceUsage.ResourceUsage(12471) > ResourceQuota(0)\n",
      "Resource CPU RAM: functionWithResourceUsage.ResourceUsage(12471) > ResourceQuota(0)\n",
      "Resource CPU RAM: functionWithResourceUsage.ResourceUsage(12471) > ResourceQuota(0)\n",
      "Resource CPU RAM: functionWithResourceUsage.ResourceUsage(12471) > ResourceQuota(0)\n",
      "Resource CPU RAM: functionWithResourceUsage.ResourceUsage(12471) > ResourceQuota(0)\n",
      "Resource CPU RAM: functionWithResourceUsage.ResourceUsage(12471) > ResourceQuota(0)\n",
      "Resource CPU RAM: functionWithResourceUsage.ResourceUsage(49884) > ResourceQuota(0)\n",
      "Resource CPU RAM: functionWithResourceUsage.ResourceUsage(49884) > ResourceQuota(0)\n",
      "Resource CPU RAM: functionWithResourceUsage.ResourceUsage(49884) > ResourceQuota(0)\n",
      "Resource CPU RAM: functionWithResourceUsage.ResourceUsage(49884) > ResourceQuota(0)\n",
      "Resource CPU RAM: functionWithResourceUsage.ResourceUsage(49884) > ResourceQuota(0)\n",
      "Resource CPU RAM: functionWithResourceUsage.ResourceUsage(49884) > ResourceQuota(0)\n",
      "Resource CPU RAM: functionWithResourceUsage.ResourceUsage(49884) > ResourceQuota(0)\n",
      "Resource CPU RAM: functionWithResourceUsage.ResourceUsage(49884) > ResourceQuota(0)\n",
      "Resource CPU RAM: functionWithResourceUsage.ResourceUsage(12471) > ResourceQuota(0)\n"
     ]
    },
    {
     "name": "stdout",
     "output_type": "stream",
     "text": [
      "\n",
      "bestTest = 0.09161144103\n",
      "bestIteration = 654\n",
      "\n",
      "Training on fold [1/3]\n"
     ]
    },
    {
     "name": "stderr",
     "output_type": "stream",
     "text": [
      "CatBoost is using more CPU RAM (1.05GiB) than the limit (512MiB)\n",
      "CatBoost is using more CPU RAM (1.05GiB) than the limit (512MiB)\n",
      "CatBoost is using more CPU RAM (1.05GiB) than the limit (1GiB)\n",
      "Resource CPU RAM: functionWithResourceUsage.ResourceUsage(161288) > ResourceQuota(0)\n",
      "Resource CPU RAM: functionWithResourceUsage.ResourceUsage(161288) > ResourceQuota(0)\n",
      "Resource CPU RAM: functionWithResourceUsage.ResourceUsage(161288) > ResourceQuota(0)\n",
      "Resource CPU RAM: functionWithResourceUsage.ResourceUsage(161288) > ResourceQuota(0)\n",
      "Resource CPU RAM: functionWithResourceUsage.ResourceUsage(161288) > ResourceQuota(0)\n",
      "Resource CPU RAM: functionWithResourceUsage.ResourceUsage(161288) > ResourceQuota(0)\n",
      "Resource CPU RAM: functionWithResourceUsage.ResourceUsage(161288) > ResourceQuota(0)\n",
      "Resource CPU RAM: functionWithResourceUsage.ResourceUsage(161288) > ResourceQuota(0)\n",
      "Resource CPU RAM: functionWithResourceUsage.ResourceUsage(897912) > ResourceQuota(0)\n",
      "Resource CPU RAM: functionWithResourceUsage.ResourceUsage(897912) > ResourceQuota(0)\n",
      "Resource CPU RAM: functionWithResourceUsage.ResourceUsage(897912) > ResourceQuota(0)\n",
      "Resource CPU RAM: functionWithResourceUsage.ResourceUsage(897912) > ResourceQuota(0)\n",
      "Resource CPU RAM: functionWithResourceUsage.ResourceUsage(897912) > ResourceQuota(0)\n",
      "Resource CPU RAM: functionWithResourceUsage.ResourceUsage(897912) > ResourceQuota(0)\n",
      "Resource CPU RAM: functionWithResourceUsage.ResourceUsage(897912) > ResourceQuota(0)\n",
      "Resource CPU RAM: functionWithResourceUsage.ResourceUsage(897912) > ResourceQuota(0)\n",
      "Resource CPU RAM: functionWithResourceUsage.ResourceUsage(897912) > ResourceQuota(0)\n",
      "Resource CPU RAM: functionWithResourceUsage.ResourceUsage(897912) > ResourceQuota(0)\n",
      "CatBoost is using more CPU RAM (1.05GiB) than the limit (1GiB)\n",
      "Resource CPU RAM: functionWithResourceUsage.ResourceUsage(24942) > ResourceQuota(0)\n",
      "Resource CPU RAM: functionWithResourceUsage.ResourceUsage(24942) > ResourceQuota(0)\n",
      "Resource CPU RAM: functionWithResourceUsage.ResourceUsage(24942) > ResourceQuota(0)\n",
      "Resource CPU RAM: functionWithResourceUsage.ResourceUsage(24942) > ResourceQuota(0)\n",
      "Resource CPU RAM: functionWithResourceUsage.ResourceUsage(24942) > ResourceQuota(0)\n",
      "Resource CPU RAM: functionWithResourceUsage.ResourceUsage(24942) > ResourceQuota(0)\n",
      "Resource CPU RAM: functionWithResourceUsage.ResourceUsage(24942) > ResourceQuota(0)\n",
      "Resource CPU RAM: functionWithResourceUsage.ResourceUsage(99768) > ResourceQuota(0)\n",
      "Resource CPU RAM: functionWithResourceUsage.ResourceUsage(99768) > ResourceQuota(0)\n",
      "Resource CPU RAM: functionWithResourceUsage.ResourceUsage(99768) > ResourceQuota(0)\n",
      "Resource CPU RAM: functionWithResourceUsage.ResourceUsage(99768) > ResourceQuota(0)\n",
      "Resource CPU RAM: functionWithResourceUsage.ResourceUsage(99768) > ResourceQuota(0)\n",
      "Resource CPU RAM: functionWithResourceUsage.ResourceUsage(99768) > ResourceQuota(0)\n",
      "Resource CPU RAM: functionWithResourceUsage.ResourceUsage(99768) > ResourceQuota(0)\n",
      "Resource CPU RAM: functionWithResourceUsage.ResourceUsage(99768) > ResourceQuota(0)\n",
      "Resource CPU RAM: functionWithResourceUsage.ResourceUsage(24942) > ResourceQuota(0)\n",
      "CatBoost is using more CPU RAM (1.05GiB) than the limit (1GiB)\n",
      "Resource CPU RAM: functionWithResourceUsage.ResourceUsage(12472) > ResourceQuota(0)\n",
      "Resource CPU RAM: functionWithResourceUsage.ResourceUsage(12472) > ResourceQuota(0)\n",
      "Resource CPU RAM: functionWithResourceUsage.ResourceUsage(12472) > ResourceQuota(0)\n",
      "Resource CPU RAM: functionWithResourceUsage.ResourceUsage(12472) > ResourceQuota(0)\n",
      "Resource CPU RAM: functionWithResourceUsage.ResourceUsage(12472) > ResourceQuota(0)\n",
      "Resource CPU RAM: functionWithResourceUsage.ResourceUsage(12472) > ResourceQuota(0)\n",
      "Resource CPU RAM: functionWithResourceUsage.ResourceUsage(12472) > ResourceQuota(0)\n",
      "Resource CPU RAM: functionWithResourceUsage.ResourceUsage(448956) > ResourceQuota(0)\n",
      "Resource CPU RAM: functionWithResourceUsage.ResourceUsage(448956) > ResourceQuota(0)\n",
      "Resource CPU RAM: functionWithResourceUsage.ResourceUsage(448956) > ResourceQuota(0)\n",
      "Resource CPU RAM: functionWithResourceUsage.ResourceUsage(448956) > ResourceQuota(0)\n",
      "Resource CPU RAM: functionWithResourceUsage.ResourceUsage(448956) > ResourceQuota(0)\n",
      "Resource CPU RAM: functionWithResourceUsage.ResourceUsage(448956) > ResourceQuota(0)\n",
      "Resource CPU RAM: functionWithResourceUsage.ResourceUsage(448956) > ResourceQuota(0)\n",
      "Resource CPU RAM: functionWithResourceUsage.ResourceUsage(448956) > ResourceQuota(0)\n",
      "Resource CPU RAM: functionWithResourceUsage.ResourceUsage(448956) > ResourceQuota(0)\n",
      "Resource CPU RAM: functionWithResourceUsage.ResourceUsage(448956) > ResourceQuota(0)\n",
      "CatBoost is using more CPU RAM (1.05GiB) than the limit (1GiB)\n",
      "Resource CPU RAM: functionWithResourceUsage.ResourceUsage(12471) > ResourceQuota(0)\n",
      "Resource CPU RAM: functionWithResourceUsage.ResourceUsage(12471) > ResourceQuota(0)\n",
      "Resource CPU RAM: functionWithResourceUsage.ResourceUsage(12471) > ResourceQuota(0)\n",
      "Resource CPU RAM: functionWithResourceUsage.ResourceUsage(12471) > ResourceQuota(0)\n",
      "Resource CPU RAM: functionWithResourceUsage.ResourceUsage(12471) > ResourceQuota(0)\n",
      "Resource CPU RAM: functionWithResourceUsage.ResourceUsage(12471) > ResourceQuota(0)\n",
      "Resource CPU RAM: functionWithResourceUsage.ResourceUsage(12471) > ResourceQuota(0)\n",
      "Resource CPU RAM: functionWithResourceUsage.ResourceUsage(49884) > ResourceQuota(0)\n",
      "Resource CPU RAM: functionWithResourceUsage.ResourceUsage(49884) > ResourceQuota(0)\n",
      "Resource CPU RAM: functionWithResourceUsage.ResourceUsage(49884) > ResourceQuota(0)\n",
      "Resource CPU RAM: functionWithResourceUsage.ResourceUsage(49884) > ResourceQuota(0)\n",
      "Resource CPU RAM: functionWithResourceUsage.ResourceUsage(49884) > ResourceQuota(0)\n",
      "Resource CPU RAM: functionWithResourceUsage.ResourceUsage(49884) > ResourceQuota(0)\n",
      "Resource CPU RAM: functionWithResourceUsage.ResourceUsage(49884) > ResourceQuota(0)\n",
      "Resource CPU RAM: functionWithResourceUsage.ResourceUsage(49884) > ResourceQuota(0)\n",
      "Resource CPU RAM: functionWithResourceUsage.ResourceUsage(12471) > ResourceQuota(0)\n"
     ]
    },
    {
     "name": "stdout",
     "output_type": "stream",
     "text": [
      "\n",
      "bestTest = 0.06733858845\n",
      "bestIteration = 843\n",
      "\n",
      "Training on fold [2/3]\n"
     ]
    },
    {
     "name": "stderr",
     "output_type": "stream",
     "text": [
      "CatBoost is using more CPU RAM (1.05GiB) than the limit (512MiB)\n",
      "CatBoost is using more CPU RAM (1.05GiB) than the limit (512MiB)\n",
      "CatBoost is using more CPU RAM (1.05GiB) than the limit (1GiB)\n",
      "Resource CPU RAM: functionWithResourceUsage.ResourceUsage(223644) > ResourceQuota(0)\n",
      "Resource CPU RAM: functionWithResourceUsage.ResourceUsage(223644) > ResourceQuota(0)\n",
      "Resource CPU RAM: functionWithResourceUsage.ResourceUsage(223644) > ResourceQuota(0)\n",
      "Resource CPU RAM: functionWithResourceUsage.ResourceUsage(223644) > ResourceQuota(0)\n",
      "Resource CPU RAM: functionWithResourceUsage.ResourceUsage(223644) > ResourceQuota(0)\n",
      "Resource CPU RAM: functionWithResourceUsage.ResourceUsage(223644) > ResourceQuota(0)\n",
      "Resource CPU RAM: functionWithResourceUsage.ResourceUsage(223644) > ResourceQuota(0)\n",
      "Resource CPU RAM: functionWithResourceUsage.ResourceUsage(223644) > ResourceQuota(0)\n",
      "Resource CPU RAM: functionWithResourceUsage.ResourceUsage(1346868) > ResourceQuota(0)\n",
      "Resource CPU RAM: functionWithResourceUsage.ResourceUsage(1346868) > ResourceQuota(0)\n",
      "Resource CPU RAM: functionWithResourceUsage.ResourceUsage(1346868) > ResourceQuota(0)\n",
      "Resource CPU RAM: functionWithResourceUsage.ResourceUsage(1346868) > ResourceQuota(0)\n",
      "Resource CPU RAM: functionWithResourceUsage.ResourceUsage(1346868) > ResourceQuota(0)\n",
      "Resource CPU RAM: functionWithResourceUsage.ResourceUsage(1346868) > ResourceQuota(0)\n",
      "Resource CPU RAM: functionWithResourceUsage.ResourceUsage(1346868) > ResourceQuota(0)\n",
      "Resource CPU RAM: functionWithResourceUsage.ResourceUsage(1346868) > ResourceQuota(0)\n",
      "Resource CPU RAM: functionWithResourceUsage.ResourceUsage(1346868) > ResourceQuota(0)\n",
      "Resource CPU RAM: functionWithResourceUsage.ResourceUsage(1346868) > ResourceQuota(0)\n",
      "CatBoost is using more CPU RAM (1.05GiB) than the limit (1GiB)\n",
      "Resource CPU RAM: functionWithResourceUsage.ResourceUsage(37413) > ResourceQuota(0)\n",
      "Resource CPU RAM: functionWithResourceUsage.ResourceUsage(37413) > ResourceQuota(0)\n",
      "Resource CPU RAM: functionWithResourceUsage.ResourceUsage(37413) > ResourceQuota(0)\n",
      "Resource CPU RAM: functionWithResourceUsage.ResourceUsage(37413) > ResourceQuota(0)\n",
      "Resource CPU RAM: functionWithResourceUsage.ResourceUsage(37413) > ResourceQuota(0)\n",
      "Resource CPU RAM: functionWithResourceUsage.ResourceUsage(37413) > ResourceQuota(0)\n",
      "Resource CPU RAM: functionWithResourceUsage.ResourceUsage(37413) > ResourceQuota(0)\n",
      "Resource CPU RAM: functionWithResourceUsage.ResourceUsage(149652) > ResourceQuota(0)\n",
      "Resource CPU RAM: functionWithResourceUsage.ResourceUsage(149652) > ResourceQuota(0)\n",
      "Resource CPU RAM: functionWithResourceUsage.ResourceUsage(149652) > ResourceQuota(0)\n",
      "Resource CPU RAM: functionWithResourceUsage.ResourceUsage(149652) > ResourceQuota(0)\n",
      "Resource CPU RAM: functionWithResourceUsage.ResourceUsage(149652) > ResourceQuota(0)\n",
      "Resource CPU RAM: functionWithResourceUsage.ResourceUsage(149652) > ResourceQuota(0)\n",
      "Resource CPU RAM: functionWithResourceUsage.ResourceUsage(149652) > ResourceQuota(0)\n",
      "Resource CPU RAM: functionWithResourceUsage.ResourceUsage(149652) > ResourceQuota(0)\n",
      "Resource CPU RAM: functionWithResourceUsage.ResourceUsage(37413) > ResourceQuota(0)\n",
      "CatBoost is using more CPU RAM (1.05GiB) than the limit (1GiB)\n",
      "Resource CPU RAM: functionWithResourceUsage.ResourceUsage(12472) > ResourceQuota(0)\n",
      "Resource CPU RAM: functionWithResourceUsage.ResourceUsage(12472) > ResourceQuota(0)\n",
      "Resource CPU RAM: functionWithResourceUsage.ResourceUsage(12472) > ResourceQuota(0)\n",
      "Resource CPU RAM: functionWithResourceUsage.ResourceUsage(12472) > ResourceQuota(0)\n",
      "Resource CPU RAM: functionWithResourceUsage.ResourceUsage(12472) > ResourceQuota(0)\n",
      "Resource CPU RAM: functionWithResourceUsage.ResourceUsage(12472) > ResourceQuota(0)\n",
      "Resource CPU RAM: functionWithResourceUsage.ResourceUsage(12472) > ResourceQuota(0)\n",
      "Resource CPU RAM: functionWithResourceUsage.ResourceUsage(448920) > ResourceQuota(0)\n",
      "Resource CPU RAM: functionWithResourceUsage.ResourceUsage(448920) > ResourceQuota(0)\n",
      "Resource CPU RAM: functionWithResourceUsage.ResourceUsage(448920) > ResourceQuota(0)\n",
      "Resource CPU RAM: functionWithResourceUsage.ResourceUsage(448920) > ResourceQuota(0)\n",
      "Resource CPU RAM: functionWithResourceUsage.ResourceUsage(448920) > ResourceQuota(0)\n",
      "Resource CPU RAM: functionWithResourceUsage.ResourceUsage(448920) > ResourceQuota(0)\n",
      "Resource CPU RAM: functionWithResourceUsage.ResourceUsage(448920) > ResourceQuota(0)\n",
      "Resource CPU RAM: functionWithResourceUsage.ResourceUsage(448920) > ResourceQuota(0)\n",
      "Resource CPU RAM: functionWithResourceUsage.ResourceUsage(448920) > ResourceQuota(0)\n",
      "Resource CPU RAM: functionWithResourceUsage.ResourceUsage(448920) > ResourceQuota(0)\n",
      "CatBoost is using more CPU RAM (1.05GiB) than the limit (1GiB)\n",
      "Resource CPU RAM: functionWithResourceUsage.ResourceUsage(12470) > ResourceQuota(0)\n",
      "Resource CPU RAM: functionWithResourceUsage.ResourceUsage(12470) > ResourceQuota(0)\n",
      "Resource CPU RAM: functionWithResourceUsage.ResourceUsage(12470) > ResourceQuota(0)\n",
      "Resource CPU RAM: functionWithResourceUsage.ResourceUsage(12470) > ResourceQuota(0)\n",
      "Resource CPU RAM: functionWithResourceUsage.ResourceUsage(12470) > ResourceQuota(0)\n",
      "Resource CPU RAM: functionWithResourceUsage.ResourceUsage(12470) > ResourceQuota(0)\n",
      "Resource CPU RAM: functionWithResourceUsage.ResourceUsage(12470) > ResourceQuota(0)\n",
      "Resource CPU RAM: functionWithResourceUsage.ResourceUsage(49880) > ResourceQuota(0)\n",
      "Resource CPU RAM: functionWithResourceUsage.ResourceUsage(49880) > ResourceQuota(0)\n",
      "Resource CPU RAM: functionWithResourceUsage.ResourceUsage(49880) > ResourceQuota(0)\n",
      "Resource CPU RAM: functionWithResourceUsage.ResourceUsage(49880) > ResourceQuota(0)\n",
      "Resource CPU RAM: functionWithResourceUsage.ResourceUsage(49880) > ResourceQuota(0)\n",
      "Resource CPU RAM: functionWithResourceUsage.ResourceUsage(49880) > ResourceQuota(0)\n",
      "Resource CPU RAM: functionWithResourceUsage.ResourceUsage(49880) > ResourceQuota(0)\n",
      "Resource CPU RAM: functionWithResourceUsage.ResourceUsage(49880) > ResourceQuota(0)\n",
      "Resource CPU RAM: functionWithResourceUsage.ResourceUsage(12470) > ResourceQuota(0)\n"
     ]
    },
    {
     "name": "stdout",
     "output_type": "stream",
     "text": [
      "\n",
      "bestTest = 0.07397960139\n",
      "bestIteration = 2240\n",
      "\n",
      "Training on fold [0/3]\n"
     ]
    },
    {
     "name": "stderr",
     "output_type": "stream",
     "text": [
      "CatBoost is using more CPU RAM (1.05GiB) than the limit (512MiB)\n",
      "CatBoost is using more CPU RAM (1.05GiB) than the limit (512MiB)\n",
      "CatBoost is using more CPU RAM (1.05GiB) than the limit (1GiB)\n",
      "Resource CPU RAM: functionWithResourceUsage.ResourceUsage(98932) > ResourceQuota(0)\n",
      "Resource CPU RAM: functionWithResourceUsage.ResourceUsage(98932) > ResourceQuota(0)\n",
      "Resource CPU RAM: functionWithResourceUsage.ResourceUsage(98932) > ResourceQuota(0)\n",
      "Resource CPU RAM: functionWithResourceUsage.ResourceUsage(98932) > ResourceQuota(0)\n",
      "Resource CPU RAM: functionWithResourceUsage.ResourceUsage(98932) > ResourceQuota(0)\n",
      "Resource CPU RAM: functionWithResourceUsage.ResourceUsage(98932) > ResourceQuota(0)\n",
      "Resource CPU RAM: functionWithResourceUsage.ResourceUsage(98932) > ResourceQuota(0)\n",
      "Resource CPU RAM: functionWithResourceUsage.ResourceUsage(98932) > ResourceQuota(0)\n",
      "Resource CPU RAM: functionWithResourceUsage.ResourceUsage(448956) > ResourceQuota(0)\n",
      "Resource CPU RAM: functionWithResourceUsage.ResourceUsage(448956) > ResourceQuota(0)\n",
      "Resource CPU RAM: functionWithResourceUsage.ResourceUsage(448956) > ResourceQuota(0)\n",
      "Resource CPU RAM: functionWithResourceUsage.ResourceUsage(448956) > ResourceQuota(0)\n",
      "Resource CPU RAM: functionWithResourceUsage.ResourceUsage(448956) > ResourceQuota(0)\n",
      "Resource CPU RAM: functionWithResourceUsage.ResourceUsage(448956) > ResourceQuota(0)\n",
      "Resource CPU RAM: functionWithResourceUsage.ResourceUsage(448956) > ResourceQuota(0)\n",
      "Resource CPU RAM: functionWithResourceUsage.ResourceUsage(448956) > ResourceQuota(0)\n",
      "Resource CPU RAM: functionWithResourceUsage.ResourceUsage(448956) > ResourceQuota(0)\n",
      "Resource CPU RAM: functionWithResourceUsage.ResourceUsage(448956) > ResourceQuota(0)\n",
      "CatBoost is using more CPU RAM (1.05GiB) than the limit (1GiB)\n",
      "Resource CPU RAM: functionWithResourceUsage.ResourceUsage(12471) > ResourceQuota(0)\n",
      "Resource CPU RAM: functionWithResourceUsage.ResourceUsage(12471) > ResourceQuota(0)\n",
      "Resource CPU RAM: functionWithResourceUsage.ResourceUsage(12471) > ResourceQuota(0)\n",
      "Resource CPU RAM: functionWithResourceUsage.ResourceUsage(12471) > ResourceQuota(0)\n",
      "Resource CPU RAM: functionWithResourceUsage.ResourceUsage(12471) > ResourceQuota(0)\n",
      "Resource CPU RAM: functionWithResourceUsage.ResourceUsage(12471) > ResourceQuota(0)\n",
      "Resource CPU RAM: functionWithResourceUsage.ResourceUsage(12471) > ResourceQuota(0)\n",
      "Resource CPU RAM: functionWithResourceUsage.ResourceUsage(49884) > ResourceQuota(0)\n",
      "Resource CPU RAM: functionWithResourceUsage.ResourceUsage(49884) > ResourceQuota(0)\n",
      "Resource CPU RAM: functionWithResourceUsage.ResourceUsage(49884) > ResourceQuota(0)\n",
      "Resource CPU RAM: functionWithResourceUsage.ResourceUsage(49884) > ResourceQuota(0)\n",
      "Resource CPU RAM: functionWithResourceUsage.ResourceUsage(49884) > ResourceQuota(0)\n",
      "Resource CPU RAM: functionWithResourceUsage.ResourceUsage(49884) > ResourceQuota(0)\n",
      "Resource CPU RAM: functionWithResourceUsage.ResourceUsage(49884) > ResourceQuota(0)\n",
      "Resource CPU RAM: functionWithResourceUsage.ResourceUsage(12471) > ResourceQuota(0)\n",
      "CatBoost is using more CPU RAM (1.05GiB) than the limit (1GiB)\n",
      "Resource CPU RAM: functionWithResourceUsage.ResourceUsage(12472) > ResourceQuota(0)\n",
      "Resource CPU RAM: functionWithResourceUsage.ResourceUsage(12472) > ResourceQuota(0)\n",
      "Resource CPU RAM: functionWithResourceUsage.ResourceUsage(12472) > ResourceQuota(0)\n",
      "Resource CPU RAM: functionWithResourceUsage.ResourceUsage(12472) > ResourceQuota(0)\n",
      "Resource CPU RAM: functionWithResourceUsage.ResourceUsage(12472) > ResourceQuota(0)\n",
      "Resource CPU RAM: functionWithResourceUsage.ResourceUsage(12472) > ResourceQuota(0)\n",
      "Resource CPU RAM: functionWithResourceUsage.ResourceUsage(12472) > ResourceQuota(0)\n",
      "Resource CPU RAM: functionWithResourceUsage.ResourceUsage(448956) > ResourceQuota(0)\n",
      "Resource CPU RAM: functionWithResourceUsage.ResourceUsage(448956) > ResourceQuota(0)\n",
      "Resource CPU RAM: functionWithResourceUsage.ResourceUsage(448956) > ResourceQuota(0)\n",
      "Resource CPU RAM: functionWithResourceUsage.ResourceUsage(448956) > ResourceQuota(0)\n",
      "Resource CPU RAM: functionWithResourceUsage.ResourceUsage(448956) > ResourceQuota(0)\n",
      "Resource CPU RAM: functionWithResourceUsage.ResourceUsage(448956) > ResourceQuota(0)\n",
      "Resource CPU RAM: functionWithResourceUsage.ResourceUsage(448956) > ResourceQuota(0)\n",
      "Resource CPU RAM: functionWithResourceUsage.ResourceUsage(448956) > ResourceQuota(0)\n",
      "Resource CPU RAM: functionWithResourceUsage.ResourceUsage(448956) > ResourceQuota(0)\n",
      "Resource CPU RAM: functionWithResourceUsage.ResourceUsage(448956) > ResourceQuota(0)\n",
      "CatBoost is using more CPU RAM (1.05GiB) than the limit (1GiB)\n",
      "Resource CPU RAM: functionWithResourceUsage.ResourceUsage(12471) > ResourceQuota(0)\n",
      "Resource CPU RAM: functionWithResourceUsage.ResourceUsage(12471) > ResourceQuota(0)\n",
      "Resource CPU RAM: functionWithResourceUsage.ResourceUsage(12471) > ResourceQuota(0)\n",
      "Resource CPU RAM: functionWithResourceUsage.ResourceUsage(12471) > ResourceQuota(0)\n",
      "Resource CPU RAM: functionWithResourceUsage.ResourceUsage(12471) > ResourceQuota(0)\n",
      "Resource CPU RAM: functionWithResourceUsage.ResourceUsage(12471) > ResourceQuota(0)\n",
      "Resource CPU RAM: functionWithResourceUsage.ResourceUsage(12471) > ResourceQuota(0)\n",
      "Resource CPU RAM: functionWithResourceUsage.ResourceUsage(49884) > ResourceQuota(0)\n",
      "Resource CPU RAM: functionWithResourceUsage.ResourceUsage(49884) > ResourceQuota(0)\n",
      "Resource CPU RAM: functionWithResourceUsage.ResourceUsage(49884) > ResourceQuota(0)\n",
      "Resource CPU RAM: functionWithResourceUsage.ResourceUsage(49884) > ResourceQuota(0)\n",
      "Resource CPU RAM: functionWithResourceUsage.ResourceUsage(49884) > ResourceQuota(0)\n",
      "Resource CPU RAM: functionWithResourceUsage.ResourceUsage(49884) > ResourceQuota(0)\n",
      "Resource CPU RAM: functionWithResourceUsage.ResourceUsage(49884) > ResourceQuota(0)\n",
      "Resource CPU RAM: functionWithResourceUsage.ResourceUsage(49884) > ResourceQuota(0)\n",
      "Resource CPU RAM: functionWithResourceUsage.ResourceUsage(12471) > ResourceQuota(0)\n"
     ]
    },
    {
     "name": "stdout",
     "output_type": "stream",
     "text": [
      "\n",
      "bestTest = 0.09159860326\n",
      "bestIteration = 4373\n",
      "\n",
      "Training on fold [1/3]\n"
     ]
    },
    {
     "name": "stderr",
     "output_type": "stream",
     "text": [
      "CatBoost is using more CPU RAM (1.05GiB) than the limit (512MiB)\n",
      "CatBoost is using more CPU RAM (1.05GiB) than the limit (512MiB)\n",
      "CatBoost is using more CPU RAM (1.05GiB) than the limit (1GiB)\n",
      "Resource CPU RAM: functionWithResourceUsage.ResourceUsage(161288) > ResourceQuota(0)\n",
      "Resource CPU RAM: functionWithResourceUsage.ResourceUsage(161288) > ResourceQuota(0)\n",
      "Resource CPU RAM: functionWithResourceUsage.ResourceUsage(161288) > ResourceQuota(0)\n",
      "Resource CPU RAM: functionWithResourceUsage.ResourceUsage(161288) > ResourceQuota(0)\n",
      "Resource CPU RAM: functionWithResourceUsage.ResourceUsage(161288) > ResourceQuota(0)\n",
      "Resource CPU RAM: functionWithResourceUsage.ResourceUsage(161288) > ResourceQuota(0)\n",
      "Resource CPU RAM: functionWithResourceUsage.ResourceUsage(161288) > ResourceQuota(0)\n",
      "Resource CPU RAM: functionWithResourceUsage.ResourceUsage(161288) > ResourceQuota(0)\n",
      "Resource CPU RAM: functionWithResourceUsage.ResourceUsage(897912) > ResourceQuota(0)\n",
      "Resource CPU RAM: functionWithResourceUsage.ResourceUsage(897912) > ResourceQuota(0)\n",
      "Resource CPU RAM: functionWithResourceUsage.ResourceUsage(897912) > ResourceQuota(0)\n",
      "Resource CPU RAM: functionWithResourceUsage.ResourceUsage(897912) > ResourceQuota(0)\n",
      "Resource CPU RAM: functionWithResourceUsage.ResourceUsage(897912) > ResourceQuota(0)\n",
      "Resource CPU RAM: functionWithResourceUsage.ResourceUsage(897912) > ResourceQuota(0)\n",
      "Resource CPU RAM: functionWithResourceUsage.ResourceUsage(897912) > ResourceQuota(0)\n",
      "Resource CPU RAM: functionWithResourceUsage.ResourceUsage(897912) > ResourceQuota(0)\n",
      "Resource CPU RAM: functionWithResourceUsage.ResourceUsage(897912) > ResourceQuota(0)\n",
      "Resource CPU RAM: functionWithResourceUsage.ResourceUsage(897912) > ResourceQuota(0)\n",
      "CatBoost is using more CPU RAM (1.05GiB) than the limit (1GiB)\n",
      "Resource CPU RAM: functionWithResourceUsage.ResourceUsage(24942) > ResourceQuota(0)\n",
      "Resource CPU RAM: functionWithResourceUsage.ResourceUsage(24942) > ResourceQuota(0)\n",
      "Resource CPU RAM: functionWithResourceUsage.ResourceUsage(24942) > ResourceQuota(0)\n",
      "Resource CPU RAM: functionWithResourceUsage.ResourceUsage(24942) > ResourceQuota(0)\n",
      "Resource CPU RAM: functionWithResourceUsage.ResourceUsage(24942) > ResourceQuota(0)\n",
      "Resource CPU RAM: functionWithResourceUsage.ResourceUsage(24942) > ResourceQuota(0)\n",
      "Resource CPU RAM: functionWithResourceUsage.ResourceUsage(24942) > ResourceQuota(0)\n",
      "Resource CPU RAM: functionWithResourceUsage.ResourceUsage(99768) > ResourceQuota(0)\n",
      "Resource CPU RAM: functionWithResourceUsage.ResourceUsage(99768) > ResourceQuota(0)\n",
      "Resource CPU RAM: functionWithResourceUsage.ResourceUsage(99768) > ResourceQuota(0)\n",
      "Resource CPU RAM: functionWithResourceUsage.ResourceUsage(99768) > ResourceQuota(0)\n",
      "Resource CPU RAM: functionWithResourceUsage.ResourceUsage(99768) > ResourceQuota(0)\n",
      "Resource CPU RAM: functionWithResourceUsage.ResourceUsage(99768) > ResourceQuota(0)\n",
      "Resource CPU RAM: functionWithResourceUsage.ResourceUsage(99768) > ResourceQuota(0)\n",
      "Resource CPU RAM: functionWithResourceUsage.ResourceUsage(99768) > ResourceQuota(0)\n",
      "Resource CPU RAM: functionWithResourceUsage.ResourceUsage(24942) > ResourceQuota(0)\n",
      "CatBoost is using more CPU RAM (1.05GiB) than the limit (1GiB)\n",
      "Resource CPU RAM: functionWithResourceUsage.ResourceUsage(12472) > ResourceQuota(0)\n",
      "Resource CPU RAM: functionWithResourceUsage.ResourceUsage(12472) > ResourceQuota(0)\n",
      "Resource CPU RAM: functionWithResourceUsage.ResourceUsage(12472) > ResourceQuota(0)\n",
      "Resource CPU RAM: functionWithResourceUsage.ResourceUsage(12472) > ResourceQuota(0)\n",
      "Resource CPU RAM: functionWithResourceUsage.ResourceUsage(12472) > ResourceQuota(0)\n",
      "Resource CPU RAM: functionWithResourceUsage.ResourceUsage(12472) > ResourceQuota(0)\n",
      "Resource CPU RAM: functionWithResourceUsage.ResourceUsage(12472) > ResourceQuota(0)\n",
      "Resource CPU RAM: functionWithResourceUsage.ResourceUsage(448956) > ResourceQuota(0)\n",
      "Resource CPU RAM: functionWithResourceUsage.ResourceUsage(448956) > ResourceQuota(0)\n",
      "Resource CPU RAM: functionWithResourceUsage.ResourceUsage(448956) > ResourceQuota(0)\n",
      "Resource CPU RAM: functionWithResourceUsage.ResourceUsage(448956) > ResourceQuota(0)\n",
      "Resource CPU RAM: functionWithResourceUsage.ResourceUsage(448956) > ResourceQuota(0)\n",
      "Resource CPU RAM: functionWithResourceUsage.ResourceUsage(448956) > ResourceQuota(0)\n",
      "Resource CPU RAM: functionWithResourceUsage.ResourceUsage(448956) > ResourceQuota(0)\n",
      "Resource CPU RAM: functionWithResourceUsage.ResourceUsage(448956) > ResourceQuota(0)\n",
      "Resource CPU RAM: functionWithResourceUsage.ResourceUsage(448956) > ResourceQuota(0)\n",
      "Resource CPU RAM: functionWithResourceUsage.ResourceUsage(448956) > ResourceQuota(0)\n",
      "CatBoost is using more CPU RAM (1.05GiB) than the limit (1GiB)\n",
      "Resource CPU RAM: functionWithResourceUsage.ResourceUsage(12471) > ResourceQuota(0)\n",
      "Resource CPU RAM: functionWithResourceUsage.ResourceUsage(12471) > ResourceQuota(0)\n",
      "Resource CPU RAM: functionWithResourceUsage.ResourceUsage(12471) > ResourceQuota(0)\n",
      "Resource CPU RAM: functionWithResourceUsage.ResourceUsage(12471) > ResourceQuota(0)\n",
      "Resource CPU RAM: functionWithResourceUsage.ResourceUsage(12471) > ResourceQuota(0)\n",
      "Resource CPU RAM: functionWithResourceUsage.ResourceUsage(12471) > ResourceQuota(0)\n",
      "Resource CPU RAM: functionWithResourceUsage.ResourceUsage(12471) > ResourceQuota(0)\n",
      "Resource CPU RAM: functionWithResourceUsage.ResourceUsage(49884) > ResourceQuota(0)\n",
      "Resource CPU RAM: functionWithResourceUsage.ResourceUsage(49884) > ResourceQuota(0)\n",
      "Resource CPU RAM: functionWithResourceUsage.ResourceUsage(49884) > ResourceQuota(0)\n",
      "Resource CPU RAM: functionWithResourceUsage.ResourceUsage(49884) > ResourceQuota(0)\n",
      "Resource CPU RAM: functionWithResourceUsage.ResourceUsage(49884) > ResourceQuota(0)\n",
      "Resource CPU RAM: functionWithResourceUsage.ResourceUsage(49884) > ResourceQuota(0)\n",
      "Resource CPU RAM: functionWithResourceUsage.ResourceUsage(49884) > ResourceQuota(0)\n",
      "Resource CPU RAM: functionWithResourceUsage.ResourceUsage(49884) > ResourceQuota(0)\n",
      "Resource CPU RAM: functionWithResourceUsage.ResourceUsage(12471) > ResourceQuota(0)\n"
     ]
    },
    {
     "name": "stdout",
     "output_type": "stream",
     "text": [
      "\n",
      "bestTest = 0.06786946949\n",
      "bestIteration = 5568\n",
      "\n",
      "Training on fold [2/3]\n"
     ]
    },
    {
     "name": "stderr",
     "output_type": "stream",
     "text": [
      "CatBoost is using more CPU RAM (1.05GiB) than the limit (512MiB)\n",
      "CatBoost is using more CPU RAM (1.05GiB) than the limit (512MiB)\n",
      "CatBoost is using more CPU RAM (1.05GiB) than the limit (1GiB)\n",
      "Resource CPU RAM: functionWithResourceUsage.ResourceUsage(223644) > ResourceQuota(0)\n",
      "Resource CPU RAM: functionWithResourceUsage.ResourceUsage(223644) > ResourceQuota(0)\n",
      "Resource CPU RAM: functionWithResourceUsage.ResourceUsage(223644) > ResourceQuota(0)\n",
      "Resource CPU RAM: functionWithResourceUsage.ResourceUsage(223644) > ResourceQuota(0)\n",
      "Resource CPU RAM: functionWithResourceUsage.ResourceUsage(223644) > ResourceQuota(0)\n",
      "Resource CPU RAM: functionWithResourceUsage.ResourceUsage(223644) > ResourceQuota(0)\n",
      "Resource CPU RAM: functionWithResourceUsage.ResourceUsage(223644) > ResourceQuota(0)\n",
      "Resource CPU RAM: functionWithResourceUsage.ResourceUsage(223644) > ResourceQuota(0)\n",
      "Resource CPU RAM: functionWithResourceUsage.ResourceUsage(1346868) > ResourceQuota(0)\n",
      "Resource CPU RAM: functionWithResourceUsage.ResourceUsage(1346868) > ResourceQuota(0)\n",
      "Resource CPU RAM: functionWithResourceUsage.ResourceUsage(1346868) > ResourceQuota(0)\n",
      "Resource CPU RAM: functionWithResourceUsage.ResourceUsage(1346868) > ResourceQuota(0)\n",
      "Resource CPU RAM: functionWithResourceUsage.ResourceUsage(1346868) > ResourceQuota(0)\n",
      "Resource CPU RAM: functionWithResourceUsage.ResourceUsage(1346868) > ResourceQuota(0)\n",
      "Resource CPU RAM: functionWithResourceUsage.ResourceUsage(1346868) > ResourceQuota(0)\n",
      "Resource CPU RAM: functionWithResourceUsage.ResourceUsage(1346868) > ResourceQuota(0)\n",
      "Resource CPU RAM: functionWithResourceUsage.ResourceUsage(1346868) > ResourceQuota(0)\n",
      "Resource CPU RAM: functionWithResourceUsage.ResourceUsage(1346868) > ResourceQuota(0)\n",
      "CatBoost is using more CPU RAM (1.05GiB) than the limit (1GiB)\n",
      "Resource CPU RAM: functionWithResourceUsage.ResourceUsage(37413) > ResourceQuota(0)\n",
      "Resource CPU RAM: functionWithResourceUsage.ResourceUsage(37413) > ResourceQuota(0)\n",
      "Resource CPU RAM: functionWithResourceUsage.ResourceUsage(37413) > ResourceQuota(0)\n",
      "Resource CPU RAM: functionWithResourceUsage.ResourceUsage(37413) > ResourceQuota(0)\n",
      "Resource CPU RAM: functionWithResourceUsage.ResourceUsage(37413) > ResourceQuota(0)\n",
      "Resource CPU RAM: functionWithResourceUsage.ResourceUsage(37413) > ResourceQuota(0)\n",
      "Resource CPU RAM: functionWithResourceUsage.ResourceUsage(37413) > ResourceQuota(0)\n",
      "Resource CPU RAM: functionWithResourceUsage.ResourceUsage(149652) > ResourceQuota(0)\n",
      "Resource CPU RAM: functionWithResourceUsage.ResourceUsage(149652) > ResourceQuota(0)\n",
      "Resource CPU RAM: functionWithResourceUsage.ResourceUsage(149652) > ResourceQuota(0)\n",
      "Resource CPU RAM: functionWithResourceUsage.ResourceUsage(149652) > ResourceQuota(0)\n",
      "Resource CPU RAM: functionWithResourceUsage.ResourceUsage(149652) > ResourceQuota(0)\n",
      "Resource CPU RAM: functionWithResourceUsage.ResourceUsage(149652) > ResourceQuota(0)\n",
      "Resource CPU RAM: functionWithResourceUsage.ResourceUsage(149652) > ResourceQuota(0)\n",
      "Resource CPU RAM: functionWithResourceUsage.ResourceUsage(149652) > ResourceQuota(0)\n",
      "Resource CPU RAM: functionWithResourceUsage.ResourceUsage(37413) > ResourceQuota(0)\n",
      "CatBoost is using more CPU RAM (1.05GiB) than the limit (1GiB)\n",
      "Resource CPU RAM: functionWithResourceUsage.ResourceUsage(12472) > ResourceQuota(0)\n",
      "Resource CPU RAM: functionWithResourceUsage.ResourceUsage(12472) > ResourceQuota(0)\n",
      "Resource CPU RAM: functionWithResourceUsage.ResourceUsage(12472) > ResourceQuota(0)\n",
      "Resource CPU RAM: functionWithResourceUsage.ResourceUsage(12472) > ResourceQuota(0)\n",
      "Resource CPU RAM: functionWithResourceUsage.ResourceUsage(12472) > ResourceQuota(0)\n",
      "Resource CPU RAM: functionWithResourceUsage.ResourceUsage(12472) > ResourceQuota(0)\n",
      "Resource CPU RAM: functionWithResourceUsage.ResourceUsage(12472) > ResourceQuota(0)\n",
      "Resource CPU RAM: functionWithResourceUsage.ResourceUsage(448920) > ResourceQuota(0)\n",
      "Resource CPU RAM: functionWithResourceUsage.ResourceUsage(448920) > ResourceQuota(0)\n",
      "Resource CPU RAM: functionWithResourceUsage.ResourceUsage(448920) > ResourceQuota(0)\n",
      "Resource CPU RAM: functionWithResourceUsage.ResourceUsage(448920) > ResourceQuota(0)\n",
      "Resource CPU RAM: functionWithResourceUsage.ResourceUsage(448920) > ResourceQuota(0)\n",
      "Resource CPU RAM: functionWithResourceUsage.ResourceUsage(448920) > ResourceQuota(0)\n",
      "Resource CPU RAM: functionWithResourceUsage.ResourceUsage(448920) > ResourceQuota(0)\n",
      "Resource CPU RAM: functionWithResourceUsage.ResourceUsage(448920) > ResourceQuota(0)\n",
      "Resource CPU RAM: functionWithResourceUsage.ResourceUsage(448920) > ResourceQuota(0)\n",
      "Resource CPU RAM: functionWithResourceUsage.ResourceUsage(448920) > ResourceQuota(0)\n",
      "CatBoost is using more CPU RAM (1.05GiB) than the limit (1GiB)\n",
      "Resource CPU RAM: functionWithResourceUsage.ResourceUsage(12470) > ResourceQuota(0)\n",
      "Resource CPU RAM: functionWithResourceUsage.ResourceUsage(12470) > ResourceQuota(0)\n",
      "Resource CPU RAM: functionWithResourceUsage.ResourceUsage(12470) > ResourceQuota(0)\n",
      "Resource CPU RAM: functionWithResourceUsage.ResourceUsage(12470) > ResourceQuota(0)\n",
      "Resource CPU RAM: functionWithResourceUsage.ResourceUsage(12470) > ResourceQuota(0)\n",
      "Resource CPU RAM: functionWithResourceUsage.ResourceUsage(12470) > ResourceQuota(0)\n",
      "Resource CPU RAM: functionWithResourceUsage.ResourceUsage(12470) > ResourceQuota(0)\n",
      "Resource CPU RAM: functionWithResourceUsage.ResourceUsage(49880) > ResourceQuota(0)\n",
      "Resource CPU RAM: functionWithResourceUsage.ResourceUsage(49880) > ResourceQuota(0)\n",
      "Resource CPU RAM: functionWithResourceUsage.ResourceUsage(49880) > ResourceQuota(0)\n",
      "Resource CPU RAM: functionWithResourceUsage.ResourceUsage(49880) > ResourceQuota(0)\n",
      "Resource CPU RAM: functionWithResourceUsage.ResourceUsage(49880) > ResourceQuota(0)\n",
      "Resource CPU RAM: functionWithResourceUsage.ResourceUsage(49880) > ResourceQuota(0)\n",
      "Resource CPU RAM: functionWithResourceUsage.ResourceUsage(49880) > ResourceQuota(0)\n",
      "Resource CPU RAM: functionWithResourceUsage.ResourceUsage(49880) > ResourceQuota(0)\n",
      "Resource CPU RAM: functionWithResourceUsage.ResourceUsage(12470) > ResourceQuota(0)\n"
     ]
    },
    {
     "name": "stdout",
     "output_type": "stream",
     "text": [
      "\n",
      "bestTest = 0.08575952261\n",
      "bestIteration = 5573\n",
      "\n",
      "Training on fold [0/3]\n"
     ]
    },
    {
     "name": "stderr",
     "output_type": "stream",
     "text": [
      "CatBoost is using more CPU RAM (1.05GiB) than the limit (512MiB)\n",
      "CatBoost is using more CPU RAM (1.05GiB) than the limit (512MiB)\n",
      "CatBoost is using more CPU RAM (1.05GiB) than the limit (1GiB)\n",
      "Resource CPU RAM: functionWithResourceUsage.ResourceUsage(98932) > ResourceQuota(0)\n",
      "Resource CPU RAM: functionWithResourceUsage.ResourceUsage(98932) > ResourceQuota(0)\n",
      "Resource CPU RAM: functionWithResourceUsage.ResourceUsage(98932) > ResourceQuota(0)\n",
      "Resource CPU RAM: functionWithResourceUsage.ResourceUsage(98932) > ResourceQuota(0)\n",
      "Resource CPU RAM: functionWithResourceUsage.ResourceUsage(98932) > ResourceQuota(0)\n",
      "Resource CPU RAM: functionWithResourceUsage.ResourceUsage(98932) > ResourceQuota(0)\n",
      "Resource CPU RAM: functionWithResourceUsage.ResourceUsage(98932) > ResourceQuota(0)\n",
      "Resource CPU RAM: functionWithResourceUsage.ResourceUsage(98932) > ResourceQuota(0)\n",
      "Resource CPU RAM: functionWithResourceUsage.ResourceUsage(448956) > ResourceQuota(0)\n",
      "Resource CPU RAM: functionWithResourceUsage.ResourceUsage(448956) > ResourceQuota(0)\n",
      "Resource CPU RAM: functionWithResourceUsage.ResourceUsage(448956) > ResourceQuota(0)\n",
      "Resource CPU RAM: functionWithResourceUsage.ResourceUsage(448956) > ResourceQuota(0)\n",
      "Resource CPU RAM: functionWithResourceUsage.ResourceUsage(448956) > ResourceQuota(0)\n",
      "Resource CPU RAM: functionWithResourceUsage.ResourceUsage(448956) > ResourceQuota(0)\n",
      "Resource CPU RAM: functionWithResourceUsage.ResourceUsage(448956) > ResourceQuota(0)\n",
      "Resource CPU RAM: functionWithResourceUsage.ResourceUsage(448956) > ResourceQuota(0)\n",
      "Resource CPU RAM: functionWithResourceUsage.ResourceUsage(448956) > ResourceQuota(0)\n",
      "Resource CPU RAM: functionWithResourceUsage.ResourceUsage(448956) > ResourceQuota(0)\n",
      "CatBoost is using more CPU RAM (1.05GiB) than the limit (1GiB)\n",
      "Resource CPU RAM: functionWithResourceUsage.ResourceUsage(12471) > ResourceQuota(0)\n",
      "Resource CPU RAM: functionWithResourceUsage.ResourceUsage(12471) > ResourceQuota(0)\n",
      "Resource CPU RAM: functionWithResourceUsage.ResourceUsage(12471) > ResourceQuota(0)\n",
      "Resource CPU RAM: functionWithResourceUsage.ResourceUsage(12471) > ResourceQuota(0)\n",
      "Resource CPU RAM: functionWithResourceUsage.ResourceUsage(12471) > ResourceQuota(0)\n",
      "Resource CPU RAM: functionWithResourceUsage.ResourceUsage(12471) > ResourceQuota(0)\n",
      "Resource CPU RAM: functionWithResourceUsage.ResourceUsage(12471) > ResourceQuota(0)\n",
      "Resource CPU RAM: functionWithResourceUsage.ResourceUsage(49884) > ResourceQuota(0)\n",
      "Resource CPU RAM: functionWithResourceUsage.ResourceUsage(49884) > ResourceQuota(0)\n",
      "Resource CPU RAM: functionWithResourceUsage.ResourceUsage(49884) > ResourceQuota(0)\n",
      "Resource CPU RAM: functionWithResourceUsage.ResourceUsage(49884) > ResourceQuota(0)\n",
      "Resource CPU RAM: functionWithResourceUsage.ResourceUsage(49884) > ResourceQuota(0)\n",
      "Resource CPU RAM: functionWithResourceUsage.ResourceUsage(49884) > ResourceQuota(0)\n",
      "Resource CPU RAM: functionWithResourceUsage.ResourceUsage(49884) > ResourceQuota(0)\n",
      "Resource CPU RAM: functionWithResourceUsage.ResourceUsage(12471) > ResourceQuota(0)\n",
      "CatBoost is using more CPU RAM (1.05GiB) than the limit (1GiB)\n",
      "Resource CPU RAM: functionWithResourceUsage.ResourceUsage(12472) > ResourceQuota(0)\n",
      "Resource CPU RAM: functionWithResourceUsage.ResourceUsage(12472) > ResourceQuota(0)\n",
      "Resource CPU RAM: functionWithResourceUsage.ResourceUsage(12472) > ResourceQuota(0)\n",
      "Resource CPU RAM: functionWithResourceUsage.ResourceUsage(12472) > ResourceQuota(0)\n",
      "Resource CPU RAM: functionWithResourceUsage.ResourceUsage(12472) > ResourceQuota(0)\n",
      "Resource CPU RAM: functionWithResourceUsage.ResourceUsage(12472) > ResourceQuota(0)\n",
      "Resource CPU RAM: functionWithResourceUsage.ResourceUsage(12472) > ResourceQuota(0)\n",
      "Resource CPU RAM: functionWithResourceUsage.ResourceUsage(448956) > ResourceQuota(0)\n",
      "Resource CPU RAM: functionWithResourceUsage.ResourceUsage(448956) > ResourceQuota(0)\n",
      "Resource CPU RAM: functionWithResourceUsage.ResourceUsage(448956) > ResourceQuota(0)\n",
      "Resource CPU RAM: functionWithResourceUsage.ResourceUsage(448956) > ResourceQuota(0)\n",
      "Resource CPU RAM: functionWithResourceUsage.ResourceUsage(448956) > ResourceQuota(0)\n",
      "Resource CPU RAM: functionWithResourceUsage.ResourceUsage(448956) > ResourceQuota(0)\n",
      "Resource CPU RAM: functionWithResourceUsage.ResourceUsage(448956) > ResourceQuota(0)\n",
      "Resource CPU RAM: functionWithResourceUsage.ResourceUsage(448956) > ResourceQuota(0)\n",
      "Resource CPU RAM: functionWithResourceUsage.ResourceUsage(448956) > ResourceQuota(0)\n",
      "Resource CPU RAM: functionWithResourceUsage.ResourceUsage(448956) > ResourceQuota(0)\n",
      "CatBoost is using more CPU RAM (1.05GiB) than the limit (1GiB)\n",
      "Resource CPU RAM: functionWithResourceUsage.ResourceUsage(12471) > ResourceQuota(0)\n",
      "Resource CPU RAM: functionWithResourceUsage.ResourceUsage(12471) > ResourceQuota(0)\n",
      "Resource CPU RAM: functionWithResourceUsage.ResourceUsage(12471) > ResourceQuota(0)\n",
      "Resource CPU RAM: functionWithResourceUsage.ResourceUsage(12471) > ResourceQuota(0)\n",
      "Resource CPU RAM: functionWithResourceUsage.ResourceUsage(12471) > ResourceQuota(0)\n",
      "Resource CPU RAM: functionWithResourceUsage.ResourceUsage(12471) > ResourceQuota(0)\n",
      "Resource CPU RAM: functionWithResourceUsage.ResourceUsage(12471) > ResourceQuota(0)\n",
      "Resource CPU RAM: functionWithResourceUsage.ResourceUsage(49884) > ResourceQuota(0)\n",
      "Resource CPU RAM: functionWithResourceUsage.ResourceUsage(49884) > ResourceQuota(0)\n",
      "Resource CPU RAM: functionWithResourceUsage.ResourceUsage(49884) > ResourceQuota(0)\n",
      "Resource CPU RAM: functionWithResourceUsage.ResourceUsage(49884) > ResourceQuota(0)\n",
      "Resource CPU RAM: functionWithResourceUsage.ResourceUsage(49884) > ResourceQuota(0)\n",
      "Resource CPU RAM: functionWithResourceUsage.ResourceUsage(49884) > ResourceQuota(0)\n",
      "Resource CPU RAM: functionWithResourceUsage.ResourceUsage(49884) > ResourceQuota(0)\n",
      "Resource CPU RAM: functionWithResourceUsage.ResourceUsage(49884) > ResourceQuota(0)\n",
      "Resource CPU RAM: functionWithResourceUsage.ResourceUsage(12471) > ResourceQuota(0)\n"
     ]
    },
    {
     "name": "stdout",
     "output_type": "stream",
     "text": [
      "\n",
      "bestTest = 0.08827685559\n",
      "bestIteration = 515\n",
      "\n",
      "Training on fold [1/3]\n"
     ]
    },
    {
     "name": "stderr",
     "output_type": "stream",
     "text": [
      "CatBoost is using more CPU RAM (1.05GiB) than the limit (512MiB)\n",
      "CatBoost is using more CPU RAM (1.05GiB) than the limit (512MiB)\n",
      "CatBoost is using more CPU RAM (1.05GiB) than the limit (1GiB)\n",
      "Resource CPU RAM: functionWithResourceUsage.ResourceUsage(161288) > ResourceQuota(0)\n",
      "Resource CPU RAM: functionWithResourceUsage.ResourceUsage(161288) > ResourceQuota(0)\n",
      "Resource CPU RAM: functionWithResourceUsage.ResourceUsage(161288) > ResourceQuota(0)\n",
      "Resource CPU RAM: functionWithResourceUsage.ResourceUsage(161288) > ResourceQuota(0)\n",
      "Resource CPU RAM: functionWithResourceUsage.ResourceUsage(161288) > ResourceQuota(0)\n",
      "Resource CPU RAM: functionWithResourceUsage.ResourceUsage(161288) > ResourceQuota(0)\n",
      "Resource CPU RAM: functionWithResourceUsage.ResourceUsage(161288) > ResourceQuota(0)\n",
      "Resource CPU RAM: functionWithResourceUsage.ResourceUsage(161288) > ResourceQuota(0)\n",
      "Resource CPU RAM: functionWithResourceUsage.ResourceUsage(897912) > ResourceQuota(0)\n",
      "Resource CPU RAM: functionWithResourceUsage.ResourceUsage(897912) > ResourceQuota(0)\n",
      "Resource CPU RAM: functionWithResourceUsage.ResourceUsage(897912) > ResourceQuota(0)\n",
      "Resource CPU RAM: functionWithResourceUsage.ResourceUsage(897912) > ResourceQuota(0)\n",
      "Resource CPU RAM: functionWithResourceUsage.ResourceUsage(897912) > ResourceQuota(0)\n",
      "Resource CPU RAM: functionWithResourceUsage.ResourceUsage(897912) > ResourceQuota(0)\n",
      "Resource CPU RAM: functionWithResourceUsage.ResourceUsage(897912) > ResourceQuota(0)\n",
      "Resource CPU RAM: functionWithResourceUsage.ResourceUsage(897912) > ResourceQuota(0)\n",
      "Resource CPU RAM: functionWithResourceUsage.ResourceUsage(897912) > ResourceQuota(0)\n",
      "Resource CPU RAM: functionWithResourceUsage.ResourceUsage(897912) > ResourceQuota(0)\n",
      "CatBoost is using more CPU RAM (1.05GiB) than the limit (1GiB)\n",
      "Resource CPU RAM: functionWithResourceUsage.ResourceUsage(24942) > ResourceQuota(0)\n",
      "Resource CPU RAM: functionWithResourceUsage.ResourceUsage(24942) > ResourceQuota(0)\n",
      "Resource CPU RAM: functionWithResourceUsage.ResourceUsage(24942) > ResourceQuota(0)\n",
      "Resource CPU RAM: functionWithResourceUsage.ResourceUsage(24942) > ResourceQuota(0)\n",
      "Resource CPU RAM: functionWithResourceUsage.ResourceUsage(24942) > ResourceQuota(0)\n",
      "Resource CPU RAM: functionWithResourceUsage.ResourceUsage(24942) > ResourceQuota(0)\n",
      "Resource CPU RAM: functionWithResourceUsage.ResourceUsage(24942) > ResourceQuota(0)\n",
      "Resource CPU RAM: functionWithResourceUsage.ResourceUsage(99768) > ResourceQuota(0)\n",
      "Resource CPU RAM: functionWithResourceUsage.ResourceUsage(99768) > ResourceQuota(0)\n",
      "Resource CPU RAM: functionWithResourceUsage.ResourceUsage(99768) > ResourceQuota(0)\n",
      "Resource CPU RAM: functionWithResourceUsage.ResourceUsage(99768) > ResourceQuota(0)\n",
      "Resource CPU RAM: functionWithResourceUsage.ResourceUsage(99768) > ResourceQuota(0)\n",
      "Resource CPU RAM: functionWithResourceUsage.ResourceUsage(99768) > ResourceQuota(0)\n",
      "Resource CPU RAM: functionWithResourceUsage.ResourceUsage(99768) > ResourceQuota(0)\n",
      "Resource CPU RAM: functionWithResourceUsage.ResourceUsage(99768) > ResourceQuota(0)\n",
      "Resource CPU RAM: functionWithResourceUsage.ResourceUsage(24942) > ResourceQuota(0)\n",
      "CatBoost is using more CPU RAM (1.05GiB) than the limit (1GiB)\n",
      "Resource CPU RAM: functionWithResourceUsage.ResourceUsage(12472) > ResourceQuota(0)\n",
      "Resource CPU RAM: functionWithResourceUsage.ResourceUsage(12472) > ResourceQuota(0)\n",
      "Resource CPU RAM: functionWithResourceUsage.ResourceUsage(12472) > ResourceQuota(0)\n",
      "Resource CPU RAM: functionWithResourceUsage.ResourceUsage(12472) > ResourceQuota(0)\n",
      "Resource CPU RAM: functionWithResourceUsage.ResourceUsage(12472) > ResourceQuota(0)\n",
      "Resource CPU RAM: functionWithResourceUsage.ResourceUsage(12472) > ResourceQuota(0)\n",
      "Resource CPU RAM: functionWithResourceUsage.ResourceUsage(12472) > ResourceQuota(0)\n",
      "Resource CPU RAM: functionWithResourceUsage.ResourceUsage(448956) > ResourceQuota(0)\n",
      "Resource CPU RAM: functionWithResourceUsage.ResourceUsage(448956) > ResourceQuota(0)\n",
      "Resource CPU RAM: functionWithResourceUsage.ResourceUsage(448956) > ResourceQuota(0)\n",
      "Resource CPU RAM: functionWithResourceUsage.ResourceUsage(448956) > ResourceQuota(0)\n",
      "Resource CPU RAM: functionWithResourceUsage.ResourceUsage(448956) > ResourceQuota(0)\n",
      "Resource CPU RAM: functionWithResourceUsage.ResourceUsage(448956) > ResourceQuota(0)\n",
      "Resource CPU RAM: functionWithResourceUsage.ResourceUsage(448956) > ResourceQuota(0)\n",
      "Resource CPU RAM: functionWithResourceUsage.ResourceUsage(448956) > ResourceQuota(0)\n",
      "Resource CPU RAM: functionWithResourceUsage.ResourceUsage(448956) > ResourceQuota(0)\n",
      "Resource CPU RAM: functionWithResourceUsage.ResourceUsage(448956) > ResourceQuota(0)\n",
      "CatBoost is using more CPU RAM (1.05GiB) than the limit (1GiB)\n",
      "Resource CPU RAM: functionWithResourceUsage.ResourceUsage(12471) > ResourceQuota(0)\n",
      "Resource CPU RAM: functionWithResourceUsage.ResourceUsage(12471) > ResourceQuota(0)\n",
      "Resource CPU RAM: functionWithResourceUsage.ResourceUsage(12471) > ResourceQuota(0)\n",
      "Resource CPU RAM: functionWithResourceUsage.ResourceUsage(12471) > ResourceQuota(0)\n",
      "Resource CPU RAM: functionWithResourceUsage.ResourceUsage(12471) > ResourceQuota(0)\n",
      "Resource CPU RAM: functionWithResourceUsage.ResourceUsage(12471) > ResourceQuota(0)\n",
      "Resource CPU RAM: functionWithResourceUsage.ResourceUsage(12471) > ResourceQuota(0)\n",
      "Resource CPU RAM: functionWithResourceUsage.ResourceUsage(49884) > ResourceQuota(0)\n",
      "Resource CPU RAM: functionWithResourceUsage.ResourceUsage(49884) > ResourceQuota(0)\n",
      "Resource CPU RAM: functionWithResourceUsage.ResourceUsage(49884) > ResourceQuota(0)\n",
      "Resource CPU RAM: functionWithResourceUsage.ResourceUsage(49884) > ResourceQuota(0)\n",
      "Resource CPU RAM: functionWithResourceUsage.ResourceUsage(49884) > ResourceQuota(0)\n",
      "Resource CPU RAM: functionWithResourceUsage.ResourceUsage(49884) > ResourceQuota(0)\n",
      "Resource CPU RAM: functionWithResourceUsage.ResourceUsage(49884) > ResourceQuota(0)\n",
      "Resource CPU RAM: functionWithResourceUsage.ResourceUsage(49884) > ResourceQuota(0)\n",
      "Resource CPU RAM: functionWithResourceUsage.ResourceUsage(12471) > ResourceQuota(0)\n"
     ]
    },
    {
     "name": "stdout",
     "output_type": "stream",
     "text": [
      "\n",
      "bestTest = 0.06652405317\n",
      "bestIteration = 1170\n",
      "\n",
      "Training on fold [2/3]\n"
     ]
    },
    {
     "name": "stderr",
     "output_type": "stream",
     "text": [
      "CatBoost is using more CPU RAM (1.05GiB) than the limit (512MiB)\n",
      "CatBoost is using more CPU RAM (1.05GiB) than the limit (512MiB)\n",
      "CatBoost is using more CPU RAM (1.05GiB) than the limit (1GiB)\n",
      "Resource CPU RAM: functionWithResourceUsage.ResourceUsage(223644) > ResourceQuota(0)\n",
      "Resource CPU RAM: functionWithResourceUsage.ResourceUsage(223644) > ResourceQuota(0)\n",
      "Resource CPU RAM: functionWithResourceUsage.ResourceUsage(223644) > ResourceQuota(0)\n",
      "Resource CPU RAM: functionWithResourceUsage.ResourceUsage(223644) > ResourceQuota(0)\n",
      "Resource CPU RAM: functionWithResourceUsage.ResourceUsage(223644) > ResourceQuota(0)\n",
      "Resource CPU RAM: functionWithResourceUsage.ResourceUsage(223644) > ResourceQuota(0)\n",
      "Resource CPU RAM: functionWithResourceUsage.ResourceUsage(223644) > ResourceQuota(0)\n",
      "Resource CPU RAM: functionWithResourceUsage.ResourceUsage(223644) > ResourceQuota(0)\n",
      "Resource CPU RAM: functionWithResourceUsage.ResourceUsage(1346868) > ResourceQuota(0)\n",
      "Resource CPU RAM: functionWithResourceUsage.ResourceUsage(1346868) > ResourceQuota(0)\n",
      "Resource CPU RAM: functionWithResourceUsage.ResourceUsage(1346868) > ResourceQuota(0)\n",
      "Resource CPU RAM: functionWithResourceUsage.ResourceUsage(1346868) > ResourceQuota(0)\n",
      "Resource CPU RAM: functionWithResourceUsage.ResourceUsage(1346868) > ResourceQuota(0)\n",
      "Resource CPU RAM: functionWithResourceUsage.ResourceUsage(1346868) > ResourceQuota(0)\n",
      "Resource CPU RAM: functionWithResourceUsage.ResourceUsage(1346868) > ResourceQuota(0)\n",
      "Resource CPU RAM: functionWithResourceUsage.ResourceUsage(1346868) > ResourceQuota(0)\n",
      "Resource CPU RAM: functionWithResourceUsage.ResourceUsage(1346868) > ResourceQuota(0)\n",
      "Resource CPU RAM: functionWithResourceUsage.ResourceUsage(1346868) > ResourceQuota(0)\n",
      "CatBoost is using more CPU RAM (1.05GiB) than the limit (1GiB)\n",
      "Resource CPU RAM: functionWithResourceUsage.ResourceUsage(37413) > ResourceQuota(0)\n",
      "Resource CPU RAM: functionWithResourceUsage.ResourceUsage(37413) > ResourceQuota(0)\n",
      "Resource CPU RAM: functionWithResourceUsage.ResourceUsage(37413) > ResourceQuota(0)\n",
      "Resource CPU RAM: functionWithResourceUsage.ResourceUsage(37413) > ResourceQuota(0)\n",
      "Resource CPU RAM: functionWithResourceUsage.ResourceUsage(37413) > ResourceQuota(0)\n",
      "Resource CPU RAM: functionWithResourceUsage.ResourceUsage(37413) > ResourceQuota(0)\n",
      "Resource CPU RAM: functionWithResourceUsage.ResourceUsage(37413) > ResourceQuota(0)\n",
      "Resource CPU RAM: functionWithResourceUsage.ResourceUsage(149652) > ResourceQuota(0)\n",
      "Resource CPU RAM: functionWithResourceUsage.ResourceUsage(149652) > ResourceQuota(0)\n",
      "Resource CPU RAM: functionWithResourceUsage.ResourceUsage(149652) > ResourceQuota(0)\n",
      "Resource CPU RAM: functionWithResourceUsage.ResourceUsage(149652) > ResourceQuota(0)\n",
      "Resource CPU RAM: functionWithResourceUsage.ResourceUsage(149652) > ResourceQuota(0)\n",
      "Resource CPU RAM: functionWithResourceUsage.ResourceUsage(149652) > ResourceQuota(0)\n",
      "Resource CPU RAM: functionWithResourceUsage.ResourceUsage(149652) > ResourceQuota(0)\n",
      "Resource CPU RAM: functionWithResourceUsage.ResourceUsage(149652) > ResourceQuota(0)\n",
      "Resource CPU RAM: functionWithResourceUsage.ResourceUsage(37413) > ResourceQuota(0)\n",
      "CatBoost is using more CPU RAM (1.05GiB) than the limit (1GiB)\n",
      "Resource CPU RAM: functionWithResourceUsage.ResourceUsage(12472) > ResourceQuota(0)\n",
      "Resource CPU RAM: functionWithResourceUsage.ResourceUsage(12472) > ResourceQuota(0)\n",
      "Resource CPU RAM: functionWithResourceUsage.ResourceUsage(12472) > ResourceQuota(0)\n",
      "Resource CPU RAM: functionWithResourceUsage.ResourceUsage(12472) > ResourceQuota(0)\n",
      "Resource CPU RAM: functionWithResourceUsage.ResourceUsage(12472) > ResourceQuota(0)\n",
      "Resource CPU RAM: functionWithResourceUsage.ResourceUsage(12472) > ResourceQuota(0)\n",
      "Resource CPU RAM: functionWithResourceUsage.ResourceUsage(12472) > ResourceQuota(0)\n",
      "Resource CPU RAM: functionWithResourceUsage.ResourceUsage(448920) > ResourceQuota(0)\n",
      "Resource CPU RAM: functionWithResourceUsage.ResourceUsage(448920) > ResourceQuota(0)\n",
      "Resource CPU RAM: functionWithResourceUsage.ResourceUsage(448920) > ResourceQuota(0)\n",
      "Resource CPU RAM: functionWithResourceUsage.ResourceUsage(448920) > ResourceQuota(0)\n",
      "Resource CPU RAM: functionWithResourceUsage.ResourceUsage(448920) > ResourceQuota(0)\n",
      "Resource CPU RAM: functionWithResourceUsage.ResourceUsage(448920) > ResourceQuota(0)\n",
      "Resource CPU RAM: functionWithResourceUsage.ResourceUsage(448920) > ResourceQuota(0)\n",
      "Resource CPU RAM: functionWithResourceUsage.ResourceUsage(448920) > ResourceQuota(0)\n",
      "Resource CPU RAM: functionWithResourceUsage.ResourceUsage(448920) > ResourceQuota(0)\n",
      "Resource CPU RAM: functionWithResourceUsage.ResourceUsage(448920) > ResourceQuota(0)\n",
      "CatBoost is using more CPU RAM (1.05GiB) than the limit (1GiB)\n",
      "Resource CPU RAM: functionWithResourceUsage.ResourceUsage(12470) > ResourceQuota(0)\n",
      "Resource CPU RAM: functionWithResourceUsage.ResourceUsage(12470) > ResourceQuota(0)\n",
      "Resource CPU RAM: functionWithResourceUsage.ResourceUsage(12470) > ResourceQuota(0)\n",
      "Resource CPU RAM: functionWithResourceUsage.ResourceUsage(12470) > ResourceQuota(0)\n",
      "Resource CPU RAM: functionWithResourceUsage.ResourceUsage(12470) > ResourceQuota(0)\n",
      "Resource CPU RAM: functionWithResourceUsage.ResourceUsage(12470) > ResourceQuota(0)\n",
      "Resource CPU RAM: functionWithResourceUsage.ResourceUsage(12470) > ResourceQuota(0)\n",
      "Resource CPU RAM: functionWithResourceUsage.ResourceUsage(49880) > ResourceQuota(0)\n",
      "Resource CPU RAM: functionWithResourceUsage.ResourceUsage(49880) > ResourceQuota(0)\n",
      "Resource CPU RAM: functionWithResourceUsage.ResourceUsage(49880) > ResourceQuota(0)\n",
      "Resource CPU RAM: functionWithResourceUsage.ResourceUsage(49880) > ResourceQuota(0)\n",
      "Resource CPU RAM: functionWithResourceUsage.ResourceUsage(49880) > ResourceQuota(0)\n",
      "Resource CPU RAM: functionWithResourceUsage.ResourceUsage(49880) > ResourceQuota(0)\n",
      "Resource CPU RAM: functionWithResourceUsage.ResourceUsage(49880) > ResourceQuota(0)\n",
      "Resource CPU RAM: functionWithResourceUsage.ResourceUsage(49880) > ResourceQuota(0)\n",
      "Resource CPU RAM: functionWithResourceUsage.ResourceUsage(12470) > ResourceQuota(0)\n"
     ]
    },
    {
     "name": "stdout",
     "output_type": "stream",
     "text": [
      "\n",
      "bestTest = 0.06100256888\n",
      "bestIteration = 5008\n",
      "\n",
      "best value 0.07300762481002236\n",
      "{'iterations': 6873, 'learning_rate': 0.011082580151755221, 'objective': 'MAPE', 'depth': 4, 'boosting_type': 'Plain', 'bootstrap_type': 'MVS'}\n",
      "X shape (49949, 21)\n",
      "y shape (49949,)\n",
      "y_pred shape (49949,)\n",
      "y_resid shape (49949,)\n",
      "Training on fold [0/3]\n"
     ]
    },
    {
     "name": "stderr",
     "output_type": "stream",
     "text": [
      "CatBoost is using more CPU RAM (1.05GiB) than the limit (512MiB)\n",
      "CatBoost is using more CPU RAM (1.05GiB) than the limit (512MiB)\n",
      "CatBoost is using more CPU RAM (1.05GiB) than the limit (1GiB)\n",
      "Resource CPU RAM: functionWithResourceUsage.ResourceUsage(99016) > ResourceQuota(0)\n",
      "Resource CPU RAM: functionWithResourceUsage.ResourceUsage(99016) > ResourceQuota(0)\n",
      "Resource CPU RAM: functionWithResourceUsage.ResourceUsage(99016) > ResourceQuota(0)\n",
      "Resource CPU RAM: functionWithResourceUsage.ResourceUsage(99016) > ResourceQuota(0)\n",
      "Resource CPU RAM: functionWithResourceUsage.ResourceUsage(99016) > ResourceQuota(0)\n",
      "Resource CPU RAM: functionWithResourceUsage.ResourceUsage(99016) > ResourceQuota(0)\n",
      "Resource CPU RAM: functionWithResourceUsage.ResourceUsage(99016) > ResourceQuota(0)\n",
      "Resource CPU RAM: functionWithResourceUsage.ResourceUsage(99016) > ResourceQuota(0)\n",
      "Resource CPU RAM: functionWithResourceUsage.ResourceUsage(449568) > ResourceQuota(0)\n",
      "Resource CPU RAM: functionWithResourceUsage.ResourceUsage(449568) > ResourceQuota(0)\n",
      "Resource CPU RAM: functionWithResourceUsage.ResourceUsage(449568) > ResourceQuota(0)\n",
      "Resource CPU RAM: functionWithResourceUsage.ResourceUsage(449568) > ResourceQuota(0)\n",
      "Resource CPU RAM: functionWithResourceUsage.ResourceUsage(449568) > ResourceQuota(0)\n",
      "Resource CPU RAM: functionWithResourceUsage.ResourceUsage(449568) > ResourceQuota(0)\n",
      "Resource CPU RAM: functionWithResourceUsage.ResourceUsage(449568) > ResourceQuota(0)\n",
      "Resource CPU RAM: functionWithResourceUsage.ResourceUsage(449568) > ResourceQuota(0)\n",
      "Resource CPU RAM: functionWithResourceUsage.ResourceUsage(449568) > ResourceQuota(0)\n",
      "Resource CPU RAM: functionWithResourceUsage.ResourceUsage(449568) > ResourceQuota(0)\n",
      "CatBoost is using more CPU RAM (1.05GiB) than the limit (1GiB)\n",
      "Resource CPU RAM: functionWithResourceUsage.ResourceUsage(12488) > ResourceQuota(0)\n",
      "Resource CPU RAM: functionWithResourceUsage.ResourceUsage(12488) > ResourceQuota(0)\n",
      "Resource CPU RAM: functionWithResourceUsage.ResourceUsage(12488) > ResourceQuota(0)\n",
      "Resource CPU RAM: functionWithResourceUsage.ResourceUsage(12488) > ResourceQuota(0)\n",
      "Resource CPU RAM: functionWithResourceUsage.ResourceUsage(12488) > ResourceQuota(0)\n",
      "Resource CPU RAM: functionWithResourceUsage.ResourceUsage(12488) > ResourceQuota(0)\n",
      "Resource CPU RAM: functionWithResourceUsage.ResourceUsage(12488) > ResourceQuota(0)\n",
      "Resource CPU RAM: functionWithResourceUsage.ResourceUsage(49952) > ResourceQuota(0)\n",
      "Resource CPU RAM: functionWithResourceUsage.ResourceUsage(49952) > ResourceQuota(0)\n",
      "Resource CPU RAM: functionWithResourceUsage.ResourceUsage(49952) > ResourceQuota(0)\n",
      "Resource CPU RAM: functionWithResourceUsage.ResourceUsage(49952) > ResourceQuota(0)\n",
      "Resource CPU RAM: functionWithResourceUsage.ResourceUsage(49952) > ResourceQuota(0)\n",
      "Resource CPU RAM: functionWithResourceUsage.ResourceUsage(49952) > ResourceQuota(0)\n",
      "Resource CPU RAM: functionWithResourceUsage.ResourceUsage(49952) > ResourceQuota(0)\n",
      "Resource CPU RAM: functionWithResourceUsage.ResourceUsage(12488) > ResourceQuota(0)\n",
      "CatBoost is using more CPU RAM (1.05GiB) than the limit (1GiB)\n",
      "Resource CPU RAM: functionWithResourceUsage.ResourceUsage(12488) > ResourceQuota(0)\n",
      "Resource CPU RAM: functionWithResourceUsage.ResourceUsage(12488) > ResourceQuota(0)\n",
      "Resource CPU RAM: functionWithResourceUsage.ResourceUsage(12488) > ResourceQuota(0)\n",
      "Resource CPU RAM: functionWithResourceUsage.ResourceUsage(12488) > ResourceQuota(0)\n",
      "Resource CPU RAM: functionWithResourceUsage.ResourceUsage(12488) > ResourceQuota(0)\n",
      "Resource CPU RAM: functionWithResourceUsage.ResourceUsage(12488) > ResourceQuota(0)\n",
      "Resource CPU RAM: functionWithResourceUsage.ResourceUsage(12488) > ResourceQuota(0)\n",
      "Resource CPU RAM: functionWithResourceUsage.ResourceUsage(449532) > ResourceQuota(0)\n",
      "Resource CPU RAM: functionWithResourceUsage.ResourceUsage(449532) > ResourceQuota(0)\n",
      "Resource CPU RAM: functionWithResourceUsage.ResourceUsage(449532) > ResourceQuota(0)\n",
      "Resource CPU RAM: functionWithResourceUsage.ResourceUsage(449532) > ResourceQuota(0)\n",
      "Resource CPU RAM: functionWithResourceUsage.ResourceUsage(449532) > ResourceQuota(0)\n",
      "Resource CPU RAM: functionWithResourceUsage.ResourceUsage(449532) > ResourceQuota(0)\n",
      "Resource CPU RAM: functionWithResourceUsage.ResourceUsage(449532) > ResourceQuota(0)\n",
      "Resource CPU RAM: functionWithResourceUsage.ResourceUsage(449532) > ResourceQuota(0)\n",
      "Resource CPU RAM: functionWithResourceUsage.ResourceUsage(449532) > ResourceQuota(0)\n",
      "Resource CPU RAM: functionWithResourceUsage.ResourceUsage(449532) > ResourceQuota(0)\n",
      "CatBoost is using more CPU RAM (1.05GiB) than the limit (1GiB)\n",
      "Resource CPU RAM: functionWithResourceUsage.ResourceUsage(12487) > ResourceQuota(0)\n",
      "Resource CPU RAM: functionWithResourceUsage.ResourceUsage(12487) > ResourceQuota(0)\n",
      "Resource CPU RAM: functionWithResourceUsage.ResourceUsage(12487) > ResourceQuota(0)\n",
      "Resource CPU RAM: functionWithResourceUsage.ResourceUsage(12487) > ResourceQuota(0)\n",
      "Resource CPU RAM: functionWithResourceUsage.ResourceUsage(12487) > ResourceQuota(0)\n",
      "Resource CPU RAM: functionWithResourceUsage.ResourceUsage(12487) > ResourceQuota(0)\n",
      "Resource CPU RAM: functionWithResourceUsage.ResourceUsage(12487) > ResourceQuota(0)\n",
      "Resource CPU RAM: functionWithResourceUsage.ResourceUsage(49948) > ResourceQuota(0)\n",
      "Resource CPU RAM: functionWithResourceUsage.ResourceUsage(49948) > ResourceQuota(0)\n",
      "Resource CPU RAM: functionWithResourceUsage.ResourceUsage(49948) > ResourceQuota(0)\n",
      "Resource CPU RAM: functionWithResourceUsage.ResourceUsage(49948) > ResourceQuota(0)\n",
      "Resource CPU RAM: functionWithResourceUsage.ResourceUsage(49948) > ResourceQuota(0)\n",
      "Resource CPU RAM: functionWithResourceUsage.ResourceUsage(49948) > ResourceQuota(0)\n",
      "Resource CPU RAM: functionWithResourceUsage.ResourceUsage(49948) > ResourceQuota(0)\n",
      "Resource CPU RAM: functionWithResourceUsage.ResourceUsage(49948) > ResourceQuota(0)\n",
      "Resource CPU RAM: functionWithResourceUsage.ResourceUsage(12487) > ResourceQuota(0)\n"
     ]
    },
    {
     "name": "stdout",
     "output_type": "stream",
     "text": [
      "\n",
      "bestTest = 0.06369890996\n",
      "bestIteration = 2022\n",
      "\n",
      "Training on fold [1/3]\n"
     ]
    },
    {
     "name": "stderr",
     "output_type": "stream",
     "text": [
      "CatBoost is using more CPU RAM (1.05GiB) than the limit (512MiB)\n",
      "CatBoost is using more CPU RAM (1.05GiB) than the limit (512MiB)\n",
      "CatBoost is using more CPU RAM (1.05GiB) than the limit (1GiB)\n",
      "Resource CPU RAM: functionWithResourceUsage.ResourceUsage(161452) > ResourceQuota(0)\n",
      "Resource CPU RAM: functionWithResourceUsage.ResourceUsage(161452) > ResourceQuota(0)\n",
      "Resource CPU RAM: functionWithResourceUsage.ResourceUsage(161452) > ResourceQuota(0)\n",
      "Resource CPU RAM: functionWithResourceUsage.ResourceUsage(161452) > ResourceQuota(0)\n",
      "Resource CPU RAM: functionWithResourceUsage.ResourceUsage(161452) > ResourceQuota(0)\n",
      "Resource CPU RAM: functionWithResourceUsage.ResourceUsage(161452) > ResourceQuota(0)\n",
      "Resource CPU RAM: functionWithResourceUsage.ResourceUsage(161452) > ResourceQuota(0)\n",
      "Resource CPU RAM: functionWithResourceUsage.ResourceUsage(161452) > ResourceQuota(0)\n",
      "Resource CPU RAM: functionWithResourceUsage.ResourceUsage(899100) > ResourceQuota(0)\n",
      "Resource CPU RAM: functionWithResourceUsage.ResourceUsage(899100) > ResourceQuota(0)\n",
      "Resource CPU RAM: functionWithResourceUsage.ResourceUsage(899100) > ResourceQuota(0)\n",
      "Resource CPU RAM: functionWithResourceUsage.ResourceUsage(899100) > ResourceQuota(0)\n",
      "Resource CPU RAM: functionWithResourceUsage.ResourceUsage(899100) > ResourceQuota(0)\n",
      "Resource CPU RAM: functionWithResourceUsage.ResourceUsage(899100) > ResourceQuota(0)\n",
      "Resource CPU RAM: functionWithResourceUsage.ResourceUsage(899100) > ResourceQuota(0)\n",
      "Resource CPU RAM: functionWithResourceUsage.ResourceUsage(899100) > ResourceQuota(0)\n",
      "Resource CPU RAM: functionWithResourceUsage.ResourceUsage(899100) > ResourceQuota(0)\n",
      "Resource CPU RAM: functionWithResourceUsage.ResourceUsage(899100) > ResourceQuota(0)\n",
      "CatBoost is using more CPU RAM (1.05GiB) than the limit (1GiB)\n",
      "Resource CPU RAM: functionWithResourceUsage.ResourceUsage(24975) > ResourceQuota(0)\n",
      "Resource CPU RAM: functionWithResourceUsage.ResourceUsage(24975) > ResourceQuota(0)\n",
      "Resource CPU RAM: functionWithResourceUsage.ResourceUsage(24975) > ResourceQuota(0)\n",
      "Resource CPU RAM: functionWithResourceUsage.ResourceUsage(24975) > ResourceQuota(0)\n",
      "Resource CPU RAM: functionWithResourceUsage.ResourceUsage(24975) > ResourceQuota(0)\n",
      "Resource CPU RAM: functionWithResourceUsage.ResourceUsage(24975) > ResourceQuota(0)\n",
      "Resource CPU RAM: functionWithResourceUsage.ResourceUsage(24975) > ResourceQuota(0)\n",
      "Resource CPU RAM: functionWithResourceUsage.ResourceUsage(99900) > ResourceQuota(0)\n",
      "Resource CPU RAM: functionWithResourceUsage.ResourceUsage(99900) > ResourceQuota(0)\n",
      "Resource CPU RAM: functionWithResourceUsage.ResourceUsage(99900) > ResourceQuota(0)\n",
      "Resource CPU RAM: functionWithResourceUsage.ResourceUsage(99900) > ResourceQuota(0)\n",
      "Resource CPU RAM: functionWithResourceUsage.ResourceUsage(99900) > ResourceQuota(0)\n",
      "Resource CPU RAM: functionWithResourceUsage.ResourceUsage(99900) > ResourceQuota(0)\n",
      "Resource CPU RAM: functionWithResourceUsage.ResourceUsage(99900) > ResourceQuota(0)\n",
      "Resource CPU RAM: functionWithResourceUsage.ResourceUsage(99900) > ResourceQuota(0)\n",
      "Resource CPU RAM: functionWithResourceUsage.ResourceUsage(24975) > ResourceQuota(0)\n",
      "CatBoost is using more CPU RAM (1.05GiB) than the limit (1GiB)\n",
      "Resource CPU RAM: functionWithResourceUsage.ResourceUsage(12488) > ResourceQuota(0)\n",
      "Resource CPU RAM: functionWithResourceUsage.ResourceUsage(12488) > ResourceQuota(0)\n",
      "Resource CPU RAM: functionWithResourceUsage.ResourceUsage(12488) > ResourceQuota(0)\n",
      "Resource CPU RAM: functionWithResourceUsage.ResourceUsage(12488) > ResourceQuota(0)\n",
      "Resource CPU RAM: functionWithResourceUsage.ResourceUsage(12488) > ResourceQuota(0)\n",
      "Resource CPU RAM: functionWithResourceUsage.ResourceUsage(12488) > ResourceQuota(0)\n",
      "Resource CPU RAM: functionWithResourceUsage.ResourceUsage(12488) > ResourceQuota(0)\n",
      "Resource CPU RAM: functionWithResourceUsage.ResourceUsage(449532) > ResourceQuota(0)\n",
      "Resource CPU RAM: functionWithResourceUsage.ResourceUsage(449532) > ResourceQuota(0)\n",
      "Resource CPU RAM: functionWithResourceUsage.ResourceUsage(449532) > ResourceQuota(0)\n",
      "Resource CPU RAM: functionWithResourceUsage.ResourceUsage(449532) > ResourceQuota(0)\n",
      "Resource CPU RAM: functionWithResourceUsage.ResourceUsage(449532) > ResourceQuota(0)\n",
      "Resource CPU RAM: functionWithResourceUsage.ResourceUsage(449532) > ResourceQuota(0)\n",
      "Resource CPU RAM: functionWithResourceUsage.ResourceUsage(449532) > ResourceQuota(0)\n",
      "Resource CPU RAM: functionWithResourceUsage.ResourceUsage(449532) > ResourceQuota(0)\n",
      "Resource CPU RAM: functionWithResourceUsage.ResourceUsage(449532) > ResourceQuota(0)\n",
      "Resource CPU RAM: functionWithResourceUsage.ResourceUsage(449532) > ResourceQuota(0)\n",
      "CatBoost is using more CPU RAM (1.05GiB) than the limit (1GiB)\n",
      "Resource CPU RAM: functionWithResourceUsage.ResourceUsage(12487) > ResourceQuota(0)\n",
      "Resource CPU RAM: functionWithResourceUsage.ResourceUsage(12487) > ResourceQuota(0)\n",
      "Resource CPU RAM: functionWithResourceUsage.ResourceUsage(12487) > ResourceQuota(0)\n",
      "Resource CPU RAM: functionWithResourceUsage.ResourceUsage(12487) > ResourceQuota(0)\n",
      "Resource CPU RAM: functionWithResourceUsage.ResourceUsage(12487) > ResourceQuota(0)\n",
      "Resource CPU RAM: functionWithResourceUsage.ResourceUsage(12487) > ResourceQuota(0)\n",
      "Resource CPU RAM: functionWithResourceUsage.ResourceUsage(12487) > ResourceQuota(0)\n",
      "Resource CPU RAM: functionWithResourceUsage.ResourceUsage(49948) > ResourceQuota(0)\n",
      "Resource CPU RAM: functionWithResourceUsage.ResourceUsage(49948) > ResourceQuota(0)\n",
      "Resource CPU RAM: functionWithResourceUsage.ResourceUsage(49948) > ResourceQuota(0)\n",
      "Resource CPU RAM: functionWithResourceUsage.ResourceUsage(49948) > ResourceQuota(0)\n",
      "Resource CPU RAM: functionWithResourceUsage.ResourceUsage(49948) > ResourceQuota(0)\n",
      "Resource CPU RAM: functionWithResourceUsage.ResourceUsage(49948) > ResourceQuota(0)\n",
      "Resource CPU RAM: functionWithResourceUsage.ResourceUsage(49948) > ResourceQuota(0)\n",
      "Resource CPU RAM: functionWithResourceUsage.ResourceUsage(49948) > ResourceQuota(0)\n",
      "Resource CPU RAM: functionWithResourceUsage.ResourceUsage(12487) > ResourceQuota(0)\n"
     ]
    },
    {
     "name": "stdout",
     "output_type": "stream",
     "text": [
      "\n",
      "bestTest = 0.06430065685\n",
      "bestIteration = 844\n",
      "\n",
      "Training on fold [2/3]\n"
     ]
    },
    {
     "name": "stderr",
     "output_type": "stream",
     "text": [
      "CatBoost is using more CPU RAM (1.05GiB) than the limit (512MiB)\n",
      "CatBoost is using more CPU RAM (1.05GiB) than the limit (512MiB)\n",
      "CatBoost is using more CPU RAM (1.05GiB) than the limit (1GiB)\n",
      "Resource CPU RAM: functionWithResourceUsage.ResourceUsage(223888) > ResourceQuota(0)\n",
      "Resource CPU RAM: functionWithResourceUsage.ResourceUsage(223888) > ResourceQuota(0)\n",
      "Resource CPU RAM: functionWithResourceUsage.ResourceUsage(223888) > ResourceQuota(0)\n",
      "Resource CPU RAM: functionWithResourceUsage.ResourceUsage(223888) > ResourceQuota(0)\n",
      "Resource CPU RAM: functionWithResourceUsage.ResourceUsage(223888) > ResourceQuota(0)\n",
      "Resource CPU RAM: functionWithResourceUsage.ResourceUsage(223888) > ResourceQuota(0)\n",
      "Resource CPU RAM: functionWithResourceUsage.ResourceUsage(223888) > ResourceQuota(0)\n",
      "Resource CPU RAM: functionWithResourceUsage.ResourceUsage(223888) > ResourceQuota(0)\n",
      "Resource CPU RAM: functionWithResourceUsage.ResourceUsage(1348632) > ResourceQuota(0)\n",
      "Resource CPU RAM: functionWithResourceUsage.ResourceUsage(1348632) > ResourceQuota(0)\n",
      "Resource CPU RAM: functionWithResourceUsage.ResourceUsage(1348632) > ResourceQuota(0)\n",
      "Resource CPU RAM: functionWithResourceUsage.ResourceUsage(1348632) > ResourceQuota(0)\n",
      "Resource CPU RAM: functionWithResourceUsage.ResourceUsage(1348632) > ResourceQuota(0)\n",
      "Resource CPU RAM: functionWithResourceUsage.ResourceUsage(1348632) > ResourceQuota(0)\n",
      "Resource CPU RAM: functionWithResourceUsage.ResourceUsage(1348632) > ResourceQuota(0)\n",
      "Resource CPU RAM: functionWithResourceUsage.ResourceUsage(1348632) > ResourceQuota(0)\n",
      "Resource CPU RAM: functionWithResourceUsage.ResourceUsage(1348632) > ResourceQuota(0)\n",
      "Resource CPU RAM: functionWithResourceUsage.ResourceUsage(1348632) > ResourceQuota(0)\n",
      "CatBoost is using more CPU RAM (1.05GiB) than the limit (1GiB)\n",
      "Resource CPU RAM: functionWithResourceUsage.ResourceUsage(37462) > ResourceQuota(0)\n",
      "Resource CPU RAM: functionWithResourceUsage.ResourceUsage(37462) > ResourceQuota(0)\n",
      "Resource CPU RAM: functionWithResourceUsage.ResourceUsage(37462) > ResourceQuota(0)\n",
      "Resource CPU RAM: functionWithResourceUsage.ResourceUsage(37462) > ResourceQuota(0)\n",
      "Resource CPU RAM: functionWithResourceUsage.ResourceUsage(37462) > ResourceQuota(0)\n",
      "Resource CPU RAM: functionWithResourceUsage.ResourceUsage(37462) > ResourceQuota(0)\n",
      "Resource CPU RAM: functionWithResourceUsage.ResourceUsage(37462) > ResourceQuota(0)\n",
      "Resource CPU RAM: functionWithResourceUsage.ResourceUsage(149848) > ResourceQuota(0)\n",
      "Resource CPU RAM: functionWithResourceUsage.ResourceUsage(149848) > ResourceQuota(0)\n",
      "Resource CPU RAM: functionWithResourceUsage.ResourceUsage(149848) > ResourceQuota(0)\n",
      "Resource CPU RAM: functionWithResourceUsage.ResourceUsage(149848) > ResourceQuota(0)\n",
      "Resource CPU RAM: functionWithResourceUsage.ResourceUsage(149848) > ResourceQuota(0)\n",
      "Resource CPU RAM: functionWithResourceUsage.ResourceUsage(149848) > ResourceQuota(0)\n",
      "Resource CPU RAM: functionWithResourceUsage.ResourceUsage(149848) > ResourceQuota(0)\n",
      "Resource CPU RAM: functionWithResourceUsage.ResourceUsage(149848) > ResourceQuota(0)\n",
      "Resource CPU RAM: functionWithResourceUsage.ResourceUsage(37462) > ResourceQuota(0)\n",
      "CatBoost is using more CPU RAM (1.05GiB) than the limit (1GiB)\n",
      "Resource CPU RAM: functionWithResourceUsage.ResourceUsage(12488) > ResourceQuota(0)\n",
      "Resource CPU RAM: functionWithResourceUsage.ResourceUsage(12488) > ResourceQuota(0)\n",
      "Resource CPU RAM: functionWithResourceUsage.ResourceUsage(12488) > ResourceQuota(0)\n",
      "Resource CPU RAM: functionWithResourceUsage.ResourceUsage(12488) > ResourceQuota(0)\n",
      "Resource CPU RAM: functionWithResourceUsage.ResourceUsage(12488) > ResourceQuota(0)\n",
      "Resource CPU RAM: functionWithResourceUsage.ResourceUsage(12488) > ResourceQuota(0)\n",
      "Resource CPU RAM: functionWithResourceUsage.ResourceUsage(12488) > ResourceQuota(0)\n",
      "Resource CPU RAM: functionWithResourceUsage.ResourceUsage(449532) > ResourceQuota(0)\n",
      "Resource CPU RAM: functionWithResourceUsage.ResourceUsage(449532) > ResourceQuota(0)\n",
      "Resource CPU RAM: functionWithResourceUsage.ResourceUsage(449532) > ResourceQuota(0)\n",
      "Resource CPU RAM: functionWithResourceUsage.ResourceUsage(449532) > ResourceQuota(0)\n",
      "Resource CPU RAM: functionWithResourceUsage.ResourceUsage(449532) > ResourceQuota(0)\n",
      "Resource CPU RAM: functionWithResourceUsage.ResourceUsage(449532) > ResourceQuota(0)\n",
      "Resource CPU RAM: functionWithResourceUsage.ResourceUsage(449532) > ResourceQuota(0)\n",
      "Resource CPU RAM: functionWithResourceUsage.ResourceUsage(449532) > ResourceQuota(0)\n",
      "Resource CPU RAM: functionWithResourceUsage.ResourceUsage(449532) > ResourceQuota(0)\n",
      "Resource CPU RAM: functionWithResourceUsage.ResourceUsage(449532) > ResourceQuota(0)\n",
      "CatBoost is using more CPU RAM (1.05GiB) than the limit (1GiB)\n",
      "Resource CPU RAM: functionWithResourceUsage.ResourceUsage(12487) > ResourceQuota(0)\n",
      "Resource CPU RAM: functionWithResourceUsage.ResourceUsage(12487) > ResourceQuota(0)\n",
      "Resource CPU RAM: functionWithResourceUsage.ResourceUsage(12487) > ResourceQuota(0)\n",
      "Resource CPU RAM: functionWithResourceUsage.ResourceUsage(12487) > ResourceQuota(0)\n",
      "Resource CPU RAM: functionWithResourceUsage.ResourceUsage(12487) > ResourceQuota(0)\n",
      "Resource CPU RAM: functionWithResourceUsage.ResourceUsage(12487) > ResourceQuota(0)\n",
      "Resource CPU RAM: functionWithResourceUsage.ResourceUsage(12487) > ResourceQuota(0)\n",
      "Resource CPU RAM: functionWithResourceUsage.ResourceUsage(49948) > ResourceQuota(0)\n",
      "Resource CPU RAM: functionWithResourceUsage.ResourceUsage(49948) > ResourceQuota(0)\n",
      "Resource CPU RAM: functionWithResourceUsage.ResourceUsage(49948) > ResourceQuota(0)\n",
      "Resource CPU RAM: functionWithResourceUsage.ResourceUsage(49948) > ResourceQuota(0)\n",
      "Resource CPU RAM: functionWithResourceUsage.ResourceUsage(49948) > ResourceQuota(0)\n",
      "Resource CPU RAM: functionWithResourceUsage.ResourceUsage(49948) > ResourceQuota(0)\n",
      "Resource CPU RAM: functionWithResourceUsage.ResourceUsage(49948) > ResourceQuota(0)\n",
      "Resource CPU RAM: functionWithResourceUsage.ResourceUsage(49948) > ResourceQuota(0)\n",
      "Resource CPU RAM: functionWithResourceUsage.ResourceUsage(12487) > ResourceQuota(0)\n"
     ]
    },
    {
     "name": "stdout",
     "output_type": "stream",
     "text": [
      "\n",
      "bestTest = 0.08368422249\n",
      "bestIteration = 734\n",
      "\n",
      "Training on fold [0/3]\n"
     ]
    },
    {
     "name": "stderr",
     "output_type": "stream",
     "text": [
      "CatBoost is using more CPU RAM (1.05GiB) than the limit (512MiB)\n",
      "CatBoost is using more CPU RAM (1.05GiB) than the limit (512MiB)\n",
      "CatBoost is using more CPU RAM (1.05GiB) than the limit (1GiB)\n",
      "Resource CPU RAM: functionWithResourceUsage.ResourceUsage(99016) > ResourceQuota(0)\n",
      "Resource CPU RAM: functionWithResourceUsage.ResourceUsage(99016) > ResourceQuota(0)\n",
      "Resource CPU RAM: functionWithResourceUsage.ResourceUsage(99016) > ResourceQuota(0)\n",
      "Resource CPU RAM: functionWithResourceUsage.ResourceUsage(99016) > ResourceQuota(0)\n",
      "Resource CPU RAM: functionWithResourceUsage.ResourceUsage(99016) > ResourceQuota(0)\n",
      "Resource CPU RAM: functionWithResourceUsage.ResourceUsage(99016) > ResourceQuota(0)\n",
      "Resource CPU RAM: functionWithResourceUsage.ResourceUsage(99016) > ResourceQuota(0)\n",
      "Resource CPU RAM: functionWithResourceUsage.ResourceUsage(99016) > ResourceQuota(0)\n",
      "Resource CPU RAM: functionWithResourceUsage.ResourceUsage(449568) > ResourceQuota(0)\n",
      "Resource CPU RAM: functionWithResourceUsage.ResourceUsage(449568) > ResourceQuota(0)\n",
      "Resource CPU RAM: functionWithResourceUsage.ResourceUsage(449568) > ResourceQuota(0)\n",
      "Resource CPU RAM: functionWithResourceUsage.ResourceUsage(449568) > ResourceQuota(0)\n",
      "Resource CPU RAM: functionWithResourceUsage.ResourceUsage(449568) > ResourceQuota(0)\n",
      "Resource CPU RAM: functionWithResourceUsage.ResourceUsage(449568) > ResourceQuota(0)\n",
      "Resource CPU RAM: functionWithResourceUsage.ResourceUsage(449568) > ResourceQuota(0)\n",
      "Resource CPU RAM: functionWithResourceUsage.ResourceUsage(449568) > ResourceQuota(0)\n",
      "Resource CPU RAM: functionWithResourceUsage.ResourceUsage(449568) > ResourceQuota(0)\n",
      "Resource CPU RAM: functionWithResourceUsage.ResourceUsage(449568) > ResourceQuota(0)\n",
      "CatBoost is using more CPU RAM (1.05GiB) than the limit (1GiB)\n",
      "Resource CPU RAM: functionWithResourceUsage.ResourceUsage(12488) > ResourceQuota(0)\n",
      "Resource CPU RAM: functionWithResourceUsage.ResourceUsage(12488) > ResourceQuota(0)\n",
      "Resource CPU RAM: functionWithResourceUsage.ResourceUsage(12488) > ResourceQuota(0)\n",
      "Resource CPU RAM: functionWithResourceUsage.ResourceUsage(12488) > ResourceQuota(0)\n",
      "Resource CPU RAM: functionWithResourceUsage.ResourceUsage(12488) > ResourceQuota(0)\n",
      "Resource CPU RAM: functionWithResourceUsage.ResourceUsage(12488) > ResourceQuota(0)\n",
      "Resource CPU RAM: functionWithResourceUsage.ResourceUsage(12488) > ResourceQuota(0)\n",
      "Resource CPU RAM: functionWithResourceUsage.ResourceUsage(49952) > ResourceQuota(0)\n",
      "Resource CPU RAM: functionWithResourceUsage.ResourceUsage(49952) > ResourceQuota(0)\n",
      "Resource CPU RAM: functionWithResourceUsage.ResourceUsage(49952) > ResourceQuota(0)\n",
      "Resource CPU RAM: functionWithResourceUsage.ResourceUsage(49952) > ResourceQuota(0)\n",
      "Resource CPU RAM: functionWithResourceUsage.ResourceUsage(49952) > ResourceQuota(0)\n",
      "Resource CPU RAM: functionWithResourceUsage.ResourceUsage(49952) > ResourceQuota(0)\n",
      "Resource CPU RAM: functionWithResourceUsage.ResourceUsage(49952) > ResourceQuota(0)\n",
      "Resource CPU RAM: functionWithResourceUsage.ResourceUsage(12488) > ResourceQuota(0)\n",
      "CatBoost is using more CPU RAM (1.05GiB) than the limit (1GiB)\n",
      "Resource CPU RAM: functionWithResourceUsage.ResourceUsage(12488) > ResourceQuota(0)\n",
      "Resource CPU RAM: functionWithResourceUsage.ResourceUsage(12488) > ResourceQuota(0)\n",
      "Resource CPU RAM: functionWithResourceUsage.ResourceUsage(12488) > ResourceQuota(0)\n",
      "Resource CPU RAM: functionWithResourceUsage.ResourceUsage(12488) > ResourceQuota(0)\n",
      "Resource CPU RAM: functionWithResourceUsage.ResourceUsage(12488) > ResourceQuota(0)\n",
      "Resource CPU RAM: functionWithResourceUsage.ResourceUsage(12488) > ResourceQuota(0)\n",
      "Resource CPU RAM: functionWithResourceUsage.ResourceUsage(12488) > ResourceQuota(0)\n",
      "Resource CPU RAM: functionWithResourceUsage.ResourceUsage(449532) > ResourceQuota(0)\n",
      "Resource CPU RAM: functionWithResourceUsage.ResourceUsage(449532) > ResourceQuota(0)\n",
      "Resource CPU RAM: functionWithResourceUsage.ResourceUsage(449532) > ResourceQuota(0)\n",
      "Resource CPU RAM: functionWithResourceUsage.ResourceUsage(449532) > ResourceQuota(0)\n",
      "Resource CPU RAM: functionWithResourceUsage.ResourceUsage(449532) > ResourceQuota(0)\n",
      "Resource CPU RAM: functionWithResourceUsage.ResourceUsage(449532) > ResourceQuota(0)\n",
      "Resource CPU RAM: functionWithResourceUsage.ResourceUsage(449532) > ResourceQuota(0)\n",
      "Resource CPU RAM: functionWithResourceUsage.ResourceUsage(449532) > ResourceQuota(0)\n",
      "Resource CPU RAM: functionWithResourceUsage.ResourceUsage(449532) > ResourceQuota(0)\n",
      "Resource CPU RAM: functionWithResourceUsage.ResourceUsage(449532) > ResourceQuota(0)\n",
      "CatBoost is using more CPU RAM (1.05GiB) than the limit (1GiB)\n",
      "Resource CPU RAM: functionWithResourceUsage.ResourceUsage(12487) > ResourceQuota(0)\n",
      "Resource CPU RAM: functionWithResourceUsage.ResourceUsage(12487) > ResourceQuota(0)\n",
      "Resource CPU RAM: functionWithResourceUsage.ResourceUsage(12487) > ResourceQuota(0)\n",
      "Resource CPU RAM: functionWithResourceUsage.ResourceUsage(12487) > ResourceQuota(0)\n",
      "Resource CPU RAM: functionWithResourceUsage.ResourceUsage(12487) > ResourceQuota(0)\n",
      "Resource CPU RAM: functionWithResourceUsage.ResourceUsage(12487) > ResourceQuota(0)\n",
      "Resource CPU RAM: functionWithResourceUsage.ResourceUsage(12487) > ResourceQuota(0)\n",
      "Resource CPU RAM: functionWithResourceUsage.ResourceUsage(49948) > ResourceQuota(0)\n",
      "Resource CPU RAM: functionWithResourceUsage.ResourceUsage(49948) > ResourceQuota(0)\n",
      "Resource CPU RAM: functionWithResourceUsage.ResourceUsage(49948) > ResourceQuota(0)\n",
      "Resource CPU RAM: functionWithResourceUsage.ResourceUsage(49948) > ResourceQuota(0)\n",
      "Resource CPU RAM: functionWithResourceUsage.ResourceUsage(49948) > ResourceQuota(0)\n",
      "Resource CPU RAM: functionWithResourceUsage.ResourceUsage(49948) > ResourceQuota(0)\n",
      "Resource CPU RAM: functionWithResourceUsage.ResourceUsage(49948) > ResourceQuota(0)\n",
      "Resource CPU RAM: functionWithResourceUsage.ResourceUsage(49948) > ResourceQuota(0)\n",
      "Resource CPU RAM: functionWithResourceUsage.ResourceUsage(12487) > ResourceQuota(0)\n"
     ]
    },
    {
     "name": "stdout",
     "output_type": "stream",
     "text": [
      "\n",
      "bestTest = 0.07212711419\n",
      "bestIteration = 4100\n",
      "\n",
      "Training on fold [1/3]\n"
     ]
    },
    {
     "name": "stderr",
     "output_type": "stream",
     "text": [
      "CatBoost is using more CPU RAM (1.05GiB) than the limit (512MiB)\n",
      "CatBoost is using more CPU RAM (1.05GiB) than the limit (512MiB)\n",
      "CatBoost is using more CPU RAM (1.05GiB) than the limit (1GiB)\n",
      "Resource CPU RAM: functionWithResourceUsage.ResourceUsage(161452) > ResourceQuota(0)\n",
      "Resource CPU RAM: functionWithResourceUsage.ResourceUsage(161452) > ResourceQuota(0)\n",
      "Resource CPU RAM: functionWithResourceUsage.ResourceUsage(161452) > ResourceQuota(0)\n",
      "Resource CPU RAM: functionWithResourceUsage.ResourceUsage(161452) > ResourceQuota(0)\n",
      "Resource CPU RAM: functionWithResourceUsage.ResourceUsage(161452) > ResourceQuota(0)\n",
      "Resource CPU RAM: functionWithResourceUsage.ResourceUsage(161452) > ResourceQuota(0)\n",
      "Resource CPU RAM: functionWithResourceUsage.ResourceUsage(161452) > ResourceQuota(0)\n",
      "Resource CPU RAM: functionWithResourceUsage.ResourceUsage(161452) > ResourceQuota(0)\n",
      "Resource CPU RAM: functionWithResourceUsage.ResourceUsage(899100) > ResourceQuota(0)\n",
      "Resource CPU RAM: functionWithResourceUsage.ResourceUsage(899100) > ResourceQuota(0)\n",
      "Resource CPU RAM: functionWithResourceUsage.ResourceUsage(899100) > ResourceQuota(0)\n",
      "Resource CPU RAM: functionWithResourceUsage.ResourceUsage(899100) > ResourceQuota(0)\n",
      "Resource CPU RAM: functionWithResourceUsage.ResourceUsage(899100) > ResourceQuota(0)\n",
      "Resource CPU RAM: functionWithResourceUsage.ResourceUsage(899100) > ResourceQuota(0)\n",
      "Resource CPU RAM: functionWithResourceUsage.ResourceUsage(899100) > ResourceQuota(0)\n",
      "Resource CPU RAM: functionWithResourceUsage.ResourceUsage(899100) > ResourceQuota(0)\n",
      "Resource CPU RAM: functionWithResourceUsage.ResourceUsage(899100) > ResourceQuota(0)\n",
      "Resource CPU RAM: functionWithResourceUsage.ResourceUsage(899100) > ResourceQuota(0)\n",
      "CatBoost is using more CPU RAM (1.05GiB) than the limit (1GiB)\n",
      "Resource CPU RAM: functionWithResourceUsage.ResourceUsage(24975) > ResourceQuota(0)\n",
      "Resource CPU RAM: functionWithResourceUsage.ResourceUsage(24975) > ResourceQuota(0)\n",
      "Resource CPU RAM: functionWithResourceUsage.ResourceUsage(24975) > ResourceQuota(0)\n",
      "Resource CPU RAM: functionWithResourceUsage.ResourceUsage(24975) > ResourceQuota(0)\n",
      "Resource CPU RAM: functionWithResourceUsage.ResourceUsage(24975) > ResourceQuota(0)\n",
      "Resource CPU RAM: functionWithResourceUsage.ResourceUsage(24975) > ResourceQuota(0)\n",
      "Resource CPU RAM: functionWithResourceUsage.ResourceUsage(24975) > ResourceQuota(0)\n",
      "Resource CPU RAM: functionWithResourceUsage.ResourceUsage(99900) > ResourceQuota(0)\n",
      "Resource CPU RAM: functionWithResourceUsage.ResourceUsage(99900) > ResourceQuota(0)\n",
      "Resource CPU RAM: functionWithResourceUsage.ResourceUsage(99900) > ResourceQuota(0)\n",
      "Resource CPU RAM: functionWithResourceUsage.ResourceUsage(99900) > ResourceQuota(0)\n",
      "Resource CPU RAM: functionWithResourceUsage.ResourceUsage(99900) > ResourceQuota(0)\n",
      "Resource CPU RAM: functionWithResourceUsage.ResourceUsage(99900) > ResourceQuota(0)\n",
      "Resource CPU RAM: functionWithResourceUsage.ResourceUsage(99900) > ResourceQuota(0)\n",
      "Resource CPU RAM: functionWithResourceUsage.ResourceUsage(99900) > ResourceQuota(0)\n",
      "Resource CPU RAM: functionWithResourceUsage.ResourceUsage(24975) > ResourceQuota(0)\n",
      "CatBoost is using more CPU RAM (1.05GiB) than the limit (1GiB)\n",
      "Resource CPU RAM: functionWithResourceUsage.ResourceUsage(12488) > ResourceQuota(0)\n",
      "Resource CPU RAM: functionWithResourceUsage.ResourceUsage(12488) > ResourceQuota(0)\n",
      "Resource CPU RAM: functionWithResourceUsage.ResourceUsage(12488) > ResourceQuota(0)\n",
      "Resource CPU RAM: functionWithResourceUsage.ResourceUsage(12488) > ResourceQuota(0)\n",
      "Resource CPU RAM: functionWithResourceUsage.ResourceUsage(12488) > ResourceQuota(0)\n",
      "Resource CPU RAM: functionWithResourceUsage.ResourceUsage(12488) > ResourceQuota(0)\n",
      "Resource CPU RAM: functionWithResourceUsage.ResourceUsage(12488) > ResourceQuota(0)\n",
      "Resource CPU RAM: functionWithResourceUsage.ResourceUsage(449532) > ResourceQuota(0)\n",
      "Resource CPU RAM: functionWithResourceUsage.ResourceUsage(449532) > ResourceQuota(0)\n",
      "Resource CPU RAM: functionWithResourceUsage.ResourceUsage(449532) > ResourceQuota(0)\n",
      "Resource CPU RAM: functionWithResourceUsage.ResourceUsage(449532) > ResourceQuota(0)\n",
      "Resource CPU RAM: functionWithResourceUsage.ResourceUsage(449532) > ResourceQuota(0)\n",
      "Resource CPU RAM: functionWithResourceUsage.ResourceUsage(449532) > ResourceQuota(0)\n",
      "Resource CPU RAM: functionWithResourceUsage.ResourceUsage(449532) > ResourceQuota(0)\n",
      "Resource CPU RAM: functionWithResourceUsage.ResourceUsage(449532) > ResourceQuota(0)\n",
      "Resource CPU RAM: functionWithResourceUsage.ResourceUsage(449532) > ResourceQuota(0)\n",
      "Resource CPU RAM: functionWithResourceUsage.ResourceUsage(449532) > ResourceQuota(0)\n",
      "CatBoost is using more CPU RAM (1.05GiB) than the limit (1GiB)\n",
      "Resource CPU RAM: functionWithResourceUsage.ResourceUsage(12487) > ResourceQuota(0)\n",
      "Resource CPU RAM: functionWithResourceUsage.ResourceUsage(12487) > ResourceQuota(0)\n",
      "Resource CPU RAM: functionWithResourceUsage.ResourceUsage(12487) > ResourceQuota(0)\n",
      "Resource CPU RAM: functionWithResourceUsage.ResourceUsage(12487) > ResourceQuota(0)\n",
      "Resource CPU RAM: functionWithResourceUsage.ResourceUsage(12487) > ResourceQuota(0)\n",
      "Resource CPU RAM: functionWithResourceUsage.ResourceUsage(12487) > ResourceQuota(0)\n",
      "Resource CPU RAM: functionWithResourceUsage.ResourceUsage(12487) > ResourceQuota(0)\n",
      "Resource CPU RAM: functionWithResourceUsage.ResourceUsage(49948) > ResourceQuota(0)\n",
      "Resource CPU RAM: functionWithResourceUsage.ResourceUsage(49948) > ResourceQuota(0)\n",
      "Resource CPU RAM: functionWithResourceUsage.ResourceUsage(49948) > ResourceQuota(0)\n",
      "Resource CPU RAM: functionWithResourceUsage.ResourceUsage(49948) > ResourceQuota(0)\n",
      "Resource CPU RAM: functionWithResourceUsage.ResourceUsage(49948) > ResourceQuota(0)\n",
      "Resource CPU RAM: functionWithResourceUsage.ResourceUsage(49948) > ResourceQuota(0)\n",
      "Resource CPU RAM: functionWithResourceUsage.ResourceUsage(49948) > ResourceQuota(0)\n",
      "Resource CPU RAM: functionWithResourceUsage.ResourceUsage(49948) > ResourceQuota(0)\n",
      "Resource CPU RAM: functionWithResourceUsage.ResourceUsage(12487) > ResourceQuota(0)\n"
     ]
    },
    {
     "name": "stdout",
     "output_type": "stream",
     "text": [
      "\n",
      "bestTest = 0.06432022599\n",
      "bestIteration = 4094\n",
      "\n",
      "Training on fold [2/3]\n"
     ]
    },
    {
     "name": "stderr",
     "output_type": "stream",
     "text": [
      "CatBoost is using more CPU RAM (1.05GiB) than the limit (512MiB)\n",
      "CatBoost is using more CPU RAM (1.05GiB) than the limit (512MiB)\n",
      "CatBoost is using more CPU RAM (1.05GiB) than the limit (1GiB)\n",
      "Resource CPU RAM: functionWithResourceUsage.ResourceUsage(223888) > ResourceQuota(0)\n",
      "Resource CPU RAM: functionWithResourceUsage.ResourceUsage(223888) > ResourceQuota(0)\n",
      "Resource CPU RAM: functionWithResourceUsage.ResourceUsage(223888) > ResourceQuota(0)\n",
      "Resource CPU RAM: functionWithResourceUsage.ResourceUsage(223888) > ResourceQuota(0)\n",
      "Resource CPU RAM: functionWithResourceUsage.ResourceUsage(223888) > ResourceQuota(0)\n",
      "Resource CPU RAM: functionWithResourceUsage.ResourceUsage(223888) > ResourceQuota(0)\n",
      "Resource CPU RAM: functionWithResourceUsage.ResourceUsage(223888) > ResourceQuota(0)\n",
      "Resource CPU RAM: functionWithResourceUsage.ResourceUsage(223888) > ResourceQuota(0)\n",
      "Resource CPU RAM: functionWithResourceUsage.ResourceUsage(1348632) > ResourceQuota(0)\n",
      "Resource CPU RAM: functionWithResourceUsage.ResourceUsage(1348632) > ResourceQuota(0)\n",
      "Resource CPU RAM: functionWithResourceUsage.ResourceUsage(1348632) > ResourceQuota(0)\n",
      "Resource CPU RAM: functionWithResourceUsage.ResourceUsage(1348632) > ResourceQuota(0)\n",
      "Resource CPU RAM: functionWithResourceUsage.ResourceUsage(1348632) > ResourceQuota(0)\n",
      "Resource CPU RAM: functionWithResourceUsage.ResourceUsage(1348632) > ResourceQuota(0)\n",
      "Resource CPU RAM: functionWithResourceUsage.ResourceUsage(1348632) > ResourceQuota(0)\n",
      "Resource CPU RAM: functionWithResourceUsage.ResourceUsage(1348632) > ResourceQuota(0)\n",
      "Resource CPU RAM: functionWithResourceUsage.ResourceUsage(1348632) > ResourceQuota(0)\n",
      "Resource CPU RAM: functionWithResourceUsage.ResourceUsage(1348632) > ResourceQuota(0)\n",
      "CatBoost is using more CPU RAM (1.05GiB) than the limit (1GiB)\n",
      "Resource CPU RAM: functionWithResourceUsage.ResourceUsage(37462) > ResourceQuota(0)\n",
      "Resource CPU RAM: functionWithResourceUsage.ResourceUsage(37462) > ResourceQuota(0)\n",
      "Resource CPU RAM: functionWithResourceUsage.ResourceUsage(37462) > ResourceQuota(0)\n",
      "Resource CPU RAM: functionWithResourceUsage.ResourceUsage(37462) > ResourceQuota(0)\n",
      "Resource CPU RAM: functionWithResourceUsage.ResourceUsage(37462) > ResourceQuota(0)\n",
      "Resource CPU RAM: functionWithResourceUsage.ResourceUsage(37462) > ResourceQuota(0)\n",
      "Resource CPU RAM: functionWithResourceUsage.ResourceUsage(37462) > ResourceQuota(0)\n",
      "Resource CPU RAM: functionWithResourceUsage.ResourceUsage(149848) > ResourceQuota(0)\n",
      "Resource CPU RAM: functionWithResourceUsage.ResourceUsage(149848) > ResourceQuota(0)\n",
      "Resource CPU RAM: functionWithResourceUsage.ResourceUsage(149848) > ResourceQuota(0)\n",
      "Resource CPU RAM: functionWithResourceUsage.ResourceUsage(149848) > ResourceQuota(0)\n",
      "Resource CPU RAM: functionWithResourceUsage.ResourceUsage(149848) > ResourceQuota(0)\n",
      "Resource CPU RAM: functionWithResourceUsage.ResourceUsage(149848) > ResourceQuota(0)\n",
      "Resource CPU RAM: functionWithResourceUsage.ResourceUsage(149848) > ResourceQuota(0)\n",
      "Resource CPU RAM: functionWithResourceUsage.ResourceUsage(149848) > ResourceQuota(0)\n",
      "Resource CPU RAM: functionWithResourceUsage.ResourceUsage(37462) > ResourceQuota(0)\n",
      "CatBoost is using more CPU RAM (1.05GiB) than the limit (1GiB)\n",
      "Resource CPU RAM: functionWithResourceUsage.ResourceUsage(12488) > ResourceQuota(0)\n",
      "Resource CPU RAM: functionWithResourceUsage.ResourceUsage(12488) > ResourceQuota(0)\n",
      "Resource CPU RAM: functionWithResourceUsage.ResourceUsage(12488) > ResourceQuota(0)\n",
      "Resource CPU RAM: functionWithResourceUsage.ResourceUsage(12488) > ResourceQuota(0)\n",
      "Resource CPU RAM: functionWithResourceUsage.ResourceUsage(12488) > ResourceQuota(0)\n",
      "Resource CPU RAM: functionWithResourceUsage.ResourceUsage(12488) > ResourceQuota(0)\n",
      "Resource CPU RAM: functionWithResourceUsage.ResourceUsage(12488) > ResourceQuota(0)\n",
      "Resource CPU RAM: functionWithResourceUsage.ResourceUsage(449532) > ResourceQuota(0)\n",
      "Resource CPU RAM: functionWithResourceUsage.ResourceUsage(449532) > ResourceQuota(0)\n",
      "Resource CPU RAM: functionWithResourceUsage.ResourceUsage(449532) > ResourceQuota(0)\n",
      "Resource CPU RAM: functionWithResourceUsage.ResourceUsage(449532) > ResourceQuota(0)\n",
      "Resource CPU RAM: functionWithResourceUsage.ResourceUsage(449532) > ResourceQuota(0)\n",
      "Resource CPU RAM: functionWithResourceUsage.ResourceUsage(449532) > ResourceQuota(0)\n",
      "Resource CPU RAM: functionWithResourceUsage.ResourceUsage(449532) > ResourceQuota(0)\n",
      "Resource CPU RAM: functionWithResourceUsage.ResourceUsage(449532) > ResourceQuota(0)\n",
      "Resource CPU RAM: functionWithResourceUsage.ResourceUsage(449532) > ResourceQuota(0)\n",
      "Resource CPU RAM: functionWithResourceUsage.ResourceUsage(449532) > ResourceQuota(0)\n",
      "CatBoost is using more CPU RAM (1.05GiB) than the limit (1GiB)\n",
      "Resource CPU RAM: functionWithResourceUsage.ResourceUsage(12487) > ResourceQuota(0)\n",
      "Resource CPU RAM: functionWithResourceUsage.ResourceUsage(12487) > ResourceQuota(0)\n",
      "Resource CPU RAM: functionWithResourceUsage.ResourceUsage(12487) > ResourceQuota(0)\n",
      "Resource CPU RAM: functionWithResourceUsage.ResourceUsage(12487) > ResourceQuota(0)\n",
      "Resource CPU RAM: functionWithResourceUsage.ResourceUsage(12487) > ResourceQuota(0)\n",
      "Resource CPU RAM: functionWithResourceUsage.ResourceUsage(12487) > ResourceQuota(0)\n",
      "Resource CPU RAM: functionWithResourceUsage.ResourceUsage(12487) > ResourceQuota(0)\n",
      "Resource CPU RAM: functionWithResourceUsage.ResourceUsage(49948) > ResourceQuota(0)\n",
      "Resource CPU RAM: functionWithResourceUsage.ResourceUsage(49948) > ResourceQuota(0)\n",
      "Resource CPU RAM: functionWithResourceUsage.ResourceUsage(49948) > ResourceQuota(0)\n",
      "Resource CPU RAM: functionWithResourceUsage.ResourceUsage(49948) > ResourceQuota(0)\n",
      "Resource CPU RAM: functionWithResourceUsage.ResourceUsage(49948) > ResourceQuota(0)\n",
      "Resource CPU RAM: functionWithResourceUsage.ResourceUsage(49948) > ResourceQuota(0)\n",
      "Resource CPU RAM: functionWithResourceUsage.ResourceUsage(49948) > ResourceQuota(0)\n",
      "Resource CPU RAM: functionWithResourceUsage.ResourceUsage(49948) > ResourceQuota(0)\n",
      "Resource CPU RAM: functionWithResourceUsage.ResourceUsage(12487) > ResourceQuota(0)\n"
     ]
    },
    {
     "name": "stdout",
     "output_type": "stream",
     "text": [
      "\n",
      "bestTest = 0.0976884594\n",
      "bestIteration = 893\n",
      "\n",
      "best value 0.07134210778836052\n",
      "{'iterations': 6849, 'learning_rate': 0.020357167162951693, 'objective': 'MAPE', 'depth': 8, 'boosting_type': 'Ordered', 'bootstrap_type': 'MVS'}\n",
      "X shape (40533, 21)\n",
      "y shape (40533,)\n",
      "y_pred shape (40533,)\n",
      "y_resid shape (40533,)\n",
      "Training on fold [0/3]\n"
     ]
    },
    {
     "name": "stderr",
     "output_type": "stream",
     "text": [
      "CatBoost is using more CPU RAM (1.08GiB) than the limit (512MiB)\n",
      "CatBoost is using more CPU RAM (1.08GiB) than the limit (512MiB)\n",
      "CatBoost is using more CPU RAM (1.08GiB) than the limit (1GiB)\n",
      "Resource CPU RAM: functionWithResourceUsage.ResourceUsage(87248) > ResourceQuota(0)\n",
      "Resource CPU RAM: functionWithResourceUsage.ResourceUsage(87248) > ResourceQuota(0)\n",
      "Resource CPU RAM: functionWithResourceUsage.ResourceUsage(87248) > ResourceQuota(0)\n",
      "Resource CPU RAM: functionWithResourceUsage.ResourceUsage(87248) > ResourceQuota(0)\n",
      "Resource CPU RAM: functionWithResourceUsage.ResourceUsage(87248) > ResourceQuota(0)\n",
      "Resource CPU RAM: functionWithResourceUsage.ResourceUsage(87248) > ResourceQuota(0)\n",
      "Resource CPU RAM: functionWithResourceUsage.ResourceUsage(87248) > ResourceQuota(0)\n",
      "Resource CPU RAM: functionWithResourceUsage.ResourceUsage(87248) > ResourceQuota(0)\n",
      "Resource CPU RAM: functionWithResourceUsage.ResourceUsage(364824) > ResourceQuota(0)\n",
      "Resource CPU RAM: functionWithResourceUsage.ResourceUsage(364824) > ResourceQuota(0)\n",
      "Resource CPU RAM: functionWithResourceUsage.ResourceUsage(364824) > ResourceQuota(0)\n",
      "Resource CPU RAM: functionWithResourceUsage.ResourceUsage(364824) > ResourceQuota(0)\n",
      "Resource CPU RAM: functionWithResourceUsage.ResourceUsage(364824) > ResourceQuota(0)\n",
      "Resource CPU RAM: functionWithResourceUsage.ResourceUsage(364824) > ResourceQuota(0)\n",
      "Resource CPU RAM: functionWithResourceUsage.ResourceUsage(364824) > ResourceQuota(0)\n",
      "Resource CPU RAM: functionWithResourceUsage.ResourceUsage(364824) > ResourceQuota(0)\n",
      "Resource CPU RAM: functionWithResourceUsage.ResourceUsage(364824) > ResourceQuota(0)\n",
      "Resource CPU RAM: functionWithResourceUsage.ResourceUsage(364824) > ResourceQuota(0)\n",
      "CatBoost is using more CPU RAM (1.08GiB) than the limit (1GiB)\n",
      "Resource CPU RAM: functionWithResourceUsage.ResourceUsage(10134) > ResourceQuota(0)\n",
      "Resource CPU RAM: functionWithResourceUsage.ResourceUsage(10134) > ResourceQuota(0)\n",
      "Resource CPU RAM: functionWithResourceUsage.ResourceUsage(10134) > ResourceQuota(0)\n",
      "Resource CPU RAM: functionWithResourceUsage.ResourceUsage(10134) > ResourceQuota(0)\n",
      "Resource CPU RAM: functionWithResourceUsage.ResourceUsage(10134) > ResourceQuota(0)\n",
      "Resource CPU RAM: functionWithResourceUsage.ResourceUsage(10134) > ResourceQuota(0)\n",
      "Resource CPU RAM: functionWithResourceUsage.ResourceUsage(10134) > ResourceQuota(0)\n",
      "Resource CPU RAM: functionWithResourceUsage.ResourceUsage(40536) > ResourceQuota(0)\n",
      "Resource CPU RAM: functionWithResourceUsage.ResourceUsage(40536) > ResourceQuota(0)\n",
      "Resource CPU RAM: functionWithResourceUsage.ResourceUsage(40536) > ResourceQuota(0)\n",
      "Resource CPU RAM: functionWithResourceUsage.ResourceUsage(40536) > ResourceQuota(0)\n",
      "Resource CPU RAM: functionWithResourceUsage.ResourceUsage(40536) > ResourceQuota(0)\n",
      "Resource CPU RAM: functionWithResourceUsage.ResourceUsage(40536) > ResourceQuota(0)\n",
      "Resource CPU RAM: functionWithResourceUsage.ResourceUsage(40536) > ResourceQuota(0)\n",
      "Resource CPU RAM: functionWithResourceUsage.ResourceUsage(10134) > ResourceQuota(0)\n",
      "CatBoost is using more CPU RAM (1.08GiB) than the limit (1GiB)\n",
      "Resource CPU RAM: functionWithResourceUsage.ResourceUsage(10136) > ResourceQuota(0)\n",
      "Resource CPU RAM: functionWithResourceUsage.ResourceUsage(10136) > ResourceQuota(0)\n",
      "Resource CPU RAM: functionWithResourceUsage.ResourceUsage(10136) > ResourceQuota(0)\n",
      "Resource CPU RAM: functionWithResourceUsage.ResourceUsage(10136) > ResourceQuota(0)\n",
      "Resource CPU RAM: functionWithResourceUsage.ResourceUsage(10136) > ResourceQuota(0)\n",
      "Resource CPU RAM: functionWithResourceUsage.ResourceUsage(10136) > ResourceQuota(0)\n",
      "Resource CPU RAM: functionWithResourceUsage.ResourceUsage(10136) > ResourceQuota(0)\n",
      "Resource CPU RAM: functionWithResourceUsage.ResourceUsage(10136) > ResourceQuota(0)\n",
      "Resource CPU RAM: functionWithResourceUsage.ResourceUsage(364788) > ResourceQuota(0)\n",
      "Resource CPU RAM: functionWithResourceUsage.ResourceUsage(364788) > ResourceQuota(0)\n",
      "Resource CPU RAM: functionWithResourceUsage.ResourceUsage(364788) > ResourceQuota(0)\n",
      "Resource CPU RAM: functionWithResourceUsage.ResourceUsage(364788) > ResourceQuota(0)\n",
      "Resource CPU RAM: functionWithResourceUsage.ResourceUsage(364788) > ResourceQuota(0)\n",
      "Resource CPU RAM: functionWithResourceUsage.ResourceUsage(364788) > ResourceQuota(0)\n",
      "Resource CPU RAM: functionWithResourceUsage.ResourceUsage(364788) > ResourceQuota(0)\n",
      "Resource CPU RAM: functionWithResourceUsage.ResourceUsage(364788) > ResourceQuota(0)\n",
      "Resource CPU RAM: functionWithResourceUsage.ResourceUsage(364788) > ResourceQuota(0)\n",
      "Resource CPU RAM: functionWithResourceUsage.ResourceUsage(364788) > ResourceQuota(0)\n",
      "CatBoost is using more CPU RAM (1.08GiB) than the limit (1GiB)\n",
      "Resource CPU RAM: functionWithResourceUsage.ResourceUsage(10133) > ResourceQuota(0)\n",
      "Resource CPU RAM: functionWithResourceUsage.ResourceUsage(10133) > ResourceQuota(0)\n",
      "Resource CPU RAM: functionWithResourceUsage.ResourceUsage(10133) > ResourceQuota(0)\n",
      "Resource CPU RAM: functionWithResourceUsage.ResourceUsage(10133) > ResourceQuota(0)\n",
      "Resource CPU RAM: functionWithResourceUsage.ResourceUsage(10133) > ResourceQuota(0)\n",
      "Resource CPU RAM: functionWithResourceUsage.ResourceUsage(10133) > ResourceQuota(0)\n",
      "Resource CPU RAM: functionWithResourceUsage.ResourceUsage(10133) > ResourceQuota(0)\n",
      "Resource CPU RAM: functionWithResourceUsage.ResourceUsage(40532) > ResourceQuota(0)\n",
      "Resource CPU RAM: functionWithResourceUsage.ResourceUsage(40532) > ResourceQuota(0)\n",
      "Resource CPU RAM: functionWithResourceUsage.ResourceUsage(40532) > ResourceQuota(0)\n",
      "Resource CPU RAM: functionWithResourceUsage.ResourceUsage(40532) > ResourceQuota(0)\n",
      "Resource CPU RAM: functionWithResourceUsage.ResourceUsage(40532) > ResourceQuota(0)\n",
      "Resource CPU RAM: functionWithResourceUsage.ResourceUsage(40532) > ResourceQuota(0)\n",
      "Resource CPU RAM: functionWithResourceUsage.ResourceUsage(40532) > ResourceQuota(0)\n",
      "Resource CPU RAM: functionWithResourceUsage.ResourceUsage(40532) > ResourceQuota(0)\n",
      "Resource CPU RAM: functionWithResourceUsage.ResourceUsage(10133) > ResourceQuota(0)\n"
     ]
    },
    {
     "name": "stdout",
     "output_type": "stream",
     "text": [
      "\n",
      "bestTest = 0.1581021795\n",
      "bestIteration = 1003\n",
      "\n",
      "Training on fold [1/3]\n"
     ]
    },
    {
     "name": "stderr",
     "output_type": "stream",
     "text": [
      "CatBoost is using more CPU RAM (1.08GiB) than the limit (512MiB)\n",
      "CatBoost is using more CPU RAM (1.08GiB) than the limit (512MiB)\n",
      "CatBoost is using more CPU RAM (1.08GiB) than the limit (1GiB)\n",
      "Resource CPU RAM: functionWithResourceUsage.ResourceUsage(137916) > ResourceQuota(0)\n",
      "Resource CPU RAM: functionWithResourceUsage.ResourceUsage(137916) > ResourceQuota(0)\n",
      "Resource CPU RAM: functionWithResourceUsage.ResourceUsage(137916) > ResourceQuota(0)\n",
      "Resource CPU RAM: functionWithResourceUsage.ResourceUsage(137916) > ResourceQuota(0)\n",
      "Resource CPU RAM: functionWithResourceUsage.ResourceUsage(137916) > ResourceQuota(0)\n",
      "Resource CPU RAM: functionWithResourceUsage.ResourceUsage(137916) > ResourceQuota(0)\n",
      "Resource CPU RAM: functionWithResourceUsage.ResourceUsage(137916) > ResourceQuota(0)\n",
      "Resource CPU RAM: functionWithResourceUsage.ResourceUsage(137916) > ResourceQuota(0)\n",
      "Resource CPU RAM: functionWithResourceUsage.ResourceUsage(729612) > ResourceQuota(0)\n",
      "Resource CPU RAM: functionWithResourceUsage.ResourceUsage(729612) > ResourceQuota(0)\n",
      "Resource CPU RAM: functionWithResourceUsage.ResourceUsage(729612) > ResourceQuota(0)\n",
      "Resource CPU RAM: functionWithResourceUsage.ResourceUsage(729612) > ResourceQuota(0)\n",
      "Resource CPU RAM: functionWithResourceUsage.ResourceUsage(729612) > ResourceQuota(0)\n",
      "Resource CPU RAM: functionWithResourceUsage.ResourceUsage(729612) > ResourceQuota(0)\n",
      "Resource CPU RAM: functionWithResourceUsage.ResourceUsage(729612) > ResourceQuota(0)\n",
      "Resource CPU RAM: functionWithResourceUsage.ResourceUsage(729612) > ResourceQuota(0)\n",
      "Resource CPU RAM: functionWithResourceUsage.ResourceUsage(729612) > ResourceQuota(0)\n",
      "Resource CPU RAM: functionWithResourceUsage.ResourceUsage(729612) > ResourceQuota(0)\n",
      "CatBoost is using more CPU RAM (1.08GiB) than the limit (1GiB)\n",
      "Resource CPU RAM: functionWithResourceUsage.ResourceUsage(20267) > ResourceQuota(0)\n",
      "Resource CPU RAM: functionWithResourceUsage.ResourceUsage(20267) > ResourceQuota(0)\n",
      "Resource CPU RAM: functionWithResourceUsage.ResourceUsage(20267) > ResourceQuota(0)\n",
      "Resource CPU RAM: functionWithResourceUsage.ResourceUsage(20267) > ResourceQuota(0)\n",
      "Resource CPU RAM: functionWithResourceUsage.ResourceUsage(20267) > ResourceQuota(0)\n",
      "Resource CPU RAM: functionWithResourceUsage.ResourceUsage(20267) > ResourceQuota(0)\n",
      "Resource CPU RAM: functionWithResourceUsage.ResourceUsage(20267) > ResourceQuota(0)\n",
      "Resource CPU RAM: functionWithResourceUsage.ResourceUsage(81068) > ResourceQuota(0)\n",
      "Resource CPU RAM: functionWithResourceUsage.ResourceUsage(81068) > ResourceQuota(0)\n",
      "Resource CPU RAM: functionWithResourceUsage.ResourceUsage(81068) > ResourceQuota(0)\n",
      "Resource CPU RAM: functionWithResourceUsage.ResourceUsage(81068) > ResourceQuota(0)\n",
      "Resource CPU RAM: functionWithResourceUsage.ResourceUsage(81068) > ResourceQuota(0)\n",
      "Resource CPU RAM: functionWithResourceUsage.ResourceUsage(81068) > ResourceQuota(0)\n",
      "Resource CPU RAM: functionWithResourceUsage.ResourceUsage(81068) > ResourceQuota(0)\n",
      "Resource CPU RAM: functionWithResourceUsage.ResourceUsage(81068) > ResourceQuota(0)\n",
      "Resource CPU RAM: functionWithResourceUsage.ResourceUsage(20267) > ResourceQuota(0)\n",
      "CatBoost is using more CPU RAM (1.08GiB) than the limit (1GiB)\n",
      "Resource CPU RAM: functionWithResourceUsage.ResourceUsage(10136) > ResourceQuota(0)\n",
      "Resource CPU RAM: functionWithResourceUsage.ResourceUsage(10136) > ResourceQuota(0)\n",
      "Resource CPU RAM: functionWithResourceUsage.ResourceUsage(10136) > ResourceQuota(0)\n",
      "Resource CPU RAM: functionWithResourceUsage.ResourceUsage(10136) > ResourceQuota(0)\n",
      "Resource CPU RAM: functionWithResourceUsage.ResourceUsage(10136) > ResourceQuota(0)\n",
      "Resource CPU RAM: functionWithResourceUsage.ResourceUsage(10136) > ResourceQuota(0)\n",
      "Resource CPU RAM: functionWithResourceUsage.ResourceUsage(10136) > ResourceQuota(0)\n",
      "Resource CPU RAM: functionWithResourceUsage.ResourceUsage(10136) > ResourceQuota(0)\n",
      "Resource CPU RAM: functionWithResourceUsage.ResourceUsage(364788) > ResourceQuota(0)\n",
      "Resource CPU RAM: functionWithResourceUsage.ResourceUsage(364788) > ResourceQuota(0)\n",
      "Resource CPU RAM: functionWithResourceUsage.ResourceUsage(364788) > ResourceQuota(0)\n",
      "Resource CPU RAM: functionWithResourceUsage.ResourceUsage(364788) > ResourceQuota(0)\n",
      "Resource CPU RAM: functionWithResourceUsage.ResourceUsage(364788) > ResourceQuota(0)\n",
      "Resource CPU RAM: functionWithResourceUsage.ResourceUsage(364788) > ResourceQuota(0)\n",
      "Resource CPU RAM: functionWithResourceUsage.ResourceUsage(364788) > ResourceQuota(0)\n",
      "Resource CPU RAM: functionWithResourceUsage.ResourceUsage(364788) > ResourceQuota(0)\n",
      "Resource CPU RAM: functionWithResourceUsage.ResourceUsage(364788) > ResourceQuota(0)\n",
      "Resource CPU RAM: functionWithResourceUsage.ResourceUsage(364788) > ResourceQuota(0)\n",
      "CatBoost is using more CPU RAM (1.08GiB) than the limit (1GiB)\n",
      "Resource CPU RAM: functionWithResourceUsage.ResourceUsage(10133) > ResourceQuota(0)\n",
      "Resource CPU RAM: functionWithResourceUsage.ResourceUsage(10133) > ResourceQuota(0)\n",
      "Resource CPU RAM: functionWithResourceUsage.ResourceUsage(10133) > ResourceQuota(0)\n",
      "Resource CPU RAM: functionWithResourceUsage.ResourceUsage(10133) > ResourceQuota(0)\n",
      "Resource CPU RAM: functionWithResourceUsage.ResourceUsage(10133) > ResourceQuota(0)\n",
      "Resource CPU RAM: functionWithResourceUsage.ResourceUsage(10133) > ResourceQuota(0)\n",
      "Resource CPU RAM: functionWithResourceUsage.ResourceUsage(10133) > ResourceQuota(0)\n",
      "Resource CPU RAM: functionWithResourceUsage.ResourceUsage(40532) > ResourceQuota(0)\n",
      "Resource CPU RAM: functionWithResourceUsage.ResourceUsage(40532) > ResourceQuota(0)\n",
      "Resource CPU RAM: functionWithResourceUsage.ResourceUsage(40532) > ResourceQuota(0)\n",
      "Resource CPU RAM: functionWithResourceUsage.ResourceUsage(40532) > ResourceQuota(0)\n",
      "Resource CPU RAM: functionWithResourceUsage.ResourceUsage(40532) > ResourceQuota(0)\n",
      "Resource CPU RAM: functionWithResourceUsage.ResourceUsage(40532) > ResourceQuota(0)\n",
      "Resource CPU RAM: functionWithResourceUsage.ResourceUsage(40532) > ResourceQuota(0)\n",
      "Resource CPU RAM: functionWithResourceUsage.ResourceUsage(40532) > ResourceQuota(0)\n",
      "Resource CPU RAM: functionWithResourceUsage.ResourceUsage(10133) > ResourceQuota(0)\n"
     ]
    },
    {
     "name": "stdout",
     "output_type": "stream",
     "text": [
      "\n",
      "bestTest = 0.1835533022\n",
      "bestIteration = 1003\n",
      "\n",
      "Training on fold [2/3]\n"
     ]
    },
    {
     "name": "stderr",
     "output_type": "stream",
     "text": [
      "CatBoost is using more CPU RAM (1.08GiB) than the limit (512MiB)\n",
      "CatBoost is using more CPU RAM (1.08GiB) than the limit (512MiB)\n",
      "CatBoost is using more CPU RAM (1.08GiB) than the limit (1GiB)\n",
      "Resource CPU RAM: functionWithResourceUsage.ResourceUsage(188576) > ResourceQuota(0)\n",
      "Resource CPU RAM: functionWithResourceUsage.ResourceUsage(188576) > ResourceQuota(0)\n",
      "Resource CPU RAM: functionWithResourceUsage.ResourceUsage(188576) > ResourceQuota(0)\n",
      "Resource CPU RAM: functionWithResourceUsage.ResourceUsage(188576) > ResourceQuota(0)\n",
      "Resource CPU RAM: functionWithResourceUsage.ResourceUsage(188576) > ResourceQuota(0)\n",
      "Resource CPU RAM: functionWithResourceUsage.ResourceUsage(188576) > ResourceQuota(0)\n",
      "Resource CPU RAM: functionWithResourceUsage.ResourceUsage(188576) > ResourceQuota(0)\n",
      "Resource CPU RAM: functionWithResourceUsage.ResourceUsage(188576) > ResourceQuota(0)\n",
      "Resource CPU RAM: functionWithResourceUsage.ResourceUsage(1094400) > ResourceQuota(0)\n",
      "Resource CPU RAM: functionWithResourceUsage.ResourceUsage(1094400) > ResourceQuota(0)\n",
      "Resource CPU RAM: functionWithResourceUsage.ResourceUsage(1094400) > ResourceQuota(0)\n",
      "Resource CPU RAM: functionWithResourceUsage.ResourceUsage(1094400) > ResourceQuota(0)\n",
      "Resource CPU RAM: functionWithResourceUsage.ResourceUsage(1094400) > ResourceQuota(0)\n",
      "Resource CPU RAM: functionWithResourceUsage.ResourceUsage(1094400) > ResourceQuota(0)\n",
      "Resource CPU RAM: functionWithResourceUsage.ResourceUsage(1094400) > ResourceQuota(0)\n",
      "Resource CPU RAM: functionWithResourceUsage.ResourceUsage(1094400) > ResourceQuota(0)\n",
      "Resource CPU RAM: functionWithResourceUsage.ResourceUsage(1094400) > ResourceQuota(0)\n",
      "Resource CPU RAM: functionWithResourceUsage.ResourceUsage(1094400) > ResourceQuota(0)\n",
      "CatBoost is using more CPU RAM (1.08GiB) than the limit (1GiB)\n",
      "Resource CPU RAM: functionWithResourceUsage.ResourceUsage(30400) > ResourceQuota(0)\n",
      "Resource CPU RAM: functionWithResourceUsage.ResourceUsage(30400) > ResourceQuota(0)\n",
      "Resource CPU RAM: functionWithResourceUsage.ResourceUsage(30400) > ResourceQuota(0)\n",
      "Resource CPU RAM: functionWithResourceUsage.ResourceUsage(30400) > ResourceQuota(0)\n",
      "Resource CPU RAM: functionWithResourceUsage.ResourceUsage(30400) > ResourceQuota(0)\n",
      "Resource CPU RAM: functionWithResourceUsage.ResourceUsage(30400) > ResourceQuota(0)\n",
      "Resource CPU RAM: functionWithResourceUsage.ResourceUsage(30400) > ResourceQuota(0)\n",
      "Resource CPU RAM: functionWithResourceUsage.ResourceUsage(121600) > ResourceQuota(0)\n",
      "Resource CPU RAM: functionWithResourceUsage.ResourceUsage(121600) > ResourceQuota(0)\n",
      "Resource CPU RAM: functionWithResourceUsage.ResourceUsage(121600) > ResourceQuota(0)\n",
      "Resource CPU RAM: functionWithResourceUsage.ResourceUsage(121600) > ResourceQuota(0)\n",
      "Resource CPU RAM: functionWithResourceUsage.ResourceUsage(121600) > ResourceQuota(0)\n",
      "Resource CPU RAM: functionWithResourceUsage.ResourceUsage(121600) > ResourceQuota(0)\n",
      "Resource CPU RAM: functionWithResourceUsage.ResourceUsage(121600) > ResourceQuota(0)\n",
      "Resource CPU RAM: functionWithResourceUsage.ResourceUsage(121600) > ResourceQuota(0)\n",
      "Resource CPU RAM: functionWithResourceUsage.ResourceUsage(30400) > ResourceQuota(0)\n",
      "CatBoost is using more CPU RAM (1.08GiB) than the limit (1GiB)\n",
      "Resource CPU RAM: functionWithResourceUsage.ResourceUsage(10136) > ResourceQuota(0)\n",
      "Resource CPU RAM: functionWithResourceUsage.ResourceUsage(10136) > ResourceQuota(0)\n",
      "Resource CPU RAM: functionWithResourceUsage.ResourceUsage(10136) > ResourceQuota(0)\n",
      "Resource CPU RAM: functionWithResourceUsage.ResourceUsage(10136) > ResourceQuota(0)\n",
      "Resource CPU RAM: functionWithResourceUsage.ResourceUsage(10136) > ResourceQuota(0)\n",
      "Resource CPU RAM: functionWithResourceUsage.ResourceUsage(10136) > ResourceQuota(0)\n",
      "Resource CPU RAM: functionWithResourceUsage.ResourceUsage(10136) > ResourceQuota(0)\n",
      "Resource CPU RAM: functionWithResourceUsage.ResourceUsage(10136) > ResourceQuota(0)\n",
      "Resource CPU RAM: functionWithResourceUsage.ResourceUsage(364788) > ResourceQuota(0)\n",
      "Resource CPU RAM: functionWithResourceUsage.ResourceUsage(364788) > ResourceQuota(0)\n",
      "Resource CPU RAM: functionWithResourceUsage.ResourceUsage(364788) > ResourceQuota(0)\n",
      "Resource CPU RAM: functionWithResourceUsage.ResourceUsage(364788) > ResourceQuota(0)\n",
      "Resource CPU RAM: functionWithResourceUsage.ResourceUsage(364788) > ResourceQuota(0)\n",
      "Resource CPU RAM: functionWithResourceUsage.ResourceUsage(364788) > ResourceQuota(0)\n",
      "Resource CPU RAM: functionWithResourceUsage.ResourceUsage(364788) > ResourceQuota(0)\n",
      "Resource CPU RAM: functionWithResourceUsage.ResourceUsage(364788) > ResourceQuota(0)\n",
      "Resource CPU RAM: functionWithResourceUsage.ResourceUsage(364788) > ResourceQuota(0)\n",
      "Resource CPU RAM: functionWithResourceUsage.ResourceUsage(364788) > ResourceQuota(0)\n",
      "CatBoost is using more CPU RAM (1.08GiB) than the limit (1GiB)\n",
      "Resource CPU RAM: functionWithResourceUsage.ResourceUsage(10133) > ResourceQuota(0)\n",
      "Resource CPU RAM: functionWithResourceUsage.ResourceUsage(10133) > ResourceQuota(0)\n",
      "Resource CPU RAM: functionWithResourceUsage.ResourceUsage(10133) > ResourceQuota(0)\n",
      "Resource CPU RAM: functionWithResourceUsage.ResourceUsage(10133) > ResourceQuota(0)\n",
      "Resource CPU RAM: functionWithResourceUsage.ResourceUsage(10133) > ResourceQuota(0)\n",
      "Resource CPU RAM: functionWithResourceUsage.ResourceUsage(10133) > ResourceQuota(0)\n",
      "Resource CPU RAM: functionWithResourceUsage.ResourceUsage(10133) > ResourceQuota(0)\n",
      "Resource CPU RAM: functionWithResourceUsage.ResourceUsage(40532) > ResourceQuota(0)\n",
      "Resource CPU RAM: functionWithResourceUsage.ResourceUsage(40532) > ResourceQuota(0)\n",
      "Resource CPU RAM: functionWithResourceUsage.ResourceUsage(40532) > ResourceQuota(0)\n",
      "Resource CPU RAM: functionWithResourceUsage.ResourceUsage(40532) > ResourceQuota(0)\n",
      "Resource CPU RAM: functionWithResourceUsage.ResourceUsage(40532) > ResourceQuota(0)\n",
      "Resource CPU RAM: functionWithResourceUsage.ResourceUsage(40532) > ResourceQuota(0)\n",
      "Resource CPU RAM: functionWithResourceUsage.ResourceUsage(40532) > ResourceQuota(0)\n",
      "Resource CPU RAM: functionWithResourceUsage.ResourceUsage(40532) > ResourceQuota(0)\n",
      "Resource CPU RAM: functionWithResourceUsage.ResourceUsage(10133) > ResourceQuota(0)\n"
     ]
    },
    {
     "name": "stdout",
     "output_type": "stream",
     "text": [
      "\n",
      "bestTest = 0.1598824\n",
      "bestIteration = 1003\n",
      "\n",
      "Training on fold [0/3]\n"
     ]
    },
    {
     "name": "stderr",
     "output_type": "stream",
     "text": [
      "CatBoost is using more CPU RAM (1.08GiB) than the limit (512MiB)\n",
      "CatBoost is using more CPU RAM (1.08GiB) than the limit (512MiB)\n",
      "CatBoost is using more CPU RAM (1.08GiB) than the limit (1GiB)\n",
      "Resource CPU RAM: functionWithResourceUsage.ResourceUsage(87248) > ResourceQuota(0)\n",
      "Resource CPU RAM: functionWithResourceUsage.ResourceUsage(87248) > ResourceQuota(0)\n",
      "Resource CPU RAM: functionWithResourceUsage.ResourceUsage(87248) > ResourceQuota(0)\n",
      "Resource CPU RAM: functionWithResourceUsage.ResourceUsage(87248) > ResourceQuota(0)\n",
      "Resource CPU RAM: functionWithResourceUsage.ResourceUsage(87248) > ResourceQuota(0)\n",
      "Resource CPU RAM: functionWithResourceUsage.ResourceUsage(87248) > ResourceQuota(0)\n",
      "Resource CPU RAM: functionWithResourceUsage.ResourceUsage(87248) > ResourceQuota(0)\n",
      "Resource CPU RAM: functionWithResourceUsage.ResourceUsage(87248) > ResourceQuota(0)\n",
      "Resource CPU RAM: functionWithResourceUsage.ResourceUsage(364824) > ResourceQuota(0)\n",
      "Resource CPU RAM: functionWithResourceUsage.ResourceUsage(364824) > ResourceQuota(0)\n",
      "Resource CPU RAM: functionWithResourceUsage.ResourceUsage(364824) > ResourceQuota(0)\n",
      "Resource CPU RAM: functionWithResourceUsage.ResourceUsage(364824) > ResourceQuota(0)\n",
      "Resource CPU RAM: functionWithResourceUsage.ResourceUsage(364824) > ResourceQuota(0)\n",
      "Resource CPU RAM: functionWithResourceUsage.ResourceUsage(364824) > ResourceQuota(0)\n",
      "Resource CPU RAM: functionWithResourceUsage.ResourceUsage(364824) > ResourceQuota(0)\n",
      "Resource CPU RAM: functionWithResourceUsage.ResourceUsage(364824) > ResourceQuota(0)\n",
      "Resource CPU RAM: functionWithResourceUsage.ResourceUsage(364824) > ResourceQuota(0)\n",
      "Resource CPU RAM: functionWithResourceUsage.ResourceUsage(364824) > ResourceQuota(0)\n",
      "CatBoost is using more CPU RAM (1.08GiB) than the limit (1GiB)\n",
      "Resource CPU RAM: functionWithResourceUsage.ResourceUsage(10134) > ResourceQuota(0)\n",
      "Resource CPU RAM: functionWithResourceUsage.ResourceUsage(10134) > ResourceQuota(0)\n",
      "Resource CPU RAM: functionWithResourceUsage.ResourceUsage(10134) > ResourceQuota(0)\n",
      "Resource CPU RAM: functionWithResourceUsage.ResourceUsage(10134) > ResourceQuota(0)\n",
      "Resource CPU RAM: functionWithResourceUsage.ResourceUsage(10134) > ResourceQuota(0)\n",
      "Resource CPU RAM: functionWithResourceUsage.ResourceUsage(10134) > ResourceQuota(0)\n",
      "Resource CPU RAM: functionWithResourceUsage.ResourceUsage(10134) > ResourceQuota(0)\n",
      "Resource CPU RAM: functionWithResourceUsage.ResourceUsage(40536) > ResourceQuota(0)\n",
      "Resource CPU RAM: functionWithResourceUsage.ResourceUsage(40536) > ResourceQuota(0)\n",
      "Resource CPU RAM: functionWithResourceUsage.ResourceUsage(40536) > ResourceQuota(0)\n",
      "Resource CPU RAM: functionWithResourceUsage.ResourceUsage(40536) > ResourceQuota(0)\n",
      "Resource CPU RAM: functionWithResourceUsage.ResourceUsage(40536) > ResourceQuota(0)\n",
      "Resource CPU RAM: functionWithResourceUsage.ResourceUsage(40536) > ResourceQuota(0)\n",
      "Resource CPU RAM: functionWithResourceUsage.ResourceUsage(40536) > ResourceQuota(0)\n",
      "Resource CPU RAM: functionWithResourceUsage.ResourceUsage(10134) > ResourceQuota(0)\n",
      "CatBoost is using more CPU RAM (1.08GiB) than the limit (1GiB)\n",
      "Resource CPU RAM: functionWithResourceUsage.ResourceUsage(10136) > ResourceQuota(0)\n",
      "Resource CPU RAM: functionWithResourceUsage.ResourceUsage(10136) > ResourceQuota(0)\n",
      "Resource CPU RAM: functionWithResourceUsage.ResourceUsage(10136) > ResourceQuota(0)\n",
      "Resource CPU RAM: functionWithResourceUsage.ResourceUsage(10136) > ResourceQuota(0)\n",
      "Resource CPU RAM: functionWithResourceUsage.ResourceUsage(10136) > ResourceQuota(0)\n",
      "Resource CPU RAM: functionWithResourceUsage.ResourceUsage(10136) > ResourceQuota(0)\n",
      "Resource CPU RAM: functionWithResourceUsage.ResourceUsage(10136) > ResourceQuota(0)\n",
      "Resource CPU RAM: functionWithResourceUsage.ResourceUsage(10136) > ResourceQuota(0)\n",
      "Resource CPU RAM: functionWithResourceUsage.ResourceUsage(364788) > ResourceQuota(0)\n",
      "Resource CPU RAM: functionWithResourceUsage.ResourceUsage(364788) > ResourceQuota(0)\n",
      "Resource CPU RAM: functionWithResourceUsage.ResourceUsage(364788) > ResourceQuota(0)\n",
      "Resource CPU RAM: functionWithResourceUsage.ResourceUsage(364788) > ResourceQuota(0)\n",
      "Resource CPU RAM: functionWithResourceUsage.ResourceUsage(364788) > ResourceQuota(0)\n",
      "Resource CPU RAM: functionWithResourceUsage.ResourceUsage(364788) > ResourceQuota(0)\n",
      "Resource CPU RAM: functionWithResourceUsage.ResourceUsage(364788) > ResourceQuota(0)\n",
      "Resource CPU RAM: functionWithResourceUsage.ResourceUsage(364788) > ResourceQuota(0)\n",
      "Resource CPU RAM: functionWithResourceUsage.ResourceUsage(364788) > ResourceQuota(0)\n",
      "Resource CPU RAM: functionWithResourceUsage.ResourceUsage(364788) > ResourceQuota(0)\n",
      "CatBoost is using more CPU RAM (1.08GiB) than the limit (1GiB)\n",
      "Resource CPU RAM: functionWithResourceUsage.ResourceUsage(10133) > ResourceQuota(0)\n",
      "Resource CPU RAM: functionWithResourceUsage.ResourceUsage(10133) > ResourceQuota(0)\n",
      "Resource CPU RAM: functionWithResourceUsage.ResourceUsage(10133) > ResourceQuota(0)\n",
      "Resource CPU RAM: functionWithResourceUsage.ResourceUsage(10133) > ResourceQuota(0)\n",
      "Resource CPU RAM: functionWithResourceUsage.ResourceUsage(10133) > ResourceQuota(0)\n",
      "Resource CPU RAM: functionWithResourceUsage.ResourceUsage(10133) > ResourceQuota(0)\n",
      "Resource CPU RAM: functionWithResourceUsage.ResourceUsage(10133) > ResourceQuota(0)\n",
      "Resource CPU RAM: functionWithResourceUsage.ResourceUsage(40532) > ResourceQuota(0)\n",
      "Resource CPU RAM: functionWithResourceUsage.ResourceUsage(40532) > ResourceQuota(0)\n",
      "Resource CPU RAM: functionWithResourceUsage.ResourceUsage(40532) > ResourceQuota(0)\n",
      "Resource CPU RAM: functionWithResourceUsage.ResourceUsage(40532) > ResourceQuota(0)\n",
      "Resource CPU RAM: functionWithResourceUsage.ResourceUsage(40532) > ResourceQuota(0)\n",
      "Resource CPU RAM: functionWithResourceUsage.ResourceUsage(40532) > ResourceQuota(0)\n",
      "Resource CPU RAM: functionWithResourceUsage.ResourceUsage(40532) > ResourceQuota(0)\n",
      "Resource CPU RAM: functionWithResourceUsage.ResourceUsage(40532) > ResourceQuota(0)\n",
      "Resource CPU RAM: functionWithResourceUsage.ResourceUsage(10133) > ResourceQuota(0)\n"
     ]
    },
    {
     "name": "stdout",
     "output_type": "stream",
     "text": [
      "\n",
      "bestTest = 0.1553866665\n",
      "bestIteration = 5441\n",
      "\n",
      "Training on fold [1/3]\n"
     ]
    },
    {
     "name": "stderr",
     "output_type": "stream",
     "text": [
      "CatBoost is using more CPU RAM (1.08GiB) than the limit (512MiB)\n",
      "CatBoost is using more CPU RAM (1.08GiB) than the limit (512MiB)\n",
      "CatBoost is using more CPU RAM (1.08GiB) than the limit (1GiB)\n",
      "Resource CPU RAM: functionWithResourceUsage.ResourceUsage(137916) > ResourceQuota(0)\n",
      "Resource CPU RAM: functionWithResourceUsage.ResourceUsage(137916) > ResourceQuota(0)\n",
      "Resource CPU RAM: functionWithResourceUsage.ResourceUsage(137916) > ResourceQuota(0)\n",
      "Resource CPU RAM: functionWithResourceUsage.ResourceUsage(137916) > ResourceQuota(0)\n",
      "Resource CPU RAM: functionWithResourceUsage.ResourceUsage(137916) > ResourceQuota(0)\n",
      "Resource CPU RAM: functionWithResourceUsage.ResourceUsage(137916) > ResourceQuota(0)\n",
      "Resource CPU RAM: functionWithResourceUsage.ResourceUsage(137916) > ResourceQuota(0)\n",
      "Resource CPU RAM: functionWithResourceUsage.ResourceUsage(137916) > ResourceQuota(0)\n",
      "Resource CPU RAM: functionWithResourceUsage.ResourceUsage(729612) > ResourceQuota(0)\n",
      "Resource CPU RAM: functionWithResourceUsage.ResourceUsage(729612) > ResourceQuota(0)\n",
      "Resource CPU RAM: functionWithResourceUsage.ResourceUsage(729612) > ResourceQuota(0)\n",
      "Resource CPU RAM: functionWithResourceUsage.ResourceUsage(729612) > ResourceQuota(0)\n",
      "Resource CPU RAM: functionWithResourceUsage.ResourceUsage(729612) > ResourceQuota(0)\n",
      "Resource CPU RAM: functionWithResourceUsage.ResourceUsage(729612) > ResourceQuota(0)\n",
      "Resource CPU RAM: functionWithResourceUsage.ResourceUsage(729612) > ResourceQuota(0)\n",
      "Resource CPU RAM: functionWithResourceUsage.ResourceUsage(729612) > ResourceQuota(0)\n",
      "Resource CPU RAM: functionWithResourceUsage.ResourceUsage(729612) > ResourceQuota(0)\n",
      "Resource CPU RAM: functionWithResourceUsage.ResourceUsage(729612) > ResourceQuota(0)\n",
      "CatBoost is using more CPU RAM (1.08GiB) than the limit (1GiB)\n",
      "Resource CPU RAM: functionWithResourceUsage.ResourceUsage(20267) > ResourceQuota(0)\n",
      "Resource CPU RAM: functionWithResourceUsage.ResourceUsage(20267) > ResourceQuota(0)\n",
      "Resource CPU RAM: functionWithResourceUsage.ResourceUsage(20267) > ResourceQuota(0)\n",
      "Resource CPU RAM: functionWithResourceUsage.ResourceUsage(20267) > ResourceQuota(0)\n",
      "Resource CPU RAM: functionWithResourceUsage.ResourceUsage(20267) > ResourceQuota(0)\n",
      "Resource CPU RAM: functionWithResourceUsage.ResourceUsage(20267) > ResourceQuota(0)\n",
      "Resource CPU RAM: functionWithResourceUsage.ResourceUsage(20267) > ResourceQuota(0)\n",
      "Resource CPU RAM: functionWithResourceUsage.ResourceUsage(81068) > ResourceQuota(0)\n",
      "Resource CPU RAM: functionWithResourceUsage.ResourceUsage(81068) > ResourceQuota(0)\n",
      "Resource CPU RAM: functionWithResourceUsage.ResourceUsage(81068) > ResourceQuota(0)\n",
      "Resource CPU RAM: functionWithResourceUsage.ResourceUsage(81068) > ResourceQuota(0)\n",
      "Resource CPU RAM: functionWithResourceUsage.ResourceUsage(81068) > ResourceQuota(0)\n",
      "Resource CPU RAM: functionWithResourceUsage.ResourceUsage(81068) > ResourceQuota(0)\n",
      "Resource CPU RAM: functionWithResourceUsage.ResourceUsage(81068) > ResourceQuota(0)\n",
      "Resource CPU RAM: functionWithResourceUsage.ResourceUsage(81068) > ResourceQuota(0)\n",
      "Resource CPU RAM: functionWithResourceUsage.ResourceUsage(20267) > ResourceQuota(0)\n",
      "CatBoost is using more CPU RAM (1.08GiB) than the limit (1GiB)\n",
      "Resource CPU RAM: functionWithResourceUsage.ResourceUsage(10136) > ResourceQuota(0)\n",
      "Resource CPU RAM: functionWithResourceUsage.ResourceUsage(10136) > ResourceQuota(0)\n",
      "Resource CPU RAM: functionWithResourceUsage.ResourceUsage(10136) > ResourceQuota(0)\n",
      "Resource CPU RAM: functionWithResourceUsage.ResourceUsage(10136) > ResourceQuota(0)\n",
      "Resource CPU RAM: functionWithResourceUsage.ResourceUsage(10136) > ResourceQuota(0)\n",
      "Resource CPU RAM: functionWithResourceUsage.ResourceUsage(10136) > ResourceQuota(0)\n",
      "Resource CPU RAM: functionWithResourceUsage.ResourceUsage(10136) > ResourceQuota(0)\n",
      "Resource CPU RAM: functionWithResourceUsage.ResourceUsage(10136) > ResourceQuota(0)\n",
      "Resource CPU RAM: functionWithResourceUsage.ResourceUsage(364788) > ResourceQuota(0)\n",
      "Resource CPU RAM: functionWithResourceUsage.ResourceUsage(364788) > ResourceQuota(0)\n",
      "Resource CPU RAM: functionWithResourceUsage.ResourceUsage(364788) > ResourceQuota(0)\n",
      "Resource CPU RAM: functionWithResourceUsage.ResourceUsage(364788) > ResourceQuota(0)\n",
      "Resource CPU RAM: functionWithResourceUsage.ResourceUsage(364788) > ResourceQuota(0)\n",
      "Resource CPU RAM: functionWithResourceUsage.ResourceUsage(364788) > ResourceQuota(0)\n",
      "Resource CPU RAM: functionWithResourceUsage.ResourceUsage(364788) > ResourceQuota(0)\n",
      "Resource CPU RAM: functionWithResourceUsage.ResourceUsage(364788) > ResourceQuota(0)\n",
      "Resource CPU RAM: functionWithResourceUsage.ResourceUsage(364788) > ResourceQuota(0)\n",
      "Resource CPU RAM: functionWithResourceUsage.ResourceUsage(364788) > ResourceQuota(0)\n",
      "CatBoost is using more CPU RAM (1.08GiB) than the limit (1GiB)\n",
      "Resource CPU RAM: functionWithResourceUsage.ResourceUsage(10133) > ResourceQuota(0)\n",
      "Resource CPU RAM: functionWithResourceUsage.ResourceUsage(10133) > ResourceQuota(0)\n",
      "Resource CPU RAM: functionWithResourceUsage.ResourceUsage(10133) > ResourceQuota(0)\n",
      "Resource CPU RAM: functionWithResourceUsage.ResourceUsage(10133) > ResourceQuota(0)\n",
      "Resource CPU RAM: functionWithResourceUsage.ResourceUsage(10133) > ResourceQuota(0)\n",
      "Resource CPU RAM: functionWithResourceUsage.ResourceUsage(10133) > ResourceQuota(0)\n",
      "Resource CPU RAM: functionWithResourceUsage.ResourceUsage(10133) > ResourceQuota(0)\n",
      "Resource CPU RAM: functionWithResourceUsage.ResourceUsage(40532) > ResourceQuota(0)\n",
      "Resource CPU RAM: functionWithResourceUsage.ResourceUsage(40532) > ResourceQuota(0)\n",
      "Resource CPU RAM: functionWithResourceUsage.ResourceUsage(40532) > ResourceQuota(0)\n",
      "Resource CPU RAM: functionWithResourceUsage.ResourceUsage(40532) > ResourceQuota(0)\n",
      "Resource CPU RAM: functionWithResourceUsage.ResourceUsage(40532) > ResourceQuota(0)\n",
      "Resource CPU RAM: functionWithResourceUsage.ResourceUsage(40532) > ResourceQuota(0)\n",
      "Resource CPU RAM: functionWithResourceUsage.ResourceUsage(40532) > ResourceQuota(0)\n",
      "Resource CPU RAM: functionWithResourceUsage.ResourceUsage(40532) > ResourceQuota(0)\n",
      "Resource CPU RAM: functionWithResourceUsage.ResourceUsage(10133) > ResourceQuota(0)\n"
     ]
    },
    {
     "name": "stdout",
     "output_type": "stream",
     "text": [
      "\n",
      "bestTest = 0.150672571\n",
      "bestIteration = 5440\n",
      "\n",
      "Training on fold [2/3]\n"
     ]
    },
    {
     "name": "stderr",
     "output_type": "stream",
     "text": [
      "CatBoost is using more CPU RAM (1.08GiB) than the limit (512MiB)\n",
      "CatBoost is using more CPU RAM (1.08GiB) than the limit (512MiB)\n",
      "CatBoost is using more CPU RAM (1.08GiB) than the limit (1GiB)\n",
      "Resource CPU RAM: functionWithResourceUsage.ResourceUsage(188576) > ResourceQuota(0)\n",
      "Resource CPU RAM: functionWithResourceUsage.ResourceUsage(188576) > ResourceQuota(0)\n",
      "Resource CPU RAM: functionWithResourceUsage.ResourceUsage(188576) > ResourceQuota(0)\n",
      "Resource CPU RAM: functionWithResourceUsage.ResourceUsage(188576) > ResourceQuota(0)\n",
      "Resource CPU RAM: functionWithResourceUsage.ResourceUsage(188576) > ResourceQuota(0)\n",
      "Resource CPU RAM: functionWithResourceUsage.ResourceUsage(188576) > ResourceQuota(0)\n",
      "Resource CPU RAM: functionWithResourceUsage.ResourceUsage(188576) > ResourceQuota(0)\n",
      "Resource CPU RAM: functionWithResourceUsage.ResourceUsage(188576) > ResourceQuota(0)\n",
      "Resource CPU RAM: functionWithResourceUsage.ResourceUsage(1094400) > ResourceQuota(0)\n",
      "Resource CPU RAM: functionWithResourceUsage.ResourceUsage(1094400) > ResourceQuota(0)\n",
      "Resource CPU RAM: functionWithResourceUsage.ResourceUsage(1094400) > ResourceQuota(0)\n",
      "Resource CPU RAM: functionWithResourceUsage.ResourceUsage(1094400) > ResourceQuota(0)\n",
      "Resource CPU RAM: functionWithResourceUsage.ResourceUsage(1094400) > ResourceQuota(0)\n",
      "Resource CPU RAM: functionWithResourceUsage.ResourceUsage(1094400) > ResourceQuota(0)\n",
      "Resource CPU RAM: functionWithResourceUsage.ResourceUsage(1094400) > ResourceQuota(0)\n",
      "Resource CPU RAM: functionWithResourceUsage.ResourceUsage(1094400) > ResourceQuota(0)\n",
      "Resource CPU RAM: functionWithResourceUsage.ResourceUsage(1094400) > ResourceQuota(0)\n",
      "Resource CPU RAM: functionWithResourceUsage.ResourceUsage(1094400) > ResourceQuota(0)\n",
      "CatBoost is using more CPU RAM (1.08GiB) than the limit (1GiB)\n",
      "Resource CPU RAM: functionWithResourceUsage.ResourceUsage(30400) > ResourceQuota(0)\n",
      "Resource CPU RAM: functionWithResourceUsage.ResourceUsage(30400) > ResourceQuota(0)\n",
      "Resource CPU RAM: functionWithResourceUsage.ResourceUsage(30400) > ResourceQuota(0)\n",
      "Resource CPU RAM: functionWithResourceUsage.ResourceUsage(30400) > ResourceQuota(0)\n",
      "Resource CPU RAM: functionWithResourceUsage.ResourceUsage(30400) > ResourceQuota(0)\n",
      "Resource CPU RAM: functionWithResourceUsage.ResourceUsage(30400) > ResourceQuota(0)\n",
      "Resource CPU RAM: functionWithResourceUsage.ResourceUsage(30400) > ResourceQuota(0)\n",
      "Resource CPU RAM: functionWithResourceUsage.ResourceUsage(121600) > ResourceQuota(0)\n",
      "Resource CPU RAM: functionWithResourceUsage.ResourceUsage(121600) > ResourceQuota(0)\n",
      "Resource CPU RAM: functionWithResourceUsage.ResourceUsage(121600) > ResourceQuota(0)\n",
      "Resource CPU RAM: functionWithResourceUsage.ResourceUsage(121600) > ResourceQuota(0)\n",
      "Resource CPU RAM: functionWithResourceUsage.ResourceUsage(121600) > ResourceQuota(0)\n",
      "Resource CPU RAM: functionWithResourceUsage.ResourceUsage(121600) > ResourceQuota(0)\n",
      "Resource CPU RAM: functionWithResourceUsage.ResourceUsage(121600) > ResourceQuota(0)\n",
      "Resource CPU RAM: functionWithResourceUsage.ResourceUsage(121600) > ResourceQuota(0)\n",
      "Resource CPU RAM: functionWithResourceUsage.ResourceUsage(30400) > ResourceQuota(0)\n",
      "CatBoost is using more CPU RAM (1.08GiB) than the limit (1GiB)\n",
      "Resource CPU RAM: functionWithResourceUsage.ResourceUsage(10136) > ResourceQuota(0)\n",
      "Resource CPU RAM: functionWithResourceUsage.ResourceUsage(10136) > ResourceQuota(0)\n",
      "Resource CPU RAM: functionWithResourceUsage.ResourceUsage(10136) > ResourceQuota(0)\n",
      "Resource CPU RAM: functionWithResourceUsage.ResourceUsage(10136) > ResourceQuota(0)\n",
      "Resource CPU RAM: functionWithResourceUsage.ResourceUsage(10136) > ResourceQuota(0)\n",
      "Resource CPU RAM: functionWithResourceUsage.ResourceUsage(10136) > ResourceQuota(0)\n",
      "Resource CPU RAM: functionWithResourceUsage.ResourceUsage(10136) > ResourceQuota(0)\n",
      "Resource CPU RAM: functionWithResourceUsage.ResourceUsage(10136) > ResourceQuota(0)\n",
      "Resource CPU RAM: functionWithResourceUsage.ResourceUsage(364788) > ResourceQuota(0)\n",
      "Resource CPU RAM: functionWithResourceUsage.ResourceUsage(364788) > ResourceQuota(0)\n",
      "Resource CPU RAM: functionWithResourceUsage.ResourceUsage(364788) > ResourceQuota(0)\n",
      "Resource CPU RAM: functionWithResourceUsage.ResourceUsage(364788) > ResourceQuota(0)\n",
      "Resource CPU RAM: functionWithResourceUsage.ResourceUsage(364788) > ResourceQuota(0)\n",
      "Resource CPU RAM: functionWithResourceUsage.ResourceUsage(364788) > ResourceQuota(0)\n",
      "Resource CPU RAM: functionWithResourceUsage.ResourceUsage(364788) > ResourceQuota(0)\n",
      "Resource CPU RAM: functionWithResourceUsage.ResourceUsage(364788) > ResourceQuota(0)\n",
      "Resource CPU RAM: functionWithResourceUsage.ResourceUsage(364788) > ResourceQuota(0)\n",
      "Resource CPU RAM: functionWithResourceUsage.ResourceUsage(364788) > ResourceQuota(0)\n",
      "CatBoost is using more CPU RAM (1.08GiB) than the limit (1GiB)\n",
      "Resource CPU RAM: functionWithResourceUsage.ResourceUsage(10133) > ResourceQuota(0)\n",
      "Resource CPU RAM: functionWithResourceUsage.ResourceUsage(10133) > ResourceQuota(0)\n",
      "Resource CPU RAM: functionWithResourceUsage.ResourceUsage(10133) > ResourceQuota(0)\n",
      "Resource CPU RAM: functionWithResourceUsage.ResourceUsage(10133) > ResourceQuota(0)\n",
      "Resource CPU RAM: functionWithResourceUsage.ResourceUsage(10133) > ResourceQuota(0)\n",
      "Resource CPU RAM: functionWithResourceUsage.ResourceUsage(10133) > ResourceQuota(0)\n",
      "Resource CPU RAM: functionWithResourceUsage.ResourceUsage(10133) > ResourceQuota(0)\n",
      "Resource CPU RAM: functionWithResourceUsage.ResourceUsage(40532) > ResourceQuota(0)\n",
      "Resource CPU RAM: functionWithResourceUsage.ResourceUsage(40532) > ResourceQuota(0)\n",
      "Resource CPU RAM: functionWithResourceUsage.ResourceUsage(40532) > ResourceQuota(0)\n",
      "Resource CPU RAM: functionWithResourceUsage.ResourceUsage(40532) > ResourceQuota(0)\n",
      "Resource CPU RAM: functionWithResourceUsage.ResourceUsage(40532) > ResourceQuota(0)\n",
      "Resource CPU RAM: functionWithResourceUsage.ResourceUsage(40532) > ResourceQuota(0)\n",
      "Resource CPU RAM: functionWithResourceUsage.ResourceUsage(40532) > ResourceQuota(0)\n",
      "Resource CPU RAM: functionWithResourceUsage.ResourceUsage(40532) > ResourceQuota(0)\n",
      "Resource CPU RAM: functionWithResourceUsage.ResourceUsage(10133) > ResourceQuota(0)\n"
     ]
    },
    {
     "name": "stdout",
     "output_type": "stream",
     "text": [
      "\n",
      "bestTest = 0.1715632609\n",
      "bestIteration = 5440\n",
      "\n",
      "Training on fold [0/3]\n"
     ]
    },
    {
     "name": "stderr",
     "output_type": "stream",
     "text": [
      "CatBoost is using more CPU RAM (1.08GiB) than the limit (512MiB)\n",
      "CatBoost is using more CPU RAM (1.08GiB) than the limit (512MiB)\n",
      "CatBoost is using more CPU RAM (1.08GiB) than the limit (1GiB)\n",
      "Resource CPU RAM: functionWithResourceUsage.ResourceUsage(87248) > ResourceQuota(0)\n",
      "Resource CPU RAM: functionWithResourceUsage.ResourceUsage(87248) > ResourceQuota(0)\n",
      "Resource CPU RAM: functionWithResourceUsage.ResourceUsage(87248) > ResourceQuota(0)\n",
      "Resource CPU RAM: functionWithResourceUsage.ResourceUsage(87248) > ResourceQuota(0)\n",
      "Resource CPU RAM: functionWithResourceUsage.ResourceUsage(87248) > ResourceQuota(0)\n",
      "Resource CPU RAM: functionWithResourceUsage.ResourceUsage(87248) > ResourceQuota(0)\n",
      "Resource CPU RAM: functionWithResourceUsage.ResourceUsage(87248) > ResourceQuota(0)\n",
      "Resource CPU RAM: functionWithResourceUsage.ResourceUsage(87248) > ResourceQuota(0)\n",
      "Resource CPU RAM: functionWithResourceUsage.ResourceUsage(364824) > ResourceQuota(0)\n",
      "Resource CPU RAM: functionWithResourceUsage.ResourceUsage(364824) > ResourceQuota(0)\n",
      "Resource CPU RAM: functionWithResourceUsage.ResourceUsage(364824) > ResourceQuota(0)\n",
      "Resource CPU RAM: functionWithResourceUsage.ResourceUsage(364824) > ResourceQuota(0)\n",
      "Resource CPU RAM: functionWithResourceUsage.ResourceUsage(364824) > ResourceQuota(0)\n",
      "Resource CPU RAM: functionWithResourceUsage.ResourceUsage(364824) > ResourceQuota(0)\n",
      "Resource CPU RAM: functionWithResourceUsage.ResourceUsage(364824) > ResourceQuota(0)\n",
      "Resource CPU RAM: functionWithResourceUsage.ResourceUsage(364824) > ResourceQuota(0)\n",
      "Resource CPU RAM: functionWithResourceUsage.ResourceUsage(364824) > ResourceQuota(0)\n",
      "Resource CPU RAM: functionWithResourceUsage.ResourceUsage(364824) > ResourceQuota(0)\n",
      "CatBoost is using more CPU RAM (1.08GiB) than the limit (1GiB)\n",
      "Resource CPU RAM: functionWithResourceUsage.ResourceUsage(10134) > ResourceQuota(0)\n",
      "Resource CPU RAM: functionWithResourceUsage.ResourceUsage(10134) > ResourceQuota(0)\n",
      "Resource CPU RAM: functionWithResourceUsage.ResourceUsage(10134) > ResourceQuota(0)\n",
      "Resource CPU RAM: functionWithResourceUsage.ResourceUsage(10134) > ResourceQuota(0)\n",
      "Resource CPU RAM: functionWithResourceUsage.ResourceUsage(10134) > ResourceQuota(0)\n",
      "Resource CPU RAM: functionWithResourceUsage.ResourceUsage(10134) > ResourceQuota(0)\n",
      "Resource CPU RAM: functionWithResourceUsage.ResourceUsage(10134) > ResourceQuota(0)\n",
      "Resource CPU RAM: functionWithResourceUsage.ResourceUsage(40536) > ResourceQuota(0)\n",
      "Resource CPU RAM: functionWithResourceUsage.ResourceUsage(40536) > ResourceQuota(0)\n",
      "Resource CPU RAM: functionWithResourceUsage.ResourceUsage(40536) > ResourceQuota(0)\n",
      "Resource CPU RAM: functionWithResourceUsage.ResourceUsage(40536) > ResourceQuota(0)\n",
      "Resource CPU RAM: functionWithResourceUsage.ResourceUsage(40536) > ResourceQuota(0)\n",
      "Resource CPU RAM: functionWithResourceUsage.ResourceUsage(40536) > ResourceQuota(0)\n",
      "Resource CPU RAM: functionWithResourceUsage.ResourceUsage(40536) > ResourceQuota(0)\n",
      "Resource CPU RAM: functionWithResourceUsage.ResourceUsage(10134) > ResourceQuota(0)\n",
      "CatBoost is using more CPU RAM (1.08GiB) than the limit (1GiB)\n",
      "Resource CPU RAM: functionWithResourceUsage.ResourceUsage(10136) > ResourceQuota(0)\n",
      "Resource CPU RAM: functionWithResourceUsage.ResourceUsage(10136) > ResourceQuota(0)\n",
      "Resource CPU RAM: functionWithResourceUsage.ResourceUsage(10136) > ResourceQuota(0)\n",
      "Resource CPU RAM: functionWithResourceUsage.ResourceUsage(10136) > ResourceQuota(0)\n",
      "Resource CPU RAM: functionWithResourceUsage.ResourceUsage(10136) > ResourceQuota(0)\n",
      "Resource CPU RAM: functionWithResourceUsage.ResourceUsage(10136) > ResourceQuota(0)\n",
      "Resource CPU RAM: functionWithResourceUsage.ResourceUsage(10136) > ResourceQuota(0)\n",
      "Resource CPU RAM: functionWithResourceUsage.ResourceUsage(10136) > ResourceQuota(0)\n",
      "Resource CPU RAM: functionWithResourceUsage.ResourceUsage(364788) > ResourceQuota(0)\n",
      "Resource CPU RAM: functionWithResourceUsage.ResourceUsage(364788) > ResourceQuota(0)\n",
      "Resource CPU RAM: functionWithResourceUsage.ResourceUsage(364788) > ResourceQuota(0)\n",
      "Resource CPU RAM: functionWithResourceUsage.ResourceUsage(364788) > ResourceQuota(0)\n",
      "Resource CPU RAM: functionWithResourceUsage.ResourceUsage(364788) > ResourceQuota(0)\n",
      "Resource CPU RAM: functionWithResourceUsage.ResourceUsage(364788) > ResourceQuota(0)\n",
      "Resource CPU RAM: functionWithResourceUsage.ResourceUsage(364788) > ResourceQuota(0)\n",
      "Resource CPU RAM: functionWithResourceUsage.ResourceUsage(364788) > ResourceQuota(0)\n",
      "Resource CPU RAM: functionWithResourceUsage.ResourceUsage(364788) > ResourceQuota(0)\n",
      "Resource CPU RAM: functionWithResourceUsage.ResourceUsage(364788) > ResourceQuota(0)\n",
      "CatBoost is using more CPU RAM (1.08GiB) than the limit (1GiB)\n",
      "Resource CPU RAM: functionWithResourceUsage.ResourceUsage(10133) > ResourceQuota(0)\n",
      "Resource CPU RAM: functionWithResourceUsage.ResourceUsage(10133) > ResourceQuota(0)\n",
      "Resource CPU RAM: functionWithResourceUsage.ResourceUsage(10133) > ResourceQuota(0)\n",
      "Resource CPU RAM: functionWithResourceUsage.ResourceUsage(10133) > ResourceQuota(0)\n",
      "Resource CPU RAM: functionWithResourceUsage.ResourceUsage(10133) > ResourceQuota(0)\n",
      "Resource CPU RAM: functionWithResourceUsage.ResourceUsage(10133) > ResourceQuota(0)\n",
      "Resource CPU RAM: functionWithResourceUsage.ResourceUsage(10133) > ResourceQuota(0)\n",
      "Resource CPU RAM: functionWithResourceUsage.ResourceUsage(40532) > ResourceQuota(0)\n",
      "Resource CPU RAM: functionWithResourceUsage.ResourceUsage(40532) > ResourceQuota(0)\n",
      "Resource CPU RAM: functionWithResourceUsage.ResourceUsage(40532) > ResourceQuota(0)\n",
      "Resource CPU RAM: functionWithResourceUsage.ResourceUsage(40532) > ResourceQuota(0)\n",
      "Resource CPU RAM: functionWithResourceUsage.ResourceUsage(40532) > ResourceQuota(0)\n",
      "Resource CPU RAM: functionWithResourceUsage.ResourceUsage(40532) > ResourceQuota(0)\n",
      "Resource CPU RAM: functionWithResourceUsage.ResourceUsage(40532) > ResourceQuota(0)\n",
      "Resource CPU RAM: functionWithResourceUsage.ResourceUsage(40532) > ResourceQuota(0)\n",
      "Resource CPU RAM: functionWithResourceUsage.ResourceUsage(10133) > ResourceQuota(0)\n"
     ]
    },
    {
     "name": "stdout",
     "output_type": "stream",
     "text": [
      "\n",
      "bestTest = 0.07269518082\n",
      "bestIteration = 1718\n",
      "\n",
      "Training on fold [1/3]\n"
     ]
    },
    {
     "name": "stderr",
     "output_type": "stream",
     "text": [
      "CatBoost is using more CPU RAM (1.08GiB) than the limit (512MiB)\n",
      "CatBoost is using more CPU RAM (1.08GiB) than the limit (512MiB)\n",
      "CatBoost is using more CPU RAM (1.08GiB) than the limit (1GiB)\n",
      "Resource CPU RAM: functionWithResourceUsage.ResourceUsage(137916) > ResourceQuota(0)\n",
      "Resource CPU RAM: functionWithResourceUsage.ResourceUsage(137916) > ResourceQuota(0)\n",
      "Resource CPU RAM: functionWithResourceUsage.ResourceUsage(137916) > ResourceQuota(0)\n",
      "Resource CPU RAM: functionWithResourceUsage.ResourceUsage(137916) > ResourceQuota(0)\n",
      "Resource CPU RAM: functionWithResourceUsage.ResourceUsage(137916) > ResourceQuota(0)\n",
      "Resource CPU RAM: functionWithResourceUsage.ResourceUsage(137916) > ResourceQuota(0)\n",
      "Resource CPU RAM: functionWithResourceUsage.ResourceUsage(137916) > ResourceQuota(0)\n",
      "Resource CPU RAM: functionWithResourceUsage.ResourceUsage(137916) > ResourceQuota(0)\n",
      "Resource CPU RAM: functionWithResourceUsage.ResourceUsage(729612) > ResourceQuota(0)\n",
      "Resource CPU RAM: functionWithResourceUsage.ResourceUsage(729612) > ResourceQuota(0)\n",
      "Resource CPU RAM: functionWithResourceUsage.ResourceUsage(729612) > ResourceQuota(0)\n",
      "Resource CPU RAM: functionWithResourceUsage.ResourceUsage(729612) > ResourceQuota(0)\n",
      "Resource CPU RAM: functionWithResourceUsage.ResourceUsage(729612) > ResourceQuota(0)\n",
      "Resource CPU RAM: functionWithResourceUsage.ResourceUsage(729612) > ResourceQuota(0)\n",
      "Resource CPU RAM: functionWithResourceUsage.ResourceUsage(729612) > ResourceQuota(0)\n",
      "Resource CPU RAM: functionWithResourceUsage.ResourceUsage(729612) > ResourceQuota(0)\n",
      "Resource CPU RAM: functionWithResourceUsage.ResourceUsage(729612) > ResourceQuota(0)\n",
      "Resource CPU RAM: functionWithResourceUsage.ResourceUsage(729612) > ResourceQuota(0)\n",
      "CatBoost is using more CPU RAM (1.08GiB) than the limit (1GiB)\n",
      "Resource CPU RAM: functionWithResourceUsage.ResourceUsage(20267) > ResourceQuota(0)\n",
      "Resource CPU RAM: functionWithResourceUsage.ResourceUsage(20267) > ResourceQuota(0)\n",
      "Resource CPU RAM: functionWithResourceUsage.ResourceUsage(20267) > ResourceQuota(0)\n",
      "Resource CPU RAM: functionWithResourceUsage.ResourceUsage(20267) > ResourceQuota(0)\n",
      "Resource CPU RAM: functionWithResourceUsage.ResourceUsage(20267) > ResourceQuota(0)\n",
      "Resource CPU RAM: functionWithResourceUsage.ResourceUsage(20267) > ResourceQuota(0)\n",
      "Resource CPU RAM: functionWithResourceUsage.ResourceUsage(20267) > ResourceQuota(0)\n",
      "Resource CPU RAM: functionWithResourceUsage.ResourceUsage(81068) > ResourceQuota(0)\n",
      "Resource CPU RAM: functionWithResourceUsage.ResourceUsage(81068) > ResourceQuota(0)\n",
      "Resource CPU RAM: functionWithResourceUsage.ResourceUsage(81068) > ResourceQuota(0)\n",
      "Resource CPU RAM: functionWithResourceUsage.ResourceUsage(81068) > ResourceQuota(0)\n",
      "Resource CPU RAM: functionWithResourceUsage.ResourceUsage(81068) > ResourceQuota(0)\n",
      "Resource CPU RAM: functionWithResourceUsage.ResourceUsage(81068) > ResourceQuota(0)\n",
      "Resource CPU RAM: functionWithResourceUsage.ResourceUsage(81068) > ResourceQuota(0)\n",
      "Resource CPU RAM: functionWithResourceUsage.ResourceUsage(81068) > ResourceQuota(0)\n",
      "Resource CPU RAM: functionWithResourceUsage.ResourceUsage(20267) > ResourceQuota(0)\n",
      "CatBoost is using more CPU RAM (1.08GiB) than the limit (1GiB)\n",
      "Resource CPU RAM: functionWithResourceUsage.ResourceUsage(10136) > ResourceQuota(0)\n",
      "Resource CPU RAM: functionWithResourceUsage.ResourceUsage(10136) > ResourceQuota(0)\n",
      "Resource CPU RAM: functionWithResourceUsage.ResourceUsage(10136) > ResourceQuota(0)\n",
      "Resource CPU RAM: functionWithResourceUsage.ResourceUsage(10136) > ResourceQuota(0)\n",
      "Resource CPU RAM: functionWithResourceUsage.ResourceUsage(10136) > ResourceQuota(0)\n",
      "Resource CPU RAM: functionWithResourceUsage.ResourceUsage(10136) > ResourceQuota(0)\n",
      "Resource CPU RAM: functionWithResourceUsage.ResourceUsage(10136) > ResourceQuota(0)\n",
      "Resource CPU RAM: functionWithResourceUsage.ResourceUsage(10136) > ResourceQuota(0)\n",
      "Resource CPU RAM: functionWithResourceUsage.ResourceUsage(364788) > ResourceQuota(0)\n",
      "Resource CPU RAM: functionWithResourceUsage.ResourceUsage(364788) > ResourceQuota(0)\n",
      "Resource CPU RAM: functionWithResourceUsage.ResourceUsage(364788) > ResourceQuota(0)\n",
      "Resource CPU RAM: functionWithResourceUsage.ResourceUsage(364788) > ResourceQuota(0)\n",
      "Resource CPU RAM: functionWithResourceUsage.ResourceUsage(364788) > ResourceQuota(0)\n",
      "Resource CPU RAM: functionWithResourceUsage.ResourceUsage(364788) > ResourceQuota(0)\n",
      "Resource CPU RAM: functionWithResourceUsage.ResourceUsage(364788) > ResourceQuota(0)\n",
      "Resource CPU RAM: functionWithResourceUsage.ResourceUsage(364788) > ResourceQuota(0)\n",
      "Resource CPU RAM: functionWithResourceUsage.ResourceUsage(364788) > ResourceQuota(0)\n",
      "Resource CPU RAM: functionWithResourceUsage.ResourceUsage(364788) > ResourceQuota(0)\n",
      "CatBoost is using more CPU RAM (1.08GiB) than the limit (1GiB)\n",
      "Resource CPU RAM: functionWithResourceUsage.ResourceUsage(10133) > ResourceQuota(0)\n",
      "Resource CPU RAM: functionWithResourceUsage.ResourceUsage(10133) > ResourceQuota(0)\n",
      "Resource CPU RAM: functionWithResourceUsage.ResourceUsage(10133) > ResourceQuota(0)\n",
      "Resource CPU RAM: functionWithResourceUsage.ResourceUsage(10133) > ResourceQuota(0)\n",
      "Resource CPU RAM: functionWithResourceUsage.ResourceUsage(10133) > ResourceQuota(0)\n",
      "Resource CPU RAM: functionWithResourceUsage.ResourceUsage(10133) > ResourceQuota(0)\n",
      "Resource CPU RAM: functionWithResourceUsage.ResourceUsage(10133) > ResourceQuota(0)\n",
      "Resource CPU RAM: functionWithResourceUsage.ResourceUsage(40532) > ResourceQuota(0)\n",
      "Resource CPU RAM: functionWithResourceUsage.ResourceUsage(40532) > ResourceQuota(0)\n",
      "Resource CPU RAM: functionWithResourceUsage.ResourceUsage(40532) > ResourceQuota(0)\n",
      "Resource CPU RAM: functionWithResourceUsage.ResourceUsage(40532) > ResourceQuota(0)\n",
      "Resource CPU RAM: functionWithResourceUsage.ResourceUsage(40532) > ResourceQuota(0)\n",
      "Resource CPU RAM: functionWithResourceUsage.ResourceUsage(40532) > ResourceQuota(0)\n",
      "Resource CPU RAM: functionWithResourceUsage.ResourceUsage(40532) > ResourceQuota(0)\n",
      "Resource CPU RAM: functionWithResourceUsage.ResourceUsage(40532) > ResourceQuota(0)\n",
      "Resource CPU RAM: functionWithResourceUsage.ResourceUsage(10133) > ResourceQuota(0)\n"
     ]
    },
    {
     "name": "stdout",
     "output_type": "stream",
     "text": [
      "\n",
      "bestTest = 0.09346573173\n",
      "bestIteration = 1717\n",
      "\n",
      "Training on fold [2/3]\n"
     ]
    },
    {
     "name": "stderr",
     "output_type": "stream",
     "text": [
      "CatBoost is using more CPU RAM (1.08GiB) than the limit (512MiB)\n",
      "CatBoost is using more CPU RAM (1.08GiB) than the limit (512MiB)\n",
      "CatBoost is using more CPU RAM (1.08GiB) than the limit (1GiB)\n",
      "Resource CPU RAM: functionWithResourceUsage.ResourceUsage(188576) > ResourceQuota(0)\n",
      "Resource CPU RAM: functionWithResourceUsage.ResourceUsage(188576) > ResourceQuota(0)\n",
      "Resource CPU RAM: functionWithResourceUsage.ResourceUsage(188576) > ResourceQuota(0)\n",
      "Resource CPU RAM: functionWithResourceUsage.ResourceUsage(188576) > ResourceQuota(0)\n",
      "Resource CPU RAM: functionWithResourceUsage.ResourceUsage(188576) > ResourceQuota(0)\n",
      "Resource CPU RAM: functionWithResourceUsage.ResourceUsage(188576) > ResourceQuota(0)\n",
      "Resource CPU RAM: functionWithResourceUsage.ResourceUsage(188576) > ResourceQuota(0)\n",
      "Resource CPU RAM: functionWithResourceUsage.ResourceUsage(188576) > ResourceQuota(0)\n",
      "Resource CPU RAM: functionWithResourceUsage.ResourceUsage(1094400) > ResourceQuota(0)\n",
      "Resource CPU RAM: functionWithResourceUsage.ResourceUsage(1094400) > ResourceQuota(0)\n",
      "Resource CPU RAM: functionWithResourceUsage.ResourceUsage(1094400) > ResourceQuota(0)\n",
      "Resource CPU RAM: functionWithResourceUsage.ResourceUsage(1094400) > ResourceQuota(0)\n",
      "Resource CPU RAM: functionWithResourceUsage.ResourceUsage(1094400) > ResourceQuota(0)\n",
      "Resource CPU RAM: functionWithResourceUsage.ResourceUsage(1094400) > ResourceQuota(0)\n",
      "Resource CPU RAM: functionWithResourceUsage.ResourceUsage(1094400) > ResourceQuota(0)\n",
      "Resource CPU RAM: functionWithResourceUsage.ResourceUsage(1094400) > ResourceQuota(0)\n",
      "Resource CPU RAM: functionWithResourceUsage.ResourceUsage(1094400) > ResourceQuota(0)\n",
      "Resource CPU RAM: functionWithResourceUsage.ResourceUsage(1094400) > ResourceQuota(0)\n",
      "CatBoost is using more CPU RAM (1.08GiB) than the limit (1GiB)\n",
      "Resource CPU RAM: functionWithResourceUsage.ResourceUsage(30400) > ResourceQuota(0)\n",
      "Resource CPU RAM: functionWithResourceUsage.ResourceUsage(30400) > ResourceQuota(0)\n",
      "Resource CPU RAM: functionWithResourceUsage.ResourceUsage(30400) > ResourceQuota(0)\n",
      "Resource CPU RAM: functionWithResourceUsage.ResourceUsage(30400) > ResourceQuota(0)\n",
      "Resource CPU RAM: functionWithResourceUsage.ResourceUsage(30400) > ResourceQuota(0)\n",
      "Resource CPU RAM: functionWithResourceUsage.ResourceUsage(30400) > ResourceQuota(0)\n",
      "Resource CPU RAM: functionWithResourceUsage.ResourceUsage(30400) > ResourceQuota(0)\n",
      "Resource CPU RAM: functionWithResourceUsage.ResourceUsage(121600) > ResourceQuota(0)\n",
      "Resource CPU RAM: functionWithResourceUsage.ResourceUsage(121600) > ResourceQuota(0)\n",
      "Resource CPU RAM: functionWithResourceUsage.ResourceUsage(121600) > ResourceQuota(0)\n",
      "Resource CPU RAM: functionWithResourceUsage.ResourceUsage(121600) > ResourceQuota(0)\n",
      "Resource CPU RAM: functionWithResourceUsage.ResourceUsage(121600) > ResourceQuota(0)\n",
      "Resource CPU RAM: functionWithResourceUsage.ResourceUsage(121600) > ResourceQuota(0)\n",
      "Resource CPU RAM: functionWithResourceUsage.ResourceUsage(121600) > ResourceQuota(0)\n",
      "Resource CPU RAM: functionWithResourceUsage.ResourceUsage(121600) > ResourceQuota(0)\n",
      "Resource CPU RAM: functionWithResourceUsage.ResourceUsage(30400) > ResourceQuota(0)\n",
      "CatBoost is using more CPU RAM (1.08GiB) than the limit (1GiB)\n",
      "Resource CPU RAM: functionWithResourceUsage.ResourceUsage(10136) > ResourceQuota(0)\n",
      "Resource CPU RAM: functionWithResourceUsage.ResourceUsage(10136) > ResourceQuota(0)\n",
      "Resource CPU RAM: functionWithResourceUsage.ResourceUsage(10136) > ResourceQuota(0)\n",
      "Resource CPU RAM: functionWithResourceUsage.ResourceUsage(10136) > ResourceQuota(0)\n",
      "Resource CPU RAM: functionWithResourceUsage.ResourceUsage(10136) > ResourceQuota(0)\n",
      "Resource CPU RAM: functionWithResourceUsage.ResourceUsage(10136) > ResourceQuota(0)\n",
      "Resource CPU RAM: functionWithResourceUsage.ResourceUsage(10136) > ResourceQuota(0)\n",
      "Resource CPU RAM: functionWithResourceUsage.ResourceUsage(10136) > ResourceQuota(0)\n",
      "Resource CPU RAM: functionWithResourceUsage.ResourceUsage(364788) > ResourceQuota(0)\n",
      "Resource CPU RAM: functionWithResourceUsage.ResourceUsage(364788) > ResourceQuota(0)\n",
      "Resource CPU RAM: functionWithResourceUsage.ResourceUsage(364788) > ResourceQuota(0)\n",
      "Resource CPU RAM: functionWithResourceUsage.ResourceUsage(364788) > ResourceQuota(0)\n",
      "Resource CPU RAM: functionWithResourceUsage.ResourceUsage(364788) > ResourceQuota(0)\n",
      "Resource CPU RAM: functionWithResourceUsage.ResourceUsage(364788) > ResourceQuota(0)\n",
      "Resource CPU RAM: functionWithResourceUsage.ResourceUsage(364788) > ResourceQuota(0)\n",
      "Resource CPU RAM: functionWithResourceUsage.ResourceUsage(364788) > ResourceQuota(0)\n",
      "Resource CPU RAM: functionWithResourceUsage.ResourceUsage(364788) > ResourceQuota(0)\n",
      "Resource CPU RAM: functionWithResourceUsage.ResourceUsage(364788) > ResourceQuota(0)\n",
      "CatBoost is using more CPU RAM (1.08GiB) than the limit (1GiB)\n",
      "Resource CPU RAM: functionWithResourceUsage.ResourceUsage(10133) > ResourceQuota(0)\n",
      "Resource CPU RAM: functionWithResourceUsage.ResourceUsage(10133) > ResourceQuota(0)\n",
      "Resource CPU RAM: functionWithResourceUsage.ResourceUsage(10133) > ResourceQuota(0)\n",
      "Resource CPU RAM: functionWithResourceUsage.ResourceUsage(10133) > ResourceQuota(0)\n",
      "Resource CPU RAM: functionWithResourceUsage.ResourceUsage(10133) > ResourceQuota(0)\n",
      "Resource CPU RAM: functionWithResourceUsage.ResourceUsage(10133) > ResourceQuota(0)\n",
      "Resource CPU RAM: functionWithResourceUsage.ResourceUsage(10133) > ResourceQuota(0)\n",
      "Resource CPU RAM: functionWithResourceUsage.ResourceUsage(40532) > ResourceQuota(0)\n",
      "Resource CPU RAM: functionWithResourceUsage.ResourceUsage(40532) > ResourceQuota(0)\n",
      "Resource CPU RAM: functionWithResourceUsage.ResourceUsage(40532) > ResourceQuota(0)\n",
      "Resource CPU RAM: functionWithResourceUsage.ResourceUsage(40532) > ResourceQuota(0)\n",
      "Resource CPU RAM: functionWithResourceUsage.ResourceUsage(40532) > ResourceQuota(0)\n",
      "Resource CPU RAM: functionWithResourceUsage.ResourceUsage(40532) > ResourceQuota(0)\n",
      "Resource CPU RAM: functionWithResourceUsage.ResourceUsage(40532) > ResourceQuota(0)\n",
      "Resource CPU RAM: functionWithResourceUsage.ResourceUsage(40532) > ResourceQuota(0)\n",
      "Resource CPU RAM: functionWithResourceUsage.ResourceUsage(10133) > ResourceQuota(0)\n"
     ]
    },
    {
     "name": "stdout",
     "output_type": "stream",
     "text": [
      "\n",
      "bestTest = 0.104727621\n",
      "bestIteration = 1710\n",
      "\n",
      "Training on fold [0/3]\n"
     ]
    },
    {
     "name": "stderr",
     "output_type": "stream",
     "text": [
      "CatBoost is using more CPU RAM (1.08GiB) than the limit (512MiB)\n",
      "CatBoost is using more CPU RAM (1.08GiB) than the limit (512MiB)\n",
      "CatBoost is using more CPU RAM (1.08GiB) than the limit (1GiB)\n",
      "Resource CPU RAM: functionWithResourceUsage.ResourceUsage(87248) > ResourceQuota(0)\n",
      "Resource CPU RAM: functionWithResourceUsage.ResourceUsage(87248) > ResourceQuota(0)\n",
      "Resource CPU RAM: functionWithResourceUsage.ResourceUsage(87248) > ResourceQuota(0)\n",
      "Resource CPU RAM: functionWithResourceUsage.ResourceUsage(87248) > ResourceQuota(0)\n",
      "Resource CPU RAM: functionWithResourceUsage.ResourceUsage(87248) > ResourceQuota(0)\n",
      "Resource CPU RAM: functionWithResourceUsage.ResourceUsage(87248) > ResourceQuota(0)\n",
      "Resource CPU RAM: functionWithResourceUsage.ResourceUsage(87248) > ResourceQuota(0)\n",
      "Resource CPU RAM: functionWithResourceUsage.ResourceUsage(87248) > ResourceQuota(0)\n",
      "Resource CPU RAM: functionWithResourceUsage.ResourceUsage(364824) > ResourceQuota(0)\n",
      "Resource CPU RAM: functionWithResourceUsage.ResourceUsage(364824) > ResourceQuota(0)\n",
      "Resource CPU RAM: functionWithResourceUsage.ResourceUsage(364824) > ResourceQuota(0)\n",
      "Resource CPU RAM: functionWithResourceUsage.ResourceUsage(364824) > ResourceQuota(0)\n",
      "Resource CPU RAM: functionWithResourceUsage.ResourceUsage(364824) > ResourceQuota(0)\n",
      "Resource CPU RAM: functionWithResourceUsage.ResourceUsage(364824) > ResourceQuota(0)\n",
      "Resource CPU RAM: functionWithResourceUsage.ResourceUsage(364824) > ResourceQuota(0)\n",
      "Resource CPU RAM: functionWithResourceUsage.ResourceUsage(364824) > ResourceQuota(0)\n",
      "Resource CPU RAM: functionWithResourceUsage.ResourceUsage(364824) > ResourceQuota(0)\n",
      "Resource CPU RAM: functionWithResourceUsage.ResourceUsage(364824) > ResourceQuota(0)\n",
      "CatBoost is using more CPU RAM (1.08GiB) than the limit (1GiB)\n",
      "Resource CPU RAM: functionWithResourceUsage.ResourceUsage(10134) > ResourceQuota(0)\n",
      "Resource CPU RAM: functionWithResourceUsage.ResourceUsage(10134) > ResourceQuota(0)\n",
      "Resource CPU RAM: functionWithResourceUsage.ResourceUsage(10134) > ResourceQuota(0)\n",
      "Resource CPU RAM: functionWithResourceUsage.ResourceUsage(10134) > ResourceQuota(0)\n",
      "Resource CPU RAM: functionWithResourceUsage.ResourceUsage(10134) > ResourceQuota(0)\n",
      "Resource CPU RAM: functionWithResourceUsage.ResourceUsage(10134) > ResourceQuota(0)\n",
      "Resource CPU RAM: functionWithResourceUsage.ResourceUsage(10134) > ResourceQuota(0)\n",
      "Resource CPU RAM: functionWithResourceUsage.ResourceUsage(40536) > ResourceQuota(0)\n",
      "Resource CPU RAM: functionWithResourceUsage.ResourceUsage(40536) > ResourceQuota(0)\n",
      "Resource CPU RAM: functionWithResourceUsage.ResourceUsage(40536) > ResourceQuota(0)\n",
      "Resource CPU RAM: functionWithResourceUsage.ResourceUsage(40536) > ResourceQuota(0)\n",
      "Resource CPU RAM: functionWithResourceUsage.ResourceUsage(40536) > ResourceQuota(0)\n",
      "Resource CPU RAM: functionWithResourceUsage.ResourceUsage(40536) > ResourceQuota(0)\n",
      "Resource CPU RAM: functionWithResourceUsage.ResourceUsage(40536) > ResourceQuota(0)\n",
      "Resource CPU RAM: functionWithResourceUsage.ResourceUsage(10134) > ResourceQuota(0)\n",
      "CatBoost is using more CPU RAM (1.08GiB) than the limit (1GiB)\n",
      "Resource CPU RAM: functionWithResourceUsage.ResourceUsage(10136) > ResourceQuota(0)\n",
      "Resource CPU RAM: functionWithResourceUsage.ResourceUsage(10136) > ResourceQuota(0)\n",
      "Resource CPU RAM: functionWithResourceUsage.ResourceUsage(10136) > ResourceQuota(0)\n",
      "Resource CPU RAM: functionWithResourceUsage.ResourceUsage(10136) > ResourceQuota(0)\n",
      "Resource CPU RAM: functionWithResourceUsage.ResourceUsage(10136) > ResourceQuota(0)\n",
      "Resource CPU RAM: functionWithResourceUsage.ResourceUsage(10136) > ResourceQuota(0)\n",
      "Resource CPU RAM: functionWithResourceUsage.ResourceUsage(10136) > ResourceQuota(0)\n",
      "Resource CPU RAM: functionWithResourceUsage.ResourceUsage(10136) > ResourceQuota(0)\n",
      "Resource CPU RAM: functionWithResourceUsage.ResourceUsage(364788) > ResourceQuota(0)\n",
      "Resource CPU RAM: functionWithResourceUsage.ResourceUsage(364788) > ResourceQuota(0)\n",
      "Resource CPU RAM: functionWithResourceUsage.ResourceUsage(364788) > ResourceQuota(0)\n",
      "Resource CPU RAM: functionWithResourceUsage.ResourceUsage(364788) > ResourceQuota(0)\n",
      "Resource CPU RAM: functionWithResourceUsage.ResourceUsage(364788) > ResourceQuota(0)\n",
      "Resource CPU RAM: functionWithResourceUsage.ResourceUsage(364788) > ResourceQuota(0)\n",
      "Resource CPU RAM: functionWithResourceUsage.ResourceUsage(364788) > ResourceQuota(0)\n",
      "Resource CPU RAM: functionWithResourceUsage.ResourceUsage(364788) > ResourceQuota(0)\n",
      "Resource CPU RAM: functionWithResourceUsage.ResourceUsage(364788) > ResourceQuota(0)\n",
      "Resource CPU RAM: functionWithResourceUsage.ResourceUsage(364788) > ResourceQuota(0)\n",
      "CatBoost is using more CPU RAM (1.08GiB) than the limit (1GiB)\n",
      "Resource CPU RAM: functionWithResourceUsage.ResourceUsage(10133) > ResourceQuota(0)\n",
      "Resource CPU RAM: functionWithResourceUsage.ResourceUsage(10133) > ResourceQuota(0)\n",
      "Resource CPU RAM: functionWithResourceUsage.ResourceUsage(10133) > ResourceQuota(0)\n",
      "Resource CPU RAM: functionWithResourceUsage.ResourceUsage(10133) > ResourceQuota(0)\n",
      "Resource CPU RAM: functionWithResourceUsage.ResourceUsage(10133) > ResourceQuota(0)\n",
      "Resource CPU RAM: functionWithResourceUsage.ResourceUsage(10133) > ResourceQuota(0)\n",
      "Resource CPU RAM: functionWithResourceUsage.ResourceUsage(10133) > ResourceQuota(0)\n",
      "Resource CPU RAM: functionWithResourceUsage.ResourceUsage(40532) > ResourceQuota(0)\n",
      "Resource CPU RAM: functionWithResourceUsage.ResourceUsage(40532) > ResourceQuota(0)\n",
      "Resource CPU RAM: functionWithResourceUsage.ResourceUsage(40532) > ResourceQuota(0)\n",
      "Resource CPU RAM: functionWithResourceUsage.ResourceUsage(40532) > ResourceQuota(0)\n",
      "Resource CPU RAM: functionWithResourceUsage.ResourceUsage(40532) > ResourceQuota(0)\n",
      "Resource CPU RAM: functionWithResourceUsage.ResourceUsage(40532) > ResourceQuota(0)\n",
      "Resource CPU RAM: functionWithResourceUsage.ResourceUsage(40532) > ResourceQuota(0)\n",
      "Resource CPU RAM: functionWithResourceUsage.ResourceUsage(40532) > ResourceQuota(0)\n",
      "Resource CPU RAM: functionWithResourceUsage.ResourceUsage(10133) > ResourceQuota(0)\n"
     ]
    },
    {
     "name": "stdout",
     "output_type": "stream",
     "text": [
      "\n",
      "bestTest = 0.06668501291\n",
      "bestIteration = 6384\n",
      "\n",
      "Training on fold [1/3]\n"
     ]
    },
    {
     "name": "stderr",
     "output_type": "stream",
     "text": [
      "CatBoost is using more CPU RAM (1.08GiB) than the limit (512MiB)\n",
      "CatBoost is using more CPU RAM (1.08GiB) than the limit (512MiB)\n",
      "CatBoost is using more CPU RAM (1.08GiB) than the limit (1GiB)\n",
      "Resource CPU RAM: functionWithResourceUsage.ResourceUsage(137916) > ResourceQuota(0)\n",
      "Resource CPU RAM: functionWithResourceUsage.ResourceUsage(137916) > ResourceQuota(0)\n",
      "Resource CPU RAM: functionWithResourceUsage.ResourceUsage(137916) > ResourceQuota(0)\n",
      "Resource CPU RAM: functionWithResourceUsage.ResourceUsage(137916) > ResourceQuota(0)\n",
      "Resource CPU RAM: functionWithResourceUsage.ResourceUsage(137916) > ResourceQuota(0)\n",
      "Resource CPU RAM: functionWithResourceUsage.ResourceUsage(137916) > ResourceQuota(0)\n",
      "Resource CPU RAM: functionWithResourceUsage.ResourceUsage(137916) > ResourceQuota(0)\n",
      "Resource CPU RAM: functionWithResourceUsage.ResourceUsage(137916) > ResourceQuota(0)\n",
      "Resource CPU RAM: functionWithResourceUsage.ResourceUsage(729612) > ResourceQuota(0)\n",
      "Resource CPU RAM: functionWithResourceUsage.ResourceUsage(729612) > ResourceQuota(0)\n",
      "Resource CPU RAM: functionWithResourceUsage.ResourceUsage(729612) > ResourceQuota(0)\n",
      "Resource CPU RAM: functionWithResourceUsage.ResourceUsage(729612) > ResourceQuota(0)\n",
      "Resource CPU RAM: functionWithResourceUsage.ResourceUsage(729612) > ResourceQuota(0)\n",
      "Resource CPU RAM: functionWithResourceUsage.ResourceUsage(729612) > ResourceQuota(0)\n",
      "Resource CPU RAM: functionWithResourceUsage.ResourceUsage(729612) > ResourceQuota(0)\n",
      "Resource CPU RAM: functionWithResourceUsage.ResourceUsage(729612) > ResourceQuota(0)\n",
      "Resource CPU RAM: functionWithResourceUsage.ResourceUsage(729612) > ResourceQuota(0)\n",
      "Resource CPU RAM: functionWithResourceUsage.ResourceUsage(729612) > ResourceQuota(0)\n",
      "CatBoost is using more CPU RAM (1.08GiB) than the limit (1GiB)\n",
      "Resource CPU RAM: functionWithResourceUsage.ResourceUsage(20267) > ResourceQuota(0)\n",
      "Resource CPU RAM: functionWithResourceUsage.ResourceUsage(20267) > ResourceQuota(0)\n",
      "Resource CPU RAM: functionWithResourceUsage.ResourceUsage(20267) > ResourceQuota(0)\n",
      "Resource CPU RAM: functionWithResourceUsage.ResourceUsage(20267) > ResourceQuota(0)\n",
      "Resource CPU RAM: functionWithResourceUsage.ResourceUsage(20267) > ResourceQuota(0)\n",
      "Resource CPU RAM: functionWithResourceUsage.ResourceUsage(20267) > ResourceQuota(0)\n",
      "Resource CPU RAM: functionWithResourceUsage.ResourceUsage(20267) > ResourceQuota(0)\n",
      "Resource CPU RAM: functionWithResourceUsage.ResourceUsage(81068) > ResourceQuota(0)\n",
      "Resource CPU RAM: functionWithResourceUsage.ResourceUsage(81068) > ResourceQuota(0)\n",
      "Resource CPU RAM: functionWithResourceUsage.ResourceUsage(81068) > ResourceQuota(0)\n",
      "Resource CPU RAM: functionWithResourceUsage.ResourceUsage(81068) > ResourceQuota(0)\n",
      "Resource CPU RAM: functionWithResourceUsage.ResourceUsage(81068) > ResourceQuota(0)\n",
      "Resource CPU RAM: functionWithResourceUsage.ResourceUsage(81068) > ResourceQuota(0)\n",
      "Resource CPU RAM: functionWithResourceUsage.ResourceUsage(81068) > ResourceQuota(0)\n",
      "Resource CPU RAM: functionWithResourceUsage.ResourceUsage(81068) > ResourceQuota(0)\n",
      "Resource CPU RAM: functionWithResourceUsage.ResourceUsage(20267) > ResourceQuota(0)\n",
      "CatBoost is using more CPU RAM (1.08GiB) than the limit (1GiB)\n",
      "Resource CPU RAM: functionWithResourceUsage.ResourceUsage(10136) > ResourceQuota(0)\n",
      "Resource CPU RAM: functionWithResourceUsage.ResourceUsage(10136) > ResourceQuota(0)\n",
      "Resource CPU RAM: functionWithResourceUsage.ResourceUsage(10136) > ResourceQuota(0)\n",
      "Resource CPU RAM: functionWithResourceUsage.ResourceUsage(10136) > ResourceQuota(0)\n",
      "Resource CPU RAM: functionWithResourceUsage.ResourceUsage(10136) > ResourceQuota(0)\n",
      "Resource CPU RAM: functionWithResourceUsage.ResourceUsage(10136) > ResourceQuota(0)\n",
      "Resource CPU RAM: functionWithResourceUsage.ResourceUsage(10136) > ResourceQuota(0)\n",
      "Resource CPU RAM: functionWithResourceUsage.ResourceUsage(10136) > ResourceQuota(0)\n",
      "Resource CPU RAM: functionWithResourceUsage.ResourceUsage(364788) > ResourceQuota(0)\n",
      "Resource CPU RAM: functionWithResourceUsage.ResourceUsage(364788) > ResourceQuota(0)\n",
      "Resource CPU RAM: functionWithResourceUsage.ResourceUsage(364788) > ResourceQuota(0)\n",
      "Resource CPU RAM: functionWithResourceUsage.ResourceUsage(364788) > ResourceQuota(0)\n",
      "Resource CPU RAM: functionWithResourceUsage.ResourceUsage(364788) > ResourceQuota(0)\n",
      "Resource CPU RAM: functionWithResourceUsage.ResourceUsage(364788) > ResourceQuota(0)\n",
      "Resource CPU RAM: functionWithResourceUsage.ResourceUsage(364788) > ResourceQuota(0)\n",
      "Resource CPU RAM: functionWithResourceUsage.ResourceUsage(364788) > ResourceQuota(0)\n",
      "Resource CPU RAM: functionWithResourceUsage.ResourceUsage(364788) > ResourceQuota(0)\n",
      "Resource CPU RAM: functionWithResourceUsage.ResourceUsage(364788) > ResourceQuota(0)\n",
      "CatBoost is using more CPU RAM (1.08GiB) than the limit (1GiB)\n",
      "Resource CPU RAM: functionWithResourceUsage.ResourceUsage(10133) > ResourceQuota(0)\n",
      "Resource CPU RAM: functionWithResourceUsage.ResourceUsage(10133) > ResourceQuota(0)\n",
      "Resource CPU RAM: functionWithResourceUsage.ResourceUsage(10133) > ResourceQuota(0)\n",
      "Resource CPU RAM: functionWithResourceUsage.ResourceUsage(10133) > ResourceQuota(0)\n",
      "Resource CPU RAM: functionWithResourceUsage.ResourceUsage(10133) > ResourceQuota(0)\n",
      "Resource CPU RAM: functionWithResourceUsage.ResourceUsage(10133) > ResourceQuota(0)\n",
      "Resource CPU RAM: functionWithResourceUsage.ResourceUsage(10133) > ResourceQuota(0)\n",
      "Resource CPU RAM: functionWithResourceUsage.ResourceUsage(40532) > ResourceQuota(0)\n",
      "Resource CPU RAM: functionWithResourceUsage.ResourceUsage(40532) > ResourceQuota(0)\n",
      "Resource CPU RAM: functionWithResourceUsage.ResourceUsage(40532) > ResourceQuota(0)\n",
      "Resource CPU RAM: functionWithResourceUsage.ResourceUsage(40532) > ResourceQuota(0)\n",
      "Resource CPU RAM: functionWithResourceUsage.ResourceUsage(40532) > ResourceQuota(0)\n",
      "Resource CPU RAM: functionWithResourceUsage.ResourceUsage(40532) > ResourceQuota(0)\n",
      "Resource CPU RAM: functionWithResourceUsage.ResourceUsage(40532) > ResourceQuota(0)\n",
      "Resource CPU RAM: functionWithResourceUsage.ResourceUsage(40532) > ResourceQuota(0)\n",
      "Resource CPU RAM: functionWithResourceUsage.ResourceUsage(10133) > ResourceQuota(0)\n"
     ]
    },
    {
     "name": "stdout",
     "output_type": "stream",
     "text": [
      "\n",
      "bestTest = 0.0711715964\n",
      "bestIteration = 4590\n",
      "\n",
      "Training on fold [2/3]\n"
     ]
    },
    {
     "name": "stderr",
     "output_type": "stream",
     "text": [
      "CatBoost is using more CPU RAM (1.08GiB) than the limit (512MiB)\n",
      "CatBoost is using more CPU RAM (1.08GiB) than the limit (512MiB)\n",
      "CatBoost is using more CPU RAM (1.08GiB) than the limit (1GiB)\n",
      "Resource CPU RAM: functionWithResourceUsage.ResourceUsage(188576) > ResourceQuota(0)\n",
      "Resource CPU RAM: functionWithResourceUsage.ResourceUsage(188576) > ResourceQuota(0)\n",
      "Resource CPU RAM: functionWithResourceUsage.ResourceUsage(188576) > ResourceQuota(0)\n",
      "Resource CPU RAM: functionWithResourceUsage.ResourceUsage(188576) > ResourceQuota(0)\n",
      "Resource CPU RAM: functionWithResourceUsage.ResourceUsage(188576) > ResourceQuota(0)\n",
      "Resource CPU RAM: functionWithResourceUsage.ResourceUsage(188576) > ResourceQuota(0)\n",
      "Resource CPU RAM: functionWithResourceUsage.ResourceUsage(188576) > ResourceQuota(0)\n",
      "Resource CPU RAM: functionWithResourceUsage.ResourceUsage(188576) > ResourceQuota(0)\n",
      "Resource CPU RAM: functionWithResourceUsage.ResourceUsage(1094400) > ResourceQuota(0)\n",
      "Resource CPU RAM: functionWithResourceUsage.ResourceUsage(1094400) > ResourceQuota(0)\n",
      "Resource CPU RAM: functionWithResourceUsage.ResourceUsage(1094400) > ResourceQuota(0)\n",
      "Resource CPU RAM: functionWithResourceUsage.ResourceUsage(1094400) > ResourceQuota(0)\n",
      "Resource CPU RAM: functionWithResourceUsage.ResourceUsage(1094400) > ResourceQuota(0)\n",
      "Resource CPU RAM: functionWithResourceUsage.ResourceUsage(1094400) > ResourceQuota(0)\n",
      "Resource CPU RAM: functionWithResourceUsage.ResourceUsage(1094400) > ResourceQuota(0)\n",
      "Resource CPU RAM: functionWithResourceUsage.ResourceUsage(1094400) > ResourceQuota(0)\n",
      "Resource CPU RAM: functionWithResourceUsage.ResourceUsage(1094400) > ResourceQuota(0)\n",
      "Resource CPU RAM: functionWithResourceUsage.ResourceUsage(1094400) > ResourceQuota(0)\n",
      "CatBoost is using more CPU RAM (1.08GiB) than the limit (1GiB)\n",
      "Resource CPU RAM: functionWithResourceUsage.ResourceUsage(30400) > ResourceQuota(0)\n",
      "Resource CPU RAM: functionWithResourceUsage.ResourceUsage(30400) > ResourceQuota(0)\n",
      "Resource CPU RAM: functionWithResourceUsage.ResourceUsage(30400) > ResourceQuota(0)\n",
      "Resource CPU RAM: functionWithResourceUsage.ResourceUsage(30400) > ResourceQuota(0)\n",
      "Resource CPU RAM: functionWithResourceUsage.ResourceUsage(30400) > ResourceQuota(0)\n",
      "Resource CPU RAM: functionWithResourceUsage.ResourceUsage(30400) > ResourceQuota(0)\n",
      "Resource CPU RAM: functionWithResourceUsage.ResourceUsage(30400) > ResourceQuota(0)\n",
      "Resource CPU RAM: functionWithResourceUsage.ResourceUsage(121600) > ResourceQuota(0)\n",
      "Resource CPU RAM: functionWithResourceUsage.ResourceUsage(121600) > ResourceQuota(0)\n",
      "Resource CPU RAM: functionWithResourceUsage.ResourceUsage(121600) > ResourceQuota(0)\n",
      "Resource CPU RAM: functionWithResourceUsage.ResourceUsage(121600) > ResourceQuota(0)\n",
      "Resource CPU RAM: functionWithResourceUsage.ResourceUsage(121600) > ResourceQuota(0)\n",
      "Resource CPU RAM: functionWithResourceUsage.ResourceUsage(121600) > ResourceQuota(0)\n",
      "Resource CPU RAM: functionWithResourceUsage.ResourceUsage(121600) > ResourceQuota(0)\n",
      "Resource CPU RAM: functionWithResourceUsage.ResourceUsage(121600) > ResourceQuota(0)\n",
      "Resource CPU RAM: functionWithResourceUsage.ResourceUsage(30400) > ResourceQuota(0)\n",
      "CatBoost is using more CPU RAM (1.08GiB) than the limit (1GiB)\n",
      "Resource CPU RAM: functionWithResourceUsage.ResourceUsage(10136) > ResourceQuota(0)\n",
      "Resource CPU RAM: functionWithResourceUsage.ResourceUsage(10136) > ResourceQuota(0)\n",
      "Resource CPU RAM: functionWithResourceUsage.ResourceUsage(10136) > ResourceQuota(0)\n",
      "Resource CPU RAM: functionWithResourceUsage.ResourceUsage(10136) > ResourceQuota(0)\n",
      "Resource CPU RAM: functionWithResourceUsage.ResourceUsage(10136) > ResourceQuota(0)\n",
      "Resource CPU RAM: functionWithResourceUsage.ResourceUsage(10136) > ResourceQuota(0)\n",
      "Resource CPU RAM: functionWithResourceUsage.ResourceUsage(10136) > ResourceQuota(0)\n",
      "Resource CPU RAM: functionWithResourceUsage.ResourceUsage(10136) > ResourceQuota(0)\n",
      "Resource CPU RAM: functionWithResourceUsage.ResourceUsage(364788) > ResourceQuota(0)\n",
      "Resource CPU RAM: functionWithResourceUsage.ResourceUsage(364788) > ResourceQuota(0)\n",
      "Resource CPU RAM: functionWithResourceUsage.ResourceUsage(364788) > ResourceQuota(0)\n",
      "Resource CPU RAM: functionWithResourceUsage.ResourceUsage(364788) > ResourceQuota(0)\n",
      "Resource CPU RAM: functionWithResourceUsage.ResourceUsage(364788) > ResourceQuota(0)\n",
      "Resource CPU RAM: functionWithResourceUsage.ResourceUsage(364788) > ResourceQuota(0)\n",
      "Resource CPU RAM: functionWithResourceUsage.ResourceUsage(364788) > ResourceQuota(0)\n",
      "Resource CPU RAM: functionWithResourceUsage.ResourceUsage(364788) > ResourceQuota(0)\n",
      "Resource CPU RAM: functionWithResourceUsage.ResourceUsage(364788) > ResourceQuota(0)\n",
      "Resource CPU RAM: functionWithResourceUsage.ResourceUsage(364788) > ResourceQuota(0)\n",
      "CatBoost is using more CPU RAM (1.08GiB) than the limit (1GiB)\n",
      "Resource CPU RAM: functionWithResourceUsage.ResourceUsage(10133) > ResourceQuota(0)\n",
      "Resource CPU RAM: functionWithResourceUsage.ResourceUsage(10133) > ResourceQuota(0)\n",
      "Resource CPU RAM: functionWithResourceUsage.ResourceUsage(10133) > ResourceQuota(0)\n",
      "Resource CPU RAM: functionWithResourceUsage.ResourceUsage(10133) > ResourceQuota(0)\n",
      "Resource CPU RAM: functionWithResourceUsage.ResourceUsage(10133) > ResourceQuota(0)\n",
      "Resource CPU RAM: functionWithResourceUsage.ResourceUsage(10133) > ResourceQuota(0)\n",
      "Resource CPU RAM: functionWithResourceUsage.ResourceUsage(10133) > ResourceQuota(0)\n",
      "Resource CPU RAM: functionWithResourceUsage.ResourceUsage(40532) > ResourceQuota(0)\n",
      "Resource CPU RAM: functionWithResourceUsage.ResourceUsage(40532) > ResourceQuota(0)\n",
      "Resource CPU RAM: functionWithResourceUsage.ResourceUsage(40532) > ResourceQuota(0)\n",
      "Resource CPU RAM: functionWithResourceUsage.ResourceUsage(40532) > ResourceQuota(0)\n",
      "Resource CPU RAM: functionWithResourceUsage.ResourceUsage(40532) > ResourceQuota(0)\n",
      "Resource CPU RAM: functionWithResourceUsage.ResourceUsage(40532) > ResourceQuota(0)\n",
      "Resource CPU RAM: functionWithResourceUsage.ResourceUsage(40532) > ResourceQuota(0)\n",
      "Resource CPU RAM: functionWithResourceUsage.ResourceUsage(40532) > ResourceQuota(0)\n",
      "Resource CPU RAM: functionWithResourceUsage.ResourceUsage(10133) > ResourceQuota(0)\n"
     ]
    },
    {
     "name": "stdout",
     "output_type": "stream",
     "text": [
      "\n",
      "bestTest = 0.09342274479\n",
      "bestIteration = 6672\n",
      "\n",
      "Training on fold [0/3]\n"
     ]
    },
    {
     "name": "stderr",
     "output_type": "stream",
     "text": [
      "CatBoost is using more CPU RAM (1.08GiB) than the limit (512MiB)\n",
      "CatBoost is using more CPU RAM (1.08GiB) than the limit (512MiB)\n",
      "CatBoost is using more CPU RAM (1.08GiB) than the limit (1GiB)\n",
      "Resource CPU RAM: functionWithResourceUsage.ResourceUsage(87248) > ResourceQuota(0)\n",
      "Resource CPU RAM: functionWithResourceUsage.ResourceUsage(87248) > ResourceQuota(0)\n",
      "Resource CPU RAM: functionWithResourceUsage.ResourceUsage(87248) > ResourceQuota(0)\n",
      "Resource CPU RAM: functionWithResourceUsage.ResourceUsage(87248) > ResourceQuota(0)\n",
      "Resource CPU RAM: functionWithResourceUsage.ResourceUsage(87248) > ResourceQuota(0)\n",
      "Resource CPU RAM: functionWithResourceUsage.ResourceUsage(87248) > ResourceQuota(0)\n",
      "Resource CPU RAM: functionWithResourceUsage.ResourceUsage(87248) > ResourceQuota(0)\n",
      "Resource CPU RAM: functionWithResourceUsage.ResourceUsage(87248) > ResourceQuota(0)\n",
      "Resource CPU RAM: functionWithResourceUsage.ResourceUsage(364824) > ResourceQuota(0)\n",
      "Resource CPU RAM: functionWithResourceUsage.ResourceUsage(364824) > ResourceQuota(0)\n",
      "Resource CPU RAM: functionWithResourceUsage.ResourceUsage(364824) > ResourceQuota(0)\n",
      "Resource CPU RAM: functionWithResourceUsage.ResourceUsage(364824) > ResourceQuota(0)\n",
      "Resource CPU RAM: functionWithResourceUsage.ResourceUsage(364824) > ResourceQuota(0)\n",
      "Resource CPU RAM: functionWithResourceUsage.ResourceUsage(364824) > ResourceQuota(0)\n",
      "Resource CPU RAM: functionWithResourceUsage.ResourceUsage(364824) > ResourceQuota(0)\n",
      "Resource CPU RAM: functionWithResourceUsage.ResourceUsage(364824) > ResourceQuota(0)\n",
      "Resource CPU RAM: functionWithResourceUsage.ResourceUsage(364824) > ResourceQuota(0)\n",
      "Resource CPU RAM: functionWithResourceUsage.ResourceUsage(364824) > ResourceQuota(0)\n",
      "CatBoost is using more CPU RAM (1.08GiB) than the limit (1GiB)\n",
      "Resource CPU RAM: functionWithResourceUsage.ResourceUsage(10134) > ResourceQuota(0)\n",
      "Resource CPU RAM: functionWithResourceUsage.ResourceUsage(10134) > ResourceQuota(0)\n",
      "Resource CPU RAM: functionWithResourceUsage.ResourceUsage(10134) > ResourceQuota(0)\n",
      "Resource CPU RAM: functionWithResourceUsage.ResourceUsage(10134) > ResourceQuota(0)\n",
      "Resource CPU RAM: functionWithResourceUsage.ResourceUsage(10134) > ResourceQuota(0)\n",
      "Resource CPU RAM: functionWithResourceUsage.ResourceUsage(10134) > ResourceQuota(0)\n",
      "Resource CPU RAM: functionWithResourceUsage.ResourceUsage(10134) > ResourceQuota(0)\n",
      "Resource CPU RAM: functionWithResourceUsage.ResourceUsage(40536) > ResourceQuota(0)\n",
      "Resource CPU RAM: functionWithResourceUsage.ResourceUsage(40536) > ResourceQuota(0)\n",
      "Resource CPU RAM: functionWithResourceUsage.ResourceUsage(40536) > ResourceQuota(0)\n",
      "Resource CPU RAM: functionWithResourceUsage.ResourceUsage(40536) > ResourceQuota(0)\n",
      "Resource CPU RAM: functionWithResourceUsage.ResourceUsage(40536) > ResourceQuota(0)\n",
      "Resource CPU RAM: functionWithResourceUsage.ResourceUsage(40536) > ResourceQuota(0)\n",
      "Resource CPU RAM: functionWithResourceUsage.ResourceUsage(40536) > ResourceQuota(0)\n",
      "Resource CPU RAM: functionWithResourceUsage.ResourceUsage(10134) > ResourceQuota(0)\n",
      "CatBoost is using more CPU RAM (1.08GiB) than the limit (1GiB)\n",
      "Resource CPU RAM: functionWithResourceUsage.ResourceUsage(10136) > ResourceQuota(0)\n",
      "Resource CPU RAM: functionWithResourceUsage.ResourceUsage(10136) > ResourceQuota(0)\n",
      "Resource CPU RAM: functionWithResourceUsage.ResourceUsage(10136) > ResourceQuota(0)\n",
      "Resource CPU RAM: functionWithResourceUsage.ResourceUsage(10136) > ResourceQuota(0)\n",
      "Resource CPU RAM: functionWithResourceUsage.ResourceUsage(10136) > ResourceQuota(0)\n",
      "Resource CPU RAM: functionWithResourceUsage.ResourceUsage(10136) > ResourceQuota(0)\n",
      "Resource CPU RAM: functionWithResourceUsage.ResourceUsage(10136) > ResourceQuota(0)\n",
      "Resource CPU RAM: functionWithResourceUsage.ResourceUsage(10136) > ResourceQuota(0)\n",
      "Resource CPU RAM: functionWithResourceUsage.ResourceUsage(364788) > ResourceQuota(0)\n",
      "Resource CPU RAM: functionWithResourceUsage.ResourceUsage(364788) > ResourceQuota(0)\n",
      "Resource CPU RAM: functionWithResourceUsage.ResourceUsage(364788) > ResourceQuota(0)\n",
      "Resource CPU RAM: functionWithResourceUsage.ResourceUsage(364788) > ResourceQuota(0)\n",
      "Resource CPU RAM: functionWithResourceUsage.ResourceUsage(364788) > ResourceQuota(0)\n",
      "Resource CPU RAM: functionWithResourceUsage.ResourceUsage(364788) > ResourceQuota(0)\n",
      "Resource CPU RAM: functionWithResourceUsage.ResourceUsage(364788) > ResourceQuota(0)\n",
      "Resource CPU RAM: functionWithResourceUsage.ResourceUsage(364788) > ResourceQuota(0)\n",
      "Resource CPU RAM: functionWithResourceUsage.ResourceUsage(364788) > ResourceQuota(0)\n",
      "Resource CPU RAM: functionWithResourceUsage.ResourceUsage(364788) > ResourceQuota(0)\n",
      "CatBoost is using more CPU RAM (1.08GiB) than the limit (1GiB)\n",
      "Resource CPU RAM: functionWithResourceUsage.ResourceUsage(10133) > ResourceQuota(0)\n",
      "Resource CPU RAM: functionWithResourceUsage.ResourceUsage(10133) > ResourceQuota(0)\n",
      "Resource CPU RAM: functionWithResourceUsage.ResourceUsage(10133) > ResourceQuota(0)\n",
      "Resource CPU RAM: functionWithResourceUsage.ResourceUsage(10133) > ResourceQuota(0)\n",
      "Resource CPU RAM: functionWithResourceUsage.ResourceUsage(10133) > ResourceQuota(0)\n",
      "Resource CPU RAM: functionWithResourceUsage.ResourceUsage(10133) > ResourceQuota(0)\n",
      "Resource CPU RAM: functionWithResourceUsage.ResourceUsage(10133) > ResourceQuota(0)\n",
      "Resource CPU RAM: functionWithResourceUsage.ResourceUsage(40532) > ResourceQuota(0)\n",
      "Resource CPU RAM: functionWithResourceUsage.ResourceUsage(40532) > ResourceQuota(0)\n",
      "Resource CPU RAM: functionWithResourceUsage.ResourceUsage(40532) > ResourceQuota(0)\n",
      "Resource CPU RAM: functionWithResourceUsage.ResourceUsage(40532) > ResourceQuota(0)\n",
      "Resource CPU RAM: functionWithResourceUsage.ResourceUsage(40532) > ResourceQuota(0)\n",
      "Resource CPU RAM: functionWithResourceUsage.ResourceUsage(40532) > ResourceQuota(0)\n",
      "Resource CPU RAM: functionWithResourceUsage.ResourceUsage(40532) > ResourceQuota(0)\n",
      "Resource CPU RAM: functionWithResourceUsage.ResourceUsage(40532) > ResourceQuota(0)\n",
      "Resource CPU RAM: functionWithResourceUsage.ResourceUsage(10133) > ResourceQuota(0)\n"
     ]
    },
    {
     "name": "stdout",
     "output_type": "stream",
     "text": [
      "\n",
      "bestTest = 0.1486558948\n",
      "bestIteration = 2218\n",
      "\n",
      "Training on fold [1/3]\n"
     ]
    },
    {
     "name": "stderr",
     "output_type": "stream",
     "text": [
      "CatBoost is using more CPU RAM (1.08GiB) than the limit (512MiB)\n",
      "CatBoost is using more CPU RAM (1.08GiB) than the limit (512MiB)\n",
      "CatBoost is using more CPU RAM (1.08GiB) than the limit (1GiB)\n",
      "Resource CPU RAM: functionWithResourceUsage.ResourceUsage(137916) > ResourceQuota(0)\n",
      "Resource CPU RAM: functionWithResourceUsage.ResourceUsage(137916) > ResourceQuota(0)\n",
      "Resource CPU RAM: functionWithResourceUsage.ResourceUsage(137916) > ResourceQuota(0)\n",
      "Resource CPU RAM: functionWithResourceUsage.ResourceUsage(137916) > ResourceQuota(0)\n",
      "Resource CPU RAM: functionWithResourceUsage.ResourceUsage(137916) > ResourceQuota(0)\n",
      "Resource CPU RAM: functionWithResourceUsage.ResourceUsage(137916) > ResourceQuota(0)\n",
      "Resource CPU RAM: functionWithResourceUsage.ResourceUsage(137916) > ResourceQuota(0)\n",
      "Resource CPU RAM: functionWithResourceUsage.ResourceUsage(137916) > ResourceQuota(0)\n",
      "Resource CPU RAM: functionWithResourceUsage.ResourceUsage(729612) > ResourceQuota(0)\n",
      "Resource CPU RAM: functionWithResourceUsage.ResourceUsage(729612) > ResourceQuota(0)\n",
      "Resource CPU RAM: functionWithResourceUsage.ResourceUsage(729612) > ResourceQuota(0)\n",
      "Resource CPU RAM: functionWithResourceUsage.ResourceUsage(729612) > ResourceQuota(0)\n",
      "Resource CPU RAM: functionWithResourceUsage.ResourceUsage(729612) > ResourceQuota(0)\n",
      "Resource CPU RAM: functionWithResourceUsage.ResourceUsage(729612) > ResourceQuota(0)\n",
      "Resource CPU RAM: functionWithResourceUsage.ResourceUsage(729612) > ResourceQuota(0)\n",
      "Resource CPU RAM: functionWithResourceUsage.ResourceUsage(729612) > ResourceQuota(0)\n",
      "Resource CPU RAM: functionWithResourceUsage.ResourceUsage(729612) > ResourceQuota(0)\n",
      "Resource CPU RAM: functionWithResourceUsage.ResourceUsage(729612) > ResourceQuota(0)\n",
      "CatBoost is using more CPU RAM (1.08GiB) than the limit (1GiB)\n",
      "Resource CPU RAM: functionWithResourceUsage.ResourceUsage(20267) > ResourceQuota(0)\n",
      "Resource CPU RAM: functionWithResourceUsage.ResourceUsage(20267) > ResourceQuota(0)\n",
      "Resource CPU RAM: functionWithResourceUsage.ResourceUsage(20267) > ResourceQuota(0)\n",
      "Resource CPU RAM: functionWithResourceUsage.ResourceUsage(20267) > ResourceQuota(0)\n",
      "Resource CPU RAM: functionWithResourceUsage.ResourceUsage(20267) > ResourceQuota(0)\n",
      "Resource CPU RAM: functionWithResourceUsage.ResourceUsage(20267) > ResourceQuota(0)\n",
      "Resource CPU RAM: functionWithResourceUsage.ResourceUsage(20267) > ResourceQuota(0)\n",
      "Resource CPU RAM: functionWithResourceUsage.ResourceUsage(81068) > ResourceQuota(0)\n",
      "Resource CPU RAM: functionWithResourceUsage.ResourceUsage(81068) > ResourceQuota(0)\n",
      "Resource CPU RAM: functionWithResourceUsage.ResourceUsage(81068) > ResourceQuota(0)\n",
      "Resource CPU RAM: functionWithResourceUsage.ResourceUsage(81068) > ResourceQuota(0)\n",
      "Resource CPU RAM: functionWithResourceUsage.ResourceUsage(81068) > ResourceQuota(0)\n",
      "Resource CPU RAM: functionWithResourceUsage.ResourceUsage(81068) > ResourceQuota(0)\n",
      "Resource CPU RAM: functionWithResourceUsage.ResourceUsage(81068) > ResourceQuota(0)\n",
      "Resource CPU RAM: functionWithResourceUsage.ResourceUsage(81068) > ResourceQuota(0)\n",
      "Resource CPU RAM: functionWithResourceUsage.ResourceUsage(20267) > ResourceQuota(0)\n",
      "CatBoost is using more CPU RAM (1.08GiB) than the limit (1GiB)\n",
      "Resource CPU RAM: functionWithResourceUsage.ResourceUsage(10136) > ResourceQuota(0)\n",
      "Resource CPU RAM: functionWithResourceUsage.ResourceUsage(10136) > ResourceQuota(0)\n",
      "Resource CPU RAM: functionWithResourceUsage.ResourceUsage(10136) > ResourceQuota(0)\n",
      "Resource CPU RAM: functionWithResourceUsage.ResourceUsage(10136) > ResourceQuota(0)\n",
      "Resource CPU RAM: functionWithResourceUsage.ResourceUsage(10136) > ResourceQuota(0)\n",
      "Resource CPU RAM: functionWithResourceUsage.ResourceUsage(10136) > ResourceQuota(0)\n",
      "Resource CPU RAM: functionWithResourceUsage.ResourceUsage(10136) > ResourceQuota(0)\n",
      "Resource CPU RAM: functionWithResourceUsage.ResourceUsage(10136) > ResourceQuota(0)\n",
      "Resource CPU RAM: functionWithResourceUsage.ResourceUsage(364788) > ResourceQuota(0)\n",
      "Resource CPU RAM: functionWithResourceUsage.ResourceUsage(364788) > ResourceQuota(0)\n",
      "Resource CPU RAM: functionWithResourceUsage.ResourceUsage(364788) > ResourceQuota(0)\n",
      "Resource CPU RAM: functionWithResourceUsage.ResourceUsage(364788) > ResourceQuota(0)\n",
      "Resource CPU RAM: functionWithResourceUsage.ResourceUsage(364788) > ResourceQuota(0)\n",
      "Resource CPU RAM: functionWithResourceUsage.ResourceUsage(364788) > ResourceQuota(0)\n",
      "Resource CPU RAM: functionWithResourceUsage.ResourceUsage(364788) > ResourceQuota(0)\n",
      "Resource CPU RAM: functionWithResourceUsage.ResourceUsage(364788) > ResourceQuota(0)\n",
      "Resource CPU RAM: functionWithResourceUsage.ResourceUsage(364788) > ResourceQuota(0)\n",
      "Resource CPU RAM: functionWithResourceUsage.ResourceUsage(364788) > ResourceQuota(0)\n",
      "CatBoost is using more CPU RAM (1.08GiB) than the limit (1GiB)\n",
      "Resource CPU RAM: functionWithResourceUsage.ResourceUsage(10133) > ResourceQuota(0)\n",
      "Resource CPU RAM: functionWithResourceUsage.ResourceUsage(10133) > ResourceQuota(0)\n",
      "Resource CPU RAM: functionWithResourceUsage.ResourceUsage(10133) > ResourceQuota(0)\n",
      "Resource CPU RAM: functionWithResourceUsage.ResourceUsage(10133) > ResourceQuota(0)\n",
      "Resource CPU RAM: functionWithResourceUsage.ResourceUsage(10133) > ResourceQuota(0)\n",
      "Resource CPU RAM: functionWithResourceUsage.ResourceUsage(10133) > ResourceQuota(0)\n",
      "Resource CPU RAM: functionWithResourceUsage.ResourceUsage(10133) > ResourceQuota(0)\n",
      "Resource CPU RAM: functionWithResourceUsage.ResourceUsage(40532) > ResourceQuota(0)\n",
      "Resource CPU RAM: functionWithResourceUsage.ResourceUsage(40532) > ResourceQuota(0)\n",
      "Resource CPU RAM: functionWithResourceUsage.ResourceUsage(40532) > ResourceQuota(0)\n",
      "Resource CPU RAM: functionWithResourceUsage.ResourceUsage(40532) > ResourceQuota(0)\n",
      "Resource CPU RAM: functionWithResourceUsage.ResourceUsage(40532) > ResourceQuota(0)\n",
      "Resource CPU RAM: functionWithResourceUsage.ResourceUsage(40532) > ResourceQuota(0)\n",
      "Resource CPU RAM: functionWithResourceUsage.ResourceUsage(40532) > ResourceQuota(0)\n",
      "Resource CPU RAM: functionWithResourceUsage.ResourceUsage(40532) > ResourceQuota(0)\n",
      "Resource CPU RAM: functionWithResourceUsage.ResourceUsage(10133) > ResourceQuota(0)\n"
     ]
    },
    {
     "name": "stdout",
     "output_type": "stream",
     "text": [
      "\n",
      "bestTest = 0.1370114882\n",
      "bestIteration = 2216\n",
      "\n",
      "Training on fold [2/3]\n"
     ]
    },
    {
     "name": "stderr",
     "output_type": "stream",
     "text": [
      "CatBoost is using more CPU RAM (1.08GiB) than the limit (512MiB)\n",
      "CatBoost is using more CPU RAM (1.08GiB) than the limit (512MiB)\n",
      "CatBoost is using more CPU RAM (1.08GiB) than the limit (1GiB)\n",
      "Resource CPU RAM: functionWithResourceUsage.ResourceUsage(188576) > ResourceQuota(0)\n",
      "Resource CPU RAM: functionWithResourceUsage.ResourceUsage(188576) > ResourceQuota(0)\n",
      "Resource CPU RAM: functionWithResourceUsage.ResourceUsage(188576) > ResourceQuota(0)\n",
      "Resource CPU RAM: functionWithResourceUsage.ResourceUsage(188576) > ResourceQuota(0)\n",
      "Resource CPU RAM: functionWithResourceUsage.ResourceUsage(188576) > ResourceQuota(0)\n",
      "Resource CPU RAM: functionWithResourceUsage.ResourceUsage(188576) > ResourceQuota(0)\n",
      "Resource CPU RAM: functionWithResourceUsage.ResourceUsage(188576) > ResourceQuota(0)\n",
      "Resource CPU RAM: functionWithResourceUsage.ResourceUsage(188576) > ResourceQuota(0)\n",
      "Resource CPU RAM: functionWithResourceUsage.ResourceUsage(1094400) > ResourceQuota(0)\n",
      "Resource CPU RAM: functionWithResourceUsage.ResourceUsage(1094400) > ResourceQuota(0)\n",
      "Resource CPU RAM: functionWithResourceUsage.ResourceUsage(1094400) > ResourceQuota(0)\n",
      "Resource CPU RAM: functionWithResourceUsage.ResourceUsage(1094400) > ResourceQuota(0)\n",
      "Resource CPU RAM: functionWithResourceUsage.ResourceUsage(1094400) > ResourceQuota(0)\n",
      "Resource CPU RAM: functionWithResourceUsage.ResourceUsage(1094400) > ResourceQuota(0)\n",
      "Resource CPU RAM: functionWithResourceUsage.ResourceUsage(1094400) > ResourceQuota(0)\n",
      "Resource CPU RAM: functionWithResourceUsage.ResourceUsage(1094400) > ResourceQuota(0)\n",
      "Resource CPU RAM: functionWithResourceUsage.ResourceUsage(1094400) > ResourceQuota(0)\n",
      "Resource CPU RAM: functionWithResourceUsage.ResourceUsage(1094400) > ResourceQuota(0)\n",
      "CatBoost is using more CPU RAM (1.08GiB) than the limit (1GiB)\n",
      "Resource CPU RAM: functionWithResourceUsage.ResourceUsage(30400) > ResourceQuota(0)\n",
      "Resource CPU RAM: functionWithResourceUsage.ResourceUsage(30400) > ResourceQuota(0)\n",
      "Resource CPU RAM: functionWithResourceUsage.ResourceUsage(30400) > ResourceQuota(0)\n",
      "Resource CPU RAM: functionWithResourceUsage.ResourceUsage(30400) > ResourceQuota(0)\n",
      "Resource CPU RAM: functionWithResourceUsage.ResourceUsage(30400) > ResourceQuota(0)\n",
      "Resource CPU RAM: functionWithResourceUsage.ResourceUsage(30400) > ResourceQuota(0)\n",
      "Resource CPU RAM: functionWithResourceUsage.ResourceUsage(30400) > ResourceQuota(0)\n",
      "Resource CPU RAM: functionWithResourceUsage.ResourceUsage(121600) > ResourceQuota(0)\n",
      "Resource CPU RAM: functionWithResourceUsage.ResourceUsage(121600) > ResourceQuota(0)\n",
      "Resource CPU RAM: functionWithResourceUsage.ResourceUsage(121600) > ResourceQuota(0)\n",
      "Resource CPU RAM: functionWithResourceUsage.ResourceUsage(121600) > ResourceQuota(0)\n",
      "Resource CPU RAM: functionWithResourceUsage.ResourceUsage(121600) > ResourceQuota(0)\n",
      "Resource CPU RAM: functionWithResourceUsage.ResourceUsage(121600) > ResourceQuota(0)\n",
      "Resource CPU RAM: functionWithResourceUsage.ResourceUsage(121600) > ResourceQuota(0)\n",
      "Resource CPU RAM: functionWithResourceUsage.ResourceUsage(121600) > ResourceQuota(0)\n",
      "Resource CPU RAM: functionWithResourceUsage.ResourceUsage(30400) > ResourceQuota(0)\n",
      "CatBoost is using more CPU RAM (1.08GiB) than the limit (1GiB)\n",
      "Resource CPU RAM: functionWithResourceUsage.ResourceUsage(10136) > ResourceQuota(0)\n",
      "Resource CPU RAM: functionWithResourceUsage.ResourceUsage(10136) > ResourceQuota(0)\n",
      "Resource CPU RAM: functionWithResourceUsage.ResourceUsage(10136) > ResourceQuota(0)\n",
      "Resource CPU RAM: functionWithResourceUsage.ResourceUsage(10136) > ResourceQuota(0)\n",
      "Resource CPU RAM: functionWithResourceUsage.ResourceUsage(10136) > ResourceQuota(0)\n",
      "Resource CPU RAM: functionWithResourceUsage.ResourceUsage(10136) > ResourceQuota(0)\n",
      "Resource CPU RAM: functionWithResourceUsage.ResourceUsage(10136) > ResourceQuota(0)\n",
      "Resource CPU RAM: functionWithResourceUsage.ResourceUsage(10136) > ResourceQuota(0)\n",
      "Resource CPU RAM: functionWithResourceUsage.ResourceUsage(364788) > ResourceQuota(0)\n",
      "Resource CPU RAM: functionWithResourceUsage.ResourceUsage(364788) > ResourceQuota(0)\n",
      "Resource CPU RAM: functionWithResourceUsage.ResourceUsage(364788) > ResourceQuota(0)\n",
      "Resource CPU RAM: functionWithResourceUsage.ResourceUsage(364788) > ResourceQuota(0)\n",
      "Resource CPU RAM: functionWithResourceUsage.ResourceUsage(364788) > ResourceQuota(0)\n",
      "Resource CPU RAM: functionWithResourceUsage.ResourceUsage(364788) > ResourceQuota(0)\n",
      "Resource CPU RAM: functionWithResourceUsage.ResourceUsage(364788) > ResourceQuota(0)\n",
      "Resource CPU RAM: functionWithResourceUsage.ResourceUsage(364788) > ResourceQuota(0)\n",
      "Resource CPU RAM: functionWithResourceUsage.ResourceUsage(364788) > ResourceQuota(0)\n",
      "Resource CPU RAM: functionWithResourceUsage.ResourceUsage(364788) > ResourceQuota(0)\n",
      "CatBoost is using more CPU RAM (1.08GiB) than the limit (1GiB)\n",
      "Resource CPU RAM: functionWithResourceUsage.ResourceUsage(10133) > ResourceQuota(0)\n",
      "Resource CPU RAM: functionWithResourceUsage.ResourceUsage(10133) > ResourceQuota(0)\n",
      "Resource CPU RAM: functionWithResourceUsage.ResourceUsage(10133) > ResourceQuota(0)\n",
      "Resource CPU RAM: functionWithResourceUsage.ResourceUsage(10133) > ResourceQuota(0)\n",
      "Resource CPU RAM: functionWithResourceUsage.ResourceUsage(10133) > ResourceQuota(0)\n",
      "Resource CPU RAM: functionWithResourceUsage.ResourceUsage(10133) > ResourceQuota(0)\n",
      "Resource CPU RAM: functionWithResourceUsage.ResourceUsage(10133) > ResourceQuota(0)\n",
      "Resource CPU RAM: functionWithResourceUsage.ResourceUsage(40532) > ResourceQuota(0)\n",
      "Resource CPU RAM: functionWithResourceUsage.ResourceUsage(40532) > ResourceQuota(0)\n",
      "Resource CPU RAM: functionWithResourceUsage.ResourceUsage(40532) > ResourceQuota(0)\n",
      "Resource CPU RAM: functionWithResourceUsage.ResourceUsage(40532) > ResourceQuota(0)\n",
      "Resource CPU RAM: functionWithResourceUsage.ResourceUsage(40532) > ResourceQuota(0)\n",
      "Resource CPU RAM: functionWithResourceUsage.ResourceUsage(40532) > ResourceQuota(0)\n",
      "Resource CPU RAM: functionWithResourceUsage.ResourceUsage(40532) > ResourceQuota(0)\n",
      "Resource CPU RAM: functionWithResourceUsage.ResourceUsage(40532) > ResourceQuota(0)\n",
      "Resource CPU RAM: functionWithResourceUsage.ResourceUsage(10133) > ResourceQuota(0)\n"
     ]
    },
    {
     "name": "stdout",
     "output_type": "stream",
     "text": [
      "\n",
      "bestTest = 0.109334161\n",
      "bestIteration = 2077\n",
      "\n",
      "Training on fold [0/3]\n"
     ]
    },
    {
     "name": "stderr",
     "output_type": "stream",
     "text": [
      "CatBoost is using more CPU RAM (1.08GiB) than the limit (512MiB)\n",
      "CatBoost is using more CPU RAM (1.08GiB) than the limit (512MiB)\n",
      "CatBoost is using more CPU RAM (1.08GiB) than the limit (1GiB)\n",
      "Resource CPU RAM: functionWithResourceUsage.ResourceUsage(87248) > ResourceQuota(0)\n",
      "Resource CPU RAM: functionWithResourceUsage.ResourceUsage(87248) > ResourceQuota(0)\n",
      "Resource CPU RAM: functionWithResourceUsage.ResourceUsage(87248) > ResourceQuota(0)\n",
      "Resource CPU RAM: functionWithResourceUsage.ResourceUsage(87248) > ResourceQuota(0)\n",
      "Resource CPU RAM: functionWithResourceUsage.ResourceUsage(87248) > ResourceQuota(0)\n",
      "Resource CPU RAM: functionWithResourceUsage.ResourceUsage(87248) > ResourceQuota(0)\n",
      "Resource CPU RAM: functionWithResourceUsage.ResourceUsage(87248) > ResourceQuota(0)\n",
      "Resource CPU RAM: functionWithResourceUsage.ResourceUsage(87248) > ResourceQuota(0)\n",
      "Resource CPU RAM: functionWithResourceUsage.ResourceUsage(364824) > ResourceQuota(0)\n",
      "Resource CPU RAM: functionWithResourceUsage.ResourceUsage(364824) > ResourceQuota(0)\n",
      "Resource CPU RAM: functionWithResourceUsage.ResourceUsage(364824) > ResourceQuota(0)\n",
      "Resource CPU RAM: functionWithResourceUsage.ResourceUsage(364824) > ResourceQuota(0)\n",
      "Resource CPU RAM: functionWithResourceUsage.ResourceUsage(364824) > ResourceQuota(0)\n",
      "Resource CPU RAM: functionWithResourceUsage.ResourceUsage(364824) > ResourceQuota(0)\n",
      "Resource CPU RAM: functionWithResourceUsage.ResourceUsage(364824) > ResourceQuota(0)\n",
      "Resource CPU RAM: functionWithResourceUsage.ResourceUsage(364824) > ResourceQuota(0)\n",
      "Resource CPU RAM: functionWithResourceUsage.ResourceUsage(364824) > ResourceQuota(0)\n",
      "Resource CPU RAM: functionWithResourceUsage.ResourceUsage(364824) > ResourceQuota(0)\n",
      "CatBoost is using more CPU RAM (1.08GiB) than the limit (1GiB)\n",
      "Resource CPU RAM: functionWithResourceUsage.ResourceUsage(10134) > ResourceQuota(0)\n",
      "Resource CPU RAM: functionWithResourceUsage.ResourceUsage(10134) > ResourceQuota(0)\n",
      "Resource CPU RAM: functionWithResourceUsage.ResourceUsage(10134) > ResourceQuota(0)\n",
      "Resource CPU RAM: functionWithResourceUsage.ResourceUsage(10134) > ResourceQuota(0)\n",
      "Resource CPU RAM: functionWithResourceUsage.ResourceUsage(10134) > ResourceQuota(0)\n",
      "Resource CPU RAM: functionWithResourceUsage.ResourceUsage(10134) > ResourceQuota(0)\n",
      "Resource CPU RAM: functionWithResourceUsage.ResourceUsage(10134) > ResourceQuota(0)\n",
      "Resource CPU RAM: functionWithResourceUsage.ResourceUsage(40536) > ResourceQuota(0)\n",
      "Resource CPU RAM: functionWithResourceUsage.ResourceUsage(40536) > ResourceQuota(0)\n",
      "Resource CPU RAM: functionWithResourceUsage.ResourceUsage(40536) > ResourceQuota(0)\n",
      "Resource CPU RAM: functionWithResourceUsage.ResourceUsage(40536) > ResourceQuota(0)\n",
      "Resource CPU RAM: functionWithResourceUsage.ResourceUsage(40536) > ResourceQuota(0)\n",
      "Resource CPU RAM: functionWithResourceUsage.ResourceUsage(40536) > ResourceQuota(0)\n",
      "Resource CPU RAM: functionWithResourceUsage.ResourceUsage(40536) > ResourceQuota(0)\n",
      "Resource CPU RAM: functionWithResourceUsage.ResourceUsage(10134) > ResourceQuota(0)\n",
      "CatBoost is using more CPU RAM (1.08GiB) than the limit (1GiB)\n",
      "Resource CPU RAM: functionWithResourceUsage.ResourceUsage(10136) > ResourceQuota(0)\n",
      "Resource CPU RAM: functionWithResourceUsage.ResourceUsage(10136) > ResourceQuota(0)\n",
      "Resource CPU RAM: functionWithResourceUsage.ResourceUsage(10136) > ResourceQuota(0)\n",
      "Resource CPU RAM: functionWithResourceUsage.ResourceUsage(10136) > ResourceQuota(0)\n",
      "Resource CPU RAM: functionWithResourceUsage.ResourceUsage(10136) > ResourceQuota(0)\n",
      "Resource CPU RAM: functionWithResourceUsage.ResourceUsage(10136) > ResourceQuota(0)\n",
      "Resource CPU RAM: functionWithResourceUsage.ResourceUsage(10136) > ResourceQuota(0)\n",
      "Resource CPU RAM: functionWithResourceUsage.ResourceUsage(10136) > ResourceQuota(0)\n",
      "Resource CPU RAM: functionWithResourceUsage.ResourceUsage(364788) > ResourceQuota(0)\n",
      "Resource CPU RAM: functionWithResourceUsage.ResourceUsage(364788) > ResourceQuota(0)\n",
      "Resource CPU RAM: functionWithResourceUsage.ResourceUsage(364788) > ResourceQuota(0)\n",
      "Resource CPU RAM: functionWithResourceUsage.ResourceUsage(364788) > ResourceQuota(0)\n",
      "Resource CPU RAM: functionWithResourceUsage.ResourceUsage(364788) > ResourceQuota(0)\n",
      "Resource CPU RAM: functionWithResourceUsage.ResourceUsage(364788) > ResourceQuota(0)\n",
      "Resource CPU RAM: functionWithResourceUsage.ResourceUsage(364788) > ResourceQuota(0)\n",
      "Resource CPU RAM: functionWithResourceUsage.ResourceUsage(364788) > ResourceQuota(0)\n",
      "Resource CPU RAM: functionWithResourceUsage.ResourceUsage(364788) > ResourceQuota(0)\n",
      "Resource CPU RAM: functionWithResourceUsage.ResourceUsage(364788) > ResourceQuota(0)\n",
      "CatBoost is using more CPU RAM (1.08GiB) than the limit (1GiB)\n",
      "Resource CPU RAM: functionWithResourceUsage.ResourceUsage(10133) > ResourceQuota(0)\n",
      "Resource CPU RAM: functionWithResourceUsage.ResourceUsage(10133) > ResourceQuota(0)\n",
      "Resource CPU RAM: functionWithResourceUsage.ResourceUsage(10133) > ResourceQuota(0)\n",
      "Resource CPU RAM: functionWithResourceUsage.ResourceUsage(10133) > ResourceQuota(0)\n",
      "Resource CPU RAM: functionWithResourceUsage.ResourceUsage(10133) > ResourceQuota(0)\n",
      "Resource CPU RAM: functionWithResourceUsage.ResourceUsage(10133) > ResourceQuota(0)\n",
      "Resource CPU RAM: functionWithResourceUsage.ResourceUsage(10133) > ResourceQuota(0)\n",
      "Resource CPU RAM: functionWithResourceUsage.ResourceUsage(40532) > ResourceQuota(0)\n",
      "Resource CPU RAM: functionWithResourceUsage.ResourceUsage(40532) > ResourceQuota(0)\n",
      "Resource CPU RAM: functionWithResourceUsage.ResourceUsage(40532) > ResourceQuota(0)\n",
      "Resource CPU RAM: functionWithResourceUsage.ResourceUsage(40532) > ResourceQuota(0)\n",
      "Resource CPU RAM: functionWithResourceUsage.ResourceUsage(40532) > ResourceQuota(0)\n",
      "Resource CPU RAM: functionWithResourceUsage.ResourceUsage(40532) > ResourceQuota(0)\n",
      "Resource CPU RAM: functionWithResourceUsage.ResourceUsage(40532) > ResourceQuota(0)\n",
      "Resource CPU RAM: functionWithResourceUsage.ResourceUsage(40532) > ResourceQuota(0)\n",
      "Resource CPU RAM: functionWithResourceUsage.ResourceUsage(10133) > ResourceQuota(0)\n"
     ]
    },
    {
     "name": "stdout",
     "output_type": "stream",
     "text": [
      "\n",
      "bestTest = 0.07942605177\n",
      "bestIteration = 1838\n",
      "\n",
      "Training on fold [1/3]\n"
     ]
    },
    {
     "name": "stderr",
     "output_type": "stream",
     "text": [
      "CatBoost is using more CPU RAM (1.08GiB) than the limit (512MiB)\n",
      "CatBoost is using more CPU RAM (1.08GiB) than the limit (512MiB)\n",
      "CatBoost is using more CPU RAM (1.08GiB) than the limit (1GiB)\n",
      "Resource CPU RAM: functionWithResourceUsage.ResourceUsage(137916) > ResourceQuota(0)\n",
      "Resource CPU RAM: functionWithResourceUsage.ResourceUsage(137916) > ResourceQuota(0)\n",
      "Resource CPU RAM: functionWithResourceUsage.ResourceUsage(137916) > ResourceQuota(0)\n",
      "Resource CPU RAM: functionWithResourceUsage.ResourceUsage(137916) > ResourceQuota(0)\n",
      "Resource CPU RAM: functionWithResourceUsage.ResourceUsage(137916) > ResourceQuota(0)\n",
      "Resource CPU RAM: functionWithResourceUsage.ResourceUsage(137916) > ResourceQuota(0)\n",
      "Resource CPU RAM: functionWithResourceUsage.ResourceUsage(137916) > ResourceQuota(0)\n",
      "Resource CPU RAM: functionWithResourceUsage.ResourceUsage(137916) > ResourceQuota(0)\n",
      "Resource CPU RAM: functionWithResourceUsage.ResourceUsage(729612) > ResourceQuota(0)\n",
      "Resource CPU RAM: functionWithResourceUsage.ResourceUsage(729612) > ResourceQuota(0)\n",
      "Resource CPU RAM: functionWithResourceUsage.ResourceUsage(729612) > ResourceQuota(0)\n",
      "Resource CPU RAM: functionWithResourceUsage.ResourceUsage(729612) > ResourceQuota(0)\n",
      "Resource CPU RAM: functionWithResourceUsage.ResourceUsage(729612) > ResourceQuota(0)\n",
      "Resource CPU RAM: functionWithResourceUsage.ResourceUsage(729612) > ResourceQuota(0)\n",
      "Resource CPU RAM: functionWithResourceUsage.ResourceUsage(729612) > ResourceQuota(0)\n",
      "Resource CPU RAM: functionWithResourceUsage.ResourceUsage(729612) > ResourceQuota(0)\n",
      "Resource CPU RAM: functionWithResourceUsage.ResourceUsage(729612) > ResourceQuota(0)\n",
      "Resource CPU RAM: functionWithResourceUsage.ResourceUsage(729612) > ResourceQuota(0)\n",
      "CatBoost is using more CPU RAM (1.08GiB) than the limit (1GiB)\n",
      "Resource CPU RAM: functionWithResourceUsage.ResourceUsage(20267) > ResourceQuota(0)\n",
      "Resource CPU RAM: functionWithResourceUsage.ResourceUsage(20267) > ResourceQuota(0)\n",
      "Resource CPU RAM: functionWithResourceUsage.ResourceUsage(20267) > ResourceQuota(0)\n",
      "Resource CPU RAM: functionWithResourceUsage.ResourceUsage(20267) > ResourceQuota(0)\n",
      "Resource CPU RAM: functionWithResourceUsage.ResourceUsage(20267) > ResourceQuota(0)\n",
      "Resource CPU RAM: functionWithResourceUsage.ResourceUsage(20267) > ResourceQuota(0)\n",
      "Resource CPU RAM: functionWithResourceUsage.ResourceUsage(20267) > ResourceQuota(0)\n",
      "Resource CPU RAM: functionWithResourceUsage.ResourceUsage(81068) > ResourceQuota(0)\n",
      "Resource CPU RAM: functionWithResourceUsage.ResourceUsage(81068) > ResourceQuota(0)\n",
      "Resource CPU RAM: functionWithResourceUsage.ResourceUsage(81068) > ResourceQuota(0)\n",
      "Resource CPU RAM: functionWithResourceUsage.ResourceUsage(81068) > ResourceQuota(0)\n",
      "Resource CPU RAM: functionWithResourceUsage.ResourceUsage(81068) > ResourceQuota(0)\n",
      "Resource CPU RAM: functionWithResourceUsage.ResourceUsage(81068) > ResourceQuota(0)\n",
      "Resource CPU RAM: functionWithResourceUsage.ResourceUsage(81068) > ResourceQuota(0)\n",
      "Resource CPU RAM: functionWithResourceUsage.ResourceUsage(81068) > ResourceQuota(0)\n",
      "Resource CPU RAM: functionWithResourceUsage.ResourceUsage(20267) > ResourceQuota(0)\n",
      "CatBoost is using more CPU RAM (1.08GiB) than the limit (1GiB)\n",
      "Resource CPU RAM: functionWithResourceUsage.ResourceUsage(10136) > ResourceQuota(0)\n",
      "Resource CPU RAM: functionWithResourceUsage.ResourceUsage(10136) > ResourceQuota(0)\n",
      "Resource CPU RAM: functionWithResourceUsage.ResourceUsage(10136) > ResourceQuota(0)\n",
      "Resource CPU RAM: functionWithResourceUsage.ResourceUsage(10136) > ResourceQuota(0)\n",
      "Resource CPU RAM: functionWithResourceUsage.ResourceUsage(10136) > ResourceQuota(0)\n",
      "Resource CPU RAM: functionWithResourceUsage.ResourceUsage(10136) > ResourceQuota(0)\n",
      "Resource CPU RAM: functionWithResourceUsage.ResourceUsage(10136) > ResourceQuota(0)\n",
      "Resource CPU RAM: functionWithResourceUsage.ResourceUsage(10136) > ResourceQuota(0)\n",
      "Resource CPU RAM: functionWithResourceUsage.ResourceUsage(364788) > ResourceQuota(0)\n",
      "Resource CPU RAM: functionWithResourceUsage.ResourceUsage(364788) > ResourceQuota(0)\n",
      "Resource CPU RAM: functionWithResourceUsage.ResourceUsage(364788) > ResourceQuota(0)\n",
      "Resource CPU RAM: functionWithResourceUsage.ResourceUsage(364788) > ResourceQuota(0)\n",
      "Resource CPU RAM: functionWithResourceUsage.ResourceUsage(364788) > ResourceQuota(0)\n",
      "Resource CPU RAM: functionWithResourceUsage.ResourceUsage(364788) > ResourceQuota(0)\n",
      "Resource CPU RAM: functionWithResourceUsage.ResourceUsage(364788) > ResourceQuota(0)\n",
      "Resource CPU RAM: functionWithResourceUsage.ResourceUsage(364788) > ResourceQuota(0)\n",
      "Resource CPU RAM: functionWithResourceUsage.ResourceUsage(364788) > ResourceQuota(0)\n",
      "Resource CPU RAM: functionWithResourceUsage.ResourceUsage(364788) > ResourceQuota(0)\n",
      "CatBoost is using more CPU RAM (1.08GiB) than the limit (1GiB)\n",
      "Resource CPU RAM: functionWithResourceUsage.ResourceUsage(10133) > ResourceQuota(0)\n",
      "Resource CPU RAM: functionWithResourceUsage.ResourceUsage(10133) > ResourceQuota(0)\n",
      "Resource CPU RAM: functionWithResourceUsage.ResourceUsage(10133) > ResourceQuota(0)\n",
      "Resource CPU RAM: functionWithResourceUsage.ResourceUsage(10133) > ResourceQuota(0)\n",
      "Resource CPU RAM: functionWithResourceUsage.ResourceUsage(10133) > ResourceQuota(0)\n",
      "Resource CPU RAM: functionWithResourceUsage.ResourceUsage(10133) > ResourceQuota(0)\n",
      "Resource CPU RAM: functionWithResourceUsage.ResourceUsage(10133) > ResourceQuota(0)\n",
      "Resource CPU RAM: functionWithResourceUsage.ResourceUsage(40532) > ResourceQuota(0)\n",
      "Resource CPU RAM: functionWithResourceUsage.ResourceUsage(40532) > ResourceQuota(0)\n",
      "Resource CPU RAM: functionWithResourceUsage.ResourceUsage(40532) > ResourceQuota(0)\n",
      "Resource CPU RAM: functionWithResourceUsage.ResourceUsage(40532) > ResourceQuota(0)\n",
      "Resource CPU RAM: functionWithResourceUsage.ResourceUsage(40532) > ResourceQuota(0)\n",
      "Resource CPU RAM: functionWithResourceUsage.ResourceUsage(40532) > ResourceQuota(0)\n",
      "Resource CPU RAM: functionWithResourceUsage.ResourceUsage(40532) > ResourceQuota(0)\n",
      "Resource CPU RAM: functionWithResourceUsage.ResourceUsage(40532) > ResourceQuota(0)\n",
      "Resource CPU RAM: functionWithResourceUsage.ResourceUsage(10133) > ResourceQuota(0)\n"
     ]
    },
    {
     "name": "stdout",
     "output_type": "stream",
     "text": [
      "\n",
      "bestTest = 0.1108393223\n",
      "bestIteration = 1838\n",
      "\n",
      "Training on fold [2/3]\n"
     ]
    },
    {
     "name": "stderr",
     "output_type": "stream",
     "text": [
      "CatBoost is using more CPU RAM (1.08GiB) than the limit (512MiB)\n",
      "CatBoost is using more CPU RAM (1.08GiB) than the limit (512MiB)\n",
      "CatBoost is using more CPU RAM (1.08GiB) than the limit (1GiB)\n",
      "Resource CPU RAM: functionWithResourceUsage.ResourceUsage(188576) > ResourceQuota(0)\n",
      "Resource CPU RAM: functionWithResourceUsage.ResourceUsage(188576) > ResourceQuota(0)\n",
      "Resource CPU RAM: functionWithResourceUsage.ResourceUsage(188576) > ResourceQuota(0)\n",
      "Resource CPU RAM: functionWithResourceUsage.ResourceUsage(188576) > ResourceQuota(0)\n",
      "Resource CPU RAM: functionWithResourceUsage.ResourceUsage(188576) > ResourceQuota(0)\n",
      "Resource CPU RAM: functionWithResourceUsage.ResourceUsage(188576) > ResourceQuota(0)\n",
      "Resource CPU RAM: functionWithResourceUsage.ResourceUsage(188576) > ResourceQuota(0)\n",
      "Resource CPU RAM: functionWithResourceUsage.ResourceUsage(188576) > ResourceQuota(0)\n",
      "Resource CPU RAM: functionWithResourceUsage.ResourceUsage(1094400) > ResourceQuota(0)\n",
      "Resource CPU RAM: functionWithResourceUsage.ResourceUsage(1094400) > ResourceQuota(0)\n",
      "Resource CPU RAM: functionWithResourceUsage.ResourceUsage(1094400) > ResourceQuota(0)\n",
      "Resource CPU RAM: functionWithResourceUsage.ResourceUsage(1094400) > ResourceQuota(0)\n",
      "Resource CPU RAM: functionWithResourceUsage.ResourceUsage(1094400) > ResourceQuota(0)\n",
      "Resource CPU RAM: functionWithResourceUsage.ResourceUsage(1094400) > ResourceQuota(0)\n",
      "Resource CPU RAM: functionWithResourceUsage.ResourceUsage(1094400) > ResourceQuota(0)\n",
      "Resource CPU RAM: functionWithResourceUsage.ResourceUsage(1094400) > ResourceQuota(0)\n",
      "Resource CPU RAM: functionWithResourceUsage.ResourceUsage(1094400) > ResourceQuota(0)\n",
      "Resource CPU RAM: functionWithResourceUsage.ResourceUsage(1094400) > ResourceQuota(0)\n",
      "CatBoost is using more CPU RAM (1.08GiB) than the limit (1GiB)\n",
      "Resource CPU RAM: functionWithResourceUsage.ResourceUsage(30400) > ResourceQuota(0)\n",
      "Resource CPU RAM: functionWithResourceUsage.ResourceUsage(30400) > ResourceQuota(0)\n",
      "Resource CPU RAM: functionWithResourceUsage.ResourceUsage(30400) > ResourceQuota(0)\n",
      "Resource CPU RAM: functionWithResourceUsage.ResourceUsage(30400) > ResourceQuota(0)\n",
      "Resource CPU RAM: functionWithResourceUsage.ResourceUsage(30400) > ResourceQuota(0)\n",
      "Resource CPU RAM: functionWithResourceUsage.ResourceUsage(30400) > ResourceQuota(0)\n",
      "Resource CPU RAM: functionWithResourceUsage.ResourceUsage(30400) > ResourceQuota(0)\n",
      "Resource CPU RAM: functionWithResourceUsage.ResourceUsage(121600) > ResourceQuota(0)\n",
      "Resource CPU RAM: functionWithResourceUsage.ResourceUsage(121600) > ResourceQuota(0)\n",
      "Resource CPU RAM: functionWithResourceUsage.ResourceUsage(121600) > ResourceQuota(0)\n",
      "Resource CPU RAM: functionWithResourceUsage.ResourceUsage(121600) > ResourceQuota(0)\n",
      "Resource CPU RAM: functionWithResourceUsage.ResourceUsage(121600) > ResourceQuota(0)\n",
      "Resource CPU RAM: functionWithResourceUsage.ResourceUsage(121600) > ResourceQuota(0)\n",
      "Resource CPU RAM: functionWithResourceUsage.ResourceUsage(121600) > ResourceQuota(0)\n",
      "Resource CPU RAM: functionWithResourceUsage.ResourceUsage(121600) > ResourceQuota(0)\n",
      "Resource CPU RAM: functionWithResourceUsage.ResourceUsage(30400) > ResourceQuota(0)\n",
      "CatBoost is using more CPU RAM (1.08GiB) than the limit (1GiB)\n",
      "Resource CPU RAM: functionWithResourceUsage.ResourceUsage(10136) > ResourceQuota(0)\n",
      "Resource CPU RAM: functionWithResourceUsage.ResourceUsage(10136) > ResourceQuota(0)\n",
      "Resource CPU RAM: functionWithResourceUsage.ResourceUsage(10136) > ResourceQuota(0)\n",
      "Resource CPU RAM: functionWithResourceUsage.ResourceUsage(10136) > ResourceQuota(0)\n",
      "Resource CPU RAM: functionWithResourceUsage.ResourceUsage(10136) > ResourceQuota(0)\n",
      "Resource CPU RAM: functionWithResourceUsage.ResourceUsage(10136) > ResourceQuota(0)\n",
      "Resource CPU RAM: functionWithResourceUsage.ResourceUsage(10136) > ResourceQuota(0)\n",
      "Resource CPU RAM: functionWithResourceUsage.ResourceUsage(10136) > ResourceQuota(0)\n",
      "Resource CPU RAM: functionWithResourceUsage.ResourceUsage(364788) > ResourceQuota(0)\n",
      "Resource CPU RAM: functionWithResourceUsage.ResourceUsage(364788) > ResourceQuota(0)\n",
      "Resource CPU RAM: functionWithResourceUsage.ResourceUsage(364788) > ResourceQuota(0)\n",
      "Resource CPU RAM: functionWithResourceUsage.ResourceUsage(364788) > ResourceQuota(0)\n",
      "Resource CPU RAM: functionWithResourceUsage.ResourceUsage(364788) > ResourceQuota(0)\n",
      "Resource CPU RAM: functionWithResourceUsage.ResourceUsage(364788) > ResourceQuota(0)\n",
      "Resource CPU RAM: functionWithResourceUsage.ResourceUsage(364788) > ResourceQuota(0)\n",
      "Resource CPU RAM: functionWithResourceUsage.ResourceUsage(364788) > ResourceQuota(0)\n",
      "Resource CPU RAM: functionWithResourceUsage.ResourceUsage(364788) > ResourceQuota(0)\n",
      "Resource CPU RAM: functionWithResourceUsage.ResourceUsage(364788) > ResourceQuota(0)\n",
      "CatBoost is using more CPU RAM (1.08GiB) than the limit (1GiB)\n",
      "Resource CPU RAM: functionWithResourceUsage.ResourceUsage(10133) > ResourceQuota(0)\n",
      "Resource CPU RAM: functionWithResourceUsage.ResourceUsage(10133) > ResourceQuota(0)\n",
      "Resource CPU RAM: functionWithResourceUsage.ResourceUsage(10133) > ResourceQuota(0)\n",
      "Resource CPU RAM: functionWithResourceUsage.ResourceUsage(10133) > ResourceQuota(0)\n",
      "Resource CPU RAM: functionWithResourceUsage.ResourceUsage(10133) > ResourceQuota(0)\n",
      "Resource CPU RAM: functionWithResourceUsage.ResourceUsage(10133) > ResourceQuota(0)\n",
      "Resource CPU RAM: functionWithResourceUsage.ResourceUsage(10133) > ResourceQuota(0)\n",
      "Resource CPU RAM: functionWithResourceUsage.ResourceUsage(40532) > ResourceQuota(0)\n",
      "Resource CPU RAM: functionWithResourceUsage.ResourceUsage(40532) > ResourceQuota(0)\n",
      "Resource CPU RAM: functionWithResourceUsage.ResourceUsage(40532) > ResourceQuota(0)\n",
      "Resource CPU RAM: functionWithResourceUsage.ResourceUsage(40532) > ResourceQuota(0)\n",
      "Resource CPU RAM: functionWithResourceUsage.ResourceUsage(40532) > ResourceQuota(0)\n",
      "Resource CPU RAM: functionWithResourceUsage.ResourceUsage(40532) > ResourceQuota(0)\n",
      "Resource CPU RAM: functionWithResourceUsage.ResourceUsage(40532) > ResourceQuota(0)\n",
      "Resource CPU RAM: functionWithResourceUsage.ResourceUsage(40532) > ResourceQuota(0)\n",
      "Resource CPU RAM: functionWithResourceUsage.ResourceUsage(10133) > ResourceQuota(0)\n"
     ]
    },
    {
     "name": "stdout",
     "output_type": "stream",
     "text": [
      "\n",
      "bestTest = 0.1173352135\n",
      "bestIteration = 1837\n",
      "\n",
      "Training on fold [0/3]\n"
     ]
    },
    {
     "name": "stderr",
     "output_type": "stream",
     "text": [
      "CatBoost is using more CPU RAM (1.08GiB) than the limit (512MiB)\n",
      "CatBoost is using more CPU RAM (1.08GiB) than the limit (512MiB)\n",
      "CatBoost is using more CPU RAM (1.08GiB) than the limit (1GiB)\n",
      "Resource CPU RAM: functionWithResourceUsage.ResourceUsage(87248) > ResourceQuota(0)\n",
      "Resource CPU RAM: functionWithResourceUsage.ResourceUsage(87248) > ResourceQuota(0)\n",
      "Resource CPU RAM: functionWithResourceUsage.ResourceUsage(87248) > ResourceQuota(0)\n",
      "Resource CPU RAM: functionWithResourceUsage.ResourceUsage(87248) > ResourceQuota(0)\n",
      "Resource CPU RAM: functionWithResourceUsage.ResourceUsage(87248) > ResourceQuota(0)\n",
      "Resource CPU RAM: functionWithResourceUsage.ResourceUsage(87248) > ResourceQuota(0)\n",
      "Resource CPU RAM: functionWithResourceUsage.ResourceUsage(87248) > ResourceQuota(0)\n",
      "Resource CPU RAM: functionWithResourceUsage.ResourceUsage(87248) > ResourceQuota(0)\n",
      "Resource CPU RAM: functionWithResourceUsage.ResourceUsage(364824) > ResourceQuota(0)\n",
      "Resource CPU RAM: functionWithResourceUsage.ResourceUsage(364824) > ResourceQuota(0)\n",
      "Resource CPU RAM: functionWithResourceUsage.ResourceUsage(364824) > ResourceQuota(0)\n",
      "Resource CPU RAM: functionWithResourceUsage.ResourceUsage(364824) > ResourceQuota(0)\n",
      "Resource CPU RAM: functionWithResourceUsage.ResourceUsage(364824) > ResourceQuota(0)\n",
      "Resource CPU RAM: functionWithResourceUsage.ResourceUsage(364824) > ResourceQuota(0)\n",
      "Resource CPU RAM: functionWithResourceUsage.ResourceUsage(364824) > ResourceQuota(0)\n",
      "Resource CPU RAM: functionWithResourceUsage.ResourceUsage(364824) > ResourceQuota(0)\n",
      "Resource CPU RAM: functionWithResourceUsage.ResourceUsage(364824) > ResourceQuota(0)\n",
      "Resource CPU RAM: functionWithResourceUsage.ResourceUsage(364824) > ResourceQuota(0)\n",
      "CatBoost is using more CPU RAM (1.08GiB) than the limit (1GiB)\n",
      "Resource CPU RAM: functionWithResourceUsage.ResourceUsage(10134) > ResourceQuota(0)\n",
      "Resource CPU RAM: functionWithResourceUsage.ResourceUsage(10134) > ResourceQuota(0)\n",
      "Resource CPU RAM: functionWithResourceUsage.ResourceUsage(10134) > ResourceQuota(0)\n",
      "Resource CPU RAM: functionWithResourceUsage.ResourceUsage(10134) > ResourceQuota(0)\n",
      "Resource CPU RAM: functionWithResourceUsage.ResourceUsage(10134) > ResourceQuota(0)\n",
      "Resource CPU RAM: functionWithResourceUsage.ResourceUsage(10134) > ResourceQuota(0)\n",
      "Resource CPU RAM: functionWithResourceUsage.ResourceUsage(10134) > ResourceQuota(0)\n",
      "Resource CPU RAM: functionWithResourceUsage.ResourceUsage(40536) > ResourceQuota(0)\n",
      "Resource CPU RAM: functionWithResourceUsage.ResourceUsage(40536) > ResourceQuota(0)\n",
      "Resource CPU RAM: functionWithResourceUsage.ResourceUsage(40536) > ResourceQuota(0)\n",
      "Resource CPU RAM: functionWithResourceUsage.ResourceUsage(40536) > ResourceQuota(0)\n",
      "Resource CPU RAM: functionWithResourceUsage.ResourceUsage(40536) > ResourceQuota(0)\n",
      "Resource CPU RAM: functionWithResourceUsage.ResourceUsage(40536) > ResourceQuota(0)\n",
      "Resource CPU RAM: functionWithResourceUsage.ResourceUsage(40536) > ResourceQuota(0)\n",
      "Resource CPU RAM: functionWithResourceUsage.ResourceUsage(10134) > ResourceQuota(0)\n",
      "CatBoost is using more CPU RAM (1.08GiB) than the limit (1GiB)\n",
      "Resource CPU RAM: functionWithResourceUsage.ResourceUsage(10136) > ResourceQuota(0)\n",
      "Resource CPU RAM: functionWithResourceUsage.ResourceUsage(10136) > ResourceQuota(0)\n",
      "Resource CPU RAM: functionWithResourceUsage.ResourceUsage(10136) > ResourceQuota(0)\n",
      "Resource CPU RAM: functionWithResourceUsage.ResourceUsage(10136) > ResourceQuota(0)\n",
      "Resource CPU RAM: functionWithResourceUsage.ResourceUsage(10136) > ResourceQuota(0)\n",
      "Resource CPU RAM: functionWithResourceUsage.ResourceUsage(10136) > ResourceQuota(0)\n",
      "Resource CPU RAM: functionWithResourceUsage.ResourceUsage(10136) > ResourceQuota(0)\n",
      "Resource CPU RAM: functionWithResourceUsage.ResourceUsage(10136) > ResourceQuota(0)\n",
      "Resource CPU RAM: functionWithResourceUsage.ResourceUsage(364788) > ResourceQuota(0)\n",
      "Resource CPU RAM: functionWithResourceUsage.ResourceUsage(364788) > ResourceQuota(0)\n",
      "Resource CPU RAM: functionWithResourceUsage.ResourceUsage(364788) > ResourceQuota(0)\n",
      "Resource CPU RAM: functionWithResourceUsage.ResourceUsage(364788) > ResourceQuota(0)\n",
      "Resource CPU RAM: functionWithResourceUsage.ResourceUsage(364788) > ResourceQuota(0)\n",
      "Resource CPU RAM: functionWithResourceUsage.ResourceUsage(364788) > ResourceQuota(0)\n",
      "Resource CPU RAM: functionWithResourceUsage.ResourceUsage(364788) > ResourceQuota(0)\n",
      "Resource CPU RAM: functionWithResourceUsage.ResourceUsage(364788) > ResourceQuota(0)\n",
      "Resource CPU RAM: functionWithResourceUsage.ResourceUsage(364788) > ResourceQuota(0)\n",
      "Resource CPU RAM: functionWithResourceUsage.ResourceUsage(364788) > ResourceQuota(0)\n",
      "CatBoost is using more CPU RAM (1.08GiB) than the limit (1GiB)\n",
      "Resource CPU RAM: functionWithResourceUsage.ResourceUsage(10133) > ResourceQuota(0)\n",
      "Resource CPU RAM: functionWithResourceUsage.ResourceUsage(10133) > ResourceQuota(0)\n",
      "Resource CPU RAM: functionWithResourceUsage.ResourceUsage(10133) > ResourceQuota(0)\n",
      "Resource CPU RAM: functionWithResourceUsage.ResourceUsage(10133) > ResourceQuota(0)\n",
      "Resource CPU RAM: functionWithResourceUsage.ResourceUsage(10133) > ResourceQuota(0)\n",
      "Resource CPU RAM: functionWithResourceUsage.ResourceUsage(10133) > ResourceQuota(0)\n",
      "Resource CPU RAM: functionWithResourceUsage.ResourceUsage(10133) > ResourceQuota(0)\n",
      "Resource CPU RAM: functionWithResourceUsage.ResourceUsage(40532) > ResourceQuota(0)\n",
      "Resource CPU RAM: functionWithResourceUsage.ResourceUsage(40532) > ResourceQuota(0)\n",
      "Resource CPU RAM: functionWithResourceUsage.ResourceUsage(40532) > ResourceQuota(0)\n",
      "Resource CPU RAM: functionWithResourceUsage.ResourceUsage(40532) > ResourceQuota(0)\n",
      "Resource CPU RAM: functionWithResourceUsage.ResourceUsage(40532) > ResourceQuota(0)\n",
      "Resource CPU RAM: functionWithResourceUsage.ResourceUsage(40532) > ResourceQuota(0)\n",
      "Resource CPU RAM: functionWithResourceUsage.ResourceUsage(40532) > ResourceQuota(0)\n",
      "Resource CPU RAM: functionWithResourceUsage.ResourceUsage(40532) > ResourceQuota(0)\n",
      "Resource CPU RAM: functionWithResourceUsage.ResourceUsage(10133) > ResourceQuota(0)\n"
     ]
    },
    {
     "name": "stdout",
     "output_type": "stream",
     "text": [
      "\n",
      "bestTest = 0.07834257673\n",
      "bestIteration = 3957\n",
      "\n",
      "Training on fold [1/3]\n"
     ]
    },
    {
     "name": "stderr",
     "output_type": "stream",
     "text": [
      "CatBoost is using more CPU RAM (1.08GiB) than the limit (512MiB)\n",
      "CatBoost is using more CPU RAM (1.08GiB) than the limit (512MiB)\n",
      "CatBoost is using more CPU RAM (1.08GiB) than the limit (1GiB)\n",
      "Resource CPU RAM: functionWithResourceUsage.ResourceUsage(137916) > ResourceQuota(0)\n",
      "Resource CPU RAM: functionWithResourceUsage.ResourceUsage(137916) > ResourceQuota(0)\n",
      "Resource CPU RAM: functionWithResourceUsage.ResourceUsage(137916) > ResourceQuota(0)\n",
      "Resource CPU RAM: functionWithResourceUsage.ResourceUsage(137916) > ResourceQuota(0)\n",
      "Resource CPU RAM: functionWithResourceUsage.ResourceUsage(137916) > ResourceQuota(0)\n",
      "Resource CPU RAM: functionWithResourceUsage.ResourceUsage(137916) > ResourceQuota(0)\n",
      "Resource CPU RAM: functionWithResourceUsage.ResourceUsage(137916) > ResourceQuota(0)\n",
      "Resource CPU RAM: functionWithResourceUsage.ResourceUsage(137916) > ResourceQuota(0)\n",
      "Resource CPU RAM: functionWithResourceUsage.ResourceUsage(729612) > ResourceQuota(0)\n",
      "Resource CPU RAM: functionWithResourceUsage.ResourceUsage(729612) > ResourceQuota(0)\n",
      "Resource CPU RAM: functionWithResourceUsage.ResourceUsage(729612) > ResourceQuota(0)\n",
      "Resource CPU RAM: functionWithResourceUsage.ResourceUsage(729612) > ResourceQuota(0)\n",
      "Resource CPU RAM: functionWithResourceUsage.ResourceUsage(729612) > ResourceQuota(0)\n",
      "Resource CPU RAM: functionWithResourceUsage.ResourceUsage(729612) > ResourceQuota(0)\n",
      "Resource CPU RAM: functionWithResourceUsage.ResourceUsage(729612) > ResourceQuota(0)\n",
      "Resource CPU RAM: functionWithResourceUsage.ResourceUsage(729612) > ResourceQuota(0)\n",
      "Resource CPU RAM: functionWithResourceUsage.ResourceUsage(729612) > ResourceQuota(0)\n",
      "Resource CPU RAM: functionWithResourceUsage.ResourceUsage(729612) > ResourceQuota(0)\n",
      "CatBoost is using more CPU RAM (1.08GiB) than the limit (1GiB)\n",
      "Resource CPU RAM: functionWithResourceUsage.ResourceUsage(20267) > ResourceQuota(0)\n",
      "Resource CPU RAM: functionWithResourceUsage.ResourceUsage(20267) > ResourceQuota(0)\n",
      "Resource CPU RAM: functionWithResourceUsage.ResourceUsage(20267) > ResourceQuota(0)\n",
      "Resource CPU RAM: functionWithResourceUsage.ResourceUsage(20267) > ResourceQuota(0)\n",
      "Resource CPU RAM: functionWithResourceUsage.ResourceUsage(20267) > ResourceQuota(0)\n",
      "Resource CPU RAM: functionWithResourceUsage.ResourceUsage(20267) > ResourceQuota(0)\n",
      "Resource CPU RAM: functionWithResourceUsage.ResourceUsage(20267) > ResourceQuota(0)\n",
      "Resource CPU RAM: functionWithResourceUsage.ResourceUsage(81068) > ResourceQuota(0)\n",
      "Resource CPU RAM: functionWithResourceUsage.ResourceUsage(81068) > ResourceQuota(0)\n",
      "Resource CPU RAM: functionWithResourceUsage.ResourceUsage(81068) > ResourceQuota(0)\n",
      "Resource CPU RAM: functionWithResourceUsage.ResourceUsage(81068) > ResourceQuota(0)\n",
      "Resource CPU RAM: functionWithResourceUsage.ResourceUsage(81068) > ResourceQuota(0)\n",
      "Resource CPU RAM: functionWithResourceUsage.ResourceUsage(81068) > ResourceQuota(0)\n",
      "Resource CPU RAM: functionWithResourceUsage.ResourceUsage(81068) > ResourceQuota(0)\n",
      "Resource CPU RAM: functionWithResourceUsage.ResourceUsage(81068) > ResourceQuota(0)\n",
      "Resource CPU RAM: functionWithResourceUsage.ResourceUsage(20267) > ResourceQuota(0)\n",
      "CatBoost is using more CPU RAM (1.08GiB) than the limit (1GiB)\n",
      "Resource CPU RAM: functionWithResourceUsage.ResourceUsage(10136) > ResourceQuota(0)\n",
      "Resource CPU RAM: functionWithResourceUsage.ResourceUsage(10136) > ResourceQuota(0)\n",
      "Resource CPU RAM: functionWithResourceUsage.ResourceUsage(10136) > ResourceQuota(0)\n",
      "Resource CPU RAM: functionWithResourceUsage.ResourceUsage(10136) > ResourceQuota(0)\n",
      "Resource CPU RAM: functionWithResourceUsage.ResourceUsage(10136) > ResourceQuota(0)\n",
      "Resource CPU RAM: functionWithResourceUsage.ResourceUsage(10136) > ResourceQuota(0)\n",
      "Resource CPU RAM: functionWithResourceUsage.ResourceUsage(10136) > ResourceQuota(0)\n",
      "Resource CPU RAM: functionWithResourceUsage.ResourceUsage(10136) > ResourceQuota(0)\n",
      "Resource CPU RAM: functionWithResourceUsage.ResourceUsage(364788) > ResourceQuota(0)\n",
      "Resource CPU RAM: functionWithResourceUsage.ResourceUsage(364788) > ResourceQuota(0)\n",
      "Resource CPU RAM: functionWithResourceUsage.ResourceUsage(364788) > ResourceQuota(0)\n",
      "Resource CPU RAM: functionWithResourceUsage.ResourceUsage(364788) > ResourceQuota(0)\n",
      "Resource CPU RAM: functionWithResourceUsage.ResourceUsage(364788) > ResourceQuota(0)\n",
      "Resource CPU RAM: functionWithResourceUsage.ResourceUsage(364788) > ResourceQuota(0)\n",
      "Resource CPU RAM: functionWithResourceUsage.ResourceUsage(364788) > ResourceQuota(0)\n",
      "Resource CPU RAM: functionWithResourceUsage.ResourceUsage(364788) > ResourceQuota(0)\n",
      "Resource CPU RAM: functionWithResourceUsage.ResourceUsage(364788) > ResourceQuota(0)\n",
      "Resource CPU RAM: functionWithResourceUsage.ResourceUsage(364788) > ResourceQuota(0)\n",
      "CatBoost is using more CPU RAM (1.08GiB) than the limit (1GiB)\n",
      "Resource CPU RAM: functionWithResourceUsage.ResourceUsage(10133) > ResourceQuota(0)\n",
      "Resource CPU RAM: functionWithResourceUsage.ResourceUsage(10133) > ResourceQuota(0)\n",
      "Resource CPU RAM: functionWithResourceUsage.ResourceUsage(10133) > ResourceQuota(0)\n",
      "Resource CPU RAM: functionWithResourceUsage.ResourceUsage(10133) > ResourceQuota(0)\n",
      "Resource CPU RAM: functionWithResourceUsage.ResourceUsage(10133) > ResourceQuota(0)\n",
      "Resource CPU RAM: functionWithResourceUsage.ResourceUsage(10133) > ResourceQuota(0)\n",
      "Resource CPU RAM: functionWithResourceUsage.ResourceUsage(10133) > ResourceQuota(0)\n",
      "Resource CPU RAM: functionWithResourceUsage.ResourceUsage(40532) > ResourceQuota(0)\n",
      "Resource CPU RAM: functionWithResourceUsage.ResourceUsage(40532) > ResourceQuota(0)\n",
      "Resource CPU RAM: functionWithResourceUsage.ResourceUsage(40532) > ResourceQuota(0)\n",
      "Resource CPU RAM: functionWithResourceUsage.ResourceUsage(40532) > ResourceQuota(0)\n",
      "Resource CPU RAM: functionWithResourceUsage.ResourceUsage(40532) > ResourceQuota(0)\n",
      "Resource CPU RAM: functionWithResourceUsage.ResourceUsage(40532) > ResourceQuota(0)\n",
      "Resource CPU RAM: functionWithResourceUsage.ResourceUsage(40532) > ResourceQuota(0)\n",
      "Resource CPU RAM: functionWithResourceUsage.ResourceUsage(40532) > ResourceQuota(0)\n",
      "Resource CPU RAM: functionWithResourceUsage.ResourceUsage(10133) > ResourceQuota(0)\n"
     ]
    },
    {
     "name": "stdout",
     "output_type": "stream",
     "text": [
      "\n",
      "bestTest = 0.122024725\n",
      "bestIteration = 1222\n",
      "\n",
      "Training on fold [2/3]\n"
     ]
    },
    {
     "name": "stderr",
     "output_type": "stream",
     "text": [
      "CatBoost is using more CPU RAM (1.08GiB) than the limit (512MiB)\n",
      "CatBoost is using more CPU RAM (1.08GiB) than the limit (512MiB)\n",
      "CatBoost is using more CPU RAM (1.08GiB) than the limit (1GiB)\n",
      "Resource CPU RAM: functionWithResourceUsage.ResourceUsage(188576) > ResourceQuota(0)\n",
      "Resource CPU RAM: functionWithResourceUsage.ResourceUsage(188576) > ResourceQuota(0)\n",
      "Resource CPU RAM: functionWithResourceUsage.ResourceUsage(188576) > ResourceQuota(0)\n",
      "Resource CPU RAM: functionWithResourceUsage.ResourceUsage(188576) > ResourceQuota(0)\n",
      "Resource CPU RAM: functionWithResourceUsage.ResourceUsage(188576) > ResourceQuota(0)\n",
      "Resource CPU RAM: functionWithResourceUsage.ResourceUsage(188576) > ResourceQuota(0)\n",
      "Resource CPU RAM: functionWithResourceUsage.ResourceUsage(188576) > ResourceQuota(0)\n",
      "Resource CPU RAM: functionWithResourceUsage.ResourceUsage(188576) > ResourceQuota(0)\n",
      "Resource CPU RAM: functionWithResourceUsage.ResourceUsage(1094400) > ResourceQuota(0)\n",
      "Resource CPU RAM: functionWithResourceUsage.ResourceUsage(1094400) > ResourceQuota(0)\n",
      "Resource CPU RAM: functionWithResourceUsage.ResourceUsage(1094400) > ResourceQuota(0)\n",
      "Resource CPU RAM: functionWithResourceUsage.ResourceUsage(1094400) > ResourceQuota(0)\n",
      "Resource CPU RAM: functionWithResourceUsage.ResourceUsage(1094400) > ResourceQuota(0)\n",
      "Resource CPU RAM: functionWithResourceUsage.ResourceUsage(1094400) > ResourceQuota(0)\n",
      "Resource CPU RAM: functionWithResourceUsage.ResourceUsage(1094400) > ResourceQuota(0)\n",
      "Resource CPU RAM: functionWithResourceUsage.ResourceUsage(1094400) > ResourceQuota(0)\n",
      "Resource CPU RAM: functionWithResourceUsage.ResourceUsage(1094400) > ResourceQuota(0)\n",
      "Resource CPU RAM: functionWithResourceUsage.ResourceUsage(1094400) > ResourceQuota(0)\n",
      "CatBoost is using more CPU RAM (1.08GiB) than the limit (1GiB)\n",
      "Resource CPU RAM: functionWithResourceUsage.ResourceUsage(30400) > ResourceQuota(0)\n",
      "Resource CPU RAM: functionWithResourceUsage.ResourceUsage(30400) > ResourceQuota(0)\n",
      "Resource CPU RAM: functionWithResourceUsage.ResourceUsage(30400) > ResourceQuota(0)\n",
      "Resource CPU RAM: functionWithResourceUsage.ResourceUsage(30400) > ResourceQuota(0)\n",
      "Resource CPU RAM: functionWithResourceUsage.ResourceUsage(30400) > ResourceQuota(0)\n",
      "Resource CPU RAM: functionWithResourceUsage.ResourceUsage(30400) > ResourceQuota(0)\n",
      "Resource CPU RAM: functionWithResourceUsage.ResourceUsage(30400) > ResourceQuota(0)\n",
      "Resource CPU RAM: functionWithResourceUsage.ResourceUsage(121600) > ResourceQuota(0)\n",
      "Resource CPU RAM: functionWithResourceUsage.ResourceUsage(121600) > ResourceQuota(0)\n",
      "Resource CPU RAM: functionWithResourceUsage.ResourceUsage(121600) > ResourceQuota(0)\n",
      "Resource CPU RAM: functionWithResourceUsage.ResourceUsage(121600) > ResourceQuota(0)\n",
      "Resource CPU RAM: functionWithResourceUsage.ResourceUsage(121600) > ResourceQuota(0)\n",
      "Resource CPU RAM: functionWithResourceUsage.ResourceUsage(121600) > ResourceQuota(0)\n",
      "Resource CPU RAM: functionWithResourceUsage.ResourceUsage(121600) > ResourceQuota(0)\n",
      "Resource CPU RAM: functionWithResourceUsage.ResourceUsage(121600) > ResourceQuota(0)\n",
      "Resource CPU RAM: functionWithResourceUsage.ResourceUsage(30400) > ResourceQuota(0)\n",
      "CatBoost is using more CPU RAM (1.08GiB) than the limit (1GiB)\n",
      "Resource CPU RAM: functionWithResourceUsage.ResourceUsage(10136) > ResourceQuota(0)\n",
      "Resource CPU RAM: functionWithResourceUsage.ResourceUsage(10136) > ResourceQuota(0)\n",
      "Resource CPU RAM: functionWithResourceUsage.ResourceUsage(10136) > ResourceQuota(0)\n",
      "Resource CPU RAM: functionWithResourceUsage.ResourceUsage(10136) > ResourceQuota(0)\n",
      "Resource CPU RAM: functionWithResourceUsage.ResourceUsage(10136) > ResourceQuota(0)\n",
      "Resource CPU RAM: functionWithResourceUsage.ResourceUsage(10136) > ResourceQuota(0)\n",
      "Resource CPU RAM: functionWithResourceUsage.ResourceUsage(10136) > ResourceQuota(0)\n",
      "Resource CPU RAM: functionWithResourceUsage.ResourceUsage(10136) > ResourceQuota(0)\n",
      "Resource CPU RAM: functionWithResourceUsage.ResourceUsage(364788) > ResourceQuota(0)\n",
      "Resource CPU RAM: functionWithResourceUsage.ResourceUsage(364788) > ResourceQuota(0)\n",
      "Resource CPU RAM: functionWithResourceUsage.ResourceUsage(364788) > ResourceQuota(0)\n",
      "Resource CPU RAM: functionWithResourceUsage.ResourceUsage(364788) > ResourceQuota(0)\n",
      "Resource CPU RAM: functionWithResourceUsage.ResourceUsage(364788) > ResourceQuota(0)\n",
      "Resource CPU RAM: functionWithResourceUsage.ResourceUsage(364788) > ResourceQuota(0)\n",
      "Resource CPU RAM: functionWithResourceUsage.ResourceUsage(364788) > ResourceQuota(0)\n",
      "Resource CPU RAM: functionWithResourceUsage.ResourceUsage(364788) > ResourceQuota(0)\n",
      "Resource CPU RAM: functionWithResourceUsage.ResourceUsage(364788) > ResourceQuota(0)\n",
      "Resource CPU RAM: functionWithResourceUsage.ResourceUsage(364788) > ResourceQuota(0)\n",
      "CatBoost is using more CPU RAM (1.08GiB) than the limit (1GiB)\n",
      "Resource CPU RAM: functionWithResourceUsage.ResourceUsage(10133) > ResourceQuota(0)\n",
      "Resource CPU RAM: functionWithResourceUsage.ResourceUsage(10133) > ResourceQuota(0)\n",
      "Resource CPU RAM: functionWithResourceUsage.ResourceUsage(10133) > ResourceQuota(0)\n",
      "Resource CPU RAM: functionWithResourceUsage.ResourceUsage(10133) > ResourceQuota(0)\n",
      "Resource CPU RAM: functionWithResourceUsage.ResourceUsage(10133) > ResourceQuota(0)\n",
      "Resource CPU RAM: functionWithResourceUsage.ResourceUsage(10133) > ResourceQuota(0)\n",
      "Resource CPU RAM: functionWithResourceUsage.ResourceUsage(10133) > ResourceQuota(0)\n",
      "Resource CPU RAM: functionWithResourceUsage.ResourceUsage(40532) > ResourceQuota(0)\n",
      "Resource CPU RAM: functionWithResourceUsage.ResourceUsage(40532) > ResourceQuota(0)\n",
      "Resource CPU RAM: functionWithResourceUsage.ResourceUsage(40532) > ResourceQuota(0)\n",
      "Resource CPU RAM: functionWithResourceUsage.ResourceUsage(40532) > ResourceQuota(0)\n",
      "Resource CPU RAM: functionWithResourceUsage.ResourceUsage(40532) > ResourceQuota(0)\n",
      "Resource CPU RAM: functionWithResourceUsage.ResourceUsage(40532) > ResourceQuota(0)\n",
      "Resource CPU RAM: functionWithResourceUsage.ResourceUsage(40532) > ResourceQuota(0)\n",
      "Resource CPU RAM: functionWithResourceUsage.ResourceUsage(40532) > ResourceQuota(0)\n",
      "Resource CPU RAM: functionWithResourceUsage.ResourceUsage(10133) > ResourceQuota(0)\n"
     ]
    },
    {
     "name": "stdout",
     "output_type": "stream",
     "text": [
      "\n",
      "bestTest = 0.0993339348\n",
      "bestIteration = 4344\n",
      "\n",
      "best value 0.0771707211009119\n",
      "{'iterations': 6689, 'learning_rate': 0.01585832300242227, 'objective': 'MAPE', 'depth': 2, 'boosting_type': 'Plain', 'bootstrap_type': 'MVS'}\n"
     ]
    }
   ],
   "source": [
    "ans=[]\n",
    "if type(df_train.index)==pd.RangeIndex:\n",
    "    df_train=df_train.set_index('date')\n",
    "days=(df_test.index[-1]-df_train.index[-1]).days\n",
    "df_train=df_train.reset_index()\n",
    "for i,p in enumerate(productlist):\n",
    "    ans.append(HybridModels(p,days))\n",
    "#submission=pd.concat([ans],ignore_index=True).sort_values(['id'])"
   ]
  },
  {
   "cell_type": "code",
   "execution_count": 67,
   "id": "b1b9f77c",
   "metadata": {
    "execution": {
     "iopub.execute_input": "2025-01-30T16:00:15.164166Z",
     "iopub.status.busy": "2025-01-30T16:00:15.163726Z",
     "iopub.status.idle": "2025-01-30T16:00:15.444133Z",
     "shell.execute_reply": "2025-01-30T16:00:15.442543Z"
    },
    "papermill": {
     "duration": 0.316861,
     "end_time": "2025-01-30T16:00:15.445949",
     "exception": false,
     "start_time": "2025-01-30T16:00:15.129088",
     "status": "completed"
    },
    "tags": []
   },
   "outputs": [],
   "source": [
    "submission=pd.concat([ans[0],ans[1],ans[2],ans[3],ans[4]],axis=0,ignore_index=True)[['id','num_sold']]    \n",
    "submission=submission.drop_duplicates()\n",
    "submission['num_sold']=np.expm1(submission['num_sold'])\n",
    "submission=submission.sort_values(['id'])  \n",
    "n_round=np.round(submission['num_sold'],0)\n",
    "n_fix=np.fix(submission['num_sold'])\n",
    "\n",
    "submission['num_sold']=n_fix\n",
    "submission.to_csv('TS_Hybrid_fix_2.csv',index=False)\n",
    "submission['num_sold']=n_round\n",
    "submission.to_csv('TS_Hybrid_round_2.csv',index=False)\n"
   ]
  }
 ],
 "metadata": {
  "kaggle": {
   "accelerator": "none",
   "dataSources": [
    {
     "databundleVersionId": 10652996,
     "sourceId": 85723,
     "sourceType": "competition"
    },
    {
     "datasetId": 6470396,
     "sourceId": 10452614,
     "sourceType": "datasetVersion"
    }
   ],
   "dockerImageVersionId": 30822,
   "isGpuEnabled": false,
   "isInternetEnabled": true,
   "language": "python",
   "sourceType": "notebook"
  },
  "kernelspec": {
   "display_name": "Python 3",
   "language": "python",
   "name": "python3"
  },
  "language_info": {
   "codemirror_mode": {
    "name": "ipython",
    "version": 3
   },
   "file_extension": ".py",
   "mimetype": "text/x-python",
   "name": "python",
   "nbconvert_exporter": "python",
   "pygments_lexer": "ipython3",
   "version": "3.10.12"
  },
  "papermill": {
   "default_parameters": {},
   "duration": 5205.565658,
   "end_time": "2025-01-30T16:00:16.509587",
   "environment_variables": {},
   "exception": null,
   "input_path": "__notebook__.ipynb",
   "output_path": "__notebook__.ipynb",
   "parameters": {},
   "start_time": "2025-01-30T14:33:30.943929",
   "version": "2.6.0"
  }
 },
 "nbformat": 4,
 "nbformat_minor": 5
}
