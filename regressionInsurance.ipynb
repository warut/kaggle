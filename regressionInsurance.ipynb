{
 "cells": [
  {
   "cell_type": "code",
   "execution_count": 1,
   "id": "0fb4cdab",
   "metadata": {
    "_cell_guid": "b1076dfc-b9ad-4769-8c92-a6c4dae69d19",
    "_uuid": "8f2839f25d086af736a60e9eeb907d3b93b6e0e5",
    "execution": {
     "iopub.execute_input": "2024-12-30T10:39:10.275904Z",
     "iopub.status.busy": "2024-12-30T10:39:10.275623Z",
     "iopub.status.idle": "2024-12-30T10:39:11.422668Z",
     "shell.execute_reply": "2024-12-30T10:39:11.421755Z"
    },
    "papermill": {
     "duration": 1.161193,
     "end_time": "2024-12-30T10:39:11.424422",
     "exception": false,
     "start_time": "2024-12-30T10:39:10.263229",
     "status": "completed"
    },
    "tags": []
   },
   "outputs": [
    {
     "name": "stdout",
     "output_type": "stream",
     "text": [
      "/kaggle/input/catfitmodel/catfit\n",
      "/kaggle/input/playground-series-s4e12/sample_submission.csv\n",
      "/kaggle/input/playground-series-s4e12/train.csv\n",
      "/kaggle/input/playground-series-s4e12/test.csv\n"
     ]
    }
   ],
   "source": [
    "# This Python 3 environment comes with many helpful analytics libraries installed\n",
    "# It is defined by the kaggle/python Docker image: https://github.com/kaggle/docker-python\n",
    "# For example, here's several helpful packages to load\n",
    "\n",
    "import numpy as np # linear algebra\n",
    "import pandas as pd # data processing, CSV file I/O (e.g. pd.read_csv)\n",
    "\n",
    "# Input data files are available in the read-only \"../input/\" directory\n",
    "# For example, running this (by clicking run or pressing Shift+Enter) will list all files under the input directory\n",
    "\n",
    "import os\n",
    "for dirname, _, filenames in os.walk('/kaggle/input'):\n",
    "    for filename in filenames:\n",
    "        print(os.path.join(dirname, filename))\n",
    "\n",
    "# You can write up to 20GB to the current directory (/kaggle/working/) that gets preserved as output when you create a version using \"Save & Run All\" \n",
    "# You can also write temporary files to /kaggle/temp/, but they won't be saved outside of the current session"
   ]
  },
  {
   "cell_type": "code",
   "execution_count": 2,
   "id": "e83ba671",
   "metadata": {
    "execution": {
     "iopub.execute_input": "2024-12-30T10:39:11.444904Z",
     "iopub.status.busy": "2024-12-30T10:39:11.444588Z",
     "iopub.status.idle": "2024-12-30T10:39:11.448123Z",
     "shell.execute_reply": "2024-12-30T10:39:11.447468Z"
    },
    "papermill": {
     "duration": 0.015297,
     "end_time": "2024-12-30T10:39:11.449606",
     "exception": false,
     "start_time": "2024-12-30T10:39:11.434309",
     "status": "completed"
    },
    "tags": []
   },
   "outputs": [],
   "source": [
    "#!pip install -U feature-engine"
   ]
  },
  {
   "cell_type": "code",
   "execution_count": 3,
   "id": "b83ed3dc",
   "metadata": {
    "execution": {
     "iopub.execute_input": "2024-12-30T10:39:11.469371Z",
     "iopub.status.busy": "2024-12-30T10:39:11.469117Z",
     "iopub.status.idle": "2024-12-30T10:39:15.177359Z",
     "shell.execute_reply": "2024-12-30T10:39:15.176638Z"
    },
    "papermill": {
     "duration": 3.720686,
     "end_time": "2024-12-30T10:39:15.179310",
     "exception": false,
     "start_time": "2024-12-30T10:39:11.458624",
     "status": "completed"
    },
    "tags": []
   },
   "outputs": [],
   "source": [
    "import catboost\n",
    "import pandas as pd\n",
    "import numpy as np\n",
    "import matplotlib.pyplot as plt\n",
    "import seaborn as sns\n",
    "import optuna\n",
    "from optuna.samplers import TPESampler\n",
    "from catboost.utils import eval_metric\n",
    "from sklearn.model_selection import train_test_split\n",
    "from sklearn.preprocessing import PowerTransformer"
   ]
  },
  {
   "cell_type": "code",
   "execution_count": 4,
   "id": "67e0535c",
   "metadata": {
    "execution": {
     "iopub.execute_input": "2024-12-30T10:39:15.200882Z",
     "iopub.status.busy": "2024-12-30T10:39:15.200370Z",
     "iopub.status.idle": "2024-12-30T10:39:15.206341Z",
     "shell.execute_reply": "2024-12-30T10:39:15.205609Z"
    },
    "papermill": {
     "duration": 0.018442,
     "end_time": "2024-12-30T10:39:15.207866",
     "exception": false,
     "start_time": "2024-12-30T10:39:15.189424",
     "status": "completed"
    },
    "tags": []
   },
   "outputs": [],
   "source": [
    "#Optuna objective function\n",
    "def objective(trial):\n",
    "    params = {\n",
    "        #\"iterations\": 5000, 5000 is taking more than 12 hours    # OPtuna example not specify iteration\n",
    "        'iterations': trial.suggest_int('iterations', 1000, 4000), \n",
    "        'early_stopping_rounds': trial.suggest_int('early_stopping_rounds', 100, 400), \n",
    "        \"learning_rate\": trial.suggest_float(\"learning_rate\", 1e-3, 0.1),\n",
    "        \"depth\": trial.suggest_int(\"depth\", 1, 10),\n",
    "        'l2_leaf_reg': trial.suggest_float('l2_leaf_reg', 1, 10),\n",
    "        #\"subsample\": trial.suggest_float(\"subsample\", 0.05, 1.0),  subsample only support bernoulli bootstrap_type\n",
    "        #\"colsample_bylevel\": trial.suggest_float(\"colsample_bylevel\", 0.05, 1.0),\n",
    "        \"min_data_in_leaf\": trial.suggest_int(\"min_data_in_leaf\", 2, 100),\n",
    "        'grow_policy': trial.suggest_categorical('grow_policy', ['Depthwise', 'Lossguide']),\n",
    "    }\n",
    "\n",
    "    model = CatBoostRegressor(**params, task_type=\"GPU\",silent=True,random_seed=51)\n",
    "    model.fit(train_pool,verbose=0,eval_set=val_pool)\n",
    "    y_pred = model.predict(val_pool)\n",
    "    #rmse = mean_squared_error(y_val, predictions, squared=False)\n",
    "    return eval_metric(val_pool.get_label(),y_pred,'RMSE')"
   ]
  },
  {
   "cell_type": "code",
   "execution_count": 5,
   "id": "9f93a619",
   "metadata": {
    "execution": {
     "iopub.execute_input": "2024-12-30T10:39:15.229013Z",
     "iopub.status.busy": "2024-12-30T10:39:15.228383Z",
     "iopub.status.idle": "2024-12-30T10:39:24.386729Z",
     "shell.execute_reply": "2024-12-30T10:39:24.385795Z"
    },
    "papermill": {
     "duration": 9.170528,
     "end_time": "2024-12-30T10:39:24.388899",
     "exception": false,
     "start_time": "2024-12-30T10:39:15.218371",
     "status": "completed"
    },
    "tags": []
   },
   "outputs": [],
   "source": [
    "df_train = pd.read_csv('/kaggle/input/playground-series-s4e12/train.csv')\n",
    "df_test = pd.read_csv('/kaggle/input/playground-series-s4e12/test.csv')"
   ]
  },
  {
   "cell_type": "code",
   "execution_count": 6,
   "id": "3917168f",
   "metadata": {
    "execution": {
     "iopub.execute_input": "2024-12-30T10:39:24.409052Z",
     "iopub.status.busy": "2024-12-30T10:39:24.408773Z",
     "iopub.status.idle": "2024-12-30T10:39:32.835795Z",
     "shell.execute_reply": "2024-12-30T10:39:32.835081Z"
    },
    "papermill": {
     "duration": 8.439243,
     "end_time": "2024-12-30T10:39:32.837868",
     "exception": false,
     "start_time": "2024-12-30T10:39:24.398625",
     "status": "completed"
    },
    "tags": []
   },
   "outputs": [],
   "source": [
    "#df_train['StartYM']=pd.to_datetime(df_train['Policy Start Date']).dt.strftime('%Y-%m')\n",
    "df_train['StartY']=pd.to_datetime(df_train['Policy Start Date']).dt.strftime('%Y-%m')\n",
    "df_test['StartY']=pd.to_datetime(df_test['Policy Start Date']).dt.strftime('%Y-%m')"
   ]
  },
  {
   "cell_type": "code",
   "execution_count": 7,
   "id": "a2171d1f",
   "metadata": {
    "execution": {
     "iopub.execute_input": "2024-12-30T10:39:32.857587Z",
     "iopub.status.busy": "2024-12-30T10:39:32.857323Z",
     "iopub.status.idle": "2024-12-30T10:39:32.967468Z",
     "shell.execute_reply": "2024-12-30T10:39:32.966542Z"
    },
    "papermill": {
     "duration": 0.121847,
     "end_time": "2024-12-30T10:39:32.969190",
     "exception": false,
     "start_time": "2024-12-30T10:39:32.847343",
     "status": "completed"
    },
    "tags": []
   },
   "outputs": [
    {
     "data": {
      "text/plain": [
       "StartY\n",
       "2022-05    22166\n",
       "2023-03    21624\n",
       "2022-08    21532\n",
       "2021-07    21404\n",
       "2022-11    21396\n",
       "           ...  \n",
       "2019-12    18581\n",
       "2024-06    18210\n",
       "2019-11    17889\n",
       "2019-08     8868\n",
       "2024-08     8289\n",
       "Name: count, Length: 61, dtype: int64"
      ]
     },
     "execution_count": 7,
     "metadata": {},
     "output_type": "execute_result"
    }
   ],
   "source": [
    "df_train['StartY'].value_counts()"
   ]
  },
  {
   "cell_type": "code",
   "execution_count": 8,
   "id": "1c820e66",
   "metadata": {
    "execution": {
     "iopub.execute_input": "2024-12-30T10:39:32.989134Z",
     "iopub.status.busy": "2024-12-30T10:39:32.988630Z",
     "iopub.status.idle": "2024-12-30T10:39:33.085812Z",
     "shell.execute_reply": "2024-12-30T10:39:33.085041Z"
    },
    "papermill": {
     "duration": 0.108779,
     "end_time": "2024-12-30T10:39:33.087592",
     "exception": false,
     "start_time": "2024-12-30T10:39:32.978813",
     "status": "completed"
    },
    "tags": []
   },
   "outputs": [
    {
     "data": {
      "text/html": [
       "<div>\n",
       "<style scoped>\n",
       "    .dataframe tbody tr th:only-of-type {\n",
       "        vertical-align: middle;\n",
       "    }\n",
       "\n",
       "    .dataframe tbody tr th {\n",
       "        vertical-align: top;\n",
       "    }\n",
       "\n",
       "    .dataframe thead th {\n",
       "        text-align: right;\n",
       "    }\n",
       "</style>\n",
       "<table border=\"1\" class=\"dataframe\">\n",
       "  <thead>\n",
       "    <tr style=\"text-align: right;\">\n",
       "      <th></th>\n",
       "      <th>StartY</th>\n",
       "      <th>count</th>\n",
       "    </tr>\n",
       "  </thead>\n",
       "  <tbody>\n",
       "    <tr>\n",
       "      <th>60</th>\n",
       "      <td>2024-08</td>\n",
       "      <td>8289</td>\n",
       "    </tr>\n",
       "    <tr>\n",
       "      <th>55</th>\n",
       "      <td>2024-07</td>\n",
       "      <td>18798</td>\n",
       "    </tr>\n",
       "    <tr>\n",
       "      <th>57</th>\n",
       "      <td>2024-06</td>\n",
       "      <td>18210</td>\n",
       "    </tr>\n",
       "    <tr>\n",
       "      <th>5</th>\n",
       "      <td>2024-05</td>\n",
       "      <td>21251</td>\n",
       "    </tr>\n",
       "    <tr>\n",
       "      <th>46</th>\n",
       "      <td>2024-04</td>\n",
       "      <td>19389</td>\n",
       "    </tr>\n",
       "    <tr>\n",
       "      <th>...</th>\n",
       "      <td>...</td>\n",
       "      <td>...</td>\n",
       "    </tr>\n",
       "    <tr>\n",
       "      <th>56</th>\n",
       "      <td>2019-12</td>\n",
       "      <td>18581</td>\n",
       "    </tr>\n",
       "    <tr>\n",
       "      <th>58</th>\n",
       "      <td>2019-11</td>\n",
       "      <td>17889</td>\n",
       "    </tr>\n",
       "    <tr>\n",
       "      <th>47</th>\n",
       "      <td>2019-10</td>\n",
       "      <td>19355</td>\n",
       "    </tr>\n",
       "    <tr>\n",
       "      <th>42</th>\n",
       "      <td>2019-09</td>\n",
       "      <td>19596</td>\n",
       "    </tr>\n",
       "    <tr>\n",
       "      <th>59</th>\n",
       "      <td>2019-08</td>\n",
       "      <td>8868</td>\n",
       "    </tr>\n",
       "  </tbody>\n",
       "</table>\n",
       "<p>61 rows × 2 columns</p>\n",
       "</div>"
      ],
      "text/plain": [
       "     StartY  count\n",
       "60  2024-08   8289\n",
       "55  2024-07  18798\n",
       "57  2024-06  18210\n",
       "5   2024-05  21251\n",
       "46  2024-04  19389\n",
       "..      ...    ...\n",
       "56  2019-12  18581\n",
       "58  2019-11  17889\n",
       "47  2019-10  19355\n",
       "42  2019-09  19596\n",
       "59  2019-08   8868\n",
       "\n",
       "[61 rows x 2 columns]"
      ]
     },
     "execution_count": 8,
     "metadata": {},
     "output_type": "execute_result"
    }
   ],
   "source": [
    "df_train['StartY'].value_counts().reset_index().sort_values(by=['StartY'],ascending=False)"
   ]
  },
  {
   "cell_type": "code",
   "execution_count": 9,
   "id": "5c4c6e13",
   "metadata": {
    "execution": {
     "iopub.execute_input": "2024-12-30T10:39:33.108643Z",
     "iopub.status.busy": "2024-12-30T10:39:33.108345Z",
     "iopub.status.idle": "2024-12-30T10:39:33.278865Z",
     "shell.execute_reply": "2024-12-30T10:39:33.278022Z"
    },
    "papermill": {
     "duration": 0.182874,
     "end_time": "2024-12-30T10:39:33.280658",
     "exception": false,
     "start_time": "2024-12-30T10:39:33.097784",
     "status": "completed"
    },
    "tags": []
   },
   "outputs": [
    {
     "data": {
      "text/html": [
       "<div>\n",
       "<style scoped>\n",
       "    .dataframe tbody tr th:only-of-type {\n",
       "        vertical-align: middle;\n",
       "    }\n",
       "\n",
       "    .dataframe tbody tr th {\n",
       "        vertical-align: top;\n",
       "    }\n",
       "\n",
       "    .dataframe thead th {\n",
       "        text-align: right;\n",
       "    }\n",
       "</style>\n",
       "<table border=\"1\" class=\"dataframe\">\n",
       "  <thead>\n",
       "    <tr style=\"text-align: right;\">\n",
       "      <th></th>\n",
       "      <th>count</th>\n",
       "      <th>mean</th>\n",
       "      <th>std</th>\n",
       "      <th>min</th>\n",
       "      <th>25%</th>\n",
       "      <th>50%</th>\n",
       "      <th>75%</th>\n",
       "      <th>max</th>\n",
       "    </tr>\n",
       "    <tr>\n",
       "      <th>StartY</th>\n",
       "      <th></th>\n",
       "      <th></th>\n",
       "      <th></th>\n",
       "      <th></th>\n",
       "      <th></th>\n",
       "      <th></th>\n",
       "      <th></th>\n",
       "      <th></th>\n",
       "    </tr>\n",
       "  </thead>\n",
       "  <tbody>\n",
       "    <tr>\n",
       "      <th>2019-08</th>\n",
       "      <td>750.0</td>\n",
       "      <td>55.880000</td>\n",
       "      <td>33.038013</td>\n",
       "      <td>20.0</td>\n",
       "      <td>28.0</td>\n",
       "      <td>40.0</td>\n",
       "      <td>88.00</td>\n",
       "      <td>119.0</td>\n",
       "    </tr>\n",
       "    <tr>\n",
       "      <th>2019-09</th>\n",
       "      <td>1728.0</td>\n",
       "      <td>54.236111</td>\n",
       "      <td>32.662809</td>\n",
       "      <td>20.0</td>\n",
       "      <td>28.0</td>\n",
       "      <td>39.0</td>\n",
       "      <td>85.00</td>\n",
       "      <td>119.0</td>\n",
       "    </tr>\n",
       "    <tr>\n",
       "      <th>2019-10</th>\n",
       "      <td>1628.0</td>\n",
       "      <td>53.222973</td>\n",
       "      <td>32.727574</td>\n",
       "      <td>20.0</td>\n",
       "      <td>27.0</td>\n",
       "      <td>38.0</td>\n",
       "      <td>81.25</td>\n",
       "      <td>119.0</td>\n",
       "    </tr>\n",
       "    <tr>\n",
       "      <th>2019-11</th>\n",
       "      <td>1479.0</td>\n",
       "      <td>54.600406</td>\n",
       "      <td>33.092735</td>\n",
       "      <td>20.0</td>\n",
       "      <td>27.0</td>\n",
       "      <td>39.0</td>\n",
       "      <td>86.50</td>\n",
       "      <td>119.0</td>\n",
       "    </tr>\n",
       "    <tr>\n",
       "      <th>2019-12</th>\n",
       "      <td>1646.0</td>\n",
       "      <td>55.174362</td>\n",
       "      <td>32.894424</td>\n",
       "      <td>20.0</td>\n",
       "      <td>28.0</td>\n",
       "      <td>39.0</td>\n",
       "      <td>86.75</td>\n",
       "      <td>119.0</td>\n",
       "    </tr>\n",
       "    <tr>\n",
       "      <th>...</th>\n",
       "      <td>...</td>\n",
       "      <td>...</td>\n",
       "      <td>...</td>\n",
       "      <td>...</td>\n",
       "      <td>...</td>\n",
       "      <td>...</td>\n",
       "      <td>...</td>\n",
       "      <td>...</td>\n",
       "    </tr>\n",
       "    <tr>\n",
       "      <th>2024-04</th>\n",
       "      <td>1723.0</td>\n",
       "      <td>58.331979</td>\n",
       "      <td>33.660618</td>\n",
       "      <td>20.0</td>\n",
       "      <td>29.0</td>\n",
       "      <td>45.0</td>\n",
       "      <td>94.00</td>\n",
       "      <td>119.0</td>\n",
       "    </tr>\n",
       "    <tr>\n",
       "      <th>2024-05</th>\n",
       "      <td>1850.0</td>\n",
       "      <td>58.808108</td>\n",
       "      <td>33.599484</td>\n",
       "      <td>20.0</td>\n",
       "      <td>28.0</td>\n",
       "      <td>45.0</td>\n",
       "      <td>98.00</td>\n",
       "      <td>119.0</td>\n",
       "    </tr>\n",
       "    <tr>\n",
       "      <th>2024-06</th>\n",
       "      <td>1564.0</td>\n",
       "      <td>56.691176</td>\n",
       "      <td>33.541466</td>\n",
       "      <td>20.0</td>\n",
       "      <td>28.0</td>\n",
       "      <td>42.0</td>\n",
       "      <td>93.00</td>\n",
       "      <td>119.0</td>\n",
       "    </tr>\n",
       "    <tr>\n",
       "      <th>2024-07</th>\n",
       "      <td>1622.0</td>\n",
       "      <td>56.519112</td>\n",
       "      <td>32.745376</td>\n",
       "      <td>20.0</td>\n",
       "      <td>29.0</td>\n",
       "      <td>43.0</td>\n",
       "      <td>87.00</td>\n",
       "      <td>119.0</td>\n",
       "    </tr>\n",
       "    <tr>\n",
       "      <th>2024-08</th>\n",
       "      <td>715.0</td>\n",
       "      <td>57.566434</td>\n",
       "      <td>33.812831</td>\n",
       "      <td>20.0</td>\n",
       "      <td>28.0</td>\n",
       "      <td>45.0</td>\n",
       "      <td>95.50</td>\n",
       "      <td>119.0</td>\n",
       "    </tr>\n",
       "  </tbody>\n",
       "</table>\n",
       "<p>61 rows × 8 columns</p>\n",
       "</div>"
      ],
      "text/plain": [
       "          count       mean        std   min   25%   50%    75%    max\n",
       "StartY                                                               \n",
       "2019-08   750.0  55.880000  33.038013  20.0  28.0  40.0  88.00  119.0\n",
       "2019-09  1728.0  54.236111  32.662809  20.0  28.0  39.0  85.00  119.0\n",
       "2019-10  1628.0  53.222973  32.727574  20.0  27.0  38.0  81.25  119.0\n",
       "2019-11  1479.0  54.600406  33.092735  20.0  27.0  39.0  86.50  119.0\n",
       "2019-12  1646.0  55.174362  32.894424  20.0  28.0  39.0  86.75  119.0\n",
       "...         ...        ...        ...   ...   ...   ...    ...    ...\n",
       "2024-04  1723.0  58.331979  33.660618  20.0  29.0  45.0  94.00  119.0\n",
       "2024-05  1850.0  58.808108  33.599484  20.0  28.0  45.0  98.00  119.0\n",
       "2024-06  1564.0  56.691176  33.541466  20.0  28.0  42.0  93.00  119.0\n",
       "2024-07  1622.0  56.519112  32.745376  20.0  29.0  43.0  87.00  119.0\n",
       "2024-08   715.0  57.566434  33.812831  20.0  28.0  45.0  95.50  119.0\n",
       "\n",
       "[61 rows x 8 columns]"
      ]
     },
     "execution_count": 9,
     "metadata": {},
     "output_type": "execute_result"
    }
   ],
   "source": [
    "df_train[df_train['Premium Amount']<120].groupby('StartY')['Premium Amount'].describe()"
   ]
  },
  {
   "cell_type": "code",
   "execution_count": 10,
   "id": "1558d6fd",
   "metadata": {
    "execution": {
     "iopub.execute_input": "2024-12-30T10:39:33.301017Z",
     "iopub.status.busy": "2024-12-30T10:39:33.300768Z",
     "iopub.status.idle": "2024-12-30T10:39:33.344718Z",
     "shell.execute_reply": "2024-12-30T10:39:33.343973Z"
    },
    "papermill": {
     "duration": 0.055943,
     "end_time": "2024-12-30T10:39:33.346486",
     "exception": false,
     "start_time": "2024-12-30T10:39:33.290543",
     "status": "completed"
    },
    "tags": []
   },
   "outputs": [
    {
     "data": {
      "text/plain": [
       "count    770140.000000\n",
       "mean      32803.871471\n",
       "std       32201.063749\n",
       "min           2.000000\n",
       "25%        8048.000000\n",
       "50%       23981.000000\n",
       "75%       44660.000000\n",
       "max      149997.000000\n",
       "Name: Annual Income, dtype: float64"
      ]
     },
     "execution_count": 10,
     "metadata": {},
     "output_type": "execute_result"
    }
   ],
   "source": [
    "df_test['Annual Income'].describe()"
   ]
  },
  {
   "cell_type": "code",
   "execution_count": 11,
   "id": "dc2949a0",
   "metadata": {
    "execution": {
     "iopub.execute_input": "2024-12-30T10:39:33.367424Z",
     "iopub.status.busy": "2024-12-30T10:39:33.366873Z",
     "iopub.status.idle": "2024-12-30T10:39:33.386946Z",
     "shell.execute_reply": "2024-12-30T10:39:33.386292Z"
    },
    "papermill": {
     "duration": 0.031993,
     "end_time": "2024-12-30T10:39:33.388583",
     "exception": false,
     "start_time": "2024-12-30T10:39:33.356590",
     "status": "completed"
    },
    "tags": []
   },
   "outputs": [
    {
     "data": {
      "text/plain": [
       "Credit Score\n",
       "673.0    26\n",
       "658.0    26\n",
       "711.0    25\n",
       "613.0    25\n",
       "445.0    24\n",
       "         ..\n",
       "428.0     1\n",
       "350.0     1\n",
       "335.0     1\n",
       "322.0     1\n",
       "405.0     1\n",
       "Name: count, Length: 539, dtype: int64"
      ]
     },
     "execution_count": 11,
     "metadata": {},
     "output_type": "execute_result"
    }
   ],
   "source": [
    "df_train[df_train['Annual Income']<200]['Credit Score'].value_counts()"
   ]
  },
  {
   "cell_type": "code",
   "execution_count": 12,
   "id": "da11c1b7",
   "metadata": {
    "execution": {
     "iopub.execute_input": "2024-12-30T10:39:33.409120Z",
     "iopub.status.busy": "2024-12-30T10:39:33.408604Z",
     "iopub.status.idle": "2024-12-30T10:39:33.421732Z",
     "shell.execute_reply": "2024-12-30T10:39:33.421078Z"
    },
    "papermill": {
     "duration": 0.025064,
     "end_time": "2024-12-30T10:39:33.423394",
     "exception": false,
     "start_time": "2024-12-30T10:39:33.398330",
     "status": "completed"
    },
    "tags": []
   },
   "outputs": [
    {
     "data": {
      "text/plain": [
       "Annual Income\n",
       "24.0     294\n",
       "35.0     278\n",
       "34.0     193\n",
       "17.0     155\n",
       "26.0     155\n",
       "        ... \n",
       "73.0       1\n",
       "150.0      1\n",
       "87.0       1\n",
       "198.0      1\n",
       "146.0      1\n",
       "Name: count, Length: 184, dtype: int64"
      ]
     },
     "execution_count": 12,
     "metadata": {},
     "output_type": "execute_result"
    }
   ],
   "source": [
    "df_test[df_test['Annual Income']<200]['Annual Income'].value_counts()"
   ]
  },
  {
   "cell_type": "code",
   "execution_count": 13,
   "id": "5b07b937",
   "metadata": {
    "execution": {
     "iopub.execute_input": "2024-12-30T10:39:33.444010Z",
     "iopub.status.busy": "2024-12-30T10:39:33.443555Z",
     "iopub.status.idle": "2024-12-30T10:39:33.483436Z",
     "shell.execute_reply": "2024-12-30T10:39:33.482614Z"
    },
    "papermill": {
     "duration": 0.052195,
     "end_time": "2024-12-30T10:39:33.485232",
     "exception": false,
     "start_time": "2024-12-30T10:39:33.433037",
     "status": "completed"
    },
    "tags": []
   },
   "outputs": [
    {
     "data": {
      "text/plain": [
       "Index(['id', 'Age', 'Annual Income', 'Number of Dependents', 'Health Score',\n",
       "       'Previous Claims', 'Vehicle Age', 'Credit Score', 'Insurance Duration',\n",
       "       'Premium Amount'],\n",
       "      dtype='object')"
      ]
     },
     "execution_count": 13,
     "metadata": {},
     "output_type": "execute_result"
    }
   ],
   "source": [
    "#only Age, Anuual Income,Credit Score are number. The rest are category\n",
    "numeric_columns=df_train.select_dtypes(include=np.number).columns\n",
    "numeric_columns"
   ]
  },
  {
   "cell_type": "code",
   "execution_count": 14,
   "id": "16594953",
   "metadata": {
    "execution": {
     "iopub.execute_input": "2024-12-30T10:39:33.506775Z",
     "iopub.status.busy": "2024-12-30T10:39:33.506161Z",
     "iopub.status.idle": "2024-12-30T10:39:34.184338Z",
     "shell.execute_reply": "2024-12-30T10:39:34.183248Z"
    },
    "papermill": {
     "duration": 0.691005,
     "end_time": "2024-12-30T10:39:34.186566",
     "exception": false,
     "start_time": "2024-12-30T10:39:33.495561",
     "status": "completed"
    },
    "tags": []
   },
   "outputs": [
    {
     "data": {
      "text/plain": [
       "Index(['Gender', 'Marital Status', 'Education Level', 'Occupation', 'Location',\n",
       "       'Policy Type', 'Policy Start Date', 'Customer Feedback',\n",
       "       'Smoking Status', 'Exercise Frequency', 'Property Type', 'StartY'],\n",
       "      dtype='object')"
      ]
     },
     "execution_count": 14,
     "metadata": {},
     "output_type": "execute_result"
    }
   ],
   "source": [
    "object_columns=df_train.select_dtypes(include=object).columns\n",
    "object_columns"
   ]
  },
  {
   "cell_type": "code",
   "execution_count": 15,
   "id": "589bc96f",
   "metadata": {
    "execution": {
     "iopub.execute_input": "2024-12-30T10:39:34.215315Z",
     "iopub.status.busy": "2024-12-30T10:39:34.214539Z",
     "iopub.status.idle": "2024-12-30T10:39:34.275082Z",
     "shell.execute_reply": "2024-12-30T10:39:34.274201Z"
    },
    "papermill": {
     "duration": 0.07467,
     "end_time": "2024-12-30T10:39:34.277530",
     "exception": false,
     "start_time": "2024-12-30T10:39:34.202860",
     "status": "completed"
    },
    "tags": []
   },
   "outputs": [
    {
     "data": {
      "text/plain": [
       "count    1.200000e+06\n",
       "mean     6.593889e+00\n",
       "std      1.095825e+00\n",
       "min      3.044522e+00\n",
       "25%      6.244167e+00\n",
       "50%      6.771936e+00\n",
       "75%      7.319865e+00\n",
       "max      8.517193e+00\n",
       "Name: Label, dtype: float64"
      ]
     },
     "execution_count": 15,
     "metadata": {},
     "output_type": "execute_result"
    }
   ],
   "source": [
    "#transform target and income\n",
    "df_train['Label']=np.log1p(df_train['Premium Amount'])\n",
    "df_train['Label'].describe()"
   ]
  },
  {
   "cell_type": "code",
   "execution_count": 16,
   "id": "3558386a",
   "metadata": {
    "execution": {
     "iopub.execute_input": "2024-12-30T10:39:34.310928Z",
     "iopub.status.busy": "2024-12-30T10:39:34.310648Z",
     "iopub.status.idle": "2024-12-30T10:39:34.321157Z",
     "shell.execute_reply": "2024-12-30T10:39:34.320335Z"
    },
    "papermill": {
     "duration": 0.029543,
     "end_time": "2024-12-30T10:39:34.323365",
     "exception": false,
     "start_time": "2024-12-30T10:39:34.293822",
     "status": "completed"
    },
    "tags": []
   },
   "outputs": [],
   "source": [
    "df_train['Annual Income']=np.log1p(df_train['Annual Income'])"
   ]
  },
  {
   "cell_type": "code",
   "execution_count": 17,
   "id": "855c4c39",
   "metadata": {
    "execution": {
     "iopub.execute_input": "2024-12-30T10:39:34.350481Z",
     "iopub.status.busy": "2024-12-30T10:39:34.349710Z",
     "iopub.status.idle": "2024-12-30T10:39:34.360497Z",
     "shell.execute_reply": "2024-12-30T10:39:34.359729Z"
    },
    "papermill": {
     "duration": 0.023524,
     "end_time": "2024-12-30T10:39:34.362191",
     "exception": false,
     "start_time": "2024-12-30T10:39:34.338667",
     "status": "completed"
    },
    "tags": []
   },
   "outputs": [],
   "source": [
    "df_test['Annual Income']=np.log1p(df_test['Annual Income'])"
   ]
  },
  {
   "cell_type": "code",
   "execution_count": 18,
   "id": "39c9a6ac",
   "metadata": {
    "execution": {
     "iopub.execute_input": "2024-12-30T10:39:34.386047Z",
     "iopub.status.busy": "2024-12-30T10:39:34.385237Z",
     "iopub.status.idle": "2024-12-30T10:39:34.686256Z",
     "shell.execute_reply": "2024-12-30T10:39:34.685245Z"
    },
    "papermill": {
     "duration": 0.315822,
     "end_time": "2024-12-30T10:39:34.688274",
     "exception": false,
     "start_time": "2024-12-30T10:39:34.372452",
     "status": "completed"
    },
    "tags": []
   },
   "outputs": [
    {
     "data": {
      "text/plain": [
       "count\n",
       "1        720797.0\n",
       "2       1155398.0\n",
       "3       1264602.0\n",
       "4       1489848.0\n",
       "5       2094605.0\n",
       "          ...    \n",
       "3009      84252.0\n",
       "3122      71806.0\n",
       "3396      67920.0\n",
       "3444      82656.0\n",
       "3735      93375.0\n",
       "Name: total, Length: 917, dtype: float64"
      ]
     },
     "execution_count": 18,
     "metadata": {},
     "output_type": "execute_result"
    }
   ],
   "source": [
    "#Check Na credit score and premium amount\n",
    "# There a lot of missing score with a lot of premium no different with having creditscor\n",
    "df_train[df_train['Credit Score'].notna()].groupby('Premium Amount').size().reset_index(name='count').assign(total=lambda x:x['Premium Amount']*x['count']).groupby('count')['total'].sum()"
   ]
  },
  {
   "cell_type": "code",
   "execution_count": 19,
   "id": "313eb09a",
   "metadata": {
    "execution": {
     "iopub.execute_input": "2024-12-30T10:39:34.711515Z",
     "iopub.status.busy": "2024-12-30T10:39:34.710817Z",
     "iopub.status.idle": "2024-12-30T10:39:34.714921Z",
     "shell.execute_reply": "2024-12-30T10:39:34.714139Z"
    },
    "papermill": {
     "duration": 0.016842,
     "end_time": "2024-12-30T10:39:34.716530",
     "exception": false,
     "start_time": "2024-12-30T10:39:34.699688",
     "status": "completed"
    },
    "tags": []
   },
   "outputs": [],
   "source": [
    "#from feature_engine.transformation import YeoJohnsonTransformer\n",
    "\n",
    "#tf = YeoJohnsonTransformer(variables = ['Annual Income', 'Label'])\n",
    "\n",
    "#tf.fit(df_train.dropna())\n",
    "#tf.lambda_dict_"
   ]
  },
  {
   "cell_type": "code",
   "execution_count": 20,
   "id": "ed2f51d0",
   "metadata": {
    "execution": {
     "iopub.execute_input": "2024-12-30T10:39:34.738702Z",
     "iopub.status.busy": "2024-12-30T10:39:34.738459Z",
     "iopub.status.idle": "2024-12-30T10:39:34.742007Z",
     "shell.execute_reply": "2024-12-30T10:39:34.741139Z"
    },
    "papermill": {
     "duration": 0.016649,
     "end_time": "2024-12-30T10:39:34.743782",
     "exception": false,
     "start_time": "2024-12-30T10:39:34.727133",
     "status": "completed"
    },
    "tags": []
   },
   "outputs": [],
   "source": [
    "#df_train_tf=tf.transform(df_train.dropna())"
   ]
  },
  {
   "cell_type": "code",
   "execution_count": 21,
   "id": "b003267c",
   "metadata": {
    "execution": {
     "iopub.execute_input": "2024-12-30T10:39:34.765485Z",
     "iopub.status.busy": "2024-12-30T10:39:34.764890Z",
     "iopub.status.idle": "2024-12-30T10:39:34.827365Z",
     "shell.execute_reply": "2024-12-30T10:39:34.826370Z"
    },
    "papermill": {
     "duration": 0.075346,
     "end_time": "2024-12-30T10:39:34.829190",
     "exception": false,
     "start_time": "2024-12-30T10:39:34.753844",
     "status": "completed"
    },
    "tags": []
   },
   "outputs": [
    {
     "data": {
      "text/html": [
       "<div>\n",
       "<style scoped>\n",
       "    .dataframe tbody tr th:only-of-type {\n",
       "        vertical-align: middle;\n",
       "    }\n",
       "\n",
       "    .dataframe tbody tr th {\n",
       "        vertical-align: top;\n",
       "    }\n",
       "\n",
       "    .dataframe thead th {\n",
       "        text-align: right;\n",
       "    }\n",
       "</style>\n",
       "<table border=\"1\" class=\"dataframe\">\n",
       "  <thead>\n",
       "    <tr style=\"text-align: right;\">\n",
       "      <th></th>\n",
       "      <th>Annual Income</th>\n",
       "      <th>Credit Score</th>\n",
       "    </tr>\n",
       "  </thead>\n",
       "  <tbody>\n",
       "    <tr>\n",
       "      <th>470076</th>\n",
       "      <td>1.098612</td>\n",
       "      <td>332.0</td>\n",
       "    </tr>\n",
       "    <tr>\n",
       "      <th>145069</th>\n",
       "      <td>2.079442</td>\n",
       "      <td>462.0</td>\n",
       "    </tr>\n",
       "    <tr>\n",
       "      <th>120276</th>\n",
       "      <td>2.484907</td>\n",
       "      <td>479.0</td>\n",
       "    </tr>\n",
       "    <tr>\n",
       "      <th>1187366</th>\n",
       "      <td>2.708050</td>\n",
       "      <td>682.0</td>\n",
       "    </tr>\n",
       "    <tr>\n",
       "      <th>1105989</th>\n",
       "      <td>2.833213</td>\n",
       "      <td>466.0</td>\n",
       "    </tr>\n",
       "  </tbody>\n",
       "</table>\n",
       "</div>"
      ],
      "text/plain": [
       "         Annual Income  Credit Score\n",
       "470076        1.098612         332.0\n",
       "145069        2.079442         462.0\n",
       "120276        2.484907         479.0\n",
       "1187366       2.708050         682.0\n",
       "1105989       2.833213         466.0"
      ]
     },
     "execution_count": 21,
     "metadata": {},
     "output_type": "execute_result"
    }
   ],
   "source": [
    "df_train[df_train['Premium Amount']<120].loc[:,['Annual Income','Credit Score']].sort_values(ascending=True,by=['Annual Income']).head()"
   ]
  },
  {
   "cell_type": "code",
   "execution_count": 22,
   "id": "fd621fdc",
   "metadata": {
    "execution": {
     "iopub.execute_input": "2024-12-30T10:39:34.851668Z",
     "iopub.status.busy": "2024-12-30T10:39:34.851401Z",
     "iopub.status.idle": "2024-12-30T10:39:34.910291Z",
     "shell.execute_reply": "2024-12-30T10:39:34.909255Z"
    },
    "papermill": {
     "duration": 0.071833,
     "end_time": "2024-12-30T10:39:34.912258",
     "exception": false,
     "start_time": "2024-12-30T10:39:34.840425",
     "status": "completed"
    },
    "tags": []
   },
   "outputs": [
    {
     "data": {
      "text/plain": [
       "count    91651.000000\n",
       "mean       614.447764\n",
       "std        140.831463\n",
       "min        300.000000\n",
       "25%        505.000000\n",
       "50%        623.000000\n",
       "75%        733.000000\n",
       "max        849.000000\n",
       "Name: Credit Score, dtype: float64"
      ]
     },
     "execution_count": 22,
     "metadata": {},
     "output_type": "execute_result"
    }
   ],
   "source": [
    "df_train[df_train['Premium Amount']<120]['Credit Score'].describe()"
   ]
  },
  {
   "cell_type": "code",
   "execution_count": 23,
   "id": "4926a882",
   "metadata": {
    "execution": {
     "iopub.execute_input": "2024-12-30T10:39:34.936246Z",
     "iopub.status.busy": "2024-12-30T10:39:34.935469Z",
     "iopub.status.idle": "2024-12-30T10:39:35.012504Z",
     "shell.execute_reply": "2024-12-30T10:39:35.011562Z"
    },
    "papermill": {
     "duration": 0.090755,
     "end_time": "2024-12-30T10:39:35.014583",
     "exception": false,
     "start_time": "2024-12-30T10:39:34.923828",
     "status": "completed"
    },
    "tags": []
   },
   "outputs": [
    {
     "data": {
      "text/plain": [
       "count    1.062118e+06\n",
       "mean     5.929244e+02\n",
       "std      1.499819e+02\n",
       "min      3.000000e+02\n",
       "25%      4.680000e+02\n",
       "50%      5.950000e+02\n",
       "75%      7.210000e+02\n",
       "max      8.490000e+02\n",
       "Name: Credit Score, dtype: float64"
      ]
     },
     "execution_count": 23,
     "metadata": {},
     "output_type": "execute_result"
    }
   ],
   "source": [
    "df_train['Credit Score'].describe()"
   ]
  },
  {
   "cell_type": "code",
   "execution_count": 24,
   "id": "10405643",
   "metadata": {
    "execution": {
     "iopub.execute_input": "2024-12-30T10:39:35.037968Z",
     "iopub.status.busy": "2024-12-30T10:39:35.037699Z",
     "iopub.status.idle": "2024-12-30T10:39:35.645999Z",
     "shell.execute_reply": "2024-12-30T10:39:35.644762Z"
    },
    "papermill": {
     "duration": 0.621531,
     "end_time": "2024-12-30T10:39:35.647841",
     "exception": false,
     "start_time": "2024-12-30T10:39:35.026310",
     "status": "completed"
    },
    "tags": []
   },
   "outputs": [
    {
     "name": "stdout",
     "output_type": "stream",
     "text": [
      "<class 'pandas.core.frame.DataFrame'>\n",
      "RangeIndex: 1200000 entries, 0 to 1199999\n",
      "Data columns (total 23 columns):\n",
      " #   Column                Non-Null Count    Dtype  \n",
      "---  ------                --------------    -----  \n",
      " 0   id                    1200000 non-null  int64  \n",
      " 1   Age                   1181295 non-null  float64\n",
      " 2   Gender                1200000 non-null  object \n",
      " 3   Annual Income         1155051 non-null  float64\n",
      " 4   Marital Status        1181471 non-null  object \n",
      " 5   Number of Dependents  1090328 non-null  float64\n",
      " 6   Education Level       1200000 non-null  object \n",
      " 7   Occupation            841925 non-null   object \n",
      " 8   Health Score          1125924 non-null  float64\n",
      " 9   Location              1200000 non-null  object \n",
      " 10  Policy Type           1200000 non-null  object \n",
      " 11  Previous Claims       835971 non-null   float64\n",
      " 12  Vehicle Age           1199994 non-null  float64\n",
      " 13  Credit Score          1062118 non-null  float64\n",
      " 14  Insurance Duration    1199999 non-null  float64\n",
      " 15  Policy Start Date     1200000 non-null  object \n",
      " 16  Customer Feedback     1122176 non-null  object \n",
      " 17  Smoking Status        1200000 non-null  object \n",
      " 18  Exercise Frequency    1200000 non-null  object \n",
      " 19  Property Type         1200000 non-null  object \n",
      " 20  Premium Amount        1200000 non-null  float64\n",
      " 21  StartY                1200000 non-null  object \n",
      " 22  Label                 1200000 non-null  float64\n",
      "dtypes: float64(10), int64(1), object(12)\n",
      "memory usage: 210.6+ MB\n"
     ]
    }
   ],
   "source": [
    "df_train.info()"
   ]
  },
  {
   "cell_type": "code",
   "execution_count": 25,
   "id": "3c6fbc7d",
   "metadata": {
    "execution": {
     "iopub.execute_input": "2024-12-30T10:39:35.670101Z",
     "iopub.status.busy": "2024-12-30T10:39:35.669806Z",
     "iopub.status.idle": "2024-12-30T10:39:35.673586Z",
     "shell.execute_reply": "2024-12-30T10:39:35.672706Z"
    },
    "papermill": {
     "duration": 0.016476,
     "end_time": "2024-12-30T10:39:35.675099",
     "exception": false,
     "start_time": "2024-12-30T10:39:35.658623",
     "status": "completed"
    },
    "tags": []
   },
   "outputs": [],
   "source": [
    "# change fillna from mean to mode to get less effect from outlier\n",
    "# Ana=df_train['Age'].mode()[0]\n",
    "# Aina=df_train['Annual Income'].mode()[0]\n",
    "# Ndna=0\n",
    "# Hsna=df_train['Health Score'].mode()[0]\n",
    "# Pcna=0\n",
    "# Vana=0 #just impute with 0\n",
    "# Csna=df_train['Credit Score'].mode()[0]\n",
    "# Idna=0"
   ]
  },
  {
   "cell_type": "code",
   "execution_count": 26,
   "id": "44502984",
   "metadata": {
    "execution": {
     "iopub.execute_input": "2024-12-30T10:39:35.697022Z",
     "iopub.status.busy": "2024-12-30T10:39:35.696770Z",
     "iopub.status.idle": "2024-12-30T10:39:35.700674Z",
     "shell.execute_reply": "2024-12-30T10:39:35.699912Z"
    },
    "papermill": {
     "duration": 0.016961,
     "end_time": "2024-12-30T10:39:35.702392",
     "exception": false,
     "start_time": "2024-12-30T10:39:35.685431",
     "status": "completed"
    },
    "tags": []
   },
   "outputs": [],
   "source": [
    "# df_train['Age'].fillna(Ana,inplace=True)\n",
    "# df_train['Annual Income'].fillna(Aina,inplace=True)\n",
    "# df_train['Number of Dependents'].fillna(Ndna,inplace=True)\n",
    "# df_train['Health Score'].fillna(Hsna,inplace=True)\n",
    "# df_train['Previous Claims'].fillna(Pcna,inplace=True)\n",
    "# df_train['Vehicle Age'].fillna(Vana,inplace=True)\n",
    "# df_train['Credit Score'].fillna(Csna,inplace=True)\n",
    "# df_train['Insurance Duration'].fillna(Idna,inplace=True)\n",
    "\n",
    "\n",
    "#Ana=df_test['Age'].mean()\n",
    "#Aina=df_test['Annual Income'].mean()\n",
    "#Ndna=0\n",
    "#Hsna=df_test['Health Score'].mean()\n",
    "#Pcna=0\n",
    "#Vana=0 #just impute with 0\n",
    "#Csna=df_test['Credit Score'].mean()\n",
    "#Idna=0\n",
    "\n",
    "# df_test['Age'].fillna(Ana,inplace=True)\n",
    "# df_test['Annual Income'].fillna(Aina,inplace=True)\n",
    "# df_test['Number of Dependents'].fillna(Ndna,inplace=True)\n",
    "# df_test['Health Score'].fillna(Hsna,inplace=True)\n",
    "# df_test['Previous Claims'].fillna(Pcna,inplace=True)\n",
    "# df_test['Vehicle Age'].fillna(Vana,inplace=True)\n",
    "# df_test['Credit Score'].fillna(Csna,inplace=True)\n",
    "# df_test['Insurance Duration'].fillna(Idna,inplace=True)\n",
    "\n"
   ]
  },
  {
   "cell_type": "code",
   "execution_count": 27,
   "id": "6f86571f",
   "metadata": {
    "execution": {
     "iopub.execute_input": "2024-12-30T10:39:35.726203Z",
     "iopub.status.busy": "2024-12-30T10:39:35.725689Z",
     "iopub.status.idle": "2024-12-30T10:39:35.729545Z",
     "shell.execute_reply": "2024-12-30T10:39:35.728679Z"
    },
    "papermill": {
     "duration": 0.017736,
     "end_time": "2024-12-30T10:39:35.731263",
     "exception": false,
     "start_time": "2024-12-30T10:39:35.713527",
     "status": "completed"
    },
    "tags": []
   },
   "outputs": [],
   "source": [
    "# import numpy as np\n",
    "# from catboost import CatBoostRegressor\n",
    "# # Initialize data\n",
    "\n",
    "# train_data = [[1., 4., 5., np.nan],\n",
    "#               [4., 5., 6., 7.],\n",
    "#               [30., 40., 50., 60.]]\n",
    "\n",
    "# eval_data = [[2., 4., 6., 8.],\n",
    "#              [1., 4., 50., 60.]]\n",
    "\n",
    "# train_labels = [10., 20., 30.]\n",
    "# # Initialize CatBoostRegressor\n",
    "# model = CatBoostRegressor(iterations=2,\n",
    "#                           learning_rate=1,\n",
    "#                           depth=2)\n",
    "# # Fit model\n",
    "# model.fit(train_data, train_labels)\n",
    "# # Get predictions\n",
    "# preds = model.predict(eval_data)"
   ]
  },
  {
   "cell_type": "code",
   "execution_count": 28,
   "id": "6850d540",
   "metadata": {
    "execution": {
     "iopub.execute_input": "2024-12-30T10:39:35.754830Z",
     "iopub.status.busy": "2024-12-30T10:39:35.754581Z",
     "iopub.status.idle": "2024-12-30T10:39:35.781766Z",
     "shell.execute_reply": "2024-12-30T10:39:35.780945Z"
    },
    "papermill": {
     "duration": 0.040766,
     "end_time": "2024-12-30T10:39:35.783488",
     "exception": false,
     "start_time": "2024-12-30T10:39:35.742722",
     "status": "completed"
    },
    "tags": []
   },
   "outputs": [
    {
     "data": {
      "text/plain": [
       "Index([     83,     309,     310,     332,     375,     385,     403,     538,\n",
       "           553,     570,\n",
       "       ...\n",
       "       1199635, 1199653, 1199690, 1199701, 1199704, 1199752, 1199772, 1199784,\n",
       "       1199893, 1199897],\n",
       "      dtype='int64', length=18705)"
      ]
     },
     "execution_count": 28,
     "metadata": {},
     "output_type": "execute_result"
    }
   ],
   "source": [
    "df_train[df_train['Age'].isna()].index"
   ]
  },
  {
   "cell_type": "code",
   "execution_count": 29,
   "id": "bb534771",
   "metadata": {
    "execution": {
     "iopub.execute_input": "2024-12-30T10:39:35.808384Z",
     "iopub.status.busy": "2024-12-30T10:39:35.807842Z",
     "iopub.status.idle": "2024-12-30T10:39:36.096237Z",
     "shell.execute_reply": "2024-12-30T10:39:36.095358Z"
    },
    "papermill": {
     "duration": 0.302735,
     "end_time": "2024-12-30T10:39:36.098165",
     "exception": false,
     "start_time": "2024-12-30T10:39:35.795430",
     "status": "completed"
    },
    "tags": []
   },
   "outputs": [
    {
     "name": "stderr",
     "output_type": "stream",
     "text": [
      "/tmp/ipykernel_23/1312047004.py:1: FutureWarning: A value is trying to be set on a copy of a DataFrame or Series through chained assignment using an inplace method.\n",
      "The behavior will change in pandas 3.0. This inplace method will never work because the intermediate object on which we are setting values always behaves as a copy.\n",
      "\n",
      "For example, when doing 'df[col].method(value, inplace=True)', try using 'df.method({col: value}, inplace=True)' or df[col] = df[col].method(value) instead, to perform the operation inplace on the original object.\n",
      "\n",
      "\n",
      "  df_train['Occupation'].fillna('Unknown',inplace=True)\n",
      "/tmp/ipykernel_23/1312047004.py:2: FutureWarning: A value is trying to be set on a copy of a DataFrame or Series through chained assignment using an inplace method.\n",
      "The behavior will change in pandas 3.0. This inplace method will never work because the intermediate object on which we are setting values always behaves as a copy.\n",
      "\n",
      "For example, when doing 'df[col].method(value, inplace=True)', try using 'df.method({col: value}, inplace=True)' or df[col] = df[col].method(value) instead, to perform the operation inplace on the original object.\n",
      "\n",
      "\n",
      "  df_train['Marital Status'].fillna('Unknown',inplace=True)\n",
      "/tmp/ipykernel_23/1312047004.py:3: FutureWarning: A value is trying to be set on a copy of a DataFrame or Series through chained assignment using an inplace method.\n",
      "The behavior will change in pandas 3.0. This inplace method will never work because the intermediate object on which we are setting values always behaves as a copy.\n",
      "\n",
      "For example, when doing 'df[col].method(value, inplace=True)', try using 'df.method({col: value}, inplace=True)' or df[col] = df[col].method(value) instead, to perform the operation inplace on the original object.\n",
      "\n",
      "\n",
      "  df_train['Customer Feedback'].fillna('Unknown',inplace=True)\n",
      "/tmp/ipykernel_23/1312047004.py:5: FutureWarning: A value is trying to be set on a copy of a DataFrame or Series through chained assignment using an inplace method.\n",
      "The behavior will change in pandas 3.0. This inplace method will never work because the intermediate object on which we are setting values always behaves as a copy.\n",
      "\n",
      "For example, when doing 'df[col].method(value, inplace=True)', try using 'df.method({col: value}, inplace=True)' or df[col] = df[col].method(value) instead, to perform the operation inplace on the original object.\n",
      "\n",
      "\n",
      "  df_test['Occupation'].fillna('Unknown',inplace=True)\n",
      "/tmp/ipykernel_23/1312047004.py:6: FutureWarning: A value is trying to be set on a copy of a DataFrame or Series through chained assignment using an inplace method.\n",
      "The behavior will change in pandas 3.0. This inplace method will never work because the intermediate object on which we are setting values always behaves as a copy.\n",
      "\n",
      "For example, when doing 'df[col].method(value, inplace=True)', try using 'df.method({col: value}, inplace=True)' or df[col] = df[col].method(value) instead, to perform the operation inplace on the original object.\n",
      "\n",
      "\n",
      "  df_test['Marital Status'].fillna('Unknown',inplace=True)\n",
      "/tmp/ipykernel_23/1312047004.py:7: FutureWarning: A value is trying to be set on a copy of a DataFrame or Series through chained assignment using an inplace method.\n",
      "The behavior will change in pandas 3.0. This inplace method will never work because the intermediate object on which we are setting values always behaves as a copy.\n",
      "\n",
      "For example, when doing 'df[col].method(value, inplace=True)', try using 'df.method({col: value}, inplace=True)' or df[col] = df[col].method(value) instead, to perform the operation inplace on the original object.\n",
      "\n",
      "\n",
      "  df_test['Customer Feedback'].fillna('Unknown',inplace=True)\n"
     ]
    }
   ],
   "source": [
    "df_train['Occupation'].fillna('Unknown',inplace=True)\n",
    "df_train['Marital Status'].fillna('Unknown',inplace=True)\n",
    "df_train['Customer Feedback'].fillna('Unknown',inplace=True)\n",
    "\n",
    "df_test['Occupation'].fillna('Unknown',inplace=True)\n",
    "df_test['Marital Status'].fillna('Unknown',inplace=True)\n",
    "df_test['Customer Feedback'].fillna('Unknown',inplace=True)\n"
   ]
  },
  {
   "cell_type": "code",
   "execution_count": 30,
   "id": "98f0b23c",
   "metadata": {
    "execution": {
     "iopub.execute_input": "2024-12-30T10:39:36.121485Z",
     "iopub.status.busy": "2024-12-30T10:39:36.120748Z",
     "iopub.status.idle": "2024-12-30T10:39:36.126369Z",
     "shell.execute_reply": "2024-12-30T10:39:36.125495Z"
    },
    "papermill": {
     "duration": 0.018801,
     "end_time": "2024-12-30T10:39:36.127802",
     "exception": false,
     "start_time": "2024-12-30T10:39:36.109001",
     "status": "completed"
    },
    "tags": []
   },
   "outputs": [
    {
     "data": {
      "text/plain": [
       "['Gender',\n",
       " 'Marital Status',\n",
       " 'Education Level',\n",
       " 'Occupation',\n",
       " 'Location',\n",
       " 'Policy Type',\n",
       " 'Policy Start Date',\n",
       " 'Customer Feedback',\n",
       " 'Smoking Status',\n",
       " 'Exercise Frequency',\n",
       " 'Property Type',\n",
       " 'StartY']"
      ]
     },
     "execution_count": 30,
     "metadata": {},
     "output_type": "execute_result"
    }
   ],
   "source": [
    "#cat_features=numeric_columns.drop(['id','Age','Annual Income','Credit Score','Health Score','Premium Amount']).union(object_columns)\n",
    "cat_features=object_columns\n",
    "cat_features.to_list()\n"
   ]
  },
  {
   "cell_type": "code",
   "execution_count": 31,
   "id": "2c080a8e",
   "metadata": {
    "execution": {
     "iopub.execute_input": "2024-12-30T10:39:36.150636Z",
     "iopub.status.busy": "2024-12-30T10:39:36.149983Z",
     "iopub.status.idle": "2024-12-30T10:39:36.157041Z",
     "shell.execute_reply": "2024-12-30T10:39:36.156338Z"
    },
    "papermill": {
     "duration": 0.019923,
     "end_time": "2024-12-30T10:39:36.158512",
     "exception": false,
     "start_time": "2024-12-30T10:39:36.138589",
     "status": "completed"
    },
    "tags": []
   },
   "outputs": [],
   "source": [
    "#change cat columns datatype to astype int\n",
    "df_train[cat_features.intersection(numeric_columns)]=df_train[cat_features.intersection(numeric_columns)].astype('Int64')\n",
    "\n",
    "#text_features = cat_features.remove('Vehicle Age')"
   ]
  },
  {
   "cell_type": "code",
   "execution_count": 32,
   "id": "26acaa0d",
   "metadata": {
    "execution": {
     "iopub.execute_input": "2024-12-30T10:39:36.180963Z",
     "iopub.status.busy": "2024-12-30T10:39:36.180724Z",
     "iopub.status.idle": "2024-12-30T10:39:36.184951Z",
     "shell.execute_reply": "2024-12-30T10:39:36.184347Z"
    },
    "papermill": {
     "duration": 0.017186,
     "end_time": "2024-12-30T10:39:36.186435",
     "exception": false,
     "start_time": "2024-12-30T10:39:36.169249",
     "status": "completed"
    },
    "tags": []
   },
   "outputs": [],
   "source": [
    "#change cat columns datatype to int astype\n",
    "df_test[cat_features.intersection(numeric_columns)]=df_test[cat_features.intersection(numeric_columns)].astype('Int64')\n",
    "\n",
    "#text_features = cat_features.remove('Vehicle Age')"
   ]
  },
  {
   "cell_type": "code",
   "execution_count": 33,
   "id": "d815e57c",
   "metadata": {
    "execution": {
     "iopub.execute_input": "2024-12-30T10:39:36.208383Z",
     "iopub.status.busy": "2024-12-30T10:39:36.208147Z",
     "iopub.status.idle": "2024-12-30T10:39:36.211425Z",
     "shell.execute_reply": "2024-12-30T10:39:36.210640Z"
    },
    "papermill": {
     "duration": 0.016041,
     "end_time": "2024-12-30T10:39:36.213029",
     "exception": false,
     "start_time": "2024-12-30T10:39:36.196988",
     "status": "completed"
    },
    "tags": []
   },
   "outputs": [],
   "source": [
    "#custom loss function but will not be able to optimization with it so better transform target instead\n",
    "#def rmsle_loss(y_true, y_pred):\n",
    "#    return np.sqrt(np.mean((np.log1p(y_pred) - np.log1p(y_true)) ** 2))\n",
    "#Also use exp to transform the prediction\n",
    "#predictions = np.expm1(model.predict(X_test))"
   ]
  },
  {
   "cell_type": "code",
   "execution_count": 34,
   "id": "678d8c49",
   "metadata": {
    "execution": {
     "iopub.execute_input": "2024-12-30T10:39:36.235181Z",
     "iopub.status.busy": "2024-12-30T10:39:36.234931Z",
     "iopub.status.idle": "2024-12-30T10:39:36.237971Z",
     "shell.execute_reply": "2024-12-30T10:39:36.237311Z"
    },
    "papermill": {
     "duration": 0.015926,
     "end_time": "2024-12-30T10:39:36.239511",
     "exception": false,
     "start_time": "2024-12-30T10:39:36.223585",
     "status": "completed"
    },
    "tags": []
   },
   "outputs": [],
   "source": [
    "#df_train.drop(['id','Annual Income','Customer Feedback','Exercise Frequency','Premium Amount','group Age','Label'],axis=1).columns"
   ]
  },
  {
   "cell_type": "code",
   "execution_count": 35,
   "id": "8905f3df",
   "metadata": {
    "execution": {
     "iopub.execute_input": "2024-12-30T10:39:36.261926Z",
     "iopub.status.busy": "2024-12-30T10:39:36.261527Z",
     "iopub.status.idle": "2024-12-30T10:39:36.264689Z",
     "shell.execute_reply": "2024-12-30T10:39:36.264057Z"
    },
    "papermill": {
     "duration": 0.016072,
     "end_time": "2024-12-30T10:39:36.266199",
     "exception": false,
     "start_time": "2024-12-30T10:39:36.250127",
     "status": "completed"
    },
    "tags": []
   },
   "outputs": [],
   "source": [
    "#df_train2 = pd.read_csv('/kaggle/input/playground-series-s4e12/train.csv')\n",
    "#df_train2=df_train2.dropna()\n"
   ]
  },
  {
   "cell_type": "code",
   "execution_count": 36,
   "id": "3bd3ed63",
   "metadata": {
    "execution": {
     "iopub.execute_input": "2024-12-30T10:39:36.289788Z",
     "iopub.status.busy": "2024-12-30T10:39:36.289568Z",
     "iopub.status.idle": "2024-12-30T10:39:36.292757Z",
     "shell.execute_reply": "2024-12-30T10:39:36.292117Z"
    },
    "papermill": {
     "duration": 0.01605,
     "end_time": "2024-12-30T10:39:36.294308",
     "exception": false,
     "start_time": "2024-12-30T10:39:36.278258",
     "status": "completed"
    },
    "tags": []
   },
   "outputs": [],
   "source": [
    "#nonadata = pd.concat([df_train2['Credit Score'],df_train2['Health Score']],axis=1)\n",
    "#nonadata.head()"
   ]
  },
  {
   "cell_type": "code",
   "execution_count": 37,
   "id": "2d6ad9ef",
   "metadata": {
    "execution": {
     "iopub.execute_input": "2024-12-30T10:39:36.316374Z",
     "iopub.status.busy": "2024-12-30T10:39:36.315951Z",
     "iopub.status.idle": "2024-12-30T10:39:36.319057Z",
     "shell.execute_reply": "2024-12-30T10:39:36.318453Z"
    },
    "papermill": {
     "duration": 0.015759,
     "end_time": "2024-12-30T10:39:36.320485",
     "exception": false,
     "start_time": "2024-12-30T10:39:36.304726",
     "status": "completed"
    },
    "tags": []
   },
   "outputs": [],
   "source": [
    "#nonadata.describe()\n",
    "#from sklearn.preprocessing import StandardScaler, RobustScaler\n",
    "\n",
    "#standard_scaler=StandardScaler()\n",
    "#scalenonadata=standard_scaler.fit_transform(nonadata)\n",
    "\n",
    "#robust_scaler=RobustScaler()\n",
    "#scalenonadata=robust_scaler.fit_transform(nonadata)"
   ]
  },
  {
   "cell_type": "code",
   "execution_count": 38,
   "id": "6f28577a",
   "metadata": {
    "execution": {
     "iopub.execute_input": "2024-12-30T10:39:36.342784Z",
     "iopub.status.busy": "2024-12-30T10:39:36.342357Z",
     "iopub.status.idle": "2024-12-30T10:39:36.345525Z",
     "shell.execute_reply": "2024-12-30T10:39:36.344912Z"
    },
    "papermill": {
     "duration": 0.015767,
     "end_time": "2024-12-30T10:39:36.346932",
     "exception": false,
     "start_time": "2024-12-30T10:39:36.331165",
     "status": "completed"
    },
    "tags": []
   },
   "outputs": [],
   "source": [
    "#nonadata=pd.DataFrame(scalenonadata,columns=['Credit Score','Health Score'])"
   ]
  },
  {
   "cell_type": "code",
   "execution_count": 39,
   "id": "409e276a",
   "metadata": {
    "execution": {
     "iopub.execute_input": "2024-12-30T10:39:36.368866Z",
     "iopub.status.busy": "2024-12-30T10:39:36.368656Z",
     "iopub.status.idle": "2024-12-30T10:39:36.371711Z",
     "shell.execute_reply": "2024-12-30T10:39:36.371107Z"
    },
    "papermill": {
     "duration": 0.015855,
     "end_time": "2024-12-30T10:39:36.373219",
     "exception": false,
     "start_time": "2024-12-30T10:39:36.357364",
     "status": "completed"
    },
    "tags": []
   },
   "outputs": [],
   "source": [
    "#df_train2['Label'] = np.log1p(df_train2['Premium Amount'])"
   ]
  },
  {
   "cell_type": "code",
   "execution_count": 40,
   "id": "8daf5387",
   "metadata": {
    "execution": {
     "iopub.execute_input": "2024-12-30T10:39:36.395638Z",
     "iopub.status.busy": "2024-12-30T10:39:36.395401Z",
     "iopub.status.idle": "2024-12-30T10:39:36.549291Z",
     "shell.execute_reply": "2024-12-30T10:39:36.548535Z"
    },
    "papermill": {
     "duration": 0.167513,
     "end_time": "2024-12-30T10:39:36.551394",
     "exception": false,
     "start_time": "2024-12-30T10:39:36.383881",
     "status": "completed"
    },
    "tags": []
   },
   "outputs": [],
   "source": [
    "data = df_train.drop(['id','Premium Amount','Policy Start Date','Label'],axis=1) \n",
    "cat_features=cat_features.intersection(data.columns)\n",
    "cat_features=cat_features.difference(['Credit Score','Health Score','Annual Income'])\n",
    "#text_features=text_features.intersection(data.columns)"
   ]
  },
  {
   "cell_type": "code",
   "execution_count": 41,
   "id": "a4b67a87",
   "metadata": {
    "execution": {
     "iopub.execute_input": "2024-12-30T10:39:36.574539Z",
     "iopub.status.busy": "2024-12-30T10:39:36.573971Z",
     "iopub.status.idle": "2024-12-30T10:39:36.579138Z",
     "shell.execute_reply": "2024-12-30T10:39:36.578370Z"
    },
    "papermill": {
     "duration": 0.018175,
     "end_time": "2024-12-30T10:39:36.580638",
     "exception": false,
     "start_time": "2024-12-30T10:39:36.562463",
     "status": "completed"
    },
    "tags": []
   },
   "outputs": [
    {
     "data": {
      "text/plain": [
       "Index(['Customer Feedback', 'Education Level', 'Exercise Frequency', 'Gender',\n",
       "       'Location', 'Marital Status', 'Occupation', 'Policy Type',\n",
       "       'Property Type', 'Smoking Status', 'StartY'],\n",
       "      dtype='object')"
      ]
     },
     "execution_count": 41,
     "metadata": {},
     "output_type": "execute_result"
    }
   ],
   "source": [
    "cat_features"
   ]
  },
  {
   "cell_type": "code",
   "execution_count": 42,
   "id": "f6ab5123",
   "metadata": {
    "execution": {
     "iopub.execute_input": "2024-12-30T10:39:36.602928Z",
     "iopub.status.busy": "2024-12-30T10:39:36.602671Z",
     "iopub.status.idle": "2024-12-30T10:39:36.607699Z",
     "shell.execute_reply": "2024-12-30T10:39:36.607017Z"
    },
    "papermill": {
     "duration": 0.017921,
     "end_time": "2024-12-30T10:39:36.609201",
     "exception": false,
     "start_time": "2024-12-30T10:39:36.591280",
     "status": "completed"
    },
    "tags": []
   },
   "outputs": [
    {
     "data": {
      "text/plain": [
       "Index(['Age', 'Gender', 'Annual Income', 'Marital Status',\n",
       "       'Number of Dependents', 'Education Level', 'Occupation', 'Health Score',\n",
       "       'Location', 'Policy Type', 'Previous Claims', 'Vehicle Age',\n",
       "       'Credit Score', 'Insurance Duration', 'Customer Feedback',\n",
       "       'Smoking Status', 'Exercise Frequency', 'Property Type', 'StartY'],\n",
       "      dtype='object')"
      ]
     },
     "execution_count": 42,
     "metadata": {},
     "output_type": "execute_result"
    }
   ],
   "source": [
    "data.columns"
   ]
  },
  {
   "cell_type": "code",
   "execution_count": 43,
   "id": "dd4e96eb",
   "metadata": {
    "execution": {
     "iopub.execute_input": "2024-12-30T10:39:36.631302Z",
     "iopub.status.busy": "2024-12-30T10:39:36.631033Z",
     "iopub.status.idle": "2024-12-30T10:39:36.635982Z",
     "shell.execute_reply": "2024-12-30T10:39:36.635248Z"
    },
    "papermill": {
     "duration": 0.017718,
     "end_time": "2024-12-30T10:39:36.637537",
     "exception": false,
     "start_time": "2024-12-30T10:39:36.619819",
     "status": "completed"
    },
    "tags": []
   },
   "outputs": [
    {
     "data": {
      "text/plain": [
       "Index(['id', 'Age', 'Annual Income', 'Number of Dependents', 'Health Score',\n",
       "       'Previous Claims', 'Vehicle Age', 'Credit Score', 'Insurance Duration',\n",
       "       'Premium Amount'],\n",
       "      dtype='object')"
      ]
     },
     "execution_count": 43,
     "metadata": {},
     "output_type": "execute_result"
    }
   ],
   "source": [
    "numeric_columns"
   ]
  },
  {
   "cell_type": "code",
   "execution_count": 44,
   "id": "24240e0a",
   "metadata": {
    "execution": {
     "iopub.execute_input": "2024-12-30T10:39:36.659750Z",
     "iopub.status.busy": "2024-12-30T10:39:36.659516Z",
     "iopub.status.idle": "2024-12-30T10:39:38.083900Z",
     "shell.execute_reply": "2024-12-30T10:39:38.083213Z"
    },
    "papermill": {
     "duration": 1.437518,
     "end_time": "2024-12-30T10:39:38.085813",
     "exception": false,
     "start_time": "2024-12-30T10:39:36.648295",
     "status": "completed"
    },
    "tags": []
   },
   "outputs": [],
   "source": [
    "df_train[cat_features]=df_train[cat_features].astype('category')\n",
    "df_test[cat_features]=df_test[cat_features].astype('category')"
   ]
  },
  {
   "cell_type": "code",
   "execution_count": 45,
   "id": "79e4b0af",
   "metadata": {
    "execution": {
     "iopub.execute_input": "2024-12-30T10:39:38.109709Z",
     "iopub.status.busy": "2024-12-30T10:39:38.109441Z",
     "iopub.status.idle": "2024-12-30T10:39:38.209861Z",
     "shell.execute_reply": "2024-12-30T10:39:38.208658Z"
    },
    "papermill": {
     "duration": 0.113904,
     "end_time": "2024-12-30T10:39:38.211678",
     "exception": false,
     "start_time": "2024-12-30T10:39:38.097774",
     "status": "completed"
    },
    "tags": []
   },
   "outputs": [
    {
     "name": "stdout",
     "output_type": "stream",
     "text": [
      "<class 'pandas.core.frame.DataFrame'>\n",
      "RangeIndex: 1200000 entries, 0 to 1199999\n",
      "Data columns (total 23 columns):\n",
      " #   Column                Non-Null Count    Dtype   \n",
      "---  ------                --------------    -----   \n",
      " 0   id                    1200000 non-null  int64   \n",
      " 1   Age                   1181295 non-null  float64 \n",
      " 2   Gender                1200000 non-null  category\n",
      " 3   Annual Income         1155051 non-null  float64 \n",
      " 4   Marital Status        1200000 non-null  category\n",
      " 5   Number of Dependents  1090328 non-null  float64 \n",
      " 6   Education Level       1200000 non-null  category\n",
      " 7   Occupation            1200000 non-null  category\n",
      " 8   Health Score          1125924 non-null  float64 \n",
      " 9   Location              1200000 non-null  category\n",
      " 10  Policy Type           1200000 non-null  category\n",
      " 11  Previous Claims       835971 non-null   float64 \n",
      " 12  Vehicle Age           1199994 non-null  float64 \n",
      " 13  Credit Score          1062118 non-null  float64 \n",
      " 14  Insurance Duration    1199999 non-null  float64 \n",
      " 15  Policy Start Date     1200000 non-null  object  \n",
      " 16  Customer Feedback     1200000 non-null  category\n",
      " 17  Smoking Status        1200000 non-null  category\n",
      " 18  Exercise Frequency    1200000 non-null  category\n",
      " 19  Property Type         1200000 non-null  category\n",
      " 20  Premium Amount        1200000 non-null  float64 \n",
      " 21  StartY                1200000 non-null  category\n",
      " 22  Label                 1200000 non-null  float64 \n",
      "dtypes: category(11), float64(10), int64(1), object(1)\n",
      "memory usage: 122.5+ MB\n"
     ]
    }
   ],
   "source": [
    "df_train.info()"
   ]
  },
  {
   "cell_type": "code",
   "execution_count": 46,
   "id": "b9de4587",
   "metadata": {
    "execution": {
     "iopub.execute_input": "2024-12-30T10:39:38.235207Z",
     "iopub.status.busy": "2024-12-30T10:39:38.234931Z",
     "iopub.status.idle": "2024-12-30T10:39:38.240839Z",
     "shell.execute_reply": "2024-12-30T10:39:38.240110Z"
    },
    "papermill": {
     "duration": 0.019391,
     "end_time": "2024-12-30T10:39:38.242429",
     "exception": false,
     "start_time": "2024-12-30T10:39:38.223038",
     "status": "completed"
    },
    "tags": []
   },
   "outputs": [
    {
     "data": {
      "text/plain": [
       "0    372.0\n",
       "1    694.0\n",
       "2      NaN\n",
       "3    367.0\n",
       "4    598.0\n",
       "Name: Credit Score, dtype: float64"
      ]
     },
     "execution_count": 46,
     "metadata": {},
     "output_type": "execute_result"
    }
   ],
   "source": [
    "df_train['Credit Score'].head()"
   ]
  },
  {
   "cell_type": "code",
   "execution_count": 47,
   "id": "9bc626a4",
   "metadata": {
    "execution": {
     "iopub.execute_input": "2024-12-30T10:39:38.265025Z",
     "iopub.status.busy": "2024-12-30T10:39:38.264793Z",
     "iopub.status.idle": "2024-12-30T10:39:42.906027Z",
     "shell.execute_reply": "2024-12-30T10:39:42.905343Z"
    },
    "papermill": {
     "duration": 4.654695,
     "end_time": "2024-12-30T10:39:42.907978",
     "exception": false,
     "start_time": "2024-12-30T10:39:38.253283",
     "status": "completed"
    },
    "tags": []
   },
   "outputs": [],
   "source": [
    "pt=PowerTransformer(method='yeo-johnson',copy=False)\n",
    "pt_columns=df_train.select_dtypes(include=['float64']).drop(['Label'],axis=1).columns\n",
    "df_train[pt_columns]=pt.fit_transform(df_train[pt_columns])\n"
   ]
  },
  {
   "cell_type": "code",
   "execution_count": 48,
   "id": "40848f99",
   "metadata": {
    "execution": {
     "iopub.execute_input": "2024-12-30T10:39:42.932107Z",
     "iopub.status.busy": "2024-12-30T10:39:42.931809Z",
     "iopub.status.idle": "2024-12-30T10:39:43.371356Z",
     "shell.execute_reply": "2024-12-30T10:39:43.370606Z"
    },
    "papermill": {
     "duration": 0.453725,
     "end_time": "2024-12-30T10:39:43.373448",
     "exception": false,
     "start_time": "2024-12-30T10:39:42.919723",
     "status": "completed"
    },
    "tags": []
   },
   "outputs": [],
   "source": [
    "from catboost import *\n",
    "\n",
    "X_train,x_val,Y_train,y_val = train_test_split(df_train.drop(['id','Premium Amount','Policy Start Date','Label'],axis=1),df_train['Label'],test_size=0.2,random_state=11)\n",
    "train_pool=Pool(data=X_train,\n",
    "                label=Y_train,\n",
    "                cat_features=cat_features.to_list())\n",
    "val_pool=Pool(data=x_val,\n",
    "               label=y_val,\n",
    "               cat_features=cat_features.to_list())\n",
    "X_test = df_test.drop(['id','Policy Start Date'],axis=1)\n"
   ]
  },
  {
   "cell_type": "code",
   "execution_count": 49,
   "id": "6df6c66f",
   "metadata": {
    "execution": {
     "iopub.execute_input": "2024-12-30T10:39:43.397597Z",
     "iopub.status.busy": "2024-12-30T10:39:43.397315Z",
     "iopub.status.idle": "2024-12-30T10:39:43.451266Z",
     "shell.execute_reply": "2024-12-30T10:39:43.450499Z"
    },
    "papermill": {
     "duration": 0.068462,
     "end_time": "2024-12-30T10:39:43.453284",
     "exception": false,
     "start_time": "2024-12-30T10:39:43.384822",
     "status": "completed"
    },
    "tags": []
   },
   "outputs": [],
   "source": [
    "pt_columns=X_test.select_dtypes(include=['float']).columns"
   ]
  },
  {
   "cell_type": "code",
   "execution_count": 50,
   "id": "8566b4df",
   "metadata": {
    "execution": {
     "iopub.execute_input": "2024-12-30T10:39:43.476900Z",
     "iopub.status.busy": "2024-12-30T10:39:43.476620Z",
     "iopub.status.idle": "2024-12-30T10:39:46.003722Z",
     "shell.execute_reply": "2024-12-30T10:39:46.002700Z"
    },
    "papermill": {
     "duration": 2.541209,
     "end_time": "2024-12-30T10:39:46.005948",
     "exception": false,
     "start_time": "2024-12-30T10:39:43.464739",
     "status": "completed"
    },
    "tags": []
   },
   "outputs": [],
   "source": [
    "X_test[pt_columns]=pt.fit_transform(X_test[pt_columns])"
   ]
  },
  {
   "cell_type": "code",
   "execution_count": 51,
   "id": "c420ca9a",
   "metadata": {
    "execution": {
     "iopub.execute_input": "2024-12-30T10:39:46.029786Z",
     "iopub.status.busy": "2024-12-30T10:39:46.029499Z",
     "iopub.status.idle": "2024-12-30T10:39:46.033954Z",
     "shell.execute_reply": "2024-12-30T10:39:46.033122Z"
    },
    "papermill": {
     "duration": 0.018189,
     "end_time": "2024-12-30T10:39:46.035675",
     "exception": false,
     "start_time": "2024-12-30T10:39:46.017486",
     "status": "completed"
    },
    "tags": []
   },
   "outputs": [],
   "source": [
    "def calc_test_quality(train_pool, val_pool, **kwargs):\n",
    "    model = CatBoostRegressor(**kwargs, task_type=\"GPU\",random_seed=11)\n",
    "    model.fit(train_pool, verbose=0, eval_set=val_pool)\n",
    "    y_pred = model.predict(val_pool)\n",
    "    return eval_metric(val_pool.get_label(), y_pred, 'RMSE'), model"
   ]
  },
  {
   "cell_type": "code",
   "execution_count": 52,
   "id": "e526eb37",
   "metadata": {
    "execution": {
     "iopub.execute_input": "2024-12-30T10:39:46.058406Z",
     "iopub.status.busy": "2024-12-30T10:39:46.058147Z",
     "iopub.status.idle": "2024-12-30T10:39:46.062632Z",
     "shell.execute_reply": "2024-12-30T10:39:46.061803Z"
    },
    "papermill": {
     "duration": 0.017719,
     "end_time": "2024-12-30T10:39:46.064227",
     "exception": false,
     "start_time": "2024-12-30T10:39:46.046508",
     "status": "completed"
    },
    "tags": []
   },
   "outputs": [],
   "source": [
    "#Average regression value from 10 random state\n",
    "def bagging_prob(train_pool, val_pool, **kwargs):\n",
    "    predictions=[]\n",
    "    for i in range(1,11):\n",
    "        model = CatBoostRegressor(**kwargs, task_type=\"GPU\",random_seed=i)\n",
    "        model.fit(train_pool, verbose=0, eval_set=val_pool)\n",
    "        predictions.append(model.predict(X_test))\n",
    "    return np.mean(predictions,axis=0) "
   ]
  },
  {
   "cell_type": "code",
   "execution_count": 53,
   "id": "d8943adb",
   "metadata": {
    "execution": {
     "iopub.execute_input": "2024-12-30T10:39:46.087321Z",
     "iopub.status.busy": "2024-12-30T10:39:46.087042Z",
     "iopub.status.idle": "2024-12-30T11:12:40.139689Z",
     "shell.execute_reply": "2024-12-30T11:12:40.138843Z"
    },
    "papermill": {
     "duration": 1974.079923,
     "end_time": "2024-12-30T11:12:40.155394",
     "exception": false,
     "start_time": "2024-12-30T10:39:46.075471",
     "status": "completed"
    },
    "tags": []
   },
   "outputs": [
    {
     "name": "stderr",
     "output_type": "stream",
     "text": [
      "[I 2024-12-30 10:39:46,089] A new study created in memory with name: no-name-0b7d41e4-4a5c-4710-a1a7-b40fc939a83e\n",
      "[I 2024-12-30 10:40:20,338] Trial 0 finished with value: 1.0498729200507764 and parameters: {'iterations': 1458, 'early_stopping_rounds': 191, 'learning_rate': 0.007141605056741639, 'depth': 5, 'l2_leaf_reg': 8.517280459938654, 'min_data_in_leaf': 93, 'grow_policy': 'Lossguide'}. Best is trial 0 with value: 1.0498729200507764.\n",
      "[I 2024-12-30 10:40:34,641] Trial 1 finished with value: 1.0754501842433675 and parameters: {'iterations': 1807, 'early_stopping_rounds': 293, 'learning_rate': 0.010243952426093609, 'depth': 1, 'l2_leaf_reg': 6.306523781102779, 'min_data_in_leaf': 35, 'grow_policy': 'Depthwise'}. Best is trial 0 with value: 1.0498729200507764.\n",
      "[I 2024-12-30 10:41:11,861] Trial 2 finished with value: 1.049983308364931 and parameters: {'iterations': 3046, 'early_stopping_rounds': 266, 'learning_rate': 0.02761714573093766, 'depth': 4, 'l2_leaf_reg': 3.006352890966305, 'min_data_in_leaf': 20, 'grow_policy': 'Depthwise'}. Best is trial 0 with value: 1.0498729200507764.\n",
      "[I 2024-12-30 10:41:42,617] Trial 3 finished with value: 1.0519320478335754 and parameters: {'iterations': 2833, 'early_stopping_rounds': 365, 'learning_rate': 0.06261154360773759, 'depth': 3, 'l2_leaf_reg': 2.6193727605531896, 'min_data_in_leaf': 82, 'grow_policy': 'Lossguide'}. Best is trial 0 with value: 1.0498729200507764.\n",
      "[I 2024-12-30 10:42:02,513] Trial 4 finished with value: 1.0715173661769386 and parameters: {'iterations': 2556, 'early_stopping_rounds': 280, 'learning_rate': 0.0537294277947298, 'depth': 1, 'l2_leaf_reg': 5.7168753620171495, 'min_data_in_leaf': 90, 'grow_policy': 'Depthwise'}. Best is trial 0 with value: 1.0498729200507764.\n",
      "[I 2024-12-30 10:42:32,696] Trial 5 finished with value: 1.0486215376285608 and parameters: {'iterations': 1887, 'early_stopping_rounds': 284, 'learning_rate': 0.07288767408981474, 'depth': 5, 'l2_leaf_reg': 7.921993305003545, 'min_data_in_leaf': 20, 'grow_policy': 'Depthwise'}. Best is trial 5 with value: 1.0486215376285608.\n",
      "[I 2024-12-30 10:43:23,761] Trial 6 finished with value: 1.0475270874948688 and parameters: {'iterations': 2417, 'early_stopping_rounds': 338, 'learning_rate': 0.012409718145377571, 'depth': 7, 'l2_leaf_reg': 4.261002498435067, 'min_data_in_leaf': 36, 'grow_policy': 'Depthwise'}. Best is trial 6 with value: 1.0475270874948688.\n",
      "[I 2024-12-30 10:43:52,426] Trial 7 finished with value: 1.051262524782531 and parameters: {'iterations': 2246, 'early_stopping_rounds': 377, 'learning_rate': 0.01002935150993382, 'depth': 4, 'l2_leaf_reg': 5.752200197173259, 'min_data_in_leaf': 34, 'grow_policy': 'Depthwise'}. Best is trial 6 with value: 1.0475270874948688.\n",
      "[I 2024-12-30 10:44:21,126] Trial 8 finished with value: 1.04870200868943 and parameters: {'iterations': 1291, 'early_stopping_rounds': 308, 'learning_rate': 0.08375839754451603, 'depth': 5, 'l2_leaf_reg': 8.63896873462873, 'min_data_in_leaf': 56, 'grow_policy': 'Lossguide'}. Best is trial 6 with value: 1.0475270874948688.\n",
      "[I 2024-12-30 10:45:01,756] Trial 9 finished with value: 1.0473728884143059 and parameters: {'iterations': 1281, 'early_stopping_rounds': 368, 'learning_rate': 0.03428957001543605, 'depth': 9, 'l2_leaf_reg': 3.6716409802252983, 'min_data_in_leaf': 31, 'grow_policy': 'Lossguide'}. Best is trial 9 with value: 1.0473728884143059.\n",
      "[I 2024-12-30 10:45:42,262] Trial 10 finished with value: 1.0473346943584294 and parameters: {'iterations': 3426, 'early_stopping_rounds': 115, 'learning_rate': 0.03575826256431775, 'depth': 10, 'l2_leaf_reg': 1.1848063480977036, 'min_data_in_leaf': 3, 'grow_policy': 'Lossguide'}. Best is trial 10 with value: 1.0473346943584294.\n",
      "[I 2024-12-30 10:46:17,798] Trial 11 finished with value: 1.0473588458771657 and parameters: {'iterations': 3867, 'early_stopping_rounds': 110, 'learning_rate': 0.035727170174680155, 'depth': 10, 'l2_leaf_reg': 1.011719853460356, 'min_data_in_leaf': 2, 'grow_policy': 'Lossguide'}. Best is trial 10 with value: 1.0473346943584294.\n",
      "[I 2024-12-30 10:46:52,426] Trial 12 finished with value: 1.0473262790049798 and parameters: {'iterations': 3970, 'early_stopping_rounds': 100, 'learning_rate': 0.03628065279878711, 'depth': 10, 'l2_leaf_reg': 1.0374973746385088, 'min_data_in_leaf': 2, 'grow_policy': 'Lossguide'}. Best is trial 12 with value: 1.0473262790049798.\n",
      "[I 2024-12-30 10:47:29,534] Trial 13 finished with value: 1.0474870156195148 and parameters: {'iterations': 3996, 'early_stopping_rounds': 109, 'learning_rate': 0.042062980829925656, 'depth': 8, 'l2_leaf_reg': 1.416193481168894, 'min_data_in_leaf': 6, 'grow_policy': 'Lossguide'}. Best is trial 12 with value: 1.0473262790049798.\n",
      "[I 2024-12-30 10:48:26,011] Trial 14 finished with value: 1.0473806399104504 and parameters: {'iterations': 3375, 'early_stopping_rounds': 167, 'learning_rate': 0.02356117239755552, 'depth': 10, 'l2_leaf_reg': 1.9587449454639037, 'min_data_in_leaf': 59, 'grow_policy': 'Lossguide'}. Best is trial 12 with value: 1.0473262790049798.\n",
      "[I 2024-12-30 10:49:01,405] Trial 15 finished with value: 1.0476542889948588 and parameters: {'iterations': 3519, 'early_stopping_rounds': 162, 'learning_rate': 0.04873855382788897, 'depth': 7, 'l2_leaf_reg': 4.501379561298032, 'min_data_in_leaf': 12, 'grow_policy': 'Lossguide'}. Best is trial 12 with value: 1.0473262790049798.\n",
      "[I 2024-12-30 10:49:38,520] Trial 16 finished with value: 1.0474571715400862 and parameters: {'iterations': 3516, 'early_stopping_rounds': 225, 'learning_rate': 0.05920388938308368, 'depth': 8, 'l2_leaf_reg': 2.402654840658035, 'min_data_in_leaf': 17, 'grow_policy': 'Lossguide'}. Best is trial 12 with value: 1.0473262790049798.\n",
      "[I 2024-12-30 10:49:55,941] Trial 17 finished with value: 1.047476927709562 and parameters: {'iterations': 3150, 'early_stopping_rounds': 144, 'learning_rate': 0.0968769043864649, 'depth': 10, 'l2_leaf_reg': 1.0614249147070844, 'min_data_in_leaf': 49, 'grow_policy': 'Lossguide'}. Best is trial 12 with value: 1.0473262790049798.\n",
      "[I 2024-12-30 10:50:49,931] Trial 18 finished with value: 1.0474216104119503 and parameters: {'iterations': 3750, 'early_stopping_rounds': 209, 'learning_rate': 0.021582666530667524, 'depth': 8, 'l2_leaf_reg': 9.666052380625331, 'min_data_in_leaf': 66, 'grow_policy': 'Lossguide'}. Best is trial 12 with value: 1.0473262790049798.\n",
      "[I 2024-12-30 10:51:11,506] Trial 19 finished with value: 1.0474492352910412 and parameters: {'iterations': 2866, 'early_stopping_rounds': 100, 'learning_rate': 0.0688790294355626, 'depth': 9, 'l2_leaf_reg': 3.3287387763099288, 'min_data_in_leaf': 4, 'grow_policy': 'Lossguide'}. Best is trial 12 with value: 1.0473262790049798.\n",
      "[I 2024-12-30 10:51:47,187] Trial 20 finished with value: 1.0473739351902047 and parameters: {'iterations': 3668, 'early_stopping_rounds': 133, 'learning_rate': 0.04593500912899642, 'depth': 9, 'l2_leaf_reg': 7.048447129934975, 'min_data_in_leaf': 45, 'grow_policy': 'Lossguide'}. Best is trial 12 with value: 1.0473262790049798.\n",
      "[I 2024-12-30 10:52:28,126] Trial 21 finished with value: 1.047344238856004 and parameters: {'iterations': 3996, 'early_stopping_rounds': 125, 'learning_rate': 0.0373221096319773, 'depth': 10, 'l2_leaf_reg': 1.5380412005031303, 'min_data_in_leaf': 2, 'grow_policy': 'Lossguide'}. Best is trial 12 with value: 1.0473262790049798.\n",
      "[I 2024-12-30 10:53:08,951] Trial 22 finished with value: 1.047335111602738 and parameters: {'iterations': 3980, 'early_stopping_rounds': 142, 'learning_rate': 0.03819748710309573, 'depth': 10, 'l2_leaf_reg': 1.98018950083839, 'min_data_in_leaf': 12, 'grow_policy': 'Lossguide'}. Best is trial 12 with value: 1.0473262790049798.\n",
      "[I 2024-12-30 10:53:45,654] Trial 23 finished with value: 1.0477224184739276 and parameters: {'iterations': 3249, 'early_stopping_rounds': 156, 'learning_rate': 0.03107981315550029, 'depth': 7, 'l2_leaf_reg': 2.125780485858499, 'min_data_in_leaf': 13, 'grow_policy': 'Lossguide'}. Best is trial 12 with value: 1.0473262790049798.\n",
      "[I 2024-12-30 10:55:11,116] Trial 24 finished with value: 1.0473336635016328 and parameters: {'iterations': 3665, 'early_stopping_rounds': 185, 'learning_rate': 0.017612831616943287, 'depth': 9, 'l2_leaf_reg': 4.492681948044456, 'min_data_in_leaf': 24, 'grow_policy': 'Lossguide'}. Best is trial 12 with value: 1.0473262790049798.\n",
      "[I 2024-12-30 10:55:59,610] Trial 25 finished with value: 1.0474251791276181 and parameters: {'iterations': 3662, 'early_stopping_rounds': 186, 'learning_rate': 0.020680369079785627, 'depth': 9, 'l2_leaf_reg': 4.667557161000322, 'min_data_in_leaf': 26, 'grow_policy': 'Lossguide'}. Best is trial 12 with value: 1.0473262790049798.\n",
      "[I 2024-12-30 10:57:37,899] Trial 26 finished with value: 1.047832753839065 and parameters: {'iterations': 3414, 'early_stopping_rounds': 223, 'learning_rate': 0.0028374671117158343, 'depth': 8, 'l2_leaf_reg': 3.798835577798179, 'min_data_in_leaf': 25, 'grow_policy': 'Lossguide'}. Best is trial 12 with value: 1.0473262790049798.\n",
      "[I 2024-12-30 10:58:50,140] Trial 27 finished with value: 1.0481031431432346 and parameters: {'iterations': 2960, 'early_stopping_rounds': 185, 'learning_rate': 0.01752204792478325, 'depth': 6, 'l2_leaf_reg': 2.7286257780097616, 'min_data_in_leaf': 10, 'grow_policy': 'Lossguide'}. Best is trial 12 with value: 1.0473262790049798.\n",
      "[I 2024-12-30 10:59:38,058] Trial 28 finished with value: 1.0473419804280255 and parameters: {'iterations': 3719, 'early_stopping_rounds': 250, 'learning_rate': 0.026313226393955138, 'depth': 9, 'l2_leaf_reg': 4.881428603347488, 'min_data_in_leaf': 40, 'grow_policy': 'Lossguide'}. Best is trial 12 with value: 1.0473262790049798.\n",
      "[I 2024-12-30 11:00:44,123] Trial 29 finished with value: 1.0481560819542872 and parameters: {'iterations': 2658, 'early_stopping_rounds': 122, 'learning_rate': 0.015791321540039836, 'depth': 6, 'l2_leaf_reg': 6.789543017634728, 'min_data_in_leaf': 27, 'grow_policy': 'Lossguide'}. Best is trial 12 with value: 1.0473262790049798.\n",
      "[I 2024-12-30 11:01:24,256] Trial 30 finished with value: 1.0473142703910445 and parameters: {'iterations': 3223, 'early_stopping_rounds': 171, 'learning_rate': 0.05359180060854154, 'depth': 10, 'l2_leaf_reg': 3.186334155522287, 'min_data_in_leaf': 70, 'grow_policy': 'Lossguide'}. Best is trial 30 with value: 1.0473142703910445.\n",
      "[I 2024-12-30 11:02:03,806] Trial 31 finished with value: 1.0473350018596899 and parameters: {'iterations': 3260, 'early_stopping_rounds': 175, 'learning_rate': 0.052776021517984724, 'depth': 10, 'l2_leaf_reg': 5.156579409261008, 'min_data_in_leaf': 70, 'grow_policy': 'Lossguide'}. Best is trial 30 with value: 1.0473142703910445.\n",
      "[I 2024-12-30 11:02:45,314] Trial 32 finished with value: 1.047316499011919 and parameters: {'iterations': 3476, 'early_stopping_rounds': 210, 'learning_rate': 0.04613913253476841, 'depth': 9, 'l2_leaf_reg': 3.9467383770615845, 'min_data_in_leaf': 76, 'grow_policy': 'Lossguide'}. Best is trial 30 with value: 1.0473142703910445.\n",
      "[I 2024-12-30 11:03:28,503] Trial 33 finished with value: 1.0473489385971726 and parameters: {'iterations': 3577, 'early_stopping_rounds': 208, 'learning_rate': 0.044350500346485536, 'depth': 9, 'l2_leaf_reg': 4.025824001788035, 'min_data_in_leaf': 75, 'grow_policy': 'Lossguide'}. Best is trial 30 with value: 1.0473142703910445.\n",
      "[I 2024-12-30 11:03:42,222] Trial 34 finished with value: 1.0473791923791613 and parameters: {'iterations': 3099, 'early_stopping_rounds': 203, 'learning_rate': 0.05688490264068786, 'depth': 8, 'l2_leaf_reg': 3.5795058428925515, 'min_data_in_leaf': 99, 'grow_policy': 'Depthwise'}. Best is trial 30 with value: 1.0473142703910445.\n",
      "[I 2024-12-30 11:04:06,649] Trial 35 finished with value: 1.0474541622222897 and parameters: {'iterations': 3816, 'early_stopping_rounds': 245, 'learning_rate': 0.07592094143318674, 'depth': 9, 'l2_leaf_reg': 3.1086349298343556, 'min_data_in_leaf': 62, 'grow_policy': 'Lossguide'}. Best is trial 30 with value: 1.0473142703910445.\n",
      "[I 2024-12-30 11:04:37,219] Trial 36 finished with value: 1.0574720623381042 and parameters: {'iterations': 3332, 'early_stopping_rounds': 233, 'learning_rate': 0.06659168034186, 'depth': 2, 'l2_leaf_reg': 5.3222340252764475, 'min_data_in_leaf': 83, 'grow_policy': 'Depthwise'}. Best is trial 30 with value: 1.0473142703910445.\n",
      "[I 2024-12-30 11:05:29,928] Trial 37 finished with value: 1.0476335397821426 and parameters: {'iterations': 2090, 'early_stopping_rounds': 269, 'learning_rate': 0.030356252936983488, 'depth': 7, 'l2_leaf_reg': 2.8163168596177472, 'min_data_in_leaf': 77, 'grow_policy': 'Lossguide'}. Best is trial 30 with value: 1.0473142703910445.\n",
      "[I 2024-12-30 11:05:47,750] Trial 38 finished with value: 1.0472849475244208 and parameters: {'iterations': 1692, 'early_stopping_rounds': 397, 'learning_rate': 0.050630267350252986, 'depth': 8, 'l2_leaf_reg': 5.868147353321822, 'min_data_in_leaf': 53, 'grow_policy': 'Depthwise'}. Best is trial 38 with value: 1.0472849475244208.\n",
      "[I 2024-12-30 11:06:04,549] Trial 39 finished with value: 1.0472604461639956 and parameters: {'iterations': 1521, 'early_stopping_rounds': 308, 'learning_rate': 0.050311101428146994, 'depth': 8, 'l2_leaf_reg': 5.962145682706254, 'min_data_in_leaf': 87, 'grow_policy': 'Depthwise'}. Best is trial 39 with value: 1.0472604461639956.\n",
      "[I 2024-12-30 11:06:28,134] Trial 40 finished with value: 1.0481497293511335 and parameters: {'iterations': 1641, 'early_stopping_rounds': 400, 'learning_rate': 0.05941764056789231, 'depth': 6, 'l2_leaf_reg': 6.171208406198892, 'min_data_in_leaf': 90, 'grow_policy': 'Depthwise'}. Best is trial 39 with value: 1.0472604461639956.\n",
      "[I 2024-12-30 11:06:45,087] Trial 41 finished with value: 1.047263908046642 and parameters: {'iterations': 1130, 'early_stopping_rounds': 319, 'learning_rate': 0.05133000638926718, 'depth': 8, 'l2_leaf_reg': 6.14546925631394, 'min_data_in_leaf': 85, 'grow_policy': 'Depthwise'}. Best is trial 39 with value: 1.0472604461639956.\n",
      "[I 2024-12-30 11:07:01,565] Trial 42 finished with value: 1.047605886553412 and parameters: {'iterations': 1012, 'early_stopping_rounds': 313, 'learning_rate': 0.05096903681174851, 'depth': 7, 'l2_leaf_reg': 7.148719158241778, 'min_data_in_leaf': 85, 'grow_policy': 'Depthwise'}. Best is trial 39 with value: 1.0472604461639956.\n",
      "[I 2024-12-30 11:07:22,747] Trial 43 finished with value: 1.047272591892292 and parameters: {'iterations': 1525, 'early_stopping_rounds': 333, 'learning_rate': 0.04240823365728763, 'depth': 8, 'l2_leaf_reg': 6.2647164612421005, 'min_data_in_leaf': 77, 'grow_policy': 'Depthwise'}. Best is trial 39 with value: 1.0472604461639956.\n",
      "[I 2024-12-30 11:07:37,894] Trial 44 finished with value: 1.047378031528664 and parameters: {'iterations': 1562, 'early_stopping_rounds': 341, 'learning_rate': 0.06420399818504134, 'depth': 8, 'l2_leaf_reg': 6.100096785871179, 'min_data_in_leaf': 97, 'grow_policy': 'Depthwise'}. Best is trial 39 with value: 1.0472604461639956.\n",
      "[I 2024-12-30 11:08:01,642] Trial 45 finished with value: 1.049781936211702 and parameters: {'iterations': 1808, 'early_stopping_rounds': 340, 'learning_rate': 0.05562087396732492, 'depth': 4, 'l2_leaf_reg': 6.569942581526836, 'min_data_in_leaf': 86, 'grow_policy': 'Depthwise'}. Best is trial 39 with value: 1.0472604461639956.\n",
      "[I 2024-12-30 11:08:24,159] Trial 46 finished with value: 1.048064965459066 and parameters: {'iterations': 1228, 'early_stopping_rounds': 309, 'learning_rate': 0.04099989248646556, 'depth': 6, 'l2_leaf_reg': 7.699833821512802, 'min_data_in_leaf': 68, 'grow_policy': 'Depthwise'}. Best is trial 39 with value: 1.0472604461639956.\n",
      "[I 2024-12-30 11:08:42,211] Trial 47 finished with value: 1.0472763479455975 and parameters: {'iterations': 1426, 'early_stopping_rounds': 322, 'learning_rate': 0.0495335776419235, 'depth': 8, 'l2_leaf_reg': 5.868046126061118, 'min_data_in_leaf': 92, 'grow_policy': 'Depthwise'}. Best is trial 39 with value: 1.0472604461639956.\n",
      "[I 2024-12-30 11:08:59,474] Trial 48 finished with value: 1.0473016664626784 and parameters: {'iterations': 1394, 'early_stopping_rounds': 326, 'learning_rate': 0.048570605091948535, 'depth': 8, 'l2_leaf_reg': 5.712127776662427, 'min_data_in_leaf': 94, 'grow_policy': 'Depthwise'}. Best is trial 39 with value: 1.0472604461639956.\n",
      "[I 2024-12-30 11:09:14,452] Trial 49 finished with value: 1.047644995603186 and parameters: {'iterations': 2008, 'early_stopping_rounds': 356, 'learning_rate': 0.07497264344243314, 'depth': 7, 'l2_leaf_reg': 7.624553192233219, 'min_data_in_leaf': 90, 'grow_policy': 'Depthwise'}. Best is trial 39 with value: 1.0472604461639956.\n",
      "[I 2024-12-30 11:09:28,823] Trial 50 finished with value: 1.04735398728683 and parameters: {'iterations': 1054, 'early_stopping_rounds': 289, 'learning_rate': 0.06170530824701615, 'depth': 8, 'l2_leaf_reg': 5.783230833680178, 'min_data_in_leaf': 81, 'grow_policy': 'Depthwise'}. Best is trial 39 with value: 1.0472604461639956.\n",
      "[I 2024-12-30 11:09:47,442] Trial 51 finished with value: 1.0473033346449592 and parameters: {'iterations': 1438, 'early_stopping_rounds': 323, 'learning_rate': 0.04875317207000552, 'depth': 8, 'l2_leaf_reg': 5.6959867308756635, 'min_data_in_leaf': 94, 'grow_policy': 'Depthwise'}. Best is trial 39 with value: 1.0472604461639956.\n",
      "[I 2024-12-30 11:10:10,008] Trial 52 finished with value: 1.0476171085306045 and parameters: {'iterations': 1412, 'early_stopping_rounds': 386, 'learning_rate': 0.042376309342762875, 'depth': 7, 'l2_leaf_reg': 6.420066594651051, 'min_data_in_leaf': 94, 'grow_policy': 'Depthwise'}. Best is trial 39 with value: 1.0472604461639956.\n",
      "[I 2024-12-30 11:10:26,424] Trial 53 finished with value: 1.0473159579206683 and parameters: {'iterations': 1622, 'early_stopping_rounds': 328, 'learning_rate': 0.05072794015439278, 'depth': 8, 'l2_leaf_reg': 5.865280663795538, 'min_data_in_leaf': 79, 'grow_policy': 'Depthwise'}. Best is trial 39 with value: 1.0472604461639956.\n",
      "[I 2024-12-30 11:10:46,667] Trial 54 finished with value: 1.047594680634261 and parameters: {'iterations': 1227, 'early_stopping_rounds': 363, 'learning_rate': 0.04628926240776248, 'depth': 7, 'l2_leaf_reg': 5.168026571856368, 'min_data_in_leaf': 88, 'grow_policy': 'Depthwise'}. Best is trial 39 with value: 1.0472604461639956.\n",
      "[I 2024-12-30 11:11:06,298] Trial 55 finished with value: 1.0472947787083255 and parameters: {'iterations': 1142, 'early_stopping_rounds': 297, 'learning_rate': 0.039824966556247135, 'depth': 8, 'l2_leaf_reg': 6.880408323588206, 'min_data_in_leaf': 100, 'grow_policy': 'Depthwise'}. Best is trial 39 with value: 1.0472604461639956.\n",
      "[I 2024-12-30 11:11:33,510] Trial 56 finished with value: 1.0472179812207458 and parameters: {'iterations': 1178, 'early_stopping_rounds': 272, 'learning_rate': 0.031134527026258886, 'depth': 8, 'l2_leaf_reg': 8.454666581142273, 'min_data_in_leaf': 54, 'grow_policy': 'Depthwise'}. Best is trial 56 with value: 1.0472179812207458.\n",
      "[I 2024-12-30 11:11:59,486] Trial 57 finished with value: 1.04882620748461 and parameters: {'iterations': 1720, 'early_stopping_rounds': 274, 'learning_rate': 0.03122334473220588, 'depth': 5, 'l2_leaf_reg': 8.677354618747206, 'min_data_in_leaf': 54, 'grow_policy': 'Depthwise'}. Best is trial 56 with value: 1.0472179812207458.\n",
      "[I 2024-12-30 11:12:15,439] Trial 58 finished with value: 1.0475992460947077 and parameters: {'iterations': 1337, 'early_stopping_rounds': 299, 'learning_rate': 0.057104007750951376, 'depth': 7, 'l2_leaf_reg': 9.11177606702287, 'min_data_in_leaf': 47, 'grow_policy': 'Depthwise'}. Best is trial 56 with value: 1.0472179812207458.\n",
      "[I 2024-12-30 11:12:40,136] Trial 59 finished with value: 1.0471188378078469 and parameters: {'iterations': 1525, 'early_stopping_rounds': 352, 'learning_rate': 0.03290629729819627, 'depth': 9, 'l2_leaf_reg': 7.2629086592855385, 'min_data_in_leaf': 43, 'grow_policy': 'Depthwise'}. Best is trial 59 with value: 1.0471188378078469.\n"
     ]
    }
   ],
   "source": [
    "from optuna.samplers import TPESampler\n",
    "\n",
    "sampler = TPESampler(seed=777)\n",
    "study = optuna.create_study(direction='minimize', sampler=sampler)\n",
    "study.optimize(objective, n_trials=60)"
   ]
  },
  {
   "cell_type": "code",
   "execution_count": 54,
   "id": "23cca806",
   "metadata": {
    "execution": {
     "iopub.execute_input": "2024-12-30T11:12:40.187779Z",
     "iopub.status.busy": "2024-12-30T11:12:40.187414Z",
     "iopub.status.idle": "2024-12-30T11:12:40.192735Z",
     "shell.execute_reply": "2024-12-30T11:12:40.191709Z"
    },
    "papermill": {
     "duration": 0.024478,
     "end_time": "2024-12-30T11:12:40.194776",
     "exception": false,
     "start_time": "2024-12-30T11:12:40.170298",
     "status": "completed"
    },
    "tags": []
   },
   "outputs": [
    {
     "name": "stdout",
     "output_type": "stream",
     "text": [
      "{'iterations': 1525, 'early_stopping_rounds': 352, 'learning_rate': 0.03290629729819627, 'depth': 9, 'l2_leaf_reg': 7.2629086592855385, 'min_data_in_leaf': 43, 'grow_policy': 'Depthwise'}\n"
     ]
    }
   ],
   "source": [
    "print(study.best_params)"
   ]
  },
  {
   "cell_type": "code",
   "execution_count": 55,
   "id": "34aa1126",
   "metadata": {
    "execution": {
     "iopub.execute_input": "2024-12-30T11:12:40.226827Z",
     "iopub.status.busy": "2024-12-30T11:12:40.226555Z",
     "iopub.status.idle": "2024-12-30T11:12:40.230481Z",
     "shell.execute_reply": "2024-12-30T11:12:40.229740Z"
    },
    "papermill": {
     "duration": 0.022071,
     "end_time": "2024-12-30T11:12:40.232167",
     "exception": false,
     "start_time": "2024-12-30T11:12:40.210096",
     "status": "completed"
    },
    "tags": []
   },
   "outputs": [],
   "source": [
    "# best_params={'iterations': 3993, \n",
    "#              'early_stopping_rounds': 196,\n",
    "#              'learning_rate': 0.04388555358504515,\n",
    "#              'depth': 10,\n",
    "#              'l2_leaf_reg': 4.406115225787097,\n",
    "#              'min_data_in_leaf': 69,\n",
    "#              'grow_policy': 'Lossguide'}\n",
    "\n",
    "#best_params={'iterations': 1719,\n",
    "#             'early_stopping_rounds': 62,\n",
    "#             'learning_rate': 0.022712635681532305,\n",
    "#             'depth': 10, 'l2_leaf_reg': 2.266827548044181,\n",
    "#             'min_data_in_leaf': 66,\n",
    "#             'grow_policy': 'Depthwise'}\n",
    "#metriclist, model = calc_test_quality(train_pool,val_pool,**best_params)\n",
    "#model.save_model('optuna_tune_model')"
   ]
  },
  {
   "cell_type": "code",
   "execution_count": 56,
   "id": "fa925ce5",
   "metadata": {
    "execution": {
     "iopub.execute_input": "2024-12-30T11:12:40.263419Z",
     "iopub.status.busy": "2024-12-30T11:12:40.263167Z",
     "iopub.status.idle": "2024-12-30T11:12:40.266589Z",
     "shell.execute_reply": "2024-12-30T11:12:40.265869Z"
    },
    "papermill": {
     "duration": 0.021226,
     "end_time": "2024-12-30T11:12:40.268363",
     "exception": false,
     "start_time": "2024-12-30T11:12:40.247137",
     "status": "completed"
    },
    "tags": []
   },
   "outputs": [],
   "source": [
    "#print(metriclist)"
   ]
  },
  {
   "cell_type": "code",
   "execution_count": 57,
   "id": "437a5c57",
   "metadata": {
    "execution": {
     "iopub.execute_input": "2024-12-30T11:12:40.298808Z",
     "iopub.status.busy": "2024-12-30T11:12:40.298583Z",
     "iopub.status.idle": "2024-12-30T11:17:13.553316Z",
     "shell.execute_reply": "2024-12-30T11:17:13.552527Z"
    },
    "papermill": {
     "duration": 273.272824,
     "end_time": "2024-12-30T11:17:13.555877",
     "exception": false,
     "start_time": "2024-12-30T11:12:40.283053",
     "status": "completed"
    },
    "tags": []
   },
   "outputs": [],
   "source": [
    "#predicts = model.predict(X_test)\n",
    "predicts = bagging_prob(train_pool,val_pool,**study.best_params)"
   ]
  },
  {
   "cell_type": "code",
   "execution_count": 58,
   "id": "d7fa73cd",
   "metadata": {
    "execution": {
     "iopub.execute_input": "2024-12-30T11:17:13.587099Z",
     "iopub.status.busy": "2024-12-30T11:17:13.586778Z",
     "iopub.status.idle": "2024-12-30T11:17:13.592055Z",
     "shell.execute_reply": "2024-12-30T11:17:13.591431Z"
    },
    "papermill": {
     "duration": 0.022013,
     "end_time": "2024-12-30T11:17:13.593645",
     "exception": false,
     "start_time": "2024-12-30T11:17:13.571632",
     "status": "completed"
    },
    "tags": []
   },
   "outputs": [],
   "source": [
    "predicts_original_scale = np.expm1(predicts)"
   ]
  },
  {
   "cell_type": "code",
   "execution_count": 59,
   "id": "ec510566",
   "metadata": {
    "execution": {
     "iopub.execute_input": "2024-12-30T11:17:13.621876Z",
     "iopub.status.busy": "2024-12-30T11:17:13.621634Z",
     "iopub.status.idle": "2024-12-30T11:17:14.989024Z",
     "shell.execute_reply": "2024-12-30T11:17:14.988326Z"
    },
    "papermill": {
     "duration": 1.383843,
     "end_time": "2024-12-30T11:17:14.991003",
     "exception": false,
     "start_time": "2024-12-30T11:17:13.607160",
     "status": "completed"
    },
    "tags": []
   },
   "outputs": [],
   "source": [
    "temp=pd.concat([df_test['id'],pd.DataFrame(predicts_original_scale,columns=['Premium Amount'])],axis=1).reset_index(drop=True)\n",
    "temp.to_csv('submissionfloat18.csv',index=False)"
   ]
  },
  {
   "cell_type": "code",
   "execution_count": 60,
   "id": "6a898ec2",
   "metadata": {
    "execution": {
     "iopub.execute_input": "2024-12-30T11:17:15.020042Z",
     "iopub.status.busy": "2024-12-30T11:17:15.019754Z",
     "iopub.status.idle": "2024-12-30T11:17:15.023344Z",
     "shell.execute_reply": "2024-12-30T11:17:15.022532Z"
    },
    "papermill": {
     "duration": 0.019697,
     "end_time": "2024-12-30T11:17:15.024862",
     "exception": false,
     "start_time": "2024-12-30T11:17:15.005165",
     "status": "completed"
    },
    "tags": []
   },
   "outputs": [],
   "source": [
    "#from IPython.display import FileLink\n",
    "\n",
    "# Provide a link to the file in the notebook\n",
    "#FileLink(\"subfloat2.zip\")\n"
   ]
  },
  {
   "cell_type": "code",
   "execution_count": 61,
   "id": "4d95a5e9",
   "metadata": {
    "execution": {
     "iopub.execute_input": "2024-12-30T11:17:15.052943Z",
     "iopub.status.busy": "2024-12-30T11:17:15.052695Z",
     "iopub.status.idle": "2024-12-30T11:17:15.055938Z",
     "shell.execute_reply": "2024-12-30T11:17:15.055329Z"
    },
    "papermill": {
     "duration": 0.019021,
     "end_time": "2024-12-30T11:17:15.057408",
     "exception": false,
     "start_time": "2024-12-30T11:17:15.038387",
     "status": "completed"
    },
    "tags": []
   },
   "outputs": [],
   "source": [
    "#round int\n",
    "#temp=pd.concat([df_test['id'],pd.DataFrame(np.rint(predicts_original_scale),columns=['Premium Amount'])],axis=1).reset_index(drop=True)"
   ]
  },
  {
   "cell_type": "code",
   "execution_count": 62,
   "id": "82c123c2",
   "metadata": {
    "execution": {
     "iopub.execute_input": "2024-12-30T11:17:15.085697Z",
     "iopub.status.busy": "2024-12-30T11:17:15.085479Z",
     "iopub.status.idle": "2024-12-30T11:17:15.088670Z",
     "shell.execute_reply": "2024-12-30T11:17:15.087997Z"
    },
    "papermill": {
     "duration": 0.019215,
     "end_time": "2024-12-30T11:17:15.090267",
     "exception": false,
     "start_time": "2024-12-30T11:17:15.071052",
     "status": "completed"
    },
    "tags": []
   },
   "outputs": [],
   "source": [
    "#not round int\n",
    "#temp2=pd.concat([df_test['id'],pd.DataFrame(predicts_original_scale.astype(int),columns=['Premium Amount'])],axis=1).reset_index(drop=True)"
   ]
  },
  {
   "cell_type": "code",
   "execution_count": 63,
   "id": "19b3dd6b",
   "metadata": {
    "execution": {
     "iopub.execute_input": "2024-12-30T11:17:15.118197Z",
     "iopub.status.busy": "2024-12-30T11:17:15.117936Z",
     "iopub.status.idle": "2024-12-30T11:17:15.121122Z",
     "shell.execute_reply": "2024-12-30T11:17:15.120422Z"
    },
    "papermill": {
     "duration": 0.018843,
     "end_time": "2024-12-30T11:17:15.122618",
     "exception": false,
     "start_time": "2024-12-30T11:17:15.103775",
     "status": "completed"
    },
    "tags": []
   },
   "outputs": [],
   "source": [
    "#temp.to_csv('submissionX.csv',index=False)"
   ]
  },
  {
   "cell_type": "code",
   "execution_count": 64,
   "id": "67a3a931",
   "metadata": {
    "execution": {
     "iopub.execute_input": "2024-12-30T11:17:15.151051Z",
     "iopub.status.busy": "2024-12-30T11:17:15.150810Z",
     "iopub.status.idle": "2024-12-30T11:17:15.154263Z",
     "shell.execute_reply": "2024-12-30T11:17:15.153476Z"
    },
    "papermill": {
     "duration": 0.019577,
     "end_time": "2024-12-30T11:17:15.155892",
     "exception": false,
     "start_time": "2024-12-30T11:17:15.136315",
     "status": "completed"
    },
    "tags": []
   },
   "outputs": [],
   "source": [
    "#temp2.to_csv('submission_not_round.csv',index=False)"
   ]
  },
  {
   "cell_type": "code",
   "execution_count": null,
   "id": "6d537cfa",
   "metadata": {
    "papermill": {
     "duration": 0.013462,
     "end_time": "2024-12-30T11:17:15.183061",
     "exception": false,
     "start_time": "2024-12-30T11:17:15.169599",
     "status": "completed"
    },
    "tags": []
   },
   "outputs": [],
   "source": []
  },
  {
   "cell_type": "code",
   "execution_count": 65,
   "id": "d871b42b",
   "metadata": {
    "execution": {
     "iopub.execute_input": "2024-12-30T11:17:15.211490Z",
     "iopub.status.busy": "2024-12-30T11:17:15.211242Z",
     "iopub.status.idle": "2024-12-30T11:17:17.432244Z",
     "shell.execute_reply": "2024-12-30T11:17:17.431356Z"
    },
    "papermill": {
     "duration": 2.237557,
     "end_time": "2024-12-30T11:17:17.434237",
     "exception": false,
     "start_time": "2024-12-30T11:17:15.196680",
     "status": "completed"
    },
    "tags": []
   },
   "outputs": [
    {
     "name": "stdout",
     "output_type": "stream",
     "text": [
      "rm: cannot remove 'subnotround.zip': No such file or directory\r\n",
      "\tzip warning: name not matched: submission_not_round.csv\r\n",
      "\r\n",
      "zip error: Nothing to do! (subnotround.zip)\r\n"
     ]
    }
   ],
   "source": [
    "!rm subnotround.zip\n",
    "!zip subnotround.zip submission_not_round.csv\n"
   ]
  },
  {
   "cell_type": "code",
   "execution_count": 66,
   "id": "a7bdab77",
   "metadata": {
    "execution": {
     "iopub.execute_input": "2024-12-30T11:17:17.464548Z",
     "iopub.status.busy": "2024-12-30T11:17:17.464239Z",
     "iopub.status.idle": "2024-12-30T11:17:19.572894Z",
     "shell.execute_reply": "2024-12-30T11:17:19.571806Z"
    },
    "papermill": {
     "duration": 2.125783,
     "end_time": "2024-12-30T11:17:19.574840",
     "exception": false,
     "start_time": "2024-12-30T11:17:17.449057",
     "status": "completed"
    },
    "tags": []
   },
   "outputs": [
    {
     "name": "stdout",
     "output_type": "stream",
     "text": [
      "rm: cannot remove 'sub.zip': No such file or directory\r\n",
      "\tzip warning: name not matched: submissionX.csv\r\n",
      "\r\n",
      "zip error: Nothing to do! (sub.zip)\r\n"
     ]
    }
   ],
   "source": [
    "!rm sub.zip\n",
    "!zip sub.zip submissionX.csv"
   ]
  },
  {
   "cell_type": "code",
   "execution_count": 67,
   "id": "97945a73",
   "metadata": {
    "execution": {
     "iopub.execute_input": "2024-12-30T11:17:19.605378Z",
     "iopub.status.busy": "2024-12-30T11:17:19.605043Z",
     "iopub.status.idle": "2024-12-30T11:17:20.656795Z",
     "shell.execute_reply": "2024-12-30T11:17:20.655818Z"
    },
    "papermill": {
     "duration": 1.069554,
     "end_time": "2024-12-30T11:17:20.658992",
     "exception": false,
     "start_time": "2024-12-30T11:17:19.589438",
     "status": "completed"
    },
    "tags": []
   },
   "outputs": [
    {
     "name": "stdout",
     "output_type": "stream",
     "text": [
      "ls: cannot access '*.zip': No such file or directory\r\n"
     ]
    }
   ],
   "source": [
    "!ls -al *.zip"
   ]
  }
 ],
 "metadata": {
  "kaggle": {
   "accelerator": "nvidiaTeslaT4",
   "dataSources": [
    {
     "databundleVersionId": 10305135,
     "sourceId": 84896,
     "sourceType": "competition"
    },
    {
     "datasetId": 6332864,
     "sourceId": 10240600,
     "sourceType": "datasetVersion"
    }
   ],
   "dockerImageVersionId": 30804,
   "isGpuEnabled": true,
   "isInternetEnabled": true,
   "language": "python",
   "sourceType": "notebook"
  },
  "kernelspec": {
   "display_name": "Python 3",
   "language": "python",
   "name": "python3"
  },
  "language_info": {
   "codemirror_mode": {
    "name": "ipython",
    "version": 3
   },
   "file_extension": ".py",
   "mimetype": "text/x-python",
   "name": "python",
   "nbconvert_exporter": "python",
   "pygments_lexer": "ipython3",
   "version": "3.10.14"
  },
  "papermill": {
   "default_parameters": {},
   "duration": 2295.318843,
   "end_time": "2024-12-30T11:17:21.896311",
   "environment_variables": {},
   "exception": null,
   "input_path": "__notebook__.ipynb",
   "output_path": "__notebook__.ipynb",
   "parameters": {},
   "start_time": "2024-12-30T10:39:06.577468",
   "version": "2.6.0"
  }
 },
 "nbformat": 4,
 "nbformat_minor": 5
}
