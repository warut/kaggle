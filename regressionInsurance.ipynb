{
 "cells": [
  {
   "cell_type": "code",
   "execution_count": 1,
   "id": "fa72ab3c",
   "metadata": {
    "_cell_guid": "b1076dfc-b9ad-4769-8c92-a6c4dae69d19",
    "_uuid": "8f2839f25d086af736a60e9eeb907d3b93b6e0e5",
    "execution": {
     "iopub.execute_input": "2024-12-29T01:46:32.347207Z",
     "iopub.status.busy": "2024-12-29T01:46:32.346788Z",
     "iopub.status.idle": "2024-12-29T01:46:33.223149Z",
     "shell.execute_reply": "2024-12-29T01:46:33.221925Z"
    },
    "papermill": {
     "duration": 0.8904,
     "end_time": "2024-12-29T01:46:33.225958",
     "exception": false,
     "start_time": "2024-12-29T01:46:32.335558",
     "status": "completed"
    },
    "tags": []
   },
   "outputs": [
    {
     "name": "stdout",
     "output_type": "stream",
     "text": [
      "/kaggle/input/playground-series-s4e12/sample_submission.csv\n",
      "/kaggle/input/playground-series-s4e12/train.csv\n",
      "/kaggle/input/playground-series-s4e12/test.csv\n",
      "/kaggle/input/catfitmodel/catfit\n"
     ]
    }
   ],
   "source": [
    "# This Python 3 environment comes with many helpful analytics libraries installed\n",
    "# It is defined by the kaggle/python Docker image: https://github.com/kaggle/docker-python\n",
    "# For example, here's several helpful packages to load\n",
    "\n",
    "import numpy as np # linear algebra\n",
    "import pandas as pd # data processing, CSV file I/O (e.g. pd.read_csv)\n",
    "\n",
    "# Input data files are available in the read-only \"../input/\" directory\n",
    "# For example, running this (by clicking run or pressing Shift+Enter) will list all files under the input directory\n",
    "\n",
    "import os\n",
    "for dirname, _, filenames in os.walk('/kaggle/input'):\n",
    "    for filename in filenames:\n",
    "        print(os.path.join(dirname, filename))\n",
    "\n",
    "# You can write up to 20GB to the current directory (/kaggle/working/) that gets preserved as output when you create a version using \"Save & Run All\" \n",
    "# You can also write temporary files to /kaggle/temp/, but they won't be saved outside of the current session"
   ]
  },
  {
   "cell_type": "code",
   "execution_count": 2,
   "id": "bb406ec0",
   "metadata": {
    "execution": {
     "iopub.execute_input": "2024-12-29T01:46:33.246541Z",
     "iopub.status.busy": "2024-12-29T01:46:33.246016Z",
     "iopub.status.idle": "2024-12-29T01:46:33.250903Z",
     "shell.execute_reply": "2024-12-29T01:46:33.249990Z"
    },
    "papermill": {
     "duration": 0.016602,
     "end_time": "2024-12-29T01:46:33.252758",
     "exception": false,
     "start_time": "2024-12-29T01:46:33.236156",
     "status": "completed"
    },
    "tags": []
   },
   "outputs": [],
   "source": [
    "#!pip install -U feature-engine"
   ]
  },
  {
   "cell_type": "code",
   "execution_count": 3,
   "id": "c70d6468",
   "metadata": {
    "execution": {
     "iopub.execute_input": "2024-12-29T01:46:33.271352Z",
     "iopub.status.busy": "2024-12-29T01:46:33.270979Z",
     "iopub.status.idle": "2024-12-29T01:46:35.671158Z",
     "shell.execute_reply": "2024-12-29T01:46:35.669678Z"
    },
    "papermill": {
     "duration": 2.413453,
     "end_time": "2024-12-29T01:46:35.674806",
     "exception": false,
     "start_time": "2024-12-29T01:46:33.261353",
     "status": "completed"
    },
    "tags": []
   },
   "outputs": [],
   "source": [
    "import catboost\n",
    "import pandas as pd\n",
    "import numpy as np\n",
    "import matplotlib.pyplot as plt\n",
    "import seaborn as sns\n",
    "import optuna\n",
    "from optuna.samplers import TPESampler\n",
    "from catboost.utils import eval_metric\n",
    "from sklearn.model_selection import train_test_split"
   ]
  },
  {
   "cell_type": "code",
   "execution_count": 4,
   "id": "d75badbc",
   "metadata": {
    "execution": {
     "iopub.execute_input": "2024-12-29T01:46:35.700823Z",
     "iopub.status.busy": "2024-12-29T01:46:35.700062Z",
     "iopub.status.idle": "2024-12-29T01:46:35.711581Z",
     "shell.execute_reply": "2024-12-29T01:46:35.710425Z"
    },
    "papermill": {
     "duration": 0.028505,
     "end_time": "2024-12-29T01:46:35.713886",
     "exception": false,
     "start_time": "2024-12-29T01:46:35.685381",
     "status": "completed"
    },
    "tags": []
   },
   "outputs": [],
   "source": [
    "#Optuna objective function\n",
    "def objective(trial):\n",
    "    params = {\n",
    "        #\"iterations\": 5000, 5000 is taking more than 12 hours    # OPtuna example not specify iteration\n",
    "        \"learning_rate\": trial.suggest_float(\"learning_rate\", 1e-3, 0.1),\n",
    "        \"depth\": trial.suggest_int(\"depth\", 1, 10),\n",
    "        'l2_leaf_reg': trial.suggest_float('l2_leaf_reg', 1, 10),\n",
    "        \"subsample\": trial.suggest_float(\"subsample\", 0.05, 1.0),\n",
    "        \"colsample_bylevel\": trial.suggest_float(\"colsample_bylevel\", 0.05, 1.0),\n",
    "        \"min_data_in_leaf\": trial.suggest_int(\"min_data_in_leaf\", 1, 100),\n",
    "    }\n",
    "\n",
    "    model = CatBoostRegressor(**params, silent=True,random_seed=51)\n",
    "    model.fit(train_pool,verbose=0,eval_set=val_pool)\n",
    "    y_pred = model.predict(val_pool)\n",
    "    #rmse = mean_squared_error(y_val, predictions, squared=False)\n",
    "    return eval_metric(val_pool.get_label(),y_pred,'RMSE')"
   ]
  },
  {
   "cell_type": "code",
   "execution_count": 5,
   "id": "bc6c1964",
   "metadata": {
    "execution": {
     "iopub.execute_input": "2024-12-29T01:46:35.734929Z",
     "iopub.status.busy": "2024-12-29T01:46:35.734046Z",
     "iopub.status.idle": "2024-12-29T01:46:45.690732Z",
     "shell.execute_reply": "2024-12-29T01:46:45.689704Z"
    },
    "papermill": {
     "duration": 9.970089,
     "end_time": "2024-12-29T01:46:45.693232",
     "exception": false,
     "start_time": "2024-12-29T01:46:35.723143",
     "status": "completed"
    },
    "tags": []
   },
   "outputs": [],
   "source": [
    "df_train = pd.read_csv('/kaggle/input/playground-series-s4e12/train.csv')\n",
    "df_test = pd.read_csv('/kaggle/input/playground-series-s4e12/test.csv')"
   ]
  },
  {
   "cell_type": "code",
   "execution_count": 6,
   "id": "263a40c7",
   "metadata": {
    "execution": {
     "iopub.execute_input": "2024-12-29T01:46:45.712261Z",
     "iopub.status.busy": "2024-12-29T01:46:45.711855Z",
     "iopub.status.idle": "2024-12-29T01:46:55.858556Z",
     "shell.execute_reply": "2024-12-29T01:46:55.857358Z"
    },
    "papermill": {
     "duration": 10.15898,
     "end_time": "2024-12-29T01:46:55.861066",
     "exception": false,
     "start_time": "2024-12-29T01:46:45.702086",
     "status": "completed"
    },
    "tags": []
   },
   "outputs": [],
   "source": [
    "#df_train['StartYM']=pd.to_datetime(df_train['Policy Start Date']).dt.strftime('%Y-%m')\n",
    "df_train['StartY']=pd.to_datetime(df_train['Policy Start Date']).dt.strftime('%Y')\n",
    "df_test['StartY']=pd.to_datetime(df_test['Policy Start Date']).dt.strftime('%Y')"
   ]
  },
  {
   "cell_type": "code",
   "execution_count": 7,
   "id": "7796fbe7",
   "metadata": {
    "execution": {
     "iopub.execute_input": "2024-12-29T01:46:55.880340Z",
     "iopub.status.busy": "2024-12-29T01:46:55.879667Z",
     "iopub.status.idle": "2024-12-29T01:46:55.884065Z",
     "shell.execute_reply": "2024-12-29T01:46:55.883036Z"
    },
    "papermill": {
     "duration": 0.016318,
     "end_time": "2024-12-29T01:46:55.886125",
     "exception": false,
     "start_time": "2024-12-29T01:46:55.869807",
     "status": "completed"
    },
    "tags": []
   },
   "outputs": [],
   "source": [
    "#df_train['StartYM'].value_counts()"
   ]
  },
  {
   "cell_type": "code",
   "execution_count": 8,
   "id": "dba0b9bd",
   "metadata": {
    "execution": {
     "iopub.execute_input": "2024-12-29T01:46:55.904806Z",
     "iopub.status.busy": "2024-12-29T01:46:55.904360Z",
     "iopub.status.idle": "2024-12-29T01:46:56.046105Z",
     "shell.execute_reply": "2024-12-29T01:46:56.045055Z"
    },
    "papermill": {
     "duration": 0.153674,
     "end_time": "2024-12-29T01:46:56.048281",
     "exception": false,
     "start_time": "2024-12-29T01:46:55.894607",
     "status": "completed"
    },
    "tags": []
   },
   "outputs": [
    {
     "data": {
      "text/html": [
       "<div>\n",
       "<style scoped>\n",
       "    .dataframe tbody tr th:only-of-type {\n",
       "        vertical-align: middle;\n",
       "    }\n",
       "\n",
       "    .dataframe tbody tr th {\n",
       "        vertical-align: top;\n",
       "    }\n",
       "\n",
       "    .dataframe thead th {\n",
       "        text-align: right;\n",
       "    }\n",
       "</style>\n",
       "<table border=\"1\" class=\"dataframe\">\n",
       "  <thead>\n",
       "    <tr style=\"text-align: right;\">\n",
       "      <th></th>\n",
       "      <th>StartY</th>\n",
       "      <th>count</th>\n",
       "    </tr>\n",
       "  </thead>\n",
       "  <tbody>\n",
       "    <tr>\n",
       "      <th>4</th>\n",
       "      <td>2024</td>\n",
       "      <td>143968</td>\n",
       "    </tr>\n",
       "    <tr>\n",
       "      <th>3</th>\n",
       "      <td>2023</td>\n",
       "      <td>239067</td>\n",
       "    </tr>\n",
       "    <tr>\n",
       "      <th>0</th>\n",
       "      <td>2022</td>\n",
       "      <td>245671</td>\n",
       "    </tr>\n",
       "    <tr>\n",
       "      <th>1</th>\n",
       "      <td>2021</td>\n",
       "      <td>244918</td>\n",
       "    </tr>\n",
       "    <tr>\n",
       "      <th>2</th>\n",
       "      <td>2020</td>\n",
       "      <td>242087</td>\n",
       "    </tr>\n",
       "    <tr>\n",
       "      <th>5</th>\n",
       "      <td>2019</td>\n",
       "      <td>84289</td>\n",
       "    </tr>\n",
       "  </tbody>\n",
       "</table>\n",
       "</div>"
      ],
      "text/plain": [
       "  StartY   count\n",
       "4   2024  143968\n",
       "3   2023  239067\n",
       "0   2022  245671\n",
       "1   2021  244918\n",
       "2   2020  242087\n",
       "5   2019   84289"
      ]
     },
     "execution_count": 8,
     "metadata": {},
     "output_type": "execute_result"
    }
   ],
   "source": [
    "df_train['StartY'].value_counts().reset_index().sort_values(by=['StartY'],ascending=False)"
   ]
  },
  {
   "cell_type": "code",
   "execution_count": 9,
   "id": "d589234d",
   "metadata": {
    "execution": {
     "iopub.execute_input": "2024-12-29T01:46:56.067451Z",
     "iopub.status.busy": "2024-12-29T01:46:56.067063Z",
     "iopub.status.idle": "2024-12-29T01:46:56.184540Z",
     "shell.execute_reply": "2024-12-29T01:46:56.183566Z"
    },
    "papermill": {
     "duration": 0.12961,
     "end_time": "2024-12-29T01:46:56.186734",
     "exception": false,
     "start_time": "2024-12-29T01:46:56.057124",
     "status": "completed"
    },
    "tags": []
   },
   "outputs": [
    {
     "data": {
      "text/html": [
       "<div>\n",
       "<style scoped>\n",
       "    .dataframe tbody tr th:only-of-type {\n",
       "        vertical-align: middle;\n",
       "    }\n",
       "\n",
       "    .dataframe tbody tr th {\n",
       "        vertical-align: top;\n",
       "    }\n",
       "\n",
       "    .dataframe thead th {\n",
       "        text-align: right;\n",
       "    }\n",
       "</style>\n",
       "<table border=\"1\" class=\"dataframe\">\n",
       "  <thead>\n",
       "    <tr style=\"text-align: right;\">\n",
       "      <th></th>\n",
       "      <th>count</th>\n",
       "      <th>mean</th>\n",
       "      <th>std</th>\n",
       "      <th>min</th>\n",
       "      <th>25%</th>\n",
       "      <th>50%</th>\n",
       "      <th>75%</th>\n",
       "      <th>max</th>\n",
       "    </tr>\n",
       "    <tr>\n",
       "      <th>StartY</th>\n",
       "      <th></th>\n",
       "      <th></th>\n",
       "      <th></th>\n",
       "      <th></th>\n",
       "      <th></th>\n",
       "      <th></th>\n",
       "      <th></th>\n",
       "      <th></th>\n",
       "    </tr>\n",
       "  </thead>\n",
       "  <tbody>\n",
       "    <tr>\n",
       "      <th>2019</th>\n",
       "      <td>7231.0</td>\n",
       "      <td>54.466602</td>\n",
       "      <td>32.858719</td>\n",
       "      <td>20.0</td>\n",
       "      <td>28.0</td>\n",
       "      <td>39.0</td>\n",
       "      <td>85.0</td>\n",
       "      <td>119.0</td>\n",
       "    </tr>\n",
       "    <tr>\n",
       "      <th>2020</th>\n",
       "      <td>20849.0</td>\n",
       "      <td>57.919181</td>\n",
       "      <td>33.883559</td>\n",
       "      <td>20.0</td>\n",
       "      <td>28.0</td>\n",
       "      <td>45.0</td>\n",
       "      <td>95.0</td>\n",
       "      <td>119.0</td>\n",
       "    </tr>\n",
       "    <tr>\n",
       "      <th>2021</th>\n",
       "      <td>21528.0</td>\n",
       "      <td>58.132293</td>\n",
       "      <td>33.804661</td>\n",
       "      <td>20.0</td>\n",
       "      <td>28.0</td>\n",
       "      <td>45.0</td>\n",
       "      <td>95.0</td>\n",
       "      <td>119.0</td>\n",
       "    </tr>\n",
       "    <tr>\n",
       "      <th>2022</th>\n",
       "      <td>21401.0</td>\n",
       "      <td>57.777066</td>\n",
       "      <td>33.739692</td>\n",
       "      <td>20.0</td>\n",
       "      <td>28.0</td>\n",
       "      <td>45.0</td>\n",
       "      <td>94.0</td>\n",
       "      <td>119.0</td>\n",
       "    </tr>\n",
       "    <tr>\n",
       "      <th>2023</th>\n",
       "      <td>21287.0</td>\n",
       "      <td>58.690046</td>\n",
       "      <td>33.791888</td>\n",
       "      <td>20.0</td>\n",
       "      <td>28.0</td>\n",
       "      <td>47.0</td>\n",
       "      <td>96.0</td>\n",
       "      <td>119.0</td>\n",
       "    </tr>\n",
       "    <tr>\n",
       "      <th>2024</th>\n",
       "      <td>12591.0</td>\n",
       "      <td>57.725756</td>\n",
       "      <td>33.505835</td>\n",
       "      <td>20.0</td>\n",
       "      <td>28.0</td>\n",
       "      <td>45.0</td>\n",
       "      <td>93.0</td>\n",
       "      <td>119.0</td>\n",
       "    </tr>\n",
       "  </tbody>\n",
       "</table>\n",
       "</div>"
      ],
      "text/plain": [
       "          count       mean        std   min   25%   50%   75%    max\n",
       "StartY                                                              \n",
       "2019     7231.0  54.466602  32.858719  20.0  28.0  39.0  85.0  119.0\n",
       "2020    20849.0  57.919181  33.883559  20.0  28.0  45.0  95.0  119.0\n",
       "2021    21528.0  58.132293  33.804661  20.0  28.0  45.0  95.0  119.0\n",
       "2022    21401.0  57.777066  33.739692  20.0  28.0  45.0  94.0  119.0\n",
       "2023    21287.0  58.690046  33.791888  20.0  28.0  47.0  96.0  119.0\n",
       "2024    12591.0  57.725756  33.505835  20.0  28.0  45.0  93.0  119.0"
      ]
     },
     "execution_count": 9,
     "metadata": {},
     "output_type": "execute_result"
    }
   ],
   "source": [
    "df_train[df_train['Premium Amount']<120].groupby('StartY')['Premium Amount'].describe()"
   ]
  },
  {
   "cell_type": "code",
   "execution_count": 10,
   "id": "48108187",
   "metadata": {
    "execution": {
     "iopub.execute_input": "2024-12-29T01:46:56.206259Z",
     "iopub.status.busy": "2024-12-29T01:46:56.205904Z",
     "iopub.status.idle": "2024-12-29T01:46:56.261595Z",
     "shell.execute_reply": "2024-12-29T01:46:56.260528Z"
    },
    "papermill": {
     "duration": 0.06794,
     "end_time": "2024-12-29T01:46:56.263748",
     "exception": false,
     "start_time": "2024-12-29T01:46:56.195808",
     "status": "completed"
    },
    "tags": []
   },
   "outputs": [
    {
     "data": {
      "text/plain": [
       "count    770140.000000\n",
       "mean      32803.871471\n",
       "std       32201.063749\n",
       "min           2.000000\n",
       "25%        8048.000000\n",
       "50%       23981.000000\n",
       "75%       44660.000000\n",
       "max      149997.000000\n",
       "Name: Annual Income, dtype: float64"
      ]
     },
     "execution_count": 10,
     "metadata": {},
     "output_type": "execute_result"
    }
   ],
   "source": [
    "df_test['Annual Income'].describe()"
   ]
  },
  {
   "cell_type": "code",
   "execution_count": 11,
   "id": "c37ea99f",
   "metadata": {
    "execution": {
     "iopub.execute_input": "2024-12-29T01:46:56.283229Z",
     "iopub.status.busy": "2024-12-29T01:46:56.282887Z",
     "iopub.status.idle": "2024-12-29T01:46:56.306536Z",
     "shell.execute_reply": "2024-12-29T01:46:56.305591Z"
    },
    "papermill": {
     "duration": 0.035962,
     "end_time": "2024-12-29T01:46:56.308755",
     "exception": false,
     "start_time": "2024-12-29T01:46:56.272793",
     "status": "completed"
    },
    "tags": []
   },
   "outputs": [
    {
     "data": {
      "text/plain": [
       "Credit Score\n",
       "658.0    26\n",
       "673.0    26\n",
       "613.0    25\n",
       "711.0    25\n",
       "783.0    24\n",
       "         ..\n",
       "525.0     1\n",
       "355.0     1\n",
       "348.0     1\n",
       "440.0     1\n",
       "405.0     1\n",
       "Name: count, Length: 539, dtype: int64"
      ]
     },
     "execution_count": 11,
     "metadata": {},
     "output_type": "execute_result"
    }
   ],
   "source": [
    "df_train[df_train['Annual Income']<200]['Credit Score'].value_counts()"
   ]
  },
  {
   "cell_type": "code",
   "execution_count": 12,
   "id": "0234b05c",
   "metadata": {
    "execution": {
     "iopub.execute_input": "2024-12-29T01:46:56.329006Z",
     "iopub.status.busy": "2024-12-29T01:46:56.328091Z",
     "iopub.status.idle": "2024-12-29T01:46:56.345314Z",
     "shell.execute_reply": "2024-12-29T01:46:56.344354Z"
    },
    "papermill": {
     "duration": 0.029544,
     "end_time": "2024-12-29T01:46:56.347345",
     "exception": false,
     "start_time": "2024-12-29T01:46:56.317801",
     "status": "completed"
    },
    "tags": []
   },
   "outputs": [
    {
     "data": {
      "text/plain": [
       "Annual Income\n",
       "24.0     294\n",
       "35.0     278\n",
       "34.0     193\n",
       "26.0     155\n",
       "17.0     155\n",
       "        ... \n",
       "30.0       1\n",
       "12.0       1\n",
       "160.0      1\n",
       "150.0      1\n",
       "123.0      1\n",
       "Name: count, Length: 184, dtype: int64"
      ]
     },
     "execution_count": 12,
     "metadata": {},
     "output_type": "execute_result"
    }
   ],
   "source": [
    "df_test[df_test['Annual Income']<200]['Annual Income'].value_counts()"
   ]
  },
  {
   "cell_type": "code",
   "execution_count": 13,
   "id": "5e643a3b",
   "metadata": {
    "execution": {
     "iopub.execute_input": "2024-12-29T01:46:56.367419Z",
     "iopub.status.busy": "2024-12-29T01:46:56.366605Z",
     "iopub.status.idle": "2024-12-29T01:46:56.411049Z",
     "shell.execute_reply": "2024-12-29T01:46:56.409649Z"
    },
    "papermill": {
     "duration": 0.05681,
     "end_time": "2024-12-29T01:46:56.413236",
     "exception": false,
     "start_time": "2024-12-29T01:46:56.356426",
     "status": "completed"
    },
    "tags": []
   },
   "outputs": [
    {
     "data": {
      "text/plain": [
       "Index(['id', 'Age', 'Annual Income', 'Number of Dependents', 'Health Score',\n",
       "       'Previous Claims', 'Vehicle Age', 'Credit Score', 'Insurance Duration',\n",
       "       'Premium Amount'],\n",
       "      dtype='object')"
      ]
     },
     "execution_count": 13,
     "metadata": {},
     "output_type": "execute_result"
    }
   ],
   "source": [
    "#only Age, Anuual Income,Credit Score are number. The rest are category\n",
    "numeric_columns=df_train.select_dtypes(include=np.number).columns\n",
    "numeric_columns"
   ]
  },
  {
   "cell_type": "code",
   "execution_count": 14,
   "id": "7b1f2209",
   "metadata": {
    "execution": {
     "iopub.execute_input": "2024-12-29T01:46:56.433808Z",
     "iopub.status.busy": "2024-12-29T01:46:56.432988Z",
     "iopub.status.idle": "2024-12-29T01:46:57.165265Z",
     "shell.execute_reply": "2024-12-29T01:46:57.164245Z"
    },
    "papermill": {
     "duration": 0.744888,
     "end_time": "2024-12-29T01:46:57.167501",
     "exception": false,
     "start_time": "2024-12-29T01:46:56.422613",
     "status": "completed"
    },
    "tags": []
   },
   "outputs": [
    {
     "data": {
      "text/plain": [
       "Index(['Gender', 'Marital Status', 'Education Level', 'Occupation', 'Location',\n",
       "       'Policy Type', 'Policy Start Date', 'Customer Feedback',\n",
       "       'Smoking Status', 'Exercise Frequency', 'Property Type', 'StartY'],\n",
       "      dtype='object')"
      ]
     },
     "execution_count": 14,
     "metadata": {},
     "output_type": "execute_result"
    }
   ],
   "source": [
    "object_columns=df_train.select_dtypes(include=object).columns\n",
    "object_columns"
   ]
  },
  {
   "cell_type": "code",
   "execution_count": 15,
   "id": "339d092d",
   "metadata": {
    "execution": {
     "iopub.execute_input": "2024-12-29T01:46:57.187711Z",
     "iopub.status.busy": "2024-12-29T01:46:57.187300Z",
     "iopub.status.idle": "2024-12-29T01:46:57.270794Z",
     "shell.execute_reply": "2024-12-29T01:46:57.269721Z"
    },
    "papermill": {
     "duration": 0.096219,
     "end_time": "2024-12-29T01:46:57.273023",
     "exception": false,
     "start_time": "2024-12-29T01:46:57.176804",
     "status": "completed"
    },
    "tags": []
   },
   "outputs": [
    {
     "data": {
      "text/plain": [
       "count    1.200000e+06\n",
       "mean     6.593889e+00\n",
       "std      1.095825e+00\n",
       "min      3.044522e+00\n",
       "25%      6.244167e+00\n",
       "50%      6.771936e+00\n",
       "75%      7.319865e+00\n",
       "max      8.517193e+00\n",
       "Name: Label, dtype: float64"
      ]
     },
     "execution_count": 15,
     "metadata": {},
     "output_type": "execute_result"
    }
   ],
   "source": [
    "#transform target and income\n",
    "df_train['Label']=np.log1p(df_train['Premium Amount'])\n",
    "df_train['Label'].describe()\n"
   ]
  },
  {
   "cell_type": "code",
   "execution_count": 16,
   "id": "74788f3d",
   "metadata": {
    "execution": {
     "iopub.execute_input": "2024-12-29T01:46:57.293632Z",
     "iopub.status.busy": "2024-12-29T01:46:57.293230Z",
     "iopub.status.idle": "2024-12-29T01:46:57.322994Z",
     "shell.execute_reply": "2024-12-29T01:46:57.322035Z"
    },
    "papermill": {
     "duration": 0.042956,
     "end_time": "2024-12-29T01:46:57.325527",
     "exception": false,
     "start_time": "2024-12-29T01:46:57.282571",
     "status": "completed"
    },
    "tags": []
   },
   "outputs": [],
   "source": [
    "df_train['Annual Income']=np.log1p(df_train['Annual Income'])"
   ]
  },
  {
   "cell_type": "code",
   "execution_count": 17,
   "id": "b6dae176",
   "metadata": {
    "execution": {
     "iopub.execute_input": "2024-12-29T01:46:57.345918Z",
     "iopub.status.busy": "2024-12-29T01:46:57.345554Z",
     "iopub.status.idle": "2024-12-29T01:46:57.367089Z",
     "shell.execute_reply": "2024-12-29T01:46:57.366219Z"
    },
    "papermill": {
     "duration": 0.034474,
     "end_time": "2024-12-29T01:46:57.369527",
     "exception": false,
     "start_time": "2024-12-29T01:46:57.335053",
     "status": "completed"
    },
    "tags": []
   },
   "outputs": [],
   "source": [
    "df_test['Annual Income']=np.log1p(df_test['Annual Income'])"
   ]
  },
  {
   "cell_type": "code",
   "execution_count": 18,
   "id": "5f203862",
   "metadata": {
    "execution": {
     "iopub.execute_input": "2024-12-29T01:46:57.390112Z",
     "iopub.status.busy": "2024-12-29T01:46:57.389743Z",
     "iopub.status.idle": "2024-12-29T01:46:57.703888Z",
     "shell.execute_reply": "2024-12-29T01:46:57.702734Z"
    },
    "papermill": {
     "duration": 0.326828,
     "end_time": "2024-12-29T01:46:57.706001",
     "exception": false,
     "start_time": "2024-12-29T01:46:57.379173",
     "status": "completed"
    },
    "tags": []
   },
   "outputs": [
    {
     "data": {
      "text/plain": [
       "count\n",
       "1        720797.0\n",
       "2       1155398.0\n",
       "3       1264602.0\n",
       "4       1489848.0\n",
       "5       2094605.0\n",
       "          ...    \n",
       "3009      84252.0\n",
       "3122      71806.0\n",
       "3396      67920.0\n",
       "3444      82656.0\n",
       "3735      93375.0\n",
       "Name: total, Length: 917, dtype: float64"
      ]
     },
     "execution_count": 18,
     "metadata": {},
     "output_type": "execute_result"
    }
   ],
   "source": [
    "#Check Na credit score and premium amount\n",
    "# There a lot of missing score with a lot of premium no different with having creditscor\n",
    "df_train[df_train['Credit Score'].notna()].groupby('Premium Amount').size().reset_index(name='count').assign(total=lambda x:x['Premium Amount']*x['count']).groupby('count')['total'].sum()"
   ]
  },
  {
   "cell_type": "code",
   "execution_count": 19,
   "id": "e72fd481",
   "metadata": {
    "execution": {
     "iopub.execute_input": "2024-12-29T01:46:57.727377Z",
     "iopub.status.busy": "2024-12-29T01:46:57.726511Z",
     "iopub.status.idle": "2024-12-29T01:46:57.731413Z",
     "shell.execute_reply": "2024-12-29T01:46:57.730317Z"
    },
    "papermill": {
     "duration": 0.017832,
     "end_time": "2024-12-29T01:46:57.733523",
     "exception": false,
     "start_time": "2024-12-29T01:46:57.715691",
     "status": "completed"
    },
    "tags": []
   },
   "outputs": [],
   "source": [
    "#from feature_engine.transformation import YeoJohnsonTransformer\n",
    "\n",
    "#tf = YeoJohnsonTransformer(variables = ['Annual Income', 'Label'])\n",
    "\n",
    "#tf.fit(df_train.dropna())\n",
    "#tf.lambda_dict_"
   ]
  },
  {
   "cell_type": "code",
   "execution_count": 20,
   "id": "68697bd6",
   "metadata": {
    "execution": {
     "iopub.execute_input": "2024-12-29T01:46:57.754975Z",
     "iopub.status.busy": "2024-12-29T01:46:57.754199Z",
     "iopub.status.idle": "2024-12-29T01:46:57.759232Z",
     "shell.execute_reply": "2024-12-29T01:46:57.758112Z"
    },
    "papermill": {
     "duration": 0.01821,
     "end_time": "2024-12-29T01:46:57.761395",
     "exception": false,
     "start_time": "2024-12-29T01:46:57.743185",
     "status": "completed"
    },
    "tags": []
   },
   "outputs": [],
   "source": [
    "#df_train_tf=tf.transform(df_train.dropna())"
   ]
  },
  {
   "cell_type": "code",
   "execution_count": 21,
   "id": "11008102",
   "metadata": {
    "execution": {
     "iopub.execute_input": "2024-12-29T01:46:57.782494Z",
     "iopub.status.busy": "2024-12-29T01:46:57.781660Z",
     "iopub.status.idle": "2024-12-29T01:46:57.858799Z",
     "shell.execute_reply": "2024-12-29T01:46:57.857335Z"
    },
    "papermill": {
     "duration": 0.090004,
     "end_time": "2024-12-29T01:46:57.861010",
     "exception": false,
     "start_time": "2024-12-29T01:46:57.771006",
     "status": "completed"
    },
    "tags": []
   },
   "outputs": [
    {
     "data": {
      "text/html": [
       "<div>\n",
       "<style scoped>\n",
       "    .dataframe tbody tr th:only-of-type {\n",
       "        vertical-align: middle;\n",
       "    }\n",
       "\n",
       "    .dataframe tbody tr th {\n",
       "        vertical-align: top;\n",
       "    }\n",
       "\n",
       "    .dataframe thead th {\n",
       "        text-align: right;\n",
       "    }\n",
       "</style>\n",
       "<table border=\"1\" class=\"dataframe\">\n",
       "  <thead>\n",
       "    <tr style=\"text-align: right;\">\n",
       "      <th></th>\n",
       "      <th>Annual Income</th>\n",
       "      <th>Credit Score</th>\n",
       "    </tr>\n",
       "  </thead>\n",
       "  <tbody>\n",
       "    <tr>\n",
       "      <th>470076</th>\n",
       "      <td>1.098612</td>\n",
       "      <td>332.0</td>\n",
       "    </tr>\n",
       "    <tr>\n",
       "      <th>145069</th>\n",
       "      <td>2.079442</td>\n",
       "      <td>462.0</td>\n",
       "    </tr>\n",
       "    <tr>\n",
       "      <th>120276</th>\n",
       "      <td>2.484907</td>\n",
       "      <td>479.0</td>\n",
       "    </tr>\n",
       "    <tr>\n",
       "      <th>1187366</th>\n",
       "      <td>2.708050</td>\n",
       "      <td>682.0</td>\n",
       "    </tr>\n",
       "    <tr>\n",
       "      <th>67382</th>\n",
       "      <td>2.833213</td>\n",
       "      <td>513.0</td>\n",
       "    </tr>\n",
       "  </tbody>\n",
       "</table>\n",
       "</div>"
      ],
      "text/plain": [
       "         Annual Income  Credit Score\n",
       "470076        1.098612         332.0\n",
       "145069        2.079442         462.0\n",
       "120276        2.484907         479.0\n",
       "1187366       2.708050         682.0\n",
       "67382         2.833213         513.0"
      ]
     },
     "execution_count": 21,
     "metadata": {},
     "output_type": "execute_result"
    }
   ],
   "source": [
    "df_train[df_train['Premium Amount']<120].loc[:,['Annual Income','Credit Score']].sort_values(ascending=True,by=['Annual Income']).head()"
   ]
  },
  {
   "cell_type": "code",
   "execution_count": 22,
   "id": "0b96250d",
   "metadata": {
    "execution": {
     "iopub.execute_input": "2024-12-29T01:46:57.883206Z",
     "iopub.status.busy": "2024-12-29T01:46:57.882081Z",
     "iopub.status.idle": "2024-12-29T01:46:57.948694Z",
     "shell.execute_reply": "2024-12-29T01:46:57.947685Z"
    },
    "papermill": {
     "duration": 0.080108,
     "end_time": "2024-12-29T01:46:57.951003",
     "exception": false,
     "start_time": "2024-12-29T01:46:57.870895",
     "status": "completed"
    },
    "tags": []
   },
   "outputs": [
    {
     "data": {
      "text/plain": [
       "count    91651.000000\n",
       "mean       614.447764\n",
       "std        140.831463\n",
       "min        300.000000\n",
       "25%        505.000000\n",
       "50%        623.000000\n",
       "75%        733.000000\n",
       "max        849.000000\n",
       "Name: Credit Score, dtype: float64"
      ]
     },
     "execution_count": 22,
     "metadata": {},
     "output_type": "execute_result"
    }
   ],
   "source": [
    "df_train[df_train['Premium Amount']<120]['Credit Score'].describe()"
   ]
  },
  {
   "cell_type": "code",
   "execution_count": 23,
   "id": "9d314eb9",
   "metadata": {
    "execution": {
     "iopub.execute_input": "2024-12-29T01:46:57.972532Z",
     "iopub.status.busy": "2024-12-29T01:46:57.972124Z",
     "iopub.status.idle": "2024-12-29T01:46:58.054546Z",
     "shell.execute_reply": "2024-12-29T01:46:58.053468Z"
    },
    "papermill": {
     "duration": 0.095852,
     "end_time": "2024-12-29T01:46:58.056825",
     "exception": false,
     "start_time": "2024-12-29T01:46:57.960973",
     "status": "completed"
    },
    "tags": []
   },
   "outputs": [
    {
     "data": {
      "text/plain": [
       "count    1.062118e+06\n",
       "mean     5.929244e+02\n",
       "std      1.499819e+02\n",
       "min      3.000000e+02\n",
       "25%      4.680000e+02\n",
       "50%      5.950000e+02\n",
       "75%      7.210000e+02\n",
       "max      8.490000e+02\n",
       "Name: Credit Score, dtype: float64"
      ]
     },
     "execution_count": 23,
     "metadata": {},
     "output_type": "execute_result"
    }
   ],
   "source": [
    "df_train['Credit Score'].describe()"
   ]
  },
  {
   "cell_type": "code",
   "execution_count": 24,
   "id": "f3493a38",
   "metadata": {
    "execution": {
     "iopub.execute_input": "2024-12-29T01:46:58.078600Z",
     "iopub.status.busy": "2024-12-29T01:46:58.078176Z",
     "iopub.status.idle": "2024-12-29T01:46:58.773951Z",
     "shell.execute_reply": "2024-12-29T01:46:58.772731Z"
    },
    "papermill": {
     "duration": 0.709373,
     "end_time": "2024-12-29T01:46:58.776287",
     "exception": false,
     "start_time": "2024-12-29T01:46:58.066914",
     "status": "completed"
    },
    "tags": []
   },
   "outputs": [
    {
     "name": "stdout",
     "output_type": "stream",
     "text": [
      "<class 'pandas.core.frame.DataFrame'>\n",
      "RangeIndex: 1200000 entries, 0 to 1199999\n",
      "Data columns (total 23 columns):\n",
      " #   Column                Non-Null Count    Dtype  \n",
      "---  ------                --------------    -----  \n",
      " 0   id                    1200000 non-null  int64  \n",
      " 1   Age                   1181295 non-null  float64\n",
      " 2   Gender                1200000 non-null  object \n",
      " 3   Annual Income         1155051 non-null  float64\n",
      " 4   Marital Status        1181471 non-null  object \n",
      " 5   Number of Dependents  1090328 non-null  float64\n",
      " 6   Education Level       1200000 non-null  object \n",
      " 7   Occupation            841925 non-null   object \n",
      " 8   Health Score          1125924 non-null  float64\n",
      " 9   Location              1200000 non-null  object \n",
      " 10  Policy Type           1200000 non-null  object \n",
      " 11  Previous Claims       835971 non-null   float64\n",
      " 12  Vehicle Age           1199994 non-null  float64\n",
      " 13  Credit Score          1062118 non-null  float64\n",
      " 14  Insurance Duration    1199999 non-null  float64\n",
      " 15  Policy Start Date     1200000 non-null  object \n",
      " 16  Customer Feedback     1122176 non-null  object \n",
      " 17  Smoking Status        1200000 non-null  object \n",
      " 18  Exercise Frequency    1200000 non-null  object \n",
      " 19  Property Type         1200000 non-null  object \n",
      " 20  Premium Amount        1200000 non-null  float64\n",
      " 21  StartY                1200000 non-null  object \n",
      " 22  Label                 1200000 non-null  float64\n",
      "dtypes: float64(10), int64(1), object(12)\n",
      "memory usage: 210.6+ MB\n"
     ]
    }
   ],
   "source": [
    "df_train.info()"
   ]
  },
  {
   "cell_type": "code",
   "execution_count": 25,
   "id": "69527a8d",
   "metadata": {
    "execution": {
     "iopub.execute_input": "2024-12-29T01:46:58.798466Z",
     "iopub.status.busy": "2024-12-29T01:46:58.798050Z",
     "iopub.status.idle": "2024-12-29T01:46:58.802610Z",
     "shell.execute_reply": "2024-12-29T01:46:58.801696Z"
    },
    "papermill": {
     "duration": 0.01804,
     "end_time": "2024-12-29T01:46:58.804585",
     "exception": false,
     "start_time": "2024-12-29T01:46:58.786545",
     "status": "completed"
    },
    "tags": []
   },
   "outputs": [],
   "source": [
    "# change fillna from mean to mode to get less effect from outlier\n",
    "# Ana=df_train['Age'].mode()[0]\n",
    "# Aina=df_train['Annual Income'].mode()[0]\n",
    "# Ndna=0\n",
    "# Hsna=df_train['Health Score'].mode()[0]\n",
    "# Pcna=0\n",
    "# Vana=0 #just impute with 0\n",
    "# Csna=df_train['Credit Score'].mode()[0]\n",
    "# Idna=0"
   ]
  },
  {
   "cell_type": "code",
   "execution_count": 26,
   "id": "1a913789",
   "metadata": {
    "execution": {
     "iopub.execute_input": "2024-12-29T01:46:58.826946Z",
     "iopub.status.busy": "2024-12-29T01:46:58.826554Z",
     "iopub.status.idle": "2024-12-29T01:46:58.831569Z",
     "shell.execute_reply": "2024-12-29T01:46:58.830474Z"
    },
    "papermill": {
     "duration": 0.018509,
     "end_time": "2024-12-29T01:46:58.833652",
     "exception": false,
     "start_time": "2024-12-29T01:46:58.815143",
     "status": "completed"
    },
    "tags": []
   },
   "outputs": [],
   "source": [
    "# df_train['Age'].fillna(Ana,inplace=True)\n",
    "# df_train['Annual Income'].fillna(Aina,inplace=True)\n",
    "# df_train['Number of Dependents'].fillna(Ndna,inplace=True)\n",
    "# df_train['Health Score'].fillna(Hsna,inplace=True)\n",
    "# df_train['Previous Claims'].fillna(Pcna,inplace=True)\n",
    "# df_train['Vehicle Age'].fillna(Vana,inplace=True)\n",
    "# df_train['Credit Score'].fillna(Csna,inplace=True)\n",
    "# df_train['Insurance Duration'].fillna(Idna,inplace=True)\n",
    "\n",
    "\n",
    "#Ana=df_test['Age'].mean()\n",
    "#Aina=df_test['Annual Income'].mean()\n",
    "#Ndna=0\n",
    "#Hsna=df_test['Health Score'].mean()\n",
    "#Pcna=0\n",
    "#Vana=0 #just impute with 0\n",
    "#Csna=df_test['Credit Score'].mean()\n",
    "#Idna=0\n",
    "\n",
    "# df_test['Age'].fillna(Ana,inplace=True)\n",
    "# df_test['Annual Income'].fillna(Aina,inplace=True)\n",
    "# df_test['Number of Dependents'].fillna(Ndna,inplace=True)\n",
    "# df_test['Health Score'].fillna(Hsna,inplace=True)\n",
    "# df_test['Previous Claims'].fillna(Pcna,inplace=True)\n",
    "# df_test['Vehicle Age'].fillna(Vana,inplace=True)\n",
    "# df_test['Credit Score'].fillna(Csna,inplace=True)\n",
    "# df_test['Insurance Duration'].fillna(Idna,inplace=True)\n",
    "\n"
   ]
  },
  {
   "cell_type": "code",
   "execution_count": 27,
   "id": "b4f1141c",
   "metadata": {
    "execution": {
     "iopub.execute_input": "2024-12-29T01:46:58.856207Z",
     "iopub.status.busy": "2024-12-29T01:46:58.855788Z",
     "iopub.status.idle": "2024-12-29T01:46:58.860876Z",
     "shell.execute_reply": "2024-12-29T01:46:58.859805Z"
    },
    "papermill": {
     "duration": 0.019105,
     "end_time": "2024-12-29T01:46:58.863042",
     "exception": false,
     "start_time": "2024-12-29T01:46:58.843937",
     "status": "completed"
    },
    "tags": []
   },
   "outputs": [],
   "source": [
    "# import numpy as np\n",
    "# from catboost import CatBoostRegressor\n",
    "# # Initialize data\n",
    "\n",
    "# train_data = [[1., 4., 5., np.nan],\n",
    "#               [4., 5., 6., 7.],\n",
    "#               [30., 40., 50., 60.]]\n",
    "\n",
    "# eval_data = [[2., 4., 6., 8.],\n",
    "#              [1., 4., 50., 60.]]\n",
    "\n",
    "# train_labels = [10., 20., 30.]\n",
    "# # Initialize CatBoostRegressor\n",
    "# model = CatBoostRegressor(iterations=2,\n",
    "#                           learning_rate=1,\n",
    "#                           depth=2)\n",
    "# # Fit model\n",
    "# model.fit(train_data, train_labels)\n",
    "# # Get predictions\n",
    "# preds = model.predict(eval_data)"
   ]
  },
  {
   "cell_type": "code",
   "execution_count": 28,
   "id": "13717ecb",
   "metadata": {
    "execution": {
     "iopub.execute_input": "2024-12-29T01:46:58.885837Z",
     "iopub.status.busy": "2024-12-29T01:46:58.885033Z",
     "iopub.status.idle": "2024-12-29T01:46:58.917905Z",
     "shell.execute_reply": "2024-12-29T01:46:58.916824Z"
    },
    "papermill": {
     "duration": 0.04659,
     "end_time": "2024-12-29T01:46:58.920063",
     "exception": false,
     "start_time": "2024-12-29T01:46:58.873473",
     "status": "completed"
    },
    "tags": []
   },
   "outputs": [
    {
     "data": {
      "text/plain": [
       "Index([     83,     309,     310,     332,     375,     385,     403,     538,\n",
       "           553,     570,\n",
       "       ...\n",
       "       1199635, 1199653, 1199690, 1199701, 1199704, 1199752, 1199772, 1199784,\n",
       "       1199893, 1199897],\n",
       "      dtype='int64', length=18705)"
      ]
     },
     "execution_count": 28,
     "metadata": {},
     "output_type": "execute_result"
    }
   ],
   "source": [
    "df_train[df_train['Age'].isna()].index"
   ]
  },
  {
   "cell_type": "code",
   "execution_count": 29,
   "id": "c9947e97",
   "metadata": {
    "execution": {
     "iopub.execute_input": "2024-12-29T01:46:58.942677Z",
     "iopub.status.busy": "2024-12-29T01:46:58.942140Z",
     "iopub.status.idle": "2024-12-29T01:46:59.279955Z",
     "shell.execute_reply": "2024-12-29T01:46:59.278894Z"
    },
    "papermill": {
     "duration": 0.351539,
     "end_time": "2024-12-29T01:46:59.282156",
     "exception": false,
     "start_time": "2024-12-29T01:46:58.930617",
     "status": "completed"
    },
    "tags": []
   },
   "outputs": [
    {
     "name": "stderr",
     "output_type": "stream",
     "text": [
      "/tmp/ipykernel_17/1312047004.py:1: FutureWarning: A value is trying to be set on a copy of a DataFrame or Series through chained assignment using an inplace method.\n",
      "The behavior will change in pandas 3.0. This inplace method will never work because the intermediate object on which we are setting values always behaves as a copy.\n",
      "\n",
      "For example, when doing 'df[col].method(value, inplace=True)', try using 'df.method({col: value}, inplace=True)' or df[col] = df[col].method(value) instead, to perform the operation inplace on the original object.\n",
      "\n",
      "\n",
      "  df_train['Occupation'].fillna('Unknown',inplace=True)\n",
      "/tmp/ipykernel_17/1312047004.py:2: FutureWarning: A value is trying to be set on a copy of a DataFrame or Series through chained assignment using an inplace method.\n",
      "The behavior will change in pandas 3.0. This inplace method will never work because the intermediate object on which we are setting values always behaves as a copy.\n",
      "\n",
      "For example, when doing 'df[col].method(value, inplace=True)', try using 'df.method({col: value}, inplace=True)' or df[col] = df[col].method(value) instead, to perform the operation inplace on the original object.\n",
      "\n",
      "\n",
      "  df_train['Marital Status'].fillna('Unknown',inplace=True)\n",
      "/tmp/ipykernel_17/1312047004.py:3: FutureWarning: A value is trying to be set on a copy of a DataFrame or Series through chained assignment using an inplace method.\n",
      "The behavior will change in pandas 3.0. This inplace method will never work because the intermediate object on which we are setting values always behaves as a copy.\n",
      "\n",
      "For example, when doing 'df[col].method(value, inplace=True)', try using 'df.method({col: value}, inplace=True)' or df[col] = df[col].method(value) instead, to perform the operation inplace on the original object.\n",
      "\n",
      "\n",
      "  df_train['Customer Feedback'].fillna('Unknown',inplace=True)\n",
      "/tmp/ipykernel_17/1312047004.py:5: FutureWarning: A value is trying to be set on a copy of a DataFrame or Series through chained assignment using an inplace method.\n",
      "The behavior will change in pandas 3.0. This inplace method will never work because the intermediate object on which we are setting values always behaves as a copy.\n",
      "\n",
      "For example, when doing 'df[col].method(value, inplace=True)', try using 'df.method({col: value}, inplace=True)' or df[col] = df[col].method(value) instead, to perform the operation inplace on the original object.\n",
      "\n",
      "\n",
      "  df_test['Occupation'].fillna('Unknown',inplace=True)\n",
      "/tmp/ipykernel_17/1312047004.py:6: FutureWarning: A value is trying to be set on a copy of a DataFrame or Series through chained assignment using an inplace method.\n",
      "The behavior will change in pandas 3.0. This inplace method will never work because the intermediate object on which we are setting values always behaves as a copy.\n",
      "\n",
      "For example, when doing 'df[col].method(value, inplace=True)', try using 'df.method({col: value}, inplace=True)' or df[col] = df[col].method(value) instead, to perform the operation inplace on the original object.\n",
      "\n",
      "\n",
      "  df_test['Marital Status'].fillna('Unknown',inplace=True)\n",
      "/tmp/ipykernel_17/1312047004.py:7: FutureWarning: A value is trying to be set on a copy of a DataFrame or Series through chained assignment using an inplace method.\n",
      "The behavior will change in pandas 3.0. This inplace method will never work because the intermediate object on which we are setting values always behaves as a copy.\n",
      "\n",
      "For example, when doing 'df[col].method(value, inplace=True)', try using 'df.method({col: value}, inplace=True)' or df[col] = df[col].method(value) instead, to perform the operation inplace on the original object.\n",
      "\n",
      "\n",
      "  df_test['Customer Feedback'].fillna('Unknown',inplace=True)\n"
     ]
    }
   ],
   "source": [
    "df_train['Occupation'].fillna('Unknown',inplace=True)\n",
    "df_train['Marital Status'].fillna('Unknown',inplace=True)\n",
    "df_train['Customer Feedback'].fillna('Unknown',inplace=True)\n",
    "\n",
    "df_test['Occupation'].fillna('Unknown',inplace=True)\n",
    "df_test['Marital Status'].fillna('Unknown',inplace=True)\n",
    "df_test['Customer Feedback'].fillna('Unknown',inplace=True)\n"
   ]
  },
  {
   "cell_type": "code",
   "execution_count": 30,
   "id": "4691afbd",
   "metadata": {
    "execution": {
     "iopub.execute_input": "2024-12-29T01:46:59.305756Z",
     "iopub.status.busy": "2024-12-29T01:46:59.304826Z",
     "iopub.status.idle": "2024-12-29T01:46:59.311489Z",
     "shell.execute_reply": "2024-12-29T01:46:59.310529Z"
    },
    "papermill": {
     "duration": 0.020555,
     "end_time": "2024-12-29T01:46:59.313370",
     "exception": false,
     "start_time": "2024-12-29T01:46:59.292815",
     "status": "completed"
    },
    "tags": []
   },
   "outputs": [
    {
     "data": {
      "text/plain": [
       "['Gender',\n",
       " 'Marital Status',\n",
       " 'Education Level',\n",
       " 'Occupation',\n",
       " 'Location',\n",
       " 'Policy Type',\n",
       " 'Policy Start Date',\n",
       " 'Customer Feedback',\n",
       " 'Smoking Status',\n",
       " 'Exercise Frequency',\n",
       " 'Property Type',\n",
       " 'StartY']"
      ]
     },
     "execution_count": 30,
     "metadata": {},
     "output_type": "execute_result"
    }
   ],
   "source": [
    "#cat_features=numeric_columns.drop(['id','Age','Annual Income','Credit Score','Health Score','Premium Amount']).union(object_columns)\n",
    "cat_features=object_columns\n",
    "cat_features.to_list()\n"
   ]
  },
  {
   "cell_type": "code",
   "execution_count": 31,
   "id": "ed592074",
   "metadata": {
    "execution": {
     "iopub.execute_input": "2024-12-29T01:46:59.336154Z",
     "iopub.status.busy": "2024-12-29T01:46:59.335768Z",
     "iopub.status.idle": "2024-12-29T01:46:59.343547Z",
     "shell.execute_reply": "2024-12-29T01:46:59.342473Z"
    },
    "papermill": {
     "duration": 0.022099,
     "end_time": "2024-12-29T01:46:59.345983",
     "exception": false,
     "start_time": "2024-12-29T01:46:59.323884",
     "status": "completed"
    },
    "tags": []
   },
   "outputs": [],
   "source": [
    "#change cat columns datatype to astype int\n",
    "df_train[cat_features.intersection(numeric_columns)]=df_train[cat_features.intersection(numeric_columns)].astype('Int64')\n",
    "\n",
    "#text_features = cat_features.remove('Vehicle Age')"
   ]
  },
  {
   "cell_type": "code",
   "execution_count": 32,
   "id": "c5d04511",
   "metadata": {
    "execution": {
     "iopub.execute_input": "2024-12-29T01:46:59.370494Z",
     "iopub.status.busy": "2024-12-29T01:46:59.369386Z",
     "iopub.status.idle": "2024-12-29T01:46:59.375694Z",
     "shell.execute_reply": "2024-12-29T01:46:59.374632Z"
    },
    "papermill": {
     "duration": 0.020846,
     "end_time": "2024-12-29T01:46:59.377715",
     "exception": false,
     "start_time": "2024-12-29T01:46:59.356869",
     "status": "completed"
    },
    "tags": []
   },
   "outputs": [],
   "source": [
    "#change cat columns datatype to int astype\n",
    "df_test[cat_features.intersection(numeric_columns)]=df_test[cat_features.intersection(numeric_columns)].astype('Int64')\n",
    "\n",
    "#text_features = cat_features.remove('Vehicle Age')"
   ]
  },
  {
   "cell_type": "code",
   "execution_count": 33,
   "id": "fae700a3",
   "metadata": {
    "execution": {
     "iopub.execute_input": "2024-12-29T01:46:59.401342Z",
     "iopub.status.busy": "2024-12-29T01:46:59.400981Z",
     "iopub.status.idle": "2024-12-29T01:46:59.405725Z",
     "shell.execute_reply": "2024-12-29T01:46:59.404652Z"
    },
    "papermill": {
     "duration": 0.019107,
     "end_time": "2024-12-29T01:46:59.407808",
     "exception": false,
     "start_time": "2024-12-29T01:46:59.388701",
     "status": "completed"
    },
    "tags": []
   },
   "outputs": [],
   "source": [
    "#custom loss function but will not be able to optimization with it so better transform target instead\n",
    "#def rmsle_loss(y_true, y_pred):\n",
    "#    return np.sqrt(np.mean((np.log1p(y_pred) - np.log1p(y_true)) ** 2))\n",
    "#Also use exp to transform the prediction\n",
    "#predictions = np.expm1(model.predict(X_test))"
   ]
  },
  {
   "cell_type": "code",
   "execution_count": 34,
   "id": "b127023f",
   "metadata": {
    "execution": {
     "iopub.execute_input": "2024-12-29T01:46:59.431144Z",
     "iopub.status.busy": "2024-12-29T01:46:59.430262Z",
     "iopub.status.idle": "2024-12-29T01:46:59.435003Z",
     "shell.execute_reply": "2024-12-29T01:46:59.434110Z"
    },
    "papermill": {
     "duration": 0.01849,
     "end_time": "2024-12-29T01:46:59.436880",
     "exception": false,
     "start_time": "2024-12-29T01:46:59.418390",
     "status": "completed"
    },
    "tags": []
   },
   "outputs": [],
   "source": [
    "#df_train.drop(['id','Annual Income','Customer Feedback','Exercise Frequency','Premium Amount','group Age','Label'],axis=1).columns"
   ]
  },
  {
   "cell_type": "code",
   "execution_count": 35,
   "id": "78890c1f",
   "metadata": {
    "execution": {
     "iopub.execute_input": "2024-12-29T01:46:59.460419Z",
     "iopub.status.busy": "2024-12-29T01:46:59.459986Z",
     "iopub.status.idle": "2024-12-29T01:46:59.464391Z",
     "shell.execute_reply": "2024-12-29T01:46:59.463290Z"
    },
    "papermill": {
     "duration": 0.018522,
     "end_time": "2024-12-29T01:46:59.466343",
     "exception": false,
     "start_time": "2024-12-29T01:46:59.447821",
     "status": "completed"
    },
    "tags": []
   },
   "outputs": [],
   "source": [
    "#df_train2 = pd.read_csv('/kaggle/input/playground-series-s4e12/train.csv')\n",
    "#df_train2=df_train2.dropna()\n"
   ]
  },
  {
   "cell_type": "code",
   "execution_count": 36,
   "id": "63c46f37",
   "metadata": {
    "execution": {
     "iopub.execute_input": "2024-12-29T01:46:59.489783Z",
     "iopub.status.busy": "2024-12-29T01:46:59.489334Z",
     "iopub.status.idle": "2024-12-29T01:46:59.493784Z",
     "shell.execute_reply": "2024-12-29T01:46:59.492781Z"
    },
    "papermill": {
     "duration": 0.018273,
     "end_time": "2024-12-29T01:46:59.495598",
     "exception": false,
     "start_time": "2024-12-29T01:46:59.477325",
     "status": "completed"
    },
    "tags": []
   },
   "outputs": [],
   "source": [
    "#nonadata = pd.concat([df_train2['Credit Score'],df_train2['Health Score']],axis=1)\n",
    "#nonadata.head()"
   ]
  },
  {
   "cell_type": "code",
   "execution_count": 37,
   "id": "ad2192b5",
   "metadata": {
    "execution": {
     "iopub.execute_input": "2024-12-29T01:46:59.518981Z",
     "iopub.status.busy": "2024-12-29T01:46:59.518207Z",
     "iopub.status.idle": "2024-12-29T01:46:59.522776Z",
     "shell.execute_reply": "2024-12-29T01:46:59.521734Z"
    },
    "papermill": {
     "duration": 0.018507,
     "end_time": "2024-12-29T01:46:59.524840",
     "exception": false,
     "start_time": "2024-12-29T01:46:59.506333",
     "status": "completed"
    },
    "tags": []
   },
   "outputs": [],
   "source": [
    "#nonadata.describe()\n",
    "#from sklearn.preprocessing import StandardScaler, RobustScaler\n",
    "\n",
    "#standard_scaler=StandardScaler()\n",
    "#scalenonadata=standard_scaler.fit_transform(nonadata)\n",
    "\n",
    "#robust_scaler=RobustScaler()\n",
    "#scalenonadata=robust_scaler.fit_transform(nonadata)"
   ]
  },
  {
   "cell_type": "code",
   "execution_count": 38,
   "id": "a7254cc1",
   "metadata": {
    "execution": {
     "iopub.execute_input": "2024-12-29T01:46:59.548803Z",
     "iopub.status.busy": "2024-12-29T01:46:59.547983Z",
     "iopub.status.idle": "2024-12-29T01:46:59.552793Z",
     "shell.execute_reply": "2024-12-29T01:46:59.551617Z"
    },
    "papermill": {
     "duration": 0.019131,
     "end_time": "2024-12-29T01:46:59.554916",
     "exception": false,
     "start_time": "2024-12-29T01:46:59.535785",
     "status": "completed"
    },
    "tags": []
   },
   "outputs": [],
   "source": [
    "#nonadata=pd.DataFrame(scalenonadata,columns=['Credit Score','Health Score'])"
   ]
  },
  {
   "cell_type": "code",
   "execution_count": 39,
   "id": "fcb6dcce",
   "metadata": {
    "execution": {
     "iopub.execute_input": "2024-12-29T01:46:59.578834Z",
     "iopub.status.busy": "2024-12-29T01:46:59.577860Z",
     "iopub.status.idle": "2024-12-29T01:46:59.582636Z",
     "shell.execute_reply": "2024-12-29T01:46:59.581488Z"
    },
    "papermill": {
     "duration": 0.018901,
     "end_time": "2024-12-29T01:46:59.584695",
     "exception": false,
     "start_time": "2024-12-29T01:46:59.565794",
     "status": "completed"
    },
    "tags": []
   },
   "outputs": [],
   "source": [
    "#df_train2['Label'] = np.log1p(df_train2['Premium Amount'])"
   ]
  },
  {
   "cell_type": "code",
   "execution_count": 40,
   "id": "cd2571fe",
   "metadata": {
    "execution": {
     "iopub.execute_input": "2024-12-29T01:46:59.608384Z",
     "iopub.status.busy": "2024-12-29T01:46:59.607595Z",
     "iopub.status.idle": "2024-12-29T01:46:59.779527Z",
     "shell.execute_reply": "2024-12-29T01:46:59.778467Z"
    },
    "papermill": {
     "duration": 0.186259,
     "end_time": "2024-12-29T01:46:59.781868",
     "exception": false,
     "start_time": "2024-12-29T01:46:59.595609",
     "status": "completed"
    },
    "tags": []
   },
   "outputs": [],
   "source": [
    "data = df_train.drop(['id','Premium Amount','Policy Start Date','Label'],axis=1) \n",
    "cat_features=cat_features.intersection(data.columns)\n",
    "cat_features=cat_features.difference(['Credit Score','Health Score','Annual Income'])\n",
    "#text_features=text_features.intersection(data.columns)"
   ]
  },
  {
   "cell_type": "code",
   "execution_count": 41,
   "id": "50292ed7",
   "metadata": {
    "execution": {
     "iopub.execute_input": "2024-12-29T01:46:59.806028Z",
     "iopub.status.busy": "2024-12-29T01:46:59.805152Z",
     "iopub.status.idle": "2024-12-29T01:46:59.812155Z",
     "shell.execute_reply": "2024-12-29T01:46:59.811106Z"
    },
    "papermill": {
     "duration": 0.021221,
     "end_time": "2024-12-29T01:46:59.814147",
     "exception": false,
     "start_time": "2024-12-29T01:46:59.792926",
     "status": "completed"
    },
    "tags": []
   },
   "outputs": [
    {
     "data": {
      "text/plain": [
       "Index(['Customer Feedback', 'Education Level', 'Exercise Frequency', 'Gender',\n",
       "       'Location', 'Marital Status', 'Occupation', 'Policy Type',\n",
       "       'Property Type', 'Smoking Status', 'StartY'],\n",
       "      dtype='object')"
      ]
     },
     "execution_count": 41,
     "metadata": {},
     "output_type": "execute_result"
    }
   ],
   "source": [
    "cat_features"
   ]
  },
  {
   "cell_type": "code",
   "execution_count": 42,
   "id": "01b2e6a0",
   "metadata": {
    "execution": {
     "iopub.execute_input": "2024-12-29T01:46:59.837681Z",
     "iopub.status.busy": "2024-12-29T01:46:59.837160Z",
     "iopub.status.idle": "2024-12-29T01:46:59.843888Z",
     "shell.execute_reply": "2024-12-29T01:46:59.842857Z"
    },
    "papermill": {
     "duration": 0.020853,
     "end_time": "2024-12-29T01:46:59.845918",
     "exception": false,
     "start_time": "2024-12-29T01:46:59.825065",
     "status": "completed"
    },
    "tags": []
   },
   "outputs": [
    {
     "data": {
      "text/plain": [
       "Index(['Age', 'Gender', 'Annual Income', 'Marital Status',\n",
       "       'Number of Dependents', 'Education Level', 'Occupation', 'Health Score',\n",
       "       'Location', 'Policy Type', 'Previous Claims', 'Vehicle Age',\n",
       "       'Credit Score', 'Insurance Duration', 'Customer Feedback',\n",
       "       'Smoking Status', 'Exercise Frequency', 'Property Type', 'StartY'],\n",
       "      dtype='object')"
      ]
     },
     "execution_count": 42,
     "metadata": {},
     "output_type": "execute_result"
    }
   ],
   "source": [
    "data.columns"
   ]
  },
  {
   "cell_type": "code",
   "execution_count": 43,
   "id": "b1e453a6",
   "metadata": {
    "execution": {
     "iopub.execute_input": "2024-12-29T01:46:59.869859Z",
     "iopub.status.busy": "2024-12-29T01:46:59.869434Z",
     "iopub.status.idle": "2024-12-29T01:46:59.876185Z",
     "shell.execute_reply": "2024-12-29T01:46:59.875162Z"
    },
    "papermill": {
     "duration": 0.021167,
     "end_time": "2024-12-29T01:46:59.878200",
     "exception": false,
     "start_time": "2024-12-29T01:46:59.857033",
     "status": "completed"
    },
    "tags": []
   },
   "outputs": [
    {
     "data": {
      "text/plain": [
       "Index(['id', 'Age', 'Annual Income', 'Number of Dependents', 'Health Score',\n",
       "       'Previous Claims', 'Vehicle Age', 'Credit Score', 'Insurance Duration',\n",
       "       'Premium Amount'],\n",
       "      dtype='object')"
      ]
     },
     "execution_count": 43,
     "metadata": {},
     "output_type": "execute_result"
    }
   ],
   "source": [
    "numeric_columns"
   ]
  },
  {
   "cell_type": "code",
   "execution_count": 44,
   "id": "aa1a2a9e",
   "metadata": {
    "execution": {
     "iopub.execute_input": "2024-12-29T01:46:59.903313Z",
     "iopub.status.busy": "2024-12-29T01:46:59.902148Z",
     "iopub.status.idle": "2024-12-29T01:47:01.572022Z",
     "shell.execute_reply": "2024-12-29T01:47:01.570820Z"
    },
    "papermill": {
     "duration": 1.684868,
     "end_time": "2024-12-29T01:47:01.574570",
     "exception": false,
     "start_time": "2024-12-29T01:46:59.889702",
     "status": "completed"
    },
    "tags": []
   },
   "outputs": [],
   "source": [
    "df_train[cat_features]=df_train[cat_features].astype('category')\n",
    "df_test[cat_features]=df_test[cat_features].astype('category')"
   ]
  },
  {
   "cell_type": "code",
   "execution_count": 45,
   "id": "fc12d763",
   "metadata": {
    "execution": {
     "iopub.execute_input": "2024-12-29T01:47:01.601089Z",
     "iopub.status.busy": "2024-12-29T01:47:01.600691Z",
     "iopub.status.idle": "2024-12-29T01:47:01.716895Z",
     "shell.execute_reply": "2024-12-29T01:47:01.715658Z"
    },
    "papermill": {
     "duration": 0.131691,
     "end_time": "2024-12-29T01:47:01.719004",
     "exception": false,
     "start_time": "2024-12-29T01:47:01.587313",
     "status": "completed"
    },
    "tags": []
   },
   "outputs": [
    {
     "name": "stdout",
     "output_type": "stream",
     "text": [
      "<class 'pandas.core.frame.DataFrame'>\n",
      "RangeIndex: 1200000 entries, 0 to 1199999\n",
      "Data columns (total 23 columns):\n",
      " #   Column                Non-Null Count    Dtype   \n",
      "---  ------                --------------    -----   \n",
      " 0   id                    1200000 non-null  int64   \n",
      " 1   Age                   1181295 non-null  float64 \n",
      " 2   Gender                1200000 non-null  category\n",
      " 3   Annual Income         1155051 non-null  float64 \n",
      " 4   Marital Status        1200000 non-null  category\n",
      " 5   Number of Dependents  1090328 non-null  float64 \n",
      " 6   Education Level       1200000 non-null  category\n",
      " 7   Occupation            1200000 non-null  category\n",
      " 8   Health Score          1125924 non-null  float64 \n",
      " 9   Location              1200000 non-null  category\n",
      " 10  Policy Type           1200000 non-null  category\n",
      " 11  Previous Claims       835971 non-null   float64 \n",
      " 12  Vehicle Age           1199994 non-null  float64 \n",
      " 13  Credit Score          1062118 non-null  float64 \n",
      " 14  Insurance Duration    1199999 non-null  float64 \n",
      " 15  Policy Start Date     1200000 non-null  object  \n",
      " 16  Customer Feedback     1200000 non-null  category\n",
      " 17  Smoking Status        1200000 non-null  category\n",
      " 18  Exercise Frequency    1200000 non-null  category\n",
      " 19  Property Type         1200000 non-null  category\n",
      " 20  Premium Amount        1200000 non-null  float64 \n",
      " 21  StartY                1200000 non-null  category\n",
      " 22  Label                 1200000 non-null  float64 \n",
      "dtypes: category(11), float64(10), int64(1), object(1)\n",
      "memory usage: 122.5+ MB\n"
     ]
    }
   ],
   "source": [
    "df_train.info()"
   ]
  },
  {
   "cell_type": "code",
   "execution_count": 46,
   "id": "71fb891f",
   "metadata": {
    "execution": {
     "iopub.execute_input": "2024-12-29T01:47:01.744079Z",
     "iopub.status.busy": "2024-12-29T01:47:01.743143Z",
     "iopub.status.idle": "2024-12-29T01:47:02.181042Z",
     "shell.execute_reply": "2024-12-29T01:47:02.179881Z"
    },
    "papermill": {
     "duration": 0.452746,
     "end_time": "2024-12-29T01:47:02.183375",
     "exception": false,
     "start_time": "2024-12-29T01:47:01.730629",
     "status": "completed"
    },
    "tags": []
   },
   "outputs": [],
   "source": [
    "from catboost import *\n",
    "\n",
    "X_train,x_val,Y_train,y_val = train_test_split(df_train.drop(['id','Premium Amount','Policy Start Date','Label'],axis=1),df_train['Label'],test_size=0.2,random_state=11)\n",
    "train_pool=Pool(data=X_train,\n",
    "                label=Y_train,\n",
    "                cat_features=cat_features.to_list())\n",
    "val_pool=Pool(data=x_val,\n",
    "               label=y_val,\n",
    "               cat_features=cat_features.to_list())\n",
    "X_test = df_test.drop(['id','Policy Start Date'],axis=1)\n"
   ]
  },
  {
   "cell_type": "code",
   "execution_count": 47,
   "id": "5e5c026d",
   "metadata": {
    "execution": {
     "iopub.execute_input": "2024-12-29T01:47:02.208273Z",
     "iopub.status.busy": "2024-12-29T01:47:02.207890Z",
     "iopub.status.idle": "2024-12-29T01:47:02.213458Z",
     "shell.execute_reply": "2024-12-29T01:47:02.212388Z"
    },
    "papermill": {
     "duration": 0.020537,
     "end_time": "2024-12-29T01:47:02.215656",
     "exception": false,
     "start_time": "2024-12-29T01:47:02.195119",
     "status": "completed"
    },
    "tags": []
   },
   "outputs": [],
   "source": [
    "def calc_test_quality(train_pool, val_pool, **kwargs):\n",
    "    model = CatBoostRegressor(**kwargs, random_seed=11)\n",
    "    model.fit(train_pool, verbose=0, eval_set=val_pool)\n",
    "    y_pred = model.predict(val_pool)\n",
    "    return eval_metric(val_pool.get_label(), y_pred, 'RMSE'), model"
   ]
  },
  {
   "cell_type": "code",
   "execution_count": 48,
   "id": "7aba81f4",
   "metadata": {
    "execution": {
     "iopub.execute_input": "2024-12-29T01:47:02.240851Z",
     "iopub.status.busy": "2024-12-29T01:47:02.240103Z",
     "iopub.status.idle": "2024-12-29T04:48:58.057797Z",
     "shell.execute_reply": "2024-12-29T04:48:58.056579Z"
    },
    "papermill": {
     "duration": 10915.845571,
     "end_time": "2024-12-29T04:48:58.072603",
     "exception": false,
     "start_time": "2024-12-29T01:47:02.227032",
     "status": "completed"
    },
    "tags": []
   },
   "outputs": [
    {
     "name": "stderr",
     "output_type": "stream",
     "text": [
      "[I 2024-12-29 01:47:02,243] A new study created in memory with name: no-name-a101c6c2-e7b4-4a33-8255-3e1995d064f5\n",
      "[I 2024-12-29 01:53:16,058] Trial 0 finished with value: 1.0531685737464556 and parameters: {'learning_rate': 0.01611370975523088, 'depth': 4, 'l2_leaf_reg': 1.558327732431058, 'subsample': 0.48686732452852033, 'colsample_bylevel': 0.8434907152157469, 'min_data_in_leaf': 93}. Best is trial 0 with value: 1.0531685737464556.\n",
      "[I 2024-12-29 01:58:45,847] Trial 1 finished with value: 1.048749319610776 and parameters: {'learning_rate': 0.07297190944758794, 'depth': 8, 'l2_leaf_reg': 3.422845598249739, 'subsample': 0.66182782746744, 'colsample_bylevel': 0.13870459398776697, 'min_data_in_leaf': 8}. Best is trial 1 with value: 1.048749319610776.\n",
      "[I 2024-12-29 02:04:47,056] Trial 2 finished with value: 1.0507420464587234 and parameters: {'learning_rate': 0.05937176159213057, 'depth': 4, 'l2_leaf_reg': 9.8998853371548, 'subsample': 0.645149545918271, 'colsample_bylevel': 0.6976903157919055, 'min_data_in_leaf': 56}. Best is trial 1 with value: 1.048749319610776.\n",
      "[I 2024-12-29 02:08:13,100] Trial 3 finished with value: 1.0529294140650551 and parameters: {'learning_rate': 0.02761714573093766, 'depth': 4, 'l2_leaf_reg': 3.006352890966305, 'subsample': 0.22712047033889066, 'colsample_bylevel': 0.42111568878095906, 'min_data_in_leaf': 20}. Best is trial 1 with value: 1.048749319610776.\n",
      "[I 2024-12-29 02:15:13,084] Trial 4 finished with value: 1.048095271737191 and parameters: {'learning_rate': 0.061480182204157144, 'depth': 9, 'l2_leaf_reg': 6.6010494188852356, 'subsample': 0.2904629969943411, 'colsample_bylevel': 0.22093379139172553, 'min_data_in_leaf': 82}. Best is trial 4 with value: 1.048095271737191.\n",
      "[I 2024-12-29 02:23:21,075] Trial 5 finished with value: 1.0489449473839 and parameters: {'learning_rate': 0.02331179044720682, 'depth': 6, 'l2_leaf_reg': 5.666462372099211, 'subsample': 0.6203561888797304, 'colsample_bylevel': 0.5559894586362961, 'min_data_in_leaf': 2}. Best is trial 4 with value: 1.048095271737191.\n",
      "[I 2024-12-29 02:31:41,661] Trial 6 finished with value: 1.0480784746519063 and parameters: {'learning_rate': 0.05288562898218865, 'depth': 9, 'l2_leaf_reg': 7.929111649464229, 'subsample': 0.1667091113282173, 'colsample_bylevel': 0.3310790593830509, 'min_data_in_leaf': 62}. Best is trial 6 with value: 1.0480784746519063.\n",
      "[I 2024-12-29 02:37:17,626] Trial 7 finished with value: 1.048970320161276 and parameters: {'learning_rate': 0.07288767408981474, 'depth': 5, 'l2_leaf_reg': 7.921993305003545, 'subsample': 0.23204947947047594, 'colsample_bylevel': 0.5799733858125498, 'min_data_in_leaf': 56}. Best is trial 6 with value: 1.0480784746519063.\n",
      "[I 2024-12-29 02:47:35,976] Trial 8 finished with value: 1.0472345160643564 and parameters: {'learning_rate': 0.047750323656334456, 'depth': 8, 'l2_leaf_reg': 2.0372471041252336, 'subsample': 0.6972387033506817, 'colsample_bylevel': 0.3942169303903681, 'min_data_in_leaf': 35}. Best is trial 8 with value: 1.0472345160643564.\n",
      "[I 2024-12-29 02:48:27,127] Trial 9 finished with value: 1.0739483181922451 and parameters: {'learning_rate': 0.045502356241659894, 'depth': 1, 'l2_leaf_reg': 4.737229208288963, 'subsample': 0.9261201183073157, 'colsample_bylevel': 0.1366452922670417, 'min_data_in_leaf': 32}. Best is trial 8 with value: 1.0472345160643564.\n",
      "[I 2024-12-29 03:14:45,099] Trial 10 finished with value: 1.0487607143272728 and parameters: {'learning_rate': 0.0034652317908838576, 'depth': 10, 'l2_leaf_reg': 1.1646108171051086, 'subsample': 0.9712412878644932, 'colsample_bylevel': 0.824327064025376, 'min_data_in_leaf': 35}. Best is trial 8 with value: 1.0472345160643564.\n",
      "[I 2024-12-29 03:20:41,793] Trial 11 finished with value: 1.049554158577662 and parameters: {'learning_rate': 0.04262951089849617, 'depth': 7, 'l2_leaf_reg': 8.114710863978663, 'subsample': 0.07173834685564036, 'colsample_bylevel': 0.34845261559953317, 'min_data_in_leaf': 72}. Best is trial 8 with value: 1.0472345160643564.\n",
      "[I 2024-12-29 03:34:34,226] Trial 12 finished with value: 1.047259862021956 and parameters: {'learning_rate': 0.09916151820901412, 'depth': 10, 'l2_leaf_reg': 9.508041519657251, 'subsample': 0.8111001738070813, 'colsample_bylevel': 0.3323345984824733, 'min_data_in_leaf': 45}. Best is trial 8 with value: 1.0472345160643564.\n",
      "[I 2024-12-29 03:51:58,901] Trial 13 finished with value: 1.0472807200525824 and parameters: {'learning_rate': 0.09327377098086058, 'depth': 10, 'l2_leaf_reg': 9.788186722150174, 'subsample': 0.7924140412500965, 'colsample_bylevel': 0.46486578478866925, 'min_data_in_leaf': 39}. Best is trial 8 with value: 1.0472345160643564.\n",
      "[I 2024-12-29 04:00:32,526] Trial 14 finished with value: 1.0476507845072822 and parameters: {'learning_rate': 0.09539725640446636, 'depth': 8, 'l2_leaf_reg': 3.4711189713443544, 'subsample': 0.8082120919103953, 'colsample_bylevel': 0.2478419151283049, 'min_data_in_leaf': 42}. Best is trial 8 with value: 1.0472345160643564.\n",
      "[I 2024-12-29 04:11:49,636] Trial 15 finished with value: 1.0472024975018694 and parameters: {'learning_rate': 0.08391853301450516, 'depth': 7, 'l2_leaf_reg': 5.051671629781973, 'subsample': 0.49338850068002077, 'colsample_bylevel': 0.6849932866034221, 'min_data_in_leaf': 26}. Best is trial 15 with value: 1.0472024975018694.\n",
      "[I 2024-12-29 04:20:53,519] Trial 16 finished with value: 1.0477800352958586 and parameters: {'learning_rate': 0.08031813686685702, 'depth': 6, 'l2_leaf_reg': 2.330355804040326, 'subsample': 0.4284686022648389, 'colsample_bylevel': 0.7009088908574728, 'min_data_in_leaf': 21}. Best is trial 15 with value: 1.0472024975018694.\n",
      "[I 2024-12-29 04:33:35,893] Trial 17 finished with value: 1.0476159171015262 and parameters: {'learning_rate': 0.03618246990046181, 'depth': 7, 'l2_leaf_reg': 4.43846330822545, 'subsample': 0.3765034863239523, 'colsample_bylevel': 0.9916549692165362, 'min_data_in_leaf': 27}. Best is trial 15 with value: 1.0472024975018694.\n",
      "[I 2024-12-29 04:45:05,418] Trial 18 finished with value: 1.0472329594131724 and parameters: {'learning_rate': 0.08651185230218214, 'depth': 7, 'l2_leaf_reg': 6.155363145297091, 'subsample': 0.5446865191735084, 'colsample_bylevel': 0.6717706027495537, 'min_data_in_leaf': 11}. Best is trial 15 with value: 1.0472024975018694.\n",
      "[I 2024-12-29 04:48:58,053] Trial 19 finished with value: 1.0530719532407844 and parameters: {'learning_rate': 0.08290807606204574, 'depth': 3, 'l2_leaf_reg': 6.3051727288804535, 'subsample': 0.5416080000939885, 'colsample_bylevel': 0.6662014179607562, 'min_data_in_leaf': 14}. Best is trial 15 with value: 1.0472024975018694.\n"
     ]
    }
   ],
   "source": [
    "from optuna.samplers import TPESampler\n",
    "\n",
    "sampler = TPESampler(seed=777)\n",
    "study = optuna.create_study(direction='minimize', sampler=sampler)\n",
    "study.optimize(objective, n_trials=20)"
   ]
  },
  {
   "cell_type": "code",
   "execution_count": 49,
   "id": "962aea0c",
   "metadata": {
    "execution": {
     "iopub.execute_input": "2024-12-29T04:48:58.106539Z",
     "iopub.status.busy": "2024-12-29T04:48:58.106115Z",
     "iopub.status.idle": "2024-12-29T05:00:15.407147Z",
     "shell.execute_reply": "2024-12-29T05:00:15.405668Z"
    },
    "papermill": {
     "duration": 677.322666,
     "end_time": "2024-12-29T05:00:15.410010",
     "exception": false,
     "start_time": "2024-12-29T04:48:58.087344",
     "status": "completed"
    },
    "tags": []
   },
   "outputs": [],
   "source": [
    "#best_params={'learning_rate': 0.08185794499355767, \n",
    "#             'depth': 9, \n",
    "#             'l2_leaf_reg': 7.991690806822533, \n",
    "#             'subsample': 0.9927497109225146, \n",
    "#             'colsample_bylevel': 0.7891449618088523, \n",
    "#             'min_data_in_leaf': 31} \n",
    "\n",
    "#Best is trial 16 with value: 1.0469014137463928.\n",
    "metriclist, model = calc_test_quality(train_pool,val_pool,**study.best_params)\n",
    "model.save_model('optuna_tune_model')"
   ]
  },
  {
   "cell_type": "code",
   "execution_count": 50,
   "id": "20190e04",
   "metadata": {
    "execution": {
     "iopub.execute_input": "2024-12-29T05:00:15.437848Z",
     "iopub.status.busy": "2024-12-29T05:00:15.437432Z",
     "iopub.status.idle": "2024-12-29T05:00:16.913582Z",
     "shell.execute_reply": "2024-12-29T05:00:16.912670Z"
    },
    "papermill": {
     "duration": 1.49305,
     "end_time": "2024-12-29T05:00:16.916262",
     "exception": false,
     "start_time": "2024-12-29T05:00:15.423212",
     "status": "completed"
    },
    "tags": []
   },
   "outputs": [],
   "source": [
    "predicts = model.predict(X_test)"
   ]
  },
  {
   "cell_type": "code",
   "execution_count": 51,
   "id": "8916b550",
   "metadata": {
    "execution": {
     "iopub.execute_input": "2024-12-29T05:00:16.945238Z",
     "iopub.status.busy": "2024-12-29T05:00:16.944247Z",
     "iopub.status.idle": "2024-12-29T05:00:16.968322Z",
     "shell.execute_reply": "2024-12-29T05:00:16.967156Z"
    },
    "papermill": {
     "duration": 0.040769,
     "end_time": "2024-12-29T05:00:16.970839",
     "exception": false,
     "start_time": "2024-12-29T05:00:16.930070",
     "status": "completed"
    },
    "tags": []
   },
   "outputs": [],
   "source": [
    "predicts_original_scale = np.expm1(predicts)"
   ]
  },
  {
   "cell_type": "code",
   "execution_count": 52,
   "id": "3567a8c1",
   "metadata": {
    "execution": {
     "iopub.execute_input": "2024-12-29T05:00:16.998665Z",
     "iopub.status.busy": "2024-12-29T05:00:16.998278Z",
     "iopub.status.idle": "2024-12-29T05:00:17.016587Z",
     "shell.execute_reply": "2024-12-29T05:00:17.015440Z"
    },
    "papermill": {
     "duration": 0.035255,
     "end_time": "2024-12-29T05:00:17.019045",
     "exception": false,
     "start_time": "2024-12-29T05:00:16.983790",
     "status": "completed"
    },
    "tags": []
   },
   "outputs": [],
   "source": [
    "#round int\n",
    "temp=pd.concat([df_test['id'],pd.DataFrame(np.rint(predicts_original_scale),columns=['Premium Amount'])],axis=1).reset_index(drop=True)"
   ]
  },
  {
   "cell_type": "code",
   "execution_count": 53,
   "id": "fd58f08f",
   "metadata": {
    "execution": {
     "iopub.execute_input": "2024-12-29T05:00:17.047033Z",
     "iopub.status.busy": "2024-12-29T05:00:17.046261Z",
     "iopub.status.idle": "2024-12-29T05:00:17.077126Z",
     "shell.execute_reply": "2024-12-29T05:00:17.075879Z"
    },
    "papermill": {
     "duration": 0.047638,
     "end_time": "2024-12-29T05:00:17.079563",
     "exception": false,
     "start_time": "2024-12-29T05:00:17.031925",
     "status": "completed"
    },
    "tags": []
   },
   "outputs": [],
   "source": [
    "#not round int\n",
    "temp2=pd.concat([df_test['id'],pd.DataFrame(predicts_original_scale.astype(int),columns=['Premium Amount'])],axis=1).reset_index(drop=True)"
   ]
  },
  {
   "cell_type": "code",
   "execution_count": 54,
   "id": "41bdaa4d",
   "metadata": {
    "execution": {
     "iopub.execute_input": "2024-12-29T05:00:17.107166Z",
     "iopub.status.busy": "2024-12-29T05:00:17.106804Z",
     "iopub.status.idle": "2024-12-29T05:00:18.081459Z",
     "shell.execute_reply": "2024-12-29T05:00:18.080239Z"
    },
    "papermill": {
     "duration": 0.991503,
     "end_time": "2024-12-29T05:00:18.084125",
     "exception": false,
     "start_time": "2024-12-29T05:00:17.092622",
     "status": "completed"
    },
    "tags": []
   },
   "outputs": [],
   "source": [
    "temp.to_csv('submissionX.csv',index=False)"
   ]
  },
  {
   "cell_type": "code",
   "execution_count": 55,
   "id": "38ba1333",
   "metadata": {
    "execution": {
     "iopub.execute_input": "2024-12-29T05:00:18.112700Z",
     "iopub.status.busy": "2024-12-29T05:00:18.111866Z",
     "iopub.status.idle": "2024-12-29T05:00:18.747193Z",
     "shell.execute_reply": "2024-12-29T05:00:18.745779Z"
    },
    "papermill": {
     "duration": 0.652085,
     "end_time": "2024-12-29T05:00:18.749886",
     "exception": false,
     "start_time": "2024-12-29T05:00:18.097801",
     "status": "completed"
    },
    "tags": []
   },
   "outputs": [],
   "source": [
    "temp2.to_csv('submission_not_round.csv',index=False)"
   ]
  }
 ],
 "metadata": {
  "kaggle": {
   "accelerator": "none",
   "dataSources": [
    {
     "databundleVersionId": 10305135,
     "sourceId": 84896,
     "sourceType": "competition"
    },
    {
     "datasetId": 6332864,
     "sourceId": 10240600,
     "sourceType": "datasetVersion"
    }
   ],
   "dockerImageVersionId": 30804,
   "isGpuEnabled": false,
   "isInternetEnabled": true,
   "language": "python",
   "sourceType": "notebook"
  },
  "kernelspec": {
   "display_name": "Python 3",
   "language": "python",
   "name": "python3"
  },
  "language_info": {
   "codemirror_mode": {
    "name": "ipython",
    "version": 3
   },
   "file_extension": ".py",
   "mimetype": "text/x-python",
   "name": "python",
   "nbconvert_exporter": "python",
   "pygments_lexer": "ipython3",
   "version": "3.10.14"
  },
  "papermill": {
   "default_parameters": {},
   "duration": 11630.72241,
   "end_time": "2024-12-29T05:00:19.987910",
   "environment_variables": {},
   "exception": null,
   "input_path": "__notebook__.ipynb",
   "output_path": "__notebook__.ipynb",
   "parameters": {},
   "start_time": "2024-12-29T01:46:29.265500",
   "version": "2.6.0"
  }
 },
 "nbformat": 4,
 "nbformat_minor": 5
}
