{
 "cells": [
  {
   "cell_type": "code",
   "execution_count": 1,
   "id": "5e70d73e",
   "metadata": {
    "_cell_guid": "b1076dfc-b9ad-4769-8c92-a6c4dae69d19",
    "_uuid": "8f2839f25d086af736a60e9eeb907d3b93b6e0e5",
    "execution": {
     "iopub.execute_input": "2024-12-29T08:00:55.164848Z",
     "iopub.status.busy": "2024-12-29T08:00:55.164562Z",
     "iopub.status.idle": "2024-12-29T08:00:55.810498Z",
     "shell.execute_reply": "2024-12-29T08:00:55.809544Z"
    },
    "papermill": {
     "duration": 0.656115,
     "end_time": "2024-12-29T08:00:55.812330",
     "exception": false,
     "start_time": "2024-12-29T08:00:55.156215",
     "status": "completed"
    },
    "tags": []
   },
   "outputs": [
    {
     "name": "stdout",
     "output_type": "stream",
     "text": [
      "/kaggle/input/playground-series-s4e12/sample_submission.csv\n",
      "/kaggle/input/playground-series-s4e12/train.csv\n",
      "/kaggle/input/playground-series-s4e12/test.csv\n",
      "/kaggle/input/catfitmodel/catfit\n"
     ]
    }
   ],
   "source": [
    "# This Python 3 environment comes with many helpful analytics libraries installed\n",
    "# It is defined by the kaggle/python Docker image: https://github.com/kaggle/docker-python\n",
    "# For example, here's several helpful packages to load\n",
    "\n",
    "import numpy as np # linear algebra\n",
    "import pandas as pd # data processing, CSV file I/O (e.g. pd.read_csv)\n",
    "\n",
    "# Input data files are available in the read-only \"../input/\" directory\n",
    "# For example, running this (by clicking run or pressing Shift+Enter) will list all files under the input directory\n",
    "\n",
    "import os\n",
    "for dirname, _, filenames in os.walk('/kaggle/input'):\n",
    "    for filename in filenames:\n",
    "        print(os.path.join(dirname, filename))\n",
    "\n",
    "# You can write up to 20GB to the current directory (/kaggle/working/) that gets preserved as output when you create a version using \"Save & Run All\" \n",
    "# You can also write temporary files to /kaggle/temp/, but they won't be saved outside of the current session"
   ]
  },
  {
   "cell_type": "code",
   "execution_count": 2,
   "id": "6b18cbd7",
   "metadata": {
    "execution": {
     "iopub.execute_input": "2024-12-29T08:00:55.827511Z",
     "iopub.status.busy": "2024-12-29T08:00:55.827188Z",
     "iopub.status.idle": "2024-12-29T08:00:55.830606Z",
     "shell.execute_reply": "2024-12-29T08:00:55.829921Z"
    },
    "papermill": {
     "duration": 0.0121,
     "end_time": "2024-12-29T08:00:55.832194",
     "exception": false,
     "start_time": "2024-12-29T08:00:55.820094",
     "status": "completed"
    },
    "tags": []
   },
   "outputs": [],
   "source": [
    "#!pip install -U feature-engine"
   ]
  },
  {
   "cell_type": "code",
   "execution_count": 3,
   "id": "41444a34",
   "metadata": {
    "execution": {
     "iopub.execute_input": "2024-12-29T08:00:55.846323Z",
     "iopub.status.busy": "2024-12-29T08:00:55.845798Z",
     "iopub.status.idle": "2024-12-29T08:00:57.701983Z",
     "shell.execute_reply": "2024-12-29T08:00:57.701277Z"
    },
    "papermill": {
     "duration": 1.865174,
     "end_time": "2024-12-29T08:00:57.703879",
     "exception": false,
     "start_time": "2024-12-29T08:00:55.838705",
     "status": "completed"
    },
    "tags": []
   },
   "outputs": [],
   "source": [
    "import catboost\n",
    "import pandas as pd\n",
    "import numpy as np\n",
    "import matplotlib.pyplot as plt\n",
    "import seaborn as sns\n",
    "import optuna\n",
    "from optuna.samplers import TPESampler\n",
    "from catboost.utils import eval_metric\n",
    "from sklearn.model_selection import train_test_split"
   ]
  },
  {
   "cell_type": "code",
   "execution_count": 4,
   "id": "b5e0f58b",
   "metadata": {
    "execution": {
     "iopub.execute_input": "2024-12-29T08:00:57.718553Z",
     "iopub.status.busy": "2024-12-29T08:00:57.718220Z",
     "iopub.status.idle": "2024-12-29T08:00:57.723962Z",
     "shell.execute_reply": "2024-12-29T08:00:57.723156Z"
    },
    "papermill": {
     "duration": 0.014624,
     "end_time": "2024-12-29T08:00:57.725447",
     "exception": false,
     "start_time": "2024-12-29T08:00:57.710823",
     "status": "completed"
    },
    "tags": []
   },
   "outputs": [],
   "source": [
    "#Optuna objective function\n",
    "def objective(trial):\n",
    "    params = {\n",
    "        #\"iterations\": 5000, 5000 is taking more than 12 hours    # OPtuna example not specify iteration\n",
    "        'iterations': trial.suggest_int('iterations', 1000, 4000), \n",
    "        'early_stopping_rounds': trial.suggest_int('early_stopping_rounds', 10, 200), \n",
    "        \"learning_rate\": trial.suggest_float(\"learning_rate\", 1e-3, 0.1),\n",
    "        \"depth\": trial.suggest_int(\"depth\", 1, 10),\n",
    "        'l2_leaf_reg': trial.suggest_float('l2_leaf_reg', 1, 10),\n",
    "        #\"subsample\": trial.suggest_float(\"subsample\", 0.05, 1.0),  subsample only support bernoulli bootstrap_type\n",
    "        #\"colsample_bylevel\": trial.suggest_float(\"colsample_bylevel\", 0.05, 1.0),\n",
    "        \"min_data_in_leaf\": trial.suggest_int(\"min_data_in_leaf\", 1, 100),\n",
    "        'grow_policy': trial.suggest_categorical('grow_policy', ['Depthwise', 'Lossguide']),\n",
    "    }\n",
    "\n",
    "    model = CatBoostRegressor(**params, task_type=\"GPU\",silent=True,random_seed=51)\n",
    "    model.fit(train_pool,verbose=0,eval_set=val_pool)\n",
    "    y_pred = model.predict(val_pool)\n",
    "    #rmse = mean_squared_error(y_val, predictions, squared=False)\n",
    "    return eval_metric(val_pool.get_label(),y_pred,'RMSE')"
   ]
  },
  {
   "cell_type": "code",
   "execution_count": 5,
   "id": "e35e8e60",
   "metadata": {
    "execution": {
     "iopub.execute_input": "2024-12-29T08:00:57.739124Z",
     "iopub.status.busy": "2024-12-29T08:00:57.738824Z",
     "iopub.status.idle": "2024-12-29T08:01:05.748845Z",
     "shell.execute_reply": "2024-12-29T08:01:05.748164Z"
    },
    "papermill": {
     "duration": 8.01907,
     "end_time": "2024-12-29T08:01:05.750856",
     "exception": false,
     "start_time": "2024-12-29T08:00:57.731786",
     "status": "completed"
    },
    "tags": []
   },
   "outputs": [],
   "source": [
    "df_train = pd.read_csv('/kaggle/input/playground-series-s4e12/train.csv')\n",
    "df_test = pd.read_csv('/kaggle/input/playground-series-s4e12/test.csv')"
   ]
  },
  {
   "cell_type": "code",
   "execution_count": 6,
   "id": "f4e1905d",
   "metadata": {
    "execution": {
     "iopub.execute_input": "2024-12-29T08:01:05.765750Z",
     "iopub.status.busy": "2024-12-29T08:01:05.765277Z",
     "iopub.status.idle": "2024-12-29T08:01:13.926623Z",
     "shell.execute_reply": "2024-12-29T08:01:13.925651Z"
    },
    "papermill": {
     "duration": 8.171002,
     "end_time": "2024-12-29T08:01:13.928802",
     "exception": false,
     "start_time": "2024-12-29T08:01:05.757800",
     "status": "completed"
    },
    "tags": []
   },
   "outputs": [],
   "source": [
    "#df_train['StartYM']=pd.to_datetime(df_train['Policy Start Date']).dt.strftime('%Y-%m')\n",
    "df_train['StartY']=pd.to_datetime(df_train['Policy Start Date']).dt.strftime('%Y-%m')\n",
    "df_test['StartY']=pd.to_datetime(df_test['Policy Start Date']).dt.strftime('%Y-%m')"
   ]
  },
  {
   "cell_type": "code",
   "execution_count": 7,
   "id": "8ddb521d",
   "metadata": {
    "execution": {
     "iopub.execute_input": "2024-12-29T08:01:13.943642Z",
     "iopub.status.busy": "2024-12-29T08:01:13.943030Z",
     "iopub.status.idle": "2024-12-29T08:01:14.050656Z",
     "shell.execute_reply": "2024-12-29T08:01:14.049840Z"
    },
    "papermill": {
     "duration": 0.116717,
     "end_time": "2024-12-29T08:01:14.052412",
     "exception": false,
     "start_time": "2024-12-29T08:01:13.935695",
     "status": "completed"
    },
    "tags": []
   },
   "outputs": [
    {
     "data": {
      "text/plain": [
       "StartY\n",
       "2022-05    22166\n",
       "2023-03    21624\n",
       "2022-08    21532\n",
       "2021-07    21404\n",
       "2022-11    21396\n",
       "           ...  \n",
       "2019-12    18581\n",
       "2024-06    18210\n",
       "2019-11    17889\n",
       "2019-08     8868\n",
       "2024-08     8289\n",
       "Name: count, Length: 61, dtype: int64"
      ]
     },
     "execution_count": 7,
     "metadata": {},
     "output_type": "execute_result"
    }
   ],
   "source": [
    "df_train['StartY'].value_counts()"
   ]
  },
  {
   "cell_type": "code",
   "execution_count": 8,
   "id": "07fc58a6",
   "metadata": {
    "execution": {
     "iopub.execute_input": "2024-12-29T08:01:14.067002Z",
     "iopub.status.busy": "2024-12-29T08:01:14.066699Z",
     "iopub.status.idle": "2024-12-29T08:01:14.158710Z",
     "shell.execute_reply": "2024-12-29T08:01:14.157965Z"
    },
    "papermill": {
     "duration": 0.100953,
     "end_time": "2024-12-29T08:01:14.160355",
     "exception": false,
     "start_time": "2024-12-29T08:01:14.059402",
     "status": "completed"
    },
    "tags": []
   },
   "outputs": [
    {
     "data": {
      "text/html": [
       "<div>\n",
       "<style scoped>\n",
       "    .dataframe tbody tr th:only-of-type {\n",
       "        vertical-align: middle;\n",
       "    }\n",
       "\n",
       "    .dataframe tbody tr th {\n",
       "        vertical-align: top;\n",
       "    }\n",
       "\n",
       "    .dataframe thead th {\n",
       "        text-align: right;\n",
       "    }\n",
       "</style>\n",
       "<table border=\"1\" class=\"dataframe\">\n",
       "  <thead>\n",
       "    <tr style=\"text-align: right;\">\n",
       "      <th></th>\n",
       "      <th>StartY</th>\n",
       "      <th>count</th>\n",
       "    </tr>\n",
       "  </thead>\n",
       "  <tbody>\n",
       "    <tr>\n",
       "      <th>60</th>\n",
       "      <td>2024-08</td>\n",
       "      <td>8289</td>\n",
       "    </tr>\n",
       "    <tr>\n",
       "      <th>55</th>\n",
       "      <td>2024-07</td>\n",
       "      <td>18798</td>\n",
       "    </tr>\n",
       "    <tr>\n",
       "      <th>57</th>\n",
       "      <td>2024-06</td>\n",
       "      <td>18210</td>\n",
       "    </tr>\n",
       "    <tr>\n",
       "      <th>5</th>\n",
       "      <td>2024-05</td>\n",
       "      <td>21251</td>\n",
       "    </tr>\n",
       "    <tr>\n",
       "      <th>46</th>\n",
       "      <td>2024-04</td>\n",
       "      <td>19389</td>\n",
       "    </tr>\n",
       "    <tr>\n",
       "      <th>...</th>\n",
       "      <td>...</td>\n",
       "      <td>...</td>\n",
       "    </tr>\n",
       "    <tr>\n",
       "      <th>56</th>\n",
       "      <td>2019-12</td>\n",
       "      <td>18581</td>\n",
       "    </tr>\n",
       "    <tr>\n",
       "      <th>58</th>\n",
       "      <td>2019-11</td>\n",
       "      <td>17889</td>\n",
       "    </tr>\n",
       "    <tr>\n",
       "      <th>47</th>\n",
       "      <td>2019-10</td>\n",
       "      <td>19355</td>\n",
       "    </tr>\n",
       "    <tr>\n",
       "      <th>42</th>\n",
       "      <td>2019-09</td>\n",
       "      <td>19596</td>\n",
       "    </tr>\n",
       "    <tr>\n",
       "      <th>59</th>\n",
       "      <td>2019-08</td>\n",
       "      <td>8868</td>\n",
       "    </tr>\n",
       "  </tbody>\n",
       "</table>\n",
       "<p>61 rows × 2 columns</p>\n",
       "</div>"
      ],
      "text/plain": [
       "     StartY  count\n",
       "60  2024-08   8289\n",
       "55  2024-07  18798\n",
       "57  2024-06  18210\n",
       "5   2024-05  21251\n",
       "46  2024-04  19389\n",
       "..      ...    ...\n",
       "56  2019-12  18581\n",
       "58  2019-11  17889\n",
       "47  2019-10  19355\n",
       "42  2019-09  19596\n",
       "59  2019-08   8868\n",
       "\n",
       "[61 rows x 2 columns]"
      ]
     },
     "execution_count": 8,
     "metadata": {},
     "output_type": "execute_result"
    }
   ],
   "source": [
    "df_train['StartY'].value_counts().reset_index().sort_values(by=['StartY'],ascending=False)"
   ]
  },
  {
   "cell_type": "code",
   "execution_count": 9,
   "id": "da24ecfa",
   "metadata": {
    "execution": {
     "iopub.execute_input": "2024-12-29T08:01:14.175608Z",
     "iopub.status.busy": "2024-12-29T08:01:14.175003Z",
     "iopub.status.idle": "2024-12-29T08:01:14.334586Z",
     "shell.execute_reply": "2024-12-29T08:01:14.333809Z"
    },
    "papermill": {
     "duration": 0.168979,
     "end_time": "2024-12-29T08:01:14.336439",
     "exception": false,
     "start_time": "2024-12-29T08:01:14.167460",
     "status": "completed"
    },
    "tags": []
   },
   "outputs": [
    {
     "data": {
      "text/html": [
       "<div>\n",
       "<style scoped>\n",
       "    .dataframe tbody tr th:only-of-type {\n",
       "        vertical-align: middle;\n",
       "    }\n",
       "\n",
       "    .dataframe tbody tr th {\n",
       "        vertical-align: top;\n",
       "    }\n",
       "\n",
       "    .dataframe thead th {\n",
       "        text-align: right;\n",
       "    }\n",
       "</style>\n",
       "<table border=\"1\" class=\"dataframe\">\n",
       "  <thead>\n",
       "    <tr style=\"text-align: right;\">\n",
       "      <th></th>\n",
       "      <th>count</th>\n",
       "      <th>mean</th>\n",
       "      <th>std</th>\n",
       "      <th>min</th>\n",
       "      <th>25%</th>\n",
       "      <th>50%</th>\n",
       "      <th>75%</th>\n",
       "      <th>max</th>\n",
       "    </tr>\n",
       "    <tr>\n",
       "      <th>StartY</th>\n",
       "      <th></th>\n",
       "      <th></th>\n",
       "      <th></th>\n",
       "      <th></th>\n",
       "      <th></th>\n",
       "      <th></th>\n",
       "      <th></th>\n",
       "      <th></th>\n",
       "    </tr>\n",
       "  </thead>\n",
       "  <tbody>\n",
       "    <tr>\n",
       "      <th>2019-08</th>\n",
       "      <td>750.0</td>\n",
       "      <td>55.880000</td>\n",
       "      <td>33.038013</td>\n",
       "      <td>20.0</td>\n",
       "      <td>28.0</td>\n",
       "      <td>40.0</td>\n",
       "      <td>88.00</td>\n",
       "      <td>119.0</td>\n",
       "    </tr>\n",
       "    <tr>\n",
       "      <th>2019-09</th>\n",
       "      <td>1728.0</td>\n",
       "      <td>54.236111</td>\n",
       "      <td>32.662809</td>\n",
       "      <td>20.0</td>\n",
       "      <td>28.0</td>\n",
       "      <td>39.0</td>\n",
       "      <td>85.00</td>\n",
       "      <td>119.0</td>\n",
       "    </tr>\n",
       "    <tr>\n",
       "      <th>2019-10</th>\n",
       "      <td>1628.0</td>\n",
       "      <td>53.222973</td>\n",
       "      <td>32.727574</td>\n",
       "      <td>20.0</td>\n",
       "      <td>27.0</td>\n",
       "      <td>38.0</td>\n",
       "      <td>81.25</td>\n",
       "      <td>119.0</td>\n",
       "    </tr>\n",
       "    <tr>\n",
       "      <th>2019-11</th>\n",
       "      <td>1479.0</td>\n",
       "      <td>54.600406</td>\n",
       "      <td>33.092735</td>\n",
       "      <td>20.0</td>\n",
       "      <td>27.0</td>\n",
       "      <td>39.0</td>\n",
       "      <td>86.50</td>\n",
       "      <td>119.0</td>\n",
       "    </tr>\n",
       "    <tr>\n",
       "      <th>2019-12</th>\n",
       "      <td>1646.0</td>\n",
       "      <td>55.174362</td>\n",
       "      <td>32.894424</td>\n",
       "      <td>20.0</td>\n",
       "      <td>28.0</td>\n",
       "      <td>39.0</td>\n",
       "      <td>86.75</td>\n",
       "      <td>119.0</td>\n",
       "    </tr>\n",
       "    <tr>\n",
       "      <th>...</th>\n",
       "      <td>...</td>\n",
       "      <td>...</td>\n",
       "      <td>...</td>\n",
       "      <td>...</td>\n",
       "      <td>...</td>\n",
       "      <td>...</td>\n",
       "      <td>...</td>\n",
       "      <td>...</td>\n",
       "    </tr>\n",
       "    <tr>\n",
       "      <th>2024-04</th>\n",
       "      <td>1723.0</td>\n",
       "      <td>58.331979</td>\n",
       "      <td>33.660618</td>\n",
       "      <td>20.0</td>\n",
       "      <td>29.0</td>\n",
       "      <td>45.0</td>\n",
       "      <td>94.00</td>\n",
       "      <td>119.0</td>\n",
       "    </tr>\n",
       "    <tr>\n",
       "      <th>2024-05</th>\n",
       "      <td>1850.0</td>\n",
       "      <td>58.808108</td>\n",
       "      <td>33.599484</td>\n",
       "      <td>20.0</td>\n",
       "      <td>28.0</td>\n",
       "      <td>45.0</td>\n",
       "      <td>98.00</td>\n",
       "      <td>119.0</td>\n",
       "    </tr>\n",
       "    <tr>\n",
       "      <th>2024-06</th>\n",
       "      <td>1564.0</td>\n",
       "      <td>56.691176</td>\n",
       "      <td>33.541466</td>\n",
       "      <td>20.0</td>\n",
       "      <td>28.0</td>\n",
       "      <td>42.0</td>\n",
       "      <td>93.00</td>\n",
       "      <td>119.0</td>\n",
       "    </tr>\n",
       "    <tr>\n",
       "      <th>2024-07</th>\n",
       "      <td>1622.0</td>\n",
       "      <td>56.519112</td>\n",
       "      <td>32.745376</td>\n",
       "      <td>20.0</td>\n",
       "      <td>29.0</td>\n",
       "      <td>43.0</td>\n",
       "      <td>87.00</td>\n",
       "      <td>119.0</td>\n",
       "    </tr>\n",
       "    <tr>\n",
       "      <th>2024-08</th>\n",
       "      <td>715.0</td>\n",
       "      <td>57.566434</td>\n",
       "      <td>33.812831</td>\n",
       "      <td>20.0</td>\n",
       "      <td>28.0</td>\n",
       "      <td>45.0</td>\n",
       "      <td>95.50</td>\n",
       "      <td>119.0</td>\n",
       "    </tr>\n",
       "  </tbody>\n",
       "</table>\n",
       "<p>61 rows × 8 columns</p>\n",
       "</div>"
      ],
      "text/plain": [
       "          count       mean        std   min   25%   50%    75%    max\n",
       "StartY                                                               \n",
       "2019-08   750.0  55.880000  33.038013  20.0  28.0  40.0  88.00  119.0\n",
       "2019-09  1728.0  54.236111  32.662809  20.0  28.0  39.0  85.00  119.0\n",
       "2019-10  1628.0  53.222973  32.727574  20.0  27.0  38.0  81.25  119.0\n",
       "2019-11  1479.0  54.600406  33.092735  20.0  27.0  39.0  86.50  119.0\n",
       "2019-12  1646.0  55.174362  32.894424  20.0  28.0  39.0  86.75  119.0\n",
       "...         ...        ...        ...   ...   ...   ...    ...    ...\n",
       "2024-04  1723.0  58.331979  33.660618  20.0  29.0  45.0  94.00  119.0\n",
       "2024-05  1850.0  58.808108  33.599484  20.0  28.0  45.0  98.00  119.0\n",
       "2024-06  1564.0  56.691176  33.541466  20.0  28.0  42.0  93.00  119.0\n",
       "2024-07  1622.0  56.519112  32.745376  20.0  29.0  43.0  87.00  119.0\n",
       "2024-08   715.0  57.566434  33.812831  20.0  28.0  45.0  95.50  119.0\n",
       "\n",
       "[61 rows x 8 columns]"
      ]
     },
     "execution_count": 9,
     "metadata": {},
     "output_type": "execute_result"
    }
   ],
   "source": [
    "df_train[df_train['Premium Amount']<120].groupby('StartY')['Premium Amount'].describe()"
   ]
  },
  {
   "cell_type": "code",
   "execution_count": 10,
   "id": "f9ba7a0b",
   "metadata": {
    "execution": {
     "iopub.execute_input": "2024-12-29T08:01:14.352146Z",
     "iopub.status.busy": "2024-12-29T08:01:14.351849Z",
     "iopub.status.idle": "2024-12-29T08:01:14.393284Z",
     "shell.execute_reply": "2024-12-29T08:01:14.392470Z"
    },
    "papermill": {
     "duration": 0.05108,
     "end_time": "2024-12-29T08:01:14.395093",
     "exception": false,
     "start_time": "2024-12-29T08:01:14.344013",
     "status": "completed"
    },
    "tags": []
   },
   "outputs": [
    {
     "data": {
      "text/plain": [
       "count    770140.000000\n",
       "mean      32803.871471\n",
       "std       32201.063749\n",
       "min           2.000000\n",
       "25%        8048.000000\n",
       "50%       23981.000000\n",
       "75%       44660.000000\n",
       "max      149997.000000\n",
       "Name: Annual Income, dtype: float64"
      ]
     },
     "execution_count": 10,
     "metadata": {},
     "output_type": "execute_result"
    }
   ],
   "source": [
    "df_test['Annual Income'].describe()"
   ]
  },
  {
   "cell_type": "code",
   "execution_count": 11,
   "id": "b9e4ad7c",
   "metadata": {
    "execution": {
     "iopub.execute_input": "2024-12-29T08:01:14.411413Z",
     "iopub.status.busy": "2024-12-29T08:01:14.410627Z",
     "iopub.status.idle": "2024-12-29T08:01:14.430350Z",
     "shell.execute_reply": "2024-12-29T08:01:14.429577Z"
    },
    "papermill": {
     "duration": 0.029282,
     "end_time": "2024-12-29T08:01:14.432065",
     "exception": false,
     "start_time": "2024-12-29T08:01:14.402783",
     "status": "completed"
    },
    "tags": []
   },
   "outputs": [
    {
     "data": {
      "text/plain": [
       "Credit Score\n",
       "673.0    26\n",
       "658.0    26\n",
       "711.0    25\n",
       "613.0    25\n",
       "445.0    24\n",
       "         ..\n",
       "428.0     1\n",
       "350.0     1\n",
       "335.0     1\n",
       "322.0     1\n",
       "405.0     1\n",
       "Name: count, Length: 539, dtype: int64"
      ]
     },
     "execution_count": 11,
     "metadata": {},
     "output_type": "execute_result"
    }
   ],
   "source": [
    "df_train[df_train['Annual Income']<200]['Credit Score'].value_counts()"
   ]
  },
  {
   "cell_type": "code",
   "execution_count": 12,
   "id": "7b28a4e3",
   "metadata": {
    "execution": {
     "iopub.execute_input": "2024-12-29T08:01:14.447926Z",
     "iopub.status.busy": "2024-12-29T08:01:14.447176Z",
     "iopub.status.idle": "2024-12-29T08:01:14.461031Z",
     "shell.execute_reply": "2024-12-29T08:01:14.460232Z"
    },
    "papermill": {
     "duration": 0.023286,
     "end_time": "2024-12-29T08:01:14.462623",
     "exception": false,
     "start_time": "2024-12-29T08:01:14.439337",
     "status": "completed"
    },
    "tags": []
   },
   "outputs": [
    {
     "data": {
      "text/plain": [
       "Annual Income\n",
       "24.0     294\n",
       "35.0     278\n",
       "34.0     193\n",
       "17.0     155\n",
       "26.0     155\n",
       "        ... \n",
       "73.0       1\n",
       "150.0      1\n",
       "87.0       1\n",
       "198.0      1\n",
       "146.0      1\n",
       "Name: count, Length: 184, dtype: int64"
      ]
     },
     "execution_count": 12,
     "metadata": {},
     "output_type": "execute_result"
    }
   ],
   "source": [
    "df_test[df_test['Annual Income']<200]['Annual Income'].value_counts()"
   ]
  },
  {
   "cell_type": "code",
   "execution_count": 13,
   "id": "40664caf",
   "metadata": {
    "execution": {
     "iopub.execute_input": "2024-12-29T08:01:14.478106Z",
     "iopub.status.busy": "2024-12-29T08:01:14.477831Z",
     "iopub.status.idle": "2024-12-29T08:01:14.516829Z",
     "shell.execute_reply": "2024-12-29T08:01:14.516105Z"
    },
    "papermill": {
     "duration": 0.048598,
     "end_time": "2024-12-29T08:01:14.518538",
     "exception": false,
     "start_time": "2024-12-29T08:01:14.469940",
     "status": "completed"
    },
    "tags": []
   },
   "outputs": [
    {
     "data": {
      "text/plain": [
       "Index(['id', 'Age', 'Annual Income', 'Number of Dependents', 'Health Score',\n",
       "       'Previous Claims', 'Vehicle Age', 'Credit Score', 'Insurance Duration',\n",
       "       'Premium Amount'],\n",
       "      dtype='object')"
      ]
     },
     "execution_count": 13,
     "metadata": {},
     "output_type": "execute_result"
    }
   ],
   "source": [
    "#only Age, Anuual Income,Credit Score are number. The rest are category\n",
    "numeric_columns=df_train.select_dtypes(include=np.number).columns\n",
    "numeric_columns"
   ]
  },
  {
   "cell_type": "code",
   "execution_count": 14,
   "id": "3778b392",
   "metadata": {
    "execution": {
     "iopub.execute_input": "2024-12-29T08:01:14.534763Z",
     "iopub.status.busy": "2024-12-29T08:01:14.534510Z",
     "iopub.status.idle": "2024-12-29T08:01:15.166825Z",
     "shell.execute_reply": "2024-12-29T08:01:15.165940Z"
    },
    "papermill": {
     "duration": 0.642109,
     "end_time": "2024-12-29T08:01:15.168501",
     "exception": false,
     "start_time": "2024-12-29T08:01:14.526392",
     "status": "completed"
    },
    "tags": []
   },
   "outputs": [
    {
     "data": {
      "text/plain": [
       "Index(['Gender', 'Marital Status', 'Education Level', 'Occupation', 'Location',\n",
       "       'Policy Type', 'Policy Start Date', 'Customer Feedback',\n",
       "       'Smoking Status', 'Exercise Frequency', 'Property Type', 'StartY'],\n",
       "      dtype='object')"
      ]
     },
     "execution_count": 14,
     "metadata": {},
     "output_type": "execute_result"
    }
   ],
   "source": [
    "object_columns=df_train.select_dtypes(include=object).columns\n",
    "object_columns"
   ]
  },
  {
   "cell_type": "code",
   "execution_count": 15,
   "id": "68e8b65e",
   "metadata": {
    "execution": {
     "iopub.execute_input": "2024-12-29T08:01:15.185224Z",
     "iopub.status.busy": "2024-12-29T08:01:15.184864Z",
     "iopub.status.idle": "2024-12-29T08:01:15.243836Z",
     "shell.execute_reply": "2024-12-29T08:01:15.242940Z"
    },
    "papermill": {
     "duration": 0.069316,
     "end_time": "2024-12-29T08:01:15.245587",
     "exception": false,
     "start_time": "2024-12-29T08:01:15.176271",
     "status": "completed"
    },
    "tags": []
   },
   "outputs": [
    {
     "data": {
      "text/plain": [
       "count    1.200000e+06\n",
       "mean     6.593889e+00\n",
       "std      1.095825e+00\n",
       "min      3.044522e+00\n",
       "25%      6.244167e+00\n",
       "50%      6.771936e+00\n",
       "75%      7.319865e+00\n",
       "max      8.517193e+00\n",
       "Name: Label, dtype: float64"
      ]
     },
     "execution_count": 15,
     "metadata": {},
     "output_type": "execute_result"
    }
   ],
   "source": [
    "#transform target and income\n",
    "df_train['Label']=np.log1p(df_train['Premium Amount'])\n",
    "df_train['Label'].describe()\n"
   ]
  },
  {
   "cell_type": "code",
   "execution_count": 16,
   "id": "4ac233e9",
   "metadata": {
    "execution": {
     "iopub.execute_input": "2024-12-29T08:01:15.262875Z",
     "iopub.status.busy": "2024-12-29T08:01:15.262595Z",
     "iopub.status.idle": "2024-12-29T08:01:15.272765Z",
     "shell.execute_reply": "2024-12-29T08:01:15.272159Z"
    },
    "papermill": {
     "duration": 0.020549,
     "end_time": "2024-12-29T08:01:15.274274",
     "exception": false,
     "start_time": "2024-12-29T08:01:15.253725",
     "status": "completed"
    },
    "tags": []
   },
   "outputs": [],
   "source": [
    "df_train['Annual Income']=np.log1p(df_train['Annual Income'])"
   ]
  },
  {
   "cell_type": "code",
   "execution_count": 17,
   "id": "0d737fb3",
   "metadata": {
    "execution": {
     "iopub.execute_input": "2024-12-29T08:01:15.290771Z",
     "iopub.status.busy": "2024-12-29T08:01:15.290521Z",
     "iopub.status.idle": "2024-12-29T08:01:15.298017Z",
     "shell.execute_reply": "2024-12-29T08:01:15.297401Z"
    },
    "papermill": {
     "duration": 0.017757,
     "end_time": "2024-12-29T08:01:15.299715",
     "exception": false,
     "start_time": "2024-12-29T08:01:15.281958",
     "status": "completed"
    },
    "tags": []
   },
   "outputs": [],
   "source": [
    "df_test['Annual Income']=np.log1p(df_test['Annual Income'])"
   ]
  },
  {
   "cell_type": "code",
   "execution_count": 18,
   "id": "e618ffc2",
   "metadata": {
    "execution": {
     "iopub.execute_input": "2024-12-29T08:01:15.317254Z",
     "iopub.status.busy": "2024-12-29T08:01:15.316953Z",
     "iopub.status.idle": "2024-12-29T08:01:15.601863Z",
     "shell.execute_reply": "2024-12-29T08:01:15.601048Z"
    },
    "papermill": {
     "duration": 0.295814,
     "end_time": "2024-12-29T08:01:15.603939",
     "exception": false,
     "start_time": "2024-12-29T08:01:15.308125",
     "status": "completed"
    },
    "tags": []
   },
   "outputs": [
    {
     "data": {
      "text/plain": [
       "count\n",
       "1        720797.0\n",
       "2       1155398.0\n",
       "3       1264602.0\n",
       "4       1489848.0\n",
       "5       2094605.0\n",
       "          ...    \n",
       "3009      84252.0\n",
       "3122      71806.0\n",
       "3396      67920.0\n",
       "3444      82656.0\n",
       "3735      93375.0\n",
       "Name: total, Length: 917, dtype: float64"
      ]
     },
     "execution_count": 18,
     "metadata": {},
     "output_type": "execute_result"
    }
   ],
   "source": [
    "#Check Na credit score and premium amount\n",
    "# There a lot of missing score with a lot of premium no different with having creditscor\n",
    "df_train[df_train['Credit Score'].notna()].groupby('Premium Amount').size().reset_index(name='count').assign(total=lambda x:x['Premium Amount']*x['count']).groupby('count')['total'].sum()"
   ]
  },
  {
   "cell_type": "code",
   "execution_count": 19,
   "id": "cf1255fb",
   "metadata": {
    "execution": {
     "iopub.execute_input": "2024-12-29T08:01:15.621213Z",
     "iopub.status.busy": "2024-12-29T08:01:15.620659Z",
     "iopub.status.idle": "2024-12-29T08:01:15.624079Z",
     "shell.execute_reply": "2024-12-29T08:01:15.623369Z"
    },
    "papermill": {
     "duration": 0.013469,
     "end_time": "2024-12-29T08:01:15.625622",
     "exception": false,
     "start_time": "2024-12-29T08:01:15.612153",
     "status": "completed"
    },
    "tags": []
   },
   "outputs": [],
   "source": [
    "#from feature_engine.transformation import YeoJohnsonTransformer\n",
    "\n",
    "#tf = YeoJohnsonTransformer(variables = ['Annual Income', 'Label'])\n",
    "\n",
    "#tf.fit(df_train.dropna())\n",
    "#tf.lambda_dict_"
   ]
  },
  {
   "cell_type": "code",
   "execution_count": 20,
   "id": "d71bb316",
   "metadata": {
    "execution": {
     "iopub.execute_input": "2024-12-29T08:01:15.642499Z",
     "iopub.status.busy": "2024-12-29T08:01:15.642233Z",
     "iopub.status.idle": "2024-12-29T08:01:15.645653Z",
     "shell.execute_reply": "2024-12-29T08:01:15.644849Z"
    },
    "papermill": {
     "duration": 0.013777,
     "end_time": "2024-12-29T08:01:15.647314",
     "exception": false,
     "start_time": "2024-12-29T08:01:15.633537",
     "status": "completed"
    },
    "tags": []
   },
   "outputs": [],
   "source": [
    "#df_train_tf=tf.transform(df_train.dropna())"
   ]
  },
  {
   "cell_type": "code",
   "execution_count": 21,
   "id": "eaab4ef9",
   "metadata": {
    "execution": {
     "iopub.execute_input": "2024-12-29T08:01:15.664210Z",
     "iopub.status.busy": "2024-12-29T08:01:15.663509Z",
     "iopub.status.idle": "2024-12-29T08:01:15.726234Z",
     "shell.execute_reply": "2024-12-29T08:01:15.725434Z"
    },
    "papermill": {
     "duration": 0.072954,
     "end_time": "2024-12-29T08:01:15.728055",
     "exception": false,
     "start_time": "2024-12-29T08:01:15.655101",
     "status": "completed"
    },
    "tags": []
   },
   "outputs": [
    {
     "data": {
      "text/html": [
       "<div>\n",
       "<style scoped>\n",
       "    .dataframe tbody tr th:only-of-type {\n",
       "        vertical-align: middle;\n",
       "    }\n",
       "\n",
       "    .dataframe tbody tr th {\n",
       "        vertical-align: top;\n",
       "    }\n",
       "\n",
       "    .dataframe thead th {\n",
       "        text-align: right;\n",
       "    }\n",
       "</style>\n",
       "<table border=\"1\" class=\"dataframe\">\n",
       "  <thead>\n",
       "    <tr style=\"text-align: right;\">\n",
       "      <th></th>\n",
       "      <th>Annual Income</th>\n",
       "      <th>Credit Score</th>\n",
       "    </tr>\n",
       "  </thead>\n",
       "  <tbody>\n",
       "    <tr>\n",
       "      <th>470076</th>\n",
       "      <td>1.098612</td>\n",
       "      <td>332.0</td>\n",
       "    </tr>\n",
       "    <tr>\n",
       "      <th>145069</th>\n",
       "      <td>2.079442</td>\n",
       "      <td>462.0</td>\n",
       "    </tr>\n",
       "    <tr>\n",
       "      <th>120276</th>\n",
       "      <td>2.484907</td>\n",
       "      <td>479.0</td>\n",
       "    </tr>\n",
       "    <tr>\n",
       "      <th>1187366</th>\n",
       "      <td>2.708050</td>\n",
       "      <td>682.0</td>\n",
       "    </tr>\n",
       "    <tr>\n",
       "      <th>1105989</th>\n",
       "      <td>2.833213</td>\n",
       "      <td>466.0</td>\n",
       "    </tr>\n",
       "  </tbody>\n",
       "</table>\n",
       "</div>"
      ],
      "text/plain": [
       "         Annual Income  Credit Score\n",
       "470076        1.098612         332.0\n",
       "145069        2.079442         462.0\n",
       "120276        2.484907         479.0\n",
       "1187366       2.708050         682.0\n",
       "1105989       2.833213         466.0"
      ]
     },
     "execution_count": 21,
     "metadata": {},
     "output_type": "execute_result"
    }
   ],
   "source": [
    "df_train[df_train['Premium Amount']<120].loc[:,['Annual Income','Credit Score']].sort_values(ascending=True,by=['Annual Income']).head()"
   ]
  },
  {
   "cell_type": "code",
   "execution_count": 22,
   "id": "78f9728f",
   "metadata": {
    "execution": {
     "iopub.execute_input": "2024-12-29T08:01:15.746356Z",
     "iopub.status.busy": "2024-12-29T08:01:15.746109Z",
     "iopub.status.idle": "2024-12-29T08:01:15.800708Z",
     "shell.execute_reply": "2024-12-29T08:01:15.799789Z"
    },
    "papermill": {
     "duration": 0.065307,
     "end_time": "2024-12-29T08:01:15.802510",
     "exception": false,
     "start_time": "2024-12-29T08:01:15.737203",
     "status": "completed"
    },
    "tags": []
   },
   "outputs": [
    {
     "data": {
      "text/plain": [
       "count    91651.000000\n",
       "mean       614.447764\n",
       "std        140.831463\n",
       "min        300.000000\n",
       "25%        505.000000\n",
       "50%        623.000000\n",
       "75%        733.000000\n",
       "max        849.000000\n",
       "Name: Credit Score, dtype: float64"
      ]
     },
     "execution_count": 22,
     "metadata": {},
     "output_type": "execute_result"
    }
   ],
   "source": [
    "df_train[df_train['Premium Amount']<120]['Credit Score'].describe()"
   ]
  },
  {
   "cell_type": "code",
   "execution_count": 23,
   "id": "1b5d09b5",
   "metadata": {
    "execution": {
     "iopub.execute_input": "2024-12-29T08:01:15.820202Z",
     "iopub.status.busy": "2024-12-29T08:01:15.819935Z",
     "iopub.status.idle": "2024-12-29T08:01:15.889030Z",
     "shell.execute_reply": "2024-12-29T08:01:15.888092Z"
    },
    "papermill": {
     "duration": 0.079981,
     "end_time": "2024-12-29T08:01:15.890734",
     "exception": false,
     "start_time": "2024-12-29T08:01:15.810753",
     "status": "completed"
    },
    "tags": []
   },
   "outputs": [
    {
     "data": {
      "text/plain": [
       "count    1.062118e+06\n",
       "mean     5.929244e+02\n",
       "std      1.499819e+02\n",
       "min      3.000000e+02\n",
       "25%      4.680000e+02\n",
       "50%      5.950000e+02\n",
       "75%      7.210000e+02\n",
       "max      8.490000e+02\n",
       "Name: Credit Score, dtype: float64"
      ]
     },
     "execution_count": 23,
     "metadata": {},
     "output_type": "execute_result"
    }
   ],
   "source": [
    "df_train['Credit Score'].describe()"
   ]
  },
  {
   "cell_type": "code",
   "execution_count": 24,
   "id": "25be9c15",
   "metadata": {
    "execution": {
     "iopub.execute_input": "2024-12-29T08:01:15.909234Z",
     "iopub.status.busy": "2024-12-29T08:01:15.908765Z",
     "iopub.status.idle": "2024-12-29T08:01:16.509992Z",
     "shell.execute_reply": "2024-12-29T08:01:16.509004Z"
    },
    "papermill": {
     "duration": 0.612733,
     "end_time": "2024-12-29T08:01:16.512129",
     "exception": false,
     "start_time": "2024-12-29T08:01:15.899396",
     "status": "completed"
    },
    "tags": []
   },
   "outputs": [
    {
     "name": "stdout",
     "output_type": "stream",
     "text": [
      "<class 'pandas.core.frame.DataFrame'>\n",
      "RangeIndex: 1200000 entries, 0 to 1199999\n",
      "Data columns (total 23 columns):\n",
      " #   Column                Non-Null Count    Dtype  \n",
      "---  ------                --------------    -----  \n",
      " 0   id                    1200000 non-null  int64  \n",
      " 1   Age                   1181295 non-null  float64\n",
      " 2   Gender                1200000 non-null  object \n",
      " 3   Annual Income         1155051 non-null  float64\n",
      " 4   Marital Status        1181471 non-null  object \n",
      " 5   Number of Dependents  1090328 non-null  float64\n",
      " 6   Education Level       1200000 non-null  object \n",
      " 7   Occupation            841925 non-null   object \n",
      " 8   Health Score          1125924 non-null  float64\n",
      " 9   Location              1200000 non-null  object \n",
      " 10  Policy Type           1200000 non-null  object \n",
      " 11  Previous Claims       835971 non-null   float64\n",
      " 12  Vehicle Age           1199994 non-null  float64\n",
      " 13  Credit Score          1062118 non-null  float64\n",
      " 14  Insurance Duration    1199999 non-null  float64\n",
      " 15  Policy Start Date     1200000 non-null  object \n",
      " 16  Customer Feedback     1122176 non-null  object \n",
      " 17  Smoking Status        1200000 non-null  object \n",
      " 18  Exercise Frequency    1200000 non-null  object \n",
      " 19  Property Type         1200000 non-null  object \n",
      " 20  Premium Amount        1200000 non-null  float64\n",
      " 21  StartY                1200000 non-null  object \n",
      " 22  Label                 1200000 non-null  float64\n",
      "dtypes: float64(10), int64(1), object(12)\n",
      "memory usage: 210.6+ MB\n"
     ]
    }
   ],
   "source": [
    "df_train.info()"
   ]
  },
  {
   "cell_type": "code",
   "execution_count": 25,
   "id": "424e29e7",
   "metadata": {
    "execution": {
     "iopub.execute_input": "2024-12-29T08:01:16.530590Z",
     "iopub.status.busy": "2024-12-29T08:01:16.530312Z",
     "iopub.status.idle": "2024-12-29T08:01:16.533957Z",
     "shell.execute_reply": "2024-12-29T08:01:16.533160Z"
    },
    "papermill": {
     "duration": 0.014291,
     "end_time": "2024-12-29T08:01:16.535455",
     "exception": false,
     "start_time": "2024-12-29T08:01:16.521164",
     "status": "completed"
    },
    "tags": []
   },
   "outputs": [],
   "source": [
    "# change fillna from mean to mode to get less effect from outlier\n",
    "# Ana=df_train['Age'].mode()[0]\n",
    "# Aina=df_train['Annual Income'].mode()[0]\n",
    "# Ndna=0\n",
    "# Hsna=df_train['Health Score'].mode()[0]\n",
    "# Pcna=0\n",
    "# Vana=0 #just impute with 0\n",
    "# Csna=df_train['Credit Score'].mode()[0]\n",
    "# Idna=0"
   ]
  },
  {
   "cell_type": "code",
   "execution_count": 26,
   "id": "44abf439",
   "metadata": {
    "execution": {
     "iopub.execute_input": "2024-12-29T08:01:16.553119Z",
     "iopub.status.busy": "2024-12-29T08:01:16.552822Z",
     "iopub.status.idle": "2024-12-29T08:01:16.556579Z",
     "shell.execute_reply": "2024-12-29T08:01:16.555952Z"
    },
    "papermill": {
     "duration": 0.01453,
     "end_time": "2024-12-29T08:01:16.558255",
     "exception": false,
     "start_time": "2024-12-29T08:01:16.543725",
     "status": "completed"
    },
    "tags": []
   },
   "outputs": [],
   "source": [
    "# df_train['Age'].fillna(Ana,inplace=True)\n",
    "# df_train['Annual Income'].fillna(Aina,inplace=True)\n",
    "# df_train['Number of Dependents'].fillna(Ndna,inplace=True)\n",
    "# df_train['Health Score'].fillna(Hsna,inplace=True)\n",
    "# df_train['Previous Claims'].fillna(Pcna,inplace=True)\n",
    "# df_train['Vehicle Age'].fillna(Vana,inplace=True)\n",
    "# df_train['Credit Score'].fillna(Csna,inplace=True)\n",
    "# df_train['Insurance Duration'].fillna(Idna,inplace=True)\n",
    "\n",
    "\n",
    "#Ana=df_test['Age'].mean()\n",
    "#Aina=df_test['Annual Income'].mean()\n",
    "#Ndna=0\n",
    "#Hsna=df_test['Health Score'].mean()\n",
    "#Pcna=0\n",
    "#Vana=0 #just impute with 0\n",
    "#Csna=df_test['Credit Score'].mean()\n",
    "#Idna=0\n",
    "\n",
    "# df_test['Age'].fillna(Ana,inplace=True)\n",
    "# df_test['Annual Income'].fillna(Aina,inplace=True)\n",
    "# df_test['Number of Dependents'].fillna(Ndna,inplace=True)\n",
    "# df_test['Health Score'].fillna(Hsna,inplace=True)\n",
    "# df_test['Previous Claims'].fillna(Pcna,inplace=True)\n",
    "# df_test['Vehicle Age'].fillna(Vana,inplace=True)\n",
    "# df_test['Credit Score'].fillna(Csna,inplace=True)\n",
    "# df_test['Insurance Duration'].fillna(Idna,inplace=True)\n",
    "\n"
   ]
  },
  {
   "cell_type": "code",
   "execution_count": 27,
   "id": "00e27664",
   "metadata": {
    "execution": {
     "iopub.execute_input": "2024-12-29T08:01:16.576099Z",
     "iopub.status.busy": "2024-12-29T08:01:16.575611Z",
     "iopub.status.idle": "2024-12-29T08:01:16.578969Z",
     "shell.execute_reply": "2024-12-29T08:01:16.578246Z"
    },
    "papermill": {
     "duration": 0.013972,
     "end_time": "2024-12-29T08:01:16.580545",
     "exception": false,
     "start_time": "2024-12-29T08:01:16.566573",
     "status": "completed"
    },
    "tags": []
   },
   "outputs": [],
   "source": [
    "# import numpy as np\n",
    "# from catboost import CatBoostRegressor\n",
    "# # Initialize data\n",
    "\n",
    "# train_data = [[1., 4., 5., np.nan],\n",
    "#               [4., 5., 6., 7.],\n",
    "#               [30., 40., 50., 60.]]\n",
    "\n",
    "# eval_data = [[2., 4., 6., 8.],\n",
    "#              [1., 4., 50., 60.]]\n",
    "\n",
    "# train_labels = [10., 20., 30.]\n",
    "# # Initialize CatBoostRegressor\n",
    "# model = CatBoostRegressor(iterations=2,\n",
    "#                           learning_rate=1,\n",
    "#                           depth=2)\n",
    "# # Fit model\n",
    "# model.fit(train_data, train_labels)\n",
    "# # Get predictions\n",
    "# preds = model.predict(eval_data)"
   ]
  },
  {
   "cell_type": "code",
   "execution_count": 28,
   "id": "d5356cae",
   "metadata": {
    "execution": {
     "iopub.execute_input": "2024-12-29T08:01:16.598157Z",
     "iopub.status.busy": "2024-12-29T08:01:16.597936Z",
     "iopub.status.idle": "2024-12-29T08:01:16.623722Z",
     "shell.execute_reply": "2024-12-29T08:01:16.623102Z"
    },
    "papermill": {
     "duration": 0.036249,
     "end_time": "2024-12-29T08:01:16.625259",
     "exception": false,
     "start_time": "2024-12-29T08:01:16.589010",
     "status": "completed"
    },
    "tags": []
   },
   "outputs": [
    {
     "data": {
      "text/plain": [
       "Index([     83,     309,     310,     332,     375,     385,     403,     538,\n",
       "           553,     570,\n",
       "       ...\n",
       "       1199635, 1199653, 1199690, 1199701, 1199704, 1199752, 1199772, 1199784,\n",
       "       1199893, 1199897],\n",
       "      dtype='int64', length=18705)"
      ]
     },
     "execution_count": 28,
     "metadata": {},
     "output_type": "execute_result"
    }
   ],
   "source": [
    "df_train[df_train['Age'].isna()].index"
   ]
  },
  {
   "cell_type": "code",
   "execution_count": 29,
   "id": "186364a1",
   "metadata": {
    "execution": {
     "iopub.execute_input": "2024-12-29T08:01:16.643102Z",
     "iopub.status.busy": "2024-12-29T08:01:16.642827Z",
     "iopub.status.idle": "2024-12-29T08:01:16.925133Z",
     "shell.execute_reply": "2024-12-29T08:01:16.924443Z"
    },
    "papermill": {
     "duration": 0.293049,
     "end_time": "2024-12-29T08:01:16.926855",
     "exception": false,
     "start_time": "2024-12-29T08:01:16.633806",
     "status": "completed"
    },
    "tags": []
   },
   "outputs": [
    {
     "name": "stderr",
     "output_type": "stream",
     "text": [
      "/tmp/ipykernel_23/1312047004.py:1: FutureWarning: A value is trying to be set on a copy of a DataFrame or Series through chained assignment using an inplace method.\n",
      "The behavior will change in pandas 3.0. This inplace method will never work because the intermediate object on which we are setting values always behaves as a copy.\n",
      "\n",
      "For example, when doing 'df[col].method(value, inplace=True)', try using 'df.method({col: value}, inplace=True)' or df[col] = df[col].method(value) instead, to perform the operation inplace on the original object.\n",
      "\n",
      "\n",
      "  df_train['Occupation'].fillna('Unknown',inplace=True)\n",
      "/tmp/ipykernel_23/1312047004.py:2: FutureWarning: A value is trying to be set on a copy of a DataFrame or Series through chained assignment using an inplace method.\n",
      "The behavior will change in pandas 3.0. This inplace method will never work because the intermediate object on which we are setting values always behaves as a copy.\n",
      "\n",
      "For example, when doing 'df[col].method(value, inplace=True)', try using 'df.method({col: value}, inplace=True)' or df[col] = df[col].method(value) instead, to perform the operation inplace on the original object.\n",
      "\n",
      "\n",
      "  df_train['Marital Status'].fillna('Unknown',inplace=True)\n",
      "/tmp/ipykernel_23/1312047004.py:3: FutureWarning: A value is trying to be set on a copy of a DataFrame or Series through chained assignment using an inplace method.\n",
      "The behavior will change in pandas 3.0. This inplace method will never work because the intermediate object on which we are setting values always behaves as a copy.\n",
      "\n",
      "For example, when doing 'df[col].method(value, inplace=True)', try using 'df.method({col: value}, inplace=True)' or df[col] = df[col].method(value) instead, to perform the operation inplace on the original object.\n",
      "\n",
      "\n",
      "  df_train['Customer Feedback'].fillna('Unknown',inplace=True)\n",
      "/tmp/ipykernel_23/1312047004.py:5: FutureWarning: A value is trying to be set on a copy of a DataFrame or Series through chained assignment using an inplace method.\n",
      "The behavior will change in pandas 3.0. This inplace method will never work because the intermediate object on which we are setting values always behaves as a copy.\n",
      "\n",
      "For example, when doing 'df[col].method(value, inplace=True)', try using 'df.method({col: value}, inplace=True)' or df[col] = df[col].method(value) instead, to perform the operation inplace on the original object.\n",
      "\n",
      "\n",
      "  df_test['Occupation'].fillna('Unknown',inplace=True)\n",
      "/tmp/ipykernel_23/1312047004.py:6: FutureWarning: A value is trying to be set on a copy of a DataFrame or Series through chained assignment using an inplace method.\n",
      "The behavior will change in pandas 3.0. This inplace method will never work because the intermediate object on which we are setting values always behaves as a copy.\n",
      "\n",
      "For example, when doing 'df[col].method(value, inplace=True)', try using 'df.method({col: value}, inplace=True)' or df[col] = df[col].method(value) instead, to perform the operation inplace on the original object.\n",
      "\n",
      "\n",
      "  df_test['Marital Status'].fillna('Unknown',inplace=True)\n",
      "/tmp/ipykernel_23/1312047004.py:7: FutureWarning: A value is trying to be set on a copy of a DataFrame or Series through chained assignment using an inplace method.\n",
      "The behavior will change in pandas 3.0. This inplace method will never work because the intermediate object on which we are setting values always behaves as a copy.\n",
      "\n",
      "For example, when doing 'df[col].method(value, inplace=True)', try using 'df.method({col: value}, inplace=True)' or df[col] = df[col].method(value) instead, to perform the operation inplace on the original object.\n",
      "\n",
      "\n",
      "  df_test['Customer Feedback'].fillna('Unknown',inplace=True)\n"
     ]
    }
   ],
   "source": [
    "df_train['Occupation'].fillna('Unknown',inplace=True)\n",
    "df_train['Marital Status'].fillna('Unknown',inplace=True)\n",
    "df_train['Customer Feedback'].fillna('Unknown',inplace=True)\n",
    "\n",
    "df_test['Occupation'].fillna('Unknown',inplace=True)\n",
    "df_test['Marital Status'].fillna('Unknown',inplace=True)\n",
    "df_test['Customer Feedback'].fillna('Unknown',inplace=True)\n"
   ]
  },
  {
   "cell_type": "code",
   "execution_count": 30,
   "id": "b8cb2848",
   "metadata": {
    "execution": {
     "iopub.execute_input": "2024-12-29T08:01:16.946030Z",
     "iopub.status.busy": "2024-12-29T08:01:16.945488Z",
     "iopub.status.idle": "2024-12-29T08:01:16.950651Z",
     "shell.execute_reply": "2024-12-29T08:01:16.949961Z"
    },
    "papermill": {
     "duration": 0.016384,
     "end_time": "2024-12-29T08:01:16.952209",
     "exception": false,
     "start_time": "2024-12-29T08:01:16.935825",
     "status": "completed"
    },
    "tags": []
   },
   "outputs": [
    {
     "data": {
      "text/plain": [
       "['Gender',\n",
       " 'Marital Status',\n",
       " 'Education Level',\n",
       " 'Occupation',\n",
       " 'Location',\n",
       " 'Policy Type',\n",
       " 'Policy Start Date',\n",
       " 'Customer Feedback',\n",
       " 'Smoking Status',\n",
       " 'Exercise Frequency',\n",
       " 'Property Type',\n",
       " 'StartY']"
      ]
     },
     "execution_count": 30,
     "metadata": {},
     "output_type": "execute_result"
    }
   ],
   "source": [
    "#cat_features=numeric_columns.drop(['id','Age','Annual Income','Credit Score','Health Score','Premium Amount']).union(object_columns)\n",
    "cat_features=object_columns\n",
    "cat_features.to_list()\n"
   ]
  },
  {
   "cell_type": "code",
   "execution_count": 31,
   "id": "a950b01e",
   "metadata": {
    "execution": {
     "iopub.execute_input": "2024-12-29T08:01:16.970763Z",
     "iopub.status.busy": "2024-12-29T08:01:16.970518Z",
     "iopub.status.idle": "2024-12-29T08:01:16.976647Z",
     "shell.execute_reply": "2024-12-29T08:01:16.975876Z"
    },
    "papermill": {
     "duration": 0.017362,
     "end_time": "2024-12-29T08:01:16.978293",
     "exception": false,
     "start_time": "2024-12-29T08:01:16.960931",
     "status": "completed"
    },
    "tags": []
   },
   "outputs": [],
   "source": [
    "#change cat columns datatype to astype int\n",
    "df_train[cat_features.intersection(numeric_columns)]=df_train[cat_features.intersection(numeric_columns)].astype('Int64')\n",
    "\n",
    "#text_features = cat_features.remove('Vehicle Age')"
   ]
  },
  {
   "cell_type": "code",
   "execution_count": 32,
   "id": "406c3fe3",
   "metadata": {
    "execution": {
     "iopub.execute_input": "2024-12-29T08:01:16.996692Z",
     "iopub.status.busy": "2024-12-29T08:01:16.996460Z",
     "iopub.status.idle": "2024-12-29T08:01:17.000614Z",
     "shell.execute_reply": "2024-12-29T08:01:16.999936Z"
    },
    "papermill": {
     "duration": 0.015104,
     "end_time": "2024-12-29T08:01:17.002100",
     "exception": false,
     "start_time": "2024-12-29T08:01:16.986996",
     "status": "completed"
    },
    "tags": []
   },
   "outputs": [],
   "source": [
    "#change cat columns datatype to int astype\n",
    "df_test[cat_features.intersection(numeric_columns)]=df_test[cat_features.intersection(numeric_columns)].astype('Int64')\n",
    "\n",
    "#text_features = cat_features.remove('Vehicle Age')"
   ]
  },
  {
   "cell_type": "code",
   "execution_count": 33,
   "id": "4b46c394",
   "metadata": {
    "execution": {
     "iopub.execute_input": "2024-12-29T08:01:17.022104Z",
     "iopub.status.busy": "2024-12-29T08:01:17.021811Z",
     "iopub.status.idle": "2024-12-29T08:01:17.025167Z",
     "shell.execute_reply": "2024-12-29T08:01:17.024385Z"
    },
    "papermill": {
     "duration": 0.014246,
     "end_time": "2024-12-29T08:01:17.026672",
     "exception": false,
     "start_time": "2024-12-29T08:01:17.012426",
     "status": "completed"
    },
    "tags": []
   },
   "outputs": [],
   "source": [
    "#custom loss function but will not be able to optimization with it so better transform target instead\n",
    "#def rmsle_loss(y_true, y_pred):\n",
    "#    return np.sqrt(np.mean((np.log1p(y_pred) - np.log1p(y_true)) ** 2))\n",
    "#Also use exp to transform the prediction\n",
    "#predictions = np.expm1(model.predict(X_test))"
   ]
  },
  {
   "cell_type": "code",
   "execution_count": 34,
   "id": "10ea589d",
   "metadata": {
    "execution": {
     "iopub.execute_input": "2024-12-29T08:01:17.045365Z",
     "iopub.status.busy": "2024-12-29T08:01:17.044878Z",
     "iopub.status.idle": "2024-12-29T08:01:17.048193Z",
     "shell.execute_reply": "2024-12-29T08:01:17.047429Z"
    },
    "papermill": {
     "duration": 0.014098,
     "end_time": "2024-12-29T08:01:17.049651",
     "exception": false,
     "start_time": "2024-12-29T08:01:17.035553",
     "status": "completed"
    },
    "tags": []
   },
   "outputs": [],
   "source": [
    "#df_train.drop(['id','Annual Income','Customer Feedback','Exercise Frequency','Premium Amount','group Age','Label'],axis=1).columns"
   ]
  },
  {
   "cell_type": "code",
   "execution_count": 35,
   "id": "fae42c4c",
   "metadata": {
    "execution": {
     "iopub.execute_input": "2024-12-29T08:01:17.068403Z",
     "iopub.status.busy": "2024-12-29T08:01:17.067794Z",
     "iopub.status.idle": "2024-12-29T08:01:17.070947Z",
     "shell.execute_reply": "2024-12-29T08:01:17.070318Z"
    },
    "papermill": {
     "duration": 0.014008,
     "end_time": "2024-12-29T08:01:17.072482",
     "exception": false,
     "start_time": "2024-12-29T08:01:17.058474",
     "status": "completed"
    },
    "tags": []
   },
   "outputs": [],
   "source": [
    "#df_train2 = pd.read_csv('/kaggle/input/playground-series-s4e12/train.csv')\n",
    "#df_train2=df_train2.dropna()\n"
   ]
  },
  {
   "cell_type": "code",
   "execution_count": 36,
   "id": "a3ec9000",
   "metadata": {
    "execution": {
     "iopub.execute_input": "2024-12-29T08:01:17.091054Z",
     "iopub.status.busy": "2024-12-29T08:01:17.090724Z",
     "iopub.status.idle": "2024-12-29T08:01:17.094219Z",
     "shell.execute_reply": "2024-12-29T08:01:17.093572Z"
    },
    "papermill": {
     "duration": 0.014318,
     "end_time": "2024-12-29T08:01:17.095637",
     "exception": false,
     "start_time": "2024-12-29T08:01:17.081319",
     "status": "completed"
    },
    "tags": []
   },
   "outputs": [],
   "source": [
    "#nonadata = pd.concat([df_train2['Credit Score'],df_train2['Health Score']],axis=1)\n",
    "#nonadata.head()"
   ]
  },
  {
   "cell_type": "code",
   "execution_count": 37,
   "id": "61fd457f",
   "metadata": {
    "execution": {
     "iopub.execute_input": "2024-12-29T08:01:17.114349Z",
     "iopub.status.busy": "2024-12-29T08:01:17.114115Z",
     "iopub.status.idle": "2024-12-29T08:01:17.117268Z",
     "shell.execute_reply": "2024-12-29T08:01:17.116601Z"
    },
    "papermill": {
     "duration": 0.014259,
     "end_time": "2024-12-29T08:01:17.118703",
     "exception": false,
     "start_time": "2024-12-29T08:01:17.104444",
     "status": "completed"
    },
    "tags": []
   },
   "outputs": [],
   "source": [
    "#nonadata.describe()\n",
    "#from sklearn.preprocessing import StandardScaler, RobustScaler\n",
    "\n",
    "#standard_scaler=StandardScaler()\n",
    "#scalenonadata=standard_scaler.fit_transform(nonadata)\n",
    "\n",
    "#robust_scaler=RobustScaler()\n",
    "#scalenonadata=robust_scaler.fit_transform(nonadata)"
   ]
  },
  {
   "cell_type": "code",
   "execution_count": 38,
   "id": "c8a67569",
   "metadata": {
    "execution": {
     "iopub.execute_input": "2024-12-29T08:01:17.137575Z",
     "iopub.status.busy": "2024-12-29T08:01:17.137341Z",
     "iopub.status.idle": "2024-12-29T08:01:17.140434Z",
     "shell.execute_reply": "2024-12-29T08:01:17.139774Z"
    },
    "papermill": {
     "duration": 0.014436,
     "end_time": "2024-12-29T08:01:17.141979",
     "exception": false,
     "start_time": "2024-12-29T08:01:17.127543",
     "status": "completed"
    },
    "tags": []
   },
   "outputs": [],
   "source": [
    "#nonadata=pd.DataFrame(scalenonadata,columns=['Credit Score','Health Score'])"
   ]
  },
  {
   "cell_type": "code",
   "execution_count": 39,
   "id": "c5757f6e",
   "metadata": {
    "execution": {
     "iopub.execute_input": "2024-12-29T08:01:17.161357Z",
     "iopub.status.busy": "2024-12-29T08:01:17.161125Z",
     "iopub.status.idle": "2024-12-29T08:01:17.164239Z",
     "shell.execute_reply": "2024-12-29T08:01:17.163575Z"
    },
    "papermill": {
     "duration": 0.014791,
     "end_time": "2024-12-29T08:01:17.165693",
     "exception": false,
     "start_time": "2024-12-29T08:01:17.150902",
     "status": "completed"
    },
    "tags": []
   },
   "outputs": [],
   "source": [
    "#df_train2['Label'] = np.log1p(df_train2['Premium Amount'])"
   ]
  },
  {
   "cell_type": "code",
   "execution_count": 40,
   "id": "cd0eef58",
   "metadata": {
    "execution": {
     "iopub.execute_input": "2024-12-29T08:01:17.185007Z",
     "iopub.status.busy": "2024-12-29T08:01:17.184700Z",
     "iopub.status.idle": "2024-12-29T08:01:17.341602Z",
     "shell.execute_reply": "2024-12-29T08:01:17.340906Z"
    },
    "papermill": {
     "duration": 0.16902,
     "end_time": "2024-12-29T08:01:17.343705",
     "exception": false,
     "start_time": "2024-12-29T08:01:17.174685",
     "status": "completed"
    },
    "tags": []
   },
   "outputs": [],
   "source": [
    "data = df_train.drop(['id','Premium Amount','Policy Start Date','Label'],axis=1) \n",
    "cat_features=cat_features.intersection(data.columns)\n",
    "cat_features=cat_features.difference(['Credit Score','Health Score','Annual Income'])\n",
    "#text_features=text_features.intersection(data.columns)"
   ]
  },
  {
   "cell_type": "code",
   "execution_count": 41,
   "id": "01b003f5",
   "metadata": {
    "execution": {
     "iopub.execute_input": "2024-12-29T08:01:17.363862Z",
     "iopub.status.busy": "2024-12-29T08:01:17.363566Z",
     "iopub.status.idle": "2024-12-29T08:01:17.368905Z",
     "shell.execute_reply": "2024-12-29T08:01:17.368174Z"
    },
    "papermill": {
     "duration": 0.017211,
     "end_time": "2024-12-29T08:01:17.370429",
     "exception": false,
     "start_time": "2024-12-29T08:01:17.353218",
     "status": "completed"
    },
    "tags": []
   },
   "outputs": [
    {
     "data": {
      "text/plain": [
       "Index(['Customer Feedback', 'Education Level', 'Exercise Frequency', 'Gender',\n",
       "       'Location', 'Marital Status', 'Occupation', 'Policy Type',\n",
       "       'Property Type', 'Smoking Status', 'StartY'],\n",
       "      dtype='object')"
      ]
     },
     "execution_count": 41,
     "metadata": {},
     "output_type": "execute_result"
    }
   ],
   "source": [
    "cat_features"
   ]
  },
  {
   "cell_type": "code",
   "execution_count": 42,
   "id": "583b33f5",
   "metadata": {
    "execution": {
     "iopub.execute_input": "2024-12-29T08:01:17.390755Z",
     "iopub.status.busy": "2024-12-29T08:01:17.390081Z",
     "iopub.status.idle": "2024-12-29T08:01:17.395705Z",
     "shell.execute_reply": "2024-12-29T08:01:17.394879Z"
    },
    "papermill": {
     "duration": 0.017726,
     "end_time": "2024-12-29T08:01:17.397446",
     "exception": false,
     "start_time": "2024-12-29T08:01:17.379720",
     "status": "completed"
    },
    "tags": []
   },
   "outputs": [
    {
     "data": {
      "text/plain": [
       "Index(['Age', 'Gender', 'Annual Income', 'Marital Status',\n",
       "       'Number of Dependents', 'Education Level', 'Occupation', 'Health Score',\n",
       "       'Location', 'Policy Type', 'Previous Claims', 'Vehicle Age',\n",
       "       'Credit Score', 'Insurance Duration', 'Customer Feedback',\n",
       "       'Smoking Status', 'Exercise Frequency', 'Property Type', 'StartY'],\n",
       "      dtype='object')"
      ]
     },
     "execution_count": 42,
     "metadata": {},
     "output_type": "execute_result"
    }
   ],
   "source": [
    "data.columns"
   ]
  },
  {
   "cell_type": "code",
   "execution_count": 43,
   "id": "aa00e249",
   "metadata": {
    "execution": {
     "iopub.execute_input": "2024-12-29T08:01:17.418175Z",
     "iopub.status.busy": "2024-12-29T08:01:17.417571Z",
     "iopub.status.idle": "2024-12-29T08:01:17.422981Z",
     "shell.execute_reply": "2024-12-29T08:01:17.422153Z"
    },
    "papermill": {
     "duration": 0.017418,
     "end_time": "2024-12-29T08:01:17.424600",
     "exception": false,
     "start_time": "2024-12-29T08:01:17.407182",
     "status": "completed"
    },
    "tags": []
   },
   "outputs": [
    {
     "data": {
      "text/plain": [
       "Index(['id', 'Age', 'Annual Income', 'Number of Dependents', 'Health Score',\n",
       "       'Previous Claims', 'Vehicle Age', 'Credit Score', 'Insurance Duration',\n",
       "       'Premium Amount'],\n",
       "      dtype='object')"
      ]
     },
     "execution_count": 43,
     "metadata": {},
     "output_type": "execute_result"
    }
   ],
   "source": [
    "numeric_columns"
   ]
  },
  {
   "cell_type": "code",
   "execution_count": 44,
   "id": "67421160",
   "metadata": {
    "execution": {
     "iopub.execute_input": "2024-12-29T08:01:17.444651Z",
     "iopub.status.busy": "2024-12-29T08:01:17.444137Z",
     "iopub.status.idle": "2024-12-29T08:01:18.915019Z",
     "shell.execute_reply": "2024-12-29T08:01:18.914231Z"
    },
    "papermill": {
     "duration": 1.483566,
     "end_time": "2024-12-29T08:01:18.917544",
     "exception": false,
     "start_time": "2024-12-29T08:01:17.433978",
     "status": "completed"
    },
    "tags": []
   },
   "outputs": [],
   "source": [
    "df_train[cat_features]=df_train[cat_features].astype('category')\n",
    "df_test[cat_features]=df_test[cat_features].astype('category')"
   ]
  },
  {
   "cell_type": "code",
   "execution_count": 45,
   "id": "b721fc98",
   "metadata": {
    "execution": {
     "iopub.execute_input": "2024-12-29T08:01:18.945451Z",
     "iopub.status.busy": "2024-12-29T08:01:18.944740Z",
     "iopub.status.idle": "2024-12-29T08:01:19.052423Z",
     "shell.execute_reply": "2024-12-29T08:01:19.051375Z"
    },
    "papermill": {
     "duration": 0.120983,
     "end_time": "2024-12-29T08:01:19.054498",
     "exception": false,
     "start_time": "2024-12-29T08:01:18.933515",
     "status": "completed"
    },
    "tags": []
   },
   "outputs": [
    {
     "name": "stdout",
     "output_type": "stream",
     "text": [
      "<class 'pandas.core.frame.DataFrame'>\n",
      "RangeIndex: 1200000 entries, 0 to 1199999\n",
      "Data columns (total 23 columns):\n",
      " #   Column                Non-Null Count    Dtype   \n",
      "---  ------                --------------    -----   \n",
      " 0   id                    1200000 non-null  int64   \n",
      " 1   Age                   1181295 non-null  float64 \n",
      " 2   Gender                1200000 non-null  category\n",
      " 3   Annual Income         1155051 non-null  float64 \n",
      " 4   Marital Status        1200000 non-null  category\n",
      " 5   Number of Dependents  1090328 non-null  float64 \n",
      " 6   Education Level       1200000 non-null  category\n",
      " 7   Occupation            1200000 non-null  category\n",
      " 8   Health Score          1125924 non-null  float64 \n",
      " 9   Location              1200000 non-null  category\n",
      " 10  Policy Type           1200000 non-null  category\n",
      " 11  Previous Claims       835971 non-null   float64 \n",
      " 12  Vehicle Age           1199994 non-null  float64 \n",
      " 13  Credit Score          1062118 non-null  float64 \n",
      " 14  Insurance Duration    1199999 non-null  float64 \n",
      " 15  Policy Start Date     1200000 non-null  object  \n",
      " 16  Customer Feedback     1200000 non-null  category\n",
      " 17  Smoking Status        1200000 non-null  category\n",
      " 18  Exercise Frequency    1200000 non-null  category\n",
      " 19  Property Type         1200000 non-null  category\n",
      " 20  Premium Amount        1200000 non-null  float64 \n",
      " 21  StartY                1200000 non-null  category\n",
      " 22  Label                 1200000 non-null  float64 \n",
      "dtypes: category(11), float64(10), int64(1), object(1)\n",
      "memory usage: 122.5+ MB\n"
     ]
    }
   ],
   "source": [
    "df_train.info()"
   ]
  },
  {
   "cell_type": "code",
   "execution_count": 46,
   "id": "4ede6837",
   "metadata": {
    "execution": {
     "iopub.execute_input": "2024-12-29T08:01:19.076489Z",
     "iopub.status.busy": "2024-12-29T08:01:19.076143Z",
     "iopub.status.idle": "2024-12-29T08:01:19.458996Z",
     "shell.execute_reply": "2024-12-29T08:01:19.458002Z"
    },
    "papermill": {
     "duration": 0.395849,
     "end_time": "2024-12-29T08:01:19.461352",
     "exception": false,
     "start_time": "2024-12-29T08:01:19.065503",
     "status": "completed"
    },
    "tags": []
   },
   "outputs": [],
   "source": [
    "from catboost import *\n",
    "\n",
    "X_train,x_val,Y_train,y_val = train_test_split(df_train.drop(['id','Premium Amount','Policy Start Date','Label'],axis=1),df_train['Label'],test_size=0.2,random_state=11)\n",
    "train_pool=Pool(data=X_train,\n",
    "                label=Y_train,\n",
    "                cat_features=cat_features.to_list())\n",
    "val_pool=Pool(data=x_val,\n",
    "               label=y_val,\n",
    "               cat_features=cat_features.to_list())\n",
    "X_test = df_test.drop(['id','Policy Start Date'],axis=1)\n"
   ]
  },
  {
   "cell_type": "code",
   "execution_count": 47,
   "id": "ee98b1e8",
   "metadata": {
    "execution": {
     "iopub.execute_input": "2024-12-29T08:01:19.482750Z",
     "iopub.status.busy": "2024-12-29T08:01:19.482463Z",
     "iopub.status.idle": "2024-12-29T08:01:19.486906Z",
     "shell.execute_reply": "2024-12-29T08:01:19.486162Z"
    },
    "papermill": {
     "duration": 0.016663,
     "end_time": "2024-12-29T08:01:19.488360",
     "exception": false,
     "start_time": "2024-12-29T08:01:19.471697",
     "status": "completed"
    },
    "tags": []
   },
   "outputs": [],
   "source": [
    "def calc_test_quality(train_pool, val_pool, **kwargs):\n",
    "    model = CatBoostRegressor(**kwargs, task_type=\"GPU\",random_seed=11)\n",
    "    model.fit(train_pool, verbose=0, eval_set=val_pool)\n",
    "    y_pred = model.predict(val_pool)\n",
    "    return eval_metric(val_pool.get_label(), y_pred, 'RMSE'), model"
   ]
  },
  {
   "cell_type": "code",
   "execution_count": 48,
   "id": "9077d77a",
   "metadata": {
    "execution": {
     "iopub.execute_input": "2024-12-29T08:01:19.508311Z",
     "iopub.status.busy": "2024-12-29T08:01:19.508052Z",
     "iopub.status.idle": "2024-12-29T08:12:31.884220Z",
     "shell.execute_reply": "2024-12-29T08:12:31.883272Z"
    },
    "papermill": {
     "duration": 672.398665,
     "end_time": "2024-12-29T08:12:31.896399",
     "exception": false,
     "start_time": "2024-12-29T08:01:19.497734",
     "status": "completed"
    },
    "tags": []
   },
   "outputs": [
    {
     "name": "stderr",
     "output_type": "stream",
     "text": [
      "[I 2024-12-29 08:01:19,510] A new study created in memory with name: no-name-0e32d6c9-1572-4aa9-854a-2b56551619c5\n",
      "[I 2024-12-29 08:01:52,153] Trial 0 finished with value: 1.04987529874203 and parameters: {'iterations': 1458, 'early_stopping_rounds': 67, 'learning_rate': 0.007141605056741639, 'depth': 5, 'l2_leaf_reg': 8.517280459938654, 'min_data_in_leaf': 93, 'grow_policy': 'Lossguide'}. Best is trial 0 with value: 1.04987529874203.\n",
      "[I 2024-12-29 08:02:07,012] Trial 1 finished with value: 1.0754501717051852 and parameters: {'iterations': 1807, 'early_stopping_rounds': 133, 'learning_rate': 0.010243952426093609, 'depth': 1, 'l2_leaf_reg': 6.306523781102779, 'min_data_in_leaf': 35, 'grow_policy': 'Depthwise'}. Best is trial 0 with value: 1.04987529874203.\n",
      "[I 2024-12-29 08:02:45,720] Trial 2 finished with value: 1.0499524354884442 and parameters: {'iterations': 3046, 'early_stopping_rounds': 115, 'learning_rate': 0.02761714573093766, 'depth': 4, 'l2_leaf_reg': 3.006352890966305, 'min_data_in_leaf': 19, 'grow_policy': 'Depthwise'}. Best is trial 0 with value: 1.04987529874203.\n",
      "[I 2024-12-29 08:03:16,344] Trial 3 finished with value: 1.0519011950486772 and parameters: {'iterations': 2833, 'early_stopping_rounds': 178, 'learning_rate': 0.06261154360773759, 'depth': 3, 'l2_leaf_reg': 2.6193727605531896, 'min_data_in_leaf': 82, 'grow_policy': 'Lossguide'}. Best is trial 0 with value: 1.04987529874203.\n",
      "[I 2024-12-29 08:03:35,648] Trial 4 finished with value: 1.0715174200425879 and parameters: {'iterations': 2556, 'early_stopping_rounds': 124, 'learning_rate': 0.0537294277947298, 'depth': 1, 'l2_leaf_reg': 5.7168753620171495, 'min_data_in_leaf': 90, 'grow_policy': 'Depthwise'}. Best is trial 0 with value: 1.04987529874203.\n",
      "[I 2024-12-29 08:03:59,966] Trial 5 finished with value: 1.0486567798734354 and parameters: {'iterations': 1887, 'early_stopping_rounds': 126, 'learning_rate': 0.07288767408981474, 'depth': 5, 'l2_leaf_reg': 7.921993305003545, 'min_data_in_leaf': 20, 'grow_policy': 'Depthwise'}. Best is trial 5 with value: 1.0486567798734354.\n",
      "[I 2024-12-29 08:04:51,942] Trial 6 finished with value: 1.0475244935207364 and parameters: {'iterations': 2417, 'early_stopping_rounds': 161, 'learning_rate': 0.012409718145377571, 'depth': 7, 'l2_leaf_reg': 4.261002498435067, 'min_data_in_leaf': 35, 'grow_policy': 'Depthwise'}. Best is trial 6 with value: 1.0475244935207364.\n",
      "[I 2024-12-29 08:05:20,977] Trial 7 finished with value: 1.0512677534411514 and parameters: {'iterations': 2246, 'early_stopping_rounds': 186, 'learning_rate': 0.01002935150993382, 'depth': 4, 'l2_leaf_reg': 5.752200197173259, 'min_data_in_leaf': 33, 'grow_policy': 'Depthwise'}. Best is trial 6 with value: 1.0475244935207364.\n",
      "[I 2024-12-29 08:05:47,561] Trial 8 finished with value: 1.0487376717317216 and parameters: {'iterations': 1291, 'early_stopping_rounds': 142, 'learning_rate': 0.08375839754451603, 'depth': 5, 'l2_leaf_reg': 8.63896873462873, 'min_data_in_leaf': 55, 'grow_policy': 'Lossguide'}. Best is trial 6 with value: 1.0475244935207364.\n",
      "[I 2024-12-29 08:06:26,801] Trial 9 finished with value: 1.047358731303313 and parameters: {'iterations': 1281, 'early_stopping_rounds': 180, 'learning_rate': 0.03428957001543605, 'depth': 9, 'l2_leaf_reg': 3.6716409802252983, 'min_data_in_leaf': 31, 'grow_policy': 'Lossguide'}. Best is trial 9 with value: 1.047358731303313.\n",
      "[I 2024-12-29 08:06:41,768] Trial 10 finished with value: 1.0475453232993808 and parameters: {'iterations': 3426, 'early_stopping_rounds': 19, 'learning_rate': 0.03575826256431775, 'depth': 10, 'l2_leaf_reg': 1.1848063480977036, 'min_data_in_leaf': 2, 'grow_policy': 'Lossguide'}. Best is trial 9 with value: 1.047358731303313.\n",
      "[I 2024-12-29 08:07:19,058] Trial 11 finished with value: 1.0474064729512653 and parameters: {'iterations': 3828, 'early_stopping_rounds': 172, 'learning_rate': 0.03294444235460135, 'depth': 8, 'l2_leaf_reg': 3.991873904647552, 'min_data_in_leaf': 61, 'grow_policy': 'Lossguide'}. Best is trial 9 with value: 1.047358731303313.\n",
      "[I 2024-12-29 08:08:10,738] Trial 12 finished with value: 1.047361799329811 and parameters: {'iterations': 3950, 'early_stopping_rounds': 193, 'learning_rate': 0.03849320495168666, 'depth': 9, 'l2_leaf_reg': 4.169857506674321, 'min_data_in_leaf': 59, 'grow_policy': 'Lossguide'}. Best is trial 9 with value: 1.047358731303313.\n",
      "[I 2024-12-29 08:08:58,407] Trial 13 finished with value: 1.0472652500156083 and parameters: {'iterations': 3993, 'early_stopping_rounds': 196, 'learning_rate': 0.04388555358504515, 'depth': 10, 'l2_leaf_reg': 4.406115225787097, 'min_data_in_leaf': 69, 'grow_policy': 'Lossguide'}. Best is trial 13 with value: 1.0472652500156083.\n",
      "[I 2024-12-29 08:09:25,997] Trial 14 finished with value: 1.0473689066598173 and parameters: {'iterations': 1069, 'early_stopping_rounds': 89, 'learning_rate': 0.04807853691233541, 'depth': 10, 'l2_leaf_reg': 6.861099877865066, 'min_data_in_leaf': 67, 'grow_policy': 'Lossguide'}. Best is trial 13 with value: 1.0472652500156083.\n",
      "[I 2024-12-29 08:10:42,061] Trial 15 finished with value: 1.047583705790952 and parameters: {'iterations': 3350, 'early_stopping_rounds': 150, 'learning_rate': 0.0230957164525587, 'depth': 7, 'l2_leaf_reg': 1.4042895300496268, 'min_data_in_leaf': 76, 'grow_policy': 'Lossguide'}. Best is trial 13 with value: 1.0472652500156083.\n",
      "[I 2024-12-29 08:11:18,726] Trial 16 finished with value: 1.0474758468993555 and parameters: {'iterations': 1912, 'early_stopping_rounds': 195, 'learning_rate': 0.048900045218439984, 'depth': 8, 'l2_leaf_reg': 2.807054644576379, 'min_data_in_leaf': 46, 'grow_policy': 'Lossguide'}. Best is trial 13 with value: 1.0472652500156083.\n",
      "[I 2024-12-29 08:11:33,854] Trial 17 finished with value: 1.0475427137807183 and parameters: {'iterations': 3521, 'early_stopping_rounds': 93, 'learning_rate': 0.0968769043864649, 'depth': 9, 'l2_leaf_reg': 4.8130723992463675, 'min_data_in_leaf': 46, 'grow_policy': 'Lossguide'}. Best is trial 13 with value: 1.0472652500156083.\n",
      "[I 2024-12-29 08:11:48,147] Trial 18 finished with value: 1.0477701220944944 and parameters: {'iterations': 2768, 'early_stopping_rounds': 34, 'learning_rate': 0.06313775125861817, 'depth': 7, 'l2_leaf_reg': 9.666052380625331, 'min_data_in_leaf': 3, 'grow_policy': 'Lossguide'}. Best is trial 13 with value: 1.0472652500156083.\n",
      "[I 2024-12-29 08:12:31,880] Trial 19 finished with value: 1.0474082906371034 and parameters: {'iterations': 1584, 'early_stopping_rounds': 200, 'learning_rate': 0.019220845741041433, 'depth': 10, 'l2_leaf_reg': 3.3186875272305594, 'min_data_in_leaf': 70, 'grow_policy': 'Lossguide'}. Best is trial 13 with value: 1.0472652500156083.\n"
     ]
    }
   ],
   "source": [
    "from optuna.samplers import TPESampler\n",
    "\n",
    "sampler = TPESampler(seed=777)\n",
    "study = optuna.create_study(direction='minimize', sampler=sampler)\n",
    "study.optimize(objective, n_trials=20)"
   ]
  },
  {
   "cell_type": "code",
   "execution_count": 49,
   "id": "28970e1c",
   "metadata": {
    "execution": {
     "iopub.execute_input": "2024-12-29T08:12:31.918742Z",
     "iopub.status.busy": "2024-12-29T08:12:31.918277Z",
     "iopub.status.idle": "2024-12-29T08:12:31.922836Z",
     "shell.execute_reply": "2024-12-29T08:12:31.922027Z"
    },
    "papermill": {
     "duration": 0.017593,
     "end_time": "2024-12-29T08:12:31.924505",
     "exception": false,
     "start_time": "2024-12-29T08:12:31.906912",
     "status": "completed"
    },
    "tags": []
   },
   "outputs": [
    {
     "name": "stdout",
     "output_type": "stream",
     "text": [
      "{'iterations': 3993, 'early_stopping_rounds': 196, 'learning_rate': 0.04388555358504515, 'depth': 10, 'l2_leaf_reg': 4.406115225787097, 'min_data_in_leaf': 69, 'grow_policy': 'Lossguide'}\n"
     ]
    }
   ],
   "source": [
    "print(study.best_params)"
   ]
  },
  {
   "cell_type": "code",
   "execution_count": 50,
   "id": "2b46ce8b",
   "metadata": {
    "execution": {
     "iopub.execute_input": "2024-12-29T08:12:31.946594Z",
     "iopub.status.busy": "2024-12-29T08:12:31.946345Z",
     "iopub.status.idle": "2024-12-29T08:13:10.963106Z",
     "shell.execute_reply": "2024-12-29T08:13:10.962380Z"
    },
    "papermill": {
     "duration": 39.030112,
     "end_time": "2024-12-29T08:13:10.965144",
     "exception": false,
     "start_time": "2024-12-29T08:12:31.935032",
     "status": "completed"
    },
    "tags": []
   },
   "outputs": [],
   "source": [
    "#best_params={'iterations': 1719,\n",
    "#             'early_stopping_rounds': 62,\n",
    "#             'learning_rate': 0.022712635681532305,\n",
    "#             'depth': 10, 'l2_leaf_reg': 2.266827548044181,\n",
    "#             'min_data_in_leaf': 66,\n",
    "#             'grow_policy': 'Depthwise'}\n",
    "metriclist, model = calc_test_quality(train_pool,val_pool,**study.best_params)\n",
    "model.save_model('optuna_tune_model')"
   ]
  },
  {
   "cell_type": "code",
   "execution_count": 51,
   "id": "9d40461d",
   "metadata": {
    "execution": {
     "iopub.execute_input": "2024-12-29T08:13:10.987840Z",
     "iopub.status.busy": "2024-12-29T08:13:10.987565Z",
     "iopub.status.idle": "2024-12-29T08:13:10.991812Z",
     "shell.execute_reply": "2024-12-29T08:13:10.991021Z"
    },
    "papermill": {
     "duration": 0.017226,
     "end_time": "2024-12-29T08:13:10.993461",
     "exception": false,
     "start_time": "2024-12-29T08:13:10.976235",
     "status": "completed"
    },
    "tags": []
   },
   "outputs": [
    {
     "name": "stdout",
     "output_type": "stream",
     "text": [
      "[1.047523820195823]\n"
     ]
    }
   ],
   "source": [
    "print(metriclist)"
   ]
  },
  {
   "cell_type": "code",
   "execution_count": 52,
   "id": "46418bdd",
   "metadata": {
    "execution": {
     "iopub.execute_input": "2024-12-29T08:13:11.016218Z",
     "iopub.status.busy": "2024-12-29T08:13:11.015963Z",
     "iopub.status.idle": "2024-12-29T08:13:17.943968Z",
     "shell.execute_reply": "2024-12-29T08:13:17.942967Z"
    },
    "papermill": {
     "duration": 6.941758,
     "end_time": "2024-12-29T08:13:17.946040",
     "exception": false,
     "start_time": "2024-12-29T08:13:11.004282",
     "status": "completed"
    },
    "tags": []
   },
   "outputs": [],
   "source": [
    "predicts = model.predict(X_test)"
   ]
  },
  {
   "cell_type": "code",
   "execution_count": 53,
   "id": "4dc31661",
   "metadata": {
    "execution": {
     "iopub.execute_input": "2024-12-29T08:13:17.969774Z",
     "iopub.status.busy": "2024-12-29T08:13:17.969489Z",
     "iopub.status.idle": "2024-12-29T08:13:17.974761Z",
     "shell.execute_reply": "2024-12-29T08:13:17.973932Z"
    },
    "papermill": {
     "duration": 0.018766,
     "end_time": "2024-12-29T08:13:17.976447",
     "exception": false,
     "start_time": "2024-12-29T08:13:17.957681",
     "status": "completed"
    },
    "tags": []
   },
   "outputs": [],
   "source": [
    "predicts_original_scale = np.expm1(predicts)"
   ]
  },
  {
   "cell_type": "code",
   "execution_count": 54,
   "id": "5a463bf6",
   "metadata": {
    "execution": {
     "iopub.execute_input": "2024-12-29T08:13:17.998951Z",
     "iopub.status.busy": "2024-12-29T08:13:17.998471Z",
     "iopub.status.idle": "2024-12-29T08:13:18.015813Z",
     "shell.execute_reply": "2024-12-29T08:13:18.015220Z"
    },
    "papermill": {
     "duration": 0.030312,
     "end_time": "2024-12-29T08:13:18.017480",
     "exception": false,
     "start_time": "2024-12-29T08:13:17.987168",
     "status": "completed"
    },
    "tags": []
   },
   "outputs": [],
   "source": [
    "#round int\n",
    "temp=pd.concat([df_test['id'],pd.DataFrame(np.rint(predicts_original_scale),columns=['Premium Amount'])],axis=1).reset_index(drop=True)"
   ]
  },
  {
   "cell_type": "code",
   "execution_count": 55,
   "id": "33bf40fe",
   "metadata": {
    "execution": {
     "iopub.execute_input": "2024-12-29T08:13:18.040180Z",
     "iopub.status.busy": "2024-12-29T08:13:18.039941Z",
     "iopub.status.idle": "2024-12-29T08:13:18.060459Z",
     "shell.execute_reply": "2024-12-29T08:13:18.059733Z"
    },
    "papermill": {
     "duration": 0.034068,
     "end_time": "2024-12-29T08:13:18.062392",
     "exception": false,
     "start_time": "2024-12-29T08:13:18.028324",
     "status": "completed"
    },
    "tags": []
   },
   "outputs": [],
   "source": [
    "#not round int\n",
    "temp2=pd.concat([df_test['id'],pd.DataFrame(predicts_original_scale.astype(int),columns=['Premium Amount'])],axis=1).reset_index(drop=True)"
   ]
  },
  {
   "cell_type": "code",
   "execution_count": 56,
   "id": "70f65825",
   "metadata": {
    "execution": {
     "iopub.execute_input": "2024-12-29T08:13:18.085899Z",
     "iopub.status.busy": "2024-12-29T08:13:18.085572Z",
     "iopub.status.idle": "2024-12-29T08:13:18.874147Z",
     "shell.execute_reply": "2024-12-29T08:13:18.873186Z"
    },
    "papermill": {
     "duration": 0.80288,
     "end_time": "2024-12-29T08:13:18.876410",
     "exception": false,
     "start_time": "2024-12-29T08:13:18.073530",
     "status": "completed"
    },
    "tags": []
   },
   "outputs": [],
   "source": [
    "temp.to_csv('submissionX.csv',index=False)"
   ]
  },
  {
   "cell_type": "code",
   "execution_count": 57,
   "id": "a226cbf3",
   "metadata": {
    "execution": {
     "iopub.execute_input": "2024-12-29T08:13:18.901624Z",
     "iopub.status.busy": "2024-12-29T08:13:18.901306Z",
     "iopub.status.idle": "2024-12-29T08:13:19.422814Z",
     "shell.execute_reply": "2024-12-29T08:13:19.421854Z"
    },
    "papermill": {
     "duration": 0.536722,
     "end_time": "2024-12-29T08:13:19.424799",
     "exception": false,
     "start_time": "2024-12-29T08:13:18.888077",
     "status": "completed"
    },
    "tags": []
   },
   "outputs": [],
   "source": [
    "temp2.to_csv('submission_not_round.csv',index=False)"
   ]
  },
  {
   "cell_type": "code",
   "execution_count": 58,
   "id": "4d6d8a30",
   "metadata": {
    "execution": {
     "iopub.execute_input": "2024-12-29T08:13:19.448425Z",
     "iopub.status.busy": "2024-12-29T08:13:19.448136Z",
     "iopub.status.idle": "2024-12-29T08:13:22.358590Z",
     "shell.execute_reply": "2024-12-29T08:13:22.357414Z"
    },
    "papermill": {
     "duration": 2.924552,
     "end_time": "2024-12-29T08:13:22.360638",
     "exception": false,
     "start_time": "2024-12-29T08:13:19.436086",
     "status": "completed"
    },
    "tags": []
   },
   "outputs": [
    {
     "name": "stdout",
     "output_type": "stream",
     "text": [
      "rm: cannot remove 'subnotround.zip': No such file or directory\r\n",
      "  adding: submission_not_round.csv (deflated 67%)\r\n"
     ]
    }
   ],
   "source": [
    "!rm subnotround.zip\n",
    "!zip subnotround.zip submission_not_round.csv\n"
   ]
  },
  {
   "cell_type": "code",
   "execution_count": 59,
   "id": "d4992e1e",
   "metadata": {
    "execution": {
     "iopub.execute_input": "2024-12-29T08:13:22.385357Z",
     "iopub.status.busy": "2024-12-29T08:13:22.384747Z",
     "iopub.status.idle": "2024-12-29T08:13:25.148042Z",
     "shell.execute_reply": "2024-12-29T08:13:25.147138Z"
    },
    "papermill": {
     "duration": 2.777924,
     "end_time": "2024-12-29T08:13:25.150007",
     "exception": false,
     "start_time": "2024-12-29T08:13:22.372083",
     "status": "completed"
    },
    "tags": []
   },
   "outputs": [
    {
     "name": "stdout",
     "output_type": "stream",
     "text": [
      "rm: cannot remove 'sub.zip': No such file or directory\r\n",
      "  adding: submissionX.csv (deflated 72%)\r\n"
     ]
    }
   ],
   "source": [
    "!rm sub.zip\n",
    "!zip sub.zip submissionX.csv"
   ]
  }
 ],
 "metadata": {
  "kaggle": {
   "accelerator": "nvidiaTeslaT4",
   "dataSources": [
    {
     "databundleVersionId": 10305135,
     "sourceId": 84896,
     "sourceType": "competition"
    },
    {
     "datasetId": 6332864,
     "sourceId": 10240600,
     "sourceType": "datasetVersion"
    }
   ],
   "dockerImageVersionId": 30804,
   "isGpuEnabled": true,
   "isInternetEnabled": true,
   "language": "python",
   "sourceType": "notebook"
  },
  "kernelspec": {
   "display_name": "Python 3",
   "language": "python",
   "name": "python3"
  },
  "language_info": {
   "codemirror_mode": {
    "name": "ipython",
    "version": 3
   },
   "file_extension": ".py",
   "mimetype": "text/x-python",
   "name": "python",
   "nbconvert_exporter": "python",
   "pygments_lexer": "ipython3",
   "version": "3.10.14"
  },
  "papermill": {
   "default_parameters": {},
   "duration": 753.296808,
   "end_time": "2024-12-29T08:13:26.081285",
   "environment_variables": {},
   "exception": null,
   "input_path": "__notebook__.ipynb",
   "output_path": "__notebook__.ipynb",
   "parameters": {},
   "start_time": "2024-12-29T08:00:52.784477",
   "version": "2.6.0"
  }
 },
 "nbformat": 4,
 "nbformat_minor": 5
}
