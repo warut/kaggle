{
 "cells": [
  {
   "cell_type": "code",
   "execution_count": 1,
   "id": "c3a84133",
   "metadata": {
    "_cell_guid": "b1076dfc-b9ad-4769-8c92-a6c4dae69d19",
    "_uuid": "8f2839f25d086af736a60e9eeb907d3b93b6e0e5",
    "execution": {
     "iopub.execute_input": "2024-12-30T15:22:15.760585Z",
     "iopub.status.busy": "2024-12-30T15:22:15.760229Z",
     "iopub.status.idle": "2024-12-30T15:22:16.492207Z",
     "shell.execute_reply": "2024-12-30T15:22:16.491336Z"
    },
    "papermill": {
     "duration": 0.744671,
     "end_time": "2024-12-30T15:22:16.494097",
     "exception": false,
     "start_time": "2024-12-30T15:22:15.749426",
     "status": "completed"
    },
    "tags": []
   },
   "outputs": [
    {
     "name": "stdout",
     "output_type": "stream",
     "text": [
      "/kaggle/input/catfitmodel/catfit\n",
      "/kaggle/input/playground-series-s4e12/sample_submission.csv\n",
      "/kaggle/input/playground-series-s4e12/train.csv\n",
      "/kaggle/input/playground-series-s4e12/test.csv\n"
     ]
    }
   ],
   "source": [
    "# This Python 3 environment comes with many helpful analytics libraries installed\n",
    "# It is defined by the kaggle/python Docker image: https://github.com/kaggle/docker-python\n",
    "# For example, here's several helpful packages to load\n",
    "\n",
    "import numpy as np # linear algebra\n",
    "import pandas as pd # data processing, CSV file I/O (e.g. pd.read_csv)\n",
    "\n",
    "# Input data files are available in the read-only \"../input/\" directory\n",
    "# For example, running this (by clicking run or pressing Shift+Enter) will list all files under the input directory\n",
    "\n",
    "import os\n",
    "for dirname, _, filenames in os.walk('/kaggle/input'):\n",
    "    for filename in filenames:\n",
    "        print(os.path.join(dirname, filename))\n",
    "\n",
    "# You can write up to 20GB to the current directory (/kaggle/working/) that gets preserved as output when you create a version using \"Save & Run All\" \n",
    "# You can also write temporary files to /kaggle/temp/, but they won't be saved outside of the current session"
   ]
  },
  {
   "cell_type": "code",
   "execution_count": 2,
   "id": "454cf635",
   "metadata": {
    "execution": {
     "iopub.execute_input": "2024-12-30T15:22:16.510460Z",
     "iopub.status.busy": "2024-12-30T15:22:16.510105Z",
     "iopub.status.idle": "2024-12-30T15:22:16.513655Z",
     "shell.execute_reply": "2024-12-30T15:22:16.512912Z"
    },
    "papermill": {
     "duration": 0.013203,
     "end_time": "2024-12-30T15:22:16.515293",
     "exception": false,
     "start_time": "2024-12-30T15:22:16.502090",
     "status": "completed"
    },
    "tags": []
   },
   "outputs": [],
   "source": [
    "#!pip install -U feature-engine\n",
    "#!pip install optuna-integration[catboost]   "
   ]
  },
  {
   "cell_type": "code",
   "execution_count": 3,
   "id": "005e36a8",
   "metadata": {
    "execution": {
     "iopub.execute_input": "2024-12-30T15:22:16.530998Z",
     "iopub.status.busy": "2024-12-30T15:22:16.530708Z",
     "iopub.status.idle": "2024-12-30T15:22:18.498704Z",
     "shell.execute_reply": "2024-12-30T15:22:18.497994Z"
    },
    "papermill": {
     "duration": 1.978069,
     "end_time": "2024-12-30T15:22:18.500727",
     "exception": false,
     "start_time": "2024-12-30T15:22:16.522658",
     "status": "completed"
    },
    "tags": []
   },
   "outputs": [],
   "source": [
    "\n",
    "import pandas as pd\n",
    "import numpy as np\n",
    "import matplotlib.pyplot as plt\n",
    "import seaborn as sns\n",
    "import optuna\n",
    "import catboost\n",
    "#from optuna.integration import CatBoostPruningCallback\n",
    "from optuna.samplers import TPESampler\n",
    "from catboost.utils import eval_metric\n",
    "from sklearn.model_selection import train_test_split\n",
    "from sklearn.preprocessing import PowerTransformer"
   ]
  },
  {
   "cell_type": "code",
   "execution_count": 4,
   "id": "38176c61",
   "metadata": {
    "execution": {
     "iopub.execute_input": "2024-12-30T15:22:18.518992Z",
     "iopub.status.busy": "2024-12-30T15:22:18.518236Z",
     "iopub.status.idle": "2024-12-30T15:22:18.525735Z",
     "shell.execute_reply": "2024-12-30T15:22:18.524995Z"
    },
    "papermill": {
     "duration": 0.018446,
     "end_time": "2024-12-30T15:22:18.527386",
     "exception": false,
     "start_time": "2024-12-30T15:22:18.508940",
     "status": "completed"
    },
    "tags": []
   },
   "outputs": [],
   "source": [
    "#Optuna objective function\n",
    "def objective(trial):\n",
    "    params = {\n",
    "        #\"iterations\": 5000, 5000 is taking more than 12 hours    # OPtuna example not specify iteration\n",
    "        'iterations': trial.suggest_int('iterations', 1000, 4000), \n",
    "        'early_stopping_rounds': trial.suggest_int('early_stopping_rounds', 100, 400), \n",
    "        \"learning_rate\": trial.suggest_float(\"learning_rate\", 1e-3, 0.1),\n",
    "        \"depth\": trial.suggest_int(\"depth\", 1, 10),\n",
    "        'l2_leaf_reg': trial.suggest_float('l2_leaf_reg', 1, 10),\n",
    "        #\"subsample\": trial.suggest_float(\"subsample\", 0.05, 1.0),  subsample only support bernoulli bootstrap_type\n",
    "        #\"colsample_bylevel\": trial.suggest_float(\"colsample_bylevel\", 0.05, 1.0),\n",
    "        \"min_data_in_leaf\": trial.suggest_int(\"min_data_in_leaf\", 2, 100),\n",
    "        'grow_policy': trial.suggest_categorical('grow_policy', ['SymmetricTree','Depthwise', 'Lossguide']),\n",
    "         \"bootstrap_type\": trial.suggest_categorical(\n",
    "            \"bootstrap_type\", [\"Bayesian\", \"Bernoulli\"] #MVS not compat with GPU\n",
    "        ),\n",
    "        \"loss_function\": \"RMSE\",\n",
    "    }\n",
    "    if params[\"bootstrap_type\"] == \"Bayesian\":\n",
    "        params[\"bagging_temperature\"] = trial.suggest_float(\"bagging_temperature\", 0, 10)\n",
    "    elif params[\"bootstrap_type\"] == \"Bernoulli\":\n",
    "        params[\"subsample\"] = trial.suggest_float(\"subsample\", 0.05, 1, log=True)\n",
    "\n",
    "    \n",
    "\n",
    "    model = CatBoostRegressor(**params, task_type=\"GPU\",silent=True,random_seed=51,)\n",
    "    \n",
    "    #pruning_callback = CatBoostPruningCallback(trial, \"RMSE\") only with CPU\n",
    "\n",
    "    model.fit(train_pool,verbose=0,\n",
    "              eval_set=val_pool, \n",
    "              #callbacks=[pruning_callback],\n",
    "             )\n",
    "    y_pred = model.predict(val_pool)\n",
    "    #rmse = mean_squared_error(y_val, predictions, squared=False)\n",
    "    return eval_metric(val_pool.get_label(),y_pred,'RMSE')"
   ]
  },
  {
   "cell_type": "code",
   "execution_count": 5,
   "id": "26830196",
   "metadata": {
    "execution": {
     "iopub.execute_input": "2024-12-30T15:22:18.543709Z",
     "iopub.status.busy": "2024-12-30T15:22:18.543470Z",
     "iopub.status.idle": "2024-12-30T15:22:27.075851Z",
     "shell.execute_reply": "2024-12-30T15:22:27.074273Z"
    },
    "papermill": {
     "duration": 8.544325,
     "end_time": "2024-12-30T15:22:27.079375",
     "exception": false,
     "start_time": "2024-12-30T15:22:18.535050",
     "status": "completed"
    },
    "tags": []
   },
   "outputs": [],
   "source": [
    "df_train = pd.read_csv('/kaggle/input/playground-series-s4e12/train.csv')\n",
    "df_test = pd.read_csv('/kaggle/input/playground-series-s4e12/test.csv')"
   ]
  },
  {
   "cell_type": "code",
   "execution_count": 6,
   "id": "ec0b4045",
   "metadata": {
    "execution": {
     "iopub.execute_input": "2024-12-30T15:22:27.105343Z",
     "iopub.status.busy": "2024-12-30T15:22:27.104656Z",
     "iopub.status.idle": "2024-12-30T15:22:35.556190Z",
     "shell.execute_reply": "2024-12-30T15:22:35.555135Z"
    },
    "papermill": {
     "duration": 8.464698,
     "end_time": "2024-12-30T15:22:35.558390",
     "exception": false,
     "start_time": "2024-12-30T15:22:27.093692",
     "status": "completed"
    },
    "tags": []
   },
   "outputs": [],
   "source": [
    "#df_train['StartYM']=pd.to_datetime(df_train['Policy Start Date']).dt.strftime('%Y-%m')\n",
    "df_train['StartY']=pd.to_datetime(df_train['Policy Start Date']).dt.strftime('%Y-%m')\n",
    "df_test['StartY']=pd.to_datetime(df_test['Policy Start Date']).dt.strftime('%Y-%m')"
   ]
  },
  {
   "cell_type": "code",
   "execution_count": 7,
   "id": "410f2b00",
   "metadata": {
    "execution": {
     "iopub.execute_input": "2024-12-30T15:22:35.576434Z",
     "iopub.status.busy": "2024-12-30T15:22:35.576113Z",
     "iopub.status.idle": "2024-12-30T15:22:35.691348Z",
     "shell.execute_reply": "2024-12-30T15:22:35.690468Z"
    },
    "papermill": {
     "duration": 0.126229,
     "end_time": "2024-12-30T15:22:35.693148",
     "exception": false,
     "start_time": "2024-12-30T15:22:35.566919",
     "status": "completed"
    },
    "tags": []
   },
   "outputs": [
    {
     "data": {
      "text/plain": [
       "StartY\n",
       "2022-05    22166\n",
       "2023-03    21624\n",
       "2022-08    21532\n",
       "2021-07    21404\n",
       "2022-11    21396\n",
       "           ...  \n",
       "2019-12    18581\n",
       "2024-06    18210\n",
       "2019-11    17889\n",
       "2019-08     8868\n",
       "2024-08     8289\n",
       "Name: count, Length: 61, dtype: int64"
      ]
     },
     "execution_count": 7,
     "metadata": {},
     "output_type": "execute_result"
    }
   ],
   "source": [
    "df_train['StartY'].value_counts()"
   ]
  },
  {
   "cell_type": "code",
   "execution_count": 8,
   "id": "0d75b615",
   "metadata": {
    "execution": {
     "iopub.execute_input": "2024-12-30T15:22:35.711526Z",
     "iopub.status.busy": "2024-12-30T15:22:35.710839Z",
     "iopub.status.idle": "2024-12-30T15:22:35.806742Z",
     "shell.execute_reply": "2024-12-30T15:22:35.805898Z"
    },
    "papermill": {
     "duration": 0.106227,
     "end_time": "2024-12-30T15:22:35.808434",
     "exception": false,
     "start_time": "2024-12-30T15:22:35.702207",
     "status": "completed"
    },
    "tags": []
   },
   "outputs": [
    {
     "data": {
      "text/html": [
       "<div>\n",
       "<style scoped>\n",
       "    .dataframe tbody tr th:only-of-type {\n",
       "        vertical-align: middle;\n",
       "    }\n",
       "\n",
       "    .dataframe tbody tr th {\n",
       "        vertical-align: top;\n",
       "    }\n",
       "\n",
       "    .dataframe thead th {\n",
       "        text-align: right;\n",
       "    }\n",
       "</style>\n",
       "<table border=\"1\" class=\"dataframe\">\n",
       "  <thead>\n",
       "    <tr style=\"text-align: right;\">\n",
       "      <th></th>\n",
       "      <th>StartY</th>\n",
       "      <th>count</th>\n",
       "    </tr>\n",
       "  </thead>\n",
       "  <tbody>\n",
       "    <tr>\n",
       "      <th>60</th>\n",
       "      <td>2024-08</td>\n",
       "      <td>8289</td>\n",
       "    </tr>\n",
       "    <tr>\n",
       "      <th>55</th>\n",
       "      <td>2024-07</td>\n",
       "      <td>18798</td>\n",
       "    </tr>\n",
       "    <tr>\n",
       "      <th>57</th>\n",
       "      <td>2024-06</td>\n",
       "      <td>18210</td>\n",
       "    </tr>\n",
       "    <tr>\n",
       "      <th>5</th>\n",
       "      <td>2024-05</td>\n",
       "      <td>21251</td>\n",
       "    </tr>\n",
       "    <tr>\n",
       "      <th>46</th>\n",
       "      <td>2024-04</td>\n",
       "      <td>19389</td>\n",
       "    </tr>\n",
       "    <tr>\n",
       "      <th>...</th>\n",
       "      <td>...</td>\n",
       "      <td>...</td>\n",
       "    </tr>\n",
       "    <tr>\n",
       "      <th>56</th>\n",
       "      <td>2019-12</td>\n",
       "      <td>18581</td>\n",
       "    </tr>\n",
       "    <tr>\n",
       "      <th>58</th>\n",
       "      <td>2019-11</td>\n",
       "      <td>17889</td>\n",
       "    </tr>\n",
       "    <tr>\n",
       "      <th>47</th>\n",
       "      <td>2019-10</td>\n",
       "      <td>19355</td>\n",
       "    </tr>\n",
       "    <tr>\n",
       "      <th>42</th>\n",
       "      <td>2019-09</td>\n",
       "      <td>19596</td>\n",
       "    </tr>\n",
       "    <tr>\n",
       "      <th>59</th>\n",
       "      <td>2019-08</td>\n",
       "      <td>8868</td>\n",
       "    </tr>\n",
       "  </tbody>\n",
       "</table>\n",
       "<p>61 rows × 2 columns</p>\n",
       "</div>"
      ],
      "text/plain": [
       "     StartY  count\n",
       "60  2024-08   8289\n",
       "55  2024-07  18798\n",
       "57  2024-06  18210\n",
       "5   2024-05  21251\n",
       "46  2024-04  19389\n",
       "..      ...    ...\n",
       "56  2019-12  18581\n",
       "58  2019-11  17889\n",
       "47  2019-10  19355\n",
       "42  2019-09  19596\n",
       "59  2019-08   8868\n",
       "\n",
       "[61 rows x 2 columns]"
      ]
     },
     "execution_count": 8,
     "metadata": {},
     "output_type": "execute_result"
    }
   ],
   "source": [
    "df_train['StartY'].value_counts().reset_index().sort_values(by=['StartY'],ascending=False)"
   ]
  },
  {
   "cell_type": "code",
   "execution_count": 9,
   "id": "b9c729fd",
   "metadata": {
    "execution": {
     "iopub.execute_input": "2024-12-30T15:22:35.826343Z",
     "iopub.status.busy": "2024-12-30T15:22:35.825758Z",
     "iopub.status.idle": "2024-12-30T15:22:35.995659Z",
     "shell.execute_reply": "2024-12-30T15:22:35.994670Z"
    },
    "papermill": {
     "duration": 0.180557,
     "end_time": "2024-12-30T15:22:35.997537",
     "exception": false,
     "start_time": "2024-12-30T15:22:35.816980",
     "status": "completed"
    },
    "tags": []
   },
   "outputs": [
    {
     "data": {
      "text/html": [
       "<div>\n",
       "<style scoped>\n",
       "    .dataframe tbody tr th:only-of-type {\n",
       "        vertical-align: middle;\n",
       "    }\n",
       "\n",
       "    .dataframe tbody tr th {\n",
       "        vertical-align: top;\n",
       "    }\n",
       "\n",
       "    .dataframe thead th {\n",
       "        text-align: right;\n",
       "    }\n",
       "</style>\n",
       "<table border=\"1\" class=\"dataframe\">\n",
       "  <thead>\n",
       "    <tr style=\"text-align: right;\">\n",
       "      <th></th>\n",
       "      <th>count</th>\n",
       "      <th>mean</th>\n",
       "      <th>std</th>\n",
       "      <th>min</th>\n",
       "      <th>25%</th>\n",
       "      <th>50%</th>\n",
       "      <th>75%</th>\n",
       "      <th>max</th>\n",
       "    </tr>\n",
       "    <tr>\n",
       "      <th>StartY</th>\n",
       "      <th></th>\n",
       "      <th></th>\n",
       "      <th></th>\n",
       "      <th></th>\n",
       "      <th></th>\n",
       "      <th></th>\n",
       "      <th></th>\n",
       "      <th></th>\n",
       "    </tr>\n",
       "  </thead>\n",
       "  <tbody>\n",
       "    <tr>\n",
       "      <th>2019-08</th>\n",
       "      <td>750.0</td>\n",
       "      <td>55.880000</td>\n",
       "      <td>33.038013</td>\n",
       "      <td>20.0</td>\n",
       "      <td>28.0</td>\n",
       "      <td>40.0</td>\n",
       "      <td>88.00</td>\n",
       "      <td>119.0</td>\n",
       "    </tr>\n",
       "    <tr>\n",
       "      <th>2019-09</th>\n",
       "      <td>1728.0</td>\n",
       "      <td>54.236111</td>\n",
       "      <td>32.662809</td>\n",
       "      <td>20.0</td>\n",
       "      <td>28.0</td>\n",
       "      <td>39.0</td>\n",
       "      <td>85.00</td>\n",
       "      <td>119.0</td>\n",
       "    </tr>\n",
       "    <tr>\n",
       "      <th>2019-10</th>\n",
       "      <td>1628.0</td>\n",
       "      <td>53.222973</td>\n",
       "      <td>32.727574</td>\n",
       "      <td>20.0</td>\n",
       "      <td>27.0</td>\n",
       "      <td>38.0</td>\n",
       "      <td>81.25</td>\n",
       "      <td>119.0</td>\n",
       "    </tr>\n",
       "    <tr>\n",
       "      <th>2019-11</th>\n",
       "      <td>1479.0</td>\n",
       "      <td>54.600406</td>\n",
       "      <td>33.092735</td>\n",
       "      <td>20.0</td>\n",
       "      <td>27.0</td>\n",
       "      <td>39.0</td>\n",
       "      <td>86.50</td>\n",
       "      <td>119.0</td>\n",
       "    </tr>\n",
       "    <tr>\n",
       "      <th>2019-12</th>\n",
       "      <td>1646.0</td>\n",
       "      <td>55.174362</td>\n",
       "      <td>32.894424</td>\n",
       "      <td>20.0</td>\n",
       "      <td>28.0</td>\n",
       "      <td>39.0</td>\n",
       "      <td>86.75</td>\n",
       "      <td>119.0</td>\n",
       "    </tr>\n",
       "    <tr>\n",
       "      <th>...</th>\n",
       "      <td>...</td>\n",
       "      <td>...</td>\n",
       "      <td>...</td>\n",
       "      <td>...</td>\n",
       "      <td>...</td>\n",
       "      <td>...</td>\n",
       "      <td>...</td>\n",
       "      <td>...</td>\n",
       "    </tr>\n",
       "    <tr>\n",
       "      <th>2024-04</th>\n",
       "      <td>1723.0</td>\n",
       "      <td>58.331979</td>\n",
       "      <td>33.660618</td>\n",
       "      <td>20.0</td>\n",
       "      <td>29.0</td>\n",
       "      <td>45.0</td>\n",
       "      <td>94.00</td>\n",
       "      <td>119.0</td>\n",
       "    </tr>\n",
       "    <tr>\n",
       "      <th>2024-05</th>\n",
       "      <td>1850.0</td>\n",
       "      <td>58.808108</td>\n",
       "      <td>33.599484</td>\n",
       "      <td>20.0</td>\n",
       "      <td>28.0</td>\n",
       "      <td>45.0</td>\n",
       "      <td>98.00</td>\n",
       "      <td>119.0</td>\n",
       "    </tr>\n",
       "    <tr>\n",
       "      <th>2024-06</th>\n",
       "      <td>1564.0</td>\n",
       "      <td>56.691176</td>\n",
       "      <td>33.541466</td>\n",
       "      <td>20.0</td>\n",
       "      <td>28.0</td>\n",
       "      <td>42.0</td>\n",
       "      <td>93.00</td>\n",
       "      <td>119.0</td>\n",
       "    </tr>\n",
       "    <tr>\n",
       "      <th>2024-07</th>\n",
       "      <td>1622.0</td>\n",
       "      <td>56.519112</td>\n",
       "      <td>32.745376</td>\n",
       "      <td>20.0</td>\n",
       "      <td>29.0</td>\n",
       "      <td>43.0</td>\n",
       "      <td>87.00</td>\n",
       "      <td>119.0</td>\n",
       "    </tr>\n",
       "    <tr>\n",
       "      <th>2024-08</th>\n",
       "      <td>715.0</td>\n",
       "      <td>57.566434</td>\n",
       "      <td>33.812831</td>\n",
       "      <td>20.0</td>\n",
       "      <td>28.0</td>\n",
       "      <td>45.0</td>\n",
       "      <td>95.50</td>\n",
       "      <td>119.0</td>\n",
       "    </tr>\n",
       "  </tbody>\n",
       "</table>\n",
       "<p>61 rows × 8 columns</p>\n",
       "</div>"
      ],
      "text/plain": [
       "          count       mean        std   min   25%   50%    75%    max\n",
       "StartY                                                               \n",
       "2019-08   750.0  55.880000  33.038013  20.0  28.0  40.0  88.00  119.0\n",
       "2019-09  1728.0  54.236111  32.662809  20.0  28.0  39.0  85.00  119.0\n",
       "2019-10  1628.0  53.222973  32.727574  20.0  27.0  38.0  81.25  119.0\n",
       "2019-11  1479.0  54.600406  33.092735  20.0  27.0  39.0  86.50  119.0\n",
       "2019-12  1646.0  55.174362  32.894424  20.0  28.0  39.0  86.75  119.0\n",
       "...         ...        ...        ...   ...   ...   ...    ...    ...\n",
       "2024-04  1723.0  58.331979  33.660618  20.0  29.0  45.0  94.00  119.0\n",
       "2024-05  1850.0  58.808108  33.599484  20.0  28.0  45.0  98.00  119.0\n",
       "2024-06  1564.0  56.691176  33.541466  20.0  28.0  42.0  93.00  119.0\n",
       "2024-07  1622.0  56.519112  32.745376  20.0  29.0  43.0  87.00  119.0\n",
       "2024-08   715.0  57.566434  33.812831  20.0  28.0  45.0  95.50  119.0\n",
       "\n",
       "[61 rows x 8 columns]"
      ]
     },
     "execution_count": 9,
     "metadata": {},
     "output_type": "execute_result"
    }
   ],
   "source": [
    "df_train[df_train['Premium Amount']<120].groupby('StartY')['Premium Amount'].describe()"
   ]
  },
  {
   "cell_type": "code",
   "execution_count": 10,
   "id": "6c9b811f",
   "metadata": {
    "execution": {
     "iopub.execute_input": "2024-12-30T15:22:36.016270Z",
     "iopub.status.busy": "2024-12-30T15:22:36.015580Z",
     "iopub.status.idle": "2024-12-30T15:22:36.061939Z",
     "shell.execute_reply": "2024-12-30T15:22:36.060955Z"
    },
    "papermill": {
     "duration": 0.057337,
     "end_time": "2024-12-30T15:22:36.063723",
     "exception": false,
     "start_time": "2024-12-30T15:22:36.006386",
     "status": "completed"
    },
    "tags": []
   },
   "outputs": [
    {
     "data": {
      "text/plain": [
       "count    770140.000000\n",
       "mean      32803.871471\n",
       "std       32201.063749\n",
       "min           2.000000\n",
       "25%        8048.000000\n",
       "50%       23981.000000\n",
       "75%       44660.000000\n",
       "max      149997.000000\n",
       "Name: Annual Income, dtype: float64"
      ]
     },
     "execution_count": 10,
     "metadata": {},
     "output_type": "execute_result"
    }
   ],
   "source": [
    "df_test['Annual Income'].describe()"
   ]
  },
  {
   "cell_type": "code",
   "execution_count": 11,
   "id": "5e17174c",
   "metadata": {
    "execution": {
     "iopub.execute_input": "2024-12-30T15:22:36.082328Z",
     "iopub.status.busy": "2024-12-30T15:22:36.081657Z",
     "iopub.status.idle": "2024-12-30T15:22:36.103222Z",
     "shell.execute_reply": "2024-12-30T15:22:36.102341Z"
    },
    "papermill": {
     "duration": 0.032893,
     "end_time": "2024-12-30T15:22:36.104994",
     "exception": false,
     "start_time": "2024-12-30T15:22:36.072101",
     "status": "completed"
    },
    "tags": []
   },
   "outputs": [
    {
     "data": {
      "text/plain": [
       "Credit Score\n",
       "673.0    26\n",
       "658.0    26\n",
       "711.0    25\n",
       "613.0    25\n",
       "445.0    24\n",
       "         ..\n",
       "428.0     1\n",
       "350.0     1\n",
       "335.0     1\n",
       "322.0     1\n",
       "405.0     1\n",
       "Name: count, Length: 539, dtype: int64"
      ]
     },
     "execution_count": 11,
     "metadata": {},
     "output_type": "execute_result"
    }
   ],
   "source": [
    "df_train[df_train['Annual Income']<200]['Credit Score'].value_counts()"
   ]
  },
  {
   "cell_type": "code",
   "execution_count": 12,
   "id": "36fe5ee7",
   "metadata": {
    "execution": {
     "iopub.execute_input": "2024-12-30T15:22:36.125053Z",
     "iopub.status.busy": "2024-12-30T15:22:36.124457Z",
     "iopub.status.idle": "2024-12-30T15:22:36.139164Z",
     "shell.execute_reply": "2024-12-30T15:22:36.138429Z"
    },
    "papermill": {
     "duration": 0.026005,
     "end_time": "2024-12-30T15:22:36.140727",
     "exception": false,
     "start_time": "2024-12-30T15:22:36.114722",
     "status": "completed"
    },
    "tags": []
   },
   "outputs": [
    {
     "data": {
      "text/plain": [
       "Annual Income\n",
       "24.0     294\n",
       "35.0     278\n",
       "34.0     193\n",
       "17.0     155\n",
       "26.0     155\n",
       "        ... \n",
       "73.0       1\n",
       "150.0      1\n",
       "87.0       1\n",
       "198.0      1\n",
       "146.0      1\n",
       "Name: count, Length: 184, dtype: int64"
      ]
     },
     "execution_count": 12,
     "metadata": {},
     "output_type": "execute_result"
    }
   ],
   "source": [
    "df_test[df_test['Annual Income']<200]['Annual Income'].value_counts()"
   ]
  },
  {
   "cell_type": "code",
   "execution_count": 13,
   "id": "40591507",
   "metadata": {
    "execution": {
     "iopub.execute_input": "2024-12-30T15:22:36.159906Z",
     "iopub.status.busy": "2024-12-30T15:22:36.159239Z",
     "iopub.status.idle": "2024-12-30T15:22:36.198460Z",
     "shell.execute_reply": "2024-12-30T15:22:36.197517Z"
    },
    "papermill": {
     "duration": 0.051003,
     "end_time": "2024-12-30T15:22:36.200502",
     "exception": false,
     "start_time": "2024-12-30T15:22:36.149499",
     "status": "completed"
    },
    "tags": []
   },
   "outputs": [
    {
     "data": {
      "text/plain": [
       "Index(['id', 'Age', 'Annual Income', 'Number of Dependents', 'Health Score',\n",
       "       'Previous Claims', 'Vehicle Age', 'Credit Score', 'Insurance Duration',\n",
       "       'Premium Amount'],\n",
       "      dtype='object')"
      ]
     },
     "execution_count": 13,
     "metadata": {},
     "output_type": "execute_result"
    }
   ],
   "source": [
    "#only Age, Anuual Income,Credit Score are number. The rest are category\n",
    "numeric_columns=df_train.select_dtypes(include=np.number).columns\n",
    "numeric_columns"
   ]
  },
  {
   "cell_type": "code",
   "execution_count": 14,
   "id": "699e533d",
   "metadata": {
    "execution": {
     "iopub.execute_input": "2024-12-30T15:22:36.220521Z",
     "iopub.status.busy": "2024-12-30T15:22:36.219884Z",
     "iopub.status.idle": "2024-12-30T15:22:36.906657Z",
     "shell.execute_reply": "2024-12-30T15:22:36.905638Z"
    },
    "papermill": {
     "duration": 0.698722,
     "end_time": "2024-12-30T15:22:36.908391",
     "exception": false,
     "start_time": "2024-12-30T15:22:36.209669",
     "status": "completed"
    },
    "tags": []
   },
   "outputs": [
    {
     "data": {
      "text/plain": [
       "Index(['Gender', 'Marital Status', 'Education Level', 'Occupation', 'Location',\n",
       "       'Policy Type', 'Policy Start Date', 'Customer Feedback',\n",
       "       'Smoking Status', 'Exercise Frequency', 'Property Type', 'StartY'],\n",
       "      dtype='object')"
      ]
     },
     "execution_count": 14,
     "metadata": {},
     "output_type": "execute_result"
    }
   ],
   "source": [
    "object_columns=df_train.select_dtypes(include=object).columns\n",
    "object_columns"
   ]
  },
  {
   "cell_type": "code",
   "execution_count": 15,
   "id": "b4b82e8b",
   "metadata": {
    "execution": {
     "iopub.execute_input": "2024-12-30T15:22:36.928416Z",
     "iopub.status.busy": "2024-12-30T15:22:36.927860Z",
     "iopub.status.idle": "2024-12-30T15:22:36.985641Z",
     "shell.execute_reply": "2024-12-30T15:22:36.984698Z"
    },
    "papermill": {
     "duration": 0.069544,
     "end_time": "2024-12-30T15:22:36.987473",
     "exception": false,
     "start_time": "2024-12-30T15:22:36.917929",
     "status": "completed"
    },
    "tags": []
   },
   "outputs": [
    {
     "data": {
      "text/plain": [
       "count    1.200000e+06\n",
       "mean     6.593889e+00\n",
       "std      1.095825e+00\n",
       "min      3.044522e+00\n",
       "25%      6.244167e+00\n",
       "50%      6.771936e+00\n",
       "75%      7.319865e+00\n",
       "max      8.517193e+00\n",
       "Name: Label, dtype: float64"
      ]
     },
     "execution_count": 15,
     "metadata": {},
     "output_type": "execute_result"
    }
   ],
   "source": [
    "#transform target and income\n",
    "df_train['Label']=np.log1p(df_train['Premium Amount'])\n",
    "df_train['Label'].describe()"
   ]
  },
  {
   "cell_type": "code",
   "execution_count": 16,
   "id": "0516af48",
   "metadata": {
    "execution": {
     "iopub.execute_input": "2024-12-30T15:22:37.007672Z",
     "iopub.status.busy": "2024-12-30T15:22:37.007080Z",
     "iopub.status.idle": "2024-12-30T15:22:37.017763Z",
     "shell.execute_reply": "2024-12-30T15:22:37.017194Z"
    },
    "papermill": {
     "duration": 0.022394,
     "end_time": "2024-12-30T15:22:37.019363",
     "exception": false,
     "start_time": "2024-12-30T15:22:36.996969",
     "status": "completed"
    },
    "tags": []
   },
   "outputs": [],
   "source": [
    "df_train['Annual Income']=np.log1p(df_train['Annual Income'])"
   ]
  },
  {
   "cell_type": "code",
   "execution_count": 17,
   "id": "a7372e7f",
   "metadata": {
    "execution": {
     "iopub.execute_input": "2024-12-30T15:22:37.039067Z",
     "iopub.status.busy": "2024-12-30T15:22:37.038545Z",
     "iopub.status.idle": "2024-12-30T15:22:37.047574Z",
     "shell.execute_reply": "2024-12-30T15:22:37.046977Z"
    },
    "papermill": {
     "duration": 0.020615,
     "end_time": "2024-12-30T15:22:37.049275",
     "exception": false,
     "start_time": "2024-12-30T15:22:37.028660",
     "status": "completed"
    },
    "tags": []
   },
   "outputs": [],
   "source": [
    "df_test['Annual Income']=np.log1p(df_test['Annual Income'])"
   ]
  },
  {
   "cell_type": "code",
   "execution_count": 18,
   "id": "3ef7c6c1",
   "metadata": {
    "execution": {
     "iopub.execute_input": "2024-12-30T15:22:37.068924Z",
     "iopub.status.busy": "2024-12-30T15:22:37.068283Z",
     "iopub.status.idle": "2024-12-30T15:22:37.360002Z",
     "shell.execute_reply": "2024-12-30T15:22:37.359097Z"
    },
    "papermill": {
     "duration": 0.303396,
     "end_time": "2024-12-30T15:22:37.361832",
     "exception": false,
     "start_time": "2024-12-30T15:22:37.058436",
     "status": "completed"
    },
    "tags": []
   },
   "outputs": [
    {
     "data": {
      "text/plain": [
       "count\n",
       "1        720797.0\n",
       "2       1155398.0\n",
       "3       1264602.0\n",
       "4       1489848.0\n",
       "5       2094605.0\n",
       "          ...    \n",
       "3009      84252.0\n",
       "3122      71806.0\n",
       "3396      67920.0\n",
       "3444      82656.0\n",
       "3735      93375.0\n",
       "Name: total, Length: 917, dtype: float64"
      ]
     },
     "execution_count": 18,
     "metadata": {},
     "output_type": "execute_result"
    }
   ],
   "source": [
    "#Check Na credit score and premium amount\n",
    "# There a lot of missing score with a lot of premium no different with having creditscor\n",
    "df_train[df_train['Credit Score'].notna()].groupby('Premium Amount').size().reset_index(name='count').assign(total=lambda x:x['Premium Amount']*x['count']).groupby('count')['total'].sum()"
   ]
  },
  {
   "cell_type": "code",
   "execution_count": 19,
   "id": "710a2b85",
   "metadata": {
    "execution": {
     "iopub.execute_input": "2024-12-30T15:22:37.382330Z",
     "iopub.status.busy": "2024-12-30T15:22:37.381572Z",
     "iopub.status.idle": "2024-12-30T15:22:37.385242Z",
     "shell.execute_reply": "2024-12-30T15:22:37.384533Z"
    },
    "papermill": {
     "duration": 0.015366,
     "end_time": "2024-12-30T15:22:37.386842",
     "exception": false,
     "start_time": "2024-12-30T15:22:37.371476",
     "status": "completed"
    },
    "tags": []
   },
   "outputs": [],
   "source": [
    "#from feature_engine.transformation import YeoJohnsonTransformer\n",
    "\n",
    "#tf = YeoJohnsonTransformer(variables = ['Annual Income', 'Label'])\n",
    "\n",
    "#tf.fit(df_train.dropna())\n",
    "#tf.lambda_dict_"
   ]
  },
  {
   "cell_type": "code",
   "execution_count": 20,
   "id": "c2071ae2",
   "metadata": {
    "execution": {
     "iopub.execute_input": "2024-12-30T15:22:37.406919Z",
     "iopub.status.busy": "2024-12-30T15:22:37.406347Z",
     "iopub.status.idle": "2024-12-30T15:22:37.409918Z",
     "shell.execute_reply": "2024-12-30T15:22:37.409100Z"
    },
    "papermill": {
     "duration": 0.015406,
     "end_time": "2024-12-30T15:22:37.411627",
     "exception": false,
     "start_time": "2024-12-30T15:22:37.396221",
     "status": "completed"
    },
    "tags": []
   },
   "outputs": [],
   "source": [
    "#df_train_tf=tf.transform(df_train.dropna())"
   ]
  },
  {
   "cell_type": "code",
   "execution_count": 21,
   "id": "c87c85b1",
   "metadata": {
    "execution": {
     "iopub.execute_input": "2024-12-30T15:22:37.433371Z",
     "iopub.status.busy": "2024-12-30T15:22:37.433078Z",
     "iopub.status.idle": "2024-12-30T15:22:37.495114Z",
     "shell.execute_reply": "2024-12-30T15:22:37.493945Z"
    },
    "papermill": {
     "duration": 0.074624,
     "end_time": "2024-12-30T15:22:37.497086",
     "exception": false,
     "start_time": "2024-12-30T15:22:37.422462",
     "status": "completed"
    },
    "tags": []
   },
   "outputs": [
    {
     "data": {
      "text/html": [
       "<div>\n",
       "<style scoped>\n",
       "    .dataframe tbody tr th:only-of-type {\n",
       "        vertical-align: middle;\n",
       "    }\n",
       "\n",
       "    .dataframe tbody tr th {\n",
       "        vertical-align: top;\n",
       "    }\n",
       "\n",
       "    .dataframe thead th {\n",
       "        text-align: right;\n",
       "    }\n",
       "</style>\n",
       "<table border=\"1\" class=\"dataframe\">\n",
       "  <thead>\n",
       "    <tr style=\"text-align: right;\">\n",
       "      <th></th>\n",
       "      <th>Annual Income</th>\n",
       "      <th>Credit Score</th>\n",
       "    </tr>\n",
       "  </thead>\n",
       "  <tbody>\n",
       "    <tr>\n",
       "      <th>470076</th>\n",
       "      <td>1.098612</td>\n",
       "      <td>332.0</td>\n",
       "    </tr>\n",
       "    <tr>\n",
       "      <th>145069</th>\n",
       "      <td>2.079442</td>\n",
       "      <td>462.0</td>\n",
       "    </tr>\n",
       "    <tr>\n",
       "      <th>120276</th>\n",
       "      <td>2.484907</td>\n",
       "      <td>479.0</td>\n",
       "    </tr>\n",
       "    <tr>\n",
       "      <th>1187366</th>\n",
       "      <td>2.708050</td>\n",
       "      <td>682.0</td>\n",
       "    </tr>\n",
       "    <tr>\n",
       "      <th>1105989</th>\n",
       "      <td>2.833213</td>\n",
       "      <td>466.0</td>\n",
       "    </tr>\n",
       "  </tbody>\n",
       "</table>\n",
       "</div>"
      ],
      "text/plain": [
       "         Annual Income  Credit Score\n",
       "470076        1.098612         332.0\n",
       "145069        2.079442         462.0\n",
       "120276        2.484907         479.0\n",
       "1187366       2.708050         682.0\n",
       "1105989       2.833213         466.0"
      ]
     },
     "execution_count": 21,
     "metadata": {},
     "output_type": "execute_result"
    }
   ],
   "source": [
    "df_train[df_train['Premium Amount']<120].loc[:,['Annual Income','Credit Score']].sort_values(ascending=True,by=['Annual Income']).head()"
   ]
  },
  {
   "cell_type": "code",
   "execution_count": 22,
   "id": "f2884cdd",
   "metadata": {
    "execution": {
     "iopub.execute_input": "2024-12-30T15:22:37.518575Z",
     "iopub.status.busy": "2024-12-30T15:22:37.518278Z",
     "iopub.status.idle": "2024-12-30T15:22:37.575524Z",
     "shell.execute_reply": "2024-12-30T15:22:37.574676Z"
    },
    "papermill": {
     "duration": 0.069489,
     "end_time": "2024-12-30T15:22:37.577252",
     "exception": false,
     "start_time": "2024-12-30T15:22:37.507763",
     "status": "completed"
    },
    "tags": []
   },
   "outputs": [
    {
     "data": {
      "text/plain": [
       "count    91651.000000\n",
       "mean       614.447764\n",
       "std        140.831463\n",
       "min        300.000000\n",
       "25%        505.000000\n",
       "50%        623.000000\n",
       "75%        733.000000\n",
       "max        849.000000\n",
       "Name: Credit Score, dtype: float64"
      ]
     },
     "execution_count": 22,
     "metadata": {},
     "output_type": "execute_result"
    }
   ],
   "source": [
    "df_train[df_train['Premium Amount']<120]['Credit Score'].describe()"
   ]
  },
  {
   "cell_type": "code",
   "execution_count": 23,
   "id": "17b9250a",
   "metadata": {
    "execution": {
     "iopub.execute_input": "2024-12-30T15:22:37.597200Z",
     "iopub.status.busy": "2024-12-30T15:22:37.596691Z",
     "iopub.status.idle": "2024-12-30T15:22:37.667858Z",
     "shell.execute_reply": "2024-12-30T15:22:37.667014Z"
    },
    "papermill": {
     "duration": 0.082933,
     "end_time": "2024-12-30T15:22:37.669682",
     "exception": false,
     "start_time": "2024-12-30T15:22:37.586749",
     "status": "completed"
    },
    "tags": []
   },
   "outputs": [
    {
     "data": {
      "text/plain": [
       "count    1.062118e+06\n",
       "mean     5.929244e+02\n",
       "std      1.499819e+02\n",
       "min      3.000000e+02\n",
       "25%      4.680000e+02\n",
       "50%      5.950000e+02\n",
       "75%      7.210000e+02\n",
       "max      8.490000e+02\n",
       "Name: Credit Score, dtype: float64"
      ]
     },
     "execution_count": 23,
     "metadata": {},
     "output_type": "execute_result"
    }
   ],
   "source": [
    "df_train['Credit Score'].describe()"
   ]
  },
  {
   "cell_type": "code",
   "execution_count": 24,
   "id": "386bfacb",
   "metadata": {
    "execution": {
     "iopub.execute_input": "2024-12-30T15:22:37.691458Z",
     "iopub.status.busy": "2024-12-30T15:22:37.691158Z",
     "iopub.status.idle": "2024-12-30T15:22:38.322829Z",
     "shell.execute_reply": "2024-12-30T15:22:38.321881Z"
    },
    "papermill": {
     "duration": 0.644352,
     "end_time": "2024-12-30T15:22:38.324872",
     "exception": false,
     "start_time": "2024-12-30T15:22:37.680520",
     "status": "completed"
    },
    "tags": []
   },
   "outputs": [
    {
     "name": "stdout",
     "output_type": "stream",
     "text": [
      "<class 'pandas.core.frame.DataFrame'>\n",
      "RangeIndex: 1200000 entries, 0 to 1199999\n",
      "Data columns (total 23 columns):\n",
      " #   Column                Non-Null Count    Dtype  \n",
      "---  ------                --------------    -----  \n",
      " 0   id                    1200000 non-null  int64  \n",
      " 1   Age                   1181295 non-null  float64\n",
      " 2   Gender                1200000 non-null  object \n",
      " 3   Annual Income         1155051 non-null  float64\n",
      " 4   Marital Status        1181471 non-null  object \n",
      " 5   Number of Dependents  1090328 non-null  float64\n",
      " 6   Education Level       1200000 non-null  object \n",
      " 7   Occupation            841925 non-null   object \n",
      " 8   Health Score          1125924 non-null  float64\n",
      " 9   Location              1200000 non-null  object \n",
      " 10  Policy Type           1200000 non-null  object \n",
      " 11  Previous Claims       835971 non-null   float64\n",
      " 12  Vehicle Age           1199994 non-null  float64\n",
      " 13  Credit Score          1062118 non-null  float64\n",
      " 14  Insurance Duration    1199999 non-null  float64\n",
      " 15  Policy Start Date     1200000 non-null  object \n",
      " 16  Customer Feedback     1122176 non-null  object \n",
      " 17  Smoking Status        1200000 non-null  object \n",
      " 18  Exercise Frequency    1200000 non-null  object \n",
      " 19  Property Type         1200000 non-null  object \n",
      " 20  Premium Amount        1200000 non-null  float64\n",
      " 21  StartY                1200000 non-null  object \n",
      " 22  Label                 1200000 non-null  float64\n",
      "dtypes: float64(10), int64(1), object(12)\n",
      "memory usage: 210.6+ MB\n"
     ]
    }
   ],
   "source": [
    "df_train.info()"
   ]
  },
  {
   "cell_type": "code",
   "execution_count": 25,
   "id": "94ed55c4",
   "metadata": {
    "execution": {
     "iopub.execute_input": "2024-12-30T15:22:38.346119Z",
     "iopub.status.busy": "2024-12-30T15:22:38.345471Z",
     "iopub.status.idle": "2024-12-30T15:22:38.348967Z",
     "shell.execute_reply": "2024-12-30T15:22:38.348313Z"
    },
    "papermill": {
     "duration": 0.01542,
     "end_time": "2024-12-30T15:22:38.350527",
     "exception": false,
     "start_time": "2024-12-30T15:22:38.335107",
     "status": "completed"
    },
    "tags": []
   },
   "outputs": [],
   "source": [
    "# change fillna from mean to mode to get less effect from outlier\n",
    "# Ana=df_train['Age'].mode()[0]\n",
    "# Aina=df_train['Annual Income'].mode()[0]\n",
    "# Ndna=0\n",
    "# Hsna=df_train['Health Score'].mode()[0]\n",
    "# Pcna=0\n",
    "# Vana=0 #just impute with 0\n",
    "# Csna=df_train['Credit Score'].mode()[0]\n",
    "# Idna=0"
   ]
  },
  {
   "cell_type": "code",
   "execution_count": 26,
   "id": "8677c2e7",
   "metadata": {
    "execution": {
     "iopub.execute_input": "2024-12-30T15:22:38.370411Z",
     "iopub.status.busy": "2024-12-30T15:22:38.370176Z",
     "iopub.status.idle": "2024-12-30T15:22:38.374575Z",
     "shell.execute_reply": "2024-12-30T15:22:38.373614Z"
    },
    "papermill": {
     "duration": 0.016136,
     "end_time": "2024-12-30T15:22:38.376227",
     "exception": false,
     "start_time": "2024-12-30T15:22:38.360091",
     "status": "completed"
    },
    "tags": []
   },
   "outputs": [],
   "source": [
    "# df_train['Age'].fillna(Ana,inplace=True)\n",
    "# df_train['Annual Income'].fillna(Aina,inplace=True)\n",
    "# df_train['Number of Dependents'].fillna(Ndna,inplace=True)\n",
    "# df_train['Health Score'].fillna(Hsna,inplace=True)\n",
    "# df_train['Previous Claims'].fillna(Pcna,inplace=True)\n",
    "# df_train['Vehicle Age'].fillna(Vana,inplace=True)\n",
    "# df_train['Credit Score'].fillna(Csna,inplace=True)\n",
    "# df_train['Insurance Duration'].fillna(Idna,inplace=True)\n",
    "\n",
    "\n",
    "#Ana=df_test['Age'].mean()\n",
    "#Aina=df_test['Annual Income'].mean()\n",
    "#Ndna=0\n",
    "#Hsna=df_test['Health Score'].mean()\n",
    "#Pcna=0\n",
    "#Vana=0 #just impute with 0\n",
    "#Csna=df_test['Credit Score'].mean()\n",
    "#Idna=0\n",
    "\n",
    "# df_test['Age'].fillna(Ana,inplace=True)\n",
    "# df_test['Annual Income'].fillna(Aina,inplace=True)\n",
    "# df_test['Number of Dependents'].fillna(Ndna,inplace=True)\n",
    "# df_test['Health Score'].fillna(Hsna,inplace=True)\n",
    "# df_test['Previous Claims'].fillna(Pcna,inplace=True)\n",
    "# df_test['Vehicle Age'].fillna(Vana,inplace=True)\n",
    "# df_test['Credit Score'].fillna(Csna,inplace=True)\n",
    "# df_test['Insurance Duration'].fillna(Idna,inplace=True)\n",
    "\n"
   ]
  },
  {
   "cell_type": "code",
   "execution_count": 27,
   "id": "4f07d35f",
   "metadata": {
    "execution": {
     "iopub.execute_input": "2024-12-30T15:22:38.396270Z",
     "iopub.status.busy": "2024-12-30T15:22:38.396001Z",
     "iopub.status.idle": "2024-12-30T15:22:38.399657Z",
     "shell.execute_reply": "2024-12-30T15:22:38.398968Z"
    },
    "papermill": {
     "duration": 0.015452,
     "end_time": "2024-12-30T15:22:38.401153",
     "exception": false,
     "start_time": "2024-12-30T15:22:38.385701",
     "status": "completed"
    },
    "tags": []
   },
   "outputs": [],
   "source": [
    "# import numpy as np\n",
    "# from catboost import CatBoostRegressor\n",
    "# # Initialize data\n",
    "\n",
    "# train_data = [[1., 4., 5., np.nan],\n",
    "#               [4., 5., 6., 7.],\n",
    "#               [30., 40., 50., 60.]]\n",
    "\n",
    "# eval_data = [[2., 4., 6., 8.],\n",
    "#              [1., 4., 50., 60.]]\n",
    "\n",
    "# train_labels = [10., 20., 30.]\n",
    "# # Initialize CatBoostRegressor\n",
    "# model = CatBoostRegressor(iterations=2,\n",
    "#                           learning_rate=1,\n",
    "#                           depth=2)\n",
    "# # Fit model\n",
    "# model.fit(train_data, train_labels)\n",
    "# # Get predictions\n",
    "# preds = model.predict(eval_data)"
   ]
  },
  {
   "cell_type": "code",
   "execution_count": 28,
   "id": "193e093c",
   "metadata": {
    "execution": {
     "iopub.execute_input": "2024-12-30T15:22:38.421170Z",
     "iopub.status.busy": "2024-12-30T15:22:38.420915Z",
     "iopub.status.idle": "2024-12-30T15:22:38.448495Z",
     "shell.execute_reply": "2024-12-30T15:22:38.447693Z"
    },
    "papermill": {
     "duration": 0.039556,
     "end_time": "2024-12-30T15:22:38.450238",
     "exception": false,
     "start_time": "2024-12-30T15:22:38.410682",
     "status": "completed"
    },
    "tags": []
   },
   "outputs": [
    {
     "data": {
      "text/plain": [
       "Index([     83,     309,     310,     332,     375,     385,     403,     538,\n",
       "           553,     570,\n",
       "       ...\n",
       "       1199635, 1199653, 1199690, 1199701, 1199704, 1199752, 1199772, 1199784,\n",
       "       1199893, 1199897],\n",
       "      dtype='int64', length=18705)"
      ]
     },
     "execution_count": 28,
     "metadata": {},
     "output_type": "execute_result"
    }
   ],
   "source": [
    "df_train[df_train['Age'].isna()].index"
   ]
  },
  {
   "cell_type": "code",
   "execution_count": 29,
   "id": "36f166cd",
   "metadata": {
    "execution": {
     "iopub.execute_input": "2024-12-30T15:22:38.470929Z",
     "iopub.status.busy": "2024-12-30T15:22:38.470654Z",
     "iopub.status.idle": "2024-12-30T15:22:38.765597Z",
     "shell.execute_reply": "2024-12-30T15:22:38.764952Z"
    },
    "papermill": {
     "duration": 0.307305,
     "end_time": "2024-12-30T15:22:38.767529",
     "exception": false,
     "start_time": "2024-12-30T15:22:38.460224",
     "status": "completed"
    },
    "tags": []
   },
   "outputs": [
    {
     "name": "stderr",
     "output_type": "stream",
     "text": [
      "/tmp/ipykernel_23/1312047004.py:1: FutureWarning: A value is trying to be set on a copy of a DataFrame or Series through chained assignment using an inplace method.\n",
      "The behavior will change in pandas 3.0. This inplace method will never work because the intermediate object on which we are setting values always behaves as a copy.\n",
      "\n",
      "For example, when doing 'df[col].method(value, inplace=True)', try using 'df.method({col: value}, inplace=True)' or df[col] = df[col].method(value) instead, to perform the operation inplace on the original object.\n",
      "\n",
      "\n",
      "  df_train['Occupation'].fillna('Unknown',inplace=True)\n",
      "/tmp/ipykernel_23/1312047004.py:2: FutureWarning: A value is trying to be set on a copy of a DataFrame or Series through chained assignment using an inplace method.\n",
      "The behavior will change in pandas 3.0. This inplace method will never work because the intermediate object on which we are setting values always behaves as a copy.\n",
      "\n",
      "For example, when doing 'df[col].method(value, inplace=True)', try using 'df.method({col: value}, inplace=True)' or df[col] = df[col].method(value) instead, to perform the operation inplace on the original object.\n",
      "\n",
      "\n",
      "  df_train['Marital Status'].fillna('Unknown',inplace=True)\n",
      "/tmp/ipykernel_23/1312047004.py:3: FutureWarning: A value is trying to be set on a copy of a DataFrame or Series through chained assignment using an inplace method.\n",
      "The behavior will change in pandas 3.0. This inplace method will never work because the intermediate object on which we are setting values always behaves as a copy.\n",
      "\n",
      "For example, when doing 'df[col].method(value, inplace=True)', try using 'df.method({col: value}, inplace=True)' or df[col] = df[col].method(value) instead, to perform the operation inplace on the original object.\n",
      "\n",
      "\n",
      "  df_train['Customer Feedback'].fillna('Unknown',inplace=True)\n",
      "/tmp/ipykernel_23/1312047004.py:5: FutureWarning: A value is trying to be set on a copy of a DataFrame or Series through chained assignment using an inplace method.\n",
      "The behavior will change in pandas 3.0. This inplace method will never work because the intermediate object on which we are setting values always behaves as a copy.\n",
      "\n",
      "For example, when doing 'df[col].method(value, inplace=True)', try using 'df.method({col: value}, inplace=True)' or df[col] = df[col].method(value) instead, to perform the operation inplace on the original object.\n",
      "\n",
      "\n",
      "  df_test['Occupation'].fillna('Unknown',inplace=True)\n",
      "/tmp/ipykernel_23/1312047004.py:6: FutureWarning: A value is trying to be set on a copy of a DataFrame or Series through chained assignment using an inplace method.\n",
      "The behavior will change in pandas 3.0. This inplace method will never work because the intermediate object on which we are setting values always behaves as a copy.\n",
      "\n",
      "For example, when doing 'df[col].method(value, inplace=True)', try using 'df.method({col: value}, inplace=True)' or df[col] = df[col].method(value) instead, to perform the operation inplace on the original object.\n",
      "\n",
      "\n",
      "  df_test['Marital Status'].fillna('Unknown',inplace=True)\n",
      "/tmp/ipykernel_23/1312047004.py:7: FutureWarning: A value is trying to be set on a copy of a DataFrame or Series through chained assignment using an inplace method.\n",
      "The behavior will change in pandas 3.0. This inplace method will never work because the intermediate object on which we are setting values always behaves as a copy.\n",
      "\n",
      "For example, when doing 'df[col].method(value, inplace=True)', try using 'df.method({col: value}, inplace=True)' or df[col] = df[col].method(value) instead, to perform the operation inplace on the original object.\n",
      "\n",
      "\n",
      "  df_test['Customer Feedback'].fillna('Unknown',inplace=True)\n"
     ]
    }
   ],
   "source": [
    "df_train['Occupation'].fillna('Unknown',inplace=True)\n",
    "df_train['Marital Status'].fillna('Unknown',inplace=True)\n",
    "df_train['Customer Feedback'].fillna('Unknown',inplace=True)\n",
    "\n",
    "df_test['Occupation'].fillna('Unknown',inplace=True)\n",
    "df_test['Marital Status'].fillna('Unknown',inplace=True)\n",
    "df_test['Customer Feedback'].fillna('Unknown',inplace=True)\n"
   ]
  },
  {
   "cell_type": "code",
   "execution_count": 30,
   "id": "40995323",
   "metadata": {
    "execution": {
     "iopub.execute_input": "2024-12-30T15:22:38.788672Z",
     "iopub.status.busy": "2024-12-30T15:22:38.788403Z",
     "iopub.status.idle": "2024-12-30T15:22:38.793644Z",
     "shell.execute_reply": "2024-12-30T15:22:38.792837Z"
    },
    "papermill": {
     "duration": 0.017407,
     "end_time": "2024-12-30T15:22:38.795304",
     "exception": false,
     "start_time": "2024-12-30T15:22:38.777897",
     "status": "completed"
    },
    "tags": []
   },
   "outputs": [
    {
     "data": {
      "text/plain": [
       "['Gender',\n",
       " 'Marital Status',\n",
       " 'Education Level',\n",
       " 'Occupation',\n",
       " 'Location',\n",
       " 'Policy Type',\n",
       " 'Policy Start Date',\n",
       " 'Customer Feedback',\n",
       " 'Smoking Status',\n",
       " 'Exercise Frequency',\n",
       " 'Property Type',\n",
       " 'StartY']"
      ]
     },
     "execution_count": 30,
     "metadata": {},
     "output_type": "execute_result"
    }
   ],
   "source": [
    "#cat_features=numeric_columns.drop(['id','Age','Annual Income','Credit Score','Health Score','Premium Amount']).union(object_columns)\n",
    "cat_features=object_columns\n",
    "cat_features.to_list()\n"
   ]
  },
  {
   "cell_type": "code",
   "execution_count": 31,
   "id": "92fba878",
   "metadata": {
    "execution": {
     "iopub.execute_input": "2024-12-30T15:22:38.815760Z",
     "iopub.status.busy": "2024-12-30T15:22:38.815283Z",
     "iopub.status.idle": "2024-12-30T15:22:38.820851Z",
     "shell.execute_reply": "2024-12-30T15:22:38.820113Z"
    },
    "papermill": {
     "duration": 0.01749,
     "end_time": "2024-12-30T15:22:38.822448",
     "exception": false,
     "start_time": "2024-12-30T15:22:38.804958",
     "status": "completed"
    },
    "tags": []
   },
   "outputs": [],
   "source": [
    "#change cat columns datatype to astype int\n",
    "df_train[cat_features.intersection(numeric_columns)]=df_train[cat_features.intersection(numeric_columns)].astype('Int64')\n",
    "\n",
    "#text_features = cat_features.remove('Vehicle Age')"
   ]
  },
  {
   "cell_type": "code",
   "execution_count": 32,
   "id": "4255f9d8",
   "metadata": {
    "execution": {
     "iopub.execute_input": "2024-12-30T15:22:38.842905Z",
     "iopub.status.busy": "2024-12-30T15:22:38.842650Z",
     "iopub.status.idle": "2024-12-30T15:22:38.846980Z",
     "shell.execute_reply": "2024-12-30T15:22:38.846334Z"
    },
    "papermill": {
     "duration": 0.016315,
     "end_time": "2024-12-30T15:22:38.848468",
     "exception": false,
     "start_time": "2024-12-30T15:22:38.832153",
     "status": "completed"
    },
    "tags": []
   },
   "outputs": [],
   "source": [
    "#change cat columns datatype to int astype\n",
    "df_test[cat_features.intersection(numeric_columns)]=df_test[cat_features.intersection(numeric_columns)].astype('Int64')\n",
    "\n",
    "#text_features = cat_features.remove('Vehicle Age')"
   ]
  },
  {
   "cell_type": "code",
   "execution_count": 33,
   "id": "65e6522f",
   "metadata": {
    "execution": {
     "iopub.execute_input": "2024-12-30T15:22:38.869011Z",
     "iopub.status.busy": "2024-12-30T15:22:38.868749Z",
     "iopub.status.idle": "2024-12-30T15:22:38.872040Z",
     "shell.execute_reply": "2024-12-30T15:22:38.871299Z"
    },
    "papermill": {
     "duration": 0.015276,
     "end_time": "2024-12-30T15:22:38.873481",
     "exception": false,
     "start_time": "2024-12-30T15:22:38.858205",
     "status": "completed"
    },
    "tags": []
   },
   "outputs": [],
   "source": [
    "#custom loss function but will not be able to optimization with it so better transform target instead\n",
    "#def rmsle_loss(y_true, y_pred):\n",
    "#    return np.sqrt(np.mean((np.log1p(y_pred) - np.log1p(y_true)) ** 2))\n",
    "#Also use exp to transform the prediction\n",
    "#predictions = np.expm1(model.predict(X_test))"
   ]
  },
  {
   "cell_type": "code",
   "execution_count": 34,
   "id": "5e1d317b",
   "metadata": {
    "execution": {
     "iopub.execute_input": "2024-12-30T15:22:38.894496Z",
     "iopub.status.busy": "2024-12-30T15:22:38.894266Z",
     "iopub.status.idle": "2024-12-30T15:22:38.897387Z",
     "shell.execute_reply": "2024-12-30T15:22:38.896725Z"
    },
    "papermill": {
     "duration": 0.015177,
     "end_time": "2024-12-30T15:22:38.898771",
     "exception": false,
     "start_time": "2024-12-30T15:22:38.883594",
     "status": "completed"
    },
    "tags": []
   },
   "outputs": [],
   "source": [
    "#df_train.drop(['id','Annual Income','Customer Feedback','Exercise Frequency','Premium Amount','group Age','Label'],axis=1).columns"
   ]
  },
  {
   "cell_type": "code",
   "execution_count": 35,
   "id": "9b5c757e",
   "metadata": {
    "execution": {
     "iopub.execute_input": "2024-12-30T15:22:38.920219Z",
     "iopub.status.busy": "2024-12-30T15:22:38.919988Z",
     "iopub.status.idle": "2024-12-30T15:22:38.923037Z",
     "shell.execute_reply": "2024-12-30T15:22:38.922354Z"
    },
    "papermill": {
     "duration": 0.015648,
     "end_time": "2024-12-30T15:22:38.924626",
     "exception": false,
     "start_time": "2024-12-30T15:22:38.908978",
     "status": "completed"
    },
    "tags": []
   },
   "outputs": [],
   "source": [
    "#df_train2 = pd.read_csv('/kaggle/input/playground-series-s4e12/train.csv')\n",
    "#df_train2=df_train2.dropna()\n"
   ]
  },
  {
   "cell_type": "code",
   "execution_count": 36,
   "id": "b7e604d4",
   "metadata": {
    "execution": {
     "iopub.execute_input": "2024-12-30T15:22:38.947071Z",
     "iopub.status.busy": "2024-12-30T15:22:38.946764Z",
     "iopub.status.idle": "2024-12-30T15:22:38.950494Z",
     "shell.execute_reply": "2024-12-30T15:22:38.949766Z"
    },
    "papermill": {
     "duration": 0.017008,
     "end_time": "2024-12-30T15:22:38.952257",
     "exception": false,
     "start_time": "2024-12-30T15:22:38.935249",
     "status": "completed"
    },
    "tags": []
   },
   "outputs": [],
   "source": [
    "#nonadata = pd.concat([df_train2['Credit Score'],df_train2['Health Score']],axis=1)\n",
    "#nonadata.head()"
   ]
  },
  {
   "cell_type": "code",
   "execution_count": 37,
   "id": "37267a49",
   "metadata": {
    "execution": {
     "iopub.execute_input": "2024-12-30T15:22:38.975312Z",
     "iopub.status.busy": "2024-12-30T15:22:38.975053Z",
     "iopub.status.idle": "2024-12-30T15:22:38.978508Z",
     "shell.execute_reply": "2024-12-30T15:22:38.977761Z"
    },
    "papermill": {
     "duration": 0.017401,
     "end_time": "2024-12-30T15:22:38.980125",
     "exception": false,
     "start_time": "2024-12-30T15:22:38.962724",
     "status": "completed"
    },
    "tags": []
   },
   "outputs": [],
   "source": [
    "#nonadata.describe()\n",
    "#from sklearn.preprocessing import StandardScaler, RobustScaler\n",
    "\n",
    "#standard_scaler=StandardScaler()\n",
    "#scalenonadata=standard_scaler.fit_transform(nonadata)\n",
    "\n",
    "#robust_scaler=RobustScaler()\n",
    "#scalenonadata=robust_scaler.fit_transform(nonadata)"
   ]
  },
  {
   "cell_type": "code",
   "execution_count": 38,
   "id": "34de7502",
   "metadata": {
    "execution": {
     "iopub.execute_input": "2024-12-30T15:22:39.002058Z",
     "iopub.status.busy": "2024-12-30T15:22:39.001808Z",
     "iopub.status.idle": "2024-12-30T15:22:39.005031Z",
     "shell.execute_reply": "2024-12-30T15:22:39.004263Z"
    },
    "papermill": {
     "duration": 0.016106,
     "end_time": "2024-12-30T15:22:39.006686",
     "exception": false,
     "start_time": "2024-12-30T15:22:38.990580",
     "status": "completed"
    },
    "tags": []
   },
   "outputs": [],
   "source": [
    "#nonadata=pd.DataFrame(scalenonadata,columns=['Credit Score','Health Score'])"
   ]
  },
  {
   "cell_type": "code",
   "execution_count": 39,
   "id": "bc66c524",
   "metadata": {
    "execution": {
     "iopub.execute_input": "2024-12-30T15:22:39.027746Z",
     "iopub.status.busy": "2024-12-30T15:22:39.027289Z",
     "iopub.status.idle": "2024-12-30T15:22:39.030424Z",
     "shell.execute_reply": "2024-12-30T15:22:39.029818Z"
    },
    "papermill": {
     "duration": 0.015247,
     "end_time": "2024-12-30T15:22:39.031939",
     "exception": false,
     "start_time": "2024-12-30T15:22:39.016692",
     "status": "completed"
    },
    "tags": []
   },
   "outputs": [],
   "source": [
    "#df_train2['Label'] = np.log1p(df_train2['Premium Amount'])"
   ]
  },
  {
   "cell_type": "code",
   "execution_count": 40,
   "id": "7ad26eba",
   "metadata": {
    "execution": {
     "iopub.execute_input": "2024-12-30T15:22:39.053284Z",
     "iopub.status.busy": "2024-12-30T15:22:39.052829Z",
     "iopub.status.idle": "2024-12-30T15:22:39.208306Z",
     "shell.execute_reply": "2024-12-30T15:22:39.207615Z"
    },
    "papermill": {
     "duration": 0.168154,
     "end_time": "2024-12-30T15:22:39.210303",
     "exception": false,
     "start_time": "2024-12-30T15:22:39.042149",
     "status": "completed"
    },
    "tags": []
   },
   "outputs": [],
   "source": [
    "data = df_train.drop(['id','Premium Amount','Policy Start Date','Label'],axis=1) \n",
    "cat_features=cat_features.intersection(data.columns)\n",
    "cat_features=cat_features.difference(['Credit Score','Health Score','Annual Income'])\n",
    "#text_features=text_features.intersection(data.columns)"
   ]
  },
  {
   "cell_type": "code",
   "execution_count": 41,
   "id": "dcb5ffca",
   "metadata": {
    "execution": {
     "iopub.execute_input": "2024-12-30T15:22:39.233059Z",
     "iopub.status.busy": "2024-12-30T15:22:39.232540Z",
     "iopub.status.idle": "2024-12-30T15:22:39.237695Z",
     "shell.execute_reply": "2024-12-30T15:22:39.236929Z"
    },
    "papermill": {
     "duration": 0.01851,
     "end_time": "2024-12-30T15:22:39.239335",
     "exception": false,
     "start_time": "2024-12-30T15:22:39.220825",
     "status": "completed"
    },
    "tags": []
   },
   "outputs": [
    {
     "data": {
      "text/plain": [
       "Index(['Customer Feedback', 'Education Level', 'Exercise Frequency', 'Gender',\n",
       "       'Location', 'Marital Status', 'Occupation', 'Policy Type',\n",
       "       'Property Type', 'Smoking Status', 'StartY'],\n",
       "      dtype='object')"
      ]
     },
     "execution_count": 41,
     "metadata": {},
     "output_type": "execute_result"
    }
   ],
   "source": [
    "cat_features"
   ]
  },
  {
   "cell_type": "code",
   "execution_count": 42,
   "id": "586a8f28",
   "metadata": {
    "execution": {
     "iopub.execute_input": "2024-12-30T15:22:39.261190Z",
     "iopub.status.busy": "2024-12-30T15:22:39.260962Z",
     "iopub.status.idle": "2024-12-30T15:22:39.265982Z",
     "shell.execute_reply": "2024-12-30T15:22:39.265216Z"
    },
    "papermill": {
     "duration": 0.017825,
     "end_time": "2024-12-30T15:22:39.267495",
     "exception": false,
     "start_time": "2024-12-30T15:22:39.249670",
     "status": "completed"
    },
    "tags": []
   },
   "outputs": [
    {
     "data": {
      "text/plain": [
       "Index(['Age', 'Gender', 'Annual Income', 'Marital Status',\n",
       "       'Number of Dependents', 'Education Level', 'Occupation', 'Health Score',\n",
       "       'Location', 'Policy Type', 'Previous Claims', 'Vehicle Age',\n",
       "       'Credit Score', 'Insurance Duration', 'Customer Feedback',\n",
       "       'Smoking Status', 'Exercise Frequency', 'Property Type', 'StartY'],\n",
       "      dtype='object')"
      ]
     },
     "execution_count": 42,
     "metadata": {},
     "output_type": "execute_result"
    }
   ],
   "source": [
    "data.columns"
   ]
  },
  {
   "cell_type": "code",
   "execution_count": 43,
   "id": "60f1348b",
   "metadata": {
    "execution": {
     "iopub.execute_input": "2024-12-30T15:22:39.289300Z",
     "iopub.status.busy": "2024-12-30T15:22:39.289064Z",
     "iopub.status.idle": "2024-12-30T15:22:39.293949Z",
     "shell.execute_reply": "2024-12-30T15:22:39.293284Z"
    },
    "papermill": {
     "duration": 0.017374,
     "end_time": "2024-12-30T15:22:39.295383",
     "exception": false,
     "start_time": "2024-12-30T15:22:39.278009",
     "status": "completed"
    },
    "tags": []
   },
   "outputs": [
    {
     "data": {
      "text/plain": [
       "Index(['id', 'Age', 'Annual Income', 'Number of Dependents', 'Health Score',\n",
       "       'Previous Claims', 'Vehicle Age', 'Credit Score', 'Insurance Duration',\n",
       "       'Premium Amount'],\n",
       "      dtype='object')"
      ]
     },
     "execution_count": 43,
     "metadata": {},
     "output_type": "execute_result"
    }
   ],
   "source": [
    "numeric_columns"
   ]
  },
  {
   "cell_type": "code",
   "execution_count": 44,
   "id": "247a7ad2",
   "metadata": {
    "execution": {
     "iopub.execute_input": "2024-12-30T15:22:39.316883Z",
     "iopub.status.busy": "2024-12-30T15:22:39.316624Z",
     "iopub.status.idle": "2024-12-30T15:22:40.814301Z",
     "shell.execute_reply": "2024-12-30T15:22:40.813573Z"
    },
    "papermill": {
     "duration": 1.510714,
     "end_time": "2024-12-30T15:22:40.816234",
     "exception": false,
     "start_time": "2024-12-30T15:22:39.305520",
     "status": "completed"
    },
    "tags": []
   },
   "outputs": [],
   "source": [
    "df_train[cat_features]=df_train[cat_features].astype('category')\n",
    "df_test[cat_features]=df_test[cat_features].astype('category')"
   ]
  },
  {
   "cell_type": "code",
   "execution_count": 45,
   "id": "2ba8b49c",
   "metadata": {
    "execution": {
     "iopub.execute_input": "2024-12-30T15:22:40.841264Z",
     "iopub.status.busy": "2024-12-30T15:22:40.840956Z",
     "iopub.status.idle": "2024-12-30T15:22:40.939853Z",
     "shell.execute_reply": "2024-12-30T15:22:40.938674Z"
    },
    "papermill": {
     "duration": 0.113225,
     "end_time": "2024-12-30T15:22:40.941852",
     "exception": false,
     "start_time": "2024-12-30T15:22:40.828627",
     "status": "completed"
    },
    "tags": []
   },
   "outputs": [
    {
     "name": "stdout",
     "output_type": "stream",
     "text": [
      "<class 'pandas.core.frame.DataFrame'>\n",
      "RangeIndex: 1200000 entries, 0 to 1199999\n",
      "Data columns (total 23 columns):\n",
      " #   Column                Non-Null Count    Dtype   \n",
      "---  ------                --------------    -----   \n",
      " 0   id                    1200000 non-null  int64   \n",
      " 1   Age                   1181295 non-null  float64 \n",
      " 2   Gender                1200000 non-null  category\n",
      " 3   Annual Income         1155051 non-null  float64 \n",
      " 4   Marital Status        1200000 non-null  category\n",
      " 5   Number of Dependents  1090328 non-null  float64 \n",
      " 6   Education Level       1200000 non-null  category\n",
      " 7   Occupation            1200000 non-null  category\n",
      " 8   Health Score          1125924 non-null  float64 \n",
      " 9   Location              1200000 non-null  category\n",
      " 10  Policy Type           1200000 non-null  category\n",
      " 11  Previous Claims       835971 non-null   float64 \n",
      " 12  Vehicle Age           1199994 non-null  float64 \n",
      " 13  Credit Score          1062118 non-null  float64 \n",
      " 14  Insurance Duration    1199999 non-null  float64 \n",
      " 15  Policy Start Date     1200000 non-null  object  \n",
      " 16  Customer Feedback     1200000 non-null  category\n",
      " 17  Smoking Status        1200000 non-null  category\n",
      " 18  Exercise Frequency    1200000 non-null  category\n",
      " 19  Property Type         1200000 non-null  category\n",
      " 20  Premium Amount        1200000 non-null  float64 \n",
      " 21  StartY                1200000 non-null  category\n",
      " 22  Label                 1200000 non-null  float64 \n",
      "dtypes: category(11), float64(10), int64(1), object(1)\n",
      "memory usage: 122.5+ MB\n"
     ]
    }
   ],
   "source": [
    "df_train.info()"
   ]
  },
  {
   "cell_type": "code",
   "execution_count": 46,
   "id": "ceba3700",
   "metadata": {
    "execution": {
     "iopub.execute_input": "2024-12-30T15:22:40.966885Z",
     "iopub.status.busy": "2024-12-30T15:22:40.966553Z",
     "iopub.status.idle": "2024-12-30T15:22:40.973026Z",
     "shell.execute_reply": "2024-12-30T15:22:40.972211Z"
    },
    "papermill": {
     "duration": 0.019992,
     "end_time": "2024-12-30T15:22:40.974659",
     "exception": false,
     "start_time": "2024-12-30T15:22:40.954667",
     "status": "completed"
    },
    "tags": []
   },
   "outputs": [
    {
     "data": {
      "text/plain": [
       "0    372.0\n",
       "1    694.0\n",
       "2      NaN\n",
       "3    367.0\n",
       "4    598.0\n",
       "Name: Credit Score, dtype: float64"
      ]
     },
     "execution_count": 46,
     "metadata": {},
     "output_type": "execute_result"
    }
   ],
   "source": [
    "df_train['Credit Score'].head()"
   ]
  },
  {
   "cell_type": "code",
   "execution_count": 47,
   "id": "d868db81",
   "metadata": {
    "execution": {
     "iopub.execute_input": "2024-12-30T15:22:40.997593Z",
     "iopub.status.busy": "2024-12-30T15:22:40.997343Z",
     "iopub.status.idle": "2024-12-30T15:22:45.821023Z",
     "shell.execute_reply": "2024-12-30T15:22:45.820068Z"
    },
    "papermill": {
     "duration": 4.837088,
     "end_time": "2024-12-30T15:22:45.823092",
     "exception": false,
     "start_time": "2024-12-30T15:22:40.986004",
     "status": "completed"
    },
    "tags": []
   },
   "outputs": [],
   "source": [
    "pt=PowerTransformer(method='yeo-johnson',copy=False)\n",
    "pt_columns=df_train.select_dtypes(include=['float64']).drop(['Label'],axis=1).columns\n",
    "df_train[pt_columns]=pt.fit_transform(df_train[pt_columns])\n"
   ]
  },
  {
   "cell_type": "code",
   "execution_count": 48,
   "id": "8c4c35cc",
   "metadata": {
    "execution": {
     "iopub.execute_input": "2024-12-30T15:22:45.848195Z",
     "iopub.status.busy": "2024-12-30T15:22:45.847897Z",
     "iopub.status.idle": "2024-12-30T15:22:46.272553Z",
     "shell.execute_reply": "2024-12-30T15:22:46.271833Z"
    },
    "papermill": {
     "duration": 0.439603,
     "end_time": "2024-12-30T15:22:46.274482",
     "exception": false,
     "start_time": "2024-12-30T15:22:45.834879",
     "status": "completed"
    },
    "tags": []
   },
   "outputs": [],
   "source": [
    "from catboost import *\n",
    "\n",
    "X_train,x_val,Y_train,y_val = train_test_split(df_train.drop(['id','Premium Amount','Policy Start Date','Label'],axis=1),df_train['Label'],test_size=0.2,random_state=11)\n",
    "train_pool=Pool(data=X_train,\n",
    "                label=Y_train,\n",
    "                cat_features=cat_features.to_list())\n",
    "val_pool=Pool(data=x_val,\n",
    "               label=y_val,\n",
    "               cat_features=cat_features.to_list())\n",
    "X_test = df_test.drop(['id','Policy Start Date'],axis=1)\n"
   ]
  },
  {
   "cell_type": "code",
   "execution_count": 49,
   "id": "b83e29d2",
   "metadata": {
    "execution": {
     "iopub.execute_input": "2024-12-30T15:22:46.298234Z",
     "iopub.status.busy": "2024-12-30T15:22:46.297380Z",
     "iopub.status.idle": "2024-12-30T15:22:46.352826Z",
     "shell.execute_reply": "2024-12-30T15:22:46.352052Z"
    },
    "papermill": {
     "duration": 0.068954,
     "end_time": "2024-12-30T15:22:46.354777",
     "exception": false,
     "start_time": "2024-12-30T15:22:46.285823",
     "status": "completed"
    },
    "tags": []
   },
   "outputs": [],
   "source": [
    "pt_columns=X_test.select_dtypes(include=['float']).columns"
   ]
  },
  {
   "cell_type": "code",
   "execution_count": 50,
   "id": "b30e11fc",
   "metadata": {
    "execution": {
     "iopub.execute_input": "2024-12-30T15:22:46.379221Z",
     "iopub.status.busy": "2024-12-30T15:22:46.378593Z",
     "iopub.status.idle": "2024-12-30T15:22:49.073133Z",
     "shell.execute_reply": "2024-12-30T15:22:49.072369Z"
    },
    "papermill": {
     "duration": 2.709004,
     "end_time": "2024-12-30T15:22:49.075281",
     "exception": false,
     "start_time": "2024-12-30T15:22:46.366277",
     "status": "completed"
    },
    "tags": []
   },
   "outputs": [],
   "source": [
    "X_test[pt_columns]=pt.fit_transform(X_test[pt_columns])"
   ]
  },
  {
   "cell_type": "code",
   "execution_count": 51,
   "id": "d1e65672",
   "metadata": {
    "execution": {
     "iopub.execute_input": "2024-12-30T15:22:49.099728Z",
     "iopub.status.busy": "2024-12-30T15:22:49.099472Z",
     "iopub.status.idle": "2024-12-30T15:22:49.104116Z",
     "shell.execute_reply": "2024-12-30T15:22:49.103248Z"
    },
    "papermill": {
     "duration": 0.018428,
     "end_time": "2024-12-30T15:22:49.105737",
     "exception": false,
     "start_time": "2024-12-30T15:22:49.087309",
     "status": "completed"
    },
    "tags": []
   },
   "outputs": [],
   "source": [
    "def calc_test_quality(train_pool, val_pool, **kwargs):\n",
    "    model = CatBoostRegressor(**kwargs, task_type=\"GPU\",random_seed=11)\n",
    "    model.fit(train_pool, verbose=0, eval_set=val_pool)\n",
    "    y_pred = model.predict(val_pool)\n",
    "    return eval_metric(val_pool.get_label(), y_pred, 'RMSE'), model"
   ]
  },
  {
   "cell_type": "code",
   "execution_count": 52,
   "id": "28a18135",
   "metadata": {
    "execution": {
     "iopub.execute_input": "2024-12-30T15:22:49.129331Z",
     "iopub.status.busy": "2024-12-30T15:22:49.129026Z",
     "iopub.status.idle": "2024-12-30T15:22:49.134219Z",
     "shell.execute_reply": "2024-12-30T15:22:49.133283Z"
    },
    "papermill": {
     "duration": 0.019112,
     "end_time": "2024-12-30T15:22:49.135993",
     "exception": false,
     "start_time": "2024-12-30T15:22:49.116881",
     "status": "completed"
    },
    "tags": []
   },
   "outputs": [],
   "source": [
    "#Average regression value from 10 random state\n",
    "def bagging_prob(train_pool, val_pool, **kwargs):\n",
    "    predictions=[]\n",
    "    for i in range(1,11):\n",
    "        model = CatBoostRegressor(**kwargs, task_type=\"GPU\",random_seed=i)\n",
    "        model.fit(train_pool, verbose=0, eval_set=val_pool)\n",
    "        predictions.append(model.predict(X_test))\n",
    "    return np.mean(predictions,axis=0) "
   ]
  },
  {
   "cell_type": "code",
   "execution_count": 53,
   "id": "14525f75",
   "metadata": {
    "execution": {
     "iopub.execute_input": "2024-12-30T15:22:49.159714Z",
     "iopub.status.busy": "2024-12-30T15:22:49.159465Z",
     "iopub.status.idle": "2024-12-30T17:35:53.624541Z",
     "shell.execute_reply": "2024-12-30T17:35:53.623649Z"
    },
    "papermill": {
     "duration": 7984.493537,
     "end_time": "2024-12-30T17:35:53.641111",
     "exception": false,
     "start_time": "2024-12-30T15:22:49.147574",
     "status": "completed"
    },
    "tags": []
   },
   "outputs": [
    {
     "name": "stderr",
     "output_type": "stream",
     "text": [
      "[I 2024-12-30 15:22:49,162] A new study created in memory with name: no-name-ec5dd8e4-507f-4907-b9cf-2a793222eaba\n",
      "[I 2024-12-30 15:23:14,282] Trial 0 finished with value: 1.0498105713745032 and parameters: {'iterations': 1458, 'early_stopping_rounds': 191, 'learning_rate': 0.007141605056741639, 'depth': 5, 'l2_leaf_reg': 8.517280459938654, 'min_data_in_leaf': 93, 'grow_policy': 'Depthwise', 'bootstrap_type': 'Bayesian', 'bagging_temperature': 0.7968588561148293}. Best is trial 0 with value: 1.0498105713745032.\n",
      "[I 2024-12-30 15:23:31,037] Trial 1 finished with value: 1.048567788314879 and parameters: {'iterations': 2769, 'early_stopping_rounds': 203, 'learning_rate': 0.09889873870870279, 'depth': 7, 'l2_leaf_reg': 7.136013518028578, 'min_data_in_leaf': 56, 'grow_policy': 'Depthwise', 'bootstrap_type': 'Bernoulli', 'subsample': 0.08918259150432425}. Best is trial 1 with value: 1.048567788314879.\n",
      "[I 2024-12-30 15:24:03,482] Trial 2 finished with value: 1.051483194355997 and parameters: {'iterations': 2833, 'early_stopping_rounds': 365, 'learning_rate': 0.06261154360773759, 'depth': 3, 'l2_leaf_reg': 2.6193727605531896, 'min_data_in_leaf': 82, 'grow_policy': 'Lossguide', 'bootstrap_type': 'Bayesian', 'bagging_temperature': 0.13310049639068788}. Best is trial 1 with value: 1.048567788314879.\n",
      "[I 2024-12-30 15:24:25,953] Trial 3 finished with value: 1.0577674103469072 and parameters: {'iterations': 2572, 'early_stopping_rounds': 369, 'learning_rate': 0.07722022814410652, 'depth': 2, 'l2_leaf_reg': 3.662854246786798, 'min_data_in_leaf': 62, 'grow_policy': 'Lossguide', 'bootstrap_type': 'Bernoulli', 'subsample': 0.26034479998137433}. Best is trial 1 with value: 1.048567788314879.\n",
      "[I 2024-12-30 15:28:33,985] Trial 4 finished with value: 1.051361440725047 and parameters: {'iterations': 2417, 'early_stopping_rounds': 338, 'learning_rate': 0.012409718145377571, 'depth': 7, 'l2_leaf_reg': 4.261002498435067, 'min_data_in_leaf': 36, 'grow_policy': 'SymmetricTree', 'bootstrap_type': 'Bayesian', 'bagging_temperature': 3.151217798889796}. Best is trial 1 with value: 1.048567788314879.\n",
      "[I 2024-12-30 15:28:54,572] Trial 5 finished with value: 1.0748762137102792 and parameters: {'iterations': 2584, 'early_stopping_rounds': 198, 'learning_rate': 0.04544263885331374, 'depth': 1, 'l2_leaf_reg': 1.8732421233660452, 'min_data_in_leaf': 70, 'grow_policy': 'Lossguide', 'bootstrap_type': 'Bayesian', 'bagging_temperature': 7.272496821479397}. Best is trial 1 with value: 1.048567788314879.\n",
      "[I 2024-12-30 15:29:40,564] Trial 6 finished with value: 1.0496807848669873 and parameters: {'iterations': 1281, 'early_stopping_rounds': 368, 'learning_rate': 0.03428957001543605, 'depth': 9, 'l2_leaf_reg': 3.6716409802252983, 'min_data_in_leaf': 31, 'grow_policy': 'Depthwise', 'bootstrap_type': 'Bayesian', 'bagging_temperature': 3.9977731622717294}. Best is trial 1 with value: 1.048567788314879.\n",
      "[I 2024-12-30 15:31:00,528] Trial 7 finished with value: 1.0573041732207762 and parameters: {'iterations': 2555, 'early_stopping_rounds': 102, 'learning_rate': 0.07771982987786066, 'depth': 9, 'l2_leaf_reg': 2.18379535161729, 'min_data_in_leaf': 30, 'grow_policy': 'Lossguide', 'bootstrap_type': 'Bayesian', 'bagging_temperature': 9.652511052082179}. Best is trial 1 with value: 1.048567788314879.\n",
      "[I 2024-12-30 15:32:30,522] Trial 8 finished with value: 1.056718179551781 and parameters: {'iterations': 3926, 'early_stopping_rounds': 160, 'learning_rate': 0.06830545218021117, 'depth': 5, 'l2_leaf_reg': 9.280157319220326, 'min_data_in_leaf': 74, 'grow_policy': 'Lossguide', 'bootstrap_type': 'Bayesian', 'bagging_temperature': 8.014673646377311}. Best is trial 1 with value: 1.048567788314879.\n",
      "[I 2024-12-30 15:34:43,963] Trial 9 finished with value: 1.0511351153501831 and parameters: {'iterations': 1526, 'early_stopping_rounds': 316, 'learning_rate': 0.037419714122912805, 'depth': 6, 'l2_leaf_reg': 3.6747457454828263, 'min_data_in_leaf': 39, 'grow_policy': 'SymmetricTree', 'bootstrap_type': 'Bernoulli', 'subsample': 0.06869030583034319}. Best is trial 1 with value: 1.048567788314879.\n",
      "[I 2024-12-30 15:35:02,889] Trial 10 finished with value: 1.0487908586775243 and parameters: {'iterations': 3426, 'early_stopping_rounds': 255, 'learning_rate': 0.09025333530903859, 'depth': 10, 'l2_leaf_reg': 6.889358014496803, 'min_data_in_leaf': 3, 'grow_policy': 'Depthwise', 'bootstrap_type': 'Bernoulli', 'subsample': 0.05641532550013294}. Best is trial 1 with value: 1.048567788314879.\n",
      "[I 2024-12-30 15:35:19,023] Trial 11 finished with value: 1.0489692465971976 and parameters: {'iterations': 3541, 'early_stopping_rounds': 253, 'learning_rate': 0.09493543819783652, 'depth': 10, 'l2_leaf_reg': 6.985806233117778, 'min_data_in_leaf': 3, 'grow_policy': 'Depthwise', 'bootstrap_type': 'Bernoulli', 'subsample': 0.05122507112353751}. Best is trial 1 with value: 1.048567788314879.\n",
      "[I 2024-12-30 15:35:32,538] Trial 12 finished with value: 1.0483206898654578 and parameters: {'iterations': 3234, 'early_stopping_rounds': 263, 'learning_rate': 0.09764839515595856, 'depth': 8, 'l2_leaf_reg': 6.512283042392672, 'min_data_in_leaf': 6, 'grow_policy': 'Depthwise', 'bootstrap_type': 'Bernoulli', 'subsample': 0.09991892863201994}. Best is trial 12 with value: 1.0483206898654578.\n",
      "[I 2024-12-30 15:35:48,415] Trial 13 finished with value: 1.048309172041535 and parameters: {'iterations': 3099, 'early_stopping_rounds': 294, 'learning_rate': 0.09892346534402605, 'depth': 7, 'l2_leaf_reg': 6.262839749248935, 'min_data_in_leaf': 54, 'grow_policy': 'Depthwise', 'bootstrap_type': 'Bernoulli', 'subsample': 0.14578063949731526}. Best is trial 13 with value: 1.048309172041535.\n",
      "[I 2024-12-30 15:36:03,980] Trial 14 finished with value: 1.0479699802410722 and parameters: {'iterations': 3404, 'early_stopping_rounds': 292, 'learning_rate': 0.08557384999976143, 'depth': 8, 'l2_leaf_reg': 5.62306494721431, 'min_data_in_leaf': 18, 'grow_policy': 'Depthwise', 'bootstrap_type': 'Bernoulli', 'subsample': 0.15704728687778027}. Best is trial 14 with value: 1.0479699802410722.\n",
      "[I 2024-12-30 15:36:30,454] Trial 15 finished with value: 1.0494747470682289 and parameters: {'iterations': 2065, 'early_stopping_rounds': 304, 'learning_rate': 0.0826667157268128, 'depth': 4, 'l2_leaf_reg': 5.2906957037431965, 'min_data_in_leaf': 47, 'grow_policy': 'Depthwise', 'bootstrap_type': 'Bernoulli', 'subsample': 0.5093733160133214}. Best is trial 14 with value: 1.0479699802410722.\n",
      "[I 2024-12-30 15:39:57,746] Trial 16 finished with value: 1.0491796410668504 and parameters: {'iterations': 3122, 'early_stopping_rounds': 294, 'learning_rate': 0.05935690001768502, 'depth': 7, 'l2_leaf_reg': 5.3947611498385255, 'min_data_in_leaf': 21, 'grow_policy': 'SymmetricTree', 'bootstrap_type': 'Bernoulli', 'subsample': 0.18402232941716545}. Best is trial 14 with value: 1.0479699802410722.\n",
      "[I 2024-12-30 15:40:12,172] Trial 17 finished with value: 1.047945803195544 and parameters: {'iterations': 3993, 'early_stopping_rounds': 400, 'learning_rate': 0.0835874096186709, 'depth': 8, 'l2_leaf_reg': 7.716475953603917, 'min_data_in_leaf': 20, 'grow_policy': 'Depthwise', 'bootstrap_type': 'Bernoulli', 'subsample': 0.18288785122143603}. Best is trial 17 with value: 1.047945803195544.\n",
      "[I 2024-12-30 15:40:32,660] Trial 18 finished with value: 1.0474653678679695 and parameters: {'iterations': 3991, 'early_stopping_rounds': 390, 'learning_rate': 0.07032400899652007, 'depth': 9, 'l2_leaf_reg': 8.105997017249713, 'min_data_in_leaf': 17, 'grow_policy': 'Depthwise', 'bootstrap_type': 'Bernoulli', 'subsample': 0.3180307684511961}. Best is trial 18 with value: 1.0474653678679695.\n",
      "[I 2024-12-30 15:40:52,352] Trial 19 finished with value: 1.047366277265019 and parameters: {'iterations': 3951, 'early_stopping_rounds': 379, 'learning_rate': 0.05270102340469221, 'depth': 9, 'l2_leaf_reg': 8.244816298169601, 'min_data_in_leaf': 19, 'grow_policy': 'Depthwise', 'bootstrap_type': 'Bernoulli', 'subsample': 0.3461275547668034}. Best is trial 19 with value: 1.047366277265019.\n",
      "[I 2024-12-30 15:46:05,504] Trial 20 finished with value: 1.0481750455945884 and parameters: {'iterations': 3740, 'early_stopping_rounds': 391, 'learning_rate': 0.0221315565613188, 'depth': 9, 'l2_leaf_reg': 9.702592870795709, 'min_data_in_leaf': 14, 'grow_policy': 'SymmetricTree', 'bootstrap_type': 'Bernoulli', 'subsample': 0.40023932230081694}. Best is trial 19 with value: 1.047366277265019.\n",
      "[I 2024-12-30 15:46:25,846] Trial 21 finished with value: 1.0474405839610277 and parameters: {'iterations': 3950, 'early_stopping_rounds': 397, 'learning_rate': 0.05315480728955378, 'depth': 10, 'l2_leaf_reg': 8.074152009474352, 'min_data_in_leaf': 24, 'grow_policy': 'Depthwise', 'bootstrap_type': 'Bernoulli', 'subsample': 0.9797741305462091}. Best is trial 19 with value: 1.047366277265019.\n",
      "[I 2024-12-30 15:46:45,498] Trial 22 finished with value: 1.0472645877666285 and parameters: {'iterations': 3690, 'early_stopping_rounds': 351, 'learning_rate': 0.0522529626415328, 'depth': 10, 'l2_leaf_reg': 8.383678166842754, 'min_data_in_leaf': 27, 'grow_policy': 'Depthwise', 'bootstrap_type': 'Bernoulli', 'subsample': 0.8874821271053438}. Best is trial 22 with value: 1.0472645877666285.\n",
      "[I 2024-12-30 15:47:05,595] Trial 23 finished with value: 1.0472357375073709 and parameters: {'iterations': 3695, 'early_stopping_rounds': 340, 'learning_rate': 0.05145420677718608, 'depth': 10, 'l2_leaf_reg': 8.80115364045889, 'min_data_in_leaf': 42, 'grow_policy': 'Depthwise', 'bootstrap_type': 'Bernoulli', 'subsample': 0.8681365756204671}. Best is trial 23 with value: 1.0472357375073709.\n",
      "[I 2024-12-30 15:47:26,611] Trial 24 finished with value: 1.0472493037117743 and parameters: {'iterations': 3646, 'early_stopping_rounds': 335, 'learning_rate': 0.04553007746368347, 'depth': 10, 'l2_leaf_reg': 8.99528048473206, 'min_data_in_leaf': 43, 'grow_policy': 'Depthwise', 'bootstrap_type': 'Bernoulli', 'subsample': 0.8825973157157863}. Best is trial 23 with value: 1.0472357375073709.\n",
      "[I 2024-12-30 15:47:45,666] Trial 25 finished with value: 1.047259279142935 and parameters: {'iterations': 3623, 'early_stopping_rounds': 336, 'learning_rate': 0.04219342818853854, 'depth': 10, 'l2_leaf_reg': 9.016117638954746, 'min_data_in_leaf': 44, 'grow_policy': 'Depthwise', 'bootstrap_type': 'Bernoulli', 'subsample': 0.949031172934059}. Best is trial 23 with value: 1.0472357375073709.\n",
      "[I 2024-12-30 15:48:06,267] Trial 26 finished with value: 1.0470829565786441 and parameters: {'iterations': 3631, 'early_stopping_rounds': 324, 'learning_rate': 0.03942539969561601, 'depth': 10, 'l2_leaf_reg': 9.969850670174282, 'min_data_in_leaf': 46, 'grow_policy': 'Depthwise', 'bootstrap_type': 'Bernoulli', 'subsample': 0.6705784061227709}. Best is trial 26 with value: 1.0470829565786441.\n",
      "[I 2024-12-30 15:48:37,652] Trial 27 finished with value: 1.0471709993388678 and parameters: {'iterations': 2101, 'early_stopping_rounds': 332, 'learning_rate': 0.02712769718143454, 'depth': 8, 'l2_leaf_reg': 9.932879958308952, 'min_data_in_leaf': 62, 'grow_policy': 'Depthwise', 'bootstrap_type': 'Bernoulli', 'subsample': 0.6931671023112442}. Best is trial 26 with value: 1.0470829565786441.\n",
      "[I 2024-12-30 15:49:00,656] Trial 28 finished with value: 1.0471708939552369 and parameters: {'iterations': 2013, 'early_stopping_rounds': 317, 'learning_rate': 0.029050283117742794, 'depth': 8, 'l2_leaf_reg': 9.855017686036177, 'min_data_in_leaf': 59, 'grow_policy': 'Depthwise', 'bootstrap_type': 'Bernoulli', 'subsample': 0.6025030813407992}. Best is trial 26 with value: 1.0470829565786441.\n",
      "[I 2024-12-30 15:51:42,950] Trial 29 finished with value: 1.0488360575795879 and parameters: {'iterations': 1857, 'early_stopping_rounds': 238, 'learning_rate': 0.02505263185064945, 'depth': 6, 'l2_leaf_reg': 9.436062150085185, 'min_data_in_leaf': 90, 'grow_policy': 'SymmetricTree', 'bootstrap_type': 'Bernoulli', 'subsample': 0.6016219454606327}. Best is trial 26 with value: 1.0470829565786441.\n",
      "[I 2024-12-30 15:52:32,609] Trial 30 finished with value: 1.0471538443405206 and parameters: {'iterations': 2085, 'early_stopping_rounds': 273, 'learning_rate': 0.0064625793312891415, 'depth': 8, 'l2_leaf_reg': 9.923882292730609, 'min_data_in_leaf': 65, 'grow_policy': 'Depthwise', 'bootstrap_type': 'Bernoulli', 'subsample': 0.6115822003992423}. Best is trial 26 with value: 1.0470829565786441.\n",
      "[I 2024-12-30 15:53:23,390] Trial 31 finished with value: 1.0472740252161468 and parameters: {'iterations': 2090, 'early_stopping_rounds': 280, 'learning_rate': 0.0040686944526769145, 'depth': 8, 'l2_leaf_reg': 9.729476863655309, 'min_data_in_leaf': 65, 'grow_policy': 'Depthwise', 'bootstrap_type': 'Bernoulli', 'subsample': 0.59747493478716}. Best is trial 26 with value: 1.0470829565786441.\n",
      "[I 2024-12-30 15:53:49,614] Trial 32 finished with value: 1.0490556353730016 and parameters: {'iterations': 1728, 'early_stopping_rounds': 318, 'learning_rate': 0.015144433808912044, 'depth': 5, 'l2_leaf_reg': 9.751720493159038, 'min_data_in_leaf': 60, 'grow_policy': 'Depthwise', 'bootstrap_type': 'Bernoulli', 'subsample': 0.6267233263704605}. Best is trial 26 with value: 1.0470829565786441.\n",
      "[I 2024-12-30 15:54:13,658] Trial 33 finished with value: 1.0475899984817882 and parameters: {'iterations': 2194, 'early_stopping_rounds': 232, 'learning_rate': 0.029432541333287814, 'depth': 7, 'l2_leaf_reg': 9.983452005688994, 'min_data_in_leaf': 78, 'grow_policy': 'Depthwise', 'bootstrap_type': 'Bernoulli', 'subsample': 0.4795970505462838}. Best is trial 26 with value: 1.0470829565786441.\n",
      "[I 2024-12-30 15:54:53,146] Trial 34 finished with value: 1.0478847123844286 and parameters: {'iterations': 2295, 'early_stopping_rounds': 273, 'learning_rate': 0.01617209349281797, 'depth': 6, 'l2_leaf_reg': 7.4708467203239355, 'min_data_in_leaf': 51, 'grow_policy': 'Depthwise', 'bootstrap_type': 'Bernoulli', 'subsample': 0.7492373636745376}. Best is trial 26 with value: 1.0470829565786441.\n",
      "[I 2024-12-30 15:55:54,794] Trial 35 finished with value: 1.0471908121900086 and parameters: {'iterations': 2826, 'early_stopping_rounds': 315, 'learning_rate': 0.009516976813539031, 'depth': 8, 'l2_leaf_reg': 8.707771495459697, 'min_data_in_leaf': 67, 'grow_policy': 'Depthwise', 'bootstrap_type': 'Bernoulli', 'subsample': 0.45028229036362993}. Best is trial 26 with value: 1.0470829565786441.\n",
      "[I 2024-12-30 15:56:25,069] Trial 36 finished with value: 1.0584046680721089 and parameters: {'iterations': 1046, 'early_stopping_rounds': 222, 'learning_rate': 0.021000274146483797, 'depth': 7, 'l2_leaf_reg': 9.996591720289926, 'min_data_in_leaf': 58, 'grow_policy': 'Lossguide', 'bootstrap_type': 'Bayesian', 'bagging_temperature': 6.139213535774834}. Best is trial 26 with value: 1.0470829565786441.\n",
      "[I 2024-12-30 15:57:25,376] Trial 37 finished with value: 1.0473046931043473 and parameters: {'iterations': 1855, 'early_stopping_rounds': 352, 'learning_rate': 0.002269711682856654, 'depth': 9, 'l2_leaf_reg': 1.059455990511097, 'min_data_in_leaf': 84, 'grow_policy': 'Depthwise', 'bootstrap_type': 'Bernoulli', 'subsample': 0.6968269338091585}. Best is trial 26 with value: 1.0470829565786441.\n",
      "[I 2024-12-30 15:57:50,894] Trial 38 finished with value: 1.055504784037418 and parameters: {'iterations': 2336, 'early_stopping_rounds': 275, 'learning_rate': 0.03402072164861549, 'depth': 3, 'l2_leaf_reg': 9.396521790870137, 'min_data_in_leaf': 73, 'grow_policy': 'Lossguide', 'bootstrap_type': 'Bayesian', 'bagging_temperature': 2.8628110353292864}. Best is trial 26 with value: 1.0470829565786441.\n",
      "[I 2024-12-30 15:59:09,425] Trial 39 finished with value: 1.0567473349036482 and parameters: {'iterations': 2709, 'early_stopping_rounds': 170, 'learning_rate': 0.028157665780020883, 'depth': 8, 'l2_leaf_reg': 9.113141047047192, 'min_data_in_leaf': 50, 'grow_policy': 'Depthwise', 'bootstrap_type': 'Bayesian', 'bagging_temperature': 9.87135635219359}. Best is trial 26 with value: 1.0470829565786441.\n",
      "[I 2024-12-30 16:00:32,163] Trial 40 finished with value: 1.051217560315427 and parameters: {'iterations': 1559, 'early_stopping_rounds': 320, 'learning_rate': 0.03788994791653465, 'depth': 4, 'l2_leaf_reg': 8.755556185217616, 'min_data_in_leaf': 55, 'grow_policy': 'SymmetricTree', 'bootstrap_type': 'Bernoulli', 'subsample': 0.5293372232228413}. Best is trial 26 with value: 1.0470829565786441.\n",
      "[I 2024-12-30 16:01:19,099] Trial 41 finished with value: 1.0472567017730408 and parameters: {'iterations': 1999, 'early_stopping_rounds': 306, 'learning_rate': 0.01085820023929969, 'depth': 8, 'l2_leaf_reg': 9.461376412736527, 'min_data_in_leaf': 66, 'grow_policy': 'Depthwise', 'bootstrap_type': 'Bernoulli', 'subsample': 0.42881500088846186}. Best is trial 26 with value: 1.0470829565786441.\n",
      "[I 2024-12-30 16:02:28,426] Trial 42 finished with value: 1.0470743861494722 and parameters: {'iterations': 2930, 'early_stopping_rounds': 356, 'learning_rate': 0.007433724435961277, 'depth': 8, 'l2_leaf_reg': 8.59896708444457, 'min_data_in_leaf': 65, 'grow_policy': 'Depthwise', 'bootstrap_type': 'Bernoulli', 'subsample': 0.722657901050151}. Best is trial 42 with value: 1.0470743861494722.\n",
      "[I 2024-12-30 16:03:01,973] Trial 43 finished with value: 1.0470021481682292 and parameters: {'iterations': 2455, 'early_stopping_rounds': 356, 'learning_rate': 0.019125604285376355, 'depth': 9, 'l2_leaf_reg': 9.404037363527372, 'min_data_in_leaf': 62, 'grow_policy': 'Depthwise', 'bootstrap_type': 'Bernoulli', 'subsample': 0.7263925501793289}. Best is trial 43 with value: 1.0470021481682292.\n",
      "[I 2024-12-30 16:03:40,323] Trial 44 finished with value: 1.0470249027181984 and parameters: {'iterations': 2545, 'early_stopping_rounds': 365, 'learning_rate': 0.018919933570715378, 'depth': 9, 'l2_leaf_reg': 7.805937594416822, 'min_data_in_leaf': 36, 'grow_policy': 'Depthwise', 'bootstrap_type': 'Bernoulli', 'subsample': 0.7449530641148701}. Best is trial 43 with value: 1.0470021481682292.\n",
      "[I 2024-12-30 16:05:05,740] Trial 45 finished with value: 1.0472406345260172 and parameters: {'iterations': 2960, 'early_stopping_rounds': 361, 'learning_rate': 0.01744367919939364, 'depth': 9, 'l2_leaf_reg': 7.696001655113771, 'min_data_in_leaf': 36, 'grow_policy': 'Lossguide', 'bootstrap_type': 'Bernoulli', 'subsample': 0.7510804617490404}. Best is trial 43 with value: 1.0470021481682292.\n",
      "[I 2024-12-30 16:06:34,279] Trial 46 finished with value: 1.052547260342274 and parameters: {'iterations': 2489, 'early_stopping_rounds': 379, 'learning_rate': 0.00795776820778899, 'depth': 9, 'l2_leaf_reg': 8.542702136921088, 'min_data_in_leaf': 32, 'grow_policy': 'Depthwise', 'bootstrap_type': 'Bayesian', 'bagging_temperature': 5.264136032788915}. Best is trial 43 with value: 1.0470021481682292.\n",
      "[I 2024-12-30 16:07:42,720] Trial 47 finished with value: 1.0472653845180586 and parameters: {'iterations': 2665, 'early_stopping_rounds': 359, 'learning_rate': 0.005860131970997878, 'depth': 9, 'l2_leaf_reg': 9.204978359444112, 'min_data_in_leaf': 71, 'grow_policy': 'Depthwise', 'bootstrap_type': 'Bernoulli', 'subsample': 0.28318924062983986}. Best is trial 43 with value: 1.0470021481682292.\n",
      "[I 2024-12-30 16:08:02,072] Trial 48 finished with value: 1.0731966067548764 and parameters: {'iterations': 2440, 'early_stopping_rounds': 371, 'learning_rate': 0.012462363560410548, 'depth': 1, 'l2_leaf_reg': 4.4711524329275605, 'min_data_in_leaf': 100, 'grow_policy': 'Depthwise', 'bootstrap_type': 'Bernoulli', 'subsample': 0.7546543588624471}. Best is trial 43 with value: 1.0470021481682292.\n",
      "[I 2024-12-30 16:09:00,484] Trial 49 finished with value: 1.0475040746382227 and parameters: {'iterations': 2906, 'early_stopping_rounds': 103, 'learning_rate': 0.020969505195016957, 'depth': 9, 'l2_leaf_reg': 7.477251651268365, 'min_data_in_leaf': 79, 'grow_policy': 'Lossguide', 'bootstrap_type': 'Bernoulli', 'subsample': 0.37638530390110203}. Best is trial 43 with value: 1.0470021481682292.\n",
      "[I 2024-12-30 16:11:07,849] Trial 50 finished with value: 1.047051998181144 and parameters: {'iterations': 3283, 'early_stopping_rounds': 350, 'learning_rate': 0.0018506077349077247, 'depth': 10, 'l2_leaf_reg': 6.689327760048496, 'min_data_in_leaf': 37, 'grow_policy': 'Depthwise', 'bootstrap_type': 'Bernoulli', 'subsample': 0.5255768755292919}. Best is trial 43 with value: 1.0470021481682292.\n",
      "[I 2024-12-30 16:13:23,769] Trial 51 finished with value: 1.0473839978085202 and parameters: {'iterations': 3330, 'early_stopping_rounds': 378, 'learning_rate': 0.001067471008089706, 'depth': 10, 'l2_leaf_reg': 6.513606595668051, 'min_data_in_leaf': 36, 'grow_policy': 'Depthwise', 'bootstrap_type': 'Bernoulli', 'subsample': 0.5202924159823504}. Best is trial 43 with value: 1.0470021481682292.\n",
      "[I 2024-12-30 16:14:47,111] Trial 52 finished with value: 1.0469314749657086 and parameters: {'iterations': 3169, 'early_stopping_rounds': 349, 'learning_rate': 0.006638488554054876, 'depth': 10, 'l2_leaf_reg': 6.041580398912442, 'min_data_in_leaf': 48, 'grow_policy': 'Depthwise', 'bootstrap_type': 'Bernoulli', 'subsample': 0.6638664044679061}. Best is trial 52 with value: 1.0469314749657086.\n",
      "[I 2024-12-30 16:15:29,899] Trial 53 finished with value: 1.0469854885079855 and parameters: {'iterations': 3093, 'early_stopping_rounds': 349, 'learning_rate': 0.012973131163663491, 'depth': 10, 'l2_leaf_reg': 5.8005027218921965, 'min_data_in_leaf': 49, 'grow_policy': 'Depthwise', 'bootstrap_type': 'Bernoulli', 'subsample': 0.7987447131171189}. Best is trial 52 with value: 1.0469314749657086.\n",
      "[I 2024-12-30 16:16:12,012] Trial 54 finished with value: 1.047042912169389 and parameters: {'iterations': 3078, 'early_stopping_rounds': 354, 'learning_rate': 0.013530103937867492, 'depth': 10, 'l2_leaf_reg': 6.24264699784549, 'min_data_in_leaf': 50, 'grow_policy': 'Depthwise', 'bootstrap_type': 'Bernoulli', 'subsample': 0.8193730546937712}. Best is trial 52 with value: 1.0469314749657086.\n",
      "[I 2024-12-30 16:24:42,797] Trial 55 finished with value: 1.0475343502977967 and parameters: {'iterations': 3105, 'early_stopping_rounds': 343, 'learning_rate': 0.012489018180072113, 'depth': 10, 'l2_leaf_reg': 5.894628633024853, 'min_data_in_leaf': 38, 'grow_policy': 'SymmetricTree', 'bootstrap_type': 'Bernoulli', 'subsample': 0.8165289813234139}. Best is trial 52 with value: 1.0469314749657086.\n",
      "[I 2024-12-30 16:25:27,985] Trial 56 finished with value: 1.047407017777116 and parameters: {'iterations': 3199, 'early_stopping_rounds': 370, 'learning_rate': 0.017743870680926775, 'depth': 10, 'l2_leaf_reg': 4.799472307540595, 'min_data_in_leaf': 50, 'grow_policy': 'Depthwise', 'bootstrap_type': 'Bayesian', 'bagging_temperature': 1.6381079353779704}. Best is trial 52 with value: 1.0469314749657086.\n",
      "[I 2024-12-30 16:26:23,634] Trial 57 finished with value: 1.0480725083081928 and parameters: {'iterations': 3454, 'early_stopping_rounds': 349, 'learning_rate': 0.01476371230295893, 'depth': 10, 'l2_leaf_reg': 5.974903830203787, 'min_data_in_leaf': 32, 'grow_policy': 'Depthwise', 'bootstrap_type': 'Bernoulli', 'subsample': 0.07281525570771125}. Best is trial 52 with value: 1.0469314749657086.\n",
      "[I 2024-12-30 16:26:51,748] Trial 58 finished with value: 1.0478443132558677 and parameters: {'iterations': 3017, 'early_stopping_rounds': 386, 'learning_rate': 0.033006945790704345, 'depth': 9, 'l2_leaf_reg': 6.721309921290169, 'min_data_in_leaf': 41, 'grow_policy': 'Depthwise', 'bootstrap_type': 'Bernoulli', 'subsample': 0.11446214882102283}. Best is trial 52 with value: 1.0469314749657086.\n",
      "[I 2024-12-30 16:27:16,729] Trial 59 finished with value: 1.047078414646545 and parameters: {'iterations': 3264, 'early_stopping_rounds': 364, 'learning_rate': 0.02340977678355612, 'depth': 10, 'l2_leaf_reg': 5.116728722309154, 'min_data_in_leaf': 54, 'grow_policy': 'Depthwise', 'bootstrap_type': 'Bernoulli', 'subsample': 0.8220937408182064}. Best is trial 52 with value: 1.0469314749657086.\n",
      "[I 2024-12-30 16:27:55,003] Trial 60 finished with value: 1.0472931785870818 and parameters: {'iterations': 2771, 'early_stopping_rounds': 305, 'learning_rate': 0.019395303439553563, 'depth': 10, 'l2_leaf_reg': 7.085888175184242, 'min_data_in_leaf': 47, 'grow_policy': 'Depthwise', 'bootstrap_type': 'Bernoulli', 'subsample': 0.9928731586109868}. Best is trial 52 with value: 1.0469314749657086.\n",
      "[I 2024-12-30 16:28:54,337] Trial 61 finished with value: 1.0470198303082803 and parameters: {'iterations': 2999, 'early_stopping_rounds': 355, 'learning_rate': 0.008733736367713615, 'depth': 9, 'l2_leaf_reg': 5.955468946442111, 'min_data_in_leaf': 53, 'grow_policy': 'Depthwise', 'bootstrap_type': 'Bernoulli', 'subsample': 0.5289389320289781}. Best is trial 52 with value: 1.0469314749657086.\n",
      "[I 2024-12-30 16:29:44,366] Trial 62 finished with value: 1.047025766995258 and parameters: {'iterations': 3038, 'early_stopping_rounds': 328, 'learning_rate': 0.010122307240873388, 'depth': 9, 'l2_leaf_reg': 6.2003729607792115, 'min_data_in_leaf': 49, 'grow_policy': 'Depthwise', 'bootstrap_type': 'Bernoulli', 'subsample': 0.535851126262725}. Best is trial 52 with value: 1.0469314749657086.\n",
      "[I 2024-12-30 16:30:28,864] Trial 63 finished with value: 1.04702066235399 and parameters: {'iterations': 3057, 'early_stopping_rounds': 326, 'learning_rate': 0.01274593204487325, 'depth': 9, 'l2_leaf_reg': 5.897258165370219, 'min_data_in_leaf': 55, 'grow_policy': 'Depthwise', 'bootstrap_type': 'Bernoulli', 'subsample': 0.5736897906496309}. Best is trial 52 with value: 1.0469314749657086.\n",
      "[I 2024-12-30 16:31:36,615] Trial 64 finished with value: 1.0473262738931879 and parameters: {'iterations': 2587, 'early_stopping_rounds': 329, 'learning_rate': 0.009954569769173794, 'depth': 9, 'l2_leaf_reg': 6.032132340559776, 'min_data_in_leaf': 55, 'grow_policy': 'Depthwise', 'bootstrap_type': 'Bernoulli', 'subsample': 0.23006164432130147}. Best is trial 52 with value: 1.0469314749657086.\n",
      "[I 2024-12-30 16:33:06,741] Trial 65 finished with value: 1.0469907872643867 and parameters: {'iterations': 3177, 'early_stopping_rounds': 342, 'learning_rate': 0.004706929558001512, 'depth': 9, 'l2_leaf_reg': 5.644806016395991, 'min_data_in_leaf': 45, 'grow_policy': 'Depthwise', 'bootstrap_type': 'Bernoulli', 'subsample': 0.5642343703403269}. Best is trial 52 with value: 1.0469314749657086.\n",
      "[I 2024-12-30 16:34:34,087] Trial 66 finished with value: 1.0470532937172001 and parameters: {'iterations': 3175, 'early_stopping_rounds': 343, 'learning_rate': 0.004638571727229609, 'depth': 9, 'l2_leaf_reg': 5.568588424575403, 'min_data_in_leaf': 44, 'grow_policy': 'Depthwise', 'bootstrap_type': 'Bernoulli', 'subsample': 0.4465870174437618}. Best is trial 52 with value: 1.0469314749657086.\n",
      "[I 2024-12-30 16:39:25,112] Trial 67 finished with value: 1.0477494585308376 and parameters: {'iterations': 2866, 'early_stopping_rounds': 381, 'learning_rate': 0.02547461395166434, 'depth': 9, 'l2_leaf_reg': 5.1158987491738435, 'min_data_in_leaf': 62, 'grow_policy': 'SymmetricTree', 'bootstrap_type': 'Bernoulli', 'subsample': 0.6533313023236855}. Best is trial 52 with value: 1.0469314749657086.\n",
      "[I 2024-12-30 16:40:04,070] Trial 68 finished with value: 1.047192193118561 and parameters: {'iterations': 3512, 'early_stopping_rounds': 341, 'learning_rate': 0.018130462677664543, 'depth': 9, 'l2_leaf_reg': 3.281775947216344, 'min_data_in_leaf': 41, 'grow_policy': 'Depthwise', 'bootstrap_type': 'Bernoulli', 'subsample': 0.3401586213269025}. Best is trial 52 with value: 1.0469314749657086.\n",
      "[I 2024-12-30 16:41:39,665] Trial 69 finished with value: 1.0469884114333974 and parameters: {'iterations': 3403, 'early_stopping_rounds': 370, 'learning_rate': 0.004963399149955466, 'depth': 9, 'l2_leaf_reg': 4.152875552232253, 'min_data_in_leaf': 53, 'grow_policy': 'Depthwise', 'bootstrap_type': 'Bernoulli', 'subsample': 0.5691234479747065}. Best is trial 52 with value: 1.0469314749657086.\n",
      "[I 2024-12-30 16:42:55,994] Trial 70 finished with value: 1.0471244171290677 and parameters: {'iterations': 3390, 'early_stopping_rounds': 395, 'learning_rate': 0.0054334339854452615, 'depth': 8, 'l2_leaf_reg': 4.370985077450751, 'min_data_in_leaf': 53, 'grow_policy': 'Depthwise', 'bootstrap_type': 'Bernoulli', 'subsample': 0.5627137655128683}. Best is trial 52 with value: 1.0469314749657086.\n",
      "[I 2024-12-30 16:43:55,005] Trial 71 finished with value: 1.0470228924847442 and parameters: {'iterations': 3779, 'early_stopping_rounds': 370, 'learning_rate': 0.008575182768360157, 'depth': 9, 'l2_leaf_reg': 3.7801595045511887, 'min_data_in_leaf': 56, 'grow_policy': 'Depthwise', 'bootstrap_type': 'Bernoulli', 'subsample': 0.4730846015577065}. Best is trial 52 with value: 1.0469314749657086.\n",
      "[I 2024-12-30 16:45:10,936] Trial 72 finished with value: 1.0471059988213105 and parameters: {'iterations': 3757, 'early_stopping_rounds': 375, 'learning_rate': 0.008121963333629233, 'depth': 9, 'l2_leaf_reg': 3.436988150940374, 'min_data_in_leaf': 57, 'grow_policy': 'Depthwise', 'bootstrap_type': 'Bernoulli', 'subsample': 0.4095869776650677}. Best is trial 52 with value: 1.0469314749657086.\n",
      "[I 2024-12-30 16:46:12,307] Trial 73 finished with value: 1.0474942217952241 and parameters: {'iterations': 3781, 'early_stopping_rounds': 387, 'learning_rate': 0.014045449532427886, 'depth': 7, 'l2_leaf_reg': 2.966155228666807, 'min_data_in_leaf': 61, 'grow_policy': 'Depthwise', 'bootstrap_type': 'Bernoulli', 'subsample': 0.49059767856383807}. Best is trial 52 with value: 1.0469314749657086.\n",
      "[I 2024-12-30 16:48:18,111] Trial 74 finished with value: 1.046912440556645 and parameters: {'iterations': 3540, 'early_stopping_rounds': 367, 'learning_rate': 0.00376922598363277, 'depth': 10, 'l2_leaf_reg': 4.055454756739919, 'min_data_in_leaf': 47, 'grow_policy': 'Depthwise', 'bootstrap_type': 'Bernoulli', 'subsample': 0.6596794347860302}. Best is trial 74 with value: 1.046912440556645.\n",
      "[I 2024-12-30 16:48:47,882] Trial 75 finished with value: 1.063794504613822 and parameters: {'iterations': 3387, 'early_stopping_rounds': 331, 'learning_rate': 0.0044973280882349975, 'depth': 2, 'l2_leaf_reg': 5.742380056794982, 'min_data_in_leaf': 47, 'grow_policy': 'Depthwise', 'bootstrap_type': 'Bernoulli', 'subsample': 0.5742972821684318}. Best is trial 74 with value: 1.046912440556645.\n",
      "[I 2024-12-30 16:50:37,284] Trial 76 finished with value: 1.047490331954431 and parameters: {'iterations': 3528, 'early_stopping_rounds': 343, 'learning_rate': 0.003493607957379588, 'depth': 10, 'l2_leaf_reg': 4.765947518290357, 'min_data_in_leaf': 46, 'grow_policy': 'Lossguide', 'bootstrap_type': 'Bernoulli', 'subsample': 0.6612833286260282}. Best is trial 74 with value: 1.046912440556645.\n",
      "[I 2024-12-30 16:53:04,941] Trial 77 finished with value: 1.0550244135104485 and parameters: {'iterations': 3140, 'early_stopping_rounds': 311, 'learning_rate': 0.012231060277482626, 'depth': 10, 'l2_leaf_reg': 2.004721815446567, 'min_data_in_leaf': 52, 'grow_policy': 'Depthwise', 'bootstrap_type': 'Bayesian', 'bagging_temperature': 7.947406305727016}. Best is trial 74 with value: 1.046912440556645.\n",
      "[I 2024-12-30 16:55:14,822] Trial 78 finished with value: 1.0473868570414695 and parameters: {'iterations': 2979, 'early_stopping_rounds': 360, 'learning_rate': 0.001112098354708593, 'depth': 10, 'l2_leaf_reg': 3.9861705674198755, 'min_data_in_leaf': 44, 'grow_policy': 'Depthwise', 'bootstrap_type': 'Bernoulli', 'subsample': 0.8777633788565784}. Best is trial 74 with value: 1.046912440556645.\n",
      "[I 2024-12-30 16:55:31,028] Trial 79 finished with value: 1.0471948310129942 and parameters: {'iterations': 3316, 'early_stopping_rounds': 337, 'learning_rate': 0.06818233588956153, 'depth': 9, 'l2_leaf_reg': 5.4216056175821405, 'min_data_in_leaf': 59, 'grow_policy': 'Depthwise', 'bootstrap_type': 'Bernoulli', 'subsample': 0.6283073700852051}. Best is trial 74 with value: 1.046912440556645.\n",
      "[I 2024-12-30 17:02:50,491] Trial 80 finished with value: 1.047937866347702 and parameters: {'iterations': 3566, 'early_stopping_rounds': 298, 'learning_rate': 0.015736082639298377, 'depth': 8, 'l2_leaf_reg': 4.712662315935418, 'min_data_in_leaf': 69, 'grow_policy': 'SymmetricTree', 'bootstrap_type': 'Bernoulli', 'subsample': 0.5847248569294066}. Best is trial 74 with value: 1.046912440556645.\n",
      "[I 2024-12-30 17:03:48,313] Trial 81 finished with value: 1.0470515777737543 and parameters: {'iterations': 3223, 'early_stopping_rounds': 366, 'learning_rate': 0.009676013377192108, 'depth': 9, 'l2_leaf_reg': 3.9092093112291484, 'min_data_in_leaf': 56, 'grow_policy': 'Depthwise', 'bootstrap_type': 'Bernoulli', 'subsample': 0.4642175515793653}. Best is trial 74 with value: 1.046912440556645.\n",
      "[I 2024-12-30 17:05:01,196] Trial 82 finished with value: 1.0469829370140638 and parameters: {'iterations': 3791, 'early_stopping_rounds': 372, 'learning_rate': 0.007143146614962855, 'depth': 10, 'l2_leaf_reg': 2.3891233489390515, 'min_data_in_leaf': 53, 'grow_policy': 'Depthwise', 'bootstrap_type': 'Bernoulli', 'subsample': 0.6813580598511585}. Best is trial 74 with value: 1.046912440556645.\n",
      "[I 2024-12-30 17:06:12,059] Trial 83 finished with value: 1.0469393278222126 and parameters: {'iterations': 3838, 'early_stopping_rounds': 348, 'learning_rate': 0.006521318038528687, 'depth': 10, 'l2_leaf_reg': 1.2565299221034834, 'min_data_in_leaf': 48, 'grow_policy': 'Depthwise', 'bootstrap_type': 'Bernoulli', 'subsample': 0.6831720300413631}. Best is trial 74 with value: 1.046912440556645.\n",
      "[I 2024-12-30 17:07:25,366] Trial 84 finished with value: 1.0470069085499507 and parameters: {'iterations': 3929, 'early_stopping_rounds': 399, 'learning_rate': 0.006028599100313427, 'depth': 10, 'l2_leaf_reg': 1.0142056828460664, 'min_data_in_leaf': 48, 'grow_policy': 'Depthwise', 'bootstrap_type': 'Bernoulli', 'subsample': 0.8011673934648413}. Best is trial 74 with value: 1.046912440556645.\n",
      "[I 2024-12-30 17:08:39,468] Trial 85 finished with value: 1.0469643211242583 and parameters: {'iterations': 3640, 'early_stopping_rounds': 400, 'learning_rate': 0.00607773456679796, 'depth': 10, 'l2_leaf_reg': 1.3735490092236606, 'min_data_in_leaf': 39, 'grow_policy': 'Depthwise', 'bootstrap_type': 'Bernoulli', 'subsample': 0.7029110354715741}. Best is trial 74 with value: 1.046912440556645.\n",
      "[I 2024-12-30 17:11:05,076] Trial 86 finished with value: 1.0469062798763602 and parameters: {'iterations': 3890, 'early_stopping_rounds': 386, 'learning_rate': 0.0028562539247123375, 'depth': 10, 'l2_leaf_reg': 1.692766930537637, 'min_data_in_leaf': 39, 'grow_policy': 'Depthwise', 'bootstrap_type': 'Bernoulli', 'subsample': 0.6936710805981859}. Best is trial 86 with value: 1.0469062798763602.\n",
      "[I 2024-12-30 17:12:45,579] Trial 87 finished with value: 1.0471357021860417 and parameters: {'iterations': 3866, 'early_stopping_rounds': 389, 'learning_rate': 0.004266304128089729, 'depth': 10, 'l2_leaf_reg': 1.4015314754702737, 'min_data_in_leaf': 40, 'grow_policy': 'Depthwise', 'bootstrap_type': 'Bernoulli', 'subsample': 0.9153791969095991}. Best is trial 86 with value: 1.0469062798763602.\n",
      "[I 2024-12-30 17:14:00,478] Trial 88 finished with value: 1.0469531967552288 and parameters: {'iterations': 3881, 'early_stopping_rounds': 381, 'learning_rate': 0.007236827749831273, 'depth': 10, 'l2_leaf_reg': 2.430115266057692, 'min_data_in_leaf': 28, 'grow_policy': 'Depthwise', 'bootstrap_type': 'Bernoulli', 'subsample': 0.676198658484187}. Best is trial 86 with value: 1.0469062798763602.\n",
      "[I 2024-12-30 17:16:02,218] Trial 89 finished with value: 1.053926990194165 and parameters: {'iterations': 3826, 'early_stopping_rounds': 385, 'learning_rate': 0.05720497582172589, 'depth': 10, 'l2_leaf_reg': 2.405834854945071, 'min_data_in_leaf': 25, 'grow_policy': 'Lossguide', 'bootstrap_type': 'Bayesian', 'bagging_temperature': 6.101981133740469}. Best is trial 86 with value: 1.0469062798763602.\n",
      "[I 2024-12-30 17:17:23,076] Trial 90 finished with value: 1.0469786125845706 and parameters: {'iterations': 3867, 'early_stopping_rounds': 394, 'learning_rate': 0.006766497700741499, 'depth': 10, 'l2_leaf_reg': 1.6978693984399988, 'min_data_in_leaf': 34, 'grow_policy': 'Depthwise', 'bootstrap_type': 'Bernoulli', 'subsample': 0.6763238600800207}. Best is trial 86 with value: 1.0469062798763602.\n",
      "[I 2024-12-30 17:19:43,966] Trial 91 finished with value: 1.0469100805639857 and parameters: {'iterations': 3699, 'early_stopping_rounds': 400, 'learning_rate': 0.002826732520285301, 'depth': 10, 'l2_leaf_reg': 1.595810462481172, 'min_data_in_leaf': 29, 'grow_policy': 'Depthwise', 'bootstrap_type': 'Bernoulli', 'subsample': 0.6811587997467333}. Best is trial 86 with value: 1.0469062798763602.\n",
      "[I 2024-12-30 17:22:23,090] Trial 92 finished with value: 1.047123828897186 and parameters: {'iterations': 3851, 'early_stopping_rounds': 395, 'learning_rate': 0.001223217738310514, 'depth': 10, 'l2_leaf_reg': 1.6042764757468557, 'min_data_in_leaf': 29, 'grow_policy': 'Depthwise', 'bootstrap_type': 'Bernoulli', 'subsample': 0.6788569562382353}. Best is trial 86 with value: 1.0469062798763602.\n",
      "[I 2024-12-30 17:23:31,509] Trial 93 finished with value: 1.0470092435386789 and parameters: {'iterations': 3678, 'early_stopping_rounds': 399, 'learning_rate': 0.007409777738303644, 'depth': 10, 'l2_leaf_reg': 1.708141392015715, 'min_data_in_leaf': 33, 'grow_policy': 'Depthwise', 'bootstrap_type': 'Bernoulli', 'subsample': 0.7781808757891585}. Best is trial 86 with value: 1.0469062798763602.\n",
      "[I 2024-12-30 17:24:25,540] Trial 94 finished with value: 1.0469970463960938 and parameters: {'iterations': 3994, 'early_stopping_rounds': 381, 'learning_rate': 0.010584040315478977, 'depth': 10, 'l2_leaf_reg': 1.3275732464255288, 'min_data_in_leaf': 11, 'grow_policy': 'Depthwise', 'bootstrap_type': 'Bernoulli', 'subsample': 0.6944329085757749}. Best is trial 86 with value: 1.0469062798763602.\n",
      "[I 2024-12-30 17:26:39,911] Trial 95 finished with value: 1.046933895356545 and parameters: {'iterations': 3601, 'early_stopping_rounds': 391, 'learning_rate': 0.0030379157808572096, 'depth': 10, 'l2_leaf_reg': 2.3935342590856434, 'min_data_in_leaf': 34, 'grow_policy': 'Depthwise', 'bootstrap_type': 'Bernoulli', 'subsample': 0.6332962488258584}. Best is trial 86 with value: 1.0469062798763602.\n",
      "[I 2024-12-30 17:28:58,149] Trial 96 finished with value: 1.04695865443439 and parameters: {'iterations': 3582, 'early_stopping_rounds': 389, 'learning_rate': 0.002700996515037075, 'depth': 10, 'l2_leaf_reg': 2.272042090935788, 'min_data_in_leaf': 22, 'grow_policy': 'Depthwise', 'bootstrap_type': 'Bernoulli', 'subsample': 0.6378946441278679}. Best is trial 86 with value: 1.0469062798763602.\n",
      "[I 2024-12-30 17:31:13,939] Trial 97 finished with value: 1.046916886905058 and parameters: {'iterations': 3590, 'early_stopping_rounds': 390, 'learning_rate': 0.0033149470274049108, 'depth': 10, 'l2_leaf_reg': 1.9583756744606342, 'min_data_in_leaf': 24, 'grow_policy': 'Depthwise', 'bootstrap_type': 'Bernoulli', 'subsample': 0.6296962471389898}. Best is trial 86 with value: 1.0469062798763602.\n",
      "[I 2024-12-30 17:33:37,068] Trial 98 finished with value: 1.0469319866623206 and parameters: {'iterations': 3701, 'early_stopping_rounds': 389, 'learning_rate': 0.0029903512954440065, 'depth': 10, 'l2_leaf_reg': 1.9760737634597998, 'min_data_in_leaf': 22, 'grow_policy': 'Depthwise', 'bootstrap_type': 'Bernoulli', 'subsample': 0.6314226242514709}. Best is trial 86 with value: 1.0469062798763602.\n",
      "[I 2024-12-30 17:35:53,621] Trial 99 finished with value: 1.046927424949905 and parameters: {'iterations': 3599, 'early_stopping_rounds': 384, 'learning_rate': 0.002819101950705685, 'depth': 10, 'l2_leaf_reg': 2.711289451249309, 'min_data_in_leaf': 22, 'grow_policy': 'Depthwise', 'bootstrap_type': 'Bernoulli', 'subsample': 0.6409704966474802}. Best is trial 86 with value: 1.0469062798763602.\n"
     ]
    }
   ],
   "source": [
    "from optuna.samplers import TPESampler\n",
    "\n",
    "sampler = TPESampler(seed=777)\n",
    "study = optuna.create_study(\n",
    "        #pruner=optuna.pruners.MedianPruner(n_startup_trials=5,n_warmup_steps=1000), Not with GPU \n",
    "        direction='minimize', \n",
    "        sampler=sampler)\n",
    "study.optimize(objective, n_trials=100)"
   ]
  },
  {
   "cell_type": "code",
   "execution_count": 54,
   "id": "c06a48d6",
   "metadata": {
    "execution": {
     "iopub.execute_input": "2024-12-30T17:35:53.672710Z",
     "iopub.status.busy": "2024-12-30T17:35:53.672162Z",
     "iopub.status.idle": "2024-12-30T17:35:53.676601Z",
     "shell.execute_reply": "2024-12-30T17:35:53.675853Z"
    },
    "papermill": {
     "duration": 0.022117,
     "end_time": "2024-12-30T17:35:53.678246",
     "exception": false,
     "start_time": "2024-12-30T17:35:53.656129",
     "status": "completed"
    },
    "tags": []
   },
   "outputs": [
    {
     "name": "stdout",
     "output_type": "stream",
     "text": [
      "{'iterations': 3890, 'early_stopping_rounds': 386, 'learning_rate': 0.0028562539247123375, 'depth': 10, 'l2_leaf_reg': 1.692766930537637, 'min_data_in_leaf': 39, 'grow_policy': 'Depthwise', 'bootstrap_type': 'Bernoulli', 'subsample': 0.6936710805981859}\n"
     ]
    }
   ],
   "source": [
    "print(study.best_params)"
   ]
  },
  {
   "cell_type": "code",
   "execution_count": 55,
   "id": "6ff3eca0",
   "metadata": {
    "execution": {
     "iopub.execute_input": "2024-12-30T17:35:53.710586Z",
     "iopub.status.busy": "2024-12-30T17:35:53.710319Z",
     "iopub.status.idle": "2024-12-30T17:35:53.714066Z",
     "shell.execute_reply": "2024-12-30T17:35:53.713412Z"
    },
    "papermill": {
     "duration": 0.021542,
     "end_time": "2024-12-30T17:35:53.715603",
     "exception": false,
     "start_time": "2024-12-30T17:35:53.694061",
     "status": "completed"
    },
    "tags": []
   },
   "outputs": [],
   "source": [
    "# best_params={'iterations': 3993, \n",
    "#              'early_stopping_rounds': 196,\n",
    "#              'learning_rate': 0.04388555358504515,\n",
    "#              'depth': 10,\n",
    "#              'l2_leaf_reg': 4.406115225787097,\n",
    "#              'min_data_in_leaf': 69,\n",
    "#              'grow_policy': 'Lossguide'}\n",
    "\n",
    "#best_params={'iterations': 1719,\n",
    "#             'early_stopping_rounds': 62,\n",
    "#             'learning_rate': 0.022712635681532305,\n",
    "#             'depth': 10, 'l2_leaf_reg': 2.266827548044181,\n",
    "#             'min_data_in_leaf': 66,\n",
    "#             'grow_policy': 'Depthwise'}\n",
    "#metriclist, model = calc_test_quality(train_pool,val_pool,**best_params)\n",
    "#model.save_model('optuna_tune_model')"
   ]
  },
  {
   "cell_type": "code",
   "execution_count": 56,
   "id": "79cfd9de",
   "metadata": {
    "execution": {
     "iopub.execute_input": "2024-12-30T17:35:53.746892Z",
     "iopub.status.busy": "2024-12-30T17:35:53.746633Z",
     "iopub.status.idle": "2024-12-30T17:35:53.749860Z",
     "shell.execute_reply": "2024-12-30T17:35:53.749190Z"
    },
    "papermill": {
     "duration": 0.020777,
     "end_time": "2024-12-30T17:35:53.751405",
     "exception": false,
     "start_time": "2024-12-30T17:35:53.730628",
     "status": "completed"
    },
    "tags": []
   },
   "outputs": [],
   "source": [
    "#print(metriclist)"
   ]
  },
  {
   "cell_type": "code",
   "execution_count": 57,
   "id": "83c4ea1a",
   "metadata": {
    "execution": {
     "iopub.execute_input": "2024-12-30T17:35:53.782629Z",
     "iopub.status.busy": "2024-12-30T17:35:53.782416Z",
     "iopub.status.idle": "2024-12-30T18:05:38.288412Z",
     "shell.execute_reply": "2024-12-30T18:05:38.287649Z"
    },
    "papermill": {
     "duration": 1784.524075,
     "end_time": "2024-12-30T18:05:38.290691",
     "exception": false,
     "start_time": "2024-12-30T17:35:53.766616",
     "status": "completed"
    },
    "tags": []
   },
   "outputs": [],
   "source": [
    "#predicts = model.predict(X_test)\n",
    "predicts = bagging_prob(train_pool,val_pool,**study.best_params)"
   ]
  },
  {
   "cell_type": "code",
   "execution_count": 58,
   "id": "eaafab57",
   "metadata": {
    "execution": {
     "iopub.execute_input": "2024-12-30T18:05:38.324274Z",
     "iopub.status.busy": "2024-12-30T18:05:38.323981Z",
     "iopub.status.idle": "2024-12-30T18:05:38.329142Z",
     "shell.execute_reply": "2024-12-30T18:05:38.328505Z"
    },
    "papermill": {
     "duration": 0.023602,
     "end_time": "2024-12-30T18:05:38.330806",
     "exception": false,
     "start_time": "2024-12-30T18:05:38.307204",
     "status": "completed"
    },
    "tags": []
   },
   "outputs": [],
   "source": [
    "predicts_original_scale = np.expm1(predicts)"
   ]
  },
  {
   "cell_type": "code",
   "execution_count": 59,
   "id": "2523f275",
   "metadata": {
    "execution": {
     "iopub.execute_input": "2024-12-30T18:05:38.365705Z",
     "iopub.status.busy": "2024-12-30T18:05:38.365443Z",
     "iopub.status.idle": "2024-12-30T18:05:39.745397Z",
     "shell.execute_reply": "2024-12-30T18:05:39.744634Z"
    },
    "papermill": {
     "duration": 1.398454,
     "end_time": "2024-12-30T18:05:39.747396",
     "exception": false,
     "start_time": "2024-12-30T18:05:38.348942",
     "status": "completed"
    },
    "tags": []
   },
   "outputs": [],
   "source": [
    "temp=pd.concat([df_test['id'],pd.DataFrame(predicts_original_scale,columns=['Premium Amount'])],axis=1).reset_index(drop=True)\n",
    "temp.to_csv('submissionfloat19.csv',index=False)"
   ]
  },
  {
   "cell_type": "code",
   "execution_count": 60,
   "id": "17093a28",
   "metadata": {
    "execution": {
     "iopub.execute_input": "2024-12-30T18:05:39.780356Z",
     "iopub.status.busy": "2024-12-30T18:05:39.780064Z",
     "iopub.status.idle": "2024-12-30T18:05:39.783576Z",
     "shell.execute_reply": "2024-12-30T18:05:39.782900Z"
    },
    "papermill": {
     "duration": 0.02116,
     "end_time": "2024-12-30T18:05:39.784957",
     "exception": false,
     "start_time": "2024-12-30T18:05:39.763797",
     "status": "completed"
    },
    "tags": []
   },
   "outputs": [],
   "source": [
    "#from IPython.display import FileLink\n",
    "\n",
    "# Provide a link to the file in the notebook\n",
    "#FileLink(\"subfloat2.zip\")\n"
   ]
  },
  {
   "cell_type": "code",
   "execution_count": 61,
   "id": "48f852e9",
   "metadata": {
    "execution": {
     "iopub.execute_input": "2024-12-30T18:05:39.817034Z",
     "iopub.status.busy": "2024-12-30T18:05:39.816750Z",
     "iopub.status.idle": "2024-12-30T18:05:39.820095Z",
     "shell.execute_reply": "2024-12-30T18:05:39.819448Z"
    },
    "papermill": {
     "duration": 0.021111,
     "end_time": "2024-12-30T18:05:39.821645",
     "exception": false,
     "start_time": "2024-12-30T18:05:39.800534",
     "status": "completed"
    },
    "tags": []
   },
   "outputs": [],
   "source": [
    "#round int\n",
    "#temp=pd.concat([df_test['id'],pd.DataFrame(np.rint(predicts_original_scale),columns=['Premium Amount'])],axis=1).reset_index(drop=True)"
   ]
  },
  {
   "cell_type": "code",
   "execution_count": 62,
   "id": "dca81777",
   "metadata": {
    "execution": {
     "iopub.execute_input": "2024-12-30T18:05:39.854357Z",
     "iopub.status.busy": "2024-12-30T18:05:39.853867Z",
     "iopub.status.idle": "2024-12-30T18:05:39.857263Z",
     "shell.execute_reply": "2024-12-30T18:05:39.856610Z"
    },
    "papermill": {
     "duration": 0.021608,
     "end_time": "2024-12-30T18:05:39.858871",
     "exception": false,
     "start_time": "2024-12-30T18:05:39.837263",
     "status": "completed"
    },
    "tags": []
   },
   "outputs": [],
   "source": [
    "#not round int\n",
    "#temp2=pd.concat([df_test['id'],pd.DataFrame(predicts_original_scale.astype(int),columns=['Premium Amount'])],axis=1).reset_index(drop=True)"
   ]
  },
  {
   "cell_type": "code",
   "execution_count": 63,
   "id": "a674cf1b",
   "metadata": {
    "execution": {
     "iopub.execute_input": "2024-12-30T18:05:39.892961Z",
     "iopub.status.busy": "2024-12-30T18:05:39.892428Z",
     "iopub.status.idle": "2024-12-30T18:05:39.896214Z",
     "shell.execute_reply": "2024-12-30T18:05:39.895360Z"
    },
    "papermill": {
     "duration": 0.022446,
     "end_time": "2024-12-30T18:05:39.897787",
     "exception": false,
     "start_time": "2024-12-30T18:05:39.875341",
     "status": "completed"
    },
    "tags": []
   },
   "outputs": [],
   "source": [
    "#temp.to_csv('submissionX.csv',index=False)"
   ]
  },
  {
   "cell_type": "code",
   "execution_count": 64,
   "id": "029756e8",
   "metadata": {
    "execution": {
     "iopub.execute_input": "2024-12-30T18:05:39.931478Z",
     "iopub.status.busy": "2024-12-30T18:05:39.931214Z",
     "iopub.status.idle": "2024-12-30T18:05:39.934614Z",
     "shell.execute_reply": "2024-12-30T18:05:39.933836Z"
    },
    "papermill": {
     "duration": 0.021901,
     "end_time": "2024-12-30T18:05:39.936164",
     "exception": false,
     "start_time": "2024-12-30T18:05:39.914263",
     "status": "completed"
    },
    "tags": []
   },
   "outputs": [],
   "source": [
    "#temp2.to_csv('submission_not_round.csv',index=False)"
   ]
  },
  {
   "cell_type": "code",
   "execution_count": null,
   "id": "d38985ea",
   "metadata": {
    "papermill": {
     "duration": 0.015682,
     "end_time": "2024-12-30T18:05:39.968004",
     "exception": false,
     "start_time": "2024-12-30T18:05:39.952322",
     "status": "completed"
    },
    "tags": []
   },
   "outputs": [],
   "source": []
  },
  {
   "cell_type": "code",
   "execution_count": 65,
   "id": "70cd0fe1",
   "metadata": {
    "execution": {
     "iopub.execute_input": "2024-12-30T18:05:40.000821Z",
     "iopub.status.busy": "2024-12-30T18:05:40.000494Z",
     "iopub.status.idle": "2024-12-30T18:05:42.191213Z",
     "shell.execute_reply": "2024-12-30T18:05:42.190278Z"
    },
    "papermill": {
     "duration": 2.209515,
     "end_time": "2024-12-30T18:05:42.193133",
     "exception": false,
     "start_time": "2024-12-30T18:05:39.983618",
     "status": "completed"
    },
    "tags": []
   },
   "outputs": [
    {
     "name": "stdout",
     "output_type": "stream",
     "text": [
      "rm: cannot remove 'subnotround.zip': No such file or directory\r\n",
      "\tzip warning: name not matched: submission_not_round.csv\r\n",
      "\r\n",
      "zip error: Nothing to do! (subnotround.zip)\r\n"
     ]
    }
   ],
   "source": [
    "!rm subnotround.zip\n",
    "!zip subnotround.zip submission_not_round.csv\n"
   ]
  },
  {
   "cell_type": "code",
   "execution_count": 66,
   "id": "91ada7bd",
   "metadata": {
    "execution": {
     "iopub.execute_input": "2024-12-30T18:05:42.226571Z",
     "iopub.status.busy": "2024-12-30T18:05:42.226042Z",
     "iopub.status.idle": "2024-12-30T18:05:44.331693Z",
     "shell.execute_reply": "2024-12-30T18:05:44.330528Z"
    },
    "papermill": {
     "duration": 2.124601,
     "end_time": "2024-12-30T18:05:44.333893",
     "exception": false,
     "start_time": "2024-12-30T18:05:42.209292",
     "status": "completed"
    },
    "tags": []
   },
   "outputs": [
    {
     "name": "stdout",
     "output_type": "stream",
     "text": [
      "rm: cannot remove 'sub.zip': No such file or directory\r\n",
      "\tzip warning: name not matched: submissionX.csv\r\n",
      "\r\n",
      "zip error: Nothing to do! (sub.zip)\r\n"
     ]
    }
   ],
   "source": [
    "!rm sub.zip\n",
    "!zip sub.zip submissionX.csv"
   ]
  },
  {
   "cell_type": "code",
   "execution_count": 67,
   "id": "568edfff",
   "metadata": {
    "execution": {
     "iopub.execute_input": "2024-12-30T18:05:44.370134Z",
     "iopub.status.busy": "2024-12-30T18:05:44.369389Z",
     "iopub.status.idle": "2024-12-30T18:05:45.421270Z",
     "shell.execute_reply": "2024-12-30T18:05:45.420165Z"
    },
    "papermill": {
     "duration": 1.072789,
     "end_time": "2024-12-30T18:05:45.423131",
     "exception": false,
     "start_time": "2024-12-30T18:05:44.350342",
     "status": "completed"
    },
    "tags": []
   },
   "outputs": [
    {
     "name": "stdout",
     "output_type": "stream",
     "text": [
      "ls: cannot access '*.zip': No such file or directory\r\n"
     ]
    }
   ],
   "source": [
    "!ls -al *.zip"
   ]
  }
 ],
 "metadata": {
  "kaggle": {
   "accelerator": "nvidiaTeslaT4",
   "dataSources": [
    {
     "databundleVersionId": 10305135,
     "sourceId": 84896,
     "sourceType": "competition"
    },
    {
     "datasetId": 6332864,
     "sourceId": 10240600,
     "sourceType": "datasetVersion"
    }
   ],
   "dockerImageVersionId": 30804,
   "isGpuEnabled": true,
   "isInternetEnabled": true,
   "language": "python",
   "sourceType": "notebook"
  },
  "kernelspec": {
   "display_name": "Python 3",
   "language": "python",
   "name": "python3"
  },
  "language_info": {
   "codemirror_mode": {
    "name": "ipython",
    "version": 3
   },
   "file_extension": ".py",
   "mimetype": "text/x-python",
   "name": "python",
   "nbconvert_exporter": "python",
   "pygments_lexer": "ipython3",
   "version": "3.10.14"
  },
  "papermill": {
   "default_parameters": {},
   "duration": 9813.20953,
   "end_time": "2024-12-30T18:05:46.460177",
   "environment_variables": {},
   "exception": null,
   "input_path": "__notebook__.ipynb",
   "output_path": "__notebook__.ipynb",
   "parameters": {},
   "start_time": "2024-12-30T15:22:13.250647",
   "version": "2.6.0"
  }
 },
 "nbformat": 4,
 "nbformat_minor": 5
}
