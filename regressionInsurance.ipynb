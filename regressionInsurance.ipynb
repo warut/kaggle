{
 "cells": [
  {
   "cell_type": "code",
   "execution_count": 1,
   "id": "397c8053",
   "metadata": {
    "_cell_guid": "b1076dfc-b9ad-4769-8c92-a6c4dae69d19",
    "_uuid": "8f2839f25d086af736a60e9eeb907d3b93b6e0e5",
    "execution": {
     "iopub.execute_input": "2024-12-30T20:15:58.391873Z",
     "iopub.status.busy": "2024-12-30T20:15:58.391584Z",
     "iopub.status.idle": "2024-12-30T20:15:59.127822Z",
     "shell.execute_reply": "2024-12-30T20:15:59.126927Z"
    },
    "papermill": {
     "duration": 0.74862,
     "end_time": "2024-12-30T20:15:59.129798",
     "exception": false,
     "start_time": "2024-12-30T20:15:58.381178",
     "status": "completed"
    },
    "tags": []
   },
   "outputs": [
    {
     "name": "stdout",
     "output_type": "stream",
     "text": [
      "/kaggle/input/playground-series-s4e12/sample_submission.csv\n",
      "/kaggle/input/playground-series-s4e12/train.csv\n",
      "/kaggle/input/playground-series-s4e12/test.csv\n",
      "/kaggle/input/catfitmodel/catfit\n"
     ]
    }
   ],
   "source": [
    "# This Python 3 environment comes with many helpful analytics libraries installed\n",
    "# It is defined by the kaggle/python Docker image: https://github.com/kaggle/docker-python\n",
    "# For example, here's several helpful packages to load\n",
    "\n",
    "import numpy as np # linear algebra\n",
    "import pandas as pd # data processing, CSV file I/O (e.g. pd.read_csv)\n",
    "\n",
    "# Input data files are available in the read-only \"../input/\" directory\n",
    "# For example, running this (by clicking run or pressing Shift+Enter) will list all files under the input directory\n",
    "\n",
    "import os\n",
    "for dirname, _, filenames in os.walk('/kaggle/input'):\n",
    "    for filename in filenames:\n",
    "        print(os.path.join(dirname, filename))\n",
    "\n",
    "# You can write up to 20GB to the current directory (/kaggle/working/) that gets preserved as output when you create a version using \"Save & Run All\" \n",
    "# You can also write temporary files to /kaggle/temp/, but they won't be saved outside of the current session"
   ]
  },
  {
   "cell_type": "code",
   "execution_count": 2,
   "id": "cbae2d10",
   "metadata": {
    "execution": {
     "iopub.execute_input": "2024-12-30T20:15:59.146945Z",
     "iopub.status.busy": "2024-12-30T20:15:59.146628Z",
     "iopub.status.idle": "2024-12-30T20:15:59.150289Z",
     "shell.execute_reply": "2024-12-30T20:15:59.149504Z"
    },
    "papermill": {
     "duration": 0.013862,
     "end_time": "2024-12-30T20:15:59.152046",
     "exception": false,
     "start_time": "2024-12-30T20:15:59.138184",
     "status": "completed"
    },
    "tags": []
   },
   "outputs": [],
   "source": [
    "#!pip install -U feature-engine\n",
    "#!pip install optuna-integration[catboost]   "
   ]
  },
  {
   "cell_type": "code",
   "execution_count": 3,
   "id": "b9c01862",
   "metadata": {
    "execution": {
     "iopub.execute_input": "2024-12-30T20:15:59.168411Z",
     "iopub.status.busy": "2024-12-30T20:15:59.168157Z",
     "iopub.status.idle": "2024-12-30T20:16:01.191828Z",
     "shell.execute_reply": "2024-12-30T20:16:01.191062Z"
    },
    "papermill": {
     "duration": 2.034104,
     "end_time": "2024-12-30T20:16:01.193994",
     "exception": false,
     "start_time": "2024-12-30T20:15:59.159890",
     "status": "completed"
    },
    "tags": []
   },
   "outputs": [],
   "source": [
    "\n",
    "import pandas as pd\n",
    "import numpy as np\n",
    "import matplotlib.pyplot as plt\n",
    "import seaborn as sns\n",
    "import optuna\n",
    "import catboost\n",
    "#from optuna.integration import CatBoostPruningCallback\n",
    "from optuna.samplers import TPESampler\n",
    "from catboost.utils import eval_metric\n",
    "from sklearn.model_selection import train_test_split\n",
    "from sklearn.preprocessing import PowerTransformer"
   ]
  },
  {
   "cell_type": "code",
   "execution_count": 4,
   "id": "e1d3d039",
   "metadata": {
    "execution": {
     "iopub.execute_input": "2024-12-30T20:16:01.210929Z",
     "iopub.status.busy": "2024-12-30T20:16:01.210530Z",
     "iopub.status.idle": "2024-12-30T20:16:01.217528Z",
     "shell.execute_reply": "2024-12-30T20:16:01.216678Z"
    },
    "papermill": {
     "duration": 0.016912,
     "end_time": "2024-12-30T20:16:01.219090",
     "exception": false,
     "start_time": "2024-12-30T20:16:01.202178",
     "status": "completed"
    },
    "tags": []
   },
   "outputs": [],
   "source": [
    "#Optuna objective function\n",
    "def objective(trial):\n",
    "    params = {\n",
    "        #\"iterations\": 5000, 5000 is taking more than 12 hours    # OPtuna example not specify iteration\n",
    "        'iterations': trial.suggest_int('iterations', 1000, 6000), \n",
    "        'early_stopping_rounds': trial.suggest_int('early_stopping_rounds', 100, 600), \n",
    "        \"learning_rate\": trial.suggest_float(\"learning_rate\", 1e-3, 0.1),\n",
    "        \"depth\": trial.suggest_int(\"depth\", 1, 10),\n",
    "        'l2_leaf_reg': trial.suggest_float('l2_leaf_reg', 1, 10),\n",
    "        #\"subsample\": trial.suggest_float(\"subsample\", 0.05, 1.0),  subsample only support bernoulli bootstrap_type\n",
    "        #\"colsample_bylevel\": trial.suggest_float(\"colsample_bylevel\", 0.05, 1.0),\n",
    "        \"min_data_in_leaf\": trial.suggest_int(\"min_data_in_leaf\", 2, 100),\n",
    "        'grow_policy': trial.suggest_categorical('grow_policy', ['Depthwise']),\n",
    "         \"bootstrap_type\": trial.suggest_categorical(\n",
    "            \"bootstrap_type\", [\"Bernoulli\"] #MVS not compat with GPU\n",
    "        ),\n",
    "        \"loss_function\": \"RMSE\",\n",
    "    }\n",
    "    if params[\"bootstrap_type\"] == \"Bayesian\":\n",
    "        params[\"bagging_temperature\"] = trial.suggest_float(\"bagging_temperature\", 0, 10)\n",
    "    elif params[\"bootstrap_type\"] == \"Bernoulli\":\n",
    "        params[\"subsample\"] = trial.suggest_float(\"subsample\", 0.05, 1, log=True)\n",
    "\n",
    "    \n",
    "\n",
    "    model = CatBoostRegressor(**params, task_type=\"GPU\",silent=True,random_seed=51,)\n",
    "    \n",
    "    #pruning_callback = CatBoostPruningCallback(trial, \"RMSE\") only with CPU\n",
    "\n",
    "    model.fit(train_pool,verbose=0,\n",
    "              eval_set=val_pool, \n",
    "              #callbacks=[pruning_callback],\n",
    "             )\n",
    "    y_pred = model.predict(val_pool)\n",
    "    #rmse = mean_squared_error(y_val, predictions, squared=False)\n",
    "    return eval_metric(val_pool.get_label(),y_pred,'RMSE')"
   ]
  },
  {
   "cell_type": "code",
   "execution_count": 5,
   "id": "430b849e",
   "metadata": {
    "execution": {
     "iopub.execute_input": "2024-12-30T20:16:01.234770Z",
     "iopub.status.busy": "2024-12-30T20:16:01.234527Z",
     "iopub.status.idle": "2024-12-30T20:16:09.576373Z",
     "shell.execute_reply": "2024-12-30T20:16:09.575618Z"
    },
    "papermill": {
     "duration": 8.352128,
     "end_time": "2024-12-30T20:16:09.578594",
     "exception": false,
     "start_time": "2024-12-30T20:16:01.226466",
     "status": "completed"
    },
    "tags": []
   },
   "outputs": [],
   "source": [
    "df_train = pd.read_csv('/kaggle/input/playground-series-s4e12/train.csv')\n",
    "df_test = pd.read_csv('/kaggle/input/playground-series-s4e12/test.csv')"
   ]
  },
  {
   "cell_type": "code",
   "execution_count": 6,
   "id": "a3245ea9",
   "metadata": {
    "execution": {
     "iopub.execute_input": "2024-12-30T20:16:09.596639Z",
     "iopub.status.busy": "2024-12-30T20:16:09.595809Z",
     "iopub.status.idle": "2024-12-30T20:16:18.556897Z",
     "shell.execute_reply": "2024-12-30T20:16:18.556199Z"
    },
    "papermill": {
     "duration": 8.972104,
     "end_time": "2024-12-30T20:16:18.558967",
     "exception": false,
     "start_time": "2024-12-30T20:16:09.586863",
     "status": "completed"
    },
    "tags": []
   },
   "outputs": [],
   "source": [
    "#df_train['StartYM']=pd.to_datetime(df_train['Policy Start Date']).dt.strftime('%Y-%m')\n",
    "df_train['StartY']=pd.to_datetime(df_train['Policy Start Date']).dt.strftime('%Y-%m')\n",
    "df_test['StartY']=pd.to_datetime(df_test['Policy Start Date']).dt.strftime('%Y-%m')"
   ]
  },
  {
   "cell_type": "code",
   "execution_count": 7,
   "id": "482578a6",
   "metadata": {
    "execution": {
     "iopub.execute_input": "2024-12-30T20:16:18.576305Z",
     "iopub.status.busy": "2024-12-30T20:16:18.576067Z",
     "iopub.status.idle": "2024-12-30T20:16:18.683119Z",
     "shell.execute_reply": "2024-12-30T20:16:18.682291Z"
    },
    "papermill": {
     "duration": 0.117812,
     "end_time": "2024-12-30T20:16:18.684844",
     "exception": false,
     "start_time": "2024-12-30T20:16:18.567032",
     "status": "completed"
    },
    "tags": []
   },
   "outputs": [
    {
     "data": {
      "text/plain": [
       "StartY\n",
       "2022-05    22166\n",
       "2023-03    21624\n",
       "2022-08    21532\n",
       "2021-07    21404\n",
       "2022-11    21396\n",
       "           ...  \n",
       "2019-12    18581\n",
       "2024-06    18210\n",
       "2019-11    17889\n",
       "2019-08     8868\n",
       "2024-08     8289\n",
       "Name: count, Length: 61, dtype: int64"
      ]
     },
     "execution_count": 7,
     "metadata": {},
     "output_type": "execute_result"
    }
   ],
   "source": [
    "df_train['StartY'].value_counts()"
   ]
  },
  {
   "cell_type": "code",
   "execution_count": 8,
   "id": "ac653468",
   "metadata": {
    "execution": {
     "iopub.execute_input": "2024-12-30T20:16:18.701675Z",
     "iopub.status.busy": "2024-12-30T20:16:18.701399Z",
     "iopub.status.idle": "2024-12-30T20:16:18.792264Z",
     "shell.execute_reply": "2024-12-30T20:16:18.791396Z"
    },
    "papermill": {
     "duration": 0.101022,
     "end_time": "2024-12-30T20:16:18.793876",
     "exception": false,
     "start_time": "2024-12-30T20:16:18.692854",
     "status": "completed"
    },
    "tags": []
   },
   "outputs": [
    {
     "data": {
      "text/html": [
       "<div>\n",
       "<style scoped>\n",
       "    .dataframe tbody tr th:only-of-type {\n",
       "        vertical-align: middle;\n",
       "    }\n",
       "\n",
       "    .dataframe tbody tr th {\n",
       "        vertical-align: top;\n",
       "    }\n",
       "\n",
       "    .dataframe thead th {\n",
       "        text-align: right;\n",
       "    }\n",
       "</style>\n",
       "<table border=\"1\" class=\"dataframe\">\n",
       "  <thead>\n",
       "    <tr style=\"text-align: right;\">\n",
       "      <th></th>\n",
       "      <th>StartY</th>\n",
       "      <th>count</th>\n",
       "    </tr>\n",
       "  </thead>\n",
       "  <tbody>\n",
       "    <tr>\n",
       "      <th>60</th>\n",
       "      <td>2024-08</td>\n",
       "      <td>8289</td>\n",
       "    </tr>\n",
       "    <tr>\n",
       "      <th>55</th>\n",
       "      <td>2024-07</td>\n",
       "      <td>18798</td>\n",
       "    </tr>\n",
       "    <tr>\n",
       "      <th>57</th>\n",
       "      <td>2024-06</td>\n",
       "      <td>18210</td>\n",
       "    </tr>\n",
       "    <tr>\n",
       "      <th>5</th>\n",
       "      <td>2024-05</td>\n",
       "      <td>21251</td>\n",
       "    </tr>\n",
       "    <tr>\n",
       "      <th>46</th>\n",
       "      <td>2024-04</td>\n",
       "      <td>19389</td>\n",
       "    </tr>\n",
       "    <tr>\n",
       "      <th>...</th>\n",
       "      <td>...</td>\n",
       "      <td>...</td>\n",
       "    </tr>\n",
       "    <tr>\n",
       "      <th>56</th>\n",
       "      <td>2019-12</td>\n",
       "      <td>18581</td>\n",
       "    </tr>\n",
       "    <tr>\n",
       "      <th>58</th>\n",
       "      <td>2019-11</td>\n",
       "      <td>17889</td>\n",
       "    </tr>\n",
       "    <tr>\n",
       "      <th>47</th>\n",
       "      <td>2019-10</td>\n",
       "      <td>19355</td>\n",
       "    </tr>\n",
       "    <tr>\n",
       "      <th>42</th>\n",
       "      <td>2019-09</td>\n",
       "      <td>19596</td>\n",
       "    </tr>\n",
       "    <tr>\n",
       "      <th>59</th>\n",
       "      <td>2019-08</td>\n",
       "      <td>8868</td>\n",
       "    </tr>\n",
       "  </tbody>\n",
       "</table>\n",
       "<p>61 rows × 2 columns</p>\n",
       "</div>"
      ],
      "text/plain": [
       "     StartY  count\n",
       "60  2024-08   8289\n",
       "55  2024-07  18798\n",
       "57  2024-06  18210\n",
       "5   2024-05  21251\n",
       "46  2024-04  19389\n",
       "..      ...    ...\n",
       "56  2019-12  18581\n",
       "58  2019-11  17889\n",
       "47  2019-10  19355\n",
       "42  2019-09  19596\n",
       "59  2019-08   8868\n",
       "\n",
       "[61 rows x 2 columns]"
      ]
     },
     "execution_count": 8,
     "metadata": {},
     "output_type": "execute_result"
    }
   ],
   "source": [
    "df_train['StartY'].value_counts().reset_index().sort_values(by=['StartY'],ascending=False)"
   ]
  },
  {
   "cell_type": "code",
   "execution_count": 9,
   "id": "3d7226a9",
   "metadata": {
    "execution": {
     "iopub.execute_input": "2024-12-30T20:16:18.810763Z",
     "iopub.status.busy": "2024-12-30T20:16:18.810518Z",
     "iopub.status.idle": "2024-12-30T20:16:18.974770Z",
     "shell.execute_reply": "2024-12-30T20:16:18.973662Z"
    },
    "papermill": {
     "duration": 0.174788,
     "end_time": "2024-12-30T20:16:18.976810",
     "exception": false,
     "start_time": "2024-12-30T20:16:18.802022",
     "status": "completed"
    },
    "tags": []
   },
   "outputs": [
    {
     "data": {
      "text/html": [
       "<div>\n",
       "<style scoped>\n",
       "    .dataframe tbody tr th:only-of-type {\n",
       "        vertical-align: middle;\n",
       "    }\n",
       "\n",
       "    .dataframe tbody tr th {\n",
       "        vertical-align: top;\n",
       "    }\n",
       "\n",
       "    .dataframe thead th {\n",
       "        text-align: right;\n",
       "    }\n",
       "</style>\n",
       "<table border=\"1\" class=\"dataframe\">\n",
       "  <thead>\n",
       "    <tr style=\"text-align: right;\">\n",
       "      <th></th>\n",
       "      <th>count</th>\n",
       "      <th>mean</th>\n",
       "      <th>std</th>\n",
       "      <th>min</th>\n",
       "      <th>25%</th>\n",
       "      <th>50%</th>\n",
       "      <th>75%</th>\n",
       "      <th>max</th>\n",
       "    </tr>\n",
       "    <tr>\n",
       "      <th>StartY</th>\n",
       "      <th></th>\n",
       "      <th></th>\n",
       "      <th></th>\n",
       "      <th></th>\n",
       "      <th></th>\n",
       "      <th></th>\n",
       "      <th></th>\n",
       "      <th></th>\n",
       "    </tr>\n",
       "  </thead>\n",
       "  <tbody>\n",
       "    <tr>\n",
       "      <th>2019-08</th>\n",
       "      <td>750.0</td>\n",
       "      <td>55.880000</td>\n",
       "      <td>33.038013</td>\n",
       "      <td>20.0</td>\n",
       "      <td>28.0</td>\n",
       "      <td>40.0</td>\n",
       "      <td>88.00</td>\n",
       "      <td>119.0</td>\n",
       "    </tr>\n",
       "    <tr>\n",
       "      <th>2019-09</th>\n",
       "      <td>1728.0</td>\n",
       "      <td>54.236111</td>\n",
       "      <td>32.662809</td>\n",
       "      <td>20.0</td>\n",
       "      <td>28.0</td>\n",
       "      <td>39.0</td>\n",
       "      <td>85.00</td>\n",
       "      <td>119.0</td>\n",
       "    </tr>\n",
       "    <tr>\n",
       "      <th>2019-10</th>\n",
       "      <td>1628.0</td>\n",
       "      <td>53.222973</td>\n",
       "      <td>32.727574</td>\n",
       "      <td>20.0</td>\n",
       "      <td>27.0</td>\n",
       "      <td>38.0</td>\n",
       "      <td>81.25</td>\n",
       "      <td>119.0</td>\n",
       "    </tr>\n",
       "    <tr>\n",
       "      <th>2019-11</th>\n",
       "      <td>1479.0</td>\n",
       "      <td>54.600406</td>\n",
       "      <td>33.092735</td>\n",
       "      <td>20.0</td>\n",
       "      <td>27.0</td>\n",
       "      <td>39.0</td>\n",
       "      <td>86.50</td>\n",
       "      <td>119.0</td>\n",
       "    </tr>\n",
       "    <tr>\n",
       "      <th>2019-12</th>\n",
       "      <td>1646.0</td>\n",
       "      <td>55.174362</td>\n",
       "      <td>32.894424</td>\n",
       "      <td>20.0</td>\n",
       "      <td>28.0</td>\n",
       "      <td>39.0</td>\n",
       "      <td>86.75</td>\n",
       "      <td>119.0</td>\n",
       "    </tr>\n",
       "    <tr>\n",
       "      <th>...</th>\n",
       "      <td>...</td>\n",
       "      <td>...</td>\n",
       "      <td>...</td>\n",
       "      <td>...</td>\n",
       "      <td>...</td>\n",
       "      <td>...</td>\n",
       "      <td>...</td>\n",
       "      <td>...</td>\n",
       "    </tr>\n",
       "    <tr>\n",
       "      <th>2024-04</th>\n",
       "      <td>1723.0</td>\n",
       "      <td>58.331979</td>\n",
       "      <td>33.660618</td>\n",
       "      <td>20.0</td>\n",
       "      <td>29.0</td>\n",
       "      <td>45.0</td>\n",
       "      <td>94.00</td>\n",
       "      <td>119.0</td>\n",
       "    </tr>\n",
       "    <tr>\n",
       "      <th>2024-05</th>\n",
       "      <td>1850.0</td>\n",
       "      <td>58.808108</td>\n",
       "      <td>33.599484</td>\n",
       "      <td>20.0</td>\n",
       "      <td>28.0</td>\n",
       "      <td>45.0</td>\n",
       "      <td>98.00</td>\n",
       "      <td>119.0</td>\n",
       "    </tr>\n",
       "    <tr>\n",
       "      <th>2024-06</th>\n",
       "      <td>1564.0</td>\n",
       "      <td>56.691176</td>\n",
       "      <td>33.541466</td>\n",
       "      <td>20.0</td>\n",
       "      <td>28.0</td>\n",
       "      <td>42.0</td>\n",
       "      <td>93.00</td>\n",
       "      <td>119.0</td>\n",
       "    </tr>\n",
       "    <tr>\n",
       "      <th>2024-07</th>\n",
       "      <td>1622.0</td>\n",
       "      <td>56.519112</td>\n",
       "      <td>32.745376</td>\n",
       "      <td>20.0</td>\n",
       "      <td>29.0</td>\n",
       "      <td>43.0</td>\n",
       "      <td>87.00</td>\n",
       "      <td>119.0</td>\n",
       "    </tr>\n",
       "    <tr>\n",
       "      <th>2024-08</th>\n",
       "      <td>715.0</td>\n",
       "      <td>57.566434</td>\n",
       "      <td>33.812831</td>\n",
       "      <td>20.0</td>\n",
       "      <td>28.0</td>\n",
       "      <td>45.0</td>\n",
       "      <td>95.50</td>\n",
       "      <td>119.0</td>\n",
       "    </tr>\n",
       "  </tbody>\n",
       "</table>\n",
       "<p>61 rows × 8 columns</p>\n",
       "</div>"
      ],
      "text/plain": [
       "          count       mean        std   min   25%   50%    75%    max\n",
       "StartY                                                               \n",
       "2019-08   750.0  55.880000  33.038013  20.0  28.0  40.0  88.00  119.0\n",
       "2019-09  1728.0  54.236111  32.662809  20.0  28.0  39.0  85.00  119.0\n",
       "2019-10  1628.0  53.222973  32.727574  20.0  27.0  38.0  81.25  119.0\n",
       "2019-11  1479.0  54.600406  33.092735  20.0  27.0  39.0  86.50  119.0\n",
       "2019-12  1646.0  55.174362  32.894424  20.0  28.0  39.0  86.75  119.0\n",
       "...         ...        ...        ...   ...   ...   ...    ...    ...\n",
       "2024-04  1723.0  58.331979  33.660618  20.0  29.0  45.0  94.00  119.0\n",
       "2024-05  1850.0  58.808108  33.599484  20.0  28.0  45.0  98.00  119.0\n",
       "2024-06  1564.0  56.691176  33.541466  20.0  28.0  42.0  93.00  119.0\n",
       "2024-07  1622.0  56.519112  32.745376  20.0  29.0  43.0  87.00  119.0\n",
       "2024-08   715.0  57.566434  33.812831  20.0  28.0  45.0  95.50  119.0\n",
       "\n",
       "[61 rows x 8 columns]"
      ]
     },
     "execution_count": 9,
     "metadata": {},
     "output_type": "execute_result"
    }
   ],
   "source": [
    "df_train[df_train['Premium Amount']<120].groupby('StartY')['Premium Amount'].describe()"
   ]
  },
  {
   "cell_type": "code",
   "execution_count": 10,
   "id": "a928d758",
   "metadata": {
    "execution": {
     "iopub.execute_input": "2024-12-30T20:16:18.994779Z",
     "iopub.status.busy": "2024-12-30T20:16:18.994483Z",
     "iopub.status.idle": "2024-12-30T20:16:19.039569Z",
     "shell.execute_reply": "2024-12-30T20:16:19.038543Z"
    },
    "papermill": {
     "duration": 0.056061,
     "end_time": "2024-12-30T20:16:19.041401",
     "exception": false,
     "start_time": "2024-12-30T20:16:18.985340",
     "status": "completed"
    },
    "tags": []
   },
   "outputs": [
    {
     "data": {
      "text/plain": [
       "count    770140.000000\n",
       "mean      32803.871471\n",
       "std       32201.063749\n",
       "min           2.000000\n",
       "25%        8048.000000\n",
       "50%       23981.000000\n",
       "75%       44660.000000\n",
       "max      149997.000000\n",
       "Name: Annual Income, dtype: float64"
      ]
     },
     "execution_count": 10,
     "metadata": {},
     "output_type": "execute_result"
    }
   ],
   "source": [
    "df_test['Annual Income'].describe()"
   ]
  },
  {
   "cell_type": "code",
   "execution_count": 11,
   "id": "1ff6bbad",
   "metadata": {
    "execution": {
     "iopub.execute_input": "2024-12-30T20:16:19.060009Z",
     "iopub.status.busy": "2024-12-30T20:16:19.059410Z",
     "iopub.status.idle": "2024-12-30T20:16:19.079380Z",
     "shell.execute_reply": "2024-12-30T20:16:19.078561Z"
    },
    "papermill": {
     "duration": 0.031274,
     "end_time": "2024-12-30T20:16:19.081101",
     "exception": false,
     "start_time": "2024-12-30T20:16:19.049827",
     "status": "completed"
    },
    "tags": []
   },
   "outputs": [
    {
     "data": {
      "text/plain": [
       "Credit Score\n",
       "673.0    26\n",
       "658.0    26\n",
       "711.0    25\n",
       "613.0    25\n",
       "445.0    24\n",
       "         ..\n",
       "428.0     1\n",
       "350.0     1\n",
       "335.0     1\n",
       "322.0     1\n",
       "405.0     1\n",
       "Name: count, Length: 539, dtype: int64"
      ]
     },
     "execution_count": 11,
     "metadata": {},
     "output_type": "execute_result"
    }
   ],
   "source": [
    "df_train[df_train['Annual Income']<200]['Credit Score'].value_counts()"
   ]
  },
  {
   "cell_type": "code",
   "execution_count": 12,
   "id": "26e65b27",
   "metadata": {
    "execution": {
     "iopub.execute_input": "2024-12-30T20:16:19.098448Z",
     "iopub.status.busy": "2024-12-30T20:16:19.098193Z",
     "iopub.status.idle": "2024-12-30T20:16:19.112611Z",
     "shell.execute_reply": "2024-12-30T20:16:19.111765Z"
    },
    "papermill": {
     "duration": 0.024829,
     "end_time": "2024-12-30T20:16:19.114286",
     "exception": false,
     "start_time": "2024-12-30T20:16:19.089457",
     "status": "completed"
    },
    "tags": []
   },
   "outputs": [
    {
     "data": {
      "text/plain": [
       "Annual Income\n",
       "24.0     294\n",
       "35.0     278\n",
       "34.0     193\n",
       "17.0     155\n",
       "26.0     155\n",
       "        ... \n",
       "73.0       1\n",
       "150.0      1\n",
       "87.0       1\n",
       "198.0      1\n",
       "146.0      1\n",
       "Name: count, Length: 184, dtype: int64"
      ]
     },
     "execution_count": 12,
     "metadata": {},
     "output_type": "execute_result"
    }
   ],
   "source": [
    "df_test[df_test['Annual Income']<200]['Annual Income'].value_counts()"
   ]
  },
  {
   "cell_type": "code",
   "execution_count": 13,
   "id": "4fab9a44",
   "metadata": {
    "execution": {
     "iopub.execute_input": "2024-12-30T20:16:19.131630Z",
     "iopub.status.busy": "2024-12-30T20:16:19.131368Z",
     "iopub.status.idle": "2024-12-30T20:16:19.156021Z",
     "shell.execute_reply": "2024-12-30T20:16:19.155184Z"
    },
    "papermill": {
     "duration": 0.035193,
     "end_time": "2024-12-30T20:16:19.157742",
     "exception": false,
     "start_time": "2024-12-30T20:16:19.122549",
     "status": "completed"
    },
    "tags": []
   },
   "outputs": [
    {
     "data": {
      "text/plain": [
       "Index(['id', 'Age', 'Annual Income', 'Number of Dependents', 'Health Score',\n",
       "       'Previous Claims', 'Vehicle Age', 'Credit Score', 'Insurance Duration',\n",
       "       'Premium Amount'],\n",
       "      dtype='object')"
      ]
     },
     "execution_count": 13,
     "metadata": {},
     "output_type": "execute_result"
    }
   ],
   "source": [
    "#only Age, Anuual Income,Credit Score are number. The rest are category\n",
    "numeric_columns=df_train.select_dtypes(include=np.number).columns\n",
    "numeric_columns"
   ]
  },
  {
   "cell_type": "code",
   "execution_count": 14,
   "id": "bb87ab55",
   "metadata": {
    "execution": {
     "iopub.execute_input": "2024-12-30T20:16:19.175931Z",
     "iopub.status.busy": "2024-12-30T20:16:19.175674Z",
     "iopub.status.idle": "2024-12-30T20:16:19.783807Z",
     "shell.execute_reply": "2024-12-30T20:16:19.782896Z"
    },
    "papermill": {
     "duration": 0.619639,
     "end_time": "2024-12-30T20:16:19.785801",
     "exception": false,
     "start_time": "2024-12-30T20:16:19.166162",
     "status": "completed"
    },
    "tags": []
   },
   "outputs": [
    {
     "data": {
      "text/plain": [
       "Index(['Gender', 'Marital Status', 'Education Level', 'Occupation', 'Location',\n",
       "       'Policy Type', 'Policy Start Date', 'Customer Feedback',\n",
       "       'Smoking Status', 'Exercise Frequency', 'Property Type', 'StartY'],\n",
       "      dtype='object')"
      ]
     },
     "execution_count": 14,
     "metadata": {},
     "output_type": "execute_result"
    }
   ],
   "source": [
    "object_columns=df_train.select_dtypes(include=object).columns\n",
    "object_columns"
   ]
  },
  {
   "cell_type": "code",
   "execution_count": 15,
   "id": "fc357857",
   "metadata": {
    "execution": {
     "iopub.execute_input": "2024-12-30T20:16:19.805774Z",
     "iopub.status.busy": "2024-12-30T20:16:19.805465Z",
     "iopub.status.idle": "2024-12-30T20:16:19.862714Z",
     "shell.execute_reply": "2024-12-30T20:16:19.861847Z"
    },
    "papermill": {
     "duration": 0.06917,
     "end_time": "2024-12-30T20:16:19.864529",
     "exception": false,
     "start_time": "2024-12-30T20:16:19.795359",
     "status": "completed"
    },
    "tags": []
   },
   "outputs": [
    {
     "data": {
      "text/plain": [
       "count    1.200000e+06\n",
       "mean     6.593889e+00\n",
       "std      1.095825e+00\n",
       "min      3.044522e+00\n",
       "25%      6.244167e+00\n",
       "50%      6.771936e+00\n",
       "75%      7.319865e+00\n",
       "max      8.517193e+00\n",
       "Name: Label, dtype: float64"
      ]
     },
     "execution_count": 15,
     "metadata": {},
     "output_type": "execute_result"
    }
   ],
   "source": [
    "#transform target and income\n",
    "df_train['Label']=np.log1p(df_train['Premium Amount'])\n",
    "df_train['Label'].describe()"
   ]
  },
  {
   "cell_type": "code",
   "execution_count": 16,
   "id": "36e73575",
   "metadata": {
    "execution": {
     "iopub.execute_input": "2024-12-30T20:16:19.883846Z",
     "iopub.status.busy": "2024-12-30T20:16:19.883566Z",
     "iopub.status.idle": "2024-12-30T20:16:19.894060Z",
     "shell.execute_reply": "2024-12-30T20:16:19.893435Z"
    },
    "papermill": {
     "duration": 0.021881,
     "end_time": "2024-12-30T20:16:19.895604",
     "exception": false,
     "start_time": "2024-12-30T20:16:19.873723",
     "status": "completed"
    },
    "tags": []
   },
   "outputs": [],
   "source": [
    "df_train['Annual Income']=np.log1p(df_train['Annual Income'])"
   ]
  },
  {
   "cell_type": "code",
   "execution_count": 17,
   "id": "18093ad9",
   "metadata": {
    "execution": {
     "iopub.execute_input": "2024-12-30T20:16:19.915314Z",
     "iopub.status.busy": "2024-12-30T20:16:19.915047Z",
     "iopub.status.idle": "2024-12-30T20:16:19.923940Z",
     "shell.execute_reply": "2024-12-30T20:16:19.923218Z"
    },
    "papermill": {
     "duration": 0.020853,
     "end_time": "2024-12-30T20:16:19.925715",
     "exception": false,
     "start_time": "2024-12-30T20:16:19.904862",
     "status": "completed"
    },
    "tags": []
   },
   "outputs": [],
   "source": [
    "df_test['Annual Income']=np.log1p(df_test['Annual Income'])"
   ]
  },
  {
   "cell_type": "code",
   "execution_count": 18,
   "id": "a6ba2a6e",
   "metadata": {
    "execution": {
     "iopub.execute_input": "2024-12-30T20:16:19.945258Z",
     "iopub.status.busy": "2024-12-30T20:16:19.944986Z",
     "iopub.status.idle": "2024-12-30T20:16:20.224451Z",
     "shell.execute_reply": "2024-12-30T20:16:20.223308Z"
    },
    "papermill": {
     "duration": 0.291139,
     "end_time": "2024-12-30T20:16:20.226436",
     "exception": false,
     "start_time": "2024-12-30T20:16:19.935297",
     "status": "completed"
    },
    "tags": []
   },
   "outputs": [
    {
     "data": {
      "text/plain": [
       "count\n",
       "1        720797.0\n",
       "2       1155398.0\n",
       "3       1264602.0\n",
       "4       1489848.0\n",
       "5       2094605.0\n",
       "          ...    \n",
       "3009      84252.0\n",
       "3122      71806.0\n",
       "3396      67920.0\n",
       "3444      82656.0\n",
       "3735      93375.0\n",
       "Name: total, Length: 917, dtype: float64"
      ]
     },
     "execution_count": 18,
     "metadata": {},
     "output_type": "execute_result"
    }
   ],
   "source": [
    "#Check Na credit score and premium amount\n",
    "# There a lot of missing score with a lot of premium no different with having creditscor\n",
    "df_train[df_train['Credit Score'].notna()].groupby('Premium Amount').size().reset_index(name='count').assign(total=lambda x:x['Premium Amount']*x['count']).groupby('count')['total'].sum()"
   ]
  },
  {
   "cell_type": "code",
   "execution_count": 19,
   "id": "684afcc6",
   "metadata": {
    "execution": {
     "iopub.execute_input": "2024-12-30T20:16:20.248344Z",
     "iopub.status.busy": "2024-12-30T20:16:20.247646Z",
     "iopub.status.idle": "2024-12-30T20:16:20.252180Z",
     "shell.execute_reply": "2024-12-30T20:16:20.251394Z"
    },
    "papermill": {
     "duration": 0.016902,
     "end_time": "2024-12-30T20:16:20.253964",
     "exception": false,
     "start_time": "2024-12-30T20:16:20.237062",
     "status": "completed"
    },
    "tags": []
   },
   "outputs": [],
   "source": [
    "#from feature_engine.transformation import YeoJohnsonTransformer\n",
    "\n",
    "#tf = YeoJohnsonTransformer(variables = ['Annual Income', 'Label'])\n",
    "\n",
    "#tf.fit(df_train.dropna())\n",
    "#tf.lambda_dict_"
   ]
  },
  {
   "cell_type": "code",
   "execution_count": 20,
   "id": "4ec6a69a",
   "metadata": {
    "execution": {
     "iopub.execute_input": "2024-12-30T20:16:20.273605Z",
     "iopub.status.busy": "2024-12-30T20:16:20.273003Z",
     "iopub.status.idle": "2024-12-30T20:16:20.277074Z",
     "shell.execute_reply": "2024-12-30T20:16:20.276299Z"
    },
    "papermill": {
     "duration": 0.015727,
     "end_time": "2024-12-30T20:16:20.278669",
     "exception": false,
     "start_time": "2024-12-30T20:16:20.262942",
     "status": "completed"
    },
    "tags": []
   },
   "outputs": [],
   "source": [
    "#df_train_tf=tf.transform(df_train.dropna())"
   ]
  },
  {
   "cell_type": "code",
   "execution_count": 21,
   "id": "0c40fd8b",
   "metadata": {
    "execution": {
     "iopub.execute_input": "2024-12-30T20:16:20.298957Z",
     "iopub.status.busy": "2024-12-30T20:16:20.298103Z",
     "iopub.status.idle": "2024-12-30T20:16:20.377430Z",
     "shell.execute_reply": "2024-12-30T20:16:20.376260Z"
    },
    "papermill": {
     "duration": 0.091338,
     "end_time": "2024-12-30T20:16:20.379485",
     "exception": false,
     "start_time": "2024-12-30T20:16:20.288147",
     "status": "completed"
    },
    "tags": []
   },
   "outputs": [
    {
     "data": {
      "text/html": [
       "<div>\n",
       "<style scoped>\n",
       "    .dataframe tbody tr th:only-of-type {\n",
       "        vertical-align: middle;\n",
       "    }\n",
       "\n",
       "    .dataframe tbody tr th {\n",
       "        vertical-align: top;\n",
       "    }\n",
       "\n",
       "    .dataframe thead th {\n",
       "        text-align: right;\n",
       "    }\n",
       "</style>\n",
       "<table border=\"1\" class=\"dataframe\">\n",
       "  <thead>\n",
       "    <tr style=\"text-align: right;\">\n",
       "      <th></th>\n",
       "      <th>Annual Income</th>\n",
       "      <th>Credit Score</th>\n",
       "    </tr>\n",
       "  </thead>\n",
       "  <tbody>\n",
       "    <tr>\n",
       "      <th>470076</th>\n",
       "      <td>1.098612</td>\n",
       "      <td>332.0</td>\n",
       "    </tr>\n",
       "    <tr>\n",
       "      <th>145069</th>\n",
       "      <td>2.079442</td>\n",
       "      <td>462.0</td>\n",
       "    </tr>\n",
       "    <tr>\n",
       "      <th>120276</th>\n",
       "      <td>2.484907</td>\n",
       "      <td>479.0</td>\n",
       "    </tr>\n",
       "    <tr>\n",
       "      <th>1187366</th>\n",
       "      <td>2.708050</td>\n",
       "      <td>682.0</td>\n",
       "    </tr>\n",
       "    <tr>\n",
       "      <th>1105989</th>\n",
       "      <td>2.833213</td>\n",
       "      <td>466.0</td>\n",
       "    </tr>\n",
       "  </tbody>\n",
       "</table>\n",
       "</div>"
      ],
      "text/plain": [
       "         Annual Income  Credit Score\n",
       "470076        1.098612         332.0\n",
       "145069        2.079442         462.0\n",
       "120276        2.484907         479.0\n",
       "1187366       2.708050         682.0\n",
       "1105989       2.833213         466.0"
      ]
     },
     "execution_count": 21,
     "metadata": {},
     "output_type": "execute_result"
    }
   ],
   "source": [
    "df_train[df_train['Premium Amount']<120].loc[:,['Annual Income','Credit Score']].sort_values(ascending=True,by=['Annual Income']).head()"
   ]
  },
  {
   "cell_type": "code",
   "execution_count": 22,
   "id": "d624a501",
   "metadata": {
    "execution": {
     "iopub.execute_input": "2024-12-30T20:16:20.400293Z",
     "iopub.status.busy": "2024-12-30T20:16:20.400002Z",
     "iopub.status.idle": "2024-12-30T20:16:20.458417Z",
     "shell.execute_reply": "2024-12-30T20:16:20.457422Z"
    },
    "papermill": {
     "duration": 0.071218,
     "end_time": "2024-12-30T20:16:20.460666",
     "exception": false,
     "start_time": "2024-12-30T20:16:20.389448",
     "status": "completed"
    },
    "tags": []
   },
   "outputs": [
    {
     "data": {
      "text/plain": [
       "count    91651.000000\n",
       "mean       614.447764\n",
       "std        140.831463\n",
       "min        300.000000\n",
       "25%        505.000000\n",
       "50%        623.000000\n",
       "75%        733.000000\n",
       "max        849.000000\n",
       "Name: Credit Score, dtype: float64"
      ]
     },
     "execution_count": 22,
     "metadata": {},
     "output_type": "execute_result"
    }
   ],
   "source": [
    "df_train[df_train['Premium Amount']<120]['Credit Score'].describe()"
   ]
  },
  {
   "cell_type": "code",
   "execution_count": 23,
   "id": "23fd97c5",
   "metadata": {
    "execution": {
     "iopub.execute_input": "2024-12-30T20:16:20.486104Z",
     "iopub.status.busy": "2024-12-30T20:16:20.485819Z",
     "iopub.status.idle": "2024-12-30T20:16:20.564180Z",
     "shell.execute_reply": "2024-12-30T20:16:20.563194Z"
    },
    "papermill": {
     "duration": 0.090789,
     "end_time": "2024-12-30T20:16:20.566234",
     "exception": false,
     "start_time": "2024-12-30T20:16:20.475445",
     "status": "completed"
    },
    "tags": []
   },
   "outputs": [
    {
     "data": {
      "text/plain": [
       "count    1.062118e+06\n",
       "mean     5.929244e+02\n",
       "std      1.499819e+02\n",
       "min      3.000000e+02\n",
       "25%      4.680000e+02\n",
       "50%      5.950000e+02\n",
       "75%      7.210000e+02\n",
       "max      8.490000e+02\n",
       "Name: Credit Score, dtype: float64"
      ]
     },
     "execution_count": 23,
     "metadata": {},
     "output_type": "execute_result"
    }
   ],
   "source": [
    "df_train['Credit Score'].describe()"
   ]
  },
  {
   "cell_type": "code",
   "execution_count": 24,
   "id": "30d812cc",
   "metadata": {
    "execution": {
     "iopub.execute_input": "2024-12-30T20:16:20.587387Z",
     "iopub.status.busy": "2024-12-30T20:16:20.587111Z",
     "iopub.status.idle": "2024-12-30T20:16:21.210540Z",
     "shell.execute_reply": "2024-12-30T20:16:21.209527Z"
    },
    "papermill": {
     "duration": 0.635943,
     "end_time": "2024-12-30T20:16:21.212686",
     "exception": false,
     "start_time": "2024-12-30T20:16:20.576743",
     "status": "completed"
    },
    "tags": []
   },
   "outputs": [
    {
     "name": "stdout",
     "output_type": "stream",
     "text": [
      "<class 'pandas.core.frame.DataFrame'>\n",
      "RangeIndex: 1200000 entries, 0 to 1199999\n",
      "Data columns (total 23 columns):\n",
      " #   Column                Non-Null Count    Dtype  \n",
      "---  ------                --------------    -----  \n",
      " 0   id                    1200000 non-null  int64  \n",
      " 1   Age                   1181295 non-null  float64\n",
      " 2   Gender                1200000 non-null  object \n",
      " 3   Annual Income         1155051 non-null  float64\n",
      " 4   Marital Status        1181471 non-null  object \n",
      " 5   Number of Dependents  1090328 non-null  float64\n",
      " 6   Education Level       1200000 non-null  object \n",
      " 7   Occupation            841925 non-null   object \n",
      " 8   Health Score          1125924 non-null  float64\n",
      " 9   Location              1200000 non-null  object \n",
      " 10  Policy Type           1200000 non-null  object \n",
      " 11  Previous Claims       835971 non-null   float64\n",
      " 12  Vehicle Age           1199994 non-null  float64\n",
      " 13  Credit Score          1062118 non-null  float64\n",
      " 14  Insurance Duration    1199999 non-null  float64\n",
      " 15  Policy Start Date     1200000 non-null  object \n",
      " 16  Customer Feedback     1122176 non-null  object \n",
      " 17  Smoking Status        1200000 non-null  object \n",
      " 18  Exercise Frequency    1200000 non-null  object \n",
      " 19  Property Type         1200000 non-null  object \n",
      " 20  Premium Amount        1200000 non-null  float64\n",
      " 21  StartY                1200000 non-null  object \n",
      " 22  Label                 1200000 non-null  float64\n",
      "dtypes: float64(10), int64(1), object(12)\n",
      "memory usage: 210.6+ MB\n"
     ]
    }
   ],
   "source": [
    "df_train.info()"
   ]
  },
  {
   "cell_type": "code",
   "execution_count": 25,
   "id": "beca2f51",
   "metadata": {
    "execution": {
     "iopub.execute_input": "2024-12-30T20:16:21.233777Z",
     "iopub.status.busy": "2024-12-30T20:16:21.233450Z",
     "iopub.status.idle": "2024-12-30T20:16:21.237254Z",
     "shell.execute_reply": "2024-12-30T20:16:21.236372Z"
    },
    "papermill": {
     "duration": 0.016141,
     "end_time": "2024-12-30T20:16:21.238974",
     "exception": false,
     "start_time": "2024-12-30T20:16:21.222833",
     "status": "completed"
    },
    "tags": []
   },
   "outputs": [],
   "source": [
    "# change fillna from mean to mode to get less effect from outlier\n",
    "# Ana=df_train['Age'].mode()[0]\n",
    "# Aina=df_train['Annual Income'].mode()[0]\n",
    "# Ndna=0\n",
    "# Hsna=df_train['Health Score'].mode()[0]\n",
    "# Pcna=0\n",
    "# Vana=0 #just impute with 0\n",
    "# Csna=df_train['Credit Score'].mode()[0]\n",
    "# Idna=0"
   ]
  },
  {
   "cell_type": "code",
   "execution_count": 26,
   "id": "bd75877d",
   "metadata": {
    "execution": {
     "iopub.execute_input": "2024-12-30T20:16:21.259245Z",
     "iopub.status.busy": "2024-12-30T20:16:21.258972Z",
     "iopub.status.idle": "2024-12-30T20:16:21.262931Z",
     "shell.execute_reply": "2024-12-30T20:16:21.262161Z"
    },
    "papermill": {
     "duration": 0.0161,
     "end_time": "2024-12-30T20:16:21.264547",
     "exception": false,
     "start_time": "2024-12-30T20:16:21.248447",
     "status": "completed"
    },
    "tags": []
   },
   "outputs": [],
   "source": [
    "# df_train['Age'].fillna(Ana,inplace=True)\n",
    "# df_train['Annual Income'].fillna(Aina,inplace=True)\n",
    "# df_train['Number of Dependents'].fillna(Ndna,inplace=True)\n",
    "# df_train['Health Score'].fillna(Hsna,inplace=True)\n",
    "# df_train['Previous Claims'].fillna(Pcna,inplace=True)\n",
    "# df_train['Vehicle Age'].fillna(Vana,inplace=True)\n",
    "# df_train['Credit Score'].fillna(Csna,inplace=True)\n",
    "# df_train['Insurance Duration'].fillna(Idna,inplace=True)\n",
    "\n",
    "\n",
    "#Ana=df_test['Age'].mean()\n",
    "#Aina=df_test['Annual Income'].mean()\n",
    "#Ndna=0\n",
    "#Hsna=df_test['Health Score'].mean()\n",
    "#Pcna=0\n",
    "#Vana=0 #just impute with 0\n",
    "#Csna=df_test['Credit Score'].mean()\n",
    "#Idna=0\n",
    "\n",
    "# df_test['Age'].fillna(Ana,inplace=True)\n",
    "# df_test['Annual Income'].fillna(Aina,inplace=True)\n",
    "# df_test['Number of Dependents'].fillna(Ndna,inplace=True)\n",
    "# df_test['Health Score'].fillna(Hsna,inplace=True)\n",
    "# df_test['Previous Claims'].fillna(Pcna,inplace=True)\n",
    "# df_test['Vehicle Age'].fillna(Vana,inplace=True)\n",
    "# df_test['Credit Score'].fillna(Csna,inplace=True)\n",
    "# df_test['Insurance Duration'].fillna(Idna,inplace=True)\n",
    "\n"
   ]
  },
  {
   "cell_type": "code",
   "execution_count": 27,
   "id": "0bac9735",
   "metadata": {
    "execution": {
     "iopub.execute_input": "2024-12-30T20:16:21.285320Z",
     "iopub.status.busy": "2024-12-30T20:16:21.285065Z",
     "iopub.status.idle": "2024-12-30T20:16:21.288984Z",
     "shell.execute_reply": "2024-12-30T20:16:21.288142Z"
    },
    "papermill": {
     "duration": 0.016613,
     "end_time": "2024-12-30T20:16:21.290925",
     "exception": false,
     "start_time": "2024-12-30T20:16:21.274312",
     "status": "completed"
    },
    "tags": []
   },
   "outputs": [],
   "source": [
    "# import numpy as np\n",
    "# from catboost import CatBoostRegressor\n",
    "# # Initialize data\n",
    "\n",
    "# train_data = [[1., 4., 5., np.nan],\n",
    "#               [4., 5., 6., 7.],\n",
    "#               [30., 40., 50., 60.]]\n",
    "\n",
    "# eval_data = [[2., 4., 6., 8.],\n",
    "#              [1., 4., 50., 60.]]\n",
    "\n",
    "# train_labels = [10., 20., 30.]\n",
    "# # Initialize CatBoostRegressor\n",
    "# model = CatBoostRegressor(iterations=2,\n",
    "#                           learning_rate=1,\n",
    "#                           depth=2)\n",
    "# # Fit model\n",
    "# model.fit(train_data, train_labels)\n",
    "# # Get predictions\n",
    "# preds = model.predict(eval_data)"
   ]
  },
  {
   "cell_type": "code",
   "execution_count": 28,
   "id": "3007dcd2",
   "metadata": {
    "execution": {
     "iopub.execute_input": "2024-12-30T20:16:21.311598Z",
     "iopub.status.busy": "2024-12-30T20:16:21.310990Z",
     "iopub.status.idle": "2024-12-30T20:16:21.338395Z",
     "shell.execute_reply": "2024-12-30T20:16:21.337535Z"
    },
    "papermill": {
     "duration": 0.040114,
     "end_time": "2024-12-30T20:16:21.340551",
     "exception": false,
     "start_time": "2024-12-30T20:16:21.300437",
     "status": "completed"
    },
    "tags": []
   },
   "outputs": [
    {
     "data": {
      "text/plain": [
       "Index([     83,     309,     310,     332,     375,     385,     403,     538,\n",
       "           553,     570,\n",
       "       ...\n",
       "       1199635, 1199653, 1199690, 1199701, 1199704, 1199752, 1199772, 1199784,\n",
       "       1199893, 1199897],\n",
       "      dtype='int64', length=18705)"
      ]
     },
     "execution_count": 28,
     "metadata": {},
     "output_type": "execute_result"
    }
   ],
   "source": [
    "df_train[df_train['Age'].isna()].index"
   ]
  },
  {
   "cell_type": "code",
   "execution_count": 29,
   "id": "97b084bf",
   "metadata": {
    "execution": {
     "iopub.execute_input": "2024-12-30T20:16:21.369178Z",
     "iopub.status.busy": "2024-12-30T20:16:21.368648Z",
     "iopub.status.idle": "2024-12-30T20:16:21.690639Z",
     "shell.execute_reply": "2024-12-30T20:16:21.689653Z"
    },
    "papermill": {
     "duration": 0.336081,
     "end_time": "2024-12-30T20:16:21.692666",
     "exception": false,
     "start_time": "2024-12-30T20:16:21.356585",
     "status": "completed"
    },
    "tags": []
   },
   "outputs": [
    {
     "name": "stderr",
     "output_type": "stream",
     "text": [
      "/tmp/ipykernel_23/1312047004.py:1: FutureWarning: A value is trying to be set on a copy of a DataFrame or Series through chained assignment using an inplace method.\n",
      "The behavior will change in pandas 3.0. This inplace method will never work because the intermediate object on which we are setting values always behaves as a copy.\n",
      "\n",
      "For example, when doing 'df[col].method(value, inplace=True)', try using 'df.method({col: value}, inplace=True)' or df[col] = df[col].method(value) instead, to perform the operation inplace on the original object.\n",
      "\n",
      "\n",
      "  df_train['Occupation'].fillna('Unknown',inplace=True)\n",
      "/tmp/ipykernel_23/1312047004.py:2: FutureWarning: A value is trying to be set on a copy of a DataFrame or Series through chained assignment using an inplace method.\n",
      "The behavior will change in pandas 3.0. This inplace method will never work because the intermediate object on which we are setting values always behaves as a copy.\n",
      "\n",
      "For example, when doing 'df[col].method(value, inplace=True)', try using 'df.method({col: value}, inplace=True)' or df[col] = df[col].method(value) instead, to perform the operation inplace on the original object.\n",
      "\n",
      "\n",
      "  df_train['Marital Status'].fillna('Unknown',inplace=True)\n",
      "/tmp/ipykernel_23/1312047004.py:3: FutureWarning: A value is trying to be set on a copy of a DataFrame or Series through chained assignment using an inplace method.\n",
      "The behavior will change in pandas 3.0. This inplace method will never work because the intermediate object on which we are setting values always behaves as a copy.\n",
      "\n",
      "For example, when doing 'df[col].method(value, inplace=True)', try using 'df.method({col: value}, inplace=True)' or df[col] = df[col].method(value) instead, to perform the operation inplace on the original object.\n",
      "\n",
      "\n",
      "  df_train['Customer Feedback'].fillna('Unknown',inplace=True)\n",
      "/tmp/ipykernel_23/1312047004.py:5: FutureWarning: A value is trying to be set on a copy of a DataFrame or Series through chained assignment using an inplace method.\n",
      "The behavior will change in pandas 3.0. This inplace method will never work because the intermediate object on which we are setting values always behaves as a copy.\n",
      "\n",
      "For example, when doing 'df[col].method(value, inplace=True)', try using 'df.method({col: value}, inplace=True)' or df[col] = df[col].method(value) instead, to perform the operation inplace on the original object.\n",
      "\n",
      "\n",
      "  df_test['Occupation'].fillna('Unknown',inplace=True)\n",
      "/tmp/ipykernel_23/1312047004.py:6: FutureWarning: A value is trying to be set on a copy of a DataFrame or Series through chained assignment using an inplace method.\n",
      "The behavior will change in pandas 3.0. This inplace method will never work because the intermediate object on which we are setting values always behaves as a copy.\n",
      "\n",
      "For example, when doing 'df[col].method(value, inplace=True)', try using 'df.method({col: value}, inplace=True)' or df[col] = df[col].method(value) instead, to perform the operation inplace on the original object.\n",
      "\n",
      "\n",
      "  df_test['Marital Status'].fillna('Unknown',inplace=True)\n",
      "/tmp/ipykernel_23/1312047004.py:7: FutureWarning: A value is trying to be set on a copy of a DataFrame or Series through chained assignment using an inplace method.\n",
      "The behavior will change in pandas 3.0. This inplace method will never work because the intermediate object on which we are setting values always behaves as a copy.\n",
      "\n",
      "For example, when doing 'df[col].method(value, inplace=True)', try using 'df.method({col: value}, inplace=True)' or df[col] = df[col].method(value) instead, to perform the operation inplace on the original object.\n",
      "\n",
      "\n",
      "  df_test['Customer Feedback'].fillna('Unknown',inplace=True)\n"
     ]
    }
   ],
   "source": [
    "df_train['Occupation'].fillna('Unknown',inplace=True)\n",
    "df_train['Marital Status'].fillna('Unknown',inplace=True)\n",
    "df_train['Customer Feedback'].fillna('Unknown',inplace=True)\n",
    "\n",
    "df_test['Occupation'].fillna('Unknown',inplace=True)\n",
    "df_test['Marital Status'].fillna('Unknown',inplace=True)\n",
    "df_test['Customer Feedback'].fillna('Unknown',inplace=True)\n"
   ]
  },
  {
   "cell_type": "code",
   "execution_count": 30,
   "id": "8680c45a",
   "metadata": {
    "execution": {
     "iopub.execute_input": "2024-12-30T20:16:21.716778Z",
     "iopub.status.busy": "2024-12-30T20:16:21.716451Z",
     "iopub.status.idle": "2024-12-30T20:16:21.722230Z",
     "shell.execute_reply": "2024-12-30T20:16:21.721352Z"
    },
    "papermill": {
     "duration": 0.019765,
     "end_time": "2024-12-30T20:16:21.724179",
     "exception": false,
     "start_time": "2024-12-30T20:16:21.704414",
     "status": "completed"
    },
    "tags": []
   },
   "outputs": [
    {
     "data": {
      "text/plain": [
       "['Gender',\n",
       " 'Marital Status',\n",
       " 'Education Level',\n",
       " 'Occupation',\n",
       " 'Location',\n",
       " 'Policy Type',\n",
       " 'Policy Start Date',\n",
       " 'Customer Feedback',\n",
       " 'Smoking Status',\n",
       " 'Exercise Frequency',\n",
       " 'Property Type',\n",
       " 'StartY']"
      ]
     },
     "execution_count": 30,
     "metadata": {},
     "output_type": "execute_result"
    }
   ],
   "source": [
    "#cat_features=numeric_columns.drop(['id','Age','Annual Income','Credit Score','Health Score','Premium Amount']).union(object_columns)\n",
    "cat_features=object_columns\n",
    "cat_features.to_list()\n"
   ]
  },
  {
   "cell_type": "code",
   "execution_count": 31,
   "id": "fd48eea9",
   "metadata": {
    "execution": {
     "iopub.execute_input": "2024-12-30T20:16:21.747805Z",
     "iopub.status.busy": "2024-12-30T20:16:21.747481Z",
     "iopub.status.idle": "2024-12-30T20:16:21.754474Z",
     "shell.execute_reply": "2024-12-30T20:16:21.753547Z"
    },
    "papermill": {
     "duration": 0.020951,
     "end_time": "2024-12-30T20:16:21.756308",
     "exception": false,
     "start_time": "2024-12-30T20:16:21.735357",
     "status": "completed"
    },
    "tags": []
   },
   "outputs": [],
   "source": [
    "#change cat columns datatype to astype int\n",
    "df_train[cat_features.intersection(numeric_columns)]=df_train[cat_features.intersection(numeric_columns)].astype('Int64')\n",
    "\n",
    "#text_features = cat_features.remove('Vehicle Age')"
   ]
  },
  {
   "cell_type": "code",
   "execution_count": 32,
   "id": "f49d23c6",
   "metadata": {
    "execution": {
     "iopub.execute_input": "2024-12-30T20:16:21.779119Z",
     "iopub.status.busy": "2024-12-30T20:16:21.778838Z",
     "iopub.status.idle": "2024-12-30T20:16:21.783816Z",
     "shell.execute_reply": "2024-12-30T20:16:21.782947Z"
    },
    "papermill": {
     "duration": 0.018705,
     "end_time": "2024-12-30T20:16:21.785682",
     "exception": false,
     "start_time": "2024-12-30T20:16:21.766977",
     "status": "completed"
    },
    "tags": []
   },
   "outputs": [],
   "source": [
    "#change cat columns datatype to int astype\n",
    "df_test[cat_features.intersection(numeric_columns)]=df_test[cat_features.intersection(numeric_columns)].astype('Int64')\n",
    "\n",
    "#text_features = cat_features.remove('Vehicle Age')"
   ]
  },
  {
   "cell_type": "code",
   "execution_count": 33,
   "id": "3b2b5e65",
   "metadata": {
    "execution": {
     "iopub.execute_input": "2024-12-30T20:16:21.808815Z",
     "iopub.status.busy": "2024-12-30T20:16:21.808193Z",
     "iopub.status.idle": "2024-12-30T20:16:21.811958Z",
     "shell.execute_reply": "2024-12-30T20:16:21.811221Z"
    },
    "papermill": {
     "duration": 0.017397,
     "end_time": "2024-12-30T20:16:21.813745",
     "exception": false,
     "start_time": "2024-12-30T20:16:21.796348",
     "status": "completed"
    },
    "tags": []
   },
   "outputs": [],
   "source": [
    "#custom loss function but will not be able to optimization with it so better transform target instead\n",
    "#def rmsle_loss(y_true, y_pred):\n",
    "#    return np.sqrt(np.mean((np.log1p(y_pred) - np.log1p(y_true)) ** 2))\n",
    "#Also use exp to transform the prediction\n",
    "#predictions = np.expm1(model.predict(X_test))"
   ]
  },
  {
   "cell_type": "code",
   "execution_count": 34,
   "id": "681fa80f",
   "metadata": {
    "execution": {
     "iopub.execute_input": "2024-12-30T20:16:21.837623Z",
     "iopub.status.busy": "2024-12-30T20:16:21.837022Z",
     "iopub.status.idle": "2024-12-30T20:16:21.840660Z",
     "shell.execute_reply": "2024-12-30T20:16:21.839813Z"
    },
    "papermill": {
     "duration": 0.017205,
     "end_time": "2024-12-30T20:16:21.842427",
     "exception": false,
     "start_time": "2024-12-30T20:16:21.825222",
     "status": "completed"
    },
    "tags": []
   },
   "outputs": [],
   "source": [
    "#df_train.drop(['id','Annual Income','Customer Feedback','Exercise Frequency','Premium Amount','group Age','Label'],axis=1).columns"
   ]
  },
  {
   "cell_type": "code",
   "execution_count": 35,
   "id": "c3fb1e0a",
   "metadata": {
    "execution": {
     "iopub.execute_input": "2024-12-30T20:16:21.867606Z",
     "iopub.status.busy": "2024-12-30T20:16:21.867266Z",
     "iopub.status.idle": "2024-12-30T20:16:21.870831Z",
     "shell.execute_reply": "2024-12-30T20:16:21.870002Z"
    },
    "papermill": {
     "duration": 0.017396,
     "end_time": "2024-12-30T20:16:21.872592",
     "exception": false,
     "start_time": "2024-12-30T20:16:21.855196",
     "status": "completed"
    },
    "tags": []
   },
   "outputs": [],
   "source": [
    "#df_train2 = pd.read_csv('/kaggle/input/playground-series-s4e12/train.csv')\n",
    "#df_train2=df_train2.dropna()\n"
   ]
  },
  {
   "cell_type": "code",
   "execution_count": 36,
   "id": "06791279",
   "metadata": {
    "execution": {
     "iopub.execute_input": "2024-12-30T20:16:21.897406Z",
     "iopub.status.busy": "2024-12-30T20:16:21.896761Z",
     "iopub.status.idle": "2024-12-30T20:16:21.900451Z",
     "shell.execute_reply": "2024-12-30T20:16:21.899738Z"
    },
    "papermill": {
     "duration": 0.01801,
     "end_time": "2024-12-30T20:16:21.902130",
     "exception": false,
     "start_time": "2024-12-30T20:16:21.884120",
     "status": "completed"
    },
    "tags": []
   },
   "outputs": [],
   "source": [
    "#nonadata = pd.concat([df_train2['Credit Score'],df_train2['Health Score']],axis=1)\n",
    "#nonadata.head()"
   ]
  },
  {
   "cell_type": "code",
   "execution_count": 37,
   "id": "a23c521c",
   "metadata": {
    "execution": {
     "iopub.execute_input": "2024-12-30T20:16:21.926002Z",
     "iopub.status.busy": "2024-12-30T20:16:21.925569Z",
     "iopub.status.idle": "2024-12-30T20:16:21.929427Z",
     "shell.execute_reply": "2024-12-30T20:16:21.928552Z"
    },
    "papermill": {
     "duration": 0.018181,
     "end_time": "2024-12-30T20:16:21.931313",
     "exception": false,
     "start_time": "2024-12-30T20:16:21.913132",
     "status": "completed"
    },
    "tags": []
   },
   "outputs": [],
   "source": [
    "#nonadata.describe()\n",
    "#from sklearn.preprocessing import StandardScaler, RobustScaler\n",
    "\n",
    "#standard_scaler=StandardScaler()\n",
    "#scalenonadata=standard_scaler.fit_transform(nonadata)\n",
    "\n",
    "#robust_scaler=RobustScaler()\n",
    "#scalenonadata=robust_scaler.fit_transform(nonadata)"
   ]
  },
  {
   "cell_type": "code",
   "execution_count": 38,
   "id": "00d90997",
   "metadata": {
    "execution": {
     "iopub.execute_input": "2024-12-30T20:16:21.954685Z",
     "iopub.status.busy": "2024-12-30T20:16:21.954304Z",
     "iopub.status.idle": "2024-12-30T20:16:21.958076Z",
     "shell.execute_reply": "2024-12-30T20:16:21.957193Z"
    },
    "papermill": {
     "duration": 0.017627,
     "end_time": "2024-12-30T20:16:21.959995",
     "exception": false,
     "start_time": "2024-12-30T20:16:21.942368",
     "status": "completed"
    },
    "tags": []
   },
   "outputs": [],
   "source": [
    "#nonadata=pd.DataFrame(scalenonadata,columns=['Credit Score','Health Score'])"
   ]
  },
  {
   "cell_type": "code",
   "execution_count": 39,
   "id": "8661ef50",
   "metadata": {
    "execution": {
     "iopub.execute_input": "2024-12-30T20:16:21.984998Z",
     "iopub.status.busy": "2024-12-30T20:16:21.984723Z",
     "iopub.status.idle": "2024-12-30T20:16:21.988416Z",
     "shell.execute_reply": "2024-12-30T20:16:21.987581Z"
    },
    "papermill": {
     "duration": 0.018821,
     "end_time": "2024-12-30T20:16:21.990379",
     "exception": false,
     "start_time": "2024-12-30T20:16:21.971558",
     "status": "completed"
    },
    "tags": []
   },
   "outputs": [],
   "source": [
    "#df_train2['Label'] = np.log1p(df_train2['Premium Amount'])"
   ]
  },
  {
   "cell_type": "code",
   "execution_count": 40,
   "id": "b25b5cba",
   "metadata": {
    "execution": {
     "iopub.execute_input": "2024-12-30T20:16:22.014372Z",
     "iopub.status.busy": "2024-12-30T20:16:22.014098Z",
     "iopub.status.idle": "2024-12-30T20:16:22.176616Z",
     "shell.execute_reply": "2024-12-30T20:16:22.175784Z"
    },
    "papermill": {
     "duration": 0.177314,
     "end_time": "2024-12-30T20:16:22.179117",
     "exception": false,
     "start_time": "2024-12-30T20:16:22.001803",
     "status": "completed"
    },
    "tags": []
   },
   "outputs": [],
   "source": [
    "data = df_train.drop(['id','Premium Amount','Policy Start Date','Label'],axis=1) \n",
    "cat_features=cat_features.intersection(data.columns)\n",
    "cat_features=cat_features.difference(['Credit Score','Health Score','Annual Income'])\n",
    "#text_features=text_features.intersection(data.columns)"
   ]
  },
  {
   "cell_type": "code",
   "execution_count": 41,
   "id": "d25e9e09",
   "metadata": {
    "execution": {
     "iopub.execute_input": "2024-12-30T20:16:22.204793Z",
     "iopub.status.busy": "2024-12-30T20:16:22.204440Z",
     "iopub.status.idle": "2024-12-30T20:16:22.210465Z",
     "shell.execute_reply": "2024-12-30T20:16:22.209549Z"
    },
    "papermill": {
     "duration": 0.020375,
     "end_time": "2024-12-30T20:16:22.212291",
     "exception": false,
     "start_time": "2024-12-30T20:16:22.191916",
     "status": "completed"
    },
    "tags": []
   },
   "outputs": [
    {
     "data": {
      "text/plain": [
       "Index(['Customer Feedback', 'Education Level', 'Exercise Frequency', 'Gender',\n",
       "       'Location', 'Marital Status', 'Occupation', 'Policy Type',\n",
       "       'Property Type', 'Smoking Status', 'StartY'],\n",
       "      dtype='object')"
      ]
     },
     "execution_count": 41,
     "metadata": {},
     "output_type": "execute_result"
    }
   ],
   "source": [
    "cat_features"
   ]
  },
  {
   "cell_type": "code",
   "execution_count": 42,
   "id": "49289d14",
   "metadata": {
    "execution": {
     "iopub.execute_input": "2024-12-30T20:16:22.236000Z",
     "iopub.status.busy": "2024-12-30T20:16:22.235683Z",
     "iopub.status.idle": "2024-12-30T20:16:22.241359Z",
     "shell.execute_reply": "2024-12-30T20:16:22.240531Z"
    },
    "papermill": {
     "duration": 0.01909,
     "end_time": "2024-12-30T20:16:22.242943",
     "exception": false,
     "start_time": "2024-12-30T20:16:22.223853",
     "status": "completed"
    },
    "tags": []
   },
   "outputs": [
    {
     "data": {
      "text/plain": [
       "Index(['Age', 'Gender', 'Annual Income', 'Marital Status',\n",
       "       'Number of Dependents', 'Education Level', 'Occupation', 'Health Score',\n",
       "       'Location', 'Policy Type', 'Previous Claims', 'Vehicle Age',\n",
       "       'Credit Score', 'Insurance Duration', 'Customer Feedback',\n",
       "       'Smoking Status', 'Exercise Frequency', 'Property Type', 'StartY'],\n",
       "      dtype='object')"
      ]
     },
     "execution_count": 42,
     "metadata": {},
     "output_type": "execute_result"
    }
   ],
   "source": [
    "data.columns"
   ]
  },
  {
   "cell_type": "code",
   "execution_count": 43,
   "id": "d9c7f320",
   "metadata": {
    "execution": {
     "iopub.execute_input": "2024-12-30T20:16:22.267279Z",
     "iopub.status.busy": "2024-12-30T20:16:22.266968Z",
     "iopub.status.idle": "2024-12-30T20:16:22.272403Z",
     "shell.execute_reply": "2024-12-30T20:16:22.271558Z"
    },
    "papermill": {
     "duration": 0.019458,
     "end_time": "2024-12-30T20:16:22.274171",
     "exception": false,
     "start_time": "2024-12-30T20:16:22.254713",
     "status": "completed"
    },
    "tags": []
   },
   "outputs": [
    {
     "data": {
      "text/plain": [
       "Index(['id', 'Age', 'Annual Income', 'Number of Dependents', 'Health Score',\n",
       "       'Previous Claims', 'Vehicle Age', 'Credit Score', 'Insurance Duration',\n",
       "       'Premium Amount'],\n",
       "      dtype='object')"
      ]
     },
     "execution_count": 43,
     "metadata": {},
     "output_type": "execute_result"
    }
   ],
   "source": [
    "numeric_columns"
   ]
  },
  {
   "cell_type": "code",
   "execution_count": 44,
   "id": "0dfae3db",
   "metadata": {
    "execution": {
     "iopub.execute_input": "2024-12-30T20:16:22.299115Z",
     "iopub.status.busy": "2024-12-30T20:16:22.298818Z",
     "iopub.status.idle": "2024-12-30T20:16:23.814839Z",
     "shell.execute_reply": "2024-12-30T20:16:23.813844Z"
    },
    "papermill": {
     "duration": 1.531078,
     "end_time": "2024-12-30T20:16:23.817240",
     "exception": false,
     "start_time": "2024-12-30T20:16:22.286162",
     "status": "completed"
    },
    "tags": []
   },
   "outputs": [],
   "source": [
    "df_train[cat_features]=df_train[cat_features].astype('category')\n",
    "df_test[cat_features]=df_test[cat_features].astype('category')"
   ]
  },
  {
   "cell_type": "code",
   "execution_count": 45,
   "id": "15d89d2b",
   "metadata": {
    "execution": {
     "iopub.execute_input": "2024-12-30T20:16:23.844043Z",
     "iopub.status.busy": "2024-12-30T20:16:23.843220Z",
     "iopub.status.idle": "2024-12-30T20:16:23.946309Z",
     "shell.execute_reply": "2024-12-30T20:16:23.945387Z"
    },
    "papermill": {
     "duration": 0.117938,
     "end_time": "2024-12-30T20:16:23.948443",
     "exception": false,
     "start_time": "2024-12-30T20:16:23.830505",
     "status": "completed"
    },
    "tags": []
   },
   "outputs": [
    {
     "name": "stdout",
     "output_type": "stream",
     "text": [
      "<class 'pandas.core.frame.DataFrame'>\n",
      "RangeIndex: 1200000 entries, 0 to 1199999\n",
      "Data columns (total 23 columns):\n",
      " #   Column                Non-Null Count    Dtype   \n",
      "---  ------                --------------    -----   \n",
      " 0   id                    1200000 non-null  int64   \n",
      " 1   Age                   1181295 non-null  float64 \n",
      " 2   Gender                1200000 non-null  category\n",
      " 3   Annual Income         1155051 non-null  float64 \n",
      " 4   Marital Status        1200000 non-null  category\n",
      " 5   Number of Dependents  1090328 non-null  float64 \n",
      " 6   Education Level       1200000 non-null  category\n",
      " 7   Occupation            1200000 non-null  category\n",
      " 8   Health Score          1125924 non-null  float64 \n",
      " 9   Location              1200000 non-null  category\n",
      " 10  Policy Type           1200000 non-null  category\n",
      " 11  Previous Claims       835971 non-null   float64 \n",
      " 12  Vehicle Age           1199994 non-null  float64 \n",
      " 13  Credit Score          1062118 non-null  float64 \n",
      " 14  Insurance Duration    1199999 non-null  float64 \n",
      " 15  Policy Start Date     1200000 non-null  object  \n",
      " 16  Customer Feedback     1200000 non-null  category\n",
      " 17  Smoking Status        1200000 non-null  category\n",
      " 18  Exercise Frequency    1200000 non-null  category\n",
      " 19  Property Type         1200000 non-null  category\n",
      " 20  Premium Amount        1200000 non-null  float64 \n",
      " 21  StartY                1200000 non-null  category\n",
      " 22  Label                 1200000 non-null  float64 \n",
      "dtypes: category(11), float64(10), int64(1), object(1)\n",
      "memory usage: 122.5+ MB\n"
     ]
    }
   ],
   "source": [
    "df_train.info()"
   ]
  },
  {
   "cell_type": "code",
   "execution_count": 46,
   "id": "7ff69ec6",
   "metadata": {
    "execution": {
     "iopub.execute_input": "2024-12-30T20:16:23.972807Z",
     "iopub.status.busy": "2024-12-30T20:16:23.972109Z",
     "iopub.status.idle": "2024-12-30T20:16:23.978659Z",
     "shell.execute_reply": "2024-12-30T20:16:23.977822Z"
    },
    "papermill": {
     "duration": 0.020004,
     "end_time": "2024-12-30T20:16:23.980439",
     "exception": false,
     "start_time": "2024-12-30T20:16:23.960435",
     "status": "completed"
    },
    "tags": []
   },
   "outputs": [
    {
     "data": {
      "text/plain": [
       "0    372.0\n",
       "1    694.0\n",
       "2      NaN\n",
       "3    367.0\n",
       "4    598.0\n",
       "Name: Credit Score, dtype: float64"
      ]
     },
     "execution_count": 46,
     "metadata": {},
     "output_type": "execute_result"
    }
   ],
   "source": [
    "df_train['Credit Score'].head()"
   ]
  },
  {
   "cell_type": "code",
   "execution_count": 47,
   "id": "1fc44f3b",
   "metadata": {
    "execution": {
     "iopub.execute_input": "2024-12-30T20:16:24.004379Z",
     "iopub.status.busy": "2024-12-30T20:16:24.004108Z",
     "iopub.status.idle": "2024-12-30T20:16:28.827221Z",
     "shell.execute_reply": "2024-12-30T20:16:28.826539Z"
    },
    "papermill": {
     "duration": 4.837445,
     "end_time": "2024-12-30T20:16:28.829298",
     "exception": false,
     "start_time": "2024-12-30T20:16:23.991853",
     "status": "completed"
    },
    "tags": []
   },
   "outputs": [],
   "source": [
    "pt=PowerTransformer(method='yeo-johnson',copy=False)\n",
    "pt_columns=df_train.select_dtypes(include=['float64']).drop(['Label'],axis=1).columns\n",
    "df_train[pt_columns]=pt.fit_transform(df_train[pt_columns])\n"
   ]
  },
  {
   "cell_type": "code",
   "execution_count": 48,
   "id": "f12afc51",
   "metadata": {
    "execution": {
     "iopub.execute_input": "2024-12-30T20:16:28.855866Z",
     "iopub.status.busy": "2024-12-30T20:16:28.855014Z",
     "iopub.status.idle": "2024-12-30T20:16:29.281225Z",
     "shell.execute_reply": "2024-12-30T20:16:29.280526Z"
    },
    "papermill": {
     "duration": 0.44126,
     "end_time": "2024-12-30T20:16:29.283127",
     "exception": false,
     "start_time": "2024-12-30T20:16:28.841867",
     "status": "completed"
    },
    "tags": []
   },
   "outputs": [],
   "source": [
    "from catboost import *\n",
    "\n",
    "X_train,x_val,Y_train,y_val = train_test_split(df_train.drop(['id','Premium Amount','Policy Start Date','Label'],axis=1),df_train['Label'],test_size=0.2,random_state=11)\n",
    "train_pool=Pool(data=X_train,\n",
    "                label=Y_train,\n",
    "                cat_features=cat_features.to_list())\n",
    "val_pool=Pool(data=x_val,\n",
    "               label=y_val,\n",
    "               cat_features=cat_features.to_list())\n",
    "X_test = df_test.drop(['id','Policy Start Date'],axis=1)\n"
   ]
  },
  {
   "cell_type": "code",
   "execution_count": 49,
   "id": "feb60873",
   "metadata": {
    "execution": {
     "iopub.execute_input": "2024-12-30T20:16:29.306654Z",
     "iopub.status.busy": "2024-12-30T20:16:29.306145Z",
     "iopub.status.idle": "2024-12-30T20:16:29.360982Z",
     "shell.execute_reply": "2024-12-30T20:16:29.360281Z"
    },
    "papermill": {
     "duration": 0.068457,
     "end_time": "2024-12-30T20:16:29.362912",
     "exception": false,
     "start_time": "2024-12-30T20:16:29.294455",
     "status": "completed"
    },
    "tags": []
   },
   "outputs": [],
   "source": [
    "pt_columns=X_test.select_dtypes(include=['float']).columns"
   ]
  },
  {
   "cell_type": "code",
   "execution_count": 50,
   "id": "45fdc380",
   "metadata": {
    "execution": {
     "iopub.execute_input": "2024-12-30T20:16:29.386666Z",
     "iopub.status.busy": "2024-12-30T20:16:29.386222Z",
     "iopub.status.idle": "2024-12-30T20:16:32.020999Z",
     "shell.execute_reply": "2024-12-30T20:16:32.020269Z"
    },
    "papermill": {
     "duration": 2.648673,
     "end_time": "2024-12-30T20:16:32.023050",
     "exception": false,
     "start_time": "2024-12-30T20:16:29.374377",
     "status": "completed"
    },
    "tags": []
   },
   "outputs": [],
   "source": [
    "X_test[pt_columns]=pt.fit_transform(X_test[pt_columns])"
   ]
  },
  {
   "cell_type": "code",
   "execution_count": 51,
   "id": "14b12ec5",
   "metadata": {
    "execution": {
     "iopub.execute_input": "2024-12-30T20:16:32.047435Z",
     "iopub.status.busy": "2024-12-30T20:16:32.046997Z",
     "iopub.status.idle": "2024-12-30T20:16:32.051470Z",
     "shell.execute_reply": "2024-12-30T20:16:32.050702Z"
    },
    "papermill": {
     "duration": 0.018392,
     "end_time": "2024-12-30T20:16:32.053096",
     "exception": false,
     "start_time": "2024-12-30T20:16:32.034704",
     "status": "completed"
    },
    "tags": []
   },
   "outputs": [],
   "source": [
    "def calc_test_quality(train_pool, val_pool, **kwargs):\n",
    "    model = CatBoostRegressor(**kwargs, task_type=\"GPU\",random_seed=11)\n",
    "    model.fit(train_pool, verbose=0, eval_set=val_pool)\n",
    "    y_pred = model.predict(val_pool)\n",
    "    return eval_metric(val_pool.get_label(), y_pred, 'RMSE'), model"
   ]
  },
  {
   "cell_type": "code",
   "execution_count": 52,
   "id": "0d7a5080",
   "metadata": {
    "execution": {
     "iopub.execute_input": "2024-12-30T20:16:32.076717Z",
     "iopub.status.busy": "2024-12-30T20:16:32.076114Z",
     "iopub.status.idle": "2024-12-30T20:16:32.080561Z",
     "shell.execute_reply": "2024-12-30T20:16:32.079883Z"
    },
    "papermill": {
     "duration": 0.01767,
     "end_time": "2024-12-30T20:16:32.082125",
     "exception": false,
     "start_time": "2024-12-30T20:16:32.064455",
     "status": "completed"
    },
    "tags": []
   },
   "outputs": [],
   "source": [
    "#Average regression value from 10 random state\n",
    "def bagging_prob(train_pool, val_pool, **kwargs):\n",
    "    predictions=[]\n",
    "    for i in range(1,11):\n",
    "        model = CatBoostRegressor(**kwargs, task_type=\"GPU\",random_seed=i)\n",
    "        model.fit(train_pool, verbose=0, eval_set=val_pool)\n",
    "        predictions.append(model.predict(X_test))\n",
    "    return np.mean(predictions,axis=0) "
   ]
  },
  {
   "cell_type": "code",
   "execution_count": 53,
   "id": "b57d9987",
   "metadata": {
    "execution": {
     "iopub.execute_input": "2024-12-30T20:16:32.105198Z",
     "iopub.status.busy": "2024-12-30T20:16:32.104782Z",
     "iopub.status.idle": "2024-12-30T21:26:48.888130Z",
     "shell.execute_reply": "2024-12-30T21:26:48.887296Z"
    },
    "papermill": {
     "duration": 4216.814739,
     "end_time": "2024-12-30T21:26:48.907756",
     "exception": false,
     "start_time": "2024-12-30T20:16:32.093017",
     "status": "completed"
    },
    "tags": []
   },
   "outputs": [
    {
     "name": "stderr",
     "output_type": "stream",
     "text": [
      "[I 2024-12-30 20:16:32,107] A new study created in memory with name: no-name-39645e8d-4f08-44d9-be36-970d748c2137\n",
      "[I 2024-12-30 20:16:59,195] Trial 0 finished with value: 1.049836626554183 and parameters: {'iterations': 1763, 'early_stopping_rounds': 251, 'learning_rate': 0.007141605056741639, 'depth': 5, 'l2_leaf_reg': 8.517280459938654, 'min_data_in_leaf': 93, 'grow_policy': 'Depthwise', 'bootstrap_type': 'Bernoulli', 'subsample': 0.441371695889035}. Best is trial 0 with value: 1.049836626554183.\n",
      "[I 2024-12-30 20:17:33,088] Trial 1 finished with value: 1.0714911966258454 and parameters: {'iterations': 4843, 'early_stopping_rounds': 234, 'learning_rate': 0.06475889991502795, 'depth': 1, 'l2_leaf_reg': 1.7171729705033463, 'min_data_in_leaf': 60, 'grow_policy': 'Depthwise', 'bootstrap_type': 'Bernoulli', 'subsample': 0.13985124704116159}. Best is trial 0 with value: 1.049836626554183.\n",
      "[I 2024-12-30 20:18:07,777] Trial 2 finished with value: 1.0490463536771089 and parameters: {'iterations': 5945, 'early_stopping_rounds': 413, 'learning_rate': 0.06849614869831437, 'depth': 6, 'l2_leaf_reg': 3.4197405209943326, 'min_data_in_leaf': 38, 'grow_policy': 'Depthwise', 'bootstrap_type': 'Bernoulli', 'subsample': 0.09750034400687999}. Best is trial 2 with value: 1.0490463536771089.\n",
      "[I 2024-12-30 20:18:43,417] Trial 3 finished with value: 1.0483893721678519 and parameters: {'iterations': 1932, 'early_stopping_rounds': 295, 'learning_rate': 0.020123078158045597, 'depth': 7, 'l2_leaf_reg': 8.945276025401911, 'min_data_in_leaf': 63, 'grow_policy': 'Depthwise', 'bootstrap_type': 'Bernoulli', 'subsample': 0.10672971339872282}. Best is trial 3 with value: 1.0483893721678519.\n",
      "[I 2024-12-30 20:19:14,907] Trial 4 finished with value: 1.0484733794988488 and parameters: {'iterations': 1899, 'early_stopping_rounds': 509, 'learning_rate': 0.02331179044720682, 'depth': 6, 'l2_leaf_reg': 5.666462372099211, 'min_data_in_leaf': 61, 'grow_policy': 'Depthwise', 'bootstrap_type': 'Bernoulli', 'subsample': 0.24656148026721325}. Best is trial 3 with value: 1.0483893721678519.\n",
      "[I 2024-12-30 20:19:29,862] Trial 5 finished with value: 1.047707465349657 and parameters: {'iterations': 1066, 'early_stopping_rounds': 362, 'learning_rate': 0.08969258671492325, 'depth': 8, 'l2_leaf_reg': 2.1056652652146903, 'min_data_in_leaf': 31, 'grow_policy': 'Depthwise', 'bootstrap_type': 'Bernoulli', 'subsample': 0.31277428431830223}. Best is trial 5 with value: 1.047707465349657.\n",
      "[I 2024-12-30 20:20:08,136] Trial 6 finished with value: 1.0569685371093107 and parameters: {'iterations': 4631, 'early_stopping_rounds': 332, 'learning_rate': 0.077141926355039, 'depth': 2, 'l2_leaf_reg': 6.020800497171524, 'min_data_in_leaf': 56, 'grow_policy': 'Depthwise', 'bootstrap_type': 'Bernoulli', 'subsample': 0.20575459055733622}. Best is trial 5 with value: 1.047707465349657.\n",
      "[I 2024-12-30 20:21:04,057] Trial 7 finished with value: 1.0513950459775068 and parameters: {'iterations': 4960, 'early_stopping_rounds': 157, 'learning_rate': 0.06844908592812368, 'depth': 4, 'l2_leaf_reg': 4.09788004370225, 'min_data_in_leaf': 46, 'grow_policy': 'Depthwise', 'bootstrap_type': 'Bernoulli', 'subsample': 0.05420292125533445}. Best is trial 5 with value: 1.047707465349657.\n",
      "[I 2024-12-30 20:21:39,502] Trial 8 finished with value: 1.0517662318086298 and parameters: {'iterations': 3076, 'early_stopping_rounds': 562, 'learning_rate': 0.01002935150993382, 'depth': 4, 'l2_leaf_reg': 5.752200197173259, 'min_data_in_leaf': 34, 'grow_policy': 'Depthwise', 'bootstrap_type': 'Bernoulli', 'subsample': 0.1918768554913073}. Best is trial 5 with value: 1.047707465349657.\n",
      "[I 2024-12-30 20:21:51,559] Trial 9 finished with value: 1.047602495211464 and parameters: {'iterations': 1081, 'early_stopping_rounds': 148, 'learning_rate': 0.0695662687781418, 'depth': 9, 'l2_leaf_reg': 4.818897908607031, 'min_data_in_leaf': 86, 'grow_policy': 'Depthwise', 'bootstrap_type': 'Bernoulli', 'subsample': 0.2572537836805661}. Best is trial 9 with value: 1.047602495211464.\n",
      "[I 2024-12-30 20:22:05,857] Trial 10 finished with value: 1.0471086946388133 and parameters: {'iterations': 3057, 'early_stopping_rounds': 102, 'learning_rate': 0.0482663521911736, 'depth': 10, 'l2_leaf_reg': 7.38211298042077, 'min_data_in_leaf': 3, 'grow_policy': 'Depthwise', 'bootstrap_type': 'Bernoulli', 'subsample': 0.6508375399663522}. Best is trial 10 with value: 1.0471086946388133.\n",
      "[I 2024-12-30 20:22:22,362] Trial 11 finished with value: 1.0472612085489084 and parameters: {'iterations': 3303, 'early_stopping_rounds': 109, 'learning_rate': 0.04435550509861311, 'depth': 10, 'l2_leaf_reg': 7.437852407610955, 'min_data_in_leaf': 4, 'grow_policy': 'Depthwise', 'bootstrap_type': 'Bernoulli', 'subsample': 0.9196967160451517}. Best is trial 10 with value: 1.0471086946388133.\n",
      "[I 2024-12-30 20:22:41,131] Trial 12 finished with value: 1.0471964789713624 and parameters: {'iterations': 3351, 'early_stopping_rounds': 100, 'learning_rate': 0.04335683496121707, 'depth': 10, 'l2_leaf_reg': 7.555776137375402, 'min_data_in_leaf': 2, 'grow_policy': 'Depthwise', 'bootstrap_type': 'Bernoulli', 'subsample': 0.9603416705700373}. Best is trial 10 with value: 1.0471086946388133.\n",
      "[I 2024-12-30 20:23:02,930] Trial 13 finished with value: 1.0473087176155085 and parameters: {'iterations': 3960, 'early_stopping_rounds': 205, 'learning_rate': 0.04266732906149413, 'depth': 10, 'l2_leaf_reg': 9.924705167139589, 'min_data_in_leaf': 6, 'grow_policy': 'Depthwise', 'bootstrap_type': 'Bernoulli', 'subsample': 0.9890141629342959}. Best is trial 10 with value: 1.0471086946388133.\n",
      "[I 2024-12-30 20:23:22,001] Trial 14 finished with value: 1.047233353640249 and parameters: {'iterations': 2706, 'early_stopping_rounds': 103, 'learning_rate': 0.03319208290623216, 'depth': 8, 'l2_leaf_reg': 7.1292608293677615, 'min_data_in_leaf': 18, 'grow_policy': 'Depthwise', 'bootstrap_type': 'Bernoulli', 'subsample': 0.5484522692434712}. Best is trial 10 with value: 1.0471086946388133.\n",
      "[I 2024-12-30 20:23:38,160] Trial 15 finished with value: 1.0471518303402843 and parameters: {'iterations': 3825, 'early_stopping_rounds': 187, 'learning_rate': 0.054763816589735226, 'depth': 10, 'l2_leaf_reg': 7.190604801862473, 'min_data_in_leaf': 17, 'grow_policy': 'Depthwise', 'bootstrap_type': 'Bernoulli', 'subsample': 0.6094488323059422}. Best is trial 10 with value: 1.0471086946388133.\n",
      "[I 2024-12-30 20:23:51,160] Trial 16 finished with value: 1.0472831851997622 and parameters: {'iterations': 4232, 'early_stopping_rounds': 194, 'learning_rate': 0.05548359204823316, 'depth': 8, 'l2_leaf_reg': 6.779608004059039, 'min_data_in_leaf': 20, 'grow_policy': 'Depthwise', 'bootstrap_type': 'Bernoulli', 'subsample': 0.5702401390247882}. Best is trial 10 with value: 1.0471086946388133.\n",
      "[I 2024-12-30 20:24:04,905] Trial 17 finished with value: 1.047433885303681 and parameters: {'iterations': 2414, 'early_stopping_rounds': 275, 'learning_rate': 0.0968769043864649, 'depth': 9, 'l2_leaf_reg': 8.500561838985172, 'min_data_in_leaf': 19, 'grow_policy': 'Depthwise', 'bootstrap_type': 'Bernoulli', 'subsample': 0.44957588010199107}. Best is trial 10 with value: 1.0471086946388133.\n",
      "[I 2024-12-30 20:24:24,594] Trial 18 finished with value: 1.0470768712784169 and parameters: {'iterations': 3947, 'early_stopping_rounds': 388, 'learning_rate': 0.0561314723319583, 'depth': 9, 'l2_leaf_reg': 9.81411902813118, 'min_data_in_leaf': 15, 'grow_policy': 'Depthwise', 'bootstrap_type': 'Bernoulli', 'subsample': 0.7065982673157452}. Best is trial 18 with value: 1.0470768712784169.\n",
      "[I 2024-12-30 20:24:54,740] Trial 19 finished with value: 1.0473941605033097 and parameters: {'iterations': 5961, 'early_stopping_rounds': 438, 'learning_rate': 0.030980626592812067, 'depth': 7, 'l2_leaf_reg': 9.869136358823864, 'min_data_in_leaf': 76, 'grow_policy': 'Depthwise', 'bootstrap_type': 'Bernoulli', 'subsample': 0.7256448121143357}. Best is trial 18 with value: 1.0470768712784169.\n",
      "[I 2024-12-30 20:25:11,819] Trial 20 finished with value: 1.047429585801323 and parameters: {'iterations': 2731, 'early_stopping_rounds': 422, 'learning_rate': 0.07867793959149219, 'depth': 9, 'l2_leaf_reg': 9.078624398903514, 'min_data_in_leaf': 27, 'grow_policy': 'Depthwise', 'bootstrap_type': 'Bernoulli', 'subsample': 0.33823856176715345}. Best is trial 18 with value: 1.0470768712784169.\n",
      "[I 2024-12-30 20:25:31,775] Trial 21 finished with value: 1.047185358971606 and parameters: {'iterations': 3887, 'early_stopping_rounds': 326, 'learning_rate': 0.05520759581872401, 'depth': 10, 'l2_leaf_reg': 8.045142354185744, 'min_data_in_leaf': 12, 'grow_policy': 'Depthwise', 'bootstrap_type': 'Bernoulli', 'subsample': 0.6607774696544586}. Best is trial 18 with value: 1.0470768712784169.\n",
      "[I 2024-12-30 20:25:46,557] Trial 22 finished with value: 1.0472595975347152 and parameters: {'iterations': 3843, 'early_stopping_rounds': 162, 'learning_rate': 0.05518945031055188, 'depth': 9, 'l2_leaf_reg': 6.370653256539047, 'min_data_in_leaf': 14, 'grow_policy': 'Depthwise', 'bootstrap_type': 'Bernoulli', 'subsample': 0.43596266855029847}. Best is trial 18 with value: 1.0470768712784169.\n",
      "[I 2024-12-30 20:26:08,992] Trial 23 finished with value: 1.047072314151731 and parameters: {'iterations': 4384, 'early_stopping_rounds': 380, 'learning_rate': 0.04820175597315887, 'depth': 10, 'l2_leaf_reg': 4.869971324717809, 'min_data_in_leaf': 43, 'grow_policy': 'Depthwise', 'bootstrap_type': 'Bernoulli', 'subsample': 0.70272847112294}. Best is trial 23 with value: 1.047072314151731.\n",
      "[I 2024-12-30 20:26:34,253] Trial 24 finished with value: 1.0471118191401803 and parameters: {'iterations': 5381, 'early_stopping_rounds': 484, 'learning_rate': 0.03485454495320643, 'depth': 8, 'l2_leaf_reg': 4.738032352578225, 'min_data_in_leaf': 41, 'grow_policy': 'Depthwise', 'bootstrap_type': 'Bernoulli', 'subsample': 0.7320531981231451}. Best is trial 23 with value: 1.047072314151731.\n",
      "[I 2024-12-30 20:26:56,166] Trial 25 finished with value: 1.0477259965161938 and parameters: {'iterations': 4474, 'early_stopping_rounds': 389, 'learning_rate': 0.046244511155423954, 'depth': 7, 'l2_leaf_reg': 2.4841986062556414, 'min_data_in_leaf': 25, 'grow_policy': 'Depthwise', 'bootstrap_type': 'Bernoulli', 'subsample': 0.3651088506789266}. Best is trial 23 with value: 1.047072314151731.\n",
      "[I 2024-12-30 20:27:20,456] Trial 26 finished with value: 1.047137497288535 and parameters: {'iterations': 5259, 'early_stopping_rounds': 464, 'learning_rate': 0.04893391001558663, 'depth': 9, 'l2_leaf_reg': 3.3631220340789554, 'min_data_in_leaf': 47, 'grow_policy': 'Depthwise', 'bootstrap_type': 'Bernoulli', 'subsample': 0.7750878321276314}. Best is trial 23 with value: 1.047072314151731.\n",
      "[I 2024-12-30 20:27:39,480] Trial 27 finished with value: 1.047071267290638 and parameters: {'iterations': 4279, 'early_stopping_rounds': 374, 'learning_rate': 0.06013286179592164, 'depth': 10, 'l2_leaf_reg': 4.808691326300898, 'min_data_in_leaf': 70, 'grow_policy': 'Depthwise', 'bootstrap_type': 'Bernoulli', 'subsample': 0.5146273433794734}. Best is trial 27 with value: 1.047071267290638.\n",
      "[I 2024-12-30 20:27:56,024] Trial 28 finished with value: 1.0473153039050953 and parameters: {'iterations': 4285, 'early_stopping_rounds': 357, 'learning_rate': 0.06182045142020661, 'depth': 9, 'l2_leaf_reg': 4.9187120267410815, 'min_data_in_leaf': 71, 'grow_policy': 'Depthwise', 'bootstrap_type': 'Bernoulli', 'subsample': 0.4486278772161918}. Best is trial 27 with value: 1.047071267290638.\n",
      "[I 2024-12-30 20:28:27,906] Trial 29 finished with value: 1.048647911388261 and parameters: {'iterations': 5280, 'early_stopping_rounds': 386, 'learning_rate': 0.07525405567165272, 'depth': 5, 'l2_leaf_reg': 4.0712825678674, 'min_data_in_leaf': 95, 'grow_policy': 'Depthwise', 'bootstrap_type': 'Bernoulli', 'subsample': 0.4956164077779387}. Best is trial 27 with value: 1.047071267290638.\n",
      "[I 2024-12-30 20:29:04,286] Trial 30 finished with value: 1.0515565943678138 and parameters: {'iterations': 3592, 'early_stopping_rounds': 307, 'learning_rate': 0.08306040711461121, 'depth': 3, 'l2_leaf_reg': 2.8184660907936245, 'min_data_in_leaf': 85, 'grow_policy': 'Depthwise', 'bootstrap_type': 'Bernoulli', 'subsample': 0.3678840574645016}. Best is trial 27 with value: 1.047071267290638.\n",
      "[I 2024-12-30 20:29:19,401] Trial 31 finished with value: 1.0472618575305397 and parameters: {'iterations': 3059, 'early_stopping_rounds': 255, 'learning_rate': 0.059360487284437345, 'depth': 10, 'l2_leaf_reg': 6.4249736668223845, 'min_data_in_leaf': 70, 'grow_policy': 'Depthwise', 'bootstrap_type': 'Bernoulli', 'subsample': 0.8131900687599397}. Best is trial 27 with value: 1.047071267290638.\n",
      "[I 2024-12-30 20:29:45,157] Trial 32 finished with value: 1.0471235335240403 and parameters: {'iterations': 4180, 'early_stopping_rounds': 376, 'learning_rate': 0.038248753199485126, 'depth': 10, 'l2_leaf_reg': 5.2952316754469075, 'min_data_in_leaf': 10, 'grow_policy': 'Depthwise', 'bootstrap_type': 'Bernoulli', 'subsample': 0.6525088898631561}. Best is trial 27 with value: 1.047071267290638.\n",
      "[I 2024-12-30 20:30:10,078] Trial 33 finished with value: 1.0471683150106208 and parameters: {'iterations': 4773, 'early_stopping_rounds': 527, 'learning_rate': 0.04999102154253353, 'depth': 9, 'l2_leaf_reg': 1.1345882016010416, 'min_data_in_leaf': 54, 'grow_policy': 'Depthwise', 'bootstrap_type': 'Bernoulli', 'subsample': 0.5359967319639947}. Best is trial 27 with value: 1.047071267290638.\n",
      "[I 2024-12-30 20:30:38,306] Trial 34 finished with value: 1.0478937368166292 and parameters: {'iterations': 3505, 'early_stopping_rounds': 442, 'learning_rate': 0.06173188045943957, 'depth': 8, 'l2_leaf_reg': 3.929327335121368, 'min_data_in_leaf': 79, 'grow_policy': 'Depthwise', 'bootstrap_type': 'Bernoulli', 'subsample': 0.14753280848652509}. Best is trial 27 with value: 1.047071267290638.\n",
      "[I 2024-12-30 20:30:59,841] Trial 35 finished with value: 1.0472409618615257 and parameters: {'iterations': 2410, 'early_stopping_rounds': 411, 'learning_rate': 0.06452407834109594, 'depth': 10, 'l2_leaf_reg': 8.063432619353652, 'min_data_in_leaf': 41, 'grow_policy': 'Depthwise', 'bootstrap_type': 'Bernoulli', 'subsample': 0.8057834431316211}. Best is trial 27 with value: 1.047071267290638.\n",
      "[I 2024-12-30 20:31:50,606] Trial 36 finished with value: 1.0480501319662523 and parameters: {'iterations': 4993, 'early_stopping_rounds': 335, 'learning_rate': 0.024438126832595938, 'depth': 6, 'l2_leaf_reg': 9.039871224226818, 'min_data_in_leaf': 66, 'grow_policy': 'Depthwise', 'bootstrap_type': 'Bernoulli', 'subsample': 0.4313611849910432}. Best is trial 27 with value: 1.047071267290638.\n",
      "[I 2024-12-30 20:32:23,429] Trial 37 finished with value: 1.071440769316602 and parameters: {'iterations': 4594, 'early_stopping_rounds': 298, 'learning_rate': 0.03895666007459282, 'depth': 1, 'l2_leaf_reg': 5.183943027469381, 'min_data_in_leaf': 100, 'grow_policy': 'Depthwise', 'bootstrap_type': 'Bernoulli', 'subsample': 0.6433183135818659}. Best is trial 27 with value: 1.047071267290638.\n",
      "[I 2024-12-30 20:32:42,464] Trial 38 finished with value: 1.0479163407621472 and parameters: {'iterations': 3662, 'early_stopping_rounds': 247, 'learning_rate': 0.07131738372305857, 'depth': 7, 'l2_leaf_reg': 4.350171431496959, 'min_data_in_leaf': 24, 'grow_policy': 'Depthwise', 'bootstrap_type': 'Bernoulli', 'subsample': 0.26903065873103593}. Best is trial 27 with value: 1.047071267290638.\n",
      "[I 2024-12-30 20:35:14,808] Trial 39 finished with value: 1.0472324341032448 and parameters: {'iterations': 5690, 'early_stopping_rounds': 598, 'learning_rate': 0.003367419022635855, 'depth': 9, 'l2_leaf_reg': 3.4213059472887637, 'min_data_in_leaf': 33, 'grow_policy': 'Depthwise', 'bootstrap_type': 'Bernoulli', 'subsample': 0.30729073613020574}. Best is trial 27 with value: 1.047071267290638.\n",
      "[I 2024-12-30 20:36:08,078] Trial 40 finished with value: 1.0484896375591628 and parameters: {'iterations': 4407, 'early_stopping_rounds': 413, 'learning_rate': 0.028072440227611423, 'depth': 8, 'l2_leaf_reg': 6.025435331646896, 'min_data_in_leaf': 59, 'grow_policy': 'Depthwise', 'bootstrap_type': 'Bernoulli', 'subsample': 0.05932537069622439}. Best is trial 27 with value: 1.047071267290638.\n",
      "[I 2024-12-30 20:36:28,302] Trial 41 finished with value: 1.0471664733410766 and parameters: {'iterations': 4968, 'early_stopping_rounds': 487, 'learning_rate': 0.05234703889164011, 'depth': 8, 'l2_leaf_reg': 4.53471244953313, 'min_data_in_leaf': 43, 'grow_policy': 'Depthwise', 'bootstrap_type': 'Bernoulli', 'subsample': 0.7204874174573974}. Best is trial 27 with value: 1.047071267290638.\n",
      "[I 2024-12-30 20:36:55,378] Trial 42 finished with value: 1.0471254811604354 and parameters: {'iterations': 5350, 'early_stopping_rounds': 479, 'learning_rate': 0.037011423970136126, 'depth': 10, 'l2_leaf_reg': 5.5463566093319505, 'min_data_in_leaf': 38, 'grow_policy': 'Depthwise', 'bootstrap_type': 'Bernoulli', 'subsample': 0.8426021074191121}. Best is trial 27 with value: 1.047071267290638.\n",
      "[I 2024-12-30 20:37:17,035] Trial 43 finished with value: 1.0471918491898842 and parameters: {'iterations': 5550, 'early_stopping_rounds': 531, 'learning_rate': 0.04750482602011477, 'depth': 9, 'l2_leaf_reg': 4.835496810138591, 'min_data_in_leaf': 50, 'grow_policy': 'Depthwise', 'bootstrap_type': 'Bernoulli', 'subsample': 0.4962425013803544}. Best is trial 27 with value: 1.047071267290638.\n",
      "[I 2024-12-30 20:37:38,058] Trial 44 finished with value: 1.0473891074058814 and parameters: {'iterations': 4053, 'early_stopping_rounds': 354, 'learning_rate': 0.05904905944478393, 'depth': 10, 'l2_leaf_reg': 6.029227458487165, 'min_data_in_leaf': 9, 'grow_policy': 'Depthwise', 'bootstrap_type': 'Bernoulli', 'subsample': 0.6969825453714485}. Best is trial 27 with value: 1.047071267290638.\n",
      "[I 2024-12-30 20:38:16,162] Trial 45 finished with value: 1.047134328847155 and parameters: {'iterations': 3112, 'early_stopping_rounds': 455, 'learning_rate': 0.019927426723083008, 'depth': 8, 'l2_leaf_reg': 3.5949812054758254, 'min_data_in_leaf': 37, 'grow_policy': 'Depthwise', 'bootstrap_type': 'Bernoulli', 'subsample': 0.939723235664314}. Best is trial 27 with value: 1.047071267290638.\n",
      "[I 2024-12-30 20:38:41,866] Trial 46 finished with value: 1.0470784597460079 and parameters: {'iterations': 4767, 'early_stopping_rounds': 391, 'learning_rate': 0.03466404237894426, 'depth': 9, 'l2_leaf_reg': 9.426890885115494, 'min_data_in_leaf': 30, 'grow_policy': 'Depthwise', 'bootstrap_type': 'Bernoulli', 'subsample': 0.607832019506516}. Best is trial 27 with value: 1.047071267290638.\n",
      "[I 2024-12-30 20:39:29,379] Trial 47 finished with value: 1.047060037606445 and parameters: {'iterations': 4775, 'early_stopping_rounds': 385, 'learning_rate': 0.01427059943035381, 'depth': 10, 'l2_leaf_reg': 9.543842295362989, 'min_data_in_leaf': 6, 'grow_policy': 'Depthwise', 'bootstrap_type': 'Bernoulli', 'subsample': 0.38876559219968404}. Best is trial 47 with value: 1.047060037606445.\n",
      "[I 2024-12-30 20:40:27,057] Trial 48 finished with value: 1.047504083794651 and parameters: {'iterations': 4755, 'early_stopping_rounds': 397, 'learning_rate': 0.011327593416141693, 'depth': 9, 'l2_leaf_reg': 9.609696015232675, 'min_data_in_leaf': 23, 'grow_policy': 'Depthwise', 'bootstrap_type': 'Bernoulli', 'subsample': 0.17888881741926918}. Best is trial 47 with value: 1.047060037606445.\n",
      "[I 2024-12-30 20:41:37,973] Trial 49 finished with value: 1.0487513646008755 and parameters: {'iterations': 5046, 'early_stopping_rounds': 375, 'learning_rate': 0.019433926909562856, 'depth': 5, 'l2_leaf_reg': 9.369685759984078, 'min_data_in_leaf': 27, 'grow_policy': 'Depthwise', 'bootstrap_type': 'Bernoulli', 'subsample': 0.4100364115743666}. Best is trial 47 with value: 1.047060037606445.\n",
      "[I 2024-12-30 20:42:38,860] Trial 50 finished with value: 1.0469384928025054 and parameters: {'iterations': 4531, 'early_stopping_rounds': 324, 'learning_rate': 0.010915265031235428, 'depth': 10, 'l2_leaf_reg': 8.615911049261436, 'min_data_in_leaf': 6, 'grow_policy': 'Depthwise', 'bootstrap_type': 'Bernoulli', 'subsample': 0.5751503487798814}. Best is trial 50 with value: 1.0469384928025054.\n",
      "[I 2024-12-30 20:43:37,769] Trial 51 finished with value: 1.0470493988533083 and parameters: {'iterations': 4579, 'early_stopping_rounds': 320, 'learning_rate': 0.01438385744177872, 'depth': 10, 'l2_leaf_reg': 8.372268965315929, 'min_data_in_leaf': 7, 'grow_policy': 'Depthwise', 'bootstrap_type': 'Bernoulli', 'subsample': 0.5531453435944645}. Best is trial 50 with value: 1.0469384928025054.\n",
      "[I 2024-12-30 20:44:27,976] Trial 52 finished with value: 1.047023605032136 and parameters: {'iterations': 4452, 'early_stopping_rounds': 325, 'learning_rate': 0.013673257264408316, 'depth': 10, 'l2_leaf_reg': 8.666147381922434, 'min_data_in_leaf': 7, 'grow_policy': 'Depthwise', 'bootstrap_type': 'Bernoulli', 'subsample': 0.5066127748488072}. Best is trial 50 with value: 1.0469384928025054.\n",
      "[I 2024-12-30 20:45:22,319] Trial 53 finished with value: 1.0470437516227913 and parameters: {'iterations': 4576, 'early_stopping_rounds': 317, 'learning_rate': 0.011692935972586273, 'depth': 10, 'l2_leaf_reg': 8.526065290726114, 'min_data_in_leaf': 5, 'grow_policy': 'Depthwise', 'bootstrap_type': 'Bernoulli', 'subsample': 0.49889189036175313}. Best is trial 50 with value: 1.0469384928025054.\n",
      "[I 2024-12-30 20:46:15,925] Trial 54 finished with value: 1.0469828985131335 and parameters: {'iterations': 4646, 'early_stopping_rounds': 316, 'learning_rate': 0.013326976530741788, 'depth': 10, 'l2_leaf_reg': 8.511054519974303, 'min_data_in_leaf': 7, 'grow_policy': 'Depthwise', 'bootstrap_type': 'Bernoulli', 'subsample': 0.5231290018316165}. Best is trial 50 with value: 1.0469384928025054.\n",
      "[I 2024-12-30 20:47:02,353] Trial 55 finished with value: 1.0470725313311673 and parameters: {'iterations': 4517, 'early_stopping_rounds': 278, 'learning_rate': 0.014385739129493681, 'depth': 10, 'l2_leaf_reg': 8.584370931153092, 'min_data_in_leaf': 7, 'grow_policy': 'Depthwise', 'bootstrap_type': 'Bernoulli', 'subsample': 0.3893501858557254}. Best is trial 50 with value: 1.0469384928025054.\n",
      "[I 2024-12-30 20:49:16,850] Trial 56 finished with value: 1.047152482415777 and parameters: {'iterations': 5098, 'early_stopping_rounds': 325, 'learning_rate': 0.004978783315341668, 'depth': 10, 'l2_leaf_reg': 7.995537452999436, 'min_data_in_leaf': 2, 'grow_policy': 'Depthwise', 'bootstrap_type': 'Bernoulli', 'subsample': 0.2905759388986228}. Best is trial 50 with value: 1.0469384928025054.\n",
      "[I 2024-12-30 20:50:00,888] Trial 57 finished with value: 1.0469860285817179 and parameters: {'iterations': 1430, 'early_stopping_rounds': 277, 'learning_rate': 0.015727822428508252, 'depth': 10, 'l2_leaf_reg': 8.625861777556171, 'min_data_in_leaf': 6, 'grow_policy': 'Depthwise', 'bootstrap_type': 'Bernoulli', 'subsample': 0.5828378338085182}. Best is trial 50 with value: 1.0469384928025054.\n",
      "[I 2024-12-30 20:50:52,834] Trial 58 finished with value: 1.0470060116979683 and parameters: {'iterations': 4083, 'early_stopping_rounds': 219, 'learning_rate': 0.009339762468522413, 'depth': 9, 'l2_leaf_reg': 8.784070422679438, 'min_data_in_leaf': 13, 'grow_policy': 'Depthwise', 'bootstrap_type': 'Bernoulli', 'subsample': 0.5630306895618296}. Best is trial 50 with value: 1.0469384928025054.\n",
      "[I 2024-12-30 20:51:34,801] Trial 59 finished with value: 1.0470336856419622 and parameters: {'iterations': 1293, 'early_stopping_rounds': 264, 'learning_rate': 0.010785691438030818, 'depth': 9, 'l2_leaf_reg': 8.773212535559944, 'min_data_in_leaf': 12, 'grow_policy': 'Depthwise', 'bootstrap_type': 'Bernoulli', 'subsample': 0.47587358018097436}. Best is trial 50 with value: 1.0469384928025054.\n",
      "[I 2024-12-30 20:52:15,507] Trial 60 finished with value: 1.0510837824653334 and parameters: {'iterations': 1217, 'early_stopping_rounds': 222, 'learning_rate': 0.0012993712021927978, 'depth': 9, 'l2_leaf_reg': 7.7174959960806095, 'min_data_in_leaf': 12, 'grow_policy': 'Depthwise', 'bootstrap_type': 'Bernoulli', 'subsample': 0.23404311907742198}. Best is trial 50 with value: 1.0469384928025054.\n",
      "[I 2024-12-30 20:53:04,621] Trial 61 finished with value: 1.0470750335112027 and parameters: {'iterations': 1545, 'early_stopping_rounds': 273, 'learning_rate': 0.009679964649568381, 'depth': 9, 'l2_leaf_reg': 8.694305221296212, 'min_data_in_leaf': 15, 'grow_policy': 'Depthwise', 'bootstrap_type': 'Bernoulli', 'subsample': 0.47831863564401284}. Best is trial 50 with value: 1.0469384928025054.\n",
      "[I 2024-12-30 20:54:12,883] Trial 62 finished with value: 1.0469516554150244 and parameters: {'iterations': 1673, 'early_stopping_rounds': 229, 'learning_rate': 0.008630880594614566, 'depth': 10, 'l2_leaf_reg': 8.790326664421327, 'min_data_in_leaf': 4, 'grow_policy': 'Depthwise', 'bootstrap_type': 'Bernoulli', 'subsample': 0.5933501278576551}. Best is trial 50 with value: 1.0469384928025054.\n",
      "[I 2024-12-30 20:55:20,075] Trial 63 finished with value: 1.046958026984836 and parameters: {'iterations': 1671, 'early_stopping_rounds': 223, 'learning_rate': 0.007347552345341815, 'depth': 10, 'l2_leaf_reg': 9.22285364112872, 'min_data_in_leaf': 20, 'grow_policy': 'Depthwise', 'bootstrap_type': 'Bernoulli', 'subsample': 0.5740004850512795}. Best is trial 50 with value: 1.0469384928025054.\n",
      "[I 2024-12-30 20:56:31,463] Trial 64 finished with value: 1.0469510289684838 and parameters: {'iterations': 1884, 'early_stopping_rounds': 226, 'learning_rate': 0.007249497240267832, 'depth': 10, 'l2_leaf_reg': 9.060129545631282, 'min_data_in_leaf': 19, 'grow_policy': 'Depthwise', 'bootstrap_type': 'Bernoulli', 'subsample': 0.5943757780334408}. Best is trial 50 with value: 1.0469384928025054.\n",
      "[I 2024-12-30 20:57:44,101] Trial 65 finished with value: 1.0469229069096566 and parameters: {'iterations': 1877, 'early_stopping_rounds': 222, 'learning_rate': 0.006185754297872373, 'depth': 10, 'l2_leaf_reg': 9.072899998964747, 'min_data_in_leaf': 20, 'grow_policy': 'Depthwise', 'bootstrap_type': 'Bernoulli', 'subsample': 0.587602391192821}. Best is trial 65 with value: 1.0469229069096566.\n",
      "[I 2024-12-30 20:58:59,525] Trial 66 finished with value: 1.0469062639264703 and parameters: {'iterations': 1961, 'early_stopping_rounds': 240, 'learning_rate': 0.006498732438088681, 'depth': 10, 'l2_leaf_reg': 8.216755666730212, 'min_data_in_leaf': 20, 'grow_policy': 'Depthwise', 'bootstrap_type': 'Bernoulli', 'subsample': 0.5930952071250943}. Best is trial 66 with value: 1.0469062639264703.\n",
      "[I 2024-12-30 20:59:55,021] Trial 67 finished with value: 1.0469939546436526 and parameters: {'iterations': 1991, 'early_stopping_rounds': 175, 'learning_rate': 0.006005727959607125, 'depth': 10, 'l2_leaf_reg': 8.250048899587952, 'min_data_in_leaf': 21, 'grow_policy': 'Depthwise', 'bootstrap_type': 'Bernoulli', 'subsample': 0.6128390777078873}. Best is trial 66 with value: 1.0469062639264703.\n",
      "[I 2024-12-30 21:01:05,151] Trial 68 finished with value: 1.0469753748407402 and parameters: {'iterations': 1764, 'early_stopping_rounds': 203, 'learning_rate': 0.007123691073106806, 'depth': 10, 'l2_leaf_reg': 9.21864850704833, 'min_data_in_leaf': 17, 'grow_policy': 'Depthwise', 'bootstrap_type': 'Bernoulli', 'subsample': 0.8435115002093788}. Best is trial 66 with value: 1.0469062639264703.\n",
      "[I 2024-12-30 21:02:09,832] Trial 69 finished with value: 1.0469563313803596 and parameters: {'iterations': 2087, 'early_stopping_rounds': 141, 'learning_rate': 0.00786039753006103, 'depth': 9, 'l2_leaf_reg': 9.220214338313495, 'min_data_in_leaf': 18, 'grow_policy': 'Depthwise', 'bootstrap_type': 'Bernoulli', 'subsample': 0.9124993848264596}. Best is trial 66 with value: 1.0469062639264703.\n",
      "[I 2024-12-30 21:03:24,886] Trial 70 finished with value: 1.0471326645835426 and parameters: {'iterations': 2220, 'early_stopping_rounds': 116, 'learning_rate': 0.002921974872460876, 'depth': 9, 'l2_leaf_reg': 7.726185494331864, 'min_data_in_leaf': 20, 'grow_policy': 'Depthwise', 'bootstrap_type': 'Bernoulli', 'subsample': 0.8813278050801633}. Best is trial 66 with value: 1.0469062639264703.\n",
      "[I 2024-12-30 21:04:25,216] Trial 71 finished with value: 1.0472195829939945 and parameters: {'iterations': 1649, 'early_stopping_rounds': 130, 'learning_rate': 0.007300415426913029, 'depth': 10, 'l2_leaf_reg': 9.086328988333802, 'min_data_in_leaf': 17, 'grow_policy': 'Depthwise', 'bootstrap_type': 'Bernoulli', 'subsample': 0.9922999344365776}. Best is trial 66 with value: 1.0469062639264703.\n",
      "[I 2024-12-30 21:04:47,014] Trial 72 finished with value: 1.0546417197917863 and parameters: {'iterations': 1849, 'early_stopping_rounds': 201, 'learning_rate': 0.017514994832066366, 'depth': 3, 'l2_leaf_reg': 9.275848841829104, 'min_data_in_leaf': 29, 'grow_policy': 'Depthwise', 'bootstrap_type': 'Bernoulli', 'subsample': 0.7927987875461044}. Best is trial 66 with value: 1.0469062639264703.\n",
      "[I 2024-12-30 21:05:09,242] Trial 73 finished with value: 1.0471452486662072 and parameters: {'iterations': 2050, 'early_stopping_rounds': 227, 'learning_rate': 0.02281233069105363, 'depth': 10, 'l2_leaf_reg': 9.941497284912991, 'min_data_in_leaf': 16, 'grow_policy': 'Depthwise', 'bootstrap_type': 'Bernoulli', 'subsample': 0.9011767170008896}. Best is trial 66 with value: 1.0469062639264703.\n",
      "[I 2024-12-30 21:06:16,890] Trial 74 finished with value: 1.046977780917703 and parameters: {'iterations': 1751, 'early_stopping_rounds': 241, 'learning_rate': 0.006656430020770533, 'depth': 10, 'l2_leaf_reg': 8.995857688683719, 'min_data_in_leaf': 22, 'grow_policy': 'Depthwise', 'bootstrap_type': 'Bernoulli', 'subsample': 0.7499559071685522}. Best is trial 66 with value: 1.0469062639264703.\n",
      "[I 2024-12-30 21:07:24,106] Trial 75 finished with value: 1.0469513020718062 and parameters: {'iterations': 2142, 'early_stopping_rounds': 184, 'learning_rate': 0.008091620635001252, 'depth': 9, 'l2_leaf_reg': 9.304370554468328, 'min_data_in_leaf': 18, 'grow_policy': 'Depthwise', 'bootstrap_type': 'Bernoulli', 'subsample': 0.6646152188514852}. Best is trial 66 with value: 1.0469062639264703.\n",
      "[I 2024-12-30 21:08:34,453] Trial 76 finished with value: 1.0470437886221728 and parameters: {'iterations': 2203, 'early_stopping_rounds': 180, 'learning_rate': 0.0036027714114885553, 'depth': 9, 'l2_leaf_reg': 9.68636108510158, 'min_data_in_leaf': 26, 'grow_policy': 'Depthwise', 'bootstrap_type': 'Bernoulli', 'subsample': 0.6623291027844348}. Best is trial 66 with value: 1.0469062639264703.\n",
      "[I 2024-12-30 21:09:37,898] Trial 77 finished with value: 1.0475608651969535 and parameters: {'iterations': 2359, 'early_stopping_rounds': 163, 'learning_rate': 0.0018876778549946427, 'depth': 8, 'l2_leaf_reg': 8.17560634813756, 'min_data_in_leaf': 19, 'grow_policy': 'Depthwise', 'bootstrap_type': 'Bernoulli', 'subsample': 0.6132477405237388}. Best is trial 66 with value: 1.0469062639264703.\n",
      "[I 2024-12-30 21:10:11,537] Trial 78 finished with value: 1.0500912080601874 and parameters: {'iterations': 2540, 'early_stopping_rounds': 135, 'learning_rate': 0.022252109022259867, 'depth': 4, 'l2_leaf_reg': 7.088797710199328, 'min_data_in_leaf': 10, 'grow_policy': 'Depthwise', 'bootstrap_type': 'Bernoulli', 'subsample': 0.6773136447899457}. Best is trial 66 with value: 1.0469062639264703.\n",
      "[I 2024-12-30 21:10:44,705] Trial 79 finished with value: 1.0470763537573808 and parameters: {'iterations': 2795, 'early_stopping_rounds': 147, 'learning_rate': 0.016873405904234084, 'depth': 9, 'l2_leaf_reg': 8.942727383265165, 'min_data_in_leaf': 32, 'grow_policy': 'Depthwise', 'bootstrap_type': 'Bernoulli', 'subsample': 0.45320617136963276}. Best is trial 66 with value: 1.0469062639264703.\n",
      "[I 2024-12-30 21:11:29,826] Trial 80 finished with value: 1.0474555643436625 and parameters: {'iterations': 2089, 'early_stopping_rounds': 218, 'learning_rate': 0.008232777338616307, 'depth': 7, 'l2_leaf_reg': 7.887472712864117, 'min_data_in_leaf': 2, 'grow_policy': 'Depthwise', 'bootstrap_type': 'Bernoulli', 'subsample': 0.7683428168286935}. Best is trial 66 with value: 1.0469062639264703.\n",
      "[I 2024-12-30 21:12:45,035] Trial 81 finished with value: 1.047015805924798 and parameters: {'iterations': 1782, 'early_stopping_rounds': 207, 'learning_rate': 0.005400489382316639, 'depth': 10, 'l2_leaf_reg': 9.32260095191664, 'min_data_in_leaf': 17, 'grow_policy': 'Depthwise', 'bootstrap_type': 'Bernoulli', 'subsample': 0.8678129312681243}. Best is trial 66 with value: 1.0469062639264703.\n",
      "[I 2024-12-30 21:13:45,135] Trial 82 finished with value: 1.0469439444317195 and parameters: {'iterations': 1550, 'early_stopping_rounds': 238, 'learning_rate': 0.008265200639440203, 'depth': 10, 'l2_leaf_reg': 9.139033194356704, 'min_data_in_leaf': 23, 'grow_policy': 'Depthwise', 'bootstrap_type': 'Bernoulli', 'subsample': 0.5766583015233224}. Best is trial 66 with value: 1.0469062639264703.\n",
      "[I 2024-12-30 21:14:43,174] Trial 83 finished with value: 1.0469532658320737 and parameters: {'iterations': 1519, 'early_stopping_rounds': 235, 'learning_rate': 0.009116759629108127, 'depth': 10, 'l2_leaf_reg': 9.70865199995073, 'min_data_in_leaf': 23, 'grow_policy': 'Depthwise', 'bootstrap_type': 'Bernoulli', 'subsample': 0.5813056623978584}. Best is trial 66 with value: 1.0469062639264703.\n",
      "[I 2024-12-30 21:15:23,031] Trial 84 finished with value: 1.048019199689001 and parameters: {'iterations': 1451, 'early_stopping_rounds': 238, 'learning_rate': 0.011562517900714475, 'depth': 9, 'l2_leaf_reg': 9.744899561542123, 'min_data_in_leaf': 28, 'grow_policy': 'Depthwise', 'bootstrap_type': 'Bernoulli', 'subsample': 0.09342183494202157}. Best is trial 66 with value: 1.0469062639264703.\n",
      "[I 2024-12-30 21:16:00,927] Trial 85 finished with value: 1.047040189064273 and parameters: {'iterations': 1933, 'early_stopping_rounds': 188, 'learning_rate': 0.018536799682866423, 'depth': 9, 'l2_leaf_reg': 9.952599182186074, 'min_data_in_leaf': 23, 'grow_policy': 'Depthwise', 'bootstrap_type': 'Bernoulli', 'subsample': 0.622615972763488}. Best is trial 66 with value: 1.0469062639264703.\n",
      "[I 2024-12-30 21:16:20,329] Trial 86 finished with value: 1.0471472717857973 and parameters: {'iterations': 1054, 'early_stopping_rounds': 255, 'learning_rate': 0.026655184742737745, 'depth': 10, 'l2_leaf_reg': 8.926119603064615, 'min_data_in_leaf': 25, 'grow_policy': 'Depthwise', 'bootstrap_type': 'Bernoulli', 'subsample': 0.5412873128133732}. Best is trial 66 with value: 1.0469062639264703.\n",
      "[I 2024-12-30 21:17:08,893] Trial 87 finished with value: 1.0469940781136133 and parameters: {'iterations': 1245, 'early_stopping_rounds': 297, 'learning_rate': 0.009250468713294161, 'depth': 10, 'l2_leaf_reg': 9.488602881599878, 'min_data_in_leaf': 35, 'grow_policy': 'Depthwise', 'bootstrap_type': 'Bernoulli', 'subsample': 0.7356368536255364}. Best is trial 66 with value: 1.0469062639264703.\n",
      "[I 2024-12-30 21:17:24,914] Trial 88 finished with value: 1.0687762354819883 and parameters: {'iterations': 1571, 'early_stopping_rounds': 172, 'learning_rate': 0.004287771228380874, 'depth': 2, 'l2_leaf_reg': 8.30143632877035, 'min_data_in_leaf': 11, 'grow_policy': 'Depthwise', 'bootstrap_type': 'Bernoulli', 'subsample': 0.6702913675527677}. Best is trial 66 with value: 1.0469062639264703.\n",
      "[I 2024-12-30 21:18:36,474] Trial 89 finished with value: 1.0477602773086365 and parameters: {'iterations': 2171, 'early_stopping_rounds': 286, 'learning_rate': 0.0016878535835638123, 'depth': 9, 'l2_leaf_reg': 9.648088447347416, 'min_data_in_leaf': 14, 'grow_policy': 'Depthwise', 'bootstrap_type': 'Bernoulli', 'subsample': 0.33565686641617476}. Best is trial 66 with value: 1.0469062639264703.\n",
      "[I 2024-12-30 21:19:13,874] Trial 90 finished with value: 1.0470198897625065 and parameters: {'iterations': 1375, 'early_stopping_rounds': 259, 'learning_rate': 0.015831459146073687, 'depth': 10, 'l2_leaf_reg': 9.131430617935903, 'min_data_in_leaf': 23, 'grow_policy': 'Depthwise', 'bootstrap_type': 'Bernoulli', 'subsample': 0.5736363538144699}. Best is trial 66 with value: 1.0469062639264703.\n",
      "[I 2024-12-30 21:20:17,920] Trial 91 finished with value: 1.0469508838422685 and parameters: {'iterations': 1625, 'early_stopping_rounds': 234, 'learning_rate': 0.006756255229844173, 'depth': 10, 'l2_leaf_reg': 8.83931580745874, 'min_data_in_leaf': 21, 'grow_policy': 'Depthwise', 'bootstrap_type': 'Bernoulli', 'subsample': 0.5787486298268978}. Best is trial 66 with value: 1.0469062639264703.\n",
      "[I 2024-12-30 21:21:06,975] Trial 92 finished with value: 1.04703518577246 and parameters: {'iterations': 1904, 'early_stopping_rounds': 235, 'learning_rate': 0.010747851995324253, 'depth': 10, 'l2_leaf_reg': 8.85971699176883, 'min_data_in_leaf': 19, 'grow_policy': 'Depthwise', 'bootstrap_type': 'Bernoulli', 'subsample': 0.46407653749639605}. Best is trial 66 with value: 1.0469062639264703.\n",
      "[I 2024-12-30 21:21:49,479] Trial 93 finished with value: 1.0469485758499923 and parameters: {'iterations': 1532, 'early_stopping_rounds': 211, 'learning_rate': 0.012450885875160562, 'depth': 10, 'l2_leaf_reg': 8.381996299712107, 'min_data_in_leaf': 31, 'grow_policy': 'Depthwise', 'bootstrap_type': 'Bernoulli', 'subsample': 0.6320301326128321}. Best is trial 66 with value: 1.0469062639264703.\n",
      "[I 2024-12-30 21:22:29,793] Trial 94 finished with value: 1.0470917733415153 and parameters: {'iterations': 1527, 'early_stopping_rounds': 208, 'learning_rate': 0.012868129081555026, 'depth': 10, 'l2_leaf_reg': 7.403246253995816, 'min_data_in_leaf': 26, 'grow_policy': 'Depthwise', 'bootstrap_type': 'Bernoulli', 'subsample': 0.41974152616013205}. Best is trial 66 with value: 1.0469062639264703.\n",
      "[I 2024-12-30 21:22:50,346] Trial 95 finished with value: 1.0491082390875972 and parameters: {'iterations': 1133, 'early_stopping_rounds': 194, 'learning_rate': 0.00488738513867326, 'depth': 6, 'l2_leaf_reg': 8.382502499463946, 'min_data_in_leaf': 31, 'grow_policy': 'Depthwise', 'bootstrap_type': 'Bernoulli', 'subsample': 0.5201381685545674}. Best is trial 66 with value: 1.0469062639264703.\n",
      "[I 2024-12-30 21:23:35,399] Trial 96 finished with value: 1.046979964940595 and parameters: {'iterations': 1656, 'early_stopping_rounds': 244, 'learning_rate': 0.01241065018713927, 'depth': 10, 'l2_leaf_reg': 8.111371048697098, 'min_data_in_leaf': 9, 'grow_policy': 'Depthwise', 'bootstrap_type': 'Bernoulli', 'subsample': 0.5993626813227143}. Best is trial 66 with value: 1.0469062639264703.\n",
      "[I 2024-12-30 21:25:25,622] Trial 97 finished with value: 1.0478253525223693 and parameters: {'iterations': 2295, 'early_stopping_rounds': 229, 'learning_rate': 0.0011090886556468886, 'depth': 10, 'l2_leaf_reg': 9.418525193349051, 'min_data_in_leaf': 14, 'grow_policy': 'Depthwise', 'bootstrap_type': 'Bernoulli', 'subsample': 0.6474676991417574}. Best is trial 66 with value: 1.0469062639264703.\n",
      "[I 2024-12-30 21:26:16,818] Trial 98 finished with value: 1.046925116139146 and parameters: {'iterations': 1336, 'early_stopping_rounds': 215, 'learning_rate': 0.009374140012535823, 'depth': 10, 'l2_leaf_reg': 8.439816139106226, 'min_data_in_leaf': 24, 'grow_policy': 'Depthwise', 'bootstrap_type': 'Bernoulli', 'subsample': 0.6986988470648139}. Best is trial 66 with value: 1.0469062639264703.\n",
      "[I 2024-12-30 21:26:48,884] Trial 99 finished with value: 1.0469266924056275 and parameters: {'iterations': 1312, 'early_stopping_rounds': 266, 'learning_rate': 0.02074507684168045, 'depth': 10, 'l2_leaf_reg': 7.67977231109675, 'min_data_in_leaf': 21, 'grow_policy': 'Depthwise', 'bootstrap_type': 'Bernoulli', 'subsample': 0.7077374978486981}. Best is trial 66 with value: 1.0469062639264703.\n"
     ]
    }
   ],
   "source": [
    "from optuna.samplers import TPESampler\n",
    "\n",
    "sampler = TPESampler(seed=777)\n",
    "study = optuna.create_study(\n",
    "        #pruner=optuna.pruners.MedianPruner(n_startup_trials=5,n_warmup_steps=1000), Not with GPU \n",
    "        direction='minimize', \n",
    "        sampler=sampler)\n",
    "study.optimize(objective, n_trials=100)"
   ]
  },
  {
   "cell_type": "code",
   "execution_count": 54,
   "id": "2bb8a4cc",
   "metadata": {
    "execution": {
     "iopub.execute_input": "2024-12-30T21:26:48.942004Z",
     "iopub.status.busy": "2024-12-30T21:26:48.941698Z",
     "iopub.status.idle": "2024-12-30T21:26:48.946382Z",
     "shell.execute_reply": "2024-12-30T21:26:48.945542Z"
    },
    "papermill": {
     "duration": 0.023334,
     "end_time": "2024-12-30T21:26:48.948069",
     "exception": false,
     "start_time": "2024-12-30T21:26:48.924735",
     "status": "completed"
    },
    "tags": []
   },
   "outputs": [
    {
     "name": "stdout",
     "output_type": "stream",
     "text": [
      "{'iterations': 1961, 'early_stopping_rounds': 240, 'learning_rate': 0.006498732438088681, 'depth': 10, 'l2_leaf_reg': 8.216755666730212, 'min_data_in_leaf': 20, 'grow_policy': 'Depthwise', 'bootstrap_type': 'Bernoulli', 'subsample': 0.5930952071250943}\n"
     ]
    }
   ],
   "source": [
    "print(study.best_params)"
   ]
  },
  {
   "cell_type": "code",
   "execution_count": 55,
   "id": "c0964c00",
   "metadata": {
    "execution": {
     "iopub.execute_input": "2024-12-30T21:26:48.984648Z",
     "iopub.status.busy": "2024-12-30T21:26:48.984340Z",
     "iopub.status.idle": "2024-12-30T21:26:48.988744Z",
     "shell.execute_reply": "2024-12-30T21:26:48.987803Z"
    },
    "papermill": {
     "duration": 0.024874,
     "end_time": "2024-12-30T21:26:48.990616",
     "exception": false,
     "start_time": "2024-12-30T21:26:48.965742",
     "status": "completed"
    },
    "tags": []
   },
   "outputs": [],
   "source": [
    "# best_params={'iterations': 3993, \n",
    "#              'early_stopping_rounds': 196,\n",
    "#              'learning_rate': 0.04388555358504515,\n",
    "#              'depth': 10,\n",
    "#              'l2_leaf_reg': 4.406115225787097,\n",
    "#              'min_data_in_leaf': 69,\n",
    "#              'grow_policy': 'Lossguide'}\n",
    "\n",
    "#best_params={'iterations': 1719,\n",
    "#             'early_stopping_rounds': 62,\n",
    "#             'learning_rate': 0.022712635681532305,\n",
    "#             'depth': 10, 'l2_leaf_reg': 2.266827548044181,\n",
    "#             'min_data_in_leaf': 66,\n",
    "#             'grow_policy': 'Depthwise'}\n",
    "#metriclist, model = calc_test_quality(train_pool,val_pool,**best_params)\n",
    "#model.save_model('optuna_tune_model')"
   ]
  },
  {
   "cell_type": "code",
   "execution_count": 56,
   "id": "8c29eaa1",
   "metadata": {
    "execution": {
     "iopub.execute_input": "2024-12-30T21:26:49.026695Z",
     "iopub.status.busy": "2024-12-30T21:26:49.026011Z",
     "iopub.status.idle": "2024-12-30T21:26:49.029787Z",
     "shell.execute_reply": "2024-12-30T21:26:49.028937Z"
    },
    "papermill": {
     "duration": 0.023909,
     "end_time": "2024-12-30T21:26:49.031556",
     "exception": false,
     "start_time": "2024-12-30T21:26:49.007647",
     "status": "completed"
    },
    "tags": []
   },
   "outputs": [],
   "source": [
    "#print(metriclist)"
   ]
  },
  {
   "cell_type": "code",
   "execution_count": 57,
   "id": "ef1b4223",
   "metadata": {
    "execution": {
     "iopub.execute_input": "2024-12-30T21:26:49.067757Z",
     "iopub.status.busy": "2024-12-30T21:26:49.067434Z",
     "iopub.status.idle": "2024-12-30T21:41:31.817829Z",
     "shell.execute_reply": "2024-12-30T21:41:31.817058Z"
    },
    "papermill": {
     "duration": 882.770846,
     "end_time": "2024-12-30T21:41:31.820049",
     "exception": false,
     "start_time": "2024-12-30T21:26:49.049203",
     "status": "completed"
    },
    "tags": []
   },
   "outputs": [],
   "source": [
    "#predicts = model.predict(X_test)\n",
    "predicts = bagging_prob(train_pool,val_pool,**study.best_params)"
   ]
  },
  {
   "cell_type": "code",
   "execution_count": 58,
   "id": "d9802279",
   "metadata": {
    "execution": {
     "iopub.execute_input": "2024-12-30T21:41:31.855749Z",
     "iopub.status.busy": "2024-12-30T21:41:31.855380Z",
     "iopub.status.idle": "2024-12-30T21:41:31.860689Z",
     "shell.execute_reply": "2024-12-30T21:41:31.860018Z"
    },
    "papermill": {
     "duration": 0.024822,
     "end_time": "2024-12-30T21:41:31.862380",
     "exception": false,
     "start_time": "2024-12-30T21:41:31.837558",
     "status": "completed"
    },
    "tags": []
   },
   "outputs": [],
   "source": [
    "predicts_original_scale = np.expm1(predicts)"
   ]
  },
  {
   "cell_type": "code",
   "execution_count": 59,
   "id": "cbb33120",
   "metadata": {
    "execution": {
     "iopub.execute_input": "2024-12-30T21:41:31.898420Z",
     "iopub.status.busy": "2024-12-30T21:41:31.898106Z",
     "iopub.status.idle": "2024-12-30T21:41:33.382636Z",
     "shell.execute_reply": "2024-12-30T21:41:33.381968Z"
    },
    "papermill": {
     "duration": 1.505015,
     "end_time": "2024-12-30T21:41:33.384636",
     "exception": false,
     "start_time": "2024-12-30T21:41:31.879621",
     "status": "completed"
    },
    "tags": []
   },
   "outputs": [],
   "source": [
    "temp=pd.concat([df_test['id'],pd.DataFrame(predicts_original_scale,columns=['Premium Amount'])],axis=1).reset_index(drop=True)\n",
    "temp.to_csv('submissionfloat23.csv',index=False)"
   ]
  },
  {
   "cell_type": "code",
   "execution_count": 60,
   "id": "ded5e90d",
   "metadata": {
    "execution": {
     "iopub.execute_input": "2024-12-30T21:41:33.419857Z",
     "iopub.status.busy": "2024-12-30T21:41:33.419448Z",
     "iopub.status.idle": "2024-12-30T21:41:34.591961Z",
     "shell.execute_reply": "2024-12-30T21:41:34.590924Z"
    },
    "papermill": {
     "duration": 1.192751,
     "end_time": "2024-12-30T21:41:34.594157",
     "exception": false,
     "start_time": "2024-12-30T21:41:33.401406",
     "status": "completed"
    },
    "tags": []
   },
   "outputs": [
    {
     "name": "stdout",
     "output_type": "stream",
     "text": [
      "submissionfloat23.csv\r\n"
     ]
    }
   ],
   "source": [
    "!ls *.csv\n",
    "#from IPython.display import FileLink\n",
    "\n",
    "# Provide a link to the file in the notebook\n",
    "#FileLink(\"subfloat2.zip\")\n"
   ]
  },
  {
   "cell_type": "code",
   "execution_count": 61,
   "id": "e933409d",
   "metadata": {
    "execution": {
     "iopub.execute_input": "2024-12-30T21:41:34.630395Z",
     "iopub.status.busy": "2024-12-30T21:41:34.630030Z",
     "iopub.status.idle": "2024-12-30T21:41:34.634380Z",
     "shell.execute_reply": "2024-12-30T21:41:34.633648Z"
    },
    "papermill": {
     "duration": 0.024483,
     "end_time": "2024-12-30T21:41:34.636215",
     "exception": false,
     "start_time": "2024-12-30T21:41:34.611732",
     "status": "completed"
    },
    "tags": []
   },
   "outputs": [],
   "source": [
    "#round int\n",
    "#temp=pd.concat([df_test['id'],pd.DataFrame(np.rint(predicts_original_scale),columns=['Premium Amount'])],axis=1).reset_index(drop=True)"
   ]
  },
  {
   "cell_type": "code",
   "execution_count": 62,
   "id": "fcac51f8",
   "metadata": {
    "execution": {
     "iopub.execute_input": "2024-12-30T21:41:34.671670Z",
     "iopub.status.busy": "2024-12-30T21:41:34.671137Z",
     "iopub.status.idle": "2024-12-30T21:41:34.674915Z",
     "shell.execute_reply": "2024-12-30T21:41:34.674158Z"
    },
    "papermill": {
     "duration": 0.023485,
     "end_time": "2024-12-30T21:41:34.676781",
     "exception": false,
     "start_time": "2024-12-30T21:41:34.653296",
     "status": "completed"
    },
    "tags": []
   },
   "outputs": [],
   "source": [
    "#not round int\n",
    "#temp2=pd.concat([df_test['id'],pd.DataFrame(predicts_original_scale.astype(int),columns=['Premium Amount'])],axis=1).reset_index(drop=True)"
   ]
  },
  {
   "cell_type": "code",
   "execution_count": 63,
   "id": "b4d4048f",
   "metadata": {
    "execution": {
     "iopub.execute_input": "2024-12-30T21:41:34.712569Z",
     "iopub.status.busy": "2024-12-30T21:41:34.712085Z",
     "iopub.status.idle": "2024-12-30T21:41:34.715892Z",
     "shell.execute_reply": "2024-12-30T21:41:34.715132Z"
    },
    "papermill": {
     "duration": 0.023832,
     "end_time": "2024-12-30T21:41:34.717655",
     "exception": false,
     "start_time": "2024-12-30T21:41:34.693823",
     "status": "completed"
    },
    "tags": []
   },
   "outputs": [],
   "source": [
    "#temp.to_csv('submissionX.csv',index=False)"
   ]
  },
  {
   "cell_type": "code",
   "execution_count": 64,
   "id": "7b25190a",
   "metadata": {
    "execution": {
     "iopub.execute_input": "2024-12-30T21:41:34.753113Z",
     "iopub.status.busy": "2024-12-30T21:41:34.752808Z",
     "iopub.status.idle": "2024-12-30T21:41:34.756538Z",
     "shell.execute_reply": "2024-12-30T21:41:34.755771Z"
    },
    "papermill": {
     "duration": 0.023474,
     "end_time": "2024-12-30T21:41:34.758201",
     "exception": false,
     "start_time": "2024-12-30T21:41:34.734727",
     "status": "completed"
    },
    "tags": []
   },
   "outputs": [],
   "source": [
    "#temp2.to_csv('submission_not_round.csv',index=False)"
   ]
  },
  {
   "cell_type": "code",
   "execution_count": null,
   "id": "66eabc4b",
   "metadata": {
    "papermill": {
     "duration": 0.018338,
     "end_time": "2024-12-30T21:41:34.793217",
     "exception": false,
     "start_time": "2024-12-30T21:41:34.774879",
     "status": "completed"
    },
    "tags": []
   },
   "outputs": [],
   "source": []
  },
  {
   "cell_type": "code",
   "execution_count": 65,
   "id": "f5157974",
   "metadata": {
    "execution": {
     "iopub.execute_input": "2024-12-30T21:41:34.828782Z",
     "iopub.status.busy": "2024-12-30T21:41:34.828075Z",
     "iopub.status.idle": "2024-12-30T21:41:37.087990Z",
     "shell.execute_reply": "2024-12-30T21:41:37.087009Z"
    },
    "papermill": {
     "duration": 2.280383,
     "end_time": "2024-12-30T21:41:37.090314",
     "exception": false,
     "start_time": "2024-12-30T21:41:34.809931",
     "status": "completed"
    },
    "tags": []
   },
   "outputs": [
    {
     "name": "stdout",
     "output_type": "stream",
     "text": [
      "rm: cannot remove 'subnotround.zip': No such file or directory\r\n",
      "\tzip warning: name not matched: submission_not_round.csv\r\n",
      "\r\n",
      "zip error: Nothing to do! (subnotround.zip)\r\n"
     ]
    }
   ],
   "source": [
    "!rm subnotround.zip\n",
    "!zip subnotround.zip submission_not_round.csv\n"
   ]
  },
  {
   "cell_type": "code",
   "execution_count": 66,
   "id": "6de918df",
   "metadata": {
    "execution": {
     "iopub.execute_input": "2024-12-30T21:41:37.128099Z",
     "iopub.status.busy": "2024-12-30T21:41:37.127331Z",
     "iopub.status.idle": "2024-12-30T21:41:39.355802Z",
     "shell.execute_reply": "2024-12-30T21:41:39.354556Z"
    },
    "papermill": {
     "duration": 2.249465,
     "end_time": "2024-12-30T21:41:39.357937",
     "exception": false,
     "start_time": "2024-12-30T21:41:37.108472",
     "status": "completed"
    },
    "tags": []
   },
   "outputs": [
    {
     "name": "stdout",
     "output_type": "stream",
     "text": [
      "rm: cannot remove 'sub.zip': No such file or directory\r\n",
      "\tzip warning: name not matched: submissionX.csv\r\n",
      "\r\n",
      "zip error: Nothing to do! (sub.zip)\r\n"
     ]
    }
   ],
   "source": [
    "!rm sub.zip\n",
    "!zip sub.zip submissionX.csv"
   ]
  },
  {
   "cell_type": "code",
   "execution_count": 67,
   "id": "ad476651",
   "metadata": {
    "execution": {
     "iopub.execute_input": "2024-12-30T21:41:39.393274Z",
     "iopub.status.busy": "2024-12-30T21:41:39.392976Z",
     "iopub.status.idle": "2024-12-30T21:41:40.488428Z",
     "shell.execute_reply": "2024-12-30T21:41:40.487546Z"
    },
    "papermill": {
     "duration": 1.115365,
     "end_time": "2024-12-30T21:41:40.490518",
     "exception": false,
     "start_time": "2024-12-30T21:41:39.375153",
     "status": "completed"
    },
    "tags": []
   },
   "outputs": [
    {
     "name": "stdout",
     "output_type": "stream",
     "text": [
      "ls: cannot access '*.zip': No such file or directory\r\n"
     ]
    }
   ],
   "source": [
    "!ls -al *.zip"
   ]
  }
 ],
 "metadata": {
  "kaggle": {
   "accelerator": "nvidiaTeslaT4",
   "dataSources": [
    {
     "databundleVersionId": 10305135,
     "sourceId": 84896,
     "sourceType": "competition"
    },
    {
     "datasetId": 6332864,
     "sourceId": 10240600,
     "sourceType": "datasetVersion"
    }
   ],
   "dockerImageVersionId": 30804,
   "isGpuEnabled": true,
   "isInternetEnabled": true,
   "language": "python",
   "sourceType": "notebook"
  },
  "kernelspec": {
   "display_name": "Python 3",
   "language": "python",
   "name": "python3"
  },
  "language_info": {
   "codemirror_mode": {
    "name": "ipython",
    "version": 3
   },
   "file_extension": ".py",
   "mimetype": "text/x-python",
   "name": "python",
   "nbconvert_exporter": "python",
   "pygments_lexer": "ipython3",
   "version": "3.10.14"
  },
  "papermill": {
   "default_parameters": {},
   "duration": 5145.733854,
   "end_time": "2024-12-30T21:41:41.528451",
   "environment_variables": {},
   "exception": null,
   "input_path": "__notebook__.ipynb",
   "output_path": "__notebook__.ipynb",
   "parameters": {},
   "start_time": "2024-12-30T20:15:55.794597",
   "version": "2.6.0"
  }
 },
 "nbformat": 4,
 "nbformat_minor": 5
}
