{
 "cells": [
  {
   "cell_type": "code",
   "execution_count": 1,
   "id": "2960c747",
   "metadata": {
    "_cell_guid": "b1076dfc-b9ad-4769-8c92-a6c4dae69d19",
    "_uuid": "8f2839f25d086af736a60e9eeb907d3b93b6e0e5",
    "execution": {
     "iopub.execute_input": "2024-12-27T19:14:22.553311Z",
     "iopub.status.busy": "2024-12-27T19:14:22.552319Z",
     "iopub.status.idle": "2024-12-27T19:14:23.401524Z",
     "shell.execute_reply": "2024-12-27T19:14:23.400603Z"
    },
    "papermill": {
     "duration": 0.860987,
     "end_time": "2024-12-27T19:14:23.404144",
     "exception": false,
     "start_time": "2024-12-27T19:14:22.543157",
     "status": "completed"
    },
    "tags": []
   },
   "outputs": [
    {
     "name": "stdout",
     "output_type": "stream",
     "text": [
      "/kaggle/input/catfitmodel/catfit\n",
      "/kaggle/input/playground-series-s4e12/sample_submission.csv\n",
      "/kaggle/input/playground-series-s4e12/train.csv\n",
      "/kaggle/input/playground-series-s4e12/test.csv\n"
     ]
    }
   ],
   "source": [
    "# This Python 3 environment comes with many helpful analytics libraries installed\n",
    "# It is defined by the kaggle/python Docker image: https://github.com/kaggle/docker-python\n",
    "# For example, here's several helpful packages to load\n",
    "\n",
    "import numpy as np # linear algebra\n",
    "import pandas as pd # data processing, CSV file I/O (e.g. pd.read_csv)\n",
    "\n",
    "# Input data files are available in the read-only \"../input/\" directory\n",
    "# For example, running this (by clicking run or pressing Shift+Enter) will list all files under the input directory\n",
    "\n",
    "import os\n",
    "for dirname, _, filenames in os.walk('/kaggle/input'):\n",
    "    for filename in filenames:\n",
    "        print(os.path.join(dirname, filename))\n",
    "\n",
    "# You can write up to 20GB to the current directory (/kaggle/working/) that gets preserved as output when you create a version using \"Save & Run All\" \n",
    "# You can also write temporary files to /kaggle/temp/, but they won't be saved outside of the current session"
   ]
  },
  {
   "cell_type": "code",
   "execution_count": 2,
   "id": "3b593091",
   "metadata": {
    "execution": {
     "iopub.execute_input": "2024-12-27T19:14:23.421212Z",
     "iopub.status.busy": "2024-12-27T19:14:23.420798Z",
     "iopub.status.idle": "2024-12-27T19:14:23.424629Z",
     "shell.execute_reply": "2024-12-27T19:14:23.423807Z"
    },
    "papermill": {
     "duration": 0.013127,
     "end_time": "2024-12-27T19:14:23.426187",
     "exception": false,
     "start_time": "2024-12-27T19:14:23.413060",
     "status": "completed"
    },
    "tags": []
   },
   "outputs": [],
   "source": [
    "#!pip install -U feature-engine"
   ]
  },
  {
   "cell_type": "code",
   "execution_count": 3,
   "id": "72f9b1c1",
   "metadata": {
    "execution": {
     "iopub.execute_input": "2024-12-27T19:14:23.440757Z",
     "iopub.status.busy": "2024-12-27T19:14:23.440145Z",
     "iopub.status.idle": "2024-12-27T19:14:25.899329Z",
     "shell.execute_reply": "2024-12-27T19:14:25.898217Z"
    },
    "papermill": {
     "duration": 2.468747,
     "end_time": "2024-12-27T19:14:25.901536",
     "exception": false,
     "start_time": "2024-12-27T19:14:23.432789",
     "status": "completed"
    },
    "tags": []
   },
   "outputs": [],
   "source": [
    "import catboost\n",
    "import pandas as pd\n",
    "import numpy as np\n",
    "import matplotlib.pyplot as plt\n",
    "import seaborn as sns\n",
    "import optuna\n",
    "from optuna.samplers import TPESampler\n",
    "from catboost.utils import eval_metric\n",
    "from sklearn.model_selection import train_test_split"
   ]
  },
  {
   "cell_type": "code",
   "execution_count": 4,
   "id": "7d5c7b8d",
   "metadata": {
    "execution": {
     "iopub.execute_input": "2024-12-27T19:14:25.917728Z",
     "iopub.status.busy": "2024-12-27T19:14:25.916831Z",
     "iopub.status.idle": "2024-12-27T19:14:25.923385Z",
     "shell.execute_reply": "2024-12-27T19:14:25.922429Z"
    },
    "papermill": {
     "duration": 0.016263,
     "end_time": "2024-12-27T19:14:25.925119",
     "exception": false,
     "start_time": "2024-12-27T19:14:25.908856",
     "status": "completed"
    },
    "tags": []
   },
   "outputs": [],
   "source": [
    "#Optuna objective function\n",
    "def objective(trial):\n",
    "    params = {\n",
    "        #\"iterations\": 3000,    # OPtuna example not specify iteration\n",
    "        \"learning_rate\": trial.suggest_float(\"learning_rate\", 1e-3, 0.1),\n",
    "        \"depth\": trial.suggest_int(\"depth\", 1, 10),\n",
    "        'l2_leaf_reg': trial.suggest_float('l2_leaf_reg', 1, 10),\n",
    "        \"subsample\": trial.suggest_float(\"subsample\", 0.05, 1.0),\n",
    "        \"colsample_bylevel\": trial.suggest_float(\"colsample_bylevel\", 0.05, 1.0),\n",
    "        \"min_data_in_leaf\": trial.suggest_int(\"min_data_in_leaf\", 1, 100),\n",
    "    }\n",
    "\n",
    "    model = CatBoostRegressor(**params, silent=True,random_seed=51)\n",
    "    model.fit(train_pool,verbose=0,eval_set=val_pool)\n",
    "    y_pred = model.predict(val_pool)\n",
    "    #rmse = mean_squared_error(y_val, predictions, squared=False)\n",
    "    return eval_metric(val_pool.get_label(),y_pred,'RMSE')"
   ]
  },
  {
   "cell_type": "code",
   "execution_count": 5,
   "id": "c0ce4913",
   "metadata": {
    "execution": {
     "iopub.execute_input": "2024-12-27T19:14:25.940298Z",
     "iopub.status.busy": "2024-12-27T19:14:25.939783Z",
     "iopub.status.idle": "2024-12-27T19:14:35.311734Z",
     "shell.execute_reply": "2024-12-27T19:14:35.310621Z"
    },
    "papermill": {
     "duration": 9.382061,
     "end_time": "2024-12-27T19:14:35.314150",
     "exception": false,
     "start_time": "2024-12-27T19:14:25.932089",
     "status": "completed"
    },
    "tags": []
   },
   "outputs": [],
   "source": [
    "df_train = pd.read_csv('/kaggle/input/playground-series-s4e12/train.csv')\n",
    "df_test = pd.read_csv('/kaggle/input/playground-series-s4e12/test.csv')"
   ]
  },
  {
   "cell_type": "code",
   "execution_count": 6,
   "id": "337edd69",
   "metadata": {
    "execution": {
     "iopub.execute_input": "2024-12-27T19:14:35.329767Z",
     "iopub.status.busy": "2024-12-27T19:14:35.329460Z",
     "iopub.status.idle": "2024-12-27T19:14:44.556531Z",
     "shell.execute_reply": "2024-12-27T19:14:44.555502Z"
    },
    "papermill": {
     "duration": 9.237296,
     "end_time": "2024-12-27T19:14:44.558813",
     "exception": false,
     "start_time": "2024-12-27T19:14:35.321517",
     "status": "completed"
    },
    "tags": []
   },
   "outputs": [],
   "source": [
    "#df_train['StartYM']=pd.to_datetime(df_train['Policy Start Date']).dt.strftime('%Y-%m')\n",
    "df_train['StartY']=pd.to_datetime(df_train['Policy Start Date']).dt.strftime('%Y')\n",
    "df_test['StartY']=pd.to_datetime(df_test['Policy Start Date']).dt.strftime('%Y')"
   ]
  },
  {
   "cell_type": "code",
   "execution_count": 7,
   "id": "e374fad3",
   "metadata": {
    "execution": {
     "iopub.execute_input": "2024-12-27T19:14:44.574945Z",
     "iopub.status.busy": "2024-12-27T19:14:44.574327Z",
     "iopub.status.idle": "2024-12-27T19:14:44.578119Z",
     "shell.execute_reply": "2024-12-27T19:14:44.577271Z"
    },
    "papermill": {
     "duration": 0.013839,
     "end_time": "2024-12-27T19:14:44.580060",
     "exception": false,
     "start_time": "2024-12-27T19:14:44.566221",
     "status": "completed"
    },
    "tags": []
   },
   "outputs": [],
   "source": [
    "#df_train['StartYM'].value_counts()"
   ]
  },
  {
   "cell_type": "code",
   "execution_count": 8,
   "id": "b8a0bcad",
   "metadata": {
    "execution": {
     "iopub.execute_input": "2024-12-27T19:14:44.595320Z",
     "iopub.status.busy": "2024-12-27T19:14:44.595010Z",
     "iopub.status.idle": "2024-12-27T19:14:44.767184Z",
     "shell.execute_reply": "2024-12-27T19:14:44.766321Z"
    },
    "papermill": {
     "duration": 0.181882,
     "end_time": "2024-12-27T19:14:44.768944",
     "exception": false,
     "start_time": "2024-12-27T19:14:44.587062",
     "status": "completed"
    },
    "tags": []
   },
   "outputs": [
    {
     "data": {
      "text/html": [
       "<div>\n",
       "<style scoped>\n",
       "    .dataframe tbody tr th:only-of-type {\n",
       "        vertical-align: middle;\n",
       "    }\n",
       "\n",
       "    .dataframe tbody tr th {\n",
       "        vertical-align: top;\n",
       "    }\n",
       "\n",
       "    .dataframe thead th {\n",
       "        text-align: right;\n",
       "    }\n",
       "</style>\n",
       "<table border=\"1\" class=\"dataframe\">\n",
       "  <thead>\n",
       "    <tr style=\"text-align: right;\">\n",
       "      <th></th>\n",
       "      <th>StartY</th>\n",
       "      <th>count</th>\n",
       "    </tr>\n",
       "  </thead>\n",
       "  <tbody>\n",
       "    <tr>\n",
       "      <th>4</th>\n",
       "      <td>2024</td>\n",
       "      <td>143968</td>\n",
       "    </tr>\n",
       "    <tr>\n",
       "      <th>3</th>\n",
       "      <td>2023</td>\n",
       "      <td>239067</td>\n",
       "    </tr>\n",
       "    <tr>\n",
       "      <th>0</th>\n",
       "      <td>2022</td>\n",
       "      <td>245671</td>\n",
       "    </tr>\n",
       "    <tr>\n",
       "      <th>1</th>\n",
       "      <td>2021</td>\n",
       "      <td>244918</td>\n",
       "    </tr>\n",
       "    <tr>\n",
       "      <th>2</th>\n",
       "      <td>2020</td>\n",
       "      <td>242087</td>\n",
       "    </tr>\n",
       "    <tr>\n",
       "      <th>5</th>\n",
       "      <td>2019</td>\n",
       "      <td>84289</td>\n",
       "    </tr>\n",
       "  </tbody>\n",
       "</table>\n",
       "</div>"
      ],
      "text/plain": [
       "  StartY   count\n",
       "4   2024  143968\n",
       "3   2023  239067\n",
       "0   2022  245671\n",
       "1   2021  244918\n",
       "2   2020  242087\n",
       "5   2019   84289"
      ]
     },
     "execution_count": 8,
     "metadata": {},
     "output_type": "execute_result"
    }
   ],
   "source": [
    "df_train['StartY'].value_counts().reset_index().sort_values(by=['StartY'],ascending=False)"
   ]
  },
  {
   "cell_type": "code",
   "execution_count": 9,
   "id": "91eecafa",
   "metadata": {
    "execution": {
     "iopub.execute_input": "2024-12-27T19:14:44.784933Z",
     "iopub.status.busy": "2024-12-27T19:14:44.784657Z",
     "iopub.status.idle": "2024-12-27T19:14:44.880767Z",
     "shell.execute_reply": "2024-12-27T19:14:44.879857Z"
    },
    "papermill": {
     "duration": 0.106343,
     "end_time": "2024-12-27T19:14:44.882844",
     "exception": false,
     "start_time": "2024-12-27T19:14:44.776501",
     "status": "completed"
    },
    "tags": []
   },
   "outputs": [
    {
     "data": {
      "text/html": [
       "<div>\n",
       "<style scoped>\n",
       "    .dataframe tbody tr th:only-of-type {\n",
       "        vertical-align: middle;\n",
       "    }\n",
       "\n",
       "    .dataframe tbody tr th {\n",
       "        vertical-align: top;\n",
       "    }\n",
       "\n",
       "    .dataframe thead th {\n",
       "        text-align: right;\n",
       "    }\n",
       "</style>\n",
       "<table border=\"1\" class=\"dataframe\">\n",
       "  <thead>\n",
       "    <tr style=\"text-align: right;\">\n",
       "      <th></th>\n",
       "      <th>count</th>\n",
       "      <th>mean</th>\n",
       "      <th>std</th>\n",
       "      <th>min</th>\n",
       "      <th>25%</th>\n",
       "      <th>50%</th>\n",
       "      <th>75%</th>\n",
       "      <th>max</th>\n",
       "    </tr>\n",
       "    <tr>\n",
       "      <th>StartY</th>\n",
       "      <th></th>\n",
       "      <th></th>\n",
       "      <th></th>\n",
       "      <th></th>\n",
       "      <th></th>\n",
       "      <th></th>\n",
       "      <th></th>\n",
       "      <th></th>\n",
       "    </tr>\n",
       "  </thead>\n",
       "  <tbody>\n",
       "    <tr>\n",
       "      <th>2019</th>\n",
       "      <td>7231.0</td>\n",
       "      <td>54.466602</td>\n",
       "      <td>32.858719</td>\n",
       "      <td>20.0</td>\n",
       "      <td>28.0</td>\n",
       "      <td>39.0</td>\n",
       "      <td>85.0</td>\n",
       "      <td>119.0</td>\n",
       "    </tr>\n",
       "    <tr>\n",
       "      <th>2020</th>\n",
       "      <td>20849.0</td>\n",
       "      <td>57.919181</td>\n",
       "      <td>33.883559</td>\n",
       "      <td>20.0</td>\n",
       "      <td>28.0</td>\n",
       "      <td>45.0</td>\n",
       "      <td>95.0</td>\n",
       "      <td>119.0</td>\n",
       "    </tr>\n",
       "    <tr>\n",
       "      <th>2021</th>\n",
       "      <td>21528.0</td>\n",
       "      <td>58.132293</td>\n",
       "      <td>33.804661</td>\n",
       "      <td>20.0</td>\n",
       "      <td>28.0</td>\n",
       "      <td>45.0</td>\n",
       "      <td>95.0</td>\n",
       "      <td>119.0</td>\n",
       "    </tr>\n",
       "    <tr>\n",
       "      <th>2022</th>\n",
       "      <td>21401.0</td>\n",
       "      <td>57.777066</td>\n",
       "      <td>33.739692</td>\n",
       "      <td>20.0</td>\n",
       "      <td>28.0</td>\n",
       "      <td>45.0</td>\n",
       "      <td>94.0</td>\n",
       "      <td>119.0</td>\n",
       "    </tr>\n",
       "    <tr>\n",
       "      <th>2023</th>\n",
       "      <td>21287.0</td>\n",
       "      <td>58.690046</td>\n",
       "      <td>33.791888</td>\n",
       "      <td>20.0</td>\n",
       "      <td>28.0</td>\n",
       "      <td>47.0</td>\n",
       "      <td>96.0</td>\n",
       "      <td>119.0</td>\n",
       "    </tr>\n",
       "    <tr>\n",
       "      <th>2024</th>\n",
       "      <td>12591.0</td>\n",
       "      <td>57.725756</td>\n",
       "      <td>33.505835</td>\n",
       "      <td>20.0</td>\n",
       "      <td>28.0</td>\n",
       "      <td>45.0</td>\n",
       "      <td>93.0</td>\n",
       "      <td>119.0</td>\n",
       "    </tr>\n",
       "  </tbody>\n",
       "</table>\n",
       "</div>"
      ],
      "text/plain": [
       "          count       mean        std   min   25%   50%   75%    max\n",
       "StartY                                                              \n",
       "2019     7231.0  54.466602  32.858719  20.0  28.0  39.0  85.0  119.0\n",
       "2020    20849.0  57.919181  33.883559  20.0  28.0  45.0  95.0  119.0\n",
       "2021    21528.0  58.132293  33.804661  20.0  28.0  45.0  95.0  119.0\n",
       "2022    21401.0  57.777066  33.739692  20.0  28.0  45.0  94.0  119.0\n",
       "2023    21287.0  58.690046  33.791888  20.0  28.0  47.0  96.0  119.0\n",
       "2024    12591.0  57.725756  33.505835  20.0  28.0  45.0  93.0  119.0"
      ]
     },
     "execution_count": 9,
     "metadata": {},
     "output_type": "execute_result"
    }
   ],
   "source": [
    "df_train[df_train['Premium Amount']<120].groupby('StartY')['Premium Amount'].describe()"
   ]
  },
  {
   "cell_type": "code",
   "execution_count": 10,
   "id": "896d723c",
   "metadata": {
    "execution": {
     "iopub.execute_input": "2024-12-27T19:14:44.898660Z",
     "iopub.status.busy": "2024-12-27T19:14:44.898335Z",
     "iopub.status.idle": "2024-12-27T19:14:44.945170Z",
     "shell.execute_reply": "2024-12-27T19:14:44.944302Z"
    },
    "papermill": {
     "duration": 0.057049,
     "end_time": "2024-12-27T19:14:44.947201",
     "exception": false,
     "start_time": "2024-12-27T19:14:44.890152",
     "status": "completed"
    },
    "tags": []
   },
   "outputs": [
    {
     "data": {
      "text/plain": [
       "count    770140.000000\n",
       "mean      32803.871471\n",
       "std       32201.063749\n",
       "min           2.000000\n",
       "25%        8048.000000\n",
       "50%       23981.000000\n",
       "75%       44660.000000\n",
       "max      149997.000000\n",
       "Name: Annual Income, dtype: float64"
      ]
     },
     "execution_count": 10,
     "metadata": {},
     "output_type": "execute_result"
    }
   ],
   "source": [
    "df_test['Annual Income'].describe()"
   ]
  },
  {
   "cell_type": "code",
   "execution_count": 11,
   "id": "8257f47c",
   "metadata": {
    "execution": {
     "iopub.execute_input": "2024-12-27T19:14:44.964341Z",
     "iopub.status.busy": "2024-12-27T19:14:44.963743Z",
     "iopub.status.idle": "2024-12-27T19:14:44.984554Z",
     "shell.execute_reply": "2024-12-27T19:14:44.983672Z"
    },
    "papermill": {
     "duration": 0.03111,
     "end_time": "2024-12-27T19:14:44.986254",
     "exception": false,
     "start_time": "2024-12-27T19:14:44.955144",
     "status": "completed"
    },
    "tags": []
   },
   "outputs": [
    {
     "data": {
      "text/plain": [
       "Credit Score\n",
       "658.0    26\n",
       "673.0    26\n",
       "613.0    25\n",
       "711.0    25\n",
       "783.0    24\n",
       "         ..\n",
       "525.0     1\n",
       "355.0     1\n",
       "348.0     1\n",
       "440.0     1\n",
       "405.0     1\n",
       "Name: count, Length: 539, dtype: int64"
      ]
     },
     "execution_count": 11,
     "metadata": {},
     "output_type": "execute_result"
    }
   ],
   "source": [
    "df_train[df_train['Annual Income']<200]['Credit Score'].value_counts()"
   ]
  },
  {
   "cell_type": "code",
   "execution_count": 12,
   "id": "55918034",
   "metadata": {
    "execution": {
     "iopub.execute_input": "2024-12-27T19:14:45.002995Z",
     "iopub.status.busy": "2024-12-27T19:14:45.002681Z",
     "iopub.status.idle": "2024-12-27T19:14:45.017141Z",
     "shell.execute_reply": "2024-12-27T19:14:45.016281Z"
    },
    "papermill": {
     "duration": 0.024954,
     "end_time": "2024-12-27T19:14:45.018878",
     "exception": false,
     "start_time": "2024-12-27T19:14:44.993924",
     "status": "completed"
    },
    "tags": []
   },
   "outputs": [
    {
     "data": {
      "text/plain": [
       "Annual Income\n",
       "24.0     294\n",
       "35.0     278\n",
       "34.0     193\n",
       "26.0     155\n",
       "17.0     155\n",
       "        ... \n",
       "30.0       1\n",
       "12.0       1\n",
       "160.0      1\n",
       "150.0      1\n",
       "123.0      1\n",
       "Name: count, Length: 184, dtype: int64"
      ]
     },
     "execution_count": 12,
     "metadata": {},
     "output_type": "execute_result"
    }
   ],
   "source": [
    "df_test[df_test['Annual Income']<200]['Annual Income'].value_counts()"
   ]
  },
  {
   "cell_type": "code",
   "execution_count": 13,
   "id": "c53d6d65",
   "metadata": {
    "execution": {
     "iopub.execute_input": "2024-12-27T19:14:45.035213Z",
     "iopub.status.busy": "2024-12-27T19:14:45.034953Z",
     "iopub.status.idle": "2024-12-27T19:14:45.063636Z",
     "shell.execute_reply": "2024-12-27T19:14:45.062820Z"
    },
    "papermill": {
     "duration": 0.038958,
     "end_time": "2024-12-27T19:14:45.065531",
     "exception": false,
     "start_time": "2024-12-27T19:14:45.026573",
     "status": "completed"
    },
    "tags": []
   },
   "outputs": [
    {
     "data": {
      "text/plain": [
       "Index(['id', 'Age', 'Annual Income', 'Number of Dependents', 'Health Score',\n",
       "       'Previous Claims', 'Vehicle Age', 'Credit Score', 'Insurance Duration',\n",
       "       'Premium Amount'],\n",
       "      dtype='object')"
      ]
     },
     "execution_count": 13,
     "metadata": {},
     "output_type": "execute_result"
    }
   ],
   "source": [
    "#only Age, Anuual Income,Credit Score are number. The rest are category\n",
    "numeric_columns=df_train.select_dtypes(include=np.number).columns\n",
    "numeric_columns"
   ]
  },
  {
   "cell_type": "code",
   "execution_count": 14,
   "id": "d46c582e",
   "metadata": {
    "execution": {
     "iopub.execute_input": "2024-12-27T19:14:45.081937Z",
     "iopub.status.busy": "2024-12-27T19:14:45.081648Z",
     "iopub.status.idle": "2024-12-27T19:14:45.717804Z",
     "shell.execute_reply": "2024-12-27T19:14:45.716871Z"
    },
    "papermill": {
     "duration": 0.646387,
     "end_time": "2024-12-27T19:14:45.719687",
     "exception": false,
     "start_time": "2024-12-27T19:14:45.073300",
     "status": "completed"
    },
    "tags": []
   },
   "outputs": [
    {
     "data": {
      "text/plain": [
       "Index(['Gender', 'Marital Status', 'Education Level', 'Occupation', 'Location',\n",
       "       'Policy Type', 'Policy Start Date', 'Customer Feedback',\n",
       "       'Smoking Status', 'Exercise Frequency', 'Property Type', 'StartY'],\n",
       "      dtype='object')"
      ]
     },
     "execution_count": 14,
     "metadata": {},
     "output_type": "execute_result"
    }
   ],
   "source": [
    "object_columns=df_train.select_dtypes(include=object).columns\n",
    "object_columns"
   ]
  },
  {
   "cell_type": "code",
   "execution_count": 15,
   "id": "74957c56",
   "metadata": {
    "execution": {
     "iopub.execute_input": "2024-12-27T19:14:45.737461Z",
     "iopub.status.busy": "2024-12-27T19:14:45.737140Z",
     "iopub.status.idle": "2024-12-27T19:14:45.808842Z",
     "shell.execute_reply": "2024-12-27T19:14:45.807917Z"
    },
    "papermill": {
     "duration": 0.08251,
     "end_time": "2024-12-27T19:14:45.810604",
     "exception": false,
     "start_time": "2024-12-27T19:14:45.728094",
     "status": "completed"
    },
    "tags": []
   },
   "outputs": [
    {
     "data": {
      "text/plain": [
       "count    1.200000e+06\n",
       "mean     6.593889e+00\n",
       "std      1.095825e+00\n",
       "min      3.044522e+00\n",
       "25%      6.244167e+00\n",
       "50%      6.771936e+00\n",
       "75%      7.319865e+00\n",
       "max      8.517193e+00\n",
       "Name: Label, dtype: float64"
      ]
     },
     "execution_count": 15,
     "metadata": {},
     "output_type": "execute_result"
    }
   ],
   "source": [
    "#transform target\n",
    "df_train['Label']=np.log1p(df_train['Premium Amount'])\n",
    "df_train['Label'].describe()"
   ]
  },
  {
   "cell_type": "code",
   "execution_count": 16,
   "id": "820a1591",
   "metadata": {
    "execution": {
     "iopub.execute_input": "2024-12-27T19:14:45.827869Z",
     "iopub.status.busy": "2024-12-27T19:14:45.827563Z",
     "iopub.status.idle": "2024-12-27T19:14:46.108867Z",
     "shell.execute_reply": "2024-12-27T19:14:46.107843Z"
    },
    "papermill": {
     "duration": 0.292184,
     "end_time": "2024-12-27T19:14:46.110917",
     "exception": false,
     "start_time": "2024-12-27T19:14:45.818733",
     "status": "completed"
    },
    "tags": []
   },
   "outputs": [
    {
     "data": {
      "text/plain": [
       "count\n",
       "1        720797.0\n",
       "2       1155398.0\n",
       "3       1264602.0\n",
       "4       1489848.0\n",
       "5       2094605.0\n",
       "          ...    \n",
       "3009      84252.0\n",
       "3122      71806.0\n",
       "3396      67920.0\n",
       "3444      82656.0\n",
       "3735      93375.0\n",
       "Name: total, Length: 917, dtype: float64"
      ]
     },
     "execution_count": 16,
     "metadata": {},
     "output_type": "execute_result"
    }
   ],
   "source": [
    "#Check Na credit score and premium amount\n",
    "# There a lot of missing score with a lot of premium no different with having creditscor\n",
    "df_train[df_train['Credit Score'].notna()].groupby('Premium Amount').size().reset_index(name='count').assign(total=lambda x:x['Premium Amount']*x['count']).groupby('count')['total'].sum()"
   ]
  },
  {
   "cell_type": "code",
   "execution_count": 17,
   "id": "65a4effa",
   "metadata": {
    "execution": {
     "iopub.execute_input": "2024-12-27T19:14:46.129025Z",
     "iopub.status.busy": "2024-12-27T19:14:46.128490Z",
     "iopub.status.idle": "2024-12-27T19:14:46.132449Z",
     "shell.execute_reply": "2024-12-27T19:14:46.131495Z"
    },
    "papermill": {
     "duration": 0.014813,
     "end_time": "2024-12-27T19:14:46.134176",
     "exception": false,
     "start_time": "2024-12-27T19:14:46.119363",
     "status": "completed"
    },
    "tags": []
   },
   "outputs": [],
   "source": [
    "#from feature_engine.transformation import YeoJohnsonTransformer\n",
    "\n",
    "#tf = YeoJohnsonTransformer(variables = ['Annual Income', 'Label'])\n",
    "\n",
    "#tf.fit(df_train.dropna())\n",
    "#tf.lambda_dict_"
   ]
  },
  {
   "cell_type": "code",
   "execution_count": 18,
   "id": "512cace3",
   "metadata": {
    "execution": {
     "iopub.execute_input": "2024-12-27T19:14:46.151992Z",
     "iopub.status.busy": "2024-12-27T19:14:46.151674Z",
     "iopub.status.idle": "2024-12-27T19:14:46.155775Z",
     "shell.execute_reply": "2024-12-27T19:14:46.154854Z"
    },
    "papermill": {
     "duration": 0.015101,
     "end_time": "2024-12-27T19:14:46.157664",
     "exception": false,
     "start_time": "2024-12-27T19:14:46.142563",
     "status": "completed"
    },
    "tags": []
   },
   "outputs": [],
   "source": [
    "#df_train_tf=tf.transform(df_train.dropna())"
   ]
  },
  {
   "cell_type": "code",
   "execution_count": 19,
   "id": "c6d390f0",
   "metadata": {
    "execution": {
     "iopub.execute_input": "2024-12-27T19:14:46.176109Z",
     "iopub.status.busy": "2024-12-27T19:14:46.175828Z",
     "iopub.status.idle": "2024-12-27T19:14:46.243349Z",
     "shell.execute_reply": "2024-12-27T19:14:46.242421Z"
    },
    "papermill": {
     "duration": 0.079,
     "end_time": "2024-12-27T19:14:46.245352",
     "exception": false,
     "start_time": "2024-12-27T19:14:46.166352",
     "status": "completed"
    },
    "tags": []
   },
   "outputs": [
    {
     "data": {
      "text/html": [
       "<div>\n",
       "<style scoped>\n",
       "    .dataframe tbody tr th:only-of-type {\n",
       "        vertical-align: middle;\n",
       "    }\n",
       "\n",
       "    .dataframe tbody tr th {\n",
       "        vertical-align: top;\n",
       "    }\n",
       "\n",
       "    .dataframe thead th {\n",
       "        text-align: right;\n",
       "    }\n",
       "</style>\n",
       "<table border=\"1\" class=\"dataframe\">\n",
       "  <thead>\n",
       "    <tr style=\"text-align: right;\">\n",
       "      <th></th>\n",
       "      <th>Annual Income</th>\n",
       "      <th>Credit Score</th>\n",
       "    </tr>\n",
       "  </thead>\n",
       "  <tbody>\n",
       "    <tr>\n",
       "      <th>470076</th>\n",
       "      <td>2.0</td>\n",
       "      <td>332.0</td>\n",
       "    </tr>\n",
       "    <tr>\n",
       "      <th>145069</th>\n",
       "      <td>7.0</td>\n",
       "      <td>462.0</td>\n",
       "    </tr>\n",
       "    <tr>\n",
       "      <th>120276</th>\n",
       "      <td>11.0</td>\n",
       "      <td>479.0</td>\n",
       "    </tr>\n",
       "    <tr>\n",
       "      <th>1187366</th>\n",
       "      <td>14.0</td>\n",
       "      <td>682.0</td>\n",
       "    </tr>\n",
       "    <tr>\n",
       "      <th>67382</th>\n",
       "      <td>16.0</td>\n",
       "      <td>513.0</td>\n",
       "    </tr>\n",
       "  </tbody>\n",
       "</table>\n",
       "</div>"
      ],
      "text/plain": [
       "         Annual Income  Credit Score\n",
       "470076             2.0         332.0\n",
       "145069             7.0         462.0\n",
       "120276            11.0         479.0\n",
       "1187366           14.0         682.0\n",
       "67382             16.0         513.0"
      ]
     },
     "execution_count": 19,
     "metadata": {},
     "output_type": "execute_result"
    }
   ],
   "source": [
    "df_train[df_train['Premium Amount']<120].loc[:,['Annual Income','Credit Score']].sort_values(ascending=True,by=['Annual Income']).head()"
   ]
  },
  {
   "cell_type": "code",
   "execution_count": 20,
   "id": "2226bf1b",
   "metadata": {
    "execution": {
     "iopub.execute_input": "2024-12-27T19:14:46.263750Z",
     "iopub.status.busy": "2024-12-27T19:14:46.263461Z",
     "iopub.status.idle": "2024-12-27T19:14:46.320442Z",
     "shell.execute_reply": "2024-12-27T19:14:46.319469Z"
    },
    "papermill": {
     "duration": 0.068392,
     "end_time": "2024-12-27T19:14:46.322507",
     "exception": false,
     "start_time": "2024-12-27T19:14:46.254115",
     "status": "completed"
    },
    "tags": []
   },
   "outputs": [
    {
     "data": {
      "text/plain": [
       "count    91651.000000\n",
       "mean       614.447764\n",
       "std        140.831463\n",
       "min        300.000000\n",
       "25%        505.000000\n",
       "50%        623.000000\n",
       "75%        733.000000\n",
       "max        849.000000\n",
       "Name: Credit Score, dtype: float64"
      ]
     },
     "execution_count": 20,
     "metadata": {},
     "output_type": "execute_result"
    }
   ],
   "source": [
    "df_train[df_train['Premium Amount']<120]['Credit Score'].describe()"
   ]
  },
  {
   "cell_type": "code",
   "execution_count": 21,
   "id": "60095bfd",
   "metadata": {
    "execution": {
     "iopub.execute_input": "2024-12-27T19:14:46.341476Z",
     "iopub.status.busy": "2024-12-27T19:14:46.340956Z",
     "iopub.status.idle": "2024-12-27T19:14:46.412984Z",
     "shell.execute_reply": "2024-12-27T19:14:46.412001Z"
    },
    "papermill": {
     "duration": 0.083814,
     "end_time": "2024-12-27T19:14:46.415034",
     "exception": false,
     "start_time": "2024-12-27T19:14:46.331220",
     "status": "completed"
    },
    "tags": []
   },
   "outputs": [
    {
     "data": {
      "text/plain": [
       "count    1.062118e+06\n",
       "mean     5.929244e+02\n",
       "std      1.499819e+02\n",
       "min      3.000000e+02\n",
       "25%      4.680000e+02\n",
       "50%      5.950000e+02\n",
       "75%      7.210000e+02\n",
       "max      8.490000e+02\n",
       "Name: Credit Score, dtype: float64"
      ]
     },
     "execution_count": 21,
     "metadata": {},
     "output_type": "execute_result"
    }
   ],
   "source": [
    "df_train['Credit Score'].describe()"
   ]
  },
  {
   "cell_type": "code",
   "execution_count": 22,
   "id": "d815e2d6",
   "metadata": {
    "execution": {
     "iopub.execute_input": "2024-12-27T19:14:46.434546Z",
     "iopub.status.busy": "2024-12-27T19:14:46.434189Z",
     "iopub.status.idle": "2024-12-27T19:14:47.155718Z",
     "shell.execute_reply": "2024-12-27T19:14:47.154646Z"
    },
    "papermill": {
     "duration": 0.733287,
     "end_time": "2024-12-27T19:14:47.157655",
     "exception": false,
     "start_time": "2024-12-27T19:14:46.424368",
     "status": "completed"
    },
    "tags": []
   },
   "outputs": [
    {
     "name": "stdout",
     "output_type": "stream",
     "text": [
      "<class 'pandas.core.frame.DataFrame'>\n",
      "RangeIndex: 1200000 entries, 0 to 1199999\n",
      "Data columns (total 23 columns):\n",
      " #   Column                Non-Null Count    Dtype  \n",
      "---  ------                --------------    -----  \n",
      " 0   id                    1200000 non-null  int64  \n",
      " 1   Age                   1181295 non-null  float64\n",
      " 2   Gender                1200000 non-null  object \n",
      " 3   Annual Income         1155051 non-null  float64\n",
      " 4   Marital Status        1181471 non-null  object \n",
      " 5   Number of Dependents  1090328 non-null  float64\n",
      " 6   Education Level       1200000 non-null  object \n",
      " 7   Occupation            841925 non-null   object \n",
      " 8   Health Score          1125924 non-null  float64\n",
      " 9   Location              1200000 non-null  object \n",
      " 10  Policy Type           1200000 non-null  object \n",
      " 11  Previous Claims       835971 non-null   float64\n",
      " 12  Vehicle Age           1199994 non-null  float64\n",
      " 13  Credit Score          1062118 non-null  float64\n",
      " 14  Insurance Duration    1199999 non-null  float64\n",
      " 15  Policy Start Date     1200000 non-null  object \n",
      " 16  Customer Feedback     1122176 non-null  object \n",
      " 17  Smoking Status        1200000 non-null  object \n",
      " 18  Exercise Frequency    1200000 non-null  object \n",
      " 19  Property Type         1200000 non-null  object \n",
      " 20  Premium Amount        1200000 non-null  float64\n",
      " 21  StartY                1200000 non-null  object \n",
      " 22  Label                 1200000 non-null  float64\n",
      "dtypes: float64(10), int64(1), object(12)\n",
      "memory usage: 210.6+ MB\n"
     ]
    }
   ],
   "source": [
    "df_train.info()"
   ]
  },
  {
   "cell_type": "code",
   "execution_count": 23,
   "id": "00ae5606",
   "metadata": {
    "execution": {
     "iopub.execute_input": "2024-12-27T19:14:47.176918Z",
     "iopub.status.busy": "2024-12-27T19:14:47.176615Z",
     "iopub.status.idle": "2024-12-27T19:14:47.180676Z",
     "shell.execute_reply": "2024-12-27T19:14:47.179747Z"
    },
    "papermill": {
     "duration": 0.015576,
     "end_time": "2024-12-27T19:14:47.182419",
     "exception": false,
     "start_time": "2024-12-27T19:14:47.166843",
     "status": "completed"
    },
    "tags": []
   },
   "outputs": [],
   "source": [
    "# change fillna from mean to mode to get less effect from outlier\n",
    "# Ana=df_train['Age'].mode()[0]\n",
    "# Aina=df_train['Annual Income'].mode()[0]\n",
    "# Ndna=0\n",
    "# Hsna=df_train['Health Score'].mode()[0]\n",
    "# Pcna=0\n",
    "# Vana=0 #just impute with 0\n",
    "# Csna=df_train['Credit Score'].mode()[0]\n",
    "# Idna=0"
   ]
  },
  {
   "cell_type": "code",
   "execution_count": 24,
   "id": "da418eb3",
   "metadata": {
    "execution": {
     "iopub.execute_input": "2024-12-27T19:14:47.201062Z",
     "iopub.status.busy": "2024-12-27T19:14:47.200806Z",
     "iopub.status.idle": "2024-12-27T19:14:47.205176Z",
     "shell.execute_reply": "2024-12-27T19:14:47.204353Z"
    },
    "papermill": {
     "duration": 0.015726,
     "end_time": "2024-12-27T19:14:47.206950",
     "exception": false,
     "start_time": "2024-12-27T19:14:47.191224",
     "status": "completed"
    },
    "tags": []
   },
   "outputs": [],
   "source": [
    "# df_train['Age'].fillna(Ana,inplace=True)\n",
    "# df_train['Annual Income'].fillna(Aina,inplace=True)\n",
    "# df_train['Number of Dependents'].fillna(Ndna,inplace=True)\n",
    "# df_train['Health Score'].fillna(Hsna,inplace=True)\n",
    "# df_train['Previous Claims'].fillna(Pcna,inplace=True)\n",
    "# df_train['Vehicle Age'].fillna(Vana,inplace=True)\n",
    "# df_train['Credit Score'].fillna(Csna,inplace=True)\n",
    "# df_train['Insurance Duration'].fillna(Idna,inplace=True)\n",
    "\n",
    "\n",
    "#Ana=df_test['Age'].mean()\n",
    "#Aina=df_test['Annual Income'].mean()\n",
    "#Ndna=0\n",
    "#Hsna=df_test['Health Score'].mean()\n",
    "#Pcna=0\n",
    "#Vana=0 #just impute with 0\n",
    "#Csna=df_test['Credit Score'].mean()\n",
    "#Idna=0\n",
    "\n",
    "# df_test['Age'].fillna(Ana,inplace=True)\n",
    "# df_test['Annual Income'].fillna(Aina,inplace=True)\n",
    "# df_test['Number of Dependents'].fillna(Ndna,inplace=True)\n",
    "# df_test['Health Score'].fillna(Hsna,inplace=True)\n",
    "# df_test['Previous Claims'].fillna(Pcna,inplace=True)\n",
    "# df_test['Vehicle Age'].fillna(Vana,inplace=True)\n",
    "# df_test['Credit Score'].fillna(Csna,inplace=True)\n",
    "# df_test['Insurance Duration'].fillna(Idna,inplace=True)\n",
    "\n"
   ]
  },
  {
   "cell_type": "code",
   "execution_count": 25,
   "id": "eaba1db6",
   "metadata": {
    "execution": {
     "iopub.execute_input": "2024-12-27T19:14:47.226020Z",
     "iopub.status.busy": "2024-12-27T19:14:47.225482Z",
     "iopub.status.idle": "2024-12-27T19:14:47.370417Z",
     "shell.execute_reply": "2024-12-27T19:14:47.369675Z"
    },
    "papermill": {
     "duration": 0.156431,
     "end_time": "2024-12-27T19:14:47.372307",
     "exception": false,
     "start_time": "2024-12-27T19:14:47.215876",
     "status": "completed"
    },
    "tags": []
   },
   "outputs": [
    {
     "name": "stdout",
     "output_type": "stream",
     "text": [
      "0:\tlearn: 6.1237244\ttotal: 52.3ms\tremaining: 52.3ms\n",
      "1:\tlearn: 4.5927933\ttotal: 52.6ms\tremaining: 0us\n"
     ]
    }
   ],
   "source": [
    "import numpy as np\n",
    "from catboost import CatBoostRegressor\n",
    "# Initialize data\n",
    "\n",
    "train_data = [[1., 4., 5., np.nan],\n",
    "              [4., 5., 6., 7.],\n",
    "              [30., 40., 50., 60.]]\n",
    "\n",
    "eval_data = [[2., 4., 6., 8.],\n",
    "             [1., 4., 50., 60.]]\n",
    "\n",
    "train_labels = [10., 20., 30.]\n",
    "# Initialize CatBoostRegressor\n",
    "model = CatBoostRegressor(iterations=2,\n",
    "                          learning_rate=1,\n",
    "                          depth=2)\n",
    "# Fit model\n",
    "model.fit(train_data, train_labels)\n",
    "# Get predictions\n",
    "preds = model.predict(eval_data)"
   ]
  },
  {
   "cell_type": "code",
   "execution_count": 26,
   "id": "1451b9b0",
   "metadata": {
    "execution": {
     "iopub.execute_input": "2024-12-27T19:14:47.392409Z",
     "iopub.status.busy": "2024-12-27T19:14:47.392105Z",
     "iopub.status.idle": "2024-12-27T19:14:47.420233Z",
     "shell.execute_reply": "2024-12-27T19:14:47.419371Z"
    },
    "papermill": {
     "duration": 0.040236,
     "end_time": "2024-12-27T19:14:47.422003",
     "exception": false,
     "start_time": "2024-12-27T19:14:47.381767",
     "status": "completed"
    },
    "tags": []
   },
   "outputs": [
    {
     "data": {
      "text/plain": [
       "Index([     83,     309,     310,     332,     375,     385,     403,     538,\n",
       "           553,     570,\n",
       "       ...\n",
       "       1199635, 1199653, 1199690, 1199701, 1199704, 1199752, 1199772, 1199784,\n",
       "       1199893, 1199897],\n",
       "      dtype='int64', length=18705)"
      ]
     },
     "execution_count": 26,
     "metadata": {},
     "output_type": "execute_result"
    }
   ],
   "source": [
    "df_train[df_train['Age'].isna()].index"
   ]
  },
  {
   "cell_type": "code",
   "execution_count": 27,
   "id": "55c7293e",
   "metadata": {
    "execution": {
     "iopub.execute_input": "2024-12-27T19:14:47.442906Z",
     "iopub.status.busy": "2024-12-27T19:14:47.442612Z",
     "iopub.status.idle": "2024-12-27T19:14:47.780778Z",
     "shell.execute_reply": "2024-12-27T19:14:47.779831Z"
    },
    "papermill": {
     "duration": 0.350915,
     "end_time": "2024-12-27T19:14:47.782930",
     "exception": false,
     "start_time": "2024-12-27T19:14:47.432015",
     "status": "completed"
    },
    "tags": []
   },
   "outputs": [
    {
     "name": "stderr",
     "output_type": "stream",
     "text": [
      "/tmp/ipykernel_17/1312047004.py:1: FutureWarning: A value is trying to be set on a copy of a DataFrame or Series through chained assignment using an inplace method.\n",
      "The behavior will change in pandas 3.0. This inplace method will never work because the intermediate object on which we are setting values always behaves as a copy.\n",
      "\n",
      "For example, when doing 'df[col].method(value, inplace=True)', try using 'df.method({col: value}, inplace=True)' or df[col] = df[col].method(value) instead, to perform the operation inplace on the original object.\n",
      "\n",
      "\n",
      "  df_train['Occupation'].fillna('Unknown',inplace=True)\n",
      "/tmp/ipykernel_17/1312047004.py:2: FutureWarning: A value is trying to be set on a copy of a DataFrame or Series through chained assignment using an inplace method.\n",
      "The behavior will change in pandas 3.0. This inplace method will never work because the intermediate object on which we are setting values always behaves as a copy.\n",
      "\n",
      "For example, when doing 'df[col].method(value, inplace=True)', try using 'df.method({col: value}, inplace=True)' or df[col] = df[col].method(value) instead, to perform the operation inplace on the original object.\n",
      "\n",
      "\n",
      "  df_train['Marital Status'].fillna('Unknown',inplace=True)\n",
      "/tmp/ipykernel_17/1312047004.py:3: FutureWarning: A value is trying to be set on a copy of a DataFrame or Series through chained assignment using an inplace method.\n",
      "The behavior will change in pandas 3.0. This inplace method will never work because the intermediate object on which we are setting values always behaves as a copy.\n",
      "\n",
      "For example, when doing 'df[col].method(value, inplace=True)', try using 'df.method({col: value}, inplace=True)' or df[col] = df[col].method(value) instead, to perform the operation inplace on the original object.\n",
      "\n",
      "\n",
      "  df_train['Customer Feedback'].fillna('Unknown',inplace=True)\n",
      "/tmp/ipykernel_17/1312047004.py:5: FutureWarning: A value is trying to be set on a copy of a DataFrame or Series through chained assignment using an inplace method.\n",
      "The behavior will change in pandas 3.0. This inplace method will never work because the intermediate object on which we are setting values always behaves as a copy.\n",
      "\n",
      "For example, when doing 'df[col].method(value, inplace=True)', try using 'df.method({col: value}, inplace=True)' or df[col] = df[col].method(value) instead, to perform the operation inplace on the original object.\n",
      "\n",
      "\n",
      "  df_test['Occupation'].fillna('Unknown',inplace=True)\n",
      "/tmp/ipykernel_17/1312047004.py:6: FutureWarning: A value is trying to be set on a copy of a DataFrame or Series through chained assignment using an inplace method.\n",
      "The behavior will change in pandas 3.0. This inplace method will never work because the intermediate object on which we are setting values always behaves as a copy.\n",
      "\n",
      "For example, when doing 'df[col].method(value, inplace=True)', try using 'df.method({col: value}, inplace=True)' or df[col] = df[col].method(value) instead, to perform the operation inplace on the original object.\n",
      "\n",
      "\n",
      "  df_test['Marital Status'].fillna('Unknown',inplace=True)\n",
      "/tmp/ipykernel_17/1312047004.py:7: FutureWarning: A value is trying to be set on a copy of a DataFrame or Series through chained assignment using an inplace method.\n",
      "The behavior will change in pandas 3.0. This inplace method will never work because the intermediate object on which we are setting values always behaves as a copy.\n",
      "\n",
      "For example, when doing 'df[col].method(value, inplace=True)', try using 'df.method({col: value}, inplace=True)' or df[col] = df[col].method(value) instead, to perform the operation inplace on the original object.\n",
      "\n",
      "\n",
      "  df_test['Customer Feedback'].fillna('Unknown',inplace=True)\n"
     ]
    }
   ],
   "source": [
    "df_train['Occupation'].fillna('Unknown',inplace=True)\n",
    "df_train['Marital Status'].fillna('Unknown',inplace=True)\n",
    "df_train['Customer Feedback'].fillna('Unknown',inplace=True)\n",
    "\n",
    "df_test['Occupation'].fillna('Unknown',inplace=True)\n",
    "df_test['Marital Status'].fillna('Unknown',inplace=True)\n",
    "df_test['Customer Feedback'].fillna('Unknown',inplace=True)\n"
   ]
  },
  {
   "cell_type": "code",
   "execution_count": 28,
   "id": "0003b44c",
   "metadata": {
    "execution": {
     "iopub.execute_input": "2024-12-27T19:14:47.802963Z",
     "iopub.status.busy": "2024-12-27T19:14:47.802621Z",
     "iopub.status.idle": "2024-12-27T19:14:47.808395Z",
     "shell.execute_reply": "2024-12-27T19:14:47.807431Z"
    },
    "papermill": {
     "duration": 0.017859,
     "end_time": "2024-12-27T19:14:47.810185",
     "exception": false,
     "start_time": "2024-12-27T19:14:47.792326",
     "status": "completed"
    },
    "tags": []
   },
   "outputs": [
    {
     "data": {
      "text/plain": [
       "['Gender',\n",
       " 'Marital Status',\n",
       " 'Education Level',\n",
       " 'Occupation',\n",
       " 'Location',\n",
       " 'Policy Type',\n",
       " 'Policy Start Date',\n",
       " 'Customer Feedback',\n",
       " 'Smoking Status',\n",
       " 'Exercise Frequency',\n",
       " 'Property Type',\n",
       " 'StartY']"
      ]
     },
     "execution_count": 28,
     "metadata": {},
     "output_type": "execute_result"
    }
   ],
   "source": [
    "#cat_features=numeric_columns.drop(['id','Age','Annual Income','Credit Score','Health Score','Premium Amount']).union(object_columns)\n",
    "cat_features=object_columns\n",
    "cat_features.to_list()\n"
   ]
  },
  {
   "cell_type": "code",
   "execution_count": 29,
   "id": "0cef7072",
   "metadata": {
    "execution": {
     "iopub.execute_input": "2024-12-27T19:14:47.830584Z",
     "iopub.status.busy": "2024-12-27T19:14:47.829896Z",
     "iopub.status.idle": "2024-12-27T19:14:47.836629Z",
     "shell.execute_reply": "2024-12-27T19:14:47.835793Z"
    },
    "papermill": {
     "duration": 0.018614,
     "end_time": "2024-12-27T19:14:47.838262",
     "exception": false,
     "start_time": "2024-12-27T19:14:47.819648",
     "status": "completed"
    },
    "tags": []
   },
   "outputs": [],
   "source": [
    "#change cat columns datatype to astype int\n",
    "df_train[cat_features.intersection(numeric_columns)]=df_train[cat_features.intersection(numeric_columns)].astype('Int64')\n",
    "\n",
    "#text_features = cat_features.remove('Vehicle Age')"
   ]
  },
  {
   "cell_type": "code",
   "execution_count": 30,
   "id": "007b39ea",
   "metadata": {
    "execution": {
     "iopub.execute_input": "2024-12-27T19:14:47.858200Z",
     "iopub.status.busy": "2024-12-27T19:14:47.857947Z",
     "iopub.status.idle": "2024-12-27T19:14:47.862598Z",
     "shell.execute_reply": "2024-12-27T19:14:47.861789Z"
    },
    "papermill": {
     "duration": 0.016662,
     "end_time": "2024-12-27T19:14:47.864330",
     "exception": false,
     "start_time": "2024-12-27T19:14:47.847668",
     "status": "completed"
    },
    "tags": []
   },
   "outputs": [],
   "source": [
    "#change cat columns datatype to int astype\n",
    "df_test[cat_features.intersection(numeric_columns)]=df_test[cat_features.intersection(numeric_columns)].astype('Int64')\n",
    "\n",
    "#text_features = cat_features.remove('Vehicle Age')"
   ]
  },
  {
   "cell_type": "code",
   "execution_count": 31,
   "id": "cdac3ef5",
   "metadata": {
    "execution": {
     "iopub.execute_input": "2024-12-27T19:14:47.884068Z",
     "iopub.status.busy": "2024-12-27T19:14:47.883582Z",
     "iopub.status.idle": "2024-12-27T19:14:47.887114Z",
     "shell.execute_reply": "2024-12-27T19:14:47.886284Z"
    },
    "papermill": {
     "duration": 0.015296,
     "end_time": "2024-12-27T19:14:47.888812",
     "exception": false,
     "start_time": "2024-12-27T19:14:47.873516",
     "status": "completed"
    },
    "tags": []
   },
   "outputs": [],
   "source": [
    "#custom loss function but will not be able to optimization with it so better transform target instead\n",
    "#def rmsle_loss(y_true, y_pred):\n",
    "#    return np.sqrt(np.mean((np.log1p(y_pred) - np.log1p(y_true)) ** 2))\n",
    "#Also use exp to transform the prediction\n",
    "#predictions = np.expm1(model.predict(X_test))"
   ]
  },
  {
   "cell_type": "code",
   "execution_count": 32,
   "id": "ef9bad8c",
   "metadata": {
    "execution": {
     "iopub.execute_input": "2024-12-27T19:14:47.909227Z",
     "iopub.status.busy": "2024-12-27T19:14:47.908571Z",
     "iopub.status.idle": "2024-12-27T19:14:47.912286Z",
     "shell.execute_reply": "2024-12-27T19:14:47.911479Z"
    },
    "papermill": {
     "duration": 0.015783,
     "end_time": "2024-12-27T19:14:47.914008",
     "exception": false,
     "start_time": "2024-12-27T19:14:47.898225",
     "status": "completed"
    },
    "tags": []
   },
   "outputs": [],
   "source": [
    "#df_train.drop(['id','Annual Income','Customer Feedback','Exercise Frequency','Premium Amount','group Age','Label'],axis=1).columns"
   ]
  },
  {
   "cell_type": "code",
   "execution_count": 33,
   "id": "8bdcaf9d",
   "metadata": {
    "execution": {
     "iopub.execute_input": "2024-12-27T19:14:47.934795Z",
     "iopub.status.busy": "2024-12-27T19:14:47.934230Z",
     "iopub.status.idle": "2024-12-27T19:14:47.938121Z",
     "shell.execute_reply": "2024-12-27T19:14:47.937196Z"
    },
    "papermill": {
     "duration": 0.016114,
     "end_time": "2024-12-27T19:14:47.939917",
     "exception": false,
     "start_time": "2024-12-27T19:14:47.923803",
     "status": "completed"
    },
    "tags": []
   },
   "outputs": [],
   "source": [
    "#df_train2 = pd.read_csv('/kaggle/input/playground-series-s4e12/train.csv')\n",
    "#df_train2=df_train2.dropna()\n"
   ]
  },
  {
   "cell_type": "code",
   "execution_count": 34,
   "id": "af0bd675",
   "metadata": {
    "execution": {
     "iopub.execute_input": "2024-12-27T19:14:47.961006Z",
     "iopub.status.busy": "2024-12-27T19:14:47.960476Z",
     "iopub.status.idle": "2024-12-27T19:14:47.964409Z",
     "shell.execute_reply": "2024-12-27T19:14:47.963454Z"
    },
    "papermill": {
     "duration": 0.016253,
     "end_time": "2024-12-27T19:14:47.966134",
     "exception": false,
     "start_time": "2024-12-27T19:14:47.949881",
     "status": "completed"
    },
    "tags": []
   },
   "outputs": [],
   "source": [
    "#nonadata = pd.concat([df_train2['Credit Score'],df_train2['Health Score']],axis=1)\n",
    "#nonadata.head()"
   ]
  },
  {
   "cell_type": "code",
   "execution_count": 35,
   "id": "7ee82a30",
   "metadata": {
    "execution": {
     "iopub.execute_input": "2024-12-27T19:14:47.986673Z",
     "iopub.status.busy": "2024-12-27T19:14:47.986392Z",
     "iopub.status.idle": "2024-12-27T19:14:47.990281Z",
     "shell.execute_reply": "2024-12-27T19:14:47.989362Z"
    },
    "papermill": {
     "duration": 0.016303,
     "end_time": "2024-12-27T19:14:47.992049",
     "exception": false,
     "start_time": "2024-12-27T19:14:47.975746",
     "status": "completed"
    },
    "tags": []
   },
   "outputs": [],
   "source": [
    "#nonadata.describe()\n",
    "#from sklearn.preprocessing import StandardScaler, RobustScaler\n",
    "\n",
    "#standard_scaler=StandardScaler()\n",
    "#scalenonadata=standard_scaler.fit_transform(nonadata)\n",
    "\n",
    "#robust_scaler=RobustScaler()\n",
    "#scalenonadata=robust_scaler.fit_transform(nonadata)"
   ]
  },
  {
   "cell_type": "code",
   "execution_count": 36,
   "id": "e4eb007c",
   "metadata": {
    "execution": {
     "iopub.execute_input": "2024-12-27T19:14:48.012611Z",
     "iopub.status.busy": "2024-12-27T19:14:48.012355Z",
     "iopub.status.idle": "2024-12-27T19:14:48.016157Z",
     "shell.execute_reply": "2024-12-27T19:14:48.015286Z"
    },
    "papermill": {
     "duration": 0.015956,
     "end_time": "2024-12-27T19:14:48.017855",
     "exception": false,
     "start_time": "2024-12-27T19:14:48.001899",
     "status": "completed"
    },
    "tags": []
   },
   "outputs": [],
   "source": [
    "#nonadata=pd.DataFrame(scalenonadata,columns=['Credit Score','Health Score'])"
   ]
  },
  {
   "cell_type": "code",
   "execution_count": 37,
   "id": "cfce9897",
   "metadata": {
    "execution": {
     "iopub.execute_input": "2024-12-27T19:14:48.038624Z",
     "iopub.status.busy": "2024-12-27T19:14:48.038132Z",
     "iopub.status.idle": "2024-12-27T19:14:48.041909Z",
     "shell.execute_reply": "2024-12-27T19:14:48.040985Z"
    },
    "papermill": {
     "duration": 0.015973,
     "end_time": "2024-12-27T19:14:48.043610",
     "exception": false,
     "start_time": "2024-12-27T19:14:48.027637",
     "status": "completed"
    },
    "tags": []
   },
   "outputs": [],
   "source": [
    "#df_train2['Label'] = np.log1p(df_train2['Premium Amount'])"
   ]
  },
  {
   "cell_type": "code",
   "execution_count": 38,
   "id": "c538b4c0",
   "metadata": {
    "execution": {
     "iopub.execute_input": "2024-12-27T19:14:48.063473Z",
     "iopub.status.busy": "2024-12-27T19:14:48.063222Z",
     "iopub.status.idle": "2024-12-27T19:14:48.222600Z",
     "shell.execute_reply": "2024-12-27T19:14:48.221799Z"
    },
    "papermill": {
     "duration": 0.171706,
     "end_time": "2024-12-27T19:14:48.224855",
     "exception": false,
     "start_time": "2024-12-27T19:14:48.053149",
     "status": "completed"
    },
    "tags": []
   },
   "outputs": [],
   "source": [
    "data = df_train.drop(['id','Premium Amount','Policy Start Date','Label'],axis=1) \n",
    "cat_features=cat_features.intersection(data.columns)\n",
    "cat_features=cat_features.difference(['Credit Score','Health Score','Annual Income'])\n",
    "#text_features=text_features.intersection(data.columns)"
   ]
  },
  {
   "cell_type": "code",
   "execution_count": 39,
   "id": "43343b56",
   "metadata": {
    "execution": {
     "iopub.execute_input": "2024-12-27T19:14:48.246074Z",
     "iopub.status.busy": "2024-12-27T19:14:48.245792Z",
     "iopub.status.idle": "2024-12-27T19:14:48.251405Z",
     "shell.execute_reply": "2024-12-27T19:14:48.250554Z"
    },
    "papermill": {
     "duration": 0.018324,
     "end_time": "2024-12-27T19:14:48.253378",
     "exception": false,
     "start_time": "2024-12-27T19:14:48.235054",
     "status": "completed"
    },
    "tags": []
   },
   "outputs": [
    {
     "data": {
      "text/plain": [
       "Index(['Customer Feedback', 'Education Level', 'Exercise Frequency', 'Gender',\n",
       "       'Location', 'Marital Status', 'Occupation', 'Policy Type',\n",
       "       'Property Type', 'Smoking Status', 'StartY'],\n",
       "      dtype='object')"
      ]
     },
     "execution_count": 39,
     "metadata": {},
     "output_type": "execute_result"
    }
   ],
   "source": [
    "cat_features"
   ]
  },
  {
   "cell_type": "code",
   "execution_count": 40,
   "id": "02764612",
   "metadata": {
    "execution": {
     "iopub.execute_input": "2024-12-27T19:14:48.273910Z",
     "iopub.status.busy": "2024-12-27T19:14:48.273640Z",
     "iopub.status.idle": "2024-12-27T19:14:48.279172Z",
     "shell.execute_reply": "2024-12-27T19:14:48.278289Z"
    },
    "papermill": {
     "duration": 0.017606,
     "end_time": "2024-12-27T19:14:48.280881",
     "exception": false,
     "start_time": "2024-12-27T19:14:48.263275",
     "status": "completed"
    },
    "tags": []
   },
   "outputs": [
    {
     "data": {
      "text/plain": [
       "Index(['Age', 'Gender', 'Annual Income', 'Marital Status',\n",
       "       'Number of Dependents', 'Education Level', 'Occupation', 'Health Score',\n",
       "       'Location', 'Policy Type', 'Previous Claims', 'Vehicle Age',\n",
       "       'Credit Score', 'Insurance Duration', 'Customer Feedback',\n",
       "       'Smoking Status', 'Exercise Frequency', 'Property Type', 'StartY'],\n",
       "      dtype='object')"
      ]
     },
     "execution_count": 40,
     "metadata": {},
     "output_type": "execute_result"
    }
   ],
   "source": [
    "data.columns"
   ]
  },
  {
   "cell_type": "code",
   "execution_count": 41,
   "id": "2205f448",
   "metadata": {
    "execution": {
     "iopub.execute_input": "2024-12-27T19:14:48.300799Z",
     "iopub.status.busy": "2024-12-27T19:14:48.300546Z",
     "iopub.status.idle": "2024-12-27T19:14:48.305901Z",
     "shell.execute_reply": "2024-12-27T19:14:48.305093Z"
    },
    "papermill": {
     "duration": 0.017346,
     "end_time": "2024-12-27T19:14:48.307691",
     "exception": false,
     "start_time": "2024-12-27T19:14:48.290345",
     "status": "completed"
    },
    "tags": []
   },
   "outputs": [
    {
     "data": {
      "text/plain": [
       "Index(['id', 'Age', 'Annual Income', 'Number of Dependents', 'Health Score',\n",
       "       'Previous Claims', 'Vehicle Age', 'Credit Score', 'Insurance Duration',\n",
       "       'Premium Amount'],\n",
       "      dtype='object')"
      ]
     },
     "execution_count": 41,
     "metadata": {},
     "output_type": "execute_result"
    }
   ],
   "source": [
    "numeric_columns"
   ]
  },
  {
   "cell_type": "code",
   "execution_count": 42,
   "id": "6f141ef7",
   "metadata": {
    "execution": {
     "iopub.execute_input": "2024-12-27T19:14:48.328533Z",
     "iopub.status.busy": "2024-12-27T19:14:48.328278Z",
     "iopub.status.idle": "2024-12-27T19:14:49.886454Z",
     "shell.execute_reply": "2024-12-27T19:14:49.885653Z"
    },
    "papermill": {
     "duration": 1.570954,
     "end_time": "2024-12-27T19:14:49.888626",
     "exception": false,
     "start_time": "2024-12-27T19:14:48.317672",
     "status": "completed"
    },
    "tags": []
   },
   "outputs": [],
   "source": [
    "df_train[cat_features]=df_train[cat_features].astype('category')\n",
    "df_test[cat_features]=df_test[cat_features].astype('category')"
   ]
  },
  {
   "cell_type": "code",
   "execution_count": 43,
   "id": "12cb2aa8",
   "metadata": {
    "execution": {
     "iopub.execute_input": "2024-12-27T19:14:49.913522Z",
     "iopub.status.busy": "2024-12-27T19:14:49.913197Z",
     "iopub.status.idle": "2024-12-27T19:14:50.021047Z",
     "shell.execute_reply": "2024-12-27T19:14:50.019845Z"
    },
    "papermill": {
     "duration": 0.121592,
     "end_time": "2024-12-27T19:14:50.023035",
     "exception": false,
     "start_time": "2024-12-27T19:14:49.901443",
     "status": "completed"
    },
    "tags": []
   },
   "outputs": [
    {
     "name": "stdout",
     "output_type": "stream",
     "text": [
      "<class 'pandas.core.frame.DataFrame'>\n",
      "RangeIndex: 1200000 entries, 0 to 1199999\n",
      "Data columns (total 23 columns):\n",
      " #   Column                Non-Null Count    Dtype   \n",
      "---  ------                --------------    -----   \n",
      " 0   id                    1200000 non-null  int64   \n",
      " 1   Age                   1181295 non-null  float64 \n",
      " 2   Gender                1200000 non-null  category\n",
      " 3   Annual Income         1155051 non-null  float64 \n",
      " 4   Marital Status        1200000 non-null  category\n",
      " 5   Number of Dependents  1090328 non-null  float64 \n",
      " 6   Education Level       1200000 non-null  category\n",
      " 7   Occupation            1200000 non-null  category\n",
      " 8   Health Score          1125924 non-null  float64 \n",
      " 9   Location              1200000 non-null  category\n",
      " 10  Policy Type           1200000 non-null  category\n",
      " 11  Previous Claims       835971 non-null   float64 \n",
      " 12  Vehicle Age           1199994 non-null  float64 \n",
      " 13  Credit Score          1062118 non-null  float64 \n",
      " 14  Insurance Duration    1199999 non-null  float64 \n",
      " 15  Policy Start Date     1200000 non-null  object  \n",
      " 16  Customer Feedback     1200000 non-null  category\n",
      " 17  Smoking Status        1200000 non-null  category\n",
      " 18  Exercise Frequency    1200000 non-null  category\n",
      " 19  Property Type         1200000 non-null  category\n",
      " 20  Premium Amount        1200000 non-null  float64 \n",
      " 21  StartY                1200000 non-null  category\n",
      " 22  Label                 1200000 non-null  float64 \n",
      "dtypes: category(11), float64(10), int64(1), object(1)\n",
      "memory usage: 122.5+ MB\n"
     ]
    }
   ],
   "source": [
    "df_train.info()"
   ]
  },
  {
   "cell_type": "code",
   "execution_count": 44,
   "id": "3c1440ec",
   "metadata": {
    "execution": {
     "iopub.execute_input": "2024-12-27T19:14:50.044535Z",
     "iopub.status.busy": "2024-12-27T19:14:50.044230Z",
     "iopub.status.idle": "2024-12-27T19:14:50.386854Z",
     "shell.execute_reply": "2024-12-27T19:14:50.386041Z"
    },
    "papermill": {
     "duration": 0.355403,
     "end_time": "2024-12-27T19:14:50.388995",
     "exception": false,
     "start_time": "2024-12-27T19:14:50.033592",
     "status": "completed"
    },
    "tags": []
   },
   "outputs": [],
   "source": [
    "from catboost import *\n",
    "\n",
    "X_train,x_val,Y_train,y_val = train_test_split(df_train.drop(['id','Premium Amount','Policy Start Date','Label'],axis=1),df_train['Label'],test_size=0.2,random_state=11)\n",
    "train_pool=Pool(data=X_train,\n",
    "                label=Y_train,\n",
    "                cat_features=cat_features.to_list())\n",
    "val_pool=Pool(data=x_val,\n",
    "               label=y_val,\n",
    "               cat_features=cat_features.to_list())\n",
    "X_test = df_test.drop(['id','Policy Start Date'],axis=1)\n"
   ]
  },
  {
   "cell_type": "code",
   "execution_count": 45,
   "id": "fe80e63c",
   "metadata": {
    "execution": {
     "iopub.execute_input": "2024-12-27T19:14:50.412050Z",
     "iopub.status.busy": "2024-12-27T19:14:50.411720Z",
     "iopub.status.idle": "2024-12-27T19:14:50.416548Z",
     "shell.execute_reply": "2024-12-27T19:14:50.415799Z"
    },
    "papermill": {
     "duration": 0.01804,
     "end_time": "2024-12-27T19:14:50.418218",
     "exception": false,
     "start_time": "2024-12-27T19:14:50.400178",
     "status": "completed"
    },
    "tags": []
   },
   "outputs": [],
   "source": [
    "def calc_test_quality(train_pool, val_pool, **kwargs):\n",
    "    model = CatBoostRegressor(**kwargs, random_seed=11)\n",
    "    model.fit(train_pool, verbose=0, eval_set=val_pool)\n",
    "    y_pred = model.predict(val_pool)\n",
    "    return eval_metric(val_pool.get_label(), y_pred, 'RMSE'), model"
   ]
  },
  {
   "cell_type": "code",
   "execution_count": 46,
   "id": "42b613fb",
   "metadata": {
    "execution": {
     "iopub.execute_input": "2024-12-27T19:14:50.440635Z",
     "iopub.status.busy": "2024-12-27T19:14:50.439844Z",
     "iopub.status.idle": "2024-12-27T23:04:05.016880Z",
     "shell.execute_reply": "2024-12-27T23:04:05.015362Z"
    },
    "papermill": {
     "duration": 13754.601599,
     "end_time": "2024-12-27T23:04:05.030448",
     "exception": false,
     "start_time": "2024-12-27T19:14:50.428849",
     "status": "completed"
    },
    "tags": []
   },
   "outputs": [
    {
     "name": "stderr",
     "output_type": "stream",
     "text": [
      "[I 2024-12-27 19:14:50,442] A new study created in memory with name: no-name-a3fe17b1-9b20-4095-9800-ab13d87c76fa\n",
      "[I 2024-12-27 19:18:49,455] Trial 0 finished with value: 1.0534942670050103 and parameters: {'learning_rate': 0.0699504493741883, 'depth': 3, 'l2_leaf_reg': 3.041663082077828, 'subsample': 0.5737490306287467, 'colsample_bylevel': 0.7334955212962849, 'min_data_in_leaf': 43}. Best is trial 0 with value: 1.0534942670050103.\n",
      "[I 2024-12-27 19:26:02,191] Trial 1 finished with value: 1.0475081150956733 and parameters: {'learning_rate': 0.09809565564007694, 'depth': 7, 'l2_leaf_reg': 5.328387113359248, 'subsample': 0.422511642284443, 'colsample_bylevel': 0.3760191153433259, 'min_data_in_leaf': 73}. Best is trial 1 with value: 1.0475081150956733.\n",
      "[I 2024-12-27 19:26:56,066] Trial 2 finished with value: 1.0726601010376853 and parameters: {'learning_rate': 0.04441865222328282, 'depth': 1, 'l2_leaf_reg': 4.582398297973883, 'subsample': 0.7510956354454339, 'colsample_bylevel': 0.22336714393082496, 'min_data_in_leaf': 18}. Best is trial 1 with value: 1.0475081150956733.\n",
      "[I 2024-12-27 19:37:49,065] Trial 3 finished with value: 1.0478454583570938 and parameters: {'learning_rate': 0.053623586010342, 'depth': 6, 'l2_leaf_reg': 6.70960862696189, 'subsample': 0.8569602043739001, 'colsample_bylevel': 0.7382325586176035, 'min_data_in_leaf': 62}. Best is trial 1 with value: 1.0475081150956733.\n",
      "[I 2024-12-27 19:40:39,231] Trial 4 finished with value: 1.0514416903796804 and parameters: {'learning_rate': 0.07252189487445194, 'depth': 4, 'l2_leaf_reg': 4.256097900600826, 'subsample': 0.2668500693350078, 'colsample_bylevel': 0.32902834406938786, 'min_data_in_leaf': 64}. Best is trial 1 with value: 1.0475081150956733.\n",
      "[I 2024-12-27 19:45:43,304] Trial 5 finished with value: 1.0527804336962927 and parameters: {'learning_rate': 0.010118389054562443, 'depth': 5, 'l2_leaf_reg': 4.877764869966795, 'subsample': 0.5190008427677909, 'colsample_bylevel': 0.4545387757810365, 'min_data_in_leaf': 32}. Best is trial 1 with value: 1.0475081150956733.\n",
      "[I 2024-12-27 19:58:43,622] Trial 6 finished with value: 1.0470793772523534 and parameters: {'learning_rate': 0.04320877938931802, 'depth': 9, 'l2_leaf_reg': 9.497440163834916, 'subsample': 0.5267448420901197, 'colsample_bylevel': 0.6427553042025056, 'min_data_in_leaf': 12}. Best is trial 6 with value: 1.0470793772523534.\n",
      "[I 2024-12-27 20:03:18,578] Trial 7 finished with value: 1.0500544645087186 and parameters: {'learning_rate': 0.032411262700211774, 'depth': 5, 'l2_leaf_reg': 8.796782420950294, 'subsample': 0.28793259712668134, 'colsample_bylevel': 0.5088825510495691, 'min_data_in_leaf': 99}. Best is trial 6 with value: 1.0470793772523534.\n",
      "[I 2024-12-27 20:14:59,531] Trial 8 finished with value: 1.0472903966795486 and parameters: {'learning_rate': 0.05242902680672113, 'depth': 7, 'l2_leaf_reg': 2.0856579939129136, 'subsample': 0.8350237604814916, 'colsample_bylevel': 0.622907121990381, 'min_data_in_leaf': 55}. Best is trial 6 with value: 1.0470793772523534.\n",
      "[I 2024-12-27 20:21:53,979] Trial 9 finished with value: 1.0514524432306471 and parameters: {'learning_rate': 0.034933619543656536, 'depth': 4, 'l2_leaf_reg': 4.753199899222315, 'subsample': 0.6972357275031568, 'colsample_bylevel': 0.8816839997054162, 'min_data_in_leaf': 52}. Best is trial 6 with value: 1.0470793772523534.\n",
      "[I 2024-12-27 20:25:14,634] Trial 10 finished with value: 1.0579277636385347 and parameters: {'learning_rate': 0.010692530301961302, 'depth': 10, 'l2_leaf_reg': 9.911368496034603, 'subsample': 0.05765808623381946, 'colsample_bylevel': 0.0941599291938301, 'min_data_in_leaf': 1}. Best is trial 6 with value: 1.0470793772523534.\n",
      "[I 2024-12-27 20:42:05,275] Trial 11 finished with value: 1.0469245388300672 and parameters: {'learning_rate': 0.06320301728824099, 'depth': 9, 'l2_leaf_reg': 1.222893708205865, 'subsample': 0.9976334954185431, 'colsample_bylevel': 0.6346295571228662, 'min_data_in_leaf': 19}. Best is trial 11 with value: 1.0469245388300672.\n",
      "[I 2024-12-27 21:09:51,766] Trial 12 finished with value: 1.0470905470165652 and parameters: {'learning_rate': 0.07307966620388621, 'depth': 10, 'l2_leaf_reg': 1.0806825020859374, 'subsample': 0.9862174300396647, 'colsample_bylevel': 0.9841091806946496, 'min_data_in_leaf': 2}. Best is trial 11 with value: 1.0469245388300672.\n",
      "[I 2024-12-27 21:23:46,974] Trial 13 finished with value: 1.047032813030161 and parameters: {'learning_rate': 0.09091902834641029, 'depth': 8, 'l2_leaf_reg': 7.176444850978208, 'subsample': 0.9444705941489442, 'colsample_bylevel': 0.636651491346716, 'min_data_in_leaf': 19}. Best is trial 11 with value: 1.0469245388300672.\n",
      "[I 2024-12-27 21:39:58,004] Trial 14 finished with value: 1.0470040542532675 and parameters: {'learning_rate': 0.09925655300099465, 'depth': 8, 'l2_leaf_reg': 7.107973088705494, 'subsample': 0.9833284502761699, 'colsample_bylevel': 0.8007795996491651, 'min_data_in_leaf': 27}. Best is trial 11 with value: 1.0469245388300672.\n",
      "[I 2024-12-27 21:54:47,948] Trial 15 finished with value: 1.047009841357555 and parameters: {'learning_rate': 0.08968884218803067, 'depth': 8, 'l2_leaf_reg': 6.9445994512840254, 'subsample': 0.6868295536066115, 'colsample_bylevel': 0.8655261475663816, 'min_data_in_leaf': 33}. Best is trial 11 with value: 1.0469245388300672.\n",
      "[I 2024-12-27 22:13:40,366] Trial 16 finished with value: 1.0469014137463928 and parameters: {'learning_rate': 0.08185794499355767, 'depth': 9, 'l2_leaf_reg': 7.991690806822533, 'subsample': 0.9927497109225146, 'colsample_bylevel': 0.7891449618088523, 'min_data_in_leaf': 31}. Best is trial 16 with value: 1.0469014137463928.\n",
      "[I 2024-12-27 22:33:40,364] Trial 17 finished with value: 1.0470214891350147 and parameters: {'learning_rate': 0.06619752214501255, 'depth': 9, 'l2_leaf_reg': 8.021211788513734, 'subsample': 0.8428598146955893, 'colsample_bylevel': 0.966172592106239, 'min_data_in_leaf': 39}. Best is trial 16 with value: 1.0469014137463928.\n",
      "[I 2024-12-27 22:52:24,695] Trial 18 finished with value: 1.0469812313453737 and parameters: {'learning_rate': 0.08260158612670214, 'depth': 10, 'l2_leaf_reg': 5.936194749785008, 'subsample': 0.889493793004876, 'colsample_bylevel': 0.5752893200109028, 'min_data_in_leaf': 82}. Best is trial 16 with value: 1.0469014137463928.\n",
      "[I 2024-12-27 23:04:05,010] Trial 19 finished with value: 1.0472438898959202 and parameters: {'learning_rate': 0.05984880292958147, 'depth': 7, 'l2_leaf_reg': 3.357750235099873, 'subsample': 0.7522526319309778, 'colsample_bylevel': 0.7215873292252931, 'min_data_in_leaf': 24}. Best is trial 16 with value: 1.0469014137463928.\n"
     ]
    }
   ],
   "source": [
    "from optuna.samplers import TPESampler\n",
    "\n",
    "sampler = TPESampler(seed=123)\n",
    "study = optuna.create_study(direction='minimize', sampler=sampler)\n",
    "study.optimize(objective, n_trials=20)"
   ]
  },
  {
   "cell_type": "code",
   "execution_count": 47,
   "id": "d337c3c9",
   "metadata": {
    "execution": {
     "iopub.execute_input": "2024-12-27T23:04:05.056844Z",
     "iopub.status.busy": "2024-12-27T23:04:05.056494Z",
     "iopub.status.idle": "2024-12-27T23:26:48.459018Z",
     "shell.execute_reply": "2024-12-27T23:26:48.458190Z"
    },
    "papermill": {
     "duration": 1363.418889,
     "end_time": "2024-12-27T23:26:48.461488",
     "exception": false,
     "start_time": "2024-12-27T23:04:05.042599",
     "status": "completed"
    },
    "tags": []
   },
   "outputs": [],
   "source": [
    "best_params={'learning_rate': 0.07717313793943478,\n",
    "            'depth': 10, \n",
    "            'l2_leaf_reg': 6.673721788075379,\n",
    "            'subsample': 0.6913428855236023, \n",
    "            'colsample_bylevel': 0.8273248556818064,\n",
    "            'min_data_in_leaf': 8}\n",
    "#Best is trial 17 with value: 1.0496756348707192\n",
    "\n",
    "metriclist, model = calc_test_quality(train_pool,val_pool,**best_params)\n",
    "model.save_model('optuna_tune_model')"
   ]
  },
  {
   "cell_type": "code",
   "execution_count": 48,
   "id": "e306f8c2",
   "metadata": {
    "execution": {
     "iopub.execute_input": "2024-12-27T23:26:48.484118Z",
     "iopub.status.busy": "2024-12-27T23:26:48.483873Z",
     "iopub.status.idle": "2024-12-27T23:26:49.745070Z",
     "shell.execute_reply": "2024-12-27T23:26:49.744304Z"
    },
    "papermill": {
     "duration": 1.274524,
     "end_time": "2024-12-27T23:26:49.747111",
     "exception": false,
     "start_time": "2024-12-27T23:26:48.472587",
     "status": "completed"
    },
    "tags": []
   },
   "outputs": [],
   "source": [
    "predicts = model.predict(X_test)"
   ]
  },
  {
   "cell_type": "code",
   "execution_count": 49,
   "id": "34ee34a1",
   "metadata": {
    "execution": {
     "iopub.execute_input": "2024-12-27T23:26:49.769904Z",
     "iopub.status.busy": "2024-12-27T23:26:49.769592Z",
     "iopub.status.idle": "2024-12-27T23:26:49.788127Z",
     "shell.execute_reply": "2024-12-27T23:26:49.787537Z"
    },
    "papermill": {
     "duration": 0.031725,
     "end_time": "2024-12-27T23:26:49.789809",
     "exception": false,
     "start_time": "2024-12-27T23:26:49.758084",
     "status": "completed"
    },
    "tags": []
   },
   "outputs": [],
   "source": [
    "predicts_original_scale = np.expm1(predicts)"
   ]
  },
  {
   "cell_type": "code",
   "execution_count": 50,
   "id": "406c05f4",
   "metadata": {
    "execution": {
     "iopub.execute_input": "2024-12-27T23:26:49.811913Z",
     "iopub.status.busy": "2024-12-27T23:26:49.811626Z",
     "iopub.status.idle": "2024-12-27T23:26:49.851882Z",
     "shell.execute_reply": "2024-12-27T23:26:49.851156Z"
    },
    "papermill": {
     "duration": 0.053339,
     "end_time": "2024-12-27T23:26:49.853720",
     "exception": false,
     "start_time": "2024-12-27T23:26:49.800381",
     "status": "completed"
    },
    "tags": []
   },
   "outputs": [],
   "source": [
    "#round int\n",
    "temp=pd.concat([df_test['id'],pd.DataFrame(np.rint(predicts_original_scale),columns=['Premium Amount'])],axis=1).reset_index(drop=True)"
   ]
  },
  {
   "cell_type": "code",
   "execution_count": 51,
   "id": "749326e4",
   "metadata": {
    "execution": {
     "iopub.execute_input": "2024-12-27T23:26:49.876292Z",
     "iopub.status.busy": "2024-12-27T23:26:49.876023Z",
     "iopub.status.idle": "2024-12-27T23:26:49.902482Z",
     "shell.execute_reply": "2024-12-27T23:26:49.901765Z"
    },
    "papermill": {
     "duration": 0.039983,
     "end_time": "2024-12-27T23:26:49.904434",
     "exception": false,
     "start_time": "2024-12-27T23:26:49.864451",
     "status": "completed"
    },
    "tags": []
   },
   "outputs": [],
   "source": [
    "#not round int\n",
    "temp2=pd.concat([df_test['id'],pd.DataFrame(predicts_original_scale.astype(int),columns=['Premium Amount'])],axis=1).reset_index(drop=True)"
   ]
  },
  {
   "cell_type": "code",
   "execution_count": 52,
   "id": "bcc8396d",
   "metadata": {
    "execution": {
     "iopub.execute_input": "2024-12-27T23:26:49.926741Z",
     "iopub.status.busy": "2024-12-27T23:26:49.926457Z",
     "iopub.status.idle": "2024-12-27T23:26:50.728379Z",
     "shell.execute_reply": "2024-12-27T23:26:50.727635Z"
    },
    "papermill": {
     "duration": 0.815233,
     "end_time": "2024-12-27T23:26:50.730267",
     "exception": false,
     "start_time": "2024-12-27T23:26:49.915034",
     "status": "completed"
    },
    "tags": []
   },
   "outputs": [],
   "source": [
    "temp.to_csv('submissionX.csv',index=False)"
   ]
  },
  {
   "cell_type": "code",
   "execution_count": 53,
   "id": "9abcd20e",
   "metadata": {
    "execution": {
     "iopub.execute_input": "2024-12-27T23:26:50.753926Z",
     "iopub.status.busy": "2024-12-27T23:26:50.753645Z",
     "iopub.status.idle": "2024-12-27T23:26:51.281961Z",
     "shell.execute_reply": "2024-12-27T23:26:51.281153Z"
    },
    "papermill": {
     "duration": 0.542069,
     "end_time": "2024-12-27T23:26:51.283827",
     "exception": false,
     "start_time": "2024-12-27T23:26:50.741758",
     "status": "completed"
    },
    "tags": []
   },
   "outputs": [],
   "source": [
    "temp2.to_csv('submission_not_round.csv',index=False)"
   ]
  },
  {
   "cell_type": "code",
   "execution_count": null,
   "id": "627cc67c",
   "metadata": {
    "papermill": {
     "duration": 0.010076,
     "end_time": "2024-12-27T23:26:51.304797",
     "exception": false,
     "start_time": "2024-12-27T23:26:51.294721",
     "status": "completed"
    },
    "tags": []
   },
   "outputs": [],
   "source": []
  }
 ],
 "metadata": {
  "kaggle": {
   "accelerator": "none",
   "dataSources": [
    {
     "databundleVersionId": 10305135,
     "sourceId": 84896,
     "sourceType": "competition"
    },
    {
     "datasetId": 6332864,
     "sourceId": 10240600,
     "sourceType": "datasetVersion"
    }
   ],
   "dockerImageVersionId": 30804,
   "isGpuEnabled": false,
   "isInternetEnabled": true,
   "language": "python",
   "sourceType": "notebook"
  },
  "kernelspec": {
   "display_name": "Python 3",
   "language": "python",
   "name": "python3"
  },
  "language_info": {
   "codemirror_mode": {
    "name": "ipython",
    "version": 3
   },
   "file_extension": ".py",
   "mimetype": "text/x-python",
   "name": "python",
   "nbconvert_exporter": "python",
   "pygments_lexer": "ipython3",
   "version": "3.10.14"
  },
  "papermill": {
   "default_parameters": {},
   "duration": 15153.712404,
   "end_time": "2024-12-27T23:26:53.339829",
   "environment_variables": {},
   "exception": null,
   "input_path": "__notebook__.ipynb",
   "output_path": "__notebook__.ipynb",
   "parameters": {},
   "start_time": "2024-12-27T19:14:19.627425",
   "version": "2.6.0"
  }
 },
 "nbformat": 4,
 "nbformat_minor": 5
}
