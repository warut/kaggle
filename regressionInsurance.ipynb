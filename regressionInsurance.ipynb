{
 "cells": [
  {
   "cell_type": "code",
   "execution_count": 1,
   "id": "de07b720",
   "metadata": {
    "_cell_guid": "b1076dfc-b9ad-4769-8c92-a6c4dae69d19",
    "_uuid": "8f2839f25d086af736a60e9eeb907d3b93b6e0e5",
    "execution": {
     "iopub.execute_input": "2024-12-29T07:37:34.353267Z",
     "iopub.status.busy": "2024-12-29T07:37:34.352444Z",
     "iopub.status.idle": "2024-12-29T07:37:35.033441Z",
     "shell.execute_reply": "2024-12-29T07:37:35.032342Z"
    },
    "papermill": {
     "duration": 0.694623,
     "end_time": "2024-12-29T07:37:35.035254",
     "exception": false,
     "start_time": "2024-12-29T07:37:34.340631",
     "status": "completed"
    },
    "tags": []
   },
   "outputs": [
    {
     "name": "stdout",
     "output_type": "stream",
     "text": [
      "/kaggle/input/catfitmodel/catfit\n",
      "/kaggle/input/playground-series-s4e12/sample_submission.csv\n",
      "/kaggle/input/playground-series-s4e12/train.csv\n",
      "/kaggle/input/playground-series-s4e12/test.csv\n"
     ]
    }
   ],
   "source": [
    "# This Python 3 environment comes with many helpful analytics libraries installed\n",
    "# It is defined by the kaggle/python Docker image: https://github.com/kaggle/docker-python\n",
    "# For example, here's several helpful packages to load\n",
    "\n",
    "import numpy as np # linear algebra\n",
    "import pandas as pd # data processing, CSV file I/O (e.g. pd.read_csv)\n",
    "\n",
    "# Input data files are available in the read-only \"../input/\" directory\n",
    "# For example, running this (by clicking run or pressing Shift+Enter) will list all files under the input directory\n",
    "\n",
    "import os\n",
    "for dirname, _, filenames in os.walk('/kaggle/input'):\n",
    "    for filename in filenames:\n",
    "        print(os.path.join(dirname, filename))\n",
    "\n",
    "# You can write up to 20GB to the current directory (/kaggle/working/) that gets preserved as output when you create a version using \"Save & Run All\" \n",
    "# You can also write temporary files to /kaggle/temp/, but they won't be saved outside of the current session"
   ]
  },
  {
   "cell_type": "code",
   "execution_count": 2,
   "id": "247fffb5",
   "metadata": {
    "execution": {
     "iopub.execute_input": "2024-12-29T07:37:35.053465Z",
     "iopub.status.busy": "2024-12-29T07:37:35.053049Z",
     "iopub.status.idle": "2024-12-29T07:37:35.056578Z",
     "shell.execute_reply": "2024-12-29T07:37:35.055950Z"
    },
    "papermill": {
     "duration": 0.014274,
     "end_time": "2024-12-29T07:37:35.058168",
     "exception": false,
     "start_time": "2024-12-29T07:37:35.043894",
     "status": "completed"
    },
    "tags": []
   },
   "outputs": [],
   "source": [
    "#!pip install -U feature-engine"
   ]
  },
  {
   "cell_type": "code",
   "execution_count": 3,
   "id": "edc2a3a5",
   "metadata": {
    "execution": {
     "iopub.execute_input": "2024-12-29T07:37:35.076280Z",
     "iopub.status.busy": "2024-12-29T07:37:35.075633Z",
     "iopub.status.idle": "2024-12-29T07:37:36.956910Z",
     "shell.execute_reply": "2024-12-29T07:37:36.955956Z"
    },
    "papermill": {
     "duration": 1.89258,
     "end_time": "2024-12-29T07:37:36.958943",
     "exception": false,
     "start_time": "2024-12-29T07:37:35.066363",
     "status": "completed"
    },
    "tags": []
   },
   "outputs": [],
   "source": [
    "import catboost\n",
    "import pandas as pd\n",
    "import numpy as np\n",
    "import matplotlib.pyplot as plt\n",
    "import seaborn as sns\n",
    "import optuna\n",
    "from optuna.samplers import TPESampler\n",
    "from catboost.utils import eval_metric\n",
    "from sklearn.model_selection import train_test_split"
   ]
  },
  {
   "cell_type": "code",
   "execution_count": 4,
   "id": "74a4276b",
   "metadata": {
    "execution": {
     "iopub.execute_input": "2024-12-29T07:37:36.977656Z",
     "iopub.status.busy": "2024-12-29T07:37:36.977178Z",
     "iopub.status.idle": "2024-12-29T07:37:36.983442Z",
     "shell.execute_reply": "2024-12-29T07:37:36.982622Z"
    },
    "papermill": {
     "duration": 0.017853,
     "end_time": "2024-12-29T07:37:36.985332",
     "exception": false,
     "start_time": "2024-12-29T07:37:36.967479",
     "status": "completed"
    },
    "tags": []
   },
   "outputs": [],
   "source": [
    "#Optuna objective function\n",
    "def objective(trial):\n",
    "    params = {\n",
    "        #\"iterations\": 5000, 5000 is taking more than 12 hours    # OPtuna example not specify iteration\n",
    "        'iterations': trial.suggest_int('iterations', 100, 2000), \n",
    "        'early_stopping_rounds': trial.suggest_int('early_stopping_rounds', 10, 200), \n",
    "        \"learning_rate\": trial.suggest_float(\"learning_rate\", 1e-3, 0.1),\n",
    "        \"depth\": trial.suggest_int(\"depth\", 1, 10),\n",
    "        'l2_leaf_reg': trial.suggest_float('l2_leaf_reg', 1, 10),\n",
    "        #\"subsample\": trial.suggest_float(\"subsample\", 0.05, 1.0),  subsample only support bernoulli bootstrap_type\n",
    "        #\"colsample_bylevel\": trial.suggest_float(\"colsample_bylevel\", 0.05, 1.0),\n",
    "        \"min_data_in_leaf\": trial.suggest_int(\"min_data_in_leaf\", 1, 100),\n",
    "        'grow_policy': trial.suggest_categorical('grow_policy', ['Depthwise', 'Lossguide']),\n",
    "    }\n",
    "\n",
    "    model = CatBoostRegressor(**params, task_type=\"GPU\",silent=True,random_seed=51)\n",
    "    model.fit(train_pool,verbose=0,eval_set=val_pool)\n",
    "    y_pred = model.predict(val_pool)\n",
    "    #rmse = mean_squared_error(y_val, predictions, squared=False)\n",
    "    return eval_metric(val_pool.get_label(),y_pred,'RMSE')"
   ]
  },
  {
   "cell_type": "code",
   "execution_count": 5,
   "id": "124c1400",
   "metadata": {
    "execution": {
     "iopub.execute_input": "2024-12-29T07:37:37.003143Z",
     "iopub.status.busy": "2024-12-29T07:37:37.002590Z",
     "iopub.status.idle": "2024-12-29T07:37:45.235935Z",
     "shell.execute_reply": "2024-12-29T07:37:45.235207Z"
    },
    "papermill": {
     "duration": 8.244386,
     "end_time": "2024-12-29T07:37:45.237988",
     "exception": false,
     "start_time": "2024-12-29T07:37:36.993602",
     "status": "completed"
    },
    "tags": []
   },
   "outputs": [],
   "source": [
    "df_train = pd.read_csv('/kaggle/input/playground-series-s4e12/train.csv')\n",
    "df_test = pd.read_csv('/kaggle/input/playground-series-s4e12/test.csv')"
   ]
  },
  {
   "cell_type": "code",
   "execution_count": 6,
   "id": "0a93bf48",
   "metadata": {
    "execution": {
     "iopub.execute_input": "2024-12-29T07:37:45.256026Z",
     "iopub.status.busy": "2024-12-29T07:37:45.255714Z",
     "iopub.status.idle": "2024-12-29T07:37:53.786998Z",
     "shell.execute_reply": "2024-12-29T07:37:53.786046Z"
    },
    "papermill": {
     "duration": 8.542629,
     "end_time": "2024-12-29T07:37:53.789142",
     "exception": false,
     "start_time": "2024-12-29T07:37:45.246513",
     "status": "completed"
    },
    "tags": []
   },
   "outputs": [],
   "source": [
    "#df_train['StartYM']=pd.to_datetime(df_train['Policy Start Date']).dt.strftime('%Y-%m')\n",
    "df_train['StartY']=pd.to_datetime(df_train['Policy Start Date']).dt.strftime('%Y-%m')\n",
    "df_test['StartY']=pd.to_datetime(df_test['Policy Start Date']).dt.strftime('%Y-%m')"
   ]
  },
  {
   "cell_type": "code",
   "execution_count": 7,
   "id": "0da2eff0",
   "metadata": {
    "execution": {
     "iopub.execute_input": "2024-12-29T07:37:53.807547Z",
     "iopub.status.busy": "2024-12-29T07:37:53.806745Z",
     "iopub.status.idle": "2024-12-29T07:37:53.913272Z",
     "shell.execute_reply": "2024-12-29T07:37:53.912448Z"
    },
    "papermill": {
     "duration": 0.117487,
     "end_time": "2024-12-29T07:37:53.915115",
     "exception": false,
     "start_time": "2024-12-29T07:37:53.797628",
     "status": "completed"
    },
    "tags": []
   },
   "outputs": [
    {
     "data": {
      "text/plain": [
       "StartY\n",
       "2022-05    22166\n",
       "2023-03    21624\n",
       "2022-08    21532\n",
       "2021-07    21404\n",
       "2022-11    21396\n",
       "           ...  \n",
       "2019-12    18581\n",
       "2024-06    18210\n",
       "2019-11    17889\n",
       "2019-08     8868\n",
       "2024-08     8289\n",
       "Name: count, Length: 61, dtype: int64"
      ]
     },
     "execution_count": 7,
     "metadata": {},
     "output_type": "execute_result"
    }
   ],
   "source": [
    "df_train['StartY'].value_counts()"
   ]
  },
  {
   "cell_type": "code",
   "execution_count": 8,
   "id": "44895687",
   "metadata": {
    "execution": {
     "iopub.execute_input": "2024-12-29T07:37:53.934623Z",
     "iopub.status.busy": "2024-12-29T07:37:53.933836Z",
     "iopub.status.idle": "2024-12-29T07:37:54.027080Z",
     "shell.execute_reply": "2024-12-29T07:37:54.026197Z"
    },
    "papermill": {
     "duration": 0.104484,
     "end_time": "2024-12-29T07:37:54.028902",
     "exception": false,
     "start_time": "2024-12-29T07:37:53.924418",
     "status": "completed"
    },
    "tags": []
   },
   "outputs": [
    {
     "data": {
      "text/html": [
       "<div>\n",
       "<style scoped>\n",
       "    .dataframe tbody tr th:only-of-type {\n",
       "        vertical-align: middle;\n",
       "    }\n",
       "\n",
       "    .dataframe tbody tr th {\n",
       "        vertical-align: top;\n",
       "    }\n",
       "\n",
       "    .dataframe thead th {\n",
       "        text-align: right;\n",
       "    }\n",
       "</style>\n",
       "<table border=\"1\" class=\"dataframe\">\n",
       "  <thead>\n",
       "    <tr style=\"text-align: right;\">\n",
       "      <th></th>\n",
       "      <th>StartY</th>\n",
       "      <th>count</th>\n",
       "    </tr>\n",
       "  </thead>\n",
       "  <tbody>\n",
       "    <tr>\n",
       "      <th>60</th>\n",
       "      <td>2024-08</td>\n",
       "      <td>8289</td>\n",
       "    </tr>\n",
       "    <tr>\n",
       "      <th>55</th>\n",
       "      <td>2024-07</td>\n",
       "      <td>18798</td>\n",
       "    </tr>\n",
       "    <tr>\n",
       "      <th>57</th>\n",
       "      <td>2024-06</td>\n",
       "      <td>18210</td>\n",
       "    </tr>\n",
       "    <tr>\n",
       "      <th>5</th>\n",
       "      <td>2024-05</td>\n",
       "      <td>21251</td>\n",
       "    </tr>\n",
       "    <tr>\n",
       "      <th>46</th>\n",
       "      <td>2024-04</td>\n",
       "      <td>19389</td>\n",
       "    </tr>\n",
       "    <tr>\n",
       "      <th>...</th>\n",
       "      <td>...</td>\n",
       "      <td>...</td>\n",
       "    </tr>\n",
       "    <tr>\n",
       "      <th>56</th>\n",
       "      <td>2019-12</td>\n",
       "      <td>18581</td>\n",
       "    </tr>\n",
       "    <tr>\n",
       "      <th>58</th>\n",
       "      <td>2019-11</td>\n",
       "      <td>17889</td>\n",
       "    </tr>\n",
       "    <tr>\n",
       "      <th>47</th>\n",
       "      <td>2019-10</td>\n",
       "      <td>19355</td>\n",
       "    </tr>\n",
       "    <tr>\n",
       "      <th>42</th>\n",
       "      <td>2019-09</td>\n",
       "      <td>19596</td>\n",
       "    </tr>\n",
       "    <tr>\n",
       "      <th>59</th>\n",
       "      <td>2019-08</td>\n",
       "      <td>8868</td>\n",
       "    </tr>\n",
       "  </tbody>\n",
       "</table>\n",
       "<p>61 rows × 2 columns</p>\n",
       "</div>"
      ],
      "text/plain": [
       "     StartY  count\n",
       "60  2024-08   8289\n",
       "55  2024-07  18798\n",
       "57  2024-06  18210\n",
       "5   2024-05  21251\n",
       "46  2024-04  19389\n",
       "..      ...    ...\n",
       "56  2019-12  18581\n",
       "58  2019-11  17889\n",
       "47  2019-10  19355\n",
       "42  2019-09  19596\n",
       "59  2019-08   8868\n",
       "\n",
       "[61 rows x 2 columns]"
      ]
     },
     "execution_count": 8,
     "metadata": {},
     "output_type": "execute_result"
    }
   ],
   "source": [
    "df_train['StartY'].value_counts().reset_index().sort_values(by=['StartY'],ascending=False)"
   ]
  },
  {
   "cell_type": "code",
   "execution_count": 9,
   "id": "3be12eaa",
   "metadata": {
    "execution": {
     "iopub.execute_input": "2024-12-29T07:37:54.047878Z",
     "iopub.status.busy": "2024-12-29T07:37:54.047281Z",
     "iopub.status.idle": "2024-12-29T07:37:54.217995Z",
     "shell.execute_reply": "2024-12-29T07:37:54.217134Z"
    },
    "papermill": {
     "duration": 0.181882,
     "end_time": "2024-12-29T07:37:54.219803",
     "exception": false,
     "start_time": "2024-12-29T07:37:54.037921",
     "status": "completed"
    },
    "tags": []
   },
   "outputs": [
    {
     "data": {
      "text/html": [
       "<div>\n",
       "<style scoped>\n",
       "    .dataframe tbody tr th:only-of-type {\n",
       "        vertical-align: middle;\n",
       "    }\n",
       "\n",
       "    .dataframe tbody tr th {\n",
       "        vertical-align: top;\n",
       "    }\n",
       "\n",
       "    .dataframe thead th {\n",
       "        text-align: right;\n",
       "    }\n",
       "</style>\n",
       "<table border=\"1\" class=\"dataframe\">\n",
       "  <thead>\n",
       "    <tr style=\"text-align: right;\">\n",
       "      <th></th>\n",
       "      <th>count</th>\n",
       "      <th>mean</th>\n",
       "      <th>std</th>\n",
       "      <th>min</th>\n",
       "      <th>25%</th>\n",
       "      <th>50%</th>\n",
       "      <th>75%</th>\n",
       "      <th>max</th>\n",
       "    </tr>\n",
       "    <tr>\n",
       "      <th>StartY</th>\n",
       "      <th></th>\n",
       "      <th></th>\n",
       "      <th></th>\n",
       "      <th></th>\n",
       "      <th></th>\n",
       "      <th></th>\n",
       "      <th></th>\n",
       "      <th></th>\n",
       "    </tr>\n",
       "  </thead>\n",
       "  <tbody>\n",
       "    <tr>\n",
       "      <th>2019-08</th>\n",
       "      <td>750.0</td>\n",
       "      <td>55.880000</td>\n",
       "      <td>33.038013</td>\n",
       "      <td>20.0</td>\n",
       "      <td>28.0</td>\n",
       "      <td>40.0</td>\n",
       "      <td>88.00</td>\n",
       "      <td>119.0</td>\n",
       "    </tr>\n",
       "    <tr>\n",
       "      <th>2019-09</th>\n",
       "      <td>1728.0</td>\n",
       "      <td>54.236111</td>\n",
       "      <td>32.662809</td>\n",
       "      <td>20.0</td>\n",
       "      <td>28.0</td>\n",
       "      <td>39.0</td>\n",
       "      <td>85.00</td>\n",
       "      <td>119.0</td>\n",
       "    </tr>\n",
       "    <tr>\n",
       "      <th>2019-10</th>\n",
       "      <td>1628.0</td>\n",
       "      <td>53.222973</td>\n",
       "      <td>32.727574</td>\n",
       "      <td>20.0</td>\n",
       "      <td>27.0</td>\n",
       "      <td>38.0</td>\n",
       "      <td>81.25</td>\n",
       "      <td>119.0</td>\n",
       "    </tr>\n",
       "    <tr>\n",
       "      <th>2019-11</th>\n",
       "      <td>1479.0</td>\n",
       "      <td>54.600406</td>\n",
       "      <td>33.092735</td>\n",
       "      <td>20.0</td>\n",
       "      <td>27.0</td>\n",
       "      <td>39.0</td>\n",
       "      <td>86.50</td>\n",
       "      <td>119.0</td>\n",
       "    </tr>\n",
       "    <tr>\n",
       "      <th>2019-12</th>\n",
       "      <td>1646.0</td>\n",
       "      <td>55.174362</td>\n",
       "      <td>32.894424</td>\n",
       "      <td>20.0</td>\n",
       "      <td>28.0</td>\n",
       "      <td>39.0</td>\n",
       "      <td>86.75</td>\n",
       "      <td>119.0</td>\n",
       "    </tr>\n",
       "    <tr>\n",
       "      <th>...</th>\n",
       "      <td>...</td>\n",
       "      <td>...</td>\n",
       "      <td>...</td>\n",
       "      <td>...</td>\n",
       "      <td>...</td>\n",
       "      <td>...</td>\n",
       "      <td>...</td>\n",
       "      <td>...</td>\n",
       "    </tr>\n",
       "    <tr>\n",
       "      <th>2024-04</th>\n",
       "      <td>1723.0</td>\n",
       "      <td>58.331979</td>\n",
       "      <td>33.660618</td>\n",
       "      <td>20.0</td>\n",
       "      <td>29.0</td>\n",
       "      <td>45.0</td>\n",
       "      <td>94.00</td>\n",
       "      <td>119.0</td>\n",
       "    </tr>\n",
       "    <tr>\n",
       "      <th>2024-05</th>\n",
       "      <td>1850.0</td>\n",
       "      <td>58.808108</td>\n",
       "      <td>33.599484</td>\n",
       "      <td>20.0</td>\n",
       "      <td>28.0</td>\n",
       "      <td>45.0</td>\n",
       "      <td>98.00</td>\n",
       "      <td>119.0</td>\n",
       "    </tr>\n",
       "    <tr>\n",
       "      <th>2024-06</th>\n",
       "      <td>1564.0</td>\n",
       "      <td>56.691176</td>\n",
       "      <td>33.541466</td>\n",
       "      <td>20.0</td>\n",
       "      <td>28.0</td>\n",
       "      <td>42.0</td>\n",
       "      <td>93.00</td>\n",
       "      <td>119.0</td>\n",
       "    </tr>\n",
       "    <tr>\n",
       "      <th>2024-07</th>\n",
       "      <td>1622.0</td>\n",
       "      <td>56.519112</td>\n",
       "      <td>32.745376</td>\n",
       "      <td>20.0</td>\n",
       "      <td>29.0</td>\n",
       "      <td>43.0</td>\n",
       "      <td>87.00</td>\n",
       "      <td>119.0</td>\n",
       "    </tr>\n",
       "    <tr>\n",
       "      <th>2024-08</th>\n",
       "      <td>715.0</td>\n",
       "      <td>57.566434</td>\n",
       "      <td>33.812831</td>\n",
       "      <td>20.0</td>\n",
       "      <td>28.0</td>\n",
       "      <td>45.0</td>\n",
       "      <td>95.50</td>\n",
       "      <td>119.0</td>\n",
       "    </tr>\n",
       "  </tbody>\n",
       "</table>\n",
       "<p>61 rows × 8 columns</p>\n",
       "</div>"
      ],
      "text/plain": [
       "          count       mean        std   min   25%   50%    75%    max\n",
       "StartY                                                               \n",
       "2019-08   750.0  55.880000  33.038013  20.0  28.0  40.0  88.00  119.0\n",
       "2019-09  1728.0  54.236111  32.662809  20.0  28.0  39.0  85.00  119.0\n",
       "2019-10  1628.0  53.222973  32.727574  20.0  27.0  38.0  81.25  119.0\n",
       "2019-11  1479.0  54.600406  33.092735  20.0  27.0  39.0  86.50  119.0\n",
       "2019-12  1646.0  55.174362  32.894424  20.0  28.0  39.0  86.75  119.0\n",
       "...         ...        ...        ...   ...   ...   ...    ...    ...\n",
       "2024-04  1723.0  58.331979  33.660618  20.0  29.0  45.0  94.00  119.0\n",
       "2024-05  1850.0  58.808108  33.599484  20.0  28.0  45.0  98.00  119.0\n",
       "2024-06  1564.0  56.691176  33.541466  20.0  28.0  42.0  93.00  119.0\n",
       "2024-07  1622.0  56.519112  32.745376  20.0  29.0  43.0  87.00  119.0\n",
       "2024-08   715.0  57.566434  33.812831  20.0  28.0  45.0  95.50  119.0\n",
       "\n",
       "[61 rows x 8 columns]"
      ]
     },
     "execution_count": 9,
     "metadata": {},
     "output_type": "execute_result"
    }
   ],
   "source": [
    "df_train[df_train['Premium Amount']<120].groupby('StartY')['Premium Amount'].describe()"
   ]
  },
  {
   "cell_type": "code",
   "execution_count": 10,
   "id": "cdef1ac0",
   "metadata": {
    "execution": {
     "iopub.execute_input": "2024-12-29T07:37:54.238993Z",
     "iopub.status.busy": "2024-12-29T07:37:54.238683Z",
     "iopub.status.idle": "2024-12-29T07:37:54.282579Z",
     "shell.execute_reply": "2024-12-29T07:37:54.281639Z"
    },
    "papermill": {
     "duration": 0.055144,
     "end_time": "2024-12-29T07:37:54.284224",
     "exception": false,
     "start_time": "2024-12-29T07:37:54.229080",
     "status": "completed"
    },
    "tags": []
   },
   "outputs": [
    {
     "data": {
      "text/plain": [
       "count    770140.000000\n",
       "mean      32803.871471\n",
       "std       32201.063749\n",
       "min           2.000000\n",
       "25%        8048.000000\n",
       "50%       23981.000000\n",
       "75%       44660.000000\n",
       "max      149997.000000\n",
       "Name: Annual Income, dtype: float64"
      ]
     },
     "execution_count": 10,
     "metadata": {},
     "output_type": "execute_result"
    }
   ],
   "source": [
    "df_test['Annual Income'].describe()"
   ]
  },
  {
   "cell_type": "code",
   "execution_count": 11,
   "id": "c07f59ed",
   "metadata": {
    "execution": {
     "iopub.execute_input": "2024-12-29T07:37:54.303398Z",
     "iopub.status.busy": "2024-12-29T07:37:54.303065Z",
     "iopub.status.idle": "2024-12-29T07:37:54.323305Z",
     "shell.execute_reply": "2024-12-29T07:37:54.322500Z"
    },
    "papermill": {
     "duration": 0.031902,
     "end_time": "2024-12-29T07:37:54.324980",
     "exception": false,
     "start_time": "2024-12-29T07:37:54.293078",
     "status": "completed"
    },
    "tags": []
   },
   "outputs": [
    {
     "data": {
      "text/plain": [
       "Credit Score\n",
       "673.0    26\n",
       "658.0    26\n",
       "711.0    25\n",
       "613.0    25\n",
       "445.0    24\n",
       "         ..\n",
       "428.0     1\n",
       "350.0     1\n",
       "335.0     1\n",
       "322.0     1\n",
       "405.0     1\n",
       "Name: count, Length: 539, dtype: int64"
      ]
     },
     "execution_count": 11,
     "metadata": {},
     "output_type": "execute_result"
    }
   ],
   "source": [
    "df_train[df_train['Annual Income']<200]['Credit Score'].value_counts()"
   ]
  },
  {
   "cell_type": "code",
   "execution_count": 12,
   "id": "336ac070",
   "metadata": {
    "execution": {
     "iopub.execute_input": "2024-12-29T07:37:54.344803Z",
     "iopub.status.busy": "2024-12-29T07:37:54.344011Z",
     "iopub.status.idle": "2024-12-29T07:37:54.359682Z",
     "shell.execute_reply": "2024-12-29T07:37:54.358784Z"
    },
    "papermill": {
     "duration": 0.027307,
     "end_time": "2024-12-29T07:37:54.361254",
     "exception": false,
     "start_time": "2024-12-29T07:37:54.333947",
     "status": "completed"
    },
    "tags": []
   },
   "outputs": [
    {
     "data": {
      "text/plain": [
       "Annual Income\n",
       "24.0     294\n",
       "35.0     278\n",
       "34.0     193\n",
       "17.0     155\n",
       "26.0     155\n",
       "        ... \n",
       "73.0       1\n",
       "150.0      1\n",
       "87.0       1\n",
       "198.0      1\n",
       "146.0      1\n",
       "Name: count, Length: 184, dtype: int64"
      ]
     },
     "execution_count": 12,
     "metadata": {},
     "output_type": "execute_result"
    }
   ],
   "source": [
    "df_test[df_test['Annual Income']<200]['Annual Income'].value_counts()"
   ]
  },
  {
   "cell_type": "code",
   "execution_count": 13,
   "id": "df872a30",
   "metadata": {
    "execution": {
     "iopub.execute_input": "2024-12-29T07:37:54.380141Z",
     "iopub.status.busy": "2024-12-29T07:37:54.379864Z",
     "iopub.status.idle": "2024-12-29T07:37:54.419494Z",
     "shell.execute_reply": "2024-12-29T07:37:54.418652Z"
    },
    "papermill": {
     "duration": 0.051071,
     "end_time": "2024-12-29T07:37:54.421247",
     "exception": false,
     "start_time": "2024-12-29T07:37:54.370176",
     "status": "completed"
    },
    "tags": []
   },
   "outputs": [
    {
     "data": {
      "text/plain": [
       "Index(['id', 'Age', 'Annual Income', 'Number of Dependents', 'Health Score',\n",
       "       'Previous Claims', 'Vehicle Age', 'Credit Score', 'Insurance Duration',\n",
       "       'Premium Amount'],\n",
       "      dtype='object')"
      ]
     },
     "execution_count": 13,
     "metadata": {},
     "output_type": "execute_result"
    }
   ],
   "source": [
    "#only Age, Anuual Income,Credit Score are number. The rest are category\n",
    "numeric_columns=df_train.select_dtypes(include=np.number).columns\n",
    "numeric_columns"
   ]
  },
  {
   "cell_type": "code",
   "execution_count": 14,
   "id": "c7b5307d",
   "metadata": {
    "execution": {
     "iopub.execute_input": "2024-12-29T07:37:54.441745Z",
     "iopub.status.busy": "2024-12-29T07:37:54.441410Z",
     "iopub.status.idle": "2024-12-29T07:37:55.082022Z",
     "shell.execute_reply": "2024-12-29T07:37:55.081077Z"
    },
    "papermill": {
     "duration": 0.653534,
     "end_time": "2024-12-29T07:37:55.084575",
     "exception": false,
     "start_time": "2024-12-29T07:37:54.431041",
     "status": "completed"
    },
    "tags": []
   },
   "outputs": [
    {
     "data": {
      "text/plain": [
       "Index(['Gender', 'Marital Status', 'Education Level', 'Occupation', 'Location',\n",
       "       'Policy Type', 'Policy Start Date', 'Customer Feedback',\n",
       "       'Smoking Status', 'Exercise Frequency', 'Property Type', 'StartY'],\n",
       "      dtype='object')"
      ]
     },
     "execution_count": 14,
     "metadata": {},
     "output_type": "execute_result"
    }
   ],
   "source": [
    "object_columns=df_train.select_dtypes(include=object).columns\n",
    "object_columns"
   ]
  },
  {
   "cell_type": "code",
   "execution_count": 15,
   "id": "7bc4db3e",
   "metadata": {
    "execution": {
     "iopub.execute_input": "2024-12-29T07:37:55.105830Z",
     "iopub.status.busy": "2024-12-29T07:37:55.105507Z",
     "iopub.status.idle": "2024-12-29T07:37:55.159248Z",
     "shell.execute_reply": "2024-12-29T07:37:55.158419Z"
    },
    "papermill": {
     "duration": 0.066553,
     "end_time": "2024-12-29T07:37:55.161177",
     "exception": false,
     "start_time": "2024-12-29T07:37:55.094624",
     "status": "completed"
    },
    "tags": []
   },
   "outputs": [
    {
     "data": {
      "text/plain": [
       "count    1.200000e+06\n",
       "mean     6.593889e+00\n",
       "std      1.095825e+00\n",
       "min      3.044522e+00\n",
       "25%      6.244167e+00\n",
       "50%      6.771936e+00\n",
       "75%      7.319865e+00\n",
       "max      8.517193e+00\n",
       "Name: Label, dtype: float64"
      ]
     },
     "execution_count": 15,
     "metadata": {},
     "output_type": "execute_result"
    }
   ],
   "source": [
    "#transform target and income\n",
    "df_train['Label']=np.log1p(df_train['Premium Amount'])\n",
    "df_train['Label'].describe()\n"
   ]
  },
  {
   "cell_type": "code",
   "execution_count": 16,
   "id": "b98bf06e",
   "metadata": {
    "execution": {
     "iopub.execute_input": "2024-12-29T07:37:55.182588Z",
     "iopub.status.busy": "2024-12-29T07:37:55.181800Z",
     "iopub.status.idle": "2024-12-29T07:37:55.192723Z",
     "shell.execute_reply": "2024-12-29T07:37:55.191882Z"
    },
    "papermill": {
     "duration": 0.022662,
     "end_time": "2024-12-29T07:37:55.194452",
     "exception": false,
     "start_time": "2024-12-29T07:37:55.171790",
     "status": "completed"
    },
    "tags": []
   },
   "outputs": [],
   "source": [
    "df_train['Annual Income']=np.log1p(df_train['Annual Income'])"
   ]
  },
  {
   "cell_type": "code",
   "execution_count": 17,
   "id": "35f4f5a5",
   "metadata": {
    "execution": {
     "iopub.execute_input": "2024-12-29T07:37:55.214605Z",
     "iopub.status.busy": "2024-12-29T07:37:55.213851Z",
     "iopub.status.idle": "2024-12-29T07:37:55.224569Z",
     "shell.execute_reply": "2024-12-29T07:37:55.223629Z"
    },
    "papermill": {
     "duration": 0.022695,
     "end_time": "2024-12-29T07:37:55.226454",
     "exception": false,
     "start_time": "2024-12-29T07:37:55.203759",
     "status": "completed"
    },
    "tags": []
   },
   "outputs": [],
   "source": [
    "df_test['Annual Income']=np.log1p(df_test['Annual Income'])"
   ]
  },
  {
   "cell_type": "code",
   "execution_count": 18,
   "id": "603fe5a5",
   "metadata": {
    "execution": {
     "iopub.execute_input": "2024-12-29T07:37:55.246517Z",
     "iopub.status.busy": "2024-12-29T07:37:55.246203Z",
     "iopub.status.idle": "2024-12-29T07:37:55.520706Z",
     "shell.execute_reply": "2024-12-29T07:37:55.519790Z"
    },
    "papermill": {
     "duration": 0.285998,
     "end_time": "2024-12-29T07:37:55.522478",
     "exception": false,
     "start_time": "2024-12-29T07:37:55.236480",
     "status": "completed"
    },
    "tags": []
   },
   "outputs": [
    {
     "data": {
      "text/plain": [
       "count\n",
       "1        720797.0\n",
       "2       1155398.0\n",
       "3       1264602.0\n",
       "4       1489848.0\n",
       "5       2094605.0\n",
       "          ...    \n",
       "3009      84252.0\n",
       "3122      71806.0\n",
       "3396      67920.0\n",
       "3444      82656.0\n",
       "3735      93375.0\n",
       "Name: total, Length: 917, dtype: float64"
      ]
     },
     "execution_count": 18,
     "metadata": {},
     "output_type": "execute_result"
    }
   ],
   "source": [
    "#Check Na credit score and premium amount\n",
    "# There a lot of missing score with a lot of premium no different with having creditscor\n",
    "df_train[df_train['Credit Score'].notna()].groupby('Premium Amount').size().reset_index(name='count').assign(total=lambda x:x['Premium Amount']*x['count']).groupby('count')['total'].sum()"
   ]
  },
  {
   "cell_type": "code",
   "execution_count": 19,
   "id": "e0d2fc20",
   "metadata": {
    "execution": {
     "iopub.execute_input": "2024-12-29T07:37:55.543161Z",
     "iopub.status.busy": "2024-12-29T07:37:55.542478Z",
     "iopub.status.idle": "2024-12-29T07:37:55.545998Z",
     "shell.execute_reply": "2024-12-29T07:37:55.545329Z"
    },
    "papermill": {
     "duration": 0.015561,
     "end_time": "2024-12-29T07:37:55.547607",
     "exception": false,
     "start_time": "2024-12-29T07:37:55.532046",
     "status": "completed"
    },
    "tags": []
   },
   "outputs": [],
   "source": [
    "#from feature_engine.transformation import YeoJohnsonTransformer\n",
    "\n",
    "#tf = YeoJohnsonTransformer(variables = ['Annual Income', 'Label'])\n",
    "\n",
    "#tf.fit(df_train.dropna())\n",
    "#tf.lambda_dict_"
   ]
  },
  {
   "cell_type": "code",
   "execution_count": 20,
   "id": "982b7739",
   "metadata": {
    "execution": {
     "iopub.execute_input": "2024-12-29T07:37:55.567775Z",
     "iopub.status.busy": "2024-12-29T07:37:55.567053Z",
     "iopub.status.idle": "2024-12-29T07:37:55.570606Z",
     "shell.execute_reply": "2024-12-29T07:37:55.569939Z"
    },
    "papermill": {
     "duration": 0.015435,
     "end_time": "2024-12-29T07:37:55.572184",
     "exception": false,
     "start_time": "2024-12-29T07:37:55.556749",
     "status": "completed"
    },
    "tags": []
   },
   "outputs": [],
   "source": [
    "#df_train_tf=tf.transform(df_train.dropna())"
   ]
  },
  {
   "cell_type": "code",
   "execution_count": 21,
   "id": "6db7a440",
   "metadata": {
    "execution": {
     "iopub.execute_input": "2024-12-29T07:37:55.591800Z",
     "iopub.status.busy": "2024-12-29T07:37:55.591519Z",
     "iopub.status.idle": "2024-12-29T07:37:55.649646Z",
     "shell.execute_reply": "2024-12-29T07:37:55.648699Z"
    },
    "papermill": {
     "duration": 0.069932,
     "end_time": "2024-12-29T07:37:55.651525",
     "exception": false,
     "start_time": "2024-12-29T07:37:55.581593",
     "status": "completed"
    },
    "tags": []
   },
   "outputs": [
    {
     "data": {
      "text/html": [
       "<div>\n",
       "<style scoped>\n",
       "    .dataframe tbody tr th:only-of-type {\n",
       "        vertical-align: middle;\n",
       "    }\n",
       "\n",
       "    .dataframe tbody tr th {\n",
       "        vertical-align: top;\n",
       "    }\n",
       "\n",
       "    .dataframe thead th {\n",
       "        text-align: right;\n",
       "    }\n",
       "</style>\n",
       "<table border=\"1\" class=\"dataframe\">\n",
       "  <thead>\n",
       "    <tr style=\"text-align: right;\">\n",
       "      <th></th>\n",
       "      <th>Annual Income</th>\n",
       "      <th>Credit Score</th>\n",
       "    </tr>\n",
       "  </thead>\n",
       "  <tbody>\n",
       "    <tr>\n",
       "      <th>470076</th>\n",
       "      <td>1.098612</td>\n",
       "      <td>332.0</td>\n",
       "    </tr>\n",
       "    <tr>\n",
       "      <th>145069</th>\n",
       "      <td>2.079442</td>\n",
       "      <td>462.0</td>\n",
       "    </tr>\n",
       "    <tr>\n",
       "      <th>120276</th>\n",
       "      <td>2.484907</td>\n",
       "      <td>479.0</td>\n",
       "    </tr>\n",
       "    <tr>\n",
       "      <th>1187366</th>\n",
       "      <td>2.708050</td>\n",
       "      <td>682.0</td>\n",
       "    </tr>\n",
       "    <tr>\n",
       "      <th>1105989</th>\n",
       "      <td>2.833213</td>\n",
       "      <td>466.0</td>\n",
       "    </tr>\n",
       "  </tbody>\n",
       "</table>\n",
       "</div>"
      ],
      "text/plain": [
       "         Annual Income  Credit Score\n",
       "470076        1.098612         332.0\n",
       "145069        2.079442         462.0\n",
       "120276        2.484907         479.0\n",
       "1187366       2.708050         682.0\n",
       "1105989       2.833213         466.0"
      ]
     },
     "execution_count": 21,
     "metadata": {},
     "output_type": "execute_result"
    }
   ],
   "source": [
    "df_train[df_train['Premium Amount']<120].loc[:,['Annual Income','Credit Score']].sort_values(ascending=True,by=['Annual Income']).head()"
   ]
  },
  {
   "cell_type": "code",
   "execution_count": 22,
   "id": "ba416c00",
   "metadata": {
    "execution": {
     "iopub.execute_input": "2024-12-29T07:37:55.671889Z",
     "iopub.status.busy": "2024-12-29T07:37:55.671623Z",
     "iopub.status.idle": "2024-12-29T07:37:55.726300Z",
     "shell.execute_reply": "2024-12-29T07:37:55.725557Z"
    },
    "papermill": {
     "duration": 0.066846,
     "end_time": "2024-12-29T07:37:55.728225",
     "exception": false,
     "start_time": "2024-12-29T07:37:55.661379",
     "status": "completed"
    },
    "tags": []
   },
   "outputs": [
    {
     "data": {
      "text/plain": [
       "count    91651.000000\n",
       "mean       614.447764\n",
       "std        140.831463\n",
       "min        300.000000\n",
       "25%        505.000000\n",
       "50%        623.000000\n",
       "75%        733.000000\n",
       "max        849.000000\n",
       "Name: Credit Score, dtype: float64"
      ]
     },
     "execution_count": 22,
     "metadata": {},
     "output_type": "execute_result"
    }
   ],
   "source": [
    "df_train[df_train['Premium Amount']<120]['Credit Score'].describe()"
   ]
  },
  {
   "cell_type": "code",
   "execution_count": 23,
   "id": "2a55cef9",
   "metadata": {
    "execution": {
     "iopub.execute_input": "2024-12-29T07:37:55.749092Z",
     "iopub.status.busy": "2024-12-29T07:37:55.748820Z",
     "iopub.status.idle": "2024-12-29T07:37:55.820246Z",
     "shell.execute_reply": "2024-12-29T07:37:55.819380Z"
    },
    "papermill": {
     "duration": 0.08371,
     "end_time": "2024-12-29T07:37:55.822216",
     "exception": false,
     "start_time": "2024-12-29T07:37:55.738506",
     "status": "completed"
    },
    "tags": []
   },
   "outputs": [
    {
     "data": {
      "text/plain": [
       "count    1.062118e+06\n",
       "mean     5.929244e+02\n",
       "std      1.499819e+02\n",
       "min      3.000000e+02\n",
       "25%      4.680000e+02\n",
       "50%      5.950000e+02\n",
       "75%      7.210000e+02\n",
       "max      8.490000e+02\n",
       "Name: Credit Score, dtype: float64"
      ]
     },
     "execution_count": 23,
     "metadata": {},
     "output_type": "execute_result"
    }
   ],
   "source": [
    "df_train['Credit Score'].describe()"
   ]
  },
  {
   "cell_type": "code",
   "execution_count": 24,
   "id": "0d67934d",
   "metadata": {
    "execution": {
     "iopub.execute_input": "2024-12-29T07:37:55.844256Z",
     "iopub.status.busy": "2024-12-29T07:37:55.843674Z",
     "iopub.status.idle": "2024-12-29T07:37:56.442054Z",
     "shell.execute_reply": "2024-12-29T07:37:56.440983Z"
    },
    "papermill": {
     "duration": 0.610952,
     "end_time": "2024-12-29T07:37:56.443967",
     "exception": false,
     "start_time": "2024-12-29T07:37:55.833015",
     "status": "completed"
    },
    "tags": []
   },
   "outputs": [
    {
     "name": "stdout",
     "output_type": "stream",
     "text": [
      "<class 'pandas.core.frame.DataFrame'>\n",
      "RangeIndex: 1200000 entries, 0 to 1199999\n",
      "Data columns (total 23 columns):\n",
      " #   Column                Non-Null Count    Dtype  \n",
      "---  ------                --------------    -----  \n",
      " 0   id                    1200000 non-null  int64  \n",
      " 1   Age                   1181295 non-null  float64\n",
      " 2   Gender                1200000 non-null  object \n",
      " 3   Annual Income         1155051 non-null  float64\n",
      " 4   Marital Status        1181471 non-null  object \n",
      " 5   Number of Dependents  1090328 non-null  float64\n",
      " 6   Education Level       1200000 non-null  object \n",
      " 7   Occupation            841925 non-null   object \n",
      " 8   Health Score          1125924 non-null  float64\n",
      " 9   Location              1200000 non-null  object \n",
      " 10  Policy Type           1200000 non-null  object \n",
      " 11  Previous Claims       835971 non-null   float64\n",
      " 12  Vehicle Age           1199994 non-null  float64\n",
      " 13  Credit Score          1062118 non-null  float64\n",
      " 14  Insurance Duration    1199999 non-null  float64\n",
      " 15  Policy Start Date     1200000 non-null  object \n",
      " 16  Customer Feedback     1122176 non-null  object \n",
      " 17  Smoking Status        1200000 non-null  object \n",
      " 18  Exercise Frequency    1200000 non-null  object \n",
      " 19  Property Type         1200000 non-null  object \n",
      " 20  Premium Amount        1200000 non-null  float64\n",
      " 21  StartY                1200000 non-null  object \n",
      " 22  Label                 1200000 non-null  float64\n",
      "dtypes: float64(10), int64(1), object(12)\n",
      "memory usage: 210.6+ MB\n"
     ]
    }
   ],
   "source": [
    "df_train.info()"
   ]
  },
  {
   "cell_type": "code",
   "execution_count": 25,
   "id": "aec84e02",
   "metadata": {
    "execution": {
     "iopub.execute_input": "2024-12-29T07:37:56.464992Z",
     "iopub.status.busy": "2024-12-29T07:37:56.464377Z",
     "iopub.status.idle": "2024-12-29T07:37:56.467974Z",
     "shell.execute_reply": "2024-12-29T07:37:56.467339Z"
    },
    "papermill": {
     "duration": 0.015661,
     "end_time": "2024-12-29T07:37:56.469537",
     "exception": false,
     "start_time": "2024-12-29T07:37:56.453876",
     "status": "completed"
    },
    "tags": []
   },
   "outputs": [],
   "source": [
    "# change fillna from mean to mode to get less effect from outlier\n",
    "# Ana=df_train['Age'].mode()[0]\n",
    "# Aina=df_train['Annual Income'].mode()[0]\n",
    "# Ndna=0\n",
    "# Hsna=df_train['Health Score'].mode()[0]\n",
    "# Pcna=0\n",
    "# Vana=0 #just impute with 0\n",
    "# Csna=df_train['Credit Score'].mode()[0]\n",
    "# Idna=0"
   ]
  },
  {
   "cell_type": "code",
   "execution_count": 26,
   "id": "0c6c65f7",
   "metadata": {
    "execution": {
     "iopub.execute_input": "2024-12-29T07:37:56.490009Z",
     "iopub.status.busy": "2024-12-29T07:37:56.489467Z",
     "iopub.status.idle": "2024-12-29T07:37:56.493344Z",
     "shell.execute_reply": "2024-12-29T07:37:56.492676Z"
    },
    "papermill": {
     "duration": 0.015754,
     "end_time": "2024-12-29T07:37:56.494890",
     "exception": false,
     "start_time": "2024-12-29T07:37:56.479136",
     "status": "completed"
    },
    "tags": []
   },
   "outputs": [],
   "source": [
    "# df_train['Age'].fillna(Ana,inplace=True)\n",
    "# df_train['Annual Income'].fillna(Aina,inplace=True)\n",
    "# df_train['Number of Dependents'].fillna(Ndna,inplace=True)\n",
    "# df_train['Health Score'].fillna(Hsna,inplace=True)\n",
    "# df_train['Previous Claims'].fillna(Pcna,inplace=True)\n",
    "# df_train['Vehicle Age'].fillna(Vana,inplace=True)\n",
    "# df_train['Credit Score'].fillna(Csna,inplace=True)\n",
    "# df_train['Insurance Duration'].fillna(Idna,inplace=True)\n",
    "\n",
    "\n",
    "#Ana=df_test['Age'].mean()\n",
    "#Aina=df_test['Annual Income'].mean()\n",
    "#Ndna=0\n",
    "#Hsna=df_test['Health Score'].mean()\n",
    "#Pcna=0\n",
    "#Vana=0 #just impute with 0\n",
    "#Csna=df_test['Credit Score'].mean()\n",
    "#Idna=0\n",
    "\n",
    "# df_test['Age'].fillna(Ana,inplace=True)\n",
    "# df_test['Annual Income'].fillna(Aina,inplace=True)\n",
    "# df_test['Number of Dependents'].fillna(Ndna,inplace=True)\n",
    "# df_test['Health Score'].fillna(Hsna,inplace=True)\n",
    "# df_test['Previous Claims'].fillna(Pcna,inplace=True)\n",
    "# df_test['Vehicle Age'].fillna(Vana,inplace=True)\n",
    "# df_test['Credit Score'].fillna(Csna,inplace=True)\n",
    "# df_test['Insurance Duration'].fillna(Idna,inplace=True)\n",
    "\n"
   ]
  },
  {
   "cell_type": "code",
   "execution_count": 27,
   "id": "464f5ed5",
   "metadata": {
    "execution": {
     "iopub.execute_input": "2024-12-29T07:37:56.515084Z",
     "iopub.status.busy": "2024-12-29T07:37:56.514641Z",
     "iopub.status.idle": "2024-12-29T07:37:56.518240Z",
     "shell.execute_reply": "2024-12-29T07:37:56.517610Z"
    },
    "papermill": {
     "duration": 0.015494,
     "end_time": "2024-12-29T07:37:56.519804",
     "exception": false,
     "start_time": "2024-12-29T07:37:56.504310",
     "status": "completed"
    },
    "tags": []
   },
   "outputs": [],
   "source": [
    "# import numpy as np\n",
    "# from catboost import CatBoostRegressor\n",
    "# # Initialize data\n",
    "\n",
    "# train_data = [[1., 4., 5., np.nan],\n",
    "#               [4., 5., 6., 7.],\n",
    "#               [30., 40., 50., 60.]]\n",
    "\n",
    "# eval_data = [[2., 4., 6., 8.],\n",
    "#              [1., 4., 50., 60.]]\n",
    "\n",
    "# train_labels = [10., 20., 30.]\n",
    "# # Initialize CatBoostRegressor\n",
    "# model = CatBoostRegressor(iterations=2,\n",
    "#                           learning_rate=1,\n",
    "#                           depth=2)\n",
    "# # Fit model\n",
    "# model.fit(train_data, train_labels)\n",
    "# # Get predictions\n",
    "# preds = model.predict(eval_data)"
   ]
  },
  {
   "cell_type": "code",
   "execution_count": 28,
   "id": "621531ae",
   "metadata": {
    "execution": {
     "iopub.execute_input": "2024-12-29T07:37:56.539644Z",
     "iopub.status.busy": "2024-12-29T07:37:56.539405Z",
     "iopub.status.idle": "2024-12-29T07:37:56.566365Z",
     "shell.execute_reply": "2024-12-29T07:37:56.565530Z"
    },
    "papermill": {
     "duration": 0.038858,
     "end_time": "2024-12-29T07:37:56.567941",
     "exception": false,
     "start_time": "2024-12-29T07:37:56.529083",
     "status": "completed"
    },
    "tags": []
   },
   "outputs": [
    {
     "data": {
      "text/plain": [
       "Index([     83,     309,     310,     332,     375,     385,     403,     538,\n",
       "           553,     570,\n",
       "       ...\n",
       "       1199635, 1199653, 1199690, 1199701, 1199704, 1199752, 1199772, 1199784,\n",
       "       1199893, 1199897],\n",
       "      dtype='int64', length=18705)"
      ]
     },
     "execution_count": 28,
     "metadata": {},
     "output_type": "execute_result"
    }
   ],
   "source": [
    "df_train[df_train['Age'].isna()].index"
   ]
  },
  {
   "cell_type": "code",
   "execution_count": 29,
   "id": "355ee897",
   "metadata": {
    "execution": {
     "iopub.execute_input": "2024-12-29T07:37:56.588473Z",
     "iopub.status.busy": "2024-12-29T07:37:56.587986Z",
     "iopub.status.idle": "2024-12-29T07:37:56.870986Z",
     "shell.execute_reply": "2024-12-29T07:37:56.870328Z"
    },
    "papermill": {
     "duration": 0.295219,
     "end_time": "2024-12-29T07:37:56.872795",
     "exception": false,
     "start_time": "2024-12-29T07:37:56.577576",
     "status": "completed"
    },
    "tags": []
   },
   "outputs": [
    {
     "name": "stderr",
     "output_type": "stream",
     "text": [
      "/tmp/ipykernel_23/1312047004.py:1: FutureWarning: A value is trying to be set on a copy of a DataFrame or Series through chained assignment using an inplace method.\n",
      "The behavior will change in pandas 3.0. This inplace method will never work because the intermediate object on which we are setting values always behaves as a copy.\n",
      "\n",
      "For example, when doing 'df[col].method(value, inplace=True)', try using 'df.method({col: value}, inplace=True)' or df[col] = df[col].method(value) instead, to perform the operation inplace on the original object.\n",
      "\n",
      "\n",
      "  df_train['Occupation'].fillna('Unknown',inplace=True)\n",
      "/tmp/ipykernel_23/1312047004.py:2: FutureWarning: A value is trying to be set on a copy of a DataFrame or Series through chained assignment using an inplace method.\n",
      "The behavior will change in pandas 3.0. This inplace method will never work because the intermediate object on which we are setting values always behaves as a copy.\n",
      "\n",
      "For example, when doing 'df[col].method(value, inplace=True)', try using 'df.method({col: value}, inplace=True)' or df[col] = df[col].method(value) instead, to perform the operation inplace on the original object.\n",
      "\n",
      "\n",
      "  df_train['Marital Status'].fillna('Unknown',inplace=True)\n",
      "/tmp/ipykernel_23/1312047004.py:3: FutureWarning: A value is trying to be set on a copy of a DataFrame or Series through chained assignment using an inplace method.\n",
      "The behavior will change in pandas 3.0. This inplace method will never work because the intermediate object on which we are setting values always behaves as a copy.\n",
      "\n",
      "For example, when doing 'df[col].method(value, inplace=True)', try using 'df.method({col: value}, inplace=True)' or df[col] = df[col].method(value) instead, to perform the operation inplace on the original object.\n",
      "\n",
      "\n",
      "  df_train['Customer Feedback'].fillna('Unknown',inplace=True)\n",
      "/tmp/ipykernel_23/1312047004.py:5: FutureWarning: A value is trying to be set on a copy of a DataFrame or Series through chained assignment using an inplace method.\n",
      "The behavior will change in pandas 3.0. This inplace method will never work because the intermediate object on which we are setting values always behaves as a copy.\n",
      "\n",
      "For example, when doing 'df[col].method(value, inplace=True)', try using 'df.method({col: value}, inplace=True)' or df[col] = df[col].method(value) instead, to perform the operation inplace on the original object.\n",
      "\n",
      "\n",
      "  df_test['Occupation'].fillna('Unknown',inplace=True)\n",
      "/tmp/ipykernel_23/1312047004.py:6: FutureWarning: A value is trying to be set on a copy of a DataFrame or Series through chained assignment using an inplace method.\n",
      "The behavior will change in pandas 3.0. This inplace method will never work because the intermediate object on which we are setting values always behaves as a copy.\n",
      "\n",
      "For example, when doing 'df[col].method(value, inplace=True)', try using 'df.method({col: value}, inplace=True)' or df[col] = df[col].method(value) instead, to perform the operation inplace on the original object.\n",
      "\n",
      "\n",
      "  df_test['Marital Status'].fillna('Unknown',inplace=True)\n",
      "/tmp/ipykernel_23/1312047004.py:7: FutureWarning: A value is trying to be set on a copy of a DataFrame or Series through chained assignment using an inplace method.\n",
      "The behavior will change in pandas 3.0. This inplace method will never work because the intermediate object on which we are setting values always behaves as a copy.\n",
      "\n",
      "For example, when doing 'df[col].method(value, inplace=True)', try using 'df.method({col: value}, inplace=True)' or df[col] = df[col].method(value) instead, to perform the operation inplace on the original object.\n",
      "\n",
      "\n",
      "  df_test['Customer Feedback'].fillna('Unknown',inplace=True)\n"
     ]
    }
   ],
   "source": [
    "df_train['Occupation'].fillna('Unknown',inplace=True)\n",
    "df_train['Marital Status'].fillna('Unknown',inplace=True)\n",
    "df_train['Customer Feedback'].fillna('Unknown',inplace=True)\n",
    "\n",
    "df_test['Occupation'].fillna('Unknown',inplace=True)\n",
    "df_test['Marital Status'].fillna('Unknown',inplace=True)\n",
    "df_test['Customer Feedback'].fillna('Unknown',inplace=True)\n"
   ]
  },
  {
   "cell_type": "code",
   "execution_count": 30,
   "id": "e5733ba4",
   "metadata": {
    "execution": {
     "iopub.execute_input": "2024-12-29T07:37:56.894374Z",
     "iopub.status.busy": "2024-12-29T07:37:56.893754Z",
     "iopub.status.idle": "2024-12-29T07:37:56.899228Z",
     "shell.execute_reply": "2024-12-29T07:37:56.898401Z"
    },
    "papermill": {
     "duration": 0.017897,
     "end_time": "2024-12-29T07:37:56.900738",
     "exception": false,
     "start_time": "2024-12-29T07:37:56.882841",
     "status": "completed"
    },
    "tags": []
   },
   "outputs": [
    {
     "data": {
      "text/plain": [
       "['Gender',\n",
       " 'Marital Status',\n",
       " 'Education Level',\n",
       " 'Occupation',\n",
       " 'Location',\n",
       " 'Policy Type',\n",
       " 'Policy Start Date',\n",
       " 'Customer Feedback',\n",
       " 'Smoking Status',\n",
       " 'Exercise Frequency',\n",
       " 'Property Type',\n",
       " 'StartY']"
      ]
     },
     "execution_count": 30,
     "metadata": {},
     "output_type": "execute_result"
    }
   ],
   "source": [
    "#cat_features=numeric_columns.drop(['id','Age','Annual Income','Credit Score','Health Score','Premium Amount']).union(object_columns)\n",
    "cat_features=object_columns\n",
    "cat_features.to_list()\n"
   ]
  },
  {
   "cell_type": "code",
   "execution_count": 31,
   "id": "5e47c86a",
   "metadata": {
    "execution": {
     "iopub.execute_input": "2024-12-29T07:37:56.921670Z",
     "iopub.status.busy": "2024-12-29T07:37:56.921388Z",
     "iopub.status.idle": "2024-12-29T07:37:56.927414Z",
     "shell.execute_reply": "2024-12-29T07:37:56.926639Z"
    },
    "papermill": {
     "duration": 0.018313,
     "end_time": "2024-12-29T07:37:56.929036",
     "exception": false,
     "start_time": "2024-12-29T07:37:56.910723",
     "status": "completed"
    },
    "tags": []
   },
   "outputs": [],
   "source": [
    "#change cat columns datatype to astype int\n",
    "df_train[cat_features.intersection(numeric_columns)]=df_train[cat_features.intersection(numeric_columns)].astype('Int64')\n",
    "\n",
    "#text_features = cat_features.remove('Vehicle Age')"
   ]
  },
  {
   "cell_type": "code",
   "execution_count": 32,
   "id": "d6162d27",
   "metadata": {
    "execution": {
     "iopub.execute_input": "2024-12-29T07:37:56.950706Z",
     "iopub.status.busy": "2024-12-29T07:37:56.950386Z",
     "iopub.status.idle": "2024-12-29T07:37:56.955270Z",
     "shell.execute_reply": "2024-12-29T07:37:56.954583Z"
    },
    "papermill": {
     "duration": 0.017576,
     "end_time": "2024-12-29T07:37:56.956907",
     "exception": false,
     "start_time": "2024-12-29T07:37:56.939331",
     "status": "completed"
    },
    "tags": []
   },
   "outputs": [],
   "source": [
    "#change cat columns datatype to int astype\n",
    "df_test[cat_features.intersection(numeric_columns)]=df_test[cat_features.intersection(numeric_columns)].astype('Int64')\n",
    "\n",
    "#text_features = cat_features.remove('Vehicle Age')"
   ]
  },
  {
   "cell_type": "code",
   "execution_count": 33,
   "id": "e850a732",
   "metadata": {
    "execution": {
     "iopub.execute_input": "2024-12-29T07:37:56.977964Z",
     "iopub.status.busy": "2024-12-29T07:37:56.977660Z",
     "iopub.status.idle": "2024-12-29T07:37:56.981337Z",
     "shell.execute_reply": "2024-12-29T07:37:56.980618Z"
    },
    "papermill": {
     "duration": 0.016027,
     "end_time": "2024-12-29T07:37:56.982925",
     "exception": false,
     "start_time": "2024-12-29T07:37:56.966898",
     "status": "completed"
    },
    "tags": []
   },
   "outputs": [],
   "source": [
    "#custom loss function but will not be able to optimization with it so better transform target instead\n",
    "#def rmsle_loss(y_true, y_pred):\n",
    "#    return np.sqrt(np.mean((np.log1p(y_pred) - np.log1p(y_true)) ** 2))\n",
    "#Also use exp to transform the prediction\n",
    "#predictions = np.expm1(model.predict(X_test))"
   ]
  },
  {
   "cell_type": "code",
   "execution_count": 34,
   "id": "eb5f0cac",
   "metadata": {
    "execution": {
     "iopub.execute_input": "2024-12-29T07:37:57.004107Z",
     "iopub.status.busy": "2024-12-29T07:37:57.003803Z",
     "iopub.status.idle": "2024-12-29T07:37:57.007283Z",
     "shell.execute_reply": "2024-12-29T07:37:57.006542Z"
    },
    "papermill": {
     "duration": 0.015862,
     "end_time": "2024-12-29T07:37:57.008870",
     "exception": false,
     "start_time": "2024-12-29T07:37:56.993008",
     "status": "completed"
    },
    "tags": []
   },
   "outputs": [],
   "source": [
    "#df_train.drop(['id','Annual Income','Customer Feedback','Exercise Frequency','Premium Amount','group Age','Label'],axis=1).columns"
   ]
  },
  {
   "cell_type": "code",
   "execution_count": 35,
   "id": "85f3b834",
   "metadata": {
    "execution": {
     "iopub.execute_input": "2024-12-29T07:37:57.029887Z",
     "iopub.status.busy": "2024-12-29T07:37:57.029633Z",
     "iopub.status.idle": "2024-12-29T07:37:57.032978Z",
     "shell.execute_reply": "2024-12-29T07:37:57.032342Z"
    },
    "papermill": {
     "duration": 0.015657,
     "end_time": "2024-12-29T07:37:57.034466",
     "exception": false,
     "start_time": "2024-12-29T07:37:57.018809",
     "status": "completed"
    },
    "tags": []
   },
   "outputs": [],
   "source": [
    "#df_train2 = pd.read_csv('/kaggle/input/playground-series-s4e12/train.csv')\n",
    "#df_train2=df_train2.dropna()\n"
   ]
  },
  {
   "cell_type": "code",
   "execution_count": 36,
   "id": "f59fea2e",
   "metadata": {
    "execution": {
     "iopub.execute_input": "2024-12-29T07:37:57.055738Z",
     "iopub.status.busy": "2024-12-29T07:37:57.054997Z",
     "iopub.status.idle": "2024-12-29T07:37:57.058759Z",
     "shell.execute_reply": "2024-12-29T07:37:57.058024Z"
    },
    "papermill": {
     "duration": 0.016057,
     "end_time": "2024-12-29T07:37:57.060261",
     "exception": false,
     "start_time": "2024-12-29T07:37:57.044204",
     "status": "completed"
    },
    "tags": []
   },
   "outputs": [],
   "source": [
    "#nonadata = pd.concat([df_train2['Credit Score'],df_train2['Health Score']],axis=1)\n",
    "#nonadata.head()"
   ]
  },
  {
   "cell_type": "code",
   "execution_count": 37,
   "id": "a5ba3e99",
   "metadata": {
    "execution": {
     "iopub.execute_input": "2024-12-29T07:37:57.080713Z",
     "iopub.status.busy": "2024-12-29T07:37:57.080454Z",
     "iopub.status.idle": "2024-12-29T07:37:57.083868Z",
     "shell.execute_reply": "2024-12-29T07:37:57.083203Z"
    },
    "papermill": {
     "duration": 0.015351,
     "end_time": "2024-12-29T07:37:57.085356",
     "exception": false,
     "start_time": "2024-12-29T07:37:57.070005",
     "status": "completed"
    },
    "tags": []
   },
   "outputs": [],
   "source": [
    "#nonadata.describe()\n",
    "#from sklearn.preprocessing import StandardScaler, RobustScaler\n",
    "\n",
    "#standard_scaler=StandardScaler()\n",
    "#scalenonadata=standard_scaler.fit_transform(nonadata)\n",
    "\n",
    "#robust_scaler=RobustScaler()\n",
    "#scalenonadata=robust_scaler.fit_transform(nonadata)"
   ]
  },
  {
   "cell_type": "code",
   "execution_count": 38,
   "id": "49bbdf15",
   "metadata": {
    "execution": {
     "iopub.execute_input": "2024-12-29T07:37:57.107424Z",
     "iopub.status.busy": "2024-12-29T07:37:57.107095Z",
     "iopub.status.idle": "2024-12-29T07:37:57.110657Z",
     "shell.execute_reply": "2024-12-29T07:37:57.109968Z"
    },
    "papermill": {
     "duration": 0.015737,
     "end_time": "2024-12-29T07:37:57.112119",
     "exception": false,
     "start_time": "2024-12-29T07:37:57.096382",
     "status": "completed"
    },
    "tags": []
   },
   "outputs": [],
   "source": [
    "#nonadata=pd.DataFrame(scalenonadata,columns=['Credit Score','Health Score'])"
   ]
  },
  {
   "cell_type": "code",
   "execution_count": 39,
   "id": "bd6d817e",
   "metadata": {
    "execution": {
     "iopub.execute_input": "2024-12-29T07:37:57.132641Z",
     "iopub.status.busy": "2024-12-29T07:37:57.132363Z",
     "iopub.status.idle": "2024-12-29T07:37:57.135933Z",
     "shell.execute_reply": "2024-12-29T07:37:57.135251Z"
    },
    "papermill": {
     "duration": 0.015618,
     "end_time": "2024-12-29T07:37:57.137551",
     "exception": false,
     "start_time": "2024-12-29T07:37:57.121933",
     "status": "completed"
    },
    "tags": []
   },
   "outputs": [],
   "source": [
    "#df_train2['Label'] = np.log1p(df_train2['Premium Amount'])"
   ]
  },
  {
   "cell_type": "code",
   "execution_count": 40,
   "id": "13a6ed09",
   "metadata": {
    "execution": {
     "iopub.execute_input": "2024-12-29T07:37:57.158920Z",
     "iopub.status.busy": "2024-12-29T07:37:57.158623Z",
     "iopub.status.idle": "2024-12-29T07:37:57.314966Z",
     "shell.execute_reply": "2024-12-29T07:37:57.314072Z"
    },
    "papermill": {
     "duration": 0.169422,
     "end_time": "2024-12-29T07:37:57.317176",
     "exception": false,
     "start_time": "2024-12-29T07:37:57.147754",
     "status": "completed"
    },
    "tags": []
   },
   "outputs": [],
   "source": [
    "data = df_train.drop(['id','Premium Amount','Policy Start Date','Label'],axis=1) \n",
    "cat_features=cat_features.intersection(data.columns)\n",
    "cat_features=cat_features.difference(['Credit Score','Health Score','Annual Income'])\n",
    "#text_features=text_features.intersection(data.columns)"
   ]
  },
  {
   "cell_type": "code",
   "execution_count": 41,
   "id": "33067452",
   "metadata": {
    "execution": {
     "iopub.execute_input": "2024-12-29T07:37:57.340050Z",
     "iopub.status.busy": "2024-12-29T07:37:57.339739Z",
     "iopub.status.idle": "2024-12-29T07:37:57.345115Z",
     "shell.execute_reply": "2024-12-29T07:37:57.344351Z"
    },
    "papermill": {
     "duration": 0.01801,
     "end_time": "2024-12-29T07:37:57.346859",
     "exception": false,
     "start_time": "2024-12-29T07:37:57.328849",
     "status": "completed"
    },
    "tags": []
   },
   "outputs": [
    {
     "data": {
      "text/plain": [
       "Index(['Customer Feedback', 'Education Level', 'Exercise Frequency', 'Gender',\n",
       "       'Location', 'Marital Status', 'Occupation', 'Policy Type',\n",
       "       'Property Type', 'Smoking Status', 'StartY'],\n",
       "      dtype='object')"
      ]
     },
     "execution_count": 41,
     "metadata": {},
     "output_type": "execute_result"
    }
   ],
   "source": [
    "cat_features"
   ]
  },
  {
   "cell_type": "code",
   "execution_count": 42,
   "id": "8da66bf2",
   "metadata": {
    "execution": {
     "iopub.execute_input": "2024-12-29T07:37:57.367908Z",
     "iopub.status.busy": "2024-12-29T07:37:57.367615Z",
     "iopub.status.idle": "2024-12-29T07:37:57.373117Z",
     "shell.execute_reply": "2024-12-29T07:37:57.372335Z"
    },
    "papermill": {
     "duration": 0.017846,
     "end_time": "2024-12-29T07:37:57.374679",
     "exception": false,
     "start_time": "2024-12-29T07:37:57.356833",
     "status": "completed"
    },
    "tags": []
   },
   "outputs": [
    {
     "data": {
      "text/plain": [
       "Index(['Age', 'Gender', 'Annual Income', 'Marital Status',\n",
       "       'Number of Dependents', 'Education Level', 'Occupation', 'Health Score',\n",
       "       'Location', 'Policy Type', 'Previous Claims', 'Vehicle Age',\n",
       "       'Credit Score', 'Insurance Duration', 'Customer Feedback',\n",
       "       'Smoking Status', 'Exercise Frequency', 'Property Type', 'StartY'],\n",
       "      dtype='object')"
      ]
     },
     "execution_count": 42,
     "metadata": {},
     "output_type": "execute_result"
    }
   ],
   "source": [
    "data.columns"
   ]
  },
  {
   "cell_type": "code",
   "execution_count": 43,
   "id": "0d7d0024",
   "metadata": {
    "execution": {
     "iopub.execute_input": "2024-12-29T07:37:57.395487Z",
     "iopub.status.busy": "2024-12-29T07:37:57.395120Z",
     "iopub.status.idle": "2024-12-29T07:37:57.400142Z",
     "shell.execute_reply": "2024-12-29T07:37:57.399460Z"
    },
    "papermill": {
     "duration": 0.017178,
     "end_time": "2024-12-29T07:37:57.401754",
     "exception": false,
     "start_time": "2024-12-29T07:37:57.384576",
     "status": "completed"
    },
    "tags": []
   },
   "outputs": [
    {
     "data": {
      "text/plain": [
       "Index(['id', 'Age', 'Annual Income', 'Number of Dependents', 'Health Score',\n",
       "       'Previous Claims', 'Vehicle Age', 'Credit Score', 'Insurance Duration',\n",
       "       'Premium Amount'],\n",
       "      dtype='object')"
      ]
     },
     "execution_count": 43,
     "metadata": {},
     "output_type": "execute_result"
    }
   ],
   "source": [
    "numeric_columns"
   ]
  },
  {
   "cell_type": "code",
   "execution_count": 44,
   "id": "c5e3b680",
   "metadata": {
    "execution": {
     "iopub.execute_input": "2024-12-29T07:37:57.422714Z",
     "iopub.status.busy": "2024-12-29T07:37:57.422465Z",
     "iopub.status.idle": "2024-12-29T07:37:58.866271Z",
     "shell.execute_reply": "2024-12-29T07:37:58.865620Z"
    },
    "papermill": {
     "duration": 1.456679,
     "end_time": "2024-12-29T07:37:58.868249",
     "exception": false,
     "start_time": "2024-12-29T07:37:57.411570",
     "status": "completed"
    },
    "tags": []
   },
   "outputs": [],
   "source": [
    "df_train[cat_features]=df_train[cat_features].astype('category')\n",
    "df_test[cat_features]=df_test[cat_features].astype('category')"
   ]
  },
  {
   "cell_type": "code",
   "execution_count": 45,
   "id": "11cb60a2",
   "metadata": {
    "execution": {
     "iopub.execute_input": "2024-12-29T07:37:58.891232Z",
     "iopub.status.busy": "2024-12-29T07:37:58.890483Z",
     "iopub.status.idle": "2024-12-29T07:37:58.989802Z",
     "shell.execute_reply": "2024-12-29T07:37:58.988782Z"
    },
    "papermill": {
     "duration": 0.112848,
     "end_time": "2024-12-29T07:37:58.991858",
     "exception": false,
     "start_time": "2024-12-29T07:37:58.879010",
     "status": "completed"
    },
    "tags": []
   },
   "outputs": [
    {
     "name": "stdout",
     "output_type": "stream",
     "text": [
      "<class 'pandas.core.frame.DataFrame'>\n",
      "RangeIndex: 1200000 entries, 0 to 1199999\n",
      "Data columns (total 23 columns):\n",
      " #   Column                Non-Null Count    Dtype   \n",
      "---  ------                --------------    -----   \n",
      " 0   id                    1200000 non-null  int64   \n",
      " 1   Age                   1181295 non-null  float64 \n",
      " 2   Gender                1200000 non-null  category\n",
      " 3   Annual Income         1155051 non-null  float64 \n",
      " 4   Marital Status        1200000 non-null  category\n",
      " 5   Number of Dependents  1090328 non-null  float64 \n",
      " 6   Education Level       1200000 non-null  category\n",
      " 7   Occupation            1200000 non-null  category\n",
      " 8   Health Score          1125924 non-null  float64 \n",
      " 9   Location              1200000 non-null  category\n",
      " 10  Policy Type           1200000 non-null  category\n",
      " 11  Previous Claims       835971 non-null   float64 \n",
      " 12  Vehicle Age           1199994 non-null  float64 \n",
      " 13  Credit Score          1062118 non-null  float64 \n",
      " 14  Insurance Duration    1199999 non-null  float64 \n",
      " 15  Policy Start Date     1200000 non-null  object  \n",
      " 16  Customer Feedback     1200000 non-null  category\n",
      " 17  Smoking Status        1200000 non-null  category\n",
      " 18  Exercise Frequency    1200000 non-null  category\n",
      " 19  Property Type         1200000 non-null  category\n",
      " 20  Premium Amount        1200000 non-null  float64 \n",
      " 21  StartY                1200000 non-null  category\n",
      " 22  Label                 1200000 non-null  float64 \n",
      "dtypes: category(11), float64(10), int64(1), object(1)\n",
      "memory usage: 122.5+ MB\n"
     ]
    }
   ],
   "source": [
    "df_train.info()"
   ]
  },
  {
   "cell_type": "code",
   "execution_count": 46,
   "id": "5c27fbb5",
   "metadata": {
    "execution": {
     "iopub.execute_input": "2024-12-29T07:37:59.014911Z",
     "iopub.status.busy": "2024-12-29T07:37:59.014504Z",
     "iopub.status.idle": "2024-12-29T07:37:59.402697Z",
     "shell.execute_reply": "2024-12-29T07:37:59.401650Z"
    },
    "papermill": {
     "duration": 0.401801,
     "end_time": "2024-12-29T07:37:59.404823",
     "exception": false,
     "start_time": "2024-12-29T07:37:59.003022",
     "status": "completed"
    },
    "tags": []
   },
   "outputs": [],
   "source": [
    "from catboost import *\n",
    "\n",
    "X_train,x_val,Y_train,y_val = train_test_split(df_train.drop(['id','Premium Amount','Policy Start Date','Label'],axis=1),df_train['Label'],test_size=0.2,random_state=11)\n",
    "train_pool=Pool(data=X_train,\n",
    "                label=Y_train,\n",
    "                cat_features=cat_features.to_list())\n",
    "val_pool=Pool(data=x_val,\n",
    "               label=y_val,\n",
    "               cat_features=cat_features.to_list())\n",
    "X_test = df_test.drop(['id','Policy Start Date'],axis=1)\n"
   ]
  },
  {
   "cell_type": "code",
   "execution_count": 47,
   "id": "1a9bb20b",
   "metadata": {
    "execution": {
     "iopub.execute_input": "2024-12-29T07:37:59.427192Z",
     "iopub.status.busy": "2024-12-29T07:37:59.426838Z",
     "iopub.status.idle": "2024-12-29T07:37:59.431328Z",
     "shell.execute_reply": "2024-12-29T07:37:59.430559Z"
    },
    "papermill": {
     "duration": 0.017379,
     "end_time": "2024-12-29T07:37:59.432927",
     "exception": false,
     "start_time": "2024-12-29T07:37:59.415548",
     "status": "completed"
    },
    "tags": []
   },
   "outputs": [],
   "source": [
    "def calc_test_quality(train_pool, val_pool, **kwargs):\n",
    "    model = CatBoostRegressor(**kwargs, task_type=\"GPU\",random_seed=11)\n",
    "    model.fit(train_pool, verbose=0, eval_set=val_pool)\n",
    "    y_pred = model.predict(val_pool)\n",
    "    return eval_metric(val_pool.get_label(), y_pred, 'RMSE'), model"
   ]
  },
  {
   "cell_type": "code",
   "execution_count": 48,
   "id": "8b51f823",
   "metadata": {
    "execution": {
     "iopub.execute_input": "2024-12-29T07:37:59.454764Z",
     "iopub.status.busy": "2024-12-29T07:37:59.454476Z",
     "iopub.status.idle": "2024-12-29T07:43:01.964015Z",
     "shell.execute_reply": "2024-12-29T07:43:01.963238Z"
    },
    "papermill": {
     "duration": 302.523226,
     "end_time": "2024-12-29T07:43:01.966349",
     "exception": false,
     "start_time": "2024-12-29T07:37:59.443123",
     "status": "completed"
    },
    "tags": []
   },
   "outputs": [
    {
     "name": "stderr",
     "output_type": "stream",
     "text": [
      "[I 2024-12-29 07:37:59,456] A new study created in memory with name: no-name-683787eb-3c5a-44d4-8163-27fb66dbe45b\n",
      "[I 2024-12-29 07:38:10,456] Trial 0 finished with value: 1.0539670281167326 and parameters: {'iterations': 390, 'early_stopping_rounds': 67, 'learning_rate': 0.007141605056741639, 'depth': 5, 'l2_leaf_reg': 8.517280459938654, 'min_data_in_leaf': 93, 'grow_policy': 'Lossguide'}. Best is trial 0 with value: 1.0539670281167326.\n",
      "[I 2024-12-29 07:38:17,285] Trial 1 finished with value: 1.0822638780282994 and parameters: {'iterations': 611, 'early_stopping_rounds': 133, 'learning_rate': 0.010243952426093609, 'depth': 1, 'l2_leaf_reg': 6.306523781102779, 'min_data_in_leaf': 35, 'grow_policy': 'Depthwise'}. Best is trial 0 with value: 1.0539670281167326.\n",
      "[I 2024-12-29 07:38:37,332] Trial 2 finished with value: 1.0506582212832714 and parameters: {'iterations': 1396, 'early_stopping_rounds': 115, 'learning_rate': 0.02761714573093766, 'depth': 4, 'l2_leaf_reg': 3.006352890966305, 'min_data_in_leaf': 19, 'grow_policy': 'Depthwise'}. Best is trial 2 with value: 1.0506582212832714.\n",
      "[I 2024-12-29 07:38:53,443] Trial 3 finished with value: 1.0531038244024424 and parameters: {'iterations': 1261, 'early_stopping_rounds': 178, 'learning_rate': 0.06261154360773759, 'depth': 3, 'l2_leaf_reg': 2.6193727605531896, 'min_data_in_leaf': 82, 'grow_policy': 'Lossguide'}. Best is trial 2 with value: 1.0506582212832714.\n",
      "[I 2024-12-29 07:39:04,135] Trial 4 finished with value: 1.07188214947374 and parameters: {'iterations': 1085, 'early_stopping_rounds': 124, 'learning_rate': 0.0537294277947298, 'depth': 1, 'l2_leaf_reg': 5.7168753620171495, 'min_data_in_leaf': 90, 'grow_policy': 'Depthwise'}. Best is trial 2 with value: 1.0506582212832714.\n",
      "[I 2024-12-29 07:39:16,747] Trial 5 finished with value: 1.0489337601788533 and parameters: {'iterations': 662, 'early_stopping_rounds': 126, 'learning_rate': 0.07288767408981474, 'depth': 5, 'l2_leaf_reg': 7.921993305003545, 'min_data_in_leaf': 20, 'grow_policy': 'Depthwise'}. Best is trial 5 with value: 1.0489337601788533.\n",
      "[I 2024-12-29 07:39:39,688] Trial 6 finished with value: 1.0476968890028546 and parameters: {'iterations': 997, 'early_stopping_rounds': 161, 'learning_rate': 0.012409718145377571, 'depth': 7, 'l2_leaf_reg': 4.261002498435067, 'min_data_in_leaf': 35, 'grow_policy': 'Depthwise'}. Best is trial 6 with value: 1.0476968890028546.\n",
      "[I 2024-12-29 07:39:53,521] Trial 7 finished with value: 1.0526466550886475 and parameters: {'iterations': 889, 'early_stopping_rounds': 186, 'learning_rate': 0.01002935150993382, 'depth': 4, 'l2_leaf_reg': 5.752200197173259, 'min_data_in_leaf': 33, 'grow_policy': 'Depthwise'}. Best is trial 6 with value: 1.0476968890028546.\n",
      "[I 2024-12-29 07:40:02,782] Trial 8 finished with value: 1.0492282306484813 and parameters: {'iterations': 284, 'early_stopping_rounds': 142, 'learning_rate': 0.08375839754451603, 'depth': 5, 'l2_leaf_reg': 8.63896873462873, 'min_data_in_leaf': 55, 'grow_policy': 'Lossguide'}. Best is trial 6 with value: 1.0476968890028546.\n",
      "[I 2024-12-29 07:40:13,416] Trial 9 finished with value: 1.0477375630520598 and parameters: {'iterations': 278, 'early_stopping_rounds': 180, 'learning_rate': 0.03428957001543605, 'depth': 9, 'l2_leaf_reg': 3.6716409802252983, 'min_data_in_leaf': 31, 'grow_policy': 'Lossguide'}. Best is trial 6 with value: 1.0476968890028546.\n",
      "[I 2024-12-29 07:40:23,286] Trial 10 finished with value: 1.0474251962413752 and parameters: {'iterations': 1663, 'early_stopping_rounds': 21, 'learning_rate': 0.03575826256431775, 'depth': 8, 'l2_leaf_reg': 1.2316966466422752, 'min_data_in_leaf': 2, 'grow_policy': 'Depthwise'}. Best is trial 10 with value: 1.0474251962413752.\n",
      "[I 2024-12-29 07:40:36,404] Trial 11 finished with value: 1.047287067667161 and parameters: {'iterations': 1918, 'early_stopping_rounds': 16, 'learning_rate': 0.03406637368053519, 'depth': 8, 'l2_leaf_reg': 1.011719853460356, 'min_data_in_leaf': 1, 'grow_policy': 'Depthwise'}. Best is trial 11 with value: 1.047287067667161.\n",
      "[I 2024-12-29 07:40:48,885] Trial 12 finished with value: 1.047221460912903 and parameters: {'iterations': 1981, 'early_stopping_rounds': 10, 'learning_rate': 0.03937779884157688, 'depth': 10, 'l2_leaf_reg': 1.0374973746385088, 'min_data_in_leaf': 1, 'grow_policy': 'Depthwise'}. Best is trial 12 with value: 1.047221460912903.\n",
      "[I 2024-12-29 07:40:58,740] Trial 13 finished with value: 1.0473629764244319 and parameters: {'iterations': 1998, 'early_stopping_rounds': 15, 'learning_rate': 0.044623254448070665, 'depth': 10, 'l2_leaf_reg': 1.2196199667494716, 'min_data_in_leaf': 4, 'grow_policy': 'Depthwise'}. Best is trial 12 with value: 1.047221460912903.\n",
      "[I 2024-12-29 07:41:16,535] Trial 14 finished with value: 1.0470631093970024 and parameters: {'iterations': 1937, 'early_stopping_rounds': 53, 'learning_rate': 0.02573149898521554, 'depth': 10, 'l2_leaf_reg': 1.887510900771717, 'min_data_in_leaf': 65, 'grow_policy': 'Depthwise'}. Best is trial 14 with value: 1.0470631093970024.\n",
      "[I 2024-12-29 07:41:39,279] Trial 15 finished with value: 1.0470624379350315 and parameters: {'iterations': 1719, 'early_stopping_rounds': 62, 'learning_rate': 0.022712635681532305, 'depth': 10, 'l2_leaf_reg': 2.266827548044181, 'min_data_in_leaf': 66, 'grow_policy': 'Depthwise'}. Best is trial 15 with value: 1.0470624379350315.\n",
      "[I 2024-12-29 07:42:03,000] Trial 16 finished with value: 1.0476047375759627 and parameters: {'iterations': 1615, 'early_stopping_rounds': 76, 'learning_rate': 0.022273941667126457, 'depth': 7, 'l2_leaf_reg': 4.325088222420884, 'min_data_in_leaf': 67, 'grow_policy': 'Depthwise'}. Best is trial 15 with value: 1.0470624379350315.\n",
      "[I 2024-12-29 07:42:10,568] Trial 17 finished with value: 1.047549116020668 and parameters: {'iterations': 1671, 'early_stopping_rounds': 52, 'learning_rate': 0.0968769043864649, 'depth': 10, 'l2_leaf_reg': 2.4159325403003873, 'min_data_in_leaf': 69, 'grow_policy': 'Depthwise'}. Best is trial 15 with value: 1.0470624379350315.\n",
      "[I 2024-12-29 07:42:52,353] Trial 18 finished with value: 1.0474671478004214 and parameters: {'iterations': 1406, 'early_stopping_rounds': 95, 'learning_rate': 0.023381790671991275, 'depth': 8, 'l2_leaf_reg': 6.879218071132751, 'min_data_in_leaf': 53, 'grow_policy': 'Lossguide'}. Best is trial 15 with value: 1.0470624379350315.\n",
      "[I 2024-12-29 07:43:01,959] Trial 19 finished with value: 1.0471971609994095 and parameters: {'iterations': 1791, 'early_stopping_rounds': 44, 'learning_rate': 0.051217474983689414, 'depth': 9, 'l2_leaf_reg': 2.3483757554264066, 'min_data_in_leaf': 68, 'grow_policy': 'Depthwise'}. Best is trial 15 with value: 1.0470624379350315.\n"
     ]
    }
   ],
   "source": [
    "from optuna.samplers import TPESampler\n",
    "\n",
    "sampler = TPESampler(seed=777)\n",
    "study = optuna.create_study(direction='minimize', sampler=sampler)\n",
    "study.optimize(objective, n_trials=20)"
   ]
  },
  {
   "cell_type": "code",
   "execution_count": 49,
   "id": "607f497e",
   "metadata": {
    "execution": {
     "iopub.execute_input": "2024-12-29T07:43:02.011471Z",
     "iopub.status.busy": "2024-12-29T07:43:02.011079Z",
     "iopub.status.idle": "2024-12-29T07:43:02.016070Z",
     "shell.execute_reply": "2024-12-29T07:43:02.015405Z"
    },
    "papermill": {
     "duration": 0.029624,
     "end_time": "2024-12-29T07:43:02.018404",
     "exception": false,
     "start_time": "2024-12-29T07:43:01.988780",
     "status": "completed"
    },
    "tags": []
   },
   "outputs": [
    {
     "name": "stdout",
     "output_type": "stream",
     "text": [
      "{'iterations': 1719, 'early_stopping_rounds': 62, 'learning_rate': 0.022712635681532305, 'depth': 10, 'l2_leaf_reg': 2.266827548044181, 'min_data_in_leaf': 66, 'grow_policy': 'Depthwise'}\n"
     ]
    }
   ],
   "source": [
    "print(study.best_params)"
   ]
  },
  {
   "cell_type": "code",
   "execution_count": 50,
   "id": "ac577096",
   "metadata": {
    "execution": {
     "iopub.execute_input": "2024-12-29T07:43:02.054321Z",
     "iopub.status.busy": "2024-12-29T07:43:02.053996Z",
     "iopub.status.idle": "2024-12-29T07:43:22.754852Z",
     "shell.execute_reply": "2024-12-29T07:43:22.754160Z"
    },
    "papermill": {
     "duration": 20.71873,
     "end_time": "2024-12-29T07:43:22.756892",
     "exception": false,
     "start_time": "2024-12-29T07:43:02.038162",
     "status": "completed"
    },
    "tags": []
   },
   "outputs": [],
   "source": [
    "#best_params={ 'iterations':3000,\n",
    "#             'learning_rate': 0.08391853301450516, \n",
    "# 'depth': 7, 'l2_leaf_reg': 5.051671629781973,\n",
    "# 'subsample': 0.49338850068002077, \n",
    "# 'colsample_bylevel': 0.6849932866034221,\n",
    "# 'min_data_in_leaf': 26}\n",
    "#Best is trial 15 with value: 1.0472024975018694.\n",
    "metriclist, model = calc_test_quality(train_pool,val_pool,**study.best_params)\n",
    "model.save_model('optuna_tune_model')"
   ]
  },
  {
   "cell_type": "code",
   "execution_count": 51,
   "id": "b725c3b9",
   "metadata": {
    "execution": {
     "iopub.execute_input": "2024-12-29T07:43:22.780805Z",
     "iopub.status.busy": "2024-12-29T07:43:22.780216Z",
     "iopub.status.idle": "2024-12-29T07:43:22.784544Z",
     "shell.execute_reply": "2024-12-29T07:43:22.783742Z"
    },
    "papermill": {
     "duration": 0.017822,
     "end_time": "2024-12-29T07:43:22.786148",
     "exception": false,
     "start_time": "2024-12-29T07:43:22.768326",
     "status": "completed"
    },
    "tags": []
   },
   "outputs": [
    {
     "name": "stdout",
     "output_type": "stream",
     "text": [
      "[1.0472373300923536]\n"
     ]
    }
   ],
   "source": [
    "print(metriclist)"
   ]
  },
  {
   "cell_type": "code",
   "execution_count": 52,
   "id": "02a6dd63",
   "metadata": {
    "execution": {
     "iopub.execute_input": "2024-12-29T07:43:22.808990Z",
     "iopub.status.busy": "2024-12-29T07:43:22.808742Z",
     "iopub.status.idle": "2024-12-29T07:43:27.785672Z",
     "shell.execute_reply": "2024-12-29T07:43:27.784751Z"
    },
    "papermill": {
     "duration": 4.990737,
     "end_time": "2024-12-29T07:43:27.787735",
     "exception": false,
     "start_time": "2024-12-29T07:43:22.796998",
     "status": "completed"
    },
    "tags": []
   },
   "outputs": [],
   "source": [
    "predicts = model.predict(X_test)"
   ]
  },
  {
   "cell_type": "code",
   "execution_count": 53,
   "id": "deb68d6c",
   "metadata": {
    "execution": {
     "iopub.execute_input": "2024-12-29T07:43:27.813040Z",
     "iopub.status.busy": "2024-12-29T07:43:27.812545Z",
     "iopub.status.idle": "2024-12-29T07:43:27.817656Z",
     "shell.execute_reply": "2024-12-29T07:43:27.816845Z"
    },
    "papermill": {
     "duration": 0.019284,
     "end_time": "2024-12-29T07:43:27.819329",
     "exception": false,
     "start_time": "2024-12-29T07:43:27.800045",
     "status": "completed"
    },
    "tags": []
   },
   "outputs": [],
   "source": [
    "predicts_original_scale = np.expm1(predicts)"
   ]
  },
  {
   "cell_type": "code",
   "execution_count": 54,
   "id": "9ddca50d",
   "metadata": {
    "execution": {
     "iopub.execute_input": "2024-12-29T07:43:27.842410Z",
     "iopub.status.busy": "2024-12-29T07:43:27.841943Z",
     "iopub.status.idle": "2024-12-29T07:43:27.859358Z",
     "shell.execute_reply": "2024-12-29T07:43:27.858506Z"
    },
    "papermill": {
     "duration": 0.031066,
     "end_time": "2024-12-29T07:43:27.861243",
     "exception": false,
     "start_time": "2024-12-29T07:43:27.830177",
     "status": "completed"
    },
    "tags": []
   },
   "outputs": [],
   "source": [
    "#round int\n",
    "temp=pd.concat([df_test['id'],pd.DataFrame(np.rint(predicts_original_scale),columns=['Premium Amount'])],axis=1).reset_index(drop=True)"
   ]
  },
  {
   "cell_type": "code",
   "execution_count": 55,
   "id": "53a0948d",
   "metadata": {
    "execution": {
     "iopub.execute_input": "2024-12-29T07:43:27.885078Z",
     "iopub.status.busy": "2024-12-29T07:43:27.884460Z",
     "iopub.status.idle": "2024-12-29T07:43:27.907336Z",
     "shell.execute_reply": "2024-12-29T07:43:27.906423Z"
    },
    "papermill": {
     "duration": 0.036688,
     "end_time": "2024-12-29T07:43:27.909315",
     "exception": false,
     "start_time": "2024-12-29T07:43:27.872627",
     "status": "completed"
    },
    "tags": []
   },
   "outputs": [],
   "source": [
    "#not round int\n",
    "temp2=pd.concat([df_test['id'],pd.DataFrame(predicts_original_scale.astype(int),columns=['Premium Amount'])],axis=1).reset_index(drop=True)"
   ]
  },
  {
   "cell_type": "code",
   "execution_count": 56,
   "id": "05c1052d",
   "metadata": {
    "execution": {
     "iopub.execute_input": "2024-12-29T07:43:27.933077Z",
     "iopub.status.busy": "2024-12-29T07:43:27.932794Z",
     "iopub.status.idle": "2024-12-29T07:43:28.737894Z",
     "shell.execute_reply": "2024-12-29T07:43:28.737216Z"
    },
    "papermill": {
     "duration": 0.819205,
     "end_time": "2024-12-29T07:43:28.739889",
     "exception": false,
     "start_time": "2024-12-29T07:43:27.920684",
     "status": "completed"
    },
    "tags": []
   },
   "outputs": [],
   "source": [
    "temp.to_csv('submissionX.csv',index=False)"
   ]
  },
  {
   "cell_type": "code",
   "execution_count": 57,
   "id": "152a106c",
   "metadata": {
    "execution": {
     "iopub.execute_input": "2024-12-29T07:43:28.763736Z",
     "iopub.status.busy": "2024-12-29T07:43:28.763449Z",
     "iopub.status.idle": "2024-12-29T07:43:29.329583Z",
     "shell.execute_reply": "2024-12-29T07:43:29.328853Z"
    },
    "papermill": {
     "duration": 0.57999,
     "end_time": "2024-12-29T07:43:29.331548",
     "exception": false,
     "start_time": "2024-12-29T07:43:28.751558",
     "status": "completed"
    },
    "tags": []
   },
   "outputs": [],
   "source": [
    "temp2.to_csv('submission_not_round.csv',index=False)"
   ]
  },
  {
   "cell_type": "code",
   "execution_count": 58,
   "id": "e19030ea",
   "metadata": {
    "execution": {
     "iopub.execute_input": "2024-12-29T07:43:29.394711Z",
     "iopub.status.busy": "2024-12-29T07:43:29.393934Z",
     "iopub.status.idle": "2024-12-29T07:43:32.368907Z",
     "shell.execute_reply": "2024-12-29T07:43:32.367709Z"
    },
    "papermill": {
     "duration": 2.990032,
     "end_time": "2024-12-29T07:43:32.371142",
     "exception": false,
     "start_time": "2024-12-29T07:43:29.381110",
     "status": "completed"
    },
    "tags": []
   },
   "outputs": [
    {
     "name": "stdout",
     "output_type": "stream",
     "text": [
      "rm: cannot remove 'subnotround.zip': No such file or directory\r\n",
      "  adding: submission_not_round.csv (deflated 67%)\r\n"
     ]
    }
   ],
   "source": [
    "!rm subnotround.zip\n",
    "!zip subnotround.zip submission_not_round.csv\n"
   ]
  },
  {
   "cell_type": "code",
   "execution_count": 59,
   "id": "fc442039",
   "metadata": {
    "execution": {
     "iopub.execute_input": "2024-12-29T07:43:32.395931Z",
     "iopub.status.busy": "2024-12-29T07:43:32.395169Z",
     "iopub.status.idle": "2024-12-29T07:43:35.205055Z",
     "shell.execute_reply": "2024-12-29T07:43:35.203923Z"
    },
    "papermill": {
     "duration": 2.82425,
     "end_time": "2024-12-29T07:43:35.207134",
     "exception": false,
     "start_time": "2024-12-29T07:43:32.382884",
     "status": "completed"
    },
    "tags": []
   },
   "outputs": [
    {
     "name": "stdout",
     "output_type": "stream",
     "text": [
      "rm: cannot remove 'sub.zip': No such file or directory\r\n",
      "  adding: submissionX.csv (deflated 72%)\r\n"
     ]
    }
   ],
   "source": [
    "!rm sub.zip\n",
    "!zip sub.zip submissionX.csv"
   ]
  }
 ],
 "metadata": {
  "kaggle": {
   "accelerator": "nvidiaTeslaT4",
   "dataSources": [
    {
     "databundleVersionId": 10305135,
     "sourceId": 84896,
     "sourceType": "competition"
    },
    {
     "datasetId": 6332864,
     "sourceId": 10240600,
     "sourceType": "datasetVersion"
    }
   ],
   "dockerImageVersionId": 30804,
   "isGpuEnabled": true,
   "isInternetEnabled": true,
   "language": "python",
   "sourceType": "notebook"
  },
  "kernelspec": {
   "display_name": "Python 3",
   "language": "python",
   "name": "python3"
  },
  "language_info": {
   "codemirror_mode": {
    "name": "ipython",
    "version": 3
   },
   "file_extension": ".py",
   "mimetype": "text/x-python",
   "name": "python",
   "nbconvert_exporter": "python",
   "pygments_lexer": "ipython3",
   "version": "3.10.14"
  },
  "papermill": {
   "default_parameters": {},
   "duration": 364.327583,
   "end_time": "2024-12-29T07:43:36.240454",
   "environment_variables": {},
   "exception": null,
   "input_path": "__notebook__.ipynb",
   "output_path": "__notebook__.ipynb",
   "parameters": {},
   "start_time": "2024-12-29T07:37:31.912871",
   "version": "2.6.0"
  }
 },
 "nbformat": 4,
 "nbformat_minor": 5
}
